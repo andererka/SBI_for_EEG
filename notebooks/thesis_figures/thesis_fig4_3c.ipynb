{
 "cells": [
  {
   "cell_type": "markdown",
   "id": "4adc7403",
   "metadata": {},
   "source": [
    "# Exploring parameters\n",
    "\n",
    "#### density plots, post predictive checks etc."
   ]
  },
  {
   "cell_type": "code",
   "execution_count": 24,
   "id": "e788d96d",
   "metadata": {},
   "outputs": [
    {
     "name": "stdout",
     "output_type": "stream",
     "text": [
      "The autoreload extension is already loaded. To reload it, use:\n",
      "  %reload_ext autoreload\n"
     ]
    }
   ],
   "source": [
    "%load_ext autoreload\n",
    "%autoreload 2\n",
    "import os.path as op\n",
    "import tempfile\n",
    "\n",
    "import matplotlib.pyplot as plt\n",
    "\n",
    "\n",
    "import hnn_core\n",
    "from hnn_core import simulate_dipole, jones_2009_model\n",
    "from hnn_core.viz import plot_dipole\n",
    "\n",
    "\n",
    "import sys\n",
    "sys.path.append('../code/')\n",
    "sys.path.append('../code/utils/')\n",
    "#sys.path.append('../code/sbi/')\n",
    "#sys.path.append('../../results_cluster/')\n",
    "\n",
    "\n",
    "import numpy as np\n",
    "import torch\n",
    "\n",
    "# visualization\n",
    "import matplotlib as mpl\n",
    "import matplotlib.pyplot as plt\n",
    "\n",
    "\n",
    "import os\n",
    "\n",
    "work_dir = '/home/ubuntu/sbi_for_eeg_data/code/'\n",
    "\n",
    "os.chdir(work_dir)\n",
    "\n",
    "#from utils.plot import cov, compare_vars, plot_varchanges\n",
    "#from utils.plot import compare_KLs, plot_KLs\n",
    "#from sbi.inference import potentials\n",
    "import utils.sbi_modulated_functions\n",
    "\n",
    "# sbi\n",
    "from sbi import utils as utils\n",
    "from sbi import analysis as analysis\n",
    "from sbi.inference.base import infer\n",
    "from sbi.inference import SNPE, prepare_for_sbi, simulate_for_sbi\n",
    "\n",
    "from sbi.analysis import conditional_pairplot, conditional_corrcoeff\n",
    "\n",
    "\n",
    "\n",
    "# import the summary statistics that you want to investigate\n",
    "from summary_features.calculate_summary_features import calculate_summary_statistics_alternative as alternative_sumstats\n",
    "from summary_features.calculate_summary_features import calculate_summary_stats_temporal as temporal_sumstats\n",
    "from summary_features.calculate_summary_features import calculate_summary_stats_number as number_sumstats\n",
    "from summary_features.calculate_summary_features import calculate_summary_stats_temporal\n"
   ]
  },
  {
   "cell_type": "code",
   "execution_count": 25,
   "id": "ab993458",
   "metadata": {},
   "outputs": [
    {
     "name": "stdout",
     "output_type": "stream",
     "text": [
      "1.11.0\n"
     ]
    }
   ],
   "source": [
    "print(torch.__version__)"
   ]
  },
  {
   "cell_type": "code",
   "execution_count": 26,
   "id": "9c212ce0",
   "metadata": {},
   "outputs": [],
   "source": [
    "## defining neuronal network model\n",
    "\n",
    "num_params = 6\n",
    "\n",
    "from utils.simulation_wrapper import set_network_default, SimulationWrapper\n",
    "sim_wrapper = SimulationWrapper(num_params, noise=False)\n"
   ]
  },
  {
   "cell_type": "code",
   "execution_count": 29,
   "id": "230edc87",
   "metadata": {},
   "outputs": [
    {
     "name": "stdout",
     "output_type": "stream",
     "text": [
      "/home/ubuntu\n",
      "/home/ubuntu\n",
      "/home/ubuntu/results/toy_example_maf_29_04_noratio_more_sims2\n"
     ]
    }
   ],
   "source": [
    "from utils import inference\n",
    "\n",
    "import pickle\n",
    "from data_load_writer import *\n",
    "from data_load_writer import load_from_file as lf\n",
    "\n",
    "import os\n",
    "\n",
    "work_dir = '/home/ubuntu/'\n",
    "\n",
    "os.chdir(work_dir)\n",
    "\n",
    "\n",
    "\n",
    "import os\n",
    "\n",
    "print(os.getcwd())\n",
    "\n",
    "\n",
    "file = 'toy_example_maf_29_04_noratio_more_sims2'\n",
    "\n",
    "#file = 'toy_example_mdn_05_04_no_ratio'\n",
    "\n",
    "\n",
    "print(os.getcwd())\n",
    "\n",
    "os.chdir('results/{}'.format(file))\n",
    "\n",
    "\n",
    "print(os.getcwd())\n",
    "  \n",
    "\n"
   ]
  },
  {
   "cell_type": "code",
   "execution_count": 30,
   "id": "bde67830",
   "metadata": {},
   "outputs": [],
   "source": [
    "def Gaussian(thetas, normal_noise=1):\n",
    "    \n",
    "    gauss_list = []\n",
    "    \n",
    "    for theta in thetas:\n",
    "    \n",
    "        mu, sigma = theta, normal_noise # mean and standard deviation\n",
    "\n",
    "        s = np.random.normal(mu, sigma, 1)\n",
    "    \n",
    "        \n",
    "        gauss_list.append(s[0])\n",
    "        \n",
    "    gauss_obs = torch.tensor(gauss_list)\n",
    "    \n",
    "    return gauss_obs\n",
    "    \n",
    "\n"
   ]
  },
  {
   "cell_type": "code",
   "execution_count": 34,
   "id": "bc10d6ce",
   "metadata": {},
   "outputs": [],
   "source": [
    "list_collection = torch.load('list_collection.pt')\n",
    "list_collection_inc = torch.load('list_collection_inc.pt')"
   ]
  },
  {
   "cell_type": "code",
   "execution_count": 35,
   "id": "d4ca2c26",
   "metadata": {},
   "outputs": [],
   "source": [
    "true_thetas = torch.tensor([[3.0, 6.0, 20.0, 10.0, 90.0, 55.0, 27.0, 27.0, 4.0, 70.0, 5.0, 66.0, 99.0, 40.0, 45.0]])\n",
    "parameter_names = ['t1', 't2', 't3', 't4', 't5', 't6', 't7', 't8', 't9', 't10', 't11', 't12', 't13', 't14', 't15']\n",
    "\n",
    "prior_max = [100.0] * 15\n",
    "prior_min = [1.0] * 15\n",
    "\n",
    "prior = utils.torchutils.BoxUniform(low=prior_min, high = prior_max)\n",
    "\n",
    "samples_prior = prior.sample((10000,))\n",
    "\n",
    "simulator_stats, prior = prepare_for_sbi(Gaussian, prior)"
   ]
  },
  {
   "cell_type": "code",
   "execution_count": 36,
   "id": "64df37b2",
   "metadata": {},
   "outputs": [],
   "source": [
    "samples_prior_list = samples_prior.unsqueeze(0)"
   ]
  },
  {
   "cell_type": "code",
   "execution_count": null,
   "id": "431660f3",
   "metadata": {},
   "outputs": [],
   "source": []
  },
  {
   "cell_type": "code",
   "execution_count": 37,
   "id": "0c8bddbc",
   "metadata": {},
   "outputs": [
    {
     "data": {
      "text/plain": [
       "torch.Size([10000, 15])"
      ]
     },
     "execution_count": 37,
     "metadata": {},
     "output_type": "execute_result"
    }
   ],
   "source": [
    "samples_prior_list[0].shape"
   ]
  },
  {
   "cell_type": "code",
   "execution_count": 38,
   "id": "dbeec27a",
   "metadata": {},
   "outputs": [
    {
     "name": "stdout",
     "output_type": "stream",
     "text": [
      "[Parallel(n_jobs=1)]: Using backend SequentialBackend with 1 concurrent workers.\n",
      "[Parallel(n_jobs=1)]: Done   1 out of   1 | elapsed:    1.4s remaining:    0.0s\n",
      "[Parallel(n_jobs=1)]: Done   1 out of   1 | elapsed:    1.4s finished\n"
     ]
    }
   ],
   "source": [
    "thetas = inference.run_only_sim(samples_prior_list, simulation_wrapper = simulator_stats, num_workers=1)"
   ]
  },
  {
   "cell_type": "code",
   "execution_count": null,
   "id": "6b885f02",
   "metadata": {},
   "outputs": [],
   "source": [
    "\n"
   ]
  },
  {
   "cell_type": "code",
   "execution_count": 39,
   "id": "678fc0e0",
   "metadata": {},
   "outputs": [],
   "source": [
    "def KL_Gauss(X, Y):\n",
    "    \n",
    "    sample_x = X.sample((1000,))\n",
    "    mu_x = torch.mean(sample_x, dim=0)\n",
    "    var_x = torch.std(sample_x, dim=0)\n",
    "\n",
    "    var_y = Y.stddev\n",
    "\n",
    "    mu_y = Y.mean\n",
    "    \n",
    "    \n",
    "    return torch.mean(np.log(var_y/var_x) + (var_x**2 + (mu_x - mu_y)**2)/(2*var_y**2) -(1/2)), var_x, mu_x\n",
    "\n",
    "\n",
    "def calc_KL_1d(X, Y):\n",
    "    \n",
    "    sample_x = X.sample((1000,))\n",
    "    mu_x = torch.mean(sample_x, dim=0)\n",
    "    var_x = torch.std(sample_x, dim=0)\n",
    "    \n",
    "    print(var_x)\n",
    "    print(mu_x)\n",
    "\n",
    "\n",
    "    var_y = Y.stddev\n",
    "\n",
    "    mu_y = Y.mean\n",
    "    \n",
    "    print(mu_y)\n",
    "    print(var_y)\n",
    "    \n",
    "    print(np.log(var_y/var_x) + (var_x**2 + (mu_x - mu_y)**2)/(2*var_y**2) -(1/2))\n",
    "    \n",
    "    return np.log(var_y/var_x) + (var_x**2 + (mu_x - mu_y)**2)/(2*var_y**2) -(1/2)\n",
    "\n",
    "\n",
    "# calculate the jensen-shanon divergence\n",
    "def js_divergence(p, q):\n",
    "    m = 0.5 * (p + q)\n",
    "    return 0.5 * kl_divergence(p, m) + 0.5 * kl_divergence(q, m)"
   ]
  },
  {
   "cell_type": "code",
   "execution_count": 40,
   "id": "c39fb7f2",
   "metadata": {},
   "outputs": [
    {
     "data": {
      "application/vnd.jupyter.widget-view+json": {
       "model_id": "ee5a5a886d68443ca6b575c12ae797bf",
       "version_major": 2,
       "version_minor": 0
      },
      "text/plain": [
       "Drawing 1000 posterior samples:   0%|          | 0/1000 [00:00<?, ?it/s]"
      ]
     },
     "metadata": {},
     "output_type": "display_data"
    },
    {
     "name": "stdout",
     "output_type": "stream",
     "text": [
      "acceptance rate:  0.008\n"
     ]
    },
    {
     "name": "stderr",
     "output_type": "stream",
     "text": [
      "WARNING:root:Drawing samples from posterior to estimate the normalizing\n",
      "                        constant for `log_prob()`. However, only\n",
      "                        1% posterior samples are within the\n",
      "                        prior support. It may take a long time to collect the\n",
      "                        remaining 910 samples.\n",
      "                        Consider interrupting (Ctrl-C) and either basing the\n",
      "                        estimate of the normalizing constant on fewer samples (by\n",
      "                        calling `posterior.leakage_correction(x_o,\n",
      "                        num_rejection_samples=N)`, where `N` is the number of\n",
      "                        samples you want to base the\n",
      "                        estimate on (default N=10000), or not estimating the\n",
      "                        normalizing constant at all\n",
      "                        (`log_prob(..., norm_posterior=False)`. The latter will\n",
      "                        result in an unnormalized `log_prob()`.\n"
     ]
    },
    {
     "name": "stdout",
     "output_type": "stream",
     "text": [
      "acceptance rate:  0.008181818181818182\n",
      "acceptance rate:  0.008\n",
      "acceptance rate:  0.008387096774193548\n",
      "acceptance rate:  0.00826829268292683\n",
      "acceptance rate:  0.007941176470588234\n",
      "acceptance rate:  0.00798360655737705\n",
      "acceptance rate:  0.008295774647887324\n",
      "acceptance rate:  0.008481481481481482\n",
      "acceptance rate:  0.008648351648351649\n",
      "acceptance rate:  0.008722772277227724\n",
      "acceptance rate:  0.008882882882882883\n",
      "acceptance rate:  0.008826446280991735\n"
     ]
    },
    {
     "data": {
      "application/vnd.jupyter.widget-view+json": {
       "model_id": "dfe92e488e3e4754b5fd0e12afec768d",
       "version_major": 2,
       "version_minor": 0
      },
      "text/plain": [
       "Drawing 1000 posterior samples:   0%|          | 0/1000 [00:00<?, ?it/s]"
      ]
     },
     "metadata": {},
     "output_type": "display_data"
    },
    {
     "name": "stdout",
     "output_type": "stream",
     "text": [
      "acceptance rate:  0.011\n"
     ]
    },
    {
     "name": "stderr",
     "output_type": "stream",
     "text": [
      "WARNING:root:Drawing samples from posterior to estimate the normalizing\n",
      "                        constant for `log_prob()`. However, only\n",
      "                        1% posterior samples are within the\n",
      "                        prior support. It may take a long time to collect the\n",
      "                        remaining 907 samples.\n",
      "                        Consider interrupting (Ctrl-C) and either basing the\n",
      "                        estimate of the normalizing constant on fewer samples (by\n",
      "                        calling `posterior.leakage_correction(x_o,\n",
      "                        num_rejection_samples=N)`, where `N` is the number of\n",
      "                        samples you want to base the\n",
      "                        estimate on (default N=10000), or not estimating the\n",
      "                        normalizing constant at all\n",
      "                        (`log_prob(..., norm_posterior=False)`. The latter will\n",
      "                        result in an unnormalized `log_prob()`.\n"
     ]
    },
    {
     "name": "stdout",
     "output_type": "stream",
     "text": [
      "acceptance rate:  0.008454545454545454\n",
      "acceptance rate:  0.008142857142857143\n",
      "acceptance rate:  0.008193548387096775\n",
      "acceptance rate:  0.008\n",
      "acceptance rate:  0.00823529411764706\n",
      "acceptance rate:  0.008163934426229508\n",
      "acceptance rate:  0.008253521126760564\n",
      "acceptance rate:  0.00817283950617284\n",
      "acceptance rate:  0.008318681318681319\n",
      "acceptance rate:  0.008326732673267327\n",
      "acceptance rate:  0.008432432432432432\n",
      "acceptance rate:  0.008462809917355372\n",
      "tensor([4.1667, 5.1757, 4.4046, 4.6236, 6.1104, 3.1006, 5.2970, 3.6965, 3.3574,\n",
      "        4.2310, 4.7916, 3.1716, 4.3949, 2.8273, 3.1562])\n",
      "tensor([ 6.6151,  8.4537, 22.1920,  9.5611, 88.4630, 52.5017, 33.1175, 30.3870,\n",
      "         5.2096, 70.1200, 10.3971, 65.4472, 93.8171, 41.7707, 46.3499])\n",
      "tensor([[ 3.,  6., 20., 10., 90., 55., 27., 27.,  4., 70.,  5., 66., 99., 40.,\n",
      "         45.]])\n",
      "tensor([[1., 1., 1., 1., 1., 1., 1., 1., 1., 1., 1., 1., 1., 1., 1.]])\n",
      "tensor([[13.2882, 14.2603, 10.1199,  8.7542, 17.5397,  6.2959, 30.5741, 10.7607,\n",
      "          4.6564,  7.0156, 23.9772,  3.5281, 21.1084,  4.0252,  4.2425]])\n"
     ]
    },
    {
     "data": {
      "application/vnd.jupyter.widget-view+json": {
       "model_id": "2589dcab30634c76b211b5b2d3fe882a",
       "version_major": 2,
       "version_minor": 0
      },
      "text/plain": [
       "Drawing 1000 posterior samples:   0%|          | 0/1000 [00:00<?, ?it/s]"
      ]
     },
     "metadata": {},
     "output_type": "display_data"
    },
    {
     "name": "stdout",
     "output_type": "stream",
     "text": [
      "acceptance rate:  0.009\n"
     ]
    },
    {
     "name": "stderr",
     "output_type": "stream",
     "text": [
      "WARNING:root:Drawing samples from posterior to estimate the normalizing\n",
      "                        constant for `log_prob()`. However, only\n",
      "                        1% posterior samples are within the\n",
      "                        prior support. It may take a long time to collect the\n",
      "                        remaining 942 samples.\n",
      "                        Consider interrupting (Ctrl-C) and either basing the\n",
      "                        estimate of the normalizing constant on fewer samples (by\n",
      "                        calling `posterior.leakage_correction(x_o,\n",
      "                        num_rejection_samples=N)`, where `N` is the number of\n",
      "                        samples you want to base the\n",
      "                        estimate on (default N=10000), or not estimating the\n",
      "                        normalizing constant at all\n",
      "                        (`log_prob(..., norm_posterior=False)`. The latter will\n",
      "                        result in an unnormalized `log_prob()`.\n"
     ]
    },
    {
     "name": "stdout",
     "output_type": "stream",
     "text": [
      "acceptance rate:  0.005272727272727273\n",
      "acceptance rate:  0.005714285714285714\n",
      "acceptance rate:  0.005354838709677419\n",
      "acceptance rate:  0.005731707317073171\n",
      "acceptance rate:  0.005705882352941176\n",
      "acceptance rate:  0.005655737704918033\n",
      "acceptance rate:  0.005591549295774648\n",
      "acceptance rate:  0.005703703703703704\n",
      "acceptance rate:  0.005538461538461538\n",
      "acceptance rate:  0.005722772277227723\n",
      "acceptance rate:  0.00563063063063063\n",
      "acceptance rate:  0.0054958677685950415\n",
      "acceptance rate:  0.005366412213740458\n",
      "acceptance rate:  0.005375886524822695\n",
      "acceptance rate:  0.005357615894039735\n",
      "acceptance rate:  0.005360248447204969\n",
      "acceptance rate:  0.005403508771929824\n",
      "acceptance rate:  0.00530939226519337\n",
      "acceptance rate:  0.005293193717277487\n"
     ]
    },
    {
     "data": {
      "application/vnd.jupyter.widget-view+json": {
       "model_id": "b4a331e76f5a4eaba89b3cbec32a4fb0",
       "version_major": 2,
       "version_minor": 0
      },
      "text/plain": [
       "Drawing 1000 posterior samples:   0%|          | 0/1000 [00:00<?, ?it/s]"
      ]
     },
     "metadata": {},
     "output_type": "display_data"
    },
    {
     "name": "stdout",
     "output_type": "stream",
     "text": [
      "acceptance rate:  0.002\n"
     ]
    },
    {
     "name": "stderr",
     "output_type": "stream",
     "text": [
      "WARNING:root:Drawing samples from posterior to estimate the normalizing\n",
      "                        constant for `log_prob()`. However, only\n",
      "                        1% posterior samples are within the\n",
      "                        prior support. It may take a long time to collect the\n",
      "                        remaining 943 samples.\n",
      "                        Consider interrupting (Ctrl-C) and either basing the\n",
      "                        estimate of the normalizing constant on fewer samples (by\n",
      "                        calling `posterior.leakage_correction(x_o,\n",
      "                        num_rejection_samples=N)`, where `N` is the number of\n",
      "                        samples you want to base the\n",
      "                        estimate on (default N=10000), or not estimating the\n",
      "                        normalizing constant at all\n",
      "                        (`log_prob(..., norm_posterior=False)`. The latter will\n",
      "                        result in an unnormalized `log_prob()`.\n"
     ]
    },
    {
     "name": "stdout",
     "output_type": "stream",
     "text": [
      "acceptance rate:  0.0051818181818181815\n",
      "acceptance rate:  0.004904761904761905\n",
      "acceptance rate:  0.0049354838709677416\n",
      "acceptance rate:  0.005048780487804878\n",
      "acceptance rate:  0.005\n",
      "acceptance rate:  0.0051639344262295085\n",
      "acceptance rate:  0.005295774647887324\n",
      "acceptance rate:  0.005358024691358025\n",
      "acceptance rate:  0.00532967032967033\n",
      "acceptance rate:  0.005257425742574258\n",
      "acceptance rate:  0.0051981981981981985\n",
      "acceptance rate:  0.005289256198347108\n",
      "acceptance rate:  0.0053129770992366415\n",
      "acceptance rate:  0.005312056737588652\n",
      "acceptance rate:  0.005317880794701987\n",
      "acceptance rate:  0.005329192546583851\n",
      "acceptance rate:  0.005333333333333333\n",
      "acceptance rate:  0.005342541436464088\n",
      "acceptance rate:  0.005308900523560209\n",
      "tensor([5.7604, 3.0959, 4.2396, 4.3775, 4.9540, 2.0716, 3.3292, 3.2254, 6.9734,\n",
      "        3.4119, 4.2786, 3.6635, 4.1040, 1.7481, 2.7315])\n",
      "tensor([10.5965,  7.1304, 20.4545, 10.8163, 86.6154, 54.1897, 28.3201, 28.3267,\n",
      "        10.1666, 68.6679,  6.5581, 63.3596, 94.6770, 43.0445, 44.3165])\n",
      "tensor([[ 3.,  6., 20., 10., 90., 55., 27., 27.,  4., 70.,  5., 66., 99., 40.,\n",
      "         45.]])\n",
      "tensor([[1., 1., 1., 1., 1., 1., 1., 1., 1., 1., 1., 1., 1., 1., 1.]])\n",
      "tensor([[43.1929,  3.8012,  7.1460,  7.9380, 15.8983,  1.2456,  4.7104,  4.4105,\n",
      "         40.8856,  4.9805,  8.4134,  8.3981, 15.8538,  5.1040,  2.4594]])\n"
     ]
    },
    {
     "data": {
      "application/vnd.jupyter.widget-view+json": {
       "model_id": "191151b043234dff8f0ddd623d8abb31",
       "version_major": 2,
       "version_minor": 0
      },
      "text/plain": [
       "Drawing 1000 posterior samples:   0%|          | 0/1000 [00:00<?, ?it/s]"
      ]
     },
     "metadata": {},
     "output_type": "display_data"
    },
    {
     "name": "stdout",
     "output_type": "stream",
     "text": [
      "acceptance rate:  0.339\n",
      "acceptance rate:  0.3256363636363636\n"
     ]
    },
    {
     "data": {
      "application/vnd.jupyter.widget-view+json": {
       "model_id": "057ba8d309f04060896b49800f8e694d",
       "version_major": 2,
       "version_minor": 0
      },
      "text/plain": [
       "Drawing 1000 posterior samples:   0%|          | 0/1000 [00:00<?, ?it/s]"
      ]
     },
     "metadata": {},
     "output_type": "display_data"
    },
    {
     "name": "stdout",
     "output_type": "stream",
     "text": [
      "acceptance rate:  0.303\n",
      "acceptance rate:  0.32427272727272727\n",
      "tensor([4.3388, 3.9618, 3.6922, 5.4348, 3.5517, 3.0150, 2.7611, 2.9486, 3.8309,\n",
      "        2.1153, 3.5498, 3.1240, 2.8631, 2.3195, 2.4289])\n",
      "tensor([ 9.1060,  7.9573, 23.4445, 18.3569, 84.8752, 52.2346, 31.7156, 29.6388,\n",
      "        10.4660, 67.5867,  7.1553, 61.6683, 96.2458, 39.7270, 45.5334])\n",
      "tensor([[ 3.,  6., 20., 10., 90., 55., 27., 27.,  4., 70.,  5., 66., 99., 40.,\n",
      "         45.]])\n",
      "tensor([[1., 1., 1., 1., 1., 1., 1., 1., 1., 1., 1., 1., 1., 1., 1.]])\n",
      "tensor([[26.0863,  7.8868, 10.9423, 47.4948, 17.6716,  6.7652, 13.4147,  6.2475,\n",
      "         26.3993,  3.9000,  6.8562, 12.6224,  6.3397,  1.3859,  1.7046]])\n"
     ]
    },
    {
     "data": {
      "application/vnd.jupyter.widget-view+json": {
       "model_id": "e2ac58aee1564392891b80d8dc35a3fb",
       "version_major": 2,
       "version_minor": 0
      },
      "text/plain": [
       "Drawing 1000 posterior samples:   0%|          | 0/1000 [00:00<?, ?it/s]"
      ]
     },
     "metadata": {},
     "output_type": "display_data"
    },
    {
     "name": "stdout",
     "output_type": "stream",
     "text": [
      "acceptance rate:  0.111\n",
      "acceptance rate:  0.106\n"
     ]
    },
    {
     "data": {
      "application/vnd.jupyter.widget-view+json": {
       "model_id": "5d0415296e574ebb87dca0933328a486",
       "version_major": 2,
       "version_minor": 0
      },
      "text/plain": [
       "Drawing 1000 posterior samples:   0%|          | 0/1000 [00:00<?, ?it/s]"
      ]
     },
     "metadata": {},
     "output_type": "display_data"
    },
    {
     "name": "stdout",
     "output_type": "stream",
     "text": [
      "acceptance rate:  0.11\n",
      "acceptance rate:  0.1149090909090909\n",
      "tensor([5.5011, 3.7719, 3.4924, 4.7291, 3.9806, 2.3661, 2.8243, 3.2939, 6.4213,\n",
      "        3.9396, 5.2415, 2.5568, 3.1740, 3.4117, 2.3556])\n",
      "tensor([14.0697, 12.6969, 23.8018, 14.1104, 86.3384, 56.5955, 27.9277, 27.2138,\n",
      "        17.4136, 63.9578, 10.2357, 64.9243, 96.1788, 44.6843, 45.2017])\n",
      "tensor([[ 3.,  6., 20., 10., 90., 55., 27., 27.,  4., 70.,  5., 66., 99., 40.,\n",
      "         45.]])\n",
      "tensor([[1., 1., 1., 1., 1., 1., 1., 1., 1., 1., 1., 1., 1., 1., 1.]])\n",
      "tensor([[ 74.1954,  27.7102,  11.5747,  17.5762,  12.7448,   2.7108,   2.8803,\n",
      "           3.7555, 108.2197,  24.1433,  25.2860,   2.4084,   7.3618,  15.0641,\n",
      "           1.4380]])\n"
     ]
    },
    {
     "data": {
      "application/vnd.jupyter.widget-view+json": {
       "model_id": "695e3cca0f074f8980697eb1de185075",
       "version_major": 2,
       "version_minor": 0
      },
      "text/plain": [
       "Drawing 1000 posterior samples:   0%|          | 0/1000 [00:00<?, ?it/s]"
      ]
     },
     "metadata": {},
     "output_type": "display_data"
    },
    {
     "name": "stdout",
     "output_type": "stream",
     "text": [
      "acceptance rate:  0.015\n",
      "acceptance rate:  0.028363636363636365\n",
      "acceptance rate:  0.02880952380952381\n",
      "acceptance rate:  0.02829032258064516\n",
      "acceptance rate:  0.028219512195121952\n"
     ]
    },
    {
     "data": {
      "application/vnd.jupyter.widget-view+json": {
       "model_id": "7de90a7feaba4dd68eea3de35b11f5cd",
       "version_major": 2,
       "version_minor": 0
      },
      "text/plain": [
       "Drawing 1000 posterior samples:   0%|          | 0/1000 [00:00<?, ?it/s]"
      ]
     },
     "metadata": {},
     "output_type": "display_data"
    },
    {
     "name": "stdout",
     "output_type": "stream",
     "text": [
      "acceptance rate:  0.042\n",
      "acceptance rate:  0.027545454545454547\n",
      "acceptance rate:  0.027666666666666666\n",
      "acceptance rate:  0.028129032258064516\n",
      "acceptance rate:  0.02726829268292683\n",
      "tensor([3.9442, 2.2802, 3.0009, 3.3586, 3.3060, 1.5550, 2.3740, 2.9454, 3.1845,\n",
      "        2.3584, 3.9548, 2.4257, 2.7807, 1.9619, 2.1104])\n",
      "tensor([ 7.7527,  3.9048, 18.2157, 16.4392, 88.0529, 55.8568, 30.7015, 27.8587,\n",
      "         6.9126, 65.2186, 10.5086, 63.3931, 96.4219, 38.7171, 45.2532])\n",
      "tensor([[ 3.,  6., 20., 10., 90., 55., 27., 27.,  4., 70.,  5., 66., 99., 40.,\n",
      "         45.]])\n",
      "tensor([[1., 1., 1., 1., 1., 1., 1., 1., 1., 1., 1., 1., 1., 1., 1.]])\n",
      "tensor([[17.2003,  3.4704,  4.4956, 24.6599,  5.6647,  0.6346,  8.3037,  3.1261,\n",
      "          7.6539, 12.8537, 21.1174,  4.9539,  5.6668,  1.5735,  1.0121]])\n"
     ]
    },
    {
     "data": {
      "application/vnd.jupyter.widget-view+json": {
       "model_id": "4fb4e4035612466fb770f2748a8dc5e8",
       "version_major": 2,
       "version_minor": 0
      },
      "text/plain": [
       "Drawing 1000 posterior samples:   0%|          | 0/1000 [00:00<?, ?it/s]"
      ]
     },
     "metadata": {},
     "output_type": "display_data"
    },
    {
     "name": "stdout",
     "output_type": "stream",
     "text": [
      "acceptance rate:  0.5\n",
      "acceptance rate:  0.491\n"
     ]
    },
    {
     "data": {
      "application/vnd.jupyter.widget-view+json": {
       "model_id": "7374c6f515a04acea3575f57fdc41305",
       "version_major": 2,
       "version_minor": 0
      },
      "text/plain": [
       "Drawing 1000 posterior samples:   0%|          | 0/1000 [00:00<?, ?it/s]"
      ]
     },
     "metadata": {},
     "output_type": "display_data"
    },
    {
     "name": "stdout",
     "output_type": "stream",
     "text": [
      "acceptance rate:  0.486\n",
      "acceptance rate:  0.48827272727272725\n",
      "tensor([3.2570, 3.8471, 2.6261, 4.0265, 3.2629, 2.0725, 2.3074, 1.9425, 4.1553,\n",
      "        2.8630, 4.1679, 1.5028, 3.3697, 1.5704, 1.1239])\n",
      "tensor([ 7.7303,  7.7690, 22.8260, 15.2945, 89.3836, 54.3514, 28.4282, 31.5637,\n",
      "        10.3370, 68.7199, 11.6157, 62.2619, 95.0396, 39.6157, 44.3639])\n",
      "tensor([[ 3.,  6., 20., 10., 90., 55., 27., 27.,  4., 70.,  5., 66., 99., 40.,\n",
      "         45.]])\n",
      "tensor([[1., 1., 1., 1., 1., 1., 1., 1., 1., 1., 1., 1., 1., 1., 1.]])\n",
      "tensor([[14.8110,  7.1174,  5.9757, 20.2294,  3.8307,  1.1293,  2.3458, 11.1361,\n",
      "         26.7877,  3.3658, 28.6418,  7.2087, 11.8052,  0.3556,  0.2171]])\n"
     ]
    },
    {
     "data": {
      "application/vnd.jupyter.widget-view+json": {
       "model_id": "b430a9cda2aa44648c59b945932b6a27",
       "version_major": 2,
       "version_minor": 0
      },
      "text/plain": [
       "Drawing 1000 posterior samples:   0%|          | 0/1000 [00:00<?, ?it/s]"
      ]
     },
     "metadata": {},
     "output_type": "display_data"
    },
    {
     "name": "stdout",
     "output_type": "stream",
     "text": [
      "acceptance rate:  0.006\n"
     ]
    },
    {
     "name": "stderr",
     "output_type": "stream",
     "text": [
      "WARNING:root:Drawing samples from posterior to estimate the normalizing\n",
      "                        constant for `log_prob()`. However, only\n",
      "                        1% posterior samples are within the\n",
      "                        prior support. It may take a long time to collect the\n",
      "                        remaining 908 samples.\n",
      "                        Consider interrupting (Ctrl-C) and either basing the\n",
      "                        estimate of the normalizing constant on fewer samples (by\n",
      "                        calling `posterior.leakage_correction(x_o,\n",
      "                        num_rejection_samples=N)`, where `N` is the number of\n",
      "                        samples you want to base the\n",
      "                        estimate on (default N=10000), or not estimating the\n",
      "                        normalizing constant at all\n",
      "                        (`log_prob(..., norm_posterior=False)`. The latter will\n",
      "                        result in an unnormalized `log_prob()`.\n"
     ]
    },
    {
     "name": "stdout",
     "output_type": "stream",
     "text": [
      "acceptance rate:  0.008363636363636363\n",
      "acceptance rate:  0.008809523809523809\n",
      "acceptance rate:  0.00896774193548387\n",
      "acceptance rate:  0.009317073170731707\n",
      "acceptance rate:  0.009294117647058824\n",
      "acceptance rate:  0.009163934426229509\n",
      "acceptance rate:  0.009211267605633802\n",
      "acceptance rate:  0.00908641975308642\n",
      "acceptance rate:  0.008934065934065934\n",
      "acceptance rate:  0.009059405940594059\n",
      "acceptance rate:  0.008936936936936937\n",
      "acceptance rate:  0.008917355371900826\n"
     ]
    },
    {
     "data": {
      "application/vnd.jupyter.widget-view+json": {
       "model_id": "0911e4354b664e0bbc07b8cc65040fd3",
       "version_major": 2,
       "version_minor": 0
      },
      "text/plain": [
       "Drawing 1000 posterior samples:   0%|          | 0/1000 [00:00<?, ?it/s]"
      ]
     },
     "metadata": {},
     "output_type": "display_data"
    },
    {
     "name": "stdout",
     "output_type": "stream",
     "text": [
      "acceptance rate:  0.009\n"
     ]
    },
    {
     "name": "stderr",
     "output_type": "stream",
     "text": [
      "WARNING:root:Drawing samples from posterior to estimate the normalizing\n",
      "                        constant for `log_prob()`. However, only\n",
      "                        1% posterior samples are within the\n",
      "                        prior support. It may take a long time to collect the\n",
      "                        remaining 910 samples.\n",
      "                        Consider interrupting (Ctrl-C) and either basing the\n",
      "                        estimate of the normalizing constant on fewer samples (by\n",
      "                        calling `posterior.leakage_correction(x_o,\n",
      "                        num_rejection_samples=N)`, where `N` is the number of\n",
      "                        samples you want to base the\n",
      "                        estimate on (default N=10000), or not estimating the\n",
      "                        normalizing constant at all\n",
      "                        (`log_prob(..., norm_posterior=False)`. The latter will\n",
      "                        result in an unnormalized `log_prob()`.\n"
     ]
    },
    {
     "name": "stdout",
     "output_type": "stream",
     "text": [
      "acceptance rate:  0.008181818181818182\n",
      "acceptance rate:  0.009\n",
      "acceptance rate:  0.009064516129032259\n",
      "acceptance rate:  0.009560975609756097\n",
      "acceptance rate:  0.009490196078431372\n",
      "acceptance rate:  0.009557377049180327\n",
      "acceptance rate:  0.009549295774647887\n",
      "acceptance rate:  0.00980246913580247\n",
      "acceptance rate:  0.009703296703296704\n",
      "acceptance rate:  0.009564356435643564\n",
      "acceptance rate:  0.00954954954954955\n",
      "tensor([3.4841, 4.3562, 4.7650, 5.1344, 5.1746, 2.9423, 5.1720, 3.7727, 3.9316,\n",
      "        6.0153, 4.6934, 3.5379, 4.2962, 3.1477, 2.2705])\n",
      "tensor([ 5.9188,  8.5949, 20.2245, 13.4684, 89.0282, 56.8780, 29.9049, 27.5911,\n",
      "         6.3886, 72.0536,  8.0622, 66.9089, 94.8032, 39.7923, 43.6224])\n",
      "tensor([[ 3.,  6., 20., 10., 90., 55., 27., 27.,  4., 70.,  5., 66., 99., 40.,\n",
      "         45.]])\n",
      "tensor([[1., 1., 1., 1., 1., 1., 1., 1., 1., 1., 1., 1., 1., 1., 1.]])\n",
      "tensor([[ 8.5812, 10.8835,  9.3167, 17.0602, 11.7165,  4.5128, 15.4506,  5.4635,\n",
      "          8.7124, 17.9062, 13.6562,  4.9079, 16.0774,  3.3288,  2.2064]])\n"
     ]
    },
    {
     "data": {
      "application/vnd.jupyter.widget-view+json": {
       "model_id": "fcbddd0ff8de4d14bd494c21e5e458f4",
       "version_major": 2,
       "version_minor": 0
      },
      "text/plain": [
       "Drawing 1000 posterior samples:   0%|          | 0/1000 [00:00<?, ?it/s]"
      ]
     },
     "metadata": {},
     "output_type": "display_data"
    },
    {
     "name": "stdout",
     "output_type": "stream",
     "text": [
      "acceptance rate:  0.007\n"
     ]
    },
    {
     "name": "stderr",
     "output_type": "stream",
     "text": [
      "WARNING:root:Drawing samples from posterior to estimate the normalizing\n",
      "                        constant for `log_prob()`. However, only\n",
      "                        1% posterior samples are within the\n",
      "                        prior support. It may take a long time to collect the\n",
      "                        remaining 899 samples.\n",
      "                        Consider interrupting (Ctrl-C) and either basing the\n",
      "                        estimate of the normalizing constant on fewer samples (by\n",
      "                        calling `posterior.leakage_correction(x_o,\n",
      "                        num_rejection_samples=N)`, where `N` is the number of\n",
      "                        samples you want to base the\n",
      "                        estimate on (default N=10000), or not estimating the\n",
      "                        normalizing constant at all\n",
      "                        (`log_prob(..., norm_posterior=False)`. The latter will\n",
      "                        result in an unnormalized `log_prob()`.\n"
     ]
    },
    {
     "name": "stdout",
     "output_type": "stream",
     "text": [
      "acceptance rate:  0.009181818181818182\n",
      "acceptance rate:  0.00919047619047619\n",
      "acceptance rate:  0.008806451612903226\n",
      "acceptance rate:  0.009024390243902438\n",
      "acceptance rate:  0.008549019607843137\n",
      "acceptance rate:  0.008459016393442624\n",
      "acceptance rate:  0.008098591549295774\n",
      "acceptance rate:  0.008123456790123457\n",
      "acceptance rate:  0.008263736263736264\n",
      "acceptance rate:  0.008227722772277228\n",
      "acceptance rate:  0.008162162162162163\n",
      "acceptance rate:  0.008148760330578512\n",
      "acceptance rate:  0.008152671755725191\n"
     ]
    },
    {
     "data": {
      "application/vnd.jupyter.widget-view+json": {
       "model_id": "fa90748308434916807c97aec6895219",
       "version_major": 2,
       "version_minor": 0
      },
      "text/plain": [
       "Drawing 1000 posterior samples:   0%|          | 0/1000 [00:00<?, ?it/s]"
      ]
     },
     "metadata": {},
     "output_type": "display_data"
    },
    {
     "name": "stdout",
     "output_type": "stream",
     "text": [
      "acceptance rate:  0.009\n"
     ]
    },
    {
     "name": "stderr",
     "output_type": "stream",
     "text": [
      "WARNING:root:Drawing samples from posterior to estimate the normalizing\n",
      "                        constant for `log_prob()`. However, only\n",
      "                        1% posterior samples are within the\n",
      "                        prior support. It may take a long time to collect the\n",
      "                        remaining 911 samples.\n",
      "                        Consider interrupting (Ctrl-C) and either basing the\n",
      "                        estimate of the normalizing constant on fewer samples (by\n",
      "                        calling `posterior.leakage_correction(x_o,\n",
      "                        num_rejection_samples=N)`, where `N` is the number of\n",
      "                        samples you want to base the\n",
      "                        estimate on (default N=10000), or not estimating the\n",
      "                        normalizing constant at all\n",
      "                        (`log_prob(..., norm_posterior=False)`. The latter will\n",
      "                        result in an unnormalized `log_prob()`.\n"
     ]
    },
    {
     "name": "stdout",
     "output_type": "stream",
     "text": [
      "acceptance rate:  0.008090909090909091\n",
      "acceptance rate:  0.008476190476190476\n",
      "acceptance rate:  0.008451612903225806\n",
      "acceptance rate:  0.008439024390243903\n",
      "acceptance rate:  0.008529411764705883\n",
      "acceptance rate:  0.008360655737704918\n",
      "acceptance rate:  0.008408450704225351\n",
      "acceptance rate:  0.008419753086419754\n",
      "acceptance rate:  0.008296703296703296\n",
      "acceptance rate:  0.008346534653465347\n",
      "acceptance rate:  0.00836936936936937\n",
      "acceptance rate:  0.008388429752066115\n",
      "tensor([3.9943, 3.4318, 3.4633, 4.9900, 6.1585, 2.8895, 4.4832, 3.6365, 3.4600,\n",
      "        3.1177, 5.1891, 2.9643, 3.0589, 3.2267, 2.3619])\n",
      "tensor([ 8.6035,  5.4356, 26.1181, 10.9565, 79.2624, 52.8448, 29.2976, 25.3476,\n",
      "         6.3102, 65.8213, 10.5376, 63.8743, 96.5770, 39.3822, 47.0555])\n",
      "tensor([[ 3.,  6., 20., 10., 90., 55., 27., 27.,  4., 70.,  5., 66., 99., 40.,\n",
      "         45.]])\n",
      "tensor([[1., 1., 1., 1., 1., 1., 1., 1., 1., 1., 1., 1., 1., 1., 1.]])\n",
      "tensor([[21.7919,  4.3148, 22.9703, 10.8002, 74.2934,  4.9358, 10.6887,  6.1864,\n",
      "          6.9131, 11.9535, 26.6496,  5.0663,  5.9958,  3.7251,  3.5423]])\n"
     ]
    },
    {
     "data": {
      "application/vnd.jupyter.widget-view+json": {
       "model_id": "d5970effdca54153a679c54ee7a20e08",
       "version_major": 2,
       "version_minor": 0
      },
      "text/plain": [
       "Drawing 1000 posterior samples:   0%|          | 0/1000 [00:00<?, ?it/s]"
      ]
     },
     "metadata": {},
     "output_type": "display_data"
    },
    {
     "name": "stdout",
     "output_type": "stream",
     "text": [
      "acceptance rate:  0.012\n",
      "acceptance rate:  0.010272727272727272\n",
      "acceptance rate:  0.010142857142857143\n"
     ]
    },
    {
     "name": "stderr",
     "output_type": "stream",
     "text": [
      "WARNING:root:Drawing samples from posterior to estimate the normalizing\n",
      "                        constant for `log_prob()`. However, only\n",
      "                        1% posterior samples are within the\n",
      "                        prior support. It may take a long time to collect the\n",
      "                        remaining 701 samples.\n",
      "                        Consider interrupting (Ctrl-C) and either basing the\n",
      "                        estimate of the normalizing constant on fewer samples (by\n",
      "                        calling `posterior.leakage_correction(x_o,\n",
      "                        num_rejection_samples=N)`, where `N` is the number of\n",
      "                        samples you want to base the\n",
      "                        estimate on (default N=10000), or not estimating the\n",
      "                        normalizing constant at all\n",
      "                        (`log_prob(..., norm_posterior=False)`. The latter will\n",
      "                        result in an unnormalized `log_prob()`.\n"
     ]
    },
    {
     "name": "stdout",
     "output_type": "stream",
     "text": [
      "acceptance rate:  0.009645161290322581\n",
      "acceptance rate:  0.009463414634146341\n",
      "acceptance rate:  0.009215686274509804\n",
      "acceptance rate:  0.00919672131147541\n",
      "acceptance rate:  0.009154929577464789\n",
      "acceptance rate:  0.009098765432098765\n",
      "acceptance rate:  0.009087912087912087\n",
      "acceptance rate:  0.009108910891089108\n",
      "acceptance rate:  0.00926126126126126\n"
     ]
    },
    {
     "data": {
      "application/vnd.jupyter.widget-view+json": {
       "model_id": "2209d559a98d468fa26f8f675fdf94c7",
       "version_major": 2,
       "version_minor": 0
      },
      "text/plain": [
       "Drawing 1000 posterior samples:   0%|          | 0/1000 [00:00<?, ?it/s]"
      ]
     },
     "metadata": {},
     "output_type": "display_data"
    },
    {
     "name": "stdout",
     "output_type": "stream",
     "text": [
      "acceptance rate:  0.01\n"
     ]
    },
    {
     "name": "stderr",
     "output_type": "stream",
     "text": [
      "WARNING:root:Drawing samples from posterior to estimate the normalizing\n",
      "                        constant for `log_prob()`. However, only\n",
      "                        1% posterior samples are within the\n",
      "                        prior support. It may take a long time to collect the\n",
      "                        remaining 914 samples.\n",
      "                        Consider interrupting (Ctrl-C) and either basing the\n",
      "                        estimate of the normalizing constant on fewer samples (by\n",
      "                        calling `posterior.leakage_correction(x_o,\n",
      "                        num_rejection_samples=N)`, where `N` is the number of\n",
      "                        samples you want to base the\n",
      "                        estimate on (default N=10000), or not estimating the\n",
      "                        normalizing constant at all\n",
      "                        (`log_prob(..., norm_posterior=False)`. The latter will\n",
      "                        result in an unnormalized `log_prob()`.\n"
     ]
    },
    {
     "name": "stdout",
     "output_type": "stream",
     "text": [
      "acceptance rate:  0.007818181818181818\n",
      "acceptance rate:  0.008714285714285714\n",
      "acceptance rate:  0.008806451612903226\n",
      "acceptance rate:  0.008560975609756098\n",
      "acceptance rate:  0.009156862745098039\n",
      "acceptance rate:  0.00921311475409836\n",
      "acceptance rate:  0.009070422535211268\n",
      "acceptance rate:  0.009246913580246914\n",
      "acceptance rate:  0.009153846153846153\n",
      "acceptance rate:  0.009138613861386138\n",
      "acceptance rate:  0.009153153153153152\n",
      "tensor([2.4368, 3.5339, 4.3009, 3.4556, 4.2484, 2.3682, 4.5193, 2.4800, 3.5767,\n",
      "        3.7096, 5.6589, 2.9992, 2.7940, 2.6371, 2.2080])\n",
      "tensor([ 3.9974,  7.8453, 20.5110, 10.1036, 88.1078, 55.1437, 23.1230, 30.6862,\n",
      "         6.4389, 67.9260, 10.4959, 63.0387, 96.4757, 40.4337, 44.3622])\n",
      "tensor([[ 3.,  6., 20., 10., 90., 55., 27., 27.,  4., 70.,  5., 66., 99., 40.,\n",
      "         45.]])\n",
      "tensor([[1., 1., 1., 1., 1., 1., 1., 1., 1., 1., 1., 1., 1., 1., 1.]])\n",
      "tensor([[ 2.0758,  6.1845,  7.4205,  4.2361,  8.8679,  1.4524, 15.7192,  8.4609,\n",
      "          7.5961,  7.2205, 28.8806,  7.2840,  5.5618,  2.1015,  1.3489]])\n"
     ]
    },
    {
     "data": {
      "application/vnd.jupyter.widget-view+json": {
       "model_id": "661903fa1af048389061e38db17e2617",
       "version_major": 2,
       "version_minor": 0
      },
      "text/plain": [
       "Drawing 1000 posterior samples:   0%|          | 0/1000 [00:00<?, ?it/s]"
      ]
     },
     "metadata": {},
     "output_type": "display_data"
    },
    {
     "name": "stdout",
     "output_type": "stream",
     "text": [
      "acceptance rate:  0.019\n",
      "acceptance rate:  0.022454545454545456\n",
      "acceptance rate:  0.02023809523809524\n",
      "acceptance rate:  0.020193548387096773\n",
      "acceptance rate:  0.019902439024390244\n",
      "acceptance rate:  0.019490196078431374\n",
      "acceptance rate:  0.019590163934426228\n"
     ]
    },
    {
     "data": {
      "application/vnd.jupyter.widget-view+json": {
       "model_id": "922bb1db01ce47b2bcd89e36a33c21f7",
       "version_major": 2,
       "version_minor": 0
      },
      "text/plain": [
       "Drawing 1000 posterior samples:   0%|          | 0/1000 [00:00<?, ?it/s]"
      ]
     },
     "metadata": {},
     "output_type": "display_data"
    },
    {
     "name": "stdout",
     "output_type": "stream",
     "text": [
      "acceptance rate:  0.022\n",
      "acceptance rate:  0.019181818181818182\n",
      "acceptance rate:  0.019761904761904762\n",
      "acceptance rate:  0.019709677419354837\n",
      "acceptance rate:  0.020195121951219513\n",
      "acceptance rate:  0.020196078431372548\n",
      "tensor([2.8955, 3.3853, 3.2035, 3.9378, 3.4352, 2.5307, 2.4641, 2.9957, 4.3717,\n",
      "        2.2323, 3.0053, 2.2410, 2.6500, 2.8850, 2.0182])\n",
      "tensor([ 5.0842,  6.8316, 23.2843, 11.7837, 92.3529, 53.1806, 24.0090, 28.4525,\n",
      "         9.3249, 67.2135,  5.0734, 64.0369, 96.6450, 41.2644, 45.9195])\n",
      "tensor([[ 3.,  6., 20., 10., 90., 55., 27., 27.,  4., 70.,  5., 66., 99., 40.,\n",
      "         45.]])\n",
      "tensor([[1., 1., 1., 1., 1., 1., 1., 1., 1., 1., 1., 1., 1., 1., 1.]])\n",
      "tensor([[ 4.8007,  4.3565,  8.8602,  7.4735,  6.9343,  3.4289,  6.1071,  3.9449,\n",
      "         21.7578,  5.0707,  2.9183,  3.1309,  4.8097,  3.4014,  1.2570]])\n"
     ]
    },
    {
     "data": {
      "application/vnd.jupyter.widget-view+json": {
       "model_id": "89af33d44ed449a8a4d437a5fd0360ce",
       "version_major": 2,
       "version_minor": 0
      },
      "text/plain": [
       "Drawing 1000 posterior samples:   0%|          | 0/1000 [00:00<?, ?it/s]"
      ]
     },
     "metadata": {},
     "output_type": "display_data"
    },
    {
     "name": "stdout",
     "output_type": "stream",
     "text": [
      "acceptance rate:  0.047\n",
      "acceptance rate:  0.05154545454545455\n",
      "acceptance rate:  0.051476190476190474\n"
     ]
    },
    {
     "data": {
      "application/vnd.jupyter.widget-view+json": {
       "model_id": "a90729c2fb294700b64fa317661f5479",
       "version_major": 2,
       "version_minor": 0
      },
      "text/plain": [
       "Drawing 1000 posterior samples:   0%|          | 0/1000 [00:00<?, ?it/s]"
      ]
     },
     "metadata": {},
     "output_type": "display_data"
    },
    {
     "name": "stdout",
     "output_type": "stream",
     "text": [
      "acceptance rate:  0.068\n",
      "acceptance rate:  0.05409090909090909\n",
      "acceptance rate:  0.055142857142857146\n",
      "tensor([4.2168, 2.4499, 2.9896, 3.8742, 2.9318, 2.0891, 2.6897, 2.3216, 5.3123,\n",
      "        2.4744, 4.1858, 2.6775, 3.9886, 2.4299, 1.9967])\n",
      "tensor([ 7.9513,  4.0656, 21.4412, 12.3365, 91.5490, 54.4080, 27.1394, 27.3084,\n",
      "        11.5397, 68.5972,  7.6719, 63.5047, 94.1087, 40.1737, 44.3201])\n",
      "tensor([[ 3.,  6., 20., 10., 90., 55., 27., 27.,  4., 70.,  5., 66., 99., 40.,\n",
      "         45.]])\n",
      "tensor([[1., 1., 1., 1., 1., 1., 1., 1., 1., 1., 1., 1., 1., 1., 1.]])\n",
      "tensor([[19.2092,  3.4759,  3.9123,  8.3800,  3.9217,  1.1206,  2.1375,  1.4003,\n",
      "         40.3633,  2.6392, 10.3981,  5.2128, 18.0336,  1.5794,  1.0331]])\n"
     ]
    },
    {
     "data": {
      "application/vnd.jupyter.widget-view+json": {
       "model_id": "f071b604effc418388108fc0070e24da",
       "version_major": 2,
       "version_minor": 0
      },
      "text/plain": [
       "Drawing 1000 posterior samples:   0%|          | 0/1000 [00:00<?, ?it/s]"
      ]
     },
     "metadata": {},
     "output_type": "display_data"
    },
    {
     "name": "stdout",
     "output_type": "stream",
     "text": [
      "acceptance rate:  0.002\n"
     ]
    },
    {
     "name": "stderr",
     "output_type": "stream",
     "text": [
      "WARNING:root:Drawing samples from posterior to estimate the normalizing\n",
      "                        constant for `log_prob()`. However, only\n",
      "                        0% posterior samples are within the\n",
      "                        prior support. It may take a long time to collect the\n",
      "                        remaining 982 samples.\n",
      "                        Consider interrupting (Ctrl-C) and either basing the\n",
      "                        estimate of the normalizing constant on fewer samples (by\n",
      "                        calling `posterior.leakage_correction(x_o,\n",
      "                        num_rejection_samples=N)`, where `N` is the number of\n",
      "                        samples you want to base the\n",
      "                        estimate on (default N=10000), or not estimating the\n",
      "                        normalizing constant at all\n",
      "                        (`log_prob(..., norm_posterior=False)`. The latter will\n",
      "                        result in an unnormalized `log_prob()`.\n"
     ]
    },
    {
     "name": "stdout",
     "output_type": "stream",
     "text": [
      "acceptance rate:  0.0016363636363636363\n",
      "acceptance rate:  0.0017619047619047618\n",
      "acceptance rate:  0.0017419354838709678\n",
      "acceptance rate:  0.0018536585365853658\n",
      "acceptance rate:  0.0019215686274509803\n",
      "acceptance rate:  0.0020491803278688526\n",
      "acceptance rate:  0.0020985915492957746\n",
      "acceptance rate:  0.002074074074074074\n",
      "acceptance rate:  0.002\n",
      "acceptance rate:  0.002099009900990099\n",
      "acceptance rate:  0.002126126126126126\n",
      "acceptance rate:  0.0021322314049586778\n",
      "acceptance rate:  0.0021984732824427483\n",
      "acceptance rate:  0.0021914893617021275\n",
      "acceptance rate:  0.002218543046357616\n",
      "acceptance rate:  0.002285714285714286\n",
      "acceptance rate:  0.0022982456140350875\n",
      "acceptance rate:  0.0023093922651933703\n",
      "acceptance rate:  0.002319371727748691\n",
      "acceptance rate:  0.002318407960199005\n",
      "acceptance rate:  0.0023222748815165876\n",
      "acceptance rate:  0.0023303167420814478\n",
      "acceptance rate:  0.002359307359307359\n",
      "acceptance rate:  0.0023734439834024895\n",
      "acceptance rate:  0.002406374501992032\n",
      "acceptance rate:  0.002409961685823755\n",
      "acceptance rate:  0.0023985239852398524\n",
      "acceptance rate:  0.002391459074733096\n",
      "acceptance rate:  0.0024123711340206183\n",
      "acceptance rate:  0.0023920265780730896\n",
      "acceptance rate:  0.002427652733118971\n",
      "acceptance rate:  0.002423676012461059\n",
      "acceptance rate:  0.0024380664652567975\n",
      "acceptance rate:  0.002436950146627566\n",
      "acceptance rate:  0.00247008547008547\n",
      "acceptance rate:  0.002445983379501385\n",
      "acceptance rate:  0.0024447439353099732\n",
      "acceptance rate:  0.00242257217847769\n",
      "acceptance rate:  0.0024168797953964196\n",
      "acceptance rate:  0.002403990024937656\n",
      "acceptance rate:  0.002394160583941606\n",
      "acceptance rate:  0.0023871733966745845\n"
     ]
    },
    {
     "data": {
      "application/vnd.jupyter.widget-view+json": {
       "model_id": "336775c3afe8476e91d8a33ebe584141",
       "version_major": 2,
       "version_minor": 0
      },
      "text/plain": [
       "Drawing 1000 posterior samples:   0%|          | 0/1000 [00:00<?, ?it/s]"
      ]
     },
     "metadata": {},
     "output_type": "display_data"
    },
    {
     "name": "stdout",
     "output_type": "stream",
     "text": [
      "acceptance rate:  0.002\n"
     ]
    },
    {
     "name": "stderr",
     "output_type": "stream",
     "text": [
      "WARNING:root:Drawing samples from posterior to estimate the normalizing\n",
      "                        constant for `log_prob()`. However, only\n",
      "                        0% posterior samples are within the\n",
      "                        prior support. It may take a long time to collect the\n",
      "                        remaining 967 samples.\n",
      "                        Consider interrupting (Ctrl-C) and either basing the\n",
      "                        estimate of the normalizing constant on fewer samples (by\n",
      "                        calling `posterior.leakage_correction(x_o,\n",
      "                        num_rejection_samples=N)`, where `N` is the number of\n",
      "                        samples you want to base the\n",
      "                        estimate on (default N=10000), or not estimating the\n",
      "                        normalizing constant at all\n",
      "                        (`log_prob(..., norm_posterior=False)`. The latter will\n",
      "                        result in an unnormalized `log_prob()`.\n"
     ]
    },
    {
     "name": "stdout",
     "output_type": "stream",
     "text": [
      "acceptance rate:  0.003\n",
      "acceptance rate:  0.002761904761904762\n",
      "acceptance rate:  0.0024838709677419356\n",
      "acceptance rate:  0.0025365853658536586\n",
      "acceptance rate:  0.0024313725490196078\n",
      "acceptance rate:  0.0024426229508196723\n",
      "acceptance rate:  0.0024788732394366198\n",
      "acceptance rate:  0.0024814814814814816\n",
      "acceptance rate:  0.0024725274725274724\n",
      "acceptance rate:  0.0024356435643564356\n",
      "acceptance rate:  0.0025045045045045044\n",
      "acceptance rate:  0.002471074380165289\n",
      "acceptance rate:  0.0024580152671755725\n",
      "acceptance rate:  0.0024609929078014186\n",
      "acceptance rate:  0.002470198675496689\n",
      "acceptance rate:  0.002434782608695652\n",
      "acceptance rate:  0.002415204678362573\n",
      "acceptance rate:  0.002419889502762431\n",
      "acceptance rate:  0.002418848167539267\n",
      "acceptance rate:  0.0024577114427860695\n",
      "acceptance rate:  0.0024691943127962087\n",
      "acceptance rate:  0.0024524886877828056\n",
      "acceptance rate:  0.0024458874458874458\n",
      "acceptance rate:  0.0024813278008298757\n",
      "acceptance rate:  0.00249402390438247\n",
      "acceptance rate:  0.0024827586206896553\n",
      "acceptance rate:  0.0024907749077490776\n",
      "acceptance rate:  0.002476868327402135\n",
      "acceptance rate:  0.002474226804123711\n",
      "acceptance rate:  0.002475083056478405\n",
      "acceptance rate:  0.0024662379421221863\n",
      "acceptance rate:  0.002479750778816199\n",
      "acceptance rate:  0.002459214501510574\n",
      "acceptance rate:  0.0024516129032258064\n",
      "acceptance rate:  0.0024643874643874644\n",
      "acceptance rate:  0.002454293628808864\n",
      "acceptance rate:  0.002490566037735849\n",
      "acceptance rate:  0.0024934383202099737\n",
      "acceptance rate:  0.0024833759590792838\n",
      "acceptance rate:  0.0024763092269326683\n",
      "acceptance rate:  0.002469586374695864\n",
      "tensor([2.2057, 2.3238, 2.1171, 2.5551, 3.2302, 1.5133, 1.7317, 1.8419, 1.9010,\n",
      "        2.4226, 1.8450, 1.7003, 0.9844, 1.8604, 1.4540])\n",
      "tensor([ 3.9221,  4.2501, 20.5680,  8.6778, 88.5413, 55.6727, 24.2078, 27.2241,\n",
      "         4.7037, 69.0670,  4.8788, 63.3714, 98.9549, 38.6208, 46.5377])\n",
      "tensor([[ 3.,  6., 20., 10., 90., 55., 27., 27.,  4., 70.,  5., 66., 99., 40.,\n",
      "         45.]])\n",
      "tensor([[1., 1., 1., 1., 1., 1., 1., 1., 1., 1., 1., 1., 1., 1., 1.]])\n",
      "tensor([[1.5667e+00, 2.8879e+00, 1.1523e+00, 2.7002e+00, 4.6084e+00, 4.5706e-01,\n",
      "         4.3485e+00, 6.1064e-01, 9.1213e-01, 1.9850e+00, 5.9684e-01, 3.8695e+00,\n",
      "         1.2643e-03, 1.5609e+00, 1.3650e+00]])\n"
     ]
    },
    {
     "data": {
      "application/vnd.jupyter.widget-view+json": {
       "model_id": "e5fc4112e50b4af9b95f606e1d3f6dfb",
       "version_major": 2,
       "version_minor": 0
      },
      "text/plain": [
       "Drawing 1000 posterior samples:   0%|          | 0/1000 [00:00<?, ?it/s]"
      ]
     },
     "metadata": {},
     "output_type": "display_data"
    },
    {
     "name": "stdout",
     "output_type": "stream",
     "text": [
      "acceptance rate:  0.169\n",
      "acceptance rate:  0.15663636363636363\n"
     ]
    },
    {
     "data": {
      "application/vnd.jupyter.widget-view+json": {
       "model_id": "a2aea35fb1e74b0c91d9c83e5b2d1286",
       "version_major": 2,
       "version_minor": 0
      },
      "text/plain": [
       "Drawing 1000 posterior samples:   0%|          | 0/1000 [00:00<?, ?it/s]"
      ]
     },
     "metadata": {},
     "output_type": "display_data"
    },
    {
     "name": "stdout",
     "output_type": "stream",
     "text": [
      "acceptance rate:  0.176\n",
      "acceptance rate:  0.153\n",
      "tensor([2.8246, 4.5303, 3.8334, 4.5840, 3.8599, 2.0220, 3.4768, 3.3928, 4.6693,\n",
      "        3.7811, 3.9375, 2.4057, 5.2413, 2.3961, 2.5572])\n",
      "tensor([ 4.8495, 12.1757, 20.3589, 12.6610, 86.2235, 52.9889, 34.7760, 29.6762,\n",
      "        10.2610, 66.8006,  7.3063, 66.4663, 92.6113, 41.6034, 46.5955])\n",
      "tensor([[ 3.,  6., 20., 10., 90., 55., 27., 27.,  4., 70.,  5., 66., 99., 40.,\n",
      "         45.]])\n",
      "tensor([[1., 1., 1., 1., 1., 1., 1., 1., 1., 1., 1., 1., 1., 1., 1.]])\n",
      "tensor([[ 4.1612, 27.3207,  5.5680, 12.0246, 12.7299,  2.8624, 34.5308,  7.6149,\n",
      "         28.4601, 10.4365,  8.5409,  1.6245, 31.9865,  2.7823,  3.1035]])\n"
     ]
    },
    {
     "data": {
      "application/vnd.jupyter.widget-view+json": {
       "model_id": "7f256117c11f43b99fff2d427d8ab85f",
       "version_major": 2,
       "version_minor": 0
      },
      "text/plain": [
       "Drawing 1000 posterior samples:   0%|          | 0/1000 [00:00<?, ?it/s]"
      ]
     },
     "metadata": {},
     "output_type": "display_data"
    },
    {
     "name": "stdout",
     "output_type": "stream",
     "text": [
      "acceptance rate:  0.344\n",
      "acceptance rate:  0.3190909090909091\n"
     ]
    },
    {
     "data": {
      "application/vnd.jupyter.widget-view+json": {
       "model_id": "06fae850fd144b3cbaf2537e6cfd58d3",
       "version_major": 2,
       "version_minor": 0
      },
      "text/plain": [
       "Drawing 1000 posterior samples:   0%|          | 0/1000 [00:00<?, ?it/s]"
      ]
     },
     "metadata": {},
     "output_type": "display_data"
    },
    {
     "name": "stdout",
     "output_type": "stream",
     "text": [
      "acceptance rate:  0.336\n",
      "acceptance rate:  0.32936363636363636\n",
      "tensor([3.9259, 2.6955, 4.4089, 5.0104, 4.5958, 2.3243, 2.8641, 3.9411, 5.0685,\n",
      "        2.3980, 3.7572, 2.6041, 4.6291, 2.3584, 1.8838])\n",
      "tensor([ 7.3805,  4.6474, 25.2781, 11.3105, 85.7533, 54.6307, 29.6872, 30.5453,\n",
      "        14.4208, 66.8801, 14.7809, 64.0986, 89.2524, 41.8692, 45.8294])\n",
      "tensor([[ 3.,  6., 20., 10., 90., 55., 27., 27.,  4., 70.,  5., 66., 99., 40.,\n",
      "         45.]])\n",
      "tensor([[1., 1., 1., 1., 1., 1., 1., 1., 1., 1., 1., 1., 1., 1., 1.]])\n",
      "tensor([[15.4333,  3.0560, 21.6648, 11.2991, 17.5529,  1.4259,  6.1598, 12.1789,\n",
      "         65.0185,  6.3673, 53.0675,  3.7413, 56.1903,  3.1701,  0.9851]])\n"
     ]
    },
    {
     "data": {
      "application/vnd.jupyter.widget-view+json": {
       "model_id": "94bb3615d57e4853a068280695cdfc13",
       "version_major": 2,
       "version_minor": 0
      },
      "text/plain": [
       "Drawing 1000 posterior samples:   0%|          | 0/1000 [00:00<?, ?it/s]"
      ]
     },
     "metadata": {},
     "output_type": "display_data"
    },
    {
     "name": "stdout",
     "output_type": "stream",
     "text": [
      "acceptance rate:  0.383\n",
      "acceptance rate:  0.39790909090909093\n"
     ]
    },
    {
     "data": {
      "application/vnd.jupyter.widget-view+json": {
       "model_id": "dbde1c9ab4a94e57a6a79fc8a9ad3c06",
       "version_major": 2,
       "version_minor": 0
      },
      "text/plain": [
       "Drawing 1000 posterior samples:   0%|          | 0/1000 [00:00<?, ?it/s]"
      ]
     },
     "metadata": {},
     "output_type": "display_data"
    },
    {
     "name": "stdout",
     "output_type": "stream",
     "text": [
      "acceptance rate:  0.428\n",
      "acceptance rate:  0.4030909090909091\n",
      "tensor([4.4890, 3.5189, 3.3733, 3.9893, 4.9867, 2.3436, 3.1890, 3.1561, 4.0662,\n",
      "        3.0190, 3.1171, 2.2345, 3.5400, 2.8175, 2.2728])\n",
      "tensor([ 9.5071,  8.3310, 18.5204, 14.4164, 85.8677, 52.0550, 26.6130, 31.5552,\n",
      "         7.8465, 68.6302,  5.4537, 63.9101, 93.5037, 41.9496, 47.6818])\n",
      "tensor([[ 3.,  6., 20., 10., 90., 55., 27., 27.,  4., 70.,  5., 66., 99., 40.,\n",
      "         45.]])\n",
      "tensor([[1., 1., 1., 1., 1., 1., 1., 1., 1., 1., 1., 1., 1., 1., 1.]])\n",
      "tensor([[29.2453,  7.1501,  5.0685, 15.8262, 18.8649,  5.7311,  3.5000, 13.7060,\n",
      "         13.7619,  3.8904,  3.3242,  3.3763, 19.6061,  4.3339,  4.8579]])\n"
     ]
    },
    {
     "data": {
      "application/vnd.jupyter.widget-view+json": {
       "model_id": "637126cd3a83482b9f579c5d1c4438da",
       "version_major": 2,
       "version_minor": 0
      },
      "text/plain": [
       "Drawing 1000 posterior samples:   0%|          | 0/1000 [00:00<?, ?it/s]"
      ]
     },
     "metadata": {},
     "output_type": "display_data"
    },
    {
     "name": "stdout",
     "output_type": "stream",
     "text": [
      "acceptance rate:  0.551\n",
      "acceptance rate:  0.5768181818181818\n"
     ]
    },
    {
     "data": {
      "application/vnd.jupyter.widget-view+json": {
       "model_id": "5157398b1b004b28be5d56c25735d0f3",
       "version_major": 2,
       "version_minor": 0
      },
      "text/plain": [
       "Drawing 1000 posterior samples:   0%|          | 0/1000 [00:00<?, ?it/s]"
      ]
     },
     "metadata": {},
     "output_type": "display_data"
    },
    {
     "name": "stdout",
     "output_type": "stream",
     "text": [
      "acceptance rate:  0.573\n",
      "acceptance rate:  0.5764545454545454\n",
      "tensor([4.4048, 3.0447, 3.2802, 4.0775, 4.3604, 2.0135, 2.9605, 3.3229, 4.4037,\n",
      "        2.6896, 4.1061, 2.5070, 5.0274, 2.5779, 2.1021])\n",
      "tensor([11.7722,  5.9519, 23.5097,  9.8605, 83.8790, 56.7697, 29.8351, 28.5086,\n",
      "        10.6619, 67.4822, 10.9303, 61.1020, 90.5643, 40.9104, 45.7932])\n",
      "tensor([[ 3.,  6., 20., 10., 90., 55., 27., 27.,  4., 70.,  5., 66., 99., 40.,\n",
      "         45.]])\n",
      "tensor([[1., 1., 1., 1., 1., 1., 1., 1., 1., 1., 1., 1., 1., 1., 1.]])\n",
      "tensor([[46.1945,  3.0227,  9.8510,  6.4173, 26.2672,  2.3932,  6.8157,  4.9580,\n",
      "         29.9045,  5.2973, 24.1018, 13.7190, 46.1035,  2.2903,  1.2811]])\n"
     ]
    },
    {
     "data": {
      "application/vnd.jupyter.widget-view+json": {
       "model_id": "b76c494490a546e3be5b2d707a7eb9ec",
       "version_major": 2,
       "version_minor": 0
      },
      "text/plain": [
       "Drawing 1000 posterior samples:   0%|          | 0/1000 [00:00<?, ?it/s]"
      ]
     },
     "metadata": {},
     "output_type": "display_data"
    },
    {
     "name": "stdout",
     "output_type": "stream",
     "text": [
      "acceptance rate:  0.322\n",
      "acceptance rate:  0.3370909090909091\n"
     ]
    },
    {
     "data": {
      "application/vnd.jupyter.widget-view+json": {
       "model_id": "8f515996c169464398c3c07793f24ad0",
       "version_major": 2,
       "version_minor": 0
      },
      "text/plain": [
       "Drawing 1000 posterior samples:   0%|          | 0/1000 [00:00<?, ?it/s]"
      ]
     },
     "metadata": {},
     "output_type": "display_data"
    },
    {
     "name": "stdout",
     "output_type": "stream",
     "text": [
      "acceptance rate:  0.343\n",
      "acceptance rate:  0.33836363636363637\n",
      "tensor([3.0483, 5.4572, 3.1576, 4.6467, 4.1458, 2.1337, 3.1524, 3.0560, 4.9135,\n",
      "        2.4338, 4.1264, 2.5330, 4.1520, 2.4294, 2.3585])\n",
      "tensor([ 5.3374, 12.3227, 25.5348, 16.6335, 84.6848, 57.1865, 29.9912, 28.9482,\n",
      "        13.5195, 66.8012, 12.1369, 63.8229, 93.1784, 41.9268, 46.2774])\n",
      "tensor([[ 3.,  6., 20., 10., 90., 55., 27., 27.,  4., 70.,  5., 66., 99., 40.,\n",
      "         45.]])\n",
      "tensor([[1., 1., 1., 1., 1., 1., 1., 1., 1., 1., 1., 1., 1., 1., 1.]])\n",
      "tensor([[ 5.7632, 32.6817, 18.6524, 30.7610, 20.7970,  3.4088,  7.7945,  4.9503,\n",
      "         55.2898,  6.6885, 32.0639,  4.1485, 23.6415,  3.4197,  2.2391]])\n"
     ]
    },
    {
     "data": {
      "application/vnd.jupyter.widget-view+json": {
       "model_id": "b8a4bd964e32458c82c178755c3fdde3",
       "version_major": 2,
       "version_minor": 0
      },
      "text/plain": [
       "Drawing 1000 posterior samples:   0%|          | 0/1000 [00:00<?, ?it/s]"
      ]
     },
     "metadata": {},
     "output_type": "display_data"
    },
    {
     "name": "stdout",
     "output_type": "stream",
     "text": [
      "acceptance rate:  0.025\n",
      "acceptance rate:  0.01681818181818182\n",
      "acceptance rate:  0.01657142857142857\n",
      "acceptance rate:  0.01629032258064516\n",
      "acceptance rate:  0.016829268292682928\n",
      "acceptance rate:  0.017058823529411765\n",
      "acceptance rate:  0.016918032786885247\n"
     ]
    },
    {
     "data": {
      "application/vnd.jupyter.widget-view+json": {
       "model_id": "9198821fd46240b4b7cdf3549e6196ce",
       "version_major": 2,
       "version_minor": 0
      },
      "text/plain": [
       "Drawing 1000 posterior samples:   0%|          | 0/1000 [00:00<?, ?it/s]"
      ]
     },
     "metadata": {},
     "output_type": "display_data"
    },
    {
     "name": "stdout",
     "output_type": "stream",
     "text": [
      "acceptance rate:  0.013\n",
      "acceptance rate:  0.016636363636363637\n",
      "acceptance rate:  0.01695238095238095\n",
      "acceptance rate:  0.016870967741935482\n",
      "acceptance rate:  0.016853658536585367\n",
      "acceptance rate:  0.016862745098039214\n",
      "acceptance rate:  0.017098360655737704\n",
      "tensor([2.5494, 3.0091, 2.4913, 3.8857, 4.0467, 2.0788, 2.8432, 3.5395, 3.0694,\n",
      "        3.0950, 3.2281, 2.1239, 6.1408, 2.2253, 1.4281])\n",
      "tensor([ 4.4800,  6.7297, 20.1773, 10.9464, 92.8395, 54.9821, 25.6859, 25.6915,\n",
      "         5.4206, 69.8410,  5.6696, 62.9199, 92.1955, 39.1866, 44.9893])\n",
      "tensor([[ 3.,  6., 20., 10., 90., 55., 27., 27.,  4., 70.,  5., 66., 99., 40.,\n",
      "         45.]])\n",
      "tensor([[1., 1., 1., 1., 1., 1., 1., 1., 1., 1., 1., 1., 1., 1., 1.]])\n",
      "tensor([[ 2.9091,  3.1918,  1.7062,  6.1398, 10.3215,  0.9290,  3.3604,  5.3561,\n",
      "          4.0982,  3.1724,  3.7626,  5.7459, 39.6904,  1.5069,  0.1634]])\n"
     ]
    },
    {
     "data": {
      "application/vnd.jupyter.widget-view+json": {
       "model_id": "3a9b244762b545ba89a5940bb3bf1e9e",
       "version_major": 2,
       "version_minor": 0
      },
      "text/plain": [
       "Drawing 1000 posterior samples:   0%|          | 0/1000 [00:00<?, ?it/s]"
      ]
     },
     "metadata": {},
     "output_type": "display_data"
    },
    {
     "name": "stdout",
     "output_type": "stream",
     "text": [
      "acceptance rate:  0.007\n"
     ]
    },
    {
     "name": "stderr",
     "output_type": "stream",
     "text": [
      "WARNING:root:Drawing samples from posterior to estimate the normalizing\n",
      "                        constant for `log_prob()`. However, only\n",
      "                        0% posterior samples are within the\n",
      "                        prior support. It may take a long time to collect the\n",
      "                        remaining 946 samples.\n",
      "                        Consider interrupting (Ctrl-C) and either basing the\n",
      "                        estimate of the normalizing constant on fewer samples (by\n",
      "                        calling `posterior.leakage_correction(x_o,\n",
      "                        num_rejection_samples=N)`, where `N` is the number of\n",
      "                        samples you want to base the\n",
      "                        estimate on (default N=10000), or not estimating the\n",
      "                        normalizing constant at all\n",
      "                        (`log_prob(..., norm_posterior=False)`. The latter will\n",
      "                        result in an unnormalized `log_prob()`.\n"
     ]
    },
    {
     "name": "stdout",
     "output_type": "stream",
     "text": [
      "acceptance rate:  0.004909090909090909\n",
      "acceptance rate:  0.004380952380952381\n",
      "acceptance rate:  0.004354838709677419\n",
      "acceptance rate:  0.004390243902439025\n",
      "acceptance rate:  0.004607843137254902\n",
      "acceptance rate:  0.004704918032786885\n",
      "acceptance rate:  0.004704225352112676\n",
      "acceptance rate:  0.004629629629629629\n",
      "acceptance rate:  0.00478021978021978\n",
      "acceptance rate:  0.004702970297029703\n",
      "acceptance rate:  0.0047477477477477475\n",
      "acceptance rate:  0.0047190082644628095\n",
      "acceptance rate:  0.004778625954198474\n",
      "acceptance rate:  0.004801418439716312\n",
      "acceptance rate:  0.004794701986754967\n",
      "acceptance rate:  0.004906832298136646\n",
      "acceptance rate:  0.004982456140350877\n",
      "acceptance rate:  0.00494475138121547\n",
      "acceptance rate:  0.004958115183246074\n",
      "acceptance rate:  0.004970149253731343\n",
      "acceptance rate:  0.004962085308056872\n"
     ]
    },
    {
     "data": {
      "application/vnd.jupyter.widget-view+json": {
       "model_id": "e3768ec195ff4ba4a892484d77082727",
       "version_major": 2,
       "version_minor": 0
      },
      "text/plain": [
       "Drawing 1000 posterior samples:   0%|          | 0/1000 [00:00<?, ?it/s]"
      ]
     },
     "metadata": {},
     "output_type": "display_data"
    },
    {
     "name": "stdout",
     "output_type": "stream",
     "text": [
      "acceptance rate:  0.006\n"
     ]
    },
    {
     "name": "stderr",
     "output_type": "stream",
     "text": [
      "WARNING:root:Drawing samples from posterior to estimate the normalizing\n",
      "                        constant for `log_prob()`. However, only\n",
      "                        0% posterior samples are within the\n",
      "                        prior support. It may take a long time to collect the\n",
      "                        remaining 947 samples.\n",
      "                        Consider interrupting (Ctrl-C) and either basing the\n",
      "                        estimate of the normalizing constant on fewer samples (by\n",
      "                        calling `posterior.leakage_correction(x_o,\n",
      "                        num_rejection_samples=N)`, where `N` is the number of\n",
      "                        samples you want to base the\n",
      "                        estimate on (default N=10000), or not estimating the\n",
      "                        normalizing constant at all\n",
      "                        (`log_prob(..., norm_posterior=False)`. The latter will\n",
      "                        result in an unnormalized `log_prob()`.\n"
     ]
    },
    {
     "name": "stdout",
     "output_type": "stream",
     "text": [
      "acceptance rate:  0.004818181818181818\n",
      "acceptance rate:  0.004142857142857143\n",
      "acceptance rate:  0.004516129032258065\n",
      "acceptance rate:  0.004829268292682927\n",
      "acceptance rate:  0.004901960784313725\n",
      "acceptance rate:  0.0050163934426229505\n",
      "acceptance rate:  0.004943661971830986\n",
      "acceptance rate:  0.004975308641975308\n",
      "acceptance rate:  0.004813186813186814\n",
      "acceptance rate:  0.004861386138613861\n",
      "acceptance rate:  0.004846846846846847\n",
      "acceptance rate:  0.004834710743801653\n",
      "acceptance rate:  0.0047862595419847324\n",
      "acceptance rate:  0.004780141843971631\n",
      "acceptance rate:  0.0047748344370860925\n",
      "acceptance rate:  0.004763975155279503\n",
      "acceptance rate:  0.0047777777777777775\n",
      "acceptance rate:  0.004712707182320442\n",
      "acceptance rate:  0.004696335078534031\n",
      "acceptance rate:  0.0047064676616915425\n",
      "acceptance rate:  0.004710900473933649\n",
      "acceptance rate:  0.004723981900452489\n",
      "tensor([3.7697, 4.0001, 3.8802, 4.4726, 2.5281, 1.8598, 2.9099, 2.7768, 4.0083,\n",
      "        2.4608, 3.4814, 2.6435, 3.8128, 2.4777, 2.3210])\n",
      "tensor([ 6.1621,  8.3961, 21.9077, 17.4691, 97.0250, 51.7087, 23.7829, 31.8684,\n",
      "        10.1339, 62.7639,  5.7829, 64.0275, 94.0805, 43.6700, 44.2384])\n",
      "tensor([[ 3.,  6., 20., 10., 90., 55., 27., 27.,  4., 70.,  5., 66., 99., 40.,\n",
      "         45.]])\n",
      "tensor([[1., 1., 1., 1., 1., 1., 1., 1., 1., 1., 1., 1., 1., 1., 1.]])\n",
      "tensor([[10.2775,  8.9849,  7.4917, 35.8981, 26.4432,  6.0252,  7.8407, 14.1849,\n",
      "         24.9570, 27.8075,  4.6189,  3.9673, 17.5314,  8.3968,  1.6415]])\n"
     ]
    },
    {
     "data": {
      "application/vnd.jupyter.widget-view+json": {
       "model_id": "b917bd5835bd472fa1db227cd3b810c3",
       "version_major": 2,
       "version_minor": 0
      },
      "text/plain": [
       "Drawing 1000 posterior samples:   0%|          | 0/1000 [00:00<?, ?it/s]"
      ]
     },
     "metadata": {},
     "output_type": "display_data"
    },
    {
     "name": "stdout",
     "output_type": "stream",
     "text": [
      "acceptance rate:  0.135\n",
      "acceptance rate:  0.13736363636363635\n"
     ]
    },
    {
     "data": {
      "application/vnd.jupyter.widget-view+json": {
       "model_id": "11ca6b7c726b4d1aadd4978a16073ad4",
       "version_major": 2,
       "version_minor": 0
      },
      "text/plain": [
       "Drawing 1000 posterior samples:   0%|          | 0/1000 [00:00<?, ?it/s]"
      ]
     },
     "metadata": {},
     "output_type": "display_data"
    },
    {
     "name": "stdout",
     "output_type": "stream",
     "text": [
      "acceptance rate:  0.123\n",
      "acceptance rate:  0.13090909090909092\n",
      "tensor([3.0521, 4.1228, 4.1664, 4.4197, 4.1634, 2.2051, 3.1435, 3.4237, 3.4857,\n",
      "        2.9487, 4.4731, 2.6570, 3.7933, 3.1517, 1.9612])\n",
      "tensor([ 5.6151,  7.6192, 22.3922,  9.2067, 89.4025, 56.2045, 30.0041, 28.7892,\n",
      "         6.6662, 67.3285,  9.2063, 65.5118, 94.7535, 39.9381, 48.2368])\n",
      "tensor([[ 3.,  6., 20., 10., 90., 55., 27., 27.,  4., 70.,  5., 66., 99., 40.,\n",
      "         45.]])\n",
      "tensor([[1., 1., 1., 1., 1., 1., 1., 1., 1., 1., 1., 1., 1., 1., 1.]])\n",
      "tensor([[ 6.4613,  7.8932,  9.6138,  8.0954,  6.9193,  1.8659,  7.8077,  5.7309,\n",
      "          7.8807,  6.3346, 16.8526,  2.1718, 14.3774,  3.3204,  5.9881]])\n"
     ]
    },
    {
     "data": {
      "application/vnd.jupyter.widget-view+json": {
       "model_id": "905e5e893d694d109bab12be661d13e3",
       "version_major": 2,
       "version_minor": 0
      },
      "text/plain": [
       "Drawing 1000 posterior samples:   0%|          | 0/1000 [00:00<?, ?it/s]"
      ]
     },
     "metadata": {},
     "output_type": "display_data"
    },
    {
     "name": "stdout",
     "output_type": "stream",
     "text": [
      "acceptance rate:  0.044\n",
      "acceptance rate:  0.04772727272727273\n",
      "acceptance rate:  0.04357142857142857\n",
      "acceptance rate:  0.043258064516129034\n"
     ]
    },
    {
     "data": {
      "application/vnd.jupyter.widget-view+json": {
       "model_id": "b3f87ba3819047b8acb90d6dbcd1b477",
       "version_major": 2,
       "version_minor": 0
      },
      "text/plain": [
       "Drawing 1000 posterior samples:   0%|          | 0/1000 [00:00<?, ?it/s]"
      ]
     },
     "metadata": {},
     "output_type": "display_data"
    },
    {
     "name": "stdout",
     "output_type": "stream",
     "text": [
      "acceptance rate:  0.042\n",
      "acceptance rate:  0.045181818181818184\n",
      "acceptance rate:  0.04371428571428571\n",
      "acceptance rate:  0.04419354838709678\n",
      "tensor([3.0129, 2.7489, 3.8624, 5.5689, 3.8764, 2.7782, 3.6478, 3.4583, 4.0238,\n",
      "        3.3598, 3.5339, 3.0044, 4.3527, 2.0615, 2.3281])\n",
      "tensor([ 5.0718,  5.2045, 16.4852,  9.7402, 92.1191, 56.2815, 30.5213, 22.9149,\n",
      "         7.1761, 62.8958,  6.6607, 61.1290, 92.5825, 42.3607, 48.0508])\n",
      "tensor([[ 3.,  6., 20., 10., 90., 55., 27., 27.,  4., 70.,  5., 66., 99., 40.,\n",
      "         45.]])\n",
      "tensor([[1., 1., 1., 1., 1., 1., 1., 1., 1., 1., 1., 1., 1., 1., 1.]])\n",
      "tensor([[ 5.0820,  2.5834, 11.7847, 13.3230,  7.9038,  3.1584, 11.0590, 12.5832,\n",
      "         11.2473, 29.1673,  5.8608, 14.7764, 28.0946,  3.6878,  6.0185]])\n"
     ]
    },
    {
     "data": {
      "application/vnd.jupyter.widget-view+json": {
       "model_id": "849d0f0013c144d5ad1f4b5ad80a3efc",
       "version_major": 2,
       "version_minor": 0
      },
      "text/plain": [
       "Drawing 1000 posterior samples:   0%|          | 0/1000 [00:00<?, ?it/s]"
      ]
     },
     "metadata": {},
     "output_type": "display_data"
    },
    {
     "name": "stdout",
     "output_type": "stream",
     "text": [
      "acceptance rate:  0.102\n",
      "acceptance rate:  0.09836363636363636\n"
     ]
    },
    {
     "data": {
      "application/vnd.jupyter.widget-view+json": {
       "model_id": "8b210db3f1b348fd8f78812801a96b9c",
       "version_major": 2,
       "version_minor": 0
      },
      "text/plain": [
       "Drawing 1000 posterior samples:   0%|          | 0/1000 [00:00<?, ?it/s]"
      ]
     },
     "metadata": {},
     "output_type": "display_data"
    },
    {
     "name": "stdout",
     "output_type": "stream",
     "text": [
      "acceptance rate:  0.084\n",
      "acceptance rate:  0.10081818181818182\n",
      "tensor([4.8601, 4.3348, 4.0859, 3.7511, 4.8102, 2.2762, 2.8943, 3.2498, 4.3476,\n",
      "        2.3617, 3.2175, 2.6169, 2.7634, 2.3303, 2.4737])\n",
      "tensor([10.3292,  8.7760, 24.2205, 11.8647, 88.8944, 56.5718, 24.8984, 30.0275,\n",
      "         7.8237, 71.4087,  5.5838, 62.5557, 96.3659, 40.0357, 45.1616])\n",
      "tensor([[ 3.,  6., 20., 10., 90., 55., 27., 27.,  4., 70.,  5., 66., 99., 40.,\n",
      "         45.]])\n",
      "tensor([[1., 1., 1., 1., 1., 1., 1., 1., 1., 1., 1., 1., 1., 1., 1.]])\n",
      "tensor([[36.5879, 11.2819, 15.3459,  6.9518, 10.1095,  2.5034,  4.8341,  8.1849,\n",
      "         14.7916,  2.4216,  3.6781,  7.8937,  5.7710,  1.3698,  1.6669]])\n"
     ]
    },
    {
     "data": {
      "application/vnd.jupyter.widget-view+json": {
       "model_id": "119650d311b04ea7ab856f8bcfb9f01b",
       "version_major": 2,
       "version_minor": 0
      },
      "text/plain": [
       "Drawing 1000 posterior samples:   0%|          | 0/1000 [00:00<?, ?it/s]"
      ]
     },
     "metadata": {},
     "output_type": "display_data"
    },
    {
     "name": "stdout",
     "output_type": "stream",
     "text": [
      "acceptance rate:  0.006\n",
      "acceptance rate:  0.012\n",
      "acceptance rate:  0.012571428571428572\n",
      "acceptance rate:  0.012129032258064516\n",
      "acceptance rate:  0.012341463414634147\n",
      "acceptance rate:  0.012392156862745097\n",
      "acceptance rate:  0.01221311475409836\n",
      "acceptance rate:  0.012\n",
      "acceptance rate:  0.011864197530864198\n",
      "acceptance rate:  0.011802197802197802\n"
     ]
    },
    {
     "data": {
      "application/vnd.jupyter.widget-view+json": {
       "model_id": "866a6dccd6a349be8160e13bdf604c96",
       "version_major": 2,
       "version_minor": 0
      },
      "text/plain": [
       "Drawing 1000 posterior samples:   0%|          | 0/1000 [00:00<?, ?it/s]"
      ]
     },
     "metadata": {},
     "output_type": "display_data"
    },
    {
     "name": "stdout",
     "output_type": "stream",
     "text": [
      "acceptance rate:  0.015\n",
      "acceptance rate:  0.011454545454545455\n",
      "acceptance rate:  0.012809523809523809\n",
      "acceptance rate:  0.012193548387096775\n",
      "acceptance rate:  0.012195121951219513\n",
      "acceptance rate:  0.012215686274509804\n",
      "acceptance rate:  0.012098360655737704\n",
      "acceptance rate:  0.011929577464788732\n",
      "acceptance rate:  0.012024691358024692\n",
      "acceptance rate:  0.012087912087912088\n",
      "tensor([2.5996, 3.7177, 3.2211, 3.7496, 3.9117, 2.7883, 2.6819, 3.0406, 5.3834,\n",
      "        2.8718, 3.6760, 2.7492, 4.7021, 2.8575, 3.1295])\n",
      "tensor([ 4.0620,  6.4174, 16.3785, 11.4075, 91.8519, 54.3887, 26.8369, 31.3338,\n",
      "        12.3350, 64.7663,  6.9823, 64.2526, 93.1493, 42.1372, 46.7474])\n",
      "tensor([[ 3.,  6., 20., 10., 90., 55., 27., 27.,  4., 70.,  5., 66., 99., 40.,\n",
      "         45.]])\n",
      "tensor([[1., 1., 1., 1., 1., 1., 1., 1., 1., 1., 1., 1., 1., 1., 1.]])\n",
      "tensor([[ 2.4876,  5.1846, 10.0754,  6.1986,  7.5014,  2.5487,  2.1231, 12.4015,\n",
      "         47.0431, 16.2644,  6.9193,  3.7945, 26.1221,  4.8164,  4.7828]])\n"
     ]
    },
    {
     "data": {
      "application/vnd.jupyter.widget-view+json": {
       "model_id": "6710097acdff44ddbcb5f0f3db8b7bb6",
       "version_major": 2,
       "version_minor": 0
      },
      "text/plain": [
       "Drawing 1000 posterior samples:   0%|          | 0/1000 [00:00<?, ?it/s]"
      ]
     },
     "metadata": {},
     "output_type": "display_data"
    },
    {
     "name": "stdout",
     "output_type": "stream",
     "text": [
      "acceptance rate:  0.0\n"
     ]
    },
    {
     "name": "stderr",
     "output_type": "stream",
     "text": [
      "WARNING:root:Drawing samples from posterior to estimate the normalizing\n",
      "                        constant for `log_prob()`. However, only\n",
      "                        0% posterior samples are within the\n",
      "                        prior support. It may take a long time to collect the\n",
      "                        remaining 982 samples.\n",
      "                        Consider interrupting (Ctrl-C) and either basing the\n",
      "                        estimate of the normalizing constant on fewer samples (by\n",
      "                        calling `posterior.leakage_correction(x_o,\n",
      "                        num_rejection_samples=N)`, where `N` is the number of\n",
      "                        samples you want to base the\n",
      "                        estimate on (default N=10000), or not estimating the\n",
      "                        normalizing constant at all\n",
      "                        (`log_prob(..., norm_posterior=False)`. The latter will\n",
      "                        result in an unnormalized `log_prob()`.\n"
     ]
    },
    {
     "name": "stdout",
     "output_type": "stream",
     "text": [
      "acceptance rate:  0.0016363636363636363\n",
      "acceptance rate:  0.0016666666666666668\n",
      "acceptance rate:  0.0016129032258064516\n",
      "acceptance rate:  0.0015609756097560976\n",
      "acceptance rate:  0.0014705882352941176\n",
      "acceptance rate:  0.0014754098360655738\n",
      "acceptance rate:  0.0016056338028169015\n",
      "acceptance rate:  0.0016296296296296295\n",
      "acceptance rate:  0.0016483516483516484\n",
      "acceptance rate:  0.0016336633663366336\n",
      "acceptance rate:  0.0016396396396396397\n",
      "acceptance rate:  0.0016363636363636363\n",
      "acceptance rate:  0.001618320610687023\n",
      "acceptance rate:  0.0016170212765957447\n",
      "acceptance rate:  0.0016225165562913908\n",
      "acceptance rate:  0.0016894409937888199\n",
      "acceptance rate:  0.0016783625730994152\n",
      "acceptance rate:  0.0016408839779005525\n",
      "acceptance rate:  0.0016701570680628273\n",
      "acceptance rate:  0.0016666666666666668\n",
      "acceptance rate:  0.0016919431279620854\n",
      "acceptance rate:  0.001737556561085973\n",
      "acceptance rate:  0.001735930735930736\n",
      "acceptance rate:  0.0017427385892116183\n",
      "acceptance rate:  0.001745019920318725\n",
      "acceptance rate:  0.0017356321839080459\n",
      "acceptance rate:  0.0017712177121771218\n",
      "acceptance rate:  0.001804270462633452\n",
      "acceptance rate:  0.0017869415807560138\n",
      "acceptance rate:  0.0017641196013289037\n",
      "acceptance rate:  0.0017684887459807075\n",
      "acceptance rate:  0.001766355140186916\n",
      "acceptance rate:  0.001758308157099698\n",
      "acceptance rate:  0.0017653958944281525\n",
      "acceptance rate:  0.0017635327635327634\n",
      "acceptance rate:  0.001742382271468144\n",
      "acceptance rate:  0.0017439353099730458\n",
      "acceptance rate:  0.0017427821522309711\n",
      "acceptance rate:  0.0017544757033248082\n",
      "acceptance rate:  0.001768079800498753\n",
      "acceptance rate:  0.0017688564476885645\n",
      "acceptance rate:  0.0017743467933491687\n",
      "acceptance rate:  0.0017749419953596289\n",
      "acceptance rate:  0.001764172335600907\n",
      "acceptance rate:  0.0017605321507760533\n",
      "acceptance rate:  0.0017852494577006509\n",
      "acceptance rate:  0.0017813163481953291\n",
      "acceptance rate:  0.0017837837837837837\n",
      "acceptance rate:  0.0017678207739307535\n",
      "acceptance rate:  0.0017704590818363273\n",
      "acceptance rate:  0.0017788649706457925\n",
      "acceptance rate:  0.0017907869481765834\n",
      "acceptance rate:  0.0017909604519774011\n",
      "acceptance rate:  0.0017818853974121997\n",
      "acceptance rate:  0.0017695099818511796\n",
      "acceptance rate:  0.0017700534759358289\n",
      "acceptance rate:  0.0017635726795096323\n"
     ]
    },
    {
     "data": {
      "application/vnd.jupyter.widget-view+json": {
       "model_id": "dd13e4aa76744ba9bb5150b495d05c65",
       "version_major": 2,
       "version_minor": 0
      },
      "text/plain": [
       "Drawing 1000 posterior samples:   0%|          | 0/1000 [00:00<?, ?it/s]"
      ]
     },
     "metadata": {},
     "output_type": "display_data"
    },
    {
     "name": "stdout",
     "output_type": "stream",
     "text": [
      "acceptance rate:  0.0\n"
     ]
    },
    {
     "name": "stderr",
     "output_type": "stream",
     "text": [
      "WARNING:root:Drawing samples from posterior to estimate the normalizing\n",
      "                        constant for `log_prob()`. However, only\n",
      "                        0% posterior samples are within the\n",
      "                        prior support. It may take a long time to collect the\n",
      "                        remaining 983 samples.\n",
      "                        Consider interrupting (Ctrl-C) and either basing the\n",
      "                        estimate of the normalizing constant on fewer samples (by\n",
      "                        calling `posterior.leakage_correction(x_o,\n",
      "                        num_rejection_samples=N)`, where `N` is the number of\n",
      "                        samples you want to base the\n",
      "                        estimate on (default N=10000), or not estimating the\n",
      "                        normalizing constant at all\n",
      "                        (`log_prob(..., norm_posterior=False)`. The latter will\n",
      "                        result in an unnormalized `log_prob()`.\n"
     ]
    },
    {
     "name": "stdout",
     "output_type": "stream",
     "text": [
      "acceptance rate:  0.0015454545454545454\n",
      "acceptance rate:  0.0013333333333333333\n",
      "acceptance rate:  0.0013548387096774194\n",
      "acceptance rate:  0.0013414634146341464\n",
      "acceptance rate:  0.0014901960784313726\n",
      "acceptance rate:  0.0015409836065573771\n",
      "acceptance rate:  0.0015211267605633803\n",
      "acceptance rate:  0.0015802469135802468\n",
      "acceptance rate:  0.0015494505494505495\n",
      "acceptance rate:  0.0015841584158415843\n",
      "acceptance rate:  0.0016306306306306307\n",
      "acceptance rate:  0.0016115702479338842\n",
      "acceptance rate:  0.0015877862595419848\n",
      "acceptance rate:  0.0016170212765957447\n",
      "acceptance rate:  0.0016225165562913908\n",
      "acceptance rate:  0.0016211180124223602\n",
      "acceptance rate:  0.0016608187134502924\n",
      "acceptance rate:  0.0016685082872928178\n",
      "acceptance rate:  0.001680628272251309\n",
      "acceptance rate:  0.0017512437810945274\n",
      "acceptance rate:  0.0017109004739336493\n",
      "acceptance rate:  0.001737556561085973\n",
      "acceptance rate:  0.0017012987012987014\n",
      "acceptance rate:  0.0017012448132780083\n",
      "acceptance rate:  0.0017171314741035856\n",
      "acceptance rate:  0.0017318007662835248\n",
      "acceptance rate:  0.0017121771217712177\n",
      "acceptance rate:  0.001715302491103203\n",
      "acceptance rate:  0.0017010309278350515\n",
      "acceptance rate:  0.001697674418604651\n",
      "acceptance rate:  0.0017202572347266882\n",
      "acceptance rate:  0.0017289719626168223\n",
      "acceptance rate:  0.001743202416918429\n",
      "acceptance rate:  0.0017624633431085044\n",
      "acceptance rate:  0.0017692307692307693\n",
      "acceptance rate:  0.0017728531855955678\n",
      "acceptance rate:  0.0017762803234501348\n",
      "acceptance rate:  0.001769028871391076\n",
      "acceptance rate:  0.0017672634271099744\n",
      "acceptance rate:  0.0017730673316708229\n",
      "acceptance rate:  0.0017858880778588808\n",
      "acceptance rate:  0.0017814726840855108\n",
      "acceptance rate:  0.001777262180974478\n",
      "acceptance rate:  0.001764172335600907\n",
      "acceptance rate:  0.0017560975609756098\n",
      "acceptance rate:  0.0017462039045553145\n",
      "acceptance rate:  0.0017388535031847134\n",
      "acceptance rate:  0.0017442827442827444\n",
      "acceptance rate:  0.0017515274949083503\n",
      "acceptance rate:  0.0017584830339321357\n",
      "acceptance rate:  0.0017632093933463797\n",
      "acceptance rate:  0.0017677543186180422\n",
      "acceptance rate:  0.001760828625235405\n",
      "acceptance rate:  0.001765249537892791\n",
      "acceptance rate:  0.0017676950998185119\n",
      "acceptance rate:  0.0017664884135472371\n",
      "acceptance rate:  0.0017618213660245184\n",
      "tensor([1.6414, 1.9717, 1.6941, 3.0502, 2.8995, 1.5136, 2.5842, 1.6455, 2.1655,\n",
      "        1.8030, 2.5237, 1.9804, 1.2214, 1.3999, 1.7029])\n",
      "tensor([ 3.0377,  4.5061, 20.5791,  8.9140, 88.5413, 56.3756, 24.3968, 27.2550,\n",
      "         4.1929, 69.1938,  6.5572, 66.2267, 98.7103, 39.6375, 44.0956])\n",
      "tensor([[ 3.,  6., 20., 10., 90., 55., 27., 27.,  4., 70.,  5., 66., 99., 40.,\n",
      "         45.]])\n",
      "tensor([[1., 1., 1., 1., 1., 1., 1., 1., 1., 1., 1., 1., 1., 1., 1.]])\n",
      "tensor([[0.3522, 1.8808, 0.5755, 3.6265, 3.7029, 1.1772, 5.2779, 0.3884, 1.0907,\n",
      "         0.8610, 2.9713, 0.8034, 0.0879, 0.2092, 0.8266]])\n"
     ]
    },
    {
     "data": {
      "application/vnd.jupyter.widget-view+json": {
       "model_id": "b6435ad1baba4b058cd6c5e696587858",
       "version_major": 2,
       "version_minor": 0
      },
      "text/plain": [
       "Drawing 1000 posterior samples:   0%|          | 0/1000 [00:00<?, ?it/s]"
      ]
     },
     "metadata": {},
     "output_type": "display_data"
    },
    {
     "name": "stdout",
     "output_type": "stream",
     "text": [
      "acceptance rate:  0.19\n",
      "acceptance rate:  0.18509090909090908\n"
     ]
    },
    {
     "data": {
      "application/vnd.jupyter.widget-view+json": {
       "model_id": "19efe05986a24224bc6141fee98e7ebf",
       "version_major": 2,
       "version_minor": 0
      },
      "text/plain": [
       "Drawing 1000 posterior samples:   0%|          | 0/1000 [00:00<?, ?it/s]"
      ]
     },
     "metadata": {},
     "output_type": "display_data"
    },
    {
     "name": "stdout",
     "output_type": "stream",
     "text": [
      "acceptance rate:  0.189\n",
      "acceptance rate:  0.1869090909090909\n",
      "tensor([5.0738, 4.3679, 3.3659, 3.1686, 4.7141, 2.8345, 3.7443, 3.3322, 4.7962,\n",
      "        2.9793, 4.5592, 3.0123, 2.7309, 3.1202, 2.7996])\n",
      "tensor([14.8693,  9.2495, 24.1584, 18.8380, 78.2959, 57.6154, 31.3232, 24.6515,\n",
      "        17.6315, 63.5874, 11.6786, 61.2126, 96.9228, 39.7275, 42.3678])\n",
      "tensor([[ 3.,  6., 20., 10., 90., 55., 27., 27.,  4., 70.,  5., 66., 99., 40.,\n",
      "         45.]])\n",
      "tensor([[1., 1., 1., 1., 1., 1., 1., 1., 1., 1., 1., 1., 1., 1., 1.]])\n",
      "tensor([[ 81.1883,  12.8448,  12.5972,  42.4218,  77.5537,   5.8954,  14.5346,\n",
      "           6.6058, 102.3428,  23.4070,  30.6778,  14.3940,   4.3815,   3.2672,\n",
      "           5.8535]])\n"
     ]
    },
    {
     "data": {
      "application/vnd.jupyter.widget-view+json": {
       "model_id": "7a996009ac5147029bd978fc8e8f4ed6",
       "version_major": 2,
       "version_minor": 0
      },
      "text/plain": [
       "Drawing 1000 posterior samples:   0%|          | 0/1000 [00:00<?, ?it/s]"
      ]
     },
     "metadata": {},
     "output_type": "display_data"
    },
    {
     "name": "stdout",
     "output_type": "stream",
     "text": [
      "acceptance rate:  0.101\n",
      "acceptance rate:  0.09672727272727273\n"
     ]
    },
    {
     "data": {
      "application/vnd.jupyter.widget-view+json": {
       "model_id": "9aed4fe0ae41463bb0f5b8dbd9e5aa9e",
       "version_major": 2,
       "version_minor": 0
      },
      "text/plain": [
       "Drawing 1000 posterior samples:   0%|          | 0/1000 [00:00<?, ?it/s]"
      ]
     },
     "metadata": {},
     "output_type": "display_data"
    },
    {
     "name": "stdout",
     "output_type": "stream",
     "text": [
      "acceptance rate:  0.102\n",
      "acceptance rate:  0.09254545454545454\n",
      "tensor([3.3216, 3.4503, 4.1472, 4.4351, 5.1141, 3.0934, 3.6221, 2.7397, 4.7095,\n",
      "        2.9500, 3.7564, 2.4821, 3.8777, 2.5166, 1.8126])\n",
      "tensor([ 5.2617,  6.1671, 26.5816, 16.5862, 88.8892, 57.9360, 31.2067, 29.9650,\n",
      "        16.2972, 66.0543,  7.2501, 64.4432, 94.2517, 42.4822, 45.5898])\n",
      "tensor([[ 3.,  6., 20., 10., 90., 55., 27., 27.,  4., 70.,  5., 66., 99., 40.,\n",
      "         45.]])\n",
      "tensor([[1., 1., 1., 1., 1., 1., 1., 1., 1., 1., 1., 1., 1., 1., 1.]])\n",
      "tensor([[ 6.3735,  4.2278, 28.3356, 29.5344, 11.5618,  7.4655, 13.6210,  6.6407,\n",
      "         84.6507, 10.5538,  7.7634,  2.8832, 16.9362,  4.8245,  0.7219]])\n"
     ]
    },
    {
     "data": {
      "application/vnd.jupyter.widget-view+json": {
       "model_id": "4b66c185fa354f08bca308d215d2ab1b",
       "version_major": 2,
       "version_minor": 0
      },
      "text/plain": [
       "Drawing 1000 posterior samples:   0%|          | 0/1000 [00:00<?, ?it/s]"
      ]
     },
     "metadata": {},
     "output_type": "display_data"
    },
    {
     "name": "stdout",
     "output_type": "stream",
     "text": [
      "acceptance rate:  0.301\n",
      "acceptance rate:  0.28863636363636364\n"
     ]
    },
    {
     "data": {
      "application/vnd.jupyter.widget-view+json": {
       "model_id": "ea5eb582e8884e8ca91e4069f69cd4a6",
       "version_major": 2,
       "version_minor": 0
      },
      "text/plain": [
       "Drawing 1000 posterior samples:   0%|          | 0/1000 [00:00<?, ?it/s]"
      ]
     },
     "metadata": {},
     "output_type": "display_data"
    },
    {
     "name": "stdout",
     "output_type": "stream",
     "text": [
      "acceptance rate:  0.287\n",
      "acceptance rate:  0.2911818181818182\n",
      "tensor([2.8456, 2.9675, 3.4037, 4.9139, 3.8915, 2.8988, 3.0396, 2.8203, 5.1095,\n",
      "        2.6183, 3.9998, 2.1940, 6.6984, 2.4526, 3.0052])\n",
      "tensor([ 5.0652,  6.3784, 17.9859, 11.9836, 82.0421, 51.9037, 25.0526, 26.6034,\n",
      "         9.5885, 68.3798,  8.3630, 62.8850, 86.0995, 37.5326, 49.5845])\n",
      "tensor([[ 3.,  6., 20., 10., 90., 55., 27., 27.,  4., 70.,  5., 66., 99., 40.,\n",
      "         45.]])\n",
      "tensor([[1., 1., 1., 1., 1., 1., 1., 1., 1., 1., 1., 1., 1., 1., 1.]])\n",
      "tensor([[  4.6355,   2.8869,   6.0962,  11.9486,  37.3770,   7.4308,   4.9042,\n",
      "           2.5189,  26.5381,   3.2778,  11.7678,   5.9727, 103.2433,   4.6543,\n",
      "          13.4238]])\n"
     ]
    },
    {
     "data": {
      "application/vnd.jupyter.widget-view+json": {
       "model_id": "0a4dd16bf07d44e689bf8fc6b2a61063",
       "version_major": 2,
       "version_minor": 0
      },
      "text/plain": [
       "Drawing 1000 posterior samples:   0%|          | 0/1000 [00:00<?, ?it/s]"
      ]
     },
     "metadata": {},
     "output_type": "display_data"
    },
    {
     "name": "stdout",
     "output_type": "stream",
     "text": [
      "acceptance rate:  0.05\n",
      "acceptance rate:  0.04290909090909091\n",
      "acceptance rate:  0.042666666666666665\n",
      "acceptance rate:  0.04270967741935484\n"
     ]
    },
    {
     "data": {
      "application/vnd.jupyter.widget-view+json": {
       "model_id": "a56e045c3aac464996e115c9e97c3ae0",
       "version_major": 2,
       "version_minor": 0
      },
      "text/plain": [
       "Drawing 1000 posterior samples:   0%|          | 0/1000 [00:00<?, ?it/s]"
      ]
     },
     "metadata": {},
     "output_type": "display_data"
    },
    {
     "name": "stdout",
     "output_type": "stream",
     "text": [
      "acceptance rate:  0.046\n",
      "acceptance rate:  0.046636363636363636\n",
      "acceptance rate:  0.04623809523809524\n",
      "acceptance rate:  0.044064516129032255\n",
      "tensor([4.0611, 3.9574, 3.1377, 4.4628, 4.3620, 2.1447, 2.6676, 2.9651, 5.3803,\n",
      "        2.9813, 2.9365, 2.6487, 3.3910, 2.5151, 4.7599])\n",
      "tensor([ 7.3391,  7.3183, 20.1636, 19.3358, 92.3506, 54.8874, 27.5535, 30.0260,\n",
      "        10.5479, 66.7123,  4.7600, 62.6525, 94.7952, 40.2504, 42.4331])\n",
      "tensor([[ 3.,  6., 20., 10., 90., 55., 27., 27.,  4., 70.,  5., 66., 99., 40.,\n",
      "         45.]])\n",
      "tensor([[1., 1., 1., 1., 1., 1., 1., 1., 1., 1., 1., 1., 1., 1., 1.]])\n",
      "tensor([[15.7588,  6.8238,  3.2925, 51.5412, 10.3034,  1.0432,  2.2301,  7.3875,\n",
      "         33.7285,  8.2561,  2.7630,  7.6366, 12.8685,  1.7720, 12.5626]])\n"
     ]
    },
    {
     "data": {
      "application/vnd.jupyter.widget-view+json": {
       "model_id": "4aebae67623a4d01b7e2f42b74035941",
       "version_major": 2,
       "version_minor": 0
      },
      "text/plain": [
       "Drawing 1000 posterior samples:   0%|          | 0/1000 [00:00<?, ?it/s]"
      ]
     },
     "metadata": {},
     "output_type": "display_data"
    },
    {
     "name": "stdout",
     "output_type": "stream",
     "text": [
      "acceptance rate:  0.002\n"
     ]
    },
    {
     "name": "stderr",
     "output_type": "stream",
     "text": [
      "WARNING:root:Drawing samples from posterior to estimate the normalizing\n",
      "                        constant for `log_prob()`. However, only\n",
      "                        0% posterior samples are within the\n",
      "                        prior support. It may take a long time to collect the\n",
      "                        remaining 997 samples.\n",
      "                        Consider interrupting (Ctrl-C) and either basing the\n",
      "                        estimate of the normalizing constant on fewer samples (by\n",
      "                        calling `posterior.leakage_correction(x_o,\n",
      "                        num_rejection_samples=N)`, where `N` is the number of\n",
      "                        samples you want to base the\n",
      "                        estimate on (default N=10000), or not estimating the\n",
      "                        normalizing constant at all\n",
      "                        (`log_prob(..., norm_posterior=False)`. The latter will\n",
      "                        result in an unnormalized `log_prob()`.\n"
     ]
    },
    {
     "name": "stdout",
     "output_type": "stream",
     "text": [
      "acceptance rate:  0.00027272727272727274\n",
      "acceptance rate:  0.00019047619047619048\n",
      "acceptance rate:  0.00012903225806451613\n",
      "acceptance rate:  0.00012195121951219512\n",
      "acceptance rate:  0.00011764705882352942\n",
      "acceptance rate:  0.00013114754098360657\n",
      "acceptance rate:  0.00018309859154929577\n",
      "acceptance rate:  0.00018518518518518518\n",
      "acceptance rate:  0.00016483516483516484\n",
      "acceptance rate:  0.00019801980198019803\n",
      "acceptance rate:  0.00018018018018018018\n",
      "acceptance rate:  0.00019008264462809916\n",
      "acceptance rate:  0.00020610687022900762\n",
      "acceptance rate:  0.0002127659574468085\n",
      "acceptance rate:  0.0002251655629139073\n",
      "acceptance rate:  0.0002298136645962733\n",
      "acceptance rate:  0.0002280701754385965\n",
      "acceptance rate:  0.00023756906077348065\n",
      "acceptance rate:  0.0002617801047120419\n",
      "acceptance rate:  0.0002736318407960199\n",
      "acceptance rate:  0.0002796208530805687\n",
      "acceptance rate:  0.00029864253393665157\n",
      "acceptance rate:  0.0002987012987012987\n",
      "acceptance rate:  0.0003070539419087137\n",
      "acceptance rate:  0.0003147410358565737\n",
      "acceptance rate:  0.0003065134099616858\n",
      "acceptance rate:  0.0003062730627306273\n",
      "acceptance rate:  0.00030604982206405693\n",
      "acceptance rate:  0.0003161512027491409\n",
      "acceptance rate:  0.0003089700996677741\n",
      "acceptance rate:  0.0002990353697749196\n",
      "acceptance rate:  0.0002990654205607477\n",
      "acceptance rate:  0.00030513595166163144\n",
      "acceptance rate:  0.0002961876832844575\n",
      "acceptance rate:  0.00029344729344729344\n",
      "acceptance rate:  0.0002936288088642659\n",
      "acceptance rate:  0.00029649595687331536\n",
      "acceptance rate:  0.0003018372703412073\n",
      "acceptance rate:  0.00030179028132992325\n",
      "acceptance rate:  0.00030423940149625935\n",
      "acceptance rate:  0.00030413625304136254\n",
      "acceptance rate:  0.00030641330166270784\n",
      "acceptance rate:  0.00031322505800464035\n",
      "acceptance rate:  0.00031292517006802724\n",
      "acceptance rate:  0.0003148558758314856\n",
      "acceptance rate:  0.00031019522776572667\n",
      "acceptance rate:  0.0003121019108280255\n",
      "acceptance rate:  0.00030977130977130976\n",
      "acceptance rate:  0.0003054989816700611\n",
      "acceptance rate:  0.00030139720558882235\n",
      "acceptance rate:  0.00030136986301369865\n",
      "acceptance rate:  0.00029942418426103645\n",
      "acceptance rate:  0.0003032015065913371\n",
      "acceptance rate:  0.00029759704251386323\n",
      "acceptance rate:  0.000294010889292196\n",
      "acceptance rate:  0.00029590017825311944\n",
      "acceptance rate:  0.0002942206654991243\n",
      "acceptance rate:  0.00029432013769363166\n",
      "acceptance rate:  0.0002910321489001692\n",
      "acceptance rate:  0.00028785357737104824\n",
      "acceptance rate:  0.00028805237315875613\n",
      "acceptance rate:  0.0002882447665056361\n",
      "acceptance rate:  0.00028684627575277337\n",
      "acceptance rate:  0.0002886115444617785\n",
      "acceptance rate:  0.00028571428571428574\n",
      "acceptance rate:  0.0002859304084720121\n",
      "acceptance rate:  0.00028614008941877793\n",
      "acceptance rate:  0.00028781204111600587\n",
      "acceptance rate:  0.00028798842257597685\n",
      "acceptance rate:  0.00028815977175463623\n",
      "acceptance rate:  0.00028551336146272855\n",
      "acceptance rate:  0.000289875173370319\n",
      "acceptance rate:  0.0002886456908344733\n",
      "acceptance rate:  0.00028879892037786777\n",
      "acceptance rate:  0.00028761651131824234\n",
      "acceptance rate:  0.00028777923784494084\n",
      "acceptance rate:  0.00028534370946822307\n",
      "acceptance rate:  0.00028681177976952623\n",
      "acceptance rate:  0.00028571428571428574\n",
      "acceptance rate:  0.00028589263420724097\n",
      "acceptance rate:  0.00028606658446362514\n",
      "acceptance rate:  0.0002838002436053593\n",
      "acceptance rate:  0.0002815884476534296\n",
      "acceptance rate:  0.00028418549346016645\n",
      "acceptance rate:  0.00028319623971797886\n",
      "acceptance rate:  0.000281068524970964\n",
      "acceptance rate:  0.0002801377726750861\n",
      "acceptance rate:  0.00028376844494892167\n",
      "acceptance rate:  0.0002839506172839506\n",
      "acceptance rate:  0.00028412874583795783\n",
      "acceptance rate:  0.00028210757409440177\n",
      "acceptance rate:  0.0002823018458197611\n",
      "acceptance rate:  0.00028249194414607946\n",
      "acceptance rate:  0.000281615302869288\n",
      "acceptance rate:  0.0002818086225026288\n",
      "acceptance rate:  0.0002809573361082206\n",
      "acceptance rate:  0.0002790937178166838\n",
      "acceptance rate:  0.0002844036697247706\n",
      "acceptance rate:  0.00028254288597376386\n",
      "acceptance rate:  0.0002867132867132867\n",
      "acceptance rate:  0.00028486646884273\n",
      "acceptance rate:  0.00028795298726738493\n",
      "acceptance rate:  0.00028709990300678954\n",
      "acceptance rate:  0.00028626320845341017\n",
      "acceptance rate:  0.00028449096098953375\n",
      "acceptance rate:  0.00028463713477851085\n",
      "acceptance rate:  0.00028758169934640525\n",
      "acceptance rate:  0.00028677150786308975\n",
      "acceptance rate:  0.0002878093492208983\n",
      "acceptance rate:  0.0002861035422343324\n",
      "acceptance rate:  0.00028442844284428444\n",
      "acceptance rate:  0.00028545941123996434\n",
      "acceptance rate:  0.00028735632183908046\n",
      "acceptance rate:  0.00028746713409290097\n",
      "acceptance rate:  0.00028670721112076457\n",
      "acceptance rate:  0.0002859603789836348\n",
      "acceptance rate:  0.00028864218616567037\n",
      "acceptance rate:  0.00028789161727349705\n",
      "acceptance rate:  0.0002879932829554996\n",
      "acceptance rate:  0.00028726061615320567\n",
      "acceptance rate:  0.0002865400495458299\n",
      "acceptance rate:  0.0002882882882882883\n",
      "acceptance rate:  0.00028919577579203897\n",
      "acceptance rate:  0.00028928283642224014\n",
      "acceptance rate:  0.0002885691446842526\n",
      "acceptance rate:  0.0002894528152260111\n",
      "acceptance rate:  0.0002879622344610543\n",
      "acceptance rate:  0.0002888368462138954\n",
      "acceptance rate:  0.00028737412858249417\n",
      "acceptance rate:  0.0002859338970023059\n",
      "acceptance rate:  0.00028527841342486653\n",
      "acceptance rate:  0.0002853898561695685\n",
      "acceptance rate:  0.0002839969947407964\n",
      "acceptance rate:  0.00028411633109619685\n",
      "acceptance rate:  0.0002842339008142117\n",
      "acceptance rate:  0.00028361498897869214\n",
      "acceptance rate:  0.00028300510576221736\n",
      "acceptance rate:  0.0002838522809558291\n",
      "acceptance rate:  0.00028253055355859097\n",
      "acceptance rate:  0.0002833690221270521\n",
      "acceptance rate:  0.00028561304039688163\n",
      "acceptance rate:  0.00028430682617874733\n",
      "acceptance rate:  0.00028441649196366177\n",
      "acceptance rate:  0.00028452463566967383\n",
      "acceptance rate:  0.000284631288766368\n",
      "acceptance rate:  0.0002840520191649555\n",
      "acceptance rate:  0.00028619986403806934\n",
      "acceptance rate:  0.0002862930452397029\n",
      "acceptance rate:  0.00028571428571428574\n",
      "acceptance rate:  0.0002858094603597602\n",
      "acceptance rate:  0.00028457974851091994\n",
      "acceptance rate:  0.0002866535174227482\n",
      "acceptance rate:  0.0002860875244937949\n",
      "acceptance rate:  0.0002855288773523686\n",
      "acceptance rate:  0.00028433268858800773\n",
      "acceptance rate:  0.0002831518257527226\n",
      "acceptance rate:  0.00028325907065563337\n",
      "acceptance rate:  0.0002814674256799494\n",
      "acceptance rate:  0.0002822124450031427\n",
      "acceptance rate:  0.0002816989381636477\n",
      "acceptance rate:  0.00028181253879577903\n",
      "acceptance rate:  0.00028254164096236893\n",
      "acceptance rate:  0.0002832618025751073\n",
      "acceptance rate:  0.00028153564899451554\n",
      "acceptance rate:  0.0002816474863718958\n",
      "acceptance rate:  0.00028236002408187836\n",
      "acceptance rate:  0.00028067025733093955\n",
      "acceptance rate:  0.0002819750148720999\n",
      "acceptance rate:  0.00028208160851567123\n",
      "acceptance rate:  0.00028042328042328043\n",
      "acceptance rate:  0.0002805376972530684\n",
      "acceptance rate:  0.00027948866937826846\n",
      "acceptance rate:  0.00027902946273830154\n",
      "acceptance rate:  0.00028144744399770247\n",
      "acceptance rate:  0.00028098229583095374\n",
      "acceptance rate:  0.0002810902896081772\n",
      "acceptance rate:  0.0002795031055900621\n",
      "acceptance rate:  0.0002796181920269512\n",
      "acceptance rate:  0.00027917364600781687\n",
      "acceptance rate:  0.0002792892837312604\n",
      "acceptance rate:  0.0002799558255107675\n",
      "acceptance rate:  0.0002811641954969797\n",
      "acceptance rate:  0.0002807209175314036\n",
      "acceptance rate:  0.00028136882129277564\n",
      "acceptance rate:  0.0002814694759589411\n",
      "acceptance rate:  0.0002804943578721118\n",
      "acceptance rate:  0.00028006413682522715\n",
      "acceptance rate:  0.00027963849016480596\n",
      "acceptance rate:  0.0002797461660497091\n",
      "acceptance rate:  0.0002793266701735928\n",
      "acceptance rate:  0.0002783882783882784\n",
      "acceptance rate:  0.0002785007808433108\n",
      "acceptance rate:  0.0002791299844640083\n",
      "acceptance rate:  0.0002792375064399794\n",
      "acceptance rate:  0.0002798564838544336\n",
      "acceptance rate:  0.00027944926058133605\n",
      "acceptance rate:  0.0002800608828006088\n",
      "acceptance rate:  0.0002811711256940939\n",
      "acceptance rate:  0.00028327473631341033\n",
      "acceptance rate:  0.00028535732133933033\n",
      "acceptance rate:  0.00028443560417702637\n",
      "acceptance rate:  0.00028451261751608113\n",
      "acceptance rate:  0.0002845888724766125\n"
     ]
    },
    {
     "name": "stdout",
     "output_type": "stream",
     "text": [
      "acceptance rate:  0.0002836844683978442\n",
      "acceptance rate:  0.00028230131643100926\n",
      "acceptance rate:  0.0002828723920426977\n",
      "acceptance rate:  0.00028198937711250606\n",
      "acceptance rate:  0.00028207592503604035\n",
      "acceptance rate:  0.0002816834050693448\n",
      "acceptance rate:  0.0002827225130890052\n",
      "acceptance rate:  0.0002818569398389389\n",
      "acceptance rate:  0.000280999528524281\n",
      "acceptance rate:  0.00028015016424213986\n",
      "acceptance rate:  0.00028164409154600656\n",
      "acceptance rate:  0.00028172942817294283\n",
      "acceptance rate:  0.0002818139750115687\n",
      "acceptance rate:  0.00028420082911100877\n",
      "acceptance rate:  0.0002838147638697845\n",
      "acceptance rate:  0.00028343222272934736\n",
      "acceptance rate:  0.0002830531576556111\n",
      "acceptance rate:  0.00028267752148349165\n",
      "acceptance rate:  0.0002823052678973435\n",
      "acceptance rate:  0.0002819363514119229\n",
      "acceptance rate:  0.00028290941543953593\n",
      "acceptance rate:  0.00028342958685028877\n",
      "acceptance rate:  0.0002839451570101725\n",
      "acceptance rate:  0.00028313518273888154\n",
      "acceptance rate:  0.00028408592722490135\n",
      "acceptance rate:  0.00028371890004364906\n",
      "acceptance rate:  0.0002842242503259452\n",
      "acceptance rate:  0.00028472522717438336\n",
      "acceptance rate:  0.0002839293408013787\n",
      "acceptance rate:  0.00028356928356928357\n",
      "acceptance rate:  0.0002840666381888082\n",
      "acceptance rate:  0.00028370905997447893\n",
      "acceptance rate:  0.0002842016094875053\n",
      "acceptance rate:  0.0002834247153099958\n",
      "acceptance rate:  0.00028307433851322973\n",
      "acceptance rate:  0.0002831451275616897\n",
      "acceptance rate:  0.0002844648063306955\n",
      "acceptance rate:  0.0002849440066362505\n",
      "acceptance rate:  0.00028500619578686494\n",
      "acceptance rate:  0.0002846565199506376\n",
      "acceptance rate:  0.00028512904547316675\n",
      "acceptance rate:  0.0002843737250101999\n",
      "acceptance rate:  0.00028362454286875256\n",
      "acceptance rate:  0.00028247673006879804\n",
      "acceptance rate:  0.0002833534864973801\n",
      "acceptance rate:  0.0002830188679245283\n",
      "acceptance rate:  0.00028228708516593365\n",
      "acceptance rate:  0.0002827558741537236\n",
      "acceptance rate:  0.0002820309401031337\n",
      "acceptance rate:  0.000281706835242987\n",
      "acceptance rate:  0.0002813852813852814\n",
      "acceptance rate:  0.00028106624852998826\n",
      "acceptance rate:  0.00028074970714564624\n",
      "acceptance rate:  0.00028160248930377284\n",
      "acceptance rate:  0.0002828361100348702\n",
      "acceptance rate:  0.0002825164029332304\n",
      "acceptance rate:  0.0002825836216839677\n",
      "acceptance rate:  0.0002822673305247032\n",
      "acceptance rate:  0.00028309805417779476\n",
      "acceptance rate:  0.000282402128468263\n",
      "acceptance rate:  0.0002817114729269216\n",
      "acceptance rate:  0.0002810260279139947\n",
      "acceptance rate:  0.00028147313040210445\n",
      "acceptance rate:  0.0002811681018345189\n",
      "acceptance rate:  0.00028086534875046627\n",
      "acceptance rate:  0.0002809364548494983\n",
      "acceptance rate:  0.00028026656793780084\n",
      "acceptance rate:  0.00027960162301733676\n",
      "acceptance rate:  0.0002793090775450202\n",
      "acceptance rate:  0.0002790186744782131\n",
      "acceptance rate:  0.000279824881430135\n",
      "acceptance rate:  0.0002788077062886223\n",
      "acceptance rate:  0.0002781600869250272\n",
      "acceptance rate:  0.000277878022374594\n",
      "acceptance rate:  0.0002779575692197051\n",
      "acceptance rate:  0.0002776782515227517\n",
      "acceptance rate:  0.00027775794359157445\n",
      "acceptance rate:  0.00027819281394521523\n",
      "acceptance rate:  0.0002789790854306983\n",
      "acceptance rate:  0.0002790533380430943\n",
      "acceptance rate:  0.00027842309046110527\n",
      "acceptance rate:  0.00027849877236057525\n",
      "acceptance rate:  0.00027857392520097866\n",
      "acceptance rate:  0.0002783002438174852\n",
      "acceptance rate:  0.0002783755640402638\n",
      "acceptance rate:  0.0002787962642684192\n",
      "acceptance rate:  0.0002781799379524302\n",
      "acceptance rate:  0.00027825489522500857\n",
      "acceptance rate:  0.00028004108182129407\n",
      "acceptance rate:  0.0002797679972705561\n",
      "acceptance rate:  0.0002801768106086365\n",
      "acceptance rate:  0.00027922738054896647\n",
      "acceptance rate:  0.00027895981087470447\n",
      "acceptance rate:  0.0002783574554022215\n",
      "acceptance rate:  0.00027775914122777593\n",
      "acceptance rate:  0.0002771648278167837\n",
      "acceptance rate:  0.0002769076974341886\n",
      "acceptance rate:  0.00027632015941547657\n",
      "acceptance rate:  0.0002757365110890434\n",
      "acceptance rate:  0.0002751567139557902\n",
      "acceptance rate:  0.0002745807300230187\n",
      "acceptance rate:  0.0002740085217961324\n",
      "acceptance rate:  0.00027376674289447895\n",
      "acceptance rate:  0.00027352653858677957\n",
      "acceptance rate:  0.00027296332359623497\n",
      "acceptance rate:  0.00027272727272727274\n",
      "acceptance rate:  0.00027249274427604\n",
      "acceptance rate:  0.00027258116361298615\n",
      "acceptance rate:  0.00027202819609099647\n",
      "acceptance rate:  0.00027371446822101566\n",
      "acceptance rate:  0.0002734797835084368\n",
      "acceptance rate:  0.0002732465883846398\n",
      "acceptance rate:  0.0002730148687124328\n",
      "acceptance rate:  0.00027341532639545883\n",
      "acceptance rate:  0.0002728701666142722\n",
      "acceptance rate:  0.0002732685678470699\n",
      "acceptance rate:  0.00027303967510153076\n",
      "acceptance rate:  0.000272189349112426\n",
      "acceptance rate:  0.0002722756907792611\n",
      "acceptance rate:  0.000273290003095017\n",
      "acceptance rate:  0.0002746066029003394\n",
      "acceptance rate:  0.0002746847123961858\n",
      "acceptance rate:  0.0002738423796381478\n",
      "acceptance rate:  0.00027331091409354936\n",
      "acceptance rate:  0.00027339225845778725\n",
      "acceptance rate:  0.000273776967487086\n",
      "acceptance rate:  0.0002732505301423811\n",
      "acceptance rate:  0.00027272727272727274\n",
      "acceptance rate:  0.0002725082806383619\n",
      "acceptance rate:  0.0002719903932752927\n",
      "acceptance rate:  0.0002717749176893146\n",
      "acceptance rate:  0.0002721575649059982\n",
      "acceptance rate:  0.0002719428741445998\n",
      "acceptance rate:  0.0002714328092554138\n",
      "acceptance rate:  0.0002715173025732032\n",
      "acceptance rate:  0.0002716012975523444\n",
      "acceptance rate:  0.0002713907674213467\n",
      "acceptance rate:  0.0002711814717091762\n",
      "acceptance rate:  0.0002706810874013446\n",
      "acceptance rate:  0.00027076654036723986\n",
      "acceptance rate:  0.00027056088346410925\n",
      "acceptance rate:  0.00027035641842944075\n",
      "acceptance rate:  0.0002707310026004045\n",
      "acceptance rate:  0.00027052722558340537\n",
      "acceptance rate:  0.000269750071818443\n",
      "acceptance rate:  0.00027012317387568034\n",
      "acceptance rate:  0.0002699228791773779\n",
      "acceptance rate:  0.0002697237254343492\n",
      "acceptance rate:  0.0002695257029253053\n",
      "acceptance rate:  0.00026932880203908244\n",
      "acceptance rate:  0.0002694154193730585\n",
      "acceptance rate:  0.0002689383272317657\n",
      "acceptance rate:  0.0002681830946363381\n",
      "acceptance rate:  0.00026827219266311957\n",
      "acceptance rate:  0.00026947779949734713\n",
      "acceptance rate:  0.0002690058479532164\n",
      "acceptance rate:  0.00026936961955012495\n",
      "acceptance rate:  0.00026890058155635557\n",
      "acceptance rate:  0.000268157967412317\n",
      "acceptance rate:  0.0002693472872486918\n",
      "acceptance rate:  0.00026943147486954136\n",
      "acceptance rate:  0.00026896740619008493\n",
      "acceptance rate:  0.00026932532095055997\n",
      "acceptance rate:  0.0002694088804140561\n",
      "acceptance rate:  0.0002689486552567237\n",
      "acceptance rate:  0.00026930371173123816\n",
      "acceptance rate:  0.0002699270467441232\n",
      "acceptance rate:  0.00026946914578280785\n"
     ]
    },
    {
     "data": {
      "application/vnd.jupyter.widget-view+json": {
       "model_id": "cc9331b4075c4497ba1bf652d9e40c5e",
       "version_major": 2,
       "version_minor": 0
      },
      "text/plain": [
       "Drawing 1000 posterior samples:   0%|          | 0/1000 [00:00<?, ?it/s]"
      ]
     },
     "metadata": {},
     "output_type": "display_data"
    },
    {
     "name": "stdout",
     "output_type": "stream",
     "text": [
      "acceptance rate:  0.0\n"
     ]
    },
    {
     "name": "stderr",
     "output_type": "stream",
     "text": [
      "WARNING:root:Drawing samples from posterior to estimate the normalizing\n",
      "                        constant for `log_prob()`. However, only\n",
      "                        0% posterior samples are within the\n",
      "                        prior support. It may take a long time to collect the\n",
      "                        remaining 997 samples.\n",
      "                        Consider interrupting (Ctrl-C) and either basing the\n",
      "                        estimate of the normalizing constant on fewer samples (by\n",
      "                        calling `posterior.leakage_correction(x_o,\n",
      "                        num_rejection_samples=N)`, where `N` is the number of\n",
      "                        samples you want to base the\n",
      "                        estimate on (default N=10000), or not estimating the\n",
      "                        normalizing constant at all\n",
      "                        (`log_prob(..., norm_posterior=False)`. The latter will\n",
      "                        result in an unnormalized `log_prob()`.\n"
     ]
    },
    {
     "name": "stdout",
     "output_type": "stream",
     "text": [
      "acceptance rate:  0.00027272727272727274\n",
      "acceptance rate:  0.00038095238095238096\n",
      "acceptance rate:  0.00041935483870967743\n",
      "acceptance rate:  0.00046341463414634144\n",
      "acceptance rate:  0.0004509803921568627\n",
      "acceptance rate:  0.0004098360655737705\n",
      "acceptance rate:  0.00035211267605633805\n",
      "acceptance rate:  0.0003333333333333333\n",
      "acceptance rate:  0.00031868131868131866\n",
      "acceptance rate:  0.00030693069306930693\n",
      "acceptance rate:  0.0003243243243243243\n",
      "acceptance rate:  0.0003140495867768595\n",
      "acceptance rate:  0.0002900763358778626\n",
      "acceptance rate:  0.00028368794326241134\n",
      "acceptance rate:  0.0002781456953642384\n",
      "acceptance rate:  0.0002795031055900621\n",
      "acceptance rate:  0.0002865497076023392\n",
      "acceptance rate:  0.0002983425414364641\n",
      "acceptance rate:  0.0002879581151832461\n",
      "acceptance rate:  0.00028358208955223883\n",
      "acceptance rate:  0.00027014218009478676\n",
      "acceptance rate:  0.0002669683257918552\n",
      "acceptance rate:  0.0002683982683982684\n",
      "acceptance rate:  0.00026556016597510375\n",
      "acceptance rate:  0.00026294820717131476\n",
      "acceptance rate:  0.00026436781609195405\n",
      "acceptance rate:  0.0002656826568265683\n",
      "acceptance rate:  0.00026690391459074735\n",
      "acceptance rate:  0.00026460481099656357\n",
      "acceptance rate:  0.00026578073089701\n",
      "acceptance rate:  0.0002668810289389067\n",
      "acceptance rate:  0.0002710280373831776\n",
      "acceptance rate:  0.0002688821752265861\n",
      "acceptance rate:  0.00026392961876832845\n",
      "acceptance rate:  0.0002621082621082621\n",
      "acceptance rate:  0.00026038781163434903\n",
      "acceptance rate:  0.0002587601078167116\n",
      "acceptance rate:  0.00026771653543307086\n",
      "acceptance rate:  0.0002710997442455243\n",
      "acceptance rate:  0.00027182044887780546\n",
      "acceptance rate:  0.00026763990267639903\n",
      "acceptance rate:  0.0002684085510688836\n",
      "acceptance rate:  0.0002621809744779582\n",
      "acceptance rate:  0.0002653061224489796\n",
      "acceptance rate:  0.00025942350332594234\n",
      "acceptance rate:  0.00026247288503253796\n",
      "acceptance rate:  0.0002569002123142251\n",
      "acceptance rate:  0.0002536382536382536\n",
      "acceptance rate:  0.0002505091649694501\n",
      "acceptance rate:  0.000249500998003992\n",
      "acceptance rate:  0.00024853228962818004\n",
      "acceptance rate:  0.0002476007677543186\n",
      "acceptance rate:  0.00024858757062146895\n",
      "acceptance rate:  0.00025508317929759703\n",
      "acceptance rate:  0.00025952813067150636\n",
      "acceptance rate:  0.00026024955436720144\n",
      "acceptance rate:  0.0002574430823117338\n",
      "acceptance rate:  0.00025989672977624786\n",
      "acceptance rate:  0.000260575296108291\n",
      "acceptance rate:  0.0002678868552412646\n",
      "acceptance rate:  0.00026841243862520456\n",
      "acceptance rate:  0.0002640901771336554\n",
      "acceptance rate:  0.0002646592709984152\n",
      "acceptance rate:  0.0002636505460218409\n",
      "acceptance rate:  0.000261136712749616\n",
      "acceptance rate:  0.0002617246596066566\n",
      "acceptance rate:  0.00026527570789865873\n",
      "acceptance rate:  0.000262848751835536\n",
      "acceptance rate:  0.00026049204052098406\n",
      "acceptance rate:  0.00026248216833095575\n",
      "acceptance rate:  0.0002630098452883263\n",
      "acceptance rate:  0.0002621359223300971\n",
      "acceptance rate:  0.0002612859097127223\n",
      "acceptance rate:  0.00026180836707152496\n",
      "acceptance rate:  0.00025832223701731025\n",
      "acceptance rate:  0.0002549277266754271\n",
      "acceptance rate:  0.0002529182879377432\n",
      "acceptance rate:  0.00025480153649167734\n",
      "acceptance rate:  0.00025284450063211124\n",
      "acceptance rate:  0.0002521847690387016\n",
      "acceptance rate:  0.00024907521578298395\n",
      "acceptance rate:  0.0002509135200974421\n",
      "acceptance rate:  0.00025150421179302045\n",
      "acceptance rate:  0.00025802615933412604\n",
      "acceptance rate:  0.0002585193889541716\n",
      "acceptance rate:  0.0002578397212543554\n",
      "acceptance rate:  0.00025832376578645234\n",
      "acceptance rate:  0.0002576617480136209\n",
      "acceptance rate:  0.00025813692480359146\n",
      "acceptance rate:  0.0002586015538290788\n",
      "acceptance rate:  0.0002601536772777168\n",
      "acceptance rate:  0.00026167209554831705\n",
      "acceptance rate:  0.0002631578947368421\n",
      "acceptance rate:  0.0002614240170031881\n",
      "acceptance rate:  0.0002628811777076761\n",
      "acceptance rate:  0.0002611862643080125\n",
      "acceptance rate:  0.0002636457260556128\n",
      "acceptance rate:  0.00026197757390417943\n",
      "acceptance rate:  0.00026337033299697274\n",
      "acceptance rate:  0.0002667332667332667\n",
      "acceptance rate:  0.00026706231454005935\n",
      "acceptance rate:  0.0002664054848188051\n",
      "acceptance rate:  0.0002667313288069835\n",
      "acceptance rate:  0.000266090297790586\n",
      "acceptance rate:  0.00026450999048525215\n",
      "acceptance rate:  0.0002639019792648445\n",
      "acceptance rate:  0.0002661064425770308\n",
      "acceptance rate:  0.0002664199814986124\n",
      "acceptance rate:  0.0002676443629697525\n",
      "acceptance rate:  0.0002670299727520436\n",
      "acceptance rate:  0.00026912691269126914\n",
      "acceptance rate:  0.0002702943800178412\n",
      "acceptance rate:  0.0002696728558797524\n",
      "acceptance rate:  0.0002673093777388256\n",
      "acceptance rate:  0.00026672458731537795\n",
      "acceptance rate:  0.0002670111972437554\n",
      "acceptance rate:  0.0002681468830059778\n",
      "acceptance rate:  0.0002692633361558002\n",
      "acceptance rate:  0.00027120067170445\n",
      "acceptance rate:  0.0002714404662781016\n",
      "acceptance rate:  0.0002741535920726672\n",
      "acceptance rate:  0.0002735462735462735\n",
      "acceptance rate:  0.0002737611697806661\n",
      "acceptance rate:  0.000273972602739726\n",
      "acceptance rate:  0.0002749800159872102\n",
      "acceptance rate:  0.00027438540840602697\n",
      "acceptance rate:  0.0002753737214791503\n",
      "acceptance rate:  0.00027400468384074944\n",
      "acceptance rate:  0.0002718822618125484\n",
      "acceptance rate:  0.0002744043043812452\n",
      "acceptance rate:  0.0002768878718535469\n",
      "acceptance rate:  0.0002755488266464799\n",
      "acceptance rate:  0.0002742299023290759\n",
      "acceptance rate:  0.00027218493661446683\n",
      "acceptance rate:  0.00027239082161361955\n",
      "acceptance rate:  0.0002718589272593681\n",
      "acceptance rate:  0.0002727935813274982\n",
      "acceptance rate:  0.0002744388124547429\n",
      "acceptance rate:  0.0002753414809489576\n",
      "acceptance rate:  0.00027837259100642396\n",
      "acceptance rate:  0.00027923458540042524\n",
      "acceptance rate:  0.00027867698803659395\n",
      "acceptance rate:  0.00027812718378756115\n",
      "acceptance rate:  0.0002768910478834143\n",
      "acceptance rate:  0.0002756719503790489\n",
      "acceptance rate:  0.0002758384668035592\n",
      "acceptance rate:  0.00027668252889191024\n",
      "acceptance rate:  0.0002775151924375422\n",
      "acceptance rate:  0.0002763246143527834\n",
      "acceptance rate:  0.00027581612258494335\n",
      "acceptance rate:  0.00027597617471872933\n",
      "acceptance rate:  0.0002767915844838922\n",
      "acceptance rate:  0.000278902677988243\n",
      "acceptance rate:  0.00027774172615184945\n",
      "acceptance rate:  0.00027788523533204385\n",
      "acceptance rate:  0.0002786675208199872\n",
      "acceptance rate:  0.00027880330999363465\n",
      "acceptance rate:  0.000280202403542062\n",
      "acceptance rate:  0.0002815839094908862\n",
      "acceptance rate:  0.0002810743285446596\n",
      "acceptance rate:  0.00027932960893854746\n",
      "acceptance rate:  0.0002794571252313387\n",
      "acceptance rate:  0.00028142244022072346\n",
      "acceptance rate:  0.00028153564899451554\n",
      "acceptance rate:  0.0002828588734100545\n",
      "acceptance rate:  0.00028416616496086694\n",
      "acceptance rate:  0.00028426092160383\n",
      "acceptance rate:  0.00028494943486020226\n",
      "acceptance rate:  0.000283264340626848\n",
      "acceptance rate:  0.0002833627278071723\n",
      "acceptance rate:  0.00028287551139684396\n",
      "acceptance rate:  0.00028355607205113304\n",
      "acceptance rate:  0.0002824956672443674\n",
      "acceptance rate:  0.0002825962090752441\n",
      "acceptance rate:  0.0002826956025128498\n",
      "acceptance rate:  0.0002822260079500284\n",
      "acceptance rate:  0.00028289102202145683\n",
      "acceptance rate:  0.0002818641212801797\n",
      "acceptance rate:  0.0002830820770519263\n",
      "acceptance rate:  0.00028428650749583563\n",
      "acceptance rate:  0.00028326891220320266\n",
      "acceptance rate:  0.0002839099395936299\n",
      "acceptance rate:  0.00028399781540141997\n",
      "acceptance rate:  0.0002835415535035307\n",
      "acceptance rate:  0.0002836304700162075\n",
      "acceptance rate:  0.0002847931219774315\n",
      "acceptance rate:  0.0002843399251737039\n",
      "acceptance rate:  0.0002838915470494418\n",
      "acceptance rate:  0.0002850343733474352\n",
      "acceptance rate:  0.00028458705944239875\n",
      "acceptance rate:  0.0002846677132391418\n",
      "acceptance rate:  0.0002831858407079646\n",
      "acceptance rate:  0.0002827550491973071\n",
      "acceptance rate:  0.00028438948995363215\n",
      "acceptance rate:  0.00028344438749359303\n",
      "acceptance rate:  0.0002835288118306986\n",
      "acceptance rate:  0.00028411973617453067\n",
      "acceptance rate:  0.0002836951034830893\n",
      "acceptance rate:  0.0002827724761426419\n",
      "acceptance rate:  0.00028385807096451774\n",
      "acceptance rate:  0.0002839383391347588\n",
      "acceptance rate:  0.00028500742206828304\n",
      "acceptance rate:  0.00028557360905957655\n",
      "acceptance rate:  0.00028564429201371875\n"
     ]
    },
    {
     "name": "stdout",
     "output_type": "stream",
     "text": [
      "acceptance rate:  0.00028571428571428574\n",
      "acceptance rate:  0.00028626880155264436\n",
      "acceptance rate:  0.00028681796233703523\n",
      "acceptance rate:  0.0002859202306583373\n",
      "acceptance rate:  0.0002874222859875658\n",
      "acceptance rate:  0.0002879581151832461\n",
      "acceptance rate:  0.00028801515869256275\n",
      "acceptance rate:  0.0002876001885902876\n",
      "acceptance rate:  0.00028718911309244484\n",
      "acceptance rate:  0.00028678187762727695\n",
      "acceptance rate:  0.0002863784286378429\n",
      "acceptance rate:  0.0002869042110134197\n",
      "acceptance rate:  0.0002874251497005988\n",
      "acceptance rate:  0.0002874828060522696\n",
      "acceptance rate:  0.0002879963486992241\n",
      "acceptance rate:  0.00028895956383462063\n",
      "acceptance rate:  0.00028855721393034826\n",
      "acceptance rate:  0.00028770823953174244\n",
      "acceptance rate:  0.000287315105333931\n",
      "acceptance rate:  0.00028781793842034805\n",
      "acceptance rate:  0.00028831630386494893\n",
      "acceptance rate:  0.0002892525431225122\n",
      "acceptance rate:  0.0002901805372082783\n",
      "acceptance rate:  0.0002897851819377466\n",
      "acceptance rate:  0.000289393278044522\n",
      "acceptance rate:  0.0002894393741851369\n",
      "acceptance rate:  0.0002899177845088706\n",
      "acceptance rate:  0.0002908229211546747\n",
      "acceptance rate:  0.00029000429000429\n",
      "acceptance rate:  0.00029047415634344295\n",
      "acceptance rate:  0.00029136537643555935\n",
      "acceptance rate:  0.0002914019483269801\n",
      "acceptance rate:  0.00029143821172501055\n",
      "acceptance rate:  0.0002918941621167577\n",
      "acceptance rate:  0.00029150982852363025\n",
      "acceptance rate:  0.0002923781757601\n",
      "acceptance rate:  0.00029199502281211117\n",
      "acceptance rate:  0.00029202808756712104\n",
      "acceptance rate:  0.0002924722336487042\n",
      "acceptance rate:  0.00029373207701761575\n",
      "acceptance rate:  0.0002941656466748266\n",
      "acceptance rate:  0.0002937830150345388\n",
      "acceptance rate:  0.0002934034803723189\n",
      "acceptance rate:  0.00029222087867795244\n",
      "acceptance rate:  0.0002914492171818547\n",
      "acceptance rate:  0.00029108356657337066\n",
      "acceptance rate:  0.00028992433293508564\n",
      "acceptance rate:  0.0002895676318921063\n",
      "acceptance rate:  0.0002900039510075069\n",
      "acceptance rate:  0.00028964974419519874\n",
      "acceptance rate:  0.0002900823206585653\n",
      "acceptance rate:  0.0002901210464662241\n",
      "acceptance rate:  0.00029015947102294825\n",
      "acceptance rate:  0.000289422704378148\n",
      "acceptance rate:  0.00028984947896565035\n",
      "acceptance rate:  0.0002902729719338716\n",
      "acceptance rate:  0.0002906932209881272\n",
      "acceptance rate:  0.0002911102632582984\n",
      "acceptance rate:  0.00029076396807297604\n",
      "acceptance rate:  0.0002919348731541083\n",
      "acceptance rate:  0.0002923425122595247\n",
      "acceptance rate:  0.00029237128898910184\n",
      "acceptance rate:  0.0002920254586297267\n",
      "acceptance rate:  0.00029242819843342037\n",
      "acceptance rate:  0.00029134150873281307\n",
      "acceptance rate:  0.0002913735653461681\n",
      "acceptance rate:  0.0002914053854666175\n",
      "acceptance rate:  0.0002910694597574421\n",
      "acceptance rate:  0.0002907359941413402\n",
      "acceptance rate:  0.00029076979204669827\n",
      "acceptance rate:  0.0002908033442384587\n",
      "acceptance rate:  0.0002901122781600869\n",
      "acceptance rate:  0.00029086972212197763\n",
      "acceptance rate:  0.0002901833872707659\n",
      "acceptance rate:  0.00029165173772841273\n",
      "acceptance rate:  0.00029132452695465903\n",
      "acceptance rate:  0.00029171113482746354\n",
      "acceptance rate:  0.00029174051754696917\n",
      "acceptance rate:  0.0002924761568350406\n",
      "acceptance rate:  0.0002925026399155227\n",
      "acceptance rate:  0.0002918274289722904\n",
      "acceptance rate:  0.0002918559944075498\n",
      "acceptance rate:  0.00029118773946360156\n",
      "acceptance rate:  0.00029121832696980213\n",
      "acceptance rate:  0.00029055690072639226\n",
      "acceptance rate:  0.0002905894519131334\n",
      "acceptance rate:  0.0002899347303332188\n",
      "acceptance rate:  0.0002903115371448134\n",
      "acceptance rate:  0.00029034459228932105\n",
      "acceptance rate:  0.00029003740224413464\n",
      "acceptance rate:  0.0002893934259573026\n",
      "acceptance rate:  0.00028942924687605536\n",
      "acceptance rate:  0.0002891282396499495\n",
      "acceptance rate:  0.00028950016772895\n",
      "acceptance rate:  0.00028986960882647946\n",
      "acceptance rate:  0.00028957014328557146\n",
      "acceptance rate:  0.0002892726668880771\n",
      "acceptance rate:  0.00028897715988083415\n",
      "acceptance rate:  0.0002890135268888156\n",
      "acceptance rate:  0.00028872081552121015\n",
      "acceptance rate:  0.00028875778433300555\n",
      "acceptance rate:  0.00028846782097353805\n",
      "acceptance rate:  0.00028948225333767503\n",
      "acceptance rate:  0.0002898409607270367\n",
      "acceptance rate:  0.00028955030734390165\n",
      "acceptance rate:  0.00028958400515962594\n",
      "acceptance rate:  0.00028961748633879784\n",
      "acceptance rate:  0.00028965075296379366\n",
      "acceptance rate:  0.00029032258064516127\n",
      "acceptance rate:  0.0002913085004775549\n",
      "acceptance rate:  0.00029165344335131704\n",
      "acceptance rate:  0.0002910471369819677\n",
      "acceptance rate:  0.00029076001261431724\n",
      "acceptance rate:  0.0002904746934926124\n",
      "acceptance rate:  0.00028956439987464747\n",
      "acceptance rate:  0.00028990940331146515\n",
      "acceptance rate:  0.0002893179694799128\n",
      "acceptance rate:  0.00029028252095622477\n",
      "acceptance rate:  0.0002893840916125039\n",
      "acceptance rate:  0.00028910829990743596\n",
      "acceptance rate:  0.0002894494001845586\n",
      "acceptance rate:  0.0002894817540631708\n",
      "acceptance rate:  0.00028890247630693975\n",
      "acceptance rate:  0.0002883267296555928\n",
      "acceptance rate:  0.00028775448192038894\n",
      "acceptance rate:  0.00028718570130263556\n",
      "acceptance rate:  0.00028752642706131076\n",
      "acceptance rate:  0.00028786510087323093\n",
      "acceptance rate:  0.00028850195136595616\n",
      "acceptance rate:  0.00028793774319066146\n",
      "acceptance rate:  0.00028797373918233363\n",
      "acceptance rate:  0.00028800952097590005\n",
      "acceptance rate:  0.0002886383862355384\n",
      "acceptance rate:  0.0002880804495711328\n",
      "acceptance rate:  0.0002881156001179593\n",
      "acceptance rate:  0.00028844457512496323\n",
      "acceptance rate:  0.00028789211374963356\n",
      "acceptance rate:  0.00028821981876644254\n",
      "acceptance rate:  0.0002882541533080734\n",
      "acceptance rate:  0.0002882882882882883\n",
      "acceptance rate:  0.00028774268328020863\n",
      "acceptance rate:  0.0002874891649812193\n",
      "acceptance rate:  0.00028752520887352347\n",
      "acceptance rate:  0.0002869864981327205\n",
      "acceptance rate:  0.0002864508736751647\n",
      "tensor([4.4531, 3.3688, 3.1108, 3.5426, 3.9853, 1.8355, 2.9160, 4.0372, 3.9398,\n",
      "        2.6159, 3.9735, 2.6840, 2.2108, 3.0710, 2.0582])\n",
      "tensor([ 7.8664,  7.5266, 22.6052, 14.5182, 84.8280, 56.1099, 28.8064, 27.8026,\n",
      "         7.9827, 68.2316,  7.4851, 63.8803, 97.5429, 40.5986, 47.3745])\n",
      "tensor([[ 3.,  6., 20., 10., 90., 55., 27., 27.,  4., 70.,  5., 66., 99., 40.,\n",
      "         45.]])\n",
      "tensor([[1., 1., 1., 1., 1., 1., 1., 1., 1., 1., 1., 1., 1., 1., 1.]])\n",
      "tensor([[19.7625,  5.1251,  6.5972, 14.7172, 19.4334,  1.1931,  4.3130,  6.5759,\n",
      "         13.8211,  3.5235,  9.1025,  4.3612,  2.2120,  3.2727,  3.7153]])\n"
     ]
    },
    {
     "data": {
      "application/vnd.jupyter.widget-view+json": {
       "model_id": "39c6af27f39d4f59922eae3a012315dc",
       "version_major": 2,
       "version_minor": 0
      },
      "text/plain": [
       "Drawing 1000 posterior samples:   0%|          | 0/1000 [00:00<?, ?it/s]"
      ]
     },
     "metadata": {},
     "output_type": "display_data"
    },
    {
     "name": "stdout",
     "output_type": "stream",
     "text": [
      "acceptance rate:  0.058\n",
      "acceptance rate:  0.05590909090909091\n",
      "acceptance rate:  0.05433333333333333\n"
     ]
    },
    {
     "data": {
      "application/vnd.jupyter.widget-view+json": {
       "model_id": "7634099eb921474fbe8ed1cbac2ea63b",
       "version_major": 2,
       "version_minor": 0
      },
      "text/plain": [
       "Drawing 1000 posterior samples:   0%|          | 0/1000 [00:00<?, ?it/s]"
      ]
     },
     "metadata": {},
     "output_type": "display_data"
    },
    {
     "name": "stdout",
     "output_type": "stream",
     "text": [
      "acceptance rate:  0.044\n",
      "acceptance rate:  0.05063636363636364\n",
      "acceptance rate:  0.051476190476190474\n",
      "tensor([3.4409, 3.6671, 3.4849, 3.3874, 3.5923, 2.0367, 2.5587, 2.5018, 4.6754,\n",
      "        2.3342, 3.6663, 2.4159, 3.3713, 2.2513, 2.1058])\n",
      "tensor([ 6.2996,  7.4453, 24.0981,  9.2124, 93.0414, 55.2344, 25.3842, 28.6024,\n",
      "        16.4141, 66.7504,  6.4752, 67.5218, 95.5529, 40.2324, 47.2429])\n",
      "tensor([[ 3.,  6., 20., 10., 90., 55., 27., 27.,  4., 70.,  5., 66., 99., 40.,\n",
      "         45.]])\n",
      "tensor([[1., 1., 1., 1., 1., 1., 1., 1., 1., 1., 1., 1., 1., 1., 1.]])\n",
      "tensor([[ 9.6277,  5.9689, 12.7211,  4.3273,  9.2984,  0.8902,  3.1393,  2.9962,\n",
      "         85.9421,  6.6567,  6.0097,  2.6941,  9.9087,  1.2498,  3.4877]])\n"
     ]
    }
   ],
   "source": [
    "\n",
    "analytic = torch.distributions.normal.Normal(true_thetas, 1)\n",
    "\n",
    "\n",
    "overall_snpe_list = []\n",
    "\n",
    "variance_list_snpe = []\n",
    "\n",
    "mean_list_snpe = []\n",
    "\n",
    "\n",
    "## for round\n",
    "for posterior_snpe_list in list_collection:\n",
    "    \n",
    "    KL_snpe = []\n",
    "    KL_snpe_1d = []\n",
    "    \n",
    "    \n",
    "    ## for number of simulations\n",
    "    for posterior_snpe in posterior_snpe_list:\n",
    "\n",
    "\n",
    "        #KL = KLdivergence(posterior_snpe, sample_y)\n",
    "        KL, var_x, mu_x = KL_Gauss(posterior_snpe, analytic)\n",
    "        \n",
    "        variance_list_snpe.append(var_x)\n",
    "        \n",
    "        mean_list_snpe.append(mu_x)\n",
    "\n",
    "\n",
    "        KL_1d = calc_KL_1d(posterior_snpe, analytic)\n",
    "\n",
    "        KL_snpe_1d.append(KL_1d)\n",
    "\n",
    "        #KL_snpe_sum.append(sum_KL)\n",
    "\n",
    "        KL_snpe.append(KL)\n",
    "        \n",
    "    overall_snpe_list.append(KL_snpe)\n",
    "\n",
    "\n",
    "    \n",
    "    "
   ]
  },
  {
   "cell_type": "code",
   "execution_count": 42,
   "id": "f68ad23e",
   "metadata": {},
   "outputs": [
    {
     "data": {
      "application/vnd.jupyter.widget-view+json": {
       "model_id": "7e2a70cc7c464061a4aff9f050a158b9",
       "version_major": 2,
       "version_minor": 0
      },
      "text/plain": [
       "Drawing 1000 posterior samples:   0%|          | 0/1000 [00:00<?, ?it/s]"
      ]
     },
     "metadata": {},
     "output_type": "display_data"
    },
    {
     "name": "stdout",
     "output_type": "stream",
     "text": [
      "acceptance rate:  0.61\n",
      "acceptance rate:  0.613909090909091\n",
      "theta posteriorrr tensor([[ 4.2914, 23.9873, 40.6618,  4.7151, 78.9535],\n",
      "        [ 9.1233,  2.8306, 19.8608,  3.8077, 86.7530],\n",
      "        [ 5.7661,  4.5417, 17.1467, 13.1259, 85.1850],\n",
      "        ...,\n",
      "        [10.8732,  5.1786, 20.0839, 15.5479, 83.4203],\n",
      "        [ 6.8648,  2.4570, 16.5986, 12.8319, 85.6846],\n",
      "        [ 4.2677,  2.3060, 13.1568, 18.1874, 85.6479]]) torch.Size([1000, 5])\n"
     ]
    },
    {
     "data": {
      "application/vnd.jupyter.widget-view+json": {
       "model_id": "8abd7fbb26724715acfc3910aa1f7e3d",
       "version_major": 2,
       "version_minor": 0
      },
      "text/plain": [
       "Drawing 1000 posterior samples:   0%|          | 0/1000 [00:00<?, ?it/s]"
      ]
     },
     "metadata": {},
     "output_type": "display_data"
    },
    {
     "name": "stdout",
     "output_type": "stream",
     "text": [
      "acceptance rate:  1.0\n",
      "theta posteriorrr tensor([[57.3223, 18.1881, 30.1697,  1.9216, 67.7439],\n",
      "        [58.2937, 29.8019, 13.1278,  1.0739, 74.3298],\n",
      "        [56.2587, 26.8522, 11.3820,  1.5427, 65.8204],\n",
      "        ...,\n",
      "        [55.3976, 20.0507, 26.2858,  8.1752, 74.6184],\n",
      "        [53.9048, 24.4433, 24.8613, 10.7421, 68.0542],\n",
      "        [46.8098, 25.4547, 29.8111, 11.4255, 67.5672]]) torch.Size([1000, 5])\n"
     ]
    },
    {
     "data": {
      "application/vnd.jupyter.widget-view+json": {
       "model_id": "938814253d5e4386b5d3dfed2ffb5f1f",
       "version_major": 2,
       "version_minor": 0
      },
      "text/plain": [
       "Drawing 1000 posterior samples:   0%|          | 0/1000 [00:00<?, ?it/s]"
      ]
     },
     "metadata": {},
     "output_type": "display_data"
    },
    {
     "name": "stdout",
     "output_type": "stream",
     "text": [
      "acceptance rate:  1.0\n",
      "theta posteriorrr tensor([[  9.1808,  68.2982, 101.1536,  38.2824,  43.3297],\n",
      "        [  4.9888,  76.5140,  93.8185,  46.1536,  38.6982],\n",
      "        [  8.8574,  73.0931,  88.9295,  42.6629,  44.9116],\n",
      "        ...,\n",
      "        [ 13.1791,  65.1941,  98.9667,  41.9958,  40.1921],\n",
      "        [ -4.9737,  78.0830, 102.8889,  46.2266,  40.3025],\n",
      "        [ -3.5660,  66.3639, 105.2964,  41.6283,  41.3501]]) torch.Size([1000, 5])\n"
     ]
    },
    {
     "data": {
      "application/vnd.jupyter.widget-view+json": {
       "model_id": "a6347d12b6824719ac9a68b6a6542c55",
       "version_major": 2,
       "version_minor": 0
      },
      "text/plain": [
       "Drawing 1000 posterior samples:   0%|          | 0/1000 [00:00<?, ?it/s]"
      ]
     },
     "metadata": {},
     "output_type": "display_data"
    },
    {
     "name": "stdout",
     "output_type": "stream",
     "text": [
      "acceptance rate:  0.453\n",
      "acceptance rate:  0.44072727272727275\n",
      "theta posteriorrr tensor([[ 5.1292,  6.7212, 20.5021,  7.5026, 87.5019],\n",
      "        [ 7.7600, 16.2206, 17.3976, 20.2120, 88.8042],\n",
      "        [ 7.1429,  8.2699, 20.9019, 10.5112, 89.4335],\n",
      "        ...,\n",
      "        [ 7.6004, 15.9253, 24.5062, 16.7848, 85.0437],\n",
      "        [ 2.9392, 13.8877, 16.0841, 10.9862, 89.5391],\n",
      "        [ 6.4676,  4.3468, 16.7704, 16.8822, 91.4241]]) torch.Size([1000, 5])\n"
     ]
    },
    {
     "data": {
      "application/vnd.jupyter.widget-view+json": {
       "model_id": "d37e2a43e865475b9f25ca1b84e0036e",
       "version_major": 2,
       "version_minor": 0
      },
      "text/plain": [
       "Drawing 1000 posterior samples:   0%|          | 0/1000 [00:00<?, ?it/s]"
      ]
     },
     "metadata": {},
     "output_type": "display_data"
    },
    {
     "name": "stdout",
     "output_type": "stream",
     "text": [
      "acceptance rate:  1.0\n",
      "theta posteriorrr tensor([[57.6262, 29.4854, 25.4449, 10.3672, 75.9909],\n",
      "        [53.9713, 29.8176, 23.3932, 10.7042, 69.3037],\n",
      "        [47.7522, 36.3435, 23.2072, -0.3211, 67.8165],\n",
      "        ...,\n",
      "        [56.7992, 38.6584, 22.1947,  6.5327, 67.2117],\n",
      "        [56.5772, 24.1842, 24.3877,  7.5389, 62.3053],\n",
      "        [54.5415, 27.9044, 28.4175, 12.2087, 67.2865]]) torch.Size([1000, 5])\n"
     ]
    },
    {
     "data": {
      "application/vnd.jupyter.widget-view+json": {
       "model_id": "975f29915c824f95b7eee1b63222a964",
       "version_major": 2,
       "version_minor": 0
      },
      "text/plain": [
       "Drawing 1000 posterior samples:   0%|          | 0/1000 [00:00<?, ?it/s]"
      ]
     },
     "metadata": {},
     "output_type": "display_data"
    },
    {
     "name": "stdout",
     "output_type": "stream",
     "text": [
      "acceptance rate:  1.0\n",
      "theta posteriorrr tensor([[  5.8050,  66.5106, 101.7941,  42.4808,  45.8436],\n",
      "        [  1.9603,  61.7522, 104.0200,  39.0012,  41.7065],\n",
      "        [  6.5707,  55.8325,  99.2339,  45.5802,  47.2537],\n",
      "        ...,\n",
      "        [  3.6645,  66.5915, 101.8851,  40.4215,  47.6716],\n",
      "        [  7.8568,  59.8762,  99.8324,  37.2198,  36.1750],\n",
      "        [  8.7310,  60.8247,  85.8994,  39.3631,  45.8597]]) torch.Size([1000, 5])\n"
     ]
    },
    {
     "data": {
      "application/vnd.jupyter.widget-view+json": {
       "model_id": "1c0a70dd789f4b1db5070225e068093a",
       "version_major": 2,
       "version_minor": 0
      },
      "text/plain": [
       "Drawing 1000 posterior samples:   0%|          | 0/1000 [00:00<?, ?it/s]"
      ]
     },
     "metadata": {},
     "output_type": "display_data"
    },
    {
     "name": "stdout",
     "output_type": "stream",
     "text": [
      "acceptance rate:  0.512\n",
      "acceptance rate:  0.5019090909090909\n",
      "theta posteriorrr tensor([[ 7.9446,  4.8690, 20.3842, 19.6911, 89.7527],\n",
      "        [ 1.2988,  4.5474, 27.1628, 10.2165, 83.0392],\n",
      "        [ 3.3326,  2.1195, 25.9283, 15.9633, 90.7386],\n",
      "        ...,\n",
      "        [ 9.8079,  8.4419, 26.0337,  7.0182, 86.1234],\n",
      "        [11.2078,  6.0602, 29.1692, 12.8557, 84.2568],\n",
      "        [10.7279, 10.5542, 17.8048, 14.0905, 89.5113]]) torch.Size([1000, 5])\n"
     ]
    },
    {
     "data": {
      "application/vnd.jupyter.widget-view+json": {
       "model_id": "ae6c4d781e80495d84ace3655a5344cc",
       "version_major": 2,
       "version_minor": 0
      },
      "text/plain": [
       "Drawing 1000 posterior samples:   0%|          | 0/1000 [00:00<?, ?it/s]"
      ]
     },
     "metadata": {},
     "output_type": "display_data"
    },
    {
     "name": "stdout",
     "output_type": "stream",
     "text": [
      "acceptance rate:  1.0\n",
      "theta posteriorrr tensor([[50.3234, 17.0163, 27.8868,  2.4663, 70.6323],\n",
      "        [53.4720, 17.1005, 24.9589,  9.2644, 63.5925],\n",
      "        [54.9862, 28.9734, 22.8206,  8.4113, 68.0791],\n",
      "        ...,\n",
      "        [60.0376, 25.5453, 30.6452, 10.2927, 64.2699],\n",
      "        [58.2386, 26.2214, 33.6513,  4.7329, 70.8889],\n",
      "        [59.5957, 27.9884, 28.2170,  8.8927, 64.6251]]) torch.Size([1000, 5])\n"
     ]
    },
    {
     "data": {
      "application/vnd.jupyter.widget-view+json": {
       "model_id": "46edb751b343401eaaa1a7ab94ead0d9",
       "version_major": 2,
       "version_minor": 0
      },
      "text/plain": [
       "Drawing 1000 posterior samples:   0%|          | 0/1000 [00:00<?, ?it/s]"
      ]
     },
     "metadata": {},
     "output_type": "display_data"
    },
    {
     "name": "stdout",
     "output_type": "stream",
     "text": [
      "acceptance rate:  1.0\n",
      "theta posteriorrr tensor([[  7.5911,  72.4165,  93.0648,  44.0647,  43.3448],\n",
      "        [  7.3951,  68.0815,  96.8372,  31.0197,  38.9998],\n",
      "        [  2.0118,  65.8425,  95.3774,  41.5085,  45.3886],\n",
      "        ...,\n",
      "        [  9.9056,  61.8026,  97.7154,  29.7874,  43.3492],\n",
      "        [  8.8978,  66.4047, 105.3417,  48.5321,  45.4763],\n",
      "        [  9.2989,  60.5226,  92.4447,  40.5410,  41.6292]]) torch.Size([1000, 5])\n"
     ]
    },
    {
     "data": {
      "application/vnd.jupyter.widget-view+json": {
       "model_id": "0e9928d94b0149c7ada15f427ffb3eee",
       "version_major": 2,
       "version_minor": 0
      },
      "text/plain": [
       "Drawing 1000 posterior samples:   0%|          | 0/1000 [00:00<?, ?it/s]"
      ]
     },
     "metadata": {},
     "output_type": "display_data"
    },
    {
     "name": "stdout",
     "output_type": "stream",
     "text": [
      "acceptance rate:  0.568\n",
      "acceptance rate:  0.5375454545454545\n",
      "theta posteriorrr tensor([[ 8.0309, 12.5927, 26.2963, 11.8823, 86.2054],\n",
      "        [ 3.0541,  7.0212, 24.8095,  3.3990, 87.7395],\n",
      "        [ 4.7267, 11.9729, 25.1538, 14.4457, 93.3190],\n",
      "        ...,\n",
      "        [ 3.4376,  4.2890, 22.2438, 12.8098, 83.7099],\n",
      "        [ 8.8078, 10.8059, 14.7358, 13.9245, 80.9780],\n",
      "        [ 2.1244,  9.3494, 27.7027, 13.9347, 75.1084]]) torch.Size([1000, 5])\n"
     ]
    },
    {
     "data": {
      "application/vnd.jupyter.widget-view+json": {
       "model_id": "e488225444414e97b2b5210c67e30c3e",
       "version_major": 2,
       "version_minor": 0
      },
      "text/plain": [
       "Drawing 1000 posterior samples:   0%|          | 0/1000 [00:00<?, ?it/s]"
      ]
     },
     "metadata": {},
     "output_type": "display_data"
    },
    {
     "name": "stdout",
     "output_type": "stream",
     "text": [
      "acceptance rate:  1.0\n",
      "theta posteriorrr tensor([[57.6853, 30.1399, 29.5319,  2.4292, 68.0774],\n",
      "        [53.8966, 26.8320, 23.0758,  6.8515, 62.9681],\n",
      "        [50.7590, 29.1712, 31.1108,  0.9658, 60.1783],\n",
      "        ...,\n",
      "        [58.6995, 25.0957, 28.0088, -3.1776, 66.6061],\n",
      "        [57.6086, 26.3278, 31.2881,  9.9800, 68.7740],\n",
      "        [54.8263, 25.8874, 31.8211, 10.5348, 68.3447]]) torch.Size([1000, 5])\n"
     ]
    },
    {
     "data": {
      "application/vnd.jupyter.widget-view+json": {
       "model_id": "616043292b28466c9323a27c652dc7fc",
       "version_major": 2,
       "version_minor": 0
      },
      "text/plain": [
       "Drawing 1000 posterior samples:   0%|          | 0/1000 [00:00<?, ?it/s]"
      ]
     },
     "metadata": {},
     "output_type": "display_data"
    },
    {
     "name": "stdout",
     "output_type": "stream",
     "text": [
      "acceptance rate:  1.0\n",
      "theta posteriorrr tensor([[ 10.3055,  69.1195, 105.1591,  37.8766,  48.6487],\n",
      "        [  6.9636,  72.0705,  97.6444,  30.1867,  48.5826],\n",
      "        [  9.0682,  67.4396, 102.1350,  36.0368,  45.6148],\n",
      "        ...,\n",
      "        [  9.9405,  68.7598,  94.7196,  40.1887,  51.5830],\n",
      "        [  5.5208,  60.1275,  99.4338,  37.3450,  49.9061],\n",
      "        [  5.0181,  63.5279,  97.3402,  37.0519,  46.0790]]) torch.Size([1000, 5])\n"
     ]
    },
    {
     "data": {
      "application/vnd.jupyter.widget-view+json": {
       "model_id": "c94a07ac3c094a14aa2c2416f0d8cb5a",
       "version_major": 2,
       "version_minor": 0
      },
      "text/plain": [
       "Drawing 1000 posterior samples:   0%|          | 0/1000 [00:00<?, ?it/s]"
      ]
     },
     "metadata": {},
     "output_type": "display_data"
    },
    {
     "name": "stdout",
     "output_type": "stream",
     "text": [
      "acceptance rate:  0.765\n",
      "acceptance rate:  0.7402727272727273\n",
      "theta posteriorrr tensor([[ 5.4721,  6.8685, 21.3086, 12.8980, 90.3202],\n",
      "        [ 4.2735,  2.4642, 20.8370,  6.2622, 92.1618],\n",
      "        [ 5.1448, 11.1392, 21.5210, 13.6498, 87.9537],\n",
      "        ...,\n",
      "        [ 4.6242, 11.2226, 16.5899, 12.1327, 83.9287],\n",
      "        [ 5.7053,  1.8920, 17.0444,  6.9069, 94.2936],\n",
      "        [ 4.6613, 11.2486, 20.7525, 10.9713, 95.6565]]) torch.Size([1000, 5])\n"
     ]
    },
    {
     "data": {
      "application/vnd.jupyter.widget-view+json": {
       "model_id": "5a193969bb704fc49795c84199d6735a",
       "version_major": 2,
       "version_minor": 0
      },
      "text/plain": [
       "Drawing 1000 posterior samples:   0%|          | 0/1000 [00:00<?, ?it/s]"
      ]
     },
     "metadata": {},
     "output_type": "display_data"
    },
    {
     "name": "stdout",
     "output_type": "stream",
     "text": [
      "acceptance rate:  1.0\n",
      "theta posteriorrr tensor([[53.2820, 30.2991, 24.8099,  9.1359, 65.6315],\n",
      "        [54.3833, 23.4215, 23.2308,  1.8040, 71.5152],\n",
      "        [47.8625, 26.8678, 29.7336,  4.7739, 67.9011],\n",
      "        ...,\n",
      "        [51.4782, 25.4983, 34.0005,  2.4435, 66.8887],\n",
      "        [51.3884, 27.3735, 26.7014,  7.7065, 67.2675],\n",
      "        [56.7942, 25.8130, 23.2860, 17.3881, 72.2803]]) torch.Size([1000, 5])\n"
     ]
    },
    {
     "data": {
      "application/vnd.jupyter.widget-view+json": {
       "model_id": "1370b61725d14303b7409dd7559df612",
       "version_major": 2,
       "version_minor": 0
      },
      "text/plain": [
       "Drawing 1000 posterior samples:   0%|          | 0/1000 [00:00<?, ?it/s]"
      ]
     },
     "metadata": {},
     "output_type": "display_data"
    },
    {
     "name": "stdout",
     "output_type": "stream",
     "text": [
      "acceptance rate:  1.0\n",
      "theta posteriorrr tensor([[ 4.6049, 62.5703, 99.7127, 40.6935, 42.7785],\n",
      "        [ 3.3638, 60.4926, 87.5764, 46.0584, 45.0457],\n",
      "        [ 3.5807, 68.0167, 87.8110, 41.7422, 49.5750],\n",
      "        ...,\n",
      "        [ 8.6103, 62.7889, 93.3863, 36.6749, 45.8443],\n",
      "        [ 8.9286, 72.7238, 93.4000, 40.9849, 48.5607],\n",
      "        [ 5.9649, 64.2513, 94.7214, 38.4743, 44.6206]]) torch.Size([1000, 5])\n"
     ]
    },
    {
     "data": {
      "application/vnd.jupyter.widget-view+json": {
       "model_id": "0e9741cbdb3f4834b1fa0a6d065903aa",
       "version_major": 2,
       "version_minor": 0
      },
      "text/plain": [
       "Drawing 1000 posterior samples:   0%|          | 0/1000 [00:00<?, ?it/s]"
      ]
     },
     "metadata": {},
     "output_type": "display_data"
    },
    {
     "name": "stdout",
     "output_type": "stream",
     "text": [
      "acceptance rate:  0.774\n",
      "acceptance rate:  0.781\n",
      "theta posteriorrr tensor([[ 1.0119,  5.7736, 22.6500, 11.5010, 86.9023],\n",
      "        [ 7.0530,  7.7973, 19.6109, 12.4487, 84.2461],\n",
      "        [ 2.7978,  1.2429, 24.2875, 13.5507, 89.5331],\n",
      "        ...,\n",
      "        [ 4.7985,  6.1668, 26.6699, 13.1203, 84.8972],\n",
      "        [ 4.2850,  1.7683, 22.0074,  8.2101, 96.0534],\n",
      "        [ 1.4521,  1.5820, 23.5716,  9.1868, 88.6303]]) torch.Size([1000, 5])\n"
     ]
    },
    {
     "data": {
      "application/vnd.jupyter.widget-view+json": {
       "model_id": "f8837800e5ee4a9dbdefe6b2beb46b38",
       "version_major": 2,
       "version_minor": 0
      },
      "text/plain": [
       "Drawing 1000 posterior samples:   0%|          | 0/1000 [00:00<?, ?it/s]"
      ]
     },
     "metadata": {},
     "output_type": "display_data"
    },
    {
     "name": "stdout",
     "output_type": "stream",
     "text": [
      "acceptance rate:  1.0\n",
      "theta posteriorrr tensor([[54.6786, 26.2544, 30.4554,  6.4800, 66.8235],\n",
      "        [57.2800, 27.3436, 24.8269,  9.4729, 66.2836],\n",
      "        [55.0060, 28.2010, 23.2534,  8.0422, 71.5483],\n",
      "        ...,\n",
      "        [53.7406, 28.1356, 29.5962,  3.5821, 68.7743],\n",
      "        [60.2189, 27.3049, 22.0719,  5.9838, 63.9076],\n",
      "        [52.0303, 25.1340, 23.6480,  7.0303, 68.8880]]) torch.Size([1000, 5])\n"
     ]
    },
    {
     "data": {
      "application/vnd.jupyter.widget-view+json": {
       "model_id": "465b730f2da349a8a883b5aa6591927d",
       "version_major": 2,
       "version_minor": 0
      },
      "text/plain": [
       "Drawing 1000 posterior samples:   0%|          | 0/1000 [00:00<?, ?it/s]"
      ]
     },
     "metadata": {},
     "output_type": "display_data"
    },
    {
     "name": "stdout",
     "output_type": "stream",
     "text": [
      "acceptance rate:  1.0\n",
      "theta posteriorrr tensor([[10.1327, 71.5262, 89.1350, 39.9880, 43.6964],\n",
      "        [12.5016, 65.8328, 91.1551, 37.6604, 50.6109],\n",
      "        [11.2390, 57.6844, 91.3901, 39.4944, 43.8580],\n",
      "        ...,\n",
      "        [ 4.7645, 68.4427, 92.4545, 39.9609, 43.3158],\n",
      "        [ 9.6108, 67.0058, 95.6439, 36.1030, 45.2282],\n",
      "        [ 6.7904, 71.3348, 93.8099, 36.6108, 46.4405]]) torch.Size([1000, 5])\n"
     ]
    },
    {
     "data": {
      "application/vnd.jupyter.widget-view+json": {
       "model_id": "93b8473088274c2b8e7b7129b8aa1dff",
       "version_major": 2,
       "version_minor": 0
      },
      "text/plain": [
       "Drawing 1000 posterior samples:   0%|          | 0/1000 [00:00<?, ?it/s]"
      ]
     },
     "metadata": {},
     "output_type": "display_data"
    },
    {
     "name": "stdout",
     "output_type": "stream",
     "text": [
      "acceptance rate:  0.476\n",
      "acceptance rate:  0.4869090909090909\n",
      "theta posteriorrr tensor([[ 2.3917,  8.1314, 21.6567, 10.9672, 89.6646],\n",
      "        [ 2.7329,  5.4318, 17.7011,  2.1757, 96.9683],\n",
      "        [ 7.3461,  4.4995, 27.1081, 15.1932, 92.5295],\n",
      "        ...,\n",
      "        [ 2.1035, 10.3743, 14.1616, 14.2632, 91.5980],\n",
      "        [ 1.6526,  1.2154, 19.8254, 14.2136, 85.7197],\n",
      "        [ 8.0727,  1.4194,  9.8011,  3.6514, 87.5399]]) torch.Size([1000, 5])\n"
     ]
    },
    {
     "data": {
      "application/vnd.jupyter.widget-view+json": {
       "model_id": "72fa3704e43a4501849d897fd1068d78",
       "version_major": 2,
       "version_minor": 0
      },
      "text/plain": [
       "Drawing 1000 posterior samples:   0%|          | 0/1000 [00:00<?, ?it/s]"
      ]
     },
     "metadata": {},
     "output_type": "display_data"
    },
    {
     "name": "stdout",
     "output_type": "stream",
     "text": [
      "acceptance rate:  1.0\n",
      "theta posteriorrr tensor([[51.4941, 26.3060, 28.2490,  0.2891, 69.2520],\n",
      "        [59.6924, 25.1030, 21.4985, 15.2218, 70.9779],\n",
      "        [50.9962, 29.4731, 20.0857,  9.7856, 72.4917],\n",
      "        ...,\n",
      "        [53.6435, 23.2508, 17.3715,  3.2388, 69.9649],\n",
      "        [56.9379, 23.8041, 29.2490, -2.4666, 69.3513],\n",
      "        [54.7496, 23.7467, 24.5809, -0.7128, 75.4858]]) torch.Size([1000, 5])\n"
     ]
    },
    {
     "data": {
      "application/vnd.jupyter.widget-view+json": {
       "model_id": "f0f09e67eca645919644a2b350c4b0fe",
       "version_major": 2,
       "version_minor": 0
      },
      "text/plain": [
       "Drawing 1000 posterior samples:   0%|          | 0/1000 [00:00<?, ?it/s]"
      ]
     },
     "metadata": {},
     "output_type": "display_data"
    },
    {
     "name": "stdout",
     "output_type": "stream",
     "text": [
      "acceptance rate:  1.0\n",
      "theta posteriorrr tensor([[  2.3739,  64.8252, 105.4557,  32.3834,  41.6848],\n",
      "        [ 12.0377,  66.4371,  96.5909,  33.5587,  44.9193],\n",
      "        [  5.8716,  67.6077, 109.5786,  44.0963,  45.6024],\n",
      "        ...,\n",
      "        [ 13.7332,  73.2507, 104.9191,  39.6541,  41.1195],\n",
      "        [  9.9644,  64.6637,  98.4245,  39.6707,  43.6904],\n",
      "        [ -2.3868,  71.8376, 102.6040,  39.2262,  34.6367]]) torch.Size([1000, 5])\n"
     ]
    },
    {
     "data": {
      "application/vnd.jupyter.widget-view+json": {
       "model_id": "9acd1cdec8f54f13a34f45e708712b06",
       "version_major": 2,
       "version_minor": 0
      },
      "text/plain": [
       "Drawing 1000 posterior samples:   0%|          | 0/1000 [00:00<?, ?it/s]"
      ]
     },
     "metadata": {},
     "output_type": "display_data"
    },
    {
     "name": "stdout",
     "output_type": "stream",
     "text": [
      "acceptance rate:  0.517\n",
      "acceptance rate:  0.5406363636363636\n",
      "theta posteriorrr tensor([[ 9.1636,  5.9030, 24.1187, 17.8866, 85.0890],\n",
      "        [ 4.3954,  6.3351, 23.9623, 14.6858, 76.5868],\n",
      "        [ 3.0123,  4.0909, 15.2857, 15.9283, 77.5321],\n",
      "        ...,\n",
      "        [ 7.8876,  8.2244, 13.6759, 11.4683, 79.1461],\n",
      "        [10.7866,  3.8903, 31.7408, 15.1663, 80.3086],\n",
      "        [ 4.3602,  3.5080, 24.7506,  5.2362, 90.0556]]) torch.Size([1000, 5])\n"
     ]
    },
    {
     "data": {
      "application/vnd.jupyter.widget-view+json": {
       "model_id": "919d112c5d104826a532d46403caf610",
       "version_major": 2,
       "version_minor": 0
      },
      "text/plain": [
       "Drawing 1000 posterior samples:   0%|          | 0/1000 [00:00<?, ?it/s]"
      ]
     },
     "metadata": {},
     "output_type": "display_data"
    },
    {
     "name": "stdout",
     "output_type": "stream",
     "text": [
      "acceptance rate:  1.0\n",
      "theta posteriorrr tensor([[48.5550, 20.7994, 21.2560,  8.7352, 65.5926],\n",
      "        [60.6490, 23.3707, 20.7105,  9.7839, 62.7021],\n",
      "        [55.8061, 26.3682, 23.7712,  6.9457, 66.7799],\n",
      "        ...,\n",
      "        [66.9756, 19.9313, 22.4625,  7.8033, 68.2051],\n",
      "        [60.9503, 22.7266, 20.9946,  4.1604, 65.2112],\n",
      "        [60.4809, 27.0024, 24.3948,  3.9978, 67.1555]]) torch.Size([1000, 5])\n"
     ]
    },
    {
     "data": {
      "application/vnd.jupyter.widget-view+json": {
       "model_id": "e1d9cba7dcc9469fa8a4e2f450e775cb",
       "version_major": 2,
       "version_minor": 0
      },
      "text/plain": [
       "Drawing 1000 posterior samples:   0%|          | 0/1000 [00:00<?, ?it/s]"
      ]
     },
     "metadata": {},
     "output_type": "display_data"
    },
    {
     "name": "stdout",
     "output_type": "stream",
     "text": [
      "acceptance rate:  1.0\n",
      "theta posteriorrr tensor([[  7.3706,  70.1822,  97.0241,  39.8646,  45.5089],\n",
      "        [  9.2526,  70.8534,  97.3727,  42.1951,  49.8824],\n",
      "        [  3.6813,  60.6832,  94.0260,  41.4891,  48.4455],\n",
      "        ...,\n",
      "        [  9.6906,  67.5510,  97.9447,  46.8738,  46.6806],\n",
      "        [  0.8060,  65.2785,  99.2649,  39.4819,  54.1293],\n",
      "        [  9.3736,  62.3556, 100.1420,  40.9146,  42.8725]]) torch.Size([1000, 5])\n"
     ]
    },
    {
     "data": {
      "application/vnd.jupyter.widget-view+json": {
       "model_id": "b0819822c5104e828f5c25e491692e23",
       "version_major": 2,
       "version_minor": 0
      },
      "text/plain": [
       "Drawing 1000 posterior samples:   0%|          | 0/1000 [00:00<?, ?it/s]"
      ]
     },
     "metadata": {},
     "output_type": "display_data"
    },
    {
     "name": "stdout",
     "output_type": "stream",
     "text": [
      "acceptance rate:  0.551\n",
      "acceptance rate:  0.554\n",
      "theta posteriorrr tensor([[ 2.4832, 10.6744, 24.8174, 18.8212, 83.8405],\n",
      "        [12.9271, 12.3117, 35.2143, 16.4797, 93.8429],\n",
      "        [ 6.3905, 11.4581, 24.6288, 18.1846, 88.7686],\n",
      "        ...,\n",
      "        [ 2.7073, 13.6111, 29.1213, 20.9308, 84.9984],\n",
      "        [ 4.0692, 16.4915, 21.4485, 15.8216, 76.6611],\n",
      "        [19.0297,  7.5155, 30.2700,  5.6015, 79.9824]]) torch.Size([1000, 5])\n"
     ]
    },
    {
     "data": {
      "application/vnd.jupyter.widget-view+json": {
       "model_id": "4dee97221aa7481082cf4b31d0c5b648",
       "version_major": 2,
       "version_minor": 0
      },
      "text/plain": [
       "Drawing 1000 posterior samples:   0%|          | 0/1000 [00:00<?, ?it/s]"
      ]
     },
     "metadata": {},
     "output_type": "display_data"
    },
    {
     "name": "stdout",
     "output_type": "stream",
     "text": [
      "acceptance rate:  1.0\n",
      "theta posteriorrr tensor([[57.7072, 26.5379, 28.2514, 15.2982, 71.8072],\n",
      "        [55.4818, 25.2343, 28.5011,  9.3941, 63.4028],\n",
      "        [58.6380, 28.5696, 27.1773,  8.2494, 70.2562],\n",
      "        ...,\n",
      "        [59.1110, 31.5187, 22.7139, 16.8294, 63.0454],\n",
      "        [52.5005, 25.4316, 40.2167, 10.9121, 61.2616],\n",
      "        [51.2785, 25.5094, 27.6877, 13.8523, 62.2720]]) torch.Size([1000, 5])\n"
     ]
    },
    {
     "data": {
      "application/vnd.jupyter.widget-view+json": {
       "model_id": "96c3961d4bc84a9eafa310a3a19c8fa1",
       "version_major": 2,
       "version_minor": 0
      },
      "text/plain": [
       "Drawing 1000 posterior samples:   0%|          | 0/1000 [00:00<?, ?it/s]"
      ]
     },
     "metadata": {},
     "output_type": "display_data"
    },
    {
     "name": "stdout",
     "output_type": "stream",
     "text": [
      "acceptance rate:  1.0\n",
      "theta posteriorrr tensor([[  8.4751,  63.3123, 100.7705,  39.8838,  43.1985],\n",
      "        [  2.0327,  64.8752,  98.1776,  38.7003,  44.1486],\n",
      "        [  3.2723,  70.4711, 104.8927,  38.4815,  50.3442],\n",
      "        ...,\n",
      "        [  5.1910,  68.6478,  92.7511,  39.9981,  39.5966],\n",
      "        [  4.2721,  68.9546, 101.2068,  36.8987,  46.6107],\n",
      "        [  2.3068,  67.3473,  95.8944,  37.1951,  50.8703]]) torch.Size([1000, 5])\n"
     ]
    },
    {
     "data": {
      "application/vnd.jupyter.widget-view+json": {
       "model_id": "83e7687612b348d4b02a201a932daf73",
       "version_major": 2,
       "version_minor": 0
      },
      "text/plain": [
       "Drawing 1000 posterior samples:   0%|          | 0/1000 [00:00<?, ?it/s]"
      ]
     },
     "metadata": {},
     "output_type": "display_data"
    },
    {
     "name": "stdout",
     "output_type": "stream",
     "text": [
      "acceptance rate:  0.706\n",
      "acceptance rate:  0.7001818181818181\n",
      "theta posteriorrr tensor([[ 4.9656,  1.1047, 22.2918, 14.2731, 93.6382],\n",
      "        [ 6.3184, 18.8835, 13.0360, 20.8283, 83.6353],\n",
      "        [ 9.5507, 21.0326, 23.5110, 21.7155, 77.9327],\n",
      "        ...,\n",
      "        [ 7.6861,  3.1047, 28.2163, 12.1220, 84.1858],\n",
      "        [ 6.1474,  5.5959,  8.8669,  3.9637, 95.5412],\n",
      "        [ 4.4460, 13.1733, 11.2321, 17.0289, 78.1593]]) torch.Size([1000, 5])\n"
     ]
    },
    {
     "data": {
      "application/vnd.jupyter.widget-view+json": {
       "model_id": "8ddd32d10db040b6b2db97f281ee8c6f",
       "version_major": 2,
       "version_minor": 0
      },
      "text/plain": [
       "Drawing 1000 posterior samples:   0%|          | 0/1000 [00:00<?, ?it/s]"
      ]
     },
     "metadata": {},
     "output_type": "display_data"
    },
    {
     "name": "stdout",
     "output_type": "stream",
     "text": [
      "acceptance rate:  1.0\n",
      "theta posteriorrr tensor([[55.8610, 22.1784, 23.6463, 13.3432, 69.4059],\n",
      "        [57.0784, 27.1139, 23.8636,  8.3715, 67.8944],\n",
      "        [58.7214, 23.3032, 26.4454,  4.2071, 63.9895],\n",
      "        ...,\n",
      "        [55.5795, 29.2502, 29.7145,  2.5226, 65.9826],\n",
      "        [56.4349, 25.6746, 24.5551, 14.6588, 70.9792],\n",
      "        [54.1828, 24.5498, 23.7435,  6.8571, 68.9636]]) torch.Size([1000, 5])\n"
     ]
    },
    {
     "data": {
      "application/vnd.jupyter.widget-view+json": {
       "model_id": "c87d260eb46e44cdbb2c1e39447552b4",
       "version_major": 2,
       "version_minor": 0
      },
      "text/plain": [
       "Drawing 1000 posterior samples:   0%|          | 0/1000 [00:00<?, ?it/s]"
      ]
     },
     "metadata": {},
     "output_type": "display_data"
    },
    {
     "name": "stdout",
     "output_type": "stream",
     "text": [
      "acceptance rate:  1.0\n",
      "theta posteriorrr tensor([[ 8.9677, 67.1255, 98.5436, 46.2119, 53.5507],\n",
      "        [ 6.3381, 66.2343, 94.1925, 44.0086, 40.8713],\n",
      "        [ 6.0722, 64.7213, 95.7759, 39.4551, 54.9970],\n",
      "        ...,\n",
      "        [19.3349, 67.4703, 99.3916, 36.0070, 43.4329],\n",
      "        [ 2.1288, 66.9969, 91.5539, 37.1500, 44.3412],\n",
      "        [10.5347, 66.9020, 98.1684, 42.8074, 46.4450]]) torch.Size([1000, 5])\n"
     ]
    },
    {
     "data": {
      "application/vnd.jupyter.widget-view+json": {
       "model_id": "199d035cc3d943e7b7739a4199d28067",
       "version_major": 2,
       "version_minor": 0
      },
      "text/plain": [
       "Drawing 1000 posterior samples:   0%|          | 0/1000 [00:00<?, ?it/s]"
      ]
     },
     "metadata": {},
     "output_type": "display_data"
    },
    {
     "name": "stdout",
     "output_type": "stream",
     "text": [
      "acceptance rate:  0.814\n",
      "acceptance rate:  0.8129090909090909\n",
      "theta posteriorrr tensor([[11.6430, 11.3273, 29.9027,  5.6894, 82.2519],\n",
      "        [ 3.7140,  5.2680, 21.8209,  7.7260, 89.0996],\n",
      "        [ 4.9394,  6.7657, 30.9547,  8.5225, 78.8093],\n",
      "        ...,\n",
      "        [ 6.6984,  3.5813, 26.2951,  9.2578, 85.8757],\n",
      "        [11.1678, 18.5542, 23.7951, 13.3965, 84.6181],\n",
      "        [ 8.5370,  5.0745, 19.5662,  4.5434, 91.0079]]) torch.Size([1000, 5])\n"
     ]
    },
    {
     "data": {
      "application/vnd.jupyter.widget-view+json": {
       "model_id": "bba14d53f4164f3ebca2253abcdcb991",
       "version_major": 2,
       "version_minor": 0
      },
      "text/plain": [
       "Drawing 1000 posterior samples:   0%|          | 0/1000 [00:00<?, ?it/s]"
      ]
     },
     "metadata": {},
     "output_type": "display_data"
    },
    {
     "name": "stdout",
     "output_type": "stream",
     "text": [
      "acceptance rate:  1.0\n",
      "theta posteriorrr tensor([[53.2390, 26.9321, 27.1418,  5.0527, 69.3685],\n",
      "        [55.1255, 19.8529, 27.1652,  6.4091, 65.2912],\n",
      "        [46.4278, 20.3204, 27.1027,  6.0993, 70.8914],\n",
      "        ...,\n",
      "        [47.6923, 26.6489, 30.0520,  6.5788, 71.8084],\n",
      "        [50.5895, 19.4953, 34.8005,  9.7368, 68.0946],\n",
      "        [58.8256, 29.2855, 23.7544,  9.4081, 69.4278]]) torch.Size([1000, 5])\n"
     ]
    },
    {
     "data": {
      "application/vnd.jupyter.widget-view+json": {
       "model_id": "4618e0489fbb49cea8fb496d954560cc",
       "version_major": 2,
       "version_minor": 0
      },
      "text/plain": [
       "Drawing 1000 posterior samples:   0%|          | 0/1000 [00:00<?, ?it/s]"
      ]
     },
     "metadata": {},
     "output_type": "display_data"
    },
    {
     "name": "stdout",
     "output_type": "stream",
     "text": [
      "acceptance rate:  1.0\n",
      "theta posteriorrr tensor([[  3.7731,  62.2923,  94.6477,  38.1561,  45.0855],\n",
      "        [ 10.0307,  67.9189, 101.9979,  38.1643,  47.6207],\n",
      "        [  9.5796,  65.4947, 100.5951,  43.0008,  44.5632],\n",
      "        ...,\n",
      "        [  8.7390,  69.1778,  90.7239,  38.0919,  45.2739],\n",
      "        [ 10.2709,  65.2095,  96.4800,  40.5209,  49.2074],\n",
      "        [  6.4125,  72.5858,  89.5576,  43.9429,  50.3538]]) torch.Size([1000, 5])\n"
     ]
    },
    {
     "data": {
      "application/vnd.jupyter.widget-view+json": {
       "model_id": "74bc37e672fe421f8e38d337d3af2652",
       "version_major": 2,
       "version_minor": 0
      },
      "text/plain": [
       "Drawing 1000 posterior samples:   0%|          | 0/1000 [00:00<?, ?it/s]"
      ]
     },
     "metadata": {},
     "output_type": "display_data"
    },
    {
     "name": "stdout",
     "output_type": "stream",
     "text": [
      "acceptance rate:  0.914\n",
      "acceptance rate:  0.909\n",
      "theta posteriorrr tensor([[ 3.9187,  9.0653, 21.0751,  8.2128, 82.2463],\n",
      "        [ 2.7658,  5.5153, 20.9404,  9.2903, 86.2036],\n",
      "        [ 2.1243,  9.6962, 22.4666, 10.5664, 83.2037],\n",
      "        ...,\n",
      "        [ 2.3817, 10.7717, 21.6518, 10.7176, 88.6697],\n",
      "        [ 2.2468,  4.9239, 20.9558,  7.9948, 85.2644],\n",
      "        [ 3.6395,  5.7782, 20.7307,  9.5942, 88.5615]]) torch.Size([1000, 5])\n"
     ]
    },
    {
     "data": {
      "application/vnd.jupyter.widget-view+json": {
       "model_id": "b0d28a42c5264860b914611e7299756b",
       "version_major": 2,
       "version_minor": 0
      },
      "text/plain": [
       "Drawing 1000 posterior samples:   0%|          | 0/1000 [00:00<?, ?it/s]"
      ]
     },
     "metadata": {},
     "output_type": "display_data"
    },
    {
     "name": "stdout",
     "output_type": "stream",
     "text": [
      "acceptance rate:  1.0\n",
      "theta posteriorrr tensor([[59.6090, 32.4532, 21.6011, -1.1587, 70.7384],\n",
      "        [55.7639, 26.9451, 25.8083,  6.0726, 68.0714],\n",
      "        [56.9187, 24.6658, 24.6028, 11.8934, 71.2758],\n",
      "        ...,\n",
      "        [52.7736, 25.5433, 29.6014,  4.7501, 67.6670],\n",
      "        [55.1806, 26.2936, 27.1810,  5.0450, 68.7334],\n",
      "        [57.9421, 25.2992, 30.5249,  3.1370, 70.1788]]) torch.Size([1000, 5])\n"
     ]
    },
    {
     "data": {
      "application/vnd.jupyter.widget-view+json": {
       "model_id": "a5bacf9b98c44dc48e4dac4fbe9a2d54",
       "version_major": 2,
       "version_minor": 0
      },
      "text/plain": [
       "Drawing 1000 posterior samples:   0%|          | 0/1000 [00:00<?, ?it/s]"
      ]
     },
     "metadata": {},
     "output_type": "display_data"
    },
    {
     "name": "stdout",
     "output_type": "stream",
     "text": [
      "acceptance rate:  1.0\n",
      "theta posteriorrr tensor([[ 8.0809, 63.1648, 99.4898, 46.7319, 40.2866],\n",
      "        [ 9.0049, 65.7810, 95.0709, 38.9547, 40.8405],\n",
      "        [-1.5278, 63.4841, 99.2636, 38.8590, 42.9801],\n",
      "        ...,\n",
      "        [ 2.4078, 64.8869, 97.3947, 44.9367, 41.5302],\n",
      "        [10.4315, 64.5612, 99.8485, 37.1687, 45.1878],\n",
      "        [15.4205, 63.4828, 99.5157, 43.3483, 45.1889]]) torch.Size([1000, 5])\n"
     ]
    },
    {
     "data": {
      "application/vnd.jupyter.widget-view+json": {
       "model_id": "4f4d03738e11467d8979df9d195558ab",
       "version_major": 2,
       "version_minor": 0
      },
      "text/plain": [
       "Drawing 1000 posterior samples:   0%|          | 0/1000 [00:00<?, ?it/s]"
      ]
     },
     "metadata": {},
     "output_type": "display_data"
    },
    {
     "name": "stdout",
     "output_type": "stream",
     "text": [
      "acceptance rate:  0.557\n",
      "acceptance rate:  0.537\n",
      "theta posteriorrr tensor([[ 6.6841,  1.0237, 11.2806, 13.8719, 84.5716],\n",
      "        [16.9914,  9.1052, 27.2076, 10.0968, 79.8909],\n",
      "        [12.2884,  9.9088, 28.9391, 15.0844, 83.7395],\n",
      "        ...,\n",
      "        [14.1651,  9.0184, 18.0448,  4.3229, 88.2562],\n",
      "        [13.3143,  3.6908, 17.2720, 13.0861, 82.0942],\n",
      "        [ 6.8073,  5.9816, 17.3027, 13.9499, 74.5175]]) torch.Size([1000, 5])\n"
     ]
    },
    {
     "data": {
      "application/vnd.jupyter.widget-view+json": {
       "model_id": "153916029a664c378d44a8540fb121d6",
       "version_major": 2,
       "version_minor": 0
      },
      "text/plain": [
       "Drawing 1000 posterior samples:   0%|          | 0/1000 [00:00<?, ?it/s]"
      ]
     },
     "metadata": {},
     "output_type": "display_data"
    },
    {
     "name": "stdout",
     "output_type": "stream",
     "text": [
      "acceptance rate:  1.0\n",
      "theta posteriorrr tensor([[65.6748, 24.7358, 31.7969, 13.8981, 65.3308],\n",
      "        [55.6079, 23.1939, 30.1262,  5.0894, 67.8353],\n",
      "        [57.0323, 22.6044, 22.1290, 14.3748, 69.8891],\n",
      "        ...,\n",
      "        [52.2495, 19.6225, 30.7249, 13.9371, 65.6834],\n",
      "        [57.1534, 19.4708, 28.8105, 10.3630, 64.6233],\n",
      "        [57.7284, 23.3928, 25.7412, 10.2993, 68.3359]]) torch.Size([1000, 5])\n"
     ]
    },
    {
     "data": {
      "application/vnd.jupyter.widget-view+json": {
       "model_id": "0e7aeef4d6c244e8bbe9fadae9483935",
       "version_major": 2,
       "version_minor": 0
      },
      "text/plain": [
       "Drawing 1000 posterior samples:   0%|          | 0/1000 [00:00<?, ?it/s]"
      ]
     },
     "metadata": {},
     "output_type": "display_data"
    },
    {
     "name": "stdout",
     "output_type": "stream",
     "text": [
      "acceptance rate:  1.0\n",
      "theta posteriorrr tensor([[  1.5358,  60.0312, 102.0381,  38.1844,  45.4412],\n",
      "        [  9.7923,  71.1329,  90.7131,  40.7197,  39.2403],\n",
      "        [  4.9235,  69.6834,  96.3432,  38.2071,  33.9815],\n",
      "        ...,\n",
      "        [  5.7478,  63.2616,  91.2782,  35.6303,  46.6569],\n",
      "        [  9.5016,  62.2129, 104.4622,  39.2714,  39.4991],\n",
      "        [  9.4829,  70.4027,  91.1448,  36.2662,  38.4234]]) torch.Size([1000, 5])\n"
     ]
    },
    {
     "data": {
      "application/vnd.jupyter.widget-view+json": {
       "model_id": "643ea510c2714e09a9f85c445b1b6f90",
       "version_major": 2,
       "version_minor": 0
      },
      "text/plain": [
       "Drawing 1000 posterior samples:   0%|          | 0/1000 [00:00<?, ?it/s]"
      ]
     },
     "metadata": {},
     "output_type": "display_data"
    },
    {
     "name": "stdout",
     "output_type": "stream",
     "text": [
      "acceptance rate:  0.612\n",
      "acceptance rate:  0.6132727272727273\n",
      "theta posteriorrr tensor([[ 1.4306,  4.7441, 25.2728,  1.7588, 84.2568],\n",
      "        [ 2.3932,  7.3065, 24.7177, 14.7269, 83.8998],\n",
      "        [ 2.8295, 17.8850, 13.8500,  1.8065, 89.8379],\n",
      "        ...,\n",
      "        [12.1767, 14.1027, 22.7938, 12.4950, 86.0452],\n",
      "        [ 5.5291,  2.3994, 34.4746, 11.1918, 87.6721],\n",
      "        [ 3.3078, 17.5712, 32.1008, 11.2805, 77.2695]]) torch.Size([1000, 5])\n"
     ]
    },
    {
     "data": {
      "application/vnd.jupyter.widget-view+json": {
       "model_id": "e2d19c61a0444e1a8c4837a8f3b1ffe7",
       "version_major": 2,
       "version_minor": 0
      },
      "text/plain": [
       "Drawing 1000 posterior samples:   0%|          | 0/1000 [00:00<?, ?it/s]"
      ]
     },
     "metadata": {},
     "output_type": "display_data"
    },
    {
     "name": "stdout",
     "output_type": "stream",
     "text": [
      "acceptance rate:  1.0\n",
      "theta posteriorrr tensor([[50.3281, 24.3501, 24.9598,  5.7915, 68.8072],\n",
      "        [53.7859, 32.5085, 23.8568,  7.8940, 65.8607],\n",
      "        [57.2183, 26.6123, 32.0285,  8.3697, 66.1195],\n",
      "        ...,\n",
      "        [65.6991, 26.5597, 25.6370,  6.5018, 65.9925],\n",
      "        [59.7728, 26.5010, 32.1979, -0.5948, 71.4901],\n",
      "        [51.5365, 23.0346, 31.1119,  1.5373, 67.0425]]) torch.Size([1000, 5])\n"
     ]
    },
    {
     "data": {
      "application/vnd.jupyter.widget-view+json": {
       "model_id": "22758b750816455498f51d98df150e37",
       "version_major": 2,
       "version_minor": 0
      },
      "text/plain": [
       "Drawing 1000 posterior samples:   0%|          | 0/1000 [00:00<?, ?it/s]"
      ]
     },
     "metadata": {},
     "output_type": "display_data"
    },
    {
     "name": "stdout",
     "output_type": "stream",
     "text": [
      "acceptance rate:  1.0\n",
      "theta posteriorrr tensor([[  3.6457,  61.7528,  99.5384,  43.0689,  43.5158],\n",
      "        [ -3.2967,  63.9437, 102.9592,  40.5969,  42.5599],\n",
      "        [  4.1666,  63.5186, 104.2034,  34.4284,  39.5462],\n",
      "        ...,\n",
      "        [  5.1916,  68.5556, 104.2106,  31.0800,  44.3269],\n",
      "        [ -7.3713,  69.7870,  99.3060,  43.1626,  40.2168],\n",
      "        [ -0.7451,  64.0689, 103.6520,  39.8289,  41.9086]]) torch.Size([1000, 5])\n"
     ]
    },
    {
     "data": {
      "application/vnd.jupyter.widget-view+json": {
       "model_id": "dfa4a4eac481470fb4e5b93e781f9f1d",
       "version_major": 2,
       "version_minor": 0
      },
      "text/plain": [
       "Drawing 1000 posterior samples:   0%|          | 0/1000 [00:00<?, ?it/s]"
      ]
     },
     "metadata": {},
     "output_type": "display_data"
    },
    {
     "name": "stdout",
     "output_type": "stream",
     "text": [
      "acceptance rate:  0.394\n",
      "acceptance rate:  0.3740909090909091\n",
      "theta posteriorrr tensor([[ 1.5504,  9.9321, 19.8557, 12.1349, 85.2539],\n",
      "        [ 9.7924, 13.7623, 21.5767, 10.7695, 93.2307],\n",
      "        [ 5.1756, 15.3094, 13.1533, 12.1895, 74.6374],\n",
      "        ...,\n",
      "        [16.9360, 12.8814, 10.1970, 16.1348, 87.5361],\n",
      "        [ 5.2707,  4.4344, 22.1608, 17.0447, 80.7600],\n",
      "        [ 4.3579,  3.7907,  7.4102,  3.4126, 99.6972]]) torch.Size([1000, 5])\n"
     ]
    },
    {
     "data": {
      "application/vnd.jupyter.widget-view+json": {
       "model_id": "f02be77463c1470aad6d66f0670c41c7",
       "version_major": 2,
       "version_minor": 0
      },
      "text/plain": [
       "Drawing 1000 posterior samples:   0%|          | 0/1000 [00:00<?, ?it/s]"
      ]
     },
     "metadata": {},
     "output_type": "display_data"
    },
    {
     "name": "stdout",
     "output_type": "stream",
     "text": [
      "acceptance rate:  1.0\n",
      "theta posteriorrr tensor([[53.2434, 28.1079, 21.0515,  2.0890, 65.0340],\n",
      "        [45.7005, 27.1380, 21.3086,  0.8965, 65.7093],\n",
      "        [54.4222, 28.8687, 24.1114,  7.3097, 68.8530],\n",
      "        ...,\n",
      "        [54.2284, 26.9851, 24.1379,  4.7799, 64.8857],\n",
      "        [48.2893, 29.1231, 26.1055,  2.8967, 67.1358],\n",
      "        [50.1564, 24.1448, 22.9064,  1.1890, 62.9414]]) torch.Size([1000, 5])\n"
     ]
    },
    {
     "data": {
      "application/vnd.jupyter.widget-view+json": {
       "model_id": "c0779187c58d452db259fe717355bcc7",
       "version_major": 2,
       "version_minor": 0
      },
      "text/plain": [
       "Drawing 1000 posterior samples:   0%|          | 0/1000 [00:00<?, ?it/s]"
      ]
     },
     "metadata": {},
     "output_type": "display_data"
    },
    {
     "name": "stdout",
     "output_type": "stream",
     "text": [
      "acceptance rate:  1.0\n",
      "theta posteriorrr tensor([[  4.9571,  65.3102, 104.4661,  41.2247,  37.5494],\n",
      "        [  1.9863,  65.1472, 101.4800,  38.7751,  41.2976],\n",
      "        [ -3.4679,  63.7405,  98.2883,  35.9370,  43.3968],\n",
      "        ...,\n",
      "        [  5.6296,  67.7726, 100.7311,  26.9750,  41.2075],\n",
      "        [  0.7302,  70.2199, 100.7370,  41.1455,  50.4947],\n",
      "        [  8.0760,  71.3393,  99.6406,  30.4374,  50.0428]]) torch.Size([1000, 5])\n"
     ]
    },
    {
     "data": {
      "application/vnd.jupyter.widget-view+json": {
       "model_id": "30da6ed632d34c3c8474a2b80aa284a3",
       "version_major": 2,
       "version_minor": 0
      },
      "text/plain": [
       "Drawing 1000 posterior samples:   0%|          | 0/1000 [00:00<?, ?it/s]"
      ]
     },
     "metadata": {},
     "output_type": "display_data"
    },
    {
     "name": "stdout",
     "output_type": "stream",
     "text": [
      "acceptance rate:  0.633\n",
      "acceptance rate:  0.6358181818181818\n",
      "theta posteriorrr tensor([[10.3948,  9.3055, 19.3260, 19.3212, 84.4956],\n",
      "        [ 3.2460,  3.9476, 23.4278,  9.5974, 90.8622],\n",
      "        [ 3.5695,  5.2482, 26.2527, 22.5695, 85.7589],\n",
      "        ...,\n",
      "        [ 3.7354,  8.4107, 30.3169, 26.4756, 84.2791],\n",
      "        [13.3013,  1.2560, 27.8843, 20.2098, 90.7113],\n",
      "        [ 4.5326, 15.9633, 25.4722, 17.7891, 90.0978]]) torch.Size([1000, 5])\n"
     ]
    },
    {
     "data": {
      "application/vnd.jupyter.widget-view+json": {
       "model_id": "2250c7e6f98b4a7d8c4b248cc4839bf5",
       "version_major": 2,
       "version_minor": 0
      },
      "text/plain": [
       "Drawing 1000 posterior samples:   0%|          | 0/1000 [00:00<?, ?it/s]"
      ]
     },
     "metadata": {},
     "output_type": "display_data"
    },
    {
     "name": "stdout",
     "output_type": "stream",
     "text": [
      "acceptance rate:  1.0\n",
      "theta posteriorrr tensor([[53.1231, 28.5630, 31.2184,  1.0466, 67.3654],\n",
      "        [57.7703, 31.0551, 22.3041,  2.7084, 66.0709],\n",
      "        [55.9292, 28.4685, 28.5493,  2.9019, 67.2594],\n",
      "        ...,\n",
      "        [52.6304, 22.8933, 24.9379,  4.5346, 62.8293],\n",
      "        [50.6527, 34.3712, 26.8084, -1.4912, 66.1133],\n",
      "        [49.4711, 22.5090, 27.9292,  6.6063, 63.8096]]) torch.Size([1000, 5])\n"
     ]
    },
    {
     "data": {
      "application/vnd.jupyter.widget-view+json": {
       "model_id": "e6688f3eaf564df69fb05d89bed6151c",
       "version_major": 2,
       "version_minor": 0
      },
      "text/plain": [
       "Drawing 1000 posterior samples:   0%|          | 0/1000 [00:00<?, ?it/s]"
      ]
     },
     "metadata": {},
     "output_type": "display_data"
    },
    {
     "name": "stdout",
     "output_type": "stream",
     "text": [
      "acceptance rate:  1.0\n",
      "theta posteriorrr tensor([[ 8.0722, 62.3394, 95.0515, 33.0768, 48.8825],\n",
      "        [ 5.3652, 62.9195, 96.3347, 39.1658, 49.4369],\n",
      "        [ 4.7682, 62.1686, 97.3648, 37.7407, 49.2842],\n",
      "        ...,\n",
      "        [ 5.0058, 63.8065, 94.7766, 38.8886, 47.8359],\n",
      "        [10.9270, 65.5535, 97.0646, 38.2080, 47.4138],\n",
      "        [ 5.2225, 66.8642, 92.9124, 32.4237, 48.5080]]) torch.Size([1000, 5])\n"
     ]
    },
    {
     "data": {
      "application/vnd.jupyter.widget-view+json": {
       "model_id": "6bcb0c6381734306b243d75ffd041953",
       "version_major": 2,
       "version_minor": 0
      },
      "text/plain": [
       "Drawing 1000 posterior samples:   0%|          | 0/1000 [00:00<?, ?it/s]"
      ]
     },
     "metadata": {},
     "output_type": "display_data"
    },
    {
     "name": "stdout",
     "output_type": "stream",
     "text": [
      "acceptance rate:  0.574\n",
      "acceptance rate:  0.5554545454545454\n",
      "theta posteriorrr tensor([[ 7.9919, 15.6644, 14.3327, 18.8494, 82.9700],\n",
      "        [ 2.1428, 11.6433, 17.6725, 14.6556, 91.2435],\n",
      "        [ 1.6864,  7.2244, 17.5420, 16.2184, 86.4109],\n",
      "        ...,\n",
      "        [ 6.7520,  6.9879, 29.6161, 19.3382, 83.5617],\n",
      "        [ 8.3312,  5.7634, 15.4548, 12.8202, 82.2679],\n",
      "        [12.8374,  2.9518, 26.1917, 14.7914, 93.4911]]) torch.Size([1000, 5])\n"
     ]
    },
    {
     "data": {
      "application/vnd.jupyter.widget-view+json": {
       "model_id": "01814eab287242c48ca05eb7b789d881",
       "version_major": 2,
       "version_minor": 0
      },
      "text/plain": [
       "Drawing 1000 posterior samples:   0%|          | 0/1000 [00:00<?, ?it/s]"
      ]
     },
     "metadata": {},
     "output_type": "display_data"
    },
    {
     "name": "stdout",
     "output_type": "stream",
     "text": [
      "acceptance rate:  1.0\n",
      "theta posteriorrr tensor([[54.5799, 19.8963, 23.7198,  6.3867, 70.6946],\n",
      "        [57.1401, 23.6105, 24.2940,  6.3304, 72.2740],\n",
      "        [53.2885, 26.4194, 16.2350, 11.0078, 69.5940],\n",
      "        ...,\n",
      "        [51.7868, 24.9183, 25.0771,  4.8842, 70.8000],\n",
      "        [57.9546, 20.7560, 21.5217,  9.6876, 63.1643],\n",
      "        [63.4902, 27.8941, 22.8723,  7.7292, 64.8626]]) torch.Size([1000, 5])\n"
     ]
    },
    {
     "data": {
      "application/vnd.jupyter.widget-view+json": {
       "model_id": "3ea336f97c4246b99fa807ce8ebe03cc",
       "version_major": 2,
       "version_minor": 0
      },
      "text/plain": [
       "Drawing 1000 posterior samples:   0%|          | 0/1000 [00:00<?, ?it/s]"
      ]
     },
     "metadata": {},
     "output_type": "display_data"
    },
    {
     "name": "stdout",
     "output_type": "stream",
     "text": [
      "acceptance rate:  1.0\n",
      "theta posteriorrr tensor([[14.3212, 67.6167, 96.1693, 30.6015, 44.8873],\n",
      "        [17.8825, 62.5851, 95.0025, 42.8102, 43.9354],\n",
      "        [11.7229, 72.9552, 97.4659, 39.8046, 45.1026],\n",
      "        ...,\n",
      "        [15.7431, 65.4792, 93.2541, 43.4963, 46.0162],\n",
      "        [ 6.2932, 62.4515, 96.5381, 34.1334, 50.0215],\n",
      "        [16.8222, 63.2539, 97.2959, 42.2477, 45.9205]]) torch.Size([1000, 5])\n"
     ]
    },
    {
     "data": {
      "application/vnd.jupyter.widget-view+json": {
       "model_id": "e3012b022dbf4286925cea1e1b11c46e",
       "version_major": 2,
       "version_minor": 0
      },
      "text/plain": [
       "Drawing 1000 posterior samples:   0%|          | 0/1000 [00:00<?, ?it/s]"
      ]
     },
     "metadata": {},
     "output_type": "display_data"
    },
    {
     "name": "stdout",
     "output_type": "stream",
     "text": [
      "acceptance rate:  0.64\n",
      "acceptance rate:  0.6568181818181819\n",
      "theta posteriorrr tensor([[ 1.2718,  7.1366, 19.0496, 12.4944, 87.1806],\n",
      "        [ 6.7835,  4.5916, 22.6512, 14.8326, 92.1154],\n",
      "        [ 1.3508,  6.5882, 21.9417, 11.1598, 92.8154],\n",
      "        ...,\n",
      "        [ 9.4015, 12.9233, 17.9557, 17.1992, 83.1927],\n",
      "        [ 6.7187,  3.9940, 23.9123, 11.3006, 82.7280],\n",
      "        [ 5.0568, 13.6667, 24.2760, 12.3912, 75.2374]]) torch.Size([1000, 5])\n"
     ]
    },
    {
     "data": {
      "application/vnd.jupyter.widget-view+json": {
       "model_id": "62ec6085ff1247afb65977f3ad7089de",
       "version_major": 2,
       "version_minor": 0
      },
      "text/plain": [
       "Drawing 1000 posterior samples:   0%|          | 0/1000 [00:00<?, ?it/s]"
      ]
     },
     "metadata": {},
     "output_type": "display_data"
    },
    {
     "name": "stdout",
     "output_type": "stream",
     "text": [
      "acceptance rate:  1.0\n",
      "theta posteriorrr tensor([[52.3216, 23.9748, 29.1278, 13.8332, 62.6185],\n",
      "        [52.8425, 30.8751, 28.0570,  6.4802, 68.4728],\n",
      "        [56.5352, 30.5797, 21.2488,  8.9091, 66.8508],\n",
      "        ...,\n",
      "        [54.9523, 33.1980, 28.1270,  3.7751, 68.5769],\n",
      "        [56.3253, 28.0041, 24.9815,  2.5834, 72.3877],\n",
      "        [57.5298, 26.6123, 31.7184,  8.0232, 67.2248]]) torch.Size([1000, 5])\n"
     ]
    },
    {
     "data": {
      "application/vnd.jupyter.widget-view+json": {
       "model_id": "2230c8ef203949d8be503ef503a9bdf5",
       "version_major": 2,
       "version_minor": 0
      },
      "text/plain": [
       "Drawing 1000 posterior samples:   0%|          | 0/1000 [00:00<?, ?it/s]"
      ]
     },
     "metadata": {},
     "output_type": "display_data"
    },
    {
     "name": "stdout",
     "output_type": "stream",
     "text": [
      "acceptance rate:  1.0\n",
      "theta posteriorrr tensor([[  5.3070,  65.9375, 100.9461,  39.7888,  53.3645],\n",
      "        [  6.6799,  66.2311,  96.6857,  42.1609,  42.3535],\n",
      "        [  4.1430,  61.1511,  95.5122,  38.2565,  51.4788],\n",
      "        ...,\n",
      "        [ 12.2405,  66.7638, 101.3399,  42.3604,  46.4008],\n",
      "        [ 15.4135,  62.6404,  95.7747,  39.8742,  50.3501],\n",
      "        [  1.1500,  67.3341,  98.8288,  41.1070,  39.9262]]) torch.Size([1000, 5])\n"
     ]
    },
    {
     "data": {
      "application/vnd.jupyter.widget-view+json": {
       "model_id": "6fec0b32e4254933b2d5ed8215f798b5",
       "version_major": 2,
       "version_minor": 0
      },
      "text/plain": [
       "Drawing 1000 posterior samples:   0%|          | 0/1000 [00:00<?, ?it/s]"
      ]
     },
     "metadata": {},
     "output_type": "display_data"
    },
    {
     "name": "stdout",
     "output_type": "stream",
     "text": [
      "acceptance rate:  0.633\n",
      "acceptance rate:  0.6361818181818182\n",
      "theta posteriorrr tensor([[17.5329, 18.0172, 12.6743, 20.5429, 85.8218],\n",
      "        [10.6481, 12.7500, 28.1809,  7.1227, 94.0340],\n",
      "        [19.1593, 12.9516, 27.3404,  6.2539, 86.3368],\n",
      "        ...,\n",
      "        [ 3.1319,  7.5809, 18.9856, 14.8221, 88.8848],\n",
      "        [ 2.0095,  2.7038, 22.6210, 17.6139, 84.2595],\n",
      "        [12.4679, 10.8282, 22.4989, 17.1647, 89.2100]]) torch.Size([1000, 5])\n"
     ]
    },
    {
     "data": {
      "application/vnd.jupyter.widget-view+json": {
       "model_id": "1bc7b27d6a554ee1b54cc00219688515",
       "version_major": 2,
       "version_minor": 0
      },
      "text/plain": [
       "Drawing 1000 posterior samples:   0%|          | 0/1000 [00:00<?, ?it/s]"
      ]
     },
     "metadata": {},
     "output_type": "display_data"
    },
    {
     "name": "stdout",
     "output_type": "stream",
     "text": [
      "acceptance rate:  1.0\n",
      "theta posteriorrr tensor([[60.9744, 21.8456, 20.5787,  3.8358, 67.6749],\n",
      "        [56.5513, 25.2146, 25.5198,  6.2224, 78.8190],\n",
      "        [54.6150, 21.4389, 23.8013,  8.5670, 64.3694],\n",
      "        ...,\n",
      "        [57.0960, 26.2585, 30.2514, 10.3098, 74.1753],\n",
      "        [58.3585, 29.8394, 22.8046,  6.9329, 69.6254],\n",
      "        [54.5977, 28.6103, 28.5164,  6.3720, 60.6789]]) torch.Size([1000, 5])\n"
     ]
    },
    {
     "data": {
      "application/vnd.jupyter.widget-view+json": {
       "model_id": "d365e68b9ffb47e093f65eca15f11619",
       "version_major": 2,
       "version_minor": 0
      },
      "text/plain": [
       "Drawing 1000 posterior samples:   0%|          | 0/1000 [00:00<?, ?it/s]"
      ]
     },
     "metadata": {},
     "output_type": "display_data"
    },
    {
     "name": "stdout",
     "output_type": "stream",
     "text": [
      "acceptance rate:  1.0\n",
      "theta posteriorrr tensor([[-0.5673, 66.6955, 98.0070, 33.3127, 46.8963],\n",
      "        [ 1.5877, 62.8090, 95.0961, 33.9171, 44.8671],\n",
      "        [ 6.8629, 58.2816, 97.5741, 34.1407, 43.2511],\n",
      "        ...,\n",
      "        [ 9.8529, 62.9380, 94.6377, 43.5582, 36.3861],\n",
      "        [ 4.9879, 69.9379, 95.1492, 37.9463, 38.4234],\n",
      "        [ 1.2776, 63.5341, 98.3280, 36.9032, 41.6257]]) torch.Size([1000, 5])\n"
     ]
    },
    {
     "data": {
      "application/vnd.jupyter.widget-view+json": {
       "model_id": "fd1638e677cb42009be900a0c9ea74b8",
       "version_major": 2,
       "version_minor": 0
      },
      "text/plain": [
       "Drawing 1000 posterior samples:   0%|          | 0/1000 [00:00<?, ?it/s]"
      ]
     },
     "metadata": {},
     "output_type": "display_data"
    },
    {
     "name": "stdout",
     "output_type": "stream",
     "text": [
      "acceptance rate:  0.578\n",
      "acceptance rate:  0.5787272727272728\n",
      "theta posteriorrr tensor([[ 4.3686, 13.9464, 15.3757,  6.7664, 78.1342],\n",
      "        [ 3.7995, 21.0179, 26.7647, 22.2194, 74.6731],\n",
      "        [ 2.0874,  2.9198, 17.2996, 13.2699, 92.6887],\n",
      "        ...,\n",
      "        [12.1745, 15.8114, 27.3224, 23.5366, 82.3770],\n",
      "        [ 3.2613,  6.2902, 20.0243, 15.8436, 83.3523],\n",
      "        [ 7.0673,  9.1951, 15.6605,  6.9168, 91.0825]]) torch.Size([1000, 5])\n"
     ]
    },
    {
     "data": {
      "application/vnd.jupyter.widget-view+json": {
       "model_id": "35ff01cf3221460aa0fc43495dc672d2",
       "version_major": 2,
       "version_minor": 0
      },
      "text/plain": [
       "Drawing 1000 posterior samples:   0%|          | 0/1000 [00:00<?, ?it/s]"
      ]
     },
     "metadata": {},
     "output_type": "display_data"
    },
    {
     "name": "stdout",
     "output_type": "stream",
     "text": [
      "acceptance rate:  1.0\n",
      "theta posteriorrr tensor([[47.9357, 27.7689, 27.2145,  3.3946, 61.0608],\n",
      "        [57.0708, 27.4825, 18.1420,  7.9477, 71.1037],\n",
      "        [52.8612, 28.2761, 24.5542,  1.5039, 67.0525],\n",
      "        ...,\n",
      "        [50.1514, 25.9526, 19.8980,  8.5059, 70.2918],\n",
      "        [62.1646, 25.4273, 26.5006,  6.4213, 69.7405],\n",
      "        [61.1616, 24.1633, 21.4086, 11.6015, 67.8426]]) torch.Size([1000, 5])\n"
     ]
    },
    {
     "data": {
      "application/vnd.jupyter.widget-view+json": {
       "model_id": "e1659362bb8148678205d51d6f64d929",
       "version_major": 2,
       "version_minor": 0
      },
      "text/plain": [
       "Drawing 1000 posterior samples:   0%|          | 0/1000 [00:00<?, ?it/s]"
      ]
     },
     "metadata": {},
     "output_type": "display_data"
    },
    {
     "name": "stdout",
     "output_type": "stream",
     "text": [
      "acceptance rate:  1.0\n",
      "theta posteriorrr tensor([[  3.0901,  58.5599,  97.9696,  38.3848,  53.7931],\n",
      "        [  3.0012,  60.8982, 106.6475,  36.6803,  38.2386],\n",
      "        [ 10.8545,  63.8410,  96.4623,  44.7296,  39.2464],\n",
      "        ...,\n",
      "        [  5.7695,  66.9367, 101.6877,  36.6938,  48.9851],\n",
      "        [ -0.7340,  64.8060, 100.1222,  42.4648,  46.4358],\n",
      "        [  9.6603,  62.6114,  93.3106,  42.5579,  50.7555]]) torch.Size([1000, 5])\n"
     ]
    },
    {
     "data": {
      "application/vnd.jupyter.widget-view+json": {
       "model_id": "0330f223aec94080bef851ac57f525e3",
       "version_major": 2,
       "version_minor": 0
      },
      "text/plain": [
       "Drawing 1000 posterior samples:   0%|          | 0/1000 [00:00<?, ?it/s]"
      ]
     },
     "metadata": {},
     "output_type": "display_data"
    },
    {
     "name": "stdout",
     "output_type": "stream",
     "text": [
      "acceptance rate:  0.744\n",
      "acceptance rate:  0.7407272727272727\n",
      "theta posteriorrr tensor([[ 7.4609, 13.1739, 21.9186,  3.7086, 91.2597],\n",
      "        [10.7237,  7.7330, 28.6571, 12.8879, 82.1254],\n",
      "        [ 1.1692,  1.3162, 17.5268,  9.3559, 92.2091],\n",
      "        ...,\n",
      "        [10.0671, 10.6029, 25.3036, 17.8866, 91.0784],\n",
      "        [ 9.3629, 10.6593, 24.3846, 14.3880, 89.1891],\n",
      "        [11.5482, 11.3962, 14.6735, 18.7096, 91.0125]]) torch.Size([1000, 5])\n"
     ]
    },
    {
     "data": {
      "application/vnd.jupyter.widget-view+json": {
       "model_id": "0c5198bce6594e83a76313fc7c6d7693",
       "version_major": 2,
       "version_minor": 0
      },
      "text/plain": [
       "Drawing 1000 posterior samples:   0%|          | 0/1000 [00:00<?, ?it/s]"
      ]
     },
     "metadata": {},
     "output_type": "display_data"
    },
    {
     "name": "stdout",
     "output_type": "stream",
     "text": [
      "acceptance rate:  1.0\n",
      "theta posteriorrr tensor([[54.8622, 28.3167, 28.6407,  5.7480, 65.6525],\n",
      "        [53.0605, 30.8421, 29.1913,  6.0350, 68.6421],\n",
      "        [53.7325, 23.8088, 31.9913,  6.3008, 65.1131],\n",
      "        ...,\n",
      "        [65.9023, 30.1731, 23.7049,  3.8137, 68.3335],\n",
      "        [52.5479, 22.3472, 17.7051, 11.5267, 73.0307],\n",
      "        [63.1045, 25.4487, 30.5400, 12.7314, 70.6896]]) torch.Size([1000, 5])\n"
     ]
    },
    {
     "data": {
      "application/vnd.jupyter.widget-view+json": {
       "model_id": "6304c6dd6b3049909c2364dd17e5a27d",
       "version_major": 2,
       "version_minor": 0
      },
      "text/plain": [
       "Drawing 1000 posterior samples:   0%|          | 0/1000 [00:00<?, ?it/s]"
      ]
     },
     "metadata": {},
     "output_type": "display_data"
    },
    {
     "name": "stdout",
     "output_type": "stream",
     "text": [
      "acceptance rate:  1.0\n",
      "theta posteriorrr tensor([[  9.9360,  66.0330,  97.1926,  40.0380,  42.8503],\n",
      "        [  8.4856,  67.0439,  98.9184,  39.1367,  37.7434],\n",
      "        [ 10.8983,  64.8708,  98.6628,  36.7603,  49.7066],\n",
      "        ...,\n",
      "        [  8.0487,  67.2446,  97.9612,  38.0034,  41.8995],\n",
      "        [  5.4925,  73.8437,  99.2003,  35.5683,  47.9419],\n",
      "        [  7.9346,  61.4998, 101.9049,  39.2587,  51.1588]]) torch.Size([1000, 5])\n"
     ]
    },
    {
     "data": {
      "application/vnd.jupyter.widget-view+json": {
       "model_id": "30e7f64ad2f54fdf97c31f9bddf7159e",
       "version_major": 2,
       "version_minor": 0
      },
      "text/plain": [
       "Drawing 1000 posterior samples:   0%|          | 0/1000 [00:00<?, ?it/s]"
      ]
     },
     "metadata": {},
     "output_type": "display_data"
    },
    {
     "name": "stdout",
     "output_type": "stream",
     "text": [
      "acceptance rate:  0.825\n",
      "acceptance rate:  0.819\n",
      "theta posteriorrr tensor([[ 8.3098, 15.3958, 16.0800,  1.9503, 98.9593],\n",
      "        [11.5325, 16.7984, 27.2748, 13.4674, 89.3391],\n",
      "        [ 5.8811, 13.7245, 19.7018, 16.1940, 77.4613],\n",
      "        ...,\n",
      "        [ 6.6017, 10.6156, 20.8938, 14.6266, 95.3426],\n",
      "        [ 5.8250, 12.8347, 28.5957,  8.7273, 94.5878],\n",
      "        [ 9.8184, 15.1198, 26.9590,  4.7338, 83.5067]]) torch.Size([1000, 5])\n"
     ]
    },
    {
     "data": {
      "application/vnd.jupyter.widget-view+json": {
       "model_id": "e5c55782fd194ea49d86ae61b58ccdea",
       "version_major": 2,
       "version_minor": 0
      },
      "text/plain": [
       "Drawing 1000 posterior samples:   0%|          | 0/1000 [00:00<?, ?it/s]"
      ]
     },
     "metadata": {},
     "output_type": "display_data"
    },
    {
     "name": "stdout",
     "output_type": "stream",
     "text": [
      "acceptance rate:  1.0\n",
      "theta posteriorrr tensor([[57.8667, 24.1640, 24.8492, 10.0659, 73.1911],\n",
      "        [56.2841, 21.4459, 25.7002, 11.5648, 64.1498],\n",
      "        [54.9570, 28.0516, 31.7797, 12.9221, 65.1824],\n",
      "        ...,\n",
      "        [53.9665, 24.3053, 26.0783,  1.9783, 72.5699],\n",
      "        [59.3784, 30.1169, 28.2517,  6.8692, 65.6342],\n",
      "        [57.2547, 23.4640, 23.1335,  8.3460, 67.0182]]) torch.Size([1000, 5])\n"
     ]
    },
    {
     "data": {
      "application/vnd.jupyter.widget-view+json": {
       "model_id": "56f2ec337a0c4707a615a17abd94ead1",
       "version_major": 2,
       "version_minor": 0
      },
      "text/plain": [
       "Drawing 1000 posterior samples:   0%|          | 0/1000 [00:00<?, ?it/s]"
      ]
     },
     "metadata": {},
     "output_type": "display_data"
    },
    {
     "name": "stdout",
     "output_type": "stream",
     "text": [
      "acceptance rate:  1.0\n",
      "theta posteriorrr tensor([[  7.6549,  62.3800,  88.7432,  37.5576,  50.8354],\n",
      "        [ 16.4191,  67.4862,  99.7052,  33.8703,  43.9047],\n",
      "        [  9.1299,  69.8714, 101.1537,  36.2902,  44.3362],\n",
      "        ...,\n",
      "        [  2.7821,  66.7483,  97.5309,  39.4600,  47.0456],\n",
      "        [  2.4952,  74.9411,  95.7843,  42.7961,  45.0505],\n",
      "        [  8.5113,  64.4824,  97.7048,  38.0994,  45.8903]]) torch.Size([1000, 5])\n"
     ]
    },
    {
     "data": {
      "application/vnd.jupyter.widget-view+json": {
       "model_id": "c44a8220580c42c79c4404faef01824b",
       "version_major": 2,
       "version_minor": 0
      },
      "text/plain": [
       "Drawing 1000 posterior samples:   0%|          | 0/1000 [00:00<?, ?it/s]"
      ]
     },
     "metadata": {},
     "output_type": "display_data"
    },
    {
     "name": "stdout",
     "output_type": "stream",
     "text": [
      "acceptance rate:  0.699\n",
      "acceptance rate:  0.7065454545454546\n",
      "theta posteriorrr tensor([[10.4086,  9.3028, 24.4206, 16.3588, 88.8488],\n",
      "        [ 5.1665,  7.5285, 24.6508, 11.4403, 85.5827],\n",
      "        [13.5539,  6.7105, 25.5953, 10.8224, 94.1404],\n",
      "        ...,\n",
      "        [ 2.5826,  3.5262, 26.4686,  6.7919, 92.5580],\n",
      "        [ 2.5218,  7.1354, 21.9792, 11.0297, 92.7461],\n",
      "        [ 3.1795, 11.5426, 23.8354, 11.3325, 88.7359]]) torch.Size([1000, 5])\n"
     ]
    },
    {
     "data": {
      "application/vnd.jupyter.widget-view+json": {
       "model_id": "a6cd7c903c164e60819643e9f7bbb911",
       "version_major": 2,
       "version_minor": 0
      },
      "text/plain": [
       "Drawing 1000 posterior samples:   0%|          | 0/1000 [00:00<?, ?it/s]"
      ]
     },
     "metadata": {},
     "output_type": "display_data"
    },
    {
     "name": "stdout",
     "output_type": "stream",
     "text": [
      "acceptance rate:  1.0\n",
      "theta posteriorrr tensor([[54.6874, 19.7328, 26.9168,  6.9773, 70.7024],\n",
      "        [56.2576, 24.8393, 30.4035,  6.2504, 66.0829],\n",
      "        [58.3245, 30.0263, 28.5002,  9.9212, 74.1619],\n",
      "        ...,\n",
      "        [55.7902, 21.8771, 29.2468, 12.3690, 69.4983],\n",
      "        [56.9107, 28.3019, 27.1999,  9.8885, 70.9452],\n",
      "        [57.9710, 22.3974, 33.3836,  2.7571, 70.8038]]) torch.Size([1000, 5])\n"
     ]
    },
    {
     "data": {
      "application/vnd.jupyter.widget-view+json": {
       "model_id": "974677d3776d40479254182bfd6ad114",
       "version_major": 2,
       "version_minor": 0
      },
      "text/plain": [
       "Drawing 1000 posterior samples:   0%|          | 0/1000 [00:00<?, ?it/s]"
      ]
     },
     "metadata": {},
     "output_type": "display_data"
    },
    {
     "name": "stdout",
     "output_type": "stream",
     "text": [
      "acceptance rate:  1.0\n",
      "theta posteriorrr tensor([[ 14.4312,  65.5078,  96.8958,  35.4488,  42.0453],\n",
      "        [  6.6104,  71.0945,  98.7907,  46.0457,  45.6335],\n",
      "        [ 10.2220,  63.7935,  88.9382,  39.3138,  49.9286],\n",
      "        ...,\n",
      "        [ 11.0198,  56.4725, 100.1524,  39.0358,  45.4354],\n",
      "        [  5.1099,  61.3735,  98.7633,  39.0179,  42.9250],\n",
      "        [  6.7523,  61.4722,  99.2670,  41.4683,  45.2189]]) torch.Size([1000, 5])\n"
     ]
    },
    {
     "data": {
      "application/vnd.jupyter.widget-view+json": {
       "model_id": "9e1a0dbcb0a64891aa505371d96c4c47",
       "version_major": 2,
       "version_minor": 0
      },
      "text/plain": [
       "Drawing 1000 posterior samples:   0%|          | 0/1000 [00:00<?, ?it/s]"
      ]
     },
     "metadata": {},
     "output_type": "display_data"
    },
    {
     "name": "stdout",
     "output_type": "stream",
     "text": [
      "acceptance rate:  0.319\n",
      "acceptance rate:  0.3381818181818182\n",
      "theta posteriorrr tensor([[ 8.0251,  3.6187, 16.2160,  2.9148, 94.8653],\n",
      "        [ 2.4677,  1.4392, 22.1643, 11.2406, 89.0457],\n",
      "        [ 3.5836,  4.5693, 29.1927,  8.7177, 85.6303],\n",
      "        ...,\n",
      "        [ 3.6526, 10.2819, 22.6223,  5.6952, 93.6630],\n",
      "        [ 4.0329,  6.0459, 22.4093,  1.8980, 90.8180],\n",
      "        [ 3.6590,  1.8076, 17.3856,  4.0553, 89.9788]]) torch.Size([1000, 5])\n"
     ]
    },
    {
     "data": {
      "application/vnd.jupyter.widget-view+json": {
       "model_id": "7e390aeeace4406eb7c513a4ef809493",
       "version_major": 2,
       "version_minor": 0
      },
      "text/plain": [
       "Drawing 1000 posterior samples:   0%|          | 0/1000 [00:00<?, ?it/s]"
      ]
     },
     "metadata": {},
     "output_type": "display_data"
    },
    {
     "name": "stdout",
     "output_type": "stream",
     "text": [
      "acceptance rate:  1.0\n",
      "theta posteriorrr tensor([[52.4884, 28.0030, 25.8617, 10.4886, 69.4770],\n",
      "        [55.9271, 28.3144, 27.2530,  4.9195, 72.6450],\n",
      "        [53.9681, 26.4995, 27.6452,  0.9431, 71.7508],\n",
      "        ...,\n",
      "        [54.7195, 29.1537, 30.1336,  6.9749, 66.9977],\n",
      "        [56.3974, 27.3435, 26.1544,  5.7998, 63.7615],\n",
      "        [54.5325, 25.7154, 29.3295,  4.7227, 67.7631]]) torch.Size([1000, 5])\n"
     ]
    },
    {
     "data": {
      "application/vnd.jupyter.widget-view+json": {
       "model_id": "88bf69019f58482bbbe0eb907d93b9c0",
       "version_major": 2,
       "version_minor": 0
      },
      "text/plain": [
       "Drawing 1000 posterior samples:   0%|          | 0/1000 [00:00<?, ?it/s]"
      ]
     },
     "metadata": {},
     "output_type": "display_data"
    },
    {
     "name": "stdout",
     "output_type": "stream",
     "text": [
      "acceptance rate:  1.0\n",
      "theta posteriorrr tensor([[  5.3501,  67.1728,  97.8463,  31.5007,  47.2752],\n",
      "        [ 15.2859,  68.5655,  95.5875,  40.7791,  45.8409],\n",
      "        [ 13.1711,  64.0710,  92.8217,  39.0031,  50.1792],\n",
      "        ...,\n",
      "        [ 14.5082,  58.2814,  97.0905,  38.3730,  45.6912],\n",
      "        [ 10.4103,  66.6525,  99.1435,  40.0293,  44.5113],\n",
      "        [  5.8709,  64.5699, 100.9932,  42.8150,  48.2878]]) torch.Size([1000, 5])\n"
     ]
    },
    {
     "data": {
      "application/vnd.jupyter.widget-view+json": {
       "model_id": "11562fb3022b46e18b2550aaa7d67cf6",
       "version_major": 2,
       "version_minor": 0
      },
      "text/plain": [
       "Drawing 1000 posterior samples:   0%|          | 0/1000 [00:00<?, ?it/s]"
      ]
     },
     "metadata": {},
     "output_type": "display_data"
    },
    {
     "name": "stdout",
     "output_type": "stream",
     "text": [
      "acceptance rate:  0.718\n",
      "acceptance rate:  0.7115454545454546\n",
      "theta posteriorrr tensor([[ 7.8777,  8.3447, 26.8077, 10.2901, 87.6101],\n",
      "        [13.2254,  4.9862, 26.0649, 17.3355, 86.7081],\n",
      "        [ 7.6207, 10.7729, 25.8177, 16.5038, 88.2882],\n",
      "        ...,\n",
      "        [ 8.3248,  2.6804, 18.8639, 14.1470, 94.7703],\n",
      "        [14.5431, 12.1288, 20.6278, 15.8421, 89.7476],\n",
      "        [19.6719,  6.4705, 18.3273, 21.7161, 87.6480]]) torch.Size([1000, 5])\n"
     ]
    },
    {
     "data": {
      "application/vnd.jupyter.widget-view+json": {
       "model_id": "e921c40cbdde44b58e190e8baee92261",
       "version_major": 2,
       "version_minor": 0
      },
      "text/plain": [
       "Drawing 1000 posterior samples:   0%|          | 0/1000 [00:00<?, ?it/s]"
      ]
     },
     "metadata": {},
     "output_type": "display_data"
    },
    {
     "name": "stdout",
     "output_type": "stream",
     "text": [
      "acceptance rate:  1.0\n",
      "theta posteriorrr tensor([[54.8572, 30.1155, 18.1449,  7.4139, 73.3585],\n",
      "        [53.2194, 31.0123, 29.1846,  9.9291, 64.5363],\n",
      "        [50.5068, 27.6048, 38.0869, 11.4458, 64.0927],\n",
      "        ...,\n",
      "        [50.6766, 30.6159, 26.0487,  7.6666, 67.6160],\n",
      "        [55.6258, 27.3473, 24.7971, 14.5005, 68.8484],\n",
      "        [49.1031, 35.7717, 21.2945, 12.1616, 63.4334]]) torch.Size([1000, 5])\n"
     ]
    },
    {
     "data": {
      "application/vnd.jupyter.widget-view+json": {
       "model_id": "4c298dc7ecfd483794308f0196415384",
       "version_major": 2,
       "version_minor": 0
      },
      "text/plain": [
       "Drawing 1000 posterior samples:   0%|          | 0/1000 [00:00<?, ?it/s]"
      ]
     },
     "metadata": {},
     "output_type": "display_data"
    },
    {
     "name": "stdout",
     "output_type": "stream",
     "text": [
      "acceptance rate:  1.0\n",
      "theta posteriorrr tensor([[  9.5240,  68.1718, 101.6457,  34.8649,  38.1473],\n",
      "        [  0.1866,  66.1834,  97.1994,  33.5462,  50.1840],\n",
      "        [  4.4648,  62.2510, 102.6351,  36.4428,  51.0828],\n",
      "        ...,\n",
      "        [  3.4654,  70.7145,  97.1344,  38.8631,  44.1249],\n",
      "        [  4.2004,  61.1820,  99.6690,  47.0552,  47.6617],\n",
      "        [  3.1834,  70.4814,  99.1518,  35.4215,  40.3160]]) torch.Size([1000, 5])\n"
     ]
    },
    {
     "data": {
      "application/vnd.jupyter.widget-view+json": {
       "model_id": "353fb4fdbe4c4fd8bfcdea7f45f7239c",
       "version_major": 2,
       "version_minor": 0
      },
      "text/plain": [
       "Drawing 1000 posterior samples:   0%|          | 0/1000 [00:00<?, ?it/s]"
      ]
     },
     "metadata": {},
     "output_type": "display_data"
    },
    {
     "name": "stdout",
     "output_type": "stream",
     "text": [
      "acceptance rate:  0.654\n",
      "acceptance rate:  0.6466363636363637\n",
      "theta posteriorrr tensor([[ 7.1623, 17.7119, 29.0158, 11.9974, 79.1837],\n",
      "        [ 7.3744,  2.3650, 29.0049,  9.9494, 84.0612],\n",
      "        [ 1.7095,  4.7066, 16.8947, 10.9521, 93.3231],\n",
      "        ...,\n",
      "        [ 8.3562,  6.5626, 19.1820,  9.5537, 91.3754],\n",
      "        [11.0063,  6.4531, 29.5952, 10.1899, 84.1635],\n",
      "        [ 5.2339, 16.3653, 30.5588, 10.2184, 73.5684]]) torch.Size([1000, 5])\n"
     ]
    },
    {
     "data": {
      "application/vnd.jupyter.widget-view+json": {
       "model_id": "f2ba8879179e455aaa4ba2c78cd4c447",
       "version_major": 2,
       "version_minor": 0
      },
      "text/plain": [
       "Drawing 1000 posterior samples:   0%|          | 0/1000 [00:00<?, ?it/s]"
      ]
     },
     "metadata": {},
     "output_type": "display_data"
    },
    {
     "name": "stdout",
     "output_type": "stream",
     "text": [
      "acceptance rate:  1.0\n",
      "theta posteriorrr tensor([[53.2061, 21.2770, 21.1416, 16.8905, 69.3773],\n",
      "        [53.4212, 37.0512, 29.6398, 11.3617, 73.2777],\n",
      "        [44.8213, 20.6903, 34.8260,  6.2665, 64.9472],\n",
      "        ...,\n",
      "        [52.4435, 31.5191, 33.4138,  6.7074, 63.0572],\n",
      "        [53.1068, 29.9859, 32.0338,  6.3635, 63.1614],\n",
      "        [59.9491, 20.5497, 30.5705,  8.0927, 67.7936]]) torch.Size([1000, 5])\n"
     ]
    },
    {
     "data": {
      "application/vnd.jupyter.widget-view+json": {
       "model_id": "cf386c9656304e3ea8de6af8c6564f59",
       "version_major": 2,
       "version_minor": 0
      },
      "text/plain": [
       "Drawing 1000 posterior samples:   0%|          | 0/1000 [00:00<?, ?it/s]"
      ]
     },
     "metadata": {},
     "output_type": "display_data"
    },
    {
     "name": "stdout",
     "output_type": "stream",
     "text": [
      "acceptance rate:  1.0\n",
      "theta posteriorrr tensor([[  2.3021,  67.4103,  93.7355,  47.3338,  41.3360],\n",
      "        [ 11.2170,  66.6490, 100.3913,  45.2083,  43.9545],\n",
      "        [  0.1462,  73.1666, 102.3066,  39.3532,  45.4496],\n",
      "        ...,\n",
      "        [  5.8885,  76.9273,  99.3034,  41.8069,  39.3980],\n",
      "        [  0.5782,  66.5433,  90.0775,  50.2637,  43.0283],\n",
      "        [  3.3035,  65.9692, 103.4709,  39.3309,  43.6959]]) torch.Size([1000, 5])\n"
     ]
    },
    {
     "data": {
      "application/vnd.jupyter.widget-view+json": {
       "model_id": "b076fff1d23d403aad63038c8fe955a5",
       "version_major": 2,
       "version_minor": 0
      },
      "text/plain": [
       "Drawing 1000 posterior samples:   0%|          | 0/1000 [00:00<?, ?it/s]"
      ]
     },
     "metadata": {},
     "output_type": "display_data"
    },
    {
     "name": "stdout",
     "output_type": "stream",
     "text": [
      "acceptance rate:  0.627\n",
      "acceptance rate:  0.6307272727272727\n",
      "theta posteriorrr tensor([[ 1.5590,  5.7507, 28.7444, 10.7694, 94.7472],\n",
      "        [ 5.1890,  4.4642, 30.6246, 10.6175, 86.7371],\n",
      "        [ 3.2725,  5.8855, 21.4112,  9.1852, 89.1655],\n",
      "        ...,\n",
      "        [ 7.7355,  1.6055, 11.7765, 16.6309, 85.9902],\n",
      "        [ 6.3069,  3.4006, 23.9449, 12.3453, 84.1428],\n",
      "        [ 6.4818, 11.8470, 22.3015,  7.6115, 90.2365]]) torch.Size([1000, 5])\n"
     ]
    },
    {
     "data": {
      "application/vnd.jupyter.widget-view+json": {
       "model_id": "214d5b93aa27441e8cfa1038260e605d",
       "version_major": 2,
       "version_minor": 0
      },
      "text/plain": [
       "Drawing 1000 posterior samples:   0%|          | 0/1000 [00:00<?, ?it/s]"
      ]
     },
     "metadata": {},
     "output_type": "display_data"
    },
    {
     "name": "stdout",
     "output_type": "stream",
     "text": [
      "acceptance rate:  1.0\n",
      "theta posteriorrr tensor([[58.0862, 24.7666, 26.7720,  6.9101, 69.8925],\n",
      "        [54.2799, 21.0415, 20.6709,  4.6104, 63.0688],\n",
      "        [48.6132, 20.7216, 25.8417, -1.0090, 65.8217],\n",
      "        ...,\n",
      "        [59.5012, 29.0663, 24.6298,  5.3204, 65.1318],\n",
      "        [52.6215, 26.1058, 22.4360,  5.7763, 65.0550],\n",
      "        [54.5168, 29.2215, 28.0439, 10.0190, 67.5823]]) torch.Size([1000, 5])\n"
     ]
    },
    {
     "data": {
      "application/vnd.jupyter.widget-view+json": {
       "model_id": "147ef596bf9d4a92a363d4badc647e3f",
       "version_major": 2,
       "version_minor": 0
      },
      "text/plain": [
       "Drawing 1000 posterior samples:   0%|          | 0/1000 [00:00<?, ?it/s]"
      ]
     },
     "metadata": {},
     "output_type": "display_data"
    },
    {
     "name": "stdout",
     "output_type": "stream",
     "text": [
      "acceptance rate:  1.0\n",
      "theta posteriorrr tensor([[  6.2290,  64.7447, 115.2374,  36.0456,  42.4939],\n",
      "        [ -2.0352,  66.6358, 100.5155,  33.3749,  51.5236],\n",
      "        [  5.9861,  70.0829, 101.3238,  39.7808,  41.8295],\n",
      "        ...,\n",
      "        [  3.4293,  68.2922, 104.1227,  35.7214,  51.6429],\n",
      "        [  5.6630,  68.2013,  95.8323,  42.4390,  43.4178],\n",
      "        [  6.8838,  64.2001,  95.0757,  40.4822,  46.7987]]) torch.Size([1000, 5])\n"
     ]
    },
    {
     "data": {
      "application/vnd.jupyter.widget-view+json": {
       "model_id": "84c5be27062846ed9bb124c921319fdb",
       "version_major": 2,
       "version_minor": 0
      },
      "text/plain": [
       "Drawing 1000 posterior samples:   0%|          | 0/1000 [00:00<?, ?it/s]"
      ]
     },
     "metadata": {},
     "output_type": "display_data"
    },
    {
     "name": "stdout",
     "output_type": "stream",
     "text": [
      "acceptance rate:  0.567\n",
      "acceptance rate:  0.5860909090909091\n",
      "theta posteriorrr tensor([[10.2794,  8.7040, 23.2004,  9.4109, 91.2373],\n",
      "        [ 7.8921,  5.7043, 19.2929,  3.8370, 99.9433],\n",
      "        [ 9.3538,  9.4043,  9.1323,  5.4689, 87.4082],\n",
      "        ...,\n",
      "        [ 8.8428, 11.5100, 19.0938,  5.8231, 84.5833],\n",
      "        [ 1.4965, 12.7030, 14.3991,  4.5661, 83.7031],\n",
      "        [22.0958,  5.3934, 18.6429, 18.8669, 87.6074]]) torch.Size([1000, 5])\n"
     ]
    },
    {
     "data": {
      "application/vnd.jupyter.widget-view+json": {
       "model_id": "f129e134606c42ae8ec52b06e519150a",
       "version_major": 2,
       "version_minor": 0
      },
      "text/plain": [
       "Drawing 1000 posterior samples:   0%|          | 0/1000 [00:00<?, ?it/s]"
      ]
     },
     "metadata": {},
     "output_type": "display_data"
    },
    {
     "name": "stdout",
     "output_type": "stream",
     "text": [
      "acceptance rate:  1.0\n",
      "theta posteriorrr tensor([[48.2201, 23.7997, 28.4142,  6.7887, 69.6865],\n",
      "        [49.3293, 25.4470, 24.5277, -2.9732, 67.5247],\n",
      "        [55.3858, 22.6027, 25.7672,  1.0101, 63.2464],\n",
      "        ...,\n",
      "        [55.4757, 24.9721, 26.0995, -0.7933, 71.1939],\n",
      "        [53.5116, 31.8611, 28.4652,  3.9371, 64.2187],\n",
      "        [52.2084, 33.1848, 30.7656,  3.0445, 64.3997]]) torch.Size([1000, 5])\n"
     ]
    },
    {
     "data": {
      "application/vnd.jupyter.widget-view+json": {
       "model_id": "0479edd0d2224e39957d94b3166bceea",
       "version_major": 2,
       "version_minor": 0
      },
      "text/plain": [
       "Drawing 1000 posterior samples:   0%|          | 0/1000 [00:00<?, ?it/s]"
      ]
     },
     "metadata": {},
     "output_type": "display_data"
    },
    {
     "name": "stdout",
     "output_type": "stream",
     "text": [
      "acceptance rate:  1.0\n",
      "theta posteriorrr tensor([[  7.5664,  68.8547,  94.1703,  33.5986,  48.2585],\n",
      "        [ 15.0436,  61.4908,  92.5743,  33.9353,  51.2817],\n",
      "        [ 10.5522,  65.0360, 103.7084,  36.9923,  49.7110],\n",
      "        ...,\n",
      "        [  1.8669,  68.6153,  97.3885,  39.4372,  44.4083],\n",
      "        [  4.0183,  63.1491,  98.5871,  30.1898,  51.3856],\n",
      "        [ -0.2036,  67.5954, 100.8594,  40.0107,  42.4862]]) torch.Size([1000, 5])\n"
     ]
    },
    {
     "data": {
      "application/vnd.jupyter.widget-view+json": {
       "model_id": "be1f34233e56404b9171c9395a7f1985",
       "version_major": 2,
       "version_minor": 0
      },
      "text/plain": [
       "Drawing 1000 posterior samples:   0%|          | 0/1000 [00:00<?, ?it/s]"
      ]
     },
     "metadata": {},
     "output_type": "display_data"
    },
    {
     "name": "stdout",
     "output_type": "stream",
     "text": [
      "acceptance rate:  0.773\n",
      "acceptance rate:  0.7846363636363637\n",
      "theta posteriorrr tensor([[ 4.2637, 12.2424, 28.9887, 14.4350, 88.1828],\n",
      "        [ 1.0070, 10.3432, 17.7101, 15.1926, 89.8194],\n",
      "        [18.5684,  6.2870, 26.6536,  8.3796, 79.6221],\n",
      "        ...,\n",
      "        [ 9.5169, 18.0056, 22.7538,  7.7292, 81.8734],\n",
      "        [20.2382, 16.0119, 28.2326,  5.9208, 85.0736],\n",
      "        [ 4.7323, 10.4083, 24.4910,  4.3169, 92.8408]]) torch.Size([1000, 5])\n"
     ]
    },
    {
     "data": {
      "application/vnd.jupyter.widget-view+json": {
       "model_id": "e3207245e3bd4ffe8ee615b11c923d2e",
       "version_major": 2,
       "version_minor": 0
      },
      "text/plain": [
       "Drawing 1000 posterior samples:   0%|          | 0/1000 [00:00<?, ?it/s]"
      ]
     },
     "metadata": {},
     "output_type": "display_data"
    },
    {
     "name": "stdout",
     "output_type": "stream",
     "text": [
      "acceptance rate:  1.0\n",
      "theta posteriorrr tensor([[60.1458, 27.4467, 26.2599,  8.1219, 68.1711],\n",
      "        [53.6078, 27.2791, 20.4083,  4.5912, 68.5147],\n",
      "        [55.4960, 36.1286, 32.2683,  5.4815, 68.3383],\n",
      "        ...,\n",
      "        [54.5766, 33.6868, 24.9374, 11.4331, 74.0853],\n",
      "        [56.9774, 25.4323, 31.0280,  9.4928, 69.5595],\n",
      "        [51.7169, 27.2091, 27.9852,  9.5418, 63.8189]]) torch.Size([1000, 5])\n"
     ]
    },
    {
     "data": {
      "application/vnd.jupyter.widget-view+json": {
       "model_id": "be828281d82249758d94b25659f4aaa4",
       "version_major": 2,
       "version_minor": 0
      },
      "text/plain": [
       "Drawing 1000 posterior samples:   0%|          | 0/1000 [00:00<?, ?it/s]"
      ]
     },
     "metadata": {},
     "output_type": "display_data"
    },
    {
     "name": "stdout",
     "output_type": "stream",
     "text": [
      "acceptance rate:  1.0\n",
      "theta posteriorrr tensor([[ -0.2305,  66.2211, 102.0683,  41.2455,  39.7978],\n",
      "        [  5.3383,  62.8542,  91.4173,  47.1655,  42.6430],\n",
      "        [ -1.4656,  62.4218, 102.5601,  37.2063,  38.4278],\n",
      "        ...,\n",
      "        [  6.6386,  70.3124,  99.0721,  42.8828,  43.2806],\n",
      "        [  4.0860,  62.8238,  97.9475,  42.0587,  44.6837],\n",
      "        [  4.5391,  70.9628,  98.8992,  36.3632,  46.5015]]) torch.Size([1000, 5])\n"
     ]
    },
    {
     "data": {
      "application/vnd.jupyter.widget-view+json": {
       "model_id": "765ef9dd863246b4a45368d0a299e9a6",
       "version_major": 2,
       "version_minor": 0
      },
      "text/plain": [
       "Drawing 1000 posterior samples:   0%|          | 0/1000 [00:00<?, ?it/s]"
      ]
     },
     "metadata": {},
     "output_type": "display_data"
    },
    {
     "name": "stdout",
     "output_type": "stream",
     "text": [
      "acceptance rate:  0.81\n",
      "acceptance rate:  0.8013636363636364\n",
      "theta posteriorrr tensor([[ 3.7107,  4.6739, 20.8435,  9.1031, 90.3702],\n",
      "        [ 5.9945, 12.6124, 15.7919, 13.0574, 88.7185],\n",
      "        [ 4.9343,  8.4371, 20.7655, 15.4111, 87.9622],\n",
      "        ...,\n",
      "        [ 2.2657,  5.1657, 17.6658, 10.5776, 85.8978],\n",
      "        [ 4.0698,  7.5505, 20.1556, 11.5476, 90.8006],\n",
      "        [ 2.4041,  1.0144, 17.1172,  8.6390, 87.3156]]) torch.Size([1000, 5])\n"
     ]
    },
    {
     "data": {
      "application/vnd.jupyter.widget-view+json": {
       "model_id": "a287623142324563bb93f59fd0307fac",
       "version_major": 2,
       "version_minor": 0
      },
      "text/plain": [
       "Drawing 1000 posterior samples:   0%|          | 0/1000 [00:00<?, ?it/s]"
      ]
     },
     "metadata": {},
     "output_type": "display_data"
    },
    {
     "name": "stdout",
     "output_type": "stream",
     "text": [
      "acceptance rate:  1.0\n",
      "theta posteriorrr tensor([[56.7117, 26.4273, 27.6357,  5.3107, 65.5283],\n",
      "        [52.6613, 28.5994, 28.5080,  6.1279, 67.2203],\n",
      "        [51.0534, 25.1080, 28.1245,  7.8179, 63.1070],\n",
      "        ...,\n",
      "        [54.9366, 24.2723, 30.4367,  7.2067, 67.0455],\n",
      "        [54.9427, 23.9558, 31.6397,  2.8050, 67.8393],\n",
      "        [55.8899, 25.7802, 25.4860,  8.6302, 69.1593]]) torch.Size([1000, 5])\n"
     ]
    },
    {
     "data": {
      "application/vnd.jupyter.widget-view+json": {
       "model_id": "5b18095aee88447aa1dfe27d703dcc45",
       "version_major": 2,
       "version_minor": 0
      },
      "text/plain": [
       "Drawing 1000 posterior samples:   0%|          | 0/1000 [00:00<?, ?it/s]"
      ]
     },
     "metadata": {},
     "output_type": "display_data"
    },
    {
     "name": "stdout",
     "output_type": "stream",
     "text": [
      "acceptance rate:  1.0\n",
      "theta posteriorrr tensor([[  9.1105,  64.4069,  97.7186,  47.2435,  47.9969],\n",
      "        [  3.4627,  59.7977,  98.3733,  40.4603,  43.6355],\n",
      "        [  4.3846,  65.7113, 101.8251,  38.6950,  49.5878],\n",
      "        ...,\n",
      "        [  9.3631,  69.5079,  95.7112,  31.1504,  54.0573],\n",
      "        [ -0.7467,  65.3545,  95.1223,  39.5108,  46.8414],\n",
      "        [  3.7182,  67.7302,  97.6494,  42.5588,  43.8242]]) torch.Size([1000, 5])\n"
     ]
    }
   ],
   "source": [
    "torch.manual_seed(5)\n",
    "np.random.seed(5)\n",
    "\n",
    "obs_real = Gaussian(true_thetas[0, 0:])\n",
    "\n",
    "\n",
    "\n",
    "analytic = torch.distributions.normal.Normal(true_thetas, 1)\n",
    "\n",
    "\n",
    "overall_incremental_list = []\n",
    "\n",
    "variance_list = []\n",
    "\n",
    "mean_list = []\n",
    "\n",
    "for posterior_incremental_list in list_collection_inc:\n",
    "    \n",
    "    KL_incremental = []\n",
    "\n",
    "    for posterior_incremental in posterior_incremental_list:\n",
    "\n",
    "        #posterior_incremental.set_default_x(obs_real)\n",
    "\n",
    "        #KL = KLdivergence(posterior_incremental, sample_y)\n",
    "\n",
    "        KL, var_x, mu_x = KL_Gauss(posterior_incremental, analytic)\n",
    "        \n",
    "        variance_list.append(var_x)\n",
    "        mean_list.append(mu_x)\n",
    "\n",
    "        #KL_1d = calc_KL_1d(posterior_incremental, analytic)\n",
    "\n",
    "        #KL_incremental_1d.append(KL_1d)\n",
    "\n",
    "\n",
    "        KL_incremental.append(KL)\n",
    "\n",
    "        \n",
    "    overall_incremental_list.append(KL_incremental)"
   ]
  },
  {
   "cell_type": "code",
   "execution_count": 43,
   "id": "6a67366a",
   "metadata": {},
   "outputs": [],
   "source": [
    "mean_incremental = np.mean(np.array(overall_incremental_list), axis=0)\n",
    "\n",
    "\n",
    "stdev_incremental = np.std(np.array(overall_incremental_list), axis=0)\n",
    "\n",
    "\n",
    "\n",
    "lower_incremental = mean_incremental - [element * 0.5 for element in stdev_incremental]\n",
    "\n",
    "upper_incremental = mean_incremental + [element * 0.5 for element in stdev_incremental]"
   ]
  },
  {
   "cell_type": "code",
   "execution_count": 44,
   "id": "babbcf05",
   "metadata": {},
   "outputs": [],
   "source": [
    "import seaborn as sns"
   ]
  },
  {
   "cell_type": "code",
   "execution_count": 45,
   "id": "70289653",
   "metadata": {},
   "outputs": [],
   "source": [
    "mean_snpe = np.mean(np.array(overall_snpe_list), axis=0)\n",
    "\n",
    "\n",
    "stdev_snpe = np.std(np.array(overall_snpe_list), axis=0)\n",
    "\n",
    "\n",
    "lower_snpe = mean_snpe - [element * 0.5 for element in stdev_snpe]\n",
    "\n",
    "upper_snpe = mean_snpe + [element * 0.5 for element in stdev_snpe]"
   ]
  },
  {
   "cell_type": "code",
   "execution_count": 46,
   "id": "3f0c3f44",
   "metadata": {},
   "outputs": [],
   "source": [
    "num_simulations_list = [500, 750, 1000, 1500, 2000, 3000]"
   ]
  },
  {
   "cell_type": "code",
   "execution_count": 48,
   "id": "e48db975",
   "metadata": {},
   "outputs": [
    {
     "data": {
      "image/png": "[encoded data removed]",
      "text/plain": [
       "<Figure size 432x288 with 1 Axes>"
      ]
     },
     "metadata": {
      "needs_background": "light"
     },
     "output_type": "display_data"
    }
   ],
   "source": [
    "sns.set_context('notebook')\n",
    "#sns.set_context('talk')\n",
    "\n",
    "plt.plot(num_simulations_list, mean_incremental, '-o',label='incremental', color='purple')\n",
    "plt.plot(num_simulations_list, mean_snpe, '-o', label='snpe', color='springgreen')\n",
    "\n",
    "plt.plot(num_simulations_list, upper_incremental, '--', color='purple')\n",
    "plt.plot(num_simulations_list, upper_snpe, '--',  color='springgreen', alpha=0.8)\n",
    "\n",
    "plt.plot(num_simulations_list, lower_incremental, '--',  color='purple')\n",
    "plt.plot(num_simulations_list, lower_snpe, '--',  color='springgreen', alpha=0.8)\n",
    "\n",
    "\n",
    "plt.fill_between(x= num_simulations_list, y1=lower_incremental, y2=upper_incremental, color='purple', alpha=0.5,  label='1 stdv')\n",
    "plt.fill_between(x= num_simulations_list, y1=lower_snpe, y2=upper_snpe, color='springgreen', alpha=0.3, label='1 stdv')\n",
    "\n",
    "\n",
    "plt.legend()\n",
    "\n",
    "\n",
    "\n",
    "plt.xlabel('simulations per round')\n",
    "plt.ylabel('KL divergence')\n",
    "\n",
    "sns.despine()\n",
    "\n"
   ]
  },
  {
   "cell_type": "code",
   "execution_count": null,
   "id": "a5633279",
   "metadata": {},
   "outputs": [],
   "source": []
  },
  {
   "cell_type": "code",
   "execution_count": null,
   "id": "c65d0d39",
   "metadata": {},
   "outputs": [],
   "source": []
  },
  {
   "cell_type": "code",
   "execution_count": null,
   "id": "780cee07",
   "metadata": {},
   "outputs": [],
   "source": []
  }
 ],
 "metadata": {
  "kernelspec": {
   "display_name": "Python 3 (ipykernel)",
   "language": "python",
   "name": "python3"
  },
  "language_info": {
   "codemirror_mode": {
    "name": "ipython",
    "version": 3
   },
   "file_extension": ".py",
   "mimetype": "text/x-python",
   "name": "python",
   "nbconvert_exporter": "python",
   "pygments_lexer": "ipython3",
   "version": "3.7.11"
  }
 },
 "nbformat": 4,
 "nbformat_minor": 5
}
