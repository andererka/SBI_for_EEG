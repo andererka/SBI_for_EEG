{
 "cells": [
  {
   "cell_type": "markdown",
   "id": "4adc7403",
   "metadata": {},
   "source": [
    "# Exploring parameters\n",
    "\n",
    "#### density plots, post predictive checks etc."
   ]
  },
  {
   "cell_type": "code",
   "execution_count": 1,
   "id": "e788d96d",
   "metadata": {},
   "outputs": [],
   "source": [
    "%load_ext autoreload\n",
    "%autoreload 2\n",
    "import os.path as op\n",
    "import tempfile\n",
    "\n",
    "import matplotlib.pyplot as plt\n",
    "\n",
    "\n",
    "import hnn_core\n",
    "from hnn_core import simulate_dipole, jones_2009_model\n",
    "from hnn_core.viz import plot_dipole\n",
    "\n",
    "\n",
    "import sys\n",
    "sys.path.append('../code/')\n",
    "sys.path.append('../code/utils/')\n",
    "#sys.path.append('../code/sbi/')\n",
    "#sys.path.append('../../results_cluster/')\n",
    "\n",
    "\n",
    "import numpy as np\n",
    "import torch\n",
    "\n",
    "# visualization\n",
    "import matplotlib as mpl\n",
    "import matplotlib.pyplot as plt\n",
    "\n",
    "\n",
    "import os\n",
    "\n",
    "work_dir = '/home/ubuntu/sbi_for_eeg_data/code/'\n",
    "\n",
    "os.chdir(work_dir)\n",
    "\n",
    "#from utils.plot import cov, compare_vars, plot_varchanges\n",
    "#from utils.plot import compare_KLs, plot_KLs\n",
    "#from sbi.inference import potentials\n",
    "import utils.sbi_modulated_functions\n",
    "\n",
    "# sbi\n",
    "from sbi import utils as utils\n",
    "from sbi import analysis as analysis\n",
    "from sbi.inference.base import infer\n",
    "from sbi.inference import SNPE, prepare_for_sbi, simulate_for_sbi\n",
    "\n",
    "from sbi.analysis import conditional_pairplot, conditional_corrcoeff\n",
    "\n",
    "\n",
    "\n",
    "# import the summary statistics that you want to investigate\n",
    "from summary_features.calculate_summary_features import calculate_summary_statistics_alternative as alternative_sumstats\n",
    "from summary_features.calculate_summary_features import calculate_summary_stats_temporal as temporal_sumstats\n",
    "from summary_features.calculate_summary_features import calculate_summary_stats_number as number_sumstats\n",
    "from summary_features.calculate_summary_features import calculate_summary_stats_temporal\n"
   ]
  },
  {
   "cell_type": "code",
   "execution_count": 2,
   "id": "ab993458",
   "metadata": {},
   "outputs": [
    {
     "name": "stdout",
     "output_type": "stream",
     "text": [
      "1.11.0\n"
     ]
    }
   ],
   "source": [
    "print(torch.__version__)"
   ]
  },
  {
   "cell_type": "code",
   "execution_count": 3,
   "id": "9c212ce0",
   "metadata": {},
   "outputs": [],
   "source": [
    "## defining neuronal network model\n",
    "\n",
    "num_params = 6\n",
    "\n",
    "from utils.simulation_wrapper import set_network_default, SimulationWrapper\n",
    "sim_wrapper = SimulationWrapper(num_params, noise=False)\n"
   ]
  },
  {
   "cell_type": "code",
   "execution_count": 4,
   "id": "230edc87",
   "metadata": {},
   "outputs": [
    {
     "name": "stdout",
     "output_type": "stream",
     "text": [
      "/home/ubuntu\n",
      "/home/ubuntu\n",
      "/home/ubuntu/results/toy_example_mdn_08_04_lesser_ratio\n"
     ]
    }
   ],
   "source": [
    "from utils import inference\n",
    "\n",
    "import pickle\n",
    "from data_load_writer import *\n",
    "from data_load_writer import load_from_file as lf\n",
    "\n",
    "import os\n",
    "\n",
    "work_dir = '/home/ubuntu/'\n",
    "\n",
    "os.chdir(work_dir)\n",
    "\n",
    "\n",
    "\n",
    "import os\n",
    "\n",
    "print(os.getcwd())\n",
    "\n",
    "\n",
    "\n",
    "file = 'toy_example_mdn_08_04_lesser_ratio'\n",
    "\n",
    "\n",
    "print(os.getcwd())\n",
    "\n",
    "os.chdir('results/{}'.format(file))\n",
    "\n",
    "\n",
    "print(os.getcwd())\n",
    "  \n",
    "\n"
   ]
  },
  {
   "cell_type": "code",
   "execution_count": 5,
   "id": "bde67830",
   "metadata": {},
   "outputs": [],
   "source": [
    "def Gaussian(thetas, normal_noise=1):\n",
    "    \n",
    "    gauss_list = []\n",
    "    \n",
    "    for theta in thetas:\n",
    "    \n",
    "        mu, sigma = theta, normal_noise # mean and standard deviation\n",
    "\n",
    "        s = np.random.normal(mu, sigma, 1)\n",
    "    \n",
    "        \n",
    "        gauss_list.append(s[0])\n",
    "        \n",
    "    gauss_obs = torch.tensor(gauss_list)\n",
    "    \n",
    "    return gauss_obs\n",
    "    \n",
    "\n"
   ]
  },
  {
   "cell_type": "code",
   "execution_count": 6,
   "id": "bc10d6ce",
   "metadata": {},
   "outputs": [],
   "source": [
    "list_collection = torch.load('list_collection.pt')\n",
    "list_collection_inc = torch.load('list_collection_inc.pt')"
   ]
  },
  {
   "cell_type": "code",
   "execution_count": 7,
   "id": "d4ca2c26",
   "metadata": {},
   "outputs": [],
   "source": [
    "true_thetas = torch.tensor([[3.0, 6.0, 20.0, 10.0, 90.0, 55.0, 27.0, 27.0, 4.0, 70.0, 5.0, 66.0, 99.0, 40.0, 45.0]])\n",
    "parameter_names = ['t1', 't2', 't3', 't4', 't5', 't6', 't7', 't8', 't9', 't10', 't11', 't12', 't13', 't14', 't15']\n",
    "\n",
    "prior_max = [100.0] * 15\n",
    "prior_min = [1.0] * 15\n",
    "\n",
    "prior = utils.torchutils.BoxUniform(low=prior_min, high = prior_max)\n",
    "\n",
    "samples_prior = prior.sample((10000,))\n",
    "\n",
    "simulator_stats, prior = prepare_for_sbi(Gaussian, prior)"
   ]
  },
  {
   "cell_type": "code",
   "execution_count": 8,
   "id": "64df37b2",
   "metadata": {},
   "outputs": [],
   "source": [
    "samples_prior_list = samples_prior.unsqueeze(0)"
   ]
  },
  {
   "cell_type": "code",
   "execution_count": null,
   "id": "431660f3",
   "metadata": {},
   "outputs": [],
   "source": []
  },
  {
   "cell_type": "code",
   "execution_count": 9,
   "id": "0c8bddbc",
   "metadata": {},
   "outputs": [
    {
     "data": {
      "text/plain": [
       "torch.Size([10000, 15])"
      ]
     },
     "execution_count": 9,
     "metadata": {},
     "output_type": "execute_result"
    }
   ],
   "source": [
    "samples_prior_list[0].shape"
   ]
  },
  {
   "cell_type": "code",
   "execution_count": 10,
   "id": "dbeec27a",
   "metadata": {},
   "outputs": [
    {
     "name": "stdout",
     "output_type": "stream",
     "text": [
      "[Parallel(n_jobs=1)]: Using backend SequentialBackend with 1 concurrent workers.\n",
      "[Parallel(n_jobs=1)]: Done   1 out of   1 | elapsed:    1.6s remaining:    0.0s\n",
      "[Parallel(n_jobs=1)]: Done   1 out of   1 | elapsed:    1.6s finished\n"
     ]
    }
   ],
   "source": [
    "thetas = inference.run_only_sim(samples_prior_list, simulation_wrapper = simulator_stats, num_workers=1)"
   ]
  },
  {
   "cell_type": "code",
   "execution_count": null,
   "id": "6b885f02",
   "metadata": {},
   "outputs": [],
   "source": [
    "\n"
   ]
  },
  {
   "cell_type": "code",
   "execution_count": 11,
   "id": "678fc0e0",
   "metadata": {},
   "outputs": [],
   "source": [
    "def KL_Gauss(X, Y):\n",
    "    \n",
    "    sample_x = X.sample((1000,))\n",
    "    mu_x = torch.mean(sample_x, dim=0)\n",
    "    var_x = torch.std(sample_x, dim=0)\n",
    "\n",
    "    var_y = Y.stddev\n",
    "\n",
    "    mu_y = Y.mean\n",
    "    \n",
    "    \n",
    "    return torch.mean(np.log(var_y/var_x) + (var_x**2 + (mu_x - mu_y)**2)/(2*var_y**2) -(1/2)), var_x, mu_x\n",
    "\n",
    "\n",
    "def calc_KL_1d(X, Y):\n",
    "    \n",
    "    sample_x = X.sample((1000,))\n",
    "    mu_x = torch.mean(sample_x, dim=0)\n",
    "    var_x = torch.std(sample_x, dim=0)\n",
    "    \n",
    "    print(var_x)\n",
    "    print(mu_x)\n",
    "\n",
    "\n",
    "    var_y = Y.stddev\n",
    "\n",
    "    mu_y = Y.mean\n",
    "    \n",
    "    print(mu_y)\n",
    "    print(var_y)\n",
    "    \n",
    "    print(np.log(var_y/var_x) + (var_x**2 + (mu_x - mu_y)**2)/(2*var_y**2) -(1/2))\n",
    "    \n",
    "    return np.log(var_y/var_x) + (var_x**2 + (mu_x - mu_y)**2)/(2*var_y**2) -(1/2)\n",
    "\n",
    "\n",
    "# calculate the jensen-shanon divergence\n",
    "def js_divergence(p, q):\n",
    "    m = 0.5 * (p + q)\n",
    "    return 0.5 * kl_divergence(p, m) + 0.5 * kl_divergence(q, m)"
   ]
  },
  {
   "cell_type": "code",
   "execution_count": 12,
   "id": "c39fb7f2",
   "metadata": {},
   "outputs": [
    {
     "data": {
      "application/vnd.jupyter.widget-view+json": {
       "model_id": "5de8693fcd6541f0a4a65e67fc3e8d5f",
       "version_major": 2,
       "version_minor": 0
      },
      "text/plain": [
       "Drawing 1000 posterior samples:   0%|          | 0/1000 [00:00<?, ?it/s]"
      ]
     },
     "metadata": {},
     "output_type": "display_data"
    },
    {
     "name": "stdout",
     "output_type": "stream",
     "text": [
      "acceptance rate:  0.33\n",
      "acceptance rate:  0.3316363636363636\n"
     ]
    },
    {
     "name": "stderr",
     "output_type": "stream",
     "text": [
      "/home/ubuntu/pyknos/pyknos/mdn/mdn.py:288: UserWarning: torch.triangular_solve is deprecated in favor of torch.linalg.solve_triangularand will be removed in a future PyTorch release.\n",
      "torch.linalg.solve_triangular has its arguments reversed and does not return a copy of one of the inputs.\n",
      "X = torch.triangular_solve(B, A).solution\n",
      "should be replaced with\n",
      "X = torch.linalg.solve_triangular(A, B). (Triggered internally at  /opt/conda/conda-bld/pytorch_1646755861072/work/aten/src/ATen/native/BatchLinearAlgebra.cpp:1672.)\n",
      "  chosen_precision_factors,\n"
     ]
    },
    {
     "data": {
      "application/vnd.jupyter.widget-view+json": {
       "model_id": "1dc26462b7174c679addbb815b7942a0",
       "version_major": 2,
       "version_minor": 0
      },
      "text/plain": [
       "Drawing 1000 posterior samples:   0%|          | 0/1000 [00:00<?, ?it/s]"
      ]
     },
     "metadata": {},
     "output_type": "display_data"
    },
    {
     "name": "stdout",
     "output_type": "stream",
     "text": [
      "acceptance rate:  0.308\n",
      "acceptance rate:  0.33036363636363636\n",
      "tensor([4.8296, 5.3559, 6.0301, 3.8037, 3.8501, 9.1264, 8.2499, 5.2507, 3.6969,\n",
      "        8.7818, 2.0861, 4.1848, 2.1141, 8.0785, 4.2285])\n",
      "tensor([11.2057, 24.8240, 29.4990,  8.7109, 71.8655, 51.8188, 36.9014, 43.7151,\n",
      "         7.5725, 75.3172,  3.8781, 48.3548, 96.7298, 27.2452, 36.4100])\n",
      "tensor([[ 3.,  6., 20., 10., 90., 55., 27., 27.,  4., 70.,  5., 66., 99., 40.,\n",
      "         45.]])\n",
      "tensor([[1., 1., 1., 1., 1., 1., 1., 1., 1., 1., 1., 1., 1., 1., 1.]])\n",
      "tensor([[ 43.2545, 189.3360,  61.0003,   6.2291, 169.9934,  43.9945,  80.4395,\n",
      "         151.3238,  11.4073,  50.0238,   1.5700, 162.5020,   3.5631, 111.3843,\n",
      "          43.8920]])\n"
     ]
    },
    {
     "data": {
      "application/vnd.jupyter.widget-view+json": {
       "model_id": "c9f802f6d1524cbdb2d0ff85e9bbc1ad",
       "version_major": 2,
       "version_minor": 0
      },
      "text/plain": [
       "Drawing 1000 posterior samples:   0%|          | 0/1000 [00:00<?, ?it/s]"
      ]
     },
     "metadata": {},
     "output_type": "display_data"
    },
    {
     "name": "stdout",
     "output_type": "stream",
     "text": [
      "acceptance rate:  0.288\n",
      "acceptance rate:  0.27036363636363636\n"
     ]
    },
    {
     "data": {
      "application/vnd.jupyter.widget-view+json": {
       "model_id": "a0abee7772e04159ad8820955d0c6b42",
       "version_major": 2,
       "version_minor": 0
      },
      "text/plain": [
       "Drawing 1000 posterior samples:   0%|          | 0/1000 [00:00<?, ?it/s]"
      ]
     },
     "metadata": {},
     "output_type": "display_data"
    },
    {
     "name": "stdout",
     "output_type": "stream",
     "text": [
      "acceptance rate:  0.267\n",
      "acceptance rate:  0.2635454545454545\n",
      "tensor([ 5.0357,  4.7165,  6.5902, 12.0508,  5.7956,  6.7736,  4.1729,  5.7612,\n",
      "         4.8161,  7.3372,  6.0564,  5.7405,  3.7453,  4.5485,  6.6259])\n",
      "tensor([12.3270, 11.5453, 46.6831, 31.7931, 91.3438, 58.6180, 10.6888, 35.9840,\n",
      "        15.3382, 61.0092, 20.0177, 78.5768, 95.6655, 42.0836, 47.6702])\n",
      "tensor([[ 3.,  6., 20., 10., 90., 55., 27., 27.,  4., 70.,  5., 66., 99., 40.,\n",
      "         45.]])\n",
      "tensor([[1., 1., 1., 1., 1., 1., 1., 1., 1., 1., 1., 1., 1., 1., 1.]])\n",
      "tensor([[ 54.0594,  24.4465, 375.3244, 307.0914,  15.4401,  27.0729, 139.8058,\n",
      "          54.7011,  73.8029,  64.8416, 128.8051,  93.3164,  10.7526,  10.5003,\n",
      "          23.1250]])\n"
     ]
    },
    {
     "data": {
      "application/vnd.jupyter.widget-view+json": {
       "model_id": "d7e202ee69254ceea047c5792cbf132b",
       "version_major": 2,
       "version_minor": 0
      },
      "text/plain": [
       "Drawing 1000 posterior samples:   0%|          | 0/1000 [00:00<?, ?it/s]"
      ]
     },
     "metadata": {},
     "output_type": "display_data"
    },
    {
     "name": "stdout",
     "output_type": "stream",
     "text": [
      "acceptance rate:  0.941\n",
      "acceptance rate:  0.9326363636363636\n"
     ]
    },
    {
     "data": {
      "application/vnd.jupyter.widget-view+json": {
       "model_id": "c9a207a263b64787bc9d89b90ac43ceb",
       "version_major": 2,
       "version_minor": 0
      },
      "text/plain": [
       "Drawing 1000 posterior samples:   0%|          | 0/1000 [00:00<?, ?it/s]"
      ]
     },
     "metadata": {},
     "output_type": "display_data"
    },
    {
     "name": "stdout",
     "output_type": "stream",
     "text": [
      "acceptance rate:  0.944\n",
      "acceptance rate:  0.932\n",
      "tensor([9.0687, 5.7619, 4.2316, 4.7683, 7.6975, 3.2334, 8.6560, 4.4220, 9.7543,\n",
      "        6.2528, 3.8263, 2.9632, 3.0992, 6.2966, 8.3388])\n",
      "tensor([30.6501, 28.9403, 36.4585, 24.6859, 60.1484, 59.2969, 50.6435, 33.1450,\n",
      "        43.2887, 54.5867, 21.1517, 50.7301, 91.1221, 22.3393, 80.5371])\n",
      "tensor([[ 3.,  6., 20., 10., 90., 55., 27., 27.,  4., 70.,  5., 66., 99., 40.,\n",
      "         45.]])\n",
      "tensor([[1., 1., 1., 1., 1., 1., 1., 1., 1., 1., 1., 1., 1., 1., 1.]])\n",
      "tensor([[420.6808, 277.4773, 142.4515, 117.1436, 472.6438,  12.7855, 314.3124,\n",
      "          26.6707, 816.5947, 136.0000, 135.9169, 119.3897,  34.2021, 173.4327,\n",
      "         663.5911]])\n"
     ]
    },
    {
     "data": {
      "application/vnd.jupyter.widget-view+json": {
       "model_id": "3440b7b15ead4a5f9002e5323a2944eb",
       "version_major": 2,
       "version_minor": 0
      },
      "text/plain": [
       "Drawing 1000 posterior samples:   0%|          | 0/1000 [00:00<?, ?it/s]"
      ]
     },
     "metadata": {},
     "output_type": "display_data"
    },
    {
     "name": "stdout",
     "output_type": "stream",
     "text": [
      "acceptance rate:  0.237\n",
      "acceptance rate:  0.26\n"
     ]
    },
    {
     "data": {
      "application/vnd.jupyter.widget-view+json": {
       "model_id": "392790f5a62f412a8bfde1464f965aaf",
       "version_major": 2,
       "version_minor": 0
      },
      "text/plain": [
       "Drawing 1000 posterior samples:   0%|          | 0/1000 [00:00<?, ?it/s]"
      ]
     },
     "metadata": {},
     "output_type": "display_data"
    },
    {
     "name": "stdout",
     "output_type": "stream",
     "text": [
      "acceptance rate:  0.275\n",
      "acceptance rate:  0.27036363636363636\n",
      "tensor([1.7012, 1.6517, 4.1732, 1.2488, 3.0856, 2.2818, 1.5304, 2.2805, 2.1186,\n",
      "        0.9211, 1.6364, 1.4000, 3.1593, 2.8233, 4.1702])\n",
      "tensor([ 4.6219,  3.4521, 22.1330,  8.9173, 92.2437, 53.5832, 26.8572, 27.0392,\n",
      "         4.7991, 68.5782,  3.6926, 64.8537, 95.3929, 40.4051, 42.4584])\n",
      "tensor([[ 3.,  6., 20., 10., 90., 55., 27., 27.,  4., 70.,  5., 66., 99., 40.,\n",
      "         45.]])\n",
      "tensor([[1., 1., 1., 1., 1., 1., 1., 1., 1., 1., 1., 1., 1., 1., 1.]])\n",
      "tensor([[1.7311, 3.6082, 9.0539, 0.6436, 5.6507, 2.2819, 0.2557, 1.2766, 1.3128,\n",
      "         1.0172, 1.2010, 0.8006, 9.8461, 2.5296, 9.9972]])\n"
     ]
    },
    {
     "data": {
      "application/vnd.jupyter.widget-view+json": {
       "model_id": "be120cf2bbd0450f801d95c9095d8994",
       "version_major": 2,
       "version_minor": 0
      },
      "text/plain": [
       "Drawing 1000 posterior samples:   0%|          | 0/1000 [00:00<?, ?it/s]"
      ]
     },
     "metadata": {},
     "output_type": "display_data"
    },
    {
     "name": "stdout",
     "output_type": "stream",
     "text": [
      "acceptance rate:  0.864\n",
      "acceptance rate:  0.8728181818181818\n"
     ]
    },
    {
     "data": {
      "application/vnd.jupyter.widget-view+json": {
       "model_id": "cbe2b2f442774155b8a621f8d55b7786",
       "version_major": 2,
       "version_minor": 0
      },
      "text/plain": [
       "Drawing 1000 posterior samples:   0%|          | 0/1000 [00:00<?, ?it/s]"
      ]
     },
     "metadata": {},
     "output_type": "display_data"
    },
    {
     "name": "stdout",
     "output_type": "stream",
     "text": [
      "acceptance rate:  0.871\n",
      "acceptance rate:  0.8743636363636363\n",
      "tensor([5.1934, 8.1850, 7.7913, 5.8951, 4.8368, 1.7532, 1.7069, 3.1665, 4.0823,\n",
      "        3.5194, 2.8584, 2.9748, 4.6062, 4.8123, 6.7224])\n",
      "tensor([16.6137, 34.1201, 18.1559, 21.5617, 88.7133, 51.5499, 28.1625, 17.6861,\n",
      "         8.9965, 65.4008, 15.9923, 71.9090, 89.6781, 38.6193, 36.1381])\n",
      "tensor([[ 3.,  6., 20., 10., 90., 55., 27., 27.,  4., 70.,  5., 66., 99., 40.,\n",
      "         45.]])\n",
      "tensor([[1., 1., 1., 1., 1., 1., 1., 1., 1., 1., 1., 1., 1., 1., 1.]])\n",
      "tensor([[104.0054, 426.2635,  29.4994,  81.9378,  10.4488,   6.4269,   1.0978,\n",
      "          46.7346,  18.9087,  15.0112,  62.9507,  20.2925,  52.0300,  10.4611,\n",
      "          59.4562]])\n"
     ]
    },
    {
     "data": {
      "application/vnd.jupyter.widget-view+json": {
       "model_id": "f5c5b9a06bdc4872963fcc8a677413cf",
       "version_major": 2,
       "version_minor": 0
      },
      "text/plain": [
       "Drawing 1000 posterior samples:   0%|          | 0/1000 [00:00<?, ?it/s]"
      ]
     },
     "metadata": {},
     "output_type": "display_data"
    },
    {
     "name": "stdout",
     "output_type": "stream",
     "text": [
      "acceptance rate:  0.27\n",
      "acceptance rate:  0.2770909090909091\n"
     ]
    },
    {
     "data": {
      "application/vnd.jupyter.widget-view+json": {
       "model_id": "f6028878a12e464999585d9c1df0dd4a",
       "version_major": 2,
       "version_minor": 0
      },
      "text/plain": [
       "Drawing 1000 posterior samples:   0%|          | 0/1000 [00:00<?, ?it/s]"
      ]
     },
     "metadata": {},
     "output_type": "display_data"
    },
    {
     "name": "stdout",
     "output_type": "stream",
     "text": [
      "acceptance rate:  0.29\n",
      "acceptance rate:  0.2828181818181818\n",
      "tensor([2.4988, 4.2520, 7.7982, 2.1033, 3.0363, 1.6882, 2.0635, 3.7270, 1.3866,\n",
      "        2.2815, 1.3809, 3.0747, 3.1449, 2.1292, 8.8179])\n",
      "tensor([ 8.8709, 13.7969, 35.4433, 14.3152, 88.0644, 52.3600, 29.8387, 33.5681,\n",
      "         2.8109, 64.4296,  7.0181, 58.5533, 93.7711, 35.2372, 28.1406])\n",
      "tensor([[ 3.,  6., 20., 10., 90., 55., 27., 27.,  4., 70.,  5., 66., 99., 40.,\n",
      "         45.]])\n",
      "tensor([[1., 1., 1., 1., 1., 1., 1., 1., 1., 1., 1., 1., 1., 1., 1.]])\n",
      "tensor([[ 18.9396,  37.4883, 147.1004,  10.2792,   4.8722,   3.8861,   4.9337,\n",
      "          26.7000,   0.8415,  16.7926,   2.1671,  30.8306,  16.9701,  12.3530,\n",
      "         178.3197]])\n"
     ]
    },
    {
     "data": {
      "application/vnd.jupyter.widget-view+json": {
       "model_id": "9c61934d44fa40459837f5cbcaa4ce4d",
       "version_major": 2,
       "version_minor": 0
      },
      "text/plain": [
       "Drawing 1000 posterior samples:   0%|          | 0/1000 [00:00<?, ?it/s]"
      ]
     },
     "metadata": {},
     "output_type": "display_data"
    },
    {
     "name": "stdout",
     "output_type": "stream",
     "text": [
      "acceptance rate:  0.525\n",
      "acceptance rate:  0.5429090909090909\n"
     ]
    },
    {
     "data": {
      "application/vnd.jupyter.widget-view+json": {
       "model_id": "5dc51b37e72a4b219d19f55bb7ed6833",
       "version_major": 2,
       "version_minor": 0
      },
      "text/plain": [
       "Drawing 1000 posterior samples:   0%|          | 0/1000 [00:00<?, ?it/s]"
      ]
     },
     "metadata": {},
     "output_type": "display_data"
    },
    {
     "name": "stdout",
     "output_type": "stream",
     "text": [
      "acceptance rate:  0.547\n",
      "acceptance rate:  0.5403636363636364\n",
      "tensor([5.0077, 6.0185, 5.7569, 4.8897, 7.5242, 6.2834, 4.1770, 4.4250, 5.2547,\n",
      "        6.0617, 3.9349, 6.3490, 5.1840, 3.3971, 8.5706])\n",
      "tensor([ 9.3653, 16.6396, 11.3735, 14.6528, 64.8268, 44.3253, 24.8928, 25.7857,\n",
      "         9.1035, 85.9547,  7.9440, 81.5912, 82.2970, 36.5489, 34.2910])\n",
      "tensor([[ 3.,  6., 20., 10., 90., 55., 27., 27.,  4., 70.,  5., 66., 99., 40.,\n",
      "         45.]])\n",
      "tensor([[1., 1., 1., 1., 1., 1., 1., 1., 1., 1., 1., 1., 1., 1., 1.]])\n",
      "tensor([[ 30.6859,  72.4173,  51.5287,  20.6920, 342.6346,  74.3773,   9.0144,\n",
      "           8.5403,  24.6697, 143.3457,  10.2052, 139.3492, 150.7867,  10.0025,\n",
      "          91.4202]])\n"
     ]
    },
    {
     "data": {
      "application/vnd.jupyter.widget-view+json": {
       "model_id": "0563d9846e4942e9a760ff1fce2fbbe2",
       "version_major": 2,
       "version_minor": 0
      },
      "text/plain": [
       "Drawing 1000 posterior samples:   0%|          | 0/1000 [00:00<?, ?it/s]"
      ]
     },
     "metadata": {},
     "output_type": "display_data"
    },
    {
     "name": "stdout",
     "output_type": "stream",
     "text": [
      "acceptance rate:  0.81\n",
      "acceptance rate:  0.7970909090909091\n"
     ]
    },
    {
     "data": {
      "application/vnd.jupyter.widget-view+json": {
       "model_id": "681edad5cfb34563b3a4ab92fc3f28a4",
       "version_major": 2,
       "version_minor": 0
      },
      "text/plain": [
       "Drawing 1000 posterior samples:   0%|          | 0/1000 [00:00<?, ?it/s]"
      ]
     },
     "metadata": {},
     "output_type": "display_data"
    },
    {
     "name": "stdout",
     "output_type": "stream",
     "text": [
      "acceptance rate:  0.801\n",
      "acceptance rate:  0.7965454545454546\n",
      "tensor([4.2720, 5.4685, 4.3686, 5.0250, 5.2698, 6.9399, 5.1952, 5.6074, 4.4452,\n",
      "        4.2831, 5.8505, 7.0502, 6.8383, 5.8902, 6.9178])\n",
      "tensor([17.2928, 13.1203, 12.9304, 21.6263, 90.8490, 31.7764, 12.4134, 42.5486,\n",
      "        16.3876, 67.1382, 12.1352, 44.0669, 75.9504, 35.1247, 18.7423])\n",
      "tensor([[ 3.,  6., 20., 10., 90., 55., 27., 27.,  4., 70.,  5., 66., 99., 40.,\n",
      "         45.]])\n",
      "tensor([[1., 1., 1., 1., 1., 1., 1., 1., 1., 1., 1., 1., 1., 1., 1.]])\n",
      "tensor([[109.3147,  38.1026,  32.5577,  78.0961,  12.0837, 291.3112, 117.7317,\n",
      "         134.3763,  84.6140,  11.3125,  40.3032, 262.9312, 286.6010,  26.9581,\n",
      "         366.2277]])\n"
     ]
    },
    {
     "data": {
      "application/vnd.jupyter.widget-view+json": {
       "model_id": "30e9a299e97a4247af7ca85989390293",
       "version_major": 2,
       "version_minor": 0
      },
      "text/plain": [
       "Drawing 1000 posterior samples:   0%|          | 0/1000 [00:00<?, ?it/s]"
      ]
     },
     "metadata": {},
     "output_type": "display_data"
    },
    {
     "name": "stdout",
     "output_type": "stream",
     "text": [
      "acceptance rate:  0.708\n",
      "acceptance rate:  0.7046363636363636\n"
     ]
    },
    {
     "data": {
      "application/vnd.jupyter.widget-view+json": {
       "model_id": "a9759aade988420f9666be31a35efee6",
       "version_major": 2,
       "version_minor": 0
      },
      "text/plain": [
       "Drawing 1000 posterior samples:   0%|          | 0/1000 [00:00<?, ?it/s]"
      ]
     },
     "metadata": {},
     "output_type": "display_data"
    },
    {
     "name": "stdout",
     "output_type": "stream",
     "text": [
      "acceptance rate:  0.685\n",
      "acceptance rate:  0.7002727272727273\n",
      "tensor([7.7993, 8.3423, 3.7755, 3.8678, 5.5996, 5.1370, 2.3122, 5.8176, 9.1852,\n",
      "        4.1026, 6.9127, 5.4007, 3.0226, 5.9391, 7.5128])\n",
      "tensor([15.3462, 20.5959, 17.6856,  9.3353, 83.7823, 61.3219, 15.4760, 41.0938,\n",
      "        26.9689, 66.8282, 24.2163, 89.5781, 94.6119, 47.2601, 66.1808])\n",
      "tensor([[ 3.,  6., 20., 10., 90., 55., 27., 27.,  4., 70.,  5., 66., 99., 40.,\n",
      "         45.]])\n",
      "tensor([[1., 1., 1., 1., 1., 1., 1., 1., 1., 1., 1., 1., 1., 1., 1.]])\n",
      "tensor([[104.0753, 138.6956,   7.9768,   5.8481,  32.7854,  31.0408,  67.7359,\n",
      "         113.9797, 303.2523,  11.5341, 206.0921, 290.3605,  12.5897,  41.7096,\n",
      "         250.0176]])\n"
     ]
    },
    {
     "data": {
      "application/vnd.jupyter.widget-view+json": {
       "model_id": "700d8586b6cd4d0c97f04a34b39f3c83",
       "version_major": 2,
       "version_minor": 0
      },
      "text/plain": [
       "Drawing 1000 posterior samples:   0%|          | 0/1000 [00:00<?, ?it/s]"
      ]
     },
     "metadata": {},
     "output_type": "display_data"
    },
    {
     "name": "stdout",
     "output_type": "stream",
     "text": [
      "acceptance rate:  0.359\n",
      "acceptance rate:  0.34345454545454546\n"
     ]
    },
    {
     "data": {
      "application/vnd.jupyter.widget-view+json": {
       "model_id": "a99fd2d7ea004aeeb8d9590e06386db8",
       "version_major": 2,
       "version_minor": 0
      },
      "text/plain": [
       "Drawing 1000 posterior samples:   0%|          | 0/1000 [00:00<?, ?it/s]"
      ]
     },
     "metadata": {},
     "output_type": "display_data"
    },
    {
     "name": "stdout",
     "output_type": "stream",
     "text": [
      "acceptance rate:  0.347\n",
      "acceptance rate:  0.3389090909090909\n",
      "tensor([5.3289, 3.3044, 4.3128, 4.1319, 2.8441, 3.0943, 4.8214, 2.1060, 3.9868,\n",
      "        5.1892, 2.1506, 2.9349, 3.4217, 8.4682, 4.6119])\n",
      "tensor([ 8.9324,  5.8855,  7.0558, 16.1136, 92.5548, 54.3945, 32.5514, 28.1545,\n",
      "        10.2998, 53.7896,  8.0556, 57.7475, 90.5649, 23.4346, 42.8013])\n",
      "tensor([[ 3.,  6., 20., 10., 90., 55., 27., 27.,  4., 70.,  5., 66., 99., 40.,\n",
      "         45.]])\n",
      "tensor([[1., 1., 1., 1., 1., 1., 1., 1., 1., 1., 1., 1., 1., 1., 1.]])\n",
      "tensor([[ 29.6220,   3.7710,  91.1147,  25.3055,   5.7627,   3.3412,  24.9592,\n",
      "           1.6392,  25.9082, 142.7060,   5.7153,  36.7816,  39.6990, 170.4251,\n",
      "          11.0231]])\n"
     ]
    },
    {
     "data": {
      "application/vnd.jupyter.widget-view+json": {
       "model_id": "463618d4fa0f4f428bdc9b3e9e1c27bd",
       "version_major": 2,
       "version_minor": 0
      },
      "text/plain": [
       "Drawing 1000 posterior samples:   0%|          | 0/1000 [00:00<?, ?it/s]"
      ]
     },
     "metadata": {},
     "output_type": "display_data"
    },
    {
     "name": "stdout",
     "output_type": "stream",
     "text": [
      "acceptance rate:  0.028\n",
      "acceptance rate:  0.02772727272727273\n",
      "acceptance rate:  0.027\n",
      "acceptance rate:  0.02635483870967742\n",
      "acceptance rate:  0.026146341463414633\n"
     ]
    },
    {
     "data": {
      "application/vnd.jupyter.widget-view+json": {
       "model_id": "5e1e760bf7ed43a68fc0796503795608",
       "version_major": 2,
       "version_minor": 0
      },
      "text/plain": [
       "Drawing 1000 posterior samples:   0%|          | 0/1000 [00:00<?, ?it/s]"
      ]
     },
     "metadata": {},
     "output_type": "display_data"
    },
    {
     "name": "stdout",
     "output_type": "stream",
     "text": [
      "acceptance rate:  0.026\n",
      "acceptance rate:  0.02609090909090909\n",
      "acceptance rate:  0.027523809523809523\n",
      "acceptance rate:  0.026806451612903227\n",
      "acceptance rate:  0.027048780487804878\n",
      "tensor([1.3637, 3.5231, 1.9275, 2.5408, 1.8811, 2.1998, 4.4153, 3.7842, 1.3585,\n",
      "        2.0647, 1.7540, 0.7944, 1.7526, 1.9956, 6.7493])\n",
      "tensor([ 3.0337,  7.8788, 19.5246,  7.8133, 90.4463, 53.1706, 21.4528, 23.8322,\n",
      "         5.1802, 67.2571,  6.6537, 63.8539, 97.3501, 37.4603, 53.2905])\n",
      "tensor([[ 3.,  6., 20., 10., 90., 55., 27., 27.,  4., 70.,  5., 66., 99., 40.,\n",
      "         45.]])\n",
      "tensor([[1., 1., 1., 1., 1., 1., 1., 1., 1., 1., 1., 1., 1., 1., 1.]])\n",
      "tensor([[ 0.1202,  6.2118,  0.8144,  4.1862,  0.7371,  2.8044, 23.1480, 10.3469,\n",
      "          0.8128,  4.6683,  1.8437,  2.3487,  1.8358,  4.0252, 54.7330]])\n"
     ]
    },
    {
     "data": {
      "application/vnd.jupyter.widget-view+json": {
       "model_id": "f61b0cc904414cbe8859a5254cfced94",
       "version_major": 2,
       "version_minor": 0
      },
      "text/plain": [
       "Drawing 1000 posterior samples:   0%|          | 0/1000 [00:00<?, ?it/s]"
      ]
     },
     "metadata": {},
     "output_type": "display_data"
    },
    {
     "name": "stdout",
     "output_type": "stream",
     "text": [
      "acceptance rate:  0.47\n",
      "acceptance rate:  0.4709090909090909\n"
     ]
    },
    {
     "data": {
      "application/vnd.jupyter.widget-view+json": {
       "model_id": "f5f7241a0a3d4b62a254f935fcd37104",
       "version_major": 2,
       "version_minor": 0
      },
      "text/plain": [
       "Drawing 1000 posterior samples:   0%|          | 0/1000 [00:00<?, ?it/s]"
      ]
     },
     "metadata": {},
     "output_type": "display_data"
    },
    {
     "name": "stdout",
     "output_type": "stream",
     "text": [
      "acceptance rate:  0.428\n",
      "acceptance rate:  0.46545454545454545\n",
      "tensor([ 2.5702,  6.7777, 11.1388,  6.4368,  4.9749,  3.7640,  2.1074,  1.1443,\n",
      "        11.9367,  1.9301,  2.2664,  3.4042,  1.2373,  2.3022,  3.1948])\n",
      "tensor([12.0767, 19.9250, 19.9019, 20.0746, 81.8842, 52.6154, 28.0934, 25.4288,\n",
      "        28.1127, 64.2516,  8.2602, 72.0441, 98.2903, 34.8164, 34.1684])\n",
      "tensor([[ 3.,  6., 20., 10., 90., 55., 27., 27.,  4., 70.,  5., 66., 99., 40.,\n",
      "         45.]])\n",
      "tensor([[1., 1., 1., 1., 1., 1., 1., 1., 1., 1., 1., 1., 1., 1., 1.]])\n",
      "tensor([[4.3052e+01, 1.1751e+02, 5.9131e+01, 6.9103e+01, 4.3204e+01, 8.1014e+00,\n",
      "         1.5730e+00, 1.2543e+00, 3.5898e+02, 1.7227e+01, 6.5644e+00, 2.2335e+01,\n",
      "         3.0437e-01, 1.4751e+01, 6.2103e+01]])\n"
     ]
    },
    {
     "data": {
      "application/vnd.jupyter.widget-view+json": {
       "model_id": "0666a4b0a7914196bb308488763a5a60",
       "version_major": 2,
       "version_minor": 0
      },
      "text/plain": [
       "Drawing 1000 posterior samples:   0%|          | 0/1000 [00:00<?, ?it/s]"
      ]
     },
     "metadata": {},
     "output_type": "display_data"
    },
    {
     "name": "stdout",
     "output_type": "stream",
     "text": [
      "acceptance rate:  0.06\n",
      "acceptance rate:  0.06181818181818182\n",
      "acceptance rate:  0.060714285714285714\n"
     ]
    },
    {
     "data": {
      "application/vnd.jupyter.widget-view+json": {
       "model_id": "2bc8d1a17ea54173afdfd7360527ed04",
       "version_major": 2,
       "version_minor": 0
      },
      "text/plain": [
       "Drawing 1000 posterior samples:   0%|          | 0/1000 [00:00<?, ?it/s]"
      ]
     },
     "metadata": {},
     "output_type": "display_data"
    },
    {
     "name": "stdout",
     "output_type": "stream",
     "text": [
      "acceptance rate:  0.058\n",
      "acceptance rate:  0.058454545454545453\n",
      "acceptance rate:  0.059476190476190474\n",
      "tensor([3.9731, 7.7564, 5.9301, 3.7377, 4.5530, 6.3456, 5.0705, 4.6244, 4.1323,\n",
      "        9.0838, 1.4253, 5.7204, 5.8727, 3.9339, 5.2305])\n",
      "tensor([ 8.5621, 22.6279, 13.3477, 15.3590, 90.1830, 54.4601, 11.0263, 33.6383,\n",
      "        10.9022, 70.9252,  2.5980, 59.9909, 81.3893, 50.2145, 47.0388])\n",
      "tensor([[ 3.,  6., 20., 10., 90., 55., 27., 27.,  4., 70.,  5., 66., 99., 40.,\n",
      "         45.]])\n",
      "tensor([[1., 1., 1., 1., 1., 1., 1., 1., 1., 1., 1., 1., 1., 1., 1.]])\n",
      "tensor([[ 21.4817, 165.7756,  37.4296,  19.5264,   8.3657,  17.9315, 138.3107,\n",
      "          30.6948,  30.4390,  38.9793,   3.0462,  32.1720, 170.0428,  58.0360,\n",
      "          13.6030]])\n"
     ]
    },
    {
     "data": {
      "application/vnd.jupyter.widget-view+json": {
       "model_id": "e8e6184f1bc042d99b8108488c926c54",
       "version_major": 2,
       "version_minor": 0
      },
      "text/plain": [
       "Drawing 1000 posterior samples:   0%|          | 0/1000 [00:00<?, ?it/s]"
      ]
     },
     "metadata": {},
     "output_type": "display_data"
    },
    {
     "name": "stdout",
     "output_type": "stream",
     "text": [
      "acceptance rate:  0.009\n",
      "acceptance rate:  0.011545454545454546\n"
     ]
    },
    {
     "name": "stderr",
     "output_type": "stream",
     "text": [
      "WARNING:root:Drawing samples from posterior to estimate the normalizing\n",
      "                        constant for `log_prob()`. However, only\n",
      "                        1% posterior samples are within the\n",
      "                        prior support. It may take a long time to collect the\n",
      "                        remaining 793 samples.\n",
      "                        Consider interrupting (Ctrl-C) and either basing the\n",
      "                        estimate of the normalizing constant on fewer samples (by\n",
      "                        calling `posterior.leakage_correction(x_o,\n",
      "                        num_rejection_samples=N)`, where `N` is the number of\n",
      "                        samples you want to base the\n",
      "                        estimate on (default N=10000), or not estimating the\n",
      "                        normalizing constant at all\n",
      "                        (`log_prob(..., norm_posterior=False)`. The latter will\n",
      "                        result in an unnormalized `log_prob()`.\n"
     ]
    },
    {
     "name": "stdout",
     "output_type": "stream",
     "text": [
      "acceptance rate:  0.009857142857142858\n",
      "acceptance rate:  0.009935483870967743\n",
      "acceptance rate:  0.009975609756097561\n",
      "acceptance rate:  0.010098039215686274\n",
      "acceptance rate:  0.010245901639344262\n",
      "acceptance rate:  0.010380281690140845\n",
      "acceptance rate:  0.010333333333333333\n",
      "acceptance rate:  0.01045054945054945\n",
      "acceptance rate:  0.010455445544554456\n"
     ]
    },
    {
     "data": {
      "application/vnd.jupyter.widget-view+json": {
       "model_id": "b3436238bcfa41999c0db588e3580de1",
       "version_major": 2,
       "version_minor": 0
      },
      "text/plain": [
       "Drawing 1000 posterior samples:   0%|          | 0/1000 [00:00<?, ?it/s]"
      ]
     },
     "metadata": {},
     "output_type": "display_data"
    },
    {
     "name": "stdout",
     "output_type": "stream",
     "text": [
      "acceptance rate:  0.008\n",
      "acceptance rate:  0.011272727272727273\n",
      "acceptance rate:  0.011619047619047619\n",
      "acceptance rate:  0.011612903225806452\n",
      "acceptance rate:  0.01175609756097561\n",
      "acceptance rate:  0.011529411764705882\n",
      "acceptance rate:  0.011311475409836066\n",
      "acceptance rate:  0.011535211267605634\n",
      "acceptance rate:  0.011320987654320987\n",
      "acceptance rate:  0.010967032967032967\n",
      "acceptance rate:  0.011069306930693069\n",
      "tensor([1.1862, 2.9537, 4.8125, 1.8881, 1.1333, 2.2243, 1.5098, 3.7076, 1.7105,\n",
      "        1.7918, 1.0441, 1.6469, 1.7873, 0.7453, 1.7109])\n",
      "tensor([ 2.3670,  7.8828, 16.9009, 13.3121, 88.2390, 55.8832, 26.2314, 23.8840,\n",
      "         8.3607, 65.9615,  2.2810, 64.0930, 97.6716, 40.8919, 48.3998])\n",
      "tensor([[ 3.,  6., 20., 10., 90., 55., 27., 27.,  4., 70.,  5., 66., 99., 40.,\n",
      "         45.]])\n",
      "tensor([[1., 1., 1., 1., 1., 1., 1., 1., 1., 1., 1., 1., 1., 1., 1.]])\n",
      "tensor([[ 0.2331,  4.5515, 14.3110,  6.1320,  1.5677,  1.5643,  0.5231,  9.9175,\n",
      "          9.9340,  8.6769,  3.6985,  2.1755,  1.3988,  0.4695,  6.2059]])\n"
     ]
    },
    {
     "data": {
      "application/vnd.jupyter.widget-view+json": {
       "model_id": "69c9459ef3e24b1ca126ad13ecdfb313",
       "version_major": 2,
       "version_minor": 0
      },
      "text/plain": [
       "Drawing 1000 posterior samples:   0%|          | 0/1000 [00:00<?, ?it/s]"
      ]
     },
     "metadata": {},
     "output_type": "display_data"
    },
    {
     "name": "stdout",
     "output_type": "stream",
     "text": [
      "acceptance rate:  0.576\n",
      "acceptance rate:  0.59\n"
     ]
    },
    {
     "data": {
      "application/vnd.jupyter.widget-view+json": {
       "model_id": "43b11106c9b64b9494dae655451dd6f0",
       "version_major": 2,
       "version_minor": 0
      },
      "text/plain": [
       "Drawing 1000 posterior samples:   0%|          | 0/1000 [00:00<?, ?it/s]"
      ]
     },
     "metadata": {},
     "output_type": "display_data"
    },
    {
     "name": "stdout",
     "output_type": "stream",
     "text": [
      "acceptance rate:  0.57\n",
      "acceptance rate:  0.5760909090909091\n",
      "tensor([0.9229, 2.1468, 5.1316, 3.9246, 2.3612, 4.6655, 5.1250, 4.1960, 3.7842,\n",
      "        0.8789, 4.8128, 2.3526, 2.6271, 2.4608, 5.1808])\n",
      "tensor([ 2.9669,  6.5658, 19.8484,  9.5310, 96.5396, 65.6204, 19.6749, 36.8066,\n",
      "        14.6948, 71.6024, 17.9284, 58.3631, 95.7101, 39.0858, 36.7817])\n",
      "tensor([[ 3.,  6., 20., 10., 90., 55., 27., 27.,  4., 70.,  5., 66., 99., 40.,\n",
      "         45.]])\n",
      "tensor([[1., 1., 1., 1., 1., 1., 1., 1., 1., 1., 1., 1., 1., 1., 1.]])\n",
      "tensor([[6.6543e-03, 1.2005e+00, 1.1043e+01, 5.9438e+00, 2.2812e+01, 6.5240e+01,\n",
      "         3.7827e+01, 5.4954e+01, 6.2519e+01, 1.2992e+00, 9.3082e+01, 3.0573e+01,\n",
      "         7.3968e+00, 2.0451e+00, 4.5046e+01]])\n"
     ]
    },
    {
     "data": {
      "application/vnd.jupyter.widget-view+json": {
       "model_id": "bd3af7cf54614043b3bb3dd048b1f596",
       "version_major": 2,
       "version_minor": 0
      },
      "text/plain": [
       "Drawing 1000 posterior samples:   0%|          | 0/1000 [00:00<?, ?it/s]"
      ]
     },
     "metadata": {},
     "output_type": "display_data"
    },
    {
     "name": "stderr",
     "output_type": "stream",
     "text": [
      "WARNING:root:Drawing samples from posterior to estimate the normalizing\n",
      "                        constant for `log_prob()`. However, only\n",
      "                        0% posterior samples are within the\n",
      "                        prior support. It may take a long time to collect the\n",
      "                        remaining 991 samples.\n",
      "                        Consider interrupting (Ctrl-C) and either basing the\n",
      "                        estimate of the normalizing constant on fewer samples (by\n",
      "                        calling `posterior.leakage_correction(x_o,\n",
      "                        num_rejection_samples=N)`, where `N` is the number of\n",
      "                        samples you want to base the\n",
      "                        estimate on (default N=10000), or not estimating the\n",
      "                        normalizing constant at all\n",
      "                        (`log_prob(..., norm_posterior=False)`. The latter will\n",
      "                        result in an unnormalized `log_prob()`.\n"
     ]
    },
    {
     "name": "stdout",
     "output_type": "stream",
     "text": [
      "acceptance rate:  0.0\n",
      "acceptance rate:  0.0008181818181818182\n",
      "acceptance rate:  0.0005238095238095238\n",
      "acceptance rate:  0.0004838709677419355\n",
      "acceptance rate:  0.00046341463414634144\n",
      "acceptance rate:  0.00037254901960784314\n",
      "acceptance rate:  0.00034426229508196723\n",
      "acceptance rate:  0.0003802816901408451\n",
      "acceptance rate:  0.0003950617283950617\n",
      "acceptance rate:  0.0003846153846153846\n",
      "acceptance rate:  0.00036633663366336634\n",
      "acceptance rate:  0.00035135135135135135\n",
      "acceptance rate:  0.00033057851239669424\n",
      "acceptance rate:  0.0003206106870229008\n",
      "acceptance rate:  0.00031914893617021275\n",
      "acceptance rate:  0.00033112582781456954\n",
      "acceptance rate:  0.0003229813664596273\n",
      "acceptance rate:  0.0003333333333333333\n",
      "acceptance rate:  0.0003425414364640884\n",
      "acceptance rate:  0.00034031413612565446\n",
      "acceptance rate:  0.0003333333333333333\n",
      "acceptance rate:  0.00032701421800947867\n",
      "acceptance rate:  0.00031221719457013577\n",
      "acceptance rate:  0.00031601731601731603\n",
      "acceptance rate:  0.00031120331950207467\n",
      "acceptance rate:  0.0003147410358565737\n",
      "acceptance rate:  0.0003333333333333333\n",
      "acceptance rate:  0.00033579335793357934\n",
      "acceptance rate:  0.0003380782918149466\n",
      "acceptance rate:  0.0003470790378006873\n",
      "acceptance rate:  0.0003488372093023256\n",
      "acceptance rate:  0.0003408360128617363\n",
      "acceptance rate:  0.00034890965732087227\n",
      "acceptance rate:  0.0003504531722054381\n",
      "acceptance rate:  0.00035190615835777126\n",
      "acceptance rate:  0.0003475783475783476\n",
      "acceptance rate:  0.0003407202216066482\n",
      "acceptance rate:  0.00033692722371967657\n",
      "acceptance rate:  0.00034120734908136484\n",
      "acceptance rate:  0.00033759590792838877\n",
      "acceptance rate:  0.0003341645885286783\n",
      "acceptance rate:  0.00034063260340632605\n",
      "acceptance rate:  0.00033966745843230404\n",
      "acceptance rate:  0.00033874709976798145\n",
      "acceptance rate:  0.0003401360544217687\n",
      "acceptance rate:  0.00033702882483370287\n",
      "acceptance rate:  0.0003405639913232104\n",
      "acceptance rate:  0.0003418259023354565\n",
      "acceptance rate:  0.0003471933471933472\n",
      "acceptance rate:  0.0003584521384928717\n",
      "acceptance rate:  0.00035528942115768463\n",
      "acceptance rate:  0.0003522504892367906\n",
      "acceptance rate:  0.00035124760076775434\n",
      "acceptance rate:  0.0003465160075329567\n",
      "acceptance rate:  0.00034380776340110905\n",
      "acceptance rate:  0.0003393829401088929\n",
      "acceptance rate:  0.00033689839572192514\n",
      "acceptance rate:  0.0003362521891418564\n",
      "acceptance rate:  0.0003304647160068847\n",
      "acceptance rate:  0.0003248730964467005\n",
      "acceptance rate:  0.00032445923460898505\n",
      "acceptance rate:  0.0003224222585924714\n",
      "acceptance rate:  0.00032045088566827695\n",
      "acceptance rate:  0.0003201267828843106\n",
      "acceptance rate:  0.00031825273010920436\n",
      "acceptance rate:  0.00031490015360983103\n",
      "acceptance rate:  0.0003177004538577912\n",
      "acceptance rate:  0.00031892697466467956\n",
      "acceptance rate:  0.0003186490455212922\n",
      "acceptance rate:  0.000321273516642547\n",
      "acceptance rate:  0.0003195435092724679\n",
      "acceptance rate:  0.00031926863572433195\n",
      "acceptance rate:  0.0003176144244105409\n",
      "acceptance rate:  0.0003173734610123119\n",
      "acceptance rate:  0.0003144399460188934\n",
      "acceptance rate:  0.0003115845539280959\n",
      "acceptance rate:  0.0003088042049934297\n",
      "acceptance rate:  0.0003073929961089494\n",
      "acceptance rate:  0.0003085787451984635\n",
      "acceptance rate:  0.00031099873577749687\n",
      "acceptance rate:  0.00031210986267166043\n",
      "acceptance rate:  0.00031196054254007397\n",
      "acceptance rate:  0.0003118148599269184\n",
      "acceptance rate:  0.00031407942238267147\n",
      "acceptance rate:  0.00031391200951248516\n",
      "acceptance rate:  0.0003125734430082256\n",
      "acceptance rate:  0.00031358885017421603\n",
      "acceptance rate:  0.0003134328358208955\n",
      "acceptance rate:  0.0003155505107832009\n",
      "acceptance rate:  0.0003176206509539843\n",
      "acceptance rate:  0.0003152053274139845\n",
      "acceptance rate:  0.0003150384193194292\n",
      "acceptance rate:  0.00031270358306188925\n",
      "acceptance rate:  0.00031364124597207303\n",
      "acceptance rate:  0.00031137088204038257\n",
      "acceptance rate:  0.00031125131440588855\n",
      "acceptance rate:  0.0003152965660770031\n",
      "acceptance rate:  0.0003171987641606591\n",
      "acceptance rate:  0.00031600407747196736\n",
      "acceptance rate:  0.00031685166498486377\n",
      "acceptance rate:  0.0003176823176823177\n",
      "acceptance rate:  0.00031750741839762614\n",
      "acceptance rate:  0.00031929480901077376\n",
      "acceptance rate:  0.0003200775945683802\n",
      "acceptance rate:  0.00032276657060518733\n",
      "acceptance rate:  0.0003225499524262607\n",
      "acceptance rate:  0.0003195098963242224\n",
      "acceptance rate:  0.00031746031746031746\n",
      "acceptance rate:  0.0003200740055504163\n",
      "acceptance rate:  0.0003198900091659028\n",
      "acceptance rate:  0.00031970935513169846\n",
      "acceptance rate:  0.0003195319531953195\n",
      "acceptance rate:  0.0003175735950044603\n",
      "acceptance rate:  0.0003156498673740053\n",
      "acceptance rate:  0.00031463628396143735\n",
      "acceptance rate:  0.00031364031277150305\n",
      "acceptance rate:  0.00031180017226528856\n",
      "acceptance rate:  0.0003134073441502989\n",
      "acceptance rate:  0.0003116003386960203\n",
      "acceptance rate:  0.0003106633081444165\n",
      "acceptance rate:  0.0003089092422980849\n",
      "acceptance rate:  0.00030966143682906687\n",
      "acceptance rate:  0.0003095823095823096\n",
      "acceptance rate:  0.00031112916328188464\n",
      "acceptance rate:  0.00030942788074133764\n",
      "acceptance rate:  0.00031095123900879297\n",
      "acceptance rate:  0.00031403647898493257\n",
      "acceptance rate:  0.00031549960660896934\n",
      "acceptance rate:  0.0003161592505854801\n",
      "acceptance rate:  0.0003144848954298993\n",
      "acceptance rate:  0.0003159108378170638\n",
      "acceptance rate:  0.0003165522501906941\n",
      "acceptance rate:  0.000315669947009841\n",
      "acceptance rate:  0.0003140495867768595\n",
      "acceptance rate:  0.0003169276659209545\n",
      "acceptance rate:  0.0003160621761658031\n",
      "acceptance rate:  0.00031594415870683323\n",
      "acceptance rate:  0.00031582786287381474\n",
      "acceptance rate:  0.00031498913830557565\n",
      "acceptance rate:  0.0003156002875629044\n",
      "acceptance rate:  0.00031548893647394716\n",
      "acceptance rate:  0.0003182140326009922\n",
      "acceptance rate:  0.00031949331456720617\n",
      "acceptance rate:  0.00032005590496156534\n",
      "acceptance rate:  0.00032199861207494795\n",
      "acceptance rate:  0.000321157822191592\n",
      "acceptance rate:  0.0003210130047912389\n",
      "acceptance rate:  0.00032154996600951735\n",
      "acceptance rate:  0.0003214044564483457\n",
      "acceptance rate:  0.0003199195171026157\n",
      "acceptance rate:  0.0003204530313124584\n",
      "acceptance rate:  0.0003196558570483124\n",
      "acceptance rate:  0.00031952662721893493\n",
      "acceptance rate:  0.00032135858915741344\n",
      "acceptance rate:  0.0003218689162881246\n",
      "acceptance rate:  0.0003223726627981947\n",
      "acceptance rate:  0.00032094811018577835\n",
      "acceptance rate:  0.0003220878421387651\n",
      "acceptance rate:  0.00032321315623023403\n",
      "acceptance rate:  0.0003236957888120679\n",
      "acceptance rate:  0.0003235477826358526\n",
      "acceptance rate:  0.00032216014897579144\n",
      "acceptance rate:  0.0003232572486119679\n",
      "acceptance rate:  0.0003212752912323728\n",
      "acceptance rate:  0.0003211456429006703\n",
      "acceptance rate:  0.0003234403391883707\n",
      "acceptance rate:  0.0003226971703792896\n",
      "acceptance rate:  0.00032136445242369837\n",
      "acceptance rate:  0.00032123735871505054\n",
      "acceptance rate:  0.000322294500295683\n",
      "acceptance rate:  0.00032098765432098765\n",
      "acceptance rate:  0.00032320280537697255\n",
      "acceptance rate:  0.0003253922138291691\n",
      "acceptance rate:  0.0003235124205661467\n",
      "acceptance rate:  0.0003233773693279724\n",
      "acceptance rate:  0.0003249571673329526\n",
      "acceptance rate:  0.0003259511641113004\n",
      "acceptance rate:  0.0003246753246753247\n",
      "acceptance rate:  0.00032509825940482874\n",
      "acceptance rate:  0.00032719151312116134\n",
      "acceptance rate:  0.00032648528595224875\n",
      "acceptance rate:  0.00032468249585864166\n",
      "acceptance rate:  0.00032564524986271277\n",
      "acceptance rate:  0.00032605133806663024\n",
      "acceptance rate:  0.00032645301466594244\n",
      "acceptance rate:  0.00032576985413290113\n",
      "acceptance rate:  0.00032670607200429875\n",
      "acceptance rate:  0.000327632282202031\n",
      "acceptance rate:  0.0003258904837852206\n",
      "acceptance rate:  0.00032628239026969856\n",
      "acceptance rate:  0.00032667017359284587\n",
      "acceptance rate:  0.0003270538984824699\n",
      "acceptance rate:  0.00032639250390421653\n",
      "acceptance rate:  0.00032677369238736406\n",
      "acceptance rate:  0.0003250901597114889\n",
      "acceptance rate:  0.00032444900051255764\n",
      "acceptance rate:  0.0003243243243243243\n",
      "acceptance rate:  0.0003247082699137494\n",
      "acceptance rate:  0.0003235739525492176\n",
      "acceptance rate:  0.0003244600703164239\n",
      "acceptance rate:  0.0003233383308345827\n",
      "acceptance rate:  0.0003237195425161611\n",
      "acceptance rate:  0.00032310737258782783\n",
      "acceptance rate:  0.0003239783357951748\n",
      "acceptance rate:  0.00032337089661930426\n"
     ]
    },
    {
     "name": "stdout",
     "output_type": "stream",
     "text": [
      "acceptance rate:  0.0003227693807898586\n",
      "acceptance rate:  0.00032217370208636586\n",
      "acceptance rate:  0.0003225494929985514\n",
      "acceptance rate:  0.00032148005766458434\n",
      "acceptance rate:  0.00032137733142037305\n",
      "acceptance rate:  0.0003217515468824369\n",
      "acceptance rate:  0.0003211747986736144\n",
      "acceptance rate:  0.0003210749646393211\n",
      "acceptance rate:  0.000320976067573909\n",
      "acceptance rate:  0.0003208780943484353\n",
      "acceptance rate:  0.0003198512319851232\n",
      "acceptance rate:  0.00031975937066173066\n",
      "acceptance rate:  0.000319207738369415\n",
      "acceptance rate:  0.0003191196698762036\n",
      "acceptance rate:  0.0003194888178913738\n",
      "acceptance rate:  0.0003194002726033621\n",
      "acceptance rate:  0.0003206693803708729\n",
      "acceptance rate:  0.0003219270598829356\n",
      "acceptance rate:  0.0003222770058269834\n",
      "acceptance rate:  0.000321285140562249\n",
      "acceptance rate:  0.000320746334962239\n",
      "acceptance rate:  0.0003206545776205219\n",
      "acceptance rate:  0.00031968295904887716\n",
      "acceptance rate:  0.00031915826391933365\n",
      "acceptance rate:  0.00031907463989524224\n",
      "acceptance rate:  0.0003194263363754889\n",
      "acceptance rate:  0.00032020770229337946\n",
      "acceptance rate:  0.0003205514864282637\n",
      "acceptance rate:  0.00032303732303732305\n",
      "acceptance rate:  0.00032208457923964116\n",
      "acceptance rate:  0.00032156529136537643\n",
      "acceptance rate:  0.0003206268530283778\n",
      "acceptance rate:  0.00032011809363137917\n",
      "acceptance rate:  0.00032003359932801344\n",
      "acceptance rate:  0.0003203680468423254\n",
      "acceptance rate:  0.00032069970845481047\n",
      "acceptance rate:  0.0003210286188303609\n",
      "acceptance rate:  0.0003201156546881454\n",
      "acceptance rate:  0.00032167832167832167\n",
      "acceptance rate:  0.00032117984432609585\n",
      "acceptance rate:  0.00032109343125255\n",
      "acceptance rate:  0.0003201950426655831\n",
      "acceptance rate:  0.0003217320922703359\n",
      "acceptance rate:  0.00032164449818621526\n",
      "acceptance rate:  0.0003211561621838619\n",
      "acceptance rate:  0.0003198720511795282\n",
      "acceptance rate:  0.00031899641577060934\n",
      "acceptance rate:  0.00031773105910353036\n",
      "acceptance rate:  0.0003168708020545239\n",
      "acceptance rate:  0.0003168044077134986\n",
      "acceptance rate:  0.00031713053704429634\n",
      "acceptance rate:  0.0003182350644279578\n",
      "acceptance rate:  0.00031855309218203036\n",
      "acceptance rate:  0.0003188686555598605\n",
      "acceptance rate:  0.0003180239289849479\n",
      "acceptance rate:  0.0003175701653210304\n",
      "acceptance rate:  0.00031711987744159327\n",
      "acceptance rate:  0.0003178176268599771\n",
      "acceptance rate:  0.0003177499049790954\n",
      "acceptance rate:  0.00031768269594850435\n",
      "acceptance rate:  0.00031723877781969067\n",
      "acceptance rate:  0.00031642239759488916\n",
      "acceptance rate:  0.0003178584799700487\n",
      "acceptance rate:  0.00031704587840358073\n",
      "acceptance rate:  0.0003173541434411\n",
      "acceptance rate:  0.0003169196593854128\n",
      "acceptance rate:  0.000316119513094799\n",
      "acceptance rate:  0.00031606027195883865\n",
      "acceptance rate:  0.0003160014646649579\n",
      "acceptance rate:  0.00031813206858810654\n",
      "acceptance rate:  0.0003180661577608143\n",
      "acceptance rate:  0.0003198116624411445\n",
      "acceptance rate:  0.0003208228076506676\n",
      "acceptance rate:  0.000321826681049982\n",
      "acceptance rate:  0.0003217484772482981\n",
      "acceptance rate:  0.00032131381649410924\n",
      "acceptance rate:  0.0003212379935965848\n",
      "acceptance rate:  0.0003208082240340305\n",
      "acceptance rate:  0.00032038149063935007\n",
      "acceptance rate:  0.0003203097500879972\n",
      "acceptance rate:  0.0003202385128025254\n",
      "acceptance rate:  0.0003198182453687522\n",
      "acceptance rate:  0.00031905259491466387\n",
      "acceptance rate:  0.0003196806664352655\n",
      "acceptance rate:  0.0003196125907990315\n",
      "acceptance rate:  0.0003198896932092382\n",
      "acceptance rate:  0.0003198213672277568\n",
      "acceptance rate:  0.0003197535090722355\n",
      "acceptance rate:  0.00031900375298532925\n",
      "acceptance rate:  0.00031927915674940496\n",
      "acceptance rate:  0.0003188749576414775\n",
      "acceptance rate:  0.0003198243836541709\n",
      "acceptance rate:  0.00032043083136990913\n",
      "acceptance rate:  0.00032069775243206977\n",
      "acceptance rate:  0.0003202942159812772\n",
      "acceptance rate:  0.00032055981339553484\n",
      "acceptance rate:  0.0003204915310528064\n",
      "acceptance rate:  0.0003197616683217478\n",
      "acceptance rate:  0.00031969646981194327\n",
      "acceptance rate:  0.0003199605392962841\n",
      "acceptance rate:  0.00031956735496558507\n",
      "acceptance rate:  0.0003191767396275727\n",
      "acceptance rate:  0.00031911429501790947\n",
      "acceptance rate:  0.0003193768257059396\n",
      "acceptance rate:  0.0003193141378194759\n",
      "acceptance rate:  0.0003202192841019026\n",
      "acceptance rate:  0.0003198328511732562\n",
      "acceptance rate:  0.0003191284844601089\n",
      "acceptance rate:  0.0003184286170552539\n",
      "acceptance rate:  0.0003183699458771092\n"
     ]
    },
    {
     "data": {
      "application/vnd.jupyter.widget-view+json": {
       "model_id": "a039650264a24251aae42afc2672f65d",
       "version_major": 2,
       "version_minor": 0
      },
      "text/plain": [
       "Drawing 1000 posterior samples:   0%|          | 0/1000 [00:00<?, ?it/s]"
      ]
     },
     "metadata": {},
     "output_type": "display_data"
    },
    {
     "name": "stderr",
     "output_type": "stream",
     "text": [
      "WARNING:root:Drawing samples from posterior to estimate the normalizing\n",
      "                        constant for `log_prob()`. However, only\n",
      "                        0% posterior samples are within the\n",
      "                        prior support. It may take a long time to collect the\n",
      "                        remaining 998 samples.\n",
      "                        Consider interrupting (Ctrl-C) and either basing the\n",
      "                        estimate of the normalizing constant on fewer samples (by\n",
      "                        calling `posterior.leakage_correction(x_o,\n",
      "                        num_rejection_samples=N)`, where `N` is the number of\n",
      "                        samples you want to base the\n",
      "                        estimate on (default N=10000), or not estimating the\n",
      "                        normalizing constant at all\n",
      "                        (`log_prob(..., norm_posterior=False)`. The latter will\n",
      "                        result in an unnormalized `log_prob()`.\n"
     ]
    },
    {
     "name": "stdout",
     "output_type": "stream",
     "text": [
      "acceptance rate:  0.0\n",
      "acceptance rate:  0.0001818181818181818\n",
      "acceptance rate:  0.00019047619047619048\n",
      "acceptance rate:  0.0001935483870967742\n",
      "acceptance rate:  0.00024390243902439024\n",
      "acceptance rate:  0.0002745098039215686\n",
      "acceptance rate:  0.00029508196721311476\n",
      "acceptance rate:  0.00028169014084507044\n",
      "acceptance rate:  0.0002962962962962963\n",
      "acceptance rate:  0.00028571428571428574\n",
      "acceptance rate:  0.00026732673267326735\n",
      "acceptance rate:  0.00026126126126126126\n",
      "acceptance rate:  0.000256198347107438\n",
      "acceptance rate:  0.0002519083969465649\n",
      "acceptance rate:  0.0002553191489361702\n",
      "acceptance rate:  0.0002582781456953642\n",
      "acceptance rate:  0.0002608695652173913\n",
      "acceptance rate:  0.0002573099415204678\n",
      "acceptance rate:  0.00026519337016574587\n",
      "acceptance rate:  0.0002670157068062827\n",
      "acceptance rate:  0.00028358208955223883\n",
      "acceptance rate:  0.00027488151658767773\n",
      "acceptance rate:  0.00028054298642533936\n",
      "acceptance rate:  0.0002813852813852814\n",
      "acceptance rate:  0.0002987551867219917\n",
      "acceptance rate:  0.0002948207171314741\n",
      "acceptance rate:  0.00028735632183908046\n",
      "acceptance rate:  0.0002915129151291513\n",
      "acceptance rate:  0.00028825622775800714\n",
      "acceptance rate:  0.00030240549828178693\n",
      "acceptance rate:  0.0003122923588039867\n",
      "acceptance rate:  0.0003118971061093248\n",
      "acceptance rate:  0.0003271028037383178\n",
      "acceptance rate:  0.00032628398791540787\n",
      "acceptance rate:  0.0003313782991202346\n",
      "acceptance rate:  0.0003361823361823362\n",
      "acceptance rate:  0.00033795013850415514\n",
      "acceptance rate:  0.00034231805929919136\n",
      "acceptance rate:  0.00034120734908136484\n",
      "acceptance rate:  0.00034271099744245527\n",
      "acceptance rate:  0.00033915211970074813\n",
      "acceptance rate:  0.00033819951338199514\n",
      "acceptance rate:  0.000334916864608076\n",
      "acceptance rate:  0.00034338747099767983\n",
      "acceptance rate:  0.00034467120181405896\n",
      "acceptance rate:  0.0003414634146341463\n",
      "acceptance rate:  0.0003383947939262473\n",
      "acceptance rate:  0.0003375796178343949\n",
      "acceptance rate:  0.0003305613305613306\n",
      "acceptance rate:  0.00033197556008146637\n",
      "acceptance rate:  0.0003333333333333333\n",
      "acceptance rate:  0.00032876712328767124\n",
      "acceptance rate:  0.00032629558541266793\n",
      "acceptance rate:  0.00032391713747645953\n",
      "acceptance rate:  0.00032162661737523106\n",
      "acceptance rate:  0.0003266787658802178\n",
      "acceptance rate:  0.0003226381461675579\n",
      "acceptance rate:  0.00032049036777583186\n",
      "acceptance rate:  0.00032358003442340793\n",
      "acceptance rate:  0.0003248730964467005\n",
      "acceptance rate:  0.00032612312811980035\n",
      "acceptance rate:  0.00032569558101472996\n",
      "acceptance rate:  0.0003333333333333333\n",
      "acceptance rate:  0.0003312202852614897\n",
      "acceptance rate:  0.00033229329173166926\n",
      "acceptance rate:  0.00032872503840245774\n",
      "acceptance rate:  0.00032980332829046896\n",
      "acceptance rate:  0.000330849478390462\n",
      "acceptance rate:  0.0003303964757709251\n",
      "acceptance rate:  0.0003270622286541245\n",
      "acceptance rate:  0.0003309557774607703\n",
      "acceptance rate:  0.0003263009845288326\n",
      "acceptance rate:  0.0003259361997226075\n",
      "acceptance rate:  0.0003255813953488372\n",
      "acceptance rate:  0.0003211875843454791\n",
      "acceptance rate:  0.00032756324900133155\n",
      "acceptance rate:  0.00032720105124835745\n",
      "acceptance rate:  0.00032684824902723733\n",
      "acceptance rate:  0.00032394366197183096\n",
      "acceptance rate:  0.00032237673830594186\n",
      "acceptance rate:  0.00032459425717852684\n",
      "acceptance rate:  0.0003218249075215783\n",
      "acceptance rate:  0.0003203410475030451\n",
      "acceptance rate:  0.0003200962695547533\n",
      "acceptance rate:  0.00032223543400713436\n",
      "acceptance rate:  0.0003219741480611046\n",
      "acceptance rate:  0.0003240418118466899\n",
      "acceptance rate:  0.00032721010332950633\n",
      "acceptance rate:  0.0003257661748013621\n",
      "acceptance rate:  0.0003254769921436588\n",
      "acceptance rate:  0.00032519422863485015\n",
      "acceptance rate:  0.0003271130625686059\n",
      "acceptance rate:  0.0003257328990228013\n",
      "acceptance rate:  0.00032545649838882924\n",
      "acceptance rate:  0.00032624867162592985\n",
      "acceptance rate:  0.0003291272344900105\n",
      "acceptance rate:  0.0003267429760665973\n",
      "acceptance rate:  0.00032646755921730174\n",
      "acceptance rate:  0.00032823649337410804\n",
      "acceptance rate:  0.00032694248234106963\n",
      "acceptance rate:  0.0003246753246753247\n",
      "acceptance rate:  0.00032542037586547973\n",
      "acceptance rate:  0.000327130264446621\n",
      "acceptance rate:  0.00032492725509214356\n",
      "acceptance rate:  0.0003218059558117195\n",
      "acceptance rate:  0.0003235014272121789\n",
      "acceptance rate:  0.00032610744580584353\n",
      "acceptance rate:  0.0003249299719887955\n",
      "acceptance rate:  0.00032377428307123034\n",
      "acceptance rate:  0.0003226397800183318\n",
      "acceptance rate:  0.0003260672116257947\n",
      "acceptance rate:  0.00032673267326732675\n",
      "acceptance rate:  0.0003256021409455843\n",
      "acceptance rate:  0.00032802829354553495\n",
      "acceptance rate:  0.00032865907099035934\n",
      "acceptance rate:  0.00033188531711555167\n",
      "acceptance rate:  0.00033247200689061156\n",
      "acceptance rate:  0.00033304867634500427\n",
      "acceptance rate:  0.0003327688399661304\n",
      "acceptance rate:  0.00033249370277078086\n",
      "acceptance rate:  0.00033388842631140714\n",
      "acceptance rate:  0.00033360858794384806\n",
      "acceptance rate:  0.00033251433251433254\n",
      "acceptance rate:  0.0003330625507717303\n",
      "acceptance rate:  0.00033601933924254634\n",
      "acceptance rate:  0.000337330135891287\n",
      "acceptance rate:  0.00033782712133227595\n",
      "acceptance rate:  0.0003375295043273013\n",
      "acceptance rate:  0.0003356752537080406\n",
      "acceptance rate:  0.0003338497288923315\n",
      "acceptance rate:  0.00033282090699461955\n",
      "acceptance rate:  0.00033104500381388256\n",
      "acceptance rate:  0.00033383800151400456\n",
      "acceptance rate:  0.0003343350864012021\n",
      "acceptance rate:  0.0003355704697986577\n",
      "acceptance rate:  0.0003375277572168764\n",
      "acceptance rate:  0.00033651726671565026\n",
      "acceptance rate:  0.00033698030634573303\n",
      "acceptance rate:  0.0003367125271542361\n",
      "acceptance rate:  0.00033860531991373115\n",
      "acceptance rate:  0.00033832976445396146\n",
      "acceptance rate:  0.00033734939759036143\n",
      "acceptance rate:  0.0003370865587614356\n",
      "acceptance rate:  0.0003361285814116003\n",
      "acceptance rate:  0.00033587786259541984\n",
      "acceptance rate:  0.0003349414197105444\n",
      "acceptance rate:  0.0003353867214236824\n",
      "acceptance rate:  0.000336505778382053\n",
      "acceptance rate:  0.00033558406482106685\n",
      "acceptance rate:  0.00033601609657947685\n",
      "acceptance rate:  0.0003377748167888075\n",
      "acceptance rate:  0.00033752481800132365\n",
      "acceptance rate:  0.000336620644312952\n",
      "acceptance rate:  0.0003370346178967995\n",
      "acceptance rate:  0.00033809214795587283\n",
      "acceptance rate:  0.00033849129593810443\n",
      "acceptance rate:  0.0003376040999359385\n",
      "acceptance rate:  0.0003360916613621897\n",
      "acceptance rate:  0.00033649588867805185\n",
      "acceptance rate:  0.0003368950345694532\n",
      "acceptance rate:  0.0003372891942535915\n",
      "acceptance rate:  0.00033643699565487275\n",
      "acceptance rate:  0.0003355953115360888\n",
      "acceptance rate:  0.00033415082771305946\n",
      "acceptance rate:  0.0003351614868982328\n",
      "acceptance rate:  0.000336159903089037\n",
      "acceptance rate:  0.0003359422034918724\n",
      "acceptance rate:  0.0003369239976062238\n",
      "acceptance rate:  0.00033610945865556217\n",
      "acceptance rate:  0.0003347131874630396\n",
      "acceptance rate:  0.000332745443856555\n",
      "acceptance rate:  0.0003343074225599065\n",
      "acceptance rate:  0.00033410807669959324\n",
      "acceptance rate:  0.0003344887348353553\n",
      "acceptance rate:  0.00033543940264215967\n",
      "acceptance rate:  0.0003358081096516276\n",
      "acceptance rate:  0.00033503691084611016\n",
      "acceptance rate:  0.00033540372670807454\n",
      "acceptance rate:  0.0003374508702975856\n",
      "acceptance rate:  0.0003355667225013959\n",
      "acceptance rate:  0.0003359244863964464\n",
      "acceptance rate:  0.0003357261181667587\n",
      "acceptance rate:  0.0003344316309719934\n",
      "acceptance rate:  0.0003347897323866739\n",
      "acceptance rate:  0.0003356871265616513\n",
      "acceptance rate:  0.0003354943273905997\n",
      "acceptance rate:  0.0003353036002149382\n",
      "acceptance rate:  0.00033404596472474615\n",
      "acceptance rate:  0.00033545986177565125\n",
      "acceptance rate:  0.0003347435219460603\n",
      "acceptance rate:  0.00033456075749605473\n",
      "acceptance rate:  0.0003349031920460492\n",
      "acceptance rate:  0.0003336803748047892\n",
      "acceptance rate:  0.0003340238218539617\n",
      "acceptance rate:  0.0003333333333333333\n",
      "acceptance rate:  0.00033213736545361353\n",
      "acceptance rate:  0.00033146353901070884\n",
      "acceptance rate:  0.0003313039066463724\n",
      "acceptance rate:  0.0003311458859162039\n",
      "acceptance rate:  0.0003304871923656454\n",
      "acceptance rate:  0.00033233383308345826\n",
      "acceptance rate:  0.0003321730482347091\n",
      "acceptance rate:  0.00033201385452746163\n",
      "acceptance rate:  0.00033136386016740523\n",
      "acceptance rate:  0.0003317001469867712\n",
      "acceptance rate:  0.0003310580204778157\n",
      "acceptance rate:  0.00033236293061620573\n"
     ]
    },
    {
     "name": "stdout",
     "output_type": "stream",
     "text": [
      "acceptance rate:  0.0003322066634476099\n",
      "acceptance rate:  0.0003344545891398366\n",
      "acceptance rate:  0.000335246293639407\n",
      "acceptance rate:  0.00033603046168491195\n",
      "acceptance rate:  0.00033633349123638086\n",
      "acceptance rate:  0.0003371051390853371\n",
      "acceptance rate:  0.00033927733458470204\n",
      "acceptance rate:  0.000340028024287716\n",
      "acceptance rate:  0.0003398419339841934\n",
      "acceptance rate:  0.0003396575659416937\n",
      "acceptance rate:  0.0003403961308152925\n",
      "acceptance rate:  0.0003402109124254929\n",
      "acceptance rate:  0.0003409402099497946\n",
      "acceptance rate:  0.00034075420263516583\n",
      "acceptance rate:  0.00033966530981456355\n",
      "acceptance rate:  0.0003390364700585322\n",
      "acceptance rate:  0.00033796503809950697\n",
      "acceptance rate:  0.0003395805443998215\n",
      "acceptance rate:  0.0003394047090182141\n",
      "acceptance rate:  0.00033967271118973905\n",
      "acceptance rate:  0.0003394980184940555\n",
      "acceptance rate:  0.00034107847435335377\n",
      "acceptance rate:  0.00034220864251418594\n",
      "acceptance rate:  0.00034159061277705345\n",
      "acceptance rate:  0.00034054521852012115\n",
      "acceptance rate:  0.00034123222748815165\n",
      "acceptance rate:  0.00034191334191334194\n",
      "acceptance rate:  0.0003404527979495942\n",
      "acceptance rate:  0.0003398553806890685\n",
      "acceptance rate:  0.0003409572215163067\n",
      "acceptance rate:  0.00034078447912273303\n",
      "acceptance rate:  0.00034103317933641326\n",
      "acceptance rate:  0.0003408615641990799\n",
      "acceptance rate:  0.0003406913785922532\n",
      "acceptance rate:  0.0003417669017005392\n",
      "acceptance rate:  0.0003415943824865758\n",
      "acceptance rate:  0.0003406005758946935\n",
      "acceptance rate:  0.00033920524375256043\n",
      "acceptance rate:  0.0003390452876376989\n",
      "acceptance rate:  0.00033929297033726127\n",
      "acceptance rate:  0.00033994334277620395\n",
      "acceptance rate:  0.0003385731559854897\n",
      "acceptance rate:  0.00033922119630670414\n",
      "acceptance rate:  0.00033866453418632546\n",
      "acceptance rate:  0.00033811230585424135\n",
      "acceptance rate:  0.00033716779055930187\n",
      "acceptance rate:  0.0003358356380877124\n",
      "acceptance rate:  0.00033451397087760725\n",
      "acceptance rate:  0.0003347706781654253\n",
      "acceptance rate:  0.00033385396329558767\n",
      "acceptance rate:  0.0003333333333333333\n",
      "acceptance rate:  0.00033281673769856645\n",
      "acceptance rate:  0.0003326900810497877\n",
      "acceptance rate:  0.0003333333333333333\n",
      "acceptance rate:  0.0003339716583684412\n",
      "acceptance rate:  0.0003334605112552461\n",
      "acceptance rate:  0.0003333333333333333\n",
      "acceptance rate:  0.0003339644074214313\n",
      "acceptance rate:  0.00033345907204828366\n",
      "acceptance rate:  0.0003329575347613679\n",
      "acceptance rate:  0.0003332085361287907\n",
      "acceptance rate:  0.0003330846698992913\n",
      "acceptance rate:  0.00033259011519881084\n",
      "acceptance rate:  0.000332469455757127\n",
      "acceptance rate:  0.00033271855403909994\n",
      "acceptance rate:  0.0003333333333333333\n",
      "acceptance rate:  0.00033284511168070306\n",
      "acceptance rate:  0.0003338197738051806\n",
      "acceptance rate:  0.00033406034169392945\n",
      "acceptance rate:  0.00033538572980804055\n",
      "acceptance rate:  0.0003374233128834356\n",
      "acceptance rate:  0.00033872707659115425\n",
      "acceptance rate:  0.00033858831959871015\n",
      "acceptance rate:  0.00033987861478043554\n",
      "acceptance rate:  0.00033866951262895767\n",
      "acceptance rate:  0.00033746898263027294\n",
      "acceptance rate:  0.00033733663016601907\n",
      "acceptance rate:  0.00033720520943329816\n",
      "acceptance rate:  0.0003377762188705717\n",
      "acceptance rate:  0.00033834323663054877\n",
      "acceptance rate:  0.0003392546151166841\n",
      "acceptance rate:  0.00033946546338077055\n",
      "acceptance rate:  0.00033932895191975094\n",
      "acceptance rate:  0.00033884867287142366\n",
      "acceptance rate:  0.0003380281690140845\n",
      "acceptance rate:  0.0003389250256761383\n",
      "acceptance rate:  0.0003387922210849539\n",
      "acceptance rate:  0.00033968038082284936\n",
      "acceptance rate:  0.00033920704845814977\n",
      "tensor([5.0560, 5.0270, 2.1492, 5.2431, 5.4919, 2.1314, 6.4843, 3.1831, 2.7698,\n",
      "        9.6143, 1.2852, 2.9528, 3.1576, 6.4138, 5.9766])\n",
      "tensor([ 7.9705, 18.2765, 21.9471, 23.8514, 90.8373, 57.1525, 37.3868, 17.9317,\n",
      "         6.4560, 45.7739,  2.2233, 57.3568, 98.2205, 54.3896, 54.3282])\n",
      "tensor([[ 3.,  6., 20., 10., 90., 55., 27., 27.,  4., 70.,  5., 66., 99., 40.,\n",
      "         45.]])\n",
      "tensor([[1., 1., 1., 1., 1., 1., 1., 1., 1., 1., 1., 1., 1., 1., 1.]])\n",
      "tensor([[ 23.0141,  85.8766,   2.9399, 107.5189,  13.2277,   3.3313,  72.5969,\n",
      "          44.5252,   5.3330, 336.9050,   3.9299,  40.1294,   3.6392, 121.7407,\n",
      "          59.0795]])\n"
     ]
    },
    {
     "data": {
      "application/vnd.jupyter.widget-view+json": {
       "model_id": "5e4c422c771b4466ab20fa704dffb60f",
       "version_major": 2,
       "version_minor": 0
      },
      "text/plain": [
       "Drawing 1000 posterior samples:   0%|          | 0/1000 [00:00<?, ?it/s]"
      ]
     },
     "metadata": {},
     "output_type": "display_data"
    },
    {
     "name": "stdout",
     "output_type": "stream",
     "text": [
      "acceptance rate:  0.486\n",
      "acceptance rate:  0.48309090909090907\n"
     ]
    },
    {
     "data": {
      "application/vnd.jupyter.widget-view+json": {
       "model_id": "6266d6a22e55462a885bf26c4c271143",
       "version_major": 2,
       "version_minor": 0
      },
      "text/plain": [
       "Drawing 1000 posterior samples:   0%|          | 0/1000 [00:00<?, ?it/s]"
      ]
     },
     "metadata": {},
     "output_type": "display_data"
    },
    {
     "name": "stdout",
     "output_type": "stream",
     "text": [
      "acceptance rate:  0.462\n",
      "acceptance rate:  0.4733636363636364\n",
      "tensor([0.7706, 1.2875, 2.3262, 0.2964, 3.3650, 4.1243, 0.7167, 1.1608, 0.2117,\n",
      "        0.6634, 0.6668, 0.6386, 0.9736, 0.6711, 0.9320])\n",
      "tensor([ 2.4753,  5.3427, 20.4061, 10.0278, 91.4835, 55.9067, 25.9825, 28.3629,\n",
      "         5.7537, 68.8032,  5.6562, 64.1744, 98.6706, 38.5988, 45.7405])\n",
      "tensor([[ 3.,  6., 20., 10., 90., 55., 27., 27.,  4., 70.,  5., 66., 99., 40.,\n",
      "         45.]])\n",
      "tensor([[1., 1., 1., 1., 1., 1., 1., 1., 1., 1., 1., 1., 1., 1., 1.]])\n",
      "tensor([[0.1952, 0.2921, 1.4438, 0.7603, 5.0486, 6.9989, 0.6076, 0.9533, 2.6126,\n",
      "         0.8466, 0.3429, 1.8188, 0.0550, 1.1058, 0.2789]])\n"
     ]
    },
    {
     "data": {
      "application/vnd.jupyter.widget-view+json": {
       "model_id": "978f9add57e94f35aa65465c046d8a68",
       "version_major": 2,
       "version_minor": 0
      },
      "text/plain": [
       "Drawing 1000 posterior samples:   0%|          | 0/1000 [00:00<?, ?it/s]"
      ]
     },
     "metadata": {},
     "output_type": "display_data"
    },
    {
     "name": "stdout",
     "output_type": "stream",
     "text": [
      "acceptance rate:  0.018\n",
      "acceptance rate:  0.01927272727272727\n",
      "acceptance rate:  0.019809523809523808\n",
      "acceptance rate:  0.019870967741935485\n",
      "acceptance rate:  0.01951219512195122\n",
      "acceptance rate:  0.019509803921568626\n",
      "acceptance rate:  0.01978688524590164\n"
     ]
    },
    {
     "data": {
      "application/vnd.jupyter.widget-view+json": {
       "model_id": "c28fb4a1f1274f44b67a3f4467a7315b",
       "version_major": 2,
       "version_minor": 0
      },
      "text/plain": [
       "Drawing 1000 posterior samples:   0%|          | 0/1000 [00:00<?, ?it/s]"
      ]
     },
     "metadata": {},
     "output_type": "display_data"
    },
    {
     "name": "stdout",
     "output_type": "stream",
     "text": [
      "acceptance rate:  0.021\n",
      "acceptance rate:  0.020454545454545454\n",
      "acceptance rate:  0.019238095238095238\n",
      "acceptance rate:  0.01932258064516129\n",
      "acceptance rate:  0.019195121951219512\n",
      "acceptance rate:  0.01915686274509804\n",
      "acceptance rate:  0.019557377049180327\n",
      "tensor([ 1.0064,  1.7023,  3.9193,  2.1897,  0.7958,  2.6964,  0.9479,  3.0433,\n",
      "         5.7391,  1.0008,  0.6296,  0.5660,  6.1826,  5.7489, 11.1303])\n",
      "tensor([ 2.3813,  6.0003, 24.9288,  8.0525, 91.1788, 52.6155, 25.0845, 31.1799,\n",
      "        13.2569, 69.5197,  4.4557, 64.7106, 91.7108, 48.5817, 60.2877])\n",
      "tensor([[ 3.,  6., 20., 10., 90., 55., 27., 27.,  4., 70.,  5., 66., 99., 40.,\n",
      "         45.]])\n",
      "tensor([[1., 1., 1., 1., 1., 1., 1., 1., 1., 1., 1., 1., 1., 1., 1.]])\n",
      "tensor([[1.9145e-01, 4.1688e-01, 1.7961e+01, 3.0099e+00, 7.3989e-01, 4.9863e+00,\n",
      "         1.8373e+00, 1.1754e+01, 5.7066e+01, 1.1534e-01, 3.0900e-01, 1.0606e+00,\n",
      "         4.3356e+01, 5.1099e+01, 1.7589e+02]])\n"
     ]
    },
    {
     "data": {
      "application/vnd.jupyter.widget-view+json": {
       "model_id": "742b6b7a723e4bb981cac12106459f68",
       "version_major": 2,
       "version_minor": 0
      },
      "text/plain": [
       "Drawing 1000 posterior samples:   0%|          | 0/1000 [00:00<?, ?it/s]"
      ]
     },
     "metadata": {},
     "output_type": "display_data"
    },
    {
     "name": "stdout",
     "output_type": "stream",
     "text": [
      "acceptance rate:  0.141\n",
      "acceptance rate:  0.14245454545454544\n"
     ]
    },
    {
     "data": {
      "application/vnd.jupyter.widget-view+json": {
       "model_id": "5bd42b0c844f4da7b189a247bbb1be62",
       "version_major": 2,
       "version_minor": 0
      },
      "text/plain": [
       "Drawing 1000 posterior samples:   0%|          | 0/1000 [00:00<?, ?it/s]"
      ]
     },
     "metadata": {},
     "output_type": "display_data"
    },
    {
     "name": "stdout",
     "output_type": "stream",
     "text": [
      "acceptance rate:  0.136\n",
      "acceptance rate:  0.13545454545454547\n",
      "tensor([ 4.5354,  2.5701,  5.8888,  6.3057,  6.3924,  7.2498, 14.3087,  5.4913,\n",
      "         2.7161,  6.0655,  4.6705,  4.5036,  9.9793,  8.2655,  5.8394])\n",
      "tensor([ 9.6279,  3.7985, 31.9481, 19.9246, 82.4161, 70.5246, 43.8255, 10.8491,\n",
      "         4.1612, 62.7671,  7.2990, 60.4012, 70.0412, 24.7280, 43.1867])\n",
      "tensor([[ 3.,  6., 20., 10., 90., 55., 27., 27.,  4., 70.,  5., 66., 99., 40.,\n",
      "         45.]])\n",
      "tensor([[1., 1., 1., 1., 1., 1., 1., 1., 1., 1., 1., 1., 1., 1., 1.]])\n",
      "tensor([[ 30.2378,   4.2819,  86.4447,  66.7883,  46.8335, 144.3053, 240.7584,\n",
      "         143.3004,   2.2023,  42.2499,  11.5081,  23.8096, 466.2991, 148.1642,\n",
      "          16.4286]])\n"
     ]
    },
    {
     "data": {
      "application/vnd.jupyter.widget-view+json": {
       "model_id": "bc67349f1a574d0a9ae9472de0a4e42e",
       "version_major": 2,
       "version_minor": 0
      },
      "text/plain": [
       "Drawing 1000 posterior samples:   0%|          | 0/1000 [00:00<?, ?it/s]"
      ]
     },
     "metadata": {},
     "output_type": "display_data"
    },
    {
     "name": "stdout",
     "output_type": "stream",
     "text": [
      "acceptance rate:  0.13\n",
      "acceptance rate:  0.11454545454545455\n"
     ]
    },
    {
     "data": {
      "application/vnd.jupyter.widget-view+json": {
       "model_id": "00a4335a6b9f43858b967a73a1e60b6c",
       "version_major": 2,
       "version_minor": 0
      },
      "text/plain": [
       "Drawing 1000 posterior samples:   0%|          | 0/1000 [00:00<?, ?it/s]"
      ]
     },
     "metadata": {},
     "output_type": "display_data"
    },
    {
     "name": "stdout",
     "output_type": "stream",
     "text": [
      "acceptance rate:  0.115\n",
      "acceptance rate:  0.113\n",
      "tensor([2.2162, 3.5492, 1.8118, 2.6408, 3.0646, 4.2038, 1.0592, 2.1870, 2.0734,\n",
      "        2.3065, 1.6857, 2.0209, 2.2589, 4.5363, 3.6888])\n",
      "tensor([ 5.3190,  6.8566, 17.3702,  5.4874, 86.7048, 50.7545, 26.0638, 24.6379,\n",
      "         4.3850, 72.1492,  3.7106, 63.7171, 97.0621, 47.0280, 40.6242])\n",
      "tensor([[ 3.,  6., 20., 10., 90., 55., 27., 27.,  4., 70.,  5., 66., 99., 40.,\n",
      "         45.]])\n",
      "tensor([[1., 1., 1., 1., 1., 1., 1., 1., 1., 1., 1., 1., 1., 1., 1.]])\n",
      "tensor([[ 3.8490,  4.8984,  4.0049, 12.1976,  8.5053, 15.9119,  0.4416,  3.8987,\n",
      "          0.9944,  3.6337,  1.2299,  3.4443,  3.1141, 32.9730, 14.5723]])\n"
     ]
    },
    {
     "data": {
      "application/vnd.jupyter.widget-view+json": {
       "model_id": "594dfe28b97742f89189809227770fa9",
       "version_major": 2,
       "version_minor": 0
      },
      "text/plain": [
       "Drawing 1000 posterior samples:   0%|          | 0/1000 [00:00<?, ?it/s]"
      ]
     },
     "metadata": {},
     "output_type": "display_data"
    },
    {
     "name": "stdout",
     "output_type": "stream",
     "text": [
      "acceptance rate:  0.414\n",
      "acceptance rate:  0.4111818181818182\n"
     ]
    },
    {
     "data": {
      "application/vnd.jupyter.widget-view+json": {
       "model_id": "3d77072ecf0041cba0a3a0f2ad551d2d",
       "version_major": 2,
       "version_minor": 0
      },
      "text/plain": [
       "Drawing 1000 posterior samples:   0%|          | 0/1000 [00:00<?, ?it/s]"
      ]
     },
     "metadata": {},
     "output_type": "display_data"
    },
    {
     "name": "stdout",
     "output_type": "stream",
     "text": [
      "acceptance rate:  0.401\n",
      "acceptance rate:  0.41163636363636363\n",
      "tensor([1.8266, 2.2399, 3.1311, 3.4524, 2.5601, 4.2734, 2.6250, 3.8332, 6.8438,\n",
      "        3.6152, 3.5686, 5.6504, 1.8931, 5.2964, 3.3515])\n",
      "tensor([ 4.9600,  4.3812, 23.8732,  7.5964, 94.6930, 48.7271, 21.2665, 20.0272,\n",
      "        16.2029, 75.8037,  7.9245, 68.4104, 97.2443, 48.6925, 50.4214])\n",
      "tensor([[ 3.,  6., 20., 10., 90., 55., 27., 27.,  4., 70.,  5., 66., 99., 40.,\n",
      "         45.]])\n",
      "tensor([[1., 1., 1., 1., 1., 1., 1., 1., 1., 1., 1., 1., 1., 1., 1.]])\n",
      "tensor([[ 2.4865,  2.5125, 10.7615,  7.1091, 12.8493, 26.8533, 18.4165, 29.8128,\n",
      "         95.4506, 21.5915,  8.8718, 16.6367,  2.1949, 49.6384, 18.6029]])\n"
     ]
    },
    {
     "data": {
      "application/vnd.jupyter.widget-view+json": {
       "model_id": "dd6955715a37476b9822bdbea5057f8f",
       "version_major": 2,
       "version_minor": 0
      },
      "text/plain": [
       "Drawing 1000 posterior samples:   0%|          | 0/1000 [00:00<?, ?it/s]"
      ]
     },
     "metadata": {},
     "output_type": "display_data"
    },
    {
     "name": "stdout",
     "output_type": "stream",
     "text": [
      "acceptance rate:  0.008\n"
     ]
    },
    {
     "name": "stderr",
     "output_type": "stream",
     "text": [
      "WARNING:root:Drawing samples from posterior to estimate the normalizing\n",
      "                        constant for `log_prob()`. However, only\n",
      "                        1% posterior samples are within the\n",
      "                        prior support. It may take a long time to collect the\n",
      "                        remaining 892 samples.\n",
      "                        Consider interrupting (Ctrl-C) and either basing the\n",
      "                        estimate of the normalizing constant on fewer samples (by\n",
      "                        calling `posterior.leakage_correction(x_o,\n",
      "                        num_rejection_samples=N)`, where `N` is the number of\n",
      "                        samples you want to base the\n",
      "                        estimate on (default N=10000), or not estimating the\n",
      "                        normalizing constant at all\n",
      "                        (`log_prob(..., norm_posterior=False)`. The latter will\n",
      "                        result in an unnormalized `log_prob()`.\n"
     ]
    },
    {
     "name": "stdout",
     "output_type": "stream",
     "text": [
      "acceptance rate:  0.009818181818181818\n",
      "acceptance rate:  0.010238095238095239\n",
      "acceptance rate:  0.010935483870967742\n",
      "acceptance rate:  0.011\n",
      "acceptance rate:  0.011588235294117647\n",
      "acceptance rate:  0.01159016393442623\n",
      "acceptance rate:  0.011619718309859155\n",
      "acceptance rate:  0.011481481481481481\n",
      "acceptance rate:  0.011384615384615385\n"
     ]
    },
    {
     "data": {
      "application/vnd.jupyter.widget-view+json": {
       "model_id": "6dec8f1eac874600a8803c24c254c468",
       "version_major": 2,
       "version_minor": 0
      },
      "text/plain": [
       "Drawing 1000 posterior samples:   0%|          | 0/1000 [00:00<?, ?it/s]"
      ]
     },
     "metadata": {},
     "output_type": "display_data"
    },
    {
     "name": "stdout",
     "output_type": "stream",
     "text": [
      "acceptance rate:  0.013\n",
      "acceptance rate:  0.012181818181818183\n",
      "acceptance rate:  0.011476190476190477\n",
      "acceptance rate:  0.01129032258064516\n",
      "acceptance rate:  0.011097560975609756\n",
      "acceptance rate:  0.011588235294117647\n",
      "acceptance rate:  0.011426229508196722\n",
      "acceptance rate:  0.011295774647887323\n",
      "acceptance rate:  0.010925925925925926\n",
      "acceptance rate:  0.010857142857142857\n",
      "acceptance rate:  0.01095049504950495\n",
      "tensor([1.1281, 3.0585, 2.1774, 1.2068, 0.5907, 1.5691, 1.1493, 1.7173, 1.2557,\n",
      "        0.7609, 1.2661, 0.8298, 2.0576, 2.3556, 1.8616])\n",
      "tensor([ 2.6402,  8.2283, 22.6128,  9.3114, 90.5520, 57.9016, 24.2430, 27.6101,\n",
      "         6.8631, 68.7583,  3.4078, 65.1498, 97.0563, 41.1050, 47.2418])\n",
      "tensor([[ 3.,  6., 20., 10., 90., 55., 27., 27.,  4., 70.,  5., 66., 99., 40.,\n",
      "         45.]])\n",
      "tensor([[1., 1., 1., 1., 1., 1., 1., 1., 1., 1., 1., 1., 1., 1., 1.]])\n",
      "tensor([[0.0805, 5.5420, 4.5057, 0.2773, 0.3533, 4.4901, 3.8218, 0.6198, 4.1593,\n",
      "         0.8336, 1.3331, 0.3922, 2.7844, 2.0282, 3.1241]])\n"
     ]
    },
    {
     "data": {
      "application/vnd.jupyter.widget-view+json": {
       "model_id": "9832bc919fa349a9b48b1850258ce477",
       "version_major": 2,
       "version_minor": 0
      },
      "text/plain": [
       "Drawing 1000 posterior samples:   0%|          | 0/1000 [00:00<?, ?it/s]"
      ]
     },
     "metadata": {},
     "output_type": "display_data"
    },
    {
     "name": "stdout",
     "output_type": "stream",
     "text": [
      "acceptance rate:  0.43\n",
      "acceptance rate:  0.44272727272727275\n"
     ]
    },
    {
     "data": {
      "application/vnd.jupyter.widget-view+json": {
       "model_id": "8eee68067f3b4814bdbaaedf0dda3952",
       "version_major": 2,
       "version_minor": 0
      },
      "text/plain": [
       "Drawing 1000 posterior samples:   0%|          | 0/1000 [00:00<?, ?it/s]"
      ]
     },
     "metadata": {},
     "output_type": "display_data"
    },
    {
     "name": "stdout",
     "output_type": "stream",
     "text": [
      "acceptance rate:  0.45\n",
      "acceptance rate:  0.4540909090909091\n",
      "tensor([3.4052, 1.3107, 4.8352, 3.3448, 2.3127, 2.0151, 2.8395, 2.8475, 4.0037,\n",
      "        3.1642, 2.6031, 4.6090, 1.8592, 2.4413, 1.9140])\n",
      "tensor([ 7.1081,  6.1138, 18.9615,  7.9335, 96.2446, 54.1316, 26.8737, 22.0969,\n",
      "         8.0953, 69.8497,  6.0993, 60.5894, 97.0036, 38.2294, 47.7067])\n",
      "tensor([[ 3.,  6., 20., 10., 90., 55., 27., 27.,  4., 70.,  5., 66., 99., 40.,\n",
      "         45.]])\n",
      "tensor([[1., 1., 1., 1., 1., 1., 1., 1., 1., 1., 1., 1., 1., 1., 1.]])\n",
      "tensor([[12.5106,  0.0949, 10.1527,  6.0216, 20.8334,  1.2067,  2.4956, 14.5278,\n",
      "         14.5132,  3.3654,  2.5356, 23.2307,  2.6011,  3.1548,  4.3457]])\n"
     ]
    },
    {
     "data": {
      "application/vnd.jupyter.widget-view+json": {
       "model_id": "9c5e52317eb445d6a63cb7c0fda72039",
       "version_major": 2,
       "version_minor": 0
      },
      "text/plain": [
       "Drawing 1000 posterior samples:   0%|          | 0/1000 [00:00<?, ?it/s]"
      ]
     },
     "metadata": {},
     "output_type": "display_data"
    },
    {
     "name": "stdout",
     "output_type": "stream",
     "text": [
      "acceptance rate:  0.989\n",
      "acceptance rate:  0.984909090909091\n"
     ]
    },
    {
     "data": {
      "application/vnd.jupyter.widget-view+json": {
       "model_id": "6c6da67878ab4d3cb917c04fbed4b6ab",
       "version_major": 2,
       "version_minor": 0
      },
      "text/plain": [
       "Drawing 1000 posterior samples:   0%|          | 0/1000 [00:00<?, ?it/s]"
      ]
     },
     "metadata": {},
     "output_type": "display_data"
    },
    {
     "name": "stdout",
     "output_type": "stream",
     "text": [
      "acceptance rate:  0.988\n",
      "acceptance rate:  0.9861818181818182\n",
      "tensor([0.2825, 0.3128, 3.1890, 0.5674, 0.5800, 0.5554, 0.2645, 0.8900, 0.3726,\n",
      "        0.2538, 0.7435, 3.5521, 3.5788, 2.3030, 3.0315])\n",
      "tensor([ 4.1944,  5.0201, 27.7520, 10.8749, 89.7991, 54.9968, 25.4008, 28.8369,\n",
      "         6.2804, 69.5025,  6.2607, 56.6082, 91.6908, 45.0501, 38.6460])\n",
      "tensor([[ 3.,  6., 20., 10., 90., 55., 27., 27.,  4., 70.,  5., 66., 99., 40.,\n",
      "         45.]])\n",
      "tensor([[1., 1., 1., 1., 1., 1., 1., 1., 1., 1., 1., 1., 1., 1., 1.]])\n",
      "tensor([[ 1.5174,  1.1913, 33.4718,  0.6104,  0.2330,  0.2423,  2.1435,  1.6997,\n",
      "          3.1568,  1.0273,  0.8675, 48.6443, 31.3407, 14.0696, 23.1726]])\n"
     ]
    },
    {
     "data": {
      "application/vnd.jupyter.widget-view+json": {
       "model_id": "63483e62a3f1498c82f319f1d610e7a5",
       "version_major": 2,
       "version_minor": 0
      },
      "text/plain": [
       "Drawing 1000 posterior samples:   0%|          | 0/1000 [00:00<?, ?it/s]"
      ]
     },
     "metadata": {},
     "output_type": "display_data"
    },
    {
     "name": "stdout",
     "output_type": "stream",
     "text": [
      "acceptance rate:  0.422\n",
      "acceptance rate:  0.4258181818181818\n"
     ]
    },
    {
     "data": {
      "application/vnd.jupyter.widget-view+json": {
       "model_id": "4b115fde71404a038a4d32e87fde8485",
       "version_major": 2,
       "version_minor": 0
      },
      "text/plain": [
       "Drawing 1000 posterior samples:   0%|          | 0/1000 [00:00<?, ?it/s]"
      ]
     },
     "metadata": {},
     "output_type": "display_data"
    },
    {
     "name": "stdout",
     "output_type": "stream",
     "text": [
      "acceptance rate:  0.44\n",
      "acceptance rate:  0.43436363636363634\n",
      "tensor([ 4.4216, 11.1652,  4.6647,  3.9413, 12.2243,  4.4979,  8.8829,  8.6255,\n",
      "        13.2083,  7.5299,  9.1281, 10.0509,  7.5237,  7.0492,  7.6251])\n",
      "tensor([ 8.3595, 41.8538, 25.4862,  6.3176, 51.9665, 73.3337, 23.6516, 44.8850,\n",
      "        41.8640, 87.9425, 19.4198, 49.3866, 84.4782, 27.5996, 62.9900])\n",
      "tensor([[ 3.,  6., 20., 10., 90., 55., 27., 27.,  4., 70.,  5., 66., 99., 40.,\n",
      "         45.]])\n",
      "tensor([[1., 1., 1., 1., 1., 1., 1., 1., 1., 1., 1., 1., 1., 1., 1.]])\n",
      "tensor([[ 22.1508, 702.1656,  23.8892,  12.6754, 794.9872, 176.1739,  42.3748,\n",
      "         194.4808, 800.9900, 186.7969, 142.9140, 185.7043, 131.2258,  99.2776,\n",
      "         188.3592]])\n"
     ]
    },
    {
     "data": {
      "application/vnd.jupyter.widget-view+json": {
       "model_id": "7292fdabf5be48fca2f8137a41dbe048",
       "version_major": 2,
       "version_minor": 0
      },
      "text/plain": [
       "Drawing 1000 posterior samples:   0%|          | 0/1000 [00:00<?, ?it/s]"
      ]
     },
     "metadata": {},
     "output_type": "display_data"
    },
    {
     "name": "stdout",
     "output_type": "stream",
     "text": [
      "acceptance rate:  0.046\n",
      "acceptance rate:  0.056545454545454545\n",
      "acceptance rate:  0.05576190476190476\n"
     ]
    },
    {
     "data": {
      "application/vnd.jupyter.widget-view+json": {
       "model_id": "77b574773f2342f9ace1ca8b3358931b",
       "version_major": 2,
       "version_minor": 0
      },
      "text/plain": [
       "Drawing 1000 posterior samples:   0%|          | 0/1000 [00:00<?, ?it/s]"
      ]
     },
     "metadata": {},
     "output_type": "display_data"
    },
    {
     "name": "stdout",
     "output_type": "stream",
     "text": [
      "acceptance rate:  0.047\n",
      "acceptance rate:  0.054181818181818185\n",
      "acceptance rate:  0.055857142857142855\n",
      "tensor([1.0194, 2.9607, 3.9554, 4.3700, 8.3084, 3.0294, 4.2546, 1.6768, 1.9928,\n",
      "        4.9862, 2.2467, 4.6284, 1.3929, 5.9818, 3.5000])\n",
      "tensor([ 2.2598,  5.3561, 27.3140,  9.7574, 73.1317, 62.3991, 14.7777, 29.8902,\n",
      "         4.0980, 69.6949,  6.0463, 70.7766, 97.9055, 39.9840, 52.9364])\n",
      "tensor([[ 3.,  6., 20., 10., 90., 55., 27., 27.,  4., 70.,  5., 66., 99., 40.,\n",
      "         45.]])\n",
      "tensor([[1., 1., 1., 1., 1., 1., 1., 1., 1., 1., 1., 1., 1., 1., 1.]])\n",
      "tensor([[  0.2744,   3.0047,  32.6951,   7.6032, 174.1670,  30.3534,  81.7956,\n",
      "           4.5656,   0.8009,  10.3708,   1.7618,  20.0870,   0.7377,  15.6023,\n",
      "          35.8658]])\n"
     ]
    },
    {
     "data": {
      "application/vnd.jupyter.widget-view+json": {
       "model_id": "92f4a3a026704fe3880db38a1ddad582",
       "version_major": 2,
       "version_minor": 0
      },
      "text/plain": [
       "Drawing 1000 posterior samples:   0%|          | 0/1000 [00:00<?, ?it/s]"
      ]
     },
     "metadata": {},
     "output_type": "display_data"
    },
    {
     "name": "stdout",
     "output_type": "stream",
     "text": [
      "acceptance rate:  0.458\n",
      "acceptance rate:  0.4650909090909091\n"
     ]
    },
    {
     "data": {
      "application/vnd.jupyter.widget-view+json": {
       "model_id": "c5631210c9fe449c9012b179ff5bf4cf",
       "version_major": 2,
       "version_minor": 0
      },
      "text/plain": [
       "Drawing 1000 posterior samples:   0%|          | 0/1000 [00:00<?, ?it/s]"
      ]
     },
     "metadata": {},
     "output_type": "display_data"
    },
    {
     "name": "stdout",
     "output_type": "stream",
     "text": [
      "acceptance rate:  0.432\n",
      "acceptance rate:  0.4659090909090909\n",
      "tensor([2.0048, 1.9746, 2.3210, 2.6342, 1.8377, 2.5235, 1.6332, 2.8494, 4.1779,\n",
      "        2.5947, 1.7038, 2.9482, 1.4043, 3.1588, 2.3074])\n",
      "tensor([ 4.1667,  6.4301, 18.1454,  4.7309, 91.1976, 54.9242, 25.9354, 27.9096,\n",
      "        11.8096, 72.1887,  4.6765, 59.5632, 97.6801, 35.1708, 49.6224])\n",
      "tensor([[ 3.,  6., 20., 10., 90., 55., 27., 27.,  4., 70.,  5., 66., 99., 40.,\n",
      "         45.]])\n",
      "tensor([[1., 1., 1., 1., 1., 1., 1., 1., 1., 1., 1., 1., 1., 1., 1.]])\n",
      "tensor([[ 1.4947,  0.8616,  3.0713, 15.8825,  1.2972,  1.7612,  0.9098,  2.9260,\n",
      "         37.2927,  4.3079,  0.4709, 23.4812,  1.0176, 14.9991, 12.0090]])\n"
     ]
    },
    {
     "data": {
      "application/vnd.jupyter.widget-view+json": {
       "model_id": "76b9716bc77f4044b3060a80d85c298b",
       "version_major": 2,
       "version_minor": 0
      },
      "text/plain": [
       "Drawing 1000 posterior samples:   0%|          | 0/1000 [00:00<?, ?it/s]"
      ]
     },
     "metadata": {},
     "output_type": "display_data"
    },
    {
     "name": "stdout",
     "output_type": "stream",
     "text": [
      "acceptance rate:  0.468\n",
      "acceptance rate:  0.47809090909090907\n"
     ]
    },
    {
     "data": {
      "application/vnd.jupyter.widget-view+json": {
       "model_id": "436d40da79154e288ac5f0b5229fcf76",
       "version_major": 2,
       "version_minor": 0
      },
      "text/plain": [
       "Drawing 1000 posterior samples:   0%|          | 0/1000 [00:00<?, ?it/s]"
      ]
     },
     "metadata": {},
     "output_type": "display_data"
    },
    {
     "name": "stdout",
     "output_type": "stream",
     "text": [
      "acceptance rate:  0.475\n",
      "acceptance rate:  0.4769090909090909\n",
      "tensor([2.3595, 5.3554, 6.5469, 3.9714, 4.4727, 4.5602, 4.4488, 3.5199, 4.6771,\n",
      "        5.8429, 3.9572, 1.8280, 4.1182, 6.3811, 1.8856])\n",
      "tensor([ 8.5541, 16.4315, 13.9109,  6.5507, 78.5414, 64.0077, 11.4353, 28.5907,\n",
      "         9.3881, 87.4850,  9.2272, 62.5540, 89.8563, 33.7561, 44.5574])\n",
      "tensor([[ 3.,  6., 20., 10., 90., 55., 27., 27.,  4., 70.,  5., 66., 99., 40.,\n",
      "         45.]])\n",
      "tensor([[1., 1., 1., 1., 1., 1., 1., 1., 1., 1., 1., 1., 1., 1., 1.]])\n",
      "tensor([[ 16.8493,  66.5703,  37.5906,  11.9557,  73.6541,  48.9495, 129.0330,\n",
      "           5.7015,  23.4107, 167.6679,  14.8886,   6.5052,  48.3680,  37.4991,\n",
      "           0.7415]])\n"
     ]
    },
    {
     "data": {
      "application/vnd.jupyter.widget-view+json": {
       "model_id": "66069844038a47118ba6367a0b070a90",
       "version_major": 2,
       "version_minor": 0
      },
      "text/plain": [
       "Drawing 1000 posterior samples:   0%|          | 0/1000 [00:00<?, ?it/s]"
      ]
     },
     "metadata": {},
     "output_type": "display_data"
    },
    {
     "name": "stdout",
     "output_type": "stream",
     "text": [
      "acceptance rate:  0.38\n",
      "acceptance rate:  0.4039090909090909\n"
     ]
    },
    {
     "data": {
      "application/vnd.jupyter.widget-view+json": {
       "model_id": "2dd4ede1d42b4a099bdac6d36ff3a8fe",
       "version_major": 2,
       "version_minor": 0
      },
      "text/plain": [
       "Drawing 1000 posterior samples:   0%|          | 0/1000 [00:00<?, ?it/s]"
      ]
     },
     "metadata": {},
     "output_type": "display_data"
    },
    {
     "name": "stdout",
     "output_type": "stream",
     "text": [
      "acceptance rate:  0.391\n",
      "acceptance rate:  0.39690909090909093\n",
      "tensor([1.2623, 1.2355, 2.0403, 2.1391, 1.6812, 2.1369, 4.4049, 1.5298, 0.6510,\n",
      "        0.7462, 0.8336, 1.7471, 1.8216, 2.0459, 6.9344])\n",
      "tensor([ 5.1564,  2.7564, 21.2196,  8.3023, 93.3481, 55.5775, 21.6484, 27.9561,\n",
      "         5.8815, 69.5487,  4.5042, 66.5318, 97.4243, 37.2482, 37.7529])\n",
      "tensor([[ 3.,  6., 20., 10., 90., 55., 27., 27.,  4., 70.,  5., 66., 99., 40.,\n",
      "         45.]])\n",
      "tensor([[1., 1., 1., 1., 1., 1., 1., 1., 1., 1., 1., 1., 1., 1., 1.]])\n",
      "tensor([[ 2.3888,  5.3121,  1.6120,  2.4685,  5.9985,  1.1906, 22.0387,  0.7021,\n",
      "          1.9112,  0.1730,  0.1523,  0.6096,  1.8008,  4.6631, 47.8669]])\n"
     ]
    },
    {
     "data": {
      "application/vnd.jupyter.widget-view+json": {
       "model_id": "188146dee6f34941bc3f9d1b6f939b95",
       "version_major": 2,
       "version_minor": 0
      },
      "text/plain": [
       "Drawing 1000 posterior samples:   0%|          | 0/1000 [00:00<?, ?it/s]"
      ]
     },
     "metadata": {},
     "output_type": "display_data"
    },
    {
     "name": "stdout",
     "output_type": "stream",
     "text": [
      "acceptance rate:  0.057\n",
      "acceptance rate:  0.05936363636363636\n",
      "acceptance rate:  0.06085714285714286\n"
     ]
    },
    {
     "data": {
      "application/vnd.jupyter.widget-view+json": {
       "model_id": "3488dfe1bfa847b2857d2545dfbfda96",
       "version_major": 2,
       "version_minor": 0
      },
      "text/plain": [
       "Drawing 1000 posterior samples:   0%|          | 0/1000 [00:00<?, ?it/s]"
      ]
     },
     "metadata": {},
     "output_type": "display_data"
    },
    {
     "name": "stdout",
     "output_type": "stream",
     "text": [
      "acceptance rate:  0.048\n",
      "acceptance rate:  0.06127272727272727\n",
      "acceptance rate:  0.060238095238095236\n",
      "tensor([ 2.4017,  1.5797,  9.2023,  1.7837,  1.2881,  0.4985,  1.0782,  0.6711,\n",
      "         1.1717,  0.4166,  5.5971, 11.6769,  1.3257,  2.0148, 11.7521])\n",
      "tensor([ 7.4110,  6.6300, 33.3150, 11.8394, 92.4501, 55.6619, 26.6580, 27.5277,\n",
      "         3.9195, 69.8584, 12.7781, 81.6339, 97.5573, 42.4642, 28.6316])\n",
      "tensor([[ 3.,  6., 20., 10., 90., 55., 27., 27.,  4., 70.,  5., 66., 99., 40.,\n",
      "         45.]])\n",
      "tensor([[1., 1., 1., 1., 1., 1., 1., 1., 1., 1., 1., 1., 1., 1., 1.]])\n",
      "tensor([[1.1237e+01, 4.8895e-01, 1.2827e+02, 2.2039e+00, 3.0780e+00, 5.3941e-01,\n",
      "         6.4449e-02, 2.6323e-01, 3.1239e-02, 4.7251e-01, 4.3691e+01, 1.8743e+02,\n",
      "         1.1376e+00, 3.8651e+00, 2.0005e+02]])\n"
     ]
    }
   ],
   "source": [
    "\n",
    "analytic = torch.distributions.normal.Normal(true_thetas, 1)\n",
    "\n",
    "\n",
    "overall_snpe_list = []\n",
    "\n",
    "variance_list_snpe = []\n",
    "\n",
    "mean_list_snpe = []\n",
    "\n",
    "\n",
    "## for round\n",
    "for posterior_snpe_list in list_collection:\n",
    "    \n",
    "    KL_snpe = []\n",
    "    KL_snpe_1d = []\n",
    "    \n",
    "    \n",
    "    ## for number of simulations\n",
    "    for posterior_snpe in posterior_snpe_list:\n",
    "\n",
    "\n",
    "        #KL = KLdivergence(posterior_snpe, sample_y)\n",
    "        KL, var_x, mu_x = KL_Gauss(posterior_snpe, analytic)\n",
    "        \n",
    "        variance_list_snpe.append(var_x)\n",
    "        \n",
    "        mean_list_snpe.append(mu_x)\n",
    "\n",
    "\n",
    "        KL_1d = calc_KL_1d(posterior_snpe, analytic)\n",
    "\n",
    "        KL_snpe_1d.append(KL_1d)\n",
    "\n",
    "        #KL_snpe_sum.append(sum_KL)\n",
    "\n",
    "        KL_snpe.append(KL)\n",
    "        \n",
    "    overall_snpe_list.append(KL_snpe)\n",
    "\n",
    "\n",
    "    \n",
    "    "
   ]
  },
  {
   "cell_type": "code",
   "execution_count": 13,
   "id": "f68ad23e",
   "metadata": {},
   "outputs": [
    {
     "data": {
      "application/vnd.jupyter.widget-view+json": {
       "model_id": "35cbb62aaa5e43e5bf03217acd36a2bb",
       "version_major": 2,
       "version_minor": 0
      },
      "text/plain": [
       "Drawing 1000 posterior samples:   0%|          | 0/1000 [00:00<?, ?it/s]"
      ]
     },
     "metadata": {},
     "output_type": "display_data"
    },
    {
     "name": "stdout",
     "output_type": "stream",
     "text": [
      "acceptance rate:  1.0\n"
     ]
    },
    {
     "data": {
      "application/vnd.jupyter.widget-view+json": {
       "model_id": "c8793bfd4af746d1986f5809b4482ece",
       "version_major": 2,
       "version_minor": 0
      },
      "text/plain": [
       "Drawing 1000 posterior samples:   0%|          | 0/1000 [00:00<?, ?it/s]"
      ]
     },
     "metadata": {},
     "output_type": "display_data"
    },
    {
     "name": "stdout",
     "output_type": "stream",
     "text": [
      "acceptance rate:  1.0\n"
     ]
    },
    {
     "data": {
      "application/vnd.jupyter.widget-view+json": {
       "model_id": "77eae5a483764de98cbd555ba6a7af48",
       "version_major": 2,
       "version_minor": 0
      },
      "text/plain": [
       "Drawing 1000 posterior samples:   0%|          | 0/1000 [00:00<?, ?it/s]"
      ]
     },
     "metadata": {},
     "output_type": "display_data"
    },
    {
     "name": "stdout",
     "output_type": "stream",
     "text": [
      "acceptance rate:  1.0\n"
     ]
    },
    {
     "data": {
      "application/vnd.jupyter.widget-view+json": {
       "model_id": "e85c74b7f7cd489bb7de67058058db00",
       "version_major": 2,
       "version_minor": 0
      },
      "text/plain": [
       "Drawing 1000 posterior samples:   0%|          | 0/1000 [00:00<?, ?it/s]"
      ]
     },
     "metadata": {},
     "output_type": "display_data"
    },
    {
     "name": "stdout",
     "output_type": "stream",
     "text": [
      "acceptance rate:  1.0\n"
     ]
    },
    {
     "data": {
      "application/vnd.jupyter.widget-view+json": {
       "model_id": "d4eeedf04a974d86aebdb1056fb8a398",
       "version_major": 2,
       "version_minor": 0
      },
      "text/plain": [
       "Drawing 1000 posterior samples:   0%|          | 0/1000 [00:00<?, ?it/s]"
      ]
     },
     "metadata": {},
     "output_type": "display_data"
    },
    {
     "name": "stdout",
     "output_type": "stream",
     "text": [
      "acceptance rate:  1.0\n"
     ]
    },
    {
     "data": {
      "application/vnd.jupyter.widget-view+json": {
       "model_id": "de0d52a3b9e64e2a9b7466f7f10fba43",
       "version_major": 2,
       "version_minor": 0
      },
      "text/plain": [
       "Drawing 1000 posterior samples:   0%|          | 0/1000 [00:00<?, ?it/s]"
      ]
     },
     "metadata": {},
     "output_type": "display_data"
    },
    {
     "name": "stdout",
     "output_type": "stream",
     "text": [
      "acceptance rate:  1.0\n"
     ]
    },
    {
     "data": {
      "application/vnd.jupyter.widget-view+json": {
       "model_id": "446860d821b74b18b7fe204a63256902",
       "version_major": 2,
       "version_minor": 0
      },
      "text/plain": [
       "Drawing 1000 posterior samples:   0%|          | 0/1000 [00:00<?, ?it/s]"
      ]
     },
     "metadata": {},
     "output_type": "display_data"
    },
    {
     "name": "stdout",
     "output_type": "stream",
     "text": [
      "acceptance rate:  1.0\n"
     ]
    },
    {
     "data": {
      "application/vnd.jupyter.widget-view+json": {
       "model_id": "56caddd2cfcf4e5883299cd888ef0ef5",
       "version_major": 2,
       "version_minor": 0
      },
      "text/plain": [
       "Drawing 1000 posterior samples:   0%|          | 0/1000 [00:00<?, ?it/s]"
      ]
     },
     "metadata": {},
     "output_type": "display_data"
    },
    {
     "name": "stdout",
     "output_type": "stream",
     "text": [
      "acceptance rate:  1.0\n"
     ]
    },
    {
     "data": {
      "application/vnd.jupyter.widget-view+json": {
       "model_id": "88a7837f025e414a8259190a8e9ac8b3",
       "version_major": 2,
       "version_minor": 0
      },
      "text/plain": [
       "Drawing 1000 posterior samples:   0%|          | 0/1000 [00:00<?, ?it/s]"
      ]
     },
     "metadata": {},
     "output_type": "display_data"
    },
    {
     "name": "stdout",
     "output_type": "stream",
     "text": [
      "acceptance rate:  1.0\n"
     ]
    },
    {
     "data": {
      "application/vnd.jupyter.widget-view+json": {
       "model_id": "7df46f38b5054a4e810fa07d77fad7f0",
       "version_major": 2,
       "version_minor": 0
      },
      "text/plain": [
       "Drawing 1000 posterior samples:   0%|          | 0/1000 [00:00<?, ?it/s]"
      ]
     },
     "metadata": {},
     "output_type": "display_data"
    },
    {
     "name": "stdout",
     "output_type": "stream",
     "text": [
      "acceptance rate:  1.0\n"
     ]
    },
    {
     "data": {
      "application/vnd.jupyter.widget-view+json": {
       "model_id": "4dc28abae32f4e98aa95529dd14c7eac",
       "version_major": 2,
       "version_minor": 0
      },
      "text/plain": [
       "Drawing 1000 posterior samples:   0%|          | 0/1000 [00:00<?, ?it/s]"
      ]
     },
     "metadata": {},
     "output_type": "display_data"
    },
    {
     "name": "stdout",
     "output_type": "stream",
     "text": [
      "acceptance rate:  1.0\n"
     ]
    },
    {
     "data": {
      "application/vnd.jupyter.widget-view+json": {
       "model_id": "a017370bde304b31ae057aad3c3d54b1",
       "version_major": 2,
       "version_minor": 0
      },
      "text/plain": [
       "Drawing 1000 posterior samples:   0%|          | 0/1000 [00:00<?, ?it/s]"
      ]
     },
     "metadata": {},
     "output_type": "display_data"
    },
    {
     "name": "stdout",
     "output_type": "stream",
     "text": [
      "acceptance rate:  1.0\n"
     ]
    },
    {
     "data": {
      "application/vnd.jupyter.widget-view+json": {
       "model_id": "4ad0e063d36646d3ab65a3ec4f873a0d",
       "version_major": 2,
       "version_minor": 0
      },
      "text/plain": [
       "Drawing 1000 posterior samples:   0%|          | 0/1000 [00:00<?, ?it/s]"
      ]
     },
     "metadata": {},
     "output_type": "display_data"
    },
    {
     "name": "stdout",
     "output_type": "stream",
     "text": [
      "acceptance rate:  1.0\n"
     ]
    },
    {
     "data": {
      "application/vnd.jupyter.widget-view+json": {
       "model_id": "d4b8cd3a22c54e8bb96cd5bbddeb1a8e",
       "version_major": 2,
       "version_minor": 0
      },
      "text/plain": [
       "Drawing 1000 posterior samples:   0%|          | 0/1000 [00:00<?, ?it/s]"
      ]
     },
     "metadata": {},
     "output_type": "display_data"
    },
    {
     "name": "stdout",
     "output_type": "stream",
     "text": [
      "acceptance rate:  1.0\n"
     ]
    },
    {
     "data": {
      "application/vnd.jupyter.widget-view+json": {
       "model_id": "d2388456e6994a38bad21157cb96c204",
       "version_major": 2,
       "version_minor": 0
      },
      "text/plain": [
       "Drawing 1000 posterior samples:   0%|          | 0/1000 [00:00<?, ?it/s]"
      ]
     },
     "metadata": {},
     "output_type": "display_data"
    },
    {
     "name": "stdout",
     "output_type": "stream",
     "text": [
      "acceptance rate:  1.0\n"
     ]
    },
    {
     "data": {
      "application/vnd.jupyter.widget-view+json": {
       "model_id": "695d0d65fddd4b7bb29fb1787efcfa2e",
       "version_major": 2,
       "version_minor": 0
      },
      "text/plain": [
       "Drawing 1000 posterior samples:   0%|          | 0/1000 [00:00<?, ?it/s]"
      ]
     },
     "metadata": {},
     "output_type": "display_data"
    },
    {
     "name": "stdout",
     "output_type": "stream",
     "text": [
      "acceptance rate:  1.0\n"
     ]
    },
    {
     "data": {
      "application/vnd.jupyter.widget-view+json": {
       "model_id": "12982c76089149bf9090d91124cbaddc",
       "version_major": 2,
       "version_minor": 0
      },
      "text/plain": [
       "Drawing 1000 posterior samples:   0%|          | 0/1000 [00:00<?, ?it/s]"
      ]
     },
     "metadata": {},
     "output_type": "display_data"
    },
    {
     "name": "stdout",
     "output_type": "stream",
     "text": [
      "acceptance rate:  1.0\n"
     ]
    },
    {
     "data": {
      "application/vnd.jupyter.widget-view+json": {
       "model_id": "b98b3c203a9d4a9bb34682642a946a03",
       "version_major": 2,
       "version_minor": 0
      },
      "text/plain": [
       "Drawing 1000 posterior samples:   0%|          | 0/1000 [00:00<?, ?it/s]"
      ]
     },
     "metadata": {},
     "output_type": "display_data"
    },
    {
     "name": "stdout",
     "output_type": "stream",
     "text": [
      "acceptance rate:  1.0\n"
     ]
    },
    {
     "data": {
      "application/vnd.jupyter.widget-view+json": {
       "model_id": "af412ae9ffb246a4bb65a29442c2bdec",
       "version_major": 2,
       "version_minor": 0
      },
      "text/plain": [
       "Drawing 1000 posterior samples:   0%|          | 0/1000 [00:00<?, ?it/s]"
      ]
     },
     "metadata": {},
     "output_type": "display_data"
    },
    {
     "name": "stdout",
     "output_type": "stream",
     "text": [
      "acceptance rate:  1.0\n"
     ]
    },
    {
     "data": {
      "application/vnd.jupyter.widget-view+json": {
       "model_id": "9d6f95f8251342fb8b4c21d39e34d13d",
       "version_major": 2,
       "version_minor": 0
      },
      "text/plain": [
       "Drawing 1000 posterior samples:   0%|          | 0/1000 [00:00<?, ?it/s]"
      ]
     },
     "metadata": {},
     "output_type": "display_data"
    },
    {
     "name": "stdout",
     "output_type": "stream",
     "text": [
      "acceptance rate:  1.0\n"
     ]
    },
    {
     "data": {
      "application/vnd.jupyter.widget-view+json": {
       "model_id": "d975ac7ca4014d34bf99626948d74ad8",
       "version_major": 2,
       "version_minor": 0
      },
      "text/plain": [
       "Drawing 1000 posterior samples:   0%|          | 0/1000 [00:00<?, ?it/s]"
      ]
     },
     "metadata": {},
     "output_type": "display_data"
    },
    {
     "name": "stdout",
     "output_type": "stream",
     "text": [
      "acceptance rate:  1.0\n"
     ]
    },
    {
     "data": {
      "application/vnd.jupyter.widget-view+json": {
       "model_id": "1d8f77bb0666412bafe34ca0a68cee76",
       "version_major": 2,
       "version_minor": 0
      },
      "text/plain": [
       "Drawing 1000 posterior samples:   0%|          | 0/1000 [00:00<?, ?it/s]"
      ]
     },
     "metadata": {},
     "output_type": "display_data"
    },
    {
     "name": "stdout",
     "output_type": "stream",
     "text": [
      "acceptance rate:  1.0\n"
     ]
    },
    {
     "data": {
      "application/vnd.jupyter.widget-view+json": {
       "model_id": "536acabec89244c09e39ab17f56029b9",
       "version_major": 2,
       "version_minor": 0
      },
      "text/plain": [
       "Drawing 1000 posterior samples:   0%|          | 0/1000 [00:00<?, ?it/s]"
      ]
     },
     "metadata": {},
     "output_type": "display_data"
    },
    {
     "name": "stdout",
     "output_type": "stream",
     "text": [
      "acceptance rate:  1.0\n"
     ]
    },
    {
     "data": {
      "application/vnd.jupyter.widget-view+json": {
       "model_id": "068cef5dc8664b9494ffd96bb0647228",
       "version_major": 2,
       "version_minor": 0
      },
      "text/plain": [
       "Drawing 1000 posterior samples:   0%|          | 0/1000 [00:00<?, ?it/s]"
      ]
     },
     "metadata": {},
     "output_type": "display_data"
    },
    {
     "name": "stdout",
     "output_type": "stream",
     "text": [
      "acceptance rate:  1.0\n"
     ]
    },
    {
     "data": {
      "application/vnd.jupyter.widget-view+json": {
       "model_id": "3fa4c9e80ed8425aa7875710068aa6df",
       "version_major": 2,
       "version_minor": 0
      },
      "text/plain": [
       "Drawing 1000 posterior samples:   0%|          | 0/1000 [00:00<?, ?it/s]"
      ]
     },
     "metadata": {},
     "output_type": "display_data"
    },
    {
     "name": "stdout",
     "output_type": "stream",
     "text": [
      "acceptance rate:  1.0\n"
     ]
    },
    {
     "data": {
      "application/vnd.jupyter.widget-view+json": {
       "model_id": "1094af1edf474c0fa8eb50840ccb77b5",
       "version_major": 2,
       "version_minor": 0
      },
      "text/plain": [
       "Drawing 1000 posterior samples:   0%|          | 0/1000 [00:00<?, ?it/s]"
      ]
     },
     "metadata": {},
     "output_type": "display_data"
    },
    {
     "name": "stdout",
     "output_type": "stream",
     "text": [
      "acceptance rate:  1.0\n"
     ]
    },
    {
     "data": {
      "application/vnd.jupyter.widget-view+json": {
       "model_id": "fd8a9188d2e041bd882ba5a5fb067530",
       "version_major": 2,
       "version_minor": 0
      },
      "text/plain": [
       "Drawing 1000 posterior samples:   0%|          | 0/1000 [00:00<?, ?it/s]"
      ]
     },
     "metadata": {},
     "output_type": "display_data"
    },
    {
     "name": "stdout",
     "output_type": "stream",
     "text": [
      "acceptance rate:  1.0\n"
     ]
    },
    {
     "data": {
      "application/vnd.jupyter.widget-view+json": {
       "model_id": "1da32ac04a87461e8eaa343ac42bf032",
       "version_major": 2,
       "version_minor": 0
      },
      "text/plain": [
       "Drawing 1000 posterior samples:   0%|          | 0/1000 [00:00<?, ?it/s]"
      ]
     },
     "metadata": {},
     "output_type": "display_data"
    },
    {
     "name": "stdout",
     "output_type": "stream",
     "text": [
      "acceptance rate:  1.0\n"
     ]
    },
    {
     "data": {
      "application/vnd.jupyter.widget-view+json": {
       "model_id": "6555a45b928647a4b111b2aa9ee9b1ba",
       "version_major": 2,
       "version_minor": 0
      },
      "text/plain": [
       "Drawing 1000 posterior samples:   0%|          | 0/1000 [00:00<?, ?it/s]"
      ]
     },
     "metadata": {},
     "output_type": "display_data"
    },
    {
     "name": "stdout",
     "output_type": "stream",
     "text": [
      "acceptance rate:  1.0\n"
     ]
    },
    {
     "data": {
      "application/vnd.jupyter.widget-view+json": {
       "model_id": "c183bfeb84a54ff7ae822537f0630a37",
       "version_major": 2,
       "version_minor": 0
      },
      "text/plain": [
       "Drawing 1000 posterior samples:   0%|          | 0/1000 [00:00<?, ?it/s]"
      ]
     },
     "metadata": {},
     "output_type": "display_data"
    },
    {
     "name": "stdout",
     "output_type": "stream",
     "text": [
      "acceptance rate:  1.0\n"
     ]
    }
   ],
   "source": [
    "torch.manual_seed(5)\n",
    "np.random.seed(5)\n",
    "\n",
    "obs_real = Gaussian(true_thetas[0, 0:])\n",
    "\n",
    "\n",
    "\n",
    "analytic = torch.distributions.normal.Normal(true_thetas, 1)\n",
    "\n",
    "\n",
    "overall_incremental_list = []\n",
    "\n",
    "variance_list = []\n",
    "\n",
    "mean_list = []\n",
    "\n",
    "for posterior_incremental_list in list_collection_inc:\n",
    "    \n",
    "    KL_incremental = []\n",
    "\n",
    "    for posterior_incremental in posterior_incremental_list:\n",
    "\n",
    "        posterior_incremental.set_default_x(obs_real)\n",
    "\n",
    "        #KL = KLdivergence(posterior_incremental, sample_y)\n",
    "\n",
    "        KL, var_x, mu_x = KL_Gauss(posterior_incremental, analytic)\n",
    "        \n",
    "        variance_list.append(var_x)\n",
    "        mean_list.append(mu_x)\n",
    "\n",
    "        #KL_1d = calc_KL_1d(posterior_incremental, analytic)\n",
    "\n",
    "        #KL_incremental_1d.append(KL_1d)\n",
    "\n",
    "\n",
    "        KL_incremental.append(KL)\n",
    "\n",
    "        \n",
    "    overall_incremental_list.append(KL_incremental)"
   ]
  },
  {
   "cell_type": "code",
   "execution_count": 14,
   "id": "6a67366a",
   "metadata": {},
   "outputs": [],
   "source": [
    "mean_incremental = np.mean(np.array(overall_incremental_list), axis=0)\n",
    "\n",
    "\n",
    "stdev_incremental = np.std(np.array(overall_incremental_list), axis=0)\n",
    "\n",
    "\n",
    "\n",
    "lower_incremental = mean_incremental - [element * 0.5 for element in stdev_incremental]\n",
    "\n",
    "upper_incremental = mean_incremental + [element * 0.5 for element in stdev_incremental]"
   ]
  },
  {
   "cell_type": "code",
   "execution_count": 15,
   "id": "babbcf05",
   "metadata": {},
   "outputs": [],
   "source": [
    "import seaborn as sns"
   ]
  },
  {
   "cell_type": "code",
   "execution_count": 16,
   "id": "70289653",
   "metadata": {},
   "outputs": [],
   "source": [
    "mean_snpe = np.mean(np.array(overall_snpe_list), axis=0)\n",
    "\n",
    "\n",
    "stdev_snpe = np.std(np.array(overall_snpe_list), axis=0)\n",
    "\n",
    "\n",
    "lower_snpe = mean_snpe - [element * 0.5 for element in stdev_snpe]\n",
    "\n",
    "upper_snpe = mean_snpe + [element * 0.5 for element in stdev_snpe]"
   ]
  },
  {
   "cell_type": "code",
   "execution_count": 17,
   "id": "3f0c3f44",
   "metadata": {},
   "outputs": [],
   "source": [
    "num_simulations_list = [500, 750, 1000, 1500, 2000, 3000]"
   ]
  },
  {
   "cell_type": "code",
   "execution_count": 18,
   "id": "e48db975",
   "metadata": {},
   "outputs": [
    {
     "data": {
      "image/png": "[encoded data removed]",
      "text/plain": [
       "<Figure size 432x288 with 1 Axes>"
      ]
     },
     "metadata": {
      "needs_background": "light"
     },
     "output_type": "display_data"
    }
   ],
   "source": [
    "\n",
    "\n",
    "plt.plot(num_simulations_list, mean_incremental, '-o',label='incremental', color='purple')\n",
    "plt.plot(num_simulations_list, mean_snpe, '-o', label='snpe', color='teal')\n",
    "\n",
    "plt.plot(num_simulations_list, upper_incremental, '--', color='purple')\n",
    "plt.plot(num_simulations_list, upper_snpe, '--',  color='teal')\n",
    "\n",
    "plt.plot(num_simulations_list, lower_incremental, '--',  color='purple')\n",
    "plt.plot(num_simulations_list, lower_snpe, '--',  color='teal')\n",
    "\n",
    "\n",
    "plt.fill_between(x= num_simulations_list, y1=lower_incremental, y2=upper_incremental, color='blue', alpha=0.2,  label='1 stdv')\n",
    "plt.fill_between(x= num_simulations_list, y1=lower_snpe, y2=upper_snpe, color='orange', alpha=0.2, label='1 stdv')\n",
    "\n",
    "\n",
    "plt.legend()\n",
    "\n",
    "\n",
    "\n",
    "plt.xlabel('simulations per round')\n",
    "plt.ylabel('KL divergence')\n",
    "\n",
    "sns.despine()\n",
    "\n"
   ]
  },
  {
   "cell_type": "code",
   "execution_count": null,
   "id": "a5633279",
   "metadata": {},
   "outputs": [],
   "source": []
  }
 ],
 "metadata": {
  "kernelspec": {
   "display_name": "Python 3 (ipykernel)",
   "language": "python",
   "name": "python3"
  },
  "language_info": {
   "codemirror_mode": {
    "name": "ipython",
    "version": 3
   },
   "file_extension": ".py",
   "mimetype": "text/x-python",
   "name": "python",
   "nbconvert_exporter": "python",
   "pygments_lexer": "ipython3",
   "version": "3.7.11"
  }
 },
 "nbformat": 4,
 "nbformat_minor": 5
}
