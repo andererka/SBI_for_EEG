{
 "cells": [
  {
   "cell_type": "markdown",
   "id": "4adc7403",
   "metadata": {},
   "source": [
    "# Exploring parameters\n",
    "\n",
    "#### density plots, post predictive checks etc."
   ]
  },
  {
   "cell_type": "code",
   "execution_count": 2,
   "id": "e788d96d",
   "metadata": {},
   "outputs": [],
   "source": [
    "%load_ext autoreload\n",
    "%autoreload 2\n",
    "import os.path as op\n",
    "import tempfile\n",
    "\n",
    "import matplotlib.pyplot as plt\n",
    "\n",
    "\n",
    "import hnn_core\n",
    "from hnn_core import simulate_dipole, jones_2009_model\n",
    "from hnn_core.viz import plot_dipole\n",
    "\n",
    "\n",
    "import sys\n",
    "sys.path.append('../code/')\n",
    "sys.path.append('../code/utils/')\n",
    "#sys.path.append('../code/sbi/')\n",
    "#sys.path.append('../../results_cluster/')\n",
    "\n",
    "\n",
    "import numpy as np\n",
    "import torch\n",
    "\n",
    "# visualization\n",
    "import matplotlib as mpl\n",
    "import matplotlib.pyplot as plt\n",
    "\n",
    "\n",
    "import os\n",
    "\n",
    "work_dir = '/home/ubuntu/sbi_for_eeg_data/code/'\n",
    "\n",
    "os.chdir(work_dir)\n",
    "\n",
    "#from utils.plot import cov, compare_vars, plot_varchanges\n",
    "#from utils.plot import compare_KLs, plot_KLs\n",
    "#from sbi.inference import potentials\n",
    "import utils.sbi_modulated_functions\n",
    "\n",
    "# sbi\n",
    "from sbi import utils as utils\n",
    "from sbi import analysis as analysis\n",
    "from sbi.inference.base import infer\n",
    "from sbi.inference import SNPE, prepare_for_sbi, simulate_for_sbi\n",
    "\n",
    "from sbi.analysis import conditional_pairplot, conditional_corrcoeff\n",
    "\n",
    "\n",
    "\n",
    "# import the summary statistics that you want to investigate\n",
    "from summary_features.calculate_summary_features import calculate_summary_statistics_alternative as alternative_sumstats\n",
    "from summary_features.calculate_summary_features import calculate_summary_stats_temporal as temporal_sumstats\n",
    "from summary_features.calculate_summary_features import calculate_summary_stats_number as number_sumstats\n",
    "from summary_features.calculate_summary_features import calculate_summary_stats_temporal\n"
   ]
  },
  {
   "cell_type": "code",
   "execution_count": 3,
   "id": "ab993458",
   "metadata": {},
   "outputs": [
    {
     "name": "stdout",
     "output_type": "stream",
     "text": [
      "1.11.0\n"
     ]
    }
   ],
   "source": [
    "print(torch.__version__)"
   ]
  },
  {
   "cell_type": "code",
   "execution_count": 4,
   "id": "9c212ce0",
   "metadata": {},
   "outputs": [],
   "source": [
    "## defining neuronal network model\n",
    "\n",
    "num_params = 17\n",
    "\n",
    "from utils.simulation_wrapper import set_network_default, SimulationWrapper\n",
    "sim_wrapper = SimulationWrapper(num_params, noise=False)\n"
   ]
  },
  {
   "cell_type": "code",
   "execution_count": 5,
   "id": "b287160d",
   "metadata": {},
   "outputs": [],
   "source": [
    "window_len = 30\n",
    "\n",
    "if num_params == 6:\n",
    "    \n",
    "    prior_min_fix = [0.0, 11.3, 0.0, 43.8, 0.0, 89.491]\n",
    "    prior_max_fix = [0.160, 35.9, 0.821, 79.0, 8.104, 162.110]\n",
    "\n",
    "    prior_min = [0.0, 11.3, 0.0, 43.8, 0.0, 89.491]\n",
    "    prior_max = [0.160, 35.9, 0.821, 79.0, 8.104, 162.110]\n",
    "    #true_params = torch.tensor([[26.61, 63.53,  137.12]])\n",
    "    true_params = torch.tensor([[0.0274, 19.01, 0.1369, 61.89, 0.1435, 120.86]])\n",
    "\n",
    "    \n",
    "\n",
    "if num_params == 25:\n",
    "    prior_min = [0, 0, 0, 0, 0, 0, 0, 0, 13.3,    # prox1 weights\n",
    "                 0, 0, 0, 0, 0, 0, 51.980,            # distal weights\n",
    "                 0, 0, 0, 0, 0, 0, 0, 0, 112.13]       # prox2 weights\n",
    "\n",
    "\n",
    "    # ampa, nmda [0.927, 0.160, 2.093, 0.0519,        1.0, 1.0, 1.0, 1.0, 35.9,\n",
    "    #           0.0394, 0.000042, 0.039372,           0.854, 0.117,  0.480, 75.08,\n",
    "    #            0.000018, 8.633, 0.05375, 4.104,     1.0, 1.0, 1.0, 1.0, 162.110]\n",
    "\n",
    "    prior_max = [0.927, 1.0, 0.160, 1.0,  2.093, 1.0, 0.0519, 1.0, 35.9,\n",
    "                 0.0394, 0.117, 0.000042, 0.025902, 0.854, 0.480, 75.08,\n",
    "                 0.000018, 1.0, 8.633, 1.0, 0.05375, 1.0, 4.104,  1.0, 162.110]\n",
    "\n",
    "    true_params = torch.tensor([[0.277, 0.3739, 0.0399, 0.0, 0.6244, 0.3739, 0.034, 0.0, 18.977,\n",
    "                                 0.011467, 0.06337, 0.000012, 0.013407, 0.466095, 0.0767, 63.08,\n",
    "                                 0.000005, 0.116706, 4.6729, 0.016733, 0.011468, 0.061556, 2.33, 0.0679, 120.86]])\n",
    "    \n",
    "if num_params == 17:\n",
    "    \n",
    "    prior_min = [0, 0, 0, 0, 0, 13.3,  0, 0, 0, 0, 0, 51.980, 0, 0, 0, 0, 112.13]\n",
    "    prior_max = [0.927, 0.160, 2.093, 1.0, 1.0, 35.9, 0.000042, 0.039372, 0.025902,  0.480, 0.117, 75.08, 8.633, 4.104, 1.0, 1.0, 162.110]\n",
    "\n",
    "    true_params = torch.tensor([[0.277, 0.0399, 0.6244, 0.3739, 0.0, 18.977, 0.000012, 0.0115, 0.0134,  0.0767, 0.06337, 63.08, 4.6729, 2.33, 0.016733, 0.0679, 120.86]])\n",
    "\n",
    "\n",
    "prior = utils.torchutils.BoxUniform(low=prior_min, high=prior_max)\n",
    "\n",
    "#number_simulations = 10\n",
    "density_estimator = 'nsf'\n"
   ]
  },
  {
   "cell_type": "code",
   "execution_count": 6,
   "id": "e5528677",
   "metadata": {},
   "outputs": [],
   "source": [
    "\n",
    "#assert (prior.event_shape==torch.Size([25]))\n",
    "from utils import inference"
   ]
  },
  {
   "cell_type": "code",
   "execution_count": 7,
   "id": "230edc87",
   "metadata": {},
   "outputs": [
    {
     "name": "stdout",
     "output_type": "stream",
     "text": [
      "/home/ubuntu\n",
      "/home/ubuntu/results\n"
     ]
    }
   ],
   "source": [
    "from utils import inference\n",
    "\n",
    "import pickle\n",
    "from data_load_writer import *\n",
    "from data_load_writer import load_from_file as lf\n",
    "\n",
    "import os\n",
    "\n",
    "work_dir = '/home/ubuntu/'\n",
    "\n",
    "os.chdir(work_dir)\n",
    "\n",
    "\n",
    "\n",
    "import os\n",
    "\n",
    "\n",
    "#file = 'multi_round'\n",
    "\n",
    "file = 'multi_round_10000_17params_nsf_fake_2104_001_std'\n",
    "\n",
    "\n",
    "print(os.getcwd())\n",
    "\n",
    "os.chdir('results')\n",
    "\n",
    "\n",
    "print(os.getcwd())\n",
    "  \n",
    "\n",
    "#thetas = torch.load('{}/thetas.pt'.format(file))\n",
    "\n",
    "posterior = torch.load('{}/posterior.pt'.format(file))\n",
    "\n",
    "#neural_dens = torch.load('{}/neural_dens.pt'.format(file))\n",
    "#x_without = torch.load('{}/obs_without.pt'.format(file))\n",
    "\n",
    "#x = calculate_summary_stats_temporal(x_without)\n",
    "\n",
    "\n",
    "#true_params = torch.tensor([[0.0274, 19.01, 0.1369, 61.89, 0.1435, 120.86]])\n",
    "#true_params = torch.tensor([[  18.9700, 63.5300, 137.1200]])\n",
    "#true_params = torch.load('results/{}/true_params.pt'.format(file))\n",
    "#true_params = torch.tensor([[0.277, 0.0399, 0.3739, 0.034, 18.977, 0.0115, 0.000012, 0.466, 0.06337, 0.0134, 0.0766, 63.08, 0.000005, 4.6729, 0.0115, 0.3308, 120.86]])\n",
    "\n",
    "#posteriors_round =  torch.load('{}/posteriors_each_round.pt'.format(file))\n",
    "#obs_real = torch.load('{}/obs_real.pt'.format(file))"
   ]
  },
  {
   "cell_type": "code",
   "execution_count": 8,
   "id": "dc6f7411",
   "metadata": {},
   "outputs": [],
   "source": [
    "#posterior = posteriors_round[1]"
   ]
  },
  {
   "cell_type": "code",
   "execution_count": 10,
   "id": "20447a5a",
   "metadata": {},
   "outputs": [
    {
     "data": {
      "application/vnd.jupyter.widget-view+json": {
       "model_id": "5830b8e54f8d415ca37e8da683f96168",
       "version_major": 2,
       "version_minor": 0
      },
      "text/plain": [
       "Drawing 1000 posterior samples:   0%|          | 0/1000 [00:00<?, ?it/s]"
      ]
     },
     "metadata": {},
     "output_type": "display_data"
    },
    {
     "name": "stdout",
     "output_type": "stream",
     "text": [
      "acceptance rate:  1.0\n"
     ]
    }
   ],
   "source": [
    "#obs_real_stat2 = calculate_summary_stats_temporal(obs_real[0])\n",
    "\n",
    "samples = posterior.sample((1000,), not_within_prior=True)"
   ]
  },
  {
   "cell_type": "code",
   "execution_count": 11,
   "id": "e283b673",
   "metadata": {},
   "outputs": [],
   "source": [
    "parameter_names = [\"prox1_ampa_l2_bas\",\"prox1_ampa_l2_pyr\",\"prox1_ampa_l5_bas\",\"prox1_nmda_l5_bas\", \"prox1_nmda_l5_pyr\",\n",
    " \"t_prox1\",\n",
    " \"dist_ampa_l2_pyr\",\"dist_ampa_l2_bas\",\"dist_nmda_l2_pyr\",\n",
    " \"dist_nmda_l5_pyr\",\"dist_nmda_l2_bas\",\n",
    " \"t_dist\", \n",
    " \"prox2_ampa_l2_pyr\",\"prox2_ampa_l5_pyr\",\"prox2_nmda_l2_pyr\",\"prox2_nmda_l5_pyr\",\n",
    " \"t_prox2\"]\n",
    "\n",
    "if num_params ==6:\n",
    "    parameter_names = [\"prox_1_ampa_l2_pyr\",\n",
    "     \"t_evprox_1\",\n",
    "     \"dist_nmda_l2_pyr\",\n",
    "     \"t_evdist_1\", \n",
    "     \"prox_2_ampa_l5_pyr\",\n",
    "     \"t_evprox_2\"]"
   ]
  },
  {
   "cell_type": "code",
   "execution_count": 12,
   "id": "2a180df6",
   "metadata": {},
   "outputs": [
    {
     "name": "stdout",
     "output_type": "stream",
     "text": [
      "tensor([-2.7006e-01, -1.3502e-01, -1.1015e+00, -6.0534e-01, -2.3195e-02,\n",
      "         1.6266e+01, -1.3825e-04, -1.1075e-01,  2.6512e-03, -9.1853e-02,\n",
      "        -1.8129e-01,  6.1440e+01, -4.8632e+00, -1.6825e+00, -5.3528e-01,\n",
      "        -3.4335e-01,  1.1684e+02])\n",
      "tensor([1.5703e+00, 2.7634e-01, 3.1982e+00, 1.3708e+00, 1.4086e-02, 2.2487e+01,\n",
      "        2.1943e-04, 1.6487e-01, 3.9447e-02, 1.6180e-01, 2.9347e-01, 6.9012e+01,\n",
      "        1.6756e+01, 6.3737e+00, 2.1602e+00, 9.7877e-01, 1.5472e+02])\n",
      "tensor([1.8404e-02, 4.1136e-03, 4.2997e-02, 1.9762e-02, 3.7281e-04, 6.2211e-02,\n",
      "        3.5768e-06, 2.7561e-03, 3.6796e-04, 2.5365e-03, 4.7476e-03, 7.5724e-02,\n",
      "        2.1619e-01, 8.0562e-02, 2.6955e-02, 1.3221e-02, 3.7884e-01])\n"
     ]
    }
   ],
   "source": [
    "##better limits:\n",
    "\n",
    "list_min = torch.min(samples, 0)[0]\n",
    "list_max = torch.max(samples, 0)[0]\n",
    "\n",
    "print(list_min)\n",
    "\n",
    "print(list_max)\n",
    "\n",
    "diff = torch.abs(list_max - list_min) * 0.01\n",
    "\n",
    "print(diff)\n",
    "\n",
    "list_min = list(torch.nn.functional.relu(list_min))\n",
    "#list_min = list(list_min - diff)\n",
    "list_max = list(list_max - diff)\n",
    "\n",
    "limits = [list(tup) for tup in zip(list_min, list_max)]"
   ]
  },
  {
   "cell_type": "code",
   "execution_count": null,
   "id": "2b787dd8",
   "metadata": {},
   "outputs": [],
   "source": [
    "#limits = [list(tup) for tup in zip(prior_min, prior_max)]\n",
    "\n",
    "\n",
    "plt.set_cmap('viridis')\n",
    "\n",
    "fig, axes = analysis.pairplot(\n",
    "    samples,\n",
    "    limits=limits,\n",
    "    upper = 'kde',\n",
    "    lower='kde',\n",
    "    #subset=[5, 11, 16],\n",
    "    ticks=np.round(limits,2),\n",
    "    figsize=(20, 20),\n",
    "    points=true_params,\n",
    "    points_offdiag={\"markersize\": 5},\n",
    "    points_colors=\"r\",\n",
    "    labels=parameter_names,\n",
    ")\n",
    "\n",
    "\n",
    "\n",
    "#for i in range(5):\n",
    "#    axes[i][i].xaxis.label.set_color('magenta')\n",
    "#for i in range(5, 12):\n",
    "#    axes[i][i].xaxis.label.set_color('navy')\n",
    "#for i in range(12, 17):\n",
    "#    axes[i][i].xaxis.label.set_color('deeppink')"
   ]
  },
  {
   "cell_type": "code",
   "execution_count": null,
   "id": "fe1f12f2",
   "metadata": {},
   "outputs": [],
   "source": [
    "corr_matrix_marginal = np.corrcoef(samples.T)\n",
    "fig, ax = plt.subplots(1,1, figsize=(4, 4))\n",
    "im = plt.imshow(corr_matrix_marginal, clim=[-1, 1], cmap='PiYG')\n",
    "_ = fig.colorbar(im)"
   ]
  },
  {
   "cell_type": "code",
   "execution_count": 25,
   "id": "c3bf4664",
   "metadata": {},
   "outputs": [
    {
     "data": {
      "application/vnd.jupyter.widget-view+json": {
       "model_id": "864867005a38415f95575e26d7f14297",
       "version_major": 2,
       "version_minor": 0
      },
      "text/plain": [
       "Drawing 1 posterior samples:   0%|          | 0/1 [00:00<?, ?it/s]"
      ]
     },
     "metadata": {},
     "output_type": "display_data"
    },
    {
     "name": "stderr",
     "output_type": "stream",
     "text": [
      "WARNING:root:Drawing samples from posterior to estimate the normalizing\n",
      "                        constant for `log_prob()`. However, only\n",
      "                        0% posterior samples are within the\n",
      "                        prior support. It may take a long time to collect the\n",
      "                        remaining 1 samples.\n",
      "                        Consider interrupting (Ctrl-C) and either basing the\n",
      "                        estimate of the normalizing constant on fewer samples (by\n",
      "                        calling `posterior.leakage_correction(x_o,\n",
      "                        num_rejection_samples=N)`, where `N` is the number of\n",
      "                        samples you want to base the\n",
      "                        estimate on (default N=10000), or not estimating the\n",
      "                        normalizing constant at all\n",
      "                        (`log_prob(..., norm_posterior=False)`. The latter will\n",
      "                        result in an unnormalized `log_prob()`.\n",
      "WARNING:root:Drawing samples from posterior to estimate the normalizing\n",
      "                        constant for `log_prob()`. However, only\n",
      "                        0% posterior samples are within the\n",
      "                        prior support. It may take a long time to collect the\n",
      "                        remaining 10000 samples.\n",
      "                        Consider interrupting (Ctrl-C) and either basing the\n",
      "                        estimate of the normalizing constant on fewer samples (by\n",
      "                        calling `posterior.leakage_correction(x_o,\n",
      "                        num_rejection_samples=N)`, where `N` is the number of\n",
      "                        samples you want to base the\n",
      "                        estimate on (default N=10000), or not estimating the\n",
      "                        normalizing constant at all\n",
      "                        (`log_prob(..., norm_posterior=False)`. The latter will\n",
      "                        result in an unnormalized `log_prob()`.\n"
     ]
    }
   ],
   "source": [
    "condition = posterior.sample((1,))\n",
    "\n",
    "cond_coeff_mat = conditional_corrcoeff(\n",
    "    density=posterior,\n",
    "    condition=condition,\n",
    "    #limits = limits\n",
    "    limits=torch.tensor([[-2., 2.]]*17),\n",
    ")"
   ]
  },
  {
   "cell_type": "code",
   "execution_count": 26,
   "id": "cfbdb3a5",
   "metadata": {},
   "outputs": [
    {
     "data": {
      "image/png": "[encoded data removed]",
      "text/plain": [
       "<Figure size 288x288 with 2 Axes>"
      ]
     },
     "metadata": {
      "needs_background": "light"
     },
     "output_type": "display_data"
    }
   ],
   "source": [
    "fig, ax = plt.subplots(1,1, figsize=(4,4))\n",
    "im = plt.imshow(cond_coeff_mat, clim=[-1, 1], cmap='PiYG')\n",
    "_ = fig.colorbar(im)"
   ]
  },
  {
   "cell_type": "code",
   "execution_count": null,
   "id": "b5e830bf",
   "metadata": {},
   "outputs": [],
   "source": []
  }
 ],
 "metadata": {
  "kernelspec": {
   "display_name": "Python 3 (ipykernel)",
   "language": "python",
   "name": "python3"
  },
  "language_info": {
   "codemirror_mode": {
    "name": "ipython",
    "version": 3
   },
   "file_extension": ".py",
   "mimetype": "text/x-python",
   "name": "python",
   "nbconvert_exporter": "python",
   "pygments_lexer": "ipython3",
   "version": "3.7.11"
  }
 },
 "nbformat": 4,
 "nbformat_minor": 5
}
