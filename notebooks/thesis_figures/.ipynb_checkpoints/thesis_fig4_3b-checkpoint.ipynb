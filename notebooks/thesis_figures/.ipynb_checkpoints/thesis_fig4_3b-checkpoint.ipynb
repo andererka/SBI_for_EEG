{
 "cells": [
  {
   "cell_type": "markdown",
   "id": "4adc7403",
   "metadata": {},
   "source": [
    "# Exploring parameters\n",
    "\n",
    "#### density plots, post predictive checks etc."
   ]
  },
  {
   "cell_type": "code",
   "execution_count": 1,
   "id": "e788d96d",
   "metadata": {},
   "outputs": [],
   "source": [
    "%load_ext autoreload\n",
    "%autoreload 2\n",
    "import os.path as op\n",
    "import tempfile\n",
    "\n",
    "import matplotlib.pyplot as plt\n",
    "\n",
    "\n",
    "import hnn_core\n",
    "from hnn_core import simulate_dipole, jones_2009_model\n",
    "from hnn_core.viz import plot_dipole\n",
    "\n",
    "\n",
    "import sys\n",
    "sys.path.append('../code/')\n",
    "sys.path.append('../code/utils/')\n",
    "#sys.path.append('../code/sbi/')\n",
    "#sys.path.append('../../results_cluster/')\n",
    "\n",
    "\n",
    "import numpy as np\n",
    "import torch\n",
    "\n",
    "# visualization\n",
    "import matplotlib as mpl\n",
    "import matplotlib.pyplot as plt\n",
    "\n",
    "\n",
    "import os\n",
    "\n",
    "work_dir = '/home/ubuntu/sbi_for_eeg_data/code/'\n",
    "\n",
    "os.chdir(work_dir)\n",
    "\n",
    "#from utils.plot import cov, compare_vars, plot_varchanges\n",
    "#from utils.plot import compare_KLs, plot_KLs\n",
    "#from sbi.inference import potentials\n",
    "import utils.sbi_modulated_functions\n",
    "\n",
    "# sbi\n",
    "from sbi import utils as utils\n",
    "from sbi import analysis as analysis\n",
    "from sbi.inference.base import infer\n",
    "from sbi.inference import SNPE, prepare_for_sbi, simulate_for_sbi\n",
    "\n",
    "from sbi.analysis import conditional_pairplot, conditional_corrcoeff\n",
    "\n",
    "\n",
    "\n",
    "# import the summary statistics that you want to investigate\n",
    "from summary_features.calculate_summary_features import calculate_summary_statistics_alternative as alternative_sumstats\n",
    "from summary_features.calculate_summary_features import calculate_summary_stats_temporal as temporal_sumstats\n",
    "from summary_features.calculate_summary_features import calculate_summary_stats_number as number_sumstats\n",
    "from summary_features.calculate_summary_features import calculate_summary_stats_temporal\n"
   ]
  },
  {
   "cell_type": "code",
   "execution_count": 2,
   "id": "ab993458",
   "metadata": {},
   "outputs": [
    {
     "name": "stdout",
     "output_type": "stream",
     "text": [
      "1.11.0\n"
     ]
    }
   ],
   "source": [
    "print(torch.__version__)"
   ]
  },
  {
   "cell_type": "code",
   "execution_count": 3,
   "id": "9c212ce0",
   "metadata": {},
   "outputs": [],
   "source": [
    "## defining neuronal network model\n",
    "\n",
    "num_params = 6\n",
    "\n",
    "from utils.simulation_wrapper import set_network_default, SimulationWrapper\n",
    "sim_wrapper = SimulationWrapper(num_params, noise=False)\n"
   ]
  },
  {
   "cell_type": "code",
   "execution_count": 4,
   "id": "230edc87",
   "metadata": {},
   "outputs": [
    {
     "name": "stdout",
     "output_type": "stream",
     "text": [
      "/home/ubuntu\n",
      "/home/ubuntu\n",
      "/home/ubuntu/results/toy_example_maf_08_04_lesser_ratio\n"
     ]
    }
   ],
   "source": [
    "from utils import inference\n",
    "\n",
    "import pickle\n",
    "from data_load_writer import *\n",
    "from data_load_writer import load_from_file as lf\n",
    "\n",
    "import os\n",
    "\n",
    "work_dir = '/home/ubuntu/'\n",
    "\n",
    "os.chdir(work_dir)\n",
    "\n",
    "\n",
    "\n",
    "import os\n",
    "\n",
    "print(os.getcwd())\n",
    "\n",
    "\n",
    "\n",
    "file = 'toy_example_maf_08_04_lesser_ratio'\n",
    "\n",
    "\n",
    "print(os.getcwd())\n",
    "\n",
    "os.chdir('results/{}'.format(file))\n",
    "\n",
    "\n",
    "print(os.getcwd())\n",
    "  \n",
    "\n"
   ]
  },
  {
   "cell_type": "code",
   "execution_count": 5,
   "id": "bde67830",
   "metadata": {},
   "outputs": [],
   "source": [
    "def Gaussian(thetas, normal_noise=1):\n",
    "    \n",
    "    gauss_list = []\n",
    "    \n",
    "    for theta in thetas:\n",
    "    \n",
    "        mu, sigma = theta, normal_noise # mean and standard deviation\n",
    "\n",
    "        s = np.random.normal(mu, sigma, 1)\n",
    "    \n",
    "        \n",
    "        gauss_list.append(s[0])\n",
    "        \n",
    "    gauss_obs = torch.tensor(gauss_list)\n",
    "    \n",
    "    return gauss_obs\n",
    "    \n",
    "\n"
   ]
  },
  {
   "cell_type": "code",
   "execution_count": 6,
   "id": "bc10d6ce",
   "metadata": {},
   "outputs": [],
   "source": [
    "list_collection = torch.load('list_collection.pt')\n",
    "list_collection_inc = torch.load('list_collection_inc.pt')"
   ]
  },
  {
   "cell_type": "code",
   "execution_count": 7,
   "id": "d4ca2c26",
   "metadata": {},
   "outputs": [],
   "source": [
    "true_thetas = torch.tensor([[3.0, 6.0, 20.0, 10.0, 90.0, 55.0, 27.0, 27.0, 4.0, 70.0, 5.0, 66.0, 99.0, 40.0, 45.0]])\n",
    "parameter_names = ['t1', 't2', 't3', 't4', 't5', 't6', 't7', 't8', 't9', 't10', 't11', 't12', 't13', 't14', 't15']\n",
    "\n",
    "prior_max = [100.0] * 15\n",
    "prior_min = [1.0] * 15\n",
    "\n",
    "prior = utils.torchutils.BoxUniform(low=prior_min, high = prior_max)\n",
    "\n",
    "samples_prior = prior.sample((10000,))\n",
    "\n",
    "simulator_stats, prior = prepare_for_sbi(Gaussian, prior)"
   ]
  },
  {
   "cell_type": "code",
   "execution_count": 8,
   "id": "64df37b2",
   "metadata": {},
   "outputs": [],
   "source": [
    "samples_prior_list = samples_prior.unsqueeze(0)"
   ]
  },
  {
   "cell_type": "code",
   "execution_count": null,
   "id": "431660f3",
   "metadata": {},
   "outputs": [],
   "source": []
  },
  {
   "cell_type": "code",
   "execution_count": 9,
   "id": "0c8bddbc",
   "metadata": {},
   "outputs": [
    {
     "data": {
      "text/plain": [
       "torch.Size([10000, 15])"
      ]
     },
     "execution_count": 9,
     "metadata": {},
     "output_type": "execute_result"
    }
   ],
   "source": [
    "samples_prior_list[0].shape"
   ]
  },
  {
   "cell_type": "code",
   "execution_count": 10,
   "id": "dbeec27a",
   "metadata": {},
   "outputs": [
    {
     "name": "stdout",
     "output_type": "stream",
     "text": [
      "[Parallel(n_jobs=1)]: Using backend SequentialBackend with 1 concurrent workers.\n",
      "[Parallel(n_jobs=1)]: Done   1 out of   1 | elapsed:    1.6s remaining:    0.0s\n",
      "[Parallel(n_jobs=1)]: Done   1 out of   1 | elapsed:    1.6s finished\n"
     ]
    }
   ],
   "source": [
    "thetas = inference.run_only_sim(samples_prior_list, simulation_wrapper = simulator_stats, num_workers=1)"
   ]
  },
  {
   "cell_type": "code",
   "execution_count": null,
   "id": "6b885f02",
   "metadata": {},
   "outputs": [],
   "source": [
    "\n"
   ]
  },
  {
   "cell_type": "code",
   "execution_count": 11,
   "id": "678fc0e0",
   "metadata": {},
   "outputs": [],
   "source": [
    "def KL_Gauss(X, Y):\n",
    "    \n",
    "    sample_x = X.sample((1000,))\n",
    "    mu_x = torch.mean(sample_x, dim=0)\n",
    "    var_x = torch.std(sample_x, dim=0)\n",
    "\n",
    "    var_y = Y.stddev\n",
    "\n",
    "    mu_y = Y.mean\n",
    "    \n",
    "    \n",
    "    return torch.mean(np.log(var_y/var_x) + (var_x**2 + (mu_x - mu_y)**2)/(2*var_y**2) -(1/2)), var_x, mu_x\n",
    "\n",
    "\n",
    "def calc_KL_1d(X, Y):\n",
    "    \n",
    "    sample_x = X.sample((1000,))\n",
    "    mu_x = torch.mean(sample_x, dim=0)\n",
    "    var_x = torch.std(sample_x, dim=0)\n",
    "    \n",
    "    print(var_x)\n",
    "    print(mu_x)\n",
    "\n",
    "\n",
    "    var_y = Y.stddev\n",
    "\n",
    "    mu_y = Y.mean\n",
    "    \n",
    "    print(mu_y)\n",
    "    print(var_y)\n",
    "    \n",
    "    print(np.log(var_y/var_x) + (var_x**2 + (mu_x - mu_y)**2)/(2*var_y**2) -(1/2))\n",
    "    \n",
    "    return np.log(var_y/var_x) + (var_x**2 + (mu_x - mu_y)**2)/(2*var_y**2) -(1/2)\n",
    "\n",
    "\n",
    "# calculate the jensen-shanon divergence\n",
    "def js_divergence(p, q):\n",
    "    m = 0.5 * (p + q)\n",
    "    return 0.5 * kl_divergence(p, m) + 0.5 * kl_divergence(q, m)"
   ]
  },
  {
   "cell_type": "code",
   "execution_count": null,
   "id": "c39fb7f2",
   "metadata": {},
   "outputs": [
    {
     "data": {
      "application/vnd.jupyter.widget-view+json": {
       "model_id": "3d91f9164e244bfda9fbbda7d2bd379b",
       "version_major": 2,
       "version_minor": 0
      },
      "text/plain": [
       "Drawing 1000 posterior samples:   0%|          | 0/1000 [00:00<?, ?it/s]"
      ]
     },
     "metadata": {},
     "output_type": "display_data"
    },
    {
     "name": "stdout",
     "output_type": "stream",
     "text": [
      "acceptance rate:  0.417\n",
      "acceptance rate:  0.4284545454545455\n"
     ]
    },
    {
     "data": {
      "application/vnd.jupyter.widget-view+json": {
       "model_id": "92de5cde0d574a86b3edcabaa710d07c",
       "version_major": 2,
       "version_minor": 0
      },
      "text/plain": [
       "Drawing 1000 posterior samples:   0%|          | 0/1000 [00:00<?, ?it/s]"
      ]
     },
     "metadata": {},
     "output_type": "display_data"
    },
    {
     "name": "stdout",
     "output_type": "stream",
     "text": [
      "acceptance rate:  0.457\n",
      "acceptance rate:  0.4278181818181818\n",
      "tensor([4.8416, 5.1247, 4.5233, 4.0629, 4.7646, 2.1939, 3.0510, 3.1971, 3.9432,\n",
      "        3.4376, 4.3932, 2.9259, 5.3771, 2.6177, 2.2973])\n",
      "tensor([ 8.5573, 10.3553, 21.2699,  9.2559, 82.4372, 52.5601, 33.9727, 26.6964,\n",
      "        10.4731, 66.4719,  8.7061, 64.9811, 89.3433, 41.7447, 46.6048])\n",
      "tensor([[ 3.,  6., 20., 10., 90., 55., 27., 27.,  4., 70.,  5., 66., 99., 40.,\n",
      "         45.]])\n",
      "tensor([[1., 1., 1., 1., 1., 1., 1., 1., 1., 1., 1., 1., 1., 1., 1.]])\n",
      "tensor([[25.0851, 20.4813,  9.0273,  6.6286, 37.8874,  4.0975, 27.3484,  3.4944,\n",
      "         26.8527, 10.3976, 14.5379,  3.2258, 58.9006,  3.4859,  2.5948]])\n"
     ]
    },
    {
     "data": {
      "application/vnd.jupyter.widget-view+json": {
       "model_id": "a0690a7fbe564471a1b7c70e3aa7a778",
       "version_major": 2,
       "version_minor": 0
      },
      "text/plain": [
       "Drawing 1000 posterior samples:   0%|          | 0/1000 [00:00<?, ?it/s]"
      ]
     },
     "metadata": {},
     "output_type": "display_data"
    },
    {
     "name": "stdout",
     "output_type": "stream",
     "text": [
      "acceptance rate:  0.048\n",
      "acceptance rate:  0.039363636363636365\n",
      "acceptance rate:  0.03942857142857143\n",
      "acceptance rate:  0.03919354838709677\n"
     ]
    },
    {
     "data": {
      "application/vnd.jupyter.widget-view+json": {
       "model_id": "c2f65587e2714c4aaf54fc08fd45ce3c",
       "version_major": 2,
       "version_minor": 0
      },
      "text/plain": [
       "Drawing 1000 posterior samples:   0%|          | 0/1000 [00:00<?, ?it/s]"
      ]
     },
     "metadata": {},
     "output_type": "display_data"
    },
    {
     "name": "stdout",
     "output_type": "stream",
     "text": [
      "acceptance rate:  0.034\n",
      "acceptance rate:  0.040090909090909094\n",
      "acceptance rate:  0.039619047619047616\n",
      "acceptance rate:  0.04051612903225806\n",
      "tensor([2.8148, 5.5629, 5.4871, 5.3981, 4.5873, 2.8838, 3.8597, 3.3334, 4.0660,\n",
      "        3.0862, 5.7766, 3.4273, 2.9587, 3.1039, 2.4161])\n",
      "tensor([ 4.6273, 11.9769, 24.3160, 13.9453, 92.2916, 55.3746, 22.5445, 27.6074,\n",
      "         8.5332, 70.1322, 12.2735, 62.8545, 96.0090, 42.3072, 48.5694])\n",
      "tensor([[ 3.,  6., 20., 10., 90., 55., 27., 27.,  4., 70.,  5., 66., 99., 40.,\n",
      "         45.]])\n",
      "tensor([[1., 1., 1., 1., 1., 1., 1., 1., 1., 1., 1., 1., 1., 1., 1.]])\n",
      "tensor([[ 3.7506, 31.1182, 22.1658, 20.1664, 11.1239,  2.6692, 15.5239,  4.0361,\n",
      "         16.6384,  3.1442, 40.8824,  9.0887,  7.2652,  5.8461,  7.9067]])\n"
     ]
    },
    {
     "data": {
      "application/vnd.jupyter.widget-view+json": {
       "model_id": "9ccbbc6089bd4f9aaff18cd83a9c166a",
       "version_major": 2,
       "version_minor": 0
      },
      "text/plain": [
       "Drawing 1000 posterior samples:   0%|          | 0/1000 [00:00<?, ?it/s]"
      ]
     },
     "metadata": {},
     "output_type": "display_data"
    },
    {
     "name": "stdout",
     "output_type": "stream",
     "text": [
      "acceptance rate:  0.037\n",
      "acceptance rate:  0.02881818181818182\n",
      "acceptance rate:  0.028857142857142856\n",
      "acceptance rate:  0.028516129032258065\n",
      "acceptance rate:  0.027585365853658537\n"
     ]
    },
    {
     "data": {
      "application/vnd.jupyter.widget-view+json": {
       "model_id": "32c9e31ce86d49aa9d1aac722f9e08e4",
       "version_major": 2,
       "version_minor": 0
      },
      "text/plain": [
       "Drawing 1000 posterior samples:   0%|          | 0/1000 [00:00<?, ?it/s]"
      ]
     },
     "metadata": {},
     "output_type": "display_data"
    },
    {
     "name": "stdout",
     "output_type": "stream",
     "text": [
      "acceptance rate:  0.039\n",
      "acceptance rate:  0.028727272727272726\n",
      "acceptance rate:  0.028285714285714286\n",
      "acceptance rate:  0.0272258064516129\n",
      "acceptance rate:  0.02675609756097561\n",
      "tensor([2.3536, 3.6361, 3.1947, 4.5593, 3.4410, 2.0478, 2.9613, 2.9857, 3.6169,\n",
      "        2.1993, 4.3374, 2.7343, 3.5972, 1.6952, 2.4933])\n",
      "tensor([ 3.9449,  7.1376, 22.6580, 12.0386, 94.1194, 56.9393, 27.6795, 27.9714,\n",
      "        11.9832, 66.1037, 10.3851, 63.9738, 94.9944, 38.2586, 45.4875])\n",
      "tensor([[ 3.,  6., 20., 10., 90., 55., 27., 27.,  4., 70.,  5., 66., 99., 40.,\n",
      "         45.]])\n",
      "tensor([[1., 1., 1., 1., 1., 1., 1., 1., 1., 1., 1., 1., 1., 1., 1.]])\n",
      "tensor([[ 1.8602,  5.4667,  6.9739, 10.4546, 12.6689,  2.7605,  3.0299,  3.3353,\n",
      "         36.6210,  8.7209, 21.9388,  4.2850, 12.7122,  1.9252,  1.8135]])\n"
     ]
    },
    {
     "data": {
      "application/vnd.jupyter.widget-view+json": {
       "model_id": "fa1094f6daa746f0b8028de6668701c3",
       "version_major": 2,
       "version_minor": 0
      },
      "text/plain": [
       "Drawing 1000 posterior samples:   0%|          | 0/1000 [00:00<?, ?it/s]"
      ]
     },
     "metadata": {},
     "output_type": "display_data"
    },
    {
     "name": "stdout",
     "output_type": "stream",
     "text": [
      "acceptance rate:  0.129\n",
      "acceptance rate:  0.1368181818181818\n"
     ]
    },
    {
     "data": {
      "application/vnd.jupyter.widget-view+json": {
       "model_id": "f8739a0914744c698228baa171d91917",
       "version_major": 2,
       "version_minor": 0
      },
      "text/plain": [
       "Drawing 1000 posterior samples:   0%|          | 0/1000 [00:00<?, ?it/s]"
      ]
     },
     "metadata": {},
     "output_type": "display_data"
    },
    {
     "name": "stdout",
     "output_type": "stream",
     "text": [
      "acceptance rate:  0.155\n",
      "acceptance rate:  0.1409090909090909\n",
      "tensor([3.7677, 3.0757, 2.5787, 4.8899, 2.8683, 1.7384, 3.9030, 3.1240, 3.6746,\n",
      "        2.3861, 3.7762, 2.5271, 3.3699, 2.6916, 2.7866])\n",
      "tensor([ 7.1809,  5.6161, 21.5323, 18.0148, 88.3263, 55.8854, 24.1530, 32.5817,\n",
      "         8.5795, 67.1824,  9.1656, 64.7190, 95.3039, 38.4643, 46.7365])\n",
      "tensor([[ 3.,  6., 20., 10., 90., 55., 27., 27.,  4., 70.,  5., 66., 99., 40.,\n",
      "         45.]])\n",
      "tensor([[1., 1., 1., 1., 1., 1., 1., 1., 1., 1., 1., 1., 1., 1., 1.]])\n",
      "tensor([[14.0111,  3.1800,  3.0515, 41.9869,  3.9604,  0.8501,  9.8078, 18.8182,\n",
      "         15.4358,  5.4465, 13.9771,  2.5865, 10.7937,  3.3114,  3.8654]])\n"
     ]
    },
    {
     "data": {
      "application/vnd.jupyter.widget-view+json": {
       "model_id": "c2e08f2c7bcd49e783a3ff55dfc9585c",
       "version_major": 2,
       "version_minor": 0
      },
      "text/plain": [
       "Drawing 1000 posterior samples:   0%|          | 0/1000 [00:00<?, ?it/s]"
      ]
     },
     "metadata": {},
     "output_type": "display_data"
    },
    {
     "name": "stdout",
     "output_type": "stream",
     "text": [
      "acceptance rate:  0.247\n",
      "acceptance rate:  0.25672727272727275\n"
     ]
    },
    {
     "data": {
      "application/vnd.jupyter.widget-view+json": {
       "model_id": "09b7f7b79b6a44059cc92e15dd68e671",
       "version_major": 2,
       "version_minor": 0
      },
      "text/plain": [
       "Drawing 1000 posterior samples:   0%|          | 0/1000 [00:00<?, ?it/s]"
      ]
     },
     "metadata": {},
     "output_type": "display_data"
    },
    {
     "name": "stdout",
     "output_type": "stream",
     "text": [
      "acceptance rate:  0.255\n",
      "acceptance rate:  0.25545454545454543\n",
      "tensor([4.5110, 4.7062, 3.5400, 3.8515, 3.9258, 2.0072, 3.2045, 2.7122, 4.7533,\n",
      "        3.2492, 5.6315, 3.0135, 5.1849, 2.5219, 2.5271])\n",
      "tensor([ 8.2001, 11.7389, 20.3010, 17.4247, 89.3106, 55.5130, 29.0189, 26.3263,\n",
      "        10.7598, 62.1476, 16.3973, 66.7686, 93.1815, 43.1573, 46.1215])\n",
      "tensor([[ 3.,  6., 20., 10., 90., 55., 27., 27.,  4., 70.,  5., 66., 99., 40.,\n",
      "         45.]])\n",
      "tensor([[1., 1., 1., 1., 1., 1., 1., 1., 1., 1., 1., 1., 1., 1., 1.]])\n",
      "tensor([[21.6885, 25.4930,  4.5469, 33.1315,  6.0761,  0.9492,  5.5077,  2.4072,\n",
      "         32.0853, 34.4301, 78.5779,  3.2329, 28.2235,  6.7391,  2.3949]])\n"
     ]
    },
    {
     "data": {
      "application/vnd.jupyter.widget-view+json": {
       "model_id": "310f9a1f3b914753aa0decb824abe826",
       "version_major": 2,
       "version_minor": 0
      },
      "text/plain": [
       "Drawing 1000 posterior samples:   0%|          | 0/1000 [00:00<?, ?it/s]"
      ]
     },
     "metadata": {},
     "output_type": "display_data"
    },
    {
     "name": "stdout",
     "output_type": "stream",
     "text": [
      "acceptance rate:  0.199\n",
      "acceptance rate:  0.21036363636363636\n"
     ]
    },
    {
     "data": {
      "application/vnd.jupyter.widget-view+json": {
       "model_id": "63728b0b267f4dc5a3bd44031b7374f5",
       "version_major": 2,
       "version_minor": 0
      },
      "text/plain": [
       "Drawing 1000 posterior samples:   0%|          | 0/1000 [00:00<?, ?it/s]"
      ]
     },
     "metadata": {},
     "output_type": "display_data"
    },
    {
     "name": "stdout",
     "output_type": "stream",
     "text": [
      "acceptance rate:  0.214\n",
      "acceptance rate:  0.21236363636363637\n",
      "tensor([4.2065, 3.9692, 2.8555, 4.2657, 3.1736, 2.9367, 4.2374, 2.9037, 4.1621,\n",
      "        4.3478, 4.5920, 2.9135, 4.4465, 2.3463, 2.2463])\n",
      "tensor([ 6.9572,  7.3005, 22.0940, 10.3880, 89.2049, 52.4508, 33.0301, 30.9098,\n",
      "         9.1882, 66.1050, 12.0994, 63.0524, 92.4635, 41.6528, 44.6343])\n",
      "tensor([[ 3.,  6., 20., 10., 90., 55., 27., 27.,  4., 70.,  5., 66., 99., 40.,\n",
      "         45.]])\n",
      "tensor([[1., 1., 1., 1., 1., 1., 1., 1., 1., 1., 1., 1., 1., 1., 1.]])\n",
      "tensor([[14.7403,  6.8446,  4.7200,  7.2227,  3.6972,  5.9841, 25.2151, 10.2932,\n",
      "         20.1942, 15.0675, 33.7200,  7.0190, 29.2563,  2.7655,  1.2806]])\n"
     ]
    },
    {
     "data": {
      "application/vnd.jupyter.widget-view+json": {
       "model_id": "5950633f5b5241a6aa92347cdbc1d9d8",
       "version_major": 2,
       "version_minor": 0
      },
      "text/plain": [
       "Drawing 1000 posterior samples:   0%|          | 0/1000 [00:00<?, ?it/s]"
      ]
     },
     "metadata": {},
     "output_type": "display_data"
    },
    {
     "name": "stdout",
     "output_type": "stream",
     "text": [
      "acceptance rate:  0.043\n",
      "acceptance rate:  0.05118181818181818\n",
      "acceptance rate:  0.05104761904761905\n"
     ]
    },
    {
     "data": {
      "application/vnd.jupyter.widget-view+json": {
       "model_id": "30670618f95d4a4abda67e60d2dfb4d0",
       "version_major": 2,
       "version_minor": 0
      },
      "text/plain": [
       "Drawing 1000 posterior samples:   0%|          | 0/1000 [00:00<?, ?it/s]"
      ]
     },
     "metadata": {},
     "output_type": "display_data"
    },
    {
     "name": "stdout",
     "output_type": "stream",
     "text": [
      "acceptance rate:  0.036\n",
      "acceptance rate:  0.04672727272727273\n",
      "acceptance rate:  0.04642857142857143\n",
      "acceptance rate:  0.04670967741935484\n",
      "tensor([4.2946, 4.2491, 3.6465, 4.8954, 5.2493, 2.9659, 4.5855, 3.2953, 5.0798,\n",
      "        2.3536, 5.5046, 3.4599, 3.4115, 3.1143, 2.5780])\n",
      "tensor([ 7.1337,  7.6891, 21.2692, 10.0307, 86.9417, 55.3447, 29.5329, 30.6391,\n",
      "        10.1747, 67.9208,  9.4123, 60.0547, 95.3357, 38.6077, 46.2765])\n",
      "tensor([[ 3.,  6., 20., 10., 90., 55., 27., 27.,  4., 70.,  5., 66., 99., 40.,\n",
      "         45.]])\n",
      "tensor([[1., 1., 1., 1., 1., 1., 1., 1., 1., 1., 1., 1., 1., 1., 1.]])\n",
      "tensor([[15.8083,  8.5074,  5.6601,  9.8948, 16.2961,  2.8704, 11.6985, 10.3585,\n",
      "         29.8407,  3.5754, 22.6786, 21.9178, 10.8053,  4.1827,  2.6908]])\n"
     ]
    },
    {
     "data": {
      "application/vnd.jupyter.widget-view+json": {
       "model_id": "d70432825e5a4105895d70ac2f07a442",
       "version_major": 2,
       "version_minor": 0
      },
      "text/plain": [
       "Drawing 1000 posterior samples:   0%|          | 0/1000 [00:00<?, ?it/s]"
      ]
     },
     "metadata": {},
     "output_type": "display_data"
    },
    {
     "name": "stdout",
     "output_type": "stream",
     "text": [
      "acceptance rate:  0.009\n"
     ]
    },
    {
     "name": "stderr",
     "output_type": "stream",
     "text": [
      "WARNING:root:Drawing samples from posterior to estimate the normalizing\n",
      "                        constant for `log_prob()`. However, only\n",
      "                        1% posterior samples are within the\n",
      "                        prior support. It may take a long time to collect the\n",
      "                        remaining 891 samples.\n",
      "                        Consider interrupting (Ctrl-C) and either basing the\n",
      "                        estimate of the normalizing constant on fewer samples (by\n",
      "                        calling `posterior.leakage_correction(x_o,\n",
      "                        num_rejection_samples=N)`, where `N` is the number of\n",
      "                        samples you want to base the\n",
      "                        estimate on (default N=10000), or not estimating the\n",
      "                        normalizing constant at all\n",
      "                        (`log_prob(..., norm_posterior=False)`. The latter will\n",
      "                        result in an unnormalized `log_prob()`.\n"
     ]
    },
    {
     "name": "stdout",
     "output_type": "stream",
     "text": [
      "acceptance rate:  0.009909090909090909\n",
      "acceptance rate:  0.009952380952380952\n",
      "acceptance rate:  0.010387096774193548\n",
      "acceptance rate:  0.010853658536585365\n",
      "acceptance rate:  0.010607843137254902\n",
      "acceptance rate:  0.010032786885245901\n",
      "acceptance rate:  0.009943661971830987\n",
      "acceptance rate:  0.009814814814814814\n",
      "acceptance rate:  0.009846153846153846\n",
      "acceptance rate:  0.009831683168316832\n",
      "acceptance rate:  0.00981081081081081\n"
     ]
    },
    {
     "data": {
      "application/vnd.jupyter.widget-view+json": {
       "model_id": "e9b456fef9db4771adb152c86e677b0c",
       "version_major": 2,
       "version_minor": 0
      },
      "text/plain": [
       "Drawing 1000 posterior samples:   0%|          | 0/1000 [00:00<?, ?it/s]"
      ]
     },
     "metadata": {},
     "output_type": "display_data"
    },
    {
     "name": "stdout",
     "output_type": "stream",
     "text": [
      "acceptance rate:  0.011\n"
     ]
    },
    {
     "name": "stderr",
     "output_type": "stream",
     "text": [
      "WARNING:root:Drawing samples from posterior to estimate the normalizing\n",
      "                        constant for `log_prob()`. However, only\n",
      "                        1% posterior samples are within the\n",
      "                        prior support. It may take a long time to collect the\n",
      "                        remaining 897 samples.\n",
      "                        Consider interrupting (Ctrl-C) and either basing the\n",
      "                        estimate of the normalizing constant on fewer samples (by\n",
      "                        calling `posterior.leakage_correction(x_o,\n",
      "                        num_rejection_samples=N)`, where `N` is the number of\n",
      "                        samples you want to base the\n",
      "                        estimate on (default N=10000), or not estimating the\n",
      "                        normalizing constant at all\n",
      "                        (`log_prob(..., norm_posterior=False)`. The latter will\n",
      "                        result in an unnormalized `log_prob()`.\n"
     ]
    },
    {
     "name": "stdout",
     "output_type": "stream",
     "text": [
      "acceptance rate:  0.009363636363636364\n",
      "acceptance rate:  0.01\n",
      "acceptance rate:  0.009645161290322581\n",
      "acceptance rate:  0.009926829268292683\n",
      "acceptance rate:  0.00996078431372549\n",
      "acceptance rate:  0.01001639344262295\n",
      "acceptance rate:  0.009788732394366197\n",
      "acceptance rate:  0.009790123456790123\n",
      "acceptance rate:  0.009703296703296704\n",
      "acceptance rate:  0.009762376237623762\n",
      "acceptance rate:  0.009774774774774776\n",
      "tensor([3.5257, 6.0330, 4.1082, 4.7982, 5.2452, 2.2621, 3.7877, 3.5296, 3.6767,\n",
      "        3.5879, 5.1757, 3.0810, 2.9333, 2.9602, 3.1185])\n",
      "tensor([ 5.9372, 13.4402, 26.2679, 12.0275, 91.6569, 58.5513, 26.7493, 23.8471,\n",
      "         6.2325, 76.2262,  8.6529, 61.3651, 95.9763, 42.0541, 44.3580])\n",
      "tensor([[ 3.,  6., 20., 10., 90., 55., 27., 27.,  4., 70.,  5., 66., 99., 40.,\n",
      "         45.]])\n",
      "tensor([[1., 1., 1., 1., 1., 1., 1., 1., 1., 1., 1., 1., 1., 1., 1.]])\n",
      "tensor([[ 8.7687, 43.5795, 26.1690, 11.4985, 12.9712,  7.5480,  5.3731,  9.4383,\n",
      "          7.4491, 24.0416, 17.9218, 13.8619,  7.2974,  4.9059,  3.4313]])\n"
     ]
    },
    {
     "data": {
      "application/vnd.jupyter.widget-view+json": {
       "model_id": "f83e51a25bb84f6cb80085edc75488a7",
       "version_major": 2,
       "version_minor": 0
      },
      "text/plain": [
       "Drawing 1000 posterior samples:   0%|          | 0/1000 [00:00<?, ?it/s]"
      ]
     },
     "metadata": {},
     "output_type": "display_data"
    },
    {
     "name": "stdout",
     "output_type": "stream",
     "text": [
      "acceptance rate:  0.388\n",
      "acceptance rate:  0.40454545454545454\n"
     ]
    },
    {
     "data": {
      "application/vnd.jupyter.widget-view+json": {
       "model_id": "21815e7c13944f00836a189334796c9e",
       "version_major": 2,
       "version_minor": 0
      },
      "text/plain": [
       "Drawing 1000 posterior samples:   0%|          | 0/1000 [00:00<?, ?it/s]"
      ]
     },
     "metadata": {},
     "output_type": "display_data"
    },
    {
     "name": "stdout",
     "output_type": "stream",
     "text": [
      "acceptance rate:  0.424\n",
      "acceptance rate:  0.40354545454545454\n",
      "tensor([3.1387, 4.4558, 3.4853, 3.0305, 4.6372, 1.9906, 3.4548, 2.2819, 4.6832,\n",
      "        2.4135, 3.7610, 2.8924, 5.7619, 2.0514, 2.0982])\n",
      "tensor([ 5.9235, 10.4689, 22.0422, 12.9458, 85.3797, 56.8847, 30.9266, 30.2006,\n",
      "        10.2661, 66.4198,  7.1538, 64.9083, 89.2380, 39.6781, 47.0001])\n",
      "tensor([[ 3.,  6., 20., 10., 90., 55., 27., 27.,  4., 70.,  5., 66., 99., 40.,\n",
      "         45.]])\n",
      "tensor([[1., 1., 1., 1., 1., 1., 1., 1., 1., 1., 1., 1., 1., 1., 1.]])\n",
      "tensor([[ 7.5554, 17.9183,  6.4104,  7.3222, 19.3915,  2.5689, 11.9372,  6.4006,\n",
      "         28.5544,  7.9404,  7.5671,  3.2167, 61.9968,  0.9374,  2.9603]])\n"
     ]
    },
    {
     "data": {
      "application/vnd.jupyter.widget-view+json": {
       "model_id": "71b9c9fcbbb64de4b7bfd949dd4d7c4d",
       "version_major": 2,
       "version_minor": 0
      },
      "text/plain": [
       "Drawing 1000 posterior samples:   0%|          | 0/1000 [00:00<?, ?it/s]"
      ]
     },
     "metadata": {},
     "output_type": "display_data"
    },
    {
     "name": "stdout",
     "output_type": "stream",
     "text": [
      "acceptance rate:  0.347\n",
      "acceptance rate:  0.33445454545454545\n"
     ]
    },
    {
     "data": {
      "application/vnd.jupyter.widget-view+json": {
       "model_id": "2217630a2cba4c079c000efb890bf49d",
       "version_major": 2,
       "version_minor": 0
      },
      "text/plain": [
       "Drawing 1000 posterior samples:   0%|          | 0/1000 [00:00<?, ?it/s]"
      ]
     },
     "metadata": {},
     "output_type": "display_data"
    },
    {
     "name": "stdout",
     "output_type": "stream",
     "text": [
      "acceptance rate:  0.327\n",
      "acceptance rate:  0.3300909090909091\n",
      "tensor([3.3847, 3.2093, 3.2038, 3.4452, 4.2376, 2.2193, 2.8576, 2.7593, 4.0072,\n",
      "        2.8573, 7.3770, 4.0498, 3.6085, 2.3770, 1.9739])\n",
      "tensor([ 9.1380,  7.1637, 21.5618, 11.9565, 87.9846, 54.4026, 25.4598, 29.1903,\n",
      "         8.7180, 67.8120, 15.2632, 63.1367, 94.9845, 38.7799, 46.4262])\n",
      "tensor([[ 3.,  6., 20., 10., 90., 55., 27., 27.,  4., 70.,  5., 66., 99., 40.,\n",
      "         45.]])\n",
      "tensor([[1., 1., 1., 1., 1., 1., 1., 1., 1., 1., 1., 1., 1., 1., 1.]])\n",
      "tensor([[22.8464,  4.1608,  4.6874,  6.1116,  9.0657,  1.3439,  3.7191,  4.6905,\n",
      "         17.2704,  4.9260, 77.3783, 10.4013, 12.7896,  2.2035,  1.7851]])\n"
     ]
    },
    {
     "data": {
      "application/vnd.jupyter.widget-view+json": {
       "model_id": "57b14a0f856b444a9e2e35d5579bc30e",
       "version_major": 2,
       "version_minor": 0
      },
      "text/plain": [
       "Drawing 1000 posterior samples:   0%|          | 0/1000 [00:00<?, ?it/s]"
      ]
     },
     "metadata": {},
     "output_type": "display_data"
    },
    {
     "name": "stdout",
     "output_type": "stream",
     "text": [
      "acceptance rate:  0.229\n",
      "acceptance rate:  0.23572727272727273\n"
     ]
    },
    {
     "data": {
      "application/vnd.jupyter.widget-view+json": {
       "model_id": "65c587e762b6490abe71a126c939be45",
       "version_major": 2,
       "version_minor": 0
      },
      "text/plain": [
       "Drawing 1000 posterior samples:   0%|          | 0/1000 [00:00<?, ?it/s]"
      ]
     },
     "metadata": {},
     "output_type": "display_data"
    },
    {
     "name": "stdout",
     "output_type": "stream",
     "text": [
      "acceptance rate:  0.235\n",
      "acceptance rate:  0.2399090909090909\n",
      "tensor([3.6777, 3.6809, 3.9551, 5.1162, 3.7039, 2.7914, 3.5672, 3.4166, 3.9636,\n",
      "        2.5120, 3.6267, 2.7372, 3.6740, 2.5156, 2.2238])\n",
      "tensor([ 9.1974,  7.9069, 21.0130, 11.6258, 90.4256, 57.8521, 29.4106, 25.9171,\n",
      "         7.8609, 69.4909,  6.3103, 61.6538, 94.6482, 37.0950, 43.7252])\n",
      "tensor([[ 3.,  6., 20., 10., 90., 55., 27., 27.,  4., 70.,  5., 66., 99., 40.,\n",
      "         45.]])\n",
      "tensor([[1., 1., 1., 1., 1., 1., 1., 1., 1., 1., 1., 1., 1., 1., 1.]])\n",
      "tensor([[24.1645,  6.7895,  6.4596, 12.2768,  5.1408,  6.4365,  7.4960,  4.6944,\n",
      "         13.4311,  1.8637,  5.6466, 11.6838, 14.4172,  5.9613,  1.9859]])\n"
     ]
    },
    {
     "data": {
      "application/vnd.jupyter.widget-view+json": {
       "model_id": "b322d86e88b64c92acd13ec2920971fe",
       "version_major": 2,
       "version_minor": 0
      },
      "text/plain": [
       "Drawing 1000 posterior samples:   0%|          | 0/1000 [00:00<?, ?it/s]"
      ]
     },
     "metadata": {},
     "output_type": "display_data"
    },
    {
     "name": "stdout",
     "output_type": "stream",
     "text": [
      "acceptance rate:  0.0\n"
     ]
    },
    {
     "name": "stderr",
     "output_type": "stream",
     "text": [
      "WARNING:root:Drawing samples from posterior to estimate the normalizing\n",
      "                        constant for `log_prob()`. However, only\n",
      "                        0% posterior samples are within the\n",
      "                        prior support. It may take a long time to collect the\n",
      "                        remaining 998 samples.\n",
      "                        Consider interrupting (Ctrl-C) and either basing the\n",
      "                        estimate of the normalizing constant on fewer samples (by\n",
      "                        calling `posterior.leakage_correction(x_o,\n",
      "                        num_rejection_samples=N)`, where `N` is the number of\n",
      "                        samples you want to base the\n",
      "                        estimate on (default N=10000), or not estimating the\n",
      "                        normalizing constant at all\n",
      "                        (`log_prob(..., norm_posterior=False)`. The latter will\n",
      "                        result in an unnormalized `log_prob()`.\n"
     ]
    },
    {
     "name": "stdout",
     "output_type": "stream",
     "text": [
      "acceptance rate:  0.0001818181818181818\n",
      "acceptance rate:  9.523809523809524e-05\n",
      "acceptance rate:  6.451612903225807e-05\n",
      "acceptance rate:  7.317073170731707e-05\n",
      "acceptance rate:  9.80392156862745e-05\n",
      "acceptance rate:  8.19672131147541e-05\n",
      "acceptance rate:  7.042253521126761e-05\n",
      "acceptance rate:  6.17283950617284e-05\n",
      "acceptance rate:  6.593406593406593e-05\n",
      "acceptance rate:  6.93069306930693e-05\n",
      "acceptance rate:  6.306306306306306e-05\n",
      "acceptance rate:  7.43801652892562e-05\n",
      "acceptance rate:  6.870229007633588e-05\n",
      "acceptance rate:  7.801418439716312e-05\n",
      "acceptance rate:  7.947019867549669e-05\n",
      "acceptance rate:  8.074534161490683e-05\n",
      "acceptance rate:  7.602339181286549e-05\n",
      "acceptance rate:  7.18232044198895e-05\n",
      "acceptance rate:  7.329842931937172e-05\n",
      "acceptance rate:  7.960199004975125e-05\n",
      "acceptance rate:  7.582938388625592e-05\n",
      "acceptance rate:  7.239819004524887e-05\n",
      "acceptance rate:  7.35930735930736e-05\n",
      "acceptance rate:  7.053941908713692e-05\n",
      "acceptance rate:  7.171314741035856e-05\n",
      "acceptance rate:  7.279693486590039e-05\n",
      "acceptance rate:  7.011070110701108e-05\n",
      "acceptance rate:  7.473309608540925e-05\n",
      "acceptance rate:  7.560137457044673e-05\n",
      "acceptance rate:  7.308970099667774e-05\n",
      "acceptance rate:  7.395498392282958e-05\n",
      "acceptance rate:  7.788161993769471e-05\n",
      "acceptance rate:  8.157099697885197e-05\n",
      "acceptance rate:  7.917888563049854e-05\n",
      "acceptance rate:  7.977207977207978e-05\n",
      "acceptance rate:  8.033240997229917e-05\n",
      "acceptance rate:  8.62533692722372e-05\n",
      "acceptance rate:  8.661417322834646e-05\n",
      "acceptance rate:  8.439897698209719e-05\n",
      "acceptance rate:  8.478802992518703e-05\n",
      "acceptance rate:  8.27250608272506e-05\n",
      "acceptance rate:  8.551068883610452e-05\n",
      "acceptance rate:  8.584686774941996e-05\n",
      "acceptance rate:  8.616780045351474e-05\n",
      "acceptance rate:  8.425720620842572e-05\n",
      "acceptance rate:  8.242950108459869e-05\n",
      "acceptance rate:  8.067940552016986e-05\n",
      "acceptance rate:  8.316008316008316e-05\n",
      "acceptance rate:  8.757637474541752e-05\n",
      "acceptance rate:  8.582834331337326e-05\n",
      "acceptance rate:  8.806262230919765e-05\n",
      "acceptance rate:  8.637236084452975e-05\n",
      "acceptance rate:  8.662900188323917e-05\n",
      "acceptance rate:  8.502772643253234e-05\n",
      "acceptance rate:  8.52994555353902e-05\n",
      "acceptance rate:  8.377896613190732e-05\n",
      "acceptance rate:  8.231173380035027e-05\n",
      "acceptance rate:  8.089500860585198e-05\n",
      "acceptance rate:  7.952622673434857e-05\n",
      "acceptance rate:  7.820299500831947e-05\n",
      "acceptance rate:  7.692307692307693e-05\n",
      "acceptance rate:  7.890499194847021e-05\n",
      "acceptance rate:  7.765451664025357e-05\n",
      "acceptance rate:  7.644305772230889e-05\n",
      "acceptance rate:  7.526881720430108e-05\n",
      "acceptance rate:  7.413010590015129e-05\n",
      "acceptance rate:  7.302533532041729e-05\n",
      "acceptance rate:  7.342143906020558e-05\n",
      "acceptance rate:  7.23589001447178e-05\n",
      "acceptance rate:  7.132667617689016e-05\n",
      "acceptance rate:  7.032348804500703e-05\n",
      "acceptance rate:  6.934812760055478e-05\n",
      "acceptance rate:  6.839945280437756e-05\n",
      "acceptance rate:  6.882591093117409e-05\n",
      "acceptance rate:  6.790945406125167e-05\n",
      "acceptance rate:  6.701708278580814e-05\n",
      "acceptance rate:  6.744487678339819e-05\n",
      "acceptance rate:  6.786171574903969e-05\n",
      "acceptance rate:  6.826801517067004e-05\n",
      "acceptance rate:  6.741573033707865e-05\n",
      "acceptance rate:  6.781750924784217e-05\n",
      "acceptance rate:  6.82095006090134e-05\n",
      "acceptance rate:  6.859205776173285e-05\n",
      "acceptance rate:  6.777645659928656e-05\n",
      "acceptance rate:  6.698002350176263e-05\n",
      "acceptance rate:  6.736353077816492e-05\n",
      "acceptance rate:  6.659012629161883e-05\n",
      "acceptance rate:  6.583427922814983e-05\n",
      "acceptance rate:  6.509539842873177e-05\n",
      "acceptance rate:  6.548279689234184e-05\n",
      "acceptance rate:  6.586169045005489e-05\n",
      "acceptance rate:  6.623235613463627e-05\n",
      "acceptance rate:  6.766917293233083e-05\n",
      "acceptance rate:  6.801275239107333e-05\n",
      "acceptance rate:  6.83491062039958e-05\n",
      "acceptance rate:  6.971904266389178e-05\n",
      "acceptance rate:  6.90010298661174e-05\n",
      "acceptance rate:  6.829765545361876e-05\n",
      "acceptance rate:  6.760847628657921e-05\n",
      "acceptance rate:  6.693306693306694e-05\n",
      "acceptance rate:  6.627101879327399e-05\n",
      "acceptance rate:  6.562193927522037e-05\n",
      "acceptance rate:  6.595538312318137e-05\n",
      "acceptance rate:  6.532180595581173e-05\n",
      "acceptance rate:  6.565176022835395e-05\n",
      "acceptance rate:  6.50329877474081e-05\n",
      "acceptance rate:  6.535947712418301e-05\n",
      "acceptance rate:  6.475485661424607e-05\n",
      "acceptance rate:  6.599450045829514e-05\n",
      "acceptance rate:  6.811989100817439e-05\n",
      "acceptance rate:  6.75067506750675e-05\n",
      "acceptance rate:  6.690454950936663e-05\n",
      "acceptance rate:  6.71971706454465e-05\n",
      "acceptance rate:  6.66082383873795e-05\n",
      "acceptance rate:  6.689834926151173e-05\n",
      "acceptance rate:  6.718346253229974e-05\n",
      "acceptance rate:  6.746370623398804e-05\n",
      "acceptance rate:  6.858594411515664e-05\n",
      "acceptance rate:  6.968933669185558e-05\n",
      "acceptance rate:  6.91090757701915e-05\n",
      "acceptance rate:  6.85383980181668e-05\n",
      "acceptance rate:  6.961506961506961e-05\n",
      "acceptance rate:  7.067424857839155e-05\n",
      "acceptance rate:  7.091055600322321e-05\n",
      "acceptance rate:  7.034372501998402e-05\n"
     ]
    }
   ],
   "source": [
    "\n",
    "analytic = torch.distributions.normal.Normal(true_thetas, 1)\n",
    "\n",
    "\n",
    "overall_snpe_list = []\n",
    "\n",
    "variance_list_snpe = []\n",
    "\n",
    "mean_list_snpe = []\n",
    "\n",
    "\n",
    "## for round\n",
    "for posterior_snpe_list in list_collection:\n",
    "    \n",
    "    KL_snpe = []\n",
    "    KL_snpe_1d = []\n",
    "    \n",
    "    \n",
    "    ## for number of simulations\n",
    "    for posterior_snpe in posterior_snpe_list:\n",
    "\n",
    "\n",
    "        #KL = KLdivergence(posterior_snpe, sample_y)\n",
    "        KL, var_x, mu_x = KL_Gauss(posterior_snpe, analytic)\n",
    "        \n",
    "        variance_list_snpe.append(var_x)\n",
    "        \n",
    "        mean_list_snpe.append(mu_x)\n",
    "\n",
    "\n",
    "        KL_1d = calc_KL_1d(posterior_snpe, analytic)\n",
    "\n",
    "        KL_snpe_1d.append(KL_1d)\n",
    "\n",
    "        #KL_snpe_sum.append(sum_KL)\n",
    "\n",
    "        KL_snpe.append(KL)\n",
    "        \n",
    "    overall_snpe_list.append(KL_snpe)\n",
    "\n",
    "\n",
    "    \n",
    "    "
   ]
  },
  {
   "cell_type": "code",
   "execution_count": null,
   "id": "f68ad23e",
   "metadata": {},
   "outputs": [],
   "source": [
    "torch.manual_seed(5)\n",
    "np.random.seed(5)\n",
    "\n",
    "obs_real = Gaussian(true_thetas[0, 0:])\n",
    "\n",
    "\n",
    "\n",
    "analytic = torch.distributions.normal.Normal(true_thetas, 1)\n",
    "\n",
    "\n",
    "overall_incremental_list = []\n",
    "\n",
    "variance_list = []\n",
    "\n",
    "mean_list = []\n",
    "\n",
    "for posterior_incremental_list in list_collection_inc:\n",
    "    \n",
    "    KL_incremental = []\n",
    "\n",
    "    for posterior_incremental in posterior_incremental_list:\n",
    "\n",
    "        posterior_incremental.set_default_x(obs_real)\n",
    "\n",
    "        #KL = KLdivergence(posterior_incremental, sample_y)\n",
    "\n",
    "        KL, var_x, mu_x = KL_Gauss(posterior_incremental, analytic)\n",
    "        \n",
    "        variance_list.append(var_x)\n",
    "        mean_list.append(mu_x)\n",
    "\n",
    "        #KL_1d = calc_KL_1d(posterior_incremental, analytic)\n",
    "\n",
    "        #KL_incremental_1d.append(KL_1d)\n",
    "\n",
    "\n",
    "        KL_incremental.append(KL)\n",
    "\n",
    "        \n",
    "    overall_incremental_list.append(KL_incremental)"
   ]
  },
  {
   "cell_type": "code",
   "execution_count": null,
   "id": "6a67366a",
   "metadata": {},
   "outputs": [],
   "source": [
    "mean_incremental = np.mean(np.array(overall_incremental_list), axis=0)\n",
    "\n",
    "\n",
    "stdev_incremental = np.std(np.array(overall_incremental_list), axis=0)\n",
    "\n",
    "\n",
    "\n",
    "lower_incremental = mean_incremental - [element * 0.5 for element in stdev_incremental]\n",
    "\n",
    "upper_incremental = mean_incremental + [element * 0.5 for element in stdev_incremental]"
   ]
  },
  {
   "cell_type": "code",
   "execution_count": null,
   "id": "babbcf05",
   "metadata": {},
   "outputs": [],
   "source": [
    "import seaborn as sns"
   ]
  },
  {
   "cell_type": "code",
   "execution_count": null,
   "id": "70289653",
   "metadata": {},
   "outputs": [],
   "source": [
    "mean_snpe = np.mean(np.array(overall_snpe_list), axis=0)\n",
    "\n",
    "\n",
    "stdev_snpe = np.std(np.array(overall_snpe_list), axis=0)\n",
    "\n",
    "\n",
    "lower_snpe = mean_snpe - [element * 0.5 for element in stdev_snpe]\n",
    "\n",
    "upper_snpe = mean_snpe + [element * 0.5 for element in stdev_snpe]"
   ]
  },
  {
   "cell_type": "code",
   "execution_count": null,
   "id": "3f0c3f44",
   "metadata": {},
   "outputs": [],
   "source": [
    "num_simulations_list = [500, 750, 1000, 1500, 2000, 3000]"
   ]
  },
  {
   "cell_type": "code",
   "execution_count": null,
   "id": "e48db975",
   "metadata": {},
   "outputs": [],
   "source": [
    "sns.set_context('notebook')\n",
    "#sns.set_context('talk')\n",
    "\n",
    "plt.plot(num_simulations_list, mean_incremental, '-o',label='incremental', color='purple')\n",
    "plt.plot(num_simulations_list, mean_snpe, '-o', label='snpe', color='springgreen')\n",
    "\n",
    "plt.plot(num_simulations_list, upper_incremental, '--', color='purple')\n",
    "plt.plot(num_simulations_list, upper_snpe, '--',  color='springgreen')\n",
    "\n",
    "plt.plot(num_simulations_list, lower_incremental, '--',  color='purple')\n",
    "plt.plot(num_simulations_list, lower_snpe, '--',  color='springgreen')\n",
    "\n",
    "\n",
    "plt.fill_between(x= num_simulations_list, y1=lower_incremental, y2=upper_incremental, color='purple', alpha=0.5,  label='1 stdv')\n",
    "plt.fill_between(x= num_simulations_list, y1=lower_snpe, y2=upper_snpe, color='springgreen', alpha=0.3, label='1 stdv')\n",
    "\n",
    "\n",
    "plt.legend()\n",
    "\n",
    "\n",
    "\n",
    "plt.xlabel('simulations per round')\n",
    "plt.ylabel('KL divergence')\n",
    "\n",
    "sns.despine()\n",
    "sns.despine()\n",
    "\n"
   ]
  },
  {
   "cell_type": "code",
   "execution_count": null,
   "id": "a5633279",
   "metadata": {},
   "outputs": [],
   "source": []
  }
 ],
 "metadata": {
  "kernelspec": {
   "display_name": "Python 3 (ipykernel)",
   "language": "python",
   "name": "python3"
  },
  "language_info": {
   "codemirror_mode": {
    "name": "ipython",
    "version": 3
   },
   "file_extension": ".py",
   "mimetype": "text/x-python",
   "name": "python",
   "nbconvert_exporter": "python",
   "pygments_lexer": "ipython3",
   "version": "3.7.11"
  }
 },
 "nbformat": 4,
 "nbformat_minor": 5
}
