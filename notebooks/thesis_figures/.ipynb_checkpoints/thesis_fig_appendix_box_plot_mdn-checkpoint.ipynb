{
 "cells": [
  {
   "cell_type": "markdown",
   "id": "4adc7403",
   "metadata": {},
   "source": [
    "# Exploring parameters\n",
    "\n",
    "#### density plots, post predictive checks etc."
   ]
  },
  {
   "cell_type": "code",
   "execution_count": 1,
   "id": "e788d96d",
   "metadata": {},
   "outputs": [],
   "source": [
    "%load_ext autoreload\n",
    "%autoreload 2\n",
    "import os.path as op\n",
    "import tempfile\n",
    "\n",
    "import matplotlib.pyplot as plt\n",
    "\n",
    "\n",
    "import hnn_core\n",
    "from hnn_core import simulate_dipole, jones_2009_model\n",
    "from hnn_core.viz import plot_dipole\n",
    "\n",
    "\n",
    "import sys\n",
    "sys.path.append('../code/')\n",
    "sys.path.append('../code/utils/')\n",
    "#sys.path.append('../code/sbi/')\n",
    "#sys.path.append('../../results_cluster/')\n",
    "\n",
    "\n",
    "import numpy as np\n",
    "import torch\n",
    "\n",
    "# visualization\n",
    "import matplotlib as mpl\n",
    "import matplotlib.pyplot as plt\n",
    "\n",
    "\n",
    "import os\n",
    "\n",
    "work_dir = '/home/ubuntu/sbi_for_eeg_data/code/'\n",
    "\n",
    "os.chdir(work_dir)\n",
    "\n",
    "#from utils.plot import cov, compare_vars, plot_varchanges\n",
    "#from utils.plot import compare_KLs, plot_KLs\n",
    "#from sbi.inference import potentials\n",
    "import utils.sbi_modulated_functions\n",
    "\n",
    "# sbi\n",
    "from sbi import utils as utils\n",
    "from sbi import analysis as analysis\n",
    "from sbi.inference.base import infer\n",
    "from sbi.inference import SNPE, prepare_for_sbi, simulate_for_sbi\n",
    "\n",
    "from sbi.analysis import conditional_pairplot, conditional_corrcoeff\n",
    "\n",
    "\n",
    "\n",
    "# import the summary statistics that you want to investigate\n",
    "from summary_features.calculate_summary_features import calculate_summary_statistics_alternative as alternative_sumstats\n",
    "from summary_features.calculate_summary_features import calculate_summary_stats_temporal as temporal_sumstats\n",
    "from summary_features.calculate_summary_features import calculate_summary_stats_number as number_sumstats\n",
    "from summary_features.calculate_summary_features import calculate_summary_stats_temporal\n"
   ]
  },
  {
   "cell_type": "code",
   "execution_count": 2,
   "id": "ab993458",
   "metadata": {},
   "outputs": [
    {
     "name": "stdout",
     "output_type": "stream",
     "text": [
      "1.11.0\n"
     ]
    }
   ],
   "source": [
    "print(torch.__version__)"
   ]
  },
  {
   "cell_type": "code",
   "execution_count": 3,
   "id": "9c212ce0",
   "metadata": {},
   "outputs": [],
   "source": [
    "## defining neuronal network model\n",
    "\n",
    "num_params = 6\n",
    "\n",
    "from utils.simulation_wrapper import set_network_default, SimulationWrapper\n",
    "sim_wrapper = SimulationWrapper(num_params, noise=False)\n"
   ]
  },
  {
   "cell_type": "code",
   "execution_count": 4,
   "id": "230edc87",
   "metadata": {},
   "outputs": [
    {
     "name": "stdout",
     "output_type": "stream",
     "text": [
      "/home/ubuntu\n",
      "/home/ubuntu/results/toy_example_mdn_08_04_lesser_ratio\n"
     ]
    }
   ],
   "source": [
    "from utils import inference\n",
    "\n",
    "import pickle\n",
    "from data_load_writer import *\n",
    "from data_load_writer import load_from_file as lf\n",
    "\n",
    "import os\n",
    "\n",
    "work_dir = '/home/ubuntu/'\n",
    "\n",
    "os.chdir(work_dir)\n",
    "\n",
    "\n",
    "\n",
    "import os\n",
    "\n",
    "print(os.getcwd())\n",
    "\n",
    "\n",
    "\n",
    "file = 'toy_example_mdn_08_04_lesser_ratio'\n",
    "\n",
    "\n",
    "os.chdir('results/{}'.format(file))\n",
    "\n",
    "\n",
    "print(os.getcwd())\n",
    "  \n",
    "\n"
   ]
  },
  {
   "cell_type": "code",
   "execution_count": 5,
   "id": "bde67830",
   "metadata": {},
   "outputs": [],
   "source": [
    "def Gaussian(thetas, normal_noise=1):\n",
    "    \n",
    "    gauss_list = []\n",
    "    \n",
    "    for theta in thetas:\n",
    "    \n",
    "        mu, sigma = theta, normal_noise # mean and standard deviation\n",
    "\n",
    "        s = np.random.normal(mu, sigma, 1)\n",
    "    \n",
    "        \n",
    "        gauss_list.append(s[0])\n",
    "        \n",
    "    gauss_obs = torch.tensor(gauss_list)\n",
    "    \n",
    "    return gauss_obs\n",
    "    \n",
    "\n"
   ]
  },
  {
   "cell_type": "code",
   "execution_count": 6,
   "id": "bc10d6ce",
   "metadata": {},
   "outputs": [],
   "source": [
    "list_collection = torch.load('list_collection.pt')\n",
    "list_collection_inc = torch.load('list_collection_inc.pt')"
   ]
  },
  {
   "cell_type": "code",
   "execution_count": 7,
   "id": "d4ca2c26",
   "metadata": {},
   "outputs": [],
   "source": [
    "true_thetas = torch.tensor([[3.0, 6.0, 20.0, 10.0, 90.0, 55.0, 27.0, 27.0, 4.0, 70.0, 5.0, 66.0, 99.0, 40.0, 45.0]])\n",
    "parameter_names = ['t1', 't2', 't3', 't4', 't5', 't6', 't7', 't8', 't9', 't10', 't11', 't12', 't13', 't14', 't15']\n",
    "\n",
    "prior_max = [100.0] * 15\n",
    "prior_min = [1.0] * 15\n",
    "\n",
    "prior = utils.torchutils.BoxUniform(low=prior_min, high = prior_max)\n",
    "\n",
    "samples_prior = prior.sample((10000,))\n",
    "\n",
    "simulator_stats, prior = prepare_for_sbi(Gaussian, prior)"
   ]
  },
  {
   "cell_type": "code",
   "execution_count": 8,
   "id": "64df37b2",
   "metadata": {},
   "outputs": [],
   "source": [
    "samples_prior_list = samples_prior.unsqueeze(0)"
   ]
  },
  {
   "cell_type": "code",
   "execution_count": null,
   "id": "431660f3",
   "metadata": {},
   "outputs": [],
   "source": []
  },
  {
   "cell_type": "code",
   "execution_count": 9,
   "id": "0c8bddbc",
   "metadata": {},
   "outputs": [
    {
     "data": {
      "text/plain": [
       "torch.Size([10000, 15])"
      ]
     },
     "execution_count": 9,
     "metadata": {},
     "output_type": "execute_result"
    }
   ],
   "source": [
    "samples_prior_list[0].shape"
   ]
  },
  {
   "cell_type": "code",
   "execution_count": 10,
   "id": "dbeec27a",
   "metadata": {},
   "outputs": [
    {
     "name": "stdout",
     "output_type": "stream",
     "text": [
      "[Parallel(n_jobs=1)]: Using backend SequentialBackend with 1 concurrent workers.\n",
      "[Parallel(n_jobs=1)]: Done   1 out of   1 | elapsed:    1.6s remaining:    0.0s\n",
      "[Parallel(n_jobs=1)]: Done   1 out of   1 | elapsed:    1.6s finished\n"
     ]
    }
   ],
   "source": [
    "thetas = inference.run_only_sim(samples_prior_list, simulation_wrapper = simulator_stats, num_workers=1)"
   ]
  },
  {
   "cell_type": "code",
   "execution_count": null,
   "id": "6b885f02",
   "metadata": {},
   "outputs": [],
   "source": [
    "\n"
   ]
  },
  {
   "cell_type": "code",
   "execution_count": 11,
   "id": "678fc0e0",
   "metadata": {},
   "outputs": [],
   "source": [
    "def KL_Gauss(X, Y):\n",
    "    \n",
    "    sample_x = X.sample((1000,))\n",
    "    mu_x = torch.mean(sample_x, dim=0)\n",
    "    var_x = torch.std(sample_x, dim=0)\n",
    "\n",
    "    var_y = Y.stddev\n",
    "\n",
    "    mu_y = Y.mean\n",
    "    \n",
    "    \n",
    "    return torch.mean(np.log(var_y/var_x) + (var_x**2 + (mu_x - mu_y)**2)/(2*var_y**2) -(1/2)), var_x, mu_x\n",
    "\n",
    "\n",
    "def calc_KL_1d(X, Y):\n",
    "    \n",
    "    sample_x = X.sample((1000,))\n",
    "    mu_x = torch.mean(sample_x, dim=0)\n",
    "    var_x = torch.std(sample_x, dim=0)\n",
    "    \n",
    "    print(var_x)\n",
    "    print(mu_x)\n",
    "\n",
    "\n",
    "    var_y = Y.stddev\n",
    "\n",
    "    mu_y = Y.mean\n",
    "    \n",
    "    print(mu_y)\n",
    "    print(var_y)\n",
    "    \n",
    "    print(np.log(var_y/var_x) + (var_x**2 + (mu_x - mu_y)**2)/(2*var_y**2) -(1/2))\n",
    "    \n",
    "    return np.log(var_y/var_x) + (var_x**2 + (mu_x - mu_y)**2)/(2*var_y**2) -(1/2)\n",
    "\n",
    "\n",
    "# calculate the jensen-shanon divergence\n",
    "def js_divergence(p, q):\n",
    "    m = 0.5 * (p + q)\n",
    "    return 0.5 * kl_divergence(p, m) + 0.5 * kl_divergence(q, m)"
   ]
  },
  {
   "cell_type": "code",
   "execution_count": 12,
   "id": "c39fb7f2",
   "metadata": {},
   "outputs": [
    {
     "data": {
      "application/vnd.jupyter.widget-view+json": {
       "model_id": "de1e62f793044ce8bb9b5960d792c201",
       "version_major": 2,
       "version_minor": 0
      },
      "text/plain": [
       "Drawing 1000 posterior samples:   0%|          | 0/1000 [00:00<?, ?it/s]"
      ]
     },
     "metadata": {},
     "output_type": "display_data"
    },
    {
     "name": "stdout",
     "output_type": "stream",
     "text": [
      "acceptance rate:  0.335\n",
      "acceptance rate:  0.32527272727272727\n"
     ]
    },
    {
     "name": "stderr",
     "output_type": "stream",
     "text": [
      "/home/ubuntu/pyknos/pyknos/mdn/mdn.py:288: UserWarning: torch.triangular_solve is deprecated in favor of torch.linalg.solve_triangularand will be removed in a future PyTorch release.\n",
      "torch.linalg.solve_triangular has its arguments reversed and does not return a copy of one of the inputs.\n",
      "X = torch.triangular_solve(B, A).solution\n",
      "should be replaced with\n",
      "X = torch.linalg.solve_triangular(A, B). (Triggered internally at  /opt/conda/conda-bld/pytorch_1646755861072/work/aten/src/ATen/native/BatchLinearAlgebra.cpp:1672.)\n",
      "  chosen_precision_factors,\n"
     ]
    },
    {
     "data": {
      "application/vnd.jupyter.widget-view+json": {
       "model_id": "56a55e86b4db4fc9b0f51675819a0a50",
       "version_major": 2,
       "version_minor": 0
      },
      "text/plain": [
       "Drawing 1000 posterior samples:   0%|          | 0/1000 [00:00<?, ?it/s]"
      ]
     },
     "metadata": {},
     "output_type": "display_data"
    },
    {
     "name": "stdout",
     "output_type": "stream",
     "text": [
      "acceptance rate:  0.328\n",
      "acceptance rate:  0.33254545454545453\n",
      "tensor([4.8797, 5.5033, 6.0454, 3.8470, 3.8339, 9.0478, 8.3753, 5.4434, 3.9260,\n",
      "        8.7650, 2.0372, 4.3247, 2.8190, 8.0129, 4.4551])\n",
      "tensor([11.3357, 24.5294, 29.0603,  8.8281, 72.1627, 51.9298, 36.4898, 43.3906,\n",
      "         7.7360, 74.8680,  3.7379, 48.5236, 96.5125, 26.9169, 36.5921])\n",
      "tensor([[ 3.,  6., 20., 10., 90., 55., 27., 27.,  4., 70.,  5., 66., 99., 40.,\n",
      "         45.]])\n",
      "tensor([[1., 1., 1., 1., 1., 1., 1., 1., 1., 1., 1., 1., 1., 1., 1.]])\n",
      "tensor([[ 44.5629, 184.6082,  57.0185,   6.2391, 164.5905,  42.9422,  77.4749,\n",
      "         146.9469,  12.8179,  47.5906,   1.6600, 160.0987,   5.5308, 115.1057,\n",
      "          43.2764]])\n"
     ]
    },
    {
     "data": {
      "application/vnd.jupyter.widget-view+json": {
       "model_id": "5af9329e6f8f4b27a8869838640d7f6b",
       "version_major": 2,
       "version_minor": 0
      },
      "text/plain": [
       "Drawing 1000 posterior samples:   0%|          | 0/1000 [00:00<?, ?it/s]"
      ]
     },
     "metadata": {},
     "output_type": "display_data"
    },
    {
     "name": "stdout",
     "output_type": "stream",
     "text": [
      "acceptance rate:  0.256\n",
      "acceptance rate:  0.261\n"
     ]
    },
    {
     "data": {
      "application/vnd.jupyter.widget-view+json": {
       "model_id": "e8293666eda049eeb427e9eb2b5536db",
       "version_major": 2,
       "version_minor": 0
      },
      "text/plain": [
       "Drawing 1000 posterior samples:   0%|          | 0/1000 [00:00<?, ?it/s]"
      ]
     },
     "metadata": {},
     "output_type": "display_data"
    },
    {
     "name": "stdout",
     "output_type": "stream",
     "text": [
      "acceptance rate:  0.274\n",
      "acceptance rate:  0.2670909090909091\n",
      "tensor([ 5.4051,  4.8742,  6.6137, 11.9852,  5.7963,  6.6314,  4.0725,  5.7167,\n",
      "         4.8220,  7.2565,  6.2206,  6.1612,  3.7161,  4.6494,  6.4312])\n",
      "tensor([12.2368, 11.4823, 46.4129, 31.6577, 91.4439, 58.5651, 10.5917, 36.1125,\n",
      "        15.3480, 61.0627, 19.8203, 78.2692, 95.4516, 41.8342, 47.7435])\n",
      "tensor([[ 3.,  6., 20., 10., 90., 55., 27., 27.,  4., 70.,  5., 66., 99., 40.,\n",
      "         45.]])\n",
      "tensor([[1., 1., 1., 1., 1., 1., 1., 1., 1., 1., 1., 1., 1., 1., 1.]])\n",
      "tensor([[ 55.0801,  24.8224, 368.3019, 303.3653,  15.5836,  25.9507, 141.0041,\n",
      "          55.6157,  73.9405,  63.7846, 126.8415,  91.9279,  11.3876,  10.4539,\n",
      "          22.0825]])\n"
     ]
    },
    {
     "data": {
      "application/vnd.jupyter.widget-view+json": {
       "model_id": "f7967e8aa06c478c95c395364698043c",
       "version_major": 2,
       "version_minor": 0
      },
      "text/plain": [
       "Drawing 1000 posterior samples:   0%|          | 0/1000 [00:00<?, ?it/s]"
      ]
     },
     "metadata": {},
     "output_type": "display_data"
    },
    {
     "name": "stdout",
     "output_type": "stream",
     "text": [
      "acceptance rate:  0.93\n",
      "acceptance rate:  0.9338181818181818\n"
     ]
    },
    {
     "data": {
      "application/vnd.jupyter.widget-view+json": {
       "model_id": "1f120f88b736496cb8562f87d6d2b2f6",
       "version_major": 2,
       "version_minor": 0
      },
      "text/plain": [
       "Drawing 1000 posterior samples:   0%|          | 0/1000 [00:00<?, ?it/s]"
      ]
     },
     "metadata": {},
     "output_type": "display_data"
    },
    {
     "name": "stdout",
     "output_type": "stream",
     "text": [
      "acceptance rate:  0.937\n",
      "acceptance rate:  0.9288181818181818\n",
      "tensor([8.6704, 5.8392, 4.0670, 4.5946, 7.4395, 3.3239, 9.0581, 4.4678, 9.9776,\n",
      "        6.5265, 3.8027, 2.9148, 3.1028, 6.5005, 8.1213])\n",
      "tensor([30.2233, 28.5422, 36.1787, 24.3660, 60.6019, 59.0577, 50.1530, 33.3310,\n",
      "        43.2307, 54.8495, 20.9640, 50.8235, 91.0169, 22.7826, 80.4722])\n",
      "tensor([[ 3.,  6., 20., 10., 90., 55., 27., 27.,  4., 70.,  5., 66., 99., 40.,\n",
      "         45.]])\n",
      "tensor([[1., 1., 1., 1., 1., 1., 1., 1., 1., 1., 1., 1., 1., 1., 1.]])\n",
      "tensor([[405.4819, 268.8586, 137.2422, 111.7211, 457.2900,  12.0555, 306.3508,\n",
      "          28.0248, 816.4997, 133.6903, 132.8192, 117.8406,  35.0464, 166.9751,\n",
      "         659.5210]])\n"
     ]
    },
    {
     "data": {
      "application/vnd.jupyter.widget-view+json": {
       "model_id": "ccfe8eeb83a24f099b775954ec5d3ded",
       "version_major": 2,
       "version_minor": 0
      },
      "text/plain": [
       "Drawing 1000 posterior samples:   0%|          | 0/1000 [00:00<?, ?it/s]"
      ]
     },
     "metadata": {},
     "output_type": "display_data"
    },
    {
     "name": "stdout",
     "output_type": "stream",
     "text": [
      "acceptance rate:  0.239\n",
      "acceptance rate:  0.26127272727272727\n"
     ]
    },
    {
     "data": {
      "application/vnd.jupyter.widget-view+json": {
       "model_id": "db5f1521cfc24c9c8ca2e79000601e5c",
       "version_major": 2,
       "version_minor": 0
      },
      "text/plain": [
       "Drawing 1000 posterior samples:   0%|          | 0/1000 [00:00<?, ?it/s]"
      ]
     },
     "metadata": {},
     "output_type": "display_data"
    },
    {
     "name": "stdout",
     "output_type": "stream",
     "text": [
      "acceptance rate:  0.246\n",
      "acceptance rate:  0.25845454545454544\n",
      "tensor([1.7230, 1.6706, 4.4463, 1.3240, 3.0787, 2.3877, 1.5625, 2.3252, 2.2352,\n",
      "        0.8728, 1.5826, 1.5041, 3.1932, 2.8773, 4.1752])\n",
      "tensor([ 4.8622,  3.4768, 22.1431,  8.9646, 92.4778, 53.5364, 27.1084, 27.1493,\n",
      "         4.9515, 68.5947,  3.4568, 64.8279, 94.9580, 40.6227, 42.0139])\n",
      "tensor([[ 3.,  6., 20., 10., 90., 55., 27., 27.,  4., 70.,  5., 66., 99., 40.,\n",
      "         45.]])\n",
      "tensor([[1., 1., 1., 1., 1., 1., 1., 1., 1., 1., 1., 1., 1., 1., 1.]])\n",
      "tensor([[ 2.1742,  3.5654, 10.1892,  0.6319,  6.1846,  2.5513,  0.2803,  1.3707,\n",
      "          1.6464,  1.0044,  1.4839,  0.9099, 11.6064,  2.7765, 11.2453]])\n"
     ]
    },
    {
     "data": {
      "application/vnd.jupyter.widget-view+json": {
       "model_id": "c0fed9aee5c141ea92687cfb866f51ab",
       "version_major": 2,
       "version_minor": 0
      },
      "text/plain": [
       "Drawing 1000 posterior samples:   0%|          | 0/1000 [00:00<?, ?it/s]"
      ]
     },
     "metadata": {},
     "output_type": "display_data"
    },
    {
     "name": "stdout",
     "output_type": "stream",
     "text": [
      "acceptance rate:  0.874\n",
      "acceptance rate:  0.8726363636363637\n"
     ]
    },
    {
     "data": {
      "application/vnd.jupyter.widget-view+json": {
       "model_id": "1d9fb283b76a45f6a640f632e2399546",
       "version_major": 2,
       "version_minor": 0
      },
      "text/plain": [
       "Drawing 1000 posterior samples:   0%|          | 0/1000 [00:00<?, ?it/s]"
      ]
     },
     "metadata": {},
     "output_type": "display_data"
    },
    {
     "name": "stdout",
     "output_type": "stream",
     "text": [
      "acceptance rate:  0.869\n",
      "acceptance rate:  0.8740909090909091\n",
      "tensor([5.1530, 7.5373, 7.4217, 5.8336, 5.1177, 1.6821, 1.6118, 3.1554, 3.9218,\n",
      "        3.4177, 2.7332, 2.8430, 4.6964, 4.7171, 6.9824])\n",
      "tensor([16.6415, 34.0476, 18.0495, 21.5503, 88.7927, 51.5745, 28.1192, 17.6780,\n",
      "         8.8827, 65.3452, 15.9761, 71.8860, 89.6079, 38.7751, 36.2381])\n",
      "tensor([[ 3.,  6., 20., 10., 90., 55., 27., 27.,  4., 70.,  5., 66., 99., 40.,\n",
      "         45.]])\n",
      "tensor([[1., 1., 1., 1., 1., 1., 1., 1., 1., 1., 1., 1., 1., 1., 1.]])\n",
      "tensor([[104.1828, 419.2189,  26.9384,  81.4561,  11.6913,   6.2616,   0.9480,\n",
      "          46.7794,  17.7443,  14.9448,  62.4670,  19.8188,  53.0869,   9.8245,\n",
      "          60.3191]])\n"
     ]
    },
    {
     "data": {
      "application/vnd.jupyter.widget-view+json": {
       "model_id": "a95432820d6c4d6b9a9f61a530f8e335",
       "version_major": 2,
       "version_minor": 0
      },
      "text/plain": [
       "Drawing 1000 posterior samples:   0%|          | 0/1000 [00:00<?, ?it/s]"
      ]
     },
     "metadata": {},
     "output_type": "display_data"
    },
    {
     "name": "stdout",
     "output_type": "stream",
     "text": [
      "acceptance rate:  0.289\n",
      "acceptance rate:  0.2849090909090909\n"
     ]
    },
    {
     "data": {
      "application/vnd.jupyter.widget-view+json": {
       "model_id": "57272ca4b7ed49b4ae02a44c67fa2a78",
       "version_major": 2,
       "version_minor": 0
      },
      "text/plain": [
       "Drawing 1000 posterior samples:   0%|          | 0/1000 [00:00<?, ?it/s]"
      ]
     },
     "metadata": {},
     "output_type": "display_data"
    },
    {
     "name": "stdout",
     "output_type": "stream",
     "text": [
      "acceptance rate:  0.29\n",
      "acceptance rate:  0.2891818181818182\n",
      "tensor([2.5185, 4.3029, 7.6385, 2.0703, 3.0258, 1.7317, 2.1493, 3.6026, 1.4177,\n",
      "        2.3505, 1.3467, 3.1812, 3.0482, 2.1692, 8.6604])\n",
      "tensor([ 8.7173, 13.5345, 34.9846, 14.1985, 88.1068, 52.4702, 29.7314, 33.3676,\n",
      "         2.8754, 64.5550,  6.9604, 58.7059, 93.9390, 35.3531, 28.6584])\n",
      "tensor([[ 3.,  6., 20., 10., 90., 55., 27., 27.,  4., 70.,  5., 66., 99., 40.,\n",
      "         45.]])\n",
      "tensor([[1., 1., 1., 1., 1., 1., 1., 1., 1., 1., 1., 1., 1., 1., 1.]])\n",
      "tensor([[ 18.0915,  35.6827, 138.9088,   9.7289,   4.7626,   3.6503,   4.7750,\n",
      "          24.9810,   0.7882,  16.2315,   2.0307,  30.0045,  15.8381,  11.8752,\n",
      "         168.3661]])\n"
     ]
    },
    {
     "data": {
      "application/vnd.jupyter.widget-view+json": {
       "model_id": "07e61f857e864d0e8284cd95bd6cdd3d",
       "version_major": 2,
       "version_minor": 0
      },
      "text/plain": [
       "Drawing 1000 posterior samples:   0%|          | 0/1000 [00:00<?, ?it/s]"
      ]
     },
     "metadata": {},
     "output_type": "display_data"
    },
    {
     "name": "stdout",
     "output_type": "stream",
     "text": [
      "acceptance rate:  0.543\n",
      "acceptance rate:  0.539\n"
     ]
    },
    {
     "data": {
      "application/vnd.jupyter.widget-view+json": {
       "model_id": "4454b57b013744ec99d01947d2d4d4a3",
       "version_major": 2,
       "version_minor": 0
      },
      "text/plain": [
       "Drawing 1000 posterior samples:   0%|          | 0/1000 [00:00<?, ?it/s]"
      ]
     },
     "metadata": {},
     "output_type": "display_data"
    },
    {
     "name": "stdout",
     "output_type": "stream",
     "text": [
      "acceptance rate:  0.556\n",
      "acceptance rate:  0.5424545454545454\n",
      "tensor([4.6447, 5.8527, 6.1252, 4.9338, 7.6770, 6.0571, 4.1812, 4.3086, 5.1133,\n",
      "        6.3073, 3.9141, 6.6548, 5.2955, 3.2552, 8.2487])\n",
      "tensor([ 9.4314, 16.6702, 11.2813, 14.6121, 65.3001, 44.6649, 24.7891, 25.8869,\n",
      "         8.7930, 85.5249,  7.8412, 81.2255, 82.6424, 36.7067, 34.8794])\n",
      "tensor([[ 3.,  6., 20., 10., 90., 55., 27., 27.,  4., 70.,  5., 66., 99., 40.,\n",
      "         45.]])\n",
      "tensor([[1., 1., 1., 1., 1., 1., 1., 1., 1., 1., 1., 1., 1., 1., 1.]])\n",
      "tensor([[ 29.4321,  71.7868,  54.4543,  20.7108, 331.9733,  69.4507,   9.2545,\n",
      "           7.9410,  22.4272, 138.0600,   9.8319, 135.6567, 145.6402,   9.0410,\n",
      "          82.6243]])\n"
     ]
    },
    {
     "data": {
      "application/vnd.jupyter.widget-view+json": {
       "model_id": "e89f382e53604cbf9455d703ae6becfd",
       "version_major": 2,
       "version_minor": 0
      },
      "text/plain": [
       "Drawing 1000 posterior samples:   0%|          | 0/1000 [00:00<?, ?it/s]"
      ]
     },
     "metadata": {},
     "output_type": "display_data"
    },
    {
     "name": "stdout",
     "output_type": "stream",
     "text": [
      "acceptance rate:  0.776\n",
      "acceptance rate:  0.7947272727272727\n"
     ]
    },
    {
     "data": {
      "application/vnd.jupyter.widget-view+json": {
       "model_id": "41926c3866dc4fb0bb435fb1a7c2bba3",
       "version_major": 2,
       "version_minor": 0
      },
      "text/plain": [
       "Drawing 1000 posterior samples:   0%|          | 0/1000 [00:00<?, ?it/s]"
      ]
     },
     "metadata": {},
     "output_type": "display_data"
    },
    {
     "name": "stdout",
     "output_type": "stream",
     "text": [
      "acceptance rate:  0.796\n",
      "acceptance rate:  0.7935454545454546\n",
      "tensor([4.3953, 5.4352, 4.3677, 5.0838, 5.1969, 7.0671, 5.3010, 5.9181, 4.2544,\n",
      "        4.2868, 5.9392, 7.0156, 6.9015, 5.9120, 6.9230])\n",
      "tensor([17.0139, 13.4870, 13.2086, 21.3534, 90.6329, 31.5046, 12.2698, 42.4039,\n",
      "        16.6865, 67.4193, 12.1089, 44.4557, 76.3980, 35.5088, 18.4391])\n",
      "tensor([[ 3.,  6., 20., 10., 90., 55., 27., 27.,  4., 70.,  5., 66., 99., 40.,\n",
      "         45.]])\n",
      "tensor([[1., 1., 1., 1., 1., 1., 1., 1., 1., 1., 1., 1., 1., 1., 1.]])\n",
      "tensor([[105.8741,  40.6052,  30.6255,  75.2462,  11.5562, 298.5334, 120.3718,\n",
      "         133.8730,  87.5760,  10.5627,  40.6238, 254.2394, 276.8087,  25.2842,\n",
      "         374.2704]])\n"
     ]
    },
    {
     "data": {
      "application/vnd.jupyter.widget-view+json": {
       "model_id": "b0405a5d8a52422197228777e87cea19",
       "version_major": 2,
       "version_minor": 0
      },
      "text/plain": [
       "Drawing 1000 posterior samples:   0%|          | 0/1000 [00:00<?, ?it/s]"
      ]
     },
     "metadata": {},
     "output_type": "display_data"
    },
    {
     "name": "stdout",
     "output_type": "stream",
     "text": [
      "acceptance rate:  0.689\n",
      "acceptance rate:  0.7042727272727273\n"
     ]
    },
    {
     "data": {
      "application/vnd.jupyter.widget-view+json": {
       "model_id": "ea8238ba20a947f39c87e6e23678bd52",
       "version_major": 2,
       "version_minor": 0
      },
      "text/plain": [
       "Drawing 1000 posterior samples:   0%|          | 0/1000 [00:00<?, ?it/s]"
      ]
     },
     "metadata": {},
     "output_type": "display_data"
    },
    {
     "name": "stdout",
     "output_type": "stream",
     "text": [
      "acceptance rate:  0.683\n",
      "acceptance rate:  0.7014545454545454\n",
      "tensor([7.6499, 8.3922, 3.6919, 3.7973, 5.6045, 5.1910, 2.3079, 5.9300, 9.0341,\n",
      "        4.0406, 6.9526, 5.4042, 3.0981, 6.1425, 7.4083])\n",
      "tensor([14.9317, 20.9401, 17.4122,  9.6538, 83.4061, 61.3527, 15.3975, 41.3846,\n",
      "        27.6556, 66.9264, 24.5877, 89.8169, 94.7041, 47.6167, 66.5602])\n",
      "tensor([[ 3.,  6., 20., 10., 90., 55., 27., 27.,  4., 70.,  5., 66., 99., 40.,\n",
      "         45.]])\n",
      "tensor([[1., 1., 1., 1., 1., 1., 1., 1., 1., 1., 1., 1., 1., 1., 1.]])\n",
      "tensor([[ 97.9080, 144.1904,   8.3573,   5.4355,  35.2210,  31.5048,  68.6354,\n",
      "         118.7603, 317.8995,  10.9903, 213.5698, 296.0388,  12.3958,  45.5572,\n",
      "         257.3594]])\n"
     ]
    },
    {
     "data": {
      "application/vnd.jupyter.widget-view+json": {
       "model_id": "3ed52a3bb5bc486f93a489d06a2a907a",
       "version_major": 2,
       "version_minor": 0
      },
      "text/plain": [
       "Drawing 1000 posterior samples:   0%|          | 0/1000 [00:00<?, ?it/s]"
      ]
     },
     "metadata": {},
     "output_type": "display_data"
    },
    {
     "name": "stdout",
     "output_type": "stream",
     "text": [
      "acceptance rate:  0.353\n",
      "acceptance rate:  0.3447272727272727\n"
     ]
    },
    {
     "data": {
      "application/vnd.jupyter.widget-view+json": {
       "model_id": "8541ab5d51c9485f891354328f64b32a",
       "version_major": 2,
       "version_minor": 0
      },
      "text/plain": [
       "Drawing 1000 posterior samples:   0%|          | 0/1000 [00:00<?, ?it/s]"
      ]
     },
     "metadata": {},
     "output_type": "display_data"
    },
    {
     "name": "stdout",
     "output_type": "stream",
     "text": [
      "acceptance rate:  0.312\n",
      "acceptance rate:  0.33136363636363636\n",
      "tensor([5.2939, 3.3012, 4.3932, 4.3049, 2.9643, 3.1930, 4.7608, 2.1122, 4.1508,\n",
      "        5.0408, 2.1951, 2.9633, 3.3366, 7.8683, 4.4827])\n",
      "tensor([ 9.1626,  5.8666,  6.9682, 16.2563, 92.5956, 54.4413, 32.4598, 28.0571,\n",
      "        10.3555, 53.6913,  7.9962, 57.6921, 90.5677, 23.4824, 42.9346])\n",
      "tensor([[ 3.,  6., 20., 10., 90., 55., 27., 27.,  4., 70.,  5., 66., 99., 40.,\n",
      "         45.]])\n",
      "tensor([[1., 1., 1., 1., 1., 1., 1., 1., 1., 1., 1., 1., 1., 1., 1.]])\n",
      "tensor([[ 30.8350,   3.7635,  92.5836,  26.8769,   6.1754,   3.5927,  24.1768,\n",
      "           1.5417,  26.8874, 143.5746,   5.6118,  37.3146,  39.4134, 164.8084,\n",
      "          10.1799]])\n"
     ]
    },
    {
     "data": {
      "application/vnd.jupyter.widget-view+json": {
       "model_id": "c7cbafec0cf94224aef00deca508edcd",
       "version_major": 2,
       "version_minor": 0
      },
      "text/plain": [
       "Drawing 1000 posterior samples:   0%|          | 0/1000 [00:00<?, ?it/s]"
      ]
     },
     "metadata": {},
     "output_type": "display_data"
    },
    {
     "name": "stdout",
     "output_type": "stream",
     "text": [
      "acceptance rate:  0.03\n",
      "acceptance rate:  0.025272727272727273\n",
      "acceptance rate:  0.02542857142857143\n",
      "acceptance rate:  0.02632258064516129\n",
      "acceptance rate:  0.026317073170731706\n"
     ]
    },
    {
     "data": {
      "application/vnd.jupyter.widget-view+json": {
       "model_id": "48925a72c0bc4abda8a1b4912aa28c3a",
       "version_major": 2,
       "version_minor": 0
      },
      "text/plain": [
       "Drawing 1000 posterior samples:   0%|          | 0/1000 [00:00<?, ?it/s]"
      ]
     },
     "metadata": {},
     "output_type": "display_data"
    },
    {
     "name": "stdout",
     "output_type": "stream",
     "text": [
      "acceptance rate:  0.029\n",
      "acceptance rate:  0.028272727272727272\n",
      "acceptance rate:  0.02723809523809524\n",
      "acceptance rate:  0.026838709677419356\n",
      "acceptance rate:  0.026878048780487804\n",
      "tensor([1.3772, 3.6864, 1.9532, 2.7220, 1.8334, 2.2756, 4.4652, 3.7786, 1.4036,\n",
      "        2.1499, 1.8571, 0.8158, 1.8121, 2.0564, 6.8117])\n",
      "tensor([ 3.0507,  7.7673, 19.5381,  7.8389, 90.4811, 53.2467, 21.6613, 23.9725,\n",
      "         5.1724, 67.3012,  6.6587, 63.9003, 97.3819, 37.4974, 52.9460])\n",
      "tensor([[ 3.,  6., 20., 10., 90., 55., 27., 27.,  4., 70.,  5., 66., 99., 40.,\n",
      "         45.]])\n",
      "tensor([[1., 1., 1., 1., 1., 1., 1., 1., 1., 1., 1., 1., 1., 1., 1.]])\n",
      "tensor([[ 0.1296,  6.5520,  0.8447,  4.5384,  0.6902,  2.8039, 22.2235,  9.8922,\n",
      "          0.8332,  4.6874,  1.9811,  2.2407,  1.8564,  4.0249, 52.3508]])\n"
     ]
    },
    {
     "data": {
      "application/vnd.jupyter.widget-view+json": {
       "model_id": "aa21a7c3a656408389945ff03c1da5f7",
       "version_major": 2,
       "version_minor": 0
      },
      "text/plain": [
       "Drawing 1000 posterior samples:   0%|          | 0/1000 [00:00<?, ?it/s]"
      ]
     },
     "metadata": {},
     "output_type": "display_data"
    },
    {
     "name": "stdout",
     "output_type": "stream",
     "text": [
      "acceptance rate:  0.502\n",
      "acceptance rate:  0.4771818181818182\n"
     ]
    },
    {
     "data": {
      "application/vnd.jupyter.widget-view+json": {
       "model_id": "a34b9163ec0f409a9057b20723cf5ca4",
       "version_major": 2,
       "version_minor": 0
      },
      "text/plain": [
       "Drawing 1000 posterior samples:   0%|          | 0/1000 [00:00<?, ?it/s]"
      ]
     },
     "metadata": {},
     "output_type": "display_data"
    },
    {
     "name": "stdout",
     "output_type": "stream",
     "text": [
      "acceptance rate:  0.476\n",
      "acceptance rate:  0.4711818181818182\n",
      "tensor([ 2.5084,  6.4171, 10.9537,  6.2470,  5.0926,  3.5942,  1.9981,  1.1118,\n",
      "        11.6735,  1.8260,  2.2840,  3.2375,  1.2221,  2.2100,  3.3047])\n",
      "tensor([11.7919, 19.2574, 18.8645, 19.8835, 81.6850, 52.9820, 27.8269, 25.4738,\n",
      "        27.7836, 64.4852,  8.3309, 71.7841, 98.2559, 34.9839, 34.4346])\n",
      "tensor([[ 3.,  6., 20., 10., 90., 55., 27., 27.,  4., 70.,  5., 66., 99., 40.,\n",
      "         45.]])\n",
      "tensor([[1., 1., 1., 1., 1., 1., 1., 1., 1., 1., 1., 1., 1., 1., 1.]])\n",
      "tensor([[4.0375e+01, 1.0611e+02, 5.7742e+01, 6.6022e+01, 4.5410e+01, 6.7160e+00,\n",
      "         1.1458e+00, 1.1767e+00, 3.4801e+02, 1.5772e+01, 6.8301e+00, 2.0294e+01,\n",
      "         3.2303e-01, 1.3730e+01, 5.9579e+01]])\n"
     ]
    },
    {
     "data": {
      "application/vnd.jupyter.widget-view+json": {
       "model_id": "db60a0e128874992a2faa8cfa485b00b",
       "version_major": 2,
       "version_minor": 0
      },
      "text/plain": [
       "Drawing 1000 posterior samples:   0%|          | 0/1000 [00:00<?, ?it/s]"
      ]
     },
     "metadata": {},
     "output_type": "display_data"
    },
    {
     "name": "stdout",
     "output_type": "stream",
     "text": [
      "acceptance rate:  0.063\n",
      "acceptance rate:  0.05663636363636364\n",
      "acceptance rate:  0.05819047619047619\n"
     ]
    },
    {
     "data": {
      "application/vnd.jupyter.widget-view+json": {
       "model_id": "24d9d793a7164517b2f1ba2006fa43e7",
       "version_major": 2,
       "version_minor": 0
      },
      "text/plain": [
       "Drawing 1000 posterior samples:   0%|          | 0/1000 [00:00<?, ?it/s]"
      ]
     },
     "metadata": {},
     "output_type": "display_data"
    },
    {
     "name": "stdout",
     "output_type": "stream",
     "text": [
      "acceptance rate:  0.053\n",
      "acceptance rate:  0.060636363636363634\n",
      "acceptance rate:  0.060238095238095236\n",
      "tensor([4.0095, 7.8811, 5.8683, 3.8199, 4.7095, 6.3885, 4.9930, 4.7487, 4.0593,\n",
      "        9.2941, 1.3140, 5.9464, 6.2185, 3.8914, 5.2890])\n",
      "tensor([ 8.5448, 22.2636, 13.5611, 15.1931, 90.2105, 54.6454, 11.1836, 33.5638,\n",
      "        10.8799, 70.7071,  2.5408, 60.0840, 81.4824, 50.1224, 46.9347])\n",
      "tensor([[ 3.,  6., 20., 10., 90., 55., 27., 27.,  4., 70.,  5., 66., 99., 40.,\n",
      "         45.]])\n",
      "tensor([[1., 1., 1., 1., 1., 1., 1., 1., 1., 1., 1., 1., 1., 1., 1.]])\n",
      "tensor([[ 21.5219, 160.7430,  35.6783,  18.9401,   9.0624,  18.1146, 135.4358,\n",
      "          30.7587,  30.0043,  40.7106,   3.1142,  32.8965, 170.4409,  56.9442,\n",
      "          13.6925]])\n"
     ]
    },
    {
     "data": {
      "application/vnd.jupyter.widget-view+json": {
       "model_id": "aea2a1e11ba74fdfa5a40c8020b13167",
       "version_major": 2,
       "version_minor": 0
      },
      "text/plain": [
       "Drawing 1000 posterior samples:   0%|          | 0/1000 [00:00<?, ?it/s]"
      ]
     },
     "metadata": {},
     "output_type": "display_data"
    },
    {
     "name": "stdout",
     "output_type": "stream",
     "text": [
      "acceptance rate:  0.01\n",
      "acceptance rate:  0.012090909090909091\n",
      "acceptance rate:  0.011047619047619047\n",
      "acceptance rate:  0.010903225806451613\n",
      "acceptance rate:  0.010731707317073172\n",
      "acceptance rate:  0.010529411764705883\n",
      "acceptance rate:  0.010557377049180328\n",
      "acceptance rate:  0.010464788732394367\n",
      "acceptance rate:  0.010703703703703703\n",
      "acceptance rate:  0.01065934065934066\n",
      "acceptance rate:  0.010792079207920791\n"
     ]
    },
    {
     "data": {
      "application/vnd.jupyter.widget-view+json": {
       "model_id": "17666eb36488416f8eb924764bae6f89",
       "version_major": 2,
       "version_minor": 0
      },
      "text/plain": [
       "Drawing 1000 posterior samples:   0%|          | 0/1000 [00:00<?, ?it/s]"
      ]
     },
     "metadata": {},
     "output_type": "display_data"
    },
    {
     "name": "stdout",
     "output_type": "stream",
     "text": [
      "acceptance rate:  0.009\n",
      "acceptance rate:  0.010818181818181819\n",
      "acceptance rate:  0.010571428571428572\n",
      "acceptance rate:  0.010806451612903226\n",
      "acceptance rate:  0.011146341463414634\n",
      "acceptance rate:  0.011333333333333334\n",
      "acceptance rate:  0.011131147540983606\n",
      "acceptance rate:  0.011140845070422536\n",
      "acceptance rate:  0.010987654320987654\n",
      "acceptance rate:  0.011307692307692309\n",
      "tensor([1.1384, 3.1774, 5.0540, 1.9025, 1.2500, 2.3101, 1.5710, 3.7718, 1.7391,\n",
      "        1.8279, 1.1823, 1.6872, 1.7726, 0.7265, 1.6916])\n",
      "tensor([ 2.3279,  7.7983, 16.9297, 13.2630, 88.2962, 55.8394, 26.2171, 23.9022,\n",
      "         8.3670, 65.9874,  2.3801, 64.1775, 97.7092, 40.8651, 48.3120])\n",
      "tensor([[ 3.,  6., 20., 10., 90., 55., 27., 27.,  4., 70.,  5., 66., 99., 40.,\n",
      "         45.]])\n",
      "tensor([[1., 1., 1., 1., 1., 1., 1., 1., 1., 1., 1., 1., 1., 1., 1.]])\n",
      "tensor([[ 0.2442,  5.0090, 15.3646,  5.9902,  1.5095,  1.6833,  0.5888, 10.0840,\n",
      "          9.9941,  8.6181,  3.4634,  2.0611,  1.3317,  0.4576,  5.8897]])\n"
     ]
    },
    {
     "data": {
      "application/vnd.jupyter.widget-view+json": {
       "model_id": "a637ff4e08184234b782a523abfe6da9",
       "version_major": 2,
       "version_minor": 0
      },
      "text/plain": [
       "Drawing 1000 posterior samples:   0%|          | 0/1000 [00:00<?, ?it/s]"
      ]
     },
     "metadata": {},
     "output_type": "display_data"
    },
    {
     "name": "stdout",
     "output_type": "stream",
     "text": [
      "acceptance rate:  0.575\n",
      "acceptance rate:  0.5788181818181818\n"
     ]
    },
    {
     "data": {
      "application/vnd.jupyter.widget-view+json": {
       "model_id": "4c551348563044eaa46445769fc129f5",
       "version_major": 2,
       "version_minor": 0
      },
      "text/plain": [
       "Drawing 1000 posterior samples:   0%|          | 0/1000 [00:00<?, ?it/s]"
      ]
     },
     "metadata": {},
     "output_type": "display_data"
    },
    {
     "name": "stdout",
     "output_type": "stream",
     "text": [
      "acceptance rate:  0.588\n",
      "acceptance rate:  0.5806363636363636\n",
      "tensor([0.9240, 2.0468, 5.0455, 3.8875, 2.4083, 4.4706, 5.0859, 4.1864, 3.7642,\n",
      "        0.8585, 4.9304, 2.4501, 2.5020, 2.4040, 5.1011])\n",
      "tensor([ 2.9104,  6.3983, 19.6408,  9.3811, 96.2603, 65.4390, 19.6452, 36.6319,\n",
      "        14.5620, 71.5673, 17.6345, 58.4826, 95.7583, 39.1655, 36.7964])\n",
      "tensor([[ 3.,  6., 20., 10., 90., 55., 27., 27.,  4., 70.,  5., 66., 99., 40.,\n",
      "         45.]])\n",
      "tensor([[1., 1., 1., 1., 1., 1., 1., 1., 1., 1., 1., 1., 1., 1., 1.]])\n",
      "tensor([[9.9453e-03, 9.5769e-01, 1.0674e+01, 5.8902e+00, 2.1117e+01, 6.2482e+01,\n",
      "         3.7853e+01, 5.3218e+01, 6.1037e+01, 1.2493e+00, 8.9874e+01, 2.9861e+01,\n",
      "         6.9673e+00, 1.8606e+00, 4.4531e+01]])\n"
     ]
    },
    {
     "data": {
      "application/vnd.jupyter.widget-view+json": {
       "model_id": "132d241e57854127a59c88ef7fce9bbd",
       "version_major": 2,
       "version_minor": 0
      },
      "text/plain": [
       "Drawing 1000 posterior samples:   0%|          | 0/1000 [00:00<?, ?it/s]"
      ]
     },
     "metadata": {},
     "output_type": "display_data"
    },
    {
     "name": "stdout",
     "output_type": "stream",
     "text": [
      "acceptance rate:  0.0\n"
     ]
    },
    {
     "name": "stderr",
     "output_type": "stream",
     "text": [
      "WARNING:root:Drawing samples from posterior to estimate the normalizing\n",
      "                        constant for `log_prob()`. However, only\n",
      "                        0% posterior samples are within the\n",
      "                        prior support. It may take a long time to collect the\n",
      "                        remaining 995 samples.\n",
      "                        Consider interrupting (Ctrl-C) and either basing the\n",
      "                        estimate of the normalizing constant on fewer samples (by\n",
      "                        calling `posterior.leakage_correction(x_o,\n",
      "                        num_rejection_samples=N)`, where `N` is the number of\n",
      "                        samples you want to base the\n",
      "                        estimate on (default N=10000), or not estimating the\n",
      "                        normalizing constant at all\n",
      "                        (`log_prob(..., norm_posterior=False)`. The latter will\n",
      "                        result in an unnormalized `log_prob()`.\n"
     ]
    },
    {
     "name": "stdout",
     "output_type": "stream",
     "text": [
      "acceptance rate:  0.00045454545454545455\n",
      "acceptance rate:  0.0004761904761904762\n",
      "acceptance rate:  0.0003548387096774194\n",
      "acceptance rate:  0.0002926829268292683\n",
      "acceptance rate:  0.0002941176470588235\n",
      "acceptance rate:  0.0002786885245901639\n",
      "acceptance rate:  0.0002957746478873239\n",
      "acceptance rate:  0.0003333333333333333\n",
      "acceptance rate:  0.00035164835164835164\n",
      "acceptance rate:  0.0003564356435643564\n",
      "acceptance rate:  0.00034234234234234234\n",
      "acceptance rate:  0.0003223140495867769\n",
      "acceptance rate:  0.00031297709923664124\n",
      "acceptance rate:  0.00031914893617021275\n",
      "acceptance rate:  0.00031788079470198677\n",
      "acceptance rate:  0.0003229813664596273\n",
      "acceptance rate:  0.0003333333333333333\n",
      "acceptance rate:  0.0003149171270718232\n",
      "acceptance rate:  0.00030890052356020943\n",
      "acceptance rate:  0.00029850746268656717\n",
      "acceptance rate:  0.0003222748815165877\n",
      "acceptance rate:  0.0003167420814479638\n",
      "acceptance rate:  0.00030303030303030303\n",
      "acceptance rate:  0.0002987551867219917\n",
      "acceptance rate:  0.00030278884462151397\n",
      "acceptance rate:  0.0002950191570881226\n",
      "acceptance rate:  0.00030258302583025833\n",
      "acceptance rate:  0.000298932384341637\n",
      "acceptance rate:  0.00029896907216494845\n",
      "acceptance rate:  0.0002956810631229236\n",
      "acceptance rate:  0.000292604501607717\n",
      "acceptance rate:  0.0002959501557632399\n",
      "acceptance rate:  0.0002960725075528701\n",
      "acceptance rate:  0.0003020527859237537\n",
      "acceptance rate:  0.000301994301994302\n",
      "acceptance rate:  0.0003074792243767313\n",
      "acceptance rate:  0.0003045822102425876\n",
      "acceptance rate:  0.00029921259842519685\n",
      "acceptance rate:  0.00029923273657289\n",
      "acceptance rate:  0.0002967581047381546\n",
      "acceptance rate:  0.0002968369829683698\n",
      "acceptance rate:  0.00029453681710213777\n",
      "acceptance rate:  0.0002900232018561485\n",
      "acceptance rate:  0.00029024943310657596\n",
      "acceptance rate:  0.00029711751662971173\n",
      "acceptance rate:  0.0002950108459869848\n",
      "acceptance rate:  0.0002929936305732484\n",
      "acceptance rate:  0.00029313929313929315\n",
      "acceptance rate:  0.00029531568228105906\n",
      "acceptance rate:  0.0003033932135728543\n",
      "acceptance rate:  0.0003033268101761252\n",
      "acceptance rate:  0.0003032629558541267\n",
      "acceptance rate:  0.00030508474576271185\n",
      "acceptance rate:  0.00030683918669131236\n",
      "acceptance rate:  0.00030490018148820325\n",
      "acceptance rate:  0.00030659536541889485\n",
      "acceptance rate:  0.0003064798598949212\n",
      "acceptance rate:  0.0003098106712564544\n",
      "acceptance rate:  0.0003062605752961083\n",
      "acceptance rate:  0.00030615640599001664\n",
      "acceptance rate:  0.0003044189852700491\n",
      "acceptance rate:  0.0003043478260869565\n",
      "acceptance rate:  0.0003074484944532488\n",
      "acceptance rate:  0.00030577223088923557\n",
      "acceptance rate:  0.00030721966205837174\n",
      "acceptance rate:  0.000302571860816944\n",
      "acceptance rate:  0.0003070044709388972\n",
      "acceptance rate:  0.0003054331864904552\n",
      "acceptance rate:  0.00030390738060781476\n",
      "acceptance rate:  0.0003009985734664765\n",
      "acceptance rate:  0.0002981715893108298\n",
      "acceptance rate:  0.0003023578363384189\n",
      "acceptance rate:  0.00030506155950752394\n",
      "acceptance rate:  0.000300944669365722\n",
      "acceptance rate:  0.0003022636484687084\n",
      "acceptance rate:  0.0003022339027595269\n",
      "acceptance rate:  0.00029961089494163427\n",
      "acceptance rate:  0.0003034571062740077\n",
      "acceptance rate:  0.0003072060682680152\n",
      "acceptance rate:  0.00030961298377028715\n",
      "acceptance rate:  0.00031196054254007397\n",
      "acceptance rate:  0.0003118148599269184\n",
      "acceptance rate:  0.0003128760529482551\n",
      "acceptance rate:  0.0003127229488703924\n",
      "acceptance rate:  0.0003102232667450059\n",
      "acceptance rate:  0.00031010452961672473\n",
      "acceptance rate:  0.0003111366245694604\n",
      "acceptance rate:  0.0003087400681044268\n",
      "acceptance rate:  0.00030976430976430977\n",
      "acceptance rate:  0.00030743618201997783\n",
      "acceptance rate:  0.000309549945115258\n",
      "acceptance rate:  0.00030836047774158526\n",
      "acceptance rate:  0.0003061224489795918\n",
      "acceptance rate:  0.000308182784272051\n",
      "acceptance rate:  0.0003080967402733964\n",
      "acceptance rate:  0.00030905306971904266\n",
      "acceptance rate:  0.0003110195674562307\n",
      "acceptance rate:  0.0003129459734964322\n",
      "acceptance rate:  0.00031281533804238145\n",
      "acceptance rate:  0.0003116883116883117\n",
      "acceptance rate:  0.0003105835806132542\n",
      "acceptance rate:  0.00031145935357492654\n",
      "acceptance rate:  0.00030940834141610085\n",
      "acceptance rate:  0.00030835734870317\n",
      "acceptance rate:  0.0003073263558515699\n",
      "acceptance rate:  0.00030914231856738925\n",
      "acceptance rate:  0.00030905695611577964\n",
      "acceptance rate:  0.00030989824236817763\n",
      "acceptance rate:  0.00030980751604033\n",
      "acceptance rate:  0.0003115349682107175\n",
      "acceptance rate:  0.0003105310531053105\n",
      "acceptance rate:  0.0003095450490633363\n",
      "acceptance rate:  0.0003085764809902741\n",
      "acceptance rate:  0.00030762489044697635\n",
      "acceptance rate:  0.00031190269331016505\n",
      "acceptance rate:  0.0003126614987080103\n",
      "acceptance rate:  0.00031426131511528606\n",
      "acceptance rate:  0.00031668077900084675\n",
      "acceptance rate:  0.0003165407220822838\n",
      "acceptance rate:  0.0003139050791007494\n",
      "acceptance rate:  0.00031544178364987613\n",
      "acceptance rate:  0.00031613431613431613\n",
      "acceptance rate:  0.00031519090170593016\n",
      "acceptance rate:  0.00031426269137792105\n",
      "acceptance rate:  0.0003125499600319744\n",
      "acceptance rate:  0.00031165741475019823\n",
      "acceptance rate:  0.00031156569630212433\n",
      "acceptance rate:  0.00030913348946135834\n",
      "acceptance rate:  0.0003075135553834237\n",
      "acceptance rate:  0.0003059185242121445\n",
      "acceptance rate:  0.0003058733790999237\n",
      "acceptance rate:  0.0003065859197577593\n",
      "acceptance rate:  0.00030728775356874533\n",
      "acceptance rate:  0.0003057419835943326\n",
      "acceptance rate:  0.000307920059215396\n",
      "acceptance rate:  0.00030565760470242467\n",
      "acceptance rate:  0.0003063457330415755\n",
      "acceptance rate:  0.00030774800868935555\n",
      "acceptance rate:  0.00031056793673616106\n",
      "acceptance rate:  0.0003112062812276945\n",
      "acceptance rate:  0.0003104181431608788\n",
      "acceptance rate:  0.00030964109781843774\n",
      "acceptance rate:  0.0003123689727463312\n",
      "acceptance rate:  0.000311589174184594\n",
      "acceptance rate:  0.00031013094417643006\n",
      "acceptance rate:  0.00031006160164271046\n",
      "acceptance rate:  0.0003079537729435758\n",
      "acceptance rate:  0.00030790006752194464\n",
      "acceptance rate:  0.0003085177733065057\n",
      "acceptance rate:  0.00030712858094603595\n",
      "acceptance rate:  0.00030641958967571147\n",
      "acceptance rate:  0.0003057199211045365\n",
      "acceptance rate:  0.00030568256041802746\n",
      "acceptance rate:  0.0003043478260869565\n",
      "acceptance rate:  0.0003056092843326886\n",
      "acceptance rate:  0.00030621396540679054\n",
      "acceptance rate:  0.000305537873965627\n",
      "acceptance rate:  0.00030487033523086656\n",
      "acceptance rate:  0.000305468258956631\n",
      "acceptance rate:  0.00030418488444722047\n",
      "acceptance rate:  0.00030353817504655495\n",
      "acceptance rate:  0.0003016656384947563\n",
      "acceptance rate:  0.00030226854690374003\n",
      "acceptance rate:  0.0003028641072516758\n",
      "acceptance rate:  0.000304663840096911\n",
      "acceptance rate:  0.0003058398555087297\n",
      "acceptance rate:  0.00030580490724117294\n",
      "acceptance rate:  0.00030517549077929804\n",
      "acceptance rate:  0.00030455351862803076\n",
      "acceptance rate:  0.0003027630805408583\n",
      "acceptance rate:  0.0003033313851548802\n",
      "acceptance rate:  0.00030156885531667637\n",
      "acceptance rate:  0.00030155979202772966\n",
      "acceptance rate:  0.0003032739804709937\n",
      "acceptance rate:  0.0003038263849229012\n",
      "acceptance rate:  0.0003049403747870528\n",
      "acceptance rate:  0.0003049124788255223\n",
      "acceptance rate:  0.0003054463784390792\n",
      "acceptance rate:  0.00030429927414852035\n",
      "acceptance rate:  0.000303164908384231\n",
      "acceptance rate:  0.00030204307012700164\n",
      "acceptance rate:  0.0003042284459088413\n",
      "acceptance rate:  0.000304205352266521\n",
      "acceptance rate:  0.0003030961434003259\n",
      "acceptance rate:  0.00030199891950297137\n",
      "acceptance rate:  0.0003014508328855454\n",
      "acceptance rate:  0.0003009086050240513\n",
      "acceptance rate:  0.0003019670388091441\n",
      "acceptance rate:  0.00030142781597038604\n",
      "acceptance rate:  0.0003014203051025776\n",
      "acceptance rate:  0.0003029827315541601\n",
      "acceptance rate:  0.0003029672045809474\n",
      "acceptance rate:  0.0003013982392542724\n",
      "acceptance rate:  0.00030087583719732094\n",
      "acceptance rate:  0.0003024090210148642\n",
      "acceptance rate:  0.0003044365119836818\n",
      "acceptance rate:  0.00030339928970065955\n",
      "acceptance rate:  0.0003043917213528521\n",
      "acceptance rate:  0.0003043696634856856\n",
      "acceptance rate:  0.0003068465767116442\n",
      "acceptance rate:  0.0003092988562904028\n",
      "acceptance rate:  0.0003082632360217714\n",
      "acceptance rate:  0.00030773018217626787\n",
      "acceptance rate:  0.0003076923076923077\n",
      "acceptance rate:  0.0003066796684544125\n",
      "acceptance rate:  0.0003061620572537603\n"
     ]
    },
    {
     "name": "stdout",
     "output_type": "stream",
     "text": [
      "acceptance rate:  0.0003080637373249638\n",
      "acceptance rate:  0.00030850552618933206\n",
      "acceptance rate:  0.0003094213295074127\n",
      "acceptance rate:  0.0003098524512137078\n",
      "acceptance rate:  0.00030980577925153956\n",
      "acceptance rate:  0.00030881659594530884\n",
      "acceptance rate:  0.00030830595964335993\n",
      "acceptance rate:  0.0003087342363381597\n",
      "acceptance rate:  0.0003082287308228731\n",
      "acceptance rate:  0.0003081906524757057\n",
      "acceptance rate:  0.0003067710732381391\n",
      "acceptance rate:  0.0003081155433287483\n",
      "acceptance rate:  0.0003076220903696942\n",
      "acceptance rate:  0.0003089504770558837\n",
      "acceptance rate:  0.00030890999547715964\n",
      "acceptance rate:  0.0003088698784331382\n",
      "acceptance rate:  0.0003092783505154639\n",
      "acceptance rate:  0.00030968317715305665\n",
      "acceptance rate:  0.000308751665926255\n",
      "acceptance rate:  0.0003082706766917293\n",
      "acceptance rate:  0.00030867459269044473\n",
      "acceptance rate:  0.00030819815870232356\n",
      "acceptance rate:  0.00030816237450894806\n",
      "acceptance rate:  0.0003081269013472403\n",
      "acceptance rate:  0.00030809173517957594\n",
      "acceptance rate:  0.0003076260232658337\n",
      "acceptance rate:  0.0003088803088803089\n",
      "acceptance rate:  0.0003079880392994447\n",
      "acceptance rate:  0.00030752871118672903\n",
      "acceptance rate:  0.00030792037272342227\n",
      "acceptance rate:  0.0003070434415858288\n",
      "acceptance rate:  0.00030659386812263755\n",
      "acceptance rate:  0.00030740276035131747\n",
      "acceptance rate:  0.0003065389421074552\n",
      "acceptance rate:  0.00030858564910825386\n",
      "acceptance rate:  0.0003081371334159438\n",
      "acceptance rate:  0.0003097490744549568\n",
      "acceptance rate:  0.00030929946743138057\n",
      "acceptance rate:  0.00030926152590779276\n",
      "acceptance rate:  0.0003112555871596912\n",
      "acceptance rate:  0.000311210036422501\n",
      "acceptance rate:  0.0003119709794437727\n",
      "acceptance rate:  0.0003119229225210759\n",
      "acceptance rate:  0.0003122750899640144\n",
      "acceptance rate:  0.0003118279569892473\n",
      "acceptance rate:  0.0003121777072590242\n",
      "acceptance rate:  0.00031291979454760966\n",
      "acceptance rate:  0.0003124754033844943\n",
      "acceptance rate:  0.00031203449627597023\n",
      "acceptance rate:  0.0003119875048809059\n",
      "acceptance rate:  0.0003119408790353948\n",
      "acceptance rate:  0.00031305695466873304\n",
      "acceptance rate:  0.0003122346584330374\n",
      "acceptance rate:  0.0003121876201460977\n",
      "acceptance rate:  0.0003129069322098813\n",
      "acceptance rate:  0.0003132392216711179\n",
      "acceptance rate:  0.00031242873432155073\n",
      "acceptance rate:  0.00031313896251419917\n",
      "acceptance rate:  0.0003130894002263297\n",
      "acceptance rate:  0.00031266441187523486\n",
      "acceptance rate:  0.0003126169973792587\n",
      "acceptance rate:  0.00031256993659082433\n",
      "acceptance rate:  0.0003121516164994426\n",
      "acceptance rate:  0.00031321732691595705\n",
      "acceptance rate:  0.0003127997049059388\n",
      "acceptance rate:  0.0003120176405733186\n",
      "acceptance rate:  0.00031197363603075796\n",
      "acceptance rate:  0.00031302444363371035\n",
      "acceptance rate:  0.00031261359505634317\n",
      "acceptance rate:  0.0003118435349511047\n",
      "acceptance rate:  0.0003128834355828221\n",
      "acceptance rate:  0.000313915857605178\n",
      "acceptance rate:  0.00031458258688642064\n",
      "acceptance rate:  0.0003138164941092467\n",
      "acceptance rate:  0.00031412308786908573\n",
      "acceptance rate:  0.000315490960652251\n",
      "acceptance rate:  0.00031508300953726596\n",
      "acceptance rate:  0.0003146779303062302\n",
      "acceptance rate:  0.00031357418449666784\n",
      "acceptance rate:  0.00031352673890248163\n",
      "acceptance rate:  0.0003138279345175897\n",
      "acceptance rate:  0.0003130857341200972\n",
      "acceptance rate:  0.000313732272570045\n",
      "acceptance rate:  0.0003129955187866253\n",
      "acceptance rate:  0.0003122638268636208\n",
      "acceptance rate:  0.000312221841834988\n",
      "acceptance rate:  0.0003132036847492323\n",
      "acceptance rate:  0.0003124787487249235\n",
      "acceptance rate:  0.00031175872585564217\n",
      "acceptance rate:  0.0003120567375886525\n",
      "acceptance rate:  0.00031167956916863007\n",
      "acceptance rate:  0.0003106340154310634\n",
      "acceptance rate:  0.0003095954530257439\n",
      "acceptance rate:  0.0003088970343218927\n",
      "acceptance rate:  0.00030853537030886747\n",
      "acceptance rate:  0.0003081761006289308\n",
      "acceptance rate:  0.0003084790498185417\n",
      "acceptance rate:  0.0003091088457744163\n",
      "acceptance rate:  0.000309406751884628\n",
      "acceptance rate:  0.0003106827834041163\n",
      "acceptance rate:  0.00031064799739498534\n",
      "acceptance rate:  0.00031028886725089255\n",
      "acceptance rate:  0.0003096085409252669\n",
      "acceptance rate:  0.0003102225088681071\n",
      "acceptance rate:  0.0003101896496303439\n",
      "acceptance rate:  0.00030951618071131047\n",
      "acceptance rate:  0.0003098051740657937\n",
      "acceptance rate:  0.00030913721744667305\n",
      "acceptance rate:  0.0003084735004760393\n",
      "acceptance rate:  0.00030813033850047455\n",
      "acceptance rate:  0.00030842005676442764\n",
      "acceptance rate:  0.00030839358692235145\n",
      "acceptance rate:  0.00031024757129426514\n",
      "acceptance rate:  0.0003105279600124961\n",
      "acceptance rate:  0.00031018374338212393\n",
      "acceptance rate:  0.00031015212666873643\n",
      "acceptance rate:  0.0003107397090683999\n"
     ]
    },
    {
     "data": {
      "application/vnd.jupyter.widget-view+json": {
       "model_id": "81ae1c941f9242f2bff9faf18a64692a",
       "version_major": 2,
       "version_minor": 0
      },
      "text/plain": [
       "Drawing 1000 posterior samples:   0%|          | 0/1000 [00:00<?, ?it/s]"
      ]
     },
     "metadata": {},
     "output_type": "display_data"
    },
    {
     "name": "stdout",
     "output_type": "stream",
     "text": [
      "acceptance rate:  0.001\n"
     ]
    },
    {
     "name": "stderr",
     "output_type": "stream",
     "text": [
      "WARNING:root:Drawing samples from posterior to estimate the normalizing\n",
      "                        constant for `log_prob()`. However, only\n",
      "                        0% posterior samples are within the\n",
      "                        prior support. It may take a long time to collect the\n",
      "                        remaining 997 samples.\n",
      "                        Consider interrupting (Ctrl-C) and either basing the\n",
      "                        estimate of the normalizing constant on fewer samples (by\n",
      "                        calling `posterior.leakage_correction(x_o,\n",
      "                        num_rejection_samples=N)`, where `N` is the number of\n",
      "                        samples you want to base the\n",
      "                        estimate on (default N=10000), or not estimating the\n",
      "                        normalizing constant at all\n",
      "                        (`log_prob(..., norm_posterior=False)`. The latter will\n",
      "                        result in an unnormalized `log_prob()`.\n"
     ]
    },
    {
     "name": "stdout",
     "output_type": "stream",
     "text": [
      "acceptance rate:  0.00027272727272727274\n",
      "acceptance rate:  0.0004761904761904762\n",
      "acceptance rate:  0.0005161290322580645\n",
      "acceptance rate:  0.0005121951219512195\n",
      "acceptance rate:  0.00047058823529411766\n",
      "acceptance rate:  0.0005245901639344263\n",
      "acceptance rate:  0.0004788732394366197\n",
      "acceptance rate:  0.0004691358024691358\n",
      "acceptance rate:  0.00043956043956043956\n",
      "acceptance rate:  0.00044554455445544556\n",
      "acceptance rate:  0.0004684684684684685\n",
      "acceptance rate:  0.0004462809917355372\n",
      "acceptance rate:  0.00044274809160305345\n",
      "acceptance rate:  0.00041134751773049644\n",
      "acceptance rate:  0.00038410596026490067\n",
      "acceptance rate:  0.0003664596273291925\n",
      "acceptance rate:  0.0003450292397660819\n",
      "acceptance rate:  0.00034806629834254144\n",
      "acceptance rate:  0.00035078534031413613\n",
      "acceptance rate:  0.00035323383084577114\n",
      "acceptance rate:  0.00036018957345971566\n",
      "acceptance rate:  0.0003665158371040724\n",
      "acceptance rate:  0.0003636363636363636\n",
      "acceptance rate:  0.0003651452282157676\n",
      "acceptance rate:  0.00036254980079681275\n",
      "acceptance rate:  0.00036398467432950194\n",
      "acceptance rate:  0.00036900369003690036\n",
      "acceptance rate:  0.00037366548042704626\n",
      "acceptance rate:  0.00037457044673539516\n",
      "acceptance rate:  0.0003754152823920266\n",
      "acceptance rate:  0.0003697749196141479\n",
      "acceptance rate:  0.0003707165109034268\n",
      "acceptance rate:  0.00036253776435045317\n",
      "acceptance rate:  0.00036656891495601173\n",
      "acceptance rate:  0.00036467236467236465\n",
      "acceptance rate:  0.00037119113573407203\n",
      "acceptance rate:  0.00037466307277628035\n",
      "acceptance rate:  0.0003700787401574803\n",
      "acceptance rate:  0.000370843989769821\n",
      "acceptance rate:  0.00036907730673316707\n",
      "acceptance rate:  0.000364963503649635\n",
      "acceptance rate:  0.0003657957244655582\n",
      "acceptance rate:  0.0003642691415313225\n",
      "acceptance rate:  0.0003650793650793651\n",
      "acceptance rate:  0.00035920177383592017\n",
      "acceptance rate:  0.00036225596529284167\n",
      "acceptance rate:  0.00036093418259023355\n",
      "acceptance rate:  0.00036174636174636174\n",
      "acceptance rate:  0.00037270875763747454\n",
      "acceptance rate:  0.0003732534930139721\n",
      "acceptance rate:  0.00037181996086105675\n",
      "acceptance rate:  0.0003646833013435701\n",
      "acceptance rate:  0.00036346516007532956\n",
      "acceptance rate:  0.00035859519408502774\n",
      "acceptance rate:  0.00035934664246823955\n",
      "acceptance rate:  0.00035650623885918\n",
      "acceptance rate:  0.0003572679509632224\n",
      "acceptance rate:  0.00035800344234079173\n",
      "acceptance rate:  0.00035702199661590526\n",
      "acceptance rate:  0.0003627287853577371\n",
      "acceptance rate:  0.0003633387888707038\n",
      "acceptance rate:  0.00036231884057971015\n",
      "acceptance rate:  0.0003613312202852615\n",
      "acceptance rate:  0.00036193447737909514\n",
      "acceptance rate:  0.0003563748079877112\n",
      "acceptance rate:  0.0003570347957639939\n",
      "acceptance rate:  0.0003561847988077496\n",
      "acceptance rate:  0.0003568281938325991\n",
      "acceptance rate:  0.0003545586107091172\n",
      "acceptance rate:  0.0003495007132667618\n",
      "acceptance rate:  0.00034739803094233475\n",
      "acceptance rate:  0.0003439667128987517\n",
      "acceptance rate:  0.000347469220246238\n",
      "acceptance rate:  0.00034547908232118756\n",
      "acceptance rate:  0.00034354194407456727\n",
      "acceptance rate:  0.0003442838370565046\n",
      "acceptance rate:  0.0003437094682230869\n",
      "acceptance rate:  0.00034571062740076827\n",
      "acceptance rate:  0.0003501896333754741\n",
      "acceptance rate:  0.00034956304619225965\n",
      "acceptance rate:  0.0003501849568434032\n",
      "acceptance rate:  0.0003520097442143727\n",
      "acceptance rate:  0.0003489771359807461\n",
      "acceptance rate:  0.00034839476813317477\n",
      "acceptance rate:  0.00035017626321974147\n",
      "acceptance rate:  0.00034727061556329847\n",
      "acceptance rate:  0.0003478760045924225\n",
      "acceptance rate:  0.0003473325766174801\n",
      "acceptance rate:  0.000345679012345679\n",
      "acceptance rate:  0.00034406215316315204\n",
      "acceptance rate:  0.0003424807903402854\n",
      "acceptance rate:  0.0003463626492942454\n",
      "acceptance rate:  0.0003480128893662728\n",
      "acceptance rate:  0.00034856535600425077\n",
      "acceptance rate:  0.0003470031545741325\n",
      "acceptance rate:  0.00034547346514047866\n",
      "acceptance rate:  0.000345005149330587\n",
      "acceptance rate:  0.0003414882772680938\n",
      "acceptance rate:  0.00034207870837537843\n",
      "acceptance rate:  0.00034365634365634363\n",
      "acceptance rate:  0.00034124629080118697\n",
      "acceptance rate:  0.00033888344760039176\n",
      "acceptance rate:  0.00033947623666343355\n",
      "acceptance rate:  0.0003390970220941403\n",
      "acceptance rate:  0.00033872502378686967\n",
      "acceptance rate:  0.0003355325164938737\n",
      "acceptance rate:  0.00033520074696545283\n",
      "acceptance rate:  0.0003348751156336725\n",
      "acceptance rate:  0.00033547204399633367\n",
      "acceptance rate:  0.0003369663941871026\n",
      "acceptance rate:  0.00033933393339333933\n",
      "acceptance rate:  0.00034255129348795716\n",
      "acceptance rate:  0.00034305923961096377\n",
      "acceptance rate:  0.0003444347063978966\n",
      "acceptance rate:  0.0003423110338835795\n",
      "acceptance rate:  0.00034539190353143843\n",
      "acceptance rate:  0.0003458582408198121\n",
      "acceptance rate:  0.00034801016088060967\n",
      "acceptance rate:  0.00034676742233417295\n",
      "acceptance rate:  0.00034637801831806825\n",
      "acceptance rate:  0.0003435177539223782\n",
      "acceptance rate:  0.0003407043407043407\n",
      "acceptance rate:  0.0003419983753046304\n",
      "acceptance rate:  0.00034246575342465754\n",
      "acceptance rate:  0.00034452438049560353\n",
      "acceptance rate:  0.0003425852498017446\n",
      "acceptance rate:  0.0003453973249409913\n",
      "acceptance rate:  0.0003434816549570648\n",
      "acceptance rate:  0.00034159566227730443\n",
      "acceptance rate:  0.0003428132205995388\n",
      "acceptance rate:  0.00034324942791762013\n",
      "acceptance rate:  0.0003421650264950795\n",
      "acceptance rate:  0.00034184823441021786\n",
      "acceptance rate:  0.0003422818791946309\n",
      "acceptance rate:  0.0003419689119170984\n",
      "acceptance rate:  0.00034313005143277\n",
      "acceptance rate:  0.0003428154631655726\n",
      "acceptance rate:  0.0003454018826937002\n",
      "acceptance rate:  0.00034579439252336447\n",
      "acceptance rate:  0.00034618129907209135\n",
      "acceptance rate:  0.00034514528703047484\n",
      "acceptance rate:  0.00034553131597466575\n",
      "acceptance rate:  0.00034730957372466805\n",
      "acceptance rate:  0.000347675225537821\n",
      "acceptance rate:  0.0003480358373535493\n",
      "acceptance rate:  0.00034702258726899385\n",
      "acceptance rate:  0.0003460231135282121\n",
      "acceptance rate:  0.00034908845374746793\n",
      "acceptance rate:  0.00034808853118712275\n",
      "acceptance rate:  0.00034776815456362425\n",
      "acceptance rate:  0.0003461283917935142\n",
      "acceptance rate:  0.00034516765285996055\n",
      "acceptance rate:  0.0003474853037230568\n",
      "acceptance rate:  0.00034652822842310186\n",
      "acceptance rate:  0.00034622823984526113\n",
      "acceptance rate:  0.0003452914798206278\n",
      "acceptance rate:  0.00034436664544875876\n",
      "acceptance rate:  0.00034598355471220744\n",
      "acceptance rate:  0.00034506599622878694\n",
      "acceptance rate:  0.00034540911930043723\n",
      "acceptance rate:  0.00034636871508379887\n",
      "acceptance rate:  0.0003479333744602097\n",
      "acceptance rate:  0.00034886572654813\n",
      "acceptance rate:  0.00035161486898232787\n",
      "acceptance rate:  0.0003506965475469412\n",
      "acceptance rate:  0.0003521974714027694\n",
      "acceptance rate:  0.0003518850987432675\n",
      "acceptance rate:  0.00035098155859607374\n",
      "acceptance rate:  0.0003524541691306919\n",
      "acceptance rate:  0.0003527336860670194\n",
      "acceptance rate:  0.00035300993571011106\n",
      "acceptance rate:  0.0003521208599651366\n",
      "acceptance rate:  0.00035066435586366264\n",
      "acceptance rate:  0.000350373348650201\n",
      "acceptance rate:  0.00035179897201599087\n",
      "acceptance rate:  0.00035264054514480407\n",
      "acceptance rate:  0.0003517786561264822\n",
      "acceptance rate:  0.0003503649635036496\n",
      "acceptance rate:  0.0003489670575097711\n",
      "acceptance rate:  0.0003475846751804553\n",
      "acceptance rate:  0.00034787410270568746\n",
      "acceptance rate:  0.00034651290499725427\n",
      "acceptance rate:  0.00034680502457673404\n",
      "acceptance rate:  0.0003454644215100489\n",
      "acceptance rate:  0.000346839546191248\n",
      "acceptance rate:  0.00034873723804406233\n",
      "acceptance rate:  0.0003506146445750935\n",
      "acceptance rate:  0.0003503455608718767\n",
      "acceptance rate:  0.00035219460602855634\n",
      "acceptance rate:  0.00035192004208311415\n",
      "acceptance rate:  0.00035164835164835164\n",
      "acceptance rate:  0.0003508589276418532\n",
      "acceptance rate:  0.00035059554634904195\n",
      "acceptance rate:  0.0003508500772797527\n",
      "acceptance rate:  0.00035058944131214763\n",
      "acceptance rate:  0.00034931157572667005\n",
      "acceptance rate:  0.00034906139015728057\n",
      "acceptance rate:  0.00034881373043917216\n",
      "acceptance rate:  0.00034907081868407836\n",
      "acceptance rate:  0.0003498250874562719\n",
      "acceptance rate:  0.00035007458975634014\n",
      "acceptance rate:  0.00035032162295893125\n",
      "acceptance rate:  0.0003505662235352043\n",
      "acceptance rate:  0.00035178833904948555\n",
      "acceptance rate:  0.0003515358361774744\n"
     ]
    },
    {
     "name": "stdout",
     "output_type": "stream",
     "text": [
      "acceptance rate:  0.0003522561863173217\n",
      "acceptance rate:  0.0003520038628681796\n",
      "acceptance rate:  0.00035127342623738586\n",
      "acceptance rate:  0.000351506456241033\n",
      "acceptance rate:  0.000350309376487387\n",
      "acceptance rate:  0.0003510184746565609\n",
      "acceptance rate:  0.00035077793493635076\n",
      "acceptance rate:  0.00035147817925856406\n",
      "acceptance rate:  0.0003521718822979916\n",
      "acceptance rate:  0.00035332403533240353\n",
      "acceptance rate:  0.00035354002776492367\n",
      "acceptance rate:  0.0003546752648549056\n",
      "acceptance rate:  0.00035671710224667585\n",
      "acceptance rate:  0.00035645823824737564\n",
      "acceptance rate:  0.00035620172648796\n",
      "acceptance rate:  0.0003559475350520127\n",
      "acceptance rate:  0.0003561458802341288\n",
      "acceptance rate:  0.00035723890632003585\n",
      "acceptance rate:  0.00035653726015171796\n",
      "acceptance rate:  0.00035628609506885826\n",
      "acceptance rate:  0.000356921716054843\n",
      "acceptance rate:  0.0003562307353588727\n",
      "acceptance rate:  0.0003551074090311267\n",
      "acceptance rate:  0.0003539938891313837\n",
      "acceptance rate:  0.00035375923511516734\n",
      "acceptance rate:  0.00035222847252271746\n",
      "acceptance rate:  0.00035157259801809563\n",
      "acceptance rate:  0.00035306735306735306\n",
      "acceptance rate:  0.00035326783425886375\n",
      "acceptance rate:  0.00035389196086771586\n",
      "acceptance rate:  0.00035451080050825923\n",
      "acceptance rate:  0.0003538591311682834\n",
      "acceptance rate:  0.00035237295254094916\n",
      "acceptance rate:  0.0003521539104976997\n",
      "acceptance rate:  0.00035276967930029154\n",
      "acceptance rate:  0.0003517212774782248\n",
      "acceptance rate:  0.00035150764147046673\n",
      "acceptance rate:  0.00035211846976552857\n",
      "acceptance rate:  0.00035149528881605897\n",
      "acceptance rate:  0.0003516931864545084\n",
      "acceptance rate:  0.0003514831369362048\n",
      "acceptance rate:  0.00035127478753541074\n",
      "acceptance rate:  0.00035106811769447803\n",
      "acceptance rate:  0.00035006021678040945\n",
      "acceptance rate:  0.0003494602159136345\n",
      "acceptance rate:  0.00034966148944643566\n",
      "acceptance rate:  0.00034906783022610076\n",
      "acceptance rate:  0.00034926906361122087\n",
      "acceptance rate:  0.0003482880755608028\n",
      "acceptance rate:  0.00034770678165425324\n",
      "acceptance rate:  0.00034752049980476374\n",
      "acceptance rate:  0.0003469467133411124\n",
      "acceptance rate:  0.0003463773731111972\n",
      "acceptance rate:  0.0003458124276341181\n",
      "acceptance rate:  0.00034640522875816995\n",
      "acceptance rate:  0.00034775947912677135\n",
      "acceptance rate:  0.0003491033956505151\n",
      "acceptance rate:  0.00034929684530596734\n",
      "acceptance rate:  0.00035100340780007573\n",
      "acceptance rate:  0.00035231987929083364\n",
      "acceptance rate:  0.0003528748590755355\n",
      "acceptance rate:  0.00035230250842381133\n",
      "acceptance rate:  0.00035285341290563224\n",
      "acceptance rate:  0.0003519137866963954\n",
      "acceptance rate:  0.00035135135135135135\n",
      "acceptance rate:  0.00035116193286610105\n",
      "acceptance rate:  0.00035170893054024257\n",
      "acceptance rate:  0.00035188575613328453\n",
      "acceptance rate:  0.0003513316307916819\n",
      "acceptance rate:  0.0003507815339876409\n",
      "acceptance rate:  0.0003520463600144875\n",
      "acceptance rate:  0.0003518585348249729\n",
      "acceptance rate:  0.00035095289464221504\n",
      "acceptance rate:  0.0003514869222500896\n",
      "acceptance rate:  0.00035130310603355945\n",
      "acceptance rate:  0.00035040910707933117\n",
      "acceptance rate:  0.0003505848989719957\n",
      "acceptance rate:  0.0003500529848110208\n",
      "acceptance rate:  0.000349172826469553\n",
      "acceptance rate:  0.0003497018589968432\n",
      "acceptance rate:  0.00034882908074099965\n",
      "acceptance rate:  0.0003490073145245559\n",
      "tensor([4.8639, 5.0796, 1.3014, 5.2296, 5.1759, 1.8896, 6.2725, 3.1915, 2.7878,\n",
      "        9.3890, 1.0247, 2.9208, 2.9351, 6.1843, 5.7979])\n",
      "tensor([ 7.9820, 18.1722, 21.8351, 23.5979, 90.9259, 57.1603, 37.1710, 18.0927,\n",
      "         6.4385, 46.1525,  2.2032, 57.4952, 98.3949, 54.2697, 54.0357])\n",
      "tensor([[ 3.,  6., 20., 10., 90., 55., 27., 27.,  4., 70.,  5., 66., 99., 40.,\n",
      "         45.]])\n",
      "tensor([[1., 1., 1., 1., 1., 1., 1., 1., 1., 1., 1., 1., 1., 1., 1.]])\n",
      "tensor([[ 22.1569,  84.8568,   1.7673, 103.9717,  11.6798,   2.9824,  69.0607,\n",
      "          43.1028,   5.3336, 325.6901,   3.9118,  38.8592,   2.9138, 118.6132,\n",
      "          55.3724]])\n"
     ]
    },
    {
     "data": {
      "application/vnd.jupyter.widget-view+json": {
       "model_id": "d68edacadd0049a2ad8ddd249493c193",
       "version_major": 2,
       "version_minor": 0
      },
      "text/plain": [
       "Drawing 1000 posterior samples:   0%|          | 0/1000 [00:00<?, ?it/s]"
      ]
     },
     "metadata": {},
     "output_type": "display_data"
    },
    {
     "name": "stdout",
     "output_type": "stream",
     "text": [
      "acceptance rate:  0.492\n",
      "acceptance rate:  0.46845454545454546\n"
     ]
    },
    {
     "data": {
      "application/vnd.jupyter.widget-view+json": {
       "model_id": "06a656bb539446129fc2d38d65513d68",
       "version_major": 2,
       "version_minor": 0
      },
      "text/plain": [
       "Drawing 1000 posterior samples:   0%|          | 0/1000 [00:00<?, ?it/s]"
      ]
     },
     "metadata": {},
     "output_type": "display_data"
    },
    {
     "name": "stdout",
     "output_type": "stream",
     "text": [
      "acceptance rate:  0.501\n",
      "acceptance rate:  0.4732727272727273\n",
      "tensor([0.7901, 1.3341, 2.4023, 0.3012, 3.4732, 4.3026, 0.7258, 1.1482, 0.2045,\n",
      "        0.6915, 0.6731, 0.6793, 0.9599, 0.6929, 0.9535])\n",
      "tensor([ 2.4610,  5.2679, 20.2783, 10.0261, 91.2731, 55.6586, 25.9404, 28.3119,\n",
      "         5.7504, 68.7695,  5.6660, 64.1510, 98.7108, 38.5837, 45.6881])\n",
      "tensor([[ 3.,  6., 20., 10., 90., 55., 27., 27.,  4., 70.,  5., 66., 99., 40.,\n",
      "         45.]])\n",
      "tensor([[1., 1., 1., 1., 1., 1., 1., 1., 1., 1., 1., 1., 1., 1., 1.]])\n",
      "tensor([[0.1930, 0.3697, 1.5478, 0.7456, 5.0970, 7.5141, 0.6452, 0.8816, 2.6399,\n",
      "         0.8651, 0.3442, 1.8269, 0.0434, 1.1099, 0.2390]])\n"
     ]
    },
    {
     "data": {
      "application/vnd.jupyter.widget-view+json": {
       "model_id": "8915ba3bc85c44078f400c52c8853812",
       "version_major": 2,
       "version_minor": 0
      },
      "text/plain": [
       "Drawing 1000 posterior samples:   0%|          | 0/1000 [00:00<?, ?it/s]"
      ]
     },
     "metadata": {},
     "output_type": "display_data"
    },
    {
     "name": "stdout",
     "output_type": "stream",
     "text": [
      "acceptance rate:  0.024\n",
      "acceptance rate:  0.02109090909090909\n",
      "acceptance rate:  0.019952380952380954\n",
      "acceptance rate:  0.020354838709677418\n",
      "acceptance rate:  0.020219512195121952\n",
      "acceptance rate:  0.020058823529411764\n"
     ]
    },
    {
     "data": {
      "application/vnd.jupyter.widget-view+json": {
       "model_id": "12bcb4d545e84937839c037638e7614c",
       "version_major": 2,
       "version_minor": 0
      },
      "text/plain": [
       "Drawing 1000 posterior samples:   0%|          | 0/1000 [00:00<?, ?it/s]"
      ]
     },
     "metadata": {},
     "output_type": "display_data"
    },
    {
     "name": "stdout",
     "output_type": "stream",
     "text": [
      "acceptance rate:  0.023\n",
      "acceptance rate:  0.018545454545454546\n",
      "acceptance rate:  0.01880952380952381\n",
      "acceptance rate:  0.019548387096774193\n",
      "acceptance rate:  0.019682926829268293\n",
      "acceptance rate:  0.019529411764705882\n",
      "acceptance rate:  0.019327868852459018\n",
      "tensor([ 0.9698,  1.7447,  3.8523,  2.1638,  0.7383,  2.6940,  0.9261,  2.9242,\n",
      "         5.7564,  0.9683,  0.6402,  0.5897,  6.1500,  5.8314, 11.2194])\n",
      "tensor([ 2.3003,  6.0754, 25.2628,  7.9825, 91.1774, 52.4040, 25.1085, 31.4531,\n",
      "        13.6090, 69.5092,  4.4226, 64.6821, 91.2229, 48.9589, 61.0935])\n",
      "tensor([[ 3.,  6., 20., 10., 90., 55., 27., 27.,  4., 70.,  5., 66., 99., 40.,\n",
      "         45.]])\n",
      "tensor([[1., 1., 1., 1., 1., 1., 1., 1., 1., 1., 1., 1., 1., 1., 1.]])\n",
      "tensor([[2.4574e-01, 4.6823e-01, 1.9420e+01, 3.1044e+00, 7.6911e-01, 5.5075e+00,\n",
      "         1.7946e+00, 1.2618e+01, 6.0484e+01, 1.2147e-01, 3.1757e-01, 1.0705e+00,\n",
      "         4.6836e+01, 5.4870e+01, 1.8952e+02]])\n"
     ]
    },
    {
     "data": {
      "application/vnd.jupyter.widget-view+json": {
       "model_id": "79ed7b281a824aecac7b73bcba331a35",
       "version_major": 2,
       "version_minor": 0
      },
      "text/plain": [
       "Drawing 1000 posterior samples:   0%|          | 0/1000 [00:00<?, ?it/s]"
      ]
     },
     "metadata": {},
     "output_type": "display_data"
    },
    {
     "name": "stdout",
     "output_type": "stream",
     "text": [
      "acceptance rate:  0.144\n",
      "acceptance rate:  0.14127272727272727\n"
     ]
    },
    {
     "data": {
      "application/vnd.jupyter.widget-view+json": {
       "model_id": "249a5de42315424aa5da0c0f6bd1fa26",
       "version_major": 2,
       "version_minor": 0
      },
      "text/plain": [
       "Drawing 1000 posterior samples:   0%|          | 0/1000 [00:00<?, ?it/s]"
      ]
     },
     "metadata": {},
     "output_type": "display_data"
    },
    {
     "name": "stdout",
     "output_type": "stream",
     "text": [
      "acceptance rate:  0.149\n",
      "acceptance rate:  0.14554545454545453\n",
      "tensor([ 4.3225,  2.3193,  6.0520,  6.6149,  6.6560,  7.7155, 14.1129,  5.6932,\n",
      "         2.3511,  5.8877,  4.3006,  4.6998, 10.4179,  8.8945,  6.0076])\n",
      "tensor([ 9.4867,  3.9289, 31.7889, 20.0053, 82.5547, 70.3894, 42.4293, 10.7181,\n",
      "         4.1597, 63.2693,  7.2379, 59.8854, 69.8866, 25.2577, 42.5258])\n",
      "tensor([[ 3.,  6., 20., 10., 90., 55., 27., 27.,  4., 70.,  5., 66., 99., 40.,\n",
      "         45.]])\n",
      "tensor([[1., 1., 1., 1., 1., 1., 1., 1., 1., 1., 1., 1., 1., 1., 1.]])\n",
      "tensor([[ 28.4166,   3.4929,  85.5022,  69.5420,  47.4716, 145.6376, 215.4716,\n",
      "         146.5168,   1.4218,  37.7107,   9.7930,  27.6906, 475.2174, 145.5387,\n",
      "          18.8136]])\n"
     ]
    },
    {
     "data": {
      "application/vnd.jupyter.widget-view+json": {
       "model_id": "6a75eb9c484c4df2a96dbdaed9224871",
       "version_major": 2,
       "version_minor": 0
      },
      "text/plain": [
       "Drawing 1000 posterior samples:   0%|          | 0/1000 [00:00<?, ?it/s]"
      ]
     },
     "metadata": {},
     "output_type": "display_data"
    },
    {
     "name": "stdout",
     "output_type": "stream",
     "text": [
      "acceptance rate:  0.109\n",
      "acceptance rate:  0.11663636363636364\n"
     ]
    },
    {
     "data": {
      "application/vnd.jupyter.widget-view+json": {
       "model_id": "e4b3d457415244dba2ad1e186bafa3e8",
       "version_major": 2,
       "version_minor": 0
      },
      "text/plain": [
       "Drawing 1000 posterior samples:   0%|          | 0/1000 [00:00<?, ?it/s]"
      ]
     },
     "metadata": {},
     "output_type": "display_data"
    },
    {
     "name": "stdout",
     "output_type": "stream",
     "text": [
      "acceptance rate:  0.129\n",
      "acceptance rate:  0.11790909090909091\n",
      "tensor([2.2104, 3.5281, 1.8246, 2.6132, 3.0054, 4.1747, 1.0423, 2.1764, 2.1045,\n",
      "        2.3407, 1.6738, 2.0118, 2.3207, 4.4839, 3.6227])\n",
      "tensor([ 5.3784,  7.0772, 17.3026,  5.2950, 86.5557, 50.4550, 26.0604, 24.6413,\n",
      "         4.3330, 72.2325,  3.6886, 63.6192, 97.0486, 47.3926, 40.3420])\n",
      "tensor([[ 3.,  6., 20., 10., 90., 55., 27., 27.,  4., 70.,  5., 66., 99., 40.,\n",
      "         45.]])\n",
      "tensor([[1., 1., 1., 1., 1., 1., 1., 1., 1., 1., 1., 1., 1., 1., 1.]])\n",
      "tensor([[ 3.9780,  5.0431,  4.2012, 13.0225,  8.8473, 17.1137,  0.4432,  3.8724,\n",
      "          1.0258,  3.8811,  1.2457,  3.6587,  3.2549, 35.3775, 15.6232]])\n"
     ]
    },
    {
     "data": {
      "application/vnd.jupyter.widget-view+json": {
       "model_id": "b943aff76cd3480e8894c89cd9155744",
       "version_major": 2,
       "version_minor": 0
      },
      "text/plain": [
       "Drawing 1000 posterior samples:   0%|          | 0/1000 [00:00<?, ?it/s]"
      ]
     },
     "metadata": {},
     "output_type": "display_data"
    },
    {
     "name": "stdout",
     "output_type": "stream",
     "text": [
      "acceptance rate:  0.415\n",
      "acceptance rate:  0.4178181818181818\n"
     ]
    },
    {
     "data": {
      "application/vnd.jupyter.widget-view+json": {
       "model_id": "34b6f3c07e9344ad91c122c0ad10e04b",
       "version_major": 2,
       "version_minor": 0
      },
      "text/plain": [
       "Drawing 1000 posterior samples:   0%|          | 0/1000 [00:00<?, ?it/s]"
      ]
     },
     "metadata": {},
     "output_type": "display_data"
    },
    {
     "name": "stdout",
     "output_type": "stream",
     "text": [
      "acceptance rate:  0.397\n",
      "acceptance rate:  0.41054545454545455\n",
      "tensor([1.8268, 2.2690, 3.1245, 3.3073, 2.5494, 4.2669, 2.6188, 3.8268, 6.7333,\n",
      "        3.5560, 3.4698, 5.8339, 2.0164, 5.4456, 3.3984])\n",
      "tensor([ 4.8139,  4.4802, 23.9513,  7.2579, 94.5004, 48.7256, 21.4132, 19.8387,\n",
      "        16.4951, 75.9505,  8.2416, 68.1476, 97.2950, 48.7288, 50.4110])\n",
      "tensor([[ 3.,  6., 20., 10., 90., 55., 27., 27.,  4., 70.,  5., 66., 99., 40.,\n",
      "         45.]])\n",
      "tensor([[1., 1., 1., 1., 1., 1., 1., 1., 1., 1., 1., 1., 1., 1., 1.]])\n",
      "tensor([[ 2.2111,  2.4097, 11.0483,  7.5326, 11.9406, 26.8363, 17.5725, 31.1220,\n",
      "         98.3254, 22.2585,  9.5296, 17.0595,  2.2853, 50.7287, 18.6910]])\n"
     ]
    },
    {
     "data": {
      "application/vnd.jupyter.widget-view+json": {
       "model_id": "41ac030779034fb8a72e58d7b494ce37",
       "version_major": 2,
       "version_minor": 0
      },
      "text/plain": [
       "Drawing 1000 posterior samples:   0%|          | 0/1000 [00:00<?, ?it/s]"
      ]
     },
     "metadata": {},
     "output_type": "display_data"
    },
    {
     "name": "stdout",
     "output_type": "stream",
     "text": [
      "acceptance rate:  0.006\n",
      "acceptance rate:  0.010272727272727272\n",
      "acceptance rate:  0.010714285714285714\n",
      "acceptance rate:  0.010580645161290323\n",
      "acceptance rate:  0.010390243902439025\n",
      "acceptance rate:  0.010568627450980392\n",
      "acceptance rate:  0.010704918032786885\n",
      "acceptance rate:  0.010957746478873239\n",
      "acceptance rate:  0.011049382716049383\n",
      "acceptance rate:  0.01089010989010989\n",
      "acceptance rate:  0.01086138613861386\n"
     ]
    },
    {
     "data": {
      "application/vnd.jupyter.widget-view+json": {
       "model_id": "788a7451d5d84e7ba7e59a7d11537423",
       "version_major": 2,
       "version_minor": 0
      },
      "text/plain": [
       "Drawing 1000 posterior samples:   0%|          | 0/1000 [00:00<?, ?it/s]"
      ]
     },
     "metadata": {},
     "output_type": "display_data"
    },
    {
     "name": "stdout",
     "output_type": "stream",
     "text": [
      "acceptance rate:  0.013\n",
      "acceptance rate:  0.01090909090909091\n",
      "acceptance rate:  0.01138095238095238\n",
      "acceptance rate:  0.011548387096774193\n",
      "acceptance rate:  0.011390243902439024\n",
      "acceptance rate:  0.01188235294117647\n",
      "acceptance rate:  0.01159016393442623\n",
      "acceptance rate:  0.011408450704225352\n",
      "acceptance rate:  0.011271604938271606\n",
      "acceptance rate:  0.011296703296703297\n",
      "tensor([1.0799, 3.1223, 2.1725, 1.2043, 0.6042, 1.5894, 1.1421, 1.6763, 1.2878,\n",
      "        0.7349, 1.1963, 0.8307, 1.9349, 2.3692, 1.7510])\n",
      "tensor([ 2.6160,  8.1157, 22.5483,  9.4514, 90.6051, 57.7993, 24.2793, 27.5007,\n",
      "         6.7760, 68.7906,  3.3820, 65.1346, 97.1843, 41.1874, 47.1568])\n",
      "tensor([[ 3.,  6., 20., 10., 90., 55., 27., 27.,  4., 70.,  5., 66., 99., 40.,\n",
      "         45.]])\n",
      "tensor([[1., 1., 1., 1., 1., 1., 1., 1., 1., 1., 1., 1., 1., 1., 1.]])\n",
      "tensor([[0.0800, 5.4740, 4.3308, 0.1897, 0.3695, 4.2177, 3.7205, 0.5137, 3.9295,\n",
      "         0.8093, 1.3454, 0.4049, 2.3603, 2.1490, 2.7988]])\n"
     ]
    },
    {
     "data": {
      "application/vnd.jupyter.widget-view+json": {
       "model_id": "eb402f5b21cf4fec89f599d358236cad",
       "version_major": 2,
       "version_minor": 0
      },
      "text/plain": [
       "Drawing 1000 posterior samples:   0%|          | 0/1000 [00:00<?, ?it/s]"
      ]
     },
     "metadata": {},
     "output_type": "display_data"
    },
    {
     "name": "stdout",
     "output_type": "stream",
     "text": [
      "acceptance rate:  0.447\n",
      "acceptance rate:  0.4499090909090909\n"
     ]
    },
    {
     "data": {
      "application/vnd.jupyter.widget-view+json": {
       "model_id": "9a7a1ba899804c2b9c96d07936833813",
       "version_major": 2,
       "version_minor": 0
      },
      "text/plain": [
       "Drawing 1000 posterior samples:   0%|          | 0/1000 [00:00<?, ?it/s]"
      ]
     },
     "metadata": {},
     "output_type": "display_data"
    },
    {
     "name": "stdout",
     "output_type": "stream",
     "text": [
      "acceptance rate:  0.439\n",
      "acceptance rate:  0.4419090909090909\n",
      "tensor([3.5224, 1.2729, 5.1000, 3.5110, 2.3234, 2.1211, 2.8257, 2.9074, 4.0472,\n",
      "        3.3996, 2.6108, 4.7619, 1.8062, 2.5135, 1.9495])\n",
      "tensor([ 7.1556,  6.1830, 18.9988,  8.2584, 96.3687, 54.2016, 26.8735, 22.0459,\n",
      "         8.2668, 69.9159,  5.9111, 60.9739, 97.0065, 38.1294, 47.6601])\n",
      "tensor([[ 3.,  6., 20., 10., 90., 55., 27., 27.,  4., 70.,  5., 66., 99., 40.,\n",
      "         45.]])\n",
      "tensor([[1., 1., 1., 1., 1., 1., 1., 1., 1., 1., 1., 1., 1., 1., 1.]])\n",
      "tensor([[13.0791,  0.0856, 11.3772,  5.9243, 21.6363,  1.3163,  2.4615, 14.9309,\n",
      "         15.3947,  4.0586,  2.3636, 21.9081,  2.5271,  3.4869,  4.2709]])\n"
     ]
    },
    {
     "data": {
      "application/vnd.jupyter.widget-view+json": {
       "model_id": "81570d912a1b48d5ab6cb33df0689cfa",
       "version_major": 2,
       "version_minor": 0
      },
      "text/plain": [
       "Drawing 1000 posterior samples:   0%|          | 0/1000 [00:00<?, ?it/s]"
      ]
     },
     "metadata": {},
     "output_type": "display_data"
    },
    {
     "name": "stdout",
     "output_type": "stream",
     "text": [
      "acceptance rate:  0.983\n",
      "acceptance rate:  0.9834545454545455\n"
     ]
    },
    {
     "data": {
      "application/vnd.jupyter.widget-view+json": {
       "model_id": "0552ef6a6bb24a0bb25876249f501737",
       "version_major": 2,
       "version_minor": 0
      },
      "text/plain": [
       "Drawing 1000 posterior samples:   0%|          | 0/1000 [00:00<?, ?it/s]"
      ]
     },
     "metadata": {},
     "output_type": "display_data"
    },
    {
     "name": "stdout",
     "output_type": "stream",
     "text": [
      "acceptance rate:  0.98\n",
      "acceptance rate:  0.9842727272727273\n",
      "tensor([0.2752, 0.3129, 3.0381, 0.5677, 0.5605, 0.5346, 0.2600, 0.8395, 0.3606,\n",
      "        0.2412, 0.7308, 3.3981, 3.4036, 2.1822, 2.8833])\n",
      "tensor([ 4.1952,  5.0325, 27.7433, 10.8432, 89.8044, 54.9877, 25.3819, 28.8533,\n",
      "         6.2758, 69.4873,  6.2477, 56.6221, 91.7338, 45.0207, 38.6681])\n",
      "tensor([[ 3.,  6., 20., 10., 90., 55., 27., 27.,  4., 70.,  5., 66., 99., 40.,\n",
      "         45.]])\n",
      "tensor([[1., 1., 1., 1., 1., 1., 1., 1., 1., 1., 1., 1., 1., 1., 1.]])\n",
      "tensor([[ 1.5424,  1.1787, 32.9834,  0.5828,  0.2551,  0.2692,  2.1899,  1.7446,\n",
      "          3.1747,  1.0828,  0.8590, 48.0232, 30.4665, 13.7043, 22.6441]])\n"
     ]
    },
    {
     "data": {
      "application/vnd.jupyter.widget-view+json": {
       "model_id": "dc895cec72d0458fba857759a238abc0",
       "version_major": 2,
       "version_minor": 0
      },
      "text/plain": [
       "Drawing 1000 posterior samples:   0%|          | 0/1000 [00:00<?, ?it/s]"
      ]
     },
     "metadata": {},
     "output_type": "display_data"
    },
    {
     "name": "stdout",
     "output_type": "stream",
     "text": [
      "acceptance rate:  0.458\n",
      "acceptance rate:  0.43263636363636365\n"
     ]
    },
    {
     "data": {
      "application/vnd.jupyter.widget-view+json": {
       "model_id": "37f2a116006c4467b017b2354b9d8189",
       "version_major": 2,
       "version_minor": 0
      },
      "text/plain": [
       "Drawing 1000 posterior samples:   0%|          | 0/1000 [00:00<?, ?it/s]"
      ]
     },
     "metadata": {},
     "output_type": "display_data"
    },
    {
     "name": "stdout",
     "output_type": "stream",
     "text": [
      "acceptance rate:  0.437\n",
      "acceptance rate:  0.4268181818181818\n",
      "tensor([ 4.2321, 11.1514,  4.4993,  3.9807, 12.2115,  4.2665,  8.9864,  8.7417,\n",
      "        13.2671,  7.4649,  8.8448, 10.2627,  7.2146,  7.4437,  7.6375])\n",
      "tensor([ 8.5409, 41.9959, 25.5405,  6.2400, 51.6660, 73.5827, 23.4392, 45.1893,\n",
      "        42.3155, 87.9780, 19.6498, 49.4664, 84.4526, 27.5706, 63.0700])\n",
      "tensor([[ 3.,  6., 20., 10., 90., 55., 27., 27.,  4., 70.,  5., 66., 99., 40.,\n",
      "         45.]])\n",
      "tensor([[1., 1., 1., 1., 1., 1., 1., 1., 1., 1., 1., 1., 1., 1., 1.]])\n",
      "tensor([[ 22.3632, 707.1189,  23.4662,  13.1102, 806.3044, 179.8095,  44.0219,\n",
      "         200.9659, 818.9623, 186.9562, 143.7435, 186.5122, 129.3629, 102.4415,\n",
      "         189.8946]])\n"
     ]
    },
    {
     "data": {
      "application/vnd.jupyter.widget-view+json": {
       "model_id": "87a339b107f24dca82775c35027e6f77",
       "version_major": 2,
       "version_minor": 0
      },
      "text/plain": [
       "Drawing 1000 posterior samples:   0%|          | 0/1000 [00:00<?, ?it/s]"
      ]
     },
     "metadata": {},
     "output_type": "display_data"
    },
    {
     "name": "stdout",
     "output_type": "stream",
     "text": [
      "acceptance rate:  0.048\n",
      "acceptance rate:  0.05454545454545454\n",
      "acceptance rate:  0.05452380952380952\n"
     ]
    },
    {
     "data": {
      "application/vnd.jupyter.widget-view+json": {
       "model_id": "0eb02f2892974fd2a5297f03e7e580bc",
       "version_major": 2,
       "version_minor": 0
      },
      "text/plain": [
       "Drawing 1000 posterior samples:   0%|          | 0/1000 [00:00<?, ?it/s]"
      ]
     },
     "metadata": {},
     "output_type": "display_data"
    },
    {
     "name": "stdout",
     "output_type": "stream",
     "text": [
      "acceptance rate:  0.063\n",
      "acceptance rate:  0.054636363636363636\n",
      "acceptance rate:  0.05128571428571429\n",
      "tensor([1.0320, 2.9674, 4.1796, 4.3907, 8.0226, 3.0578, 4.1910, 1.6711, 2.0548,\n",
      "        4.7878, 2.2143, 4.3868, 1.4176, 6.0179, 3.4970])\n",
      "tensor([ 2.2668,  5.2997, 27.4387, 10.0963, 72.3341, 62.4849, 14.3664, 29.9932,\n",
      "         3.9238, 69.3597,  6.2298, 71.2914, 97.8955, 40.4924, 53.0868])\n",
      "tensor([[ 3.,  6., 20., 10., 90., 55., 27., 27.,  4., 70.,  5., 66., 99., 40.,\n",
      "         45.]])\n",
      "tensor([[1., 1., 1., 1., 1., 1., 1., 1., 1., 1., 1., 1., 1., 1., 1.]])\n",
      "tensor([[  0.2698,   3.0602,  34.4713,   7.6641, 185.6413,  31.0693,  86.6530,\n",
      "           4.8625,   0.8939,   9.6007,   1.9127,  21.6430,   0.7658,  15.9340,\n",
      "          37.0610]])\n"
     ]
    },
    {
     "data": {
      "application/vnd.jupyter.widget-view+json": {
       "model_id": "d1f513e4c8fe44ee9d65938e3c172867",
       "version_major": 2,
       "version_minor": 0
      },
      "text/plain": [
       "Drawing 1000 posterior samples:   0%|          | 0/1000 [00:00<?, ?it/s]"
      ]
     },
     "metadata": {},
     "output_type": "display_data"
    },
    {
     "name": "stdout",
     "output_type": "stream",
     "text": [
      "acceptance rate:  0.477\n",
      "acceptance rate:  0.46945454545454546\n"
     ]
    },
    {
     "data": {
      "application/vnd.jupyter.widget-view+json": {
       "model_id": "bacfebfed70644a99b4abf057cd8d34d",
       "version_major": 2,
       "version_minor": 0
      },
      "text/plain": [
       "Drawing 1000 posterior samples:   0%|          | 0/1000 [00:00<?, ?it/s]"
      ]
     },
     "metadata": {},
     "output_type": "display_data"
    },
    {
     "name": "stdout",
     "output_type": "stream",
     "text": [
      "acceptance rate:  0.47\n",
      "acceptance rate:  0.47145454545454546\n",
      "tensor([2.0852, 1.9476, 2.4245, 2.5762, 1.8008, 2.4698, 1.7109, 2.8807, 4.2668,\n",
      "        2.7175, 1.7262, 2.9376, 1.4134, 3.2797, 2.2265])\n",
      "tensor([ 4.2083,  6.4713, 18.0255,  4.7342, 91.1502, 54.7925, 25.9207, 28.0752,\n",
      "        12.0826, 72.4048,  4.5936, 59.5117, 97.6020, 34.9329, 49.7008])\n",
      "tensor([[ 3.,  6., 20., 10., 90., 55., 27., 27.,  4., 70.,  5., 66., 99., 40.,\n",
      "         45.]])\n",
      "tensor([[1., 1., 1., 1., 1., 1., 1., 1., 1., 1., 1., 1., 1., 1., 1.]])\n",
      "tensor([[ 1.6692,  0.8410,  3.5028, 15.7362,  1.1948,  1.6673,  1.0090,  3.1691,\n",
      "         39.8165,  5.0842,  0.5265, 23.7863,  1.1300, 16.5280, 12.2270]])\n"
     ]
    },
    {
     "data": {
      "application/vnd.jupyter.widget-view+json": {
       "model_id": "a11736f634f64c5a9b1d260bace07fa8",
       "version_major": 2,
       "version_minor": 0
      },
      "text/plain": [
       "Drawing 1000 posterior samples:   0%|          | 0/1000 [00:00<?, ?it/s]"
      ]
     },
     "metadata": {},
     "output_type": "display_data"
    },
    {
     "name": "stdout",
     "output_type": "stream",
     "text": [
      "acceptance rate:  0.487\n",
      "acceptance rate:  0.47363636363636363\n"
     ]
    },
    {
     "data": {
      "application/vnd.jupyter.widget-view+json": {
       "model_id": "073b887bc4144f719a1b0c7da79deb99",
       "version_major": 2,
       "version_minor": 0
      },
      "text/plain": [
       "Drawing 1000 posterior samples:   0%|          | 0/1000 [00:00<?, ?it/s]"
      ]
     },
     "metadata": {},
     "output_type": "display_data"
    },
    {
     "name": "stdout",
     "output_type": "stream",
     "text": [
      "acceptance rate:  0.488\n",
      "acceptance rate:  0.47963636363636364\n",
      "tensor([2.3493, 5.3299, 6.1068, 3.9762, 4.4772, 4.5508, 4.3157, 3.4543, 4.5883,\n",
      "        5.7420, 3.7655, 1.7856, 4.1140, 6.5007, 1.8647])\n",
      "tensor([ 8.5851, 16.5919, 13.5285,  6.6463, 78.7819, 64.0603, 11.6430, 28.4453,\n",
      "         9.2691, 87.2319,  9.4280, 62.6761, 90.0501, 34.0687, 44.5439])\n",
      "tensor([[ 3.,  6., 20., 10., 90., 55., 27., 27.,  4., 70.,  5., 66., 99., 40.,\n",
      "         45.]])\n",
      "tensor([[1., 1., 1., 1., 1., 1., 1., 1., 1., 1., 1., 1., 1., 1., 1.]])\n",
      "tensor([[ 17.0022,  68.1245,  37.2771,  11.6482,  70.9468,  49.3839, 125.2690,\n",
      "           5.2709,  22.3841, 162.7062,  15.0673,   6.0385,  46.5986,  36.3480,\n",
      "           0.7195]])\n"
     ]
    },
    {
     "data": {
      "application/vnd.jupyter.widget-view+json": {
       "model_id": "0499f25be6944310819838ed31b9989d",
       "version_major": 2,
       "version_minor": 0
      },
      "text/plain": [
       "Drawing 1000 posterior samples:   0%|          | 0/1000 [00:00<?, ?it/s]"
      ]
     },
     "metadata": {},
     "output_type": "display_data"
    },
    {
     "name": "stdout",
     "output_type": "stream",
     "text": [
      "acceptance rate:  0.411\n",
      "acceptance rate:  0.4100909090909091\n"
     ]
    },
    {
     "data": {
      "application/vnd.jupyter.widget-view+json": {
       "model_id": "809dbc17797d4c8fbcd425060d94ba22",
       "version_major": 2,
       "version_minor": 0
      },
      "text/plain": [
       "Drawing 1000 posterior samples:   0%|          | 0/1000 [00:00<?, ?it/s]"
      ]
     },
     "metadata": {},
     "output_type": "display_data"
    },
    {
     "name": "stdout",
     "output_type": "stream",
     "text": [
      "acceptance rate:  0.438\n",
      "acceptance rate:  0.4087272727272727\n",
      "tensor([1.2294, 1.2221, 2.0624, 2.2795, 1.6685, 2.2326, 4.3050, 1.5945, 0.6794,\n",
      "        0.7414, 0.8732, 1.7598, 1.9549, 1.9911, 6.7286])\n",
      "tensor([ 5.2343,  2.6742, 21.2019,  8.3568, 93.4231, 55.6190, 21.4685, 28.0307,\n",
      "         5.9015, 69.5948,  4.5486, 66.6295, 97.3358, 37.1372, 37.2511])\n",
      "tensor([[ 3.,  6., 20., 10., 90., 55., 27., 27.,  4., 70.,  5., 66., 99., 40.,\n",
      "         45.]])\n",
      "tensor([[1., 1., 1., 1., 1., 1., 1., 1., 1., 1., 1., 1., 1., 1., 1.]])\n",
      "tensor([[ 2.5453,  5.5766,  1.6251,  2.6241,  6.2387,  1.3807, 22.6055,  0.8358,\n",
      "          1.9251,  0.1561,  0.1187,  0.6814,  2.1254,  4.8914, 50.2532]])\n"
     ]
    },
    {
     "data": {
      "application/vnd.jupyter.widget-view+json": {
       "model_id": "dc344384232e4f64b0ff35d608000b4a",
       "version_major": 2,
       "version_minor": 0
      },
      "text/plain": [
       "Drawing 1000 posterior samples:   0%|          | 0/1000 [00:00<?, ?it/s]"
      ]
     },
     "metadata": {},
     "output_type": "display_data"
    },
    {
     "name": "stdout",
     "output_type": "stream",
     "text": [
      "acceptance rate:  0.055\n",
      "acceptance rate:  0.06381818181818182\n",
      "acceptance rate:  0.0658095238095238\n"
     ]
    },
    {
     "data": {
      "application/vnd.jupyter.widget-view+json": {
       "model_id": "0d56ba190f304679bf7f477f8e90d2e1",
       "version_major": 2,
       "version_minor": 0
      },
      "text/plain": [
       "Drawing 1000 posterior samples:   0%|          | 0/1000 [00:00<?, ?it/s]"
      ]
     },
     "metadata": {},
     "output_type": "display_data"
    },
    {
     "name": "stdout",
     "output_type": "stream",
     "text": [
      "acceptance rate:  0.069\n",
      "acceptance rate:  0.0659090909090909\n",
      "acceptance rate:  0.06528571428571428\n",
      "tensor([ 2.3305,  1.5799,  8.9315,  1.7526,  1.2534,  0.4983,  1.0490,  0.6709,\n",
      "         1.1211,  0.4157,  5.4196, 11.3009,  1.2984,  1.9512, 11.4343])\n",
      "tensor([ 7.1627,  6.4896, 32.4863, 11.6653, 92.3332, 55.6950, 26.5567, 27.4747,\n",
      "         4.0519, 69.8059, 12.2598, 80.5839, 97.6889, 42.2839, 29.5140])\n",
      "tensor([[ 3.,  6., 20., 10., 90., 55., 27., 27.,  4., 70.,  5., 66., 99., 40.,\n",
      "         45.]])\n",
      "tensor([[1., 1., 1., 1., 1., 1., 1., 1., 1., 1., 1., 1., 1., 1., 1.]])\n",
      "tensor([[1.0033e+01, 4.1052e-01, 1.1515e+02, 1.8613e+00, 2.7817e+00, 5.6228e-01,\n",
      "         1.0062e-01, 2.3689e-01, 1.5473e-02, 4.8307e-01, 3.8849e+01, 1.6727e+02,\n",
      "         9.4131e-01, 3.3433e+00, 1.8234e+02]])\n"
     ]
    }
   ],
   "source": [
    "\n",
    "analytic = torch.distributions.normal.Normal(true_thetas, 1)\n",
    "\n",
    "\n",
    "overall_snpe_list = []\n",
    "\n",
    "variance_list_snpe = []\n",
    "\n",
    "mean_list_snpe = []\n",
    "\n",
    "\n",
    "## for round\n",
    "for posterior_snpe_list in list_collection:\n",
    "    \n",
    "    KL_snpe = []\n",
    "    KL_snpe_1d = []\n",
    "    \n",
    "    \n",
    "    ## for number of simulations\n",
    "    for posterior_snpe in posterior_snpe_list:\n",
    "\n",
    "\n",
    "        #KL = KLdivergence(posterior_snpe, sample_y)\n",
    "        KL, var_x, mu_x = KL_Gauss(posterior_snpe, analytic)\n",
    "        \n",
    "        variance_list_snpe.append(var_x)\n",
    "        \n",
    "        mean_list_snpe.append(mu_x)\n",
    "\n",
    "\n",
    "        KL_1d = calc_KL_1d(posterior_snpe, analytic)\n",
    "\n",
    "        KL_snpe_1d.append(KL_1d)\n",
    "\n",
    "        #KL_snpe_sum.append(sum_KL)\n",
    "\n",
    "        KL_snpe.append(KL)\n",
    "        \n",
    "    overall_snpe_list.append(KL_snpe)\n",
    "\n",
    "\n",
    "    \n",
    "    "
   ]
  },
  {
   "cell_type": "code",
   "execution_count": 13,
   "id": "f68ad23e",
   "metadata": {},
   "outputs": [
    {
     "data": {
      "application/vnd.jupyter.widget-view+json": {
       "model_id": "ac110ef832d74eebbf5b0e187fa27d9c",
       "version_major": 2,
       "version_minor": 0
      },
      "text/plain": [
       "Drawing 1000 posterior samples:   0%|          | 0/1000 [00:00<?, ?it/s]"
      ]
     },
     "metadata": {},
     "output_type": "display_data"
    },
    {
     "name": "stdout",
     "output_type": "stream",
     "text": [
      "acceptance rate:  1.0\n"
     ]
    },
    {
     "data": {
      "application/vnd.jupyter.widget-view+json": {
       "model_id": "af2de994bebb46d787d18f81278723cc",
       "version_major": 2,
       "version_minor": 0
      },
      "text/plain": [
       "Drawing 1000 posterior samples:   0%|          | 0/1000 [00:00<?, ?it/s]"
      ]
     },
     "metadata": {},
     "output_type": "display_data"
    },
    {
     "name": "stdout",
     "output_type": "stream",
     "text": [
      "acceptance rate:  1.0\n"
     ]
    },
    {
     "data": {
      "application/vnd.jupyter.widget-view+json": {
       "model_id": "3b7bac352aff48edaab6c05921e683f0",
       "version_major": 2,
       "version_minor": 0
      },
      "text/plain": [
       "Drawing 1000 posterior samples:   0%|          | 0/1000 [00:00<?, ?it/s]"
      ]
     },
     "metadata": {},
     "output_type": "display_data"
    },
    {
     "name": "stdout",
     "output_type": "stream",
     "text": [
      "acceptance rate:  1.0\n"
     ]
    },
    {
     "data": {
      "application/vnd.jupyter.widget-view+json": {
       "model_id": "4e20758c3ef345cba85f7921542c67b9",
       "version_major": 2,
       "version_minor": 0
      },
      "text/plain": [
       "Drawing 1000 posterior samples:   0%|          | 0/1000 [00:00<?, ?it/s]"
      ]
     },
     "metadata": {},
     "output_type": "display_data"
    },
    {
     "name": "stdout",
     "output_type": "stream",
     "text": [
      "acceptance rate:  1.0\n"
     ]
    },
    {
     "data": {
      "application/vnd.jupyter.widget-view+json": {
       "model_id": "f40815495e52427baed649f6e83c95ac",
       "version_major": 2,
       "version_minor": 0
      },
      "text/plain": [
       "Drawing 1000 posterior samples:   0%|          | 0/1000 [00:00<?, ?it/s]"
      ]
     },
     "metadata": {},
     "output_type": "display_data"
    },
    {
     "name": "stdout",
     "output_type": "stream",
     "text": [
      "acceptance rate:  1.0\n"
     ]
    },
    {
     "data": {
      "application/vnd.jupyter.widget-view+json": {
       "model_id": "55d6410fa67f48fc8066ce0568ba0ffc",
       "version_major": 2,
       "version_minor": 0
      },
      "text/plain": [
       "Drawing 1000 posterior samples:   0%|          | 0/1000 [00:00<?, ?it/s]"
      ]
     },
     "metadata": {},
     "output_type": "display_data"
    },
    {
     "name": "stdout",
     "output_type": "stream",
     "text": [
      "acceptance rate:  1.0\n"
     ]
    },
    {
     "data": {
      "application/vnd.jupyter.widget-view+json": {
       "model_id": "26140ba21f224633991d73407ce6ff21",
       "version_major": 2,
       "version_minor": 0
      },
      "text/plain": [
       "Drawing 1000 posterior samples:   0%|          | 0/1000 [00:00<?, ?it/s]"
      ]
     },
     "metadata": {},
     "output_type": "display_data"
    },
    {
     "name": "stdout",
     "output_type": "stream",
     "text": [
      "acceptance rate:  1.0\n"
     ]
    },
    {
     "data": {
      "application/vnd.jupyter.widget-view+json": {
       "model_id": "369da7ec5e3b4f538180fa53fe3e5ec4",
       "version_major": 2,
       "version_minor": 0
      },
      "text/plain": [
       "Drawing 1000 posterior samples:   0%|          | 0/1000 [00:00<?, ?it/s]"
      ]
     },
     "metadata": {},
     "output_type": "display_data"
    },
    {
     "name": "stdout",
     "output_type": "stream",
     "text": [
      "acceptance rate:  1.0\n"
     ]
    },
    {
     "data": {
      "application/vnd.jupyter.widget-view+json": {
       "model_id": "8ec6a3fad71c4b758079d5cef9eb7a4b",
       "version_major": 2,
       "version_minor": 0
      },
      "text/plain": [
       "Drawing 1000 posterior samples:   0%|          | 0/1000 [00:00<?, ?it/s]"
      ]
     },
     "metadata": {},
     "output_type": "display_data"
    },
    {
     "name": "stdout",
     "output_type": "stream",
     "text": [
      "acceptance rate:  1.0\n"
     ]
    },
    {
     "data": {
      "application/vnd.jupyter.widget-view+json": {
       "model_id": "b08b15960f3347c48e5a8557ebf728d5",
       "version_major": 2,
       "version_minor": 0
      },
      "text/plain": [
       "Drawing 1000 posterior samples:   0%|          | 0/1000 [00:00<?, ?it/s]"
      ]
     },
     "metadata": {},
     "output_type": "display_data"
    },
    {
     "name": "stdout",
     "output_type": "stream",
     "text": [
      "acceptance rate:  1.0\n"
     ]
    },
    {
     "data": {
      "application/vnd.jupyter.widget-view+json": {
       "model_id": "e6fbbf999a674177bdbd6ff8f1a28b7e",
       "version_major": 2,
       "version_minor": 0
      },
      "text/plain": [
       "Drawing 1000 posterior samples:   0%|          | 0/1000 [00:00<?, ?it/s]"
      ]
     },
     "metadata": {},
     "output_type": "display_data"
    },
    {
     "name": "stdout",
     "output_type": "stream",
     "text": [
      "acceptance rate:  1.0\n"
     ]
    },
    {
     "data": {
      "application/vnd.jupyter.widget-view+json": {
       "model_id": "c2e0184bc5ab4ced8baf5f8af7f60d0a",
       "version_major": 2,
       "version_minor": 0
      },
      "text/plain": [
       "Drawing 1000 posterior samples:   0%|          | 0/1000 [00:00<?, ?it/s]"
      ]
     },
     "metadata": {},
     "output_type": "display_data"
    },
    {
     "name": "stdout",
     "output_type": "stream",
     "text": [
      "acceptance rate:  1.0\n"
     ]
    },
    {
     "data": {
      "application/vnd.jupyter.widget-view+json": {
       "model_id": "cf1745facbde4c0492a73a4bb7426eb2",
       "version_major": 2,
       "version_minor": 0
      },
      "text/plain": [
       "Drawing 1000 posterior samples:   0%|          | 0/1000 [00:00<?, ?it/s]"
      ]
     },
     "metadata": {},
     "output_type": "display_data"
    },
    {
     "name": "stdout",
     "output_type": "stream",
     "text": [
      "acceptance rate:  1.0\n"
     ]
    },
    {
     "data": {
      "application/vnd.jupyter.widget-view+json": {
       "model_id": "f35579db9aaa4c5aa3bf199d1158efee",
       "version_major": 2,
       "version_minor": 0
      },
      "text/plain": [
       "Drawing 1000 posterior samples:   0%|          | 0/1000 [00:00<?, ?it/s]"
      ]
     },
     "metadata": {},
     "output_type": "display_data"
    },
    {
     "name": "stdout",
     "output_type": "stream",
     "text": [
      "acceptance rate:  1.0\n"
     ]
    },
    {
     "data": {
      "application/vnd.jupyter.widget-view+json": {
       "model_id": "848788839a094f588b49f78f55481858",
       "version_major": 2,
       "version_minor": 0
      },
      "text/plain": [
       "Drawing 1000 posterior samples:   0%|          | 0/1000 [00:00<?, ?it/s]"
      ]
     },
     "metadata": {},
     "output_type": "display_data"
    },
    {
     "name": "stdout",
     "output_type": "stream",
     "text": [
      "acceptance rate:  1.0\n"
     ]
    },
    {
     "data": {
      "application/vnd.jupyter.widget-view+json": {
       "model_id": "4aee2aad95604c41bf156c270fb58a8e",
       "version_major": 2,
       "version_minor": 0
      },
      "text/plain": [
       "Drawing 1000 posterior samples:   0%|          | 0/1000 [00:00<?, ?it/s]"
      ]
     },
     "metadata": {},
     "output_type": "display_data"
    },
    {
     "name": "stdout",
     "output_type": "stream",
     "text": [
      "acceptance rate:  1.0\n"
     ]
    },
    {
     "data": {
      "application/vnd.jupyter.widget-view+json": {
       "model_id": "44dc6f3f159e4a948e8823c6d9128c78",
       "version_major": 2,
       "version_minor": 0
      },
      "text/plain": [
       "Drawing 1000 posterior samples:   0%|          | 0/1000 [00:00<?, ?it/s]"
      ]
     },
     "metadata": {},
     "output_type": "display_data"
    },
    {
     "name": "stdout",
     "output_type": "stream",
     "text": [
      "acceptance rate:  1.0\n"
     ]
    },
    {
     "data": {
      "application/vnd.jupyter.widget-view+json": {
       "model_id": "01f34b8829514682a7320ebb1847aa60",
       "version_major": 2,
       "version_minor": 0
      },
      "text/plain": [
       "Drawing 1000 posterior samples:   0%|          | 0/1000 [00:00<?, ?it/s]"
      ]
     },
     "metadata": {},
     "output_type": "display_data"
    },
    {
     "name": "stdout",
     "output_type": "stream",
     "text": [
      "acceptance rate:  1.0\n"
     ]
    },
    {
     "data": {
      "application/vnd.jupyter.widget-view+json": {
       "model_id": "167fd300827c4ab99ad973afbf24e2c0",
       "version_major": 2,
       "version_minor": 0
      },
      "text/plain": [
       "Drawing 1000 posterior samples:   0%|          | 0/1000 [00:00<?, ?it/s]"
      ]
     },
     "metadata": {},
     "output_type": "display_data"
    },
    {
     "name": "stdout",
     "output_type": "stream",
     "text": [
      "acceptance rate:  1.0\n"
     ]
    },
    {
     "data": {
      "application/vnd.jupyter.widget-view+json": {
       "model_id": "79cedef92bde4355bc5d2d049b54107d",
       "version_major": 2,
       "version_minor": 0
      },
      "text/plain": [
       "Drawing 1000 posterior samples:   0%|          | 0/1000 [00:00<?, ?it/s]"
      ]
     },
     "metadata": {},
     "output_type": "display_data"
    },
    {
     "name": "stdout",
     "output_type": "stream",
     "text": [
      "acceptance rate:  1.0\n"
     ]
    },
    {
     "data": {
      "application/vnd.jupyter.widget-view+json": {
       "model_id": "0e7fbe852cf14f96bafe03a0ce82df24",
       "version_major": 2,
       "version_minor": 0
      },
      "text/plain": [
       "Drawing 1000 posterior samples:   0%|          | 0/1000 [00:00<?, ?it/s]"
      ]
     },
     "metadata": {},
     "output_type": "display_data"
    },
    {
     "name": "stdout",
     "output_type": "stream",
     "text": [
      "acceptance rate:  1.0\n"
     ]
    },
    {
     "data": {
      "application/vnd.jupyter.widget-view+json": {
       "model_id": "535b77a682804f93a71ea0b5509e303c",
       "version_major": 2,
       "version_minor": 0
      },
      "text/plain": [
       "Drawing 1000 posterior samples:   0%|          | 0/1000 [00:00<?, ?it/s]"
      ]
     },
     "metadata": {},
     "output_type": "display_data"
    },
    {
     "name": "stdout",
     "output_type": "stream",
     "text": [
      "acceptance rate:  1.0\n"
     ]
    },
    {
     "data": {
      "application/vnd.jupyter.widget-view+json": {
       "model_id": "a09f45a695a64a94b60c064d8afa3e8a",
       "version_major": 2,
       "version_minor": 0
      },
      "text/plain": [
       "Drawing 1000 posterior samples:   0%|          | 0/1000 [00:00<?, ?it/s]"
      ]
     },
     "metadata": {},
     "output_type": "display_data"
    },
    {
     "name": "stdout",
     "output_type": "stream",
     "text": [
      "acceptance rate:  1.0\n"
     ]
    },
    {
     "data": {
      "application/vnd.jupyter.widget-view+json": {
       "model_id": "07814c8a8b9e4e8cab27cf7d5a3db942",
       "version_major": 2,
       "version_minor": 0
      },
      "text/plain": [
       "Drawing 1000 posterior samples:   0%|          | 0/1000 [00:00<?, ?it/s]"
      ]
     },
     "metadata": {},
     "output_type": "display_data"
    },
    {
     "name": "stdout",
     "output_type": "stream",
     "text": [
      "acceptance rate:  1.0\n"
     ]
    },
    {
     "data": {
      "application/vnd.jupyter.widget-view+json": {
       "model_id": "bd7c8b68ece04b73ba7b192bf8970988",
       "version_major": 2,
       "version_minor": 0
      },
      "text/plain": [
       "Drawing 1000 posterior samples:   0%|          | 0/1000 [00:00<?, ?it/s]"
      ]
     },
     "metadata": {},
     "output_type": "display_data"
    },
    {
     "name": "stdout",
     "output_type": "stream",
     "text": [
      "acceptance rate:  1.0\n"
     ]
    },
    {
     "data": {
      "application/vnd.jupyter.widget-view+json": {
       "model_id": "00522b5056f1465eb4d236d95bd22083",
       "version_major": 2,
       "version_minor": 0
      },
      "text/plain": [
       "Drawing 1000 posterior samples:   0%|          | 0/1000 [00:00<?, ?it/s]"
      ]
     },
     "metadata": {},
     "output_type": "display_data"
    },
    {
     "name": "stdout",
     "output_type": "stream",
     "text": [
      "acceptance rate:  1.0\n"
     ]
    },
    {
     "data": {
      "application/vnd.jupyter.widget-view+json": {
       "model_id": "66392eae0c7a48e8b0ee2c5472040917",
       "version_major": 2,
       "version_minor": 0
      },
      "text/plain": [
       "Drawing 1000 posterior samples:   0%|          | 0/1000 [00:00<?, ?it/s]"
      ]
     },
     "metadata": {},
     "output_type": "display_data"
    },
    {
     "name": "stdout",
     "output_type": "stream",
     "text": [
      "acceptance rate:  1.0\n"
     ]
    },
    {
     "data": {
      "application/vnd.jupyter.widget-view+json": {
       "model_id": "3ee4d6df081a4ab0b9b3c83cf46f6d9b",
       "version_major": 2,
       "version_minor": 0
      },
      "text/plain": [
       "Drawing 1000 posterior samples:   0%|          | 0/1000 [00:00<?, ?it/s]"
      ]
     },
     "metadata": {},
     "output_type": "display_data"
    },
    {
     "name": "stdout",
     "output_type": "stream",
     "text": [
      "acceptance rate:  1.0\n"
     ]
    },
    {
     "data": {
      "application/vnd.jupyter.widget-view+json": {
       "model_id": "773ca558c7e1477d814443adbcdffa16",
       "version_major": 2,
       "version_minor": 0
      },
      "text/plain": [
       "Drawing 1000 posterior samples:   0%|          | 0/1000 [00:00<?, ?it/s]"
      ]
     },
     "metadata": {},
     "output_type": "display_data"
    },
    {
     "name": "stdout",
     "output_type": "stream",
     "text": [
      "acceptance rate:  1.0\n"
     ]
    },
    {
     "data": {
      "application/vnd.jupyter.widget-view+json": {
       "model_id": "a663a76eb63b4ec3a76c6c529288df6f",
       "version_major": 2,
       "version_minor": 0
      },
      "text/plain": [
       "Drawing 1000 posterior samples:   0%|          | 0/1000 [00:00<?, ?it/s]"
      ]
     },
     "metadata": {},
     "output_type": "display_data"
    },
    {
     "name": "stdout",
     "output_type": "stream",
     "text": [
      "acceptance rate:  1.0\n"
     ]
    }
   ],
   "source": [
    "torch.manual_seed(5)\n",
    "np.random.seed(5)\n",
    "\n",
    "obs_real = Gaussian(true_thetas[0, 0:])\n",
    "\n",
    "\n",
    "\n",
    "analytic = torch.distributions.normal.Normal(true_thetas, 1)\n",
    "\n",
    "\n",
    "overall_incremental_list = []\n",
    "\n",
    "variance_list = []\n",
    "\n",
    "mean_list = []\n",
    "\n",
    "for posterior_incremental_list in list_collection_inc:\n",
    "    \n",
    "    KL_incremental = []\n",
    "\n",
    "    for posterior_incremental in posterior_incremental_list:\n",
    "\n",
    "        posterior_incremental.set_default_x(obs_real)\n",
    "\n",
    "        #KL = KLdivergence(posterior_incremental, sample_y)\n",
    "\n",
    "        KL, var_x, mu_x = KL_Gauss(posterior_incremental, analytic)\n",
    "        \n",
    "        variance_list.append(var_x)\n",
    "        mean_list.append(mu_x)\n",
    "\n",
    "        #KL_1d = calc_KL_1d(posterior_incremental, analytic)\n",
    "\n",
    "        #KL_incremental_1d.append(KL_1d)\n",
    "\n",
    "\n",
    "        KL_incremental.append(KL)\n",
    "\n",
    "        \n",
    "    overall_incremental_list.append(KL_incremental)"
   ]
  },
  {
   "cell_type": "code",
   "execution_count": 14,
   "id": "cad7f676",
   "metadata": {},
   "outputs": [
    {
     "name": "stdout",
     "output_type": "stream",
     "text": [
      "/home/ubuntu/results/toy_example_mdn_08_04_lesser_ratio\n"
     ]
    }
   ],
   "source": [
    "print(os.getcwd())\n",
    "file = 'toy_example_mdn_05_04_no_ratio'\n",
    "\n",
    "\n",
    "\n",
    "os.chdir('/home/ubuntu/results/{}'.format(file))"
   ]
  },
  {
   "cell_type": "code",
   "execution_count": 15,
   "id": "fe322202",
   "metadata": {},
   "outputs": [],
   "source": [
    "list_collection_inc_ratio = torch.load('list_collection_inc.pt')"
   ]
  },
  {
   "cell_type": "code",
   "execution_count": 16,
   "id": "dcf16daa",
   "metadata": {},
   "outputs": [],
   "source": [
    "file = 'toy_example_maf_13_04_greater_ratio'\n",
    "\n",
    "\n",
    "os.chdir('/home/ubuntu/results/{}'.format(file))"
   ]
  },
  {
   "cell_type": "code",
   "execution_count": 17,
   "id": "58597e51",
   "metadata": {},
   "outputs": [],
   "source": [
    "list_collection_inc_greater_ratio = torch.load('list_collection_inc.pt')\n",
    "\n",
    "obs_real = torch.load('obs_real.pt')"
   ]
  },
  {
   "cell_type": "code",
   "execution_count": 18,
   "id": "5cfd869d",
   "metadata": {},
   "outputs": [
    {
     "data": {
      "application/vnd.jupyter.widget-view+json": {
       "model_id": "2776047e38ff4614bbfaf1f36f50f636",
       "version_major": 2,
       "version_minor": 0
      },
      "text/plain": [
       "Drawing 1000 posterior samples:   0%|          | 0/1000 [00:00<?, ?it/s]"
      ]
     },
     "metadata": {},
     "output_type": "display_data"
    },
    {
     "name": "stdout",
     "output_type": "stream",
     "text": [
      "acceptance rate:  1.0\n"
     ]
    },
    {
     "data": {
      "application/vnd.jupyter.widget-view+json": {
       "model_id": "9e8714a0b9524cecbe6dee7418e1cd45",
       "version_major": 2,
       "version_minor": 0
      },
      "text/plain": [
       "Drawing 1000 posterior samples:   0%|          | 0/1000 [00:00<?, ?it/s]"
      ]
     },
     "metadata": {},
     "output_type": "display_data"
    },
    {
     "name": "stdout",
     "output_type": "stream",
     "text": [
      "acceptance rate:  1.0\n"
     ]
    },
    {
     "data": {
      "application/vnd.jupyter.widget-view+json": {
       "model_id": "dda93c205bbe4a35b2e22ddb127f5786",
       "version_major": 2,
       "version_minor": 0
      },
      "text/plain": [
       "Drawing 1000 posterior samples:   0%|          | 0/1000 [00:00<?, ?it/s]"
      ]
     },
     "metadata": {},
     "output_type": "display_data"
    },
    {
     "name": "stdout",
     "output_type": "stream",
     "text": [
      "acceptance rate:  1.0\n"
     ]
    },
    {
     "data": {
      "application/vnd.jupyter.widget-view+json": {
       "model_id": "e793f17cd4d7433498b44f6e89eba206",
       "version_major": 2,
       "version_minor": 0
      },
      "text/plain": [
       "Drawing 1000 posterior samples:   0%|          | 0/1000 [00:00<?, ?it/s]"
      ]
     },
     "metadata": {},
     "output_type": "display_data"
    },
    {
     "name": "stdout",
     "output_type": "stream",
     "text": [
      "acceptance rate:  1.0\n"
     ]
    },
    {
     "data": {
      "application/vnd.jupyter.widget-view+json": {
       "model_id": "f35c227a0a0849dfb4c822c7375062c3",
       "version_major": 2,
       "version_minor": 0
      },
      "text/plain": [
       "Drawing 1000 posterior samples:   0%|          | 0/1000 [00:00<?, ?it/s]"
      ]
     },
     "metadata": {},
     "output_type": "display_data"
    },
    {
     "name": "stdout",
     "output_type": "stream",
     "text": [
      "acceptance rate:  1.0\n"
     ]
    },
    {
     "data": {
      "application/vnd.jupyter.widget-view+json": {
       "model_id": "1fdaf6f308084b079b52bbb0f95a8ed0",
       "version_major": 2,
       "version_minor": 0
      },
      "text/plain": [
       "Drawing 1000 posterior samples:   0%|          | 0/1000 [00:00<?, ?it/s]"
      ]
     },
     "metadata": {},
     "output_type": "display_data"
    },
    {
     "name": "stdout",
     "output_type": "stream",
     "text": [
      "acceptance rate:  1.0\n"
     ]
    },
    {
     "data": {
      "application/vnd.jupyter.widget-view+json": {
       "model_id": "2ae8605d31d04417b8e6dccc5eac685d",
       "version_major": 2,
       "version_minor": 0
      },
      "text/plain": [
       "Drawing 1000 posterior samples:   0%|          | 0/1000 [00:00<?, ?it/s]"
      ]
     },
     "metadata": {},
     "output_type": "display_data"
    },
    {
     "name": "stdout",
     "output_type": "stream",
     "text": [
      "acceptance rate:  1.0\n"
     ]
    },
    {
     "data": {
      "application/vnd.jupyter.widget-view+json": {
       "model_id": "75242a338a7e43289fb0b54c7c4002b0",
       "version_major": 2,
       "version_minor": 0
      },
      "text/plain": [
       "Drawing 1000 posterior samples:   0%|          | 0/1000 [00:00<?, ?it/s]"
      ]
     },
     "metadata": {},
     "output_type": "display_data"
    },
    {
     "name": "stdout",
     "output_type": "stream",
     "text": [
      "acceptance rate:  1.0\n"
     ]
    },
    {
     "data": {
      "application/vnd.jupyter.widget-view+json": {
       "model_id": "79b37b61379b48afbeebe7f3e30b557c",
       "version_major": 2,
       "version_minor": 0
      },
      "text/plain": [
       "Drawing 1000 posterior samples:   0%|          | 0/1000 [00:00<?, ?it/s]"
      ]
     },
     "metadata": {},
     "output_type": "display_data"
    },
    {
     "name": "stdout",
     "output_type": "stream",
     "text": [
      "acceptance rate:  1.0\n"
     ]
    },
    {
     "data": {
      "application/vnd.jupyter.widget-view+json": {
       "model_id": "73b06a1a4c3d4c849260a7addafe9728",
       "version_major": 2,
       "version_minor": 0
      },
      "text/plain": [
       "Drawing 1000 posterior samples:   0%|          | 0/1000 [00:00<?, ?it/s]"
      ]
     },
     "metadata": {},
     "output_type": "display_data"
    },
    {
     "name": "stdout",
     "output_type": "stream",
     "text": [
      "acceptance rate:  1.0\n"
     ]
    },
    {
     "data": {
      "application/vnd.jupyter.widget-view+json": {
       "model_id": "6de5b18bcf51418692847f20cde175dd",
       "version_major": 2,
       "version_minor": 0
      },
      "text/plain": [
       "Drawing 1000 posterior samples:   0%|          | 0/1000 [00:00<?, ?it/s]"
      ]
     },
     "metadata": {},
     "output_type": "display_data"
    },
    {
     "name": "stdout",
     "output_type": "stream",
     "text": [
      "acceptance rate:  1.0\n"
     ]
    },
    {
     "data": {
      "application/vnd.jupyter.widget-view+json": {
       "model_id": "a6cfe9d1e2c24fa6b758fd33e512c30e",
       "version_major": 2,
       "version_minor": 0
      },
      "text/plain": [
       "Drawing 1000 posterior samples:   0%|          | 0/1000 [00:00<?, ?it/s]"
      ]
     },
     "metadata": {},
     "output_type": "display_data"
    },
    {
     "name": "stdout",
     "output_type": "stream",
     "text": [
      "acceptance rate:  1.0\n"
     ]
    },
    {
     "data": {
      "application/vnd.jupyter.widget-view+json": {
       "model_id": "bc062e7a8c794c9f90a25a293904387b",
       "version_major": 2,
       "version_minor": 0
      },
      "text/plain": [
       "Drawing 1000 posterior samples:   0%|          | 0/1000 [00:00<?, ?it/s]"
      ]
     },
     "metadata": {},
     "output_type": "display_data"
    },
    {
     "name": "stdout",
     "output_type": "stream",
     "text": [
      "acceptance rate:  1.0\n"
     ]
    },
    {
     "data": {
      "application/vnd.jupyter.widget-view+json": {
       "model_id": "b357621b62354c409fe740f65c6ab7ea",
       "version_major": 2,
       "version_minor": 0
      },
      "text/plain": [
       "Drawing 1000 posterior samples:   0%|          | 0/1000 [00:00<?, ?it/s]"
      ]
     },
     "metadata": {},
     "output_type": "display_data"
    },
    {
     "name": "stdout",
     "output_type": "stream",
     "text": [
      "acceptance rate:  1.0\n"
     ]
    },
    {
     "data": {
      "application/vnd.jupyter.widget-view+json": {
       "model_id": "4ef3b7b7e5b7478cb12cb008740b16f4",
       "version_major": 2,
       "version_minor": 0
      },
      "text/plain": [
       "Drawing 1000 posterior samples:   0%|          | 0/1000 [00:00<?, ?it/s]"
      ]
     },
     "metadata": {},
     "output_type": "display_data"
    },
    {
     "name": "stdout",
     "output_type": "stream",
     "text": [
      "acceptance rate:  1.0\n"
     ]
    },
    {
     "data": {
      "application/vnd.jupyter.widget-view+json": {
       "model_id": "f81dac00a8ae45c9a49039270107e483",
       "version_major": 2,
       "version_minor": 0
      },
      "text/plain": [
       "Drawing 1000 posterior samples:   0%|          | 0/1000 [00:00<?, ?it/s]"
      ]
     },
     "metadata": {},
     "output_type": "display_data"
    },
    {
     "name": "stdout",
     "output_type": "stream",
     "text": [
      "acceptance rate:  1.0\n"
     ]
    },
    {
     "data": {
      "application/vnd.jupyter.widget-view+json": {
       "model_id": "81f7d521754d4889ab9ea29a82d32aeb",
       "version_major": 2,
       "version_minor": 0
      },
      "text/plain": [
       "Drawing 1000 posterior samples:   0%|          | 0/1000 [00:00<?, ?it/s]"
      ]
     },
     "metadata": {},
     "output_type": "display_data"
    },
    {
     "name": "stdout",
     "output_type": "stream",
     "text": [
      "acceptance rate:  1.0\n"
     ]
    },
    {
     "data": {
      "application/vnd.jupyter.widget-view+json": {
       "model_id": "d89f34b56e384f9682f72d897d476aee",
       "version_major": 2,
       "version_minor": 0
      },
      "text/plain": [
       "Drawing 1000 posterior samples:   0%|          | 0/1000 [00:00<?, ?it/s]"
      ]
     },
     "metadata": {},
     "output_type": "display_data"
    },
    {
     "name": "stdout",
     "output_type": "stream",
     "text": [
      "acceptance rate:  1.0\n"
     ]
    },
    {
     "data": {
      "application/vnd.jupyter.widget-view+json": {
       "model_id": "e228dde117ec44cdafb10a066044cf61",
       "version_major": 2,
       "version_minor": 0
      },
      "text/plain": [
       "Drawing 1000 posterior samples:   0%|          | 0/1000 [00:00<?, ?it/s]"
      ]
     },
     "metadata": {},
     "output_type": "display_data"
    },
    {
     "name": "stdout",
     "output_type": "stream",
     "text": [
      "acceptance rate:  1.0\n"
     ]
    },
    {
     "data": {
      "application/vnd.jupyter.widget-view+json": {
       "model_id": "31f7e9e66ce740a5b83a98db24e2cf1a",
       "version_major": 2,
       "version_minor": 0
      },
      "text/plain": [
       "Drawing 1000 posterior samples:   0%|          | 0/1000 [00:00<?, ?it/s]"
      ]
     },
     "metadata": {},
     "output_type": "display_data"
    },
    {
     "name": "stdout",
     "output_type": "stream",
     "text": [
      "acceptance rate:  1.0\n"
     ]
    },
    {
     "data": {
      "application/vnd.jupyter.widget-view+json": {
       "model_id": "3247afe77957401085e8f63b2f909ad7",
       "version_major": 2,
       "version_minor": 0
      },
      "text/plain": [
       "Drawing 1000 posterior samples:   0%|          | 0/1000 [00:00<?, ?it/s]"
      ]
     },
     "metadata": {},
     "output_type": "display_data"
    },
    {
     "name": "stdout",
     "output_type": "stream",
     "text": [
      "acceptance rate:  1.0\n"
     ]
    },
    {
     "data": {
      "application/vnd.jupyter.widget-view+json": {
       "model_id": "661d2d00f03a47ef97619b01484737d5",
       "version_major": 2,
       "version_minor": 0
      },
      "text/plain": [
       "Drawing 1000 posterior samples:   0%|          | 0/1000 [00:00<?, ?it/s]"
      ]
     },
     "metadata": {},
     "output_type": "display_data"
    },
    {
     "name": "stdout",
     "output_type": "stream",
     "text": [
      "acceptance rate:  1.0\n"
     ]
    },
    {
     "data": {
      "application/vnd.jupyter.widget-view+json": {
       "model_id": "589919502d1c4a23b9942b2424e9f196",
       "version_major": 2,
       "version_minor": 0
      },
      "text/plain": [
       "Drawing 1000 posterior samples:   0%|          | 0/1000 [00:00<?, ?it/s]"
      ]
     },
     "metadata": {},
     "output_type": "display_data"
    },
    {
     "name": "stdout",
     "output_type": "stream",
     "text": [
      "acceptance rate:  1.0\n"
     ]
    },
    {
     "data": {
      "application/vnd.jupyter.widget-view+json": {
       "model_id": "801dd85e6120469dbd2e9d6cba7c93da",
       "version_major": 2,
       "version_minor": 0
      },
      "text/plain": [
       "Drawing 1000 posterior samples:   0%|          | 0/1000 [00:00<?, ?it/s]"
      ]
     },
     "metadata": {},
     "output_type": "display_data"
    },
    {
     "name": "stdout",
     "output_type": "stream",
     "text": [
      "acceptance rate:  1.0\n"
     ]
    },
    {
     "data": {
      "application/vnd.jupyter.widget-view+json": {
       "model_id": "b6b164dc8eb44e1695bed5f12d10809c",
       "version_major": 2,
       "version_minor": 0
      },
      "text/plain": [
       "Drawing 1000 posterior samples:   0%|          | 0/1000 [00:00<?, ?it/s]"
      ]
     },
     "metadata": {},
     "output_type": "display_data"
    },
    {
     "name": "stdout",
     "output_type": "stream",
     "text": [
      "acceptance rate:  1.0\n"
     ]
    },
    {
     "data": {
      "application/vnd.jupyter.widget-view+json": {
       "model_id": "b7f6d9bc56c4424c8b1c5b6dd1a93b52",
       "version_major": 2,
       "version_minor": 0
      },
      "text/plain": [
       "Drawing 1000 posterior samples:   0%|          | 0/1000 [00:00<?, ?it/s]"
      ]
     },
     "metadata": {},
     "output_type": "display_data"
    },
    {
     "name": "stdout",
     "output_type": "stream",
     "text": [
      "acceptance rate:  1.0\n"
     ]
    },
    {
     "data": {
      "application/vnd.jupyter.widget-view+json": {
       "model_id": "6070bc0aa9604a239dc230405765ad9f",
       "version_major": 2,
       "version_minor": 0
      },
      "text/plain": [
       "Drawing 1000 posterior samples:   0%|          | 0/1000 [00:00<?, ?it/s]"
      ]
     },
     "metadata": {},
     "output_type": "display_data"
    },
    {
     "name": "stdout",
     "output_type": "stream",
     "text": [
      "acceptance rate:  1.0\n"
     ]
    },
    {
     "data": {
      "application/vnd.jupyter.widget-view+json": {
       "model_id": "aa9b591f1ac6492f9dc99d6b653b9ef8",
       "version_major": 2,
       "version_minor": 0
      },
      "text/plain": [
       "Drawing 1000 posterior samples:   0%|          | 0/1000 [00:00<?, ?it/s]"
      ]
     },
     "metadata": {},
     "output_type": "display_data"
    },
    {
     "name": "stdout",
     "output_type": "stream",
     "text": [
      "acceptance rate:  1.0\n"
     ]
    },
    {
     "data": {
      "application/vnd.jupyter.widget-view+json": {
       "model_id": "60d132bc774340f1a1def09e14f9dbb5",
       "version_major": 2,
       "version_minor": 0
      },
      "text/plain": [
       "Drawing 1000 posterior samples:   0%|          | 0/1000 [00:00<?, ?it/s]"
      ]
     },
     "metadata": {},
     "output_type": "display_data"
    },
    {
     "name": "stdout",
     "output_type": "stream",
     "text": [
      "acceptance rate:  1.0\n"
     ]
    },
    {
     "data": {
      "application/vnd.jupyter.widget-view+json": {
       "model_id": "45074be69c9241f5b19c19cfd559e363",
       "version_major": 2,
       "version_minor": 0
      },
      "text/plain": [
       "Drawing 1000 posterior samples:   0%|          | 0/1000 [00:00<?, ?it/s]"
      ]
     },
     "metadata": {},
     "output_type": "display_data"
    },
    {
     "name": "stdout",
     "output_type": "stream",
     "text": [
      "acceptance rate:  1.0\n"
     ]
    },
    {
     "data": {
      "application/vnd.jupyter.widget-view+json": {
       "model_id": "23c09ebe35d149269a0d89de991d236b",
       "version_major": 2,
       "version_minor": 0
      },
      "text/plain": [
       "Drawing 1000 posterior samples:   0%|          | 0/1000 [00:00<?, ?it/s]"
      ]
     },
     "metadata": {},
     "output_type": "display_data"
    },
    {
     "name": "stdout",
     "output_type": "stream",
     "text": [
      "acceptance rate:  1.0\n"
     ]
    },
    {
     "data": {
      "application/vnd.jupyter.widget-view+json": {
       "model_id": "b90ec90a2c914247b43790c796a29702",
       "version_major": 2,
       "version_minor": 0
      },
      "text/plain": [
       "Drawing 1000 posterior samples:   0%|          | 0/1000 [00:00<?, ?it/s]"
      ]
     },
     "metadata": {},
     "output_type": "display_data"
    },
    {
     "name": "stdout",
     "output_type": "stream",
     "text": [
      "acceptance rate:  1.0\n"
     ]
    },
    {
     "data": {
      "application/vnd.jupyter.widget-view+json": {
       "model_id": "1e4361cad8414f64875b843bae52a4a6",
       "version_major": 2,
       "version_minor": 0
      },
      "text/plain": [
       "Drawing 1000 posterior samples:   0%|          | 0/1000 [00:00<?, ?it/s]"
      ]
     },
     "metadata": {},
     "output_type": "display_data"
    },
    {
     "name": "stdout",
     "output_type": "stream",
     "text": [
      "acceptance rate:  1.0\n"
     ]
    },
    {
     "data": {
      "application/vnd.jupyter.widget-view+json": {
       "model_id": "458a9b9ef9b841dd9a57af20bc14beb9",
       "version_major": 2,
       "version_minor": 0
      },
      "text/plain": [
       "Drawing 1000 posterior samples:   0%|          | 0/1000 [00:00<?, ?it/s]"
      ]
     },
     "metadata": {},
     "output_type": "display_data"
    },
    {
     "name": "stdout",
     "output_type": "stream",
     "text": [
      "acceptance rate:  1.0\n"
     ]
    },
    {
     "data": {
      "application/vnd.jupyter.widget-view+json": {
       "model_id": "f95f219044434b0096f6c21cb5a43a01",
       "version_major": 2,
       "version_minor": 0
      },
      "text/plain": [
       "Drawing 1000 posterior samples:   0%|          | 0/1000 [00:00<?, ?it/s]"
      ]
     },
     "metadata": {},
     "output_type": "display_data"
    },
    {
     "name": "stdout",
     "output_type": "stream",
     "text": [
      "acceptance rate:  1.0\n"
     ]
    },
    {
     "data": {
      "application/vnd.jupyter.widget-view+json": {
       "model_id": "c9b8c58e0de543ecbd8bc2179f07721f",
       "version_major": 2,
       "version_minor": 0
      },
      "text/plain": [
       "Drawing 1000 posterior samples:   0%|          | 0/1000 [00:00<?, ?it/s]"
      ]
     },
     "metadata": {},
     "output_type": "display_data"
    },
    {
     "name": "stdout",
     "output_type": "stream",
     "text": [
      "acceptance rate:  1.0\n"
     ]
    },
    {
     "data": {
      "application/vnd.jupyter.widget-view+json": {
       "model_id": "065fc15d44244477a4edcf0cacca8eee",
       "version_major": 2,
       "version_minor": 0
      },
      "text/plain": [
       "Drawing 1000 posterior samples:   0%|          | 0/1000 [00:00<?, ?it/s]"
      ]
     },
     "metadata": {},
     "output_type": "display_data"
    },
    {
     "name": "stdout",
     "output_type": "stream",
     "text": [
      "acceptance rate:  1.0\n"
     ]
    },
    {
     "data": {
      "application/vnd.jupyter.widget-view+json": {
       "model_id": "b3ca53bf4a6546eb945b18088d81ea09",
       "version_major": 2,
       "version_minor": 0
      },
      "text/plain": [
       "Drawing 1000 posterior samples:   0%|          | 0/1000 [00:00<?, ?it/s]"
      ]
     },
     "metadata": {},
     "output_type": "display_data"
    },
    {
     "name": "stdout",
     "output_type": "stream",
     "text": [
      "acceptance rate:  1.0\n"
     ]
    },
    {
     "data": {
      "application/vnd.jupyter.widget-view+json": {
       "model_id": "6aa6959fcff64b869aa0f6dc9afc7dc7",
       "version_major": 2,
       "version_minor": 0
      },
      "text/plain": [
       "Drawing 1000 posterior samples:   0%|          | 0/1000 [00:00<?, ?it/s]"
      ]
     },
     "metadata": {},
     "output_type": "display_data"
    },
    {
     "name": "stdout",
     "output_type": "stream",
     "text": [
      "acceptance rate:  1.0\n"
     ]
    },
    {
     "data": {
      "application/vnd.jupyter.widget-view+json": {
       "model_id": "f4800c70b72540f89a286e019875f4dc",
       "version_major": 2,
       "version_minor": 0
      },
      "text/plain": [
       "Drawing 1000 posterior samples:   0%|          | 0/1000 [00:00<?, ?it/s]"
      ]
     },
     "metadata": {},
     "output_type": "display_data"
    },
    {
     "name": "stdout",
     "output_type": "stream",
     "text": [
      "acceptance rate:  1.0\n"
     ]
    },
    {
     "data": {
      "application/vnd.jupyter.widget-view+json": {
       "model_id": "e7d6f5e1be494ff9a8784a89a5b15fa1",
       "version_major": 2,
       "version_minor": 0
      },
      "text/plain": [
       "Drawing 1000 posterior samples:   0%|          | 0/1000 [00:00<?, ?it/s]"
      ]
     },
     "metadata": {},
     "output_type": "display_data"
    },
    {
     "name": "stdout",
     "output_type": "stream",
     "text": [
      "acceptance rate:  1.0\n"
     ]
    },
    {
     "data": {
      "application/vnd.jupyter.widget-view+json": {
       "model_id": "c015da6734d84b679e6b6ee01c0b700f",
       "version_major": 2,
       "version_minor": 0
      },
      "text/plain": [
       "Drawing 1000 posterior samples:   0%|          | 0/1000 [00:00<?, ?it/s]"
      ]
     },
     "metadata": {},
     "output_type": "display_data"
    },
    {
     "name": "stdout",
     "output_type": "stream",
     "text": [
      "acceptance rate:  1.0\n"
     ]
    },
    {
     "data": {
      "application/vnd.jupyter.widget-view+json": {
       "model_id": "cf6b77a8a3ab4ecaad54db4667ca7ab4",
       "version_major": 2,
       "version_minor": 0
      },
      "text/plain": [
       "Drawing 1000 posterior samples:   0%|          | 0/1000 [00:00<?, ?it/s]"
      ]
     },
     "metadata": {},
     "output_type": "display_data"
    },
    {
     "name": "stdout",
     "output_type": "stream",
     "text": [
      "acceptance rate:  1.0\n"
     ]
    },
    {
     "data": {
      "application/vnd.jupyter.widget-view+json": {
       "model_id": "b30490b32ef1454aa17616d01c6da54e",
       "version_major": 2,
       "version_minor": 0
      },
      "text/plain": [
       "Drawing 1000 posterior samples:   0%|          | 0/1000 [00:00<?, ?it/s]"
      ]
     },
     "metadata": {},
     "output_type": "display_data"
    },
    {
     "name": "stdout",
     "output_type": "stream",
     "text": [
      "acceptance rate:  1.0\n"
     ]
    },
    {
     "data": {
      "application/vnd.jupyter.widget-view+json": {
       "model_id": "7d1330471a254bce8464c9672669e8c9",
       "version_major": 2,
       "version_minor": 0
      },
      "text/plain": [
       "Drawing 1000 posterior samples:   0%|          | 0/1000 [00:00<?, ?it/s]"
      ]
     },
     "metadata": {},
     "output_type": "display_data"
    },
    {
     "name": "stdout",
     "output_type": "stream",
     "text": [
      "acceptance rate:  1.0\n"
     ]
    },
    {
     "data": {
      "application/vnd.jupyter.widget-view+json": {
       "model_id": "fd312990628e4730a2f8112deb5ee51a",
       "version_major": 2,
       "version_minor": 0
      },
      "text/plain": [
       "Drawing 1000 posterior samples:   0%|          | 0/1000 [00:00<?, ?it/s]"
      ]
     },
     "metadata": {},
     "output_type": "display_data"
    },
    {
     "name": "stdout",
     "output_type": "stream",
     "text": [
      "acceptance rate:  1.0\n"
     ]
    },
    {
     "data": {
      "application/vnd.jupyter.widget-view+json": {
       "model_id": "4049ff813ec34b768ac135788e610a0e",
       "version_major": 2,
       "version_minor": 0
      },
      "text/plain": [
       "Drawing 1000 posterior samples:   0%|          | 0/1000 [00:00<?, ?it/s]"
      ]
     },
     "metadata": {},
     "output_type": "display_data"
    },
    {
     "name": "stdout",
     "output_type": "stream",
     "text": [
      "acceptance rate:  1.0\n"
     ]
    },
    {
     "data": {
      "application/vnd.jupyter.widget-view+json": {
       "model_id": "5b1286e07c3f40399548443a63ee194d",
       "version_major": 2,
       "version_minor": 0
      },
      "text/plain": [
       "Drawing 1000 posterior samples:   0%|          | 0/1000 [00:00<?, ?it/s]"
      ]
     },
     "metadata": {},
     "output_type": "display_data"
    },
    {
     "name": "stdout",
     "output_type": "stream",
     "text": [
      "acceptance rate:  1.0\n"
     ]
    },
    {
     "data": {
      "application/vnd.jupyter.widget-view+json": {
       "model_id": "c2875452791047279e7ffb827cbf2a61",
       "version_major": 2,
       "version_minor": 0
      },
      "text/plain": [
       "Drawing 1000 posterior samples:   0%|          | 0/1000 [00:00<?, ?it/s]"
      ]
     },
     "metadata": {},
     "output_type": "display_data"
    },
    {
     "name": "stdout",
     "output_type": "stream",
     "text": [
      "acceptance rate:  1.0\n"
     ]
    },
    {
     "data": {
      "application/vnd.jupyter.widget-view+json": {
       "model_id": "4ef7c52843ba485c81d2d3c9bdee2214",
       "version_major": 2,
       "version_minor": 0
      },
      "text/plain": [
       "Drawing 1000 posterior samples:   0%|          | 0/1000 [00:00<?, ?it/s]"
      ]
     },
     "metadata": {},
     "output_type": "display_data"
    },
    {
     "name": "stdout",
     "output_type": "stream",
     "text": [
      "acceptance rate:  1.0\n"
     ]
    },
    {
     "data": {
      "application/vnd.jupyter.widget-view+json": {
       "model_id": "547b53e75fdc49c885bf3408446df286",
       "version_major": 2,
       "version_minor": 0
      },
      "text/plain": [
       "Drawing 1000 posterior samples:   0%|          | 0/1000 [00:00<?, ?it/s]"
      ]
     },
     "metadata": {},
     "output_type": "display_data"
    },
    {
     "name": "stdout",
     "output_type": "stream",
     "text": [
      "acceptance rate:  1.0\n"
     ]
    },
    {
     "data": {
      "application/vnd.jupyter.widget-view+json": {
       "model_id": "5922b33997394e41a3928a7f72f3b10f",
       "version_major": 2,
       "version_minor": 0
      },
      "text/plain": [
       "Drawing 1000 posterior samples:   0%|          | 0/1000 [00:00<?, ?it/s]"
      ]
     },
     "metadata": {},
     "output_type": "display_data"
    },
    {
     "name": "stdout",
     "output_type": "stream",
     "text": [
      "acceptance rate:  1.0\n"
     ]
    },
    {
     "data": {
      "application/vnd.jupyter.widget-view+json": {
       "model_id": "7d86e43efe6d451a866c556b6e062f57",
       "version_major": 2,
       "version_minor": 0
      },
      "text/plain": [
       "Drawing 1000 posterior samples:   0%|          | 0/1000 [00:00<?, ?it/s]"
      ]
     },
     "metadata": {},
     "output_type": "display_data"
    },
    {
     "name": "stdout",
     "output_type": "stream",
     "text": [
      "acceptance rate:  1.0\n"
     ]
    },
    {
     "data": {
      "application/vnd.jupyter.widget-view+json": {
       "model_id": "667e92a91ce040c88030fa39a005bfef",
       "version_major": 2,
       "version_minor": 0
      },
      "text/plain": [
       "Drawing 1000 posterior samples:   0%|          | 0/1000 [00:00<?, ?it/s]"
      ]
     },
     "metadata": {},
     "output_type": "display_data"
    },
    {
     "name": "stdout",
     "output_type": "stream",
     "text": [
      "acceptance rate:  1.0\n"
     ]
    },
    {
     "data": {
      "application/vnd.jupyter.widget-view+json": {
       "model_id": "d98bd5fad80a4a25b893e6e5bec73a97",
       "version_major": 2,
       "version_minor": 0
      },
      "text/plain": [
       "Drawing 1000 posterior samples:   0%|          | 0/1000 [00:00<?, ?it/s]"
      ]
     },
     "metadata": {},
     "output_type": "display_data"
    },
    {
     "name": "stdout",
     "output_type": "stream",
     "text": [
      "acceptance rate:  1.0\n"
     ]
    },
    {
     "data": {
      "application/vnd.jupyter.widget-view+json": {
       "model_id": "a9b5804c949a40efad7f5380422f85f2",
       "version_major": 2,
       "version_minor": 0
      },
      "text/plain": [
       "Drawing 1000 posterior samples:   0%|          | 0/1000 [00:00<?, ?it/s]"
      ]
     },
     "metadata": {},
     "output_type": "display_data"
    },
    {
     "name": "stdout",
     "output_type": "stream",
     "text": [
      "acceptance rate:  1.0\n"
     ]
    },
    {
     "data": {
      "application/vnd.jupyter.widget-view+json": {
       "model_id": "92b1696a4bc84bacacb7439655b0597e",
       "version_major": 2,
       "version_minor": 0
      },
      "text/plain": [
       "Drawing 1000 posterior samples:   0%|          | 0/1000 [00:00<?, ?it/s]"
      ]
     },
     "metadata": {},
     "output_type": "display_data"
    },
    {
     "name": "stdout",
     "output_type": "stream",
     "text": [
      "acceptance rate:  1.0\n"
     ]
    },
    {
     "data": {
      "application/vnd.jupyter.widget-view+json": {
       "model_id": "26fea74159214d08a47c902910f8f5df",
       "version_major": 2,
       "version_minor": 0
      },
      "text/plain": [
       "Drawing 1000 posterior samples:   0%|          | 0/1000 [00:00<?, ?it/s]"
      ]
     },
     "metadata": {},
     "output_type": "display_data"
    },
    {
     "name": "stdout",
     "output_type": "stream",
     "text": [
      "acceptance rate:  1.0\n"
     ]
    },
    {
     "data": {
      "application/vnd.jupyter.widget-view+json": {
       "model_id": "3c24d0e0e0e94cb3b73ae58498f1a09a",
       "version_major": 2,
       "version_minor": 0
      },
      "text/plain": [
       "Drawing 1000 posterior samples:   0%|          | 0/1000 [00:00<?, ?it/s]"
      ]
     },
     "metadata": {},
     "output_type": "display_data"
    },
    {
     "name": "stdout",
     "output_type": "stream",
     "text": [
      "acceptance rate:  1.0\n"
     ]
    },
    {
     "data": {
      "application/vnd.jupyter.widget-view+json": {
       "model_id": "eae8986eca3d4598a83cb9fd532344ab",
       "version_major": 2,
       "version_minor": 0
      },
      "text/plain": [
       "Drawing 1000 posterior samples:   0%|          | 0/1000 [00:00<?, ?it/s]"
      ]
     },
     "metadata": {},
     "output_type": "display_data"
    },
    {
     "name": "stdout",
     "output_type": "stream",
     "text": [
      "acceptance rate:  1.0\n"
     ]
    }
   ],
   "source": [
    "analytic = torch.distributions.normal.Normal(true_thetas, 1)\n",
    "\n",
    "\n",
    "overall_incremental_list_ratio = []\n",
    "\n",
    "variance_list_ratio = []\n",
    "\n",
    "mean_list_ratio = []\n",
    "\n",
    "for posterior_incremental_list in list_collection_inc_ratio:\n",
    "    \n",
    "    KL_incremental = []\n",
    "\n",
    "    for posterior_incremental in posterior_incremental_list:\n",
    "\n",
    "        posterior_incremental.set_default_x(obs_real)\n",
    "\n",
    "        #KL = KLdivergence(posterior_incremental, sample_y)\n",
    "\n",
    "        KL, var_x, mu_x = KL_Gauss(posterior_incremental, analytic)\n",
    "        \n",
    "        variance_list_ratio.append(var_x)\n",
    "        mean_list.append(mu_x)\n",
    "\n",
    "        #KL_1d = calc_KL_1d(posterior_incremental, analytic)\n",
    "\n",
    "        #KL_incremental_1d.append(KL_1d)\n",
    "\n",
    "\n",
    "        KL_incremental.append(KL)\n",
    "\n",
    "        \n",
    "    overall_incremental_list_ratio.append(KL_incremental)"
   ]
  },
  {
   "cell_type": "code",
   "execution_count": 19,
   "id": "b40e2927",
   "metadata": {},
   "outputs": [
    {
     "data": {
      "application/vnd.jupyter.widget-view+json": {
       "model_id": "9bbc98218e094c9b8c0bcabb97c064e7",
       "version_major": 2,
       "version_minor": 0
      },
      "text/plain": [
       "Drawing 1000 posterior samples:   0%|          | 0/1000 [00:00<?, ?it/s]"
      ]
     },
     "metadata": {},
     "output_type": "display_data"
    },
    {
     "name": "stdout",
     "output_type": "stream",
     "text": [
      "acceptance rate:  1.0\n"
     ]
    },
    {
     "data": {
      "application/vnd.jupyter.widget-view+json": {
       "model_id": "9090bc89ce8b4df6860d7fc1e125f87c",
       "version_major": 2,
       "version_minor": 0
      },
      "text/plain": [
       "Drawing 1000 posterior samples:   0%|          | 0/1000 [00:00<?, ?it/s]"
      ]
     },
     "metadata": {},
     "output_type": "display_data"
    },
    {
     "name": "stdout",
     "output_type": "stream",
     "text": [
      "acceptance rate:  1.0\n"
     ]
    },
    {
     "data": {
      "application/vnd.jupyter.widget-view+json": {
       "model_id": "f8c25ee7cd4b40fc8a16dc3dd9643d67",
       "version_major": 2,
       "version_minor": 0
      },
      "text/plain": [
       "Drawing 1000 posterior samples:   0%|          | 0/1000 [00:00<?, ?it/s]"
      ]
     },
     "metadata": {},
     "output_type": "display_data"
    },
    {
     "name": "stdout",
     "output_type": "stream",
     "text": [
      "acceptance rate:  1.0\n"
     ]
    },
    {
     "data": {
      "application/vnd.jupyter.widget-view+json": {
       "model_id": "548f0044a85445e1a9a89bd74e4078b9",
       "version_major": 2,
       "version_minor": 0
      },
      "text/plain": [
       "Drawing 1000 posterior samples:   0%|          | 0/1000 [00:00<?, ?it/s]"
      ]
     },
     "metadata": {},
     "output_type": "display_data"
    },
    {
     "name": "stdout",
     "output_type": "stream",
     "text": [
      "acceptance rate:  1.0\n"
     ]
    },
    {
     "data": {
      "application/vnd.jupyter.widget-view+json": {
       "model_id": "4cba9915f6a544209e302c6b5518c38c",
       "version_major": 2,
       "version_minor": 0
      },
      "text/plain": [
       "Drawing 1000 posterior samples:   0%|          | 0/1000 [00:00<?, ?it/s]"
      ]
     },
     "metadata": {},
     "output_type": "display_data"
    },
    {
     "name": "stdout",
     "output_type": "stream",
     "text": [
      "acceptance rate:  1.0\n"
     ]
    },
    {
     "data": {
      "application/vnd.jupyter.widget-view+json": {
       "model_id": "bc48481a3e7042d4b1a3e8b36ca7ad17",
       "version_major": 2,
       "version_minor": 0
      },
      "text/plain": [
       "Drawing 1000 posterior samples:   0%|          | 0/1000 [00:00<?, ?it/s]"
      ]
     },
     "metadata": {},
     "output_type": "display_data"
    },
    {
     "name": "stdout",
     "output_type": "stream",
     "text": [
      "acceptance rate:  1.0\n"
     ]
    },
    {
     "data": {
      "application/vnd.jupyter.widget-view+json": {
       "model_id": "a8c32ead348c4cbd8b7a36b20d825dc5",
       "version_major": 2,
       "version_minor": 0
      },
      "text/plain": [
       "Drawing 1000 posterior samples:   0%|          | 0/1000 [00:00<?, ?it/s]"
      ]
     },
     "metadata": {},
     "output_type": "display_data"
    },
    {
     "name": "stdout",
     "output_type": "stream",
     "text": [
      "acceptance rate:  1.0\n"
     ]
    },
    {
     "data": {
      "application/vnd.jupyter.widget-view+json": {
       "model_id": "0521c59a479d4f65bb67ef99f3dba55e",
       "version_major": 2,
       "version_minor": 0
      },
      "text/plain": [
       "Drawing 1000 posterior samples:   0%|          | 0/1000 [00:00<?, ?it/s]"
      ]
     },
     "metadata": {},
     "output_type": "display_data"
    },
    {
     "name": "stdout",
     "output_type": "stream",
     "text": [
      "acceptance rate:  1.0\n"
     ]
    },
    {
     "data": {
      "application/vnd.jupyter.widget-view+json": {
       "model_id": "d011f4e773804c899a45a1c720acedfd",
       "version_major": 2,
       "version_minor": 0
      },
      "text/plain": [
       "Drawing 1000 posterior samples:   0%|          | 0/1000 [00:00<?, ?it/s]"
      ]
     },
     "metadata": {},
     "output_type": "display_data"
    },
    {
     "name": "stdout",
     "output_type": "stream",
     "text": [
      "acceptance rate:  1.0\n"
     ]
    },
    {
     "data": {
      "application/vnd.jupyter.widget-view+json": {
       "model_id": "f8f8952235484bea8b4541f3cf6a3d49",
       "version_major": 2,
       "version_minor": 0
      },
      "text/plain": [
       "Drawing 1000 posterior samples:   0%|          | 0/1000 [00:00<?, ?it/s]"
      ]
     },
     "metadata": {},
     "output_type": "display_data"
    },
    {
     "name": "stdout",
     "output_type": "stream",
     "text": [
      "acceptance rate:  1.0\n"
     ]
    },
    {
     "data": {
      "application/vnd.jupyter.widget-view+json": {
       "model_id": "1278eea45aae48b083b4ad515ac8fc10",
       "version_major": 2,
       "version_minor": 0
      },
      "text/plain": [
       "Drawing 1000 posterior samples:   0%|          | 0/1000 [00:00<?, ?it/s]"
      ]
     },
     "metadata": {},
     "output_type": "display_data"
    },
    {
     "name": "stdout",
     "output_type": "stream",
     "text": [
      "acceptance rate:  1.0\n"
     ]
    },
    {
     "data": {
      "application/vnd.jupyter.widget-view+json": {
       "model_id": "321a647a41274a50ab92c7953cf1c3e3",
       "version_major": 2,
       "version_minor": 0
      },
      "text/plain": [
       "Drawing 1000 posterior samples:   0%|          | 0/1000 [00:00<?, ?it/s]"
      ]
     },
     "metadata": {},
     "output_type": "display_data"
    },
    {
     "name": "stdout",
     "output_type": "stream",
     "text": [
      "acceptance rate:  1.0\n"
     ]
    },
    {
     "data": {
      "application/vnd.jupyter.widget-view+json": {
       "model_id": "b46815ccc17f4d20bb80e47ab34ebe7e",
       "version_major": 2,
       "version_minor": 0
      },
      "text/plain": [
       "Drawing 1000 posterior samples:   0%|          | 0/1000 [00:00<?, ?it/s]"
      ]
     },
     "metadata": {},
     "output_type": "display_data"
    },
    {
     "name": "stdout",
     "output_type": "stream",
     "text": [
      "acceptance rate:  1.0\n"
     ]
    },
    {
     "data": {
      "application/vnd.jupyter.widget-view+json": {
       "model_id": "20bd74a6132d45b286e46e41f0c9912e",
       "version_major": 2,
       "version_minor": 0
      },
      "text/plain": [
       "Drawing 1000 posterior samples:   0%|          | 0/1000 [00:00<?, ?it/s]"
      ]
     },
     "metadata": {},
     "output_type": "display_data"
    },
    {
     "name": "stdout",
     "output_type": "stream",
     "text": [
      "acceptance rate:  1.0\n"
     ]
    },
    {
     "data": {
      "application/vnd.jupyter.widget-view+json": {
       "model_id": "9925b48ae5ed4080a95df9b949454e5b",
       "version_major": 2,
       "version_minor": 0
      },
      "text/plain": [
       "Drawing 1000 posterior samples:   0%|          | 0/1000 [00:00<?, ?it/s]"
      ]
     },
     "metadata": {},
     "output_type": "display_data"
    },
    {
     "name": "stdout",
     "output_type": "stream",
     "text": [
      "acceptance rate:  1.0\n"
     ]
    },
    {
     "data": {
      "application/vnd.jupyter.widget-view+json": {
       "model_id": "58bd32a47f92445da1ca24d4e365eb5b",
       "version_major": 2,
       "version_minor": 0
      },
      "text/plain": [
       "Drawing 1000 posterior samples:   0%|          | 0/1000 [00:00<?, ?it/s]"
      ]
     },
     "metadata": {},
     "output_type": "display_data"
    },
    {
     "name": "stdout",
     "output_type": "stream",
     "text": [
      "acceptance rate:  1.0\n"
     ]
    },
    {
     "data": {
      "application/vnd.jupyter.widget-view+json": {
       "model_id": "1514444dc85345da9ce7f470bcc0f59b",
       "version_major": 2,
       "version_minor": 0
      },
      "text/plain": [
       "Drawing 1000 posterior samples:   0%|          | 0/1000 [00:00<?, ?it/s]"
      ]
     },
     "metadata": {},
     "output_type": "display_data"
    },
    {
     "name": "stdout",
     "output_type": "stream",
     "text": [
      "acceptance rate:  1.0\n"
     ]
    },
    {
     "data": {
      "application/vnd.jupyter.widget-view+json": {
       "model_id": "d3ab12308b154f93a9b63138a421c255",
       "version_major": 2,
       "version_minor": 0
      },
      "text/plain": [
       "Drawing 1000 posterior samples:   0%|          | 0/1000 [00:00<?, ?it/s]"
      ]
     },
     "metadata": {},
     "output_type": "display_data"
    },
    {
     "name": "stdout",
     "output_type": "stream",
     "text": [
      "acceptance rate:  1.0\n"
     ]
    },
    {
     "data": {
      "application/vnd.jupyter.widget-view+json": {
       "model_id": "ac084673788046038f6ac6eaa4b8ad90",
       "version_major": 2,
       "version_minor": 0
      },
      "text/plain": [
       "Drawing 1000 posterior samples:   0%|          | 0/1000 [00:00<?, ?it/s]"
      ]
     },
     "metadata": {},
     "output_type": "display_data"
    },
    {
     "name": "stdout",
     "output_type": "stream",
     "text": [
      "acceptance rate:  1.0\n"
     ]
    },
    {
     "data": {
      "application/vnd.jupyter.widget-view+json": {
       "model_id": "241d2b5ec05e418eb92146eddf261983",
       "version_major": 2,
       "version_minor": 0
      },
      "text/plain": [
       "Drawing 1000 posterior samples:   0%|          | 0/1000 [00:00<?, ?it/s]"
      ]
     },
     "metadata": {},
     "output_type": "display_data"
    },
    {
     "name": "stdout",
     "output_type": "stream",
     "text": [
      "acceptance rate:  1.0\n"
     ]
    }
   ],
   "source": [
    "analytic = torch.distributions.normal.Normal(true_thetas, 1)\n",
    "\n",
    "\n",
    "overall_incremental_list_greater_ratio = []\n",
    "\n",
    "variance_list_greater_ratio = []\n",
    "\n",
    "mean_list_greater_ratio = []\n",
    "\n",
    "for posterior_incremental_list in list_collection_inc_greater_ratio:\n",
    "    \n",
    "    KL_incremental = []\n",
    "\n",
    "    for posterior_incremental in posterior_incremental_list:\n",
    "\n",
    "        posterior_incremental.set_default_x(obs_real)\n",
    "\n",
    "        #KL = KLdivergence(posterior_incremental, sample_y)\n",
    "\n",
    "        KL, var_x, mu_x = KL_Gauss(posterior_incremental, analytic)\n",
    "        \n",
    "        variance_list_greater_ratio.append(var_x)\n",
    "        mean_list_greater_ratio.append(mu_x)\n",
    "\n",
    "        #KL_1d = calc_KL_1d(posterior_incremental, analytic)\n",
    "\n",
    "        #KL_incremental_1d.append(KL_1d)\n",
    "\n",
    "\n",
    "        KL_incremental.append(KL)\n",
    "\n",
    "        \n",
    "    overall_incremental_list_greater_ratio.append(KL_incremental)"
   ]
  },
  {
   "cell_type": "code",
   "execution_count": 20,
   "id": "4929bd19",
   "metadata": {},
   "outputs": [
    {
     "data": {
      "text/plain": [
       "30"
      ]
     },
     "execution_count": 20,
     "metadata": {},
     "output_type": "execute_result"
    }
   ],
   "source": [
    "len(variance_list)"
   ]
  },
  {
   "cell_type": "code",
   "execution_count": 21,
   "id": "f941bdb3",
   "metadata": {},
   "outputs": [],
   "source": [
    "#mean_nipe = torch.mean(torch.stack(([variance_list[i] for i in range(25,30)]), dim=1), dim=1)\n",
    "\n",
    "#std_nipe = torch.std(torch.stack(([variance_list[i] for i in range(25,30)]), dim=1), dim=1)\n",
    "\n",
    "\n",
    "nipe_array = torch.stack(([variance_list[i] for i in range(25,30)]), dim=1)\n",
    "\n",
    "snpe_array = torch.stack(([variance_list_snpe[i] for i in range(25,30)]), dim=1)\n",
    "\n",
    "nipe_noratio_array = torch.stack(([variance_list_ratio[i] for i in range(25,30)]), dim=1)\n",
    "\n",
    "nipe_greater_ratio_array = torch.stack(([variance_list_greater_ratio[i] for i in range(15, 20)]), dim=1)\n",
    "\n"
   ]
  },
  {
   "cell_type": "code",
   "execution_count": 22,
   "id": "6ca69c75",
   "metadata": {},
   "outputs": [
    {
     "data": {
      "text/plain": [
       "20"
      ]
     },
     "execution_count": 22,
     "metadata": {},
     "output_type": "execute_result"
    }
   ],
   "source": [
    "len(variance_list_greater_ratio)"
   ]
  },
  {
   "cell_type": "code",
   "execution_count": 26,
   "id": "7b5850be",
   "metadata": {},
   "outputs": [
    {
     "data": {
      "text/plain": [
       "<matplotlib.legend.Legend at 0x7f5e84f58f90>"
      ]
     },
     "execution_count": 26,
     "metadata": {},
     "output_type": "execute_result"
    },
    {
     "data": {
      "image/png": "[encoded data removed]",
      "text/plain": [
       "<Figure size 1080x576 with 3 Axes>"
      ]
     },
     "metadata": {},
     "output_type": "display_data"
    }
   ],
   "source": [
    "### plot variances:\n",
    "import seaborn as sns\n",
    "\n",
    "sns.set_style(\"whitegrid\", {'axes.grid' : False})\n",
    "#sns.set_context('talk')\n",
    "sns.set_context('notebook')\n",
    "\n",
    "figure_mosaic = \"\"\"\n",
    "ACC\n",
    "BCC\n",
    "\"\"\"\n",
    "\n",
    "fig, axes = plt.subplot_mosaic(mosaic=figure_mosaic, figsize=(15, 8))\n",
    "\n",
    "#axes['A'].plot(variance_list[58],'o', label='nipe', c='blue')\n",
    "\n",
    "#nipe_box  = axes['A'].boxplot(nipe_noratio_array, patch_artist=True, boxprops=dict(facecolor='lightblue'), medianprops=dict(color='red'),            \n",
    "#            flierprops=dict(color='lightblue', markeredgecolor='blue'),positions=[1, 2, 3, 4, 5, 6, 7, 8, 9, 10, 11, 12, 13, \n",
    "#                                                                                 14, 15])\n",
    "axes['A'].set(xticklabels=[])\n",
    "#nipe_ratio_box  = axes['A'].boxplot(nipe_array, patch_artist=True, boxprops=dict(facecolor='blue'), medianprops=dict(color='red'),            \n",
    "#            flierprops=dict(color='blue', markeredgecolor='blue'),positions=[1.1, 2.1, 3.1, 4.1, 5.1, 6.1, 7.1, 8.1, 9.1, 10.1, 11.1, 12.1, 13.1, \n",
    "#                                                                                 14.1, 15.1])\n",
    "\n",
    "nipe_greater = axes['A'].boxplot(nipe_greater_ratio_array, patch_artist=True, boxprops=dict(facecolor='purple'), medianprops=dict(linewidth=0),            \n",
    "            flierprops=dict(color='purple', markeredgecolor='purple'),positions=[1.2, 2.2, 3.2, 4.2, 5.2, 6.2, 7.2, 8.2, 9.2, 10.2, 11.2, 12.2, 13.2, \n",
    "                                                                                 14.2, 15.2])\n",
    "axes['A'].set(xticklabels=[])\n",
    "\n",
    "\n",
    "axes['A'].set_ylim(0,5)\n",
    "\n",
    "snpe_box = axes['B'].boxplot(snpe_array, patch_artist=True, boxprops=dict(facecolor='springgreen'), medianprops=dict(linewidth=0),flierprops=dict(color='green', markeredgecolor='green'),)\n",
    "axes['B'].set_ylim(0,10)\n",
    "\n",
    "\n",
    "#axes['A'].plot(variance_list[59],'o', label='nipe', c='blue')\n",
    "#axes['A'].plot(variance_list[57],'o', label='nipe', c='blue')\n",
    "\n",
    "\n",
    "nipe_box = axes['C'].boxplot(nipe_noratio_array, patch_artist=True, medianprops = dict(linewidth=0), boxprops=dict(facecolor='lightblue'),  flierprops=dict(color='lightblue', markeredgecolor='lightblue'),\n",
    "                  positions=[0.9, 1.9, 2.9, 3.9, 4.9, 5.9, 6.9, 7.9, 8.9, 9.9, 10.9, 11.9, 12.9, 13.9, \n",
    "                                                                                 14.9])\n",
    "\n",
    "\n",
    "nipe_ratio_box = axes['C'].boxplot(nipe_array, patch_artist=True, medianprops = dict(linewidth=0), boxprops=dict(facecolor='blue'),            \n",
    "            flierprops=dict(color='blue', markeredgecolor='blue'),positions=[1.1, 2.1, 3.1, 4.1, 5.1, 6.1, 7.1, 8.1, 9.1, 10.1, 11.1, 12.1, 13.1, \n",
    "                                                                                 14.1, 15.1])\n",
    "\n",
    "nipe_greater = axes['C'].boxplot(nipe_greater_ratio_array, medianprops = dict(linewidth=0),patch_artist=True, boxprops=dict(facecolor='purple'),            \n",
    "            flierprops=dict(color='blue', markeredgecolor='blue'),positions=[1.2, 2.2, 3.2, 4.2, 5.2, 6.2, 7.2, 8.2, 9.2, 10.2, 11.2, 12.2, 13.2, \n",
    "                                                                                 14.2, 15.2])\n",
    "\n",
    "for b in nipe_greater['boxes']:\n",
    "    b.set_alpha(0.8)\n",
    "    \n",
    "for b in nipe_ratio_box['boxes']:\n",
    "    b.set_alpha(0.8)\n",
    "\n",
    "for b in nipe_box['boxes']:\n",
    "    b.set_alpha(0.8)\n",
    "    \n",
    "for b in snpe_box['boxes']:\n",
    "    b.set_alpha(0.4)\n",
    "    \n",
    "    \n",
    "axes['C'].set(xticklabels=[])\n",
    "\n",
    "ana_plot = axes['A'].plot(np.linspace(1,15, 15), analytic.stddev[0], 'o', c='red', label='analytic')\n",
    "\n",
    "    \n",
    "axes['B'].plot(np.linspace(1,15, 15), analytic.stddev[0], 'o', c='red', label='analytic')\n",
    "axes['C'].plot(np.linspace(1,15, 15), analytic.stddev[0], 'o', c='red', label='analytic')\n",
    "\n",
    "#axes['B'].plot(variance_list_snpe[59],'o', c='g', label = 'snpe')\n",
    "snpe_c = axes['C'].boxplot(snpe_array, patch_artist=True, medianprops = dict(linewidth=0),\n",
    "                  boxprops=dict(facecolor='springgreen'), flierprops=dict(color='springgreen', markeredgecolor='green'),\n",
    "                  )\n",
    "\n",
    "for b in snpe_c['boxes']:\n",
    "    b.set_alpha(0.4)\n",
    "    \n",
    "axes['C'].set_ylim(0,16)\n",
    "\n",
    "axes['C'].legend()\n",
    "\n",
    "axes['B'].legend([snpe_box['boxes'][0], ana_plot[0]], ['snpe', 'analytic'], loc='upper left')\n",
    "axes['A'].legend([nipe_greater['boxes'][0], ana_plot[0]], ['nipe budget3',  'analytic'], loc='upper left')\n",
    "axes['C'].legend([nipe_box['boxes'][0], nipe_ratio_box['boxes'][0],  nipe_greater['boxes'][0], snpe_box['boxes'][0], ana_plot[0]], ['nipe budget1', 'nipe budget2', 'nipe budget3','snpe', 'analytic'], loc='upper left')"
   ]
  },
  {
   "cell_type": "code",
   "execution_count": 24,
   "id": "30957a7d",
   "metadata": {},
   "outputs": [],
   "source": [
    "nipe_array = torch.stack(([mean_list[i] for i in range(10)]), dim=1)\n",
    "\n",
    "\n",
    "snpe_array = torch.stack(([mean_list_snpe[i] for i in range(10)]), dim=1)"
   ]
  },
  {
   "cell_type": "code",
   "execution_count": 25,
   "id": "24015dbc",
   "metadata": {},
   "outputs": [
    {
     "data": {
      "text/plain": [
       "tensor([[ 3.,  6., 20., 10., 90., 55., 27., 27.,  4., 70.,  5., 66., 99., 40.,\n",
       "         45.]])"
      ]
     },
     "execution_count": 25,
     "metadata": {},
     "output_type": "execute_result"
    }
   ],
   "source": [
    "analytic.mean"
   ]
  },
  {
   "cell_type": "code",
   "execution_count": 26,
   "id": "46593918",
   "metadata": {},
   "outputs": [
    {
     "data": {
      "text/plain": [
       "<matplotlib.legend.Legend at 0x7f86c91dd9d0>"
      ]
     },
     "execution_count": 26,
     "metadata": {},
     "output_type": "execute_result"
    },
    {
     "data": {
      "image/png": "[encoded data removed]",
      "text/plain": [
       "<Figure size 1080x576 with 3 Axes>"
      ]
     },
     "metadata": {},
     "output_type": "display_data"
    }
   ],
   "source": [
    "### plot means:\n",
    "import seaborn as sns\n",
    "\n",
    "sns.set_style(\"whitegrid\", {'axes.grid' : False})\n",
    "\n",
    "figure_mosaic = \"\"\"\n",
    "ACC\n",
    "BCC\n",
    "\"\"\"\n",
    "\n",
    "fig, axes = plt.subplot_mosaic(mosaic=figure_mosaic, figsize=(15, 8))\n",
    "\n",
    "#axes['A'].plot(variance_list[58],'o', label='nipe', c='blue')\n",
    "\n",
    "nipe_box  = axes['A'].boxplot(nipe_array, patch_artist=True, boxprops=dict(facecolor='blue'), medianprops=dict(color='red'),            \n",
    "            flierprops=dict(color='blue', markeredgecolor='blue'))\n",
    "\n",
    "[patch.set(alpha=None, facecolor=(0.,0.,1,.3)) for patch in nipe_box['boxes']]\n",
    "\n",
    "#axes['A'].set_ylim(0,15)\n",
    "\n",
    "snpe_box = axes['B'].boxplot(snpe_array, patch_artist=True, boxprops=dict(facecolor='green'), medianprops=dict(color='red'),flierprops=dict(color='green', markeredgecolor='green'),)\n",
    "#axes['B'].set_ylim(0,15)\n",
    "\n",
    "[patch.set(alpha=None, facecolor=(0,0.7,0,.1)) for patch in snpe_box['boxes']]\n",
    "\n",
    "\n",
    "#axes['A'].plot(variance_list[59],'o', label='nipe', c='blue')\n",
    "#axes['A'].plot(variance_list[57],'o', label='nipe', c='blue')\n",
    "\n",
    "\n",
    "nipe_box2 = axes['C'].boxplot(nipe_array, patch_artist=True, boxprops=dict(facecolor='blue'), medianprops=dict(color='red'), flierprops=dict(color='blue', markeredgecolor='blue'),)\n",
    "\n",
    "ana_plot = axes['A'].plot(np.linspace(1,15, 15), analytic.mean[0], 'o', c='orange', label='analytic')\n",
    "axes['B'].plot(np.linspace(1,15, 15), analytic.mean[0], 'o', c='orange', label='analytic')\n",
    "axes['C'].plot(np.linspace(1,15, 15), analytic.mean[0], 'o', c='orange', label='analytic')\n",
    "\n",
    "#axes['B'].plot(variance_list_snpe[59],'o', c='g', label = 'snpe')\n",
    "snpe_box2 = axes['C'].boxplot(snpe_array, patch_artist=True, boxprops=dict(facecolor='green'), medianprops=dict(color='red'), flierprops=dict(color='green', markeredgecolor='green'),)\n",
    "#axes['C'].set_ylim(0,15)\n",
    "\n",
    "[patch.set(alpha=None, facecolor=(0,0.7,0,.1)) for patch in snpe_box2['boxes']]\n",
    "[patch.set(alpha=None, facecolor=(0.,0.,1,.3)) for patch in nipe_box2['boxes']]\n",
    "\n",
    "axes['C'].legend()\n",
    "\n",
    "axes['B'].legend([snpe_box['boxes'][0], ana_plot[0]], ['snpe', 'analytic'], loc='upper left')\n",
    "axes['A'].legend([nipe_box['boxes'][0], ana_plot[0]], ['nipe',  'analytic'], loc='upper left')\n",
    "axes['C'].legend([nipe_box['boxes'][0], snpe_box['boxes'][0], ana_plot[0]], ['nipe', 'snpe', 'analytic'], loc='upper right')"
   ]
  }
 ],
 "metadata": {
  "kernelspec": {
   "display_name": "Python 3 (ipykernel)",
   "language": "python",
   "name": "python3"
  },
  "language_info": {
   "codemirror_mode": {
    "name": "ipython",
    "version": 3
   },
   "file_extension": ".py",
   "mimetype": "text/x-python",
   "name": "python",
   "nbconvert_exporter": "python",
   "pygments_lexer": "ipython3",
   "version": "3.7.11"
  }
 },
 "nbformat": 4,
 "nbformat_minor": 5
}
