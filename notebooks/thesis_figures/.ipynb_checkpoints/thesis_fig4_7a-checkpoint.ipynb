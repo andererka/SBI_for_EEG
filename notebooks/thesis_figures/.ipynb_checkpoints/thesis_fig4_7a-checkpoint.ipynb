{
 "cells": [
  {
   "cell_type": "markdown",
   "id": "4adc7403",
   "metadata": {},
   "source": [
    "# Creating Figure 4.7a for Thesis"
   ]
  },
  {
   "cell_type": "code",
   "execution_count": 1,
   "id": "e788d96d",
   "metadata": {},
   "outputs": [],
   "source": [
    "%load_ext autoreload\n",
    "%autoreload 2\n",
    "import os.path as op\n",
    "import tempfile\n",
    "\n",
    "import matplotlib.pyplot as plt\n",
    "\n",
    "\n",
    "import hnn_core\n",
    "from hnn_core import simulate_dipole, jones_2009_model\n",
    "from hnn_core.viz import plot_dipole\n",
    "\n",
    "\n",
    "import sys\n",
    "sys.path.append('../code/')\n",
    "sys.path.append('../code/utils/')\n",
    "\n",
    "\n",
    "import numpy as np\n",
    "import torch\n",
    "\n",
    "# visualization\n",
    "import matplotlib as mpl\n",
    "import matplotlib.pyplot as plt\n",
    "\n",
    "\n",
    "import os\n",
    "\n",
    "work_dir = '/home/ubuntu/sbi_for_eeg_data/code/'\n",
    "\n",
    "os.chdir(work_dir)\n",
    "\n",
    "import utils.sbi_modulated_functions\n",
    "\n",
    "# sbi\n",
    "from sbi import utils as utils\n",
    "from sbi import analysis as analysis\n",
    "from sbi.inference.base import infer\n",
    "from sbi.inference import SNPE, prepare_for_sbi, simulate_for_sbi\n",
    "\n",
    "from sbi.analysis import conditional_pairplot, conditional_corrcoeff\n",
    "\n",
    "\n",
    "\n",
    "# import the summary statistics that you want to investigate\n",
    "from summary_features.calculate_summary_features import calculate_summary_statistics_alternative as alternative_sumstats\n",
    "from summary_features.calculate_summary_features import calculate_summary_stats_temporal as temporal_sumstats\n",
    "from summary_features.calculate_summary_features import calculate_summary_stats_number as number_sumstats\n",
    "from summary_features.calculate_summary_features import calculate_summary_stats_temporal\n"
   ]
  },
  {
   "cell_type": "code",
   "execution_count": 2,
   "id": "ab993458",
   "metadata": {},
   "outputs": [
    {
     "name": "stdout",
     "output_type": "stream",
     "text": [
      "1.11.0\n"
     ]
    }
   ],
   "source": [
    "print(torch.__version__)"
   ]
  },
  {
   "cell_type": "code",
   "execution_count": 3,
   "id": "9c212ce0",
   "metadata": {},
   "outputs": [],
   "source": [
    "## defining neuronal network model\n",
    "\n",
    "num_params = 17\n",
    "\n",
    "from utils.simulation_wrapper import set_network_default, SimulationWrapper\n",
    "sim_wrapper = SimulationWrapper(num_params, noise=False)\n"
   ]
  },
  {
   "cell_type": "code",
   "execution_count": 5,
   "id": "b287160d",
   "metadata": {},
   "outputs": [],
   "source": [
    "window_len = 30\n",
    "\n",
    "    \n",
    "prior_min = [0, 0, 0, 0, 0, 13.3,  0, 0, 0, 0, 0, 51.980, 0, 0, 0, 0, 112.13]\n",
    "prior_max = [0.927, 0.160, 2.093, 1.0, 1.0, 35.9, 0.000042, 0.039372, 0.025902,  0.480, 0.117, 75.08, 8.633, 4.104, 1.0, 1.0, 162.110]\n",
    "\n",
    "true_params = torch.tensor([[0.277, 0.0399, 0.6244, 0.3739, 0.0, 18.977, 0.000012, 0.0115, 0.0134,  0.0767, 0.06337, 63.08, 4.6729, 2.33, 0.016733, 0.0679, 120.86]])\n",
    "\n",
    "\n",
    "prior = utils.torchutils.BoxUniform(low=prior_min, high=prior_max)\n",
    "\n",
    "#number_simulations = 10\n",
    "density_estimator = 'nsf'\n"
   ]
  },
  {
   "cell_type": "code",
   "execution_count": 6,
   "id": "e5528677",
   "metadata": {},
   "outputs": [],
   "source": [
    "\n",
    "from utils import inference"
   ]
  },
  {
   "cell_type": "code",
   "execution_count": 7,
   "id": "230edc87",
   "metadata": {},
   "outputs": [],
   "source": [
    "from utils import inference\n",
    "\n",
    "import pickle\n",
    "from data_load_writer import *\n",
    "from data_load_writer import load_from_file as lf\n",
    "\n",
    "import os\n",
    "\n",
    "work_dir = '/home/ubuntu/'\n",
    "\n",
    "os.chdir(work_dir)\n",
    "\n",
    "file = '10000sims_17params_11_04_nsf_fake_ratio'\n",
    "\n",
    "file =  '10000sims_17params_20_04_nsf_fake_lower_std'\n",
    "\n",
    "\n",
    "os.chdir('results')\n",
    "\n",
    "\n",
    "posterior = torch.load('{}/posterior.pt'.format(file))\n",
    "\n",
    "obs_real = torch.load('{}/obs_real.pt'.format(file))"
   ]
  },
  {
   "cell_type": "code",
   "execution_count": 8,
   "id": "dc6f7411",
   "metadata": {},
   "outputs": [],
   "source": [
    "#posterior = posteriors_round[1]"
   ]
  },
  {
   "cell_type": "code",
   "execution_count": 9,
   "id": "20447a5a",
   "metadata": {},
   "outputs": [
    {
     "data": {
      "application/vnd.jupyter.widget-view+json": {
       "model_id": "b70782cbdb834a1ea0a25c5fdec13fc5",
       "version_major": 2,
       "version_minor": 0
      },
      "text/plain": [
       "Drawing 100 posterior samples:   0%|          | 0/100 [00:00<?, ?it/s]"
      ]
     },
     "metadata": {},
     "output_type": "display_data"
    },
    {
     "name": "stdout",
     "output_type": "stream",
     "text": [
      "acceptance rate:  1.0\n"
     ]
    },
    {
     "name": "stderr",
     "output_type": "stream",
     "text": [
      "/home/ubuntu/miniconda3/envs/sbi_env/lib/python3.7/site-packages/nflows/transforms/lu.py:81: UserWarning: torch.triangular_solve is deprecated in favor of torch.linalg.solve_triangularand will be removed in a future PyTorch release.\n",
      "torch.linalg.solve_triangular has its arguments reversed and does not return a copy of one of the inputs.\n",
      "X = torch.triangular_solve(B, A).solution\n",
      "should be replaced with\n",
      "X = torch.linalg.solve_triangular(A, B). (Triggered internally at  /opt/conda/conda-bld/pytorch_1646755861072/work/aten/src/ATen/native/BatchLinearAlgebra.cpp:1672.)\n",
      "  outputs.t(), lower, upper=False, unitriangular=True\n"
     ]
    }
   ],
   "source": [
    "#obs_real_stat2 = calculate_summary_stats_temporal(obs_real[0])\n",
    "\n",
    "samples = posterior.sample((100,))"
   ]
  },
  {
   "cell_type": "code",
   "execution_count": 10,
   "id": "e283b673",
   "metadata": {},
   "outputs": [],
   "source": [
    "parameter_names = [\"prox1_ampa_l2_bas\",\"prox1_ampa_l2_pyr\",\"prox1_ampa_l5_bas\",\"prox1_nmda_l5_bas\", \"prox1_nmda_l5_pyr\",\n",
    " \"t_prox1\",\n",
    " \"dist_ampa_l2_pyr\",\"dist_ampa_l2_bas\",\"dist_nmda_l2_pyr\",\n",
    " \"dist_nmda_l5_pyr\",\"dist_nmda_l2_bas\",\n",
    " \"t_dist\", \n",
    " \"prox2_ampa_l2_pyr\",\"prox2_ampa_l5_pyr\",\"prox2_nmda_l2_pyr\",\"prox2_nmda_l5_pyr\",\n",
    " \"t_prox2\"]\n",
    "\n",
    "if num_params ==6:\n",
    "    parameter_names = [\"prox_1_ampa_l2_pyr\",\n",
    "     \"t_evprox_1\",\n",
    "     \"dist_nmda_l2_pyr\",\n",
    "     \"t_evdist_1\", \n",
    "     \"prox_2_ampa_l5_pyr\",\n",
    "     \"t_evprox_2\"]"
   ]
  },
  {
   "cell_type": "code",
   "execution_count": null,
   "id": "36e3d854",
   "metadata": {},
   "outputs": [
    {
     "name": "stdout",
     "output_type": "stream",
     "text": [
      "param size param size17 17param size\n",
      "early stop\n",
      "param size early stopparam size   200.017 param size\n",
      "200.017\n",
      "param size  \n",
      "param size \n",
      "17param size17early stopparam size \n",
      "early stop    200.0early stop 17\n",
      " 17\n",
      "200.0param size \n",
      "\n",
      "early stop param size 17  \n",
      "17200.0\n",
      "param size  1717\n",
      "\n",
      "\n",
      "17200.0\n",
      "early stop\n",
      " early stop200.0\n",
      " \n",
      "param size 200.0 param size \n",
      "17 \n",
      "param size  17\n",
      "17\n",
      "num_params num_paramsnum_params  1717\n",
      "\n",
      "num_paramsnum_params 17 17\n",
      "\n",
      "joblib will run over 1 jobsjoblib will run over 1 jobs\n",
      "\n",
      "joblib will run over 1 jobsjoblib will run over 1 jobs\n",
      "17\n",
      "num_params\n",
      "joblib will run over 1 jobs \n",
      "\n",
      "17[Parallel(n_jobs=8)]: Using backend MultiprocessingBackend with 8 concurrent workers.\n",
      "num_paramsjoblib will run over 1 jobs \n",
      "17\n",
      "num_params 17\n",
      "joblib will run over 1 jobs\n",
      "joblib will run over 1 jobs\n",
      "Loading custom mechanism files from /home/ubuntu/miniconda3/envs/sbi_env/lib/python3.7/site-packages/hnn_core/mod/x86_64/.libs/libnrnmech.so\n",
      "Building the NEURON model\n",
      "Loading custom mechanism files from /home/ubuntu/miniconda3/envs/sbi_env/lib/python3.7/site-packages/hnn_core/mod/x86_64/.libs/libnrnmech.so\n",
      "Loading custom mechanism files from /home/ubuntu/miniconda3/envs/sbi_env/lib/python3.7/site-packages/hnn_core/mod/x86_64/.libs/libnrnmech.soBuilding the NEURON model\n",
      "Loading custom mechanism files from /home/ubuntu/miniconda3/envs/sbi_env/lib/python3.7/site-packages/hnn_core/mod/x86_64/.libs/libnrnmech.so\n",
      "\n",
      "Building the NEURON modelBuilding the NEURON model\n",
      "\n",
      "Loading custom mechanism files from /home/ubuntu/miniconda3/envs/sbi_env/lib/python3.7/site-packages/hnn_core/mod/x86_64/.libs/libnrnmech.soLoading custom mechanism files from /home/ubuntu/miniconda3/envs/sbi_env/lib/python3.7/site-packages/hnn_core/mod/x86_64/.libs/libnrnmech.so\n",
      "Loading custom mechanism files from /home/ubuntu/miniconda3/envs/sbi_env/lib/python3.7/site-packages/hnn_core/mod/x86_64/.libs/libnrnmech.so\n",
      "Building the NEURON modelBuilding the NEURON model\n",
      "\n",
      "Building the NEURON model\n",
      "Loading custom mechanism files from /home/ubuntu/miniconda3/envs/sbi_env/lib/python3.7/site-packages/hnn_core/mod/x86_64/.libs/libnrnmech.so\n",
      "\n",
      "Building the NEURON model\n",
      "[Done]\n",
      "[Done]\n",
      "running trial 1 on 1 cores\n",
      "[Done]\n",
      "[Done]\n",
      "running trial 1 on 1 cores\n",
      "running trial 1 on 1 cores\n",
      "running trial 1 on 1 cores\n",
      "Simulation time: 0.03 ms...\n",
      "Simulation time: 0.03 ms...\n",
      "Simulation time: 0.03 ms...\n",
      "Simulation time: 0.03 ms...\n",
      "[Done]\n",
      "running trial 1 on 1 cores\n",
      "[Done][Done]\n",
      "\n",
      "running trial 1 on 1 cores\n",
      "running trial 1 on 1 cores\n",
      "Simulation time: 0.03 ms...\n",
      "Simulation time: 0.03 ms...\n",
      "Simulation time: 0.03 ms...\n",
      "[Done]\n",
      "running trial 1 on 1 cores\n",
      "Simulation time: 0.03 ms...\n",
      "Simulation time: 10.0 ms...\n",
      "Simulation time: 10.0 ms...\n",
      "Simulation time: 10.0 ms...\n",
      "Simulation time: 10.0 ms...\n",
      "Simulation time: 10.0 ms...\n",
      "Simulation time: 10.0 ms...\n",
      "Simulation time: 10.0 ms...\n",
      "Simulation time: 10.0 ms...\n",
      "Simulation time: 20.0 ms...\n",
      "Simulation time: 20.0 ms...\n",
      "Simulation time: 20.0 ms...\n",
      "Simulation time: 20.0 ms...\n",
      "Simulation time: 20.0 ms...\n",
      "Simulation time: 20.0 ms...\n",
      "Simulation time: 20.0 ms...\n",
      "Simulation time: 20.0 ms...\n",
      "Simulation time: 30.0 ms...\n",
      "Simulation time: 30.0 ms...\n",
      "Simulation time: 30.0 ms...\n",
      "Simulation time: 30.0 ms...\n",
      "Simulation time: 30.0 ms...\n",
      "Simulation time: 30.0 ms...\n",
      "Simulation time: 30.0 ms...\n",
      "Simulation time: 30.0 ms...\n",
      "Simulation time: 40.0 ms...\n",
      "Simulation time: 40.0 ms...\n",
      "Simulation time: 40.0 ms...\n",
      "Simulation time: 40.0 ms...\n",
      "Simulation time: 40.0 ms...\n",
      "Simulation time: 40.0 ms...\n",
      "Simulation time: 40.0 ms...\n",
      "Simulation time: 40.0 ms...\n",
      "Simulation time: 50.0 ms...\n",
      "Simulation time: 50.0 ms...\n",
      "Simulation time: 50.0 ms...\n"
     ]
    }
   ],
   "source": [
    "s_x = inference.run_only_sim(samples, simulation_wrapper=sim_wrapper, num_workers=8)"
   ]
  },
  {
   "cell_type": "code",
   "execution_count": null,
   "id": "80dbdbae",
   "metadata": {},
   "outputs": [],
   "source": [
    "### sample from prior now\n",
    "num_samples = 100\n",
    "samples_prior = []\n",
    "\n",
    "\n",
    "for i in range(num_samples):\n",
    "    sample = prior.sample()\n",
    "    samples_prior.append(sample)\n",
    "    "
   ]
  },
  {
   "cell_type": "code",
   "execution_count": null,
   "id": "4a97b7fe",
   "metadata": {},
   "outputs": [],
   "source": [
    "    \n",
    "s_x_prior = inference.run_only_sim(samples_prior, sim_wrapper, num_workers=8)"
   ]
  },
  {
   "cell_type": "code",
   "execution_count": null,
   "id": "5d7dcaf1",
   "metadata": {},
   "outputs": [],
   "source": [
    "s_x_torch = torch.stack(([s_x[i] for i in range(39)]))\n",
    "s_x_prior_torch = torch.stack(([s_x_prior[i] for i in range(39)]))\n",
    "\n",
    "\n",
    "mean = torch.mean(s_x_torch, 0)\n",
    "std = torch.std(s_x_torch, 0)\n",
    "\n",
    "mean_prior = torch.mean(s_x_prior_torch, 0)\n",
    "std_prior = torch.std(s_x_prior_torch, 0)\n",
    "\n",
    "lower = mean - 1.96 * std\n",
    "\n",
    "\n",
    "upper = mean + 1.96 * std\n",
    "\n",
    "\n",
    "lower_prior = mean_prior - 1.96 * std_prior\n",
    "\n",
    "\n",
    "upper_prior = mean_prior + 1.96 * std_prior\n",
    "\n"
   ]
  },
  {
   "cell_type": "code",
   "execution_count": null,
   "id": "682f21e0",
   "metadata": {},
   "outputs": [],
   "source": [
    "obs_real = torch.load('{}/obs_real.pt'.format(file))"
   ]
  },
  {
   "cell_type": "code",
   "execution_count": null,
   "id": "92037c41",
   "metadata": {},
   "outputs": [],
   "source": [
    "import seaborn as sns\n",
    "\n",
    "sns.set() \n",
    "\n",
    "sns.set_style(\"whitegrid\", {'axes.grid' : False})\n",
    "#sns.set_style('ticks')\n",
    "\n",
    "fig1, ax = plt.subplots(1, 1)\n",
    "#ax.set_title(\"Comparing signal\")\n",
    "\n",
    "    \n",
    "plt.plot(mean, color ='blue', label='mean of posterior')\n",
    "\n",
    "for s in s_x[0:40]:\n",
    "    plt.plot(s, alpha=0.05, color='blue')\n",
    "    #plt.ylim(-30,30)\n",
    "    plt.xlim(0, 7000)\n",
    "\n",
    "plt.plot(lower, color='blue', linestyle='dashed', label='95% confidence')\n",
    "plt.plot(upper, color='blue', linestyle='dashed')\n",
    "plt.fill_between(x= torch.arange(len(mean_prior)), y1=lower, y2=upper, color='blue', alpha=0.1)\n",
    "plt.xlim(0, 7000)\n",
    "plt.ylim(-100, 200)\n",
    "\n",
    "\n",
    "plt.plot(mean_prior, color ='orange', label='mean of prior')\n",
    "\n",
    "\n",
    "for x_w in s_x_prior[0:40]:\n",
    "    plt.plot(x_w, alpha=0.05, color='orange')\n",
    "\n",
    "plt.plot(lower_prior, color='orange', linestyle='dashed', label='95% confidence')\n",
    "plt.plot(upper_prior, color='orange', linestyle='dashed')\n",
    "plt.fill_between(x= torch.arange(len(mean_prior)), y1=lower_prior, y2=upper_prior, color='orange', alpha=0.2)\n",
    "plt.xlim(0, 7000)\n",
    "\n",
    "plt.xlabel('time in ms')\n",
    "#plt.ylabel('voltage ()')\n",
    "\n",
    "fig1.gca().set_ylabel(r'voltage ($\\mu V$)')\n",
    "    \n",
    "plt.plot(obs_real, label='Ground truth', color='red', linewidth=0.5)\n",
    "\n",
    "\n",
    "\n",
    "plt.legend()"
   ]
  },
  {
   "cell_type": "code",
   "execution_count": 17,
   "id": "5df01ac6",
   "metadata": {},
   "outputs": [
    {
     "data": {
      "text/plain": [
       "<Figure size 432x288 with 0 Axes>"
      ]
     },
     "metadata": {},
     "output_type": "display_data"
    }
   ],
   "source": [
    "plt.savefig('thesis_4_7a.png')"
   ]
  },
  {
   "cell_type": "code",
   "execution_count": null,
   "id": "6783b6d4",
   "metadata": {},
   "outputs": [],
   "source": []
  }
 ],
 "metadata": {
  "kernelspec": {
   "display_name": "Python 3 (ipykernel)",
   "language": "python",
   "name": "python3"
  },
  "language_info": {
   "codemirror_mode": {
    "name": "ipython",
    "version": 3
   },
   "file_extension": ".py",
   "mimetype": "text/x-python",
   "name": "python",
   "nbconvert_exporter": "python",
   "pygments_lexer": "ipython3",
   "version": "3.7.11"
  }
 },
 "nbformat": 4,
 "nbformat_minor": 5
}
