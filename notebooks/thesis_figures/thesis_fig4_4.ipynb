{
 "cells": [
  {
   "cell_type": "markdown",
   "id": "4adc7403",
   "metadata": {},
   "source": [
    "# Exploring parameters\n",
    "\n",
    "#### density plots, post predictive checks etc."
   ]
  },
  {
   "cell_type": "code",
   "execution_count": 1,
   "id": "e788d96d",
   "metadata": {},
   "outputs": [],
   "source": [
    "%load_ext autoreload\n",
    "%autoreload 2\n",
    "import os.path as op\n",
    "import tempfile\n",
    "\n",
    "import matplotlib.pyplot as plt\n",
    "\n",
    "\n",
    "import hnn_core\n",
    "from hnn_core import simulate_dipole, jones_2009_model\n",
    "from hnn_core.viz import plot_dipole\n",
    "\n",
    "\n",
    "import sys\n",
    "sys.path.append('../code/')\n",
    "sys.path.append('../code/utils/')\n",
    "#sys.path.append('../code/sbi/')\n",
    "#sys.path.append('../../results_cluster/')\n",
    "\n",
    "\n",
    "import numpy as np\n",
    "import torch\n",
    "\n",
    "# visualization\n",
    "import matplotlib as mpl\n",
    "import matplotlib.pyplot as plt\n",
    "\n",
    "\n",
    "import os\n",
    "\n",
    "work_dir = '/home/ubuntu/sbi_for_eeg_data/code/'\n",
    "\n",
    "os.chdir(work_dir)\n",
    "\n",
    "#from utils.plot import cov, compare_vars, plot_varchanges\n",
    "#from utils.plot import compare_KLs, plot_KLs\n",
    "#from sbi.inference import potentials\n",
    "import utils.sbi_modulated_functions\n",
    "\n",
    "# sbi\n",
    "from sbi import utils as utils\n",
    "from sbi import analysis as analysis\n",
    "from sbi.inference.base import infer\n",
    "from sbi.inference import SNPE, prepare_for_sbi, simulate_for_sbi\n",
    "\n",
    "from sbi.analysis import conditional_pairplot, conditional_corrcoeff\n",
    "\n",
    "\n",
    "\n",
    "# import the summary statistics that you want to investigate\n",
    "from summary_features.calculate_summary_features import calculate_summary_statistics_alternative as alternative_sumstats\n",
    "from summary_features.calculate_summary_features import calculate_summary_stats_temporal as temporal_sumstats\n",
    "from summary_features.calculate_summary_features import calculate_summary_stats_number as number_sumstats\n",
    "from summary_features.calculate_summary_features import calculate_summary_stats_temporal\n"
   ]
  },
  {
   "cell_type": "code",
   "execution_count": 2,
   "id": "ab993458",
   "metadata": {},
   "outputs": [
    {
     "name": "stdout",
     "output_type": "stream",
     "text": [
      "1.11.0\n"
     ]
    }
   ],
   "source": [
    "print(torch.__version__)"
   ]
  },
  {
   "cell_type": "code",
   "execution_count": 3,
   "id": "9c212ce0",
   "metadata": {},
   "outputs": [],
   "source": [
    "## defining neuronal network model\n",
    "\n",
    "num_params = 6\n",
    "\n",
    "from utils.simulation_wrapper import set_network_default, SimulationWrapper\n",
    "sim_wrapper = SimulationWrapper(num_params, noise=False)\n"
   ]
  },
  {
   "cell_type": "code",
   "execution_count": 4,
   "id": "230edc87",
   "metadata": {},
   "outputs": [
    {
     "name": "stdout",
     "output_type": "stream",
     "text": [
      "/home/ubuntu\n",
      "/home/ubuntu/results/toy_example_mdn_08_04_lesser_ratio\n"
     ]
    }
   ],
   "source": [
    "from utils import inference\n",
    "\n",
    "import pickle\n",
    "from data_load_writer import *\n",
    "from data_load_writer import load_from_file as lf\n",
    "\n",
    "import os\n",
    "\n",
    "work_dir = '/home/ubuntu/'\n",
    "\n",
    "os.chdir(work_dir)\n",
    "\n",
    "\n",
    "\n",
    "import os\n",
    "\n",
    "print(os.getcwd())\n",
    "\n",
    "\n",
    "\n",
    "file = 'toy_example_mdn_08_04_lesser_ratio'\n",
    "\n",
    "\n",
    "os.chdir('results/{}'.format(file))\n",
    "\n",
    "\n",
    "print(os.getcwd())\n",
    "  \n",
    "\n"
   ]
  },
  {
   "cell_type": "code",
   "execution_count": 5,
   "id": "bde67830",
   "metadata": {},
   "outputs": [],
   "source": [
    "def Gaussian(thetas, normal_noise=1):\n",
    "    \n",
    "    gauss_list = []\n",
    "    \n",
    "    for theta in thetas:\n",
    "    \n",
    "        mu, sigma = theta, normal_noise # mean and standard deviation\n",
    "\n",
    "        s = np.random.normal(mu, sigma, 1)\n",
    "    \n",
    "        \n",
    "        gauss_list.append(s[0])\n",
    "        \n",
    "    gauss_obs = torch.tensor(gauss_list)\n",
    "    \n",
    "    return gauss_obs\n",
    "    \n",
    "\n"
   ]
  },
  {
   "cell_type": "code",
   "execution_count": 6,
   "id": "bc10d6ce",
   "metadata": {},
   "outputs": [],
   "source": [
    "list_collection = torch.load('list_collection.pt')\n",
    "list_collection_inc = torch.load('list_collection_inc.pt')"
   ]
  },
  {
   "cell_type": "code",
   "execution_count": 7,
   "id": "d4ca2c26",
   "metadata": {},
   "outputs": [],
   "source": [
    "true_thetas = torch.tensor([[3.0, 6.0, 20.0, 10.0, 90.0, 55.0, 27.0, 27.0, 4.0, 70.0, 5.0, 66.0, 99.0, 40.0, 45.0]])\n",
    "parameter_names = ['t1', 't2', 't3', 't4', 't5', 't6', 't7', 't8', 't9', 't10', 't11', 't12', 't13', 't14', 't15']\n",
    "\n",
    "prior_max = [100.0] * 15\n",
    "prior_min = [1.0] * 15\n",
    "\n",
    "prior = utils.torchutils.BoxUniform(low=prior_min, high = prior_max)\n",
    "\n",
    "samples_prior = prior.sample((10000,))\n",
    "\n",
    "simulator_stats, prior = prepare_for_sbi(Gaussian, prior)"
   ]
  },
  {
   "cell_type": "code",
   "execution_count": 8,
   "id": "64df37b2",
   "metadata": {},
   "outputs": [],
   "source": [
    "samples_prior_list = samples_prior.unsqueeze(0)"
   ]
  },
  {
   "cell_type": "code",
   "execution_count": null,
   "id": "431660f3",
   "metadata": {},
   "outputs": [],
   "source": []
  },
  {
   "cell_type": "code",
   "execution_count": 9,
   "id": "0c8bddbc",
   "metadata": {},
   "outputs": [
    {
     "data": {
      "text/plain": [
       "torch.Size([10000, 15])"
      ]
     },
     "execution_count": 9,
     "metadata": {},
     "output_type": "execute_result"
    }
   ],
   "source": [
    "samples_prior_list[0].shape"
   ]
  },
  {
   "cell_type": "code",
   "execution_count": 10,
   "id": "dbeec27a",
   "metadata": {},
   "outputs": [
    {
     "name": "stdout",
     "output_type": "stream",
     "text": [
      "[Parallel(n_jobs=1)]: Using backend SequentialBackend with 1 concurrent workers.\n",
      "[Parallel(n_jobs=1)]: Done   1 out of   1 | elapsed:    1.3s remaining:    0.0s\n",
      "[Parallel(n_jobs=1)]: Done   1 out of   1 | elapsed:    1.3s finished\n"
     ]
    }
   ],
   "source": [
    "thetas = inference.run_only_sim(samples_prior_list, simulation_wrapper = simulator_stats, num_workers=1)"
   ]
  },
  {
   "cell_type": "code",
   "execution_count": null,
   "id": "6b885f02",
   "metadata": {},
   "outputs": [],
   "source": [
    "\n"
   ]
  },
  {
   "cell_type": "code",
   "execution_count": 11,
   "id": "678fc0e0",
   "metadata": {},
   "outputs": [],
   "source": [
    "def KL_Gauss(X, Y):\n",
    "    \n",
    "    sample_x = X.sample((1000,))\n",
    "    mu_x = torch.mean(sample_x, dim=0)\n",
    "    var_x = torch.std(sample_x, dim=0)\n",
    "\n",
    "    var_y = Y.stddev\n",
    "\n",
    "    mu_y = Y.mean\n",
    "    \n",
    "    \n",
    "    return torch.mean(np.log(var_y/var_x) + (var_x**2 + (mu_x - mu_y)**2)/(2*var_y**2) -(1/2)), var_x, mu_x\n",
    "\n",
    "\n",
    "def calc_KL_1d(X, Y):\n",
    "    \n",
    "    sample_x = X.sample((1000,))\n",
    "    mu_x = torch.mean(sample_x, dim=0)\n",
    "    var_x = torch.std(sample_x, dim=0)\n",
    "    \n",
    "    print(var_x)\n",
    "    print(mu_x)\n",
    "\n",
    "\n",
    "    var_y = Y.stddev\n",
    "\n",
    "    mu_y = Y.mean\n",
    "    \n",
    "    print(mu_y)\n",
    "    print(var_y)\n",
    "    \n",
    "    print(np.log(var_y/var_x) + (var_x**2 + (mu_x - mu_y)**2)/(2*var_y**2) -(1/2))\n",
    "    \n",
    "    return np.log(var_y/var_x) + (var_x**2 + (mu_x - mu_y)**2)/(2*var_y**2) -(1/2)\n",
    "\n",
    "\n",
    "# calculate the jensen-shanon divergence\n",
    "def js_divergence(p, q):\n",
    "    m = 0.5 * (p + q)\n",
    "    return 0.5 * kl_divergence(p, m) + 0.5 * kl_divergence(q, m)"
   ]
  },
  {
   "cell_type": "code",
   "execution_count": 12,
   "id": "c39fb7f2",
   "metadata": {},
   "outputs": [
    {
     "data": {
      "application/vnd.jupyter.widget-view+json": {
       "model_id": "550ce1460e4c4bff95087b4edb8240c3",
       "version_major": 2,
       "version_minor": 0
      },
      "text/plain": [
       "Drawing 1000 posterior samples:   0%|          | 0/1000 [00:00<?, ?it/s]"
      ]
     },
     "metadata": {},
     "output_type": "display_data"
    },
    {
     "name": "stdout",
     "output_type": "stream",
     "text": [
      "acceptance rate:  0.308\n",
      "acceptance rate:  0.3190909090909091\n"
     ]
    },
    {
     "name": "stderr",
     "output_type": "stream",
     "text": [
      "/home/ubuntu/pyknos/pyknos/mdn/mdn.py:288: UserWarning: torch.triangular_solve is deprecated in favor of torch.linalg.solve_triangularand will be removed in a future PyTorch release.\n",
      "torch.linalg.solve_triangular has its arguments reversed and does not return a copy of one of the inputs.\n",
      "X = torch.triangular_solve(B, A).solution\n",
      "should be replaced with\n",
      "X = torch.linalg.solve_triangular(A, B). (Triggered internally at  /opt/conda/conda-bld/pytorch_1646755861072/work/aten/src/ATen/native/BatchLinearAlgebra.cpp:1672.)\n",
      "  chosen_precision_factors,\n"
     ]
    },
    {
     "data": {
      "application/vnd.jupyter.widget-view+json": {
       "model_id": "cf43c61f8cbd49718d9c8e6fe69a5a7d",
       "version_major": 2,
       "version_minor": 0
      },
      "text/plain": [
       "Drawing 1000 posterior samples:   0%|          | 0/1000 [00:00<?, ?it/s]"
      ]
     },
     "metadata": {},
     "output_type": "display_data"
    },
    {
     "name": "stdout",
     "output_type": "stream",
     "text": [
      "acceptance rate:  0.316\n",
      "acceptance rate:  0.32\n",
      "tensor([4.8205, 5.2869, 6.0377, 3.8543, 3.8117, 9.1734, 8.3241, 5.2758, 3.6579,\n",
      "        8.8285, 2.0940, 4.2360, 2.0830, 8.1761, 4.3625])\n",
      "tensor([11.2455, 24.8062, 29.4347,  8.6499, 71.9557, 52.3166, 36.5587, 43.6702,\n",
      "         7.7458, 75.3663,  3.8051, 48.4256, 96.7000, 27.0550, 36.4658])\n",
      "tensor([[ 3.,  6., 20., 10., 90., 55., 27., 27.,  4., 70.,  5., 66., 99., 40.,\n",
      "         45.]])\n",
      "tensor([[1., 1., 1., 1., 1., 1., 1., 1., 1., 1., 1., 1., 1., 1., 1.]])\n",
      "tensor([[ 43.5397, 188.6471,  60.4359,   6.4900, 168.2252,  42.9595,  77.7110,\n",
      "         150.7010,  11.9087,  50.6921,   1.6672, 161.4571,   3.5806, 114.6091,\n",
      "          43.9588]])\n"
     ]
    },
    {
     "data": {
      "application/vnd.jupyter.widget-view+json": {
       "model_id": "a4e24c2f07c34736bdcfbbf60ee4abf9",
       "version_major": 2,
       "version_minor": 0
      },
      "text/plain": [
       "Drawing 1000 posterior samples:   0%|          | 0/1000 [00:00<?, ?it/s]"
      ]
     },
     "metadata": {},
     "output_type": "display_data"
    },
    {
     "name": "stdout",
     "output_type": "stream",
     "text": [
      "acceptance rate:  0.271\n",
      "acceptance rate:  0.2656363636363636\n"
     ]
    },
    {
     "data": {
      "application/vnd.jupyter.widget-view+json": {
       "model_id": "08dfc586cccc4877a64f73e9dca9bd6e",
       "version_major": 2,
       "version_minor": 0
      },
      "text/plain": [
       "Drawing 1000 posterior samples:   0%|          | 0/1000 [00:00<?, ?it/s]"
      ]
     },
     "metadata": {},
     "output_type": "display_data"
    },
    {
     "name": "stdout",
     "output_type": "stream",
     "text": [
      "acceptance rate:  0.264\n",
      "acceptance rate:  0.2639090909090909\n",
      "tensor([ 5.1572,  4.8252,  6.7826, 11.5998,  5.9787,  6.3618,  4.2772,  5.6120,\n",
      "         4.7107,  7.4185,  6.1286,  6.1161,  3.8561,  4.8238,  6.2943])\n",
      "tensor([12.2597, 11.3249, 46.1946, 31.3322, 91.3992, 58.4261, 10.7226, 36.2399,\n",
      "        15.3752, 61.2737, 19.5945, 78.1808, 95.3850, 41.9029, 47.9406])\n",
      "tensor([[ 3.,  6., 20., 10., 90., 55., 27., 27.,  4., 70.,  5., 66., 99., 40.,\n",
      "         45.]])\n",
      "tensor([[1., 1., 1., 1., 1., 1., 1., 1., 1., 1., 1., 1., 1., 1., 1.]])\n",
      "tensor([[ 54.0287,  23.7448, 363.6649, 291.8587,  16.5633,  23.7550, 139.6698,\n",
      "          56.2101,  73.7437,  63.0872, 122.9661,  90.5781,  12.1194,  11.3716,\n",
      "          21.7928]])\n"
     ]
    },
    {
     "data": {
      "application/vnd.jupyter.widget-view+json": {
       "model_id": "599251acf54b4aa4b9927d4f149a52fc",
       "version_major": 2,
       "version_minor": 0
      },
      "text/plain": [
       "Drawing 1000 posterior samples:   0%|          | 0/1000 [00:00<?, ?it/s]"
      ]
     },
     "metadata": {},
     "output_type": "display_data"
    },
    {
     "name": "stdout",
     "output_type": "stream",
     "text": [
      "acceptance rate:  0.944\n",
      "acceptance rate:  0.9355454545454546\n"
     ]
    },
    {
     "data": {
      "application/vnd.jupyter.widget-view+json": {
       "model_id": "2785e2c704d043df953ea3458153a278",
       "version_major": 2,
       "version_minor": 0
      },
      "text/plain": [
       "Drawing 1000 posterior samples:   0%|          | 0/1000 [00:00<?, ?it/s]"
      ]
     },
     "metadata": {},
     "output_type": "display_data"
    },
    {
     "name": "stdout",
     "output_type": "stream",
     "text": [
      "acceptance rate:  0.942\n",
      "acceptance rate:  0.9335454545454546\n",
      "tensor([9.2097, 5.9240, 4.3557, 4.9754, 7.9026, 3.4173, 8.6356, 4.4810, 9.4569,\n",
      "        6.1807, 3.8281, 2.9352, 3.0758, 6.3514, 8.2523])\n",
      "tensor([30.6640, 28.9353, 36.5226, 24.7207, 60.0866, 59.3330, 50.7751, 33.2127,\n",
      "        43.5343, 54.4284, 21.1595, 50.7099, 91.0491, 22.2014, 80.6930])\n",
      "tensor([[ 3.,  6., 20., 10., 90., 55., 27., 27.,  4., 70.,  5., 66., 99., 40.,\n",
      "         45.]])\n",
      "tensor([[1., 1., 1., 1., 1., 1., 1., 1., 1., 1., 1., 1., 1., 1., 1.]])\n",
      "tensor([[422.3382, 278.2812, 144.0120, 118.6220, 476.0656,  13.4976, 317.2582,\n",
      "          27.3385, 823.4490, 138.0163, 136.0496, 119.6249,  34.7153, 176.2175,\n",
      "         668.4356]])\n"
     ]
    },
    {
     "data": {
      "application/vnd.jupyter.widget-view+json": {
       "model_id": "cf2fd8b885f242568e5af430e7ad4eec",
       "version_major": 2,
       "version_minor": 0
      },
      "text/plain": [
       "Drawing 1000 posterior samples:   0%|          | 0/1000 [00:00<?, ?it/s]"
      ]
     },
     "metadata": {},
     "output_type": "display_data"
    },
    {
     "name": "stdout",
     "output_type": "stream",
     "text": [
      "acceptance rate:  0.261\n",
      "acceptance rate:  0.26945454545454545\n"
     ]
    },
    {
     "data": {
      "application/vnd.jupyter.widget-view+json": {
       "model_id": "4a9e9aca64f7402487037f222cf37053",
       "version_major": 2,
       "version_minor": 0
      },
      "text/plain": [
       "Drawing 1000 posterior samples:   0%|          | 0/1000 [00:00<?, ?it/s]"
      ]
     },
     "metadata": {},
     "output_type": "display_data"
    },
    {
     "name": "stdout",
     "output_type": "stream",
     "text": [
      "acceptance rate:  0.284\n",
      "acceptance rate:  0.26554545454545453\n",
      "tensor([1.7901, 1.6701, 4.4525, 1.2860, 3.1347, 2.3935, 1.5256, 2.4324, 2.1874,\n",
      "        0.8898, 1.6458, 1.4900, 3.2673, 2.9029, 4.2617])\n",
      "tensor([ 4.7354,  3.4699, 22.4552,  8.8875, 92.4131, 53.3647, 27.0982, 26.9872,\n",
      "         4.7395, 68.5655,  3.5590, 64.8959, 94.8891, 40.4837, 41.9610])\n",
      "tensor([[ 3.,  6., 20., 10., 90., 55., 27., 27.,  4., 70.,  5., 66., 99., 40.,\n",
      "         45.]])\n",
      "tensor([[1., 1., 1., 1., 1., 1., 1., 1., 1., 1., 1., 1., 1., 1., 1.]])\n",
      "tensor([[ 2.0258,  3.5824, 10.9328,  0.6942,  6.1822,  2.8286,  0.2462,  1.5695,\n",
      "          1.3830,  1.0415,  1.3944,  0.8208, 12.1034,  2.7646, 11.7493]])\n"
     ]
    },
    {
     "data": {
      "application/vnd.jupyter.widget-view+json": {
       "model_id": "f61afeabf201450ca1e2398947d45f40",
       "version_major": 2,
       "version_minor": 0
      },
      "text/plain": [
       "Drawing 1000 posterior samples:   0%|          | 0/1000 [00:00<?, ?it/s]"
      ]
     },
     "metadata": {},
     "output_type": "display_data"
    },
    {
     "name": "stdout",
     "output_type": "stream",
     "text": [
      "acceptance rate:  0.876\n",
      "acceptance rate:  0.873\n"
     ]
    },
    {
     "data": {
      "application/vnd.jupyter.widget-view+json": {
       "model_id": "d2abb68ed3484acebadf1b811b76e399",
       "version_major": 2,
       "version_minor": 0
      },
      "text/plain": [
       "Drawing 1000 posterior samples:   0%|          | 0/1000 [00:00<?, ?it/s]"
      ]
     },
     "metadata": {},
     "output_type": "display_data"
    },
    {
     "name": "stdout",
     "output_type": "stream",
     "text": [
      "acceptance rate:  0.877\n",
      "acceptance rate:  0.8656363636363636\n",
      "tensor([5.2748, 7.7562, 7.6558, 6.1021, 5.3609, 1.6950, 1.6247, 3.3298, 4.0166,\n",
      "        3.5085, 2.8184, 2.9461, 4.8385, 4.7863, 7.2802])\n",
      "tensor([16.3122, 33.8315, 18.2653, 21.5887, 88.5270, 51.6613, 28.0558, 17.6425,\n",
      "         8.9832, 65.4398, 15.8078, 71.8474, 89.9511, 38.6533, 35.9903])\n",
      "tensor([[ 3.,  6., 20., 10., 90., 55., 27., 27.,  4., 70.,  5., 66., 99., 40.,\n",
      "         45.]])\n",
      "tensor([[1., 1., 1., 1., 1., 1., 1., 1., 1., 1., 1., 1., 1., 1., 1.]])\n",
      "tensor([[100.3563, 414.8258,  28.2748,  83.4578,  13.2751,   5.9822,   0.8918,\n",
      "          47.6222,  18.5924,  14.7977,  60.8402,  19.8556,  50.5701,  10.2956,\n",
      "          64.6034]])\n"
     ]
    },
    {
     "data": {
      "application/vnd.jupyter.widget-view+json": {
       "model_id": "30aff30c96ed4cd596d14a91c7ae67ce",
       "version_major": 2,
       "version_minor": 0
      },
      "text/plain": [
       "Drawing 1000 posterior samples:   0%|          | 0/1000 [00:00<?, ?it/s]"
      ]
     },
     "metadata": {},
     "output_type": "display_data"
    },
    {
     "name": "stdout",
     "output_type": "stream",
     "text": [
      "acceptance rate:  0.292\n",
      "acceptance rate:  0.28445454545454546\n"
     ]
    },
    {
     "data": {
      "application/vnd.jupyter.widget-view+json": {
       "model_id": "6c778c9852e54a51b7d4d5e8d778ad3d",
       "version_major": 2,
       "version_minor": 0
      },
      "text/plain": [
       "Drawing 1000 posterior samples:   0%|          | 0/1000 [00:00<?, ?it/s]"
      ]
     },
     "metadata": {},
     "output_type": "display_data"
    },
    {
     "name": "stdout",
     "output_type": "stream",
     "text": [
      "acceptance rate:  0.271\n",
      "acceptance rate:  0.28063636363636363\n",
      "tensor([2.5817, 4.4445, 7.7229, 2.1213, 3.1802, 1.7930, 2.2251, 3.6385, 1.4716,\n",
      "        2.4266, 1.3581, 3.3379, 3.0835, 2.2463, 8.7818])\n",
      "tensor([ 8.5915, 13.3011, 34.7644, 14.1445, 88.2970, 52.5540, 29.5988, 33.2764,\n",
      "         2.9603, 64.7020,  6.9331, 58.9021, 94.0091, 35.4924, 28.9001])\n",
      "tensor([[ 3.,  6., 20., 10., 90., 55., 27., 27.,  4., 70.,  5., 66., 99., 40.,\n",
      "         45.]])\n",
      "tensor([[1., 1., 1., 1., 1., 1., 1., 1., 1., 1., 1., 1., 1., 1., 1.]])\n",
      "tensor([[ 17.5168,  34.5384, 136.2713,   9.5862,   4.8500,   3.5149,   4.5525,\n",
      "          24.5245,   0.7369,  15.5921,   1.9846,  29.0552,  15.5823,  11.3728,\n",
      "         165.4898]])\n"
     ]
    },
    {
     "data": {
      "application/vnd.jupyter.widget-view+json": {
       "model_id": "bbf27e4b086344ac96142df346d97a44",
       "version_major": 2,
       "version_minor": 0
      },
      "text/plain": [
       "Drawing 1000 posterior samples:   0%|          | 0/1000 [00:00<?, ?it/s]"
      ]
     },
     "metadata": {},
     "output_type": "display_data"
    },
    {
     "name": "stdout",
     "output_type": "stream",
     "text": [
      "acceptance rate:  0.547\n",
      "acceptance rate:  0.5379090909090909\n"
     ]
    },
    {
     "data": {
      "application/vnd.jupyter.widget-view+json": {
       "model_id": "bd07971f35854734b8f2476dba2d5c1c",
       "version_major": 2,
       "version_minor": 0
      },
      "text/plain": [
       "Drawing 1000 posterior samples:   0%|          | 0/1000 [00:00<?, ?it/s]"
      ]
     },
     "metadata": {},
     "output_type": "display_data"
    },
    {
     "name": "stdout",
     "output_type": "stream",
     "text": [
      "acceptance rate:  0.541\n",
      "acceptance rate:  0.5435454545454546\n",
      "tensor([4.6840, 5.6154, 5.9252, 4.9527, 7.3530, 5.8824, 4.1351, 4.2689, 5.3209,\n",
      "        6.2782, 3.9192, 6.5155, 5.0533, 3.4205, 8.0036])\n",
      "tensor([ 9.3133, 16.6275, 11.3198, 14.6006, 65.0211, 44.2893, 24.5825, 25.7187,\n",
      "         8.9637, 85.9697,  8.1640, 81.3648, 82.3812, 36.7281, 34.2271])\n",
      "tensor([[ 3.,  6., 20., 10., 90., 55., 27., 27.,  4., 70.,  5., 66., 99., 40.,\n",
      "         45.]])\n",
      "tensor([[1., 1., 1., 1., 1., 1., 1., 1., 1., 1., 1., 1., 1., 1., 1.]])\n",
      "tensor([[ 28.8549,  70.0132,  52.9479,  20.7475, 336.5110,  72.3886,   9.5521,\n",
      "           7.9812,  24.3034, 144.8864,  10.8194, 136.8901, 148.7404,   9.4729,\n",
      "          87.4759]])\n"
     ]
    },
    {
     "data": {
      "application/vnd.jupyter.widget-view+json": {
       "model_id": "7a1c780731154564be3198e233beb519",
       "version_major": 2,
       "version_minor": 0
      },
      "text/plain": [
       "Drawing 1000 posterior samples:   0%|          | 0/1000 [00:00<?, ?it/s]"
      ]
     },
     "metadata": {},
     "output_type": "display_data"
    },
    {
     "name": "stdout",
     "output_type": "stream",
     "text": [
      "acceptance rate:  0.792\n",
      "acceptance rate:  0.7942727272727272\n"
     ]
    },
    {
     "data": {
      "application/vnd.jupyter.widget-view+json": {
       "model_id": "7a2a79e44ac44155bc38375799368647",
       "version_major": 2,
       "version_minor": 0
      },
      "text/plain": [
       "Drawing 1000 posterior samples:   0%|          | 0/1000 [00:00<?, ?it/s]"
      ]
     },
     "metadata": {},
     "output_type": "display_data"
    },
    {
     "name": "stdout",
     "output_type": "stream",
     "text": [
      "acceptance rate:  0.792\n",
      "acceptance rate:  0.7962727272727272\n",
      "tensor([4.3182, 5.4962, 4.4349, 5.2305, 5.2984, 7.2233, 5.3935, 5.9389, 4.3955,\n",
      "        4.4203, 5.8453, 6.8011, 6.8531, 5.9965, 7.0673])\n",
      "tensor([17.0147, 13.2373, 13.1290, 21.2472, 90.8863, 31.8316, 12.4344, 42.2003,\n",
      "        16.2665, 67.3273, 12.4057, 44.1375, 76.3838, 35.5021, 18.8312])\n",
      "tensor([[ 3.,  6., 20., 10., 90., 55., 27., 27.,  4., 70.,  5., 66., 99., 40.,\n",
      "         45.]])\n",
      "tensor([[1., 1., 1., 1., 1., 1., 1., 1., 1., 1., 1., 1., 1., 1., 1.]])\n",
      "tensor([[105.5667,  39.0894,  31.4498,  74.7745,  12.2620, 291.9988, 118.4374,\n",
      "         130.8777,  82.9128,  11.3550,  42.2400, 259.6946, 276.8044,  25.8035,\n",
      "         364.9223]])\n"
     ]
    },
    {
     "data": {
      "application/vnd.jupyter.widget-view+json": {
       "model_id": "9ea94dacd4b64bd58b8f5d05d6bbeb32",
       "version_major": 2,
       "version_minor": 0
      },
      "text/plain": [
       "Drawing 1000 posterior samples:   0%|          | 0/1000 [00:00<?, ?it/s]"
      ]
     },
     "metadata": {},
     "output_type": "display_data"
    },
    {
     "name": "stdout",
     "output_type": "stream",
     "text": [
      "acceptance rate:  0.728\n",
      "acceptance rate:  0.7094545454545454\n"
     ]
    },
    {
     "data": {
      "application/vnd.jupyter.widget-view+json": {
       "model_id": "d66ac8e78c9e47aba8c63f8d357069af",
       "version_major": 2,
       "version_minor": 0
      },
      "text/plain": [
       "Drawing 1000 posterior samples:   0%|          | 0/1000 [00:00<?, ?it/s]"
      ]
     },
     "metadata": {},
     "output_type": "display_data"
    },
    {
     "name": "stdout",
     "output_type": "stream",
     "text": [
      "acceptance rate:  0.721\n",
      "acceptance rate:  0.7020909090909091\n",
      "tensor([7.6688, 8.4602, 3.5996, 3.7888, 5.5820, 5.3076, 2.3084, 5.9043, 8.9721,\n",
      "        3.9466, 6.9332, 5.3970, 3.0390, 6.0937, 7.1146])\n",
      "tensor([15.1153, 21.1072, 17.6973,  9.4769, 83.8415, 61.6022, 15.3567, 41.4650,\n",
      "        26.9996, 66.7874, 24.6556, 89.7683, 94.6203, 47.5875, 66.2898])\n",
      "tensor([[ 3.,  6., 20., 10., 90., 55., 27., 27.,  4., 70.,  5., 66., 99., 40.,\n",
      "         45.]])\n",
      "tensor([[1., 1., 1., 1., 1., 1., 1., 1., 1., 1., 1., 1., 1., 1., 1.]])\n",
      "tensor([[100.2588, 147.2659,   7.3488,   5.4823,  32.3237,  33.7106,  69.1115,\n",
      "         119.7730, 302.0465,  11.0753, 214.7688, 294.8446,  12.5974,  45.0441,\n",
      "         249.4747]])\n"
     ]
    },
    {
     "data": {
      "application/vnd.jupyter.widget-view+json": {
       "model_id": "ac76c691bbbe40c9b4d8dba4626c5788",
       "version_major": 2,
       "version_minor": 0
      },
      "text/plain": [
       "Drawing 1000 posterior samples:   0%|          | 0/1000 [00:00<?, ?it/s]"
      ]
     },
     "metadata": {},
     "output_type": "display_data"
    },
    {
     "name": "stdout",
     "output_type": "stream",
     "text": [
      "acceptance rate:  0.345\n",
      "acceptance rate:  0.3290909090909091\n"
     ]
    },
    {
     "data": {
      "application/vnd.jupyter.widget-view+json": {
       "model_id": "0d6dd4a9e95347499b1b0c2fc1cc9b28",
       "version_major": 2,
       "version_minor": 0
      },
      "text/plain": [
       "Drawing 1000 posterior samples:   0%|          | 0/1000 [00:00<?, ?it/s]"
      ]
     },
     "metadata": {},
     "output_type": "display_data"
    },
    {
     "name": "stdout",
     "output_type": "stream",
     "text": [
      "acceptance rate:  0.33\n",
      "acceptance rate:  0.3418181818181818\n",
      "tensor([5.1772, 3.2809, 4.2689, 4.1741, 2.9009, 3.1432, 4.8100, 2.0870, 4.0481,\n",
      "        5.1237, 2.0804, 2.9198, 3.3857, 8.3120, 4.6005])\n",
      "tensor([ 8.8296,  5.8270,  6.8886, 16.3938, 92.6953, 54.5422, 32.7536, 28.2087,\n",
      "        10.5026, 53.6207,  8.1079, 57.6049, 90.4462, 23.3805, 42.6976])\n",
      "tensor([[ 3.,  6., 20., 10., 90., 55., 27., 27.,  4., 70.,  5., 66., 99., 40.,\n",
      "         45.]])\n",
      "tensor([[1., 1., 1., 1., 1., 1., 1., 1., 1., 1., 1., 1., 1., 1., 1.]])\n",
      "tensor([[ 28.2494,   3.7091,  93.1145,  27.2232,   6.2747,   3.3993,  26.0490,\n",
      "           1.6725,  27.4367, 145.1332,   5.7609,  37.9302,  40.5958, 170.0312,\n",
      "          11.2066]])\n"
     ]
    },
    {
     "data": {
      "application/vnd.jupyter.widget-view+json": {
       "model_id": "3d0158dbea634b688c07033e0613c134",
       "version_major": 2,
       "version_minor": 0
      },
      "text/plain": [
       "Drawing 1000 posterior samples:   0%|          | 0/1000 [00:00<?, ?it/s]"
      ]
     },
     "metadata": {},
     "output_type": "display_data"
    },
    {
     "name": "stdout",
     "output_type": "stream",
     "text": [
      "acceptance rate:  0.02\n",
      "acceptance rate:  0.027454545454545454\n",
      "acceptance rate:  0.027\n",
      "acceptance rate:  0.02570967741935484\n",
      "acceptance rate:  0.026121951219512194\n"
     ]
    },
    {
     "data": {
      "application/vnd.jupyter.widget-view+json": {
       "model_id": "3410a9af808841a494603ba707e4673a",
       "version_major": 2,
       "version_minor": 0
      },
      "text/plain": [
       "Drawing 1000 posterior samples:   0%|          | 0/1000 [00:00<?, ?it/s]"
      ]
     },
     "metadata": {},
     "output_type": "display_data"
    },
    {
     "name": "stdout",
     "output_type": "stream",
     "text": [
      "acceptance rate:  0.034\n",
      "acceptance rate:  0.02890909090909091\n",
      "acceptance rate:  0.02819047619047619\n",
      "acceptance rate:  0.027064516129032257\n",
      "acceptance rate:  0.027195121951219512\n",
      "tensor([1.3355, 3.7114, 1.9754, 2.6728, 1.8223, 2.2803, 4.5175, 3.8806, 1.4315,\n",
      "        2.0303, 1.7923, 0.8217, 1.8142, 2.0221, 6.9087])\n",
      "tensor([ 3.0522,  7.8423, 19.5940,  7.8092, 90.4392, 53.2139, 21.5154, 23.8286,\n",
      "         5.1726, 67.2758,  6.6636, 63.8747, 97.3633, 37.4992, 53.1804])\n",
      "tensor([[ 3.,  6., 20., 10., 90., 55., 27., 27.,  4., 70.,  5., 66., 99., 40.,\n",
      "         45.]])\n",
      "tensor([[1., 1., 1., 1., 1., 1., 1., 1., 1., 1., 1., 1., 1., 1., 1.]])\n",
      "tensor([[ 0.1039,  6.7730,  0.8528,  4.4885,  0.6567,  2.8706, 23.2363, 10.7026,\n",
      "          0.8533,  4.5634,  1.9064,  2.2924,  1.8894,  3.9673, 54.8911]])\n"
     ]
    },
    {
     "data": {
      "application/vnd.jupyter.widget-view+json": {
       "model_id": "25cee700730343ae8a672bf0a6959325",
       "version_major": 2,
       "version_minor": 0
      },
      "text/plain": [
       "Drawing 1000 posterior samples:   0%|          | 0/1000 [00:00<?, ?it/s]"
      ]
     },
     "metadata": {},
     "output_type": "display_data"
    },
    {
     "name": "stdout",
     "output_type": "stream",
     "text": [
      "acceptance rate:  0.474\n",
      "acceptance rate:  0.4723636363636364\n"
     ]
    },
    {
     "data": {
      "application/vnd.jupyter.widget-view+json": {
       "model_id": "c832d2afa39b46b98ecf028384288524",
       "version_major": 2,
       "version_minor": 0
      },
      "text/plain": [
       "Drawing 1000 posterior samples:   0%|          | 0/1000 [00:00<?, ?it/s]"
      ]
     },
     "metadata": {},
     "output_type": "display_data"
    },
    {
     "name": "stdout",
     "output_type": "stream",
     "text": [
      "acceptance rate:  0.466\n",
      "acceptance rate:  0.464\n",
      "tensor([ 2.5165,  6.6870, 10.9470,  6.4247,  4.9578,  3.7683,  2.0581,  1.1414,\n",
      "        11.8507,  1.9002,  2.2602,  3.3763,  1.2498,  2.2809,  3.1977])\n",
      "tensor([11.6402, 19.0751, 19.1152, 19.6908, 81.9654, 52.9461, 27.8451, 25.5084,\n",
      "        27.3624, 64.5281,  8.2252, 71.6972, 98.3243, 35.0471, 34.6376])\n",
      "tensor([[ 3.,  6., 20., 10., 90., 55., 27., 27.,  4., 70.,  5., 66., 99., 40.,\n",
      "         45.]])\n",
      "tensor([[1., 1., 1., 1., 1., 1., 1., 1., 1., 1., 1., 1., 1., 1., 1.]])\n",
      "tensor([[3.9070e+01, 1.0544e+02, 5.7416e+01, 6.5234e+01, 4.2467e+01, 7.3827e+00,\n",
      "         1.2531e+00, 1.1316e+00, 3.4015e+02, 1.5634e+01, 6.4398e+00, 2.0212e+01,\n",
      "         2.8628e-01, 1.3542e+01, 5.7140e+01]])\n"
     ]
    },
    {
     "data": {
      "application/vnd.jupyter.widget-view+json": {
       "model_id": "77feb7c9c94b4f6a8d932c3f393b389c",
       "version_major": 2,
       "version_minor": 0
      },
      "text/plain": [
       "Drawing 1000 posterior samples:   0%|          | 0/1000 [00:00<?, ?it/s]"
      ]
     },
     "metadata": {},
     "output_type": "display_data"
    },
    {
     "name": "stdout",
     "output_type": "stream",
     "text": [
      "acceptance rate:  0.072\n",
      "acceptance rate:  0.06281818181818181\n",
      "acceptance rate:  0.06119047619047619\n"
     ]
    },
    {
     "data": {
      "application/vnd.jupyter.widget-view+json": {
       "model_id": "192492bdc2164528aef9a34cce86f295",
       "version_major": 2,
       "version_minor": 0
      },
      "text/plain": [
       "Drawing 1000 posterior samples:   0%|          | 0/1000 [00:00<?, ?it/s]"
      ]
     },
     "metadata": {},
     "output_type": "display_data"
    },
    {
     "name": "stdout",
     "output_type": "stream",
     "text": [
      "acceptance rate:  0.062\n",
      "acceptance rate:  0.05709090909090909\n",
      "acceptance rate:  0.05914285714285714\n",
      "tensor([3.9060, 7.7848, 5.8747, 3.6297, 4.4273, 6.3250, 4.7325, 4.3506, 4.1118,\n",
      "        8.8926, 1.2955, 5.7030, 5.8884, 3.9422, 5.2341])\n",
      "tensor([ 8.3121, 22.7970, 13.8421, 15.6330, 90.3085, 54.4660, 10.5875, 33.4953,\n",
      "        11.0063, 70.5491,  2.5315, 60.0583, 81.1646, 50.2459, 46.9348])\n",
      "tensor([[ 3.,  6., 20., 10., 90., 55., 27., 27.,  4., 70.,  5., 66., 99., 40.,\n",
      "         45.]])\n",
      "tensor([[1., 1., 1., 1., 1., 1., 1., 1., 1., 1., 1., 1., 1., 1., 1.]])\n",
      "tensor([[ 19.8750, 168.8191,  33.9454,  20.6639,   7.8603,  17.8010, 143.8285,\n",
      "          28.5880,  31.0833,  37.0044,   3.1269,  31.6731, 174.1135,  58.3883,\n",
      "          13.4145]])\n"
     ]
    },
    {
     "data": {
      "application/vnd.jupyter.widget-view+json": {
       "model_id": "e439742966234fec9b687df7befe2bfa",
       "version_major": 2,
       "version_minor": 0
      },
      "text/plain": [
       "Drawing 1000 posterior samples:   0%|          | 0/1000 [00:00<?, ?it/s]"
      ]
     },
     "metadata": {},
     "output_type": "display_data"
    },
    {
     "name": "stderr",
     "output_type": "stream",
     "text": [
      "WARNING:root:Drawing samples from posterior to estimate the normalizing\n",
      "                        constant for `log_prob()`. However, only\n",
      "                        1% posterior samples are within the\n",
      "                        prior support. It may take a long time to collect the\n",
      "                        remaining 902 samples.\n",
      "                        Consider interrupting (Ctrl-C) and either basing the\n",
      "                        estimate of the normalizing constant on fewer samples (by\n",
      "                        calling `posterior.leakage_correction(x_o,\n",
      "                        num_rejection_samples=N)`, where `N` is the number of\n",
      "                        samples you want to base the\n",
      "                        estimate on (default N=10000), or not estimating the\n",
      "                        normalizing constant at all\n",
      "                        (`log_prob(..., norm_posterior=False)`. The latter will\n",
      "                        result in an unnormalized `log_prob()`.\n"
     ]
    },
    {
     "name": "stdout",
     "output_type": "stream",
     "text": [
      "acceptance rate:  0.008\n",
      "acceptance rate:  0.00890909090909091\n",
      "acceptance rate:  0.009857142857142858\n",
      "acceptance rate:  0.01064516129032258\n",
      "acceptance rate:  0.010439024390243903\n",
      "acceptance rate:  0.010627450980392156\n",
      "acceptance rate:  0.010590163934426229\n",
      "acceptance rate:  0.010436619718309859\n",
      "acceptance rate:  0.010444444444444444\n",
      "acceptance rate:  0.010472527472527473\n",
      "acceptance rate:  0.010475247524752476\n"
     ]
    },
    {
     "data": {
      "application/vnd.jupyter.widget-view+json": {
       "model_id": "ad46799bfcf64ea5b863154c9faaba3c",
       "version_major": 2,
       "version_minor": 0
      },
      "text/plain": [
       "Drawing 1000 posterior samples:   0%|          | 0/1000 [00:00<?, ?it/s]"
      ]
     },
     "metadata": {},
     "output_type": "display_data"
    },
    {
     "name": "stdout",
     "output_type": "stream",
     "text": [
      "acceptance rate:  0.013\n",
      "acceptance rate:  0.011272727272727273\n",
      "acceptance rate:  0.011476190476190477\n",
      "acceptance rate:  0.01096774193548387\n",
      "acceptance rate:  0.010609756097560976\n",
      "acceptance rate:  0.010705882352941176\n",
      "acceptance rate:  0.010721311475409835\n",
      "acceptance rate:  0.010816901408450704\n",
      "acceptance rate:  0.010753086419753087\n",
      "acceptance rate:  0.010736263736263737\n",
      "acceptance rate:  0.010623762376237625\n",
      "tensor([1.1504, 2.9928, 4.8102, 1.8982, 1.2431, 2.2627, 1.5386, 3.7264, 1.6950,\n",
      "        1.7802, 1.1891, 1.6788, 1.7447, 0.7007, 1.6953])\n",
      "tensor([ 2.3424,  7.7204, 17.0882, 13.2774, 88.2925, 55.8825, 26.2552, 23.8352,\n",
      "         8.3157, 65.9875,  2.3780, 64.1797, 97.6325, 40.9022, 48.3839])\n",
      "tensor([[ 3.,  6., 20., 10., 90., 55., 27., 27.,  4., 70.,  5., 66., 99., 40.,\n",
      "         45.]])\n",
      "tensor([[1., 1., 1., 1., 1., 1., 1., 1., 1., 1., 1., 1., 1., 1., 1.]])\n",
      "tensor([[ 0.2378,  4.3622, 13.7374,  6.0313,  1.5127,  1.6327,  0.5301, 10.1356,\n",
      "          9.7213,  8.5579,  3.4713,  2.0479,  1.4005,  0.5081,  6.1345]])\n"
     ]
    },
    {
     "data": {
      "application/vnd.jupyter.widget-view+json": {
       "model_id": "46a53df082b14e7b9c50e32f137bc423",
       "version_major": 2,
       "version_minor": 0
      },
      "text/plain": [
       "Drawing 1000 posterior samples:   0%|          | 0/1000 [00:00<?, ?it/s]"
      ]
     },
     "metadata": {},
     "output_type": "display_data"
    },
    {
     "name": "stdout",
     "output_type": "stream",
     "text": [
      "acceptance rate:  0.546\n",
      "acceptance rate:  0.5738181818181818\n"
     ]
    },
    {
     "data": {
      "application/vnd.jupyter.widget-view+json": {
       "model_id": "300a0c7c65ee4f1893b85dc8e5b2d6f7",
       "version_major": 2,
       "version_minor": 0
      },
      "text/plain": [
       "Drawing 1000 posterior samples:   0%|          | 0/1000 [00:00<?, ?it/s]"
      ]
     },
     "metadata": {},
     "output_type": "display_data"
    },
    {
     "name": "stdout",
     "output_type": "stream",
     "text": [
      "acceptance rate:  0.603\n",
      "acceptance rate:  0.5871818181818181\n",
      "tensor([0.9148, 2.1008, 5.0278, 3.8674, 2.3702, 4.5706, 5.0547, 4.2653, 3.8378,\n",
      "        0.8683, 4.9094, 2.3714, 2.5436, 2.3183, 5.2253])\n",
      "tensor([ 2.9093,  6.4480, 19.6968,  9.4054, 96.3708, 65.5844, 19.6371, 36.7626,\n",
      "        14.6712, 71.6186, 17.8057, 58.3835, 95.6927, 39.1314, 36.7165])\n",
      "tensor([[ 3.,  6., 20., 10., 90., 55., 27., 27.,  4., 70.,  5., 66., 99., 40.,\n",
      "         45.]])\n",
      "tensor([[1., 1., 1., 1., 1., 1., 1., 1., 1., 1., 1., 1., 1., 1., 1.]])\n",
      "tensor([[1.1594e-02, 1.0647e+00, 1.0571e+01, 5.8024e+00, 2.1740e+01, 6.4441e+01,\n",
      "         3.7761e+01, 5.4800e+01, 6.2457e+01, 1.3282e+00, 9.1953e+01, 3.0454e+01,\n",
      "         7.2706e+00, 1.7237e+00, 4.5806e+01]])\n"
     ]
    },
    {
     "data": {
      "application/vnd.jupyter.widget-view+json": {
       "model_id": "57658e20ff664d049bceae6eb795cc79",
       "version_major": 2,
       "version_minor": 0
      },
      "text/plain": [
       "Drawing 1000 posterior samples:   0%|          | 0/1000 [00:00<?, ?it/s]"
      ]
     },
     "metadata": {},
     "output_type": "display_data"
    },
    {
     "name": "stdout",
     "output_type": "stream",
     "text": [
      "acceptance rate:  0.001\n"
     ]
    },
    {
     "name": "stderr",
     "output_type": "stream",
     "text": [
      "WARNING:root:Drawing samples from posterior to estimate the normalizing\n",
      "                        constant for `log_prob()`. However, only\n",
      "                        0% posterior samples are within the\n",
      "                        prior support. It may take a long time to collect the\n",
      "                        remaining 995 samples.\n",
      "                        Consider interrupting (Ctrl-C) and either basing the\n",
      "                        estimate of the normalizing constant on fewer samples (by\n",
      "                        calling `posterior.leakage_correction(x_o,\n",
      "                        num_rejection_samples=N)`, where `N` is the number of\n",
      "                        samples you want to base the\n",
      "                        estimate on (default N=10000), or not estimating the\n",
      "                        normalizing constant at all\n",
      "                        (`log_prob(..., norm_posterior=False)`. The latter will\n",
      "                        result in an unnormalized `log_prob()`.\n"
     ]
    },
    {
     "name": "stdout",
     "output_type": "stream",
     "text": [
      "acceptance rate:  0.00045454545454545455\n",
      "acceptance rate:  0.0003333333333333333\n",
      "acceptance rate:  0.00045161290322580643\n",
      "acceptance rate:  0.0003902439024390244\n",
      "acceptance rate:  0.000392156862745098\n",
      "acceptance rate:  0.0003278688524590164\n",
      "acceptance rate:  0.0002957746478873239\n",
      "acceptance rate:  0.0003333333333333333\n",
      "acceptance rate:  0.00032967032967032967\n",
      "acceptance rate:  0.0003465346534653465\n",
      "acceptance rate:  0.0003243243243243243\n",
      "acceptance rate:  0.0003140495867768595\n",
      "acceptance rate:  0.0003053435114503817\n",
      "acceptance rate:  0.00032624113475177306\n",
      "acceptance rate:  0.00031125827814569535\n",
      "acceptance rate:  0.00031055900621118014\n",
      "acceptance rate:  0.00030994152046783625\n",
      "acceptance rate:  0.0002983425414364641\n",
      "acceptance rate:  0.0002879581151832461\n",
      "acceptance rate:  0.0002935323383084577\n",
      "acceptance rate:  0.00031753554502369667\n",
      "acceptance rate:  0.00033936651583710406\n",
      "acceptance rate:  0.00034199134199134197\n",
      "acceptance rate:  0.00033195020746887966\n",
      "acceptance rate:  0.0003386454183266932\n",
      "acceptance rate:  0.0003448275862068965\n",
      "acceptance rate:  0.0003394833948339483\n",
      "acceptance rate:  0.0003380782918149466\n",
      "acceptance rate:  0.0003367697594501718\n",
      "acceptance rate:  0.0003488372093023256\n",
      "acceptance rate:  0.00036012861736334407\n",
      "acceptance rate:  0.00035202492211838007\n",
      "acceptance rate:  0.0003504531722054381\n",
      "acceptance rate:  0.0003460410557184751\n",
      "acceptance rate:  0.0003475783475783476\n",
      "acceptance rate:  0.0003407202216066482\n",
      "acceptance rate:  0.0003450134770889488\n",
      "acceptance rate:  0.00034120734908136484\n",
      "acceptance rate:  0.00033759590792838877\n",
      "acceptance rate:  0.00033665835411471323\n",
      "acceptance rate:  0.00033819951338199514\n",
      "acceptance rate:  0.00033966745843230404\n",
      "acceptance rate:  0.00033642691415313223\n",
      "acceptance rate:  0.0003310657596371882\n",
      "acceptance rate:  0.0003259423503325942\n",
      "acceptance rate:  0.0003210412147505423\n",
      "acceptance rate:  0.00032271762208067943\n",
      "acceptance rate:  0.0003243243243243243\n",
      "acceptance rate:  0.00031975560081466393\n",
      "acceptance rate:  0.0003193612774451098\n",
      "acceptance rate:  0.0003131115459882583\n",
      "acceptance rate:  0.0003186180422264875\n",
      "acceptance rate:  0.0003182674199623352\n",
      "acceptance rate:  0.0003197781885397412\n",
      "acceptance rate:  0.0003248638838475499\n",
      "acceptance rate:  0.00032085561497326203\n",
      "acceptance rate:  0.0003169877408056042\n",
      "acceptance rate:  0.00032013769363166953\n",
      "acceptance rate:  0.00032318104906937397\n",
      "acceptance rate:  0.00032445923460898505\n",
      "acceptance rate:  0.00032569558101472996\n",
      "acceptance rate:  0.0003285024154589372\n",
      "acceptance rate:  0.0003232963549920761\n",
      "acceptance rate:  0.00032137285491419656\n",
      "acceptance rate:  0.0003225806451612903\n",
      "acceptance rate:  0.00032072617246596064\n",
      "acceptance rate:  0.0003219076005961252\n",
      "acceptance rate:  0.0003215859030837004\n",
      "acceptance rate:  0.000321273516642547\n",
      "acceptance rate:  0.0003223965763195435\n",
      "acceptance rate:  0.0003277074542897328\n",
      "acceptance rate:  0.0003259361997226075\n",
      "acceptance rate:  0.0003228454172366621\n",
      "acceptance rate:  0.0003211875843454791\n",
      "acceptance rate:  0.000322237017310253\n",
      "acceptance rate:  0.0003193166885676741\n",
      "acceptance rate:  0.00032166018158236056\n",
      "acceptance rate:  0.0003265044814340589\n",
      "acceptance rate:  0.00032996207332490517\n",
      "acceptance rate:  0.0003295880149812734\n",
      "acceptance rate:  0.0003304562268803946\n",
      "acceptance rate:  0.0003325213154689403\n",
      "acceptance rate:  0.0003297232250300842\n",
      "acceptance rate:  0.0003281807372175981\n",
      "acceptance rate:  0.00032902467685076383\n",
      "acceptance rate:  0.0003275261324041812\n",
      "acceptance rate:  0.00032491389207807116\n",
      "acceptance rate:  0.0003257661748013621\n",
      "acceptance rate:  0.0003265993265993266\n",
      "acceptance rate:  0.00032630410654827966\n",
      "acceptance rate:  0.0003282107574094402\n",
      "acceptance rate:  0.00033224755700325735\n",
      "acceptance rate:  0.00033404940923737917\n",
      "acceptance rate:  0.0003336875664187035\n",
      "acceptance rate:  0.0003333333333333333\n",
      "acceptance rate:  0.0003381893860561915\n",
      "acceptance rate:  0.00033985581874356336\n",
      "acceptance rate:  0.00033741080530071355\n",
      "acceptance rate:  0.0003440968718466196\n",
      "acceptance rate:  0.0003456543456543457\n",
      "acceptance rate:  0.00034718100890207716\n",
      "acceptance rate:  0.0003447600391772772\n",
      "acceptance rate:  0.0003452958292919496\n",
      "acceptance rate:  0.0003429394812680115\n",
      "acceptance rate:  0.00034253092293054234\n",
      "acceptance rate:  0.0003421300659754948\n",
      "acceptance rate:  0.00034173669467787114\n",
      "acceptance rate:  0.0003422756706753006\n",
      "acceptance rate:  0.0003437213565536205\n",
      "acceptance rate:  0.0003424159854677566\n",
      "acceptance rate:  0.00034383438343834385\n",
      "acceptance rate:  0.0003407671721677074\n",
      "acceptance rate:  0.00034129089301503096\n",
      "acceptance rate:  0.00034268185801928134\n",
      "acceptance rate:  0.0003405734144222415\n",
      "acceptance rate:  0.0003393626184323859\n",
      "acceptance rate:  0.0003415883859948762\n",
      "acceptance rate:  0.0003420829805249788\n",
      "acceptance rate:  0.0003408900083963056\n",
      "acceptance rate:  0.00033971690258118237\n",
      "acceptance rate:  0.0003402146985962015\n",
      "acceptance rate:  0.0003415233415233415\n",
      "acceptance rate:  0.0003403736799350122\n",
      "acceptance rate:  0.0003392425463336019\n",
      "acceptance rate:  0.00034052757793764986\n",
      "acceptance rate:  0.0003386201427438541\n",
      "acceptance rate:  0.00033831628638867034\n",
      "acceptance rate:  0.0003411397345823575\n",
      "acceptance rate:  0.00034159566227730443\n",
      "acceptance rate:  0.0003420445810914681\n",
      "acceptance rate:  0.0003401983218916857\n",
      "acceptance rate:  0.000339894019682059\n",
      "acceptance rate:  0.00034184823441021786\n",
      "acceptance rate:  0.00034153616703952276\n",
      "acceptance rate:  0.00034122871946706145\n",
      "acceptance rate:  0.00033945628214548126\n",
      "acceptance rate:  0.00033916849015317287\n",
      "acceptance rate:  0.0003381607530774801\n",
      "acceptance rate:  0.0003393242271746945\n",
      "acceptance rate:  0.0003390435403283369\n",
      "acceptance rate:  0.0003394755492558469\n",
      "acceptance rate:  0.00033849401829697396\n",
      "acceptance rate:  0.00033752620545073373\n",
      "acceptance rate:  0.0003365718251214434\n",
      "acceptance rate:  0.00033838731909028257\n",
      "acceptance rate:  0.00033744010951403146\n",
      "acceptance rate:  0.000336505778382053\n",
      "acceptance rate:  0.0003349088453747468\n",
      "acceptance rate:  0.00033936955063715627\n",
      "acceptance rate:  0.0003397734843437708\n",
      "acceptance rate:  0.0003441429516876241\n",
      "acceptance rate:  0.0003438527284681131\n",
      "acceptance rate:  0.0003448726322664925\n",
      "acceptance rate:  0.0003445814406229721\n",
      "acceptance rate:  0.00034364925854287555\n",
      "acceptance rate:  0.0003427290198590647\n",
      "acceptance rate:  0.0003424570337364736\n",
      "acceptance rate:  0.0003415559772296015\n",
      "acceptance rate:  0.0003412947831552483\n",
      "acceptance rate:  0.00034166146158650843\n",
      "acceptance rate:  0.0003420235878336437\n",
      "acceptance rate:  0.00034238124614435533\n",
      "acceptance rate:  0.00034396076026977317\n",
      "acceptance rate:  0.00034308348567946376\n",
      "acceptance rate:  0.00034282253179890976\n",
      "acceptance rate:  0.0003419626730885009\n",
      "acceptance rate:  0.0003417115499700778\n",
      "acceptance rate:  0.00034086853063652585\n",
      "acceptance rate:  0.00034121821407451214\n",
      "acceptance rate:  0.00034038800705467375\n",
      "acceptance rate:  0.0003395675043834015\n",
      "acceptance rate:  0.00033875653689715283\n",
      "acceptance rate:  0.00034084344309647603\n",
      "acceptance rate:  0.0003434807581849512\n",
      "acceptance rate:  0.00034380354083380927\n",
      "acceptance rate:  0.0003429869392390687\n",
      "acceptance rate:  0.0003427442123094297\n",
      "acceptance rate:  0.00034306569343065695\n",
      "acceptance rate:  0.0003422668900055835\n",
      "acceptance rate:  0.00034147695724597444\n",
      "acceptance rate:  0.0003429044726670348\n",
      "acceptance rate:  0.00034102141680395387\n",
      "acceptance rate:  0.000340797378481704\n",
      "acceptance rate:  0.00034166214014122757\n",
      "acceptance rate:  0.0003403565640194489\n",
      "acceptance rate:  0.00034228909188608274\n",
      "acceptance rate:  0.00034206306787814005\n",
      "acceptance rate:  0.00034290271132376396\n",
      "acceptance rate:  0.0003421470121628768\n",
      "acceptance rate:  0.00034192530247238295\n",
      "acceptance rate:  0.00034432234432234433\n",
      "acceptance rate:  0.0003446121811556481\n",
      "acceptance rate:  0.0003443811496633868\n",
      "acceptance rate:  0.00034466769706336937\n",
      "acceptance rate:  0.00034751409533572526\n",
      "acceptance rate:  0.00034880163182049976\n",
      "acceptance rate:  0.00035058346017250125\n",
      "acceptance rate:  0.0003508329126703685\n",
      "acceptance rate:  0.00035057759919638373\n",
      "acceptance rate:  0.0003503248375812094\n",
      "acceptance rate:  0.0003495773247140726\n",
      "acceptance rate:  0.0003483424047501237\n",
      "acceptance rate:  0.00034958148695224026\n",
      "acceptance rate:  0.0003478686918177364\n"
     ]
    },
    {
     "name": "stdout",
     "output_type": "stream",
     "text": [
      "acceptance rate:  0.0003476352998537299\n",
      "acceptance rate:  0.00034837457544881125\n",
      "acceptance rate:  0.00034765813616610333\n",
      "acceptance rate:  0.0003469485824123018\n",
      "acceptance rate:  0.0003462458153993305\n",
      "acceptance rate:  0.00034554973821989527\n",
      "acceptance rate:  0.0003458076740881099\n",
      "acceptance rate:  0.00034606317774634604\n",
      "acceptance rate:  0.00034490849366494605\n",
      "acceptance rate:  0.0003437645959831854\n",
      "acceptance rate:  0.00034263133426313343\n",
      "acceptance rate:  0.00034197130957889864\n",
      "acceptance rate:  0.000342699216950714\n",
      "acceptance rate:  0.00034296194406235674\n",
      "acceptance rate:  0.0003427658603377453\n",
      "acceptance rate:  0.00034257155838255337\n",
      "acceptance rate:  0.0003419267299864315\n",
      "acceptance rate:  0.0003408374606033318\n",
      "acceptance rate:  0.0003402061855670103\n",
      "acceptance rate:  0.0003395805443998215\n",
      "acceptance rate:  0.00033896046201688137\n",
      "acceptance rate:  0.00033878814683768244\n",
      "acceptance rate:  0.0003386173491853809\n",
      "acceptance rate:  0.0003388864533099518\n",
      "acceptance rate:  0.0003387167175905718\n",
      "acceptance rate:  0.00033811386353759236\n",
      "acceptance rate:  0.00033794893985287757\n",
      "acceptance rate:  0.00033692373976734166\n",
      "acceptance rate:  0.00033633633633633635\n",
      "acceptance rate:  0.000335753951302862\n",
      "acceptance rate:  0.00033517652062951933\n",
      "acceptance rate:  0.0003341804320203304\n",
      "acceptance rate:  0.0003353015605229861\n",
      "acceptance rate:  0.0003359932801343973\n",
      "acceptance rate:  0.00033626097867001255\n",
      "acceptance rate:  0.0003361099541857559\n",
      "acceptance rate:  0.00033596018249688924\n",
      "acceptance rate:  0.0003362247005369682\n",
      "acceptance rate:  0.0003360756890168655\n",
      "acceptance rate:  0.0003363375665710774\n",
      "acceptance rate:  0.0003365973072215422\n",
      "acceptance rate:  0.0003356359203575782\n",
      "acceptance rate:  0.00033549170376365845\n",
      "acceptance rate:  0.0003349455864570738\n",
      "acceptance rate:  0.00033480529907667605\n",
      "acceptance rate:  0.00033546581367453017\n",
      "acceptance rate:  0.0003345280764635603\n",
      "acceptance rate:  0.0003339944466481555\n",
      "acceptance rate:  0.0003334650335835638\n",
      "acceptance rate:  0.00033293978748524203\n",
      "acceptance rate:  0.000333202665621325\n",
      "acceptance rate:  0.0003330730183522062\n",
      "acceptance rate:  0.0003333333333333333\n",
      "acceptance rate:  0.00033281673769856645\n",
      "acceptance rate:  0.00033230412967966036\n",
      "acceptance rate:  0.00033179546328335256\n",
      "acceptance rate:  0.0003324396782841823\n",
      "acceptance rate:  0.0003334605112552461\n",
      "acceptance rate:  0.0003337134169517294\n",
      "acceptance rate:  0.00033320711851571376\n",
      "acceptance rate:  0.00033459072048283665\n",
      "acceptance rate:  0.00033521232619316047\n",
      "acceptance rate:  0.0003358292774241857\n",
      "acceptance rate:  0.00033569563595673254\n",
      "acceptance rate:  0.000337421033073207\n",
      "acceptance rate:  0.0003365420214735283\n",
      "acceptance rate:  0.0003360383622279602\n",
      "acceptance rate:  0.00033590591694230063\n",
      "acceptance rate:  0.0003354082753570121\n",
      "acceptance rate:  0.0003349142648668369\n",
      "acceptance rate:  0.0003344238458742276\n",
      "acceptance rate:  0.0003342991669684897\n",
      "acceptance rate:  0.00033381450739805124\n",
      "acceptance rate:  0.0003326141675656239\n",
      "acceptance rate:  0.0003324973127911143\n",
      "acceptance rate:  0.00033273830774723314\n",
      "acceptance rate:  0.0003329775880469584\n",
      "acceptance rate:  0.0003356965615030131\n",
      "acceptance rate:  0.00033521723772518547\n",
      "acceptance rate:  0.0003340373108060542\n",
      "acceptance rate:  0.00033391792353560154\n",
      "acceptance rate:  0.00033379937084935336\n",
      "acceptance rate:  0.0003336816440264716\n",
      "acceptance rate:  0.00033356473446719887\n",
      "acceptance rate:  0.0003331027326184711\n",
      "acceptance rate:  0.00033298862461220266\n",
      "acceptance rate:  0.0003321882514599794\n",
      "acceptance rate:  0.00033207805546045874\n",
      "acceptance rate:  0.0003316274309109519\n",
      "acceptance rate:  0.0003311798707922475\n",
      "acceptance rate:  0.00033141308031175873\n",
      "acceptance rate:  0.00033063154339750084\n",
      "acceptance rate:  0.00032951868057892964\n",
      "acceptance rate:  0.00032941965783294194\n",
      "acceptance rate:  0.00032898696088264794\n",
      "acceptance rate:  0.00032889036987670774\n",
      "acceptance rate:  0.00032912653603454\n",
      "acceptance rate:  0.00033002317113538563\n",
      "acceptance rate:  0.00032926426921807986\n",
      "acceptance rate:  0.00032916803682999014\n"
     ]
    },
    {
     "data": {
      "application/vnd.jupyter.widget-view+json": {
       "model_id": "d2d9c6e2d6ad472d916c9dd120505a3f",
       "version_major": 2,
       "version_minor": 0
      },
      "text/plain": [
       "Drawing 1000 posterior samples:   0%|          | 0/1000 [00:00<?, ?it/s]"
      ]
     },
     "metadata": {},
     "output_type": "display_data"
    },
    {
     "name": "stderr",
     "output_type": "stream",
     "text": [
      "WARNING:root:Drawing samples from posterior to estimate the normalizing\n",
      "                        constant for `log_prob()`. However, only\n",
      "                        0% posterior samples are within the\n",
      "                        prior support. It may take a long time to collect the\n",
      "                        remaining 999 samples.\n",
      "                        Consider interrupting (Ctrl-C) and either basing the\n",
      "                        estimate of the normalizing constant on fewer samples (by\n",
      "                        calling `posterior.leakage_correction(x_o,\n",
      "                        num_rejection_samples=N)`, where `N` is the number of\n",
      "                        samples you want to base the\n",
      "                        estimate on (default N=10000), or not estimating the\n",
      "                        normalizing constant at all\n",
      "                        (`log_prob(..., norm_posterior=False)`. The latter will\n",
      "                        result in an unnormalized `log_prob()`.\n"
     ]
    },
    {
     "name": "stdout",
     "output_type": "stream",
     "text": [
      "acceptance rate:  0.0\n",
      "acceptance rate:  9.09090909090909e-05\n",
      "acceptance rate:  9.523809523809524e-05\n",
      "acceptance rate:  0.00022580645161290321\n",
      "acceptance rate:  0.00024390243902439024\n",
      "acceptance rate:  0.00025490196078431374\n",
      "acceptance rate:  0.00026229508196721314\n",
      "acceptance rate:  0.00028169014084507044\n",
      "acceptance rate:  0.0002839506172839506\n",
      "acceptance rate:  0.0002637362637362637\n",
      "acceptance rate:  0.00025742574257425744\n",
      "acceptance rate:  0.0002972972972972973\n",
      "acceptance rate:  0.0003140495867768595\n",
      "acceptance rate:  0.00029770992366412214\n",
      "acceptance rate:  0.0002765957446808511\n",
      "acceptance rate:  0.00027152317880794704\n",
      "acceptance rate:  0.00028571428571428574\n",
      "acceptance rate:  0.00029824561403508774\n",
      "acceptance rate:  0.00030939226519337016\n",
      "acceptance rate:  0.00029842931937172775\n",
      "acceptance rate:  0.0002935323383084577\n",
      "acceptance rate:  0.0002890995260663507\n",
      "acceptance rate:  0.0002941176470588235\n",
      "acceptance rate:  0.00028571428571428574\n",
      "acceptance rate:  0.00029045643153526973\n",
      "acceptance rate:  0.0002908366533864542\n",
      "acceptance rate:  0.00028735632183908046\n",
      "acceptance rate:  0.0002804428044280443\n",
      "acceptance rate:  0.0002811387900355872\n",
      "acceptance rate:  0.0002920962199312715\n",
      "acceptance rate:  0.00028571428571428574\n",
      "acceptance rate:  0.0002861736334405145\n",
      "acceptance rate:  0.0002897196261682243\n",
      "acceptance rate:  0.00028398791540785496\n",
      "acceptance rate:  0.0002844574780058651\n",
      "acceptance rate:  0.0002849002849002849\n",
      "acceptance rate:  0.0002880886426592798\n",
      "acceptance rate:  0.00029380053908355794\n",
      "acceptance rate:  0.0002887139107611549\n",
      "acceptance rate:  0.000289002557544757\n",
      "acceptance rate:  0.0002967581047381546\n",
      "acceptance rate:  0.0002944038929440389\n",
      "acceptance rate:  0.00029216152019002374\n",
      "acceptance rate:  0.00029698375870069603\n",
      "acceptance rate:  0.00029478458049886624\n",
      "acceptance rate:  0.0002904656319290466\n",
      "acceptance rate:  0.0002993492407809111\n",
      "acceptance rate:  0.0002929936305732484\n",
      "acceptance rate:  0.00029106029106029104\n",
      "acceptance rate:  0.00029531568228105906\n",
      "acceptance rate:  0.0002974051896207585\n",
      "acceptance rate:  0.00029158512720156555\n",
      "acceptance rate:  0.0002859884836852207\n",
      "acceptance rate:  0.00029001883239171373\n",
      "acceptance rate:  0.0002920517560073937\n",
      "acceptance rate:  0.00029219600725952815\n",
      "acceptance rate:  0.00029055258467023174\n",
      "acceptance rate:  0.0002942206654991243\n",
      "acceptance rate:  0.0002925989672977625\n",
      "acceptance rate:  0.0002944162436548223\n",
      "acceptance rate:  0.00029284525790349415\n",
      "acceptance rate:  0.00028805237315875613\n",
      "acceptance rate:  0.000286634460547504\n",
      "acceptance rate:  0.0002884310618066561\n",
      "acceptance rate:  0.0002932917316692668\n",
      "acceptance rate:  0.00029646697388632874\n",
      "acceptance rate:  0.00030408472012102876\n",
      "acceptance rate:  0.0003070044709388972\n",
      "acceptance rate:  0.0003142437591776799\n",
      "acceptance rate:  0.0003154848046309696\n",
      "acceptance rate:  0.0003138373751783167\n",
      "acceptance rate:  0.00031364275668073135\n",
      "acceptance rate:  0.0003106796116504854\n",
      "acceptance rate:  0.00031053351573187413\n",
      "acceptance rate:  0.000310391363022942\n",
      "acceptance rate:  0.0003089214380825566\n",
      "acceptance rate:  0.0003061760840998686\n",
      "acceptance rate:  0.0003099870298313878\n",
      "acceptance rate:  0.00030729833546734955\n",
      "acceptance rate:  0.0003160556257901391\n",
      "acceptance rate:  0.000317103620474407\n",
      "acceptance rate:  0.00031689272503082616\n",
      "acceptance rate:  0.0003191230207064555\n",
      "acceptance rate:  0.00032129963898916967\n",
      "acceptance rate:  0.00032223543400713436\n",
      "acceptance rate:  0.0003219741480611046\n",
      "acceptance rate:  0.00032055749128919863\n",
      "acceptance rate:  0.0003260619977037888\n",
      "acceptance rate:  0.00032803632236095344\n",
      "acceptance rate:  0.0003277216610549944\n",
      "acceptance rate:  0.00032630410654827966\n",
      "acceptance rate:  0.00032601536772777166\n",
      "acceptance rate:  0.0003257328990228013\n",
      "acceptance rate:  0.00032438238453276046\n",
      "acceptance rate:  0.0003230605738575983\n",
      "acceptance rate:  0.0003249211356466877\n",
      "acceptance rate:  0.0003267429760665973\n",
      "acceptance rate:  0.0003285272914521112\n",
      "acceptance rate:  0.00032823649337410804\n",
      "acceptance rate:  0.0003329969727547931\n",
      "acceptance rate:  0.00033366633366633364\n",
      "acceptance rate:  0.00033234421364985165\n",
      "acceptance rate:  0.00033202742409402545\n",
      "acceptance rate:  0.0003326867119301649\n",
      "acceptance rate:  0.00032949087415946204\n",
      "acceptance rate:  0.0003292102759276879\n",
      "acceptance rate:  0.0003270499528746466\n",
      "acceptance rate:  0.0003258636788048553\n",
      "acceptance rate:  0.0003265494912118409\n",
      "acceptance rate:  0.00032630614115490374\n",
      "acceptance rate:  0.0003251589464123524\n",
      "acceptance rate:  0.00032493249324932495\n",
      "acceptance rate:  0.0003247100802854594\n",
      "acceptance rate:  0.00032449160035366933\n",
      "acceptance rate:  0.0003251533742331288\n",
      "acceptance rate:  0.00032841007819287574\n",
      "acceptance rate:  0.000326442721791559\n",
      "acceptance rate:  0.00032621690862510674\n",
      "acceptance rate:  0.0003243014394580864\n",
      "acceptance rate:  0.0003240973971452561\n",
      "acceptance rate:  0.000324729392173189\n",
      "acceptance rate:  0.0003245251857968621\n",
      "acceptance rate:  0.0003243243243243243\n",
      "acceptance rate:  0.0003273761169780666\n",
      "acceptance rate:  0.00032796132151490735\n",
      "acceptance rate:  0.00032853717026378896\n",
      "acceptance rate:  0.0003283108643933386\n",
      "acceptance rate:  0.00032730133752950435\n",
      "acceptance rate:  0.00032708821233411395\n",
      "acceptance rate:  0.0003261037955073586\n",
      "acceptance rate:  0.0003259031514219831\n",
      "acceptance rate:  0.00032570556826849734\n",
      "acceptance rate:  0.0003255109765329296\n",
      "acceptance rate:  0.0003275732531930879\n",
      "acceptance rate:  0.00032811334824757644\n",
      "acceptance rate:  0.00032790525536639526\n",
      "acceptance rate:  0.00032770022042615725\n",
      "acceptance rate:  0.0003289569657184537\n",
      "acceptance rate:  0.00033019551049963793\n",
      "acceptance rate:  0.00032854061826024443\n",
      "acceptance rate:  0.0003290506780870807\n",
      "acceptance rate:  0.00033026222537207653\n",
      "acceptance rate:  0.0003286418015482055\n",
      "acceptance rate:  0.00032774283717679946\n",
      "acceptance rate:  0.00032616238723108955\n",
      "acceptance rate:  0.00032667126119917297\n",
      "acceptance rate:  0.00032580424366872003\n",
      "acceptance rate:  0.00032426920462270563\n",
      "acceptance rate:  0.00032275489534098583\n",
      "acceptance rate:  0.00032327297116029513\n",
      "acceptance rate:  0.00032245169886742174\n",
      "acceptance rate:  0.0003216412971542025\n",
      "acceptance rate:  0.0003234714003944773\n",
      "acceptance rate:  0.0003220117570215545\n",
      "acceptance rate:  0.0003218689162881246\n",
      "acceptance rate:  0.0003223726627981947\n",
      "acceptance rate:  0.0003215887251761691\n",
      "acceptance rate:  0.00032527052832590707\n",
      "acceptance rate:  0.00032447817836812144\n",
      "acceptance rate:  0.0003255813953488372\n",
      "acceptance rate:  0.0003260462211118051\n",
      "acceptance rate:  0.00032526381129733086\n",
      "acceptance rate:  0.0003257248611967921\n",
      "acceptance rate:  0.0003249540159411404\n",
      "acceptance rate:  0.00032358318098720294\n",
      "acceptance rate:  0.00032283464566929134\n",
      "acceptance rate:  0.0003226971703792896\n",
      "acceptance rate:  0.00032315978456014363\n",
      "acceptance rate:  0.0003236168947055324\n",
      "acceptance rate:  0.0003252513305736251\n",
      "acceptance rate:  0.00032451499118165783\n",
      "acceptance rate:  0.0003243717124488603\n",
      "acceptance rate:  0.0003230679837303893\n",
      "acceptance rate:  0.00032293471981513576\n",
      "acceptance rate:  0.0003233773693279724\n",
      "acceptance rate:  0.0003221016561964592\n",
      "acceptance rate:  0.00032197614991482114\n",
      "acceptance rate:  0.0003201581027667984\n",
      "acceptance rate:  0.0003200449185850646\n",
      "acceptance rate:  0.0003199329983249581\n",
      "acceptance rate:  0.0003192670738478623\n",
      "acceptance rate:  0.0003180563224737714\n",
      "acceptance rate:  0.00031740801757276224\n",
      "acceptance rate:  0.0003194975423265975\n",
      "acceptance rate:  0.0003193916349809886\n",
      "acceptance rate:  0.00031820637493246894\n",
      "acceptance rate:  0.00031918323481998926\n",
      "acceptance rate:  0.0003196151790486371\n",
      "acceptance rate:  0.0003195108984582669\n",
      "acceptance rate:  0.00031835007932310945\n",
      "acceptance rate:  0.00031772751183587584\n",
      "acceptance rate:  0.00031920460491889066\n",
      "acceptance rate:  0.00031806350858927643\n",
      "acceptance rate:  0.00031796996374935265\n",
      "acceptance rate:  0.00031787738279237505\n",
      "acceptance rate:  0.00031727319323423885\n",
      "acceptance rate:  0.0003166751657317695\n",
      "acceptance rate:  0.00031557584982242517\n",
      "acceptance rate:  0.000314992428066633\n",
      "acceptance rate:  0.00031541938724259167\n",
      "acceptance rate:  0.0003153423288355822\n",
      "acceptance rate:  0.0003147687717553456\n",
      "acceptance rate:  0.0003146956952003958\n",
      "acceptance rate:  0.00031610044313146234\n",
      "acceptance rate:  0.000315531602155806\n",
      "acceptance rate:  0.00031643100926377377\n"
     ]
    },
    {
     "name": "stdout",
     "output_type": "stream",
     "text": [
      "acceptance rate:  0.0003148956817079088\n",
      "acceptance rate:  0.00031434089811685175\n",
      "acceptance rate:  0.0003142719846227775\n",
      "acceptance rate:  0.0003127690100430416\n",
      "acceptance rate:  0.00031175630652070444\n",
      "acceptance rate:  0.0003117006158218854\n",
      "acceptance rate:  0.0003125884016973126\n",
      "acceptance rate:  0.00031206006569685596\n",
      "acceptance rate:  0.00031106959364782813\n",
      "acceptance rate:  0.0003110181311018131\n",
      "acceptance rate:  0.0003114298935677927\n",
      "acceptance rate:  0.0003118378627360663\n",
      "acceptance rate:  0.00031270059605685466\n",
      "acceptance rate:  0.000312186216339571\n",
      "acceptance rate:  0.0003112221717401181\n",
      "acceptance rate:  0.0003116236996834012\n",
      "acceptance rate:  0.00031067086897793787\n",
      "acceptance rate:  0.0003097265800089646\n",
      "acceptance rate:  0.0003105756358768407\n",
      "acceptance rate:  0.0003096401599289205\n",
      "acceptance rate:  0.00030959752321981426\n",
      "acceptance rate:  0.0003095552619991193\n",
      "acceptance rate:  0.00030995177553704516\n",
      "acceptance rate:  0.00030903535573985157\n",
      "acceptance rate:  0.0003094306823120382\n",
      "acceptance rate:  0.00031198615318044136\n",
      "acceptance rate:  0.0003115036622145627\n",
      "acceptance rate:  0.00031145431145431147\n",
      "acceptance rate:  0.0003114053823152499\n",
      "acceptance rate:  0.0003117822203317737\n",
      "acceptance rate:  0.000313426514188903\n",
      "acceptance rate:  0.0003142134120624209\n",
      "acceptance rate:  0.0003145737085258295\n",
      "acceptance rate:  0.0003136762860727729\n",
      "acceptance rate:  0.00031486880466472303\n",
      "acceptance rate:  0.00031522189962671093\n",
      "acceptance rate:  0.00031433292028087566\n",
      "acceptance rate:  0.0003150966680378445\n",
      "acceptance rate:  0.00031503482179434655\n",
      "acceptance rate:  0.00031456548347613217\n",
      "acceptance rate:  0.0003140999593661113\n",
      "acceptance rate:  0.00031485228652367465\n",
      "acceptance rate:  0.00031721080209592907\n",
      "acceptance rate:  0.0003171417101565636\n",
      "acceptance rate:  0.0003166733306677329\n",
      "acceptance rate:  0.000315810434090004\n",
      "acceptance rate:  0.00031614438714795717\n",
      "acceptance rate:  0.0003168708020545239\n",
      "acceptance rate:  0.00031719795356158995\n",
      "acceptance rate:  0.00031713053704429634\n",
      "acceptance rate:  0.0003162827020695041\n",
      "acceptance rate:  0.00031583041618047454\n",
      "acceptance rate:  0.00031654397520340953\n",
      "acceptance rate:  0.0003168660748745658\n",
      "acceptance rate:  0.0003175701653210304\n",
      "acceptance rate:  0.00031673688242052855\n",
      "acceptance rate:  0.000316291491797024\n",
      "acceptance rate:  0.00031584948688711514\n",
      "acceptance rate:  0.000315032184778493\n",
      "acceptance rate:  0.00031422104866088267\n",
      "acceptance rate:  0.000314543404735062\n",
      "acceptance rate:  0.00031411456383377014\n",
      "acceptance rate:  0.00031480790749720256\n",
      "acceptance rate:  0.00031512448903753254\n",
      "acceptance rate:  0.00031617919289152164\n",
      "acceptance rate:  0.0003153817779417189\n",
      "acceptance rate:  0.0003145902241822859\n",
      "acceptance rate:  0.00031526913218601243\n",
      "acceptance rate:  0.0003144837650492521\n",
      "acceptance rate:  0.00031479462013813157\n",
      "acceptance rate:  0.00031437884824339006\n",
      "acceptance rate:  0.0003146878383255143\n",
      "acceptance rate:  0.0003142754404890327\n",
      "acceptance rate:  0.00031458258688642064\n",
      "acceptance rate:  0.0003156015708675473\n",
      "acceptance rate:  0.0003151903237282106\n",
      "acceptance rate:  0.00031478199220134705\n",
      "acceptance rate:  0.00031437654539032145\n",
      "acceptance rate:  0.00031432594156986977\n",
      "acceptance rate:  0.00031392493861802877\n",
      "acceptance rate:  0.00031317721076546664\n",
      "acceptance rate:  0.00031417624521072797\n",
      "acceptance rate:  0.0003134328358208955\n",
      "acceptance rate:  0.0003144240747146316\n",
      "acceptance rate:  0.0003143743536711479\n",
      "acceptance rate:  0.0003139814496736517\n",
      "acceptance rate:  0.00031359123587812394\n",
      "acceptance rate:  0.0003132036847492323\n",
      "acceptance rate:  0.0003134988099285957\n",
      "acceptance rate:  0.0003144696712978651\n",
      "acceptance rate:  0.0003140830800405268\n",
      "acceptance rate:  0.0003133625042073376\n",
      "acceptance rate:  0.00031331767863133176\n",
      "acceptance rate:  0.0003136074891340689\n",
      "acceptance rate:  0.0003128957014328557\n",
      "acceptance rate:  0.00031318498837595485\n",
      "acceptance rate:  0.00031446540880503143\n",
      "acceptance rate:  0.0003140877598152425\n",
      "acceptance rate:  0.0003137125945412693\n",
      "acceptance rate:  0.0003133398885611275\n",
      "acceptance rate:  0.00031296961777196994\n",
      "acceptance rate:  0.00031390426571149463\n",
      "acceptance rate:  0.0003151574164232392\n",
      "acceptance rate:  0.00031413781947589776\n",
      "acceptance rate:  0.0003147371815543373\n",
      "acceptance rate:  0.00031372549019607844\n",
      "acceptance rate:  0.00031336110221082987\n",
      "acceptance rate:  0.00031331842861705524\n",
      "acceptance rate:  0.00031550461636421523\n",
      "acceptance rate:  0.0003154554109806411\n",
      "acceptance rate:  0.0003150901613413477\n",
      "acceptance rate:  0.000315042573320719\n",
      "acceptance rate:  0.0003146809179503301\n",
      "tensor([4.8760, 5.0929, 1.3039, 5.1972, 5.0415, 1.8444, 6.3277, 3.1376, 2.7174,\n",
      "        9.2791, 1.0249, 2.8536, 2.9521, 6.1559, 5.7064])\n",
      "tensor([ 7.7247, 18.1346, 21.8451, 23.6506, 90.6956, 57.1880, 37.1536, 18.1154,\n",
      "         6.4712, 46.1013,  2.2248, 57.5243, 98.3549, 54.2897, 54.1078])\n",
      "tensor([[ 3.,  6., 20., 10., 90., 55., 27., 27.,  4., 70.,  5., 66., 99., 40.,\n",
      "         45.]])\n",
      "tensor([[1., 1., 1., 1., 1., 1., 1., 1., 1., 1., 1., 1., 1., 1., 1.]])\n",
      "tensor([[ 20.9647,  84.4657,   1.7870, 104.5274,  10.8325,   2.9825,  69.2222,\n",
      "          42.7473,   5.2460, 325.8964,   3.8515,  38.4417,   2.9831, 118.7280,\n",
      "          55.5160]])\n"
     ]
    },
    {
     "data": {
      "application/vnd.jupyter.widget-view+json": {
       "model_id": "5d6a32f9de554d5ba22c8539f4b8f715",
       "version_major": 2,
       "version_minor": 0
      },
      "text/plain": [
       "Drawing 1000 posterior samples:   0%|          | 0/1000 [00:00<?, ?it/s]"
      ]
     },
     "metadata": {},
     "output_type": "display_data"
    },
    {
     "name": "stdout",
     "output_type": "stream",
     "text": [
      "acceptance rate:  0.449\n",
      "acceptance rate:  0.478\n"
     ]
    },
    {
     "data": {
      "application/vnd.jupyter.widget-view+json": {
       "model_id": "970676a089664f40b02b217d54909c62",
       "version_major": 2,
       "version_minor": 0
      },
      "text/plain": [
       "Drawing 1000 posterior samples:   0%|          | 0/1000 [00:00<?, ?it/s]"
      ]
     },
     "metadata": {},
     "output_type": "display_data"
    },
    {
     "name": "stdout",
     "output_type": "stream",
     "text": [
      "acceptance rate:  0.482\n",
      "acceptance rate:  0.4692727272727273\n",
      "tensor([0.7729, 1.3404, 2.4002, 0.3036, 3.4672, 4.2655, 0.7315, 1.1802, 0.2149,\n",
      "        0.6795, 0.6601, 0.6541, 0.9841, 0.6926, 0.9432])\n",
      "tensor([ 2.4072,  5.3416, 20.3527, 10.0283, 91.4073, 55.8184, 25.9580, 28.4154,\n",
      "         5.7457, 68.7679,  5.7166, 64.1342, 98.6167, 38.5422, 45.7342])\n",
      "tensor([[ 3.,  6., 20., 10., 90., 55., 27., 27.,  4., 70.,  5., 66., 99., 40.,\n",
      "         45.]])\n",
      "tensor([[1., 1., 1., 1., 1., 1., 1., 1., 1., 1., 1., 1., 1., 1., 1.]])\n",
      "tensor([[0.2320, 0.3221, 1.5671, 0.7384, 5.2575, 7.4817, 0.6231, 1.0324, 2.5843,\n",
      "         0.8763, 0.3900, 1.8790, 0.0737, 1.1698, 0.2728]])\n"
     ]
    },
    {
     "data": {
      "application/vnd.jupyter.widget-view+json": {
       "model_id": "396c17bbb7a54376b2df824281959843",
       "version_major": 2,
       "version_minor": 0
      },
      "text/plain": [
       "Drawing 1000 posterior samples:   0%|          | 0/1000 [00:00<?, ?it/s]"
      ]
     },
     "metadata": {},
     "output_type": "display_data"
    },
    {
     "name": "stdout",
     "output_type": "stream",
     "text": [
      "acceptance rate:  0.022\n",
      "acceptance rate:  0.021\n",
      "acceptance rate:  0.02019047619047619\n",
      "acceptance rate:  0.020225806451612902\n",
      "acceptance rate:  0.01973170731707317\n",
      "acceptance rate:  0.019862745098039217\n"
     ]
    },
    {
     "data": {
      "application/vnd.jupyter.widget-view+json": {
       "model_id": "12bda420177e4e4585030b85436472e2",
       "version_major": 2,
       "version_minor": 0
      },
      "text/plain": [
       "Drawing 1000 posterior samples:   0%|          | 0/1000 [00:00<?, ?it/s]"
      ]
     },
     "metadata": {},
     "output_type": "display_data"
    },
    {
     "name": "stdout",
     "output_type": "stream",
     "text": [
      "acceptance rate:  0.019\n",
      "acceptance rate:  0.019545454545454546\n",
      "acceptance rate:  0.020476190476190478\n",
      "acceptance rate:  0.020806451612903225\n",
      "acceptance rate:  0.02075609756097561\n",
      "acceptance rate:  0.0203921568627451\n",
      "tensor([ 0.9768,  1.7486,  3.8908,  2.1852,  0.7755,  2.6796,  0.9480,  2.9505,\n",
      "         5.7214,  0.9691,  0.6182,  0.6018,  6.1858,  5.6873, 11.1393])\n",
      "tensor([ 2.2808,  6.1391, 25.1816,  7.8274, 91.1411, 52.3920, 25.1370, 31.3714,\n",
      "        13.5972, 69.4804,  4.4238, 64.6733, 91.3155, 48.9680, 60.9397])\n",
      "tensor([[ 3.,  6., 20., 10., 90., 55., 27., 27.,  4., 70.,  5., 66., 99., 40.,\n",
      "         45.]])\n",
      "tensor([[1., 1., 1., 1., 1., 1., 1., 1., 1., 1., 1., 1., 1., 1., 1.]])\n",
      "tensor([[2.5913e-01, 4.7964e-01, 1.9135e+01, 3.4659e+00, 7.0595e-01, 5.5051e+00,\n",
      "         1.7382e+00, 1.2325e+01, 6.0176e+01, 1.3594e-01, 3.3809e-01, 1.0689e+00,\n",
      "         4.6336e+01, 5.4147e+01, 1.8617e+02]])\n"
     ]
    },
    {
     "data": {
      "application/vnd.jupyter.widget-view+json": {
       "model_id": "26872694dde84e5db1d2e03f3d53dd33",
       "version_major": 2,
       "version_minor": 0
      },
      "text/plain": [
       "Drawing 1000 posterior samples:   0%|          | 0/1000 [00:00<?, ?it/s]"
      ]
     },
     "metadata": {},
     "output_type": "display_data"
    },
    {
     "name": "stdout",
     "output_type": "stream",
     "text": [
      "acceptance rate:  0.153\n",
      "acceptance rate:  0.1421818181818182\n"
     ]
    },
    {
     "data": {
      "application/vnd.jupyter.widget-view+json": {
       "model_id": "89b010d3d36e4687952280daa7fd19e2",
       "version_major": 2,
       "version_minor": 0
      },
      "text/plain": [
       "Drawing 1000 posterior samples:   0%|          | 0/1000 [00:00<?, ?it/s]"
      ]
     },
     "metadata": {},
     "output_type": "display_data"
    },
    {
     "name": "stdout",
     "output_type": "stream",
     "text": [
      "acceptance rate:  0.144\n",
      "acceptance rate:  0.13763636363636364\n",
      "tensor([ 4.2646,  2.4176,  6.1457,  6.6697,  6.6636,  7.6745, 13.6844,  5.5476,\n",
      "         2.4066,  5.7077,  4.4652,  4.4325, 10.3325,  8.7585,  5.6150])\n",
      "tensor([ 9.4647,  3.9431, 31.7236, 20.0546, 82.4987, 70.3848, 42.8974, 10.7657,\n",
      "         4.1608, 63.1155,  7.1547, 60.0287, 69.8334, 25.2263, 42.6586])\n",
      "tensor([[ 3.,  6., 20., 10., 90., 55., 27., 27.,  4., 70.,  5., 66., 99., 40.,\n",
      "         45.]])\n",
      "tensor([[1., 1., 1., 1., 1., 1., 1., 1., 1., 1., 1., 1., 1., 1., 1.]])\n",
      "tensor([[ 28.0394,   3.6549,  85.2908,  70.3925,  47.9396, 145.2578, 216.8786,\n",
      "         144.9517,   1.5306,  37.7453,  10.2942,  25.6627, 475.8906, 144.8169,\n",
      "          16.2799]])\n"
     ]
    },
    {
     "data": {
      "application/vnd.jupyter.widget-view+json": {
       "model_id": "fe3b4a8ae22a4096b6c0687cb8bfdb5a",
       "version_major": 2,
       "version_minor": 0
      },
      "text/plain": [
       "Drawing 1000 posterior samples:   0%|          | 0/1000 [00:00<?, ?it/s]"
      ]
     },
     "metadata": {},
     "output_type": "display_data"
    },
    {
     "name": "stdout",
     "output_type": "stream",
     "text": [
      "acceptance rate:  0.125\n",
      "acceptance rate:  0.12472727272727273\n"
     ]
    },
    {
     "data": {
      "application/vnd.jupyter.widget-view+json": {
       "model_id": "9c91dd02a632419a99121c5dce61cd32",
       "version_major": 2,
       "version_minor": 0
      },
      "text/plain": [
       "Drawing 1000 posterior samples:   0%|          | 0/1000 [00:00<?, ?it/s]"
      ]
     },
     "metadata": {},
     "output_type": "display_data"
    },
    {
     "name": "stdout",
     "output_type": "stream",
     "text": [
      "acceptance rate:  0.124\n",
      "acceptance rate:  0.117\n",
      "tensor([2.1419, 3.4543, 1.8328, 2.5747, 2.9068, 4.0727, 1.0485, 2.1714, 2.0905,\n",
      "        2.3255, 1.5754, 1.9409, 2.3567, 4.4232, 3.5278])\n",
      "tensor([ 5.3108,  6.9146, 17.1830,  5.2880, 86.4633, 50.5417, 26.0677, 24.4480,\n",
      "         4.3601, 72.2366,  3.5908, 63.6772, 96.8363, 47.3672, 40.3927])\n",
      "tensor([[ 3.,  6., 20., 10., 90., 55., 27., 27.,  4., 70.,  5., 66., 99., 40.,\n",
      "         45.]])\n",
      "tensor([[1., 1., 1., 1., 1., 1., 1., 1., 1., 1., 1., 1., 1., 1., 1.]])\n",
      "tensor([[ 3.7020,  4.6447,  4.5415, 12.9703,  8.9116, 16.3274,  0.4369,  4.3385,\n",
      "          1.0125,  3.8613,  1.2794,  3.4182,  3.7606, 34.9337, 15.0756]])\n"
     ]
    },
    {
     "data": {
      "application/vnd.jupyter.widget-view+json": {
       "model_id": "772ba1dd3c5a476f91248f23890a8730",
       "version_major": 2,
       "version_minor": 0
      },
      "text/plain": [
       "Drawing 1000 posterior samples:   0%|          | 0/1000 [00:00<?, ?it/s]"
      ]
     },
     "metadata": {},
     "output_type": "display_data"
    },
    {
     "name": "stdout",
     "output_type": "stream",
     "text": [
      "acceptance rate:  0.41\n",
      "acceptance rate:  0.41963636363636364\n"
     ]
    },
    {
     "data": {
      "application/vnd.jupyter.widget-view+json": {
       "model_id": "15171c8f199944d7bb157bdf1f58e571",
       "version_major": 2,
       "version_minor": 0
      },
      "text/plain": [
       "Drawing 1000 posterior samples:   0%|          | 0/1000 [00:00<?, ?it/s]"
      ]
     },
     "metadata": {},
     "output_type": "display_data"
    },
    {
     "name": "stdout",
     "output_type": "stream",
     "text": [
      "acceptance rate:  0.4\n",
      "acceptance rate:  0.4133636363636364\n",
      "tensor([1.8033, 2.4282, 3.2997, 3.1929, 2.5251, 4.2458, 2.5957, 3.8916, 6.6249,\n",
      "        3.6598, 3.3734, 5.6797, 1.9905, 5.4109, 3.5495])\n",
      "tensor([ 4.9149,  4.5612, 24.1097,  7.4291, 94.7081, 48.6128, 21.2205, 19.7891,\n",
      "        16.4545, 76.0307,  8.0304, 68.5405, 97.3020, 48.8705, 50.6501])\n",
      "tensor([[ 3.,  6., 20., 10., 90., 55., 27., 27.,  4., 70.,  5., 66., 99., 40.,\n",
      "         45.]])\n",
      "tensor([[1., 1., 1., 1., 1., 1., 1., 1., 1., 1., 1., 1., 1., 1., 1.]])\n",
      "tensor([[ 2.3698,  2.5959, 12.1952,  6.7410, 12.8449, 27.4658, 18.6164, 31.7120,\n",
      "         97.1112, 23.0840,  8.5657, 17.1196,  2.2342, 51.7936, 20.4947]])\n"
     ]
    },
    {
     "data": {
      "application/vnd.jupyter.widget-view+json": {
       "model_id": "1509266bcd254e64a61d9ae0ad521244",
       "version_major": 2,
       "version_minor": 0
      },
      "text/plain": [
       "Drawing 1000 posterior samples:   0%|          | 0/1000 [00:00<?, ?it/s]"
      ]
     },
     "metadata": {},
     "output_type": "display_data"
    },
    {
     "name": "stdout",
     "output_type": "stream",
     "text": [
      "acceptance rate:  0.014\n",
      "acceptance rate:  0.012181818181818183\n",
      "acceptance rate:  0.011285714285714286\n",
      "acceptance rate:  0.011612903225806452\n",
      "acceptance rate:  0.011414634146341463\n",
      "acceptance rate:  0.011156862745098039\n",
      "acceptance rate:  0.010934426229508196\n",
      "acceptance rate:  0.010788732394366196\n",
      "acceptance rate:  0.01062962962962963\n",
      "acceptance rate:  0.010758241758241758\n",
      "acceptance rate:  0.01088118811881188\n"
     ]
    },
    {
     "data": {
      "application/vnd.jupyter.widget-view+json": {
       "model_id": "d7899e30adb64c73b264d1d816f802bc",
       "version_major": 2,
       "version_minor": 0
      },
      "text/plain": [
       "Drawing 1000 posterior samples:   0%|          | 0/1000 [00:00<?, ?it/s]"
      ]
     },
     "metadata": {},
     "output_type": "display_data"
    },
    {
     "name": "stdout",
     "output_type": "stream",
     "text": [
      "acceptance rate:  0.005\n",
      "acceptance rate:  0.011545454545454546\n",
      "acceptance rate:  0.010809523809523809\n",
      "acceptance rate:  0.010870967741935484\n",
      "acceptance rate:  0.011073170731707316\n",
      "acceptance rate:  0.010980392156862745\n",
      "acceptance rate:  0.011081967213114755\n",
      "acceptance rate:  0.011\n",
      "acceptance rate:  0.011185185185185185\n",
      "acceptance rate:  0.011120879120879121\n",
      "tensor([1.1026, 3.1046, 2.1558, 1.2039, 0.5811, 1.6213, 1.1640, 1.6293, 1.2368,\n",
      "        0.7620, 1.2340, 0.8182, 1.9976, 2.3678, 1.8530])\n",
      "tensor([ 2.6539,  8.2470, 22.6381,  9.4120, 90.5273, 57.8861, 24.2253, 27.6312,\n",
      "         6.8784, 68.8186,  3.3526, 65.1425, 97.0922, 41.1819, 47.2404])\n",
      "tensor([[ 3.,  6., 20., 10., 90., 55., 27., 27.,  4., 70.,  5., 66., 99., 40.,\n",
      "         45.]])\n",
      "tensor([[1., 1., 1., 1., 1., 1., 1., 1., 1., 1., 1., 1., 1., 1., 1.]])\n",
      "tensor([[0.0701, 5.7109, 4.5356, 0.2120, 0.3507, 4.4958, 3.8750, 0.5383, 4.1948,\n",
      "         0.7600, 1.4082, 0.4030, 2.6231, 2.1396, 3.1097]])\n"
     ]
    },
    {
     "data": {
      "application/vnd.jupyter.widget-view+json": {
       "model_id": "cd0ee3d815164e23bc3ca6a99358612a",
       "version_major": 2,
       "version_minor": 0
      },
      "text/plain": [
       "Drawing 1000 posterior samples:   0%|          | 0/1000 [00:00<?, ?it/s]"
      ]
     },
     "metadata": {},
     "output_type": "display_data"
    },
    {
     "name": "stdout",
     "output_type": "stream",
     "text": [
      "acceptance rate:  0.461\n",
      "acceptance rate:  0.451\n"
     ]
    },
    {
     "data": {
      "application/vnd.jupyter.widget-view+json": {
       "model_id": "d145bb375a4547a5adcea335c24387f6",
       "version_major": 2,
       "version_minor": 0
      },
      "text/plain": [
       "Drawing 1000 posterior samples:   0%|          | 0/1000 [00:00<?, ?it/s]"
      ]
     },
     "metadata": {},
     "output_type": "display_data"
    },
    {
     "name": "stdout",
     "output_type": "stream",
     "text": [
      "acceptance rate:  0.479\n",
      "acceptance rate:  0.44972727272727275\n",
      "tensor([3.6153, 1.3157, 5.1371, 3.5907, 2.2687, 2.1069, 2.8017, 2.9166, 3.9985,\n",
      "        3.3555, 2.6395, 4.9026, 1.6796, 2.5299, 2.0406])\n",
      "tensor([ 7.3272,  6.2502, 18.7021,  8.1285, 96.3498, 54.1309, 27.0560, 22.0146,\n",
      "         8.2230, 69.7172,  5.8629, 60.8491, 97.1283, 38.0303, 47.6989])\n",
      "tensor([[ 3.,  6., 20., 10., 90., 55., 27., 27.,  4., 70.,  5., 66., 99., 40.,\n",
      "         45.]])\n",
      "tensor([[1., 1., 1., 1., 1., 1., 1., 1., 1., 1., 1., 1., 1., 1., 1.]])\n",
      "tensor([[14.1123,  0.1225, 11.9007,  6.4194, 21.4140,  1.3519,  2.3961, 15.1098,\n",
      "         15.0248,  3.9592,  2.3851, 23.1935,  2.1436,  3.7120,  4.5109]])\n"
     ]
    },
    {
     "data": {
      "application/vnd.jupyter.widget-view+json": {
       "model_id": "945e19f361dc435fb5ecc499eb9f2737",
       "version_major": 2,
       "version_minor": 0
      },
      "text/plain": [
       "Drawing 1000 posterior samples:   0%|          | 0/1000 [00:00<?, ?it/s]"
      ]
     },
     "metadata": {},
     "output_type": "display_data"
    },
    {
     "name": "stdout",
     "output_type": "stream",
     "text": [
      "acceptance rate:  0.989\n",
      "acceptance rate:  0.9854545454545455\n"
     ]
    },
    {
     "data": {
      "application/vnd.jupyter.widget-view+json": {
       "model_id": "8e98e83a9fe84dbf81572e995a77290f",
       "version_major": 2,
       "version_minor": 0
      },
      "text/plain": [
       "Drawing 1000 posterior samples:   0%|          | 0/1000 [00:00<?, ?it/s]"
      ]
     },
     "metadata": {},
     "output_type": "display_data"
    },
    {
     "name": "stdout",
     "output_type": "stream",
     "text": [
      "acceptance rate:  0.991\n",
      "acceptance rate:  0.983\n",
      "tensor([0.2758, 0.2982, 3.0477, 0.5502, 0.5520, 0.5468, 0.2733, 0.8593, 0.3673,\n",
      "        0.2439, 0.7130, 3.4067, 3.4189, 2.1985, 2.9133])\n",
      "tensor([ 4.1841,  5.0404, 27.8598, 10.8463, 89.7861, 54.9524, 25.3767, 28.8777,\n",
      "         6.3002, 69.4802,  6.2665, 56.4905, 91.6405, 45.0751, 38.5487])\n",
      "tensor([[ 3.,  6., 20., 10., 90., 55., 27., 27.,  4., 70.,  5., 66., 99., 40.,\n",
      "         45.]])\n",
      "tensor([[1., 1., 1., 1., 1., 1., 1., 1., 1., 1., 1., 1., 1., 1., 1.]])\n",
      "tensor([[ 1.5273,  1.2147, 33.9183,  0.6070,  0.2694,  0.2543,  2.1522,  1.7838,\n",
      "          3.2146,  1.0760,  0.8944, 49.2918, 31.1961, 14.0075, 23.4840]])\n"
     ]
    },
    {
     "data": {
      "application/vnd.jupyter.widget-view+json": {
       "model_id": "a663c7f2d787428394663c8fcbf4b91b",
       "version_major": 2,
       "version_minor": 0
      },
      "text/plain": [
       "Drawing 1000 posterior samples:   0%|          | 0/1000 [00:00<?, ?it/s]"
      ]
     },
     "metadata": {},
     "output_type": "display_data"
    },
    {
     "name": "stdout",
     "output_type": "stream",
     "text": [
      "acceptance rate:  0.421\n",
      "acceptance rate:  0.42872727272727273\n"
     ]
    },
    {
     "data": {
      "application/vnd.jupyter.widget-view+json": {
       "model_id": "e29985127cf54e85af3073f5bead93b8",
       "version_major": 2,
       "version_minor": 0
      },
      "text/plain": [
       "Drawing 1000 posterior samples:   0%|          | 0/1000 [00:00<?, ?it/s]"
      ]
     },
     "metadata": {},
     "output_type": "display_data"
    },
    {
     "name": "stdout",
     "output_type": "stream",
     "text": [
      "acceptance rate:  0.446\n",
      "acceptance rate:  0.4390909090909091\n",
      "tensor([ 4.6583, 10.9772,  4.5373,  4.1132, 11.9003,  4.4968,  8.9596,  8.6210,\n",
      "        12.8220,  7.5362,  8.9725, 10.3036,  7.2998,  7.0872,  7.6150])\n",
      "tensor([ 8.2896, 41.8984, 25.5969,  6.5812, 51.4382, 73.4817, 23.0693, 44.8301,\n",
      "        42.5504, 88.1000, 20.0260, 50.0025, 84.7280, 27.2227, 62.8715])\n",
      "tensor([[ 3.,  6., 20., 10., 90., 55., 27., 27.,  4., 70.,  5., 66., 99., 40.,\n",
      "         45.]])\n",
      "tensor([[1., 1., 1., 1., 1., 1., 1., 1., 1., 1., 1., 1., 1., 1., 1.]])\n",
      "tensor([[ 22.8013, 701.6996,  23.9441,  12.3889, 811.3375, 178.8932,  45.1699,\n",
      "         193.4625, 822.2161, 189.6815, 150.4480, 178.2098, 126.0003, 104.2851,\n",
      "         186.1594]])\n"
     ]
    },
    {
     "data": {
      "application/vnd.jupyter.widget-view+json": {
       "model_id": "6b6e92e79a5740b29624b27c7e2fd57b",
       "version_major": 2,
       "version_minor": 0
      },
      "text/plain": [
       "Drawing 1000 posterior samples:   0%|          | 0/1000 [00:00<?, ?it/s]"
      ]
     },
     "metadata": {},
     "output_type": "display_data"
    },
    {
     "name": "stdout",
     "output_type": "stream",
     "text": [
      "acceptance rate:  0.059\n",
      "acceptance rate:  0.059\n",
      "acceptance rate:  0.057761904761904764\n"
     ]
    },
    {
     "data": {
      "application/vnd.jupyter.widget-view+json": {
       "model_id": "29e6ee815a5247a6acd5de805b0bfa0c",
       "version_major": 2,
       "version_minor": 0
      },
      "text/plain": [
       "Drawing 1000 posterior samples:   0%|          | 0/1000 [00:00<?, ?it/s]"
      ]
     },
     "metadata": {},
     "output_type": "display_data"
    },
    {
     "name": "stdout",
     "output_type": "stream",
     "text": [
      "acceptance rate:  0.041\n",
      "acceptance rate:  0.054\n",
      "acceptance rate:  0.05423809523809524\n",
      "tensor([1.0967, 2.9192, 4.1679, 4.4331, 8.1433, 3.0868, 4.3216, 1.6814, 2.0822,\n",
      "        5.0414, 2.2345, 4.4178, 1.3884, 5.9660, 3.5211])\n",
      "tensor([ 2.3498,  5.1164, 27.0900,  9.8818, 72.9861, 62.2776, 14.8156, 29.8869,\n",
      "         4.0300, 69.4995,  6.1525, 70.9394, 97.9694, 40.3897, 52.8159])\n",
      "tensor([[ 3.,  6., 20., 10., 90., 55., 27., 27.,  4., 70.,  5., 66., 99., 40.,\n",
      "         45.]])\n",
      "tensor([[1., 1., 1., 1., 1., 1., 1., 1., 1., 1., 1., 1., 1., 1., 1.]])\n",
      "tensor([[  0.2205,   3.0799,  31.8925,   7.8439, 175.2947,  29.6188,  81.6042,\n",
      "           4.5611,   0.9348,  10.7155,   1.8566,  19.9716,   0.6667,  15.5864,\n",
      "          34.9846]])\n"
     ]
    },
    {
     "data": {
      "application/vnd.jupyter.widget-view+json": {
       "model_id": "0fdf35dec6e04c09bc25f9a6095961f2",
       "version_major": 2,
       "version_minor": 0
      },
      "text/plain": [
       "Drawing 1000 posterior samples:   0%|          | 0/1000 [00:00<?, ?it/s]"
      ]
     },
     "metadata": {},
     "output_type": "display_data"
    },
    {
     "name": "stdout",
     "output_type": "stream",
     "text": [
      "acceptance rate:  0.473\n",
      "acceptance rate:  0.46636363636363637\n"
     ]
    },
    {
     "data": {
      "application/vnd.jupyter.widget-view+json": {
       "model_id": "9b7059024182407f96e4f239b77fcfc1",
       "version_major": 2,
       "version_minor": 0
      },
      "text/plain": [
       "Drawing 1000 posterior samples:   0%|          | 0/1000 [00:00<?, ?it/s]"
      ]
     },
     "metadata": {},
     "output_type": "display_data"
    },
    {
     "name": "stdout",
     "output_type": "stream",
     "text": [
      "acceptance rate:  0.475\n",
      "acceptance rate:  0.47263636363636363\n",
      "tensor([2.0839, 1.8857, 2.4342, 2.6136, 1.8619, 2.4735, 1.7176, 2.7952, 4.4506,\n",
      "        2.7027, 1.6571, 3.0120, 1.4430, 3.2918, 2.4542])\n",
      "tensor([ 4.1806,  6.4036, 18.1192,  4.8060, 91.1845, 54.8441, 25.9249, 27.9980,\n",
      "        11.9136, 72.2637,  4.6186, 59.6206, 97.6719, 35.0948, 49.6482])\n",
      "tensor([[ 3.,  6., 20., 10., 90., 55., 27., 27.,  4., 70.,  5., 66., 99., 40.,\n",
      "         45.]])\n",
      "tensor([[1., 1., 1., 1., 1., 1., 1., 1., 1., 1., 1., 1., 1., 1., 1.]])\n",
      "tensor([[ 1.6339,  0.7250,  3.3418, 15.4433,  1.3133,  1.6656,  1.0120,  2.8766,\n",
      "         39.2231,  4.7204,  0.4406, 23.2817,  1.0564, 15.7570, 12.4164]])\n"
     ]
    },
    {
     "data": {
      "application/vnd.jupyter.widget-view+json": {
       "model_id": "bcdda81b49da492d8dcfcc1168b157de",
       "version_major": 2,
       "version_minor": 0
      },
      "text/plain": [
       "Drawing 1000 posterior samples:   0%|          | 0/1000 [00:00<?, ?it/s]"
      ]
     },
     "metadata": {},
     "output_type": "display_data"
    },
    {
     "name": "stdout",
     "output_type": "stream",
     "text": [
      "acceptance rate:  0.467\n",
      "acceptance rate:  0.48572727272727273\n"
     ]
    },
    {
     "data": {
      "application/vnd.jupyter.widget-view+json": {
       "model_id": "fe0b1c8480fa4a9281c5096a72c8a1c7",
       "version_major": 2,
       "version_minor": 0
      },
      "text/plain": [
       "Drawing 1000 posterior samples:   0%|          | 0/1000 [00:00<?, ?it/s]"
      ]
     },
     "metadata": {},
     "output_type": "display_data"
    },
    {
     "name": "stdout",
     "output_type": "stream",
     "text": [
      "acceptance rate:  0.501\n",
      "acceptance rate:  0.47609090909090906\n",
      "tensor([2.3427, 5.3109, 6.2661, 3.9009, 4.3667, 4.5089, 4.2983, 3.3952, 4.7092,\n",
      "        5.6828, 3.8853, 1.7994, 4.0634, 6.4387, 1.8949])\n",
      "tensor([ 8.6234, 16.6987, 13.4191,  6.6907, 78.5565, 64.3868, 11.2756, 28.4276,\n",
      "         9.1293, 87.6211,  9.5349, 62.5678, 89.6251, 33.5131, 44.6503])\n",
      "tensor([[ 3.,  6., 20., 10., 90., 55., 27., 27.,  4., 70.,  5., 66., 99., 40.,\n",
      "         45.]])\n",
      "tensor([[1., 1., 1., 1., 1., 1., 1., 1., 1., 1., 1., 1., 1., 1., 1.]])\n",
      "tensor([[ 17.2038,  69.1639,  38.9510,  11.2230,  73.0372,  52.2149, 130.9074,\n",
      "           5.0604,  22.1937, 169.1616,  15.9731,   6.4216,  50.2979,  39.4058,\n",
      "           0.7173]])\n"
     ]
    },
    {
     "data": {
      "application/vnd.jupyter.widget-view+json": {
       "model_id": "e8bfb2b8c1e848769ef2ec046c88305d",
       "version_major": 2,
       "version_minor": 0
      },
      "text/plain": [
       "Drawing 1000 posterior samples:   0%|          | 0/1000 [00:00<?, ?it/s]"
      ]
     },
     "metadata": {},
     "output_type": "display_data"
    },
    {
     "name": "stdout",
     "output_type": "stream",
     "text": [
      "acceptance rate:  0.408\n",
      "acceptance rate:  0.40745454545454546\n"
     ]
    },
    {
     "data": {
      "application/vnd.jupyter.widget-view+json": {
       "model_id": "e681df10ade641458a581234fbfaa347",
       "version_major": 2,
       "version_minor": 0
      },
      "text/plain": [
       "Drawing 1000 posterior samples:   0%|          | 0/1000 [00:00<?, ?it/s]"
      ]
     },
     "metadata": {},
     "output_type": "display_data"
    },
    {
     "name": "stdout",
     "output_type": "stream",
     "text": [
      "acceptance rate:  0.396\n",
      "acceptance rate:  0.39736363636363636\n",
      "tensor([1.2632, 1.2159, 2.0331, 2.2046, 1.6937, 2.1192, 4.5108, 1.5325, 0.6610,\n",
      "        0.7728, 0.8227, 1.7935, 1.8267, 2.0957, 7.1564])\n",
      "tensor([ 5.1925,  2.7168, 21.1121,  8.3780, 93.3291, 55.6833, 21.6495, 28.0336,\n",
      "         5.9148, 69.5802,  4.5813, 66.5983, 97.4204, 37.2328, 37.6090])\n",
      "tensor([[ 3.,  6., 20., 10., 90., 55., 27., 27.,  4., 70.,  5., 66., 99., 40.,\n",
      "         45.]])\n",
      "tensor([[1., 1., 1., 1., 1., 1., 1., 1., 1., 1., 1., 1., 1., 1., 1.]])\n",
      "tensor([[ 2.4678,  5.4334,  1.4755,  2.4549,  5.9487,  1.2280, 22.4814,  0.7816,\n",
      "          1.9656,  0.1445,  0.1212,  0.7032,  1.8135,  4.7847, 50.4523]])\n"
     ]
    },
    {
     "data": {
      "application/vnd.jupyter.widget-view+json": {
       "model_id": "91ea7d5e6403431e9ce73a1c085f1a99",
       "version_major": 2,
       "version_minor": 0
      },
      "text/plain": [
       "Drawing 1000 posterior samples:   0%|          | 0/1000 [00:00<?, ?it/s]"
      ]
     },
     "metadata": {},
     "output_type": "display_data"
    },
    {
     "name": "stdout",
     "output_type": "stream",
     "text": [
      "acceptance rate:  0.056\n",
      "acceptance rate:  0.062\n",
      "acceptance rate:  0.06447619047619048\n"
     ]
    },
    {
     "data": {
      "application/vnd.jupyter.widget-view+json": {
       "model_id": "d43f1bc6737940a8bf6ba03564a1b10a",
       "version_major": 2,
       "version_minor": 0
      },
      "text/plain": [
       "Drawing 1000 posterior samples:   0%|          | 0/1000 [00:00<?, ?it/s]"
      ]
     },
     "metadata": {},
     "output_type": "display_data"
    },
    {
     "name": "stdout",
     "output_type": "stream",
     "text": [
      "acceptance rate:  0.07\n",
      "acceptance rate:  0.063\n",
      "acceptance rate:  0.06290476190476191\n",
      "tensor([ 2.3849,  1.5566,  9.0622,  1.7679,  1.2368,  0.4971,  1.0710,  0.6788,\n",
      "         1.1523,  0.4205,  5.5423, 11.5323,  1.3313,  1.9982, 11.5522])\n",
      "tensor([ 7.2816,  6.5000, 32.5972, 11.6879, 92.4275, 55.6739, 26.6115, 27.4883,\n",
      "         3.9708, 69.8333, 12.4087, 80.7315, 97.6598, 42.3220, 29.5160])\n",
      "tensor([[ 3.,  6., 20., 10., 90., 55., 27., 27.,  4., 70.,  5., 66., 99., 40.,\n",
      "         45.]])\n",
      "tensor([[1., 1., 1., 1., 1., 1., 1., 1., 1., 1., 1., 1., 1., 1., 1.]])\n",
      "tensor([[1.0641e+01, 3.9402e-01, 1.1770e+02, 1.9174e+00, 2.9986e+00, 5.4959e-01,\n",
      "         8.0397e-02, 2.3706e-01, 2.2562e-02, 4.6852e-01, 4.0590e+01, 1.7206e+02,\n",
      "         9.9812e-01, 3.5000e+00, 1.8366e+02]])\n"
     ]
    }
   ],
   "source": [
    "\n",
    "analytic = torch.distributions.normal.Normal(true_thetas, 1)\n",
    "\n",
    "\n",
    "overall_snpe_list = []\n",
    "\n",
    "variance_list_snpe = []\n",
    "\n",
    "mean_list_snpe = []\n",
    "\n",
    "\n",
    "## for round\n",
    "for posterior_snpe_list in list_collection:\n",
    "    \n",
    "    KL_snpe = []\n",
    "    KL_snpe_1d = []\n",
    "    \n",
    "    \n",
    "    ## for number of simulations\n",
    "    for posterior_snpe in posterior_snpe_list:\n",
    "\n",
    "\n",
    "        #KL = KLdivergence(posterior_snpe, sample_y)\n",
    "        KL, var_x, mu_x = KL_Gauss(posterior_snpe, analytic)\n",
    "        \n",
    "        variance_list_snpe.append(var_x)\n",
    "        \n",
    "        mean_list_snpe.append(mu_x)\n",
    "\n",
    "\n",
    "        KL_1d = calc_KL_1d(posterior_snpe, analytic)\n",
    "\n",
    "        KL_snpe_1d.append(KL_1d)\n",
    "\n",
    "        #KL_snpe_sum.append(sum_KL)\n",
    "\n",
    "        KL_snpe.append(KL)\n",
    "        \n",
    "    overall_snpe_list.append(KL_snpe)\n",
    "\n",
    "\n",
    "    \n",
    "    "
   ]
  },
  {
   "cell_type": "code",
   "execution_count": 13,
   "id": "f68ad23e",
   "metadata": {},
   "outputs": [
    {
     "data": {
      "application/vnd.jupyter.widget-view+json": {
       "model_id": "5ee0838e612e427b82d438851f712b06",
       "version_major": 2,
       "version_minor": 0
      },
      "text/plain": [
       "Drawing 1000 posterior samples:   0%|          | 0/1000 [00:00<?, ?it/s]"
      ]
     },
     "metadata": {},
     "output_type": "display_data"
    },
    {
     "name": "stdout",
     "output_type": "stream",
     "text": [
      "acceptance rate:  1.0\n"
     ]
    },
    {
     "data": {
      "application/vnd.jupyter.widget-view+json": {
       "model_id": "48fa1f8ae69c43848e4203d31cc5a50a",
       "version_major": 2,
       "version_minor": 0
      },
      "text/plain": [
       "Drawing 1000 posterior samples:   0%|          | 0/1000 [00:00<?, ?it/s]"
      ]
     },
     "metadata": {},
     "output_type": "display_data"
    },
    {
     "name": "stdout",
     "output_type": "stream",
     "text": [
      "acceptance rate:  1.0\n"
     ]
    },
    {
     "data": {
      "application/vnd.jupyter.widget-view+json": {
       "model_id": "e1eed41fba524d199cf34dd50514a165",
       "version_major": 2,
       "version_minor": 0
      },
      "text/plain": [
       "Drawing 1000 posterior samples:   0%|          | 0/1000 [00:00<?, ?it/s]"
      ]
     },
     "metadata": {},
     "output_type": "display_data"
    },
    {
     "name": "stdout",
     "output_type": "stream",
     "text": [
      "acceptance rate:  1.0\n"
     ]
    },
    {
     "data": {
      "application/vnd.jupyter.widget-view+json": {
       "model_id": "60f1598d11f44e3480ae318134a545e3",
       "version_major": 2,
       "version_minor": 0
      },
      "text/plain": [
       "Drawing 1000 posterior samples:   0%|          | 0/1000 [00:00<?, ?it/s]"
      ]
     },
     "metadata": {},
     "output_type": "display_data"
    },
    {
     "name": "stdout",
     "output_type": "stream",
     "text": [
      "acceptance rate:  1.0\n"
     ]
    },
    {
     "data": {
      "application/vnd.jupyter.widget-view+json": {
       "model_id": "5c445ea0189b4c099a209a6ef102bc65",
       "version_major": 2,
       "version_minor": 0
      },
      "text/plain": [
       "Drawing 1000 posterior samples:   0%|          | 0/1000 [00:00<?, ?it/s]"
      ]
     },
     "metadata": {},
     "output_type": "display_data"
    },
    {
     "name": "stdout",
     "output_type": "stream",
     "text": [
      "acceptance rate:  1.0\n"
     ]
    },
    {
     "data": {
      "application/vnd.jupyter.widget-view+json": {
       "model_id": "f2bc8becbb3244cc8b11abc8005cc672",
       "version_major": 2,
       "version_minor": 0
      },
      "text/plain": [
       "Drawing 1000 posterior samples:   0%|          | 0/1000 [00:00<?, ?it/s]"
      ]
     },
     "metadata": {},
     "output_type": "display_data"
    },
    {
     "name": "stdout",
     "output_type": "stream",
     "text": [
      "acceptance rate:  1.0\n"
     ]
    },
    {
     "data": {
      "application/vnd.jupyter.widget-view+json": {
       "model_id": "0b32ef1dc31e42f8ac1b6a11e21c9c13",
       "version_major": 2,
       "version_minor": 0
      },
      "text/plain": [
       "Drawing 1000 posterior samples:   0%|          | 0/1000 [00:00<?, ?it/s]"
      ]
     },
     "metadata": {},
     "output_type": "display_data"
    },
    {
     "name": "stdout",
     "output_type": "stream",
     "text": [
      "acceptance rate:  1.0\n"
     ]
    },
    {
     "data": {
      "application/vnd.jupyter.widget-view+json": {
       "model_id": "45fede4937be4959a02513f89dc93d5e",
       "version_major": 2,
       "version_minor": 0
      },
      "text/plain": [
       "Drawing 1000 posterior samples:   0%|          | 0/1000 [00:00<?, ?it/s]"
      ]
     },
     "metadata": {},
     "output_type": "display_data"
    },
    {
     "name": "stdout",
     "output_type": "stream",
     "text": [
      "acceptance rate:  1.0\n"
     ]
    },
    {
     "data": {
      "application/vnd.jupyter.widget-view+json": {
       "model_id": "7b054316ffde4bd1898499f7e4a0a90b",
       "version_major": 2,
       "version_minor": 0
      },
      "text/plain": [
       "Drawing 1000 posterior samples:   0%|          | 0/1000 [00:00<?, ?it/s]"
      ]
     },
     "metadata": {},
     "output_type": "display_data"
    },
    {
     "name": "stdout",
     "output_type": "stream",
     "text": [
      "acceptance rate:  1.0\n"
     ]
    },
    {
     "data": {
      "application/vnd.jupyter.widget-view+json": {
       "model_id": "fdbc5465180347269423c9477ed687b0",
       "version_major": 2,
       "version_minor": 0
      },
      "text/plain": [
       "Drawing 1000 posterior samples:   0%|          | 0/1000 [00:00<?, ?it/s]"
      ]
     },
     "metadata": {},
     "output_type": "display_data"
    },
    {
     "name": "stdout",
     "output_type": "stream",
     "text": [
      "acceptance rate:  1.0\n"
     ]
    },
    {
     "data": {
      "application/vnd.jupyter.widget-view+json": {
       "model_id": "b693c1790def4194be369ce3895a4ff7",
       "version_major": 2,
       "version_minor": 0
      },
      "text/plain": [
       "Drawing 1000 posterior samples:   0%|          | 0/1000 [00:00<?, ?it/s]"
      ]
     },
     "metadata": {},
     "output_type": "display_data"
    },
    {
     "name": "stdout",
     "output_type": "stream",
     "text": [
      "acceptance rate:  1.0\n"
     ]
    },
    {
     "data": {
      "application/vnd.jupyter.widget-view+json": {
       "model_id": "7967346957ad43088d13583702e74904",
       "version_major": 2,
       "version_minor": 0
      },
      "text/plain": [
       "Drawing 1000 posterior samples:   0%|          | 0/1000 [00:00<?, ?it/s]"
      ]
     },
     "metadata": {},
     "output_type": "display_data"
    },
    {
     "name": "stdout",
     "output_type": "stream",
     "text": [
      "acceptance rate:  1.0\n"
     ]
    },
    {
     "data": {
      "application/vnd.jupyter.widget-view+json": {
       "model_id": "f6d5f8c5f576445f9c081bc05006d4a8",
       "version_major": 2,
       "version_minor": 0
      },
      "text/plain": [
       "Drawing 1000 posterior samples:   0%|          | 0/1000 [00:00<?, ?it/s]"
      ]
     },
     "metadata": {},
     "output_type": "display_data"
    },
    {
     "name": "stdout",
     "output_type": "stream",
     "text": [
      "acceptance rate:  1.0\n"
     ]
    },
    {
     "data": {
      "application/vnd.jupyter.widget-view+json": {
       "model_id": "ac699b6c6a654fe0880c1510515296bb",
       "version_major": 2,
       "version_minor": 0
      },
      "text/plain": [
       "Drawing 1000 posterior samples:   0%|          | 0/1000 [00:00<?, ?it/s]"
      ]
     },
     "metadata": {},
     "output_type": "display_data"
    },
    {
     "name": "stdout",
     "output_type": "stream",
     "text": [
      "acceptance rate:  1.0\n"
     ]
    },
    {
     "data": {
      "application/vnd.jupyter.widget-view+json": {
       "model_id": "768f0a43586e4ed496cc50e13d56a2cf",
       "version_major": 2,
       "version_minor": 0
      },
      "text/plain": [
       "Drawing 1000 posterior samples:   0%|          | 0/1000 [00:00<?, ?it/s]"
      ]
     },
     "metadata": {},
     "output_type": "display_data"
    },
    {
     "name": "stdout",
     "output_type": "stream",
     "text": [
      "acceptance rate:  1.0\n"
     ]
    },
    {
     "data": {
      "application/vnd.jupyter.widget-view+json": {
       "model_id": "f04be5ed98604c94aff680c949443092",
       "version_major": 2,
       "version_minor": 0
      },
      "text/plain": [
       "Drawing 1000 posterior samples:   0%|          | 0/1000 [00:00<?, ?it/s]"
      ]
     },
     "metadata": {},
     "output_type": "display_data"
    },
    {
     "name": "stdout",
     "output_type": "stream",
     "text": [
      "acceptance rate:  1.0\n"
     ]
    },
    {
     "data": {
      "application/vnd.jupyter.widget-view+json": {
       "model_id": "e1dd110b389d499090d45de5c06a4e18",
       "version_major": 2,
       "version_minor": 0
      },
      "text/plain": [
       "Drawing 1000 posterior samples:   0%|          | 0/1000 [00:00<?, ?it/s]"
      ]
     },
     "metadata": {},
     "output_type": "display_data"
    },
    {
     "name": "stdout",
     "output_type": "stream",
     "text": [
      "acceptance rate:  1.0\n"
     ]
    },
    {
     "data": {
      "application/vnd.jupyter.widget-view+json": {
       "model_id": "d8df191833ba4359885dd21bc58e95dc",
       "version_major": 2,
       "version_minor": 0
      },
      "text/plain": [
       "Drawing 1000 posterior samples:   0%|          | 0/1000 [00:00<?, ?it/s]"
      ]
     },
     "metadata": {},
     "output_type": "display_data"
    },
    {
     "name": "stdout",
     "output_type": "stream",
     "text": [
      "acceptance rate:  1.0\n"
     ]
    },
    {
     "data": {
      "application/vnd.jupyter.widget-view+json": {
       "model_id": "f0fc9354409745c985949e9d5b00d678",
       "version_major": 2,
       "version_minor": 0
      },
      "text/plain": [
       "Drawing 1000 posterior samples:   0%|          | 0/1000 [00:00<?, ?it/s]"
      ]
     },
     "metadata": {},
     "output_type": "display_data"
    },
    {
     "name": "stdout",
     "output_type": "stream",
     "text": [
      "acceptance rate:  1.0\n"
     ]
    },
    {
     "data": {
      "application/vnd.jupyter.widget-view+json": {
       "model_id": "a54906408c104a26a9829eba9fcc73db",
       "version_major": 2,
       "version_minor": 0
      },
      "text/plain": [
       "Drawing 1000 posterior samples:   0%|          | 0/1000 [00:00<?, ?it/s]"
      ]
     },
     "metadata": {},
     "output_type": "display_data"
    },
    {
     "name": "stdout",
     "output_type": "stream",
     "text": [
      "acceptance rate:  1.0\n"
     ]
    },
    {
     "data": {
      "application/vnd.jupyter.widget-view+json": {
       "model_id": "701a4a4ab8c04b998a3589349b98052a",
       "version_major": 2,
       "version_minor": 0
      },
      "text/plain": [
       "Drawing 1000 posterior samples:   0%|          | 0/1000 [00:00<?, ?it/s]"
      ]
     },
     "metadata": {},
     "output_type": "display_data"
    },
    {
     "name": "stdout",
     "output_type": "stream",
     "text": [
      "acceptance rate:  1.0\n"
     ]
    },
    {
     "data": {
      "application/vnd.jupyter.widget-view+json": {
       "model_id": "5a61aa7f4b5b4251944fdf605f2df7e3",
       "version_major": 2,
       "version_minor": 0
      },
      "text/plain": [
       "Drawing 1000 posterior samples:   0%|          | 0/1000 [00:00<?, ?it/s]"
      ]
     },
     "metadata": {},
     "output_type": "display_data"
    },
    {
     "name": "stdout",
     "output_type": "stream",
     "text": [
      "acceptance rate:  1.0\n"
     ]
    },
    {
     "data": {
      "application/vnd.jupyter.widget-view+json": {
       "model_id": "bb7b42af3c804e888a91b0196948b3cf",
       "version_major": 2,
       "version_minor": 0
      },
      "text/plain": [
       "Drawing 1000 posterior samples:   0%|          | 0/1000 [00:00<?, ?it/s]"
      ]
     },
     "metadata": {},
     "output_type": "display_data"
    },
    {
     "name": "stdout",
     "output_type": "stream",
     "text": [
      "acceptance rate:  1.0\n"
     ]
    },
    {
     "data": {
      "application/vnd.jupyter.widget-view+json": {
       "model_id": "4eefacafe09f40ef805829e3adfeba40",
       "version_major": 2,
       "version_minor": 0
      },
      "text/plain": [
       "Drawing 1000 posterior samples:   0%|          | 0/1000 [00:00<?, ?it/s]"
      ]
     },
     "metadata": {},
     "output_type": "display_data"
    },
    {
     "name": "stdout",
     "output_type": "stream",
     "text": [
      "acceptance rate:  1.0\n"
     ]
    },
    {
     "data": {
      "application/vnd.jupyter.widget-view+json": {
       "model_id": "06c6919898c74b419a6c0463bc4caa23",
       "version_major": 2,
       "version_minor": 0
      },
      "text/plain": [
       "Drawing 1000 posterior samples:   0%|          | 0/1000 [00:00<?, ?it/s]"
      ]
     },
     "metadata": {},
     "output_type": "display_data"
    },
    {
     "name": "stdout",
     "output_type": "stream",
     "text": [
      "acceptance rate:  1.0\n"
     ]
    },
    {
     "data": {
      "application/vnd.jupyter.widget-view+json": {
       "model_id": "4830b9e9a1044af98edffeaa32aa8934",
       "version_major": 2,
       "version_minor": 0
      },
      "text/plain": [
       "Drawing 1000 posterior samples:   0%|          | 0/1000 [00:00<?, ?it/s]"
      ]
     },
     "metadata": {},
     "output_type": "display_data"
    },
    {
     "name": "stdout",
     "output_type": "stream",
     "text": [
      "acceptance rate:  1.0\n"
     ]
    },
    {
     "data": {
      "application/vnd.jupyter.widget-view+json": {
       "model_id": "7b117ea85108437484705f33ae084080",
       "version_major": 2,
       "version_minor": 0
      },
      "text/plain": [
       "Drawing 1000 posterior samples:   0%|          | 0/1000 [00:00<?, ?it/s]"
      ]
     },
     "metadata": {},
     "output_type": "display_data"
    },
    {
     "name": "stdout",
     "output_type": "stream",
     "text": [
      "acceptance rate:  1.0\n"
     ]
    },
    {
     "data": {
      "application/vnd.jupyter.widget-view+json": {
       "model_id": "945663d44a69450a95079e878992f460",
       "version_major": 2,
       "version_minor": 0
      },
      "text/plain": [
       "Drawing 1000 posterior samples:   0%|          | 0/1000 [00:00<?, ?it/s]"
      ]
     },
     "metadata": {},
     "output_type": "display_data"
    },
    {
     "name": "stdout",
     "output_type": "stream",
     "text": [
      "acceptance rate:  1.0\n"
     ]
    },
    {
     "data": {
      "application/vnd.jupyter.widget-view+json": {
       "model_id": "252fda3beb5548f1b9304098bd16b9fb",
       "version_major": 2,
       "version_minor": 0
      },
      "text/plain": [
       "Drawing 1000 posterior samples:   0%|          | 0/1000 [00:00<?, ?it/s]"
      ]
     },
     "metadata": {},
     "output_type": "display_data"
    },
    {
     "name": "stdout",
     "output_type": "stream",
     "text": [
      "acceptance rate:  1.0\n"
     ]
    },
    {
     "data": {
      "application/vnd.jupyter.widget-view+json": {
       "model_id": "af581b2b31174965835604bb789dc778",
       "version_major": 2,
       "version_minor": 0
      },
      "text/plain": [
       "Drawing 1000 posterior samples:   0%|          | 0/1000 [00:00<?, ?it/s]"
      ]
     },
     "metadata": {},
     "output_type": "display_data"
    },
    {
     "name": "stdout",
     "output_type": "stream",
     "text": [
      "acceptance rate:  1.0\n"
     ]
    }
   ],
   "source": [
    "torch.manual_seed(5)\n",
    "np.random.seed(5)\n",
    "\n",
    "obs_real = Gaussian(true_thetas[0, 0:])\n",
    "\n",
    "\n",
    "\n",
    "analytic = torch.distributions.normal.Normal(true_thetas, 1)\n",
    "\n",
    "\n",
    "overall_incremental_list = []\n",
    "\n",
    "variance_list = []\n",
    "\n",
    "mean_list = []\n",
    "\n",
    "for posterior_incremental_list in list_collection_inc:\n",
    "    \n",
    "    KL_incremental = []\n",
    "\n",
    "    for posterior_incremental in posterior_incremental_list:\n",
    "\n",
    "        posterior_incremental.set_default_x(obs_real)\n",
    "\n",
    "        #KL = KLdivergence(posterior_incremental, sample_y)\n",
    "\n",
    "        KL, var_x, mu_x = KL_Gauss(posterior_incremental, analytic)\n",
    "        \n",
    "        variance_list.append(var_x)\n",
    "        mean_list.append(mu_x)\n",
    "\n",
    "        #KL_1d = calc_KL_1d(posterior_incremental, analytic)\n",
    "\n",
    "        #KL_incremental_1d.append(KL_1d)\n",
    "\n",
    "\n",
    "        KL_incremental.append(KL)\n",
    "\n",
    "        \n",
    "    overall_incremental_list.append(KL_incremental)"
   ]
  },
  {
   "cell_type": "code",
   "execution_count": 14,
   "id": "cad7f676",
   "metadata": {},
   "outputs": [
    {
     "name": "stdout",
     "output_type": "stream",
     "text": [
      "/home/ubuntu/results/toy_example_mdn_08_04_lesser_ratio\n"
     ]
    }
   ],
   "source": [
    "print(os.getcwd())\n",
    "file = 'toy_example_mdn_05_04_no_ratio'\n",
    "\n",
    "\n",
    "\n",
    "os.chdir('/home/ubuntu/results/{}'.format(file))"
   ]
  },
  {
   "cell_type": "code",
   "execution_count": 15,
   "id": "fe322202",
   "metadata": {},
   "outputs": [],
   "source": [
    "list_collection_inc_ratio = torch.load('list_collection_inc.pt')"
   ]
  },
  {
   "cell_type": "code",
   "execution_count": 16,
   "id": "dcf16daa",
   "metadata": {},
   "outputs": [],
   "source": [
    "file = 'toy_example_maf_13_04_greater_ratio'\n",
    "\n",
    "\n",
    "os.chdir('/home/ubuntu/results/{}'.format(file))"
   ]
  },
  {
   "cell_type": "code",
   "execution_count": 17,
   "id": "58597e51",
   "metadata": {},
   "outputs": [],
   "source": [
    "list_collection_inc_greater_ratio = torch.load('list_collection_inc.pt')\n",
    "\n",
    "obs_real = torch.load('obs_real.pt')"
   ]
  },
  {
   "cell_type": "code",
   "execution_count": 18,
   "id": "5cfd869d",
   "metadata": {},
   "outputs": [
    {
     "data": {
      "application/vnd.jupyter.widget-view+json": {
       "model_id": "2fd0d11e484a44649833964bcde44ac8",
       "version_major": 2,
       "version_minor": 0
      },
      "text/plain": [
       "Drawing 1000 posterior samples:   0%|          | 0/1000 [00:00<?, ?it/s]"
      ]
     },
     "metadata": {},
     "output_type": "display_data"
    },
    {
     "name": "stdout",
     "output_type": "stream",
     "text": [
      "acceptance rate:  1.0\n"
     ]
    },
    {
     "data": {
      "application/vnd.jupyter.widget-view+json": {
       "model_id": "49dc9d7c3f7743a8a1b0a7db8791083b",
       "version_major": 2,
       "version_minor": 0
      },
      "text/plain": [
       "Drawing 1000 posterior samples:   0%|          | 0/1000 [00:00<?, ?it/s]"
      ]
     },
     "metadata": {},
     "output_type": "display_data"
    },
    {
     "name": "stdout",
     "output_type": "stream",
     "text": [
      "acceptance rate:  1.0\n"
     ]
    },
    {
     "data": {
      "application/vnd.jupyter.widget-view+json": {
       "model_id": "a9daf1f210a04fcd8493ca6f981b420b",
       "version_major": 2,
       "version_minor": 0
      },
      "text/plain": [
       "Drawing 1000 posterior samples:   0%|          | 0/1000 [00:00<?, ?it/s]"
      ]
     },
     "metadata": {},
     "output_type": "display_data"
    },
    {
     "name": "stdout",
     "output_type": "stream",
     "text": [
      "acceptance rate:  1.0\n"
     ]
    },
    {
     "data": {
      "application/vnd.jupyter.widget-view+json": {
       "model_id": "e4148064331649f9b91acb841e349fe0",
       "version_major": 2,
       "version_minor": 0
      },
      "text/plain": [
       "Drawing 1000 posterior samples:   0%|          | 0/1000 [00:00<?, ?it/s]"
      ]
     },
     "metadata": {},
     "output_type": "display_data"
    },
    {
     "name": "stdout",
     "output_type": "stream",
     "text": [
      "acceptance rate:  1.0\n"
     ]
    },
    {
     "data": {
      "application/vnd.jupyter.widget-view+json": {
       "model_id": "3db5e7eb7d5b409da0b6771313cd7ee3",
       "version_major": 2,
       "version_minor": 0
      },
      "text/plain": [
       "Drawing 1000 posterior samples:   0%|          | 0/1000 [00:00<?, ?it/s]"
      ]
     },
     "metadata": {},
     "output_type": "display_data"
    },
    {
     "name": "stdout",
     "output_type": "stream",
     "text": [
      "acceptance rate:  1.0\n"
     ]
    },
    {
     "data": {
      "application/vnd.jupyter.widget-view+json": {
       "model_id": "3bdd32360a0d45629c03cb00d9fcd133",
       "version_major": 2,
       "version_minor": 0
      },
      "text/plain": [
       "Drawing 1000 posterior samples:   0%|          | 0/1000 [00:00<?, ?it/s]"
      ]
     },
     "metadata": {},
     "output_type": "display_data"
    },
    {
     "name": "stdout",
     "output_type": "stream",
     "text": [
      "acceptance rate:  1.0\n"
     ]
    },
    {
     "data": {
      "application/vnd.jupyter.widget-view+json": {
       "model_id": "5639b38671c74cb7bcaeac5be5df7fe9",
       "version_major": 2,
       "version_minor": 0
      },
      "text/plain": [
       "Drawing 1000 posterior samples:   0%|          | 0/1000 [00:00<?, ?it/s]"
      ]
     },
     "metadata": {},
     "output_type": "display_data"
    },
    {
     "name": "stdout",
     "output_type": "stream",
     "text": [
      "acceptance rate:  1.0\n"
     ]
    },
    {
     "data": {
      "application/vnd.jupyter.widget-view+json": {
       "model_id": "5c5f1f9c1c904846b32e70414af730bf",
       "version_major": 2,
       "version_minor": 0
      },
      "text/plain": [
       "Drawing 1000 posterior samples:   0%|          | 0/1000 [00:00<?, ?it/s]"
      ]
     },
     "metadata": {},
     "output_type": "display_data"
    },
    {
     "name": "stdout",
     "output_type": "stream",
     "text": [
      "acceptance rate:  1.0\n"
     ]
    },
    {
     "data": {
      "application/vnd.jupyter.widget-view+json": {
       "model_id": "df247f0464b949f6b49d36cb7aa42ff8",
       "version_major": 2,
       "version_minor": 0
      },
      "text/plain": [
       "Drawing 1000 posterior samples:   0%|          | 0/1000 [00:00<?, ?it/s]"
      ]
     },
     "metadata": {},
     "output_type": "display_data"
    },
    {
     "name": "stdout",
     "output_type": "stream",
     "text": [
      "acceptance rate:  1.0\n"
     ]
    },
    {
     "data": {
      "application/vnd.jupyter.widget-view+json": {
       "model_id": "526e7b9935be43bbb3e87b856ee31e21",
       "version_major": 2,
       "version_minor": 0
      },
      "text/plain": [
       "Drawing 1000 posterior samples:   0%|          | 0/1000 [00:00<?, ?it/s]"
      ]
     },
     "metadata": {},
     "output_type": "display_data"
    },
    {
     "name": "stdout",
     "output_type": "stream",
     "text": [
      "acceptance rate:  1.0\n"
     ]
    },
    {
     "data": {
      "application/vnd.jupyter.widget-view+json": {
       "model_id": "4ad96c69df284aa3aba1f7c6240e1693",
       "version_major": 2,
       "version_minor": 0
      },
      "text/plain": [
       "Drawing 1000 posterior samples:   0%|          | 0/1000 [00:00<?, ?it/s]"
      ]
     },
     "metadata": {},
     "output_type": "display_data"
    },
    {
     "name": "stdout",
     "output_type": "stream",
     "text": [
      "acceptance rate:  1.0\n"
     ]
    },
    {
     "data": {
      "application/vnd.jupyter.widget-view+json": {
       "model_id": "4ef3a92f13a64d069607c7e3f99fdc95",
       "version_major": 2,
       "version_minor": 0
      },
      "text/plain": [
       "Drawing 1000 posterior samples:   0%|          | 0/1000 [00:00<?, ?it/s]"
      ]
     },
     "metadata": {},
     "output_type": "display_data"
    },
    {
     "name": "stdout",
     "output_type": "stream",
     "text": [
      "acceptance rate:  1.0\n"
     ]
    },
    {
     "data": {
      "application/vnd.jupyter.widget-view+json": {
       "model_id": "5a94af4c4894475fbebf1f23745f123b",
       "version_major": 2,
       "version_minor": 0
      },
      "text/plain": [
       "Drawing 1000 posterior samples:   0%|          | 0/1000 [00:00<?, ?it/s]"
      ]
     },
     "metadata": {},
     "output_type": "display_data"
    },
    {
     "name": "stdout",
     "output_type": "stream",
     "text": [
      "acceptance rate:  1.0\n"
     ]
    },
    {
     "data": {
      "application/vnd.jupyter.widget-view+json": {
       "model_id": "f4cc81ebe7ff4946b9301b3a73130d65",
       "version_major": 2,
       "version_minor": 0
      },
      "text/plain": [
       "Drawing 1000 posterior samples:   0%|          | 0/1000 [00:00<?, ?it/s]"
      ]
     },
     "metadata": {},
     "output_type": "display_data"
    },
    {
     "name": "stdout",
     "output_type": "stream",
     "text": [
      "acceptance rate:  1.0\n"
     ]
    },
    {
     "data": {
      "application/vnd.jupyter.widget-view+json": {
       "model_id": "15f39a720f284bb6b99ed4f77c372ef2",
       "version_major": 2,
       "version_minor": 0
      },
      "text/plain": [
       "Drawing 1000 posterior samples:   0%|          | 0/1000 [00:00<?, ?it/s]"
      ]
     },
     "metadata": {},
     "output_type": "display_data"
    },
    {
     "name": "stdout",
     "output_type": "stream",
     "text": [
      "acceptance rate:  1.0\n"
     ]
    },
    {
     "data": {
      "application/vnd.jupyter.widget-view+json": {
       "model_id": "f5613646f67b443482c7e3c2b5da0c5f",
       "version_major": 2,
       "version_minor": 0
      },
      "text/plain": [
       "Drawing 1000 posterior samples:   0%|          | 0/1000 [00:00<?, ?it/s]"
      ]
     },
     "metadata": {},
     "output_type": "display_data"
    },
    {
     "name": "stdout",
     "output_type": "stream",
     "text": [
      "acceptance rate:  1.0\n"
     ]
    },
    {
     "data": {
      "application/vnd.jupyter.widget-view+json": {
       "model_id": "2915a1c166ed4293aeee87351a4ab5c3",
       "version_major": 2,
       "version_minor": 0
      },
      "text/plain": [
       "Drawing 1000 posterior samples:   0%|          | 0/1000 [00:00<?, ?it/s]"
      ]
     },
     "metadata": {},
     "output_type": "display_data"
    },
    {
     "name": "stdout",
     "output_type": "stream",
     "text": [
      "acceptance rate:  1.0\n"
     ]
    },
    {
     "data": {
      "application/vnd.jupyter.widget-view+json": {
       "model_id": "c8ee6d56a606452cb0a15050bc2e8171",
       "version_major": 2,
       "version_minor": 0
      },
      "text/plain": [
       "Drawing 1000 posterior samples:   0%|          | 0/1000 [00:00<?, ?it/s]"
      ]
     },
     "metadata": {},
     "output_type": "display_data"
    },
    {
     "name": "stdout",
     "output_type": "stream",
     "text": [
      "acceptance rate:  1.0\n"
     ]
    },
    {
     "data": {
      "application/vnd.jupyter.widget-view+json": {
       "model_id": "85fda1f5bc094ca6aabaae4e1bfc5915",
       "version_major": 2,
       "version_minor": 0
      },
      "text/plain": [
       "Drawing 1000 posterior samples:   0%|          | 0/1000 [00:00<?, ?it/s]"
      ]
     },
     "metadata": {},
     "output_type": "display_data"
    },
    {
     "name": "stdout",
     "output_type": "stream",
     "text": [
      "acceptance rate:  1.0\n"
     ]
    },
    {
     "data": {
      "application/vnd.jupyter.widget-view+json": {
       "model_id": "2172c5df2fe14bb786c240b36ad280b2",
       "version_major": 2,
       "version_minor": 0
      },
      "text/plain": [
       "Drawing 1000 posterior samples:   0%|          | 0/1000 [00:00<?, ?it/s]"
      ]
     },
     "metadata": {},
     "output_type": "display_data"
    },
    {
     "name": "stdout",
     "output_type": "stream",
     "text": [
      "acceptance rate:  1.0\n"
     ]
    },
    {
     "data": {
      "application/vnd.jupyter.widget-view+json": {
       "model_id": "baf4707cb2904ec8aba7c67585ae328a",
       "version_major": 2,
       "version_minor": 0
      },
      "text/plain": [
       "Drawing 1000 posterior samples:   0%|          | 0/1000 [00:00<?, ?it/s]"
      ]
     },
     "metadata": {},
     "output_type": "display_data"
    },
    {
     "name": "stdout",
     "output_type": "stream",
     "text": [
      "acceptance rate:  1.0\n"
     ]
    },
    {
     "data": {
      "application/vnd.jupyter.widget-view+json": {
       "model_id": "c32e6b64c22143ffac5677477c99fd5c",
       "version_major": 2,
       "version_minor": 0
      },
      "text/plain": [
       "Drawing 1000 posterior samples:   0%|          | 0/1000 [00:00<?, ?it/s]"
      ]
     },
     "metadata": {},
     "output_type": "display_data"
    },
    {
     "name": "stdout",
     "output_type": "stream",
     "text": [
      "acceptance rate:  1.0\n"
     ]
    },
    {
     "data": {
      "application/vnd.jupyter.widget-view+json": {
       "model_id": "11dda042fa7543b794334695a36d8fd3",
       "version_major": 2,
       "version_minor": 0
      },
      "text/plain": [
       "Drawing 1000 posterior samples:   0%|          | 0/1000 [00:00<?, ?it/s]"
      ]
     },
     "metadata": {},
     "output_type": "display_data"
    },
    {
     "name": "stdout",
     "output_type": "stream",
     "text": [
      "acceptance rate:  1.0\n"
     ]
    },
    {
     "data": {
      "application/vnd.jupyter.widget-view+json": {
       "model_id": "d536f4fc6aa445b59347447955250d24",
       "version_major": 2,
       "version_minor": 0
      },
      "text/plain": [
       "Drawing 1000 posterior samples:   0%|          | 0/1000 [00:00<?, ?it/s]"
      ]
     },
     "metadata": {},
     "output_type": "display_data"
    },
    {
     "name": "stdout",
     "output_type": "stream",
     "text": [
      "acceptance rate:  1.0\n"
     ]
    },
    {
     "data": {
      "application/vnd.jupyter.widget-view+json": {
       "model_id": "33104665651f445f80c69939d94f6588",
       "version_major": 2,
       "version_minor": 0
      },
      "text/plain": [
       "Drawing 1000 posterior samples:   0%|          | 0/1000 [00:00<?, ?it/s]"
      ]
     },
     "metadata": {},
     "output_type": "display_data"
    },
    {
     "name": "stdout",
     "output_type": "stream",
     "text": [
      "acceptance rate:  1.0\n"
     ]
    },
    {
     "data": {
      "application/vnd.jupyter.widget-view+json": {
       "model_id": "049db232fd684a3abbeeb6d0bcddd0ba",
       "version_major": 2,
       "version_minor": 0
      },
      "text/plain": [
       "Drawing 1000 posterior samples:   0%|          | 0/1000 [00:00<?, ?it/s]"
      ]
     },
     "metadata": {},
     "output_type": "display_data"
    },
    {
     "name": "stdout",
     "output_type": "stream",
     "text": [
      "acceptance rate:  1.0\n"
     ]
    },
    {
     "data": {
      "application/vnd.jupyter.widget-view+json": {
       "model_id": "78ac5bbc60504adc816294d92b6ff206",
       "version_major": 2,
       "version_minor": 0
      },
      "text/plain": [
       "Drawing 1000 posterior samples:   0%|          | 0/1000 [00:00<?, ?it/s]"
      ]
     },
     "metadata": {},
     "output_type": "display_data"
    },
    {
     "name": "stdout",
     "output_type": "stream",
     "text": [
      "acceptance rate:  1.0\n"
     ]
    },
    {
     "data": {
      "application/vnd.jupyter.widget-view+json": {
       "model_id": "c51b8967569d4b54b943057893907c30",
       "version_major": 2,
       "version_minor": 0
      },
      "text/plain": [
       "Drawing 1000 posterior samples:   0%|          | 0/1000 [00:00<?, ?it/s]"
      ]
     },
     "metadata": {},
     "output_type": "display_data"
    },
    {
     "name": "stdout",
     "output_type": "stream",
     "text": [
      "acceptance rate:  1.0\n"
     ]
    },
    {
     "data": {
      "application/vnd.jupyter.widget-view+json": {
       "model_id": "3df71886318b480c8219bb69a2ef7372",
       "version_major": 2,
       "version_minor": 0
      },
      "text/plain": [
       "Drawing 1000 posterior samples:   0%|          | 0/1000 [00:00<?, ?it/s]"
      ]
     },
     "metadata": {},
     "output_type": "display_data"
    },
    {
     "name": "stdout",
     "output_type": "stream",
     "text": [
      "acceptance rate:  1.0\n"
     ]
    },
    {
     "data": {
      "application/vnd.jupyter.widget-view+json": {
       "model_id": "a35f6c201b354a8da411ae21bd7f0ad3",
       "version_major": 2,
       "version_minor": 0
      },
      "text/plain": [
       "Drawing 1000 posterior samples:   0%|          | 0/1000 [00:00<?, ?it/s]"
      ]
     },
     "metadata": {},
     "output_type": "display_data"
    },
    {
     "name": "stdout",
     "output_type": "stream",
     "text": [
      "acceptance rate:  1.0\n"
     ]
    },
    {
     "data": {
      "application/vnd.jupyter.widget-view+json": {
       "model_id": "27363f7ef6114d0492622d8f723b9046",
       "version_major": 2,
       "version_minor": 0
      },
      "text/plain": [
       "Drawing 1000 posterior samples:   0%|          | 0/1000 [00:00<?, ?it/s]"
      ]
     },
     "metadata": {},
     "output_type": "display_data"
    },
    {
     "name": "stdout",
     "output_type": "stream",
     "text": [
      "acceptance rate:  1.0\n"
     ]
    },
    {
     "data": {
      "application/vnd.jupyter.widget-view+json": {
       "model_id": "3fc78f05e23149e3b16af37567995fa0",
       "version_major": 2,
       "version_minor": 0
      },
      "text/plain": [
       "Drawing 1000 posterior samples:   0%|          | 0/1000 [00:00<?, ?it/s]"
      ]
     },
     "metadata": {},
     "output_type": "display_data"
    },
    {
     "name": "stdout",
     "output_type": "stream",
     "text": [
      "acceptance rate:  1.0\n"
     ]
    },
    {
     "data": {
      "application/vnd.jupyter.widget-view+json": {
       "model_id": "7182e6d4c45944a381deeff215a9fc4f",
       "version_major": 2,
       "version_minor": 0
      },
      "text/plain": [
       "Drawing 1000 posterior samples:   0%|          | 0/1000 [00:00<?, ?it/s]"
      ]
     },
     "metadata": {},
     "output_type": "display_data"
    },
    {
     "name": "stdout",
     "output_type": "stream",
     "text": [
      "acceptance rate:  1.0\n"
     ]
    },
    {
     "data": {
      "application/vnd.jupyter.widget-view+json": {
       "model_id": "f14faffe58b54eb9b15a5d53b3b726cd",
       "version_major": 2,
       "version_minor": 0
      },
      "text/plain": [
       "Drawing 1000 posterior samples:   0%|          | 0/1000 [00:00<?, ?it/s]"
      ]
     },
     "metadata": {},
     "output_type": "display_data"
    },
    {
     "name": "stdout",
     "output_type": "stream",
     "text": [
      "acceptance rate:  1.0\n"
     ]
    },
    {
     "data": {
      "application/vnd.jupyter.widget-view+json": {
       "model_id": "384f2accd6cd4345afb615cf6830e8e5",
       "version_major": 2,
       "version_minor": 0
      },
      "text/plain": [
       "Drawing 1000 posterior samples:   0%|          | 0/1000 [00:00<?, ?it/s]"
      ]
     },
     "metadata": {},
     "output_type": "display_data"
    },
    {
     "name": "stdout",
     "output_type": "stream",
     "text": [
      "acceptance rate:  1.0\n"
     ]
    },
    {
     "data": {
      "application/vnd.jupyter.widget-view+json": {
       "model_id": "f0fb3804f46a401ca727d190c1b1ca8c",
       "version_major": 2,
       "version_minor": 0
      },
      "text/plain": [
       "Drawing 1000 posterior samples:   0%|          | 0/1000 [00:00<?, ?it/s]"
      ]
     },
     "metadata": {},
     "output_type": "display_data"
    },
    {
     "name": "stdout",
     "output_type": "stream",
     "text": [
      "acceptance rate:  1.0\n"
     ]
    },
    {
     "data": {
      "application/vnd.jupyter.widget-view+json": {
       "model_id": "11d18acd39da444b91b7186e0ca06bbe",
       "version_major": 2,
       "version_minor": 0
      },
      "text/plain": [
       "Drawing 1000 posterior samples:   0%|          | 0/1000 [00:00<?, ?it/s]"
      ]
     },
     "metadata": {},
     "output_type": "display_data"
    },
    {
     "name": "stdout",
     "output_type": "stream",
     "text": [
      "acceptance rate:  1.0\n"
     ]
    },
    {
     "data": {
      "application/vnd.jupyter.widget-view+json": {
       "model_id": "ca85ec9ef1854e4a8831fc86c40b5eb0",
       "version_major": 2,
       "version_minor": 0
      },
      "text/plain": [
       "Drawing 1000 posterior samples:   0%|          | 0/1000 [00:00<?, ?it/s]"
      ]
     },
     "metadata": {},
     "output_type": "display_data"
    },
    {
     "name": "stdout",
     "output_type": "stream",
     "text": [
      "acceptance rate:  1.0\n"
     ]
    },
    {
     "data": {
      "application/vnd.jupyter.widget-view+json": {
       "model_id": "8f64bec7df324eceaa23e2205934ac87",
       "version_major": 2,
       "version_minor": 0
      },
      "text/plain": [
       "Drawing 1000 posterior samples:   0%|          | 0/1000 [00:00<?, ?it/s]"
      ]
     },
     "metadata": {},
     "output_type": "display_data"
    },
    {
     "name": "stdout",
     "output_type": "stream",
     "text": [
      "acceptance rate:  1.0\n"
     ]
    },
    {
     "data": {
      "application/vnd.jupyter.widget-view+json": {
       "model_id": "f968af202e0f45c08b0746445fc677f9",
       "version_major": 2,
       "version_minor": 0
      },
      "text/plain": [
       "Drawing 1000 posterior samples:   0%|          | 0/1000 [00:00<?, ?it/s]"
      ]
     },
     "metadata": {},
     "output_type": "display_data"
    },
    {
     "name": "stdout",
     "output_type": "stream",
     "text": [
      "acceptance rate:  1.0\n"
     ]
    },
    {
     "data": {
      "application/vnd.jupyter.widget-view+json": {
       "model_id": "65479d4793be440ca658763558b7836b",
       "version_major": 2,
       "version_minor": 0
      },
      "text/plain": [
       "Drawing 1000 posterior samples:   0%|          | 0/1000 [00:00<?, ?it/s]"
      ]
     },
     "metadata": {},
     "output_type": "display_data"
    },
    {
     "name": "stdout",
     "output_type": "stream",
     "text": [
      "acceptance rate:  1.0\n"
     ]
    },
    {
     "data": {
      "application/vnd.jupyter.widget-view+json": {
       "model_id": "65f4d97c2bbf4c279c2dacd8ca796bc1",
       "version_major": 2,
       "version_minor": 0
      },
      "text/plain": [
       "Drawing 1000 posterior samples:   0%|          | 0/1000 [00:00<?, ?it/s]"
      ]
     },
     "metadata": {},
     "output_type": "display_data"
    },
    {
     "name": "stdout",
     "output_type": "stream",
     "text": [
      "acceptance rate:  1.0\n"
     ]
    },
    {
     "data": {
      "application/vnd.jupyter.widget-view+json": {
       "model_id": "64229e16087f442593a205d56dd21e39",
       "version_major": 2,
       "version_minor": 0
      },
      "text/plain": [
       "Drawing 1000 posterior samples:   0%|          | 0/1000 [00:00<?, ?it/s]"
      ]
     },
     "metadata": {},
     "output_type": "display_data"
    },
    {
     "name": "stdout",
     "output_type": "stream",
     "text": [
      "acceptance rate:  1.0\n"
     ]
    },
    {
     "data": {
      "application/vnd.jupyter.widget-view+json": {
       "model_id": "30270a6e48d94ca190dcb77c24949379",
       "version_major": 2,
       "version_minor": 0
      },
      "text/plain": [
       "Drawing 1000 posterior samples:   0%|          | 0/1000 [00:00<?, ?it/s]"
      ]
     },
     "metadata": {},
     "output_type": "display_data"
    },
    {
     "name": "stdout",
     "output_type": "stream",
     "text": [
      "acceptance rate:  1.0\n"
     ]
    },
    {
     "data": {
      "application/vnd.jupyter.widget-view+json": {
       "model_id": "f49a3cee002c4c4c8a86544e25504f03",
       "version_major": 2,
       "version_minor": 0
      },
      "text/plain": [
       "Drawing 1000 posterior samples:   0%|          | 0/1000 [00:00<?, ?it/s]"
      ]
     },
     "metadata": {},
     "output_type": "display_data"
    },
    {
     "name": "stdout",
     "output_type": "stream",
     "text": [
      "acceptance rate:  1.0\n"
     ]
    },
    {
     "data": {
      "application/vnd.jupyter.widget-view+json": {
       "model_id": "c27f33559d174bbb8d3bef21879a0c69",
       "version_major": 2,
       "version_minor": 0
      },
      "text/plain": [
       "Drawing 1000 posterior samples:   0%|          | 0/1000 [00:00<?, ?it/s]"
      ]
     },
     "metadata": {},
     "output_type": "display_data"
    },
    {
     "name": "stdout",
     "output_type": "stream",
     "text": [
      "acceptance rate:  1.0\n"
     ]
    },
    {
     "data": {
      "application/vnd.jupyter.widget-view+json": {
       "model_id": "9c7c5afbb6d94c65a8453358b3013fbe",
       "version_major": 2,
       "version_minor": 0
      },
      "text/plain": [
       "Drawing 1000 posterior samples:   0%|          | 0/1000 [00:00<?, ?it/s]"
      ]
     },
     "metadata": {},
     "output_type": "display_data"
    },
    {
     "name": "stdout",
     "output_type": "stream",
     "text": [
      "acceptance rate:  1.0\n"
     ]
    },
    {
     "data": {
      "application/vnd.jupyter.widget-view+json": {
       "model_id": "026326a26d67471f8651856ba2072dbc",
       "version_major": 2,
       "version_minor": 0
      },
      "text/plain": [
       "Drawing 1000 posterior samples:   0%|          | 0/1000 [00:00<?, ?it/s]"
      ]
     },
     "metadata": {},
     "output_type": "display_data"
    },
    {
     "name": "stdout",
     "output_type": "stream",
     "text": [
      "acceptance rate:  1.0\n"
     ]
    },
    {
     "data": {
      "application/vnd.jupyter.widget-view+json": {
       "model_id": "f93089e3125344ebbae02040d2ff52de",
       "version_major": 2,
       "version_minor": 0
      },
      "text/plain": [
       "Drawing 1000 posterior samples:   0%|          | 0/1000 [00:00<?, ?it/s]"
      ]
     },
     "metadata": {},
     "output_type": "display_data"
    },
    {
     "name": "stdout",
     "output_type": "stream",
     "text": [
      "acceptance rate:  1.0\n"
     ]
    },
    {
     "data": {
      "application/vnd.jupyter.widget-view+json": {
       "model_id": "9f048c3b918742958cc049f48a83c488",
       "version_major": 2,
       "version_minor": 0
      },
      "text/plain": [
       "Drawing 1000 posterior samples:   0%|          | 0/1000 [00:00<?, ?it/s]"
      ]
     },
     "metadata": {},
     "output_type": "display_data"
    },
    {
     "name": "stdout",
     "output_type": "stream",
     "text": [
      "acceptance rate:  1.0\n"
     ]
    },
    {
     "data": {
      "application/vnd.jupyter.widget-view+json": {
       "model_id": "ed57d80132e84b05a950e05ed3154749",
       "version_major": 2,
       "version_minor": 0
      },
      "text/plain": [
       "Drawing 1000 posterior samples:   0%|          | 0/1000 [00:00<?, ?it/s]"
      ]
     },
     "metadata": {},
     "output_type": "display_data"
    },
    {
     "name": "stdout",
     "output_type": "stream",
     "text": [
      "acceptance rate:  1.0\n"
     ]
    },
    {
     "data": {
      "application/vnd.jupyter.widget-view+json": {
       "model_id": "517df74ee38148fc87453a4ca2731141",
       "version_major": 2,
       "version_minor": 0
      },
      "text/plain": [
       "Drawing 1000 posterior samples:   0%|          | 0/1000 [00:00<?, ?it/s]"
      ]
     },
     "metadata": {},
     "output_type": "display_data"
    },
    {
     "name": "stdout",
     "output_type": "stream",
     "text": [
      "acceptance rate:  1.0\n"
     ]
    },
    {
     "data": {
      "application/vnd.jupyter.widget-view+json": {
       "model_id": "cd94adde223d471b908485cbef91d163",
       "version_major": 2,
       "version_minor": 0
      },
      "text/plain": [
       "Drawing 1000 posterior samples:   0%|          | 0/1000 [00:00<?, ?it/s]"
      ]
     },
     "metadata": {},
     "output_type": "display_data"
    },
    {
     "name": "stdout",
     "output_type": "stream",
     "text": [
      "acceptance rate:  1.0\n"
     ]
    },
    {
     "data": {
      "application/vnd.jupyter.widget-view+json": {
       "model_id": "a887759bc098476b933a560f0428ef68",
       "version_major": 2,
       "version_minor": 0
      },
      "text/plain": [
       "Drawing 1000 posterior samples:   0%|          | 0/1000 [00:00<?, ?it/s]"
      ]
     },
     "metadata": {},
     "output_type": "display_data"
    },
    {
     "name": "stdout",
     "output_type": "stream",
     "text": [
      "acceptance rate:  1.0\n"
     ]
    },
    {
     "data": {
      "application/vnd.jupyter.widget-view+json": {
       "model_id": "ba6b2bd7c21249439d763de68de3259f",
       "version_major": 2,
       "version_minor": 0
      },
      "text/plain": [
       "Drawing 1000 posterior samples:   0%|          | 0/1000 [00:00<?, ?it/s]"
      ]
     },
     "metadata": {},
     "output_type": "display_data"
    },
    {
     "name": "stdout",
     "output_type": "stream",
     "text": [
      "acceptance rate:  1.0\n"
     ]
    },
    {
     "data": {
      "application/vnd.jupyter.widget-view+json": {
       "model_id": "68a55be73c194724a407cf9ba6ab874b",
       "version_major": 2,
       "version_minor": 0
      },
      "text/plain": [
       "Drawing 1000 posterior samples:   0%|          | 0/1000 [00:00<?, ?it/s]"
      ]
     },
     "metadata": {},
     "output_type": "display_data"
    },
    {
     "name": "stdout",
     "output_type": "stream",
     "text": [
      "acceptance rate:  1.0\n"
     ]
    },
    {
     "data": {
      "application/vnd.jupyter.widget-view+json": {
       "model_id": "4707ef9ff3af4a4bb4089d91851a1c52",
       "version_major": 2,
       "version_minor": 0
      },
      "text/plain": [
       "Drawing 1000 posterior samples:   0%|          | 0/1000 [00:00<?, ?it/s]"
      ]
     },
     "metadata": {},
     "output_type": "display_data"
    },
    {
     "name": "stdout",
     "output_type": "stream",
     "text": [
      "acceptance rate:  1.0\n"
     ]
    },
    {
     "data": {
      "application/vnd.jupyter.widget-view+json": {
       "model_id": "cbe64015e2ad4d3bb8489ed79fd460e6",
       "version_major": 2,
       "version_minor": 0
      },
      "text/plain": [
       "Drawing 1000 posterior samples:   0%|          | 0/1000 [00:00<?, ?it/s]"
      ]
     },
     "metadata": {},
     "output_type": "display_data"
    },
    {
     "name": "stdout",
     "output_type": "stream",
     "text": [
      "acceptance rate:  1.0\n"
     ]
    },
    {
     "data": {
      "application/vnd.jupyter.widget-view+json": {
       "model_id": "771775c79d5a47d1968ea1e7dc5f0b52",
       "version_major": 2,
       "version_minor": 0
      },
      "text/plain": [
       "Drawing 1000 posterior samples:   0%|          | 0/1000 [00:00<?, ?it/s]"
      ]
     },
     "metadata": {},
     "output_type": "display_data"
    },
    {
     "name": "stdout",
     "output_type": "stream",
     "text": [
      "acceptance rate:  1.0\n"
     ]
    },
    {
     "data": {
      "application/vnd.jupyter.widget-view+json": {
       "model_id": "85ec6e220d2e42c88b68c29cab6a4627",
       "version_major": 2,
       "version_minor": 0
      },
      "text/plain": [
       "Drawing 1000 posterior samples:   0%|          | 0/1000 [00:00<?, ?it/s]"
      ]
     },
     "metadata": {},
     "output_type": "display_data"
    },
    {
     "name": "stdout",
     "output_type": "stream",
     "text": [
      "acceptance rate:  1.0\n"
     ]
    }
   ],
   "source": [
    "analytic = torch.distributions.normal.Normal(true_thetas, 1)\n",
    "\n",
    "\n",
    "overall_incremental_list_ratio = []\n",
    "\n",
    "variance_list_ratio = []\n",
    "\n",
    "mean_list_ratio = []\n",
    "\n",
    "for posterior_incremental_list in list_collection_inc_ratio:\n",
    "    \n",
    "    KL_incremental = []\n",
    "\n",
    "    for posterior_incremental in posterior_incremental_list:\n",
    "\n",
    "        posterior_incremental.set_default_x(obs_real)\n",
    "\n",
    "        #KL = KLdivergence(posterior_incremental, sample_y)\n",
    "\n",
    "        KL, var_x, mu_x = KL_Gauss(posterior_incremental, analytic)\n",
    "        \n",
    "        variance_list_ratio.append(var_x)\n",
    "        mean_list.append(mu_x)\n",
    "\n",
    "        #KL_1d = calc_KL_1d(posterior_incremental, analytic)\n",
    "\n",
    "        #KL_incremental_1d.append(KL_1d)\n",
    "\n",
    "\n",
    "        KL_incremental.append(KL)\n",
    "\n",
    "        \n",
    "    overall_incremental_list_ratio.append(KL_incremental)"
   ]
  },
  {
   "cell_type": "code",
   "execution_count": 19,
   "id": "b40e2927",
   "metadata": {},
   "outputs": [
    {
     "data": {
      "application/vnd.jupyter.widget-view+json": {
       "model_id": "e26daf8d9fbe4a45a28a961de164259a",
       "version_major": 2,
       "version_minor": 0
      },
      "text/plain": [
       "Drawing 1000 posterior samples:   0%|          | 0/1000 [00:00<?, ?it/s]"
      ]
     },
     "metadata": {},
     "output_type": "display_data"
    },
    {
     "name": "stdout",
     "output_type": "stream",
     "text": [
      "acceptance rate:  1.0\n"
     ]
    },
    {
     "data": {
      "application/vnd.jupyter.widget-view+json": {
       "model_id": "a24046275d8e4fa494e9120f44d4e181",
       "version_major": 2,
       "version_minor": 0
      },
      "text/plain": [
       "Drawing 1000 posterior samples:   0%|          | 0/1000 [00:00<?, ?it/s]"
      ]
     },
     "metadata": {},
     "output_type": "display_data"
    },
    {
     "name": "stdout",
     "output_type": "stream",
     "text": [
      "acceptance rate:  1.0\n"
     ]
    },
    {
     "data": {
      "application/vnd.jupyter.widget-view+json": {
       "model_id": "9f3bd9428ffa47a495af471764f99152",
       "version_major": 2,
       "version_minor": 0
      },
      "text/plain": [
       "Drawing 1000 posterior samples:   0%|          | 0/1000 [00:00<?, ?it/s]"
      ]
     },
     "metadata": {},
     "output_type": "display_data"
    },
    {
     "name": "stdout",
     "output_type": "stream",
     "text": [
      "acceptance rate:  1.0\n"
     ]
    },
    {
     "data": {
      "application/vnd.jupyter.widget-view+json": {
       "model_id": "5ecdbf5675d04720a9f9d22d312bd7fc",
       "version_major": 2,
       "version_minor": 0
      },
      "text/plain": [
       "Drawing 1000 posterior samples:   0%|          | 0/1000 [00:00<?, ?it/s]"
      ]
     },
     "metadata": {},
     "output_type": "display_data"
    },
    {
     "name": "stdout",
     "output_type": "stream",
     "text": [
      "acceptance rate:  1.0\n"
     ]
    },
    {
     "data": {
      "application/vnd.jupyter.widget-view+json": {
       "model_id": "2d677dce50ef4ceca479c158ef7880f5",
       "version_major": 2,
       "version_minor": 0
      },
      "text/plain": [
       "Drawing 1000 posterior samples:   0%|          | 0/1000 [00:00<?, ?it/s]"
      ]
     },
     "metadata": {},
     "output_type": "display_data"
    },
    {
     "name": "stdout",
     "output_type": "stream",
     "text": [
      "acceptance rate:  1.0\n"
     ]
    },
    {
     "data": {
      "application/vnd.jupyter.widget-view+json": {
       "model_id": "1f62f2b4846041668ef09a634e5805a2",
       "version_major": 2,
       "version_minor": 0
      },
      "text/plain": [
       "Drawing 1000 posterior samples:   0%|          | 0/1000 [00:00<?, ?it/s]"
      ]
     },
     "metadata": {},
     "output_type": "display_data"
    },
    {
     "name": "stdout",
     "output_type": "stream",
     "text": [
      "acceptance rate:  1.0\n"
     ]
    },
    {
     "data": {
      "application/vnd.jupyter.widget-view+json": {
       "model_id": "0a534a300ad94f529bbad9b985ef7ce5",
       "version_major": 2,
       "version_minor": 0
      },
      "text/plain": [
       "Drawing 1000 posterior samples:   0%|          | 0/1000 [00:00<?, ?it/s]"
      ]
     },
     "metadata": {},
     "output_type": "display_data"
    },
    {
     "name": "stdout",
     "output_type": "stream",
     "text": [
      "acceptance rate:  1.0\n"
     ]
    },
    {
     "data": {
      "application/vnd.jupyter.widget-view+json": {
       "model_id": "a8a25f90ea3f4c9d8a592f1e574fab47",
       "version_major": 2,
       "version_minor": 0
      },
      "text/plain": [
       "Drawing 1000 posterior samples:   0%|          | 0/1000 [00:00<?, ?it/s]"
      ]
     },
     "metadata": {},
     "output_type": "display_data"
    },
    {
     "name": "stdout",
     "output_type": "stream",
     "text": [
      "acceptance rate:  1.0\n"
     ]
    },
    {
     "data": {
      "application/vnd.jupyter.widget-view+json": {
       "model_id": "fe7d4eb30e404878b594ef1ad4bc3b4b",
       "version_major": 2,
       "version_minor": 0
      },
      "text/plain": [
       "Drawing 1000 posterior samples:   0%|          | 0/1000 [00:00<?, ?it/s]"
      ]
     },
     "metadata": {},
     "output_type": "display_data"
    },
    {
     "name": "stdout",
     "output_type": "stream",
     "text": [
      "acceptance rate:  1.0\n"
     ]
    },
    {
     "data": {
      "application/vnd.jupyter.widget-view+json": {
       "model_id": "321384b3febd4fbd8f63654c9d774336",
       "version_major": 2,
       "version_minor": 0
      },
      "text/plain": [
       "Drawing 1000 posterior samples:   0%|          | 0/1000 [00:00<?, ?it/s]"
      ]
     },
     "metadata": {},
     "output_type": "display_data"
    },
    {
     "name": "stdout",
     "output_type": "stream",
     "text": [
      "acceptance rate:  1.0\n"
     ]
    },
    {
     "data": {
      "application/vnd.jupyter.widget-view+json": {
       "model_id": "bffbbff9516f4906b2d44f1b6584a135",
       "version_major": 2,
       "version_minor": 0
      },
      "text/plain": [
       "Drawing 1000 posterior samples:   0%|          | 0/1000 [00:00<?, ?it/s]"
      ]
     },
     "metadata": {},
     "output_type": "display_data"
    },
    {
     "name": "stdout",
     "output_type": "stream",
     "text": [
      "acceptance rate:  1.0\n"
     ]
    },
    {
     "data": {
      "application/vnd.jupyter.widget-view+json": {
       "model_id": "b1292402c9224ae2abdb19a55707176a",
       "version_major": 2,
       "version_minor": 0
      },
      "text/plain": [
       "Drawing 1000 posterior samples:   0%|          | 0/1000 [00:00<?, ?it/s]"
      ]
     },
     "metadata": {},
     "output_type": "display_data"
    },
    {
     "name": "stdout",
     "output_type": "stream",
     "text": [
      "acceptance rate:  1.0\n"
     ]
    },
    {
     "data": {
      "application/vnd.jupyter.widget-view+json": {
       "model_id": "2a479f6f952e4a27bb60a5c1a430e9fe",
       "version_major": 2,
       "version_minor": 0
      },
      "text/plain": [
       "Drawing 1000 posterior samples:   0%|          | 0/1000 [00:00<?, ?it/s]"
      ]
     },
     "metadata": {},
     "output_type": "display_data"
    },
    {
     "name": "stdout",
     "output_type": "stream",
     "text": [
      "acceptance rate:  1.0\n"
     ]
    },
    {
     "data": {
      "application/vnd.jupyter.widget-view+json": {
       "model_id": "ff35e7e59b0047088cc6867c005dd62f",
       "version_major": 2,
       "version_minor": 0
      },
      "text/plain": [
       "Drawing 1000 posterior samples:   0%|          | 0/1000 [00:00<?, ?it/s]"
      ]
     },
     "metadata": {},
     "output_type": "display_data"
    },
    {
     "name": "stdout",
     "output_type": "stream",
     "text": [
      "acceptance rate:  1.0\n"
     ]
    },
    {
     "data": {
      "application/vnd.jupyter.widget-view+json": {
       "model_id": "bf280ce5d6334ac298546e049f86db1b",
       "version_major": 2,
       "version_minor": 0
      },
      "text/plain": [
       "Drawing 1000 posterior samples:   0%|          | 0/1000 [00:00<?, ?it/s]"
      ]
     },
     "metadata": {},
     "output_type": "display_data"
    },
    {
     "name": "stdout",
     "output_type": "stream",
     "text": [
      "acceptance rate:  1.0\n"
     ]
    },
    {
     "data": {
      "application/vnd.jupyter.widget-view+json": {
       "model_id": "722ed6a8bc9d4e2f899c32265c68fe87",
       "version_major": 2,
       "version_minor": 0
      },
      "text/plain": [
       "Drawing 1000 posterior samples:   0%|          | 0/1000 [00:00<?, ?it/s]"
      ]
     },
     "metadata": {},
     "output_type": "display_data"
    },
    {
     "name": "stdout",
     "output_type": "stream",
     "text": [
      "acceptance rate:  1.0\n"
     ]
    },
    {
     "data": {
      "application/vnd.jupyter.widget-view+json": {
       "model_id": "1fbae681f1d449c897fa182f5054aaa1",
       "version_major": 2,
       "version_minor": 0
      },
      "text/plain": [
       "Drawing 1000 posterior samples:   0%|          | 0/1000 [00:00<?, ?it/s]"
      ]
     },
     "metadata": {},
     "output_type": "display_data"
    },
    {
     "name": "stdout",
     "output_type": "stream",
     "text": [
      "acceptance rate:  1.0\n"
     ]
    },
    {
     "data": {
      "application/vnd.jupyter.widget-view+json": {
       "model_id": "5ff27bf2a437434bb8c6b9e2868f7a0c",
       "version_major": 2,
       "version_minor": 0
      },
      "text/plain": [
       "Drawing 1000 posterior samples:   0%|          | 0/1000 [00:00<?, ?it/s]"
      ]
     },
     "metadata": {},
     "output_type": "display_data"
    },
    {
     "name": "stdout",
     "output_type": "stream",
     "text": [
      "acceptance rate:  1.0\n"
     ]
    },
    {
     "data": {
      "application/vnd.jupyter.widget-view+json": {
       "model_id": "d02d5fba7cb344258bbb4c0f8b96083d",
       "version_major": 2,
       "version_minor": 0
      },
      "text/plain": [
       "Drawing 1000 posterior samples:   0%|          | 0/1000 [00:00<?, ?it/s]"
      ]
     },
     "metadata": {},
     "output_type": "display_data"
    },
    {
     "name": "stdout",
     "output_type": "stream",
     "text": [
      "acceptance rate:  1.0\n"
     ]
    },
    {
     "data": {
      "application/vnd.jupyter.widget-view+json": {
       "model_id": "cd42600914c54faaac1649e240bd8d9e",
       "version_major": 2,
       "version_minor": 0
      },
      "text/plain": [
       "Drawing 1000 posterior samples:   0%|          | 0/1000 [00:00<?, ?it/s]"
      ]
     },
     "metadata": {},
     "output_type": "display_data"
    },
    {
     "name": "stdout",
     "output_type": "stream",
     "text": [
      "acceptance rate:  1.0\n"
     ]
    }
   ],
   "source": [
    "analytic = torch.distributions.normal.Normal(true_thetas, 1)\n",
    "\n",
    "\n",
    "overall_incremental_list_greater_ratio = []\n",
    "\n",
    "variance_list_greater_ratio = []\n",
    "\n",
    "mean_list_greater_ratio = []\n",
    "\n",
    "for posterior_incremental_list in list_collection_inc_greater_ratio:\n",
    "    \n",
    "    KL_incremental = []\n",
    "\n",
    "    for posterior_incremental in posterior_incremental_list:\n",
    "\n",
    "        posterior_incremental.set_default_x(obs_real)\n",
    "\n",
    "        #KL = KLdivergence(posterior_incremental, sample_y)\n",
    "\n",
    "        KL, var_x, mu_x = KL_Gauss(posterior_incremental, analytic)\n",
    "        \n",
    "        variance_list_greater_ratio.append(var_x)\n",
    "        mean_list_greater_ratio.append(mu_x)\n",
    "\n",
    "        #KL_1d = calc_KL_1d(posterior_incremental, analytic)\n",
    "\n",
    "        #KL_incremental_1d.append(KL_1d)\n",
    "\n",
    "\n",
    "        KL_incremental.append(KL)\n",
    "\n",
    "        \n",
    "    overall_incremental_list_greater_ratio.append(KL_incremental)"
   ]
  },
  {
   "cell_type": "code",
   "execution_count": 20,
   "id": "4929bd19",
   "metadata": {},
   "outputs": [
    {
     "data": {
      "text/plain": [
       "30"
      ]
     },
     "execution_count": 20,
     "metadata": {},
     "output_type": "execute_result"
    }
   ],
   "source": [
    "len(variance_list)"
   ]
  },
  {
   "cell_type": "code",
   "execution_count": 21,
   "id": "f941bdb3",
   "metadata": {},
   "outputs": [],
   "source": [
    "#mean_nipe = torch.mean(torch.stack(([variance_list[i] for i in range(25,30)]), dim=1), dim=1)\n",
    "\n",
    "#std_nipe = torch.std(torch.stack(([variance_list[i] for i in range(25,30)]), dim=1), dim=1)\n",
    "\n",
    "\n",
    "nipe_array = torch.stack(([variance_list[i] for i in range(25,30)]), dim=1)\n",
    "\n",
    "snpe_array = torch.stack(([variance_list_snpe[i] for i in range(25,30)]), dim=1)\n",
    "\n",
    "nipe_noratio_array = torch.stack(([variance_list_ratio[i] for i in range(25,30)]), dim=1)\n",
    "\n",
    "nipe_greater_ratio_array = torch.stack(([variance_list_greater_ratio[i] for i in range(15, 20)]), dim=1)\n",
    "\n"
   ]
  },
  {
   "cell_type": "code",
   "execution_count": 22,
   "id": "6ca69c75",
   "metadata": {},
   "outputs": [
    {
     "data": {
      "text/plain": [
       "20"
      ]
     },
     "execution_count": 22,
     "metadata": {},
     "output_type": "execute_result"
    }
   ],
   "source": [
    "len(variance_list_greater_ratio)"
   ]
  },
  {
   "cell_type": "code",
   "execution_count": 41,
   "id": "7b5850be",
   "metadata": {},
   "outputs": [
    {
     "data": {
      "text/plain": [
       "<matplotlib.legend.Legend at 0x7fb537e3c7d0>"
      ]
     },
     "execution_count": 41,
     "metadata": {},
     "output_type": "execute_result"
    },
    {
     "data": {
      "image/png": "[encoded data removed]",
      "text/plain": [
       "<Figure size 1080x576 with 3 Axes>"
      ]
     },
     "metadata": {},
     "output_type": "display_data"
    }
   ],
   "source": [
    "### plot variances:\n",
    "import seaborn as sns\n",
    "\n",
    "sns.set_style(\"whitegrid\", {'axes.grid' : False})\n",
    "#sns.set_context('talk')\n",
    "sns.set_context('notebook')\n",
    "\n",
    "figure_mosaic = \"\"\"\n",
    "ACC\n",
    "BCC\n",
    "\"\"\"\n",
    "\n",
    "fig, axes = plt.subplot_mosaic(mosaic=figure_mosaic, figsize=(15, 8))\n",
    "\n",
    "#axes['A'].plot(variance_list[58],'o', label='nipe', c='blue')\n",
    "\n",
    "#nipe_box  = axes['A'].boxplot(nipe_noratio_array, patch_artist=True, boxprops=dict(facecolor='lightblue'), medianprops=dict(color='red'),            \n",
    "#            flierprops=dict(color='lightblue', markeredgecolor='blue'),positions=[1, 2, 3, 4, 5, 6, 7, 8, 9, 10, 11, 12, 13, \n",
    "#                                                                                 14, 15])\n",
    "axes['A'].set(xticklabels=[])\n",
    "#nipe_ratio_box  = axes['A'].boxplot(nipe_array, patch_artist=True, boxprops=dict(facecolor='blue'), medianprops=dict(color='red'),            \n",
    "#            flierprops=dict(color='blue', markeredgecolor='blue'),positions=[1.1, 2.1, 3.1, 4.1, 5.1, 6.1, 7.1, 8.1, 9.1, 10.1, 11.1, 12.1, 13.1, \n",
    "#                                                                                 14.1, 15.1])\n",
    "\n",
    "nipe_greater = axes['A'].boxplot(nipe_greater_ratio_array, patch_artist=True, boxprops=dict(facecolor='purple'), medianprops=dict(linewidth=0),            \n",
    "            flierprops=dict(color='purple', markeredgecolor='purple'),positions=[1.2, 2.2, 3.2, 4.2, 5.2, 6.2, 7.2, 8.2, 9.2, 10.2, 11.2, 12.2, 13.2, \n",
    "                                                                                 14.2, 15.2])\n",
    "axes['A'].set(xticklabels=[])\n",
    "\n",
    "\n",
    "axes['A'].set_ylim(0,5)\n",
    "\n",
    "snpe_box = axes['B'].boxplot(snpe_array, patch_artist=True, boxprops=dict(facecolor='springgreen'), medianprops=dict(linewidth=0),flierprops=dict(color='green', markeredgecolor='green'),)\n",
    "axes['B'].set_ylim(0,10)\n",
    "\n",
    "\n",
    "#axes['A'].plot(variance_list[59],'o', label='nipe', c='blue')\n",
    "#axes['A'].plot(variance_list[57],'o', label='nipe', c='blue')\n",
    "\n",
    "\n",
    "nipe_box = axes['C'].boxplot(nipe_noratio_array, patch_artist=True, medianprops = dict(linewidth=0), boxprops=dict(facecolor='lightblue'),  flierprops=dict(color='lightblue', markeredgecolor='lightblue'),\n",
    "                  positions=[0.9, 1.9, 2.9, 3.9, 4.9, 5.9, 6.9, 7.9, 8.9, 9.9, 10.9, 11.9, 12.9, 13.9, \n",
    "                                                                                 14.9])\n",
    "\n",
    "\n",
    "nipe_ratio_box = axes['C'].boxplot(nipe_array, patch_artist=True, medianprops = dict(linewidth=0), boxprops=dict(facecolor='blue'),            \n",
    "            flierprops=dict(color='blue', markeredgecolor='blue'),positions=[1.1, 2.1, 3.1, 4.1, 5.1, 6.1, 7.1, 8.1, 9.1, 10.1, 11.1, 12.1, 13.1, \n",
    "                                                                                 14.1, 15.1])\n",
    "\n",
    "nipe_greater = axes['C'].boxplot(nipe_greater_ratio_array, medianprops = dict(linewidth=0),patch_artist=True, boxprops=dict(facecolor='purple'),            \n",
    "            flierprops=dict(color='blue', markeredgecolor='blue'),positions=[1.2, 2.2, 3.2, 4.2, 5.2, 6.2, 7.2, 8.2, 9.2, 10.2, 11.2, 12.2, 13.2, \n",
    "                                                                                 14.2, 15.2])\n",
    "\n",
    "for b in nipe_greater['boxes']:\n",
    "    b.set_alpha(0.8)\n",
    "    \n",
    "for b in nipe_ratio_box['boxes']:\n",
    "    b.set_alpha(0.8)\n",
    "\n",
    "for b in nipe_box['boxes']:\n",
    "    b.set_alpha(0.8)\n",
    "    \n",
    "for b in snpe_box['boxes']:\n",
    "    b.set_alpha(0.8)\n",
    "    \n",
    "    \n",
    "axes['C'].set(xticklabels=[])\n",
    "\n",
    "ana_plot = axes['A'].plot(np.linspace(1,15, 15), analytic.stddev[0], 'o', c='red', label='analytic')\n",
    "\n",
    "    \n",
    "axes['B'].plot(np.linspace(1,15, 15), analytic.stddev[0], 'o', c='red', label='analytic')\n",
    "axes['C'].plot(np.linspace(1,15, 15), analytic.stddev[0], 'o', c='red', label='analytic')\n",
    "\n",
    "#axes['B'].plot(variance_list_snpe[59],'o', c='g', label = 'snpe')\n",
    "snpe_c = axes['C'].boxplot(snpe_array, patch_artist=True, medianprops = dict(linewidth=0),\n",
    "                  boxprops=dict(facecolor='springgreen'), flierprops=dict(color='springgreen', markeredgecolor='green'),\n",
    "                  )\n",
    "\n",
    "for b in snpe_c['boxes']:\n",
    "    b.set_alpha(0.8)\n",
    "    \n",
    "axes['C'].set_ylim(0,16)\n",
    "\n",
    "axes['C'].legend()\n",
    "\n",
    "axes['B'].legend([snpe_box['boxes'][0], ana_plot[0]], ['snpe', 'analytic'], loc='upper left')\n",
    "axes['A'].legend([nipe_greater['boxes'][0], ana_plot[0]], ['nipe budget3',  'analytic'], loc='upper left')\n",
    "axes['C'].legend([nipe_box['boxes'][0], nipe_ratio_box['boxes'][0],  nipe_greater['boxes'][0], snpe_box['boxes'][0], ana_plot[0]], ['nipe budget1', 'nipe budget2', 'nipe budget3','snpe', 'analytic'], loc='upper left')"
   ]
  },
  {
   "cell_type": "code",
   "execution_count": 17,
   "id": "30957a7d",
   "metadata": {},
   "outputs": [],
   "source": [
    "nipe_array = torch.stack(([mean_list[i] for i in range(10)]), dim=1)\n",
    "\n",
    "\n",
    "snpe_array = torch.stack(([mean_list_snpe[i] for i in range(10)]), dim=1)"
   ]
  },
  {
   "cell_type": "code",
   "execution_count": 18,
   "id": "24015dbc",
   "metadata": {},
   "outputs": [
    {
     "data": {
      "text/plain": [
       "tensor([[ 3.,  6., 20., 10., 90., 55., 27., 27.,  4., 70.,  5., 66., 99., 40.,\n",
       "         45.]])"
      ]
     },
     "execution_count": 18,
     "metadata": {},
     "output_type": "execute_result"
    }
   ],
   "source": [
    "analytic.mean"
   ]
  },
  {
   "cell_type": "code",
   "execution_count": 19,
   "id": "46593918",
   "metadata": {},
   "outputs": [
    {
     "data": {
      "text/plain": [
       "<matplotlib.legend.Legend at 0x7f10216c9e90>"
      ]
     },
     "execution_count": 19,
     "metadata": {},
     "output_type": "execute_result"
    },
    {
     "data": {
      "image/png": "[encoded data removed]",
      "text/plain": [
       "<Figure size 1080x576 with 3 Axes>"
      ]
     },
     "metadata": {},
     "output_type": "display_data"
    }
   ],
   "source": [
    "### plot means:\n",
    "import seaborn as sns\n",
    "\n",
    "sns.set_style(\"whitegrid\", {'axes.grid' : False})\n",
    "\n",
    "figure_mosaic = \"\"\"\n",
    "ACC\n",
    "BCC\n",
    "\"\"\"\n",
    "\n",
    "fig, axes = plt.subplot_mosaic(mosaic=figure_mosaic, figsize=(15, 8))\n",
    "\n",
    "#axes['A'].plot(variance_list[58],'o', label='nipe', c='blue')\n",
    "\n",
    "nipe_box  = axes['A'].boxplot(nipe_array, patch_artist=True, boxprops=dict(facecolor='blue'), medianprops=dict(color='red'),            \n",
    "            flierprops=dict(color='blue', markeredgecolor='blue'))\n",
    "\n",
    "[patch.set(alpha=None, facecolor=(0.,0.,1,.3)) for patch in nipe_box['boxes']]\n",
    "\n",
    "#axes['A'].set_ylim(0,15)\n",
    "\n",
    "snpe_box = axes['B'].boxplot(snpe_array, patch_artist=True, boxprops=dict(facecolor='green'), medianprops=dict(color='red'),flierprops=dict(color='green', markeredgecolor='green'),)\n",
    "#axes['B'].set_ylim(0,15)\n",
    "\n",
    "[patch.set(alpha=None, facecolor=(0,0.7,0,.1)) for patch in snpe_box['boxes']]\n",
    "\n",
    "\n",
    "#axes['A'].plot(variance_list[59],'o', label='nipe', c='blue')\n",
    "#axes['A'].plot(variance_list[57],'o', label='nipe', c='blue')\n",
    "\n",
    "\n",
    "nipe_box2 = axes['C'].boxplot(nipe_array, patch_artist=True, boxprops=dict(facecolor='blue'), medianprops=dict(color='red'), flierprops=dict(color='blue', markeredgecolor='blue'),)\n",
    "\n",
    "ana_plot = axes['A'].plot(np.linspace(1,15, 15), analytic.mean[0], 'o', c='orange', label='analytic')\n",
    "axes['B'].plot(np.linspace(1,15, 15), analytic.mean[0], 'o', c='orange', label='analytic')\n",
    "axes['C'].plot(np.linspace(1,15, 15), analytic.mean[0], 'o', c='orange', label='analytic')\n",
    "\n",
    "#axes['B'].plot(variance_list_snpe[59],'o', c='g', label = 'snpe')\n",
    "snpe_box2 = axes['C'].boxplot(snpe_array, patch_artist=True, boxprops=dict(facecolor='green'), medianprops=dict(color='red'), flierprops=dict(color='green', markeredgecolor='green'),)\n",
    "#axes['C'].set_ylim(0,15)\n",
    "\n",
    "[patch.set(alpha=None, facecolor=(0,0.7,0,.1)) for patch in snpe_box2['boxes']]\n",
    "[patch.set(alpha=None, facecolor=(0.,0.,1,.3)) for patch in nipe_box2['boxes']]\n",
    "\n",
    "axes['C'].legend()\n",
    "\n",
    "axes['B'].legend([snpe_box['boxes'][0], ana_plot[0]], ['snpe', 'analytic'], loc='upper left')\n",
    "axes['A'].legend([nipe_box['boxes'][0], ana_plot[0]], ['nipe',  'analytic'], loc='upper left')\n",
    "axes['C'].legend([nipe_box['boxes'][0], snpe_box['boxes'][0], ana_plot[0]], ['nipe', 'snpe', 'analytic'], loc='upper right')"
   ]
  }
 ],
 "metadata": {
  "kernelspec": {
   "display_name": "Python 3 (ipykernel)",
   "language": "python",
   "name": "python3"
  },
  "language_info": {
   "codemirror_mode": {
    "name": "ipython",
    "version": 3
   },
   "file_extension": ".py",
   "mimetype": "text/x-python",
   "name": "python",
   "nbconvert_exporter": "python",
   "pygments_lexer": "ipython3",
   "version": "3.7.11"
  }
 },
 "nbformat": 4,
 "nbformat_minor": 5
}
