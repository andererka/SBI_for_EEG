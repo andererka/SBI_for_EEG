{
 "cells": [
  {
   "cell_type": "markdown",
   "id": "4adc7403",
   "metadata": {},
   "source": [
    "# Exploring parameters\n",
    "\n",
    "#### density plots, post predictive checks etc."
   ]
  },
  {
   "cell_type": "code",
   "execution_count": 1,
   "id": "e788d96d",
   "metadata": {},
   "outputs": [],
   "source": [
    "%load_ext autoreload\n",
    "%autoreload 2\n",
    "import os.path as op\n",
    "import tempfile\n",
    "\n",
    "import matplotlib.pyplot as plt\n",
    "\n",
    "\n",
    "import hnn_core\n",
    "from hnn_core import simulate_dipole, jones_2009_model\n",
    "from hnn_core.viz import plot_dipole\n",
    "\n",
    "\n",
    "import sys\n",
    "sys.path.append('../code/')\n",
    "sys.path.append('../code/utils/')\n",
    "#sys.path.append('../code/sbi/')\n",
    "#sys.path.append('../../results_cluster/')\n",
    "\n",
    "\n",
    "import numpy as np\n",
    "import torch\n",
    "\n",
    "# visualization\n",
    "import matplotlib as mpl\n",
    "import matplotlib.pyplot as plt\n",
    "\n",
    "\n",
    "import os\n",
    "\n",
    "work_dir = '/home/ubuntu/sbi_for_eeg_data/code/'\n",
    "\n",
    "os.chdir(work_dir)\n",
    "\n",
    "#from utils.plot import cov, compare_vars, plot_varchanges\n",
    "#from utils.plot import compare_KLs, plot_KLs\n",
    "#from sbi.inference import potentials\n",
    "import utils.sbi_modulated_functions\n",
    "\n",
    "# sbi\n",
    "from sbi import utils as utils\n",
    "from sbi import analysis as analysis\n",
    "from sbi.inference.base import infer\n",
    "from sbi.inference import SNPE, prepare_for_sbi, simulate_for_sbi\n",
    "\n",
    "from sbi.analysis import conditional_pairplot, conditional_corrcoeff\n",
    "\n",
    "\n",
    "\n",
    "# import the summary statistics that you want to investigate\n",
    "from summary_features.calculate_summary_features import calculate_summary_statistics_alternative as alternative_sumstats\n",
    "from summary_features.calculate_summary_features import calculate_summary_stats_temporal as temporal_sumstats\n",
    "from summary_features.calculate_summary_features import calculate_summary_stats_number as number_sumstats\n",
    "from summary_features.calculate_summary_features import calculate_summary_stats_temporal\n"
   ]
  },
  {
   "cell_type": "code",
   "execution_count": 2,
   "id": "ab993458",
   "metadata": {},
   "outputs": [
    {
     "name": "stdout",
     "output_type": "stream",
     "text": [
      "1.11.0\n"
     ]
    }
   ],
   "source": [
    "print(torch.__version__)"
   ]
  },
  {
   "cell_type": "code",
   "execution_count": 3,
   "id": "9c212ce0",
   "metadata": {},
   "outputs": [],
   "source": [
    "## defining neuronal network model\n",
    "\n",
    "num_params = 6\n",
    "\n",
    "from utils.simulation_wrapper import set_network_default, SimulationWrapper\n",
    "sim_wrapper = SimulationWrapper(num_params, noise=False)\n"
   ]
  },
  {
   "cell_type": "code",
   "execution_count": 4,
   "id": "230edc87",
   "metadata": {},
   "outputs": [
    {
     "name": "stdout",
     "output_type": "stream",
     "text": [
      "/home/ubuntu\n",
      "/home/ubuntu\n",
      "/home/ubuntu/results/toy_example_mdn_08_04_lesser_ratio\n"
     ]
    }
   ],
   "source": [
    "from utils import inference\n",
    "\n",
    "import pickle\n",
    "from data_load_writer import *\n",
    "from data_load_writer import load_from_file as lf\n",
    "\n",
    "import os\n",
    "\n",
    "work_dir = '/home/ubuntu/'\n",
    "\n",
    "os.chdir(work_dir)\n",
    "\n",
    "\n",
    "\n",
    "import os\n",
    "\n",
    "print(os.getcwd())\n",
    "\n",
    "\n",
    "\n",
    "file = 'toy_example_mdn_08_04_lesser_ratio'\n",
    "#file = 'toy_example_mdn_05_04_no_ratio'\n",
    "\n",
    "\n",
    "print(os.getcwd())\n",
    "\n",
    "os.chdir('results/{}'.format(file))\n",
    "\n",
    "\n",
    "print(os.getcwd())\n",
    "  \n",
    "\n"
   ]
  },
  {
   "cell_type": "code",
   "execution_count": 5,
   "id": "bde67830",
   "metadata": {},
   "outputs": [],
   "source": [
    "def Gaussian(thetas, normal_noise=1):\n",
    "    \n",
    "    gauss_list = []\n",
    "    \n",
    "    for theta in thetas:\n",
    "    \n",
    "        mu, sigma = theta, normal_noise # mean and standard deviation\n",
    "\n",
    "        s = np.random.normal(mu, sigma, 1)\n",
    "    \n",
    "        \n",
    "        gauss_list.append(s[0])\n",
    "        \n",
    "    gauss_obs = torch.tensor(gauss_list)\n",
    "    \n",
    "    return gauss_obs\n",
    "    \n",
    "\n"
   ]
  },
  {
   "cell_type": "code",
   "execution_count": 6,
   "id": "bc10d6ce",
   "metadata": {},
   "outputs": [],
   "source": [
    "list_collection = torch.load('list_collection.pt')\n",
    "list_collection_inc = torch.load('list_collection_inc.pt')"
   ]
  },
  {
   "cell_type": "code",
   "execution_count": 7,
   "id": "d4ca2c26",
   "metadata": {},
   "outputs": [],
   "source": [
    "true_thetas = torch.tensor([[3.0, 6.0, 20.0, 10.0, 90.0, 55.0, 27.0, 27.0, 4.0, 70.0, 5.0, 66.0, 99.0, 40.0, 45.0]])\n",
    "parameter_names = ['t1', 't2', 't3', 't4', 't5', 't6', 't7', 't8', 't9', 't10', 't11', 't12', 't13', 't14', 't15']\n",
    "\n",
    "prior_max = [100.0] * 15\n",
    "prior_min = [1.0] * 15\n",
    "\n",
    "prior = utils.torchutils.BoxUniform(low=prior_min, high = prior_max)\n",
    "\n",
    "samples_prior = prior.sample((10000,))\n",
    "\n",
    "simulator_stats, prior = prepare_for_sbi(Gaussian, prior)"
   ]
  },
  {
   "cell_type": "code",
   "execution_count": 8,
   "id": "64df37b2",
   "metadata": {},
   "outputs": [],
   "source": [
    "samples_prior_list = samples_prior.unsqueeze(0)"
   ]
  },
  {
   "cell_type": "code",
   "execution_count": null,
   "id": "431660f3",
   "metadata": {},
   "outputs": [],
   "source": []
  },
  {
   "cell_type": "code",
   "execution_count": 9,
   "id": "0c8bddbc",
   "metadata": {},
   "outputs": [
    {
     "data": {
      "text/plain": [
       "torch.Size([10000, 15])"
      ]
     },
     "execution_count": 9,
     "metadata": {},
     "output_type": "execute_result"
    }
   ],
   "source": [
    "samples_prior_list[0].shape"
   ]
  },
  {
   "cell_type": "code",
   "execution_count": 10,
   "id": "dbeec27a",
   "metadata": {},
   "outputs": [
    {
     "name": "stdout",
     "output_type": "stream",
     "text": [
      "[Parallel(n_jobs=1)]: Using backend SequentialBackend with 1 concurrent workers.\n",
      "[Parallel(n_jobs=1)]: Done   1 out of   1 | elapsed:    1.4s remaining:    0.0s\n",
      "[Parallel(n_jobs=1)]: Done   1 out of   1 | elapsed:    1.4s finished\n"
     ]
    }
   ],
   "source": [
    "thetas = inference.run_only_sim(samples_prior_list, simulation_wrapper = simulator_stats, num_workers=1)"
   ]
  },
  {
   "cell_type": "code",
   "execution_count": null,
   "id": "6b885f02",
   "metadata": {},
   "outputs": [],
   "source": [
    "\n"
   ]
  },
  {
   "cell_type": "code",
   "execution_count": 11,
   "id": "678fc0e0",
   "metadata": {},
   "outputs": [],
   "source": [
    "def KL_Gauss(X, Y):\n",
    "    \n",
    "    sample_x = X.sample((1000,))\n",
    "    mu_x = torch.mean(sample_x, dim=0)\n",
    "    var_x = torch.std(sample_x, dim=0)\n",
    "\n",
    "    var_y = Y.stddev\n",
    "\n",
    "    mu_y = Y.mean\n",
    "    \n",
    "    \n",
    "    return torch.mean(np.log(var_y/var_x) + (var_x**2 + (mu_x - mu_y)**2)/(2*var_y**2) -(1/2)), var_x, mu_x\n",
    "\n",
    "\n",
    "def calc_KL_1d(X, Y):\n",
    "    \n",
    "    sample_x = X.sample((1000,))\n",
    "    mu_x = torch.mean(sample_x, dim=0)\n",
    "    var_x = torch.std(sample_x, dim=0)\n",
    "    \n",
    "    print(var_x)\n",
    "    print(mu_x)\n",
    "\n",
    "\n",
    "    var_y = Y.stddev\n",
    "\n",
    "    mu_y = Y.mean\n",
    "    \n",
    "    print(mu_y)\n",
    "    print(var_y)\n",
    "    \n",
    "    print(np.log(var_y/var_x) + (var_x**2 + (mu_x - mu_y)**2)/(2*var_y**2) -(1/2))\n",
    "    \n",
    "    return np.log(var_y/var_x) + (var_x**2 + (mu_x - mu_y)**2)/(2*var_y**2) -(1/2)\n",
    "\n",
    "\n",
    "# calculate the jensen-shanon divergence\n",
    "def js_divergence(p, q):\n",
    "    m = 0.5 * (p + q)\n",
    "    return 0.5 * kl_divergence(p, m) + 0.5 * kl_divergence(q, m)"
   ]
  },
  {
   "cell_type": "code",
   "execution_count": 12,
   "id": "c39fb7f2",
   "metadata": {},
   "outputs": [
    {
     "data": {
      "application/vnd.jupyter.widget-view+json": {
       "model_id": "93c5a3f3aaf04320876cd441990f72be",
       "version_major": 2,
       "version_minor": 0
      },
      "text/plain": [
       "Drawing 1000 posterior samples:   0%|          | 0/1000 [00:00<?, ?it/s]"
      ]
     },
     "metadata": {},
     "output_type": "display_data"
    },
    {
     "name": "stdout",
     "output_type": "stream",
     "text": [
      "acceptance rate:  0.334\n",
      "acceptance rate:  0.33181818181818185\n"
     ]
    },
    {
     "name": "stderr",
     "output_type": "stream",
     "text": [
      "/home/ubuntu/pyknos/pyknos/mdn/mdn.py:288: UserWarning: torch.triangular_solve is deprecated in favor of torch.linalg.solve_triangularand will be removed in a future PyTorch release.\n",
      "torch.linalg.solve_triangular has its arguments reversed and does not return a copy of one of the inputs.\n",
      "X = torch.triangular_solve(B, A).solution\n",
      "should be replaced with\n",
      "X = torch.linalg.solve_triangular(A, B). (Triggered internally at  /opt/conda/conda-bld/pytorch_1646755861072/work/aten/src/ATen/native/BatchLinearAlgebra.cpp:1672.)\n",
      "  chosen_precision_factors,\n"
     ]
    },
    {
     "data": {
      "application/vnd.jupyter.widget-view+json": {
       "model_id": "10e3978840bd4a0e915143204649e7ce",
       "version_major": 2,
       "version_minor": 0
      },
      "text/plain": [
       "Drawing 1000 posterior samples:   0%|          | 0/1000 [00:00<?, ?it/s]"
      ]
     },
     "metadata": {},
     "output_type": "display_data"
    },
    {
     "name": "stdout",
     "output_type": "stream",
     "text": [
      "acceptance rate:  0.338\n",
      "acceptance rate:  0.3271818181818182\n",
      "tensor([4.6359, 5.3259, 5.7560, 3.7511, 3.6474, 9.3371, 8.2219, 5.3017, 3.6144,\n",
      "        8.4190, 2.0873, 4.1496, 2.0200, 7.8369, 4.2627])\n",
      "tensor([10.9829, 24.7810, 29.3316,  8.8294, 71.9419, 52.2397, 36.4317, 43.6621,\n",
      "         7.6340, 75.1148,  4.0187, 48.5016, 96.8957, 26.9817, 36.7533])\n",
      "tensor([[ 3.,  6., 20., 10., 90., 55., 27., 27.,  4., 70.,  5., 66., 99., 40.,\n",
      "         45.]])\n",
      "tensor([[1., 1., 1., 1., 1., 1., 1., 1., 1., 1., 1., 1., 1., 1., 1.]])\n",
      "tensor([[ 40.5751, 188.3728,  57.8544,   5.8984, 167.9048,  44.6667,  75.6719,\n",
      "         150.6983,  11.3501,  45.8903,   1.4240, 159.7842,   3.0512, 112.8873,\n",
      "          41.1394]])\n"
     ]
    },
    {
     "data": {
      "application/vnd.jupyter.widget-view+json": {
       "model_id": "4f421e7d08df460b92554af454b9129b",
       "version_major": 2,
       "version_minor": 0
      },
      "text/plain": [
       "Drawing 1000 posterior samples:   0%|          | 0/1000 [00:00<?, ?it/s]"
      ]
     },
     "metadata": {},
     "output_type": "display_data"
    },
    {
     "name": "stdout",
     "output_type": "stream",
     "text": [
      "acceptance rate:  0.256\n",
      "acceptance rate:  0.26481818181818184\n"
     ]
    },
    {
     "data": {
      "application/vnd.jupyter.widget-view+json": {
       "model_id": "0ffef27a7d7641b28f21b1254d1485b7",
       "version_major": 2,
       "version_minor": 0
      },
      "text/plain": [
       "Drawing 1000 posterior samples:   0%|          | 0/1000 [00:00<?, ?it/s]"
      ]
     },
     "metadata": {},
     "output_type": "display_data"
    },
    {
     "name": "stdout",
     "output_type": "stream",
     "text": [
      "acceptance rate:  0.255\n",
      "acceptance rate:  0.2579090909090909\n",
      "tensor([ 5.0979,  4.8213,  6.6683, 11.8926,  5.7853,  6.7354,  4.0634,  5.7703,\n",
      "         4.9861,  7.3066,  6.1241,  5.9745,  3.8500,  4.5892,  6.6809])\n",
      "tensor([12.0624, 11.8094, 46.3386, 30.7733, 91.5190, 57.9739, 10.5948, 36.6331,\n",
      "        15.7233, 61.4364, 19.5284, 78.4018, 95.4108, 41.9173, 48.2300])\n",
      "tensor([[ 3.,  6., 20., 10., 90., 55., 27., 27.,  4., 70.,  5., 66., 99., 40.,\n",
      "         45.]])\n",
      "tensor([[1., 1., 1., 1., 1., 1., 1., 1., 1., 1., 1., 1., 1., 1., 1.]])\n",
      "tensor([[ 51.9295,  26.4240, 366.6973, 283.5058,  15.6330,  24.6971, 140.9196,\n",
      "          60.7938,  79.0420,  60.8723, 121.9775,  92.4625,  12.0042,  10.3447,\n",
      "          25.1342]])\n"
     ]
    },
    {
     "data": {
      "application/vnd.jupyter.widget-view+json": {
       "model_id": "56b4b8db77ab480182b57684de28f62a",
       "version_major": 2,
       "version_minor": 0
      },
      "text/plain": [
       "Drawing 1000 posterior samples:   0%|          | 0/1000 [00:00<?, ?it/s]"
      ]
     },
     "metadata": {},
     "output_type": "display_data"
    },
    {
     "name": "stdout",
     "output_type": "stream",
     "text": [
      "acceptance rate:  0.927\n",
      "acceptance rate:  0.928\n"
     ]
    },
    {
     "data": {
      "application/vnd.jupyter.widget-view+json": {
       "model_id": "a4a2e2bf67584b5890945bd4687a0255",
       "version_major": 2,
       "version_minor": 0
      },
      "text/plain": [
       "Drawing 1000 posterior samples:   0%|          | 0/1000 [00:00<?, ?it/s]"
      ]
     },
     "metadata": {},
     "output_type": "display_data"
    },
    {
     "name": "stdout",
     "output_type": "stream",
     "text": [
      "acceptance rate:  0.936\n",
      "acceptance rate:  0.9318181818181818\n",
      "tensor([9.1730, 5.8383, 4.3799, 5.0287, 7.8051, 3.5008, 8.7983, 4.6154, 9.7763,\n",
      "        6.3352, 3.8556, 2.9867, 3.1999, 6.5282, 8.4094])\n",
      "tensor([30.3663, 28.7364, 36.2687, 24.4231, 60.3950, 59.0557, 50.4070, 33.5610,\n",
      "        43.7122, 54.7174, 21.0910, 50.6854, 90.8798, 22.6497, 80.8637])\n",
      "tensor([[ 3.,  6., 20., 10., 90., 55., 27., 27.,  4., 70.,  5., 66., 99., 40.,\n",
      "         45.]])\n",
      "tensor([[1., 1., 1., 1., 1., 1., 1., 1., 1., 1., 1., 1., 1., 1., 1.]])\n",
      "tensor([[413.8118, 273.2509, 139.9493, 114.5413, 466.1323,  12.5993, 309.9737,\n",
      "          30.1446, 833.5380, 134.4997, 135.0439, 120.1351,  36.4253, 169.4494,\n",
      "         675.8331]])\n"
     ]
    },
    {
     "data": {
      "application/vnd.jupyter.widget-view+json": {
       "model_id": "add5d55f78044231b9b65195fc73af61",
       "version_major": 2,
       "version_minor": 0
      },
      "text/plain": [
       "Drawing 1000 posterior samples:   0%|          | 0/1000 [00:00<?, ?it/s]"
      ]
     },
     "metadata": {},
     "output_type": "display_data"
    },
    {
     "name": "stdout",
     "output_type": "stream",
     "text": [
      "acceptance rate:  0.281\n",
      "acceptance rate:  0.265\n"
     ]
    },
    {
     "data": {
      "application/vnd.jupyter.widget-view+json": {
       "model_id": "95776e425eef43e8bcd9c0992ab59c99",
       "version_major": 2,
       "version_minor": 0
      },
      "text/plain": [
       "Drawing 1000 posterior samples:   0%|          | 0/1000 [00:00<?, ?it/s]"
      ]
     },
     "metadata": {},
     "output_type": "display_data"
    },
    {
     "name": "stdout",
     "output_type": "stream",
     "text": [
      "acceptance rate:  0.256\n",
      "acceptance rate:  0.25836363636363635\n",
      "tensor([1.7474, 1.6815, 4.4255, 1.3317, 3.1433, 2.3679, 1.5157, 2.3889, 2.2466,\n",
      "        0.8770, 1.6213, 1.5380, 3.2391, 2.9767, 4.1075])\n",
      "tensor([ 4.7619,  3.4734, 22.2591,  8.9092, 92.4002, 53.4662, 27.0383, 27.0335,\n",
      "         4.8081, 68.5801,  3.5827, 64.8234, 95.0314, 40.5108, 42.0731])\n",
      "tensor([[ 3.,  6., 20., 10., 90., 55., 27., 27.,  4., 70.,  5., 66., 99., 40.,\n",
      "         45.]])\n",
      "tensor([[1., 1., 1., 1., 1., 1., 1., 1., 1., 1., 1., 1., 1., 1., 1.]])\n",
      "tensor([[ 2.0207,  3.5859, 10.3571,  0.6952,  6.1755,  2.6177,  0.2336,  1.4832,\n",
      "          1.5406,  1.0239,  1.3354,  0.9444, 11.4456,  2.9700, 10.8064]])\n"
     ]
    },
    {
     "data": {
      "application/vnd.jupyter.widget-view+json": {
       "model_id": "16f598646c2a4ab88d66fe87a2d09622",
       "version_major": 2,
       "version_minor": 0
      },
      "text/plain": [
       "Drawing 1000 posterior samples:   0%|          | 0/1000 [00:00<?, ?it/s]"
      ]
     },
     "metadata": {},
     "output_type": "display_data"
    },
    {
     "name": "stdout",
     "output_type": "stream",
     "text": [
      "acceptance rate:  0.876\n",
      "acceptance rate:  0.8738181818181818\n"
     ]
    },
    {
     "data": {
      "application/vnd.jupyter.widget-view+json": {
       "model_id": "9f71d50ad83748b59d166b4a1ce902d6",
       "version_major": 2,
       "version_minor": 0
      },
      "text/plain": [
       "Drawing 1000 posterior samples:   0%|          | 0/1000 [00:00<?, ?it/s]"
      ]
     },
     "metadata": {},
     "output_type": "display_data"
    },
    {
     "name": "stdout",
     "output_type": "stream",
     "text": [
      "acceptance rate:  0.868\n",
      "acceptance rate:  0.8728181818181818\n",
      "tensor([5.1241, 8.1092, 7.5107, 5.8908, 5.0814, 1.7640, 1.7429, 3.2250, 4.1615,\n",
      "        3.5216, 2.7873, 2.8858, 4.6890, 4.7002, 6.8776])\n",
      "tensor([16.7615, 34.2069, 17.4766, 21.0215, 88.8014, 51.5974, 28.2113, 17.7611,\n",
      "         9.2024, 65.6691, 15.8638, 71.6544, 89.8386, 38.9576, 36.5872])\n",
      "tensor([[ 3.,  6., 20., 10., 90., 55., 27., 27.,  4., 70.,  5., 66., 99., 40.,\n",
      "         45.]])\n",
      "tensor([[1., 1., 1., 1., 1., 1., 1., 1., 1., 1., 1., 1., 1., 1., 1.]])\n",
      "tensor([[105.6833, 428.1016,  28.8726,  75.8138,  11.5030,   6.2770,   1.1968,\n",
      "          46.2078,  20.2657,  13.8206,  61.3703,  18.5900,  50.9142,   9.5417,\n",
      "          56.6106]])\n"
     ]
    },
    {
     "data": {
      "application/vnd.jupyter.widget-view+json": {
       "model_id": "295a5dd43a5a430a93395811f680b896",
       "version_major": 2,
       "version_minor": 0
      },
      "text/plain": [
       "Drawing 1000 posterior samples:   0%|          | 0/1000 [00:00<?, ?it/s]"
      ]
     },
     "metadata": {},
     "output_type": "display_data"
    },
    {
     "name": "stdout",
     "output_type": "stream",
     "text": [
      "acceptance rate:  0.289\n",
      "acceptance rate:  0.28445454545454546\n"
     ]
    },
    {
     "data": {
      "application/vnd.jupyter.widget-view+json": {
       "model_id": "c13313dcf4f74d258fddfd12123dbbf8",
       "version_major": 2,
       "version_minor": 0
      },
      "text/plain": [
       "Drawing 1000 posterior samples:   0%|          | 0/1000 [00:00<?, ?it/s]"
      ]
     },
     "metadata": {},
     "output_type": "display_data"
    },
    {
     "name": "stdout",
     "output_type": "stream",
     "text": [
      "acceptance rate:  0.281\n",
      "acceptance rate:  0.2798181818181818\n",
      "tensor([2.6961, 4.5893, 8.2354, 2.2350, 3.0570, 1.8378, 2.2281, 3.8734, 1.4611,\n",
      "        2.4813, 1.4419, 3.3231, 3.2757, 2.3031, 9.3349])\n",
      "tensor([ 8.7966, 13.6290, 35.3953, 14.3061, 88.2915, 52.4477, 29.7532, 33.5788,\n",
      "         2.8992, 64.5426,  7.0321, 58.7146, 93.7598, 35.3351, 28.1689])\n",
      "tensor([[ 3.,  6., 20., 10., 90., 55., 27., 27.,  4., 70.,  5., 66., 99., 40.,\n",
      "         45.]])\n",
      "tensor([[1., 1., 1., 1., 1., 1., 1., 1., 1., 1., 1., 1., 1., 1., 1.]])\n",
      "tensor([[ 18.9431,  37.6076, 149.8097,  10.4648,   4.5148,   3.8372,   4.9711,\n",
      "          27.2880,   0.7941,  16.5614,   2.2382,  30.3589,  17.4087,  12.1986,\n",
      "         182.4786]])\n"
     ]
    },
    {
     "data": {
      "application/vnd.jupyter.widget-view+json": {
       "model_id": "b399275f96544a10b5d0f145115752bb",
       "version_major": 2,
       "version_minor": 0
      },
      "text/plain": [
       "Drawing 1000 posterior samples:   0%|          | 0/1000 [00:00<?, ?it/s]"
      ]
     },
     "metadata": {},
     "output_type": "display_data"
    },
    {
     "name": "stdout",
     "output_type": "stream",
     "text": [
      "acceptance rate:  0.554\n",
      "acceptance rate:  0.5346363636363637\n"
     ]
    },
    {
     "data": {
      "application/vnd.jupyter.widget-view+json": {
       "model_id": "6de8e0c478ab4590b73e735d75ba3fad",
       "version_major": 2,
       "version_minor": 0
      },
      "text/plain": [
       "Drawing 1000 posterior samples:   0%|          | 0/1000 [00:00<?, ?it/s]"
      ]
     },
     "metadata": {},
     "output_type": "display_data"
    },
    {
     "name": "stdout",
     "output_type": "stream",
     "text": [
      "acceptance rate:  0.541\n",
      "acceptance rate:  0.5483636363636364\n",
      "tensor([4.7348, 5.8662, 5.7764, 4.9620, 7.4149, 6.0517, 4.1854, 4.3405, 5.3141,\n",
      "        5.9650, 3.9618, 6.1244, 5.0383, 3.3251, 8.2646])\n",
      "tensor([ 9.7015, 16.5535, 11.0571, 14.4062, 65.2330, 44.6092, 24.9250, 25.6249,\n",
      "         9.1021, 85.8341,  7.9359, 81.3403, 82.5769, 36.5241, 34.7808])\n",
      "tensor([[ 3.,  6., 20., 10., 90., 55., 27., 27.,  4., 70.,  5., 66., 99., 40.,\n",
      "         45.]])\n",
      "tensor([[1., 1., 1., 1., 1., 1., 1., 1., 1., 1., 1., 1., 1., 1., 1.]])\n",
      "tensor([[ 31.6091,  70.6248,  54.4170,  19.9164, 331.6890,  69.9953,   8.9799,\n",
      "           8.3972,  24.9656, 140.8633,  10.2809, 134.1044, 145.4335,   9.8675,\n",
      "          83.7557]])\n"
     ]
    },
    {
     "data": {
      "application/vnd.jupyter.widget-view+json": {
       "model_id": "5faf80a8c2d04e91901a8fa450af48d7",
       "version_major": 2,
       "version_minor": 0
      },
      "text/plain": [
       "Drawing 1000 posterior samples:   0%|          | 0/1000 [00:00<?, ?it/s]"
      ]
     },
     "metadata": {},
     "output_type": "display_data"
    },
    {
     "name": "stdout",
     "output_type": "stream",
     "text": [
      "acceptance rate:  0.815\n",
      "acceptance rate:  0.7978181818181819\n"
     ]
    },
    {
     "data": {
      "application/vnd.jupyter.widget-view+json": {
       "model_id": "8316617b4d6949448ba59ae5d6d098b0",
       "version_major": 2,
       "version_minor": 0
      },
      "text/plain": [
       "Drawing 1000 posterior samples:   0%|          | 0/1000 [00:00<?, ?it/s]"
      ]
     },
     "metadata": {},
     "output_type": "display_data"
    },
    {
     "name": "stdout",
     "output_type": "stream",
     "text": [
      "acceptance rate:  0.799\n",
      "acceptance rate:  0.7962727272727272\n",
      "tensor([4.4980, 5.4081, 4.4470, 5.3117, 5.3775, 6.9656, 5.1816, 5.9066, 4.3314,\n",
      "        4.3548, 6.1371, 7.3688, 7.2232, 6.1349, 6.8327])\n",
      "tensor([17.1742, 13.1661, 13.0824, 21.4143, 90.7688, 31.7235, 12.5709, 42.4956,\n",
      "        16.3041, 67.2910, 12.1226, 44.0835, 76.0667, 35.1857, 18.9780])\n",
      "tensor([[ 3.,  6., 20., 10., 90., 55., 27., 27.,  4., 70.,  5., 66., 99., 40.,\n",
      "         45.]])\n",
      "tensor([[1., 1., 1., 1., 1., 1., 1., 1., 1., 1., 1., 1., 1., 1., 1.]])\n",
      "tensor([[108.5670,  38.1125,  31.8219,  77.0800,  12.5719, 292.7166, 115.3791,\n",
      "         135.2241,  83.1102,  11.1799,  41.8833, 264.8195, 286.5773,  28.0929,\n",
      "         359.4928]])\n"
     ]
    },
    {
     "data": {
      "application/vnd.jupyter.widget-view+json": {
       "model_id": "f7d6e29771a042d0b1470009c29f30bd",
       "version_major": 2,
       "version_minor": 0
      },
      "text/plain": [
       "Drawing 1000 posterior samples:   0%|          | 0/1000 [00:00<?, ?it/s]"
      ]
     },
     "metadata": {},
     "output_type": "display_data"
    },
    {
     "name": "stdout",
     "output_type": "stream",
     "text": [
      "acceptance rate:  0.695\n",
      "acceptance rate:  0.6973636363636364\n"
     ]
    },
    {
     "data": {
      "application/vnd.jupyter.widget-view+json": {
       "model_id": "0bc678a0dd0e49d49ee0c3f7e6cbde89",
       "version_major": 2,
       "version_minor": 0
      },
      "text/plain": [
       "Drawing 1000 posterior samples:   0%|          | 0/1000 [00:00<?, ?it/s]"
      ]
     },
     "metadata": {},
     "output_type": "display_data"
    },
    {
     "name": "stdout",
     "output_type": "stream",
     "text": [
      "acceptance rate:  0.725\n",
      "acceptance rate:  0.7068181818181818\n",
      "tensor([7.9682, 8.8645, 3.5493, 3.8184, 5.7858, 5.3965, 2.3638, 6.1326, 9.1653,\n",
      "        4.1957, 7.2593, 5.4621, 2.9773, 6.2513, 7.2200])\n",
      "tensor([15.3210, 20.9434, 17.5061,  9.5414, 83.7147, 61.4003, 15.3138, 41.5580,\n",
      "        27.2941, 66.6445, 24.7050, 89.9147, 94.7464, 47.7388, 66.7682])\n",
      "tensor([[ 3.,  6., 20., 10., 90., 55., 27., 27.,  4., 70.,  5., 66., 99., 40.,\n",
      "         45.]])\n",
      "tensor([[1., 1., 1., 1., 1., 1., 1., 1., 1., 1., 1., 1., 1., 1., 1.]])\n",
      "tensor([[105.0735, 148.2600,   7.6417,   5.5556,  34.2350,  32.8575,  69.7171,\n",
      "         122.4584, 310.5943,  12.4975, 218.0105, 298.6757,  11.8878,  47.1512,\n",
      "         260.5138]])\n"
     ]
    },
    {
     "data": {
      "application/vnd.jupyter.widget-view+json": {
       "model_id": "b491d14029c344e78cb70428b794f96f",
       "version_major": 2,
       "version_minor": 0
      },
      "text/plain": [
       "Drawing 1000 posterior samples:   0%|          | 0/1000 [00:00<?, ?it/s]"
      ]
     },
     "metadata": {},
     "output_type": "display_data"
    },
    {
     "name": "stdout",
     "output_type": "stream",
     "text": [
      "acceptance rate:  0.327\n",
      "acceptance rate:  0.3370909090909091\n"
     ]
    },
    {
     "data": {
      "application/vnd.jupyter.widget-view+json": {
       "model_id": "70de6e58b066430b85a968fd337f9817",
       "version_major": 2,
       "version_minor": 0
      },
      "text/plain": [
       "Drawing 1000 posterior samples:   0%|          | 0/1000 [00:00<?, ?it/s]"
      ]
     },
     "metadata": {},
     "output_type": "display_data"
    },
    {
     "name": "stdout",
     "output_type": "stream",
     "text": [
      "acceptance rate:  0.316\n",
      "acceptance rate:  0.33036363636363636\n",
      "tensor([5.3821, 3.3463, 4.1622, 4.3300, 3.0321, 3.2363, 4.8902, 2.1480, 4.2300,\n",
      "        5.1135, 2.1635, 2.9602, 3.4296, 8.3012, 4.5590])\n",
      "tensor([ 9.2066,  5.8611,  6.7836, 16.2599, 92.5691, 54.3533, 32.5912, 28.1327,\n",
      "        10.4337, 53.5863,  8.0677, 57.6147, 90.4254, 23.3206, 42.8907])\n",
      "tensor([[ 3.,  6., 20., 10., 90., 55., 27., 27.,  4., 70.,  5., 66., 99., 40.,\n",
      "         45.]])\n",
      "tensor([[1., 1., 1., 1., 1., 1., 1., 1., 1., 1., 1., 1., 1., 1., 1.]])\n",
      "tensor([[ 31.5610,   3.9008,  94.0722,  27.0019,   6.2877,   3.7714,  25.5008,\n",
      "           1.6839,  27.7005, 145.6472,   5.7740,  37.9523,  40.9105, 170.9387,\n",
      "          10.5996]])\n"
     ]
    },
    {
     "data": {
      "application/vnd.jupyter.widget-view+json": {
       "model_id": "309985fd034f45a996acb53384906cd0",
       "version_major": 2,
       "version_minor": 0
      },
      "text/plain": [
       "Drawing 1000 posterior samples:   0%|          | 0/1000 [00:00<?, ?it/s]"
      ]
     },
     "metadata": {},
     "output_type": "display_data"
    },
    {
     "name": "stdout",
     "output_type": "stream",
     "text": [
      "acceptance rate:  0.03\n",
      "acceptance rate:  0.025272727272727273\n",
      "acceptance rate:  0.025761904761904764\n",
      "acceptance rate:  0.025870967741935483\n",
      "acceptance rate:  0.02670731707317073\n"
     ]
    },
    {
     "data": {
      "application/vnd.jupyter.widget-view+json": {
       "model_id": "3abf80f53035454c9a389b1befd475d7",
       "version_major": 2,
       "version_minor": 0
      },
      "text/plain": [
       "Drawing 1000 posterior samples:   0%|          | 0/1000 [00:00<?, ?it/s]"
      ]
     },
     "metadata": {},
     "output_type": "display_data"
    },
    {
     "name": "stdout",
     "output_type": "stream",
     "text": [
      "acceptance rate:  0.023\n",
      "acceptance rate:  0.029\n",
      "acceptance rate:  0.02795238095238095\n",
      "acceptance rate:  0.027903225806451614\n",
      "acceptance rate:  0.02678048780487805\n",
      "tensor([1.3789, 3.6904, 1.9703, 2.6971, 1.7949, 2.2095, 4.3877, 3.8149, 1.4116,\n",
      "        2.0531, 1.7787, 0.7945, 1.7543, 1.9567, 6.7445])\n",
      "tensor([ 3.0216,  7.7363, 19.4914,  7.9413, 90.3755, 53.2416, 21.3744, 23.8305,\n",
      "         5.2776, 67.2465,  6.6844, 63.8754, 97.2920, 37.4076, 53.3832])\n",
      "tensor([[ 3.,  6., 20., 10., 90., 55., 27., 27.,  4., 70.,  5., 66., 99., 40.,\n",
      "         45.]])\n",
      "tensor([[1., 1., 1., 1., 1., 1., 1., 1., 1., 1., 1., 1., 1., 1., 1.]])\n",
      "tensor([[ 0.1296,  6.5112,  0.8921,  4.2639,  0.5964,  2.6941, 23.4711, 10.4607,\n",
      "          0.9677,  4.6791,  1.9246,  2.3026,  1.9353,  4.1032, 55.4742]])\n"
     ]
    },
    {
     "data": {
      "application/vnd.jupyter.widget-view+json": {
       "model_id": "e945e2f0f57749d1a2cae087c31574d0",
       "version_major": 2,
       "version_minor": 0
      },
      "text/plain": [
       "Drawing 1000 posterior samples:   0%|          | 0/1000 [00:00<?, ?it/s]"
      ]
     },
     "metadata": {},
     "output_type": "display_data"
    },
    {
     "name": "stdout",
     "output_type": "stream",
     "text": [
      "acceptance rate:  0.441\n",
      "acceptance rate:  0.46354545454545454\n"
     ]
    },
    {
     "data": {
      "application/vnd.jupyter.widget-view+json": {
       "model_id": "9b9bf422aa114173a76588e8f5f4c424",
       "version_major": 2,
       "version_minor": 0
      },
      "text/plain": [
       "Drawing 1000 posterior samples:   0%|          | 0/1000 [00:00<?, ?it/s]"
      ]
     },
     "metadata": {},
     "output_type": "display_data"
    },
    {
     "name": "stdout",
     "output_type": "stream",
     "text": [
      "acceptance rate:  0.489\n",
      "acceptance rate:  0.4632727272727273\n",
      "tensor([ 2.5550,  6.5413, 10.8376,  6.3007,  4.8502,  3.5529,  2.0171,  1.1097,\n",
      "        11.8205,  1.8613,  2.2730,  3.2966,  1.2045,  2.2400,  3.2632])\n",
      "tensor([11.6744, 19.4968, 19.0263, 20.1433, 81.9899, 52.7705, 27.8816, 25.5581,\n",
      "        28.2347, 64.4414,  8.3296, 71.9227, 98.3650, 34.8976, 34.6057])\n",
      "tensor([[ 3.,  6., 20., 10., 90., 55., 27., 27.,  4., 70.,  5., 66., 99., 40.,\n",
      "         45.]])\n",
      "tensor([[1., 1., 1., 1., 1., 1., 1., 1., 1., 1., 1., 1., 1., 1., 1.]])\n",
      "tensor([[3.9449e+01, 1.1010e+02, 5.6317e+01, 6.8952e+01, 4.1764e+01, 7.0292e+00,\n",
      "         1.2213e+00, 1.0512e+00, 3.6055e+02, 1.6060e+01, 6.8054e+00, 2.1280e+01,\n",
      "         2.4095e-01, 1.4219e+01, 5.7663e+01]])\n"
     ]
    },
    {
     "data": {
      "application/vnd.jupyter.widget-view+json": {
       "model_id": "e864ac2e787e4e48a44a3f7026e9b34e",
       "version_major": 2,
       "version_minor": 0
      },
      "text/plain": [
       "Drawing 1000 posterior samples:   0%|          | 0/1000 [00:00<?, ?it/s]"
      ]
     },
     "metadata": {},
     "output_type": "display_data"
    },
    {
     "name": "stdout",
     "output_type": "stream",
     "text": [
      "acceptance rate:  0.067\n",
      "acceptance rate:  0.058545454545454546\n",
      "acceptance rate:  0.05838095238095238\n"
     ]
    },
    {
     "data": {
      "application/vnd.jupyter.widget-view+json": {
       "model_id": "c5fdaa2477004f68a935843d81af2fcb",
       "version_major": 2,
       "version_minor": 0
      },
      "text/plain": [
       "Drawing 1000 posterior samples:   0%|          | 0/1000 [00:00<?, ?it/s]"
      ]
     },
     "metadata": {},
     "output_type": "display_data"
    },
    {
     "name": "stdout",
     "output_type": "stream",
     "text": [
      "acceptance rate:  0.063\n",
      "acceptance rate:  0.06072727272727273\n",
      "acceptance rate:  0.062285714285714285\n",
      "tensor([3.8596, 7.7734, 5.7908, 3.6133, 4.5541, 6.3925, 5.1114, 4.5330, 4.2000,\n",
      "        8.9008, 1.4068, 5.8070, 6.0706, 4.0407, 5.2894])\n",
      "tensor([ 8.4997, 22.3821, 13.4648, 15.4197, 90.3528, 54.6427, 10.9875, 33.4083,\n",
      "        10.9426, 70.6037,  2.6111, 60.0392, 81.3924, 50.0389, 47.0603])\n",
      "tensor([[ 3.,  6., 20., 10., 90., 55., 27., 27.,  4., 70.,  5., 66., 99., 40.,\n",
      "         45.]])\n",
      "tensor([[1., 1., 1., 1., 1., 1., 1., 1., 1., 1., 1., 1., 1., 1., 1.]])\n",
      "tensor([[ 20.7210, 161.8490,  35.8646,  19.4297,   8.4163,  18.1410, 139.1314,\n",
      "          28.7959,  30.9848,  37.1082,   3.0015,  32.3673, 171.1355,  56.6573,\n",
      "          13.9453]])\n"
     ]
    },
    {
     "data": {
      "application/vnd.jupyter.widget-view+json": {
       "model_id": "d549d33e9fbc4084a3b23b348b87ec75",
       "version_major": 2,
       "version_minor": 0
      },
      "text/plain": [
       "Drawing 1000 posterior samples:   0%|          | 0/1000 [00:00<?, ?it/s]"
      ]
     },
     "metadata": {},
     "output_type": "display_data"
    },
    {
     "name": "stdout",
     "output_type": "stream",
     "text": [
      "acceptance rate:  0.008\n",
      "acceptance rate:  0.012090909090909091\n",
      "acceptance rate:  0.01180952380952381\n",
      "acceptance rate:  0.011709677419354839\n",
      "acceptance rate:  0.011560975609756097\n",
      "acceptance rate:  0.011176470588235295\n",
      "acceptance rate:  0.011245901639344262\n",
      "acceptance rate:  0.011126760563380281\n",
      "acceptance rate:  0.010901234567901234\n",
      "acceptance rate:  0.010615384615384615\n",
      "acceptance rate:  0.010405940594059407\n"
     ]
    },
    {
     "data": {
      "application/vnd.jupyter.widget-view+json": {
       "model_id": "5e9b16348d064386b74c4703f0008b18",
       "version_major": 2,
       "version_minor": 0
      },
      "text/plain": [
       "Drawing 1000 posterior samples:   0%|          | 0/1000 [00:00<?, ?it/s]"
      ]
     },
     "metadata": {},
     "output_type": "display_data"
    },
    {
     "name": "stdout",
     "output_type": "stream",
     "text": [
      "acceptance rate:  0.006\n",
      "acceptance rate:  0.010727272727272728\n",
      "acceptance rate:  0.011476190476190477\n",
      "acceptance rate:  0.01135483870967742\n",
      "acceptance rate:  0.011048780487804877\n",
      "acceptance rate:  0.010666666666666666\n",
      "acceptance rate:  0.010426229508196721\n",
      "acceptance rate:  0.010507042253521127\n",
      "acceptance rate:  0.010592592592592593\n",
      "acceptance rate:  0.010758241758241758\n",
      "acceptance rate:  0.01085148514851485\n",
      "tensor([1.2342, 2.9303, 4.7365, 1.9670, 1.1575, 2.2423, 1.5063, 3.7082, 1.7599,\n",
      "        1.8226, 1.1047, 1.6927, 1.7725, 0.7438, 1.7129])\n",
      "tensor([ 2.4030,  7.8341, 16.9845, 13.2353, 88.2573, 55.8786, 26.2457, 23.8877,\n",
      "         8.3398, 66.0067,  2.3002, 64.1215, 97.6913, 40.8775, 48.3315])\n",
      "tensor([[ 3.,  6., 20., 10., 90., 55., 27., 27.,  4., 70.,  5., 66., 99., 40.,\n",
      "         45.]])\n",
      "tensor([[1., 1., 1., 1., 1., 1., 1., 1., 1., 1., 1., 1., 1., 1., 1.]])\n",
      "tensor([[ 0.2294,  4.4003, 13.7087,  5.9918,  1.5422,  1.5924,  0.5093,  9.9080,\n",
      "          9.9005,  8.5338,  3.6550,  2.1708,  1.3548,  0.4576,  5.9783]])\n"
     ]
    },
    {
     "data": {
      "application/vnd.jupyter.widget-view+json": {
       "model_id": "59071c7bbfdd414da4d0d3dfdf09a958",
       "version_major": 2,
       "version_minor": 0
      },
      "text/plain": [
       "Drawing 1000 posterior samples:   0%|          | 0/1000 [00:00<?, ?it/s]"
      ]
     },
     "metadata": {},
     "output_type": "display_data"
    },
    {
     "name": "stdout",
     "output_type": "stream",
     "text": [
      "acceptance rate:  0.58\n",
      "acceptance rate:  0.5835454545454546\n"
     ]
    },
    {
     "data": {
      "application/vnd.jupyter.widget-view+json": {
       "model_id": "0a9433a9ef584a4fafc77fec0999a220",
       "version_major": 2,
       "version_minor": 0
      },
      "text/plain": [
       "Drawing 1000 posterior samples:   0%|          | 0/1000 [00:00<?, ?it/s]"
      ]
     },
     "metadata": {},
     "output_type": "display_data"
    },
    {
     "name": "stdout",
     "output_type": "stream",
     "text": [
      "acceptance rate:  0.579\n",
      "acceptance rate:  0.5816363636363636\n",
      "tensor([0.9594, 2.1420, 5.1609, 3.9616, 2.4761, 4.5428, 5.1084, 4.2124, 3.7991,\n",
      "        0.8956, 4.8870, 2.4020, 2.5715, 2.4153, 5.1741])\n",
      "tensor([ 2.9334,  6.5288, 19.8069,  9.4692, 96.3671, 65.4087, 19.7230, 36.5993,\n",
      "        14.5230, 71.5738, 17.6592, 58.4403, 95.8255, 39.1867, 36.9118])\n",
      "tensor([[ 3.,  6., 20., 10., 90., 55., 27., 27.,  4., 70.,  5., 66., 99., 40.,\n",
      "         45.]])\n",
      "tensor([[1., 1., 1., 1., 1., 1., 1., 1., 1., 1., 1., 1., 1., 1., 1.]])\n",
      "tensor([[3.8935e-03, 1.1722e+00, 1.1195e+01, 6.1112e+00, 2.1929e+01, 6.2475e+01,\n",
      "         3.7394e+01, 5.3008e+01, 6.0748e+01, 1.2497e+00, 8.9983e+01, 3.0083e+01,\n",
      "         6.9006e+00, 1.8658e+00, 4.3951e+01]])\n"
     ]
    },
    {
     "data": {
      "application/vnd.jupyter.widget-view+json": {
       "model_id": "715e924a1fa04b7f9bfc4f1cc07ebf1a",
       "version_major": 2,
       "version_minor": 0
      },
      "text/plain": [
       "Drawing 1000 posterior samples:   0%|          | 0/1000 [00:00<?, ?it/s]"
      ]
     },
     "metadata": {},
     "output_type": "display_data"
    },
    {
     "name": "stderr",
     "output_type": "stream",
     "text": [
      "WARNING:root:Drawing samples from posterior to estimate the normalizing\n",
      "                        constant for `log_prob()`. However, only\n",
      "                        0% posterior samples are within the\n",
      "                        prior support. It may take a long time to collect the\n",
      "                        remaining 994 samples.\n",
      "                        Consider interrupting (Ctrl-C) and either basing the\n",
      "                        estimate of the normalizing constant on fewer samples (by\n",
      "                        calling `posterior.leakage_correction(x_o,\n",
      "                        num_rejection_samples=N)`, where `N` is the number of\n",
      "                        samples you want to base the\n",
      "                        estimate on (default N=10000), or not estimating the\n",
      "                        normalizing constant at all\n",
      "                        (`log_prob(..., norm_posterior=False)`. The latter will\n",
      "                        result in an unnormalized `log_prob()`.\n"
     ]
    },
    {
     "name": "stdout",
     "output_type": "stream",
     "text": [
      "acceptance rate:  0.001\n",
      "acceptance rate:  0.0005454545454545455\n",
      "acceptance rate:  0.0004761904761904762\n",
      "acceptance rate:  0.0005806451612903225\n",
      "acceptance rate:  0.0005121951219512195\n",
      "acceptance rate:  0.0005098039215686275\n",
      "acceptance rate:  0.00047540983606557375\n",
      "acceptance rate:  0.00043661971830985915\n",
      "acceptance rate:  0.0004320987654320988\n",
      "acceptance rate:  0.0004175824175824176\n",
      "acceptance rate:  0.0004059405940594059\n",
      "acceptance rate:  0.0004144144144144144\n",
      "acceptance rate:  0.0004214876033057851\n",
      "acceptance rate:  0.00044274809160305345\n",
      "acceptance rate:  0.00043262411347517733\n",
      "acceptance rate:  0.000423841059602649\n",
      "acceptance rate:  0.0004347826086956522\n",
      "acceptance rate:  0.0004152046783625731\n",
      "acceptance rate:  0.0004143646408839779\n",
      "acceptance rate:  0.00040837696335078533\n",
      "acceptance rate:  0.0003980099502487562\n",
      "acceptance rate:  0.0003886255924170616\n",
      "acceptance rate:  0.00039819004524886876\n",
      "acceptance rate:  0.00041125541125541126\n",
      "acceptance rate:  0.00042323651452282155\n",
      "acceptance rate:  0.0004223107569721116\n",
      "acceptance rate:  0.00041762452107279696\n",
      "acceptance rate:  0.0004095940959409594\n",
      "acceptance rate:  0.0004128113879003559\n",
      "acceptance rate:  0.0004089347079037801\n",
      "acceptance rate:  0.0004053156146179402\n",
      "acceptance rate:  0.00040192926045016077\n",
      "acceptance rate:  0.0003956386292834891\n",
      "acceptance rate:  0.00039577039274924473\n",
      "acceptance rate:  0.0003900293255131965\n",
      "acceptance rate:  0.0003846153846153846\n",
      "acceptance rate:  0.0003822714681440443\n",
      "acceptance rate:  0.0003773584905660377\n",
      "acceptance rate:  0.0003779527559055118\n",
      "acceptance rate:  0.0003759590792838875\n",
      "acceptance rate:  0.0003740648379052369\n",
      "acceptance rate:  0.00037226277372262774\n",
      "acceptance rate:  0.0003657957244655582\n",
      "acceptance rate:  0.0003758700696055684\n",
      "acceptance rate:  0.00037188208616780046\n",
      "acceptance rate:  0.00037472283813747226\n",
      "acceptance rate:  0.0003709327548806941\n",
      "acceptance rate:  0.00036305732484076433\n",
      "acceptance rate:  0.0003596673596673597\n",
      "acceptance rate:  0.0003564154786150713\n",
      "acceptance rate:  0.00035728542914171657\n",
      "acceptance rate:  0.0003600782778864971\n",
      "acceptance rate:  0.00035508637236084453\n",
      "acceptance rate:  0.0003559322033898305\n",
      "acceptance rate:  0.00035859519408502774\n",
      "acceptance rate:  0.00035390199637023594\n",
      "acceptance rate:  0.00035294117647058826\n",
      "acceptance rate:  0.0003520140105078809\n",
      "acceptance rate:  0.000351118760757315\n",
      "acceptance rate:  0.00035025380710659897\n",
      "acceptance rate:  0.0003494176372712146\n",
      "acceptance rate:  0.0003518821603927987\n",
      "acceptance rate:  0.00035587761674718197\n",
      "acceptance rate:  0.00035340729001584784\n",
      "acceptance rate:  0.00034945397815912635\n",
      "acceptance rate:  0.0003471582181259601\n",
      "acceptance rate:  0.00034341906202723147\n",
      "acceptance rate:  0.0003427719821162444\n",
      "acceptance rate:  0.00034361233480176214\n",
      "acceptance rate:  0.0003444283646888567\n",
      "acceptance rate:  0.00034522111269614836\n",
      "acceptance rate:  0.00034458509142053445\n",
      "acceptance rate:  0.0003439667128987517\n",
      "acceptance rate:  0.000347469220246238\n",
      "acceptance rate:  0.0003468286099865047\n",
      "acceptance rate:  0.00034753661784287616\n",
      "acceptance rate:  0.00034822601839684626\n",
      "acceptance rate:  0.0003488975356679637\n",
      "acceptance rate:  0.00035083226632522406\n",
      "acceptance rate:  0.00034892541087231353\n",
      "acceptance rate:  0.000348314606741573\n",
      "acceptance rate:  0.00034895191122071516\n",
      "acceptance rate:  0.0003483556638246041\n",
      "acceptance rate:  0.0003477737665463297\n",
      "acceptance rate:  0.0003448275862068965\n",
      "acceptance rate:  0.0003466509988249119\n",
      "acceptance rate:  0.0003449477351916376\n",
      "acceptance rate:  0.00034328358208955223\n",
      "acceptance rate:  0.0003416572077185017\n",
      "acceptance rate:  0.00034231200897867566\n",
      "acceptance rate:  0.000341842397336293\n",
      "acceptance rate:  0.0003446761800219539\n",
      "acceptance rate:  0.00034527687296416937\n",
      "acceptance rate:  0.0003469387755102041\n",
      "acceptance rate:  0.00034856535600425077\n",
      "acceptance rate:  0.0003491062039957939\n",
      "acceptance rate:  0.00034755463059313215\n",
      "acceptance rate:  0.0003480947476828012\n",
      "acceptance rate:  0.0003476044852191641\n",
      "acceptance rate:  0.0003481331987891019\n",
      "acceptance rate:  0.00034765234765234766\n",
      "acceptance rate:  0.00034817012858555884\n",
      "acceptance rate:  0.000346718903036239\n",
      "acceptance rate:  0.0003472356935014549\n",
      "acceptance rate:  0.00034390009606147937\n",
      "acceptance rate:  0.0003434823977164605\n",
      "acceptance rate:  0.0003430725730442978\n",
      "acceptance rate:  0.00034173669467787114\n",
      "acceptance rate:  0.0003432007400555042\n",
      "acceptance rate:  0.0003437213565536205\n",
      "acceptance rate:  0.0003442325158946412\n",
      "acceptance rate:  0.00034383438343834385\n",
      "acceptance rate:  0.00034522747546833184\n",
      "acceptance rate:  0.00034571175950486293\n",
      "acceptance rate:  0.0003444347063978966\n",
      "acceptance rate:  0.00034404865334491746\n",
      "acceptance rate:  0.00034194659776055127\n",
      "acceptance rate:  0.00034415029888983773\n",
      "acceptance rate:  0.00034123624047417445\n",
      "acceptance rate:  0.0003425692695214106\n",
      "acceptance rate:  0.00034138218151540383\n",
      "acceptance rate:  0.0003402146985962015\n",
      "acceptance rate:  0.0003407043407043407\n",
      "acceptance rate:  0.0003379366368805849\n",
      "acceptance rate:  0.0003392425463336019\n",
      "acceptance rate:  0.0003389288569144684\n",
      "acceptance rate:  0.00034099920697858844\n",
      "acceptance rate:  0.0003414634146341463\n",
      "acceptance rate:  0.0003411397345823575\n",
      "acceptance rate:  0.0003384972889233153\n",
      "acceptance rate:  0.00033820138355111453\n",
      "acceptance rate:  0.00033867276887871855\n",
      "acceptance rate:  0.00033762301286903863\n",
      "acceptance rate:  0.0003388429752066116\n",
      "acceptance rate:  0.00034079045488441464\n",
      "acceptance rate:  0.0003397483345669874\n",
      "acceptance rate:  0.00033945628214548126\n",
      "acceptance rate:  0.00033989788475565283\n",
      "acceptance rate:  0.0003417813178855902\n",
      "acceptance rate:  0.0003436376707404745\n",
      "acceptance rate:  0.0003433261955745896\n",
      "acceptance rate:  0.0003437278525868179\n",
      "acceptance rate:  0.00034412385643912735\n",
      "acceptance rate:  0.0003424178895877009\n",
      "acceptance rate:  0.0003421235253296322\n",
      "acceptance rate:  0.00034321157822191594\n",
      "acceptance rate:  0.0003429158110882957\n",
      "acceptance rate:  0.0003439836845683209\n",
      "acceptance rate:  0.0003436866981769075\n",
      "acceptance rate:  0.0003454057679409792\n",
      "acceptance rate:  0.00034510326449033976\n",
      "acceptance rate:  0.00034877564526803443\n",
      "acceptance rate:  0.0003484549638395792\n",
      "acceptance rate:  0.000348791639451339\n",
      "acceptance rate:  0.00034717715768981184\n",
      "acceptance rate:  0.0003481624758220503\n",
      "acceptance rate:  0.0003484945547725817\n",
      "acceptance rate:  0.0003475493316359007\n",
      "acceptance rate:  0.00034661606578115115\n",
      "acceptance rate:  0.00034506599622878694\n",
      "acceptance rate:  0.00034415990006246095\n",
      "acceptance rate:  0.00034636871508379887\n",
      "acceptance rate:  0.00034484885872917954\n",
      "acceptance rate:  0.00034457388105456777\n",
      "acceptance rate:  0.0003449116392443632\n",
      "acceptance rate:  0.00034463961235614777\n",
      "acceptance rate:  0.0003437688139674895\n",
      "acceptance rate:  0.0003429084380610413\n",
      "acceptance rate:  0.0003432480666270077\n",
      "acceptance rate:  0.00034299231224127735\n",
      "acceptance rate:  0.0003421516754850088\n",
      "acceptance rate:  0.0003413208649912332\n",
      "acceptance rate:  0.00034166182452062755\n",
      "acceptance rate:  0.000341421143847487\n",
      "acceptance rate:  0.0003411832280298679\n",
      "acceptance rate:  0.00033980582524271844\n",
      "acceptance rate:  0.0003401476433844407\n",
      "acceptance rate:  0.000339356295878035\n",
      "acceptance rate:  0.00033857383492419987\n",
      "acceptance rate:  0.00033780011166945843\n",
      "acceptance rate:  0.0003381454747362576\n",
      "acceptance rate:  0.00033793484262838213\n",
      "acceptance rate:  0.0003371773750686436\n",
      "acceptance rate:  0.0003353358820316767\n",
      "acceptance rate:  0.0003356871265616513\n",
      "acceptance rate:  0.0003365748244192328\n",
      "acceptance rate:  0.00033745298226759806\n",
      "acceptance rate:  0.0003367183324425441\n",
      "acceptance rate:  0.00033545986177565125\n",
      "acceptance rate:  0.0003347435219460603\n",
      "acceptance rate:  0.0003350867964229353\n",
      "acceptance rate:  0.00033437990580847726\n",
      "acceptance rate:  0.0003331598125976054\n",
      "acceptance rate:  0.0003340238218539617\n",
      "acceptance rate:  0.00033384853168469863\n",
      "acceptance rate:  0.00033521271143003586\n",
      "acceptance rate:  0.00033452320244773076\n",
      "acceptance rate:  0.00033637747336377473\n",
      "acceptance rate:  0.00033720343260979304\n",
      "acceptance rate:  0.0003360120542440984\n",
      "acceptance rate:  0.0003363318340829585\n",
      "acceptance rate:  0.0003371456986573844\n",
      "acceptance rate:  0.0003359722909450767\n",
      "acceptance rate:  0.0003348104382077794\n"
     ]
    },
    {
     "name": "stdout",
     "output_type": "stream",
     "text": [
      "acceptance rate:  0.00033463988241058304\n",
      "acceptance rate:  0.00033447098976109216\n",
      "acceptance rate:  0.00033478893740902473\n",
      "acceptance rate:  0.0003351038145823274\n",
      "acceptance rate:  0.0003344545891398366\n",
      "acceptance rate:  0.00033428981348637015\n",
      "acceptance rate:  0.00033317467872441694\n",
      "acceptance rate:  0.00033349123638086215\n",
      "acceptance rate:  0.00033286185761433285\n",
      "acceptance rate:  0.000333176912247771\n",
      "acceptance rate:  0.00033208780943484354\n",
      "acceptance rate:  0.00033193863319386333\n",
      "acceptance rate:  0.00033271633503007865\n",
      "acceptance rate:  0.0003325656379548595\n",
      "acceptance rate:  0.00033195781751490144\n",
      "acceptance rate:  0.0003313555454130534\n",
      "acceptance rate:  0.00033257610177192184\n",
      "acceptance rate:  0.0003319764812302126\n",
      "acceptance rate:  0.00033228275551553353\n",
      "acceptance rate:  0.0003334827431645002\n",
      "acceptance rate:  0.00033377956269522535\n",
      "acceptance rate:  0.0003349622390048867\n",
      "acceptance rate:  0.0003361344537815126\n",
      "acceptance rate:  0.0003350946719506825\n",
      "acceptance rate:  0.00033494081543182817\n",
      "acceptance rate:  0.0003360977738978612\n",
      "acceptance rate:  0.0003350717079530639\n",
      "acceptance rate:  0.0003349199480744267\n",
      "acceptance rate:  0.00033390779836277464\n",
      "acceptance rate:  0.0003333333333333333\n",
      "acceptance rate:  0.00033447244767193505\n",
      "acceptance rate:  0.0003343258188005104\n",
      "acceptance rate:  0.0003346039813638289\n",
      "acceptance rate:  0.0003344580345845635\n",
      "acceptance rate:  0.0003347333053338933\n",
      "acceptance rate:  0.00033500627352572144\n",
      "acceptance rate:  0.00033527696793002917\n",
      "acceptance rate:  0.00033637494815429283\n",
      "acceptance rate:  0.00033498554316398183\n",
      "acceptance rate:  0.00033401892225421635\n",
      "acceptance rate:  0.00033469889389594427\n",
      "acceptance rate:  0.00033414932680538554\n",
      "acceptance rate:  0.000333604225924421\n",
      "acceptance rate:  0.0003330635370295427\n",
      "acceptance rate:  0.00033373639661426845\n",
      "acceptance rate:  0.0003344038538739462\n",
      "acceptance rate:  0.00033546581367453017\n",
      "acceptance rate:  0.000336121067303863\n",
      "acceptance rate:  0.0003375644585481952\n",
      "acceptance rate:  0.00033702094033978666\n",
      "acceptance rate:  0.00033687524596615504\n",
      "acceptance rate:  0.0003359466875735006\n",
      "acceptance rate:  0.00033541585318235066\n",
      "acceptance rate:  0.0003352781019058732\n",
      "acceptance rate:  0.00033707865168539324\n",
      "acceptance rate:  0.00033693554612118876\n",
      "acceptance rate:  0.00033794694348327566\n",
      "acceptance rate:  0.00033741861355802375\n",
      "acceptance rate:  0.00033651278138115224\n",
      "acceptance rate:  0.0003363740022805017\n",
      "acceptance rate:  0.00033737220749716014\n",
      "acceptance rate:  0.00033798566578649566\n",
      "acceptance rate:  0.0003370913190529876\n",
      "acceptance rate:  0.0003373268438786971\n",
      "acceptance rate:  0.0003368146214099217\n",
      "acceptance rate:  0.00033704942400594577\n",
      "acceptance rate:  0.0003369122547204739\n",
      "acceptance rate:  0.0003364072298045002\n",
      "acceptance rate:  0.000336640940830577\n",
      "acceptance rate:  0.00033614060783595753\n",
      "acceptance rate:  0.0003352790952207224\n",
      "acceptance rate:  0.00033406034169392945\n",
      "acceptance rate:  0.00033321260412893876\n",
      "acceptance rate:  0.00033345362684951283\n",
      "acceptance rate:  0.00033369291621718807\n",
      "acceptance rate:  0.000333213901827302\n",
      "acceptance rate:  0.00033488039985719387\n",
      "acceptance rate:  0.00033404482390608325\n",
      "acceptance rate:  0.00033392414037575327\n",
      "acceptance rate:  0.0003345107735782409\n",
      "acceptance rate:  0.0003350932770151355\n",
      "acceptance rate:  0.0003342686776569625\n",
      "acceptance rate:  0.00033379937084935336\n",
      "acceptance rate:  0.0003336816440264716\n",
      "acceptance rate:  0.0003346060395695939\n",
      "acceptance rate:  0.00033414043583535107\n",
      "acceptance rate:  0.0003333333333333333\n",
      "acceptance rate:  0.00033321882514599795\n",
      "acceptance rate:  0.0003337897980143786\n",
      "acceptance rate:  0.00033367451381780965\n",
      "acceptance rate:  0.0003342400544032642\n",
      "acceptance rate:  0.00033446289393425957\n",
      "acceptance rate:  0.0003343465045592705\n",
      "acceptance rate:  0.00033389431167956914\n",
      "acceptance rate:  0.0003334451526333445\n",
      "acceptance rate:  0.00033366766967569375\n",
      "acceptance rate:  0.0003332222592469177\n"
     ]
    },
    {
     "data": {
      "application/vnd.jupyter.widget-view+json": {
       "model_id": "55373fa5bac64d66bd41fb160e404074",
       "version_major": 2,
       "version_minor": 0
      },
      "text/plain": [
       "Drawing 1000 posterior samples:   0%|          | 0/1000 [00:00<?, ?it/s]"
      ]
     },
     "metadata": {},
     "output_type": "display_data"
    },
    {
     "name": "stdout",
     "output_type": "stream",
     "text": [
      "acceptance rate:  0.002\n"
     ]
    },
    {
     "name": "stderr",
     "output_type": "stream",
     "text": [
      "WARNING:root:Drawing samples from posterior to estimate the normalizing\n",
      "                        constant for `log_prob()`. However, only\n",
      "                        0% posterior samples are within the\n",
      "                        prior support. It may take a long time to collect the\n",
      "                        remaining 994 samples.\n",
      "                        Consider interrupting (Ctrl-C) and either basing the\n",
      "                        estimate of the normalizing constant on fewer samples (by\n",
      "                        calling `posterior.leakage_correction(x_o,\n",
      "                        num_rejection_samples=N)`, where `N` is the number of\n",
      "                        samples you want to base the\n",
      "                        estimate on (default N=10000), or not estimating the\n",
      "                        normalizing constant at all\n",
      "                        (`log_prob(..., norm_posterior=False)`. The latter will\n",
      "                        result in an unnormalized `log_prob()`.\n"
     ]
    },
    {
     "name": "stdout",
     "output_type": "stream",
     "text": [
      "acceptance rate:  0.0005454545454545455\n",
      "acceptance rate:  0.0005238095238095238\n",
      "acceptance rate:  0.0003548387096774194\n",
      "acceptance rate:  0.0003902439024390244\n",
      "acceptance rate:  0.00035294117647058826\n",
      "acceptance rate:  0.00034426229508196723\n",
      "acceptance rate:  0.00032394366197183096\n",
      "acceptance rate:  0.0003333333333333333\n",
      "acceptance rate:  0.0003406593406593407\n",
      "acceptance rate:  0.0003564356435643564\n",
      "acceptance rate:  0.00034234234234234234\n",
      "acceptance rate:  0.00033057851239669424\n",
      "acceptance rate:  0.0003282442748091603\n",
      "acceptance rate:  0.00032624113475177306\n",
      "acceptance rate:  0.00031125827814569535\n",
      "acceptance rate:  0.00031055900621118014\n",
      "acceptance rate:  0.00031578947368421053\n",
      "acceptance rate:  0.0003149171270718232\n",
      "acceptance rate:  0.00030890052356020943\n",
      "acceptance rate:  0.0003084577114427861\n",
      "acceptance rate:  0.0003080568720379147\n",
      "acceptance rate:  0.00029864253393665157\n",
      "acceptance rate:  0.00029004329004329003\n",
      "acceptance rate:  0.0002863070539419087\n",
      "acceptance rate:  0.0002908366533864542\n",
      "acceptance rate:  0.00030268199233716476\n",
      "acceptance rate:  0.0002952029520295203\n",
      "acceptance rate:  0.000298932384341637\n",
      "acceptance rate:  0.00030240549828178693\n",
      "acceptance rate:  0.00030232558139534885\n",
      "acceptance rate:  0.0003022508038585209\n",
      "acceptance rate:  0.0002990654205607477\n",
      "acceptance rate:  0.0002930513595166163\n",
      "acceptance rate:  0.00029032258064516127\n",
      "acceptance rate:  0.00028205128205128203\n",
      "acceptance rate:  0.0002770083102493075\n",
      "acceptance rate:  0.0002803234501347709\n",
      "acceptance rate:  0.00028083989501312336\n",
      "acceptance rate:  0.00028644501278772376\n",
      "acceptance rate:  0.00029177057356608477\n",
      "acceptance rate:  0.0002944038929440389\n",
      "acceptance rate:  0.00029216152019002374\n",
      "acceptance rate:  0.0002877030162412993\n",
      "acceptance rate:  0.0002925170068027211\n",
      "acceptance rate:  0.0002926829268292683\n",
      "acceptance rate:  0.0002928416485900217\n",
      "acceptance rate:  0.0002929936305732484\n",
      "acceptance rate:  0.00029106029106029104\n",
      "acceptance rate:  0.00028920570264765784\n",
      "acceptance rate:  0.0002994011976047904\n",
      "acceptance rate:  0.00029941291585127203\n",
      "acceptance rate:  0.0002975047984644914\n",
      "acceptance rate:  0.00030131826741996233\n",
      "acceptance rate:  0.00030683918669131236\n",
      "acceptance rate:  0.00030490018148820325\n",
      "acceptance rate:  0.00030303030303030303\n",
      "acceptance rate:  0.00030122591943957966\n",
      "acceptance rate:  0.00030120481927710846\n",
      "acceptance rate:  0.00029780033840947544\n",
      "acceptance rate:  0.00030615640599001664\n",
      "acceptance rate:  0.0003044189852700491\n",
      "acceptance rate:  0.0003075684380032206\n",
      "acceptance rate:  0.00031061806656101427\n",
      "acceptance rate:  0.00031357254290171607\n",
      "acceptance rate:  0.0003164362519201229\n",
      "acceptance rate:  0.00031921331316187593\n",
      "acceptance rate:  0.00031892697466467956\n",
      "acceptance rate:  0.0003171806167400881\n",
      "acceptance rate:  0.0003154848046309696\n",
      "acceptance rate:  0.0003109843081312411\n",
      "acceptance rate:  0.00031364275668073135\n",
      "acceptance rate:  0.0003106796116504854\n",
      "acceptance rate:  0.00031326949384404923\n",
      "acceptance rate:  0.00031578947368421053\n",
      "acceptance rate:  0.0003155792276964048\n",
      "acceptance rate:  0.0003140604467805519\n",
      "acceptance rate:  0.0003125810635538262\n",
      "acceptance rate:  0.0003085787451984635\n",
      "acceptance rate:  0.0003084702907711757\n",
      "acceptance rate:  0.00030711610486891386\n",
      "acceptance rate:  0.0003094944512946979\n",
      "acceptance rate:  0.0003118148599269184\n",
      "acceptance rate:  0.00031046931407942237\n",
      "acceptance rate:  0.00030915576694411415\n",
      "acceptance rate:  0.00030787309048178614\n",
      "acceptance rate:  0.00030545876887340303\n",
      "acceptance rate:  0.00030424799081515497\n",
      "acceptance rate:  0.000304199772985244\n",
      "acceptance rate:  0.00030639730639730637\n",
      "acceptance rate:  0.00030521642619311875\n",
      "acceptance rate:  0.00030625686059275524\n",
      "acceptance rate:  0.00030836047774158526\n",
      "acceptance rate:  0.0003093447905477981\n",
      "acceptance rate:  0.00031137088204038257\n",
      "acceptance rate:  0.0003101997896950578\n",
      "acceptance rate:  0.00030697190426638916\n",
      "acceptance rate:  0.000305870236869207\n",
      "acceptance rate:  0.0003078491335372069\n",
      "acceptance rate:  0.0003077699293642785\n",
      "acceptance rate:  0.0003096903096903097\n",
      "acceptance rate:  0.0003095944609297725\n",
      "acceptance rate:  0.00030754162585700293\n",
      "acceptance rate:  0.00030455868089233754\n",
      "acceptance rate:  0.0003035542747358309\n",
      "acceptance rate:  0.00030352045670789724\n",
      "acceptance rate:  0.00030442978322337417\n",
      "acceptance rate:  0.0003053221288515406\n",
      "acceptance rate:  0.0003043478260869565\n",
      "acceptance rate:  0.00030247479376718605\n",
      "acceptance rate:  0.00030154405086285196\n",
      "acceptance rate:  0.0003024302430243024\n",
      "acceptance rate:  0.0003015165031222123\n",
      "acceptance rate:  0.00030061892130857647\n",
      "acceptance rate:  0.00029973707274320773\n",
      "acceptance rate:  0.0002988705473501303\n",
      "acceptance rate:  0.00030146425495262703\n",
      "acceptance rate:  0.00030230572160546543\n",
      "acceptance rate:  0.0003005927180355631\n",
      "acceptance rate:  0.00030058774139378675\n",
      "acceptance rate:  0.00030141548709408824\n",
      "acceptance rate:  0.0003022295623451693\n",
      "acceptance rate:  0.00030057330057330057\n",
      "acceptance rate:  0.00029894394800974815\n",
      "acceptance rate:  0.0002997582594681708\n",
      "acceptance rate:  0.0002981614708233413\n",
      "acceptance rate:  0.000295796986518636\n",
      "acceptance rate:  0.0002958300550747443\n",
      "acceptance rate:  0.00029586260733801715\n",
      "acceptance rate:  0.0002966692486444617\n",
      "acceptance rate:  0.00029823212913143737\n",
      "acceptance rate:  0.0003005339435545385\n",
      "acceptance rate:  0.00030052990158970476\n",
      "acceptance rate:  0.00029902329075882797\n",
      "acceptance rate:  0.00029753914988814317\n",
      "acceptance rate:  0.00029681717246484086\n",
      "acceptance rate:  0.0002961058045554739\n",
      "acceptance rate:  0.00029540481400437636\n",
      "acceptance rate:  0.0002954380883417813\n",
      "acceptance rate:  0.00029331416247304097\n",
      "acceptance rate:  0.0002919343326195575\n",
      "acceptance rate:  0.0002919914953933381\n",
      "acceptance rate:  0.0002913441238564391\n",
      "acceptance rate:  0.0002907058001397624\n",
      "acceptance rate:  0.0002914642609299098\n",
      "acceptance rate:  0.0002949689869055824\n",
      "acceptance rate:  0.00029500342231348394\n",
      "acceptance rate:  0.00029367777022433716\n",
      "acceptance rate:  0.0002916948008102633\n",
      "acceptance rate:  0.00029107981220657275\n",
      "acceptance rate:  0.0002911392405063291\n",
      "acceptance rate:  0.0002905360688285903\n",
      "acceptance rate:  0.00028994082840236686\n",
      "acceptance rate:  0.0002900065316786414\n",
      "acceptance rate:  0.00028942245295262816\n",
      "acceptance rate:  0.0002875564152159897\n",
      "acceptance rate:  0.00028763613068545803\n",
      "acceptance rate:  0.00028898790579248886\n",
      "acceptance rate:  0.00028779253636938644\n",
      "acceptance rate:  0.0002878692646134507\n",
      "acceptance rate:  0.0002873204247345409\n",
      "acceptance rate:  0.00028926132836747364\n",
      "acceptance rate:  0.00028871067242442936\n",
      "acceptance rate:  0.00028694052728387494\n",
      "acceptance rate:  0.00028641072516758073\n",
      "acceptance rate:  0.00028709872804360994\n",
      "acceptance rate:  0.0002883804936785069\n",
      "acceptance rate:  0.00029144225014961103\n",
      "acceptance rate:  0.00029327781082688875\n",
      "acceptance rate:  0.0002950916617386162\n",
      "acceptance rate:  0.00029453262786596117\n",
      "acceptance rate:  0.0002957334891876096\n",
      "acceptance rate:  0.0002969203951191168\n",
      "acceptance rate:  0.0002975158867706528\n",
      "acceptance rate:  0.00029695577254451464\n",
      "acceptance rate:  0.00029811536264991433\n",
      "acceptance rate:  0.0002998296422487223\n",
      "acceptance rate:  0.0003009599096555618\n",
      "acceptance rate:  0.0003032004491858506\n",
      "acceptance rate:  0.0003026242322724735\n",
      "acceptance rate:  0.00030260966129927816\n",
      "acceptance rate:  0.0003014908890115958\n",
      "acceptance rate:  0.00030093355299286106\n",
      "acceptance rate:  0.00029929000546149645\n",
      "acceptance rate:  0.0002982074959261271\n",
      "acceptance rate:  0.00029821717990275527\n",
      "acceptance rate:  0.00029822675980655563\n",
      "acceptance rate:  0.0003003741314804917\n",
      "acceptance rate:  0.0003009037745879851\n",
      "acceptance rate:  0.00030195663670015867\n",
      "acceptance rate:  0.00030247238295633876\n",
      "acceptance rate:  0.00030402930402930405\n",
      "acceptance rate:  0.0003055700156168662\n",
      "acceptance rate:  0.00030657690315898496\n",
      "acceptance rate:  0.00030602782071097374\n",
      "acceptance rate:  0.00030497180932854945\n",
      "acceptance rate:  0.0003044365119836818\n",
      "acceptance rate:  0.0003039066463723998\n",
      "acceptance rate:  0.000303886925795053\n",
      "acceptance rate:  0.000304871923656454\n",
      "acceptance rate:  0.0003053473263368316\n",
      "acceptance rate:  0.0003058180009945301\n",
      "acceptance rate:  0.0003052944087085601\n",
      "acceptance rate:  0.00030526834071885773\n"
     ]
    },
    {
     "name": "stdout",
     "output_type": "stream",
     "text": [
      "acceptance rate:  0.0003052425281724645\n",
      "acceptance rate:  0.00030570453437347636\n",
      "acceptance rate:  0.0003051916545366327\n",
      "acceptance rate:  0.00030516658619024624\n",
      "acceptance rate:  0.0003046612205670351\n",
      "acceptance rate:  0.00030416068866571017\n",
      "acceptance rate:  0.00030652070442646357\n",
      "acceptance rate:  0.0003064898152534344\n",
      "acceptance rate:  0.0003074021687883074\n",
      "acceptance rate:  0.00030642890661661194\n",
      "acceptance rate:  0.00030733302195235873\n",
      "acceptance rate:  0.00030683403068340305\n",
      "acceptance rate:  0.0003077279037482647\n",
      "acceptance rate:  0.0003072316904652234\n",
      "acceptance rate:  0.0003058230169646951\n",
      "acceptance rate:  0.0003057964399817435\n",
      "acceptance rate:  0.00030577010449795545\n",
      "acceptance rate:  0.0003057440072365445\n",
      "acceptance rate:  0.00030571814497973884\n",
      "acceptance rate:  0.00030658897355445987\n",
      "acceptance rate:  0.0003074520303435966\n",
      "acceptance rate:  0.0003083074189249223\n",
      "acceptance rate:  0.0003082706766917293\n",
      "acceptance rate:  0.00030735358872743286\n",
      "acceptance rate:  0.00030775975449364313\n",
      "acceptance rate:  0.00030816237450894806\n",
      "acceptance rate:  0.0003081269013472403\n",
      "acceptance rate:  0.0003085244482907832\n",
      "acceptance rate:  0.0003080568720379147\n",
      "acceptance rate:  0.00030802230802230804\n",
      "acceptance rate:  0.0003084152071764203\n",
      "acceptance rate:  0.000308379413015738\n",
      "acceptance rate:  0.0003083439220669208\n",
      "acceptance rate:  0.00030746520455504005\n",
      "acceptance rate:  0.0003078538429231415\n",
      "acceptance rate:  0.0003069845253032204\n",
      "acceptance rate:  0.0003061224489795918\n",
      "acceptance rate:  0.00030734135213604313\n",
      "acceptance rate:  0.00030689797604295743\n",
      "acceptance rate:  0.00030645824763471825\n",
      "acceptance rate:  0.0003060221220811143\n",
      "acceptance rate:  0.0003059975520195838\n",
      "acceptance rate:  0.0003063795205201138\n",
      "acceptance rate:  0.00030716309186564145\n",
      "acceptance rate:  0.0003071342200725514\n",
      "acceptance rate:  0.00030670413488558814\n",
      "acceptance rate:  0.00030627748900439826\n",
      "acceptance rate:  0.0003054559936280366\n",
      "acceptance rate:  0.00030543435144783816\n",
      "acceptance rate:  0.00030541288028447256\n",
      "acceptance rate:  0.00030499803227075953\n",
      "acceptance rate:  0.00030537044296354373\n",
      "acceptance rate:  0.0003053494728621632\n",
      "acceptance rate:  0.00030532866588875923\n",
      "acceptance rate:  0.0003049205734211546\n",
      "acceptance rate:  0.00030374372829023545\n",
      "acceptance rate:  0.0003033448673587082\n",
      "acceptance rate:  0.0003040980467253926\n",
      "acceptance rate:  0.00030446394505913776\n",
      "acceptance rate:  0.0003048270619536298\n",
      "acceptance rate:  0.0003063233623627414\n",
      "acceptance rate:  0.0003070539419087137\n",
      "acceptance rate:  0.00030702743329575347\n",
      "acceptance rate:  0.00030662673156121303\n",
      "acceptance rate:  0.0003062290190227527\n",
      "acceptance rate:  0.00030509104422147903\n",
      "acceptance rate:  0.0003054424287301\n",
      "acceptance rate:  0.0003061600885282184\n",
      "acceptance rate:  0.00030650496141124584\n",
      "acceptance rate:  0.00030684730867813986\n",
      "acceptance rate:  0.00030828164903319957\n",
      "acceptance rate:  0.00030752453653217014\n",
      "acceptance rate:  0.000308583846432452\n",
      "acceptance rate:  0.0003085528690003609\n",
      "acceptance rate:  0.0003088816972312118\n",
      "acceptance rate:  0.0003088498745969187\n",
      "acceptance rate:  0.0003084612638343449\n",
      "acceptance rate:  0.0003077196727143365\n",
      "acceptance rate:  0.0003069833392414038\n",
      "acceptance rate:  0.00030660543977393146\n",
      "acceptance rate:  0.0003069341781063006\n",
      "acceptance rate:  0.00030655910206944933\n",
      "acceptance rate:  0.0003065361761621811\n",
      "acceptance rate:  0.0003068617206548241\n",
      "acceptance rate:  0.0003078792086081222\n",
      "acceptance rate:  0.0003085437564856451\n",
      "acceptance rate:  0.00031023784901758014\n",
      "acceptance rate:  0.0003105462040535898\n",
      "acceptance rate:  0.00031051009928106813\n",
      "acceptance rate:  0.0003101330603889458\n",
      "acceptance rate:  0.00031111866712002723\n",
      "acceptance rate:  0.00031074212131480854\n",
      "acceptance rate:  0.0003110435663627153\n",
      "acceptance rate:  0.0003110063951531471\n",
      "acceptance rate:  0.0003113049312311305\n",
      "acceptance rate:  0.0003119358074222668\n",
      "acceptance rate:  0.00031189603465511497\n",
      "acceptance rate:  0.00031152441049485223\n",
      "acceptance rate:  0.00031347236014564716\n",
      "acceptance rate:  0.0003134279115803365\n",
      "acceptance rate:  0.00031404143373890166\n",
      "acceptance rate:  0.0003143231727302524\n",
      "acceptance rate:  0.0003139496896439072\n",
      "acceptance rate:  0.0003135786388798437\n",
      "acceptance rate:  0.0003132099967543006\n",
      "acceptance rate:  0.0003131672597864769\n",
      "acceptance rate:  0.0003131247984521122\n",
      "acceptance rate:  0.0003143683702989392\n",
      "acceptance rate:  0.00031464274271066967\n",
      "acceptance rate:  0.00031491536250399235\n",
      "acceptance rate:  0.0003161413562559694\n",
      "acceptance rate:  0.00031640748968581403\n",
      "acceptance rate:  0.0003160392280923758\n",
      "acceptance rate:  0.000315673289183223\n",
      "tensor([5.0215, 5.3631, 1.3229, 5.4725, 5.2184, 1.8629, 6.2907, 3.2448, 2.7567,\n",
      "        9.4525, 1.0016, 2.9585, 3.0328, 6.3330, 5.8283])\n",
      "tensor([ 7.9556, 18.2437, 21.8017, 23.7140, 90.7946, 57.1907, 37.2871, 18.0363,\n",
      "         6.5625, 46.1401,  2.1769, 57.4122, 98.4039, 54.2594, 53.9622])\n",
      "tensor([[ 3.,  6., 20., 10., 90., 55., 27., 27.,  4., 70.,  5., 66., 99., 40.,\n",
      "         45.]])\n",
      "tensor([[1., 1., 1., 1., 1., 1., 1., 1., 1., 1., 1., 1., 1., 1., 1.]])\n",
      "tensor([[ 22.7733,  87.1552,   1.7182, 106.8104,  11.7794,   3.0127,  70.3601,\n",
      "          43.7612,   5.5687, 326.5759,   3.9851,  39.6666,   3.1670, 119.3736,\n",
      "          54.8822]])\n"
     ]
    },
    {
     "data": {
      "application/vnd.jupyter.widget-view+json": {
       "model_id": "b847b1d294cf4ecf825bb649f16dbda5",
       "version_major": 2,
       "version_minor": 0
      },
      "text/plain": [
       "Drawing 1000 posterior samples:   0%|          | 0/1000 [00:00<?, ?it/s]"
      ]
     },
     "metadata": {},
     "output_type": "display_data"
    },
    {
     "name": "stdout",
     "output_type": "stream",
     "text": [
      "acceptance rate:  0.471\n",
      "acceptance rate:  0.4807272727272727\n"
     ]
    },
    {
     "data": {
      "application/vnd.jupyter.widget-view+json": {
       "model_id": "8bff8787648744ab8da3ac560917ae1c",
       "version_major": 2,
       "version_minor": 0
      },
      "text/plain": [
       "Drawing 1000 posterior samples:   0%|          | 0/1000 [00:00<?, ?it/s]"
      ]
     },
     "metadata": {},
     "output_type": "display_data"
    },
    {
     "name": "stdout",
     "output_type": "stream",
     "text": [
      "acceptance rate:  0.474\n",
      "acceptance rate:  0.46836363636363637\n",
      "tensor([0.7908, 1.3232, 2.3769, 0.3066, 3.4296, 4.2134, 0.7247, 1.1702, 0.2170,\n",
      "        0.6829, 0.6790, 0.6615, 0.9810, 0.6966, 0.9285])\n",
      "tensor([ 2.4618,  5.4177, 20.5296, 10.0431, 91.6557, 56.1126, 26.0158, 28.4706,\n",
      "         5.7654, 68.8115,  5.6854, 64.1772, 98.5923, 38.5999, 45.8053])\n",
      "tensor([[ 3.,  6., 20., 10., 90., 55., 27., 27.,  4., 70.,  5., 66., 99., 40.,\n",
      "         45.]])\n",
      "tensor([[1., 1., 1., 1., 1., 1., 1., 1., 1., 1., 1., 1., 1., 1., 1.]])\n",
      "tensor([[0.1922, 0.2650, 1.5993, 0.7302, 5.5194, 7.5572, 0.5690, 1.1088, 2.6096,\n",
      "         0.8208, 0.3526, 1.7934, 0.0835, 1.0843, 0.3295]])\n"
     ]
    },
    {
     "data": {
      "application/vnd.jupyter.widget-view+json": {
       "model_id": "14007cbdde3d4c06a2c19aa4c2e3461b",
       "version_major": 2,
       "version_minor": 0
      },
      "text/plain": [
       "Drawing 1000 posterior samples:   0%|          | 0/1000 [00:00<?, ?it/s]"
      ]
     },
     "metadata": {},
     "output_type": "display_data"
    },
    {
     "name": "stdout",
     "output_type": "stream",
     "text": [
      "acceptance rate:  0.017\n",
      "acceptance rate:  0.022363636363636363\n",
      "acceptance rate:  0.02061904761904762\n",
      "acceptance rate:  0.01996774193548387\n",
      "acceptance rate:  0.019926829268292683\n",
      "acceptance rate:  0.019901960784313725\n"
     ]
    },
    {
     "data": {
      "application/vnd.jupyter.widget-view+json": {
       "model_id": "df1c5e997257465bba3a28e48a0d1363",
       "version_major": 2,
       "version_minor": 0
      },
      "text/plain": [
       "Drawing 1000 posterior samples:   0%|          | 0/1000 [00:00<?, ?it/s]"
      ]
     },
     "metadata": {},
     "output_type": "display_data"
    },
    {
     "name": "stdout",
     "output_type": "stream",
     "text": [
      "acceptance rate:  0.025\n",
      "acceptance rate:  0.019\n",
      "acceptance rate:  0.019523809523809523\n",
      "acceptance rate:  0.019258064516129034\n",
      "acceptance rate:  0.019170731707317073\n",
      "acceptance rate:  0.019529411764705882\n",
      "acceptance rate:  0.019508196721311474\n",
      "tensor([ 1.0005,  1.7681,  3.8957,  2.2050,  0.7787,  2.7474,  0.9740,  3.0324,\n",
      "         5.7546,  0.9998,  0.6293,  0.5630,  6.2908,  5.8381, 11.1515])\n",
      "tensor([ 2.3471,  6.0194, 24.9946,  8.0412, 91.2084, 52.5738, 25.0910, 31.2921,\n",
      "        13.3591, 69.4801,  4.4432, 64.6943, 91.5662, 48.7570, 60.4942])\n",
      "tensor([[ 3.,  6., 20., 10., 90., 55., 27., 27.,  4., 70.,  5., 66., 99., 40.,\n",
      "         45.]])\n",
      "tensor([[1., 1., 1., 1., 1., 1., 1., 1., 1., 1., 1., 1., 1., 1., 1.]])\n",
      "tensor([[2.1317e-01, 4.9336e-01, 1.8201e+01, 3.0587e+00, 7.8347e-01, 5.2068e+00,\n",
      "         1.8229e+00, 1.2199e+01, 5.8104e+01, 1.3517e-01, 3.1622e-01, 1.0854e+00,\n",
      "         4.5079e+01, 5.3120e+01, 1.7930e+02]])\n"
     ]
    },
    {
     "data": {
      "application/vnd.jupyter.widget-view+json": {
       "model_id": "d18ccbe2527b4034884529f59ade459f",
       "version_major": 2,
       "version_minor": 0
      },
      "text/plain": [
       "Drawing 1000 posterior samples:   0%|          | 0/1000 [00:00<?, ?it/s]"
      ]
     },
     "metadata": {},
     "output_type": "display_data"
    },
    {
     "name": "stdout",
     "output_type": "stream",
     "text": [
      "acceptance rate:  0.132\n",
      "acceptance rate:  0.14363636363636365\n"
     ]
    },
    {
     "data": {
      "application/vnd.jupyter.widget-view+json": {
       "model_id": "4e79530fea954987b712e49579385473",
       "version_major": 2,
       "version_minor": 0
      },
      "text/plain": [
       "Drawing 1000 posterior samples:   0%|          | 0/1000 [00:00<?, ?it/s]"
      ]
     },
     "metadata": {},
     "output_type": "display_data"
    },
    {
     "name": "stdout",
     "output_type": "stream",
     "text": [
      "acceptance rate:  0.144\n",
      "acceptance rate:  0.13745454545454547\n",
      "tensor([ 4.4109,  1.9702,  5.8813,  6.5836,  6.6941,  7.5132, 13.9105,  5.6714,\n",
      "         2.5485,  5.7495,  4.1866,  4.4566, 10.2495,  8.3335,  5.8264])\n",
      "tensor([ 9.4276,  3.7263, 31.5953, 19.7797, 82.7291, 70.2594, 42.4933, 11.0555,\n",
      "         4.3288, 63.2114,  7.2618, 60.2549, 70.6183, 25.1067, 42.7891])\n",
      "tensor([[ 3.,  6., 20., 10., 90., 55., 27., 27.,  4., 70.,  5., 66., 99., 40.,\n",
      "         45.]])\n",
      "tensor([[1., 1., 1., 1., 1., 1., 1., 1., 1., 1., 1., 1., 1., 1., 1.]])\n",
      "tensor([[ 28.4011,   3.3476,  82.2489,  67.1081,  46.4373, 142.1325, 213.6397,\n",
      "         140.9604,   1.8661,  37.3222,   9.3897,  24.4394, 452.4594, 143.0087,\n",
      "          17.1552]])\n"
     ]
    },
    {
     "data": {
      "application/vnd.jupyter.widget-view+json": {
       "model_id": "d923ad9357084d2e809205f0137ea213",
       "version_major": 2,
       "version_minor": 0
      },
      "text/plain": [
       "Drawing 1000 posterior samples:   0%|          | 0/1000 [00:00<?, ?it/s]"
      ]
     },
     "metadata": {},
     "output_type": "display_data"
    },
    {
     "name": "stdout",
     "output_type": "stream",
     "text": [
      "acceptance rate:  0.121\n",
      "acceptance rate:  0.12336363636363637\n"
     ]
    },
    {
     "data": {
      "application/vnd.jupyter.widget-view+json": {
       "model_id": "324d5306355b43049a45f4594e49e9a5",
       "version_major": 2,
       "version_minor": 0
      },
      "text/plain": [
       "Drawing 1000 posterior samples:   0%|          | 0/1000 [00:00<?, ?it/s]"
      ]
     },
     "metadata": {},
     "output_type": "display_data"
    },
    {
     "name": "stdout",
     "output_type": "stream",
     "text": [
      "acceptance rate:  0.101\n",
      "acceptance rate:  0.11872727272727272\n",
      "tensor([2.1098, 3.4781, 1.7852, 2.5608, 2.9309, 4.0294, 1.0975, 2.1602, 2.0762,\n",
      "        2.3908, 1.6712, 1.9457, 2.2199, 4.3391, 3.4250])\n",
      "tensor([ 5.3512,  7.0391, 17.4190,  5.4483, 86.6840, 50.5797, 26.0482, 24.7125,\n",
      "         4.4040, 72.1023,  3.7330, 63.5781, 97.2034, 47.2038, 40.4931])\n",
      "tensor([[ 3.,  6., 20., 10., 90., 55., 27., 27.,  4., 70.,  5., 66., 99., 40.,\n",
      "         45.]])\n",
      "tensor([[1., 1., 1., 1., 1., 1., 1., 1., 1., 1., 1., 1., 1., 1., 1.]])\n",
      "tensor([[ 3.7432,  4.8418,  3.8446, 12.1973,  8.2176, 15.9938,  0.4622,  3.6792,\n",
      "          1.0064,  3.6962,  1.1856,  3.6600,  2.7805, 33.3940, 14.2903]])\n"
     ]
    },
    {
     "data": {
      "application/vnd.jupyter.widget-view+json": {
       "model_id": "7b67710065334b62b5ceecc06d0b003f",
       "version_major": 2,
       "version_minor": 0
      },
      "text/plain": [
       "Drawing 1000 posterior samples:   0%|          | 0/1000 [00:00<?, ?it/s]"
      ]
     },
     "metadata": {},
     "output_type": "display_data"
    },
    {
     "name": "stdout",
     "output_type": "stream",
     "text": [
      "acceptance rate:  0.431\n",
      "acceptance rate:  0.4100909090909091\n"
     ]
    },
    {
     "data": {
      "application/vnd.jupyter.widget-view+json": {
       "model_id": "458f284be19a4923bb811800efd7d20c",
       "version_major": 2,
       "version_minor": 0
      },
      "text/plain": [
       "Drawing 1000 posterior samples:   0%|          | 0/1000 [00:00<?, ?it/s]"
      ]
     },
     "metadata": {},
     "output_type": "display_data"
    },
    {
     "name": "stdout",
     "output_type": "stream",
     "text": [
      "acceptance rate:  0.41\n",
      "acceptance rate:  0.4179090909090909\n",
      "tensor([1.7991, 2.3355, 3.0993, 3.2241, 2.4949, 4.2616, 2.5425, 3.6033, 6.7736,\n",
      "        3.3741, 3.4653, 5.5770, 1.9104, 5.0215, 3.2671])\n",
      "tensor([ 4.8168,  4.4862, 23.9151,  7.3060, 94.4898, 48.8705, 21.4113, 19.9312,\n",
      "        16.2485, 75.8882,  8.1385, 68.2467, 97.2793, 48.6913, 50.4024])\n",
      "tensor([[ 3.,  6., 20., 10., 90., 55., 27., 27.,  4., 70.,  5., 66., 99., 40.,\n",
      "         45.]])\n",
      "tensor([[1., 1., 1., 1., 1., 1., 1., 1., 1., 1., 1., 1., 1., 1., 1.]])\n",
      "tensor([[ 2.1816,  2.5248, 10.8356,  7.1555, 11.7773, 25.9162, 17.4159, 29.6938,\n",
      "         95.5400, 21.3118,  9.1865, 15.8567,  2.1579, 48.2634, 18.2461]])\n"
     ]
    },
    {
     "data": {
      "application/vnd.jupyter.widget-view+json": {
       "model_id": "829b9a803b1440ef9e42b68d466878c0",
       "version_major": 2,
       "version_minor": 0
      },
      "text/plain": [
       "Drawing 1000 posterior samples:   0%|          | 0/1000 [00:00<?, ?it/s]"
      ]
     },
     "metadata": {},
     "output_type": "display_data"
    },
    {
     "name": "stdout",
     "output_type": "stream",
     "text": [
      "acceptance rate:  0.017\n",
      "acceptance rate:  0.014727272727272728\n",
      "acceptance rate:  0.01338095238095238\n",
      "acceptance rate:  0.012870967741935484\n",
      "acceptance rate:  0.011975609756097561\n",
      "acceptance rate:  0.012470588235294117\n",
      "acceptance rate:  0.01221311475409836\n",
      "acceptance rate:  0.012225352112676056\n",
      "acceptance rate:  0.01217283950617284\n",
      "acceptance rate:  0.012065934065934066\n"
     ]
    },
    {
     "data": {
      "application/vnd.jupyter.widget-view+json": {
       "model_id": "ab4d09cfc3724cf9a3a4ab4f6050904d",
       "version_major": 2,
       "version_minor": 0
      },
      "text/plain": [
       "Drawing 1000 posterior samples:   0%|          | 0/1000 [00:00<?, ?it/s]"
      ]
     },
     "metadata": {},
     "output_type": "display_data"
    },
    {
     "name": "stdout",
     "output_type": "stream",
     "text": [
      "acceptance rate:  0.018\n",
      "acceptance rate:  0.012272727272727272\n",
      "acceptance rate:  0.01219047619047619\n",
      "acceptance rate:  0.012\n",
      "acceptance rate:  0.011658536585365854\n",
      "acceptance rate:  0.011392156862745098\n",
      "acceptance rate:  0.011557377049180327\n",
      "acceptance rate:  0.011633802816901408\n",
      "acceptance rate:  0.011580246913580247\n",
      "acceptance rate:  0.011747252747252747\n",
      "tensor([1.0771, 3.1380, 2.1899, 1.2172, 0.6143, 1.5933, 1.1693, 1.6934, 1.2486,\n",
      "        0.7593, 1.1829, 0.8172, 1.9936, 2.3925, 1.8183])\n",
      "tensor([ 2.5704,  8.4055, 22.7130,  9.4261, 90.5497, 57.9191, 24.2344, 27.5377,\n",
      "         6.8631, 68.7768,  3.2788, 65.1906, 97.0157, 41.2449, 47.2858])\n",
      "tensor([[ 3.,  6., 20., 10., 90., 55., 27., 27.,  4., 70.,  5., 66., 99., 40.,\n",
      "         45.]])\n",
      "tensor([[1., 1., 1., 1., 1., 1., 1., 1., 1., 1., 1., 1., 1., 1., 1.]])\n",
      "tensor([[0.0981, 6.1733, 4.7940, 0.2089, 0.3270, 4.5642, 3.8515, 0.5516, 4.1560,\n",
      "         0.8118, 1.5129, 0.3634, 2.7660, 2.2644, 3.1676]])\n"
     ]
    },
    {
     "data": {
      "application/vnd.jupyter.widget-view+json": {
       "model_id": "8d0edd33c5514d33ba3c443b882ec772",
       "version_major": 2,
       "version_minor": 0
      },
      "text/plain": [
       "Drawing 1000 posterior samples:   0%|          | 0/1000 [00:00<?, ?it/s]"
      ]
     },
     "metadata": {},
     "output_type": "display_data"
    },
    {
     "name": "stdout",
     "output_type": "stream",
     "text": [
      "acceptance rate:  0.455\n",
      "acceptance rate:  0.4475454545454545\n"
     ]
    },
    {
     "data": {
      "application/vnd.jupyter.widget-view+json": {
       "model_id": "b4268c6378424664b2808a1287e3a933",
       "version_major": 2,
       "version_minor": 0
      },
      "text/plain": [
       "Drawing 1000 posterior samples:   0%|          | 0/1000 [00:00<?, ?it/s]"
      ]
     },
     "metadata": {},
     "output_type": "display_data"
    },
    {
     "name": "stdout",
     "output_type": "stream",
     "text": [
      "acceptance rate:  0.446\n",
      "acceptance rate:  0.44472727272727275\n",
      "tensor([3.5276, 1.2859, 5.0425, 3.4779, 2.3448, 2.0311, 2.8351, 2.9009, 3.9488,\n",
      "        3.3373, 2.5578, 4.5985, 1.8058, 2.4786, 1.9970])\n",
      "tensor([ 7.0033,  6.1070, 19.0152,  8.2913, 96.1927, 54.1297, 26.7355, 22.2928,\n",
      "         7.9187, 69.8167,  5.8400, 60.9320, 97.0335, 38.1538, 47.5009])\n",
      "tensor([[ 3.,  6., 20., 10., 90., 55., 27., 27.,  4., 70.,  5., 66., 99., 40.,\n",
      "         45.]])\n",
      "tensor([[1., 1., 1., 1., 1., 1., 1., 1., 1., 1., 1., 1., 1., 1., 1.]])\n",
      "tensor([[12.4747,  0.0810, 11.0806,  5.7613, 20.5713,  1.2328,  2.5117, 13.7213,\n",
      "         13.6013,  3.8804,  2.1848, 21.3896,  2.4730,  3.3682,  3.9297]])\n"
     ]
    },
    {
     "data": {
      "application/vnd.jupyter.widget-view+json": {
       "model_id": "f3ce5d822ca44d8dadaf0f482a60a777",
       "version_major": 2,
       "version_minor": 0
      },
      "text/plain": [
       "Drawing 1000 posterior samples:   0%|          | 0/1000 [00:00<?, ?it/s]"
      ]
     },
     "metadata": {},
     "output_type": "display_data"
    },
    {
     "name": "stdout",
     "output_type": "stream",
     "text": [
      "acceptance rate:  0.981\n",
      "acceptance rate:  0.9850909090909091\n"
     ]
    },
    {
     "data": {
      "application/vnd.jupyter.widget-view+json": {
       "model_id": "74ee081cc1cb4b1cbd908919fff44781",
       "version_major": 2,
       "version_minor": 0
      },
      "text/plain": [
       "Drawing 1000 posterior samples:   0%|          | 0/1000 [00:00<?, ?it/s]"
      ]
     },
     "metadata": {},
     "output_type": "display_data"
    },
    {
     "name": "stdout",
     "output_type": "stream",
     "text": [
      "acceptance rate:  0.984\n",
      "acceptance rate:  0.984909090909091\n",
      "tensor([0.2799, 0.3171, 3.2141, 0.5879, 0.5928, 0.5652, 0.2797, 0.8887, 0.3603,\n",
      "        0.2490, 0.7542, 3.5939, 3.6485, 2.3326, 3.0755])\n",
      "tensor([ 4.1866,  5.0169, 27.7768, 10.8521, 89.7948, 54.9982, 25.4015, 28.8496,\n",
      "         6.2951, 69.5064,  6.2481, 56.5825, 91.6533, 45.0737, 38.6195])\n",
      "tensor([[ 3.,  6., 20., 10., 90., 55., 27., 27.,  4., 70.,  5., 66., 99., 40.,\n",
      "         45.]])\n",
      "tensor([[1., 1., 1., 1., 1., 1., 1., 1., 1., 1., 1., 1., 1., 1., 1.]])\n",
      "tensor([[ 1.5165,  1.1822, 33.7369,  0.5670,  0.2197,  0.2303,  2.0906,  1.7233,\n",
      "          3.2195,  1.0432,  0.8454, 49.0236, 31.8484, 14.2448, 23.4612]])\n"
     ]
    },
    {
     "data": {
      "application/vnd.jupyter.widget-view+json": {
       "model_id": "1021d04b808e4ef09a6da1adacaaa06c",
       "version_major": 2,
       "version_minor": 0
      },
      "text/plain": [
       "Drawing 1000 posterior samples:   0%|          | 0/1000 [00:00<?, ?it/s]"
      ]
     },
     "metadata": {},
     "output_type": "display_data"
    },
    {
     "name": "stdout",
     "output_type": "stream",
     "text": [
      "acceptance rate:  0.427\n",
      "acceptance rate:  0.431\n"
     ]
    },
    {
     "data": {
      "application/vnd.jupyter.widget-view+json": {
       "model_id": "22e658780506413193d90f9b9280ce3d",
       "version_major": 2,
       "version_minor": 0
      },
      "text/plain": [
       "Drawing 1000 posterior samples:   0%|          | 0/1000 [00:00<?, ?it/s]"
      ]
     },
     "metadata": {},
     "output_type": "display_data"
    },
    {
     "name": "stdout",
     "output_type": "stream",
     "text": [
      "acceptance rate:  0.437\n",
      "acceptance rate:  0.43118181818181817\n",
      "tensor([ 5.1452, 11.6821,  4.8725,  4.0481, 12.9367,  4.7124,  9.9164,  8.8336,\n",
      "        13.2551,  7.8209,  9.3369, 10.4958,  7.8990,  7.7595,  8.3287])\n",
      "tensor([ 8.6778, 41.8391, 25.1676,  6.2841, 51.5124, 73.5495, 23.5670, 44.6824,\n",
      "        42.0659, 87.7893, 20.0622, 49.9793, 84.7544, 27.6810, 63.2596])\n",
      "tensor([[ 3.,  6., 20., 10., 90., 55., 27., 27.,  4., 70.,  5., 66., 99., 40.,\n",
      "         45.]])\n",
      "tensor([[1., 1., 1., 1., 1., 1., 1., 1., 1., 1., 1., 1., 1., 1., 1.]])\n",
      "tensor([[ 27.2174, 707.4976,  23.1389,  13.1993, 821.2683, 181.0954,  52.2656,\n",
      "         192.6704, 809.2716, 186.2565, 154.2897, 180.5607, 130.0986, 103.4354,\n",
      "         198.7694]])\n"
     ]
    },
    {
     "data": {
      "application/vnd.jupyter.widget-view+json": {
       "model_id": "45b158876c164389a69623149fd123e6",
       "version_major": 2,
       "version_minor": 0
      },
      "text/plain": [
       "Drawing 1000 posterior samples:   0%|          | 0/1000 [00:00<?, ?it/s]"
      ]
     },
     "metadata": {},
     "output_type": "display_data"
    },
    {
     "name": "stdout",
     "output_type": "stream",
     "text": [
      "acceptance rate:  0.042\n",
      "acceptance rate:  0.05372727272727273\n",
      "acceptance rate:  0.056095238095238094\n"
     ]
    },
    {
     "data": {
      "application/vnd.jupyter.widget-view+json": {
       "model_id": "c419397df90c4e428306de4c2d51fcbc",
       "version_major": 2,
       "version_minor": 0
      },
      "text/plain": [
       "Drawing 1000 posterior samples:   0%|          | 0/1000 [00:00<?, ?it/s]"
      ]
     },
     "metadata": {},
     "output_type": "display_data"
    },
    {
     "name": "stdout",
     "output_type": "stream",
     "text": [
      "acceptance rate:  0.06\n",
      "acceptance rate:  0.05745454545454545\n",
      "acceptance rate:  0.055\n",
      "tensor([1.0274, 3.0036, 4.2301, 4.2982, 8.1085, 3.1210, 4.2869, 1.7083, 1.9755,\n",
      "        4.9928, 2.1996, 4.6522, 1.4018, 5.9044, 3.4972])\n",
      "tensor([ 2.2863,  5.4428, 27.5952,  9.6546, 72.9609, 62.5364, 14.5668, 29.9884,\n",
      "         3.9438, 69.7895,  6.0783, 70.8713, 97.9132, 39.7917, 53.0634])\n",
      "tensor([[ 3.,  6., 20., 10., 90., 55., 27., 27.,  4., 70.,  5., 66., 99., 40.,\n",
      "         45.]])\n",
      "tensor([[1., 1., 1., 1., 1., 1., 1., 1., 1., 1., 1., 1., 1., 1., 1.]])\n",
      "tensor([[  0.2554,   3.0663,  35.8484,   7.3386, 175.4462,  31.6312,  84.5256,\n",
      "           4.8890,   0.7721,  10.3783,   1.7122,  20.6493,   0.7353,  15.1767,\n",
      "          36.8724]])\n"
     ]
    },
    {
     "data": {
      "application/vnd.jupyter.widget-view+json": {
       "model_id": "6e9bddbfed9440b09e6849215aacc8c3",
       "version_major": 2,
       "version_minor": 0
      },
      "text/plain": [
       "Drawing 1000 posterior samples:   0%|          | 0/1000 [00:00<?, ?it/s]"
      ]
     },
     "metadata": {},
     "output_type": "display_data"
    },
    {
     "name": "stdout",
     "output_type": "stream",
     "text": [
      "acceptance rate:  0.471\n",
      "acceptance rate:  0.4652727272727273\n"
     ]
    },
    {
     "data": {
      "application/vnd.jupyter.widget-view+json": {
       "model_id": "1bfb890297664d7b9d2365e81a5e2c09",
       "version_major": 2,
       "version_minor": 0
      },
      "text/plain": [
       "Drawing 1000 posterior samples:   0%|          | 0/1000 [00:00<?, ?it/s]"
      ]
     },
     "metadata": {},
     "output_type": "display_data"
    },
    {
     "name": "stdout",
     "output_type": "stream",
     "text": [
      "acceptance rate:  0.469\n",
      "acceptance rate:  0.4757272727272727\n",
      "tensor([2.0739, 1.9290, 2.4140, 2.6489, 1.7696, 2.4215, 1.6665, 2.7358, 4.1231,\n",
      "        2.6019, 1.6148, 2.9001, 1.3585, 3.1062, 2.2223])\n",
      "tensor([ 4.3126,  6.4811, 17.9790,  4.8147, 91.2041, 54.8308, 25.8040, 28.0243,\n",
      "        11.9473, 72.3219,  4.5350, 59.7118, 97.7026, 35.0228, 49.6288])\n",
      "tensor([[ 3.,  6., 20., 10., 90., 55., 27., 27.,  4., 70.,  5., 66., 99., 40.,\n",
      "         45.]])\n",
      "tensor([[1., 1., 1., 1., 1., 1., 1., 1., 1., 1., 1., 1., 1., 1., 1.]])\n",
      "tensor([[ 1.7826,  0.8192,  3.5745, 15.4782,  1.2199,  1.5617,  1.0931,  2.7604,\n",
      "         38.1634,  4.6245,  0.4327, 22.4111,  0.9581, 15.5771, 11.8837]])\n"
     ]
    },
    {
     "data": {
      "application/vnd.jupyter.widget-view+json": {
       "model_id": "3f9fb2dbe84a4c5a99958648cf565553",
       "version_major": 2,
       "version_minor": 0
      },
      "text/plain": [
       "Drawing 1000 posterior samples:   0%|          | 0/1000 [00:00<?, ?it/s]"
      ]
     },
     "metadata": {},
     "output_type": "display_data"
    },
    {
     "name": "stdout",
     "output_type": "stream",
     "text": [
      "acceptance rate:  0.494\n",
      "acceptance rate:  0.48009090909090907\n"
     ]
    },
    {
     "data": {
      "application/vnd.jupyter.widget-view+json": {
       "model_id": "e567c1833953450f885fd43f72b8801d",
       "version_major": 2,
       "version_minor": 0
      },
      "text/plain": [
       "Drawing 1000 posterior samples:   0%|          | 0/1000 [00:00<?, ?it/s]"
      ]
     },
     "metadata": {},
     "output_type": "display_data"
    },
    {
     "name": "stdout",
     "output_type": "stream",
     "text": [
      "acceptance rate:  0.474\n",
      "acceptance rate:  0.4789090909090909\n",
      "tensor([2.2737, 5.2221, 6.2995, 4.1375, 4.5570, 4.5337, 4.3441, 3.6130, 4.5719,\n",
      "        5.7709, 3.8775, 1.7817, 3.9614, 6.1360, 1.8297])\n",
      "tensor([ 8.4879, 16.2794, 13.8056,  6.7097, 78.9008, 63.9003, 11.7167, 28.4474,\n",
      "         9.2713, 87.0712,  9.1895, 62.6260, 90.0745, 33.9319, 44.5785])\n",
      "tensor([[ 3.,  6., 20., 10., 90., 55., 27., 27.,  4., 70.,  5., 66., 99., 40.,\n",
      "         45.]])\n",
      "tensor([[1., 1., 1., 1., 1., 1., 1., 1., 1., 1., 1., 1., 1., 1., 1.]])\n",
      "tensor([[ 16.3222,  64.3150,  36.6865,  12.0526,  69.9628,  47.8735, 124.2568,\n",
      "           5.7897,  22.3245, 160.1117,  14.4381,   6.2016,  45.8025,  34.9222,\n",
      "           0.6586]])\n"
     ]
    },
    {
     "data": {
      "application/vnd.jupyter.widget-view+json": {
       "model_id": "6571b06196b34035b4bfc7cd9376c0c9",
       "version_major": 2,
       "version_minor": 0
      },
      "text/plain": [
       "Drawing 1000 posterior samples:   0%|          | 0/1000 [00:00<?, ?it/s]"
      ]
     },
     "metadata": {},
     "output_type": "display_data"
    },
    {
     "name": "stdout",
     "output_type": "stream",
     "text": [
      "acceptance rate:  0.397\n",
      "acceptance rate:  0.4032727272727273\n"
     ]
    },
    {
     "data": {
      "application/vnd.jupyter.widget-view+json": {
       "model_id": "9b256e6a1d2140eaa241c0d189ff4372",
       "version_major": 2,
       "version_minor": 0
      },
      "text/plain": [
       "Drawing 1000 posterior samples:   0%|          | 0/1000 [00:00<?, ?it/s]"
      ]
     },
     "metadata": {},
     "output_type": "display_data"
    },
    {
     "name": "stdout",
     "output_type": "stream",
     "text": [
      "acceptance rate:  0.419\n",
      "acceptance rate:  0.4087272727272727\n",
      "tensor([1.2998, 1.2407, 2.0308, 2.1915, 1.6944, 2.1348, 4.4103, 1.5528, 0.6807,\n",
      "        0.7373, 0.8351, 1.7683, 1.8281, 2.0390, 6.9782])\n",
      "tensor([ 5.1498,  2.7126, 21.1438,  8.3030, 93.3520, 55.6139, 21.7350, 27.9831,\n",
      "         5.8642, 69.6061,  4.5276, 66.5550, 97.3668, 37.2301, 37.6428])\n",
      "tensor([[ 3.,  6., 20., 10., 90., 55., 27., 27.,  4., 70.,  5., 66., 99., 40.,\n",
      "         45.]])\n",
      "tensor([[1., 1., 1., 1., 1., 1., 1., 1., 1., 1., 1., 1., 1., 1., 1.]])\n",
      "tensor([[ 2.3933,  5.4575,  1.5079,  2.5567,  6.0262,  1.2088, 21.6012,  0.7487,\n",
      "          1.8539,  0.1542,  0.1405,  0.6475,  1.9015,  4.7024, 48.9694]])\n"
     ]
    },
    {
     "data": {
      "application/vnd.jupyter.widget-view+json": {
       "model_id": "ab462fd5cc69411b84982a6ed7e3e5e4",
       "version_major": 2,
       "version_minor": 0
      },
      "text/plain": [
       "Drawing 1000 posterior samples:   0%|          | 0/1000 [00:00<?, ?it/s]"
      ]
     },
     "metadata": {},
     "output_type": "display_data"
    },
    {
     "name": "stdout",
     "output_type": "stream",
     "text": [
      "acceptance rate:  0.066\n",
      "acceptance rate:  0.06536363636363636\n",
      "acceptance rate:  0.06552380952380953\n"
     ]
    },
    {
     "data": {
      "application/vnd.jupyter.widget-view+json": {
       "model_id": "fb6ea5da6f98446b9f50db4ad5ba715a",
       "version_major": 2,
       "version_minor": 0
      },
      "text/plain": [
       "Drawing 1000 posterior samples:   0%|          | 0/1000 [00:00<?, ?it/s]"
      ]
     },
     "metadata": {},
     "output_type": "display_data"
    },
    {
     "name": "stdout",
     "output_type": "stream",
     "text": [
      "acceptance rate:  0.056\n",
      "acceptance rate:  0.059454545454545454\n",
      "acceptance rate:  0.0610952380952381\n",
      "tensor([ 2.3706,  1.5933,  9.0999,  1.7895,  1.2578,  0.5031,  1.0921,  0.6813,\n",
      "         1.1679,  0.4005,  5.5798, 11.5804,  1.3400,  2.0216, 11.6305])\n",
      "tensor([ 7.2386,  6.5257, 32.7597, 11.7484, 92.3583, 55.7194, 26.5894, 27.4742,\n",
      "         4.0010, 69.8222, 12.4749, 80.8937, 97.6695, 42.3359, 29.1324])\n",
      "tensor([[ 3.,  6., 20., 10., 90., 55., 27., 27.,  4., 70.,  5., 66., 99., 40.,\n",
      "         45.]])\n",
      "tensor([[1., 1., 1., 1., 1., 1., 1., 1., 1., 1., 1., 1., 1., 1., 1.]])\n",
      "tensor([[1.0430e+01, 4.4168e-01, 1.2010e+02, 2.0478e+00, 2.8425e+00, 5.7228e-01,\n",
      "         9.2531e-02, 2.2826e-01, 2.6782e-02, 5.1115e-01, 4.1285e+01, 1.7501e+02,\n",
      "         9.9021e-01, 3.5677e+00, 1.9057e+02]])\n"
     ]
    }
   ],
   "source": [
    "\n",
    "analytic = torch.distributions.normal.Normal(true_thetas, 1)\n",
    "\n",
    "\n",
    "overall_snpe_list = []\n",
    "\n",
    "variance_list_snpe = []\n",
    "\n",
    "mean_list_snpe = []\n",
    "\n",
    "\n",
    "## for round\n",
    "for posterior_snpe_list in list_collection:\n",
    "    \n",
    "    KL_snpe = []\n",
    "    KL_snpe_1d = []\n",
    "    \n",
    "    \n",
    "    ## for number of simulations\n",
    "    for posterior_snpe in posterior_snpe_list:\n",
    "\n",
    "\n",
    "        #KL = KLdivergence(posterior_snpe, sample_y)\n",
    "        KL, var_x, mu_x = KL_Gauss(posterior_snpe, analytic)\n",
    "        \n",
    "        variance_list_snpe.append(var_x)\n",
    "        \n",
    "        mean_list_snpe.append(mu_x)\n",
    "\n",
    "\n",
    "        KL_1d = calc_KL_1d(posterior_snpe, analytic)\n",
    "\n",
    "        KL_snpe_1d.append(KL_1d)\n",
    "\n",
    "        #KL_snpe_sum.append(sum_KL)\n",
    "\n",
    "        KL_snpe.append(KL)\n",
    "        \n",
    "    overall_snpe_list.append(KL_snpe)\n",
    "\n",
    "\n",
    "    \n",
    "    "
   ]
  },
  {
   "cell_type": "code",
   "execution_count": 13,
   "id": "f68ad23e",
   "metadata": {},
   "outputs": [
    {
     "data": {
      "application/vnd.jupyter.widget-view+json": {
       "model_id": "b45f8101e4494effb689d0cf9fca8a25",
       "version_major": 2,
       "version_minor": 0
      },
      "text/plain": [
       "Drawing 1000 posterior samples:   0%|          | 0/1000 [00:00<?, ?it/s]"
      ]
     },
     "metadata": {},
     "output_type": "display_data"
    },
    {
     "name": "stdout",
     "output_type": "stream",
     "text": [
      "acceptance rate:  1.0\n"
     ]
    },
    {
     "data": {
      "application/vnd.jupyter.widget-view+json": {
       "model_id": "f7aa00382a1d4b69835afe2d7274aa73",
       "version_major": 2,
       "version_minor": 0
      },
      "text/plain": [
       "Drawing 1000 posterior samples:   0%|          | 0/1000 [00:00<?, ?it/s]"
      ]
     },
     "metadata": {},
     "output_type": "display_data"
    },
    {
     "name": "stdout",
     "output_type": "stream",
     "text": [
      "acceptance rate:  1.0\n"
     ]
    },
    {
     "data": {
      "application/vnd.jupyter.widget-view+json": {
       "model_id": "00cccd38ecd74886a9476730e986036a",
       "version_major": 2,
       "version_minor": 0
      },
      "text/plain": [
       "Drawing 1000 posterior samples:   0%|          | 0/1000 [00:00<?, ?it/s]"
      ]
     },
     "metadata": {},
     "output_type": "display_data"
    },
    {
     "name": "stdout",
     "output_type": "stream",
     "text": [
      "acceptance rate:  1.0\n"
     ]
    },
    {
     "data": {
      "application/vnd.jupyter.widget-view+json": {
       "model_id": "3dec3529031a4bc09da4e102e849b709",
       "version_major": 2,
       "version_minor": 0
      },
      "text/plain": [
       "Drawing 1000 posterior samples:   0%|          | 0/1000 [00:00<?, ?it/s]"
      ]
     },
     "metadata": {},
     "output_type": "display_data"
    },
    {
     "name": "stdout",
     "output_type": "stream",
     "text": [
      "acceptance rate:  1.0\n"
     ]
    },
    {
     "data": {
      "application/vnd.jupyter.widget-view+json": {
       "model_id": "1c43d4576788472992b72a602db88fb0",
       "version_major": 2,
       "version_minor": 0
      },
      "text/plain": [
       "Drawing 1000 posterior samples:   0%|          | 0/1000 [00:00<?, ?it/s]"
      ]
     },
     "metadata": {},
     "output_type": "display_data"
    },
    {
     "name": "stdout",
     "output_type": "stream",
     "text": [
      "acceptance rate:  1.0\n"
     ]
    },
    {
     "data": {
      "application/vnd.jupyter.widget-view+json": {
       "model_id": "d52745fd75274bd28289c91c74954e19",
       "version_major": 2,
       "version_minor": 0
      },
      "text/plain": [
       "Drawing 1000 posterior samples:   0%|          | 0/1000 [00:00<?, ?it/s]"
      ]
     },
     "metadata": {},
     "output_type": "display_data"
    },
    {
     "name": "stdout",
     "output_type": "stream",
     "text": [
      "acceptance rate:  1.0\n"
     ]
    },
    {
     "data": {
      "application/vnd.jupyter.widget-view+json": {
       "model_id": "12b7ff46ef2347a0a265f255067d7429",
       "version_major": 2,
       "version_minor": 0
      },
      "text/plain": [
       "Drawing 1000 posterior samples:   0%|          | 0/1000 [00:00<?, ?it/s]"
      ]
     },
     "metadata": {},
     "output_type": "display_data"
    },
    {
     "name": "stdout",
     "output_type": "stream",
     "text": [
      "acceptance rate:  1.0\n"
     ]
    },
    {
     "data": {
      "application/vnd.jupyter.widget-view+json": {
       "model_id": "5b19e9b7308844afac0d6b07320892b5",
       "version_major": 2,
       "version_minor": 0
      },
      "text/plain": [
       "Drawing 1000 posterior samples:   0%|          | 0/1000 [00:00<?, ?it/s]"
      ]
     },
     "metadata": {},
     "output_type": "display_data"
    },
    {
     "name": "stdout",
     "output_type": "stream",
     "text": [
      "acceptance rate:  1.0\n"
     ]
    },
    {
     "data": {
      "application/vnd.jupyter.widget-view+json": {
       "model_id": "30050e38fa7947ef8bd0c19a6021b952",
       "version_major": 2,
       "version_minor": 0
      },
      "text/plain": [
       "Drawing 1000 posterior samples:   0%|          | 0/1000 [00:00<?, ?it/s]"
      ]
     },
     "metadata": {},
     "output_type": "display_data"
    },
    {
     "name": "stdout",
     "output_type": "stream",
     "text": [
      "acceptance rate:  1.0\n"
     ]
    },
    {
     "data": {
      "application/vnd.jupyter.widget-view+json": {
       "model_id": "ff76379cbdfe425788369ae3f0b4b995",
       "version_major": 2,
       "version_minor": 0
      },
      "text/plain": [
       "Drawing 1000 posterior samples:   0%|          | 0/1000 [00:00<?, ?it/s]"
      ]
     },
     "metadata": {},
     "output_type": "display_data"
    },
    {
     "name": "stdout",
     "output_type": "stream",
     "text": [
      "acceptance rate:  1.0\n"
     ]
    },
    {
     "data": {
      "application/vnd.jupyter.widget-view+json": {
       "model_id": "5bc8ca3157f544c8be691458b5e72d46",
       "version_major": 2,
       "version_minor": 0
      },
      "text/plain": [
       "Drawing 1000 posterior samples:   0%|          | 0/1000 [00:00<?, ?it/s]"
      ]
     },
     "metadata": {},
     "output_type": "display_data"
    },
    {
     "name": "stdout",
     "output_type": "stream",
     "text": [
      "acceptance rate:  1.0\n"
     ]
    },
    {
     "data": {
      "application/vnd.jupyter.widget-view+json": {
       "model_id": "48476ed6ec5a43b4923eada01de51636",
       "version_major": 2,
       "version_minor": 0
      },
      "text/plain": [
       "Drawing 1000 posterior samples:   0%|          | 0/1000 [00:00<?, ?it/s]"
      ]
     },
     "metadata": {},
     "output_type": "display_data"
    },
    {
     "name": "stdout",
     "output_type": "stream",
     "text": [
      "acceptance rate:  1.0\n"
     ]
    },
    {
     "data": {
      "application/vnd.jupyter.widget-view+json": {
       "model_id": "4c9d478cfee44d319a868f0836766a01",
       "version_major": 2,
       "version_minor": 0
      },
      "text/plain": [
       "Drawing 1000 posterior samples:   0%|          | 0/1000 [00:00<?, ?it/s]"
      ]
     },
     "metadata": {},
     "output_type": "display_data"
    },
    {
     "name": "stdout",
     "output_type": "stream",
     "text": [
      "acceptance rate:  1.0\n"
     ]
    },
    {
     "data": {
      "application/vnd.jupyter.widget-view+json": {
       "model_id": "93e9e48c95324a96b03db5946ede7909",
       "version_major": 2,
       "version_minor": 0
      },
      "text/plain": [
       "Drawing 1000 posterior samples:   0%|          | 0/1000 [00:00<?, ?it/s]"
      ]
     },
     "metadata": {},
     "output_type": "display_data"
    },
    {
     "name": "stdout",
     "output_type": "stream",
     "text": [
      "acceptance rate:  1.0\n"
     ]
    },
    {
     "data": {
      "application/vnd.jupyter.widget-view+json": {
       "model_id": "5dfee0a8663b4c1989f3d6028e063dcf",
       "version_major": 2,
       "version_minor": 0
      },
      "text/plain": [
       "Drawing 1000 posterior samples:   0%|          | 0/1000 [00:00<?, ?it/s]"
      ]
     },
     "metadata": {},
     "output_type": "display_data"
    },
    {
     "name": "stdout",
     "output_type": "stream",
     "text": [
      "acceptance rate:  1.0\n"
     ]
    },
    {
     "data": {
      "application/vnd.jupyter.widget-view+json": {
       "model_id": "4d1d988e90674187b804da3a8a1d3836",
       "version_major": 2,
       "version_minor": 0
      },
      "text/plain": [
       "Drawing 1000 posterior samples:   0%|          | 0/1000 [00:00<?, ?it/s]"
      ]
     },
     "metadata": {},
     "output_type": "display_data"
    },
    {
     "name": "stdout",
     "output_type": "stream",
     "text": [
      "acceptance rate:  1.0\n"
     ]
    },
    {
     "data": {
      "application/vnd.jupyter.widget-view+json": {
       "model_id": "4405b232c3ea485bab3652d5aca0dbb6",
       "version_major": 2,
       "version_minor": 0
      },
      "text/plain": [
       "Drawing 1000 posterior samples:   0%|          | 0/1000 [00:00<?, ?it/s]"
      ]
     },
     "metadata": {},
     "output_type": "display_data"
    },
    {
     "name": "stdout",
     "output_type": "stream",
     "text": [
      "acceptance rate:  1.0\n"
     ]
    },
    {
     "data": {
      "application/vnd.jupyter.widget-view+json": {
       "model_id": "c412a460693d4c45bfb3b706da81940e",
       "version_major": 2,
       "version_minor": 0
      },
      "text/plain": [
       "Drawing 1000 posterior samples:   0%|          | 0/1000 [00:00<?, ?it/s]"
      ]
     },
     "metadata": {},
     "output_type": "display_data"
    },
    {
     "name": "stdout",
     "output_type": "stream",
     "text": [
      "acceptance rate:  1.0\n"
     ]
    },
    {
     "data": {
      "application/vnd.jupyter.widget-view+json": {
       "model_id": "db608bdf233b4723a3a4759ceebdf3fb",
       "version_major": 2,
       "version_minor": 0
      },
      "text/plain": [
       "Drawing 1000 posterior samples:   0%|          | 0/1000 [00:00<?, ?it/s]"
      ]
     },
     "metadata": {},
     "output_type": "display_data"
    },
    {
     "name": "stdout",
     "output_type": "stream",
     "text": [
      "acceptance rate:  1.0\n"
     ]
    },
    {
     "data": {
      "application/vnd.jupyter.widget-view+json": {
       "model_id": "65329b001d2d4c46b5b365c0540c80f3",
       "version_major": 2,
       "version_minor": 0
      },
      "text/plain": [
       "Drawing 1000 posterior samples:   0%|          | 0/1000 [00:00<?, ?it/s]"
      ]
     },
     "metadata": {},
     "output_type": "display_data"
    },
    {
     "name": "stdout",
     "output_type": "stream",
     "text": [
      "acceptance rate:  1.0\n"
     ]
    },
    {
     "data": {
      "application/vnd.jupyter.widget-view+json": {
       "model_id": "f546c69e6f114b70be2b8f4ae4db8af0",
       "version_major": 2,
       "version_minor": 0
      },
      "text/plain": [
       "Drawing 1000 posterior samples:   0%|          | 0/1000 [00:00<?, ?it/s]"
      ]
     },
     "metadata": {},
     "output_type": "display_data"
    },
    {
     "name": "stdout",
     "output_type": "stream",
     "text": [
      "acceptance rate:  1.0\n"
     ]
    },
    {
     "data": {
      "application/vnd.jupyter.widget-view+json": {
       "model_id": "1499dfe1833448f78a34ac28c13eec2c",
       "version_major": 2,
       "version_minor": 0
      },
      "text/plain": [
       "Drawing 1000 posterior samples:   0%|          | 0/1000 [00:00<?, ?it/s]"
      ]
     },
     "metadata": {},
     "output_type": "display_data"
    },
    {
     "name": "stdout",
     "output_type": "stream",
     "text": [
      "acceptance rate:  1.0\n"
     ]
    },
    {
     "data": {
      "application/vnd.jupyter.widget-view+json": {
       "model_id": "1555f57b2adf4075a83f1ebd29482333",
       "version_major": 2,
       "version_minor": 0
      },
      "text/plain": [
       "Drawing 1000 posterior samples:   0%|          | 0/1000 [00:00<?, ?it/s]"
      ]
     },
     "metadata": {},
     "output_type": "display_data"
    },
    {
     "name": "stdout",
     "output_type": "stream",
     "text": [
      "acceptance rate:  1.0\n"
     ]
    },
    {
     "data": {
      "application/vnd.jupyter.widget-view+json": {
       "model_id": "a1718c92d4f34fbe9c718750a2a59b45",
       "version_major": 2,
       "version_minor": 0
      },
      "text/plain": [
       "Drawing 1000 posterior samples:   0%|          | 0/1000 [00:00<?, ?it/s]"
      ]
     },
     "metadata": {},
     "output_type": "display_data"
    },
    {
     "name": "stdout",
     "output_type": "stream",
     "text": [
      "acceptance rate:  1.0\n"
     ]
    },
    {
     "data": {
      "application/vnd.jupyter.widget-view+json": {
       "model_id": "6a272a2eb48b445c99f376fbecb8e2c4",
       "version_major": 2,
       "version_minor": 0
      },
      "text/plain": [
       "Drawing 1000 posterior samples:   0%|          | 0/1000 [00:00<?, ?it/s]"
      ]
     },
     "metadata": {},
     "output_type": "display_data"
    },
    {
     "name": "stdout",
     "output_type": "stream",
     "text": [
      "acceptance rate:  1.0\n"
     ]
    },
    {
     "data": {
      "application/vnd.jupyter.widget-view+json": {
       "model_id": "0df858f2edd04c74b841583f332542aa",
       "version_major": 2,
       "version_minor": 0
      },
      "text/plain": [
       "Drawing 1000 posterior samples:   0%|          | 0/1000 [00:00<?, ?it/s]"
      ]
     },
     "metadata": {},
     "output_type": "display_data"
    },
    {
     "name": "stdout",
     "output_type": "stream",
     "text": [
      "acceptance rate:  1.0\n"
     ]
    },
    {
     "data": {
      "application/vnd.jupyter.widget-view+json": {
       "model_id": "b458b2ace3f84e90875774c4eb149688",
       "version_major": 2,
       "version_minor": 0
      },
      "text/plain": [
       "Drawing 1000 posterior samples:   0%|          | 0/1000 [00:00<?, ?it/s]"
      ]
     },
     "metadata": {},
     "output_type": "display_data"
    },
    {
     "name": "stdout",
     "output_type": "stream",
     "text": [
      "acceptance rate:  1.0\n"
     ]
    },
    {
     "data": {
      "application/vnd.jupyter.widget-view+json": {
       "model_id": "17adffaebed94fc6993d4ab2b6829c32",
       "version_major": 2,
       "version_minor": 0
      },
      "text/plain": [
       "Drawing 1000 posterior samples:   0%|          | 0/1000 [00:00<?, ?it/s]"
      ]
     },
     "metadata": {},
     "output_type": "display_data"
    },
    {
     "name": "stdout",
     "output_type": "stream",
     "text": [
      "acceptance rate:  1.0\n"
     ]
    },
    {
     "data": {
      "application/vnd.jupyter.widget-view+json": {
       "model_id": "499ba4c1bd74461b9e348be2ba6f3e04",
       "version_major": 2,
       "version_minor": 0
      },
      "text/plain": [
       "Drawing 1000 posterior samples:   0%|          | 0/1000 [00:00<?, ?it/s]"
      ]
     },
     "metadata": {},
     "output_type": "display_data"
    },
    {
     "name": "stdout",
     "output_type": "stream",
     "text": [
      "acceptance rate:  1.0\n"
     ]
    },
    {
     "data": {
      "application/vnd.jupyter.widget-view+json": {
       "model_id": "245e94e8eaea448282c43f1a9b79e1e3",
       "version_major": 2,
       "version_minor": 0
      },
      "text/plain": [
       "Drawing 1000 posterior samples:   0%|          | 0/1000 [00:00<?, ?it/s]"
      ]
     },
     "metadata": {},
     "output_type": "display_data"
    },
    {
     "name": "stdout",
     "output_type": "stream",
     "text": [
      "acceptance rate:  1.0\n"
     ]
    }
   ],
   "source": [
    "torch.manual_seed(5)\n",
    "np.random.seed(5)\n",
    "\n",
    "obs_real = Gaussian(true_thetas[0, 0:])\n",
    "\n",
    "\n",
    "\n",
    "analytic = torch.distributions.normal.Normal(true_thetas, 1)\n",
    "\n",
    "\n",
    "overall_incremental_list = []\n",
    "\n",
    "variance_list = []\n",
    "\n",
    "mean_list = []\n",
    "\n",
    "for posterior_incremental_list in list_collection_inc:\n",
    "    \n",
    "    KL_incremental = []\n",
    "\n",
    "    for posterior_incremental in posterior_incremental_list:\n",
    "\n",
    "        posterior_incremental.set_default_x(obs_real)\n",
    "\n",
    "        #KL = KLdivergence(posterior_incremental, sample_y)\n",
    "\n",
    "        KL, var_x, mu_x = KL_Gauss(posterior_incremental, analytic)\n",
    "        \n",
    "        variance_list.append(var_x)\n",
    "        mean_list.append(mu_x)\n",
    "\n",
    "        #KL_1d = calc_KL_1d(posterior_incremental, analytic)\n",
    "\n",
    "        #KL_incremental_1d.append(KL_1d)\n",
    "\n",
    "\n",
    "        KL_incremental.append(KL)\n",
    "\n",
    "        \n",
    "    overall_incremental_list.append(KL_incremental)"
   ]
  },
  {
   "cell_type": "code",
   "execution_count": 14,
   "id": "6a67366a",
   "metadata": {},
   "outputs": [],
   "source": [
    "mean_incremental = np.mean(np.array(overall_incremental_list), axis=0)\n",
    "\n",
    "\n",
    "stdev_incremental = np.std(np.array(overall_incremental_list), axis=0)\n",
    "\n",
    "\n",
    "\n",
    "lower_incremental = mean_incremental - [element * 0.5 for element in stdev_incremental]\n",
    "\n",
    "upper_incremental = mean_incremental + [element * 0.5 for element in stdev_incremental]"
   ]
  },
  {
   "cell_type": "code",
   "execution_count": 15,
   "id": "babbcf05",
   "metadata": {},
   "outputs": [],
   "source": [
    "import seaborn as sns"
   ]
  },
  {
   "cell_type": "code",
   "execution_count": 16,
   "id": "70289653",
   "metadata": {},
   "outputs": [],
   "source": [
    "mean_snpe = np.mean(np.array(overall_snpe_list), axis=0)\n",
    "\n",
    "\n",
    "stdev_snpe = np.std(np.array(overall_snpe_list), axis=0)\n",
    "\n",
    "\n",
    "lower_snpe = mean_snpe - [element * 0.5 for element in stdev_snpe]\n",
    "\n",
    "upper_snpe = mean_snpe + [element * 0.5 for element in stdev_snpe]"
   ]
  },
  {
   "cell_type": "code",
   "execution_count": 17,
   "id": "3f0c3f44",
   "metadata": {},
   "outputs": [],
   "source": [
    "num_simulations_list = [500, 750, 1000, 1500, 2000, 3000]"
   ]
  },
  {
   "cell_type": "code",
   "execution_count": 23,
   "id": "e48db975",
   "metadata": {},
   "outputs": [
    {
     "data": {
      "image/png": "[encoded data removed]",
      "text/plain": [
       "<Figure size 432x288 with 1 Axes>"
      ]
     },
     "metadata": {
      "needs_background": "light"
     },
     "output_type": "display_data"
    }
   ],
   "source": [
    "sns.set_context('notebook')\n",
    "#sns.set_context('talk')\n",
    "\n",
    "plt.plot(num_simulations_list, mean_incremental, '-o',label='incremental', color='purple')\n",
    "plt.plot(num_simulations_list, mean_snpe, '-o', label='snpe', color='springgreen')\n",
    "\n",
    "plt.plot(num_simulations_list, upper_incremental, '--', color='purple')\n",
    "plt.plot(num_simulations_list, upper_snpe, '--',  color='springgreen', alpha=0.8)\n",
    "\n",
    "plt.plot(num_simulations_list, lower_incremental, '--',  color='purple')\n",
    "plt.plot(num_simulations_list, lower_snpe, '--',  color='springgreen', alpha=0.8)\n",
    "\n",
    "\n",
    "plt.fill_between(x= num_simulations_list, y1=lower_incremental, y2=upper_incremental, color='purple', alpha=0.5,  label='1 stdv')\n",
    "plt.fill_between(x= num_simulations_list, y1=lower_snpe, y2=upper_snpe, color='springgreen', alpha=0.2, label='1 stdv')\n",
    "\n",
    "\n",
    "plt.legend()\n",
    "\n",
    "\n",
    "\n",
    "plt.xlabel('simulations per round')\n",
    "plt.ylabel('KL divergence')\n",
    "\n",
    "sns.despine()\n",
    "\n"
   ]
  },
  {
   "cell_type": "code",
   "execution_count": null,
   "id": "a5633279",
   "metadata": {},
   "outputs": [],
   "source": []
  },
  {
   "cell_type": "code",
   "execution_count": null,
   "id": "c65d0d39",
   "metadata": {},
   "outputs": [],
   "source": []
  }
 ],
 "metadata": {
  "kernelspec": {
   "display_name": "Python 3 (ipykernel)",
   "language": "python",
   "name": "python3"
  },
  "language_info": {
   "codemirror_mode": {
    "name": "ipython",
    "version": 3
   },
   "file_extension": ".py",
   "mimetype": "text/x-python",
   "name": "python",
   "nbconvert_exporter": "python",
   "pygments_lexer": "ipython3",
   "version": "3.7.11"
  }
 },
 "nbformat": 4,
 "nbformat_minor": 5
}
