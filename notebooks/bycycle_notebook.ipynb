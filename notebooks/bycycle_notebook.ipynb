{
 "cells": [
  {
   "cell_type": "code",
   "execution_count": 1,
   "id": "8f69e145",
   "metadata": {},
   "outputs": [],
   "source": [
    "%load_ext autoreload\n",
    "%autoreload 2\n",
    "\n",
    "import sys\n",
    "sys.path.append('../code/')\n",
    "\n",
    "from bycycle import features\n",
    "from bycycle import cyclepoints\n",
    "from bycycle.plts import plot_burst_detect_summary, plot_cyclepoints_array\n",
    "from bycycle.cyclepoints import find_extrema, find_zerox\n",
    "from neurodsp.filt import filter_signal\n",
    "\n",
    "import os.path as op\n",
    "import tempfile\n",
    "\n",
    "import matplotlib.pyplot as plt\n",
    "\n",
    "\n",
    "import hnn_core\n",
    "from hnn_core import simulate_dipole, jones_2009_model\n",
    "from hnn_core.viz import plot_dipole\n",
    "\n",
    "\n",
    "\n",
    "from utils import inference\n",
    "from utils.simulation_wrapper import (\n",
    "    simulation_wrapper,\n",
    "    simulation_wrapper_obs,\n",
    "\n",
    ")\n",
    "import torch\n",
    "\n",
    "import matplotlib.pyplot as plt\n",
    "\n",
    "\n",
    "\n",
    "from sbi import utils as utils\n",
    "from sbi import analysis as analysis\n",
    "from sbi.inference import SNPE_C, prepare_for_sbi, simulate_for_sbi"
   ]
  },
  {
   "cell_type": "code",
   "execution_count": 18,
   "id": "f3688f11",
   "metadata": {},
   "outputs": [
    {
     "name": "stdout",
     "output_type": "stream",
     "text": [
      "2\n",
      "params size torch.Size([2, 2])\n",
      "2 params are investigated\n",
      "joblib will run over 1 jobs\n",
      "2\n",
      "params size torch.Size([2])\n",
      "2 params are investigated\n",
      "joblib will run over 1 jobs\n",
      "Building the NEURON model\n",
      "[Done]\n",
      "running trial 1 on 1 cores\n",
      "Simulation time: 0.03 ms...\n",
      "Simulation time: 10.0 ms...\n",
      "Simulation time: 20.0 ms...\n",
      "Simulation time: 30.0 ms...\n",
      "Simulation time: 40.0 ms...\n",
      "Simulation time: 50.0 ms...\n",
      "Simulation time: 60.0 ms...\n",
      "Simulation time: 70.0 ms...\n",
      "Simulation time: 80.0 ms...\n",
      "Simulation time: 90.0 ms...\n",
      "Simulation time: 100.0 ms...\n",
      "Simulation time: 110.0 ms...\n",
      "Simulation time: 120.0 ms...\n",
      "Simulation time: 130.0 ms...\n",
      "Simulation time: 140.0 ms...\n",
      "Simulation time: 150.0 ms...\n",
      "Simulation time: 160.0 ms...\n"
     ]
    },
    {
     "data": {
      "application/vnd.jupyter.widget-view+json": {
       "model_id": "84ccdeb70230484d8f2fe796d56f7674",
       "version_major": 2,
       "version_minor": 0
      },
      "text/plain": [
       "Running 8 simulations in 8 batches.:   0%|          | 0/8 [00:00<?, ?it/s]"
      ]
     },
     "metadata": {},
     "output_type": "display_data"
    }
   ],
   "source": [
    "\n",
    "\n",
    "sim_wrapper = simulation_wrapper_obs\n",
    "prior_min = [7.9, 43.8] \n",
    "\n",
    "prior_max = [30, 79.9]\n",
    "\n",
    "true_params = torch.tensor([[26.61, 63.53]])\n",
    "\n",
    "prior = utils.torchutils.BoxUniform(low=prior_min, high=prior_max)\n",
    "\n",
    "theta, x_without = inference.run_sim_theta_x(\n",
    "        prior, \n",
    "        simulation_wrapper=sim_wrapper, \n",
    "        num_simulations=8, \n",
    "        num_workers=8\n",
    "    )"
   ]
  },
  {
   "cell_type": "code",
   "execution_count": 28,
   "id": "c8f8959b",
   "metadata": {},
   "outputs": [
    {
     "name": "stdout",
     "output_type": "stream",
     "text": [
      "[530]\n",
      "2100\n"
     ]
    },
    {
     "data": {
      "image/png": "[encoded data removed]",
      "text/plain": [
       "<Figure size 432x288 with 1 Axes>"
      ]
     },
     "metadata": {
      "needs_background": "light"
     },
     "output_type": "display_data"
    }
   ],
   "source": [
    "import numpy as np\n",
    "\n",
    "x_without[0]\n",
    "\n",
    "xi = np.arange(len(x_without[0]))\n",
    "\n",
    "plt.plot(xi, x_without[0])\n",
    "\n",
    "plt.xlabel('time in ms')\n",
    "\n",
    "\n",
    "print(np.argwhere(np.diff(np.sign(x_without[0])))[1])\n",
    "\n",
    "print(70*30)"
   ]
  },
  {
   "cell_type": "code",
   "execution_count": 81,
   "id": "4074fede",
   "metadata": {},
   "outputs": [
    {
     "data": {
      "text/plain": [
       "torch.Size([1, 1373])"
      ]
     },
     "execution_count": 81,
     "metadata": {},
     "output_type": "execute_result"
    }
   ],
   "source": [
    "amp_frac.shape"
   ]
  },
  {
   "cell_type": "code",
   "execution_count": 123,
   "id": "feca25bc",
   "metadata": {},
   "outputs": [
    {
     "data": {
      "text/html": [
       "<div>\n",
       "<style scoped>\n",
       "    .dataframe tbody tr th:only-of-type {\n",
       "        vertical-align: middle;\n",
       "    }\n",
       "\n",
       "    .dataframe tbody tr th {\n",
       "        vertical-align: top;\n",
       "    }\n",
       "\n",
       "    .dataframe thead th {\n",
       "        text-align: right;\n",
       "    }\n",
       "</style>\n",
       "<table border=\"1\" class=\"dataframe\">\n",
       "  <thead>\n",
       "    <tr style=\"text-align: right;\">\n",
       "      <th></th>\n",
       "      <th>amp_fraction</th>\n",
       "      <th>amp_consistency</th>\n",
       "      <th>period_consistency</th>\n",
       "      <th>monotonicity</th>\n",
       "      <th>period</th>\n",
       "      <th>time_peak</th>\n",
       "      <th>time_trough</th>\n",
       "      <th>volt_peak</th>\n",
       "      <th>volt_trough</th>\n",
       "      <th>time_decay</th>\n",
       "      <th>...</th>\n",
       "      <th>time_rdsym</th>\n",
       "      <th>time_ptsym</th>\n",
       "      <th>band_amp</th>\n",
       "      <th>sample_peak</th>\n",
       "      <th>sample_last_zerox_decay</th>\n",
       "      <th>sample_zerox_decay</th>\n",
       "      <th>sample_zerox_rise</th>\n",
       "      <th>sample_last_trough</th>\n",
       "      <th>sample_next_trough</th>\n",
       "      <th>is_burst</th>\n",
       "    </tr>\n",
       "  </thead>\n",
       "  <tbody>\n",
       "    <tr>\n",
       "      <th>0</th>\n",
       "      <td>0.666667</td>\n",
       "      <td>NaN</td>\n",
       "      <td>NaN</td>\n",
       "      <td>1.000000</td>\n",
       "      <td>919</td>\n",
       "      <td>494</td>\n",
       "      <td>103</td>\n",
       "      <td>5.068566</td>\n",
       "      <td>1.870764</td>\n",
       "      <td>653</td>\n",
       "      <td>...</td>\n",
       "      <td>0.289445</td>\n",
       "      <td>0.827471</td>\n",
       "      <td>NaN</td>\n",
       "      <td>395</td>\n",
       "      <td>129</td>\n",
       "      <td>726</td>\n",
       "      <td>232</td>\n",
       "      <td>129</td>\n",
       "      <td>1048</td>\n",
       "      <td>False</td>\n",
       "    </tr>\n",
       "    <tr>\n",
       "      <th>1</th>\n",
       "      <td>0.083333</td>\n",
       "      <td>-0.036482</td>\n",
       "      <td>0.159956</td>\n",
       "      <td>0.445205</td>\n",
       "      <td>147</td>\n",
       "      <td>52</td>\n",
       "      <td>417</td>\n",
       "      <td>-10.936421</td>\n",
       "      <td>-11.427473</td>\n",
       "      <td>1</td>\n",
       "      <td>...</td>\n",
       "      <td>0.993197</td>\n",
       "      <td>0.110874</td>\n",
       "      <td>NaN</td>\n",
       "      <td>1194</td>\n",
       "      <td>726</td>\n",
       "      <td>1195</td>\n",
       "      <td>1143</td>\n",
       "      <td>1048</td>\n",
       "      <td>1195</td>\n",
       "      <td>False</td>\n",
       "    </tr>\n",
       "    <tr>\n",
       "      <th>2</th>\n",
       "      <td>0.500000</td>\n",
       "      <td>-0.036482</td>\n",
       "      <td>0.318182</td>\n",
       "      <td>0.782051</td>\n",
       "      <td>462</td>\n",
       "      <td>351</td>\n",
       "      <td>11</td>\n",
       "      <td>-10.847713</td>\n",
       "      <td>-10.933299</td>\n",
       "      <td>306</td>\n",
       "      <td>...</td>\n",
       "      <td>0.337662</td>\n",
       "      <td>0.969613</td>\n",
       "      <td>NaN</td>\n",
       "      <td>1351</td>\n",
       "      <td>1195</td>\n",
       "      <td>1557</td>\n",
       "      <td>1206</td>\n",
       "      <td>1195</td>\n",
       "      <td>1657</td>\n",
       "      <td>False</td>\n",
       "    </tr>\n",
       "    <tr>\n",
       "      <th>3</th>\n",
       "      <td>0.750000</td>\n",
       "      <td>-0.005228</td>\n",
       "      <td>0.559889</td>\n",
       "      <td>0.500000</td>\n",
       "      <td>359</td>\n",
       "      <td>132</td>\n",
       "      <td>101</td>\n",
       "      <td>-26.008766</td>\n",
       "      <td>-25.929914</td>\n",
       "      <td>358</td>\n",
       "      <td>...</td>\n",
       "      <td>0.002786</td>\n",
       "      <td>0.566524</td>\n",
       "      <td>NaN</td>\n",
       "      <td>1658</td>\n",
       "      <td>1557</td>\n",
       "      <td>1790</td>\n",
       "      <td>1658</td>\n",
       "      <td>1657</td>\n",
       "      <td>2016</td>\n",
       "      <td>False</td>\n",
       "    </tr>\n",
       "    <tr>\n",
       "      <th>4</th>\n",
       "      <td>0.416667</td>\n",
       "      <td>-0.008331</td>\n",
       "      <td>0.344178</td>\n",
       "      <td>0.500000</td>\n",
       "      <td>201</td>\n",
       "      <td>68</td>\n",
       "      <td>359</td>\n",
       "      <td>-39.594105</td>\n",
       "      <td>-48.123508</td>\n",
       "      <td>1</td>\n",
       "      <td>...</td>\n",
       "      <td>0.995025</td>\n",
       "      <td>0.159251</td>\n",
       "      <td>NaN</td>\n",
       "      <td>2216</td>\n",
       "      <td>1790</td>\n",
       "      <td>2217</td>\n",
       "      <td>2149</td>\n",
       "      <td>2016</td>\n",
       "      <td>2217</td>\n",
       "      <td>False</td>\n",
       "    </tr>\n",
       "    <tr>\n",
       "      <th>5</th>\n",
       "      <td>0.833333</td>\n",
       "      <td>-0.003995</td>\n",
       "      <td>0.136986</td>\n",
       "      <td>1.000000</td>\n",
       "      <td>584</td>\n",
       "      <td>360</td>\n",
       "      <td>117</td>\n",
       "      <td>-21.737106</td>\n",
       "      <td>-39.523048</td>\n",
       "      <td>260</td>\n",
       "      <td>...</td>\n",
       "      <td>0.554795</td>\n",
       "      <td>0.754717</td>\n",
       "      <td>NaN</td>\n",
       "      <td>2541</td>\n",
       "      <td>2217</td>\n",
       "      <td>2694</td>\n",
       "      <td>2334</td>\n",
       "      <td>2217</td>\n",
       "      <td>2801</td>\n",
       "      <td>False</td>\n",
       "    </tr>\n",
       "    <tr>\n",
       "      <th>6</th>\n",
       "      <td>0.166667</td>\n",
       "      <td>-0.017731</td>\n",
       "      <td>0.120664</td>\n",
       "      <td>0.500000</td>\n",
       "      <td>80</td>\n",
       "      <td>28</td>\n",
       "      <td>108</td>\n",
       "      <td>-28.251055</td>\n",
       "      <td>-28.234234</td>\n",
       "      <td>79</td>\n",
       "      <td>...</td>\n",
       "      <td>0.012500</td>\n",
       "      <td>0.205882</td>\n",
       "      <td>NaN</td>\n",
       "      <td>2802</td>\n",
       "      <td>2694</td>\n",
       "      <td>2830</td>\n",
       "      <td>2802</td>\n",
       "      <td>2801</td>\n",
       "      <td>2881</td>\n",
       "      <td>False</td>\n",
       "    </tr>\n",
       "    <tr>\n",
       "      <th>7</th>\n",
       "      <td>1.000000</td>\n",
       "      <td>-0.003395</td>\n",
       "      <td>0.120664</td>\n",
       "      <td>0.500000</td>\n",
       "      <td>663</td>\n",
       "      <td>304</td>\n",
       "      <td>410</td>\n",
       "      <td>23.639877</td>\n",
       "      <td>-29.199730</td>\n",
       "      <td>1</td>\n",
       "      <td>...</td>\n",
       "      <td>0.998492</td>\n",
       "      <td>0.425770</td>\n",
       "      <td>NaN</td>\n",
       "      <td>3543</td>\n",
       "      <td>2830</td>\n",
       "      <td>3544</td>\n",
       "      <td>3240</td>\n",
       "      <td>2881</td>\n",
       "      <td>3544</td>\n",
       "      <td>False</td>\n",
       "    </tr>\n",
       "    <tr>\n",
       "      <th>8</th>\n",
       "      <td>0.583333</td>\n",
       "      <td>-0.009779</td>\n",
       "      <td>0.243269</td>\n",
       "      <td>0.500000</td>\n",
       "      <td>515</td>\n",
       "      <td>315</td>\n",
       "      <td>200</td>\n",
       "      <td>39.047291</td>\n",
       "      <td>23.692013</td>\n",
       "      <td>1</td>\n",
       "      <td>...</td>\n",
       "      <td>0.998058</td>\n",
       "      <td>0.611650</td>\n",
       "      <td>NaN</td>\n",
       "      <td>4058</td>\n",
       "      <td>3544</td>\n",
       "      <td>4059</td>\n",
       "      <td>3744</td>\n",
       "      <td>3544</td>\n",
       "      <td>4059</td>\n",
       "      <td>False</td>\n",
       "    </tr>\n",
       "    <tr>\n",
       "      <th>9</th>\n",
       "      <td>0.916667</td>\n",
       "      <td>-0.009779</td>\n",
       "      <td>0.077940</td>\n",
       "      <td>1.000000</td>\n",
       "      <td>2117</td>\n",
       "      <td>827</td>\n",
       "      <td>60</td>\n",
       "      <td>40.610241</td>\n",
       "      <td>39.062428</td>\n",
       "      <td>1934</td>\n",
       "      <td>...</td>\n",
       "      <td>0.086443</td>\n",
       "      <td>0.932356</td>\n",
       "      <td>NaN</td>\n",
       "      <td>4242</td>\n",
       "      <td>4059</td>\n",
       "      <td>4946</td>\n",
       "      <td>4119</td>\n",
       "      <td>4059</td>\n",
       "      <td>6176</td>\n",
       "      <td>False</td>\n",
       "    </tr>\n",
       "    <tr>\n",
       "      <th>10</th>\n",
       "      <td>0.250000</td>\n",
       "      <td>-0.007884</td>\n",
       "      <td>0.077940</td>\n",
       "      <td>0.500000</td>\n",
       "      <td>165</td>\n",
       "      <td>91</td>\n",
       "      <td>1231</td>\n",
       "      <td>17.270441</td>\n",
       "      <td>17.274904</td>\n",
       "      <td>164</td>\n",
       "      <td>...</td>\n",
       "      <td>0.006061</td>\n",
       "      <td>0.068835</td>\n",
       "      <td>NaN</td>\n",
       "      <td>6177</td>\n",
       "      <td>4946</td>\n",
       "      <td>6268</td>\n",
       "      <td>6177</td>\n",
       "      <td>6176</td>\n",
       "      <td>6341</td>\n",
       "      <td>False</td>\n",
       "    </tr>\n",
       "    <tr>\n",
       "      <th>11</th>\n",
       "      <td>0.333333</td>\n",
       "      <td>NaN</td>\n",
       "      <td>NaN</td>\n",
       "      <td>0.500000</td>\n",
       "      <td>280</td>\n",
       "      <td>170</td>\n",
       "      <td>74</td>\n",
       "      <td>16.193178</td>\n",
       "      <td>16.201605</td>\n",
       "      <td>279</td>\n",
       "      <td>...</td>\n",
       "      <td>0.003571</td>\n",
       "      <td>0.696721</td>\n",
       "      <td>NaN</td>\n",
       "      <td>6342</td>\n",
       "      <td>6268</td>\n",
       "      <td>6512</td>\n",
       "      <td>6342</td>\n",
       "      <td>6341</td>\n",
       "      <td>6621</td>\n",
       "      <td>False</td>\n",
       "    </tr>\n",
       "  </tbody>\n",
       "</table>\n",
       "<p>12 rows × 24 columns</p>\n",
       "</div>"
      ],
      "text/plain": [
       "    amp_fraction  amp_consistency  period_consistency  monotonicity  period  \\\n",
       "0       0.666667              NaN                 NaN      1.000000     919   \n",
       "1       0.083333        -0.036482            0.159956      0.445205     147   \n",
       "2       0.500000        -0.036482            0.318182      0.782051     462   \n",
       "3       0.750000        -0.005228            0.559889      0.500000     359   \n",
       "4       0.416667        -0.008331            0.344178      0.500000     201   \n",
       "5       0.833333        -0.003995            0.136986      1.000000     584   \n",
       "6       0.166667        -0.017731            0.120664      0.500000      80   \n",
       "7       1.000000        -0.003395            0.120664      0.500000     663   \n",
       "8       0.583333        -0.009779            0.243269      0.500000     515   \n",
       "9       0.916667        -0.009779            0.077940      1.000000    2117   \n",
       "10      0.250000        -0.007884            0.077940      0.500000     165   \n",
       "11      0.333333              NaN                 NaN      0.500000     280   \n",
       "\n",
       "    time_peak  time_trough  volt_peak  volt_trough  time_decay  ...  \\\n",
       "0         494          103   5.068566     1.870764         653  ...   \n",
       "1          52          417 -10.936421   -11.427473           1  ...   \n",
       "2         351           11 -10.847713   -10.933299         306  ...   \n",
       "3         132          101 -26.008766   -25.929914         358  ...   \n",
       "4          68          359 -39.594105   -48.123508           1  ...   \n",
       "5         360          117 -21.737106   -39.523048         260  ...   \n",
       "6          28          108 -28.251055   -28.234234          79  ...   \n",
       "7         304          410  23.639877   -29.199730           1  ...   \n",
       "8         315          200  39.047291    23.692013           1  ...   \n",
       "9         827           60  40.610241    39.062428        1934  ...   \n",
       "10         91         1231  17.270441    17.274904         164  ...   \n",
       "11        170           74  16.193178    16.201605         279  ...   \n",
       "\n",
       "    time_rdsym  time_ptsym  band_amp  sample_peak  sample_last_zerox_decay  \\\n",
       "0     0.289445    0.827471       NaN          395                      129   \n",
       "1     0.993197    0.110874       NaN         1194                      726   \n",
       "2     0.337662    0.969613       NaN         1351                     1195   \n",
       "3     0.002786    0.566524       NaN         1658                     1557   \n",
       "4     0.995025    0.159251       NaN         2216                     1790   \n",
       "5     0.554795    0.754717       NaN         2541                     2217   \n",
       "6     0.012500    0.205882       NaN         2802                     2694   \n",
       "7     0.998492    0.425770       NaN         3543                     2830   \n",
       "8     0.998058    0.611650       NaN         4058                     3544   \n",
       "9     0.086443    0.932356       NaN         4242                     4059   \n",
       "10    0.006061    0.068835       NaN         6177                     4946   \n",
       "11    0.003571    0.696721       NaN         6342                     6268   \n",
       "\n",
       "    sample_zerox_decay  sample_zerox_rise  sample_last_trough  \\\n",
       "0                  726                232                 129   \n",
       "1                 1195               1143                1048   \n",
       "2                 1557               1206                1195   \n",
       "3                 1790               1658                1657   \n",
       "4                 2217               2149                2016   \n",
       "5                 2694               2334                2217   \n",
       "6                 2830               2802                2801   \n",
       "7                 3544               3240                2881   \n",
       "8                 4059               3744                3544   \n",
       "9                 4946               4119                4059   \n",
       "10                6268               6177                6176   \n",
       "11                6512               6342                6341   \n",
       "\n",
       "    sample_next_trough  is_burst  \n",
       "0                 1048     False  \n",
       "1                 1195     False  \n",
       "2                 1657     False  \n",
       "3                 2016     False  \n",
       "4                 2217     False  \n",
       "5                 2801     False  \n",
       "6                 2881     False  \n",
       "7                 3544     False  \n",
       "8                 4059     False  \n",
       "9                 6176     False  \n",
       "10                6341     False  \n",
       "11                6621     False  \n",
       "\n",
       "[12 rows x 24 columns]"
      ]
     },
     "execution_count": 123,
     "metadata": {},
     "output_type": "execute_result"
    }
   ],
   "source": [
    "fs = 1000\n",
    "f_range = (2, 100)\n",
    "\n",
    "threshold_kwargs = {'amp_fraction_threshold': 0.1,\n",
    "                    'amp_consistency_threshold': .5,\n",
    "                    'period_consistency_threshold': .45,\n",
    "                    'monotonicity_threshold': .7,\n",
    "                    'min_n_cycles': 0,\n",
    "                   #'max_n_cycles': 5\n",
    "                   }\n",
    "\n",
    "df_features = features.compute_features(x_without[0], fs, f_range, threshold_kwargs=threshold_kwargs)\n",
    "    \n",
    "\n",
    "    \n",
    "df_features\n"
   ]
  },
  {
   "cell_type": "code",
   "execution_count": null,
   "id": "eb003935",
   "metadata": {},
   "outputs": [],
   "source": []
  },
  {
   "cell_type": "code",
   "execution_count": 88,
   "id": "567c06b3",
   "metadata": {},
   "outputs": [
    {
     "ename": "NameError",
     "evalue": "name 'amp_frac_list' is not defined",
     "output_type": "error",
     "traceback": [
      "\u001b[0;31m---------------------------------------------------------------------------\u001b[0m",
      "\u001b[0;31mNameError\u001b[0m                                 Traceback (most recent call last)",
      "\u001b[0;32m/tmp/ipykernel_596944/1612317046.py\u001b[0m in \u001b[0;36m<module>\u001b[0;34m\u001b[0m\n\u001b[0;32m----> 1\u001b[0;31m \u001b[0mamp_tensor\u001b[0m \u001b[0;34m=\u001b[0m \u001b[0mtorch\u001b[0m\u001b[0;34m.\u001b[0m\u001b[0mtensor\u001b[0m\u001b[0;34m(\u001b[0m\u001b[0mamp_frac_list\u001b[0m\u001b[0;34m)\u001b[0m\u001b[0;34m\u001b[0m\u001b[0;34m\u001b[0m\u001b[0m\n\u001b[0m",
      "\u001b[0;31mNameError\u001b[0m: name 'amp_frac_list' is not defined"
     ]
    }
   ],
   "source": [
    "amp_tensor = torch.tensor(amp_frac_list)"
   ]
  },
  {
   "cell_type": "code",
   "execution_count": 89,
   "id": "354241de",
   "metadata": {},
   "outputs": [
    {
     "ename": "NameError",
     "evalue": "name 'amp_tensor' is not defined",
     "output_type": "error",
     "traceback": [
      "\u001b[0;31m---------------------------------------------------------------------------\u001b[0m",
      "\u001b[0;31mNameError\u001b[0m                                 Traceback (most recent call last)",
      "\u001b[0;32m/tmp/ipykernel_596944/3665330846.py\u001b[0m in \u001b[0;36m<module>\u001b[0;34m\u001b[0m\n\u001b[0;32m----> 1\u001b[0;31m \u001b[0mprint\u001b[0m\u001b[0;34m(\u001b[0m\u001b[0mamp_tensor\u001b[0m\u001b[0;34m)\u001b[0m\u001b[0;34m\u001b[0m\u001b[0;34m\u001b[0m\u001b[0m\n\u001b[0m",
      "\u001b[0;31mNameError\u001b[0m: name 'amp_tensor' is not defined"
     ]
    }
   ],
   "source": [
    "print(amp_tensor)"
   ]
  },
  {
   "cell_type": "code",
   "execution_count": 90,
   "id": "89070619",
   "metadata": {},
   "outputs": [
    {
     "ename": "NameError",
     "evalue": "name 'amp_frac_list' is not defined",
     "output_type": "error",
     "traceback": [
      "\u001b[0;31m---------------------------------------------------------------------------\u001b[0m",
      "\u001b[0;31mNameError\u001b[0m                                 Traceback (most recent call last)",
      "\u001b[0;32m/tmp/ipykernel_596944/3779961902.py\u001b[0m in \u001b[0;36m<module>\u001b[0;34m\u001b[0m\n\u001b[1;32m      1\u001b[0m \u001b[0mdf_features\u001b[0m\u001b[0;34m\u001b[0m\u001b[0;34m\u001b[0m\u001b[0m\n\u001b[1;32m      2\u001b[0m \u001b[0;34m\u001b[0m\u001b[0m\n\u001b[0;32m----> 3\u001b[0;31m \u001b[0mprint\u001b[0m\u001b[0;34m(\u001b[0m\u001b[0mlen\u001b[0m\u001b[0;34m(\u001b[0m\u001b[0mamp_frac_list\u001b[0m\u001b[0;34m)\u001b[0m\u001b[0;34m)\u001b[0m\u001b[0;34m\u001b[0m\u001b[0;34m\u001b[0m\u001b[0m\n\u001b[0m",
      "\u001b[0;31mNameError\u001b[0m: name 'amp_frac_list' is not defined"
     ]
    }
   ],
   "source": [
    "\n",
    "df_features\n",
    "\n",
    "print(len(amp_frac_list))"
   ]
  },
  {
   "cell_type": "code",
   "execution_count": 91,
   "id": "9c5b21cf",
   "metadata": {},
   "outputs": [
    {
     "ename": "NameError",
     "evalue": "name 'amp_tensor' is not defined",
     "output_type": "error",
     "traceback": [
      "\u001b[0;31m---------------------------------------------------------------------------\u001b[0m",
      "\u001b[0;31mNameError\u001b[0m                                 Traceback (most recent call last)",
      "\u001b[0;32m/tmp/ipykernel_596944/1568170002.py\u001b[0m in \u001b[0;36m<module>\u001b[0;34m\u001b[0m\n\u001b[0;32m----> 1\u001b[0;31m \u001b[0mposterior\u001b[0m \u001b[0;34m=\u001b[0m \u001b[0minference\u001b[0m\u001b[0;34m.\u001b[0m\u001b[0mrun_only_inference\u001b[0m\u001b[0;34m(\u001b[0m\u001b[0mtheta\u001b[0m\u001b[0;34m,\u001b[0m \u001b[0mamp_tensor\u001b[0m\u001b[0;34m,\u001b[0m \u001b[0mprior\u001b[0m\u001b[0;34m)\u001b[0m\u001b[0;34m\u001b[0m\u001b[0;34m\u001b[0m\u001b[0m\n\u001b[0m",
      "\u001b[0;31mNameError\u001b[0m: name 'amp_tensor' is not defined"
     ]
    }
   ],
   "source": [
    "posterior = inference.run_only_inference(theta, amp_tensor, prior)"
   ]
  },
  {
   "cell_type": "code",
   "execution_count": 156,
   "id": "7d13e1e8",
   "metadata": {},
   "outputs": [
    {
     "name": "stderr",
     "output_type": "stream",
     "text": [
      "/home/ubuntu/miniconda3/lib/python3.9/site-packages/neurodsp/filt/checks.py:162: UserWarning: The low or high frequency stopband never gets attenuated bymore than 20 dB. Increase filter length.\n",
      "  warn('The low or high frequency stopband never gets attenuated by'\\\n"
     ]
    },
    {
     "data": {
      "image/png": "[encoded data removed]",
      "text/plain": [
       "<Figure size 1080x216 with 1 Axes>"
      ]
     },
     "metadata": {
      "needs_background": "light"
     },
     "output_type": "display_data"
    }
   ],
   "source": [
    "# Find peaks and troughs (this function also does the above)\n",
    "fs = 5000\n",
    "f_range = (1, 30)\n",
    "\n",
    "n_seconds_filter = .1\n",
    "peaks, troughs = cyclepoints.extrema.find_extrema(x_without[0], fs, f_range,\n",
    "                             filter_kwargs={'n_seconds':n_seconds_theta}\n",
    "                                                 )\n",
    "\n",
    "rises, decays = find_zerox(x_without[0], peaks, troughs)\n",
    "\n",
    "plot_cyclepoints_array(x_without[0], fs, xlim=(13, 14), peaks=peaks, troughs=troughs,\n",
    "                       rises=rises, decays=decays)"
   ]
  },
  {
   "cell_type": "code",
   "execution_count": 103,
   "id": "dffc3d29",
   "metadata": {},
   "outputs": [
    {
     "name": "stdout",
     "output_type": "stream",
     "text": [
      "[   1   12  140  395  471  645 1283 1331 1649 2541 2592 2784 3093 3283\n",
      " 3474 6482]\n",
      "6\n"
     ]
    }
   ],
   "source": [
    "print(peaks)\n",
    "print(df_features['time_peak'][0])\n",
    "\n",
    "y_values= []\n",
    "y_vals_t = []\n",
    "\n",
    "for peak in peaks:\n",
    "    y_value = x_without[0][peak]\n",
    "    y_values.append(y_value)\n",
    "    \n",
    "for trough in troughs:\n",
    "    y_val_t = x_without[0][trough]\n",
    "    y_vals_t.append(y_val_t)\n",
    "    "
   ]
  },
  {
   "cell_type": "code",
   "execution_count": 104,
   "id": "ec5829f1",
   "metadata": {},
   "outputs": [
    {
     "data": {
      "text/plain": [
       "[tensor(0.2367),\n",
       " tensor(0.3424),\n",
       " tensor(2.0292),\n",
       " tensor(5.0686),\n",
       " tensor(4.5850),\n",
       " tensor(-0.0134),\n",
       " tensor(-10.6469),\n",
       " tensor(-10.7461),\n",
       " tensor(-25.3124),\n",
       " tensor(-21.7371),\n",
       " tensor(-22.1735),\n",
       " tensor(-27.8841),\n",
       " tensor(-18.7249),\n",
       " tensor(1.8471),\n",
       " tensor(19.4146),\n",
       " tensor(14.6039)]"
      ]
     },
     "execution_count": 104,
     "metadata": {},
     "output_type": "execute_result"
    }
   ],
   "source": [
    "y_values"
   ]
  },
  {
   "cell_type": "code",
   "execution_count": 105,
   "id": "9698b86b",
   "metadata": {},
   "outputs": [
    {
     "data": {
      "text/plain": [
       "[<matplotlib.lines.Line2D at 0x7f5b2c8222e0>]"
      ]
     },
     "execution_count": 105,
     "metadata": {},
     "output_type": "execute_result"
    },
    {
     "data": {
      "image/png": "[encoded data removed]",
      "text/plain": [
       "<Figure size 432x288 with 1 Axes>"
      ]
     },
     "metadata": {
      "needs_background": "light"
     },
     "output_type": "display_data"
    }
   ],
   "source": [
    "y = y_values\n",
    "\n",
    "\n",
    "plt.scatter(peaks, list(y_values), alpha=0.3, marker='o', s=80)\n",
    "\n",
    "#plt.scatter(troughs, list(y_vals_t), marker='o', s=20)\n",
    "\n",
    "plt.plot(x_without[0])"
   ]
  },
  {
   "cell_type": "code",
   "execution_count": 45,
   "id": "72ff1e0c",
   "metadata": {},
   "outputs": [
    {
     "data": {
      "text/plain": [
       "7"
      ]
     },
     "execution_count": 45,
     "metadata": {},
     "output_type": "execute_result"
    }
   ],
   "source": [
    "len(y_values)"
   ]
  },
  {
   "cell_type": "code",
   "execution_count": 46,
   "id": "4316deac",
   "metadata": {},
   "outputs": [
    {
     "data": {
      "image/png": "[encoded data removed]",
      "text/plain": [
       "<Figure size 1152x1080 with 5 Axes>"
      ]
     },
     "metadata": {
      "needs_background": "light"
     },
     "output_type": "display_data"
    }
   ],
   "source": [
    "\n",
    "\n",
    "\n",
    "plot_burst_detect_summary(df_features, x_without[0], fs, threshold_kwargs, figsize=(16, 3))\n",
    "\n",
    "plt.savefig('Burst_detect_plot')"
   ]
  },
  {
   "cell_type": "code",
   "execution_count": null,
   "id": "43a93b54",
   "metadata": {},
   "outputs": [],
   "source": []
  },
  {
   "cell_type": "code",
   "execution_count": null,
   "id": "08138e44",
   "metadata": {},
   "outputs": [],
   "source": []
  }
 ],
 "metadata": {
  "kernelspec": {
   "display_name": "Python 3 (ipykernel)",
   "language": "python",
   "name": "python3"
  },
  "language_info": {
   "codemirror_mode": {
    "name": "ipython",
    "version": 3
   },
   "file_extension": ".py",
   "mimetype": "text/x-python",
   "name": "python",
   "nbconvert_exporter": "python",
   "pygments_lexer": "ipython3",
   "version": "3.7.11"
  }
 },
 "nbformat": 4,
 "nbformat_minor": 5
}
