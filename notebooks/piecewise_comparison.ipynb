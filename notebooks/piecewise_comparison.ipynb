{
 "cells": [
  {
   "cell_type": "markdown",
   "metadata": {},
   "source": [
    "\n",
    "# Toy example: Piecewise linear function\n",
    "\n",
    "## Testing the Neural Incremental Posterior Estimation\n",
    "\n",
    "#### Time series with time structured parameters and summary statistics\n",
    "\n",
    "Idea: construct a model $p(x|\\theta)$ with $\\theta = (\\theta_1,...\\theta_n)$ and summary statistics $s(x) = (s_1(x),...s_m(x))$ s.t.\n",
    "\n",
    "\n",
    "for all $i$ there exists a $j$, $j\\leq m$, and $l$, $j\\leq l$ such that\n",
    " \n",
    "$p(s_{1:i}|\\theta_{1:n} ) = p(s_{1:i}|\\theta_{1:j}) $.\n",
    "\n",
    "and \n",
    "\n",
    "$p(s_{1:i+1}|\\theta_{1:n} ) = p(s_{1:i+1}|\\theta_{1:l}) $."
   ]
  },
  {
   "cell_type": "markdown",
   "metadata": {},
   "source": [
    "### Examples:\n",
    "1. Piecewise linear function:\n",
    " - $\\theta_{1,2}$ : a and b of linear function f(x) = ax + b\n",
    " - $\\theta_{3,4}$ : time of changing point cp, and a2 of second slope\n",
    "\n",
    " 2. Sinusoidal waves with linearly increasing/decreasing amplitudes, and changing points at which this linear function changes.\n",
    " \n"
   ]
  },
  {
   "cell_type": "code",
   "execution_count": 1,
   "metadata": {},
   "outputs": [],
   "source": [
    "\n",
    "%load_ext autoreload\n",
    "%autoreload 2\n",
    "\n",
    "import numpy as np\n",
    "import scipy as scp\n",
    "import matplotlib.pyplot as plt\n",
    "\n",
    "\n",
    "import sys\n",
    "sys.path.append('../code/')\n",
    "\n",
    "import torch"
   ]
  },
  {
   "cell_type": "code",
   "execution_count": 2,
   "metadata": {},
   "outputs": [],
   "source": [
    "from utils import helpers\n",
    "from utils.helpers import get_time\n",
    "\n",
    "from utils.sbi_modulated_functions import Combined\n",
    "\n",
    "\n",
    "from utils.helpers import get_time"
   ]
  },
  {
   "cell_type": "code",
   "execution_count": 3,
   "metadata": {},
   "outputs": [],
   "source": [
    "# sbi\n",
    "from sbi import utils as utils\n",
    "from sbi import analysis as analysis\n",
    "from sbi.inference.base import infer\n",
    "from sbi.inference import SNPE, prepare_for_sbi, simulate_for_sbi\n",
    "from sbi.inference import SNPE_C\n",
    "\n",
    "\n",
    "import utils\n",
    "from utils.helpers import get_time\n",
    "\n",
    "from utils.sbi_modulated_functions import Combined\n",
    "\n",
    "\n",
    "from utils.helpers import get_time"
   ]
  },
  {
   "cell_type": "markdown",
   "metadata": {},
   "source": [
    "## Piecewise_linear() and simulation wrappers for SBI\n",
    "\n",
    "- piecewise_linear is taking 6 parameters (changing points and slopes) and outputs a three-part piecewise linear function\n",
    "\n",
    "- piecewise_linear_seq is taking a list of either 2, 3 or 4 parameters and then outputs either a one-part. a two-part or a three-part piecewise linear function"
   ]
  },
  {
   "cell_type": "code",
   "execution_count": 4,
   "metadata": {},
   "outputs": [],
   "source": [
    "start = get_time()\n",
    "\n",
    "\n",
    "\n",
    "def piecewise_linear(a1,b, a2,a3, cp1, cp2, add_noise=None):\n",
    "    \"\"\"\n",
    "    Args:\n",
    "        a1 (float): first slope\n",
    "        b (float): offset\n",
    "        a2 (float): second slope\n",
    "        a3 (float): 3rd slope\n",
    "        cp1, cp2 (float): changing points\n",
    "        add_noise (None or float): None or scale of Gaussian noise on all variables\n",
    "\n",
    "    Returns:\n",
    "        x,y (arrays): x and y of piecewise linear function. \n",
    "    \"\"\"\n",
    "    if not add_noise == None:\n",
    "        a1,b, a2,a3, cp1, cp2 = np.array([a1,b, a2,a3, cp1, cp2]) + scp.random.normal(scale=add_noise,size=6)       \n",
    "    \n",
    "    x = np.arange(0,10,0.01)\n",
    "    y = np.zeros(x.shape)\n",
    "    \n",
    "    # first piece\n",
    "    y[x<cp1] = (b+a1*x[x<cp1])\n",
    "    \n",
    "    # second piece     \n",
    "    y[(x>=cp1) & (x<cp2)] = y[np.sum(x<cp1)-1] + a2* (x[(x>=cp1) & (x<cp2)]  - cp1) \n",
    "    \n",
    "    # third piece\n",
    "    y[x>=cp2] = y[np.sum(x<cp2)-1] + a3* (x[x>=cp2] - cp2) \n",
    "    \n",
    "\n",
    "    return y\n",
    "\n",
    "\n",
    "def piecewise_linear_seq(thetas):\n",
    "    \"\"\"\n",
    "    I defined a seperate function for each sequential step such that we can vary different numbers of parameters\n",
    "    Args:\n",
    "        a1 (float): first slope\n",
    "        b (float): offset\n",
    "        a2 (float): second slope\n",
    "        a3 (float): 3rd slope\n",
    "        cp1, cp2 (float): changing points\n",
    "        add_noise (None or float): None or scale of Gaussian noise on all variables\n",
    "\n",
    "    Returns:\n",
    "        x,y (arrays): x and y of piecewise linear function. \n",
    "    \"\"\"\n",
    "    \n",
    "    add_noise=0.2\n",
    "    \n",
    "    cp1 = np.float32(3)\n",
    "    cp2 = np.float32(6)\n",
    "    \n",
    "    x = torch.arange(0,10,0.01, dtype= torch.float32)\n",
    "    y = torch.zeros(x.shape)\n",
    "    \n",
    "    \n",
    "    if (len(thetas)==2):\n",
    "        a1 = thetas[0]\n",
    "        b = thetas[1]\n",
    "        \n",
    "        if not add_noise == None:\n",
    "            a1,b = np.array([a1,b]) + scp.random.normal(scale=add_noise,size=2)  \n",
    "            \n",
    "        # first piece\n",
    "        y[x<cp1] = (b+a1*x[x<cp1])\n",
    "        \n",
    "        return y[x<cp1]\n",
    "    \n",
    "     \n",
    "    if (len(thetas)==3):     \n",
    "        a1 = thetas[0]\n",
    "        b = thetas[1]\n",
    "        a2 = thetas[2]\n",
    "        \n",
    "        if not add_noise == None:\n",
    "            a1,b, a2 = np.array([a1,b, a2]) + scp.random.normal(scale=add_noise,size=3)       \n",
    "    \n",
    "        # first piece\n",
    "        y[x<cp1] = (b+a1*x[x<cp1])\n",
    "    \n",
    "        # second piece     \n",
    "        y[(x>=cp1) & (x<cp2)] = y[torch.sum(x<cp1)-1] + a2* (x[(x>=cp1) & (x<cp2)]  - cp1) \n",
    "        \n",
    "        return y[x<cp2]\n",
    "    \n",
    "    \n",
    "    if (len(thetas)==4):\n",
    "        \n",
    "        \n",
    "        a1 = thetas[0]\n",
    "        b = thetas[1]\n",
    "        a2 = thetas[2]\n",
    "        a3 = thetas[3]\n",
    "        \n",
    "        if not add_noise == None:\n",
    "            a1,b, a2, a3 = np.array([a1,b, a2, a3]) + scp.random.normal(scale=add_noise,size=4)       \n",
    "    \n",
    "        # first piece\n",
    "        y[x<cp1] = (b+a1*x[x<cp1])\n",
    "    \n",
    "        # second piece     \n",
    "        y[(x>=cp1) & (x<cp2)] = y[torch.sum(x<cp1)-1] + a2* (x[(x>=cp1) & (x<cp2)]  - cp1) \n",
    "    \n",
    "        # third piece\n",
    "        y[x>=cp2] = y[torch.sum(x<cp2)-1] + a3* (x[x>=cp2] - cp2) \n",
    "        \n",
    "        return y\n",
    "\n",
    "    \n",
    "  "
   ]
  },
  {
   "cell_type": "markdown",
   "metadata": {},
   "source": [
    "### Define prior and summary stats dependent on prior"
   ]
  },
  {
   "cell_type": "code",
   "execution_count": 5,
   "metadata": {},
   "outputs": [],
   "source": [
    "\"\"\"\n",
    "Priors\n",
    "\"\"\"\n",
    "\n",
    "b = scp.random.uniform(0,10)\n",
    "a1 = scp.random.uniform(-10,0)\n",
    "a2 = scp.random.uniform(0,10)\n",
    "a3 = scp.random.uniform(-10,0)\n",
    "cp1 = scp.random.uniform(2,4)\n",
    "cp2 = scp.random.uniform(5,8)\n",
    "\n",
    "\n",
    "x = piecewise_linear(a1,b, a2,a3, cp1, cp2)\n",
    "\n"
   ]
  },
  {
   "cell_type": "markdown",
   "metadata": {},
   "source": [
    "## **Summary statistics**\n",
    "\n",
    "definition of summary statistics for the piecewise linear function"
   ]
  },
  {
   "cell_type": "code",
   "execution_count": 6,
   "metadata": {},
   "outputs": [],
   "source": [
    "\"\"\"\n",
    "Summary stats\n",
    "\"\"\"\n",
    "\n",
    "def extract_sumstats(y,max_time=10):\n",
    "    \"\"\"\n",
    "    Extract some sumstats for piecewise linear fct with specified prior \n",
    "    !the information in the sumstats is highly dependent on the prior!\n",
    "    Args:\n",
    "        x ([array]): time axis of time series\n",
    "        y ([array]): 1d time series\n",
    "        max_time (float, optional): maximal time to calculate sumstats on. Defaults to 10.\n",
    "\n",
    "    Returns:\n",
    "       s [array]: summary stats of time series, with np.nan for non-calculated sumstats\n",
    "    \"\"\"\n",
    "    \n",
    "\n",
    "    \n",
    "    batch_list = []\n",
    "    # first batch of sumstats for times <4\n",
    "    \n",
    "    for batch in y:\n",
    "        \n",
    "        step_size = max_time/len(batch)\n",
    "        \n",
    "        \n",
    "        x = torch.arange(0, max_time, step_size, dtype=torch.float64)\n",
    "        \n",
    "        \n",
    "        \n",
    "        \n",
    "        batch[x>max_time] = np.nan\n",
    "    \n",
    "        s = np.zeros(10) * np.nan\n",
    "        \n",
    "        s[0] = np.float32(batch[0])    #offset\n",
    "        s[1] = np.nanmin(batch[x<4])   # local min\n",
    "        \n",
    "        #print(type(s[0]), type(s[1]))\n",
    "        s[2] = np.nanargmin(batch[x<4])   #value of min\n",
    "    \n",
    "\n",
    "        # second batch of sumstats for times > 4\n",
    "        if max_time >= 4 :\n",
    "            s[3] = np.nanmax(batch[(x>=4)&(x<8)])\n",
    "            s[4] = np.nanmin(batch[(x>=4)&(x<8)])\n",
    "            s[5] = np.nanargmin(batch[(x>=4)&(x<8)])\n",
    "\n",
    "        # third batch of sumstats for times > 5\n",
    "        if max_time >= 5:\n",
    "            s[6] = np.nanmin(batch[x>=5])\n",
    "            s[7] = np.nanargmin(batch[x>=5])\n",
    "            \n",
    "            s[8] = np.nanmax(batch[x>=5])\n",
    "            s[9] = np.nanargmax(batch[x>=5])\n",
    "            \n",
    "        s = np.float32(s)\n",
    "    \n",
    "            \n",
    "        batch_list.append(torch.from_numpy(s))\n",
    "\n",
    "    return torch.stack(batch_list)\n",
    "\n",
    "    \n",
    "    "
   ]
  },
  {
   "cell_type": "markdown",
   "metadata": {},
   "source": [
    "## Sequential Time Series SBI\n",
    "\n",
    "\n",
    "We have the following parameters: a1,b,a2,a3, cp1, cp2\n",
    "\n",
    "Let's assume this ground truth: true_params = $[5, 5, -3, 2, 1, 5]$\n",
    "\n",
    "and the following uniform priors: \n",
    "\n",
    "prior_min = $[3, 3, -5, 0, -1, 3]  $\n",
    "\n",
    "prior_max = $[7, 7, -1, 4, 3, 7]$\n",
    "\n",
    "\n",
    "We start with inferring the first 2 parameters (a1, b), therefore call the function $piecewise_linear_first_batch()$\n",
    "that only varies these 2 parameters within the prior range."
   ]
  },
  {
   "cell_type": "code",
   "execution_count": 7,
   "metadata": {},
   "outputs": [],
   "source": [
    "#parameter a1,b,a2,a3, cp1, cp2\n",
    "\n",
    "\n",
    "prior_min = [3, 3, -5, 0]  \n",
    "\n",
    "prior_max = [7, 7, -1, 4]\n",
    "\n",
    "num_simulations=300"
   ]
  },
  {
   "cell_type": "markdown",
   "metadata": {},
   "source": [
    "## First round"
   ]
  },
  {
   "cell_type": "code",
   "execution_count": 9,
   "metadata": {},
   "outputs": [
    {
     "name": "stderr",
     "output_type": "stream",
     "text": [
      "/home/ubuntu/miniconda3/envs/sbi_env/lib/python3.7/site-packages/ipykernel_launcher.py:66: FutureWarning: The input object of type 'Tensor' is an array-like implementing one of the corresponding protocols (`__array__`, `__array_interface__` or `__array_struct__`); but not a sequence (or 0-D). In the future, this object will be coerced as if it was first converted using `np.array(obj)`. To retain the old behaviour, you have to either modify the type 'Tensor', or assign to an empty array created with `np.empty(correct_shape, dtype=object)`.\n",
      "/home/ubuntu/miniconda3/envs/sbi_env/lib/python3.7/site-packages/ipykernel_launcher.py:66: VisibleDeprecationWarning: Creating an ndarray from ragged nested sequences (which is a list-or-tuple of lists-or-tuples-or ndarrays with different lengths or shapes) is deprecated. If you meant to do this, you must specify 'dtype=object' when creating the ndarray.\n"
     ]
    },
    {
     "data": {
      "application/vnd.jupyter.widget-view+json": {
       "model_id": "c24817d1df124b788dd4de4830260c24",
       "version_major": 2,
       "version_minor": 0
      },
      "text/plain": [
       "Running 300 simulations in 300 batches.:   0%|          | 0/300 [00:00<?, ?it/s]"
      ]
     },
     "metadata": {},
     "output_type": "display_data"
    }
   ],
   "source": [
    "### first round:\n",
    "from sbi import utils as utils\n",
    "\n",
    "prior1 = utils.torchutils.BoxUniform(low=prior_min[0:2], high = prior_max[0:2])\n",
    "\n",
    "\n",
    "inf = SNPE_C(prior1, density_estimator=\"nsf\")\n",
    "\n",
    "density_estimator = 'nsf'\n",
    "\n",
    "\n",
    "simulator_stats, prior = prepare_for_sbi(piecewise_linear_seq, prior1)\n",
    "\n",
    "inference = SNPE_C(prior, density_estimator=density_estimator)\n",
    "\n",
    "theta, x_without = simulate_for_sbi(\n",
    "    simulator_stats,\n",
    "    proposal=prior,\n",
    "    num_simulations=num_simulations,\n",
    "    num_workers=4,\n",
    ")"
   ]
  },
  {
   "cell_type": "code",
   "execution_count": 10,
   "metadata": {},
   "outputs": [],
   "source": [
    "x = extract_sumstats(x_without)"
   ]
  },
  {
   "cell_type": "code",
   "execution_count": 11,
   "metadata": {},
   "outputs": [
    {
     "name": "stdout",
     "output_type": "stream",
     "text": [
      "Neural network successfully converged after 56 epochs.\n"
     ]
    }
   ],
   "source": [
    "inf = inf.append_simulations(theta, x)\n",
    "density_estimator = inf.train()\n",
    "\n",
    "posterior = inf.build_posterior(density_estimator)"
   ]
  },
  {
   "cell_type": "code",
   "execution_count": 12,
   "metadata": {},
   "outputs": [],
   "source": [
    "true_params = [5, 5]\n",
    "obs_real = piecewise_linear_seq(true_params)\n",
    "\n",
    "\n",
    "obs_real_stats = extract_sumstats([obs_real])\n"
   ]
  },
  {
   "cell_type": "code",
   "execution_count": 13,
   "metadata": {},
   "outputs": [
    {
     "data": {
      "application/vnd.jupyter.widget-view+json": {
       "model_id": "7c06971487bd44d7ac14472db6b2ee56",
       "version_major": 2,
       "version_minor": 0
      },
      "text/plain": [
       "Drawing 1000 posterior samples:   0%|          | 0/1000 [00:00<?, ?it/s]"
      ]
     },
     "metadata": {},
     "output_type": "display_data"
    }
   ],
   "source": [
    "num_samples = 1000\n",
    "\n",
    "samples = posterior.sample((num_samples,), x=obs_real_stats)\n",
    "\n",
    "proposal1 = posterior.set_default_x(obs_real_stats)"
   ]
  },
  {
   "cell_type": "code",
   "execution_count": 14,
   "metadata": {},
   "outputs": [],
   "source": [
    "samples_0 = []\n",
    "\n",
    "for i in samples:\n",
    "    samples_0.append(i[0])\n"
   ]
  },
  {
   "cell_type": "code",
   "execution_count": 31,
   "metadata": {},
   "outputs": [
    {
     "name": "stdout",
     "output_type": "stream",
     "text": [
      "tensor([6.0055, 5.3935, 6.5335, 6.6106, 5.8397, 5.2735, 5.6029, 5.5786, 5.5187,\n",
      "        5.8772, 5.3861, 5.2574, 5.5486, 5.1428, 5.2889, 5.1467, 5.3895, 5.3386,\n",
      "        5.2842, 5.0828, 6.0661, 5.8208, 5.4688, 5.3304, 5.5156, 5.4474, 5.2992,\n",
      "        6.1310, 5.1380, 5.8842, 5.4304, 5.0998, 4.4503, 6.0247, 5.9155, 5.2051,\n",
      "        5.7255, 5.3164, 5.8419, 5.9809, 4.3074, 5.4835, 5.8996, 4.7596, 4.4386,\n",
      "        5.4724, 5.3052, 5.4990, 4.7671, 6.0416, 5.3419, 5.2366, 5.1976, 5.9826,\n",
      "        4.8006, 5.3674, 5.2010, 5.2442, 4.8746, 5.0461, 5.3343, 5.5236, 5.0301,\n",
      "        5.2418, 6.1991, 5.2865, 5.3591, 6.1111, 5.4285, 5.2210, 5.2494, 5.3733,\n",
      "        6.1025, 5.3718, 5.2401, 5.5780, 6.0953, 4.8187, 5.4874, 5.2213, 5.9700,\n",
      "        5.7704, 6.1347, 5.3863, 4.0980, 5.0344, 5.3193, 6.5538, 5.8765, 5.4711,\n",
      "        5.9704, 5.3106, 5.2260, 5.0272, 4.2535, 5.1303, 5.1777, 5.9300, 5.6390,\n",
      "        5.1920, 5.2062, 4.1463, 6.0439, 5.5146, 3.9529, 6.0807, 4.8311, 5.6095,\n",
      "        6.2138, 5.2031, 5.3376, 5.3378, 5.4882, 4.4053, 4.2323, 5.2320, 5.1612,\n",
      "        5.6770, 4.7028, 5.1928, 5.0432, 4.7717, 5.9834, 5.9284, 5.1860, 5.4390,\n",
      "        5.1018, 5.1979, 5.3001, 5.2747, 5.2475, 5.2062, 5.2696, 5.1721, 5.4814,\n",
      "        5.5262, 5.1221, 5.4705, 5.1642, 5.5250, 5.3313, 5.1245, 5.9323, 5.4443,\n",
      "        5.5640, 4.6868, 5.0421, 6.0245, 4.8013, 5.2355, 5.1420, 5.3216, 5.4936,\n",
      "        5.1493, 5.1577, 5.4431, 6.1287, 5.1866, 4.0960, 5.2703, 6.2303, 5.5665,\n",
      "        5.3685, 5.4076, 5.1376, 6.0466, 4.9618, 5.4775, 6.0564, 5.4652, 5.1335,\n",
      "        5.2971, 5.5524, 5.1863, 5.8282, 5.3287, 5.5487, 5.8780, 5.5738, 5.1593,\n",
      "        5.3211, 5.1863, 5.1902, 5.3996, 6.2818, 5.7749, 5.2189, 5.2817, 5.3399,\n",
      "        5.8350, 5.9109, 5.3859, 5.4109, 5.3464, 4.5942, 5.1232, 4.7101, 5.1587,\n",
      "        5.3224, 5.5280, 5.4497, 5.4372, 4.5797, 4.7826, 4.7067, 5.0535, 5.3033,\n",
      "        5.2256, 5.2339, 5.8818, 5.1793, 6.3379, 5.2523, 5.5304, 5.7083, 5.5426,\n",
      "        5.2742, 5.9135, 5.4812, 5.2215, 5.2243, 5.4385, 5.1657, 5.1782, 5.3130,\n",
      "        5.2066, 5.5907, 5.2741, 4.5879, 5.8893, 5.5687, 5.7097, 6.0061, 5.1189,\n",
      "        5.2127, 5.2458, 5.3558, 5.4004, 5.2730, 5.2733, 5.4506, 5.1066, 5.4061,\n",
      "        5.1392, 5.1310, 5.7881, 5.4038, 5.9791, 5.4439, 4.7476, 5.2181, 5.4735,\n",
      "        5.6147, 5.1811, 5.1344, 5.1181, 5.5288, 5.8119, 5.5128, 5.1787, 5.2504,\n",
      "        4.5842, 5.1506, 5.2453, 5.2382, 5.9046, 5.3428, 5.4219, 5.3054, 5.3837,\n",
      "        5.8271, 5.2361, 5.2885, 6.1523, 6.1612, 5.1716, 4.7883, 5.2322, 5.1591,\n",
      "        6.7147, 4.5715, 5.2745, 5.3184, 4.1495, 5.1556, 5.3170, 5.4996, 5.4803,\n",
      "        5.1569, 5.1005, 5.9297, 5.4636, 5.3651, 5.2730, 5.1884, 5.8909, 5.8464,\n",
      "        4.4094, 5.2375, 5.2522, 5.2858, 6.5823, 5.1225, 5.7458, 4.8133, 5.3299,\n",
      "        5.2661, 4.5196, 5.2021, 4.7587, 3.3819, 6.0425, 5.8374, 5.8679, 5.4424,\n",
      "        5.6044, 5.8133, 5.9286, 5.2883, 5.0794, 5.4040, 5.2801, 4.9004, 5.3982,\n",
      "        5.3202, 5.4535, 5.2918, 5.2234, 4.7980, 5.8307, 5.0957, 6.0129, 5.2302,\n",
      "        5.5438, 5.3114, 5.2667, 5.4068, 5.2503, 5.4105, 5.7961, 4.0653, 3.9469,\n",
      "        5.1344, 5.3823, 5.3392, 5.0392, 5.3242, 4.9395, 4.3787, 4.4354, 5.7453,\n",
      "        5.3859, 5.2960, 5.6829, 6.8213, 5.2607, 5.4097, 5.7612, 5.2390, 5.0817,\n",
      "        5.0855, 5.3690, 5.3471, 5.1938, 5.2185, 5.4099, 5.1545, 5.4589, 5.1057,\n",
      "        5.9967, 5.8578, 5.8101, 6.4473, 5.4368, 5.1377, 5.0988, 5.1996, 5.5973,\n",
      "        5.4699, 5.2206, 5.8623, 5.1851, 5.7683, 6.7761, 5.2113, 5.5110, 5.2041,\n",
      "        5.2650, 4.5443, 6.0979, 5.4984, 5.2891, 5.1833, 5.0483, 5.0598, 5.5322,\n",
      "        5.2727, 4.5377, 5.9983, 5.8006, 5.5351, 5.6071, 5.6899, 5.3223, 5.1437,\n",
      "        4.6438, 5.3508, 5.2457, 5.2775, 5.5453, 5.2072, 5.3456, 5.5090, 5.9751,\n",
      "        4.5955, 5.4727, 5.3855, 4.0608, 5.3259, 5.4941, 5.5071, 5.4006, 5.4666,\n",
      "        5.2227, 5.5689, 5.3385, 5.0914, 5.4170, 5.3728, 4.2572, 5.0612, 5.5241,\n",
      "        5.3697, 4.5953, 6.0008, 5.2160, 5.4855, 5.2267, 5.5352, 5.3017, 5.7193,\n",
      "        5.9553, 5.1746, 5.3523, 3.9699, 5.3363, 5.3655, 5.2790, 5.0308, 5.1889,\n",
      "        5.2728, 6.0895, 5.9302, 5.7550, 5.1977, 5.5143, 5.2197, 6.5070, 5.8564,\n",
      "        5.3762, 5.4772, 5.0863, 6.1330, 5.2347, 5.3668, 5.9684, 5.1741, 5.0857,\n",
      "        5.9392, 4.6432, 5.9621, 5.7513, 5.9339, 5.1159, 4.1819, 6.0302, 5.3836,\n",
      "        5.6431, 4.9344, 5.1940, 5.1908, 4.8046, 5.3739, 5.1880, 5.1523, 5.2937,\n",
      "        5.2677, 4.8871, 5.3846, 5.1894, 5.1425, 5.3331, 5.2340, 5.2950, 5.3180,\n",
      "        5.4604, 5.2960, 5.3310, 5.2231, 5.8238, 5.9671, 5.2575, 5.3937, 5.3622,\n",
      "        5.1348, 5.5361, 5.3647, 5.2225, 5.7285, 5.1853, 5.4018, 4.1906, 5.1748,\n",
      "        6.7175, 5.2873, 5.9773, 5.3920, 5.2197, 5.2708, 5.3513, 5.1231, 4.8739,\n",
      "        5.8618, 5.2216, 6.5190, 5.6321, 6.3387, 5.3018, 5.1544, 5.9919, 5.4639,\n",
      "        5.6043, 6.0527, 4.4722, 5.5956, 5.5167, 5.2087, 5.4477, 5.3426, 4.6921,\n",
      "        5.2206, 4.5963, 5.7408, 5.1503, 6.3262, 5.6216, 6.0364, 5.3048, 5.4355,\n",
      "        5.1470, 5.5860, 5.1806, 5.3990, 5.2789, 4.9183, 5.2812, 5.2224, 5.3753,\n",
      "        5.2261, 6.1481, 6.1316, 3.6009, 6.8640, 5.3688, 5.1756, 6.0087, 5.2437,\n",
      "        5.3722, 5.2679, 6.1173, 5.0652, 5.4936, 4.4937, 5.2838, 4.8226, 6.0122,\n",
      "        5.5376, 5.6375, 5.1575, 4.6347, 5.3480, 5.2799, 5.9167, 5.3566, 4.0445,\n",
      "        5.2455, 5.4475, 5.6788, 4.9939, 4.8558, 5.4199, 5.3987, 5.2710, 5.3149,\n",
      "        5.2068, 5.0342, 5.3366, 6.1117, 5.8440, 5.3795, 5.3429, 4.1855, 6.0157,\n",
      "        5.5635, 4.2866, 5.5483, 4.5031, 5.4937, 5.0233, 5.7642, 5.8930, 5.1106,\n",
      "        5.5480, 5.2422, 5.2466, 5.8544, 5.1488, 6.0048, 5.2931, 5.3044, 5.4012,\n",
      "        6.4050, 5.8624, 5.1597, 5.2357, 6.4058, 4.5349, 5.2513, 4.9312, 5.7189,\n",
      "        5.1286, 5.1639, 5.9294, 5.1820, 5.2297, 5.3240, 4.8045, 5.9787, 5.5437,\n",
      "        5.3247, 5.5325, 5.3260, 5.7717, 5.4175, 5.1169, 5.1196, 5.2973, 3.2949,\n",
      "        5.3240, 4.6399, 5.9556, 6.0438, 5.9805, 5.6286, 5.3795, 5.5639, 5.3114,\n",
      "        5.3975, 3.3821, 5.2448, 6.2057, 5.4464, 5.5387, 5.1453, 6.1717, 5.1772,\n",
      "        5.9342, 5.2061, 5.3063, 5.3029, 4.7736, 5.2005, 5.3480, 4.5226, 5.8425,\n",
      "        6.4698, 5.1881, 4.7735, 5.3057, 5.1561, 5.1605, 5.1868, 5.2552, 5.2961,\n",
      "        5.6329, 5.1180, 5.1858, 4.8439, 5.8968, 5.7334, 5.3540, 5.2753, 5.0745,\n",
      "        5.0486, 5.6108, 6.5917, 5.5131, 5.1762, 5.1312, 5.1121, 5.2790, 5.3402,\n",
      "        5.3006, 4.8498, 5.3684, 5.1350, 5.2833, 5.4822, 5.9312, 5.8707, 6.5986,\n",
      "        5.9039, 5.2641, 5.6314, 5.2480, 5.2592, 5.3715, 5.1911, 6.7223, 5.6333,\n",
      "        5.1671, 5.4030, 5.3257, 5.1494, 5.2039, 5.7326, 5.4480, 5.3508, 5.1832,\n",
      "        5.3426, 5.5765, 5.2722, 5.1995, 5.5513, 5.0804, 5.2083, 5.4909, 5.8862,\n",
      "        5.3215, 5.2202, 5.1586, 5.3444, 5.5334, 5.2010, 5.2708, 5.0767, 4.8910,\n",
      "        5.5128, 5.2986, 5.1769, 5.7936, 4.7069, 5.4465, 5.2667, 5.3506, 5.0956,\n",
      "        5.1786, 5.3978, 5.2578, 5.1937, 6.0155, 5.3756, 5.2104, 5.4436, 4.8753,\n",
      "        5.3262, 5.1573, 5.9423, 5.8600, 5.4818, 5.3017, 5.2001, 5.9115, 6.1311,\n",
      "        5.1652, 4.4243, 5.0964, 6.0055, 5.7669, 5.2671, 5.1980, 4.3882, 5.8988,\n",
      "        5.6639, 5.2979, 5.9713, 4.4492, 5.3974, 5.9369, 5.3842, 5.2174, 5.2794,\n",
      "        5.3544, 5.2110, 6.1292, 5.4516, 5.3860, 5.3115, 5.4053, 6.1611, 4.6100,\n",
      "        5.0071, 5.5656, 6.1162, 6.0986, 4.5554, 5.2441, 5.3089, 4.8177, 5.1343,\n",
      "        5.1161, 6.0801, 5.4216, 5.1657, 5.2746, 5.9082, 5.3161, 5.3067, 5.3098,\n",
      "        5.7786, 5.1446, 5.3009, 5.4679, 5.9099, 4.3599, 5.5663, 5.2068, 6.2612,\n",
      "        5.9197, 5.0917, 6.1107, 5.9927, 5.5940, 5.1198, 5.3805, 5.4530, 6.0127,\n",
      "        5.1046, 5.6106, 5.1176, 5.4543, 5.8255, 5.6110, 5.7003, 5.4745, 6.3407,\n",
      "        5.3846, 5.1144, 5.9203, 5.3803, 6.6244, 6.4895, 5.7233, 5.1660, 4.8831,\n",
      "        5.4570, 5.1514, 5.4067, 5.1415, 5.3124, 5.8907, 5.4522, 6.2687, 4.6094,\n",
      "        5.2710, 5.6201, 5.4004, 4.8094, 6.8336, 5.5840, 4.0513, 5.2347, 5.3592,\n",
      "        5.9068, 5.2302, 5.3686, 6.1354, 5.3196, 5.4499, 5.5492, 5.9485, 5.2365,\n",
      "        5.2859, 5.3848, 6.1308, 5.3278, 5.3481, 6.1143, 5.4459, 5.1959, 5.3390,\n",
      "        5.7056, 5.3951, 5.5663, 5.2809, 5.4155, 5.1719, 5.2606, 5.6526, 5.1102,\n",
      "        5.1756, 5.0815, 5.3490, 5.2945, 5.2666, 5.3175, 5.0715, 5.3234, 4.6093,\n",
      "        5.2548, 5.2076, 5.7548, 5.3956, 5.3567, 5.1615, 6.1569, 5.3748, 5.1804,\n",
      "        5.1783, 5.6247, 5.5922, 5.0766, 5.1444, 6.4817, 5.0485, 6.7177, 5.5918,\n",
      "        5.6159, 4.9687, 5.0958, 4.5223, 5.5099, 5.2786, 5.7203, 5.1990, 5.1796,\n",
      "        5.1697, 5.9835, 5.1072, 4.5972, 5.0073, 5.4865, 5.7061, 6.0230, 6.0226,\n",
      "        5.4945, 6.0474, 5.3092, 5.5511, 5.2158, 3.5539, 5.1025, 5.3600, 5.2107,\n",
      "        5.2756, 5.3216, 4.4495, 5.1254, 4.7527, 5.1336, 5.3907, 5.1376, 5.2549,\n",
      "        5.1822, 5.4491, 4.4816, 5.3263, 5.4782, 5.0807, 6.3185, 6.0340, 5.4016,\n",
      "        5.1139, 5.3911, 5.0416, 5.8939, 5.1772, 4.6731, 5.1002, 5.5318, 5.2741,\n",
      "        4.7374, 5.3349, 5.2743, 5.3239, 5.1075, 5.7964, 5.8611, 4.5243, 6.2158,\n",
      "        5.1834, 5.8359, 5.9124, 6.1726, 6.0710, 5.5847, 5.2021, 5.3348, 5.3550,\n",
      "        5.3857])\n"
     ]
    }
   ],
   "source": [
    "#samples_0 = torch.stack(samples_0)\n",
    "print(samples_0)\n",
    "data = torch.from_numpy(data)"
   ]
  },
  {
   "cell_type": "code",
   "execution_count": 35,
   "metadata": {},
   "outputs": [
    {
     "data": {
      "text/plain": [
       "tensor([6.4205, 3.1265, 5.3481, 5.8818, 4.4260, 3.2440, 3.2870, 4.5329, 5.1785,\n",
       "        4.4802, 4.1738, 5.7229, 5.9150, 6.8718, 5.6362, 5.4085, 4.5826, 5.6459,\n",
       "        4.7665, 3.2222, 3.5404, 5.0800, 5.8686, 3.8972, 5.2277, 6.9691, 3.6217,\n",
       "        6.9207, 3.0097, 3.7443, 6.3323, 3.3040, 4.1394, 3.1509, 5.6208, 5.1251,\n",
       "        4.4471, 6.1741, 6.1260, 4.6861, 6.4279, 6.6763, 3.8939, 4.1975, 4.7096,\n",
       "        5.9103, 5.8703, 4.8350, 6.5322, 6.7104, 3.7252, 4.0065, 3.9108, 6.3807,\n",
       "        6.8901, 5.7757, 5.8152, 5.9589, 4.1900, 3.4911, 4.7473, 4.0820, 4.8218,\n",
       "        3.7495, 3.4374, 5.6679, 5.1406, 4.5587, 4.8975, 3.2782, 6.3609, 6.5775,\n",
       "        5.1007, 4.4594, 5.9949, 3.5537, 3.4669, 4.9861, 5.9879, 5.4442, 6.7247,\n",
       "        5.3242, 3.5068, 6.0850, 6.6882, 4.0726, 3.1242, 5.0692, 6.6353, 5.8416,\n",
       "        3.3832, 4.4085, 4.7098, 6.7893, 5.3036, 6.6802, 3.6046, 6.0844, 5.9195,\n",
       "        6.7878], dtype=torch.float64)"
      ]
     },
     "execution_count": 35,
     "metadata": {},
     "output_type": "execute_result"
    }
   ],
   "source": [
    "data"
   ]
  },
  {
   "cell_type": "code",
   "execution_count": 39,
   "metadata": {},
   "outputs": [
    {
     "data": {
      "text/plain": [
       "(array([[0.        , 0.        , 0.        , ..., 0.        , 0.        ,\n",
       "         0.        ],\n",
       "        [0.        , 0.        , 0.        , ..., 0.        , 0.        ,\n",
       "         0.        ],\n",
       "        [0.        , 0.        , 0.        , ..., 0.        , 0.        ,\n",
       "         0.        ],\n",
       "        ...,\n",
       "        [0.0277592 , 0.        , 0.01850613, ..., 0.03701227, 0.0277592 ,\n",
       "         0.00925307],\n",
       "        [0.0277592 , 0.        , 0.01850613, ..., 0.03701227, 0.0277592 ,\n",
       "         0.00925307],\n",
       "        [0.0277592 , 0.        , 0.01850613, ..., 0.03701227, 0.0277592 ,\n",
       "         0.00925307]]),\n",
       " array([3.29488564, 3.40295792, 3.5110302 , 3.61910248, 3.72717476,\n",
       "        3.83524704, 3.94331932, 4.0513916 , 4.15946388, 4.26753616,\n",
       "        4.37560844, 4.48368073, 4.59175301, 4.69982529, 4.80789757,\n",
       "        4.91596985, 5.02404213, 5.13211441, 5.24018669, 5.34825897,\n",
       "        5.45633125, 5.56440353, 5.67247581, 5.7805481 , 5.88862038,\n",
       "        5.99669266, 6.10476494, 6.21283722, 6.3209095 , 6.42898178,\n",
       "        6.53705406, 6.64512634, 6.75319862, 6.8612709 , 6.96934319]),\n",
       " <a list of 1000 BarContainer objects>)"
      ]
     },
     "execution_count": 39,
     "metadata": {},
     "output_type": "execute_result"
    },
    {
     "data": {
      "image/png": "[encoded data removed]",
      "text/plain": [
       "<Figure size 432x288 with 1 Axes>"
      ]
     },
     "metadata": {
      "needs_background": "light"
     },
     "output_type": "display_data"
    }
   ],
   "source": [
    "### comparing samples range from posterior and prior:\n",
    "data = np.random.uniform(prior_min[0],prior_max[0],100) # You are generating 1000 points between 0 and 1.\n",
    "\n",
    "\n",
    "binsteps1 = np.abs(max(data)-min(data))*0.03 + 0.001\n",
    "\n",
    "binrange1 = np.arange(min(data), max(data) + binsteps1, binsteps1)\n",
    "\n",
    "binsteps2 = np.abs(max(samples_0)-min(samples_0))*0.03 + 0.001\n",
    "\n",
    "binrange2 = np.arange(min(samples_0), max(samples_0) + binsteps2, binsteps2)\n",
    "\n",
    "plt.hist(data, bins=binrange1, facecolor='green',  density=True, histtype='barstacked', alpha=0.5) \n",
    "plt.hist(samples_0, bins=binrange2, facecolor='red',  density=True, histtype='barstacked', alpha=0.5)\n",
    "\n",
    "\n"
   ]
  },
  {
   "cell_type": "code",
   "execution_count": 32,
   "metadata": {},
   "outputs": [
    {
     "name": "stdout",
     "output_type": "stream",
     "text": [
      "4\n",
      "3.8540637\n"
     ]
    }
   ],
   "source": [
    "print(prior_max[0]-prior_min[0])\n",
    "print(np.max(samples_0)-np.min(samples_0))"
   ]
  },
  {
   "cell_type": "code",
   "execution_count": 33,
   "metadata": {},
   "outputs": [
    {
     "data": {
      "text/plain": [
       "15.775"
      ]
     },
     "execution_count": 33,
     "metadata": {},
     "output_type": "execute_result"
    }
   ],
   "source": [
    "100/(4/0.631)"
   ]
  },
  {
   "cell_type": "markdown",
   "metadata": {},
   "source": [
    "So, the parameter range takes now only 15.775% of the uniform prior space!!"
   ]
  },
  {
   "cell_type": "markdown",
   "metadata": {},
   "source": [
    "## Second round"
   ]
  },
  {
   "cell_type": "code",
   "execution_count": 41,
   "metadata": {},
   "outputs": [
    {
     "data": {
      "application/vnd.jupyter.widget-view+json": {
       "model_id": "5ff0e6ff09cc460cbf1bcc34af11c39b",
       "version_major": 2,
       "version_minor": 0
      },
      "text/plain": [
       "Drawing 1 posterior samples:   0%|          | 0/1 [00:00<?, ?it/s]"
      ]
     },
     "metadata": {},
     "output_type": "display_data"
    },
    {
     "data": {
      "application/vnd.jupyter.widget-view+json": {
       "model_id": "99886f49f488444abd495182cc1ea530",
       "version_major": 2,
       "version_minor": 0
      },
      "text/plain": [
       "Drawing 1 posterior samples:   0%|          | 0/1 [00:00<?, ?it/s]"
      ]
     },
     "metadata": {},
     "output_type": "display_data"
    },
    {
     "data": {
      "application/vnd.jupyter.widget-view+json": {
       "model_id": "198e7dd6ba9a4e6b9337ccd05208b92b",
       "version_major": 2,
       "version_minor": 0
      },
      "text/plain": [
       "Drawing 1 posterior samples:   0%|          | 0/1 [00:00<?, ?it/s]"
      ]
     },
     "metadata": {},
     "output_type": "display_data"
    },
    {
     "name": "stdout",
     "output_type": "stream",
     "text": [
      "tensor([-3.2433])\n"
     ]
    },
    {
     "data": {
      "application/vnd.jupyter.widget-view+json": {
       "model_id": "e64c5c9ad15d47b48fcda1fc59cbd82b",
       "version_major": 2,
       "version_minor": 0
      },
      "text/plain": [
       "Drawing 1 posterior samples:   0%|          | 0/1 [00:00<?, ?it/s]"
      ]
     },
     "metadata": {},
     "output_type": "display_data"
    },
    {
     "data": {
      "application/vnd.jupyter.widget-view+json": {
       "model_id": "bc0a1c4ef15f49dbbcabd0068b512aa4",
       "version_major": 2,
       "version_minor": 0
      },
      "text/plain": [
       "Drawing 1 posterior samples:   0%|          | 0/1 [00:00<?, ?it/s]"
      ]
     },
     "metadata": {},
     "output_type": "display_data"
    },
    {
     "data": {
      "application/vnd.jupyter.widget-view+json": {
       "model_id": "9a9a88b71fd649d6933c8148b84b4a8b",
       "version_major": 2,
       "version_minor": 0
      },
      "text/plain": [
       "Drawing 1 posterior samples:   0%|          | 0/1 [00:00<?, ?it/s]"
      ]
     },
     "metadata": {},
     "output_type": "display_data"
    },
    {
     "data": {
      "application/vnd.jupyter.widget-view+json": {
       "model_id": "ed07ce17221e4574bb3171db3c1f74ef",
       "version_major": 2,
       "version_minor": 0
      },
      "text/plain": [
       "Drawing 2 posterior samples:   0%|          | 0/2 [00:00<?, ?it/s]"
      ]
     },
     "metadata": {},
     "output_type": "display_data"
    },
    {
     "name": "stderr",
     "output_type": "stream",
     "text": [
      "/home/ubuntu/miniconda3/envs/sbi_env/lib/python3.7/site-packages/ipykernel_launcher.py:66: FutureWarning: The input object of type 'Tensor' is an array-like implementing one of the corresponding protocols (`__array__`, `__array_interface__` or `__array_struct__`); but not a sequence (or 0-D). In the future, this object will be coerced as if it was first converted using `np.array(obj)`. To retain the old behaviour, you have to either modify the type 'Tensor', or assign to an empty array created with `np.empty(correct_shape, dtype=object)`.\n",
      "/home/ubuntu/miniconda3/envs/sbi_env/lib/python3.7/site-packages/ipykernel_launcher.py:66: VisibleDeprecationWarning: Creating an ndarray from ragged nested sequences (which is a list-or-tuple of lists-or-tuples-or ndarrays with different lengths or shapes) is deprecated. If you meant to do this, you must specify 'dtype=object' when creating the ndarray.\n"
     ]
    },
    {
     "data": {
      "application/vnd.jupyter.widget-view+json": {
       "model_id": "fc40a8092a624ea0902db1b870ec4f2f",
       "version_major": 2,
       "version_minor": 0
      },
      "text/plain": [
       "Drawing 1 posterior samples:   0%|          | 0/1 [00:00<?, ?it/s]"
      ]
     },
     "metadata": {},
     "output_type": "display_data"
    },
    {
     "data": {
      "application/vnd.jupyter.widget-view+json": {
       "model_id": "b2ae492dc64a4b77afda34a71d4c0ee1",
       "version_major": 2,
       "version_minor": 0
      },
      "text/plain": [
       "Drawing 1 posterior samples:   0%|          | 0/1 [00:00<?, ?it/s]"
      ]
     },
     "metadata": {},
     "output_type": "display_data"
    },
    {
     "data": {
      "application/vnd.jupyter.widget-view+json": {
       "model_id": "84eb7612f73f4e0aa0d81d2b20fdb7ec",
       "version_major": 2,
       "version_minor": 0
      },
      "text/plain": [
       "Drawing 1 posterior samples:   0%|          | 0/1 [00:00<?, ?it/s]"
      ]
     },
     "metadata": {},
     "output_type": "display_data"
    },
    {
     "data": {
      "application/vnd.jupyter.widget-view+json": {
       "model_id": "b8514d840b614e05a63c0e2e389c6a34",
       "version_major": 2,
       "version_minor": 0
      },
      "text/plain": [
       "Drawing 300 posterior samples:   0%|          | 0/300 [00:00<?, ?it/s]"
      ]
     },
     "metadata": {},
     "output_type": "display_data"
    },
    {
     "data": {
      "application/vnd.jupyter.widget-view+json": {
       "model_id": "05dcc5a673b54d1da5f611ed6cdbe074",
       "version_major": 2,
       "version_minor": 0
      },
      "text/plain": [
       "Running 300 simulations in 300 batches.:   0%|          | 0/300 [00:00<?, ?it/s]"
      ]
     },
     "metadata": {},
     "output_type": "display_data"
    }
   ],
   "source": [
    "#### second round\n",
    "\n",
    "\n",
    "\n",
    "prior2 = utils.torchutils.BoxUniform(low=prior_min[2:3], high = prior_max[2:3])\n",
    "\n",
    "\n",
    "prior_combined =Combined(proposal1, prior2, number_params_1=2)\n",
    "\n",
    "\n",
    "\n",
    "inf = SNPE_C(prior_combined, density_estimator=\"nsf\")\n",
    "\n",
    "density_estimator = 'nsf'\n",
    "\n",
    "\n",
    "simulator_stats, prior = prepare_for_sbi(piecewise_linear_seq, prior_combined)\n",
    "\n",
    "inference = SNPE_C(prior, density_estimator=density_estimator)\n",
    "\n",
    "theta, x_without = simulate_for_sbi(\n",
    "    simulator_stats,\n",
    "    proposal=prior,\n",
    "    num_simulations=num_simulations,\n",
    "    num_workers=4,\n",
    ")"
   ]
  },
  {
   "cell_type": "code",
   "execution_count": 42,
   "metadata": {},
   "outputs": [
    {
     "name": "stdout",
     "output_type": "stream",
     "text": [
      "Neural network successfully converged after 66 epochs.\n"
     ]
    }
   ],
   "source": [
    "x = extract_sumstats(x_without)\n",
    "\n",
    "\n",
    "\n",
    "inf = inf.append_simulations(theta, x)\n",
    "\n",
    "\n",
    "density_estimator = inf.train()\n",
    "\n",
    "posterior2 = inf.build_posterior(density_estimator)"
   ]
  },
  {
   "cell_type": "code",
   "execution_count": 43,
   "metadata": {},
   "outputs": [
    {
     "data": {
      "application/vnd.jupyter.widget-view+json": {
       "model_id": "ab8cb0ee4bef44c28e8318ee7426b4e4",
       "version_major": 2,
       "version_minor": 0
      },
      "text/plain": [
       "Drawing 1000 posterior samples:   0%|          | 0/1000 [00:00<?, ?it/s]"
      ]
     },
     "metadata": {},
     "output_type": "display_data"
    }
   ],
   "source": [
    "true_params = [5,5,-3]\n",
    "\n",
    "\n",
    "obs_real = piecewise_linear_seq(true_params)\n",
    "\n",
    "\n",
    "obs_real_stats = extract_sumstats([obs_real])\n",
    "\n",
    "\n",
    "#print(proposal2.log_prob(theta))\n",
    "\n",
    "samples = posterior2.sample((num_samples,), x=obs_real_stats)\n",
    "\n",
    "proposal2 = posterior2.set_default_x(obs_real_stats)"
   ]
  },
  {
   "cell_type": "markdown",
   "metadata": {},
   "source": [
    "## Third and last round"
   ]
  },
  {
   "cell_type": "code",
   "execution_count": 44,
   "metadata": {},
   "outputs": [
    {
     "data": {
      "application/vnd.jupyter.widget-view+json": {
       "model_id": "d387e8bbc7394bc79545c52c6eb0c9e9",
       "version_major": 2,
       "version_minor": 0
      },
      "text/plain": [
       "Drawing 1 posterior samples:   0%|          | 0/1 [00:00<?, ?it/s]"
      ]
     },
     "metadata": {},
     "output_type": "display_data"
    },
    {
     "data": {
      "application/vnd.jupyter.widget-view+json": {
       "model_id": "d7141bf8ae49414ca12a9ed0331aa10c",
       "version_major": 2,
       "version_minor": 0
      },
      "text/plain": [
       "Drawing 1 posterior samples:   0%|          | 0/1 [00:00<?, ?it/s]"
      ]
     },
     "metadata": {},
     "output_type": "display_data"
    },
    {
     "data": {
      "application/vnd.jupyter.widget-view+json": {
       "model_id": "ba5a644fc1ec4166b6249595a0a50f0c",
       "version_major": 2,
       "version_minor": 0
      },
      "text/plain": [
       "Drawing 1 posterior samples:   0%|          | 0/1 [00:00<?, ?it/s]"
      ]
     },
     "metadata": {},
     "output_type": "display_data"
    },
    {
     "name": "stdout",
     "output_type": "stream",
     "text": [
      "tensor([-0.8008])\n"
     ]
    },
    {
     "data": {
      "application/vnd.jupyter.widget-view+json": {
       "model_id": "564292c5f6ea44f792a403490ec5a889",
       "version_major": 2,
       "version_minor": 0
      },
      "text/plain": [
       "Drawing 1 posterior samples:   0%|          | 0/1 [00:00<?, ?it/s]"
      ]
     },
     "metadata": {},
     "output_type": "display_data"
    },
    {
     "data": {
      "application/vnd.jupyter.widget-view+json": {
       "model_id": "9db141d1f7f94c959b6f8d6c9e819796",
       "version_major": 2,
       "version_minor": 0
      },
      "text/plain": [
       "Drawing 1 posterior samples:   0%|          | 0/1 [00:00<?, ?it/s]"
      ]
     },
     "metadata": {},
     "output_type": "display_data"
    },
    {
     "data": {
      "application/vnd.jupyter.widget-view+json": {
       "model_id": "07cf02b018bf43e394171c1c93957724",
       "version_major": 2,
       "version_minor": 0
      },
      "text/plain": [
       "Drawing 1 posterior samples:   0%|          | 0/1 [00:00<?, ?it/s]"
      ]
     },
     "metadata": {},
     "output_type": "display_data"
    },
    {
     "data": {
      "application/vnd.jupyter.widget-view+json": {
       "model_id": "0a9a9690edc94ed495ad877ffc704da3",
       "version_major": 2,
       "version_minor": 0
      },
      "text/plain": [
       "Drawing 2 posterior samples:   0%|          | 0/2 [00:00<?, ?it/s]"
      ]
     },
     "metadata": {},
     "output_type": "display_data"
    },
    {
     "name": "stderr",
     "output_type": "stream",
     "text": [
      "/home/ubuntu/miniconda3/envs/sbi_env/lib/python3.7/site-packages/ipykernel_launcher.py:66: FutureWarning: The input object of type 'Tensor' is an array-like implementing one of the corresponding protocols (`__array__`, `__array_interface__` or `__array_struct__`); but not a sequence (or 0-D). In the future, this object will be coerced as if it was first converted using `np.array(obj)`. To retain the old behaviour, you have to either modify the type 'Tensor', or assign to an empty array created with `np.empty(correct_shape, dtype=object)`.\n",
      "/home/ubuntu/miniconda3/envs/sbi_env/lib/python3.7/site-packages/ipykernel_launcher.py:66: VisibleDeprecationWarning: Creating an ndarray from ragged nested sequences (which is a list-or-tuple of lists-or-tuples-or ndarrays with different lengths or shapes) is deprecated. If you meant to do this, you must specify 'dtype=object' when creating the ndarray.\n"
     ]
    },
    {
     "data": {
      "application/vnd.jupyter.widget-view+json": {
       "model_id": "e69d1cb47f94460abbda37f2bd6cc6e4",
       "version_major": 2,
       "version_minor": 0
      },
      "text/plain": [
       "Drawing 1 posterior samples:   0%|          | 0/1 [00:00<?, ?it/s]"
      ]
     },
     "metadata": {},
     "output_type": "display_data"
    },
    {
     "data": {
      "application/vnd.jupyter.widget-view+json": {
       "model_id": "9fd21a163c724434ac8632991d2ef9ba",
       "version_major": 2,
       "version_minor": 0
      },
      "text/plain": [
       "Drawing 1 posterior samples:   0%|          | 0/1 [00:00<?, ?it/s]"
      ]
     },
     "metadata": {},
     "output_type": "display_data"
    },
    {
     "data": {
      "application/vnd.jupyter.widget-view+json": {
       "model_id": "381d910518af43708d86557130618c86",
       "version_major": 2,
       "version_minor": 0
      },
      "text/plain": [
       "Drawing 1 posterior samples:   0%|          | 0/1 [00:00<?, ?it/s]"
      ]
     },
     "metadata": {},
     "output_type": "display_data"
    },
    {
     "data": {
      "application/vnd.jupyter.widget-view+json": {
       "model_id": "799b678a2fc84d4ebcea4d4cec5d3c40",
       "version_major": 2,
       "version_minor": 0
      },
      "text/plain": [
       "Drawing 300 posterior samples:   0%|          | 0/300 [00:00<?, ?it/s]"
      ]
     },
     "metadata": {},
     "output_type": "display_data"
    },
    {
     "data": {
      "application/vnd.jupyter.widget-view+json": {
       "model_id": "b867ac9bea264af38505f285cb4c9f43",
       "version_major": 2,
       "version_minor": 0
      },
      "text/plain": [
       "Running 300 simulations in 300 batches.:   0%|          | 0/300 [00:00<?, ?it/s]"
      ]
     },
     "metadata": {},
     "output_type": "display_data"
    }
   ],
   "source": [
    "#### third round\n",
    "\n",
    "\n",
    "\n",
    "prior3 = utils.torchutils.BoxUniform(low=prior_min[3:4], high = prior_max[3:4])\n",
    "\n",
    "\n",
    "prior_combined2 = Combined(proposal2, prior3, number_params_1=3)\n",
    "\n",
    "\n",
    "\n",
    "inf = SNPE_C(prior_combined2, density_estimator=\"nsf\")\n",
    "\n",
    "density_estimator = 'nsf'\n",
    "\n",
    "\n",
    "simulator_stats, prior = prepare_for_sbi(piecewise_linear_seq, prior_combined2)\n",
    "\n",
    "inference = SNPE_C(prior, density_estimator=density_estimator)\n",
    "\n",
    "theta, x_without = simulate_for_sbi(\n",
    "    simulator_stats,\n",
    "    proposal=prior,\n",
    "    num_simulations=num_simulations,\n",
    "    num_workers=4,\n",
    ")"
   ]
  },
  {
   "cell_type": "code",
   "execution_count": 45,
   "metadata": {},
   "outputs": [
    {
     "name": "stdout",
     "output_type": "stream",
     "text": [
      "Neural network successfully converged after 58 epochs.\n"
     ]
    }
   ],
   "source": [
    "x = extract_sumstats(x_without)\n",
    "\n",
    "\n",
    "\n",
    "inf = inf.append_simulations(theta, x)\n",
    "\n",
    "\n",
    "density_estimator = inf.train()\n",
    "\n",
    "posterior3 = inf.build_posterior(density_estimator)"
   ]
  },
  {
   "cell_type": "code",
   "execution_count": 46,
   "metadata": {},
   "outputs": [
    {
     "name": "stdout",
     "output_type": "stream",
     "text": [
      "tensor([  4.9738,   4.9738,   0.0000,  16.8416,  11.2115, 199.0000,  11.2115,\n",
      "         99.0000,  19.3366, 499.0000])\n"
     ]
    },
    {
     "data": {
      "application/vnd.jupyter.widget-view+json": {
       "model_id": "b36a686084d94a12ab327268b378820d",
       "version_major": 2,
       "version_minor": 0
      },
      "text/plain": [
       "Drawing 1000 posterior samples:   0%|          | 0/1000 [00:00<?, ?it/s]"
      ]
     },
     "metadata": {},
     "output_type": "display_data"
    }
   ],
   "source": [
    "\n",
    "true_params = [5, 5, -3, 2]\n",
    "\n",
    "obs_real = piecewise_linear_seq(true_params)\n",
    "\n",
    "\n",
    "obs_real_stats = extract_sumstats([obs_real])[0]\n",
    "\n",
    "print(obs_real_stats)\n",
    "\n",
    "\n",
    "samples = posterior3.sample((num_samples,), x=obs_real_stats)\n",
    "\n",
    "\n",
    "prior = utils.torchutils.BoxUniform(low=prior_min, high = prior_max)\n",
    "samples_prior = []\n",
    "\n",
    "\n",
    "for i in range(num_samples):\n",
    "    sample = prior.sample()\n",
    "    samples_prior.append(sample)"
   ]
  },
  {
   "cell_type": "code",
   "execution_count": 47,
   "metadata": {},
   "outputs": [
    {
     "name": "stdout",
     "output_type": "stream",
     "text": [
      "start: 02-10-2022_16:27:00 \n",
      "end: 02-10-2022_17:23:35\n"
     ]
    }
   ],
   "source": [
    "end = get_time()\n",
    "\n",
    "\n",
    "print('start:', start, '\\nend:', end)"
   ]
  },
  {
   "cell_type": "code",
   "execution_count": 48,
   "metadata": {},
   "outputs": [],
   "source": [
    "from joblib import Parallel, delayed\n",
    "\n",
    "num_workers = 4\n",
    "x_lin = torch.arange(0,10,0.01, dtype= torch.float32)\n",
    "s_x = Parallel(\n",
    "        n_jobs=num_workers,\n",
    "        verbose=0,\n",
    "        pre_dispatch=\"1.5*n_jobs\",\n",
    "        backend=\"multiprocessing\",\n",
    "    )(delayed(piecewise_linear_seq)(sample) for sample in samples)\n",
    "\n",
    "\n",
    "s_x_prior = Parallel(\n",
    "        n_jobs=num_workers,\n",
    "        verbose=0,\n",
    "        pre_dispatch=\"1.5*n_jobs\",\n",
    "        backend=\"multiprocessing\",\n",
    "    )(delayed(piecewise_linear_seq)(sample) for sample in samples_prior)"
   ]
  },
  {
   "cell_type": "code",
   "execution_count": 49,
   "metadata": {},
   "outputs": [],
   "source": [
    "s_x_stat = extract_sumstats(s_x)\n",
    "\n",
    "s_x_prior_stat = extract_sumstats(s_x_prior)\n",
    "\n"
   ]
  },
  {
   "cell_type": "code",
   "execution_count": 50,
   "metadata": {},
   "outputs": [
    {
     "data": {
      "image/png": "[encoded data removed]",
      "text/plain": [
       "<Figure size 432x288 with 1 Axes>"
      ]
     },
     "metadata": {
      "needs_background": "light"
     },
     "output_type": "display_data"
    },
    {
     "data": {
      "image/png": "[encoded data removed]",
      "text/plain": [
       "<Figure size 432x288 with 1 Axes>"
      ]
     },
     "metadata": {
      "needs_background": "light"
     },
     "output_type": "display_data"
    }
   ],
   "source": [
    "fig, ax = plt.subplots(1, 1)\n",
    "ax.set_title(\"Simulating from posterior\")\n",
    "for s in s_x:\n",
    "    im = plt.plot(x_lin, s, alpha=0.1, color='blue')\n",
    "    plt.ylim(-10,30)\n",
    "plt.plot(x_lin, obs_real, label='Ground truth', color='red')\n",
    "plt.legend()\n",
    "    \n",
    "    \n",
    "    \n",
    "fig, ax = plt.subplots(1, 1)\n",
    "ax.set_title(\"Simulating from prior\")\n",
    "for x_w in x_without:\n",
    "    plt.plot(x_lin, x_w, alpha=0.1, color='blue')\n",
    "\n",
    "    plt.ylim(-10,30)\n",
    "\n",
    "\n",
    "  "
   ]
  },
  {
   "cell_type": "code",
   "execution_count": 51,
   "metadata": {},
   "outputs": [
    {
     "data": {
      "image/png": "[encoded data removed]",
      "text/plain": [
       "<Figure size 360x360 with 16 Axes>"
      ]
     },
     "metadata": {
      "needs_background": "light"
     },
     "output_type": "display_data"
    }
   ],
   "source": [
    "limits = [list(tup) for tup in zip(prior_min, prior_max)]\n",
    "\n",
    "true_params = torch.tensor([[5, 5, -3, 2, 1, 5]])\n",
    "\n",
    "parameter_names = ['a1', 'b', 'a2', 'a3']\n",
    "\n",
    "fig, axes = analysis.pairplot(\n",
    "    samples,\n",
    "    limits=limits,\n",
    "    ticks=limits,\n",
    "    figsize=(5, 5),\n",
    "    points=true_params[0:2],\n",
    "    points_offdiag={\"markersize\": 6},\n",
    "    points_colors=\"r\",\n",
    "    #tick_labels=parameter_names\n",
    "    labels=parameter_names,\n",
    ")"
   ]
  },
  {
   "cell_type": "markdown",
   "metadata": {},
   "source": [
    "### Validating summary statistics with histogram plots\n",
    "\n",
    "We should see that posterior is restricting the area of values"
   ]
  },
  {
   "cell_type": "code",
   "execution_count": 52,
   "metadata": {},
   "outputs": [
    {
     "name": "stdout",
     "output_type": "stream",
     "text": [
      "10\n",
      "tensor([1, 2, 3, 4, 5, 6, 7, 8, 9])\n"
     ]
    },
    {
     "data": {
      "image/png": "[encoded data removed]",
      "text/plain": [
       "<Figure size 720x2880 with 8 Axes>"
      ]
     },
     "metadata": {
      "needs_background": "light"
     },
     "output_type": "display_data"
    }
   ],
   "source": [
    "import matplotlib.gridspec as gridspec\n",
    "\n",
    "\n",
    "\n",
    "fig = plt.figure(figsize=(10,40), tight_layout=True)\n",
    "\n",
    "gs = gridspec.GridSpec(nrows=x.size(dim=1), ncols=1)\n",
    "print(len(s_x_stat[0]))\n",
    "\n",
    "sum_stats_names = torch.arange(1, len(s_x_stat[0]), 1)\n",
    "\n",
    "print(sum_stats_names)\n",
    "\n",
    "\n",
    "\n",
    "#fig.suptitle('Summary stats histogram from posterior predictions.', y=0.2, fontsize=16)\n",
    "\n",
    "\n",
    "for i in range(len(sum_stats_names)-1):\n",
    "\n",
    "    globals()['ax%s' % i] = fig.add_subplot(gs[i])\n",
    "\n",
    "    globals()['sum_stats%s' % i] = []\n",
    "    globals()['x%s' % i] = []\n",
    "\n",
    "    for j in range(len(s_x)-1):\n",
    "        globals()['sum_stats%s' % i].append(s_x_stat[j][i])\n",
    "        globals()['x%s' % i].append(s_x_prior_stat[j][i])\n",
    "\n",
    "\n",
    "\n",
    "    globals()['ax%s' % i].hist(globals()['sum_stats%s' % i],  density=True, facecolor='g', alpha=0.75, histtype='barstacked', label='from posterior')\n",
    "    globals()['ax%s' % i].hist(globals()['x%s' % i],  density=True, facecolor='b', alpha=0.75, histtype='barstacked', label='simulated')\n",
    "    \n",
    "  \n",
    "    globals()['ax%s' % i].set_title('Histogram of summary stat \"{}\" '.format(sum_stats_names[i]), pad=20)\n",
    "    #ax0.set(ylim=(-500, 7000))\n",
    "\n",
    "    globals()['ax%s' % i].axvline(obs_real_stats[i], color='red', label='ground truth')\n",
    "    globals()['ax%s' % i].legend(loc='upper right')\n",
    "\n",
    "\n",
    "\n",
    "\n",
    "\n",
    "plt.savefig('Summary_stats_post_prior')"
   ]
  },
  {
   "cell_type": "code",
   "execution_count": null,
   "metadata": {},
   "outputs": [],
   "source": []
  },
  {
   "cell_type": "code",
   "execution_count": null,
   "metadata": {},
   "outputs": [],
   "source": []
  }
 ],
 "metadata": {
  "interpreter": {
   "hash": "126fa1c3f32c28cc7adc0ff61e94b616033ac8f91881516d11a50edd9bdb1b2c"
  },
  "kernelspec": {
   "display_name": "Python 3 (ipykernel)",
   "language": "python",
   "name": "python3"
  },
  "language_info": {
   "codemirror_mode": {
    "name": "ipython",
    "version": 3
   },
   "file_extension": ".py",
   "mimetype": "text/x-python",
   "name": "python",
   "nbconvert_exporter": "python",
   "pygments_lexer": "ipython3",
   "version": "3.7.11"
  }
 },
 "nbformat": 4,
 "nbformat_minor": 2
}
