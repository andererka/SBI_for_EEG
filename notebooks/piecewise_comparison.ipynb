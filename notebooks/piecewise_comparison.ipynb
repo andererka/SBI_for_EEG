{
 "cells": [
  {
   "cell_type": "markdown",
   "metadata": {},
   "source": [
    "## Time series with time structured parameters and summary statistics\n",
    "\n",
    "Idea: construct a model $p(x|\\theta)$ with $\\theta = (\\theta_1,...\\theta_n)$ and summary statistics $s(x) = (s_1(x),...s_m(x))$ s.t.\n",
    "\n",
    "\n",
    "for all $i$ there exists a $j$, $j\\leq m$, and $l$, $j\\leq l$ such that\n",
    " \n",
    "$p(s_{1:i}|\\theta_{1:n} ) = p(s_{1:i}|\\theta_{1:j}) $.\n",
    "\n",
    "and \n",
    "\n",
    "$p(s_{1:i+1}|\\theta_{1:n} ) = p(s_{1:i+1}|\\theta_{1:l}) $."
   ]
  },
  {
   "cell_type": "markdown",
   "metadata": {},
   "source": [
    "### Examples:\n",
    "1. Piecewise linear function:\n",
    " - $\\theta_{1,2}$ : a and b of linear function f(x) = ax + b\n",
    " - $\\theta_{3,4}$ : time of changing point cp, and a2 of second slope\n",
    "\n",
    " 2. Sinusoidal waves with linearly increasing/decreasing amplitudes, and changing points at which this linear function changes.\n",
    " \n"
   ]
  },
  {
   "cell_type": "code",
   "execution_count": 12,
   "metadata": {},
   "outputs": [
    {
     "name": "stdout",
     "output_type": "stream",
     "text": [
      "The autoreload extension is already loaded. To reload it, use:\n",
      "  %reload_ext autoreload\n"
     ]
    }
   ],
   "source": [
    "\n",
    "%load_ext autoreload\n",
    "%autoreload 2\n",
    "\n",
    "import numpy as np\n",
    "import scipy as scp\n",
    "import matplotlib.pyplot as plt\n",
    "\n",
    "\n",
    "import sys\n",
    "sys.path.append('../code/')\n",
    "\n",
    "import torch"
   ]
  },
  {
   "cell_type": "code",
   "execution_count": 13,
   "metadata": {},
   "outputs": [],
   "source": [
    "from utils import helpers\n",
    "from utils.helpers import get_time\n",
    "\n",
    "from utils.sbi_modulated_functions import Combined\n",
    "\n",
    "\n",
    "from utils.helpers import get_time"
   ]
  },
  {
   "cell_type": "code",
   "execution_count": 14,
   "metadata": {},
   "outputs": [],
   "source": [
    "# sbi\n",
    "from sbi import utils as utils\n",
    "from sbi import analysis as analysis\n",
    "from sbi.inference.base import infer\n",
    "from sbi.inference import SNPE, prepare_for_sbi, simulate_for_sbi\n",
    "from sbi.inference import SNPE_C\n",
    "\n",
    "\n",
    "import utils\n",
    "from utils.helpers import get_time\n",
    "\n",
    "from utils.sbi_modulated_functions import Combined\n",
    "\n",
    "\n",
    "from utils.helpers import get_time"
   ]
  },
  {
   "cell_type": "markdown",
   "metadata": {},
   "source": [
    "## Piecewise_linear() and simulation wrappers for SBI\n",
    "\n",
    "I defined a seperate function for each sequential step such that we can vary different numbers of parameters"
   ]
  },
  {
   "cell_type": "code",
   "execution_count": 15,
   "metadata": {},
   "outputs": [],
   "source": [
    "start = get_time()\n",
    "\n",
    "\n",
    "\n",
    "def piecewise_linear(a1,b, a2,a3, cp1, cp2, add_noise=None):\n",
    "    \"\"\"\n",
    "    Args:\n",
    "        a1 (float): first slope\n",
    "        b (float): offset\n",
    "        a2 (float): second slope\n",
    "        a3 (float): 3rd slope\n",
    "        cp1, cp2 (float): changing points\n",
    "        add_noise (None or float): None or scale of Gaussian noise on all variables\n",
    "\n",
    "    Returns:\n",
    "        x,y (arrays): x and y of piecewise linear function. \n",
    "    \"\"\"\n",
    "    if not add_noise == None:\n",
    "        a1,b, a2,a3, cp1, cp2 = np.array([a1,b, a2,a3, cp1, cp2]) + scp.random.normal(scale=add_noise,size=6)       \n",
    "    \n",
    "    x = np.arange(0,10,0.01)\n",
    "    y = np.zeros(x.shape)\n",
    "    \n",
    "    # first piece\n",
    "    y[x<cp1] = (b+a1*x[x<cp1])\n",
    "    \n",
    "    # second piece     \n",
    "    y[(x>=cp1) & (x<cp2)] = y[np.sum(x<cp1)-1] + a2* (x[(x>=cp1) & (x<cp2)]  - cp1) \n",
    "    \n",
    "    # third piece\n",
    "    y[x>=cp2] = y[np.sum(x<cp2)-1] + a3* (x[x>=cp2] - cp2) \n",
    "    \n",
    "\n",
    "    return y\n",
    "\n",
    "\n",
    "def piecewise_linear_seq(thetas):\n",
    "    \"\"\"\n",
    "    I defined a seperate function for each sequential step such that we can vary different numbers of parameters\n",
    "    Args:\n",
    "        a1 (float): first slope\n",
    "        b (float): offset\n",
    "        a2 (float): second slope\n",
    "        a3 (float): 3rd slope\n",
    "        cp1, cp2 (float): changing points\n",
    "        add_noise (None or float): None or scale of Gaussian noise on all variables\n",
    "\n",
    "    Returns:\n",
    "        x,y (arrays): x and y of piecewise linear function. \n",
    "    \"\"\"\n",
    "    \n",
    "    add_noise=0.2\n",
    "    \n",
    "    cp1 = np.float32(3)\n",
    "    cp2 = np.float32(6)\n",
    "    \n",
    "    x = torch.arange(0,10,0.01, dtype= torch.float32)\n",
    "    y = torch.zeros(x.shape)\n",
    "    \n",
    "    \n",
    "    if (len(thetas)==2):\n",
    "        a1 = thetas[0]\n",
    "        b = thetas[1]\n",
    "        \n",
    "        if not add_noise == None:\n",
    "            a1,b = np.array([a1,b]) + scp.random.normal(scale=add_noise,size=2)  \n",
    "            \n",
    "        # first piece\n",
    "        y[x<cp1] = (b+a1*x[x<cp1])\n",
    "        \n",
    "        return y[x<cp1]\n",
    "    \n",
    "     \n",
    "    if (len(thetas)==3):     \n",
    "        a1 = thetas[0]\n",
    "        b = thetas[1]\n",
    "        a2 = thetas[2]\n",
    "        \n",
    "        if not add_noise == None:\n",
    "            a1,b, a2 = np.array([a1,b, a2]) + scp.random.normal(scale=add_noise,size=3)       \n",
    "    \n",
    "        # first piece\n",
    "        y[x<cp1] = (b+a1*x[x<cp1])\n",
    "    \n",
    "        # second piece     \n",
    "        y[(x>=cp1) & (x<cp2)] = y[torch.sum(x<cp1)-1] + a2* (x[(x>=cp1) & (x<cp2)]  - cp1) \n",
    "        \n",
    "        return y[x<cp2]\n",
    "    \n",
    "    \n",
    "    if (len(thetas)==4):\n",
    "        \n",
    "        \n",
    "        a1 = thetas[0]\n",
    "        b = thetas[1]\n",
    "        a2 = thetas[2]\n",
    "        a3 = thetas[3]\n",
    "        \n",
    "        if not add_noise == None:\n",
    "            a1,b, a2, a3 = np.array([a1,b, a2, a3]) + scp.random.normal(scale=add_noise,size=4)       \n",
    "    \n",
    "        # first piece\n",
    "        y[x<cp1] = (b+a1*x[x<cp1])\n",
    "    \n",
    "        # second piece     \n",
    "        y[(x>=cp1) & (x<cp2)] = y[torch.sum(x<cp1)-1] + a2* (x[(x>=cp1) & (x<cp2)]  - cp1) \n",
    "    \n",
    "        # third piece\n",
    "        y[x>=cp2] = y[torch.sum(x<cp2)-1] + a3* (x[x>=cp2] - cp2) \n",
    "        \n",
    "        return y\n",
    "\n",
    "    \n",
    "  "
   ]
  },
  {
   "cell_type": "markdown",
   "metadata": {},
   "source": [
    "### Define prior and summary stats dependent on prior"
   ]
  },
  {
   "cell_type": "code",
   "execution_count": 16,
   "metadata": {},
   "outputs": [],
   "source": [
    "\"\"\"\n",
    "Priors\n",
    "\"\"\"\n",
    "\n",
    "b = scp.random.uniform(0,10)\n",
    "a1 = scp.random.uniform(-10,0)\n",
    "a2 = scp.random.uniform(0,10)\n",
    "a3 = scp.random.uniform(-10,0)\n",
    "cp1 = scp.random.uniform(2,4)\n",
    "cp2 = scp.random.uniform(5,8)\n",
    "\n",
    "\n",
    "x = piecewise_linear(a1,b, a2,a3, cp1, cp2)\n",
    "\n"
   ]
  },
  {
   "cell_type": "markdown",
   "metadata": {},
   "source": [
    "**Summary statistics**\n",
    "\n",
    "I defined a few more summary statistics such that we have 13 in total."
   ]
  },
  {
   "cell_type": "code",
   "execution_count": 17,
   "metadata": {},
   "outputs": [],
   "source": [
    "\"\"\"\n",
    "Summary stats\n",
    "\"\"\"\n",
    "\n",
    "def extract_sumstats(y,max_time=10):\n",
    "    \"\"\"\n",
    "    Extract some sumstats for piecewise linear fct with specified prior \n",
    "    !the information in the sumstats is highly dependent on the prior!\n",
    "    Args:\n",
    "        x ([array]): time axis of time series\n",
    "        y ([array]): 1d time series\n",
    "        max_time (float, optional): maximal time to calculate sumstats on. Defaults to 10.\n",
    "\n",
    "    Returns:\n",
    "       s [array]: summary stats of time series, with np.nan for non-calculated sumstats\n",
    "    \"\"\"\n",
    "    \n",
    "\n",
    "    \n",
    "    batch_list = []\n",
    "    # first batch of sumstats for times <4\n",
    "    \n",
    "    for batch in y:\n",
    "        \n",
    "        step_size = max_time/len(batch)\n",
    "        \n",
    "        \n",
    "        x = torch.arange(0, max_time, step_size, dtype=torch.float64)\n",
    "        \n",
    "        \n",
    "        \n",
    "        \n",
    "        batch[x>max_time] = np.nan\n",
    "    \n",
    "        s = np.zeros(10) * np.nan\n",
    "        \n",
    "        s[0] = np.float32(batch[0])    #offset\n",
    "        s[1] = np.nanmin(batch[x<4])   # local min\n",
    "        \n",
    "        #print(type(s[0]), type(s[1]))\n",
    "        s[2] = np.nanargmin(batch[x<4])   #value of min\n",
    "    \n",
    "\n",
    "        # second batch of sumstats for times > 4\n",
    "        if max_time >= 4 :\n",
    "            s[3] = np.nanmax(batch[(x>=4)&(x<8)])\n",
    "            s[4] = np.nanmin(batch[(x>=4)&(x<8)])\n",
    "            s[5] = np.nanargmin(batch[(x>=4)&(x<8)])\n",
    "\n",
    "        # third batch of sumstats for times > 5\n",
    "        if max_time >= 5:\n",
    "            s[6] = np.nanmin(batch[x>=5])\n",
    "            s[7] = np.nanargmin(batch[x>=5])\n",
    "            \n",
    "            s[8] = np.nanmax(batch[x>=5])\n",
    "            s[9] = np.nanargmax(batch[x>=5])\n",
    "            \n",
    "        s = np.float32(s)\n",
    "    \n",
    "            \n",
    "        batch_list.append(torch.from_numpy(s))\n",
    "\n",
    "    return torch.stack(batch_list)\n",
    "\n",
    "    \n",
    "    "
   ]
  },
  {
   "cell_type": "markdown",
   "metadata": {},
   "source": [
    "## cosine waves\n",
    "\n",
    "WORK IN PROGRESS\n",
    "\n",
    "same, but more ellaborated summary stats are needed"
   ]
  },
  {
   "cell_type": "code",
   "execution_count": 18,
   "metadata": {},
   "outputs": [],
   "source": [
    "def cosine_waves(a1,b,a2,cp,f_1=1, f_2=1, return_factors=False):\n",
    "    \"\"\"\n",
    "    Args:\n",
    "        a1 (float): first slope\n",
    "        b (float): offset (starting amplitude)\n",
    "        a2 (float): second slope\n",
    "        cp (float): changing point\n",
    "        f_1 (float): first freq\n",
    "        f_2 (float): second freq\n",
    "\n",
    "    Returns:\n",
    "        [type]: [description]\n",
    "    \"\"\"\n",
    "    x = np.arange(0,10,0.01)\n",
    "    y = np.zeros(x.shape)\n",
    "    factor1 = (b+a1*x[x<cp])\n",
    "    factor1[factor1<0] = 0\n",
    "    y[x<cp] = factor1 * np.cos(2*np.pi * f_1 * x[x<cp])\n",
    "     \n",
    "    factor2= y[np.sum(x<cp)-1] + a2* (x[x>=cp] - cp) \n",
    "    factor2[factor2<0] = 0\n",
    "\n",
    "    y[x>=cp] = (factor2) * np.cos(2*np.pi * f_2 * x[x>=cp]) \n",
    "\n",
    "    if return_factors:\n",
    "        return x,y, factor1, factor2\n",
    "    else:\n",
    "        return x,y"
   ]
  },
  {
   "cell_type": "code",
   "execution_count": 19,
   "metadata": {},
   "outputs": [
    {
     "data": {
      "text/plain": [
       "[<matplotlib.lines.Line2D at 0x7fd2381e8340>]"
      ]
     },
     "execution_count": 19,
     "metadata": {},
     "output_type": "execute_result"
    },
    {
     "data": {
      "image/png": "[encoded data removed]",
      "text/plain": [
       "<Figure size 432x288 with 1 Axes>"
      ]
     },
     "metadata": {
      "needs_background": "light"
     },
     "output_type": "display_data"
    }
   ],
   "source": [
    "x,y,f1,f2=cosine_waves(4,2,-2,4, return_factors=True  )\n",
    "\n",
    "plt.plot(x[:len(f1)],f1)\n",
    "plt.plot(x[-len(f2):],f2)\n",
    "plt.plot(x,y)"
   ]
  },
  {
   "cell_type": "code",
   "execution_count": 20,
   "metadata": {},
   "outputs": [],
   "source": [
    "def cosine_waves_2(a1,b,a2,a3, cp1, cp2, f_1=1, f_2=1,f_3=1, return_factors=False):\n",
    "    \"\"\"\n",
    "    Args:\n",
    "        a1 (float): first slope\n",
    "        b (float): offset\n",
    "        ai (float): slopes\n",
    "        cpi (float): changing points\n",
    "        f_i (float): first freqs\n",
    "        \n",
    "    Returns:\n",
    "        [type]: [description]\n",
    "    \"\"\"\n",
    "    x = np.arange(0,10,0.01)\n",
    "    y = np.zeros(x.shape)\n",
    "    factor1 = (b+a1*x[x<cp1])\n",
    "    factor1[factor1<0] = 0\n",
    "    y[x<cp1] = factor1 * np.cos(2*np.pi * f_1 * x[x<cp1])\n",
    "     \n",
    "    factor2= y[np.sum(x<cp1)-1] + a2* (x[(x>=cp1) & (x<cp2)] - cp1) \n",
    "    factor2[factor2<0] = 0\n",
    "    y[(x>=cp1) & (x<cp2)] = (factor2) * np.cos(2*np.pi * f_2 * x[(x>=cp1) & (x<cp2)]) \n",
    "    \n",
    "    factor3= y[np.sum(x<cp2)-1] + a3* (x[x>=cp2] - cp2) \n",
    "    factor3[factor3<0] = 0\n",
    "\n",
    "    y[x>=cp2] = (factor3) * np.cos(2*np.pi * f_3 * x[x>=cp2]) \n",
    "\n",
    "    if return_factors:\n",
    "        return x,y, factor1, factor2, factor3\n",
    "    else:\n",
    "        return x,y\n",
    "    \n",
    "    \n",
    "def cosine_waves_2_first(thetas):\n",
    "    \"\"\"\n",
    "    Args:\n",
    "        a1 (float): first slope\n",
    "        b (float): offset\n",
    "        ai (float): slopes\n",
    "        cpi (float): changing points\n",
    "        f_i (float): first freqs\n",
    "        \n",
    "    Returns:\n",
    "        [type]: [description]\n",
    "    \"\"\"\n",
    "    \n",
    "    a1 = thetas[0]\n",
    "    b = thetas[1]\n",
    "    a2=-3\n",
    "    a3=3\n",
    "    cp1=2\n",
    "    cp2=6\n",
    "    f_1=1\n",
    "    f_2=1\n",
    "    f_3=1\n",
    "    \n",
    "    return_factors=False\n",
    "    \n",
    "    x = torch.arange(0,10,0.01, dtype= torch.float32)\n",
    "    y = torch.zeros(x.shape)\n",
    "    factor1 = (b+a1*x[x<cp1])\n",
    "    factor1[factor1<0] = 0\n",
    "    y[x<cp1] = factor1 * np.cos(2*np.pi * f_1 * x[x<cp1])\n",
    "     \n",
    "    factor2= y[np.sum(x<cp1)-1] + a2* (x[(x>=cp1) & (x<cp2)] - cp1) \n",
    "    factor2[factor2<0] = 0\n",
    "    y[(x>=cp1) & (x<cp2)] = (factor2) * np.cos(2*np.pi * f_2 * x[(x>=cp1) & (x<cp2)]) \n",
    "    \n",
    "    factor3= y[torch.sum(x<cp2)-1] + a3* (x[x>=cp2] - cp2) \n",
    "    factor3[factor3<0] = 0\n",
    "\n",
    "    y[x>=cp2] = (factor3) * np.cos(2*np.pi * f_3 * x[x>=cp2]) \n",
    "\n",
    "    if return_factors:\n",
    "        return x,y, factor1, factor2, factor3\n",
    "    else:\n",
    "        return x,y"
   ]
  },
  {
   "cell_type": "code",
   "execution_count": 21,
   "metadata": {},
   "outputs": [
    {
     "data": {
      "text/plain": [
       "[<matplotlib.lines.Line2D at 0x7fd2381c5070>]"
      ]
     },
     "execution_count": 21,
     "metadata": {},
     "output_type": "execute_result"
    },
    {
     "data": {
      "image/png": "[encoded data removed]",
      "text/plain": [
       "<Figure size 432x288 with 1 Axes>"
      ]
     },
     "metadata": {
      "needs_background": "light"
     },
     "output_type": "display_data"
    }
   ],
   "source": [
    "x,y,f1,f2,f3=cosine_waves_2(5,5,\n",
    "                            -3,3,\n",
    "                            2,6, return_factors=True)\n",
    "\n",
    "plt.plot(x[:len(f1)],f1)\n",
    "plt.plot(x[len(f1):-len(f3)],f2)\n",
    "plt.plot(x[-len(f3):],f3)\n",
    "\n",
    "plt.plot(x,y)"
   ]
  },
  {
   "cell_type": "markdown",
   "metadata": {},
   "source": [
    "## Sequential Time Series SBI\n",
    "\n",
    "\n",
    "We have the follwoing parameters: a1,b,a2,a3, cp1, cp2\n",
    "\n",
    "Let's assume this ground truth: true_params = $[5, 5, -3, 2, 1, 5]$\n",
    "\n",
    "and the following uniform priors: \n",
    "\n",
    "prior_min = $[3, 3, -5, 0, -1, 3]  $\n",
    "\n",
    "prior_max = $[7, 7, -1, 4, 3, 7]$\n",
    "\n",
    "\n",
    "We start with inferring the first 2 parameters (a1, b), therefore call the function $piecewise_linear_first_batch()$\n",
    "that only varies these 2 parameters within the prior range."
   ]
  },
  {
   "cell_type": "code",
   "execution_count": 22,
   "metadata": {},
   "outputs": [],
   "source": [
    "#parameter a1,b,a2,a3, cp1, cp2\n",
    "\n",
    "\n",
    "\n",
    "prior_min = [3, 3, -5, 0]  \n",
    "\n",
    "prior_max = [7, 7, -1, 4]\n",
    "\n",
    "num_simulations=300"
   ]
  },
  {
   "cell_type": "markdown",
   "metadata": {},
   "source": [
    "## First round"
   ]
  },
  {
   "cell_type": "code",
   "execution_count": 25,
   "metadata": {},
   "outputs": [
    {
     "name": "stdout",
     "output_type": "stream",
     "text": [
      "[3, 3]\n",
      "BoxUniform(Uniform(low: torch.Size([2]), high: torch.Size([2])), 1)\n"
     ]
    },
    {
     "name": "stderr",
     "output_type": "stream",
     "text": [
      "/tmp/ipykernel_549570/1402098608.py:66: FutureWarning: The input object of type 'Tensor' is an array-like implementing one of the corresponding protocols (`__array__`, `__array_interface__` or `__array_struct__`); but not a sequence (or 0-D). In the future, this object will be coerced as if it was first converted using `np.array(obj)`. To retain the old behaviour, you have to either modify the type 'Tensor', or assign to an empty array created with `np.empty(correct_shape, dtype=object)`.\n",
      "  a1,b = np.array([a1,b]) + scp.random.normal(scale=add_noise,size=2)\n",
      "/tmp/ipykernel_549570/1402098608.py:66: VisibleDeprecationWarning: Creating an ndarray from ragged nested sequences (which is a list-or-tuple of lists-or-tuples-or ndarrays with different lengths or shapes) is deprecated. If you meant to do this, you must specify 'dtype=object' when creating the ndarray.\n",
      "  a1,b = np.array([a1,b]) + scp.random.normal(scale=add_noise,size=2)\n"
     ]
    },
    {
     "data": {
      "application/vnd.jupyter.widget-view+json": {
       "model_id": "2016e4758a8749f59c5fc14ef5e30a1f",
       "version_major": 2,
       "version_minor": 0
      },
      "text/plain": [
       "Running 300 simulations in 300 batches.:   0%|          | 0/300 [00:00<?, ?it/s]"
      ]
     },
     "metadata": {},
     "output_type": "display_data"
    }
   ],
   "source": [
    "### first round:\n",
    "from sbi import utils as utils\n",
    "\n",
    "prior1 = utils.torchutils.BoxUniform(low=prior_min[0:2], high = prior_max[0:2])\n",
    "\n",
    "print(prior_min[0:2])\n",
    "print(prior1)\n",
    "\n",
    "inf = SNPE_C(prior1, density_estimator=\"nsf\")\n",
    "\n",
    "density_estimator = 'nsf'\n",
    "\n",
    "\n",
    "simulator_stats, prior = prepare_for_sbi(piecewise_linear_seq, prior1)\n",
    "\n",
    "inference = SNPE_C(prior, density_estimator=density_estimator)\n",
    "\n",
    "theta, x_without = simulate_for_sbi(\n",
    "    simulator_stats,\n",
    "    proposal=prior,\n",
    "    num_simulations=num_simulations,\n",
    "    num_workers=4,\n",
    ")"
   ]
  },
  {
   "cell_type": "code",
   "execution_count": 26,
   "metadata": {},
   "outputs": [],
   "source": [
    "x = extract_sumstats(x_without)"
   ]
  },
  {
   "cell_type": "code",
   "execution_count": 27,
   "metadata": {},
   "outputs": [
    {
     "name": "stdout",
     "output_type": "stream",
     "text": [
      "Neural network successfully converged after 57 epochs.\n"
     ]
    }
   ],
   "source": [
    "inf = inf.append_simulations(theta, x)\n",
    "density_estimator = inf.train()\n",
    "\n",
    "posterior = inf.build_posterior(density_estimator)"
   ]
  },
  {
   "cell_type": "code",
   "execution_count": 28,
   "metadata": {},
   "outputs": [
    {
     "name": "stdout",
     "output_type": "stream",
     "text": [
      "torch.Size([300])\n",
      "torch.Size([1, 10])\n"
     ]
    }
   ],
   "source": [
    "true_params = [5, 5]\n",
    "obs_real = piecewise_linear_seq(true_params)\n",
    "\n",
    "\n",
    "print(obs_real.shape)\n",
    "\n",
    "obs_real_stats = extract_sumstats([obs_real])\n",
    "\n",
    "\n",
    "print(obs_real_stats.shape)"
   ]
  },
  {
   "cell_type": "code",
   "execution_count": 29,
   "metadata": {},
   "outputs": [
    {
     "data": {
      "application/vnd.jupyter.widget-view+json": {
       "model_id": "0041a70e0bde4f93ae47b8ab100f3139",
       "version_major": 2,
       "version_minor": 0
      },
      "text/plain": [
       "Drawing 1000 posterior samples:   0%|          | 0/1000 [00:00<?, ?it/s]"
      ]
     },
     "metadata": {},
     "output_type": "display_data"
    }
   ],
   "source": [
    "num_samples = 1000\n",
    "\n",
    "samples = posterior.sample((num_samples,), x=obs_real_stats)\n",
    "\n",
    "proposal1 = posterior.set_default_x(obs_real_stats)"
   ]
  },
  {
   "cell_type": "code",
   "execution_count": 30,
   "metadata": {},
   "outputs": [
    {
     "name": "stdout",
     "output_type": "stream",
     "text": [
      "[tensor(5.3360), tensor(5.1354), tensor(4.8920), tensor(5.0560), tensor(4.9361), tensor(5.1383), tensor(4.9440), tensor(4.9412), tensor(5.1282), tensor(4.9604), tensor(5.1513), tensor(5.1636), tensor(4.9118), tensor(4.5299), tensor(5.0661), tensor(6.3481), tensor(4.6939), tensor(4.6123), tensor(4.7725), tensor(5.0968), tensor(4.3267), tensor(5.8811), tensor(5.1735), tensor(4.6407), tensor(5.1500), tensor(5.1851), tensor(5.0261), tensor(4.7729), tensor(5.0726), tensor(4.7939), tensor(4.8378), tensor(5.0300), tensor(4.8876), tensor(5.1084), tensor(5.0284), tensor(4.6924), tensor(5.0407), tensor(4.9692), tensor(5.2835), tensor(4.7256), tensor(5.0341), tensor(5.1588), tensor(4.9874), tensor(4.9142), tensor(5.1061), tensor(5.0433), tensor(5.7784), tensor(4.8452), tensor(5.5387), tensor(5.1700), tensor(5.4358), tensor(5.2769), tensor(6.7310), tensor(4.9461), tensor(5.0854), tensor(4.7420), tensor(5.0347), tensor(5.0728), tensor(5.9036), tensor(4.9527), tensor(4.9527), tensor(4.6170), tensor(4.9333), tensor(5.2957), tensor(5.1292), tensor(4.8722), tensor(5.0847), tensor(4.8083), tensor(4.6299), tensor(5.0353), tensor(5.0971), tensor(5.0513), tensor(5.0467), tensor(4.5042), tensor(6.1413), tensor(4.5516), tensor(5.1214), tensor(5.2550), tensor(4.7940), tensor(5.7068), tensor(5.1054), tensor(4.8875), tensor(4.3533), tensor(5.1181), tensor(5.3852), tensor(5.0467), tensor(6.8334), tensor(4.9544), tensor(4.8837), tensor(4.8280), tensor(4.9422), tensor(5.1161), tensor(4.7761), tensor(5.0170), tensor(5.0717), tensor(5.0898), tensor(4.7859), tensor(4.5600), tensor(4.4836), tensor(4.6192), tensor(5.1630), tensor(5.7854), tensor(5.0626), tensor(4.6909), tensor(4.8228), tensor(4.7281), tensor(4.7013), tensor(4.6520), tensor(5.0123), tensor(4.9305), tensor(5.1773), tensor(5.0496), tensor(5.1356), tensor(5.1860), tensor(4.9062), tensor(4.7446), tensor(4.9932), tensor(4.9577), tensor(5.1830), tensor(4.8896), tensor(4.9282), tensor(4.7194), tensor(5.0299), tensor(4.8643), tensor(5.9504), tensor(5.1632), tensor(4.7217), tensor(4.8206), tensor(4.9744), tensor(5.7556), tensor(5.0994), tensor(5.1308), tensor(4.7538), tensor(4.1670), tensor(5.2279), tensor(5.1891), tensor(5.1660), tensor(4.8110), tensor(5.1162), tensor(5.2487), tensor(5.1039), tensor(6.0209), tensor(5.3215), tensor(5.0301), tensor(5.0084), tensor(4.4844), tensor(5.1651), tensor(5.3708), tensor(5.2286), tensor(5.0033), tensor(5.2427), tensor(5.1494), tensor(5.1161), tensor(4.9986), tensor(5.1166), tensor(4.8280), tensor(5.0696), tensor(4.9868), tensor(4.1129), tensor(4.9135), tensor(5.1162), tensor(5.1308), tensor(6.0470), tensor(5.1561), tensor(4.6382), tensor(5.0995), tensor(5.0455), tensor(4.8565), tensor(5.3824), tensor(5.9931), tensor(5.8469), tensor(4.9399), tensor(5.1426), tensor(5.1534), tensor(4.8190), tensor(4.6240), tensor(4.9317), tensor(4.9127), tensor(4.7096), tensor(5.0342), tensor(4.8532), tensor(4.9450), tensor(4.7894), tensor(5.2509), tensor(4.6791), tensor(4.7126), tensor(5.1689), tensor(5.0912), tensor(4.8300), tensor(5.0799), tensor(5.1543), tensor(3.8005), tensor(4.9048), tensor(5.1694), tensor(5.1413), tensor(4.9422), tensor(3.9864), tensor(5.6205), tensor(5.4804), tensor(4.7569), tensor(5.6444), tensor(4.9324), tensor(5.3104), tensor(5.2069), tensor(6.0202), tensor(6.4857), tensor(5.1297), tensor(5.1339), tensor(5.3346), tensor(5.1964), tensor(5.0036), tensor(4.8054), tensor(5.0128), tensor(5.1023), tensor(4.9651), tensor(5.1932), tensor(5.1951), tensor(5.8300), tensor(4.5646), tensor(4.9379), tensor(5.2182), tensor(4.9256), tensor(4.9872), tensor(5.1339), tensor(4.8193), tensor(5.1657), tensor(4.8856), tensor(4.9586), tensor(5.5514), tensor(5.0274), tensor(5.0675), tensor(4.6804), tensor(5.0728), tensor(4.9607), tensor(5.3573), tensor(4.8747), tensor(4.9578), tensor(5.2714), tensor(4.9813), tensor(4.6594), tensor(5.0161), tensor(5.0007), tensor(4.7594), tensor(4.9424), tensor(4.8065), tensor(5.8529), tensor(4.9653), tensor(5.1974), tensor(4.9705), tensor(4.8790), tensor(5.0772), tensor(4.8523), tensor(4.7861), tensor(5.0511), tensor(4.8570), tensor(5.0221), tensor(5.1726), tensor(4.8957), tensor(4.9538), tensor(5.0956), tensor(4.9074), tensor(5.0144), tensor(4.9816), tensor(5.0035), tensor(4.7347), tensor(4.9145), tensor(4.9260), tensor(4.5674), tensor(4.9940), tensor(4.9456), tensor(5.0031), tensor(5.2726), tensor(5.2156), tensor(4.9528), tensor(4.9438), tensor(4.9447), tensor(4.8712), tensor(5.7061), tensor(4.6482), tensor(4.9390), tensor(4.0007), tensor(5.1507), tensor(5.1360), tensor(5.0329), tensor(5.0841), tensor(5.1352), tensor(5.2152), tensor(5.1495), tensor(6.1097), tensor(5.1414), tensor(4.9604), tensor(4.5511), tensor(4.6774), tensor(5.2460), tensor(5.4988), tensor(5.0858), tensor(4.9891), tensor(5.0731), tensor(4.4693), tensor(5.1591), tensor(4.7804), tensor(5.8075), tensor(4.9983), tensor(5.2917), tensor(4.8432), tensor(5.0211), tensor(4.0926), tensor(4.9179), tensor(4.9513), tensor(4.0671), tensor(4.8633), tensor(4.3845), tensor(4.9783), tensor(5.0824), tensor(4.0445), tensor(4.9563), tensor(4.6510), tensor(5.0694), tensor(5.2131), tensor(4.8377), tensor(4.1658), tensor(5.0872), tensor(5.0391), tensor(4.4768), tensor(4.9027), tensor(5.3048), tensor(5.0639), tensor(4.7971), tensor(5.1478), tensor(4.9636), tensor(5.9105), tensor(4.9029), tensor(5.1017), tensor(5.6595), tensor(4.9715), tensor(5.1383), tensor(4.7795), tensor(5.1889), tensor(4.7895), tensor(5.1081), tensor(5.1523), tensor(5.1539), tensor(5.1522), tensor(5.0339), tensor(4.8158), tensor(4.3086), tensor(5.2492), tensor(4.6687), tensor(4.8762), tensor(4.5121), tensor(5.7303), tensor(6.4469), tensor(4.7980), tensor(5.4542), tensor(5.9336), tensor(4.1349), tensor(4.9649), tensor(5.1256), tensor(5.8716), tensor(4.8745), tensor(5.7658), tensor(4.6026), tensor(5.2278), tensor(4.9637), tensor(5.0842), tensor(5.5050), tensor(5.4909), tensor(4.9787), tensor(5.5537), tensor(6.1253), tensor(5.0418), tensor(4.9767), tensor(4.9129), tensor(5.1732), tensor(4.8145), tensor(5.0912), tensor(5.3023), tensor(5.1881), tensor(4.8432), tensor(5.8739), tensor(5.1133), tensor(5.1161), tensor(5.1477), tensor(5.0835), tensor(5.0290), tensor(5.0772), tensor(5.1839), tensor(4.7024), tensor(5.0571), tensor(5.0139), tensor(4.8718), tensor(5.1668), tensor(4.6894), tensor(5.1822), tensor(4.9334), tensor(3.2025), tensor(4.6534), tensor(5.2032), tensor(5.0638), tensor(4.0969), tensor(5.0588), tensor(5.1410), tensor(4.8883), tensor(5.1036), tensor(4.8021), tensor(5.1110), tensor(4.8989), tensor(4.5180), tensor(4.8872), tensor(4.7801), tensor(5.0127), tensor(5.0048), tensor(4.6159), tensor(4.9106), tensor(5.0028), tensor(4.8995), tensor(4.9546), tensor(4.9975), tensor(5.0450), tensor(4.8634), tensor(5.2291), tensor(5.1579), tensor(5.1957), tensor(4.8329), tensor(5.1668), tensor(5.2580), tensor(4.8982), tensor(5.0232), tensor(4.9297), tensor(4.8213), tensor(5.9053), tensor(5.4349), tensor(5.2365), tensor(5.0171), tensor(4.8553), tensor(5.0825), tensor(5.0816), tensor(6.9584), tensor(5.1508), tensor(6.7997), tensor(4.9646), tensor(3.9470), tensor(5.1347), tensor(5.1649), tensor(5.0827), tensor(4.8406), tensor(4.9224), tensor(5.7652), tensor(4.5898), tensor(5.1863), tensor(4.7239), tensor(5.1058), tensor(4.3867), tensor(4.7356), tensor(5.1420), tensor(5.1569), tensor(5.1133), tensor(5.1152), tensor(5.2141), tensor(5.0352), tensor(4.7418), tensor(5.1175), tensor(4.6695), tensor(4.3288), tensor(5.2270), tensor(4.2253), tensor(4.8730), tensor(5.1016), tensor(4.4831), tensor(6.0940), tensor(4.6355), tensor(4.7814), tensor(5.0797), tensor(5.0575), tensor(3.1043), tensor(5.2618), tensor(5.1516), tensor(4.7580), tensor(4.4278), tensor(4.8844), tensor(5.4835), tensor(5.1289), tensor(5.2073), tensor(5.7014), tensor(5.1829), tensor(5.0310), tensor(4.8176), tensor(5.5200), tensor(5.1702), tensor(4.9347), tensor(5.0943), tensor(4.6702), tensor(5.1034), tensor(4.6873), tensor(5.6276), tensor(5.0469), tensor(5.1682), tensor(5.0416), tensor(5.0535), tensor(5.1954), tensor(6.2364), tensor(4.9236), tensor(4.7240), tensor(4.9730), tensor(4.6805), tensor(4.5847), tensor(5.0279), tensor(5.2028), tensor(4.9969), tensor(5.3333), tensor(5.9978), tensor(5.3051), tensor(5.2562), tensor(5.0784), tensor(4.6219), tensor(5.2311), tensor(4.9447), tensor(4.9221), tensor(5.1899), tensor(5.0572), tensor(5.8832), tensor(4.7752), tensor(4.7781), tensor(5.0825), tensor(5.1808), tensor(5.1765), tensor(3.4024), tensor(5.1083), tensor(5.2615), tensor(5.0331), tensor(5.3065), tensor(5.0496), tensor(5.1848), tensor(4.6433), tensor(5.5637), tensor(5.0186), tensor(6.0318), tensor(4.9494), tensor(5.0427), tensor(4.8693), tensor(4.9419), tensor(5.1868), tensor(6.3621), tensor(5.1602), tensor(4.8624), tensor(4.7535), tensor(5.4063), tensor(4.9872), tensor(5.0551), tensor(5.0311), tensor(4.9095), tensor(5.8909), tensor(5.2226), tensor(5.0318), tensor(5.2026), tensor(4.9313), tensor(5.0439), tensor(3.9527), tensor(4.5084), tensor(4.5947), tensor(5.8338), tensor(4.6572), tensor(5.0887), tensor(4.7262), tensor(5.0604), tensor(5.0232), tensor(4.3186), tensor(5.3754), tensor(5.1171), tensor(4.9325), tensor(4.7165), tensor(5.9384), tensor(4.8705), tensor(4.8739), tensor(5.2127), tensor(4.7532), tensor(5.0297), tensor(4.9993), tensor(4.1004), tensor(5.0687), tensor(5.4704), tensor(4.8800), tensor(5.0320), tensor(5.7472), tensor(4.6784), tensor(5.4828), tensor(4.9878), tensor(5.2028), tensor(4.9984), tensor(5.0875), tensor(4.7804), tensor(4.9705), tensor(4.6259), tensor(4.4646), tensor(5.0941), tensor(6.1582), tensor(5.3480), tensor(5.1378), tensor(4.8565), tensor(5.1851), tensor(4.6236), tensor(5.3023), tensor(5.0755), tensor(4.6309), tensor(4.8438), tensor(5.1458), tensor(5.1163), tensor(5.3124), tensor(5.0974), tensor(5.2117), tensor(4.9346), tensor(4.8048), tensor(5.0108), tensor(5.5349), tensor(5.3888), tensor(4.7881), tensor(5.1160), tensor(4.0310), tensor(4.2043), tensor(5.1916), tensor(4.9961), tensor(4.9980), tensor(4.9995), tensor(5.0546), tensor(5.0511), tensor(4.8004), tensor(4.9574), tensor(4.0795), tensor(5.2142), tensor(5.1576), tensor(5.3028), tensor(4.9606), tensor(5.0148), tensor(4.9084), tensor(5.2009), tensor(5.0058), tensor(5.0672), tensor(5.1839), tensor(4.4476), tensor(4.9384), tensor(5.0482), tensor(4.7714), tensor(5.0960), tensor(5.0335), tensor(5.0546), tensor(4.6963), tensor(4.9053), tensor(6.0848), tensor(4.7769), tensor(4.9837), tensor(3.2664), tensor(5.0463), tensor(4.9469), tensor(5.7351), tensor(5.4685), tensor(5.1788), tensor(5.0963), tensor(4.7861), tensor(4.9090), tensor(4.6728), tensor(5.2487), tensor(4.8687), tensor(4.6970), tensor(4.8621), tensor(5.0444), tensor(4.7291), tensor(4.7108), tensor(4.9492), tensor(5.0363), tensor(4.9818), tensor(5.3744), tensor(5.0472), tensor(5.0266), tensor(4.9136), tensor(4.9180), tensor(4.9698), tensor(5.3095), tensor(5.0167), tensor(5.5278), tensor(5.0694), tensor(3.2350), tensor(5.2765), tensor(5.1282), tensor(4.9483), tensor(5.1632), tensor(5.0312), tensor(4.8614), tensor(4.6793), tensor(5.0018), tensor(5.1125), tensor(5.0253), tensor(4.5564), tensor(4.6821), tensor(5.2431), tensor(5.2459), tensor(4.8998), tensor(5.1136), tensor(5.3118), tensor(4.7275), tensor(4.9383), tensor(4.2623), tensor(5.1333), tensor(5.3483), tensor(5.2756), tensor(4.9575), tensor(5.1539), tensor(4.2680), tensor(4.9963), tensor(4.4905), tensor(4.5613), tensor(4.8023), tensor(5.1629), tensor(4.3637), tensor(4.9924), tensor(5.1951), tensor(5.3264), tensor(4.7445), tensor(5.4816), tensor(5.1549), tensor(5.3759), tensor(5.0004), tensor(5.1107), tensor(5.0458), tensor(5.1114), tensor(5.0284), tensor(5.3857), tensor(5.1062), tensor(5.1913), tensor(5.1782), tensor(5.2373), tensor(5.0781), tensor(5.0726), tensor(5.0591), tensor(4.3082), tensor(4.7670), tensor(5.2047), tensor(4.2813), tensor(5.0500), tensor(5.1823), tensor(5.1655), tensor(5.2286), tensor(4.9978), tensor(5.1828), tensor(5.8191), tensor(5.2386), tensor(5.2310), tensor(4.8816), tensor(4.7828), tensor(4.9423), tensor(5.1259), tensor(5.2748), tensor(5.1044), tensor(5.1275), tensor(5.0586), tensor(4.6990), tensor(5.2098), tensor(4.9638), tensor(4.9220), tensor(5.1642), tensor(5.8658), tensor(5.4866), tensor(5.7808), tensor(5.2182), tensor(3.6196), tensor(5.4443), tensor(5.2123), tensor(4.9655), tensor(4.9007), tensor(5.0854), tensor(5.2824), tensor(5.2622), tensor(5.0347), tensor(5.2933), tensor(5.0500), tensor(5.1676), tensor(5.1934), tensor(5.1947), tensor(5.4214), tensor(5.0685), tensor(4.9862), tensor(4.8907), tensor(5.1027), tensor(5.0697), tensor(6.6826), tensor(5.0692), tensor(4.6913), tensor(4.8226), tensor(4.7819), tensor(4.9181), tensor(5.9773), tensor(5.1501), tensor(5.1047), tensor(5.8511), tensor(5.1164), tensor(5.1946), tensor(5.0042), tensor(5.0730), tensor(5.1826), tensor(5.0972), tensor(4.8776), tensor(4.9675), tensor(5.1131), tensor(5.1679), tensor(4.6942), tensor(4.8797), tensor(5.7836), tensor(4.8279), tensor(4.9573), tensor(4.9080), tensor(5.2684), tensor(5.0964), tensor(4.9836), tensor(5.0816), tensor(5.0575), tensor(5.0832), tensor(4.9445), tensor(4.8977), tensor(5.2141), tensor(5.0437), tensor(4.8210), tensor(4.1463), tensor(5.0987), tensor(5.1492), tensor(4.9630), tensor(4.8789), tensor(5.1444), tensor(4.8555), tensor(5.0823), tensor(5.0612), tensor(4.8515), tensor(5.0702), tensor(4.9551), tensor(5.0677), tensor(5.0646), tensor(5.1744), tensor(5.1283), tensor(5.0366), tensor(5.0702), tensor(5.1466), tensor(5.0664), tensor(4.7015), tensor(5.1200), tensor(4.9852), tensor(4.9633), tensor(5.2339), tensor(5.2941), tensor(4.9007), tensor(6.4039), tensor(5.1350), tensor(5.1593), tensor(4.8765), tensor(4.8748), tensor(5.1314), tensor(5.1260), tensor(5.0219), tensor(4.8452), tensor(5.1005), tensor(5.1759), tensor(4.8330), tensor(5.0127), tensor(5.4795), tensor(4.0603), tensor(5.4279), tensor(5.0542), tensor(6.0103), tensor(5.0946), tensor(5.2464), tensor(5.0087), tensor(6.7288), tensor(4.9528), tensor(3.1782), tensor(5.5443), tensor(5.1987), tensor(5.1137), tensor(4.9675), tensor(5.1487), tensor(4.4886), tensor(4.1040), tensor(5.2426), tensor(4.8930), tensor(5.0754), tensor(5.0461), tensor(4.8735), tensor(4.9680), tensor(4.9476), tensor(4.8885), tensor(5.1342), tensor(5.2395), tensor(5.4608), tensor(6.9125), tensor(4.9038), tensor(4.6395), tensor(5.9151), tensor(5.1067), tensor(5.0329), tensor(6.0215), tensor(4.9505), tensor(5.0159), tensor(4.9102), tensor(5.0948), tensor(5.1533), tensor(5.9667), tensor(5.1175), tensor(4.5665), tensor(4.7881), tensor(4.9285), tensor(5.0893), tensor(4.9661), tensor(4.9219), tensor(4.8247), tensor(4.6420), tensor(4.9035), tensor(4.9504), tensor(5.0457), tensor(5.1201), tensor(4.8468), tensor(4.9614), tensor(5.0232), tensor(4.2096), tensor(4.8784), tensor(4.7608), tensor(4.8663), tensor(5.1109), tensor(5.1377), tensor(4.9522), tensor(4.7802), tensor(5.1403), tensor(5.0257), tensor(5.5027), tensor(4.9499), tensor(5.1922), tensor(5.8797), tensor(5.5361), tensor(5.1649), tensor(4.9605), tensor(4.8645), tensor(5.1069), tensor(5.1187), tensor(5.8606), tensor(5.0746), tensor(5.3425), tensor(4.9589), tensor(5.0951), tensor(5.2100), tensor(5.3502), tensor(5.1005), tensor(4.7073), tensor(4.9735), tensor(5.0113), tensor(4.9062), tensor(4.8998), tensor(4.7051), tensor(5.1305), tensor(5.3581), tensor(5.0822), tensor(4.8916), tensor(5.2733), tensor(4.9776), tensor(5.0152), tensor(4.9866), tensor(5.0194), tensor(4.7482), tensor(4.6284), tensor(5.0154), tensor(4.9089), tensor(4.8716), tensor(4.6516), tensor(4.2424), tensor(4.9413), tensor(4.9418), tensor(5.5061), tensor(4.9851), tensor(5.0595), tensor(5.4330), tensor(4.8650), tensor(4.8575), tensor(5.0274), tensor(4.3842), tensor(5.6982), tensor(5.0925), tensor(5.0949), tensor(4.7915), tensor(5.0960), tensor(5.7217), tensor(5.0965), tensor(5.0784), tensor(5.0191), tensor(5.1314), tensor(4.9676), tensor(5.1527), tensor(5.9662), tensor(4.9142), tensor(5.1419), tensor(5.0420), tensor(5.0083), tensor(4.6705), tensor(5.2138), tensor(5.0481), tensor(5.0282), tensor(4.6769)]\n"
     ]
    }
   ],
   "source": [
    "samples_0 = []\n",
    "\n",
    "for i in samples:\n",
    "    samples_0.append(i[0])\n",
    "print(samples_0)"
   ]
  },
  {
   "cell_type": "code",
   "execution_count": 31,
   "metadata": {},
   "outputs": [
    {
     "name": "stdout",
     "output_type": "stream",
     "text": [
      "6.958408\n",
      "3.1043441\n"
     ]
    },
    {
     "data": {
      "image/png": "[encoded data removed]",
      "text/plain": [
       "<Figure size 432x288 with 1 Axes>"
      ]
     },
     "metadata": {
      "needs_background": "light"
     },
     "output_type": "display_data"
    }
   ],
   "source": [
    "### comparing samples range from posterior and prior:\n",
    "data = np.random.uniform(prior_min[0],prior_max[0],100) # You are generating 1000 points between 0 and 1.\n",
    "\n",
    "plt.hist(data, 20, facecolor='green', density=True) \n",
    "plt.hist(samples_0, 20, facecolor='red', density=True)\n",
    "\n",
    "\n",
    "print(np.max(samples_0))\n",
    "print(np.min(samples_0))"
   ]
  },
  {
   "cell_type": "code",
   "execution_count": 32,
   "metadata": {},
   "outputs": [
    {
     "name": "stdout",
     "output_type": "stream",
     "text": [
      "4\n",
      "3.8540637\n"
     ]
    }
   ],
   "source": [
    "print(prior_max[0]-prior_min[0])\n",
    "print(np.max(samples_0)-np.min(samples_0))"
   ]
  },
  {
   "cell_type": "code",
   "execution_count": 33,
   "metadata": {},
   "outputs": [
    {
     "data": {
      "text/plain": [
       "15.775"
      ]
     },
     "execution_count": 33,
     "metadata": {},
     "output_type": "execute_result"
    }
   ],
   "source": [
    "100/(4/0.631)"
   ]
  },
  {
   "cell_type": "markdown",
   "metadata": {},
   "source": [
    "So, the parameter range takes now only 15.775% of the uniform prior space!!"
   ]
  },
  {
   "cell_type": "markdown",
   "metadata": {},
   "source": [
    "## Second round"
   ]
  },
  {
   "cell_type": "code",
   "execution_count": 34,
   "metadata": {},
   "outputs": [
    {
     "data": {
      "application/vnd.jupyter.widget-view+json": {
       "model_id": "dbab125c1d4d4b5ea3a55bd52aae07c3",
       "version_major": 2,
       "version_minor": 0
      },
      "text/plain": [
       "Drawing 1 posterior samples:   0%|          | 0/1 [00:00<?, ?it/s]"
      ]
     },
     "metadata": {},
     "output_type": "display_data"
    },
    {
     "data": {
      "application/vnd.jupyter.widget-view+json": {
       "model_id": "b94c69572f4f4ec68ab94bd72a8e5ec1",
       "version_major": 2,
       "version_minor": 0
      },
      "text/plain": [
       "Drawing 1 posterior samples:   0%|          | 0/1 [00:00<?, ?it/s]"
      ]
     },
     "metadata": {},
     "output_type": "display_data"
    },
    {
     "data": {
      "application/vnd.jupyter.widget-view+json": {
       "model_id": "bd278ca6ed2542ac95e4121a134d9453",
       "version_major": 2,
       "version_minor": 0
      },
      "text/plain": [
       "Drawing 1 posterior samples:   0%|          | 0/1 [00:00<?, ?it/s]"
      ]
     },
     "metadata": {},
     "output_type": "display_data"
    },
    {
     "name": "stdout",
     "output_type": "stream",
     "text": [
      "tensor([-2.5791])\n"
     ]
    },
    {
     "data": {
      "application/vnd.jupyter.widget-view+json": {
       "model_id": "42a4c1f27c4a48108b5257db667be860",
       "version_major": 2,
       "version_minor": 0
      },
      "text/plain": [
       "Drawing 1 posterior samples:   0%|          | 0/1 [00:00<?, ?it/s]"
      ]
     },
     "metadata": {},
     "output_type": "display_data"
    },
    {
     "data": {
      "application/vnd.jupyter.widget-view+json": {
       "model_id": "846b99912183455dabbd800704afb9f0",
       "version_major": 2,
       "version_minor": 0
      },
      "text/plain": [
       "Drawing 1 posterior samples:   0%|          | 0/1 [00:00<?, ?it/s]"
      ]
     },
     "metadata": {},
     "output_type": "display_data"
    },
    {
     "data": {
      "application/vnd.jupyter.widget-view+json": {
       "model_id": "bff0c51bc4ce4443b8777e504a695915",
       "version_major": 2,
       "version_minor": 0
      },
      "text/plain": [
       "Drawing 1 posterior samples:   0%|          | 0/1 [00:00<?, ?it/s]"
      ]
     },
     "metadata": {},
     "output_type": "display_data"
    },
    {
     "data": {
      "application/vnd.jupyter.widget-view+json": {
       "model_id": "d5bba7719c5e4d2d9e1ad68cc4586b06",
       "version_major": 2,
       "version_minor": 0
      },
      "text/plain": [
       "Drawing 2 posterior samples:   0%|          | 0/2 [00:00<?, ?it/s]"
      ]
     },
     "metadata": {},
     "output_type": "display_data"
    },
    {
     "name": "stderr",
     "output_type": "stream",
     "text": [
      "/tmp/ipykernel_549570/1402098608.py:66: FutureWarning: The input object of type 'Tensor' is an array-like implementing one of the corresponding protocols (`__array__`, `__array_interface__` or `__array_struct__`); but not a sequence (or 0-D). In the future, this object will be coerced as if it was first converted using `np.array(obj)`. To retain the old behaviour, you have to either modify the type 'Tensor', or assign to an empty array created with `np.empty(correct_shape, dtype=object)`.\n",
      "  a1,b = np.array([a1,b]) + scp.random.normal(scale=add_noise,size=2)\n",
      "/tmp/ipykernel_549570/1402098608.py:66: VisibleDeprecationWarning: Creating an ndarray from ragged nested sequences (which is a list-or-tuple of lists-or-tuples-or ndarrays with different lengths or shapes) is deprecated. If you meant to do this, you must specify 'dtype=object' when creating the ndarray.\n",
      "  a1,b = np.array([a1,b]) + scp.random.normal(scale=add_noise,size=2)\n"
     ]
    },
    {
     "data": {
      "application/vnd.jupyter.widget-view+json": {
       "model_id": "5ee3041a9af2476cadace2250ee63b52",
       "version_major": 2,
       "version_minor": 0
      },
      "text/plain": [
       "Drawing 1 posterior samples:   0%|          | 0/1 [00:00<?, ?it/s]"
      ]
     },
     "metadata": {},
     "output_type": "display_data"
    },
    {
     "data": {
      "application/vnd.jupyter.widget-view+json": {
       "model_id": "693b05b9ee5242b9b96bfbd79eb21996",
       "version_major": 2,
       "version_minor": 0
      },
      "text/plain": [
       "Drawing 1 posterior samples:   0%|          | 0/1 [00:00<?, ?it/s]"
      ]
     },
     "metadata": {},
     "output_type": "display_data"
    },
    {
     "data": {
      "application/vnd.jupyter.widget-view+json": {
       "model_id": "91369bf5381842968b9c107b8201fd4a",
       "version_major": 2,
       "version_minor": 0
      },
      "text/plain": [
       "Drawing 1 posterior samples:   0%|          | 0/1 [00:00<?, ?it/s]"
      ]
     },
     "metadata": {},
     "output_type": "display_data"
    },
    {
     "data": {
      "application/vnd.jupyter.widget-view+json": {
       "model_id": "e2ad11327e7c46ec87dc9b2fa1f2183b",
       "version_major": 2,
       "version_minor": 0
      },
      "text/plain": [
       "Drawing 300 posterior samples:   0%|          | 0/300 [00:00<?, ?it/s]"
      ]
     },
     "metadata": {},
     "output_type": "display_data"
    },
    {
     "data": {
      "application/vnd.jupyter.widget-view+json": {
       "model_id": "0eb0f94e16e142098ada853722fb4312",
       "version_major": 2,
       "version_minor": 0
      },
      "text/plain": [
       "Running 300 simulations in 300 batches.:   0%|          | 0/300 [00:00<?, ?it/s]"
      ]
     },
     "metadata": {},
     "output_type": "display_data"
    }
   ],
   "source": [
    "#### second round\n",
    "\n",
    "\n",
    "\n",
    "prior2 = utils.torchutils.BoxUniform(low=prior_min[2:3], high = prior_max[2:3])\n",
    "\n",
    "\n",
    "prior_combined =Combined(proposal1, prior2, number_params_1=2)\n",
    "\n",
    "\n",
    "\n",
    "inf = SNPE_C(prior_combined, density_estimator=\"nsf\")\n",
    "\n",
    "density_estimator = 'nsf'\n",
    "\n",
    "\n",
    "simulator_stats, prior = prepare_for_sbi(piecewise_linear_seq, prior_combined)\n",
    "\n",
    "inference = SNPE_C(prior, density_estimator=density_estimator)\n",
    "\n",
    "theta, x_without = simulate_for_sbi(\n",
    "    simulator_stats,\n",
    "    proposal=prior,\n",
    "    num_simulations=num_simulations,\n",
    "    num_workers=4,\n",
    ")"
   ]
  },
  {
   "cell_type": "code",
   "execution_count": 35,
   "metadata": {},
   "outputs": [
    {
     "name": "stdout",
     "output_type": "stream",
     "text": [
      "Neural network successfully converged after 102 epochs.\n"
     ]
    }
   ],
   "source": [
    "x = extract_sumstats(x_without)\n",
    "\n",
    "\n",
    "\n",
    "inf = inf.append_simulations(theta, x)\n",
    "\n",
    "\n",
    "density_estimator = inf.train()\n",
    "\n",
    "posterior2 = inf.build_posterior(density_estimator)"
   ]
  },
  {
   "cell_type": "code",
   "execution_count": 36,
   "metadata": {},
   "outputs": [
    {
     "data": {
      "application/vnd.jupyter.widget-view+json": {
       "model_id": "9289a404f95648129e961874a75f14f0",
       "version_major": 2,
       "version_minor": 0
      },
      "text/plain": [
       "Drawing 1000 posterior samples:   0%|          | 0/1000 [00:00<?, ?it/s]"
      ]
     },
     "metadata": {},
     "output_type": "display_data"
    }
   ],
   "source": [
    "true_params = [5,5,-3]\n",
    "\n",
    "\n",
    "obs_real = piecewise_linear_seq(true_params)\n",
    "\n",
    "\n",
    "obs_real_stats = extract_sumstats([obs_real])\n",
    "\n",
    "\n",
    "#print(proposal2.log_prob(theta))\n",
    "\n",
    "samples = posterior2.sample((num_samples,), x=obs_real_stats)\n",
    "\n",
    "proposal2 = posterior2.set_default_x(obs_real_stats)"
   ]
  },
  {
   "cell_type": "markdown",
   "metadata": {},
   "source": [
    "## Third and last round"
   ]
  },
  {
   "cell_type": "code",
   "execution_count": 37,
   "metadata": {},
   "outputs": [
    {
     "data": {
      "application/vnd.jupyter.widget-view+json": {
       "model_id": "bb12daef9d204cd2a07edc8817b46119",
       "version_major": 2,
       "version_minor": 0
      },
      "text/plain": [
       "Drawing 1 posterior samples:   0%|          | 0/1 [00:00<?, ?it/s]"
      ]
     },
     "metadata": {},
     "output_type": "display_data"
    },
    {
     "data": {
      "application/vnd.jupyter.widget-view+json": {
       "model_id": "f745b595e182452da3754dc12f5a3af7",
       "version_major": 2,
       "version_minor": 0
      },
      "text/plain": [
       "Drawing 1 posterior samples:   0%|          | 0/1 [00:00<?, ?it/s]"
      ]
     },
     "metadata": {},
     "output_type": "display_data"
    },
    {
     "data": {
      "application/vnd.jupyter.widget-view+json": {
       "model_id": "d66c0ff7732a4a43a90d3facc81763a3",
       "version_major": 2,
       "version_minor": 0
      },
      "text/plain": [
       "Drawing 1 posterior samples:   0%|          | 0/1 [00:00<?, ?it/s]"
      ]
     },
     "metadata": {},
     "output_type": "display_data"
    },
    {
     "name": "stdout",
     "output_type": "stream",
     "text": [
      "tensor([0.0416])\n"
     ]
    },
    {
     "data": {
      "application/vnd.jupyter.widget-view+json": {
       "model_id": "0b67ec0ff01c40bf9602073b896559d1",
       "version_major": 2,
       "version_minor": 0
      },
      "text/plain": [
       "Drawing 1 posterior samples:   0%|          | 0/1 [00:00<?, ?it/s]"
      ]
     },
     "metadata": {},
     "output_type": "display_data"
    },
    {
     "data": {
      "application/vnd.jupyter.widget-view+json": {
       "model_id": "63fa4795083e44d39401143fd0fe97ad",
       "version_major": 2,
       "version_minor": 0
      },
      "text/plain": [
       "Drawing 1 posterior samples:   0%|          | 0/1 [00:00<?, ?it/s]"
      ]
     },
     "metadata": {},
     "output_type": "display_data"
    },
    {
     "data": {
      "application/vnd.jupyter.widget-view+json": {
       "model_id": "e227954156864ccf8adc4aa618699913",
       "version_major": 2,
       "version_minor": 0
      },
      "text/plain": [
       "Drawing 1 posterior samples:   0%|          | 0/1 [00:00<?, ?it/s]"
      ]
     },
     "metadata": {},
     "output_type": "display_data"
    },
    {
     "data": {
      "application/vnd.jupyter.widget-view+json": {
       "model_id": "b3cbcc75c392489b9b84018b7564eedd",
       "version_major": 2,
       "version_minor": 0
      },
      "text/plain": [
       "Drawing 2 posterior samples:   0%|          | 0/2 [00:00<?, ?it/s]"
      ]
     },
     "metadata": {},
     "output_type": "display_data"
    },
    {
     "name": "stderr",
     "output_type": "stream",
     "text": [
      "/tmp/ipykernel_549570/1402098608.py:66: FutureWarning: The input object of type 'Tensor' is an array-like implementing one of the corresponding protocols (`__array__`, `__array_interface__` or `__array_struct__`); but not a sequence (or 0-D). In the future, this object will be coerced as if it was first converted using `np.array(obj)`. To retain the old behaviour, you have to either modify the type 'Tensor', or assign to an empty array created with `np.empty(correct_shape, dtype=object)`.\n",
      "  a1,b = np.array([a1,b]) + scp.random.normal(scale=add_noise,size=2)\n",
      "/tmp/ipykernel_549570/1402098608.py:66: VisibleDeprecationWarning: Creating an ndarray from ragged nested sequences (which is a list-or-tuple of lists-or-tuples-or ndarrays with different lengths or shapes) is deprecated. If you meant to do this, you must specify 'dtype=object' when creating the ndarray.\n",
      "  a1,b = np.array([a1,b]) + scp.random.normal(scale=add_noise,size=2)\n"
     ]
    },
    {
     "data": {
      "application/vnd.jupyter.widget-view+json": {
       "model_id": "ab4f22a8a1f846769e2a7f1786d9f78a",
       "version_major": 2,
       "version_minor": 0
      },
      "text/plain": [
       "Drawing 1 posterior samples:   0%|          | 0/1 [00:00<?, ?it/s]"
      ]
     },
     "metadata": {},
     "output_type": "display_data"
    },
    {
     "data": {
      "application/vnd.jupyter.widget-view+json": {
       "model_id": "367a236978d946ba8008f790e0838447",
       "version_major": 2,
       "version_minor": 0
      },
      "text/plain": [
       "Drawing 1 posterior samples:   0%|          | 0/1 [00:00<?, ?it/s]"
      ]
     },
     "metadata": {},
     "output_type": "display_data"
    },
    {
     "data": {
      "application/vnd.jupyter.widget-view+json": {
       "model_id": "4d8f8eff0ebb4f4391bd9e56b3eab96d",
       "version_major": 2,
       "version_minor": 0
      },
      "text/plain": [
       "Drawing 1 posterior samples:   0%|          | 0/1 [00:00<?, ?it/s]"
      ]
     },
     "metadata": {},
     "output_type": "display_data"
    },
    {
     "data": {
      "application/vnd.jupyter.widget-view+json": {
       "model_id": "ead12aef7d59464e82cf56808e7a1770",
       "version_major": 2,
       "version_minor": 0
      },
      "text/plain": [
       "Drawing 300 posterior samples:   0%|          | 0/300 [00:00<?, ?it/s]"
      ]
     },
     "metadata": {},
     "output_type": "display_data"
    },
    {
     "data": {
      "application/vnd.jupyter.widget-view+json": {
       "model_id": "4cd4f0476e83483d81d7f9a604e2c417",
       "version_major": 2,
       "version_minor": 0
      },
      "text/plain": [
       "Running 300 simulations in 300 batches.:   0%|          | 0/300 [00:00<?, ?it/s]"
      ]
     },
     "metadata": {},
     "output_type": "display_data"
    }
   ],
   "source": [
    "#### third round\n",
    "\n",
    "\n",
    "\n",
    "prior3 = utils.torchutils.BoxUniform(low=prior_min[3:4], high = prior_max[3:4])\n",
    "\n",
    "\n",
    "prior_combined2 = Combined(proposal2, prior3, number_params_1=3)\n",
    "\n",
    "\n",
    "\n",
    "inf = SNPE_C(prior_combined2, density_estimator=\"nsf\")\n",
    "\n",
    "density_estimator = 'nsf'\n",
    "\n",
    "\n",
    "simulator_stats, prior = prepare_for_sbi(piecewise_linear_seq, prior_combined2)\n",
    "\n",
    "inference = SNPE_C(prior, density_estimator=density_estimator)\n",
    "\n",
    "theta, x_without = simulate_for_sbi(\n",
    "    simulator_stats,\n",
    "    proposal=prior,\n",
    "    num_simulations=num_simulations,\n",
    "    num_workers=4,\n",
    ")"
   ]
  },
  {
   "cell_type": "code",
   "execution_count": 38,
   "metadata": {},
   "outputs": [
    {
     "name": "stdout",
     "output_type": "stream",
     "text": [
      "Neural network successfully converged after 69 epochs.\n"
     ]
    }
   ],
   "source": [
    "x = extract_sumstats(x_without)\n",
    "\n",
    "\n",
    "\n",
    "inf = inf.append_simulations(theta, x)\n",
    "\n",
    "\n",
    "density_estimator = inf.train()\n",
    "\n",
    "posterior3 = inf.build_posterior(density_estimator)"
   ]
  },
  {
   "cell_type": "code",
   "execution_count": 39,
   "metadata": {},
   "outputs": [
    {
     "name": "stdout",
     "output_type": "stream",
     "text": [
      "tensor([  4.7290,   4.7290,   0.0000,  16.6331,  10.7030, 199.0000,  10.7030,\n",
      "         99.0000,  18.0842, 499.0000])\n"
     ]
    },
    {
     "data": {
      "application/vnd.jupyter.widget-view+json": {
       "model_id": "3e6cf3aad0214701b73f90da44227832",
       "version_major": 2,
       "version_minor": 0
      },
      "text/plain": [
       "Drawing 1000 posterior samples:   0%|          | 0/1000 [00:00<?, ?it/s]"
      ]
     },
     "metadata": {},
     "output_type": "display_data"
    }
   ],
   "source": [
    "\n",
    "true_params = [5, 5, -3, 2]\n",
    "\n",
    "obs_real = piecewise_linear_seq(true_params)\n",
    "\n",
    "\n",
    "obs_real_stats = extract_sumstats([obs_real])[0]\n",
    "\n",
    "print(obs_real_stats)\n",
    "\n",
    "\n",
    "samples = posterior3.sample((num_samples,), x=obs_real_stats)\n",
    "\n",
    "\n",
    "prior = utils.torchutils.BoxUniform(low=prior_min, high = prior_max)\n",
    "samples_prior = []\n",
    "\n",
    "\n",
    "for i in range(num_samples):\n",
    "    sample = prior.sample()\n",
    "    samples_prior.append(sample)"
   ]
  },
  {
   "cell_type": "code",
   "execution_count": 40,
   "metadata": {},
   "outputs": [
    {
     "name": "stdout",
     "output_type": "stream",
     "text": [
      "start: 01-17-2022_12:51:36 \n",
      "end: 01-17-2022_12:53:14\n"
     ]
    }
   ],
   "source": [
    "end = get_time()\n",
    "\n",
    "\n",
    "print('start:', start, '\\nend:', end)"
   ]
  },
  {
   "cell_type": "code",
   "execution_count": 41,
   "metadata": {},
   "outputs": [],
   "source": [
    "from joblib import Parallel, delayed\n",
    "\n",
    "num_workers = 4\n",
    "x_lin = torch.arange(0,10,0.01, dtype= torch.float32)\n",
    "s_x = Parallel(\n",
    "        n_jobs=num_workers,\n",
    "        verbose=0,\n",
    "        pre_dispatch=\"1.5*n_jobs\",\n",
    "        backend=\"multiprocessing\",\n",
    "    )(delayed(piecewise_linear_seq)(sample) for sample in samples)\n",
    "\n",
    "\n",
    "s_x_prior = Parallel(\n",
    "        n_jobs=num_workers,\n",
    "        verbose=0,\n",
    "        pre_dispatch=\"1.5*n_jobs\",\n",
    "        backend=\"multiprocessing\",\n",
    "    )(delayed(piecewise_linear_seq)(sample) for sample in samples_prior)"
   ]
  },
  {
   "cell_type": "code",
   "execution_count": 42,
   "metadata": {},
   "outputs": [],
   "source": [
    "s_x_stat = extract_sumstats(s_x)\n",
    "\n",
    "s_x_prior_stat = extract_sumstats(s_x_prior)\n",
    "\n"
   ]
  },
  {
   "cell_type": "code",
   "execution_count": 43,
   "metadata": {},
   "outputs": [
    {
     "data": {
      "image/png": "[encoded data removed]",
      "text/plain": [
       "<Figure size 432x288 with 1 Axes>"
      ]
     },
     "metadata": {
      "needs_background": "light"
     },
     "output_type": "display_data"
    },
    {
     "data": {
      "image/png": "[encoded data removed]",
      "text/plain": [
       "<Figure size 432x288 with 1 Axes>"
      ]
     },
     "metadata": {
      "needs_background": "light"
     },
     "output_type": "display_data"
    }
   ],
   "source": [
    "fig, ax = plt.subplots(1, 1)\n",
    "ax.set_title(\"Simulating from posterior\")\n",
    "for s in s_x:\n",
    "    im = plt.plot(x_lin, s, alpha=0.1, color='blue')\n",
    "    plt.ylim(-10,30)\n",
    "plt.plot(x_lin, obs_real, label='Ground truth', color='red')\n",
    "plt.legend()\n",
    "    \n",
    "    \n",
    "    \n",
    "fig, ax = plt.subplots(1, 1)\n",
    "ax.set_title(\"Simulating from prior\")\n",
    "for x_w in x_without:\n",
    "    plt.plot(x_lin, x_w, alpha=0.1, color='blue')\n",
    "\n",
    "    plt.ylim(-10,30)\n",
    "\n",
    "\n",
    "  "
   ]
  },
  {
   "cell_type": "code",
   "execution_count": 45,
   "metadata": {},
   "outputs": [
    {
     "data": {
      "image/png": "[encoded data removed]",
      "text/plain": [
       "<Figure size 360x360 with 16 Axes>"
      ]
     },
     "metadata": {
      "needs_background": "light"
     },
     "output_type": "display_data"
    }
   ],
   "source": [
    "limits = [list(tup) for tup in zip(prior_min, prior_max)]\n",
    "\n",
    "true_params = torch.tensor([[5, 5, -3, 2, 1, 5]])\n",
    "\n",
    "parameter_names = ['a1', 'b', 'a2', 'a3']\n",
    "\n",
    "fig, axes = analysis.pairplot(\n",
    "    samples,\n",
    "    limits=limits,\n",
    "    ticks=limits,\n",
    "    figsize=(5, 5),\n",
    "    points=true_params[0:2],\n",
    "    points_offdiag={\"markersize\": 6},\n",
    "    points_colors=\"r\",\n",
    "    #tick_labels=parameter_names\n",
    "    labels=parameter_names,\n",
    ")"
   ]
  },
  {
   "cell_type": "code",
   "execution_count": 44,
   "metadata": {},
   "outputs": [
    {
     "name": "stdout",
     "output_type": "stream",
     "text": [
      "10\n",
      "tensor([1, 2, 3, 4, 5, 6, 7, 8, 9])\n"
     ]
    },
    {
     "data": {
      "image/png": "[encoded data removed]",
      "text/plain": [
       "<Figure size 720x2880 with 8 Axes>"
      ]
     },
     "metadata": {
      "needs_background": "light"
     },
     "output_type": "display_data"
    }
   ],
   "source": [
    "import matplotlib.gridspec as gridspec\n",
    "\n",
    "\n",
    "\n",
    "fig = plt.figure(figsize=(10,40), tight_layout=True)\n",
    "\n",
    "gs = gridspec.GridSpec(nrows=x.size(dim=1), ncols=1)\n",
    "print(len(s_x_stat[0]))\n",
    "\n",
    "sum_stats_names = torch.arange(1, len(s_x_stat[0]), 1)\n",
    "\n",
    "print(sum_stats_names)\n",
    "\n",
    "\n",
    "\n",
    "#fig.suptitle('Summary stats histogram from posterior predictions.', y=0.2, fontsize=16)\n",
    "\n",
    "\n",
    "for i in range(len(sum_stats_names)-1):\n",
    "\n",
    "    globals()['ax%s' % i] = fig.add_subplot(gs[i])\n",
    "\n",
    "    globals()['sum_stats%s' % i] = []\n",
    "    globals()['x%s' % i] = []\n",
    "\n",
    "    for j in range(len(s_x)-1):\n",
    "        globals()['sum_stats%s' % i].append(s_x_stat[j][i])\n",
    "        globals()['x%s' % i].append(s_x_prior_stat[j][i])\n",
    "\n",
    "\n",
    "\n",
    "    globals()['ax%s' % i].hist(globals()['sum_stats%s' % i],  density=False, facecolor='g', alpha=0.75, histtype='barstacked', label='from posterior')\n",
    "    globals()['ax%s' % i].hist(globals()['x%s' % i],  density=False, facecolor='b', alpha=0.75, histtype='barstacked', label='simulated')\n",
    "    \n",
    "  \n",
    "    globals()['ax%s' % i].set_title('Histogram of summary stat \"{}\" '.format(sum_stats_names[i]), pad=20)\n",
    "    #ax0.set(ylim=(-500, 7000))\n",
    "\n",
    "    globals()['ax%s' % i].axvline(obs_real_stats[i], color='red', label='ground truth')\n",
    "    globals()['ax%s' % i].legend(loc='upper right')\n",
    "\n",
    "\n",
    "\n",
    "\n",
    "\n",
    "plt.savefig('Summary_stats_post_prior')"
   ]
  },
  {
   "cell_type": "code",
   "execution_count": null,
   "metadata": {},
   "outputs": [],
   "source": []
  },
  {
   "cell_type": "code",
   "execution_count": null,
   "metadata": {},
   "outputs": [],
   "source": []
  }
 ],
 "metadata": {
  "interpreter": {
   "hash": "126fa1c3f32c28cc7adc0ff61e94b616033ac8f91881516d11a50edd9bdb1b2c"
  },
  "kernelspec": {
   "display_name": "Python 3 (ipykernel)",
   "language": "python",
   "name": "python3"
  },
  "language_info": {
   "codemirror_mode": {
    "name": "ipython",
    "version": 3
   },
   "file_extension": ".py",
   "mimetype": "text/x-python",
   "name": "python",
   "nbconvert_exporter": "python",
   "pygments_lexer": "ipython3",
   "version": "3.7.11"
  }
 },
 "nbformat": 4,
 "nbformat_minor": 2
}
