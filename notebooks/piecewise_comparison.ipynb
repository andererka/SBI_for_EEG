{
 "cells": [
  {
   "cell_type": "markdown",
   "metadata": {},
   "source": [
    "## Time series with time structured parameters and summary statistics\n",
    "\n",
    "Idea: construct a model $p(x|\\theta)$ with $\\theta = (\\theta_1,...\\theta_n)$ and summary statistics $s(x) = (s_1(x),...s_m(x))$ s.t.\n",
    "\n",
    "\n",
    "for all $i$ there exists a $j$, $j\\leq m$, and $l$, $j\\leq l$ such that\n",
    " \n",
    "$p(s_{1:i}|\\theta_{1:n} ) = p(s_{1:i}|\\theta_{1:j}) $.\n",
    "\n",
    "and \n",
    "\n",
    "$p(s_{1:i+1}|\\theta_{1:n} ) = p(s_{1:i+1}|\\theta_{1:l}) $."
   ]
  },
  {
   "cell_type": "markdown",
   "metadata": {},
   "source": [
    "### Examples:\n",
    "1. Piecewise linear function:\n",
    " - $\\theta_{1,2}$ : a and b of linear function f(x) = ax + b\n",
    " - $\\theta_{3,4}$ : time of changing point cp, and a2 of second slope\n",
    "\n",
    " 2. Sinusoidal waves with linearly increasing/decreasing amplitudes, and changing points at which this linear function changes.\n",
    " \n"
   ]
  },
  {
   "cell_type": "code",
   "execution_count": 1,
   "metadata": {},
   "outputs": [],
   "source": [
    "\n",
    "%load_ext autoreload\n",
    "%autoreload 2\n",
    "\n",
    "import numpy as np\n",
    "import scipy as scp\n",
    "import matplotlib.pyplot as plt\n",
    "\n",
    "\n",
    "import sys\n",
    "sys.path.append('../code/')\n",
    "\n",
    "import torch"
   ]
  },
  {
   "cell_type": "code",
   "execution_count": 2,
   "metadata": {},
   "outputs": [],
   "source": [
    "# sbi\n",
    "from sbi import utils as utils\n",
    "from sbi import analysis as analysis\n",
    "from sbi.inference.base import infer\n",
    "from sbi.inference import SNPE, prepare_for_sbi, simulate_for_sbi\n",
    "from sbi.inference import SNPE_C\n",
    "from utils.helpers import get_time\n",
    "\n",
    "from utils.sbi_modulated_functions import Combined\n",
    "\n",
    "\n",
    "from utils.helpers import get_time"
   ]
  },
  {
   "cell_type": "markdown",
   "metadata": {},
   "source": [
    "## Piecewise_linear() and simulation wrappers for SBI\n",
    "\n",
    "I defined a seperate function for each sequential step such that we can vary different numbers of parameters"
   ]
  },
  {
   "cell_type": "code",
   "execution_count": 3,
   "metadata": {},
   "outputs": [],
   "source": [
    "start = get_time()\n",
    "\n",
    "\n",
    "\n",
    "def piecewise_linear(a1,b, a2,a3, cp1, cp2, add_noise=None):\n",
    "    \"\"\"\n",
    "    Args:\n",
    "        a1 (float): first slope\n",
    "        b (float): offset\n",
    "        a2 (float): second slope\n",
    "        a3 (float): 3rd slope\n",
    "        cp1, cp2 (float): changing points\n",
    "        add_noise (None or float): None or scale of Gaussian noise on all variables\n",
    "\n",
    "    Returns:\n",
    "        x,y (arrays): x and y of piecewise linear function. \n",
    "    \"\"\"\n",
    "    if not add_noise == None:\n",
    "        a1,b, a2,a3, cp1, cp2 = np.array([a1,b, a2,a3, cp1, cp2]) + scp.random.normal(scale=add_noise,size=6)       \n",
    "    \n",
    "    x = np.arange(0,10,0.01)\n",
    "    y = np.zeros(x.shape)\n",
    "    \n",
    "    # first piece\n",
    "    y[x<cp1] = (b+a1*x[x<cp1])\n",
    "    \n",
    "    # second piece     \n",
    "    y[(x>=cp1) & (x<cp2)] = y[np.sum(x<cp1)-1] + a2* (x[(x>=cp1) & (x<cp2)]  - cp1) \n",
    "    \n",
    "    # third piece\n",
    "    y[x>=cp2] = y[np.sum(x<cp2)-1] + a3* (x[x>=cp2] - cp2) \n",
    "    \n",
    "\n",
    "    return y\n",
    "\n",
    "\n",
    "def piecewise_linear_first_batch(thetas):\n",
    "    \"\"\"\n",
    "    I defined a seperate function for each sequential step such that we can vary different numbers of parameters\n",
    "    Args:\n",
    "        a1 (float): first slope\n",
    "        b (float): offset\n",
    "        a2 (float): second slope\n",
    "        a3 (float): 3rd slope\n",
    "        cp1, cp2 (float): changing points\n",
    "        add_noise (None or float): None or scale of Gaussian noise on all variables\n",
    "\n",
    "    Returns:\n",
    "        x,y (arrays): x and y of piecewise linear function. \n",
    "    \"\"\"\n",
    "    \n",
    "    a1 = thetas[0]\n",
    "    b = thetas[1]\n",
    "    a2 = np.float32(-2)\n",
    "    a3 = np.float32(3)\n",
    "    cp1 = np.float32(3)\n",
    "    cp2 = np.float32(6)\n",
    "    \n",
    "    add_noise=0.5\n",
    "    \n",
    "    if not add_noise == None:\n",
    "        a1,b, a2,a3, cp1, cp2 = np.array([a1,b, a2,a3, cp1, cp2]) + scp.random.normal(scale=add_noise,size=6)       \n",
    "    \n",
    "    x = torch.arange(0,10,0.01, dtype= torch.float32)\n",
    "    y = torch.zeros(x.shape)\n",
    "    \n",
    "    # first piece\n",
    "    y[x<cp1] = (b+a1*x[x<cp1])\n",
    "    \n",
    "    # second piece     \n",
    "    y[(x>=cp1) & (x<cp2)] = y[torch.sum(x<cp1)-1] + a2* (x[(x>=cp1) & (x<cp2)]  - cp1) \n",
    "    \n",
    "    # third piece\n",
    "    y[x>=cp2] = y[torch.sum(x<cp2)-1] + a3* (x[x>=cp2] - cp2) \n",
    "\n",
    "    \n",
    "    return y\n",
    "\n",
    "\n",
    "def piecewise_linear_second_batch(thetas):\n",
    "    \"\"\"\n",
    "    Args:\n",
    "        a1 (float): first slope\n",
    "        b (float): offset\n",
    "        a2 (float): second slope\n",
    "        a3 (float): 3rd slope\n",
    "        cp1, cp2 (float): changing points\n",
    "        add_noise (None or float): None or scale of Gaussian noise on all variables\n",
    "\n",
    "    Returns:\n",
    "        x,y (arrays): x and y of piecewise linear function. \n",
    "    \"\"\"\n",
    "    \n",
    "    a1 = thetas[0]\n",
    "    b = thetas[1]\n",
    "    a2 = thetas[2]\n",
    "    a3 = thetas[3]\n",
    "    cp1 = np.float32(3)\n",
    "    cp2 = np.float32(6)\n",
    "    \n",
    "    add_noise=0.5\n",
    "    \n",
    "    if not add_noise == None:\n",
    "        a1,b, a2,a3, cp1, cp2 = np.array([a1,b, a2,a3, cp1, cp2]) + scp.random.normal(scale=add_noise,size=6)       \n",
    "    \n",
    "    x = torch.arange(0,10,0.01)\n",
    "    y = torch.zeros(x.shape)\n",
    "    \n",
    "    # first piece\n",
    "    y[x<cp1] = (b+a1*x[x<cp1])\n",
    "    \n",
    "    # second piece     \n",
    "    y[(x>=cp1) & (x<cp2)] = y[torch.sum(x<cp1)-1] + a2* (x[(x>=cp1) & (x<cp2)]  - cp1) \n",
    "    \n",
    "    # third piece\n",
    "    y[x>=cp2] = y[torch.sum(x<cp2)-1] + a3* (x[x>=cp2] - cp2) \n",
    "\n",
    "    \n",
    "    return y\n",
    "\n",
    "\n",
    "def piecewise_linear_third_batch(thetas):\n",
    "    \"\"\"\n",
    "    Args:\n",
    "        a1 (float): first slope\n",
    "        b (float): offset\n",
    "        a2 (float): second slope\n",
    "        a3 (float): 3rd slope\n",
    "        cp1, cp2 (float): changing points\n",
    "        add_noise (None or float): None or scale of Gaussian noise on all variables\n",
    "\n",
    "    Returns:\n",
    "        x,y (arrays): x and y of piecewise linear function. \n",
    "    \"\"\"\n",
    "    \n",
    "    a1 = thetas[0]\n",
    "    b = thetas[1]\n",
    "    a2 = thetas[2]\n",
    "    a3 = thetas[3]\n",
    "    cp1 = thetas[4]\n",
    "    cp2 = thetas[5]\n",
    "    \n",
    "    add_noise=0.5\n",
    "    \n",
    "    if not add_noise == None:\n",
    "        a1,b, a2,a3, cp1, cp2 = np.array([a1,b, a2,a3, cp1, cp2]) + scp.random.normal(scale=add_noise,size=6)       \n",
    "    \n",
    "    x = torch.arange(0,10,0.01)\n",
    "    y = torch.zeros(x.shape)\n",
    "    \n",
    "    # first piece\n",
    "    y[x<cp1] = (b+a1*x[x<cp1])\n",
    "    \n",
    "    # second piece     \n",
    "    y[(x>=cp1) & (x<cp2)] = y[torch.sum(x<cp1)-1] + a2* (x[(x>=cp1) & (x<cp2)]  - cp1) \n",
    "    \n",
    "    # third piece\n",
    "    y[x>=cp2] = y[torch.sum(x<cp2)-1] + a3* (x[x>=cp2] - cp2) \n",
    "\n",
    "    \n",
    "    return y"
   ]
  },
  {
   "cell_type": "markdown",
   "metadata": {},
   "source": [
    "### Define prior and summary stats dependent on prior"
   ]
  },
  {
   "cell_type": "code",
   "execution_count": 4,
   "metadata": {},
   "outputs": [],
   "source": [
    "\"\"\"\n",
    "Priors\n",
    "\"\"\"\n",
    "\n",
    "b = scp.random.uniform(0,10)\n",
    "a1 = scp.random.uniform(-10,0)\n",
    "a2 = scp.random.uniform(0,10)\n",
    "a3 = scp.random.uniform(-10,0)\n",
    "cp1 = scp.random.uniform(2,4)\n",
    "cp2 = scp.random.uniform(5,8)\n",
    "\n",
    "\n",
    "x = piecewise_linear(a1,b, a2,a3, cp1, cp2)\n",
    "\n"
   ]
  },
  {
   "cell_type": "markdown",
   "metadata": {},
   "source": [
    "**Summary statistics**\n",
    "\n",
    "I defined a few more summary statistics such that we have 13 in total."
   ]
  },
  {
   "cell_type": "code",
   "execution_count": 5,
   "metadata": {},
   "outputs": [],
   "source": [
    "\"\"\"\n",
    "Summary stats\n",
    "\"\"\"\n",
    "\n",
    "def extract_sumstats(y,max_time=10):\n",
    "    \"\"\"\n",
    "    Extract some sumstats for piecewise linear fct with specified prior \n",
    "    !the information in the sumstats is highly dependent on the prior!\n",
    "    Args:\n",
    "        x ([array]): time axis of time series\n",
    "        y ([array]): 1d time series\n",
    "        max_time (float, optional): maximal time to calculate sumstats on. Defaults to 10.\n",
    "\n",
    "    Returns:\n",
    "       s [array]: summary stats of time series, with np.nan for non-calculated sumstats\n",
    "    \"\"\"\n",
    "    \n",
    "    # artificial masking of y \n",
    "    \n",
    "    x = torch.arange(0,10,0.01, dtype=torch.float64)\n",
    "\n",
    "    \n",
    "    batch_list = []\n",
    "    # first batch of sumstats for times <4\n",
    "    \n",
    "    for batch in y:\n",
    "        \n",
    "        \n",
    "        batch[x>max_time] = np.nan\n",
    "    \n",
    "        s = np.zeros(13) * np.nan\n",
    "        \n",
    "        s[0] = np.float32(batch[0])    #offset\n",
    "        s[1] = np.nanmin(batch[x<4])   # local min\n",
    "        \n",
    "        #print(type(s[0]), type(s[1]))\n",
    "        s[2] = x[np.nanargmin(batch[x<4])]   #value of min\n",
    "        \n",
    "        s[3] = np.nanmax(batch[x<4])   # local max\n",
    "        \n",
    "  \n",
    "        s[4] = x[np.nanargmax(batch[x<4])]   #value of max\n",
    "\n",
    "        # second batch of sumstats for times > 4\n",
    "        if max_time >= 4 :\n",
    "            s[5] = np.nanmax(batch[(x>=4)&(x<8)])\n",
    "            s[6] = x[np.nanargmax(batch[(x>=4)&(x<8)])] + 4\n",
    "            s[9] = np.nanmin(batch[(x>=4)&(x<8)])\n",
    "            s[10] = x[np.nanargmin(batch[(x>=4)&(x<8)])] +4\n",
    "\n",
    "        # third batch of sumstats for times > 5\n",
    "        if max_time >= 5:\n",
    "            s[7] = np.nanmin(batch[x>=5])\n",
    "            s[8] = x[np.nanargmin(batch[x>=5])] + 5\n",
    "            \n",
    "            s[11] = np.nanmax(batch[x>=5])\n",
    "            s[12] = x[np.nanargmax(batch[x>=5])] + 5\n",
    "            \n",
    "        s = np.float32(s)\n",
    "    \n",
    "            \n",
    "        batch_list.append(torch.from_numpy(s))\n",
    "\n",
    "    return torch.stack(batch_list)\n",
    "\n",
    "    "
   ]
  },
  {
   "cell_type": "markdown",
   "metadata": {},
   "source": [
    "## cosine waves\n",
    "\n",
    "WORK IN PROGRESS\n",
    "\n",
    "same, but more ellaborated summary stats are needed"
   ]
  },
  {
   "cell_type": "code",
   "execution_count": 6,
   "metadata": {},
   "outputs": [],
   "source": [
    "def cosine_waves(a1,b,a2,cp,f_1=1, f_2=1, return_factors=False):\n",
    "    \"\"\"\n",
    "    Args:\n",
    "        a1 (float): first slope\n",
    "        b (float): offset (starting amplitude)\n",
    "        a2 (float): second slope\n",
    "        cp (float): changing point\n",
    "        f_1 (float): first freq\n",
    "        f_2 (float): second freq\n",
    "\n",
    "    Returns:\n",
    "        [type]: [description]\n",
    "    \"\"\"\n",
    "    x = np.arange(0,10,0.01)\n",
    "    y = np.zeros(x.shape)\n",
    "    factor1 = (b+a1*x[x<cp])\n",
    "    factor1[factor1<0] = 0\n",
    "    y[x<cp] = factor1 * np.cos(2*np.pi * f_1 * x[x<cp])\n",
    "     \n",
    "    factor2= y[np.sum(x<cp)-1] + a2* (x[x>=cp] - cp) \n",
    "    factor2[factor2<0] = 0\n",
    "\n",
    "    y[x>=cp] = (factor2) * np.cos(2*np.pi * f_2 * x[x>=cp]) \n",
    "\n",
    "    if return_factors:\n",
    "        return x,y, factor1, factor2\n",
    "    else:\n",
    "        return x,y"
   ]
  },
  {
   "cell_type": "code",
   "execution_count": 7,
   "metadata": {},
   "outputs": [
    {
     "data": {
      "text/plain": [
       "[<matplotlib.lines.Line2D at 0x7f879e5e4cd0>]"
      ]
     },
     "execution_count": 7,
     "metadata": {},
     "output_type": "execute_result"
    },
    {
     "data": {
      "image/png": "[encoded data removed]",
      "text/plain": [
       "<Figure size 432x288 with 1 Axes>"
      ]
     },
     "metadata": {
      "needs_background": "light"
     },
     "output_type": "display_data"
    }
   ],
   "source": [
    "x,y,f1,f2=cosine_waves(4,2,-2,4, return_factors=True  )\n",
    "\n",
    "plt.plot(x[:len(f1)],f1)\n",
    "plt.plot(x[-len(f2):],f2)\n",
    "plt.plot(x,y)"
   ]
  },
  {
   "cell_type": "code",
   "execution_count": 8,
   "metadata": {},
   "outputs": [],
   "source": [
    "def cosine_waves_2(a1,b,a2,a3, cp1, cp2, f_1=1, f_2=1,f_3=1, return_factors=False):\n",
    "    \"\"\"\n",
    "    Args:\n",
    "        a1 (float): first slope\n",
    "        b (float): offset\n",
    "        ai (float): slopes\n",
    "        cpi (float): changing points\n",
    "        f_i (float): first freqs\n",
    "        \n",
    "    Returns:\n",
    "        [type]: [description]\n",
    "    \"\"\"\n",
    "    x = np.arange(0,10,0.01)\n",
    "    y = np.zeros(x.shape)\n",
    "    factor1 = (b+a1*x[x<cp1])\n",
    "    factor1[factor1<0] = 0\n",
    "    y[x<cp1] = factor1 * np.cos(2*np.pi * f_1 * x[x<cp1])\n",
    "     \n",
    "    factor2= y[np.sum(x<cp1)-1] + a2* (x[(x>=cp1) & (x<cp2)] - cp1) \n",
    "    factor2[factor2<0] = 0\n",
    "    y[(x>=cp1) & (x<cp2)] = (factor2) * np.cos(2*np.pi * f_2 * x[(x>=cp1) & (x<cp2)]) \n",
    "    \n",
    "    factor3= y[np.sum(x<cp2)-1] + a3* (x[x>=cp2] - cp2) \n",
    "    factor3[factor3<0] = 0\n",
    "\n",
    "    y[x>=cp2] = (factor3) * np.cos(2*np.pi * f_3 * x[x>=cp2]) \n",
    "\n",
    "    if return_factors:\n",
    "        return x,y, factor1, factor2, factor3\n",
    "    else:\n",
    "        return x,y\n",
    "    \n",
    "    \n",
    "def cosine_waves_2_first(thetas):\n",
    "    \"\"\"\n",
    "    Args:\n",
    "        a1 (float): first slope\n",
    "        b (float): offset\n",
    "        ai (float): slopes\n",
    "        cpi (float): changing points\n",
    "        f_i (float): first freqs\n",
    "        \n",
    "    Returns:\n",
    "        [type]: [description]\n",
    "    \"\"\"\n",
    "    \n",
    "    a1 = thetas[0]\n",
    "    b = thetas[1]\n",
    "    a2=-3\n",
    "    a3=3\n",
    "    cp1=2\n",
    "    cp2=6\n",
    "    f_1=1\n",
    "    f_2=1\n",
    "    f_3=1\n",
    "    \n",
    "    return_factors=False\n",
    "    \n",
    "    x = torch.arange(0,10,0.01, dtype= torch.float32)\n",
    "    y = torch.zeros(x.shape)\n",
    "    factor1 = (b+a1*x[x<cp1])\n",
    "    factor1[factor1<0] = 0\n",
    "    y[x<cp1] = factor1 * np.cos(2*np.pi * f_1 * x[x<cp1])\n",
    "     \n",
    "    factor2= y[np.sum(x<cp1)-1] + a2* (x[(x>=cp1) & (x<cp2)] - cp1) \n",
    "    factor2[factor2<0] = 0\n",
    "    y[(x>=cp1) & (x<cp2)] = (factor2) * np.cos(2*np.pi * f_2 * x[(x>=cp1) & (x<cp2)]) \n",
    "    \n",
    "    factor3= y[torch.sum(x<cp2)-1] + a3* (x[x>=cp2] - cp2) \n",
    "    factor3[factor3<0] = 0\n",
    "\n",
    "    y[x>=cp2] = (factor3) * np.cos(2*np.pi * f_3 * x[x>=cp2]) \n",
    "\n",
    "    if return_factors:\n",
    "        return x,y, factor1, factor2, factor3\n",
    "    else:\n",
    "        return x,y"
   ]
  },
  {
   "cell_type": "code",
   "execution_count": 9,
   "metadata": {},
   "outputs": [
    {
     "data": {
      "text/plain": [
       "[<matplotlib.lines.Line2D at 0x7f879e4d5c10>]"
      ]
     },
     "execution_count": 9,
     "metadata": {},
     "output_type": "execute_result"
    },
    {
     "data": {
      "image/png": "[encoded data removed]",
      "text/plain": [
       "<Figure size 432x288 with 1 Axes>"
      ]
     },
     "metadata": {
      "needs_background": "light"
     },
     "output_type": "display_data"
    }
   ],
   "source": [
    "x,y,f1,f2,f3=cosine_waves_2(5,5,\n",
    "                            -3,3,\n",
    "                            2,6, return_factors=True)\n",
    "\n",
    "plt.plot(x[:len(f1)],f1)\n",
    "plt.plot(x[len(f1):-len(f3)],f2)\n",
    "plt.plot(x[-len(f3):],f3)\n",
    "\n",
    "plt.plot(x,y)"
   ]
  },
  {
   "cell_type": "markdown",
   "metadata": {},
   "source": [
    "## Sequential Time Series SBI\n",
    "\n",
    "\n",
    "We have the follwoing parameters: a1,b,a2,a3, cp1, cp2\n",
    "\n",
    "Let's assume this ground truth: true_params = $[5, 5, -3, 2, 1, 5]$\n",
    "\n",
    "and the following uniform priors: \n",
    "\n",
    "prior_min = $[3, 3, -5, 0, -1, 3]  $\n",
    "\n",
    "prior_max = $[7, 7, -1, 4, 3, 7]$\n",
    "\n",
    "\n",
    "We start with inferring the first 2 parameters (a1, b), therefore call the function $piecewise_linear_first_batch()$\n",
    "that only varies these 2 parameters within the prior range."
   ]
  },
  {
   "cell_type": "code",
   "execution_count": 10,
   "metadata": {},
   "outputs": [],
   "source": [
    "#parameter a1,b,a2,a3, cp1, cp2\n",
    "\n",
    "\n",
    "\n",
    "prior_min = [3, 3, -5, 0, -1, 3]  \n",
    "\n",
    "prior_max = [7, 7, -1, 4, 3, 7]\n",
    "\n",
    "num_simulations=1000"
   ]
  },
  {
   "cell_type": "markdown",
   "metadata": {},
   "source": [
    "## First round"
   ]
  },
  {
   "cell_type": "code",
   "execution_count": 11,
   "metadata": {},
   "outputs": [
    {
     "name": "stdout",
     "output_type": "stream",
     "text": [
      "[3, 3]\n",
      "BoxUniform(Uniform(low: torch.Size([2]), high: torch.Size([2])), 1)\n"
     ]
    },
    {
     "name": "stderr",
     "output_type": "stream",
     "text": [
      "/tmp/ipykernel_138676/4022197506.py:62: FutureWarning: The input object of type 'Tensor' is an array-like implementing one of the corresponding protocols (`__array__`, `__array_interface__` or `__array_struct__`); but not a sequence (or 0-D). In the future, this object will be coerced as if it was first converted using `np.array(obj)`. To retain the old behaviour, you have to either modify the type 'Tensor', or assign to an empty array created with `np.empty(correct_shape, dtype=object)`.\n",
      "  a1,b, a2,a3, cp1, cp2 = np.array([a1,b, a2,a3, cp1, cp2]) + scp.random.normal(scale=add_noise,size=6)\n",
      "/tmp/ipykernel_138676/4022197506.py:62: VisibleDeprecationWarning: Creating an ndarray from ragged nested sequences (which is a list-or-tuple of lists-or-tuples-or ndarrays with different lengths or shapes) is deprecated. If you meant to do this, you must specify 'dtype=object' when creating the ndarray.\n",
      "  a1,b, a2,a3, cp1, cp2 = np.array([a1,b, a2,a3, cp1, cp2]) + scp.random.normal(scale=add_noise,size=6)\n"
     ]
    },
    {
     "data": {
      "application/vnd.jupyter.widget-view+json": {
       "model_id": "97bc95ec12414dceb6b8de8ffa63e2f6",
       "version_major": 2,
       "version_minor": 0
      },
      "text/plain": [
       "Running 1000 simulations in 1000 batches.:   0%|          | 0/1000 [00:00<?, ?it/s]"
      ]
     },
     "metadata": {},
     "output_type": "display_data"
    }
   ],
   "source": [
    "### first round:\n",
    "\n",
    "prior1 = utils.torchutils.BoxUniform(low=prior_min[0:2], high = prior_max[0:2])\n",
    "\n",
    "print(prior_min[0:2])\n",
    "print(prior1)\n",
    "\n",
    "inf = SNPE_C(prior1, density_estimator=\"nsf\")\n",
    "\n",
    "density_estimator = 'nsf'\n",
    "\n",
    "\n",
    "simulator_stats, prior = prepare_for_sbi(piecewise_linear_first_batch, prior1)\n",
    "\n",
    "inference = SNPE_C(prior, density_estimator=density_estimator)\n",
    "\n",
    "theta, x_without = simulate_for_sbi(\n",
    "    simulator_stats,\n",
    "    proposal=prior,\n",
    "    num_simulations=num_simulations,\n",
    "    num_workers=4,\n",
    ")"
   ]
  },
  {
   "cell_type": "code",
   "execution_count": 12,
   "metadata": {},
   "outputs": [],
   "source": [
    "x = extract_sumstats(x_without)"
   ]
  },
  {
   "cell_type": "code",
   "execution_count": 13,
   "metadata": {},
   "outputs": [
    {
     "name": "stdout",
     "output_type": "stream",
     "text": [
      "Neural network successfully converged after 53 epochs.\n"
     ]
    }
   ],
   "source": [
    "inf = inf.append_simulations(theta, x)\n",
    "density_estimator = inf.train()\n",
    "\n",
    "posterior = inf.build_posterior(density_estimator)"
   ]
  },
  {
   "cell_type": "code",
   "execution_count": 14,
   "metadata": {},
   "outputs": [
    {
     "name": "stdout",
     "output_type": "stream",
     "text": [
      "torch.Size([1000])\n",
      "torch.Size([1, 13])\n"
     ]
    }
   ],
   "source": [
    "true_params = [5, 5, -3, 2, 1, 5]\n",
    "obs_real = piecewise_linear_first_batch(true_params)\n",
    "\n",
    "\n",
    "print(obs_real.shape)\n",
    "\n",
    "obs_real_stats = extract_sumstats([obs_real])\n",
    "\n",
    "\n",
    "print(obs_real_stats.shape)"
   ]
  },
  {
   "cell_type": "code",
   "execution_count": 15,
   "metadata": {},
   "outputs": [
    {
     "data": {
      "application/vnd.jupyter.widget-view+json": {
       "model_id": "d275c6b9b0c747c086fbe7f2308a1660",
       "version_major": 2,
       "version_minor": 0
      },
      "text/plain": [
       "Drawing 100 posterior samples:   0%|          | 0/100 [00:00<?, ?it/s]"
      ]
     },
     "metadata": {},
     "output_type": "display_data"
    }
   ],
   "source": [
    "num_samples = 100\n",
    "\n",
    "samples = posterior.sample((num_samples,), x=obs_real_stats)\n",
    "\n",
    "proposal1 = posterior.set_default_x(obs_real_stats)"
   ]
  },
  {
   "cell_type": "code",
   "execution_count": 16,
   "metadata": {},
   "outputs": [
    {
     "name": "stdout",
     "output_type": "stream",
     "text": [
      "[tensor(4.1550), tensor(4.0080), tensor(4.3687), tensor(4.7687), tensor(4.2705), tensor(3.9786), tensor(3.8630), tensor(4.4501), tensor(3.6618), tensor(3.9102), tensor(4.0530), tensor(3.8167), tensor(3.9572), tensor(3.6723), tensor(3.9314), tensor(3.9948), tensor(4.5596), tensor(4.2646), tensor(5.3806), tensor(4.8267), tensor(3.5710), tensor(4.8717), tensor(3.8360), tensor(4.0383), tensor(3.7511), tensor(4.5865), tensor(3.8787), tensor(3.6533), tensor(3.9680), tensor(3.3706), tensor(4.4732), tensor(3.1350), tensor(4.6185), tensor(4.6919), tensor(3.8652), tensor(3.6905), tensor(3.5651), tensor(5.5585), tensor(3.8978), tensor(4.1801), tensor(4.4857), tensor(4.9267), tensor(3.2401), tensor(4.3731), tensor(3.9475), tensor(3.9795), tensor(3.5604), tensor(3.4694), tensor(3.9103), tensor(4.5719), tensor(3.9807), tensor(3.8904), tensor(4.0637), tensor(5.6187), tensor(4.0587), tensor(4.6483), tensor(4.0262), tensor(4.4576), tensor(4.1747), tensor(4.5373), tensor(4.7304), tensor(4.0552), tensor(4.1953), tensor(4.8708), tensor(4.0395), tensor(4.0684), tensor(4.6737), tensor(4.7712), tensor(4.0544), tensor(3.2770), tensor(3.6466), tensor(4.1654), tensor(4.8539), tensor(4.4449), tensor(4.6281), tensor(4.4810), tensor(3.8466), tensor(4.5808), tensor(4.7197), tensor(3.3579), tensor(4.8036), tensor(4.5921), tensor(3.2192), tensor(4.2183), tensor(4.0257), tensor(4.0951), tensor(3.8604), tensor(4.6520), tensor(4.7958), tensor(3.6726), tensor(4.2239), tensor(3.7656), tensor(3.3630), tensor(4.8137), tensor(3.9914), tensor(3.8884), tensor(4.2811), tensor(3.5860), tensor(4.0455), tensor(4.0522)]\n"
     ]
    }
   ],
   "source": [
    "samples_0 = []\n",
    "\n",
    "for i in samples:\n",
    "    samples_0.append(i[0])\n",
    "print(samples_0)"
   ]
  },
  {
   "cell_type": "code",
   "execution_count": 17,
   "metadata": {},
   "outputs": [
    {
     "name": "stdout",
     "output_type": "stream",
     "text": [
      "5.618658\n",
      "3.1349704\n"
     ]
    },
    {
     "data": {
      "image/png": "[encoded data removed]",
      "text/plain": [
       "<Figure size 432x288 with 1 Axes>"
      ]
     },
     "metadata": {
      "needs_background": "light"
     },
     "output_type": "display_data"
    }
   ],
   "source": [
    "### comparing samples range from posterior and prior:\n",
    "data = np.random.uniform(prior_min[0],prior_max[0],100) # You are generating 1000 points between 0 and 1.\n",
    "\n",
    "plt.hist(data, 20, facecolor='green', density=True) \n",
    "plt.hist(samples_0, 20, facecolor='red', density=True)\n",
    "\n",
    "\n",
    "print(np.max(samples_0))\n",
    "print(np.min(samples_0))"
   ]
  },
  {
   "cell_type": "code",
   "execution_count": 18,
   "metadata": {},
   "outputs": [
    {
     "name": "stdout",
     "output_type": "stream",
     "text": [
      "4\n",
      "2.4836876\n"
     ]
    }
   ],
   "source": [
    "print(prior_max[0]-prior_min[0])\n",
    "print(np.max(samples_0)-np.min(samples_0))"
   ]
  },
  {
   "cell_type": "code",
   "execution_count": 19,
   "metadata": {},
   "outputs": [
    {
     "data": {
      "text/plain": [
       "15.775"
      ]
     },
     "execution_count": 19,
     "metadata": {},
     "output_type": "execute_result"
    }
   ],
   "source": [
    "100/(4/0.631)"
   ]
  },
  {
   "cell_type": "markdown",
   "metadata": {},
   "source": [
    "So, the parameter range takes now only 15.775% of the uniform prior space!!"
   ]
  },
  {
   "cell_type": "markdown",
   "metadata": {},
   "source": [
    "## Second round"
   ]
  },
  {
   "cell_type": "code",
   "execution_count": 20,
   "metadata": {},
   "outputs": [
    {
     "data": {
      "application/vnd.jupyter.widget-view+json": {
       "model_id": "02c3cec5e00044ccb30e949772d0a6b9",
       "version_major": 2,
       "version_minor": 0
      },
      "text/plain": [
       "Drawing 1 posterior samples:   0%|          | 0/1 [00:00<?, ?it/s]"
      ]
     },
     "metadata": {},
     "output_type": "display_data"
    },
    {
     "name": "stdout",
     "output_type": "stream",
     "text": [
      "theta pos size torch.Size([1, 2])\n",
      "theta prior size torch.Size([1, 2])\n",
      "2\n",
      "theta_posterior tensor([[4.6544, 5.4011]])\n",
      "theta prior tensor([[-2.1426,  0.9708]])\n",
      "theta tensor([[ 4.6544,  5.4011, -2.1426,  0.9708]])\n"
     ]
    },
    {
     "data": {
      "application/vnd.jupyter.widget-view+json": {
       "model_id": "72bfd213a3fe4718bfbc50c05192762b",
       "version_major": 2,
       "version_minor": 0
      },
      "text/plain": [
       "Drawing 1 posterior samples:   0%|          | 0/1 [00:00<?, ?it/s]"
      ]
     },
     "metadata": {},
     "output_type": "display_data"
    },
    {
     "name": "stdout",
     "output_type": "stream",
     "text": [
      "theta pos size torch.Size([2])\n",
      "theta prior size torch.Size([2])\n",
      "1\n",
      "true\n",
      "theta_posterior tensor([[4.8577, 5.4216]])\n",
      "theta prior tensor([[-1.7863,  2.2276]])\n",
      "theta tensor([[ 4.8577,  5.4216, -1.7863,  2.2276]])\n"
     ]
    },
    {
     "data": {
      "application/vnd.jupyter.widget-view+json": {
       "model_id": "b2a92cfb62ff4154be11e221af96332f",
       "version_major": 2,
       "version_minor": 0
      },
      "text/plain": [
       "Drawing 1 posterior samples:   0%|          | 0/1 [00:00<?, ?it/s]"
      ]
     },
     "metadata": {},
     "output_type": "display_data"
    },
    {
     "name": "stdout",
     "output_type": "stream",
     "text": [
      "theta pos size torch.Size([1, 2])\n",
      "theta prior size torch.Size([1, 2])\n",
      "2\n",
      "theta_posterior tensor([[4.5589, 6.1066]])\n",
      "theta prior tensor([[-4.1941,  0.6308]])\n",
      "theta tensor([[ 4.5589,  6.1066, -4.1941,  0.6308]])\n",
      "tensor([-3.4982])\n"
     ]
    },
    {
     "data": {
      "application/vnd.jupyter.widget-view+json": {
       "model_id": "61b211f29bb74931bd27bcf8e85369ca",
       "version_major": 2,
       "version_minor": 0
      },
      "text/plain": [
       "Drawing 1 posterior samples:   0%|          | 0/1 [00:00<?, ?it/s]"
      ]
     },
     "metadata": {},
     "output_type": "display_data"
    },
    {
     "name": "stdout",
     "output_type": "stream",
     "text": [
      "theta pos size torch.Size([2])\n",
      "theta prior size torch.Size([2])\n",
      "1\n",
      "true\n",
      "theta_posterior tensor([[4.7308, 6.3572]])\n",
      "theta prior tensor([[-2.1075,  1.6276]])\n",
      "theta tensor([[ 4.7308,  6.3572, -2.1075,  1.6276]])\n"
     ]
    },
    {
     "data": {
      "application/vnd.jupyter.widget-view+json": {
       "model_id": "cb42b37e93744d9cb057868a614cc6c7",
       "version_major": 2,
       "version_minor": 0
      },
      "text/plain": [
       "Drawing 1 posterior samples:   0%|          | 0/1 [00:00<?, ?it/s]"
      ]
     },
     "metadata": {},
     "output_type": "display_data"
    },
    {
     "name": "stdout",
     "output_type": "stream",
     "text": [
      "theta pos size torch.Size([2])\n",
      "theta prior size torch.Size([2])\n",
      "1\n",
      "true\n",
      "theta_posterior tensor([[4.8235, 5.9099]])\n",
      "theta prior tensor([[-1.6968,  3.7435]])\n",
      "theta tensor([[ 4.8235,  5.9099, -1.6968,  3.7435]])\n"
     ]
    },
    {
     "data": {
      "application/vnd.jupyter.widget-view+json": {
       "model_id": "e095634522024c7ba918f842e9ab1ea9",
       "version_major": 2,
       "version_minor": 0
      },
      "text/plain": [
       "Drawing 1 posterior samples:   0%|          | 0/1 [00:00<?, ?it/s]"
      ]
     },
     "metadata": {},
     "output_type": "display_data"
    },
    {
     "name": "stdout",
     "output_type": "stream",
     "text": [
      "theta pos size torch.Size([2])\n",
      "theta prior size torch.Size([2])\n",
      "1\n",
      "true\n",
      "theta_posterior tensor([[4.2330, 6.0546]])\n",
      "theta prior tensor([[-4.9373,  2.8915]])\n",
      "theta tensor([[ 4.2330,  6.0546, -4.9373,  2.8915]])\n"
     ]
    },
    {
     "data": {
      "application/vnd.jupyter.widget-view+json": {
       "model_id": "da0d6065eeb74a91ade634d069945c41",
       "version_major": 2,
       "version_minor": 0
      },
      "text/plain": [
       "Drawing 2 posterior samples:   0%|          | 0/2 [00:00<?, ?it/s]"
      ]
     },
     "metadata": {},
     "output_type": "display_data"
    },
    {
     "name": "stdout",
     "output_type": "stream",
     "text": [
      "theta pos size torch.Size([2, 2])\n",
      "theta prior size torch.Size([2, 2])\n",
      "2\n",
      "theta_posterior tensor([[4.5714, 6.3414],\n",
      "        [3.4976, 5.6580]])\n",
      "theta prior tensor([[-1.8488,  2.0773],\n",
      "        [-3.2623,  3.3203]])\n",
      "theta tensor([[ 4.5714,  6.3414, -1.8488,  2.0773],\n",
      "        [ 3.4976,  5.6580, -3.2623,  3.3203]])\n"
     ]
    },
    {
     "data": {
      "application/vnd.jupyter.widget-view+json": {
       "model_id": "3f4db8b38abb4f07b272473dd31ea29c",
       "version_major": 2,
       "version_minor": 0
      },
      "text/plain": [
       "Drawing 1 posterior samples:   0%|          | 0/1 [00:00<?, ?it/s]"
      ]
     },
     "metadata": {},
     "output_type": "display_data"
    },
    {
     "name": "stdout",
     "output_type": "stream",
     "text": [
      "theta pos size torch.Size([2])\n",
      "theta prior size torch.Size([2])\n",
      "1\n",
      "true\n",
      "theta_posterior tensor([[3.7260, 6.1497]])\n",
      "theta prior tensor([[-1.9966,  2.6616]])\n",
      "theta tensor([[ 3.7260,  6.1497, -1.9966,  2.6616]])\n"
     ]
    },
    {
     "data": {
      "application/vnd.jupyter.widget-view+json": {
       "model_id": "dfd284372be541d18228e18eb1efa3b3",
       "version_major": 2,
       "version_minor": 0
      },
      "text/plain": [
       "Drawing 1 posterior samples:   0%|          | 0/1 [00:00<?, ?it/s]"
      ]
     },
     "metadata": {},
     "output_type": "display_data"
    },
    {
     "name": "stdout",
     "output_type": "stream",
     "text": [
      "theta pos size torch.Size([1, 2])\n",
      "theta prior size torch.Size([1, 2])\n",
      "2\n",
      "theta_posterior tensor([[5.2277, 5.4535]])\n",
      "theta prior tensor([[-1.7253,  1.7009]])\n",
      "theta tensor([[ 5.2277,  5.4535, -1.7253,  1.7009]])\n"
     ]
    },
    {
     "data": {
      "application/vnd.jupyter.widget-view+json": {
       "model_id": "918f459058e14d47b8a7a09f416f8734",
       "version_major": 2,
       "version_minor": 0
      },
      "text/plain": [
       "Drawing 1 posterior samples:   0%|          | 0/1 [00:00<?, ?it/s]"
      ]
     },
     "metadata": {},
     "output_type": "display_data"
    },
    {
     "name": "stdout",
     "output_type": "stream",
     "text": [
      "theta pos size torch.Size([1, 2])\n",
      "theta prior size torch.Size([1, 2])\n",
      "2\n",
      "theta_posterior tensor([[3.4084, 5.8339]])\n",
      "theta prior tensor([[-4.1789,  2.3254]])\n",
      "theta tensor([[ 3.4084,  5.8339, -4.1789,  2.3254]])\n"
     ]
    },
    {
     "data": {
      "application/vnd.jupyter.widget-view+json": {
       "model_id": "fa50fff787ed4aa4ac75625f157af72e",
       "version_major": 2,
       "version_minor": 0
      },
      "text/plain": [
       "Drawing 1000 posterior samples:   0%|          | 0/1000 [00:00<?, ?it/s]"
      ]
     },
     "metadata": {},
     "output_type": "display_data"
    },
    {
     "name": "stdout",
     "output_type": "stream",
     "text": [
      "theta pos size torch.Size([1000, 2])\n",
      "theta prior size torch.Size([1000, 2])\n",
      "2\n",
      "theta_posterior tensor([[4.3270, 5.3535],\n",
      "        [4.6237, 6.5703],\n",
      "        [3.8502, 4.9245],\n",
      "        ...,\n",
      "        [3.9756, 5.6634],\n",
      "        [4.5563, 6.4570],\n",
      "        [4.1138, 5.2247]])\n",
      "theta prior tensor([[-2.2677,  1.6917],\n",
      "        [-1.5271,  3.9821],\n",
      "        [-2.4922,  1.7674],\n",
      "        ...,\n",
      "        [-3.7198,  1.1399],\n",
      "        [-4.9524,  2.2462],\n",
      "        [-1.9179,  0.6268]])\n",
      "theta tensor([[ 4.3270,  5.3535, -2.2677,  1.6917],\n",
      "        [ 4.6237,  6.5703, -1.5271,  3.9821],\n",
      "        [ 3.8502,  4.9245, -2.4922,  1.7674],\n",
      "        ...,\n",
      "        [ 3.9756,  5.6634, -3.7198,  1.1399],\n",
      "        [ 4.5563,  6.4570, -4.9524,  2.2462],\n",
      "        [ 4.1138,  5.2247, -1.9179,  0.6268]])\n"
     ]
    },
    {
     "data": {
      "application/vnd.jupyter.widget-view+json": {
       "model_id": "c6e67d96abbc4867a591806afbe26157",
       "version_major": 2,
       "version_minor": 0
      },
      "text/plain": [
       "Running 1000 simulations in 1000 batches.:   0%|          | 0/1000 [00:00<?, ?it/s]"
      ]
     },
     "metadata": {},
     "output_type": "display_data"
    }
   ],
   "source": [
    "#### second round\n",
    "\n",
    "\n",
    "\n",
    "prior2 = utils.torchutils.BoxUniform(low=prior_min[2:4], high = prior_max[2:4])\n",
    "\n",
    "\n",
    "prior_combined =Combined(proposal1, prior2, number_params_1=2)\n",
    "\n",
    "\n",
    "\n",
    "inf = SNPE_C(prior_combined, density_estimator=\"nsf\")\n",
    "\n",
    "density_estimator = 'nsf'\n",
    "\n",
    "\n",
    "simulator_stats, prior = prepare_for_sbi(piecewise_linear_second_batch, prior_combined)\n",
    "\n",
    "inference = SNPE_C(prior, density_estimator=density_estimator)\n",
    "\n",
    "theta, x_without = simulate_for_sbi(\n",
    "    simulator_stats,\n",
    "    proposal=prior,\n",
    "    num_simulations=num_simulations,\n",
    "    num_workers=4,\n",
    ")"
   ]
  },
  {
   "cell_type": "code",
   "execution_count": 21,
   "metadata": {},
   "outputs": [
    {
     "name": "stdout",
     "output_type": "stream",
     "text": [
      "Neural network successfully converged after 45 epochs.\n"
     ]
    }
   ],
   "source": [
    "x = extract_sumstats(x_without)\n",
    "\n",
    "\n",
    "\n",
    "inf = inf.append_simulations(theta, x)\n",
    "\n",
    "\n",
    "density_estimator = inf.train()\n",
    "\n",
    "posterior2 = inf.build_posterior(density_estimator)"
   ]
  },
  {
   "cell_type": "code",
   "execution_count": 22,
   "metadata": {},
   "outputs": [
    {
     "data": {
      "application/vnd.jupyter.widget-view+json": {
       "model_id": "49a51f577c5f4f8e82b391b08f9220ae",
       "version_major": 2,
       "version_minor": 0
      },
      "text/plain": [
       "Drawing 100 posterior samples:   0%|          | 0/100 [00:00<?, ?it/s]"
      ]
     },
     "metadata": {},
     "output_type": "display_data"
    }
   ],
   "source": [
    "obs_real = piecewise_linear_second_batch(true_params)\n",
    "\n",
    "\n",
    "obs_real_stats = extract_sumstats([obs_real])\n",
    "\n",
    "\n",
    "#print(proposal2.log_prob(theta))\n",
    "\n",
    "samples = posterior2.sample((num_samples,), x=obs_real_stats)\n",
    "\n",
    "proposal2 = posterior2.set_default_x(obs_real_stats)"
   ]
  },
  {
   "cell_type": "markdown",
   "metadata": {},
   "source": [
    "## Third and last round"
   ]
  },
  {
   "cell_type": "code",
   "execution_count": 23,
   "metadata": {},
   "outputs": [
    {
     "data": {
      "application/vnd.jupyter.widget-view+json": {
       "model_id": "2ecec3b1b3a84d9f91d16fa4e20bfe1f",
       "version_major": 2,
       "version_minor": 0
      },
      "text/plain": [
       "Drawing 1 posterior samples:   0%|          | 0/1 [00:00<?, ?it/s]"
      ]
     },
     "metadata": {},
     "output_type": "display_data"
    },
    {
     "name": "stdout",
     "output_type": "stream",
     "text": [
      "theta pos size torch.Size([1, 4])\n",
      "theta prior size torch.Size([1, 2])\n",
      "2\n",
      "theta_posterior tensor([[ 4.6912,  5.8694, -3.8903,  0.8422]])\n",
      "theta prior tensor([[-0.1495,  6.2261]])\n",
      "theta tensor([[ 4.6912,  5.8694, -3.8903,  0.8422, -0.1495,  6.2261]])\n"
     ]
    },
    {
     "data": {
      "application/vnd.jupyter.widget-view+json": {
       "model_id": "015acdd6bbfa49eb904fba0e76c627e8",
       "version_major": 2,
       "version_minor": 0
      },
      "text/plain": [
       "Drawing 1 posterior samples:   0%|          | 0/1 [00:00<?, ?it/s]"
      ]
     },
     "metadata": {},
     "output_type": "display_data"
    },
    {
     "name": "stdout",
     "output_type": "stream",
     "text": [
      "theta pos size torch.Size([4])\n",
      "theta prior size torch.Size([2])\n",
      "1\n",
      "true\n",
      "theta_posterior tensor([[ 4.6968,  6.0828, -1.6802,  1.2348]])\n",
      "theta prior tensor([[0.4172, 4.8864]])\n",
      "theta tensor([[ 4.6968,  6.0828, -1.6802,  1.2348,  0.4172,  4.8864]])\n"
     ]
    },
    {
     "data": {
      "application/vnd.jupyter.widget-view+json": {
       "model_id": "0998787c0cfa4ee2affea52201700659",
       "version_major": 2,
       "version_minor": 0
      },
      "text/plain": [
       "Drawing 1 posterior samples:   0%|          | 0/1 [00:00<?, ?it/s]"
      ]
     },
     "metadata": {},
     "output_type": "display_data"
    },
    {
     "name": "stdout",
     "output_type": "stream",
     "text": [
      "theta pos size torch.Size([1, 4])\n",
      "theta prior size torch.Size([1, 2])\n",
      "2\n",
      "theta_posterior tensor([[ 5.1730,  5.4838, -2.7577,  1.0391]])\n",
      "theta prior tensor([[1.3791, 6.2945]])\n",
      "theta tensor([[ 5.1730,  5.4838, -2.7577,  1.0391,  1.3791,  6.2945]])\n",
      "tensor([-5.1437])\n"
     ]
    },
    {
     "data": {
      "application/vnd.jupyter.widget-view+json": {
       "model_id": "888fde4bb4ca47da8b0338eb5e48c654",
       "version_major": 2,
       "version_minor": 0
      },
      "text/plain": [
       "Drawing 1 posterior samples:   0%|          | 0/1 [00:00<?, ?it/s]"
      ]
     },
     "metadata": {},
     "output_type": "display_data"
    },
    {
     "name": "stdout",
     "output_type": "stream",
     "text": [
      "theta pos size torch.Size([4])\n",
      "theta prior size torch.Size([2])\n",
      "1\n",
      "true\n",
      "theta_posterior tensor([[ 5.3426,  6.0152, -1.6734,  0.9134]])\n",
      "theta prior tensor([[2.5642, 3.0333]])\n",
      "theta tensor([[ 5.3426,  6.0152, -1.6734,  0.9134,  2.5642,  3.0333]])\n"
     ]
    },
    {
     "data": {
      "application/vnd.jupyter.widget-view+json": {
       "model_id": "2f3d1e456a07496a9dae0088890f598b",
       "version_major": 2,
       "version_minor": 0
      },
      "text/plain": [
       "Drawing 1 posterior samples:   0%|          | 0/1 [00:00<?, ?it/s]"
      ]
     },
     "metadata": {},
     "output_type": "display_data"
    },
    {
     "name": "stdout",
     "output_type": "stream",
     "text": [
      "theta pos size torch.Size([4])\n",
      "theta prior size torch.Size([2])\n",
      "1\n",
      "true\n",
      "theta_posterior tensor([[ 5.1511,  4.6056, -2.0795,  1.4612]])\n",
      "theta prior tensor([[-0.0162,  5.1081]])\n",
      "theta tensor([[ 5.1511,  4.6056, -2.0795,  1.4612, -0.0162,  5.1081]])\n"
     ]
    },
    {
     "data": {
      "application/vnd.jupyter.widget-view+json": {
       "model_id": "142be95534c747cbbade8777f19c26f7",
       "version_major": 2,
       "version_minor": 0
      },
      "text/plain": [
       "Drawing 1 posterior samples:   0%|          | 0/1 [00:00<?, ?it/s]"
      ]
     },
     "metadata": {},
     "output_type": "display_data"
    },
    {
     "name": "stdout",
     "output_type": "stream",
     "text": [
      "theta pos size torch.Size([4])\n",
      "theta prior size torch.Size([2])\n",
      "1\n",
      "true\n",
      "theta_posterior tensor([[ 4.7119,  6.0152, -2.1592,  1.3454]])\n",
      "theta prior tensor([[0.8493, 4.6161]])\n",
      "theta tensor([[ 4.7119,  6.0152, -2.1592,  1.3454,  0.8493,  4.6161]])\n"
     ]
    },
    {
     "data": {
      "application/vnd.jupyter.widget-view+json": {
       "model_id": "7f0776f51839400cad171d1e99a2dbb6",
       "version_major": 2,
       "version_minor": 0
      },
      "text/plain": [
       "Drawing 2 posterior samples:   0%|          | 0/2 [00:00<?, ?it/s]"
      ]
     },
     "metadata": {},
     "output_type": "display_data"
    },
    {
     "name": "stdout",
     "output_type": "stream",
     "text": [
      "theta pos size torch.Size([2, 4])\n",
      "theta prior size torch.Size([2, 2])\n",
      "2\n",
      "theta_posterior tensor([[ 5.2722,  6.0454, -1.7078,  0.9481],\n",
      "        [ 4.8996,  5.8041, -3.1982,  0.7352]])\n",
      "theta prior tensor([[-0.8005,  5.0480],\n",
      "        [ 0.9790,  5.8660]])\n",
      "theta tensor([[ 5.2722,  6.0454, -1.7078,  0.9481, -0.8005,  5.0480],\n",
      "        [ 4.8996,  5.8041, -3.1982,  0.7352,  0.9790,  5.8660]])\n"
     ]
    },
    {
     "data": {
      "application/vnd.jupyter.widget-view+json": {
       "model_id": "62e1e9ddcee04df2947d6ab2835659d3",
       "version_major": 2,
       "version_minor": 0
      },
      "text/plain": [
       "Drawing 1 posterior samples:   0%|          | 0/1 [00:00<?, ?it/s]"
      ]
     },
     "metadata": {},
     "output_type": "display_data"
    },
    {
     "name": "stdout",
     "output_type": "stream",
     "text": [
      "theta pos size torch.Size([4])\n",
      "theta prior size torch.Size([2])\n",
      "1\n",
      "true\n",
      "theta_posterior tensor([[ 5.0094,  6.1390, -1.7345,  1.2261]])\n",
      "theta prior tensor([[-0.2908,  5.7098]])\n",
      "theta tensor([[ 5.0094,  6.1390, -1.7345,  1.2261, -0.2908,  5.7098]])\n"
     ]
    },
    {
     "data": {
      "application/vnd.jupyter.widget-view+json": {
       "model_id": "f308a560e7094d6391f43cacbf270e53",
       "version_major": 2,
       "version_minor": 0
      },
      "text/plain": [
       "Drawing 1 posterior samples:   0%|          | 0/1 [00:00<?, ?it/s]"
      ]
     },
     "metadata": {},
     "output_type": "display_data"
    },
    {
     "name": "stdout",
     "output_type": "stream",
     "text": [
      "theta pos size torch.Size([1, 4])\n",
      "theta prior size torch.Size([1, 2])\n",
      "2\n",
      "theta_posterior tensor([[ 4.8546,  5.9748, -1.9537,  1.5928]])\n",
      "theta prior tensor([[2.6534, 6.2609]])\n",
      "theta tensor([[ 4.8546,  5.9748, -1.9537,  1.5928,  2.6534,  6.2609]])\n"
     ]
    },
    {
     "data": {
      "application/vnd.jupyter.widget-view+json": {
       "model_id": "b3b36986053444c495331e6b9ce90eb2",
       "version_major": 2,
       "version_minor": 0
      },
      "text/plain": [
       "Drawing 1 posterior samples:   0%|          | 0/1 [00:00<?, ?it/s]"
      ]
     },
     "metadata": {},
     "output_type": "display_data"
    },
    {
     "name": "stdout",
     "output_type": "stream",
     "text": [
      "theta pos size torch.Size([1, 4])\n",
      "theta prior size torch.Size([1, 2])\n",
      "2\n",
      "theta_posterior tensor([[ 4.7851,  6.5710, -2.1233,  1.0655]])\n",
      "theta prior tensor([[-0.1408,  5.2180]])\n",
      "theta tensor([[ 4.7851,  6.5710, -2.1233,  1.0655, -0.1408,  5.2180]])\n"
     ]
    },
    {
     "data": {
      "application/vnd.jupyter.widget-view+json": {
       "model_id": "822b0fcea75b46f1ae677554622e9ba0",
       "version_major": 2,
       "version_minor": 0
      },
      "text/plain": [
       "Drawing 1000 posterior samples:   0%|          | 0/1000 [00:00<?, ?it/s]"
      ]
     },
     "metadata": {},
     "output_type": "display_data"
    },
    {
     "name": "stdout",
     "output_type": "stream",
     "text": [
      "theta pos size torch.Size([1000, 4])\n",
      "theta prior size torch.Size([1000, 2])\n",
      "2\n",
      "theta_posterior tensor([[ 5.0709,  5.9370, -2.0309,  1.1880],\n",
      "        [ 5.4063,  6.1798, -1.7899,  1.5737],\n",
      "        [ 5.0620,  6.1106, -1.6738,  0.7013],\n",
      "        ...,\n",
      "        [ 5.5227,  6.2873, -3.2993,  1.1010],\n",
      "        [ 4.8728,  5.6387, -2.0878,  1.5977],\n",
      "        [ 4.6617,  6.0292, -2.2685,  1.5013]])\n",
      "theta prior tensor([[ 0.9250,  6.5699],\n",
      "        [ 2.8928,  6.5135],\n",
      "        [ 0.3528,  6.2372],\n",
      "        ...,\n",
      "        [-0.6153,  5.0003],\n",
      "        [ 2.2620,  5.2470],\n",
      "        [ 2.7737,  5.5879]])\n",
      "theta tensor([[ 5.0709,  5.9370, -2.0309,  1.1880,  0.9250,  6.5699],\n",
      "        [ 5.4063,  6.1798, -1.7899,  1.5737,  2.8928,  6.5135],\n",
      "        [ 5.0620,  6.1106, -1.6738,  0.7013,  0.3528,  6.2372],\n",
      "        ...,\n",
      "        [ 5.5227,  6.2873, -3.2993,  1.1010, -0.6153,  5.0003],\n",
      "        [ 4.8728,  5.6387, -2.0878,  1.5977,  2.2620,  5.2470],\n",
      "        [ 4.6617,  6.0292, -2.2685,  1.5013,  2.7737,  5.5879]])\n"
     ]
    },
    {
     "data": {
      "application/vnd.jupyter.widget-view+json": {
       "model_id": "78984f4d5a894da29749b6f4d9f1d5ee",
       "version_major": 2,
       "version_minor": 0
      },
      "text/plain": [
       "Running 1000 simulations in 1000 batches.:   0%|          | 0/1000 [00:00<?, ?it/s]"
      ]
     },
     "metadata": {},
     "output_type": "display_data"
    }
   ],
   "source": [
    "#### third round\n",
    "\n",
    "\n",
    "\n",
    "prior3 = utils.torchutils.BoxUniform(low=prior_min[4:6], high = prior_max[4:6])\n",
    "\n",
    "\n",
    "prior_combined2 = Combined(proposal2, prior3, number_params_1=4)\n",
    "\n",
    "\n",
    "\n",
    "inf = SNPE_C(prior_combined2, density_estimator=\"nsf\")\n",
    "\n",
    "density_estimator = 'nsf'\n",
    "\n",
    "\n",
    "simulator_stats, prior = prepare_for_sbi(piecewise_linear_third_batch, prior_combined2)\n",
    "\n",
    "inference = SNPE_C(prior, density_estimator=density_estimator)\n",
    "\n",
    "theta, x_without = simulate_for_sbi(\n",
    "    simulator_stats,\n",
    "    proposal=prior,\n",
    "    num_simulations=num_simulations,\n",
    "    num_workers=4,\n",
    ")"
   ]
  },
  {
   "cell_type": "code",
   "execution_count": 24,
   "metadata": {},
   "outputs": [
    {
     "name": "stdout",
     "output_type": "stream",
     "text": [
      "Neural network successfully converged after 46 epochs.\n"
     ]
    }
   ],
   "source": [
    "x = extract_sumstats(x_without)\n",
    "\n",
    "\n",
    "\n",
    "inf = inf.append_simulations(theta, x)\n",
    "\n",
    "\n",
    "density_estimator = inf.train()\n",
    "\n",
    "posterior3 = inf.build_posterior(density_estimator)"
   ]
  },
  {
   "cell_type": "code",
   "execution_count": 25,
   "metadata": {},
   "outputs": [
    {
     "data": {
      "application/vnd.jupyter.widget-view+json": {
       "model_id": "784ac15c390c467a993b5ec51549d171",
       "version_major": 2,
       "version_minor": 0
      },
      "text/plain": [
       "Drawing 100 posterior samples:   0%|          | 0/100 [00:00<?, ?it/s]"
      ]
     },
     "metadata": {},
     "output_type": "display_data"
    }
   ],
   "source": [
    "obs_real = piecewise_linear_third_batch(true_params)\n",
    "\n",
    "\n",
    "obs_real_stats = extract_sumstats([obs_real])\n",
    "\n",
    "\n",
    "samples = posterior3.sample((num_samples,), x=obs_real_stats)"
   ]
  },
  {
   "cell_type": "code",
   "execution_count": 27,
   "metadata": {},
   "outputs": [
    {
     "name": "stdout",
     "output_type": "stream",
     "text": [
      "start: 12-08-2021_09:30:26 \n",
      "end: 12-08-2021_09:32:41\n"
     ]
    }
   ],
   "source": [
    "end = get_time()\n",
    "\n",
    "\n",
    "print('start:', start, '\\nend:', end)"
   ]
  },
  {
   "cell_type": "code",
   "execution_count": 28,
   "metadata": {},
   "outputs": [],
   "source": [
    "from joblib import Parallel, delayed\n",
    "\n",
    "num_workers = 4\n",
    "x_lin = torch.arange(0,10,0.01, dtype= torch.float32)\n",
    "s_x = Parallel(\n",
    "        n_jobs=num_workers,\n",
    "        verbose=0,\n",
    "        pre_dispatch=\"1.5*n_jobs\",\n",
    "        backend=\"multiprocessing\",\n",
    "    )(delayed(piecewise_linear_third_batch)(sample) for sample in samples)"
   ]
  },
  {
   "cell_type": "code",
   "execution_count": 29,
   "metadata": {},
   "outputs": [
    {
     "data": {
      "image/png": "[encoded data removed]",
      "text/plain": [
       "<Figure size 432x288 with 1 Axes>"
      ]
     },
     "metadata": {
      "needs_background": "light"
     },
     "output_type": "display_data"
    },
    {
     "data": {
      "image/png": "[encoded data removed]",
      "text/plain": [
       "<Figure size 432x288 with 1 Axes>"
      ]
     },
     "metadata": {
      "needs_background": "light"
     },
     "output_type": "display_data"
    }
   ],
   "source": [
    "fig, ax = plt.subplots(1, 1)\n",
    "ax.set_title(\"Simulating from posterior\")\n",
    "for s in s_x:\n",
    "    im = plt.plot(x_lin, s, alpha=0.1, color='blue')\n",
    "    plt.ylim(-10,30)\n",
    "plt.plot(x_lin, obs_real, label='Ground truth', color='red')\n",
    "plt.legend()\n",
    "    \n",
    "    \n",
    "    \n",
    "fig, ax = plt.subplots(1, 1)\n",
    "ax.set_title(\"Simulating from prior\")\n",
    "for x_w in x_without:\n",
    "    plt.plot(x_lin, x_w, alpha=0.1, color='blue')\n",
    "\n",
    "    plt.ylim(-10,30)\n",
    "\n",
    "\n",
    "    \n",
    "    \n",
    "true_params = [5, 5, -3, 2, 1, 5]\n",
    "obs_real = piecewise_linear_third_batch(true_params)"
   ]
  },
  {
   "cell_type": "code",
   "execution_count": null,
   "metadata": {},
   "outputs": [],
   "source": [
    "limits = [list(tup) for tup in zip(prior_min, prior_max)]\n",
    "\n",
    "true_params = torch.tensor([[5, 5, -3, 2, 1, 5]])\n",
    "\n",
    "parameter_names = ['a1', 'b', 'a2', 'a3', 'cp1', 'cp2' ]\n",
    "\n",
    "fig, axes = analysis.pairplot(\n",
    "    samples,\n",
    "    limits=limits,\n",
    "    ticks=limits,\n",
    "    figsize=(5, 5),\n",
    "    points=true_params[0:2],\n",
    "    points_offdiag={\"markersize\": 6},\n",
    "    points_colors=\"r\",\n",
    "    #tick_labels=parameter_names\n",
    "    labels=parameter_names,\n",
    ")"
   ]
  },
  {
   "cell_type": "code",
   "execution_count": null,
   "metadata": {},
   "outputs": [],
   "source": [
    "import matplotlib.gridspec as gridspec\n",
    "\n",
    "x = x\n",
    "\n",
    "s_real = obs_real_stats[0]\n",
    "\n",
    "\n",
    "\n",
    "print(x.shape)\n",
    "\n",
    "\n",
    "print(len(s_x))\n",
    "\n",
    "fig = plt.figure(figsize=(10,40), tight_layout=True)\n",
    "\n",
    "gs = gridspec.GridSpec(nrows=x.size(dim=1), ncols=1)\n",
    "\n",
    "\n",
    "sum_stats_names = torch.arange(1, 14, 1)\n",
    "\n",
    "print(sum_stats_names)\n",
    "\n",
    "\n",
    "\n",
    "#fig.suptitle('Summary stats histogram from posterior predictions.', y=0.2, fontsize=16)\n",
    "\n",
    "\n",
    "for i in range(len(sum_stats_names)-1):\n",
    "\n",
    "    globals()['ax%s' % i] = fig.add_subplot(gs[i])\n",
    "\n",
    "    globals()['sum_stats%s' % i] = []\n",
    "    globals()['x%s' % i] = []\n",
    "\n",
    "    for j in range(len(s_x)-1):\n",
    "        globals()['sum_stats%s' % i].append(s_x[j][i])\n",
    "        globals()['x%s' % i].append(x[j][i])\n",
    "\n",
    "\n",
    "\n",
    "    globals()['ax%s' % i].hist(globals()['sum_stats%s' % i],  density=False, facecolor='g', alpha=0.75, histtype='barstacked', label='from posterior')\n",
    "    globals()['ax%s' % i].hist(globals()['x%s' % i],  density=False, facecolor='b', alpha=0.75, histtype='barstacked', label='simulated')\n",
    "    \n",
    "  \n",
    "    globals()['ax%s' % i].set_title('Histogram of summary stat \"{}\" '.format(sum_stats_names[i]), pad=20)\n",
    "    #ax0.set(ylim=(-500, 7000))\n",
    "\n",
    "    globals()['ax%s' % i].axvline(s_real[i], color='red', label='ground truth')\n",
    "    globals()['ax%s' % i].legend(loc='upper right')\n",
    "\n",
    "\n",
    "\n",
    "\n",
    "\n",
    "plt.savefig('Summary_stats_post_prior')"
   ]
  },
  {
   "cell_type": "code",
   "execution_count": null,
   "metadata": {},
   "outputs": [],
   "source": []
  }
 ],
 "metadata": {
  "interpreter": {
   "hash": "126fa1c3f32c28cc7adc0ff61e94b616033ac8f91881516d11a50edd9bdb1b2c"
  },
  "kernelspec": {
   "display_name": "Python 3 (ipykernel)",
   "language": "python",
   "name": "python3"
  },
  "language_info": {
   "codemirror_mode": {
    "name": "ipython",
    "version": 3
   },
   "file_extension": ".py",
   "mimetype": "text/x-python",
   "name": "python",
   "nbconvert_exporter": "python",
   "pygments_lexer": "ipython3",
   "version": "3.8.8"
  }
 },
 "nbformat": 4,
 "nbformat_minor": 2
}
