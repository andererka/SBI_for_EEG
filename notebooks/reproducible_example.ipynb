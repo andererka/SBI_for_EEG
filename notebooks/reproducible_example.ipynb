{
 "cells": [
  {
   "cell_type": "markdown",
   "id": "18ecef64",
   "metadata": {},
   "source": [
    "## Toy example: Inferring the mean of Gaussians\n",
    "\n",
    "#### comparing the multi-round SNPE approach against our new incremental approach.\n",
    "\n",
    "Goal of this little toy example is to show that provided our parameters are independent of each other, we need less simulations to derive a good approximation of our parameters."
   ]
  },
  {
   "cell_type": "code",
   "execution_count": 1,
   "id": "cd32f110",
   "metadata": {},
   "outputs": [],
   "source": [
    "import sys\n",
    "sys.path.append('../code/')\n",
    "\n",
    "import utils\n",
    "from utils.helpers import get_time\n",
    "from utils import inference\n",
    "\n",
    "from utils.sbi_modulated_functions import Combined\n",
    "\n",
    "\n",
    "from utils.helpers import get_time\n",
    "\n",
    "\n",
    "\n",
    "# sbi\n",
    "from sbi import utils as utils\n",
    "from sbi import analysis as analysis\n",
    "from sbi.inference.base import infer\n",
    "from sbi.inference import SNPE, prepare_for_sbi, simulate_for_sbi\n",
    "from sbi.inference import SNPE_C\n",
    "\n",
    "import sbi\n",
    "\n",
    "import pyknos"
   ]
  },
  {
   "cell_type": "code",
   "execution_count": 2,
   "id": "eb05c0a2",
   "metadata": {},
   "outputs": [
    {
     "name": "stdout",
     "output_type": "stream",
     "text": [
      "0.17.2\n"
     ]
    }
   ],
   "source": [
    "print(sbi.__version__)"
   ]
  },
  {
   "cell_type": "code",
   "execution_count": 3,
   "id": "53c8ed3a",
   "metadata": {},
   "outputs": [],
   "source": [
    "import numpy as np\n",
    "import matplotlib.pyplot as plt\n",
    "import torch\n",
    "\n",
    "def Gaussian(thetas, normal_noise=0.1):\n",
    "    \n",
    "    gauss_list = []\n",
    "    \n",
    "    for theta in thetas:\n",
    "    \n",
    "        mu, sigma = theta, normal_noise # mean and standard deviation\n",
    "\n",
    "        s = np.random.normal(mu, sigma, 1)\n",
    "        \n",
    "        gauss_list.append(s[0])\n",
    "        \n",
    "    gauss_obs = torch.tensor(gauss_list)\n",
    "    \n",
    "    return gauss_obs\n",
    "    \n",
    "\n"
   ]
  },
  {
   "cell_type": "markdown",
   "id": "64f8d549",
   "metadata": {},
   "source": [
    "### Calculate posterior for different number of simulations: 1k,  3k, 5k, 10k"
   ]
  },
  {
   "cell_type": "markdown",
   "id": "3e06b59c",
   "metadata": {},
   "source": [
    "### starting with multi-round snpe"
   ]
  },
  {
   "cell_type": "code",
   "execution_count": 4,
   "id": "04a908c9",
   "metadata": {},
   "outputs": [],
   "source": [
    "true_thetas = torch.Tensor([[3.0, 6.0, 20.0, 10.0, 90.0, 55.0, 27.0, 27.0, 4.0, 70.0, 5.0, 66.0, 99.0, 40.0, 45.0]])\n",
    "parameter_names = ['t1', 't2', 't3', 't4', 't5', 't6', 't7', 't8', 't9', 't10', 't11', 't12', 't13', 't14', 't15']\n",
    "\n",
    "prior_max = [100.0] * 15\n",
    "prior_min = [0.0] * 15\n",
    "\n",
    "import datetime"
   ]
  },
  {
   "cell_type": "code",
   "execution_count": null,
   "id": "2f2af52e",
   "metadata": {},
   "outputs": [
    {
     "data": {
      "application/vnd.jupyter.widget-view+json": {
       "model_id": "d4a52a66c9774813a67d9709774e3f16",
       "version_major": 2,
       "version_minor": 0
      },
      "text/plain": [
       "Running 1000 simulations in 1000 batches.:   0%|          | 0/1000 [00:00<?, ?it/s]"
      ]
     },
     "metadata": {},
     "output_type": "display_data"
    },
    {
     "name": "stdout",
     "output_type": "stream",
     "text": [
      " Training neural network. Epochs trained: 460"
     ]
    }
   ],
   "source": [
    "num_simulations_list = [1000]\n",
    "\n",
    "\n",
    "posterior_snpe_list = []\n",
    "\n",
    "obs_real = Gaussian(true_thetas[0])\n",
    "\n",
    "for num_simulations in num_simulations_list:\n",
    "    \n",
    "    \n",
    "    prior = utils.torchutils.BoxUniform(low=prior_min, high = prior_max)\n",
    "    inf = SNPE_C(prior, density_estimator=\"mdn\")\n",
    "    simulator_stats, prior = prepare_for_sbi(Gaussian, prior)\n",
    "\n",
    "    proposal = prior\n",
    "    \n",
    "\n",
    "    for i in range(3):\n",
    "        \n",
    "        start_time = datetime.datetime.now()\n",
    "\n",
    "        theta, x = simulate_for_sbi(\n",
    "            simulator_stats,\n",
    "            proposal=proposal,\n",
    "            num_simulations=num_simulations,\n",
    "            num_workers=8,\n",
    "        )\n",
    "\n",
    "        inf = inf.append_simulations(theta, x, proposal=proposal)\n",
    "        density_estimator = inf.train()\n",
    "\n",
    "        posterior = inf.build_posterior(density_estimator)\n",
    "\n",
    "\n",
    "\n",
    "        proposal = posterior.set_default_x(obs_real)\n",
    "        \n",
    "        finish_time = datetime.datetime.now()\n",
    "\n",
    "        diff_time_snpe = finish_time - start_time\n",
    "        \n",
    "        print('for round ',i, ' time is: ', diff_time_snpe)\n",
    "\n",
    "    posterior_snpe = posterior\n",
    "    \n",
    "    posterior_snpe_list.append(posterior_snpe)\n",
    "    \n",
    "finish_time = datetime.datetime.now()\n",
    "\n",
    "diff_time_snpe = finish_time - start_time"
   ]
  },
  {
   "cell_type": "code",
   "execution_count": 25,
   "id": "fc1fc433",
   "metadata": {},
   "outputs": [
    {
     "name": "stdout",
     "output_type": "stream",
     "text": [
      "0:57:44.220780\n"
     ]
    }
   ],
   "source": [
    "print(diff_time_snpe)"
   ]
  }
 ],
 "metadata": {
  "kernelspec": {
   "display_name": "Python 3 (ipykernel)",
   "language": "python",
   "name": "python3"
  },
  "language_info": {
   "codemirror_mode": {
    "name": "ipython",
    "version": 3
   },
   "file_extension": ".py",
   "mimetype": "text/x-python",
   "name": "python",
   "nbconvert_exporter": "python",
   "pygments_lexer": "ipython3",
   "version": "3.7.11"
  }
 },
 "nbformat": 4,
 "nbformat_minor": 5
}
