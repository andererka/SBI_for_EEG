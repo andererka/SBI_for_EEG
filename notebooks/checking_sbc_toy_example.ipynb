{
 "cells": [
  {
   "cell_type": "markdown",
   "id": "4adc7403",
   "metadata": {},
   "source": [
    "# Exploring parameters\n",
    "\n",
    "#### density plots, post predictive checks etc."
   ]
  },
  {
   "cell_type": "code",
   "execution_count": 1,
   "id": "e788d96d",
   "metadata": {},
   "outputs": [],
   "source": [
    "%load_ext autoreload\n",
    "%autoreload 2\n",
    "import os.path as op\n",
    "import tempfile\n",
    "\n",
    "import matplotlib.pyplot as plt\n",
    "\n",
    "\n",
    "import hnn_core\n",
    "from hnn_core import simulate_dipole, jones_2009_model\n",
    "from hnn_core.viz import plot_dipole\n",
    "\n",
    "\n",
    "import sys\n",
    "sys.path.append('../code/')\n",
    "sys.path.append('../code/utils/')\n",
    "#sys.path.append('../code/sbi/')\n",
    "#sys.path.append('../../results_cluster/')\n",
    "\n",
    "\n",
    "import numpy as np\n",
    "import torch\n",
    "\n",
    "# visualization\n",
    "import matplotlib as mpl\n",
    "import matplotlib.pyplot as plt\n",
    "\n",
    "\n",
    "import os\n",
    "\n",
    "work_dir = '/home/ubuntu/sbi_for_eeg_data/code/'\n",
    "\n",
    "os.chdir(work_dir)\n",
    "\n",
    "#from utils.plot import cov, compare_vars, plot_varchanges\n",
    "#from utils.plot import compare_KLs, plot_KLs\n",
    "#from sbi.inference import potentials\n",
    "import utils.sbi_modulated_functions\n",
    "\n",
    "# sbi\n",
    "from sbi import utils as utils\n",
    "from sbi import analysis as analysis\n",
    "from sbi.inference.base import infer\n",
    "from sbi.inference import SNPE, prepare_for_sbi, simulate_for_sbi\n",
    "\n",
    "from sbi.analysis import conditional_pairplot, conditional_corrcoeff\n",
    "\n",
    "\n",
    "\n",
    "# import the summary statistics that you want to investigate\n",
    "from summary_features.calculate_summary_features import calculate_summary_statistics_alternative as alternative_sumstats\n",
    "from summary_features.calculate_summary_features import calculate_summary_stats_temporal as temporal_sumstats\n",
    "from summary_features.calculate_summary_features import calculate_summary_stats_number as number_sumstats\n",
    "from summary_features.calculate_summary_features import calculate_summary_stats_temporal\n"
   ]
  },
  {
   "cell_type": "code",
   "execution_count": 2,
   "id": "ab993458",
   "metadata": {},
   "outputs": [
    {
     "name": "stdout",
     "output_type": "stream",
     "text": [
      "1.9.1+cu102\n"
     ]
    }
   ],
   "source": [
    "print(torch.__version__)"
   ]
  },
  {
   "cell_type": "code",
   "execution_count": 3,
   "id": "9c212ce0",
   "metadata": {},
   "outputs": [],
   "source": [
    "## defining neuronal network model\n",
    "\n",
    "num_params = 6\n",
    "\n",
    "from utils.simulation_wrapper import set_network_default, SimulationWrapper\n",
    "sim_wrapper = SimulationWrapper(num_params, noise=False)\n"
   ]
  },
  {
   "cell_type": "code",
   "execution_count": 10,
   "id": "230edc87",
   "metadata": {},
   "outputs": [
    {
     "name": "stdout",
     "output_type": "stream",
     "text": [
      "/home/ubuntu\n",
      "/home/ubuntu\n",
      "/home/ubuntu/results/toy_example_mdn_seperate_posteriors\n"
     ]
    }
   ],
   "source": [
    "from utils import inference\n",
    "\n",
    "import pickle\n",
    "from data_load_writer import *\n",
    "from data_load_writer import load_from_file as lf\n",
    "\n",
    "import os\n",
    "\n",
    "work_dir = '/home/ubuntu/'\n",
    "\n",
    "os.chdir(work_dir)\n",
    "\n",
    "\n",
    "\n",
    "import os\n",
    "\n",
    "print(os.getcwd())\n",
    "\n",
    "\n",
    "\n",
    "file = 'toy_example_mdn_seperate_posteriors'\n",
    "\n",
    "\n",
    "print(os.getcwd())\n",
    "\n",
    "os.chdir('results/{}'.format(file))\n",
    "\n",
    "\n",
    "print(os.getcwd())\n",
    "  \n",
    "\n"
   ]
  },
  {
   "cell_type": "code",
   "execution_count": 15,
   "id": "d926f17e",
   "metadata": {},
   "outputs": [],
   "source": [
    "def Gaussian(thetas, normal_noise=1):\n",
    "    \n",
    "    gauss_list = []\n",
    "    \n",
    "    for theta in thetas:\n",
    "    \n",
    "        mu, sigma = theta, normal_noise # mean and standard deviation\n",
    "\n",
    "        s = np.random.normal(mu, sigma, 1)\n",
    "    \n",
    "        \n",
    "        gauss_list.append(s[0])\n",
    "        \n",
    "    gauss_obs = torch.tensor(gauss_list)\n",
    "    \n",
    "    return gauss_obs\n",
    "    \n",
    "\n"
   ]
  },
  {
   "cell_type": "code",
   "execution_count": 12,
   "id": "ca9f7dcc",
   "metadata": {},
   "outputs": [],
   "source": [
    "list_collection = torch.load('list_collection.pt')\n",
    "list_collection_inc = torch.load('list_collection_inc.pt')"
   ]
  },
  {
   "cell_type": "code",
   "execution_count": 17,
   "id": "e8237f2b",
   "metadata": {},
   "outputs": [],
   "source": [
    "prior_max = [100.0] * 15\n",
    "prior_min = [1.0] * 15\n",
    "\n",
    "prior = utils.torchutils.BoxUniform(low=prior_min, high = prior_max)\n",
    "\n",
    "samples_prior = prior.sample((100,))\n",
    "\n",
    "simulator_stats, prior = prepare_for_sbi(Gaussian, prior)"
   ]
  },
  {
   "cell_type": "code",
   "execution_count": 22,
   "id": "540f6cb0",
   "metadata": {},
   "outputs": [
    {
     "data": {
      "text/plain": [
       "tensor([[38.3179,  1.4874, 91.1618,  ..., 35.2115, 93.2423, 22.2037],\n",
       "        [75.7855,  8.0569, 68.9782,  ..., 14.8883, 43.2624, 73.0093],\n",
       "        [65.5938, 99.8322, 51.1990,  ..., 88.6167,  2.7786, 60.0532],\n",
       "        ...,\n",
       "        [73.8853, 22.0493,  4.4097,  ..., 68.5017,  5.3823,  2.2262],\n",
       "        [18.6276, 72.2203, 69.4121,  ..., 24.7348, 21.5656, 26.3542],\n",
       "        [46.5464,  9.5556, 96.4721,  ..., 44.7328, 55.6366, 58.5104]])"
      ]
     },
     "execution_count": 22,
     "metadata": {},
     "output_type": "execute_result"
    }
   ],
   "source": [
    "samples_prior"
   ]
  },
  {
   "cell_type": "code",
   "execution_count": 28,
   "id": "13d13d80",
   "metadata": {},
   "outputs": [
    {
     "name": "stdout",
     "output_type": "stream",
     "text": [
      "[Parallel(n_jobs=1)]: Using backend SequentialBackend with 1 concurrent workers.\n",
      "[Parallel(n_jobs=1)]: Done   1 out of   1 | elapsed:    0.0s remaining:    0.0s\n",
      "[Parallel(n_jobs=1)]: Done   1 out of   1 | elapsed:    0.0s finished\n"
     ]
    }
   ],
   "source": [
    "thetas = inference.run_only_sim([samples_prior], simulation_wrapper = simulator_stats, num_workers=1)[0]"
   ]
  },
  {
   "cell_type": "code",
   "execution_count": 29,
   "id": "3adb8133",
   "metadata": {},
   "outputs": [
    {
     "data": {
      "text/plain": [
       "torch.Size([100, 15])"
      ]
     },
     "execution_count": 29,
     "metadata": {},
     "output_type": "execute_result"
    }
   ],
   "source": [
    "thetas.shape"
   ]
  },
  {
   "cell_type": "code",
   "execution_count": 30,
   "id": "dd023585",
   "metadata": {},
   "outputs": [],
   "source": [
    "from sbi.analysis.sbc import check_sbc, run_sbc, get_nltp\n",
    "from sbi.analysis.plot import sbc_rank_plot\n",
    "from sbi.inference import SNPE, SNPE_C, prepare_for_sbi, simulate_for_sbi\n",
    "from sbi.simulators import linear_gaussian, diagonal_linear_gaussian"
   ]
  },
  {
   "cell_type": "code",
   "execution_count": 31,
   "id": "75a95b59",
   "metadata": {},
   "outputs": [],
   "source": [
    "#thetas = torch.stack(([samples_prior[i] for i in range(len(samples_prior))]))\n",
    "xs = samples_prior"
   ]
  },
  {
   "cell_type": "code",
   "execution_count": 73,
   "id": "09ffc900",
   "metadata": {},
   "outputs": [
    {
     "data": {
      "application/vnd.jupyter.widget-view+json": {
       "model_id": "b00bed334c384940bf383b02aff9e3b5",
       "version_major": 2,
       "version_minor": 0
      },
      "text/plain": [
       "Drawing 1000 posterior samples:   0%|          | 0/1000 [00:00<?, ?it/s]"
      ]
     },
     "metadata": {},
     "output_type": "display_data"
    },
    {
     "data": {
      "text/plain": [
       "tensor([[4.9720e-02, 1.9231e+01, 1.6711e-02, 6.1002e+01, 7.4212e-02, 1.1468e+02],\n",
       "        [3.2012e-02, 1.9392e+01, 1.7936e-02, 6.2570e+01, 3.4590e-02, 1.1599e+02],\n",
       "        [5.3737e-02, 1.9460e+01, 2.8572e-03, 6.1723e+01, 2.1022e-01, 1.1322e+02],\n",
       "        ...,\n",
       "        [6.5962e-02, 2.0285e+01, 7.5865e-03, 6.1476e+01, 5.8498e-02, 1.1233e+02],\n",
       "        [5.3234e-02, 1.9263e+01, 8.2176e-03, 6.1631e+01, 2.7745e-02, 1.1345e+02],\n",
       "        [6.3074e-02, 1.8466e+01, 1.3858e-02, 6.1144e+01, 6.8865e-02, 1.1506e+02]])"
      ]
     },
     "execution_count": 73,
     "metadata": {},
     "output_type": "execute_result"
    }
   ],
   "source": [
    "posterior.sample((1000,))"
   ]
  },
  {
   "cell_type": "code",
   "execution_count": 32,
   "id": "34e6b82a",
   "metadata": {},
   "outputs": [
    {
     "ename": "NameError",
     "evalue": "name 'posterior' is not defined",
     "output_type": "error",
     "traceback": [
      "\u001b[0;31m---------------------------------------------------------------------------\u001b[0m",
      "\u001b[0;31mNameError\u001b[0m                                 Traceback (most recent call last)",
      "\u001b[0;32m/tmp/ipykernel_4094165/2512398105.py\u001b[0m in \u001b[0;36m<module>\u001b[0;34m\u001b[0m\n\u001b[1;32m      1\u001b[0m \u001b[0;31m# run SBC: for each inference we draw 1000 posterior samples.\u001b[0m\u001b[0;34m\u001b[0m\u001b[0;34m\u001b[0m\u001b[0;34m\u001b[0m\u001b[0m\n\u001b[1;32m      2\u001b[0m \u001b[0mnum_posterior_samples\u001b[0m \u001b[0;34m=\u001b[0m \u001b[0;36m1000\u001b[0m\u001b[0;34m\u001b[0m\u001b[0;34m\u001b[0m\u001b[0m\n\u001b[0;32m----> 3\u001b[0;31m \u001b[0mranks\u001b[0m\u001b[0;34m,\u001b[0m \u001b[0mdap_samples\u001b[0m \u001b[0;34m=\u001b[0m \u001b[0mrun_sbc\u001b[0m\u001b[0;34m(\u001b[0m\u001b[0mthetas\u001b[0m\u001b[0;34m,\u001b[0m \u001b[0mxs\u001b[0m\u001b[0;34m,\u001b[0m \u001b[0mposterior\u001b[0m\u001b[0;34m,\u001b[0m \u001b[0mnum_posterior_samples\u001b[0m\u001b[0;34m=\u001b[0m\u001b[0mnum_posterior_samples\u001b[0m\u001b[0;34m)\u001b[0m\u001b[0;34m\u001b[0m\u001b[0;34m\u001b[0m\u001b[0m\n\u001b[0m\u001b[1;32m      4\u001b[0m \u001b[0;34m\u001b[0m\u001b[0m\n\u001b[1;32m      5\u001b[0m \u001b[0mcheck_stats\u001b[0m \u001b[0;34m=\u001b[0m \u001b[0mcheck_sbc\u001b[0m\u001b[0;34m(\u001b[0m\u001b[0mranks\u001b[0m\u001b[0;34m,\u001b[0m \u001b[0mthetas\u001b[0m\u001b[0;34m,\u001b[0m \u001b[0mdap_samples\u001b[0m\u001b[0;34m,\u001b[0m \u001b[0mnum_posterior_samples\u001b[0m\u001b[0;34m=\u001b[0m\u001b[0mnum_posterior_samples\u001b[0m\u001b[0;34m)\u001b[0m\u001b[0;34m\u001b[0m\u001b[0;34m\u001b[0m\u001b[0m\n",
      "\u001b[0;31mNameError\u001b[0m: name 'posterior' is not defined"
     ]
    }
   ],
   "source": [
    "# run SBC: for each inference we draw 1000 posterior samples.\n",
    "num_posterior_samples = 1000\n",
    "ranks, dap_samples = run_sbc(thetas, xs, posterior, num_posterior_samples=num_posterior_samples)\n",
    "\n",
    "check_stats = check_sbc(ranks, thetas, dap_samples, num_posterior_samples=num_posterior_samples)\n",
    "\n",
    "\n",
    "print(f\"kolmogorov-smirnov p-values \\ncheck_stats['ks_pvals'] = {check_stats['ks_pvals'].numpy()}\")\n"
   ]
  },
  {
   "cell_type": "code",
   "execution_count": 87,
   "id": "9b20d553",
   "metadata": {},
   "outputs": [
    {
     "name": "stdout",
     "output_type": "stream",
     "text": [
      "c2st accuracies \n",
      "check_stats['c2st_ranks'] = [0.8   0.905 0.95  0.91  0.875 0.79 ]\n",
      "- c2st accuracies check_stats['c2st_dap'] = [0.82  0.935 0.96  0.895 0.72  0.625]\n"
     ]
    }
   ],
   "source": [
    "print(f\"c2st accuracies \\ncheck_stats['c2st_ranks'] = {check_stats['c2st_ranks'].numpy()}\")\n",
    "print(f\"- c2st accuracies check_stats['c2st_dap'] = {check_stats['c2st_dap'].numpy()}\")\n"
   ]
  },
  {
   "cell_type": "code",
   "execution_count": 88,
   "id": "aaa66757",
   "metadata": {},
   "outputs": [
    {
     "data": {
      "image/png": "[encoded data removed]",
      "text/plain": [
       "<Figure size 1728x720 with 8 Axes>"
      ]
     },
     "metadata": {},
     "output_type": "display_data"
    }
   ],
   "source": [
    "from sbi.analysis.plot import sbc_rank_plot\n",
    "\n",
    "f, ax = sbc_rank_plot(ranks=ranks,\n",
    "                      num_posterior_samples=num_posterior_samples,\n",
    "                      plot_type=\"hist\",\n",
    "                      num_bins=10 # by passing None we use a heuristic for the number of bins.\n",
    "                      )"
   ]
  },
  {
   "cell_type": "code",
   "execution_count": 85,
   "id": "13f1fa22",
   "metadata": {},
   "outputs": [
    {
     "data": {
      "image/png": "[encoded data removed]",
      "text/plain": [
       "<Figure size 576x360 with 1 Axes>"
      ]
     },
     "metadata": {},
     "output_type": "display_data"
    }
   ],
   "source": [
    "f, ax = sbc_rank_plot(ranks, 1_000, plot_type = \"cdf\")"
   ]
  },
  {
   "cell_type": "code",
   "execution_count": null,
   "id": "5a1037c3",
   "metadata": {},
   "outputs": [],
   "source": []
  }
 ],
 "metadata": {
  "kernelspec": {
   "display_name": "Python 3 (ipykernel)",
   "language": "python",
   "name": "python3"
  },
  "language_info": {
   "codemirror_mode": {
    "name": "ipython",
    "version": 3
   },
   "file_extension": ".py",
   "mimetype": "text/x-python",
   "name": "python",
   "nbconvert_exporter": "python",
   "pygments_lexer": "ipython3",
   "version": "3.7.11"
  }
 },
 "nbformat": 4,
 "nbformat_minor": 5
}
