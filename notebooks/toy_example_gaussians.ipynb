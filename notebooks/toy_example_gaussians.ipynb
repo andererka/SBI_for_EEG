{
 "cells": [
  {
   "cell_type": "markdown",
   "id": "18ecef64",
   "metadata": {},
   "source": [
    "## Toy example: Inferring the mean of Gaussians\n",
    "\n",
    "#### comparing the multi-round SNPE approach against our new incremental approach.\n",
    "\n",
    "Goal of this little toy example is to show that provided our parameters are independent of each other, we need less simulations to derive a good approximation of our parameters."
   ]
  },
  {
   "cell_type": "code",
   "execution_count": 1,
   "id": "cd32f110",
   "metadata": {},
   "outputs": [],
   "source": [
    "import sys\n",
    "sys.path.append('../code/')\n",
    "\n",
    "import utils\n",
    "from utils.helpers import get_time\n",
    "from utils import inference\n",
    "\n",
    "from utils.sbi_modulated_functions import Combined\n",
    "\n",
    "\n",
    "from utils.helpers import get_time\n",
    "\n",
    "from utils.simulation_wrapper import SimulationWrapper\n",
    "\n",
    "\n",
    "# sbi\n",
    "from sbi import utils as utils\n",
    "from sbi import analysis as analysis\n",
    "from sbi.inference.base import infer\n",
    "from sbi.inference import SNPE, prepare_for_sbi, simulate_for_sbi\n",
    "from sbi.inference import SNPE_C\n",
    "\n",
    "import sbi\n"
   ]
  },
  {
   "cell_type": "markdown",
   "id": "600e4438",
   "metadata": {},
   "source": [
    "Defining a function (Gaussian) that takes a arbitrary number of thetas (parameters for a Gaussian mean) and samples from a Gaussian with this mean and a standard deviation of 0.1"
   ]
  },
  {
   "cell_type": "code",
   "execution_count": 99,
   "id": "53c8ed3a",
   "metadata": {},
   "outputs": [],
   "source": [
    "import numpy as np\n",
    "import matplotlib.pyplot as plt\n",
    "import torch\n",
    "\n",
    "\n",
    "def Gaussian(thetas, normal_noise=1):\n",
    "    \n",
    "    gauss_list = []\n",
    "    \n",
    "    for theta in thetas:\n",
    "    \n",
    "        mu, sigma = theta, normal_noise # mean and standard deviation\n",
    "\n",
    "        s = np.random.normal(mu, sigma, 1)\n",
    "    \n",
    "        \n",
    "        gauss_list.append(s[0])\n",
    "        \n",
    "    gauss_obs = torch.tensor(gauss_list)\n",
    "    \n",
    "    return gauss_obs\n",
    "    \n",
    "\n"
   ]
  },
  {
   "cell_type": "markdown",
   "id": "996f120c",
   "metadata": {},
   "source": [
    "### Larger comparison with KL-divergence between analytic and inferred posterior"
   ]
  },
  {
   "cell_type": "markdown",
   "id": "64f8d549",
   "metadata": {},
   "source": [
    "### Calculate posterior for different number of simulations: 1k,  3k, 5k, 10k"
   ]
  },
  {
   "cell_type": "markdown",
   "id": "3e06b59c",
   "metadata": {},
   "source": [
    "### starting with multi-round snpe"
   ]
  },
  {
   "cell_type": "code",
   "execution_count": 13,
   "id": "26682c86",
   "metadata": {},
   "outputs": [],
   "source": [
    "true_thetas = torch.tensor([[3.0, 6.0, 20.0, 10.0, 90.0, 55.0, 27.0, 27.0, 4.0, 70.0, 5.0, 66.0, 99.0, 40.0, 45.0]])\n",
    "parameter_names = ['t1', 't2', 't3', 't4', 't5', 't6', 't7', 't8', 't9', 't10', 't11', 't12', 't13', 't14', 't15']\n",
    "\n",
    "prior_max = [100.0] * 15\n",
    "prior_min = [1.0] * 15"
   ]
  },
  {
   "cell_type": "code",
   "execution_count": 104,
   "id": "b773485c",
   "metadata": {},
   "outputs": [],
   "source": [
    "num_simulations_list = [200, 600, 1000]\n"
   ]
  },
  {
   "cell_type": "code",
   "execution_count": 105,
   "id": "85d458e1",
   "metadata": {},
   "outputs": [
    {
     "data": {
      "text/plain": [
       "tensor([ 6.8940,  7.9322, 23.9831,  8.6816, 88.0527, 59.9453, 27.9596, 27.3262,\n",
       "         2.6983, 74.0692,  6.3046, 67.3384, 97.5013, 40.3101, 44.0419],\n",
       "       dtype=torch.float64)"
      ]
     },
     "execution_count": 105,
     "metadata": {},
     "output_type": "execute_result"
    }
   ],
   "source": [
    "obs_real = Gaussian(true_thetas[0])\n",
    "\n",
    "obs_real\n"
   ]
  },
  {
   "cell_type": "code",
   "execution_count": 108,
   "id": "fc1fc433",
   "metadata": {},
   "outputs": [
    {
     "data": {
      "application/vnd.jupyter.widget-view+json": {
       "model_id": "7d6fe702abb84c5ba2f26b497e584f1b",
       "version_major": 2,
       "version_minor": 0
      },
      "text/plain": [
       "Running 200 simulations in 200 batches.:   0%|          | 0/200 [00:00<?, ?it/s]"
      ]
     },
     "metadata": {},
     "output_type": "display_data"
    },
    {
     "name": "stdout",
     "output_type": "stream",
     "text": [
      "x tensor([[29.5543, 69.1252,  7.0932,  ..., 10.0641, 60.5741, 14.4170],\n",
      "        [25.8026, 78.8597, 88.5794,  ..., 53.8155, 26.1796, 91.6474],\n",
      "        [74.2855, 44.9264,  3.5378,  ..., 98.7273,  5.7420, 55.3283],\n",
      "        ...,\n",
      "        [80.8657, 95.4497, 15.5981,  ..., 41.3390, 12.8622, 68.6849],\n",
      "        [82.4576, 38.1675, 32.3249,  ..., 81.2633, 98.4594, 99.8018],\n",
      "        [63.4045, 65.1382, 27.6070,  ...,  6.3744, 90.1379, 34.6920]])\n",
      "Neural network successfully converged after 31 epochs.\n"
     ]
    },
    {
     "data": {
      "application/vnd.jupyter.widget-view+json": {
       "model_id": "dad8ee849a1149279b2e9390254e317e",
       "version_major": 2,
       "version_minor": 0
      },
      "text/plain": [
       "Drawing 200 posterior samples:   0%|          | 0/200 [00:00<?, ?it/s]"
      ]
     },
     "metadata": {},
     "output_type": "display_data"
    },
    {
     "data": {
      "application/vnd.jupyter.widget-view+json": {
       "model_id": "a8d6b667976e47cba6b2632b1548c52a",
       "version_major": 2,
       "version_minor": 0
      },
      "text/plain": [
       "Running 200 simulations in 200 batches.:   0%|          | 0/200 [00:00<?, ?it/s]"
      ]
     },
     "metadata": {},
     "output_type": "display_data"
    },
    {
     "name": "stdout",
     "output_type": "stream",
     "text": [
      "x tensor([[65.9187, 46.0576, 27.6040,  ..., 67.4010,  9.3969, 10.1136],\n",
      "        [82.5501, 40.0444, 33.6301,  ..., 74.6665, 90.4638, 27.8498],\n",
      "        [37.9282, 47.7815, 84.2523,  ..., 48.7983, 69.4063, 12.9640],\n",
      "        ...,\n",
      "        [64.3778, 14.8019, 66.4119,  ..., 37.4217, 61.1346, 78.6727],\n",
      "        [12.7976, 38.9315, 74.7241,  ..., 93.9517, 26.7531, 25.6024],\n",
      "        [43.9278, 60.6582, 78.5570,  ..., 85.2773, 30.2584, 72.7269]])\n",
      "Neural network successfully converged after 27 epochs.\n"
     ]
    },
    {
     "data": {
      "application/vnd.jupyter.widget-view+json": {
       "model_id": "79d99dcaf102466faf868900edcbe9a1",
       "version_major": 2,
       "version_minor": 0
      },
      "text/plain": [
       "Drawing 200 posterior samples:   0%|          | 0/200 [00:00<?, ?it/s]"
      ]
     },
     "metadata": {},
     "output_type": "display_data"
    },
    {
     "data": {
      "application/vnd.jupyter.widget-view+json": {
       "model_id": "bda2ef8b79bc4abc9edfde9a91530ddd",
       "version_major": 2,
       "version_minor": 0
      },
      "text/plain": [
       "Running 200 simulations in 200 batches.:   0%|          | 0/200 [00:00<?, ?it/s]"
      ]
     },
     "metadata": {},
     "output_type": "display_data"
    },
    {
     "name": "stdout",
     "output_type": "stream",
     "text": [
      "x tensor([[91.9272, 78.3915, 46.0128,  ..., 63.7168, 33.7446, 18.9410],\n",
      "        [18.5967, 26.7528, 18.9536,  ...,  3.0649, 86.6848, 60.7211],\n",
      "        [21.3048, 25.7291, 11.9317,  ..., 58.0710, 39.8147, 60.2168],\n",
      "        ...,\n",
      "        [23.5610, 70.9552, 72.1047,  ..., 57.9678, 63.2419, 64.9415],\n",
      "        [45.6450, 49.0875, 24.9126,  ..., 27.3653, 65.6924, 95.7913],\n",
      "        [30.8110, 32.8948, 71.5182,  ..., 90.3688, 52.8944,  9.8875]])\n",
      "Neural network successfully converged after 67 epochs.\n"
     ]
    },
    {
     "data": {
      "application/vnd.jupyter.widget-view+json": {
       "model_id": "8c4b0ca032d94359956fb3da7d0d307b",
       "version_major": 2,
       "version_minor": 0
      },
      "text/plain": [
       "Running 600 simulations in 600 batches.:   0%|          | 0/600 [00:00<?, ?it/s]"
      ]
     },
     "metadata": {},
     "output_type": "display_data"
    },
    {
     "name": "stdout",
     "output_type": "stream",
     "text": [
      "x tensor([[ 6.2174,  9.8713, 30.6394,  ..., 10.8160, 84.4868, 24.0144],\n",
      "        [19.8807, 45.7205, 55.2879,  ..., 47.1911, 66.3533, 30.0467],\n",
      "        [40.4574, 50.1769, 86.9294,  ..., 78.9959, 30.2084, 72.6975],\n",
      "        ...,\n",
      "        [76.9945, 65.1503,  6.8263,  ..., 79.3989, 31.0210, 35.5437],\n",
      "        [90.3969, 51.2731, 83.6162,  ..., 26.8635, 40.4548, 88.7356],\n",
      "        [29.4670, 39.1103, 20.1918,  ..., 33.1749, 17.9189, 96.5458]])\n",
      "Neural network successfully converged after 62 epochs.\n"
     ]
    },
    {
     "data": {
      "application/vnd.jupyter.widget-view+json": {
       "model_id": "f89fd8d825c64965a2037a4a06c2fc11",
       "version_major": 2,
       "version_minor": 0
      },
      "text/plain": [
       "Drawing 600 posterior samples:   0%|          | 0/600 [00:00<?, ?it/s]"
      ]
     },
     "metadata": {},
     "output_type": "display_data"
    },
    {
     "data": {
      "application/vnd.jupyter.widget-view+json": {
       "model_id": "c7e5cf7c433c4f84a05fe441c596af1c",
       "version_major": 2,
       "version_minor": 0
      },
      "text/plain": [
       "Running 600 simulations in 600 batches.:   0%|          | 0/600 [00:00<?, ?it/s]"
      ]
     },
     "metadata": {},
     "output_type": "display_data"
    },
    {
     "name": "stdout",
     "output_type": "stream",
     "text": [
      "x tensor([[ 6.6970, 23.2816, 97.7652,  ..., 77.0814, 31.9614, 18.3708],\n",
      "        [26.7464, 10.3040, 68.6610,  ..., 14.0217, 57.9732, 33.2881],\n",
      "        [48.7549, 16.2217, 61.1715,  ..., 39.7184, 35.6216, 51.4676],\n",
      "        ...,\n",
      "        [28.8471,  5.2394, 38.6966,  ..., 60.8157, 81.0104, 72.9209],\n",
      "        [ 0.3700, 10.7351, 74.1942,  ..., 12.1778, 70.9680, 44.1482],\n",
      "        [ 9.2145, 15.5045, 59.6426,  ..., 41.2523, 51.3694, 26.8549]])\n",
      "Neural network successfully converged after 54 epochs.\n"
     ]
    },
    {
     "data": {
      "application/vnd.jupyter.widget-view+json": {
       "model_id": "0d7f1bfdc7fb4e0aa7c4e10c7c1434e3",
       "version_major": 2,
       "version_minor": 0
      },
      "text/plain": [
       "Drawing 600 posterior samples:   0%|          | 0/600 [00:00<?, ?it/s]"
      ]
     },
     "metadata": {},
     "output_type": "display_data"
    },
    {
     "data": {
      "application/vnd.jupyter.widget-view+json": {
       "model_id": "b0845a57088845e586bf5bb26c0a68a9",
       "version_major": 2,
       "version_minor": 0
      },
      "text/plain": [
       "Running 600 simulations in 600 batches.:   0%|          | 0/600 [00:00<?, ?it/s]"
      ]
     },
     "metadata": {},
     "output_type": "display_data"
    },
    {
     "name": "stdout",
     "output_type": "stream",
     "text": [
      "x tensor([[10.2011,  8.3115, 19.4782,  ..., 98.5651, 22.3327, 45.5748],\n",
      "        [ 2.3015,  2.7264, 22.6850,  ..., 71.0944, 56.6246, 29.7048],\n",
      "        [ 2.8814,  7.0740, 50.2124,  ..., 78.5259, 43.3880, 28.2028],\n",
      "        ...,\n",
      "        [10.6753,  5.9038, 20.9582,  ..., 94.4047, 45.8270, 48.9783],\n",
      "        [ 5.4015,  7.2923, 36.1249,  ..., 76.4098, 35.0621, 27.9992],\n",
      "        [ 2.7293,  4.2813, 47.6259,  ..., 71.4765, 38.7750, 32.4740]])\n",
      "Neural network successfully converged after 34 epochs.\n"
     ]
    },
    {
     "data": {
      "application/vnd.jupyter.widget-view+json": {
       "model_id": "c7c21c8f00424bbba1997763624502f0",
       "version_major": 2,
       "version_minor": 0
      },
      "text/plain": [
       "Running 1000 simulations in 1000 batches.:   0%|          | 0/1000 [00:00<?, ?it/s]"
      ]
     },
     "metadata": {},
     "output_type": "display_data"
    },
    {
     "name": "stdout",
     "output_type": "stream",
     "text": [
      "x tensor([[38.4664, 92.8276, 69.1740,  ..., 20.4030, 10.0323, 85.7175],\n",
      "        [ 4.3969, 63.3761, 17.9489,  ..., 69.8461, 42.1399, 49.9372],\n",
      "        [69.6774, 25.8450, 52.0173,  ..., 87.6767, 86.0506, 19.2816],\n",
      "        ...,\n",
      "        [78.4199, 38.8341, 83.4138,  ..., 80.9479, 31.4918, 86.6760],\n",
      "        [42.0141, 74.8781, 56.7153,  ..., 13.0329, 14.4986, 43.9469],\n",
      "        [54.6636, 96.2692,  4.5409,  ..., 10.2316, 57.9411,  1.4100]])\n",
      "Neural network successfully converged after 592 epochs.\n"
     ]
    },
    {
     "data": {
      "application/vnd.jupyter.widget-view+json": {
       "model_id": "45da274e8eec46dbab896ae419840751",
       "version_major": 2,
       "version_minor": 0
      },
      "text/plain": [
       "Drawing 1000 posterior samples:   0%|          | 0/1000 [00:00<?, ?it/s]"
      ]
     },
     "metadata": {},
     "output_type": "display_data"
    },
    {
     "data": {
      "application/vnd.jupyter.widget-view+json": {
       "model_id": "5f0e791c1e214cc59000610982630e99",
       "version_major": 2,
       "version_minor": 0
      },
      "text/plain": [
       "Running 1000 simulations in 1000 batches.:   0%|          | 0/1000 [00:00<?, ?it/s]"
      ]
     },
     "metadata": {},
     "output_type": "display_data"
    },
    {
     "name": "stdout",
     "output_type": "stream",
     "text": [
      "x tensor([[ 3.6608, -0.8078, 25.7879,  ..., 96.1727, 43.1131, 44.5155],\n",
      "        [ 5.1151, -5.4517, 17.6453,  ..., 90.7903, 44.7124, 50.2487],\n",
      "        [-0.6548,  3.6139, 23.3307,  ..., 94.9330, 52.2099, 46.4195],\n",
      "        ...,\n",
      "        [ 2.7528,  4.7885, 20.4450,  ..., 99.0060, 40.8233, 47.8465],\n",
      "        [ 5.6508,  2.7443, 21.2499,  ..., 95.0311, 37.8860, 37.8206],\n",
      "        [-0.8073,  1.7257, 26.3134,  ..., 94.7852, 45.9010, 49.7925]])\n",
      "Neural network successfully converged after 98 epochs.\n"
     ]
    },
    {
     "data": {
      "application/vnd.jupyter.widget-view+json": {
       "model_id": "ed219d87affb4fd4b4b15d5fa98436f1",
       "version_major": 2,
       "version_minor": 0
      },
      "text/plain": [
       "Drawing 1000 posterior samples:   0%|          | 0/1000 [00:00<?, ?it/s]"
      ]
     },
     "metadata": {},
     "output_type": "display_data"
    },
    {
     "data": {
      "application/vnd.jupyter.widget-view+json": {
       "model_id": "37fecbbf7361490c836c145b6030f032",
       "version_major": 2,
       "version_minor": 0
      },
      "text/plain": [
       "Running 1000 simulations in 1000 batches.:   0%|          | 0/1000 [00:00<?, ?it/s]"
      ]
     },
     "metadata": {},
     "output_type": "display_data"
    },
    {
     "name": "stdout",
     "output_type": "stream",
     "text": [
      "x tensor([[ 5.7832,  6.5132, 26.4616,  ..., 93.8376, 38.7271, 49.0369],\n",
      "        [ 5.0843,  4.1958, 24.3428,  ..., 94.2381, 38.4505, 48.2352],\n",
      "        [ 4.9480,  5.5767, 17.5487,  ..., 98.8529, 39.1187, 46.7578],\n",
      "        ...,\n",
      "        [ 1.5911,  4.1176, 17.4827,  ..., 95.6774, 41.8727, 43.9351],\n",
      "        [ 4.1555,  2.7750, 19.1093,  ..., 94.9980, 42.0254, 47.6757],\n",
      "        [ 3.0573, -1.8807, 22.7920,  ..., 96.3889, 42.5092, 50.7061]])\n",
      "Neural network successfully converged after 299 epochs.\n",
      "0:18:36.737414\n"
     ]
    }
   ],
   "source": [
    "torch.manual_seed(4)\n",
    "list_collection = []\n",
    "\n",
    "import datetime\n",
    "\n",
    "obs_real = Gaussian(true_thetas[0])\n",
    "\n",
    "start = datetime.datetime.now()\n",
    "\n",
    "for i in range(1):\n",
    "    \n",
    "\n",
    "    posterior_snpe_list = []\n",
    "\n",
    "    for num_simulations in num_simulations_list:\n",
    "        \n",
    "        prior = utils.torchutils.BoxUniform(low=prior_min, high = prior_max)\n",
    "        simulator_stats, prior = prepare_for_sbi(Gaussian, prior)\n",
    "        \n",
    "        inf = SNPE_C(prior, density_estimator=\"mdn\")\n",
    "        \n",
    "        proposal = prior\n",
    "\n",
    "        for j in range(3):\n",
    "            \n",
    "            theta, x = simulate_for_sbi(\n",
    "                simulator_stats,\n",
    "                proposal=proposal,\n",
    "                num_simulations=num_simulations,\n",
    "                num_workers=8,\n",
    "            )\n",
    "            \n",
    "            print('x', x)\n",
    "\n",
    "            neural_dens = inf.append_simulations(theta, x).train()\n",
    "\n",
    "\n",
    "            posterior = inf.build_posterior(neural_dens)\n",
    "\n",
    "\n",
    "\n",
    "            proposal = posterior.set_default_x(obs_real)\n",
    "\n",
    "\n",
    "        posterior_snpe = posterior\n",
    "\n",
    "        posterior_snpe_list.append(posterior_snpe)\n",
    "        \n",
    "    list_collection.append(posterior_snpe_list)\n",
    "    \n",
    "end = datetime.datetime.now()\n",
    "\n",
    "diff  = end - start\n",
    "\n",
    "print(diff)"
   ]
  },
  {
   "cell_type": "code",
   "execution_count": 109,
   "id": "bfb4e382",
   "metadata": {},
   "outputs": [
    {
     "name": "stdout",
     "output_type": "stream",
     "text": [
      "0:18:36.737414\n"
     ]
    }
   ],
   "source": [
    "print(diff)"
   ]
  },
  {
   "cell_type": "code",
   "execution_count": 110,
   "id": "dad8de51",
   "metadata": {},
   "outputs": [],
   "source": [
    "torch.save(list_collection, 'list_collection.pt')"
   ]
  },
  {
   "cell_type": "code",
   "execution_count": 79,
   "id": "c12ef0b2",
   "metadata": {},
   "outputs": [],
   "source": [
    "list_collection = torch.load('list_collection.pt')"
   ]
  },
  {
   "cell_type": "code",
   "execution_count": 9,
   "id": "1955e8a9",
   "metadata": {},
   "outputs": [
    {
     "data": {
      "text/plain": [
       "[[DirectPosterior sampler for potential_fn=<PosteriorBasedPotential>,\n",
       "  DirectPosterior sampler for potential_fn=<PosteriorBasedPotential>,\n",
       "  DirectPosterior sampler for potential_fn=<PosteriorBasedPotential>,\n",
       "  DirectPosterior sampler for potential_fn=<PosteriorBasedPotential>,\n",
       "  DirectPosterior sampler for potential_fn=<PosteriorBasedPotential>],\n",
       " [DirectPosterior sampler for potential_fn=<PosteriorBasedPotential>,\n",
       "  DirectPosterior sampler for potential_fn=<PosteriorBasedPotential>,\n",
       "  DirectPosterior sampler for potential_fn=<PosteriorBasedPotential>,\n",
       "  DirectPosterior sampler for potential_fn=<PosteriorBasedPotential>,\n",
       "  DirectPosterior sampler for potential_fn=<PosteriorBasedPotential>],\n",
       " [DirectPosterior sampler for potential_fn=<PosteriorBasedPotential>,\n",
       "  DirectPosterior sampler for potential_fn=<PosteriorBasedPotential>,\n",
       "  DirectPosterior sampler for potential_fn=<PosteriorBasedPotential>,\n",
       "  DirectPosterior sampler for potential_fn=<PosteriorBasedPotential>,\n",
       "  DirectPosterior sampler for potential_fn=<PosteriorBasedPotential>],\n",
       " [DirectPosterior sampler for potential_fn=<PosteriorBasedPotential>,\n",
       "  DirectPosterior sampler for potential_fn=<PosteriorBasedPotential>,\n",
       "  DirectPosterior sampler for potential_fn=<PosteriorBasedPotential>,\n",
       "  DirectPosterior sampler for potential_fn=<PosteriorBasedPotential>,\n",
       "  DirectPosterior sampler for potential_fn=<PosteriorBasedPotential>],\n",
       " [DirectPosterior sampler for potential_fn=<PosteriorBasedPotential>,\n",
       "  DirectPosterior sampler for potential_fn=<PosteriorBasedPotential>,\n",
       "  DirectPosterior sampler for potential_fn=<PosteriorBasedPotential>,\n",
       "  DirectPosterior sampler for potential_fn=<PosteriorBasedPotential>,\n",
       "  DirectPosterior sampler for potential_fn=<PosteriorBasedPotential>]]"
      ]
     },
     "execution_count": 9,
     "metadata": {},
     "output_type": "execute_result"
    }
   ],
   "source": [
    "list_collection"
   ]
  },
  {
   "cell_type": "markdown",
   "id": "cf8a483f",
   "metadata": {},
   "source": [
    "### For incremental approach: "
   ]
  },
  {
   "cell_type": "code",
   "execution_count": 111,
   "id": "047f28ad",
   "metadata": {},
   "outputs": [
    {
     "name": "stdout",
     "output_type": "stream",
     "text": [
      "5 10\n"
     ]
    },
    {
     "data": {
      "application/vnd.jupyter.widget-view+json": {
       "model_id": "41615fef2e964b54a8156320f5144a8c",
       "version_major": 2,
       "version_minor": 0
      },
      "text/plain": [
       "Running 200 simulations in 200 batches.:   0%|          | 0/200 [00:00<?, ?it/s]"
      ]
     },
     "metadata": {},
     "output_type": "display_data"
    },
    {
     "name": "stdout",
     "output_type": "stream",
     "text": [
      "Neural network successfully converged after 129 epochs.\n"
     ]
    },
    {
     "data": {
      "application/vnd.jupyter.widget-view+json": {
       "model_id": "ab9d776aa7db4d9eb0b5b049428b4321",
       "version_major": 2,
       "version_minor": 0
      },
      "text/plain": [
       "Drawing 1 posterior samples:   0%|          | 0/1 [00:00<?, ?it/s]"
      ]
     },
     "metadata": {},
     "output_type": "display_data"
    },
    {
     "name": "stdout",
     "output_type": "stream",
     "text": [
      "took  0:00:02.969460  for this step\n",
      "10 15\n"
     ]
    },
    {
     "data": {
      "application/vnd.jupyter.widget-view+json": {
       "model_id": "b84653feddd546868071f30ca4a29106",
       "version_major": 2,
       "version_minor": 0
      },
      "text/plain": [
       "Drawing 200 posterior samples:   0%|          | 0/200 [00:00<?, ?it/s]"
      ]
     },
     "metadata": {},
     "output_type": "display_data"
    },
    {
     "data": {
      "application/vnd.jupyter.widget-view+json": {
       "model_id": "bc7e45ba265e45c0ad25e6c647ea14bf",
       "version_major": 2,
       "version_minor": 0
      },
      "text/plain": [
       "Running 200 simulations in 200 batches.:   0%|          | 0/200 [00:00<?, ?it/s]"
      ]
     },
     "metadata": {},
     "output_type": "display_data"
    },
    {
     "name": "stdout",
     "output_type": "stream",
     "text": [
      "Neural network successfully converged after 41 epochs.\n"
     ]
    },
    {
     "data": {
      "application/vnd.jupyter.widget-view+json": {
       "model_id": "4969ac2fb8f14858aa71b65aa9af4a7b",
       "version_major": 2,
       "version_minor": 0
      },
      "text/plain": [
       "Drawing 1 posterior samples:   0%|          | 0/1 [00:00<?, ?it/s]"
      ]
     },
     "metadata": {},
     "output_type": "display_data"
    },
    {
     "name": "stdout",
     "output_type": "stream",
     "text": [
      "took  0:00:05.540664  for this step\n"
     ]
    },
    {
     "data": {
      "application/vnd.jupyter.widget-view+json": {
       "model_id": "93e7a4c066824e5b9ac72c6fd3d1b0bc",
       "version_major": 2,
       "version_minor": 0
      },
      "text/plain": [
       "Drawing 371 posterior samples:   0%|          | 0/371 [00:00<?, ?it/s]"
      ]
     },
     "metadata": {},
     "output_type": "display_data"
    },
    {
     "data": {
      "application/vnd.jupyter.widget-view+json": {
       "model_id": "11774cfd91fa403298a35687fd3e1ab6",
       "version_major": 2,
       "version_minor": 0
      },
      "text/plain": [
       "Running 371 simulations in 371 batches.:   0%|          | 0/371 [00:00<?, ?it/s]"
      ]
     },
     "metadata": {},
     "output_type": "display_data"
    },
    {
     "name": "stdout",
     "output_type": "stream",
     "text": [
      "Neural network successfully converged after 26 epochs.\n",
      "5 10\n"
     ]
    },
    {
     "data": {
      "application/vnd.jupyter.widget-view+json": {
       "model_id": "edbc09bc7e334f7e85413d57faf9c569",
       "version_major": 2,
       "version_minor": 0
      },
      "text/plain": [
       "Running 600 simulations in 600 batches.:   0%|          | 0/600 [00:00<?, ?it/s]"
      ]
     },
     "metadata": {},
     "output_type": "display_data"
    },
    {
     "name": "stdout",
     "output_type": "stream",
     "text": [
      "Neural network successfully converged after 95 epochs.\n"
     ]
    },
    {
     "data": {
      "application/vnd.jupyter.widget-view+json": {
       "model_id": "e6fac3465972429b8eae1ca48a45f6eb",
       "version_major": 2,
       "version_minor": 0
      },
      "text/plain": [
       "Drawing 1 posterior samples:   0%|          | 0/1 [00:00<?, ?it/s]"
      ]
     },
     "metadata": {},
     "output_type": "display_data"
    },
    {
     "name": "stdout",
     "output_type": "stream",
     "text": [
      "took  0:00:04.953893  for this step\n",
      "10 15\n"
     ]
    },
    {
     "data": {
      "application/vnd.jupyter.widget-view+json": {
       "model_id": "64ce973c873e4732a6f67d5a1640499a",
       "version_major": 2,
       "version_minor": 0
      },
      "text/plain": [
       "Drawing 600 posterior samples:   0%|          | 0/600 [00:00<?, ?it/s]"
      ]
     },
     "metadata": {},
     "output_type": "display_data"
    },
    {
     "data": {
      "application/vnd.jupyter.widget-view+json": {
       "model_id": "97515e2e5675421b9b1508d054db93d6",
       "version_major": 2,
       "version_minor": 0
      },
      "text/plain": [
       "Running 600 simulations in 600 batches.:   0%|          | 0/600 [00:00<?, ?it/s]"
      ]
     },
     "metadata": {},
     "output_type": "display_data"
    },
    {
     "name": "stdout",
     "output_type": "stream",
     "text": [
      "Neural network successfully converged after 80 epochs.\n"
     ]
    },
    {
     "data": {
      "application/vnd.jupyter.widget-view+json": {
       "model_id": "881f6bfcec2a4e869065cb685fb40a53",
       "version_major": 2,
       "version_minor": 0
      },
      "text/plain": [
       "Drawing 1 posterior samples:   0%|          | 0/1 [00:00<?, ?it/s]"
      ]
     },
     "metadata": {},
     "output_type": "display_data"
    },
    {
     "name": "stdout",
     "output_type": "stream",
     "text": [
      "took  0:00:30.711279  for this step\n"
     ]
    },
    {
     "data": {
      "application/vnd.jupyter.widget-view+json": {
       "model_id": "0aa3ab221c5f4780b5a25aa2fde16528",
       "version_major": 2,
       "version_minor": 0
      },
      "text/plain": [
       "Drawing 1114 posterior samples:   0%|          | 0/1114 [00:00<?, ?it/s]"
      ]
     },
     "metadata": {},
     "output_type": "display_data"
    },
    {
     "data": {
      "application/vnd.jupyter.widget-view+json": {
       "model_id": "691342ee7ef947f29a97914d303bbd2d",
       "version_major": 2,
       "version_minor": 0
      },
      "text/plain": [
       "Running 1114 simulations in 1114 batches.:   0%|          | 0/1114 [00:00<?, ?it/s]"
      ]
     },
     "metadata": {},
     "output_type": "display_data"
    },
    {
     "name": "stdout",
     "output_type": "stream",
     "text": [
      "Neural network successfully converged after 78 epochs.\n",
      "5 10\n"
     ]
    },
    {
     "data": {
      "application/vnd.jupyter.widget-view+json": {
       "model_id": "8f48c57e0d834e9db753120fdf237c53",
       "version_major": 2,
       "version_minor": 0
      },
      "text/plain": [
       "Running 1000 simulations in 1000 batches.:   0%|          | 0/1000 [00:00<?, ?it/s]"
      ]
     },
     "metadata": {},
     "output_type": "display_data"
    },
    {
     "name": "stdout",
     "output_type": "stream",
     "text": [
      "Neural network successfully converged after 69 epochs.\n"
     ]
    },
    {
     "data": {
      "application/vnd.jupyter.widget-view+json": {
       "model_id": "5580bbab210b4b8b93b7520494d22da6",
       "version_major": 2,
       "version_minor": 0
      },
      "text/plain": [
       "Drawing 1 posterior samples:   0%|          | 0/1 [00:00<?, ?it/s]"
      ]
     },
     "metadata": {},
     "output_type": "display_data"
    },
    {
     "name": "stdout",
     "output_type": "stream",
     "text": [
      "took  0:00:06.202922  for this step\n",
      "10 15\n"
     ]
    },
    {
     "data": {
      "application/vnd.jupyter.widget-view+json": {
       "model_id": "3c88020ecc5240acb9200ade22da0cdb",
       "version_major": 2,
       "version_minor": 0
      },
      "text/plain": [
       "Drawing 1000 posterior samples:   0%|          | 0/1000 [00:00<?, ?it/s]"
      ]
     },
     "metadata": {},
     "output_type": "display_data"
    },
    {
     "data": {
      "application/vnd.jupyter.widget-view+json": {
       "model_id": "e052c1fb391647c2896d91746fc6154d",
       "version_major": 2,
       "version_minor": 0
      },
      "text/plain": [
       "Running 1000 simulations in 1000 batches.:   0%|          | 0/1000 [00:00<?, ?it/s]"
      ]
     },
     "metadata": {},
     "output_type": "display_data"
    },
    {
     "name": "stdout",
     "output_type": "stream",
     "text": [
      "Neural network successfully converged after 156 epochs.\n"
     ]
    },
    {
     "data": {
      "application/vnd.jupyter.widget-view+json": {
       "model_id": "0c9796e00b8b43af8fced227e654a312",
       "version_major": 2,
       "version_minor": 0
      },
      "text/plain": [
       "Drawing 1 posterior samples:   0%|          | 0/1 [00:00<?, ?it/s]"
      ]
     },
     "metadata": {},
     "output_type": "display_data"
    },
    {
     "name": "stdout",
     "output_type": "stream",
     "text": [
      "took  0:01:48.754000  for this step\n"
     ]
    },
    {
     "data": {
      "application/vnd.jupyter.widget-view+json": {
       "model_id": "29a740189c4a444695f4d11c2a43ecd7",
       "version_major": 2,
       "version_minor": 0
      },
      "text/plain": [
       "Drawing 1857 posterior samples:   0%|          | 0/1857 [00:00<?, ?it/s]"
      ]
     },
     "metadata": {},
     "output_type": "display_data"
    },
    {
     "data": {
      "application/vnd.jupyter.widget-view+json": {
       "model_id": "dd41f58a0c974b10820745e05b403bd3",
       "version_major": 2,
       "version_minor": 0
      },
      "text/plain": [
       "Running 1857 simulations in 1857 batches.:   0%|          | 0/1857 [00:00<?, ?it/s]"
      ]
     },
     "metadata": {},
     "output_type": "display_data"
    },
    {
     "name": "stdout",
     "output_type": "stream",
     "text": [
      "Neural network successfully converged after 94 epochs.\n",
      "0:05:10.423422\n"
     ]
    }
   ],
   "source": [
    "range_list = [5,10, 15]\n",
    "\n",
    "import datetime\n",
    "\n",
    "list_collection_inc = []\n",
    "\n",
    "\n",
    "start = datetime.datetime.now()\n",
    "\n",
    "\n",
    "for i in range(1):\n",
    "    \n",
    "    np.random.seed(i)\n",
    "\n",
    "    posterior_incremental_list = []\n",
    "\n",
    "\n",
    "    for num_simulations in num_simulations_list:\n",
    "\n",
    "        prior_i = utils.torchutils.BoxUniform(low=prior_min[0:range_list[0]], high = prior_max[0:range_list[0]])\n",
    "\n",
    "        \n",
    "        simulator_stats, prior_i = prepare_for_sbi(Gaussian, prior_i)\n",
    "        \n",
    "        inf = SNPE_C(prior_i, density_estimator=\"mdn\")\n",
    "        \n",
    "        proposal = prior_i\n",
    "\n",
    "        start_num = 1\n",
    "\n",
    "        for index in range(len(range_list)-1):\n",
    "\n",
    "            ## i defines number of parameters to be inferred, j indicates how many parameters \n",
    "            #to come in the next round\n",
    "            i = range_list[index]\n",
    "            j = range_list[index+1]\n",
    "\n",
    "            print(i, j)\n",
    "\n",
    "            num_sim = int(num_simulations * (start_num / 7))\n",
    "\n",
    "            start_num += 6\n",
    "\n",
    "            start_time = datetime.datetime.now()\n",
    "\n",
    "            theta, x =  simulate_for_sbi(\n",
    "                simulator_stats,\n",
    "                proposal=proposal,\n",
    "                num_simulations=num_simulations,\n",
    "                num_workers=8,\n",
    "\n",
    "            )\n",
    "\n",
    "            inf = inf.append_simulations(theta, x)\n",
    "            neural_dens = inf.train()\n",
    "\n",
    "            posterior = inf.build_posterior(neural_dens)\n",
    "\n",
    "            if i < 2:\n",
    "                obs_real = Gaussian([true_thetas[0, 0:i]])\n",
    "\n",
    "            else:\n",
    "                obs_real = Gaussian(true_thetas[0, 0:i])\n",
    "\n",
    "\n",
    "            proposal1 = posterior.set_default_x(obs_real)\n",
    "\n",
    "            next_prior = utils.torchutils.BoxUniform(low=prior_min[i:j], high=prior_max[i:j])\n",
    "\n",
    "            combined_prior = Combined(proposal1, next_prior, number_params_1=i)\n",
    "\n",
    "\n",
    "            ## set inf for next round:\n",
    "            inf = SNPE_C(combined_prior, density_estimator=\"mdn\")\n",
    "\n",
    "\n",
    "            ## set combined prior to be the new prior_i:\n",
    "            proposal= combined_prior\n",
    "\n",
    "            finish_time = datetime.datetime.now()\n",
    "\n",
    "            diff = finish_time - start_time\n",
    "\n",
    "            print('took ', diff, ' for this step')\n",
    "\n",
    "        num_sim = int(num_simulations * (start_num / 7))\n",
    "\n",
    "        theta, x =  simulate_for_sbi(\n",
    "            simulator_stats,\n",
    "            proposal=proposal,\n",
    "            num_simulations=num_sim,\n",
    "            num_workers=8,\n",
    "\n",
    "        )\n",
    "\n",
    "        inf = inf.append_simulations(theta, x)\n",
    "        neural_dens = inf.train()\n",
    "\n",
    "        posterior_incremental = inf.build_posterior(neural_dens) \n",
    "\n",
    "        posterior_incremental_list.append(posterior_incremental)\n",
    "        \n",
    "    list_collection_inc.append(posterior_incremental_list)\n",
    "    \n",
    "    \n",
    "end = datetime.datetime.now()\n",
    "\n",
    "diff  = end - start\n",
    "\n",
    "print(diff)\n"
   ]
  },
  {
   "cell_type": "code",
   "execution_count": 112,
   "id": "5821b1a6",
   "metadata": {},
   "outputs": [],
   "source": [
    "torch.save(list_collection_inc, 'list_collection_inc.pt')"
   ]
  },
  {
   "cell_type": "code",
   "execution_count": 46,
   "id": "cbfd62fb",
   "metadata": {},
   "outputs": [],
   "source": [
    "list_collection_inc = torch.load('list_collection_inc.pt')"
   ]
  },
  {
   "cell_type": "code",
   "execution_count": null,
   "id": "aa5adbbc",
   "metadata": {},
   "outputs": [],
   "source": [
    "import torch.nn.functional as F\n",
    "\n",
    "\n",
    "#out = F.kl_div(analytic_sample, posterior_sample)"
   ]
  },
  {
   "cell_type": "code",
   "execution_count": null,
   "id": "87651862",
   "metadata": {},
   "outputs": [],
   "source": [
    "def calc_KL_highd(posterior):\n",
    "    \n",
    "    sample = posterior.sample((10000,))\n",
    "    \n",
    "    analytic = torch.distributions.normal.Normal(true_thetas, 0.1)\n",
    "    \n",
    "    analytic_sample = analytic.sample((10000,))\n",
    "    \n",
    "    out = F.kl_div(analytic_sample, sample)\n",
    "    \n",
    "    return out\n",
    "\n"
   ]
  },
  {
   "cell_type": "code",
   "execution_count": null,
   "id": "1e9b398a",
   "metadata": {},
   "outputs": [],
   "source": [
    "def calc_KL_1d(posterior):\n",
    "    \n",
    "    sample = posterior.sample((10000,))\n",
    "    \n",
    "    analytic = torch.distributions.normal.Normal(true_thetas, 0.1)\n",
    "    \n",
    "    analytic_sample = analytic.sample((10000,)).squeeze(1)\n",
    "    \n",
    "    out_list = []\n",
    "    for i in range(len(posterior)):\n",
    "        \n",
    "        out = F.kl_div(analytic_sample[:,i], sample[:,i])\n",
    "        out_list.append(out)\n",
    "    \n",
    "    return out_list"
   ]
  },
  {
   "cell_type": "code",
   "execution_count": 29,
   "id": "583028a6",
   "metadata": {},
   "outputs": [],
   "source": [
    "def KL_Gauss(X, Y):\n",
    "    \n",
    "    sample_x = X.sample((1000,))\n",
    "    mu_x = torch.mean(sample_x, dim=0)\n",
    "    var_x = torch.std(sample_x, dim=0)\n",
    "\n",
    "    var_y = Y.stddev\n",
    "\n",
    "    mu_y = Y.mean\n",
    "    \n",
    "    \n",
    "    return torch.mean(np.log(var_y/var_x) + (var_x**2 + (mu_x - mu_y)**2)/(2*var_y**2) -(1/2))\n",
    "\n",
    "\n",
    "def calc_KL_1d(X, Y):\n",
    "    \n",
    "    sample_x = X.sample((1000,))\n",
    "    mu_x = torch.mean(sample_x, dim=0)\n",
    "    var_x = torch.std(sample_x, dim=0)\n",
    "    \n",
    "    print(var_x)\n",
    "    print(mu_x)\n",
    "\n",
    "\n",
    "    var_y = Y.stddev\n",
    "\n",
    "    mu_y = Y.mean\n",
    "    \n",
    "    print(mu_y)\n",
    "    print(var_y)\n",
    "    \n",
    "    print(np.log(var_y/var_x) + (var_x**2 + (mu_x - mu_y)**2)/(2*var_y**2) -(1/2))\n",
    "    \n",
    "    return np.log(var_y/var_x) + (var_x**2 + (mu_x - mu_y)**2)/(2*var_y**2) -(1/2)\n",
    "\n",
    "\n",
    "# calculate the jensen-shanon divergence\n",
    "def js_divergence(p, q):\n",
    "    m = 0.5 * (p + q)\n",
    "    return 0.5 * kl_divergence(p, m) + 0.5 * kl_divergence(q, m)"
   ]
  },
  {
   "cell_type": "code",
   "execution_count": 32,
   "id": "04ba5875",
   "metadata": {},
   "outputs": [
    {
     "data": {
      "text/plain": [
       "tensor([[2.5000, 2.5000, 2.5000, 2.5000, 2.5000, 2.5000, 2.5000, 2.5000, 2.5000,\n",
       "         2.5000, 2.5000, 2.5000, 2.5000, 2.5000, 2.5000]])"
      ]
     },
     "execution_count": 32,
     "metadata": {},
     "output_type": "execute_result"
    }
   ],
   "source": [
    "import torch\n",
    "\n",
    "analytic = torch.distributions.normal.Normal(true_thetas, 2.5)\n",
    "\n",
    "analytic.stddev"
   ]
  },
  {
   "cell_type": "code",
   "execution_count": 113,
   "id": "7c746d65",
   "metadata": {},
   "outputs": [
    {
     "data": {
      "application/vnd.jupyter.widget-view+json": {
       "model_id": "c9c6bf76f1f74851952033cfa3189707",
       "version_major": 2,
       "version_minor": 0
      },
      "text/plain": [
       "Drawing 1000 posterior samples:   0%|          | 0/1000 [00:00<?, ?it/s]"
      ]
     },
     "metadata": {},
     "output_type": "display_data"
    },
    {
     "data": {
      "application/vnd.jupyter.widget-view+json": {
       "model_id": "1371e87241c440228c76dec22831b3db",
       "version_major": 2,
       "version_minor": 0
      },
      "text/plain": [
       "Drawing 1000 posterior samples:   0%|          | 0/1000 [00:00<?, ?it/s]"
      ]
     },
     "metadata": {},
     "output_type": "display_data"
    },
    {
     "name": "stdout",
     "output_type": "stream",
     "text": [
      "tensor([12.3589,  7.7033, 12.1537, 16.3768, 10.7068, 15.8519,  7.6414,  9.9096,\n",
      "         7.0632,  9.7945, 12.7486, 15.9728,  9.1837, 10.2752,  9.1722])\n",
      "tensor([24.0081, 32.6954, 38.3774, 44.3315, 77.5403, 51.8636, 10.8249, 30.9037,\n",
      "        11.7435, 63.8701, 26.0792, 52.1897, 85.8764, 66.5554, 40.2890])\n",
      "tensor([[ 3.,  6., 20., 10., 90., 55., 27., 27.,  4., 70.,  5., 66., 99., 40.,\n",
      "         45.]])\n",
      "tensor([[2.5000, 2.5000, 2.5000, 2.5000, 2.5000, 2.5000, 2.5000, 2.5000, 2.5000,\n",
      "         2.5000, 2.5000, 2.5000, 2.5000, 2.5000, 2.5000]])\n",
      "tensor([[ 45.4285,  60.1336,  36.7540, 113.3686,  19.6357,  18.5426,  23.9848,\n",
      "           7.1979,   7.2494,   8.8151,  46.4196,  33.3137,  18.7244,  62.9482,\n",
      "           6.7059]])\n"
     ]
    },
    {
     "data": {
      "application/vnd.jupyter.widget-view+json": {
       "model_id": "d2e51dc901444517b6dcda7c3bf59be3",
       "version_major": 2,
       "version_minor": 0
      },
      "text/plain": [
       "Drawing 1000 posterior samples:   0%|          | 0/1000 [00:00<?, ?it/s]"
      ]
     },
     "metadata": {},
     "output_type": "display_data"
    },
    {
     "data": {
      "application/vnd.jupyter.widget-view+json": {
       "model_id": "0e68eb88288b46bbae5b2d0184c489fb",
       "version_major": 2,
       "version_minor": 0
      },
      "text/plain": [
       "Drawing 1000 posterior samples:   0%|          | 0/1000 [00:00<?, ?it/s]"
      ]
     },
     "metadata": {},
     "output_type": "display_data"
    },
    {
     "name": "stdout",
     "output_type": "stream",
     "text": [
      "tensor([ 3.4649,  1.9785, 12.5786, 10.5379,  4.9457,  5.8586,  3.9480, 10.6504,\n",
      "         3.2156,  9.6126,  7.9830,  6.9465,  5.9615,  6.3000,  7.9634])\n",
      "tensor([ 5.6871,  3.4061, 34.2058, 33.7800, 84.6082, 62.8300,  6.4497, 25.8064,\n",
      "         5.2347, 59.7755, 22.3444, 71.1124, 89.4465, 35.7784, 32.9785])\n",
      "tensor([[ 3.,  6., 20., 10., 90., 55., 27., 27.,  4., 70.,  5., 66., 99., 40.,\n",
      "         45.]])\n",
      "tensor([[2.5000, 2.5000, 2.5000, 2.5000, 2.5000, 2.5000, 2.5000, 2.5000, 2.5000,\n",
      "         2.5000, 2.5000, 2.5000, 2.5000, 2.5000, 2.5000]])\n",
      "tensor([[ 0.7117,  0.5854, 26.6864, 52.1842,  3.1002,  6.2989, 34.0752,  7.2392,\n",
      "          0.1974, 13.9086, 27.5036,  4.4293,  8.7757,  3.1767, 14.9761]])\n"
     ]
    },
    {
     "data": {
      "application/vnd.jupyter.widget-view+json": {
       "model_id": "6a481f5385c6451e98c8e36ad5fa6991",
       "version_major": 2,
       "version_minor": 0
      },
      "text/plain": [
       "Drawing 1000 posterior samples:   0%|          | 0/1000 [00:00<?, ?it/s]"
      ]
     },
     "metadata": {},
     "output_type": "display_data"
    },
    {
     "data": {
      "application/vnd.jupyter.widget-view+json": {
       "model_id": "5a6de4b2c8c245f5a886625989fb9edc",
       "version_major": 2,
       "version_minor": 0
      },
      "text/plain": [
       "Drawing 1000 posterior samples:   0%|          | 0/1000 [00:00<?, ?it/s]"
      ]
     },
     "metadata": {},
     "output_type": "display_data"
    },
    {
     "name": "stdout",
     "output_type": "stream",
     "text": [
      "tensor([1.3548, 1.0346, 1.9172, 1.7877, 1.6211, 1.7956, 1.7403, 1.9839, 1.4801,\n",
      "        1.8046, 1.5858, 1.8304, 1.5175, 1.8195, 1.7705])\n",
      "tensor([ 4.1253,  2.8773, 18.6099, 10.7676, 89.5602, 57.0945, 25.0099, 25.4604,\n",
      "         4.0061, 70.0152,  5.2909, 69.1944, 96.9695, 39.5603, 46.4012])\n",
      "tensor([[ 3.,  6., 20., 10., 90., 55., 27., 27.,  4., 70.,  5., 66., 99., 40.,\n",
      "         45.]])\n",
      "tensor([[2.5000, 2.5000, 2.5000, 2.5000, 2.5000, 2.5000, 2.5000, 2.5000, 2.5000,\n",
      "         2.5000, 2.5000, 2.5000, 2.5000, 2.5000, 2.5000]])\n",
      "tensor([[0.3608, 1.2480, 0.2141, 0.1382, 0.1589, 0.4398, 0.4214, 0.2357, 0.1994,\n",
      "         0.0865, 0.1631, 0.8961, 0.5133, 0.0980, 0.2529]])\n"
     ]
    }
   ],
   "source": [
    "\n",
    "\n",
    "\n",
    "analytic = torch.distributions.normal.Normal(true_thetas, 2.5)\n",
    "\n",
    "\n",
    "overall_snpe_list = []\n",
    "\n",
    "\n",
    "## for round\n",
    "for posterior_snpe_list in list_collection:\n",
    "    \n",
    "    KL_snpe = []\n",
    "    KL_snpe_1d = []\n",
    "    \n",
    "    \n",
    "    ## for number of simulations\n",
    "    for posterior_snpe in posterior_snpe_list:\n",
    "\n",
    "\n",
    "        #KL = KLdivergence(posterior_snpe, sample_y)\n",
    "        KL = KL_Gauss(posterior_snpe, analytic)\n",
    "\n",
    "\n",
    "        KL_1d = calc_KL_1d(posterior_snpe, analytic)\n",
    "\n",
    "        KL_snpe_1d.append(KL_1d)\n",
    "\n",
    "        #KL_snpe_sum.append(sum_KL)\n",
    "\n",
    "        KL_snpe.append(KL)\n",
    "        \n",
    "    overall_snpe_list.append(KL_snpe)\n",
    "\n",
    "\n",
    "    \n",
    "    "
   ]
  },
  {
   "cell_type": "code",
   "execution_count": 114,
   "id": "a359814e",
   "metadata": {},
   "outputs": [
    {
     "data": {
      "application/vnd.jupyter.widget-view+json": {
       "model_id": "bc7c580adbc04fc5b83905bb2303bef4",
       "version_major": 2,
       "version_minor": 0
      },
      "text/plain": [
       "Drawing 1000 posterior samples:   0%|          | 0/1000 [00:00<?, ?it/s]"
      ]
     },
     "metadata": {},
     "output_type": "display_data"
    },
    {
     "data": {
      "application/vnd.jupyter.widget-view+json": {
       "model_id": "42180f6c452e425a8f31ec7dd67ad855",
       "version_major": 2,
       "version_minor": 0
      },
      "text/plain": [
       "Drawing 1000 posterior samples:   0%|          | 0/1000 [00:00<?, ?it/s]"
      ]
     },
     "metadata": {},
     "output_type": "display_data"
    },
    {
     "data": {
      "application/vnd.jupyter.widget-view+json": {
       "model_id": "fde392851f5e4305ae5c21b77e7f6046",
       "version_major": 2,
       "version_minor": 0
      },
      "text/plain": [
       "Drawing 1000 posterior samples:   0%|          | 0/1000 [00:00<?, ?it/s]"
      ]
     },
     "metadata": {},
     "output_type": "display_data"
    }
   ],
   "source": [
    "obs_real = Gaussian(true_thetas[0, 0:])\n",
    "\n",
    "\n",
    "\n",
    "analytic = torch.distributions.normal.Normal(true_thetas, 2.5)\n",
    "\n",
    "\n",
    "overall_incremental_list = []\n",
    "\n",
    "for posterior_incremental_list in list_collection_inc:\n",
    "    \n",
    "    KL_incremental = []\n",
    "\n",
    "    for posterior_incremental in posterior_incremental_list:\n",
    "\n",
    "        posterior_incremental.set_default_x(obs_real)\n",
    "\n",
    "        #KL = KLdivergence(posterior_incremental, sample_y)\n",
    "\n",
    "        KL = KL_Gauss(posterior_incremental, analytic)\n",
    "\n",
    "        #KL_1d = calc_KL_1d(posterior_incremental, analytic)\n",
    "\n",
    "        #KL_incremental_1d.append(KL_1d)\n",
    "\n",
    "\n",
    "        KL_incremental.append(KL)\n",
    "\n",
    "        \n",
    "    overall_incremental_list.append(KL_incremental)\n",
    "\n",
    "    "
   ]
  },
  {
   "cell_type": "code",
   "execution_count": 115,
   "id": "3eaba219",
   "metadata": {},
   "outputs": [
    {
     "data": {
      "text/plain": [
       "1"
      ]
     },
     "execution_count": 115,
     "metadata": {},
     "output_type": "execute_result"
    }
   ],
   "source": [
    "len(overall_incremental_list)"
   ]
  },
  {
   "cell_type": "code",
   "execution_count": 116,
   "id": "b53a09ce",
   "metadata": {},
   "outputs": [
    {
     "name": "stdout",
     "output_type": "stream",
     "text": [
      "[ 4.4151325   2.1198783  -0.66147345]\n",
      "[0. 0. 0.]\n"
     ]
    }
   ],
   "source": [
    "mean_incremental = np.mean(np.log(np.array(overall_incremental_list)), axis=0)\n",
    "\n",
    "print(mean_incremental)\n",
    "\n",
    "stdev_incremental = np.std(np.log(np.array(overall_incremental_list)), axis=0)\n",
    "\n",
    "print(stdev_incremental)\n",
    "\n",
    "\n",
    "lower_incremental = mean_incremental - [element * 1.0 for element in stdev_incremental]\n",
    "\n",
    "upper_incremental = mean_incremental + [element * 1.0 for element in stdev_incremental]\n"
   ]
  },
  {
   "cell_type": "code",
   "execution_count": 117,
   "id": "5d97bb01",
   "metadata": {},
   "outputs": [
    {
     "name": "stdout",
     "output_type": "stream",
     "text": [
      "[ 3.5171678  2.6224575 -1.0219537]\n",
      "[0. 0. 0.]\n"
     ]
    }
   ],
   "source": [
    "mean_snpe = np.mean(np.log(np.array(overall_snpe_list)), axis=0)\n",
    "\n",
    "print(mean_snpe)\n",
    "\n",
    "stdev_snpe = np.std(np.log(np.array(overall_snpe_list)), axis=0)\n",
    "\n",
    "print(stdev_snpe)\n",
    "\n",
    "\n",
    "lower_snpe = mean_snpe - [element * 1.0 for element in stdev_snpe]\n",
    "\n",
    "upper_snpe = mean_snpe + [element * 1.0 for element in stdev_snpe]"
   ]
  },
  {
   "cell_type": "markdown",
   "id": "7dfa31ca",
   "metadata": {},
   "source": [
    "### Compare KL-divergence of snpe approach with incremental approach in a plot:\n",
    "\n",
    "#### x = number of simulations per round/step"
   ]
  },
  {
   "cell_type": "code",
   "execution_count": 118,
   "id": "dace750d",
   "metadata": {},
   "outputs": [
    {
     "name": "stderr",
     "output_type": "stream",
     "text": [
      "WARNING:matplotlib.legend:No handles with labels found to put in legend.\n",
      "WARNING:matplotlib.legend:No handles with labels found to put in legend.\n"
     ]
    },
    {
     "data": {
      "text/plain": [
       "Text(0.5, 1.0, 'Incremental')"
      ]
     },
     "execution_count": 118,
     "metadata": {},
     "output_type": "execute_result"
    },
    {
     "data": {
      "image/png": "[encoded data removed]",
      "text/plain": [
       "<Figure size 792x576 with 3 Axes>"
      ]
     },
     "metadata": {
      "needs_background": "light"
     },
     "output_type": "display_data"
    }
   ],
   "source": [
    "figure_mosaic = \"\"\"\n",
    "ACC\n",
    "BCC\n",
    "\"\"\"\n",
    "\n",
    "fig, axes = plt.subplot_mosaic(mosaic=figure_mosaic, figsize=(11, 8))\n",
    "\n",
    "    \n",
    "\n",
    "axes['B'].plot(num_simulations_list, mean_incremental, '-o', color='blue')\n",
    "axes['A'].plot(num_simulations_list, mean_snpe, '-o',  color='orange')\n",
    "\n",
    "axes['B'].plot(num_simulations_list, upper_incremental, '--', color='blue')\n",
    "axes['A'].plot(num_simulations_list, upper_snpe, '--',  color='orange')\n",
    "\n",
    "axes['B'].plot(num_simulations_list, lower_incremental, '--', color='blue')\n",
    "axes['A'].plot(num_simulations_list, lower_snpe, '--',  color='orange')\n",
    "\n",
    "\n",
    "axes['C'].plot(num_simulations_list, mean_incremental, '-o',label='incremental', color='blue')\n",
    "axes['C'].plot(num_simulations_list, mean_snpe, '-o', label='snpe', color='orange')\n",
    "\n",
    "axes['C'].plot(num_simulations_list, upper_incremental, '--', color='blue')\n",
    "axes['C'].plot(num_simulations_list, upper_snpe, '--',  color='orange')\n",
    "\n",
    "axes['C'].plot(num_simulations_list, lower_incremental, '--',  color='blue')\n",
    "axes['C'].plot(num_simulations_list, lower_snpe, '--',  color='orange')\n",
    "\n",
    "\n",
    "axes['C'].fill_between(x= num_simulations_list, y1=lower_incremental, y2=upper_incremental, color='blue', alpha=0.2)\n",
    "axes['C'].fill_between(x= num_simulations_list, y1=lower_snpe, y2=upper_snpe, color='orange', alpha=0.2)\n",
    "\n",
    "\n",
    "axes['B'].fill_between(x= num_simulations_list, y1=lower_incremental, y2=upper_incremental, color='blue', alpha=0.2)\n",
    "axes['A'].fill_between(x= num_simulations_list, y1=lower_snpe, y2=upper_snpe, color='orange', alpha=0.2)\n",
    "\n",
    "\n",
    "axes['B'].fill_between(x= num_simulations_list, y1=lower_incremental, y2=upper_incremental, color='blue', alpha=0.2)\n",
    "axes['A'].fill_between(x= num_simulations_list, y1=lower_snpe, y2=upper_snpe, color='orange', alpha=0.2)\n",
    "\n",
    "\n",
    "#plt.title('KL loss')\n",
    "axes['A'].legend()\n",
    "axes['B'].legend()\n",
    "axes['C'].legend()\n",
    "\n",
    "plt.xlabel('simulations per round')\n",
    "plt.ylabel('KL divergence')\n",
    "\n",
    "axes['A'].set_title('SNPE')\n",
    "axes['B'].set_title('Incremental')\n",
    "\n",
    "\n",
    "#axes['B'].set_xticklabels(['0k','2k', '4k', '6k', '8k', '10k'])\n",
    "#axes['A'].set_xticklabels(['0k','2k', '4k', '6k', '8k', '10k'])\n",
    "#axes['C'].set_xticklabels(['0k','2k', '4k', '6k', '8k', '10k'])\n",
    "#plt.xticks(['1k', '3k', '5k', '10k'])"
   ]
  },
  {
   "cell_type": "code",
   "execution_count": 44,
   "id": "ec86eaf3",
   "metadata": {},
   "outputs": [
    {
     "name": "stderr",
     "output_type": "stream",
     "text": [
      "/home/ubuntu/miniconda3/envs/sbi_env/lib/python3.7/site-packages/numpy/core/shape_base.py:65: FutureWarning: The input object of type 'Tensor' is an array-like implementing one of the corresponding protocols (`__array__`, `__array_interface__` or `__array_struct__`); but not a sequence (or 0-D). In the future, this object will be coerced as if it was first converted using `np.array(obj)`. To retain the old behaviour, you have to either modify the type 'Tensor', or assign to an empty array created with `np.empty(correct_shape, dtype=object)`.\n",
      "  ary = asanyarray(ary)\n",
      "/home/ubuntu/miniconda3/envs/sbi_env/lib/python3.7/site-packages/numpy/core/shape_base.py:65: VisibleDeprecationWarning: Creating an ndarray from ragged nested sequences (which is a list-or-tuple of lists-or-tuples-or ndarrays with different lengths or shapes) is deprecated. If you meant to do this, you must specify 'dtype=object' when creating the ndarray.\n",
      "  ary = asanyarray(ary)\n"
     ]
    },
    {
     "ename": "ValueError",
     "evalue": "only one element tensors can be converted to Python scalars",
     "output_type": "error",
     "traceback": [
      "\u001b[0;31m---------------------------------------------------------------------------\u001b[0m",
      "\u001b[0;31mValueError\u001b[0m                                Traceback (most recent call last)",
      "\u001b[0;32m/tmp/ipykernel_92118/1637585160.py\u001b[0m in \u001b[0;36m<module>\u001b[0;34m\u001b[0m\n\u001b[1;32m     13\u001b[0m \u001b[0;32mfor\u001b[0m \u001b[0mj\u001b[0m \u001b[0;32min\u001b[0m \u001b[0mrange\u001b[0m\u001b[0;34m(\u001b[0m\u001b[0;36m8\u001b[0m\u001b[0;34m)\u001b[0m\u001b[0;34m:\u001b[0m\u001b[0;34m\u001b[0m\u001b[0;34m\u001b[0m\u001b[0m\n\u001b[1;32m     14\u001b[0m \u001b[0;34m\u001b[0m\u001b[0m\n\u001b[0;32m---> 15\u001b[0;31m     \u001b[0maxes\u001b[0m\u001b[0;34m[\u001b[0m\u001b[0;34m'A'\u001b[0m\u001b[0;34m]\u001b[0m\u001b[0;34m.\u001b[0m\u001b[0mplot\u001b[0m\u001b[0;34m(\u001b[0m\u001b[0mnum_simulations_list\u001b[0m\u001b[0;34m,\u001b[0m \u001b[0;34m[\u001b[0m\u001b[0mi\u001b[0m\u001b[0;34m[\u001b[0m\u001b[0mj\u001b[0m\u001b[0;34m]\u001b[0m \u001b[0;32mfor\u001b[0m \u001b[0mi\u001b[0m \u001b[0;32min\u001b[0m \u001b[0mKL_snpe_1d\u001b[0m\u001b[0;34m]\u001b[0m\u001b[0;34m,\u001b[0m \u001b[0;34m'--o'\u001b[0m\u001b[0;34m,\u001b[0m \u001b[0mcolor\u001b[0m\u001b[0;34m=\u001b[0m\u001b[0;34m'orange'\u001b[0m\u001b[0;34m,\u001b[0m \u001b[0malpha\u001b[0m\u001b[0;34m=\u001b[0m\u001b[0;36m0.4\u001b[0m\u001b[0;34m)\u001b[0m\u001b[0;34m\u001b[0m\u001b[0;34m\u001b[0m\u001b[0m\n\u001b[0m\u001b[1;32m     16\u001b[0m     \u001b[0maxes\u001b[0m\u001b[0;34m[\u001b[0m\u001b[0;34m'B'\u001b[0m\u001b[0;34m]\u001b[0m\u001b[0;34m.\u001b[0m\u001b[0mplot\u001b[0m\u001b[0;34m(\u001b[0m\u001b[0mnum_simulations_list\u001b[0m\u001b[0;34m,\u001b[0m \u001b[0;34m[\u001b[0m\u001b[0mi\u001b[0m\u001b[0;34m[\u001b[0m\u001b[0mj\u001b[0m\u001b[0;34m]\u001b[0m \u001b[0;32mfor\u001b[0m \u001b[0mi\u001b[0m \u001b[0;32min\u001b[0m \u001b[0mKL_incremental_1d\u001b[0m\u001b[0;34m]\u001b[0m\u001b[0;34m,\u001b[0m \u001b[0;34m'--o'\u001b[0m\u001b[0;34m,\u001b[0m \u001b[0mcolor\u001b[0m\u001b[0;34m=\u001b[0m\u001b[0;34m'blue'\u001b[0m\u001b[0;34m,\u001b[0m \u001b[0malpha\u001b[0m\u001b[0;34m=\u001b[0m\u001b[0;36m0.4\u001b[0m\u001b[0;34m)\u001b[0m\u001b[0;34m\u001b[0m\u001b[0;34m\u001b[0m\u001b[0m\n\u001b[1;32m     17\u001b[0m \u001b[0;34m\u001b[0m\u001b[0m\n",
      "\u001b[0;32m~/miniconda3/envs/sbi_env/lib/python3.7/site-packages/matplotlib/axes/_axes.py\u001b[0m in \u001b[0;36mplot\u001b[0;34m(self, scalex, scaley, data, *args, **kwargs)\u001b[0m\n\u001b[1;32m   1605\u001b[0m         \u001b[0mlines\u001b[0m \u001b[0;34m=\u001b[0m \u001b[0;34m[\u001b[0m\u001b[0;34m*\u001b[0m\u001b[0mself\u001b[0m\u001b[0;34m.\u001b[0m\u001b[0m_get_lines\u001b[0m\u001b[0;34m(\u001b[0m\u001b[0;34m*\u001b[0m\u001b[0margs\u001b[0m\u001b[0;34m,\u001b[0m \u001b[0mdata\u001b[0m\u001b[0;34m=\u001b[0m\u001b[0mdata\u001b[0m\u001b[0;34m,\u001b[0m \u001b[0;34m**\u001b[0m\u001b[0mkwargs\u001b[0m\u001b[0;34m)\u001b[0m\u001b[0;34m]\u001b[0m\u001b[0;34m\u001b[0m\u001b[0;34m\u001b[0m\u001b[0m\n\u001b[1;32m   1606\u001b[0m         \u001b[0;32mfor\u001b[0m \u001b[0mline\u001b[0m \u001b[0;32min\u001b[0m \u001b[0mlines\u001b[0m\u001b[0;34m:\u001b[0m\u001b[0;34m\u001b[0m\u001b[0;34m\u001b[0m\u001b[0m\n\u001b[0;32m-> 1607\u001b[0;31m             \u001b[0mself\u001b[0m\u001b[0;34m.\u001b[0m\u001b[0madd_line\u001b[0m\u001b[0;34m(\u001b[0m\u001b[0mline\u001b[0m\u001b[0;34m)\u001b[0m\u001b[0;34m\u001b[0m\u001b[0;34m\u001b[0m\u001b[0m\n\u001b[0m\u001b[1;32m   1608\u001b[0m         \u001b[0mself\u001b[0m\u001b[0;34m.\u001b[0m\u001b[0m_request_autoscale_view\u001b[0m\u001b[0;34m(\u001b[0m\u001b[0mscalex\u001b[0m\u001b[0;34m=\u001b[0m\u001b[0mscalex\u001b[0m\u001b[0;34m,\u001b[0m \u001b[0mscaley\u001b[0m\u001b[0;34m=\u001b[0m\u001b[0mscaley\u001b[0m\u001b[0;34m)\u001b[0m\u001b[0;34m\u001b[0m\u001b[0;34m\u001b[0m\u001b[0m\n\u001b[1;32m   1609\u001b[0m         \u001b[0;32mreturn\u001b[0m \u001b[0mlines\u001b[0m\u001b[0;34m\u001b[0m\u001b[0;34m\u001b[0m\u001b[0m\n",
      "\u001b[0;32m~/miniconda3/envs/sbi_env/lib/python3.7/site-packages/matplotlib/axes/_base.py\u001b[0m in \u001b[0;36madd_line\u001b[0;34m(self, line)\u001b[0m\n\u001b[1;32m   2099\u001b[0m             \u001b[0mline\u001b[0m\u001b[0;34m.\u001b[0m\u001b[0mset_clip_path\u001b[0m\u001b[0;34m(\u001b[0m\u001b[0mself\u001b[0m\u001b[0;34m.\u001b[0m\u001b[0mpatch\u001b[0m\u001b[0;34m)\u001b[0m\u001b[0;34m\u001b[0m\u001b[0;34m\u001b[0m\u001b[0m\n\u001b[1;32m   2100\u001b[0m \u001b[0;34m\u001b[0m\u001b[0m\n\u001b[0;32m-> 2101\u001b[0;31m         \u001b[0mself\u001b[0m\u001b[0;34m.\u001b[0m\u001b[0m_update_line_limits\u001b[0m\u001b[0;34m(\u001b[0m\u001b[0mline\u001b[0m\u001b[0;34m)\u001b[0m\u001b[0;34m\u001b[0m\u001b[0;34m\u001b[0m\u001b[0m\n\u001b[0m\u001b[1;32m   2102\u001b[0m         \u001b[0;32mif\u001b[0m \u001b[0;32mnot\u001b[0m \u001b[0mline\u001b[0m\u001b[0;34m.\u001b[0m\u001b[0mget_label\u001b[0m\u001b[0;34m(\u001b[0m\u001b[0;34m)\u001b[0m\u001b[0;34m:\u001b[0m\u001b[0;34m\u001b[0m\u001b[0;34m\u001b[0m\u001b[0m\n\u001b[1;32m   2103\u001b[0m             \u001b[0mline\u001b[0m\u001b[0;34m.\u001b[0m\u001b[0mset_label\u001b[0m\u001b[0;34m(\u001b[0m\u001b[0;34m'_line%d'\u001b[0m \u001b[0;34m%\u001b[0m \u001b[0mlen\u001b[0m\u001b[0;34m(\u001b[0m\u001b[0mself\u001b[0m\u001b[0;34m.\u001b[0m\u001b[0mlines\u001b[0m\u001b[0;34m)\u001b[0m\u001b[0;34m)\u001b[0m\u001b[0;34m\u001b[0m\u001b[0;34m\u001b[0m\u001b[0m\n",
      "\u001b[0;32m~/miniconda3/envs/sbi_env/lib/python3.7/site-packages/matplotlib/axes/_base.py\u001b[0m in \u001b[0;36m_update_line_limits\u001b[0;34m(self, line)\u001b[0m\n\u001b[1;32m   2121\u001b[0m         \u001b[0mFigures\u001b[0m \u001b[0mout\u001b[0m \u001b[0mthe\u001b[0m \u001b[0mdata\u001b[0m \u001b[0mlimit\u001b[0m \u001b[0mof\u001b[0m \u001b[0mthe\u001b[0m \u001b[0mgiven\u001b[0m \u001b[0mline\u001b[0m\u001b[0;34m,\u001b[0m \u001b[0mupdating\u001b[0m \u001b[0mself\u001b[0m\u001b[0;34m.\u001b[0m\u001b[0mdataLim\u001b[0m\u001b[0;34m.\u001b[0m\u001b[0;34m\u001b[0m\u001b[0;34m\u001b[0m\u001b[0m\n\u001b[1;32m   2122\u001b[0m         \"\"\"\n\u001b[0;32m-> 2123\u001b[0;31m         \u001b[0mpath\u001b[0m \u001b[0;34m=\u001b[0m \u001b[0mline\u001b[0m\u001b[0;34m.\u001b[0m\u001b[0mget_path\u001b[0m\u001b[0;34m(\u001b[0m\u001b[0;34m)\u001b[0m\u001b[0;34m\u001b[0m\u001b[0;34m\u001b[0m\u001b[0m\n\u001b[0m\u001b[1;32m   2124\u001b[0m         \u001b[0;32mif\u001b[0m \u001b[0mpath\u001b[0m\u001b[0;34m.\u001b[0m\u001b[0mvertices\u001b[0m\u001b[0;34m.\u001b[0m\u001b[0msize\u001b[0m \u001b[0;34m==\u001b[0m \u001b[0;36m0\u001b[0m\u001b[0;34m:\u001b[0m\u001b[0;34m\u001b[0m\u001b[0;34m\u001b[0m\u001b[0m\n\u001b[1;32m   2125\u001b[0m             \u001b[0;32mreturn\u001b[0m\u001b[0;34m\u001b[0m\u001b[0;34m\u001b[0m\u001b[0m\n",
      "\u001b[0;32m~/miniconda3/envs/sbi_env/lib/python3.7/site-packages/matplotlib/lines.py\u001b[0m in \u001b[0;36mget_path\u001b[0;34m(self)\u001b[0m\n\u001b[1;32m   1020\u001b[0m         \"\"\"\n\u001b[1;32m   1021\u001b[0m         \u001b[0;32mif\u001b[0m \u001b[0mself\u001b[0m\u001b[0;34m.\u001b[0m\u001b[0m_invalidy\u001b[0m \u001b[0;32mor\u001b[0m \u001b[0mself\u001b[0m\u001b[0;34m.\u001b[0m\u001b[0m_invalidx\u001b[0m\u001b[0;34m:\u001b[0m\u001b[0;34m\u001b[0m\u001b[0;34m\u001b[0m\u001b[0m\n\u001b[0;32m-> 1022\u001b[0;31m             \u001b[0mself\u001b[0m\u001b[0;34m.\u001b[0m\u001b[0mrecache\u001b[0m\u001b[0;34m(\u001b[0m\u001b[0;34m)\u001b[0m\u001b[0;34m\u001b[0m\u001b[0;34m\u001b[0m\u001b[0m\n\u001b[0m\u001b[1;32m   1023\u001b[0m         \u001b[0;32mreturn\u001b[0m \u001b[0mself\u001b[0m\u001b[0;34m.\u001b[0m\u001b[0m_path\u001b[0m\u001b[0;34m\u001b[0m\u001b[0;34m\u001b[0m\u001b[0m\n\u001b[1;32m   1024\u001b[0m \u001b[0;34m\u001b[0m\u001b[0m\n",
      "\u001b[0;32m~/miniconda3/envs/sbi_env/lib/python3.7/site-packages/matplotlib/lines.py\u001b[0m in \u001b[0;36mrecache\u001b[0;34m(self, always)\u001b[0m\n\u001b[1;32m    666\u001b[0m         \u001b[0;32mif\u001b[0m \u001b[0malways\u001b[0m \u001b[0;32mor\u001b[0m \u001b[0mself\u001b[0m\u001b[0;34m.\u001b[0m\u001b[0m_invalidy\u001b[0m\u001b[0;34m:\u001b[0m\u001b[0;34m\u001b[0m\u001b[0;34m\u001b[0m\u001b[0m\n\u001b[1;32m    667\u001b[0m             \u001b[0myconv\u001b[0m \u001b[0;34m=\u001b[0m \u001b[0mself\u001b[0m\u001b[0;34m.\u001b[0m\u001b[0mconvert_yunits\u001b[0m\u001b[0;34m(\u001b[0m\u001b[0mself\u001b[0m\u001b[0;34m.\u001b[0m\u001b[0m_yorig\u001b[0m\u001b[0;34m)\u001b[0m\u001b[0;34m\u001b[0m\u001b[0;34m\u001b[0m\u001b[0m\n\u001b[0;32m--> 668\u001b[0;31m             \u001b[0my\u001b[0m \u001b[0;34m=\u001b[0m \u001b[0m_to_unmasked_float_array\u001b[0m\u001b[0;34m(\u001b[0m\u001b[0myconv\u001b[0m\u001b[0;34m)\u001b[0m\u001b[0;34m.\u001b[0m\u001b[0mravel\u001b[0m\u001b[0;34m(\u001b[0m\u001b[0;34m)\u001b[0m\u001b[0;34m\u001b[0m\u001b[0;34m\u001b[0m\u001b[0m\n\u001b[0m\u001b[1;32m    669\u001b[0m         \u001b[0;32melse\u001b[0m\u001b[0;34m:\u001b[0m\u001b[0;34m\u001b[0m\u001b[0;34m\u001b[0m\u001b[0m\n\u001b[1;32m    670\u001b[0m             \u001b[0my\u001b[0m \u001b[0;34m=\u001b[0m \u001b[0mself\u001b[0m\u001b[0;34m.\u001b[0m\u001b[0m_y\u001b[0m\u001b[0;34m\u001b[0m\u001b[0;34m\u001b[0m\u001b[0m\n",
      "\u001b[0;32m~/miniconda3/envs/sbi_env/lib/python3.7/site-packages/matplotlib/cbook/__init__.py\u001b[0m in \u001b[0;36m_to_unmasked_float_array\u001b[0;34m(x)\u001b[0m\n\u001b[1;32m   1331\u001b[0m         \u001b[0;32mreturn\u001b[0m \u001b[0mnp\u001b[0m\u001b[0;34m.\u001b[0m\u001b[0mma\u001b[0m\u001b[0;34m.\u001b[0m\u001b[0masarray\u001b[0m\u001b[0;34m(\u001b[0m\u001b[0mx\u001b[0m\u001b[0;34m,\u001b[0m \u001b[0mfloat\u001b[0m\u001b[0;34m)\u001b[0m\u001b[0;34m.\u001b[0m\u001b[0mfilled\u001b[0m\u001b[0;34m(\u001b[0m\u001b[0mnp\u001b[0m\u001b[0;34m.\u001b[0m\u001b[0mnan\u001b[0m\u001b[0;34m)\u001b[0m\u001b[0;34m\u001b[0m\u001b[0;34m\u001b[0m\u001b[0m\n\u001b[1;32m   1332\u001b[0m     \u001b[0;32melse\u001b[0m\u001b[0;34m:\u001b[0m\u001b[0;34m\u001b[0m\u001b[0;34m\u001b[0m\u001b[0m\n\u001b[0;32m-> 1333\u001b[0;31m         \u001b[0;32mreturn\u001b[0m \u001b[0mnp\u001b[0m\u001b[0;34m.\u001b[0m\u001b[0masarray\u001b[0m\u001b[0;34m(\u001b[0m\u001b[0mx\u001b[0m\u001b[0;34m,\u001b[0m \u001b[0mfloat\u001b[0m\u001b[0;34m)\u001b[0m\u001b[0;34m\u001b[0m\u001b[0;34m\u001b[0m\u001b[0m\n\u001b[0m\u001b[1;32m   1334\u001b[0m \u001b[0;34m\u001b[0m\u001b[0m\n\u001b[1;32m   1335\u001b[0m \u001b[0;34m\u001b[0m\u001b[0m\n",
      "\u001b[0;31mValueError\u001b[0m: only one element tensors can be converted to Python scalars"
     ]
    },
    {
     "data": {
      "image/png": "[encoded data removed]",
      "text/plain": [
       "<Figure size 792x360 with 3 Axes>"
      ]
     },
     "metadata": {
      "needs_background": "light"
     },
     "output_type": "display_data"
    }
   ],
   "source": [
    "import matplotlib as mpl\n",
    "\n",
    "figure_mosaic = \"\"\"\n",
    "ACC\n",
    "BCC\n",
    "\"\"\"\n",
    "\n",
    "fig, axes = plt.subplot_mosaic(mosaic=figure_mosaic, figsize=(11, 5))\n",
    "\n",
    "    \n",
    "\n",
    "\n",
    "for j in range(8):\n",
    "\n",
    "    axes['A'].plot(num_simulations_list, [i[j] for i in KL_snpe_1d], '--o', color='orange', alpha=0.4)\n",
    "    axes['B'].plot(num_simulations_list, [i[j] for i in KL_incremental_1d], '--o', color='blue', alpha=0.4)\n",
    "    \n",
    "    axes['C'].plot(num_simulations_list, [i[j] for i in KL_snpe_1d], '--o', color='orange', alpha=1)\n",
    "    axes['C'].plot(num_simulations_list, [i[j] for i in KL_incremental_1d], '--o', color='blue', alpha=0.4)\n",
    "\n",
    "    \n",
    "axes['A'].legend(['snpe'])\n",
    "axes['B'].legend(['incremental'])\n",
    "axes['C'].legend()\n",
    "\n",
    "plt.xlabel('simulations per round')\n",
    "plt.ylabel('KL divergence')"
   ]
  },
  {
   "cell_type": "code",
   "execution_count": null,
   "id": "2a62708c",
   "metadata": {},
   "outputs": [],
   "source": []
  }
 ],
 "metadata": {
  "kernelspec": {
   "display_name": "Python 3 (ipykernel)",
   "language": "python",
   "name": "python3"
  },
  "language_info": {
   "codemirror_mode": {
    "name": "ipython",
    "version": 3
   },
   "file_extension": ".py",
   "mimetype": "text/x-python",
   "name": "python",
   "nbconvert_exporter": "python",
   "pygments_lexer": "ipython3",
   "version": "3.9.5"
  }
 },
 "nbformat": 4,
 "nbformat_minor": 5
}
