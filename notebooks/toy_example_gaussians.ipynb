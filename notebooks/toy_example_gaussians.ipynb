{
 "cells": [
  {
   "cell_type": "markdown",
   "id": "18ecef64",
   "metadata": {},
   "source": [
    "## Toy example: Inferring the mean of Gaussians\n",
    "\n",
    "#### comparing the multi-round SNPE approach against our new incremental approach.\n",
    "\n",
    "Goal of this little toy example is to show that provided our parameters are independent of each other, we need less simulations to derive a good approximation of our parameters."
   ]
  },
  {
   "cell_type": "code",
   "execution_count": 90,
   "id": "cd32f110",
   "metadata": {},
   "outputs": [],
   "source": [
    "import sys\n",
    "sys.path.append('../code/')\n",
    "\n",
    "import utils\n",
    "from utils.helpers import get_time\n",
    "from utils import inference\n",
    "\n",
    "from utils.sbi_modulated_functions import Combined\n",
    "\n",
    "\n",
    "from utils.helpers import get_time\n",
    "\n",
    "from utils.simulation_wrapper import SimulationWrapper\n",
    "\n",
    "\n",
    "# sbi\n",
    "from sbi import utils as utils\n",
    "from sbi import analysis as analysis\n",
    "from sbi.inference.base import infer\n",
    "from sbi.inference import SNPE, prepare_for_sbi, simulate_for_sbi\n",
    "from sbi.inference import SNPE_C\n",
    "\n",
    "import sbi\n"
   ]
  },
  {
   "cell_type": "code",
   "execution_count": 91,
   "id": "25c1098c",
   "metadata": {},
   "outputs": [
    {
     "data": {
      "text/plain": [
       "'/home/ubuntu/results/toy_example_mdn_noprob_2'"
      ]
     },
     "execution_count": 91,
     "metadata": {},
     "output_type": "execute_result"
    }
   ],
   "source": [
    "import os\n",
    "\n",
    "os.getcwd()"
   ]
  },
  {
   "cell_type": "code",
   "execution_count": 8,
   "id": "0fce3905",
   "metadata": {},
   "outputs": [],
   "source": [
    "os.chdir('/home/ubuntu/results/toy_example_mdn_noprob_2')"
   ]
  },
  {
   "cell_type": "markdown",
   "id": "600e4438",
   "metadata": {},
   "source": [
    "Defining a function (Gaussian) that takes a arbitrary number of thetas (parameters for a Gaussian mean) and samples from a Gaussian with this mean and a standard deviation of 0.1"
   ]
  },
  {
   "cell_type": "code",
   "execution_count": 92,
   "id": "53c8ed3a",
   "metadata": {},
   "outputs": [],
   "source": [
    "import numpy as np\n",
    "import matplotlib.pyplot as plt\n",
    "import torch\n",
    "\n",
    "\n",
    "def Gaussian(thetas, normal_noise=1):\n",
    "    \n",
    "    gauss_list = []\n",
    "    \n",
    "    for theta in thetas:\n",
    "    \n",
    "        mu, sigma = theta, normal_noise # mean and standard deviation\n",
    "\n",
    "        s = np.random.normal(mu, sigma, 1)\n",
    "    \n",
    "        \n",
    "        gauss_list.append(s[0])\n",
    "        \n",
    "    gauss_obs = torch.tensor(gauss_list)\n",
    "    \n",
    "    return gauss_obs\n",
    "    \n",
    "\n"
   ]
  },
  {
   "cell_type": "markdown",
   "id": "996f120c",
   "metadata": {},
   "source": [
    "### Larger comparison with KL-divergence between analytic and inferred posterior"
   ]
  },
  {
   "cell_type": "markdown",
   "id": "64f8d549",
   "metadata": {},
   "source": [
    "### Calculate posterior for different number of simulations: 1k,  3k, 5k, 10k"
   ]
  },
  {
   "cell_type": "markdown",
   "id": "3e06b59c",
   "metadata": {},
   "source": [
    "### starting with multi-round snpe"
   ]
  },
  {
   "cell_type": "code",
   "execution_count": 93,
   "id": "26682c86",
   "metadata": {},
   "outputs": [],
   "source": [
    "true_thetas = torch.tensor([[3.0, 6.0, 20.0, 10.0, 90.0, 55.0, 27.0, 27.0, 4.0, 70.0, 5.0, 66.0, 99.0, 40.0, 45.0]])\n",
    "parameter_names = ['t1', 't2', 't3', 't4', 't5', 't6', 't7', 't8', 't9', 't10', 't11', 't12', 't13', 't14', 't15']\n",
    "\n",
    "prior_max = [100.0] * 15\n",
    "prior_min = [1.0] * 15"
   ]
  },
  {
   "cell_type": "code",
   "execution_count": 120,
   "id": "b773485c",
   "metadata": {},
   "outputs": [],
   "source": [
    "num_simulations_list = [200, 750]\n"
   ]
  },
  {
   "cell_type": "code",
   "execution_count": 121,
   "id": "85d458e1",
   "metadata": {},
   "outputs": [
    {
     "data": {
      "text/plain": [
       "tensor([  1.7214,   7.5067,  20.1647,  10.2150,  89.5417,  56.8306,  26.3957,\n",
       "         26.6436,   4.6505,  71.9684,   4.8273,  67.2060, 100.3506,  39.6384,\n",
       "         46.1287], dtype=torch.float64)"
      ]
     },
     "execution_count": 121,
     "metadata": {},
     "output_type": "execute_result"
    }
   ],
   "source": [
    "obs_real = Gaussian(true_thetas[0])\n",
    "\n",
    "obs_real\n"
   ]
  },
  {
   "cell_type": "code",
   "execution_count": 122,
   "id": "3a4aa179",
   "metadata": {},
   "outputs": [],
   "source": [
    "from sbi.utils import RestrictionEstimator"
   ]
  },
  {
   "cell_type": "code",
   "execution_count": 123,
   "id": "fc1fc433",
   "metadata": {},
   "outputs": [
    {
     "data": {
      "application/vnd.jupyter.widget-view+json": {
       "model_id": "6999326f9a2c4181963e616dfafe46dc",
       "version_major": 2,
       "version_minor": 0
      },
      "text/plain": [
       "Running 200 simulations in 200 batches.:   0%|          | 0/200 [00:00<?, ?it/s]"
      ]
     },
     "metadata": {},
     "output_type": "display_data"
    },
    {
     "name": "stdout",
     "output_type": "stream",
     "text": [
      "stopning neural network. Epochs trained:  791\n",
      "The classifier rejected 4.6% of all samples. You will get a speed-up of 4.8%.\n"
     ]
    },
    {
     "data": {
      "application/vnd.jupyter.widget-view+json": {
       "model_id": "6ec910ec5edd4b0aae3ee34e78b92514",
       "version_major": 2,
       "version_minor": 0
      },
      "text/plain": [
       "Running 200 simulations in 200 batches.:   0%|          | 0/200 [00:00<?, ?it/s]"
      ]
     },
     "metadata": {},
     "output_type": "display_data"
    },
    {
     "name": "stdout",
     "output_type": "stream",
     "text": [
      "The classifier rejected 4.5% of all samples. You will get a speed-up of 4.7%.\n"
     ]
    },
    {
     "data": {
      "application/vnd.jupyter.widget-view+json": {
       "model_id": "767cdc069b2841b3b08441400a4e6b2a",
       "version_major": 2,
       "version_minor": 0
      },
      "text/plain": [
       "Running 200 simulations in 200 batches.:   0%|          | 0/200 [00:00<?, ?it/s]"
      ]
     },
     "metadata": {},
     "output_type": "display_data"
    },
    {
     "name": "stdout",
     "output_type": "stream",
     "text": [
      "here\n",
      "Neural network successfully converged after 68 epochs.\n"
     ]
    },
    {
     "data": {
      "application/vnd.jupyter.widget-view+json": {
       "model_id": "b4d7604a4a3f4fb8998cfc585499a7d6",
       "version_major": 2,
       "version_minor": 0
      },
      "text/plain": [
       "Running 750 simulations in 750 batches.:   0%|          | 0/750 [00:00<?, ?it/s]"
      ]
     },
     "metadata": {},
     "output_type": "display_data"
    },
    {
     "name": "stdout",
     "output_type": "stream",
     "text": [
      "stopning neural network. Epochs trained:  685\n",
      "The classifier rejected 11.0% of all samples. You will get a speed-up of 12.4%.\n"
     ]
    },
    {
     "data": {
      "application/vnd.jupyter.widget-view+json": {
       "model_id": "1bb019ecca594d4dab0dfaf679a6150c",
       "version_major": 2,
       "version_minor": 0
      },
      "text/plain": [
       "Running 750 simulations in 750 batches.:   0%|          | 0/750 [00:00<?, ?it/s]"
      ]
     },
     "metadata": {},
     "output_type": "display_data"
    },
    {
     "name": "stdout",
     "output_type": "stream",
     "text": [
      "The classifier rejected 10.7% of all samples. You will get a speed-up of 12.0%.\n"
     ]
    },
    {
     "data": {
      "application/vnd.jupyter.widget-view+json": {
       "model_id": "683c969c6b654dabb83f019a35ca7306",
       "version_major": 2,
       "version_minor": 0
      },
      "text/plain": [
       "Running 750 simulations in 750 batches.:   0%|          | 0/750 [00:00<?, ?it/s]"
      ]
     },
     "metadata": {},
     "output_type": "display_data"
    },
    {
     "name": "stdout",
     "output_type": "stream",
     "text": [
      "here\n",
      "Neural network successfully converged after 424 epochs.\n",
      "0:11:05.485008\n"
     ]
    }
   ],
   "source": [
    "torch.manual_seed(4)\n",
    "list_collection = []\n",
    "\n",
    "import datetime\n",
    "\n",
    "obs_real = Gaussian(true_thetas[0])\n",
    "\n",
    "start = datetime.datetime.now()\n",
    "\n",
    "for i in range(1):\n",
    "    \n",
    "\n",
    "    posterior_snpe_list = []\n",
    "\n",
    "    for num_simulations in num_simulations_list:\n",
    "        \n",
    "        prior = utils.torchutils.BoxUniform(low=prior_min, high = prior_max)\n",
    "        simulator_stats, prior = prepare_for_sbi(Gaussian, prior)\n",
    "        \n",
    "        inf = SNPE_C(prior, density_estimator=\"mdn\")\n",
    "        \n",
    "        restriction_estimator = RestrictionEstimator(prior=prior)\n",
    "        \n",
    "        proposals = [prior]\n",
    "        \n",
    "        num_rounds = 3\n",
    "\n",
    "        for j in range(num_rounds):\n",
    "            \n",
    "            theta, x = simulate_for_sbi(\n",
    "                simulator_stats,\n",
    "                proposal=proposals[-1],\n",
    "                num_simulations=num_simulations,\n",
    "                num_workers=8,\n",
    "            )\n",
    "            restriction_estimator.append_simulations(theta, x)\n",
    "            if j < num_rounds - 2: # training not needed in last round because classifier will not be used anymore.\n",
    "                classifier = restriction_estimator.train()\n",
    "                print('stop')\n",
    "                \n",
    "            proposals.append(restriction_estimator.restrict_prior())\n",
    "            \n",
    "            \n",
    "        print('here')   \n",
    "            \n",
    "        all_theta, all_x, _ = restriction_estimator.get_simulations()\n",
    "        \n",
    "        density_estimator = inf.append_simulations(all_theta, all_x).train()\n",
    "        \n",
    "        posterior = inf.build_posterior()\n",
    "\n",
    "        posterior_snpe = posterior.set_default_x(obs_real)\n",
    "\n",
    "        posterior_snpe_list.append(posterior_snpe)\n",
    "        \n",
    "    list_collection.append(posterior_snpe_list)\n",
    "    \n",
    "end = datetime.datetime.now()\n",
    "\n",
    "diff  = end - start\n",
    "\n",
    "print(diff)"
   ]
  },
  {
   "cell_type": "code",
   "execution_count": 109,
   "id": "bfb4e382",
   "metadata": {},
   "outputs": [
    {
     "name": "stdout",
     "output_type": "stream",
     "text": [
      "0:18:36.737414\n"
     ]
    }
   ],
   "source": [
    "print(diff)"
   ]
  },
  {
   "cell_type": "code",
   "execution_count": 113,
   "id": "dad8de51",
   "metadata": {},
   "outputs": [],
   "source": [
    "torch.save(list_collection, 'list_collection.pt')"
   ]
  },
  {
   "cell_type": "code",
   "execution_count": 13,
   "id": "c12ef0b2",
   "metadata": {},
   "outputs": [],
   "source": [
    "list_collection = torch.load('list_collection.pt')"
   ]
  },
  {
   "cell_type": "code",
   "execution_count": 14,
   "id": "1955e8a9",
   "metadata": {},
   "outputs": [
    {
     "data": {
      "text/plain": [
       "[[DirectPosterior(\n",
       "                 method_family=snpe,\n",
       "                 net=<a Flow, see `.net` for details>,\n",
       "                 prior=BoxUniform(Uniform(low: torch.Size([15]), high: torch.Size([15])), 1),\n",
       "                 x_shape=torch.Size([1, 15]))\n",
       "                 ,\n",
       "  DirectPosterior(\n",
       "                 method_family=snpe,\n",
       "                 net=<a Flow, see `.net` for details>,\n",
       "                 prior=BoxUniform(Uniform(low: torch.Size([15]), high: torch.Size([15])), 1),\n",
       "                 x_shape=torch.Size([1, 15]))\n",
       "                 ,\n",
       "  DirectPosterior(\n",
       "                 method_family=snpe,\n",
       "                 net=<a Flow, see `.net` for details>,\n",
       "                 prior=BoxUniform(Uniform(low: torch.Size([15]), high: torch.Size([15])), 1),\n",
       "                 x_shape=torch.Size([1, 15]))\n",
       "                 ,\n",
       "  DirectPosterior(\n",
       "                 method_family=snpe,\n",
       "                 net=<a Flow, see `.net` for details>,\n",
       "                 prior=BoxUniform(Uniform(low: torch.Size([15]), high: torch.Size([15])), 1),\n",
       "                 x_shape=torch.Size([1, 15]))\n",
       "                 ,\n",
       "  DirectPosterior(\n",
       "                 method_family=snpe,\n",
       "                 net=<a Flow, see `.net` for details>,\n",
       "                 prior=BoxUniform(Uniform(low: torch.Size([15]), high: torch.Size([15])), 1),\n",
       "                 x_shape=torch.Size([1, 15]))\n",
       "                 ,\n",
       "  DirectPosterior(\n",
       "                 method_family=snpe,\n",
       "                 net=<a Flow, see `.net` for details>,\n",
       "                 prior=BoxUniform(Uniform(low: torch.Size([15]), high: torch.Size([15])), 1),\n",
       "                 x_shape=torch.Size([1, 15]))\n",
       "                 ],\n",
       " [DirectPosterior(\n",
       "                 method_family=snpe,\n",
       "                 net=<a Flow, see `.net` for details>,\n",
       "                 prior=BoxUniform(Uniform(low: torch.Size([15]), high: torch.Size([15])), 1),\n",
       "                 x_shape=torch.Size([1, 15]))\n",
       "                 ,\n",
       "  DirectPosterior(\n",
       "                 method_family=snpe,\n",
       "                 net=<a Flow, see `.net` for details>,\n",
       "                 prior=BoxUniform(Uniform(low: torch.Size([15]), high: torch.Size([15])), 1),\n",
       "                 x_shape=torch.Size([1, 15]))\n",
       "                 ,\n",
       "  DirectPosterior(\n",
       "                 method_family=snpe,\n",
       "                 net=<a Flow, see `.net` for details>,\n",
       "                 prior=BoxUniform(Uniform(low: torch.Size([15]), high: torch.Size([15])), 1),\n",
       "                 x_shape=torch.Size([1, 15]))\n",
       "                 ,\n",
       "  DirectPosterior(\n",
       "                 method_family=snpe,\n",
       "                 net=<a Flow, see `.net` for details>,\n",
       "                 prior=BoxUniform(Uniform(low: torch.Size([15]), high: torch.Size([15])), 1),\n",
       "                 x_shape=torch.Size([1, 15]))\n",
       "                 ,\n",
       "  DirectPosterior(\n",
       "                 method_family=snpe,\n",
       "                 net=<a Flow, see `.net` for details>,\n",
       "                 prior=BoxUniform(Uniform(low: torch.Size([15]), high: torch.Size([15])), 1),\n",
       "                 x_shape=torch.Size([1, 15]))\n",
       "                 ,\n",
       "  DirectPosterior(\n",
       "                 method_family=snpe,\n",
       "                 net=<a Flow, see `.net` for details>,\n",
       "                 prior=BoxUniform(Uniform(low: torch.Size([15]), high: torch.Size([15])), 1),\n",
       "                 x_shape=torch.Size([1, 15]))\n",
       "                 ],\n",
       " [DirectPosterior(\n",
       "                 method_family=snpe,\n",
       "                 net=<a Flow, see `.net` for details>,\n",
       "                 prior=BoxUniform(Uniform(low: torch.Size([15]), high: torch.Size([15])), 1),\n",
       "                 x_shape=torch.Size([1, 15]))\n",
       "                 ,\n",
       "  DirectPosterior(\n",
       "                 method_family=snpe,\n",
       "                 net=<a Flow, see `.net` for details>,\n",
       "                 prior=BoxUniform(Uniform(low: torch.Size([15]), high: torch.Size([15])), 1),\n",
       "                 x_shape=torch.Size([1, 15]))\n",
       "                 ,\n",
       "  DirectPosterior(\n",
       "                 method_family=snpe,\n",
       "                 net=<a Flow, see `.net` for details>,\n",
       "                 prior=BoxUniform(Uniform(low: torch.Size([15]), high: torch.Size([15])), 1),\n",
       "                 x_shape=torch.Size([1, 15]))\n",
       "                 ,\n",
       "  DirectPosterior(\n",
       "                 method_family=snpe,\n",
       "                 net=<a Flow, see `.net` for details>,\n",
       "                 prior=BoxUniform(Uniform(low: torch.Size([15]), high: torch.Size([15])), 1),\n",
       "                 x_shape=torch.Size([1, 15]))\n",
       "                 ,\n",
       "  DirectPosterior(\n",
       "                 method_family=snpe,\n",
       "                 net=<a Flow, see `.net` for details>,\n",
       "                 prior=BoxUniform(Uniform(low: torch.Size([15]), high: torch.Size([15])), 1),\n",
       "                 x_shape=torch.Size([1, 15]))\n",
       "                 ,\n",
       "  DirectPosterior(\n",
       "                 method_family=snpe,\n",
       "                 net=<a Flow, see `.net` for details>,\n",
       "                 prior=BoxUniform(Uniform(low: torch.Size([15]), high: torch.Size([15])), 1),\n",
       "                 x_shape=torch.Size([1, 15]))\n",
       "                 ],\n",
       " [DirectPosterior(\n",
       "                 method_family=snpe,\n",
       "                 net=<a Flow, see `.net` for details>,\n",
       "                 prior=BoxUniform(Uniform(low: torch.Size([15]), high: torch.Size([15])), 1),\n",
       "                 x_shape=torch.Size([1, 15]))\n",
       "                 ,\n",
       "  DirectPosterior(\n",
       "                 method_family=snpe,\n",
       "                 net=<a Flow, see `.net` for details>,\n",
       "                 prior=BoxUniform(Uniform(low: torch.Size([15]), high: torch.Size([15])), 1),\n",
       "                 x_shape=torch.Size([1, 15]))\n",
       "                 ,\n",
       "  DirectPosterior(\n",
       "                 method_family=snpe,\n",
       "                 net=<a Flow, see `.net` for details>,\n",
       "                 prior=BoxUniform(Uniform(low: torch.Size([15]), high: torch.Size([15])), 1),\n",
       "                 x_shape=torch.Size([1, 15]))\n",
       "                 ,\n",
       "  DirectPosterior(\n",
       "                 method_family=snpe,\n",
       "                 net=<a Flow, see `.net` for details>,\n",
       "                 prior=BoxUniform(Uniform(low: torch.Size([15]), high: torch.Size([15])), 1),\n",
       "                 x_shape=torch.Size([1, 15]))\n",
       "                 ,\n",
       "  DirectPosterior(\n",
       "                 method_family=snpe,\n",
       "                 net=<a Flow, see `.net` for details>,\n",
       "                 prior=BoxUniform(Uniform(low: torch.Size([15]), high: torch.Size([15])), 1),\n",
       "                 x_shape=torch.Size([1, 15]))\n",
       "                 ,\n",
       "  DirectPosterior(\n",
       "                 method_family=snpe,\n",
       "                 net=<a Flow, see `.net` for details>,\n",
       "                 prior=BoxUniform(Uniform(low: torch.Size([15]), high: torch.Size([15])), 1),\n",
       "                 x_shape=torch.Size([1, 15]))\n",
       "                 ],\n",
       " [DirectPosterior(\n",
       "                 method_family=snpe,\n",
       "                 net=<a Flow, see `.net` for details>,\n",
       "                 prior=BoxUniform(Uniform(low: torch.Size([15]), high: torch.Size([15])), 1),\n",
       "                 x_shape=torch.Size([1, 15]))\n",
       "                 ,\n",
       "  DirectPosterior(\n",
       "                 method_family=snpe,\n",
       "                 net=<a Flow, see `.net` for details>,\n",
       "                 prior=BoxUniform(Uniform(low: torch.Size([15]), high: torch.Size([15])), 1),\n",
       "                 x_shape=torch.Size([1, 15]))\n",
       "                 ,\n",
       "  DirectPosterior(\n",
       "                 method_family=snpe,\n",
       "                 net=<a Flow, see `.net` for details>,\n",
       "                 prior=BoxUniform(Uniform(low: torch.Size([15]), high: torch.Size([15])), 1),\n",
       "                 x_shape=torch.Size([1, 15]))\n",
       "                 ,\n",
       "  DirectPosterior(\n",
       "                 method_family=snpe,\n",
       "                 net=<a Flow, see `.net` for details>,\n",
       "                 prior=BoxUniform(Uniform(low: torch.Size([15]), high: torch.Size([15])), 1),\n",
       "                 x_shape=torch.Size([1, 15]))\n",
       "                 ,\n",
       "  DirectPosterior(\n",
       "                 method_family=snpe,\n",
       "                 net=<a Flow, see `.net` for details>,\n",
       "                 prior=BoxUniform(Uniform(low: torch.Size([15]), high: torch.Size([15])), 1),\n",
       "                 x_shape=torch.Size([1, 15]))\n",
       "                 ,\n",
       "  DirectPosterior(\n",
       "                 method_family=snpe,\n",
       "                 net=<a Flow, see `.net` for details>,\n",
       "                 prior=BoxUniform(Uniform(low: torch.Size([15]), high: torch.Size([15])), 1),\n",
       "                 x_shape=torch.Size([1, 15]))\n",
       "                 ],\n",
       " [DirectPosterior(\n",
       "                 method_family=snpe,\n",
       "                 net=<a Flow, see `.net` for details>,\n",
       "                 prior=BoxUniform(Uniform(low: torch.Size([15]), high: torch.Size([15])), 1),\n",
       "                 x_shape=torch.Size([1, 15]))\n",
       "                 ,\n",
       "  DirectPosterior(\n",
       "                 method_family=snpe,\n",
       "                 net=<a Flow, see `.net` for details>,\n",
       "                 prior=BoxUniform(Uniform(low: torch.Size([15]), high: torch.Size([15])), 1),\n",
       "                 x_shape=torch.Size([1, 15]))\n",
       "                 ,\n",
       "  DirectPosterior(\n",
       "                 method_family=snpe,\n",
       "                 net=<a Flow, see `.net` for details>,\n",
       "                 prior=BoxUniform(Uniform(low: torch.Size([15]), high: torch.Size([15])), 1),\n",
       "                 x_shape=torch.Size([1, 15]))\n",
       "                 ,\n",
       "  DirectPosterior(\n",
       "                 method_family=snpe,\n",
       "                 net=<a Flow, see `.net` for details>,\n",
       "                 prior=BoxUniform(Uniform(low: torch.Size([15]), high: torch.Size([15])), 1),\n",
       "                 x_shape=torch.Size([1, 15]))\n",
       "                 ,\n",
       "  DirectPosterior(\n",
       "                 method_family=snpe,\n",
       "                 net=<a Flow, see `.net` for details>,\n",
       "                 prior=BoxUniform(Uniform(low: torch.Size([15]), high: torch.Size([15])), 1),\n",
       "                 x_shape=torch.Size([1, 15]))\n",
       "                 ,\n",
       "  DirectPosterior(\n",
       "                 method_family=snpe,\n",
       "                 net=<a Flow, see `.net` for details>,\n",
       "                 prior=BoxUniform(Uniform(low: torch.Size([15]), high: torch.Size([15])), 1),\n",
       "                 x_shape=torch.Size([1, 15]))\n",
       "                 ],\n",
       " [DirectPosterior(\n",
       "                 method_family=snpe,\n",
       "                 net=<a Flow, see `.net` for details>,\n",
       "                 prior=BoxUniform(Uniform(low: torch.Size([15]), high: torch.Size([15])), 1),\n",
       "                 x_shape=torch.Size([1, 15]))\n",
       "                 ,\n",
       "  DirectPosterior(\n",
       "                 method_family=snpe,\n",
       "                 net=<a Flow, see `.net` for details>,\n",
       "                 prior=BoxUniform(Uniform(low: torch.Size([15]), high: torch.Size([15])), 1),\n",
       "                 x_shape=torch.Size([1, 15]))\n",
       "                 ,\n",
       "  DirectPosterior(\n",
       "                 method_family=snpe,\n",
       "                 net=<a Flow, see `.net` for details>,\n",
       "                 prior=BoxUniform(Uniform(low: torch.Size([15]), high: torch.Size([15])), 1),\n",
       "                 x_shape=torch.Size([1, 15]))\n",
       "                 ,\n",
       "  DirectPosterior(\n",
       "                 method_family=snpe,\n",
       "                 net=<a Flow, see `.net` for details>,\n",
       "                 prior=BoxUniform(Uniform(low: torch.Size([15]), high: torch.Size([15])), 1),\n",
       "                 x_shape=torch.Size([1, 15]))\n",
       "                 ,\n",
       "  DirectPosterior(\n",
       "                 method_family=snpe,\n",
       "                 net=<a Flow, see `.net` for details>,\n",
       "                 prior=BoxUniform(Uniform(low: torch.Size([15]), high: torch.Size([15])), 1),\n",
       "                 x_shape=torch.Size([1, 15]))\n",
       "                 ,\n",
       "  DirectPosterior(\n",
       "                 method_family=snpe,\n",
       "                 net=<a Flow, see `.net` for details>,\n",
       "                 prior=BoxUniform(Uniform(low: torch.Size([15]), high: torch.Size([15])), 1),\n",
       "                 x_shape=torch.Size([1, 15]))\n",
       "                 ],\n",
       " [DirectPosterior(\n",
       "                 method_family=snpe,\n",
       "                 net=<a Flow, see `.net` for details>,\n",
       "                 prior=BoxUniform(Uniform(low: torch.Size([15]), high: torch.Size([15])), 1),\n",
       "                 x_shape=torch.Size([1, 15]))\n",
       "                 ,\n",
       "  DirectPosterior(\n",
       "                 method_family=snpe,\n",
       "                 net=<a Flow, see `.net` for details>,\n",
       "                 prior=BoxUniform(Uniform(low: torch.Size([15]), high: torch.Size([15])), 1),\n",
       "                 x_shape=torch.Size([1, 15]))\n",
       "                 ,\n",
       "  DirectPosterior(\n",
       "                 method_family=snpe,\n",
       "                 net=<a Flow, see `.net` for details>,\n",
       "                 prior=BoxUniform(Uniform(low: torch.Size([15]), high: torch.Size([15])), 1),\n",
       "                 x_shape=torch.Size([1, 15]))\n",
       "                 ,\n",
       "  DirectPosterior(\n",
       "                 method_family=snpe,\n",
       "                 net=<a Flow, see `.net` for details>,\n",
       "                 prior=BoxUniform(Uniform(low: torch.Size([15]), high: torch.Size([15])), 1),\n",
       "                 x_shape=torch.Size([1, 15]))\n",
       "                 ,\n",
       "  DirectPosterior(\n",
       "                 method_family=snpe,\n",
       "                 net=<a Flow, see `.net` for details>,\n",
       "                 prior=BoxUniform(Uniform(low: torch.Size([15]), high: torch.Size([15])), 1),\n",
       "                 x_shape=torch.Size([1, 15]))\n",
       "                 ,\n",
       "  DirectPosterior(\n",
       "                 method_family=snpe,\n",
       "                 net=<a Flow, see `.net` for details>,\n",
       "                 prior=BoxUniform(Uniform(low: torch.Size([15]), high: torch.Size([15])), 1),\n",
       "                 x_shape=torch.Size([1, 15]))\n",
       "                 ],\n",
       " [DirectPosterior(\n",
       "                 method_family=snpe,\n",
       "                 net=<a Flow, see `.net` for details>,\n",
       "                 prior=BoxUniform(Uniform(low: torch.Size([15]), high: torch.Size([15])), 1),\n",
       "                 x_shape=torch.Size([1, 15]))\n",
       "                 ,\n",
       "  DirectPosterior(\n",
       "                 method_family=snpe,\n",
       "                 net=<a Flow, see `.net` for details>,\n",
       "                 prior=BoxUniform(Uniform(low: torch.Size([15]), high: torch.Size([15])), 1),\n",
       "                 x_shape=torch.Size([1, 15]))\n",
       "                 ,\n",
       "  DirectPosterior(\n",
       "                 method_family=snpe,\n",
       "                 net=<a Flow, see `.net` for details>,\n",
       "                 prior=BoxUniform(Uniform(low: torch.Size([15]), high: torch.Size([15])), 1),\n",
       "                 x_shape=torch.Size([1, 15]))\n",
       "                 ,\n",
       "  DirectPosterior(\n",
       "                 method_family=snpe,\n",
       "                 net=<a Flow, see `.net` for details>,\n",
       "                 prior=BoxUniform(Uniform(low: torch.Size([15]), high: torch.Size([15])), 1),\n",
       "                 x_shape=torch.Size([1, 15]))\n",
       "                 ,\n",
       "  DirectPosterior(\n",
       "                 method_family=snpe,\n",
       "                 net=<a Flow, see `.net` for details>,\n",
       "                 prior=BoxUniform(Uniform(low: torch.Size([15]), high: torch.Size([15])), 1),\n",
       "                 x_shape=torch.Size([1, 15]))\n",
       "                 ,\n",
       "  DirectPosterior(\n",
       "                 method_family=snpe,\n",
       "                 net=<a Flow, see `.net` for details>,\n",
       "                 prior=BoxUniform(Uniform(low: torch.Size([15]), high: torch.Size([15])), 1),\n",
       "                 x_shape=torch.Size([1, 15]))\n",
       "                 ],\n",
       " [DirectPosterior(\n",
       "                 method_family=snpe,\n",
       "                 net=<a Flow, see `.net` for details>,\n",
       "                 prior=BoxUniform(Uniform(low: torch.Size([15]), high: torch.Size([15])), 1),\n",
       "                 x_shape=torch.Size([1, 15]))\n",
       "                 ,\n",
       "  DirectPosterior(\n",
       "                 method_family=snpe,\n",
       "                 net=<a Flow, see `.net` for details>,\n",
       "                 prior=BoxUniform(Uniform(low: torch.Size([15]), high: torch.Size([15])), 1),\n",
       "                 x_shape=torch.Size([1, 15]))\n",
       "                 ,\n",
       "  DirectPosterior(\n",
       "                 method_family=snpe,\n",
       "                 net=<a Flow, see `.net` for details>,\n",
       "                 prior=BoxUniform(Uniform(low: torch.Size([15]), high: torch.Size([15])), 1),\n",
       "                 x_shape=torch.Size([1, 15]))\n",
       "                 ,\n",
       "  DirectPosterior(\n",
       "                 method_family=snpe,\n",
       "                 net=<a Flow, see `.net` for details>,\n",
       "                 prior=BoxUniform(Uniform(low: torch.Size([15]), high: torch.Size([15])), 1),\n",
       "                 x_shape=torch.Size([1, 15]))\n",
       "                 ,\n",
       "  DirectPosterior(\n",
       "                 method_family=snpe,\n",
       "                 net=<a Flow, see `.net` for details>,\n",
       "                 prior=BoxUniform(Uniform(low: torch.Size([15]), high: torch.Size([15])), 1),\n",
       "                 x_shape=torch.Size([1, 15]))\n",
       "                 ,\n",
       "  DirectPosterior(\n",
       "                 method_family=snpe,\n",
       "                 net=<a Flow, see `.net` for details>,\n",
       "                 prior=BoxUniform(Uniform(low: torch.Size([15]), high: torch.Size([15])), 1),\n",
       "                 x_shape=torch.Size([1, 15]))\n",
       "                 ]]"
      ]
     },
     "execution_count": 14,
     "metadata": {},
     "output_type": "execute_result"
    }
   ],
   "source": [
    "list_collection"
   ]
  },
  {
   "cell_type": "markdown",
   "id": "cf8a483f",
   "metadata": {},
   "source": [
    "### For incremental approach: "
   ]
  },
  {
   "cell_type": "code",
   "execution_count": 111,
   "id": "047f28ad",
   "metadata": {},
   "outputs": [
    {
     "name": "stdout",
     "output_type": "stream",
     "text": [
      "5 10\n"
     ]
    },
    {
     "data": {
      "application/vnd.jupyter.widget-view+json": {
       "model_id": "41615fef2e964b54a8156320f5144a8c",
       "version_major": 2,
       "version_minor": 0
      },
      "text/plain": [
       "Running 200 simulations in 200 batches.:   0%|          | 0/200 [00:00<?, ?it/s]"
      ]
     },
     "metadata": {},
     "output_type": "display_data"
    },
    {
     "name": "stdout",
     "output_type": "stream",
     "text": [
      "Neural network successfully converged after 129 epochs.\n"
     ]
    },
    {
     "data": {
      "application/vnd.jupyter.widget-view+json": {
       "model_id": "ab9d776aa7db4d9eb0b5b049428b4321",
       "version_major": 2,
       "version_minor": 0
      },
      "text/plain": [
       "Drawing 1 posterior samples:   0%|          | 0/1 [00:00<?, ?it/s]"
      ]
     },
     "metadata": {},
     "output_type": "display_data"
    },
    {
     "name": "stdout",
     "output_type": "stream",
     "text": [
      "took  0:00:02.969460  for this step\n",
      "10 15\n"
     ]
    },
    {
     "data": {
      "application/vnd.jupyter.widget-view+json": {
       "model_id": "b84653feddd546868071f30ca4a29106",
       "version_major": 2,
       "version_minor": 0
      },
      "text/plain": [
       "Drawing 200 posterior samples:   0%|          | 0/200 [00:00<?, ?it/s]"
      ]
     },
     "metadata": {},
     "output_type": "display_data"
    },
    {
     "data": {
      "application/vnd.jupyter.widget-view+json": {
       "model_id": "bc7e45ba265e45c0ad25e6c647ea14bf",
       "version_major": 2,
       "version_minor": 0
      },
      "text/plain": [
       "Running 200 simulations in 200 batches.:   0%|          | 0/200 [00:00<?, ?it/s]"
      ]
     },
     "metadata": {},
     "output_type": "display_data"
    },
    {
     "name": "stdout",
     "output_type": "stream",
     "text": [
      "Neural network successfully converged after 41 epochs.\n"
     ]
    },
    {
     "data": {
      "application/vnd.jupyter.widget-view+json": {
       "model_id": "4969ac2fb8f14858aa71b65aa9af4a7b",
       "version_major": 2,
       "version_minor": 0
      },
      "text/plain": [
       "Drawing 1 posterior samples:   0%|          | 0/1 [00:00<?, ?it/s]"
      ]
     },
     "metadata": {},
     "output_type": "display_data"
    },
    {
     "name": "stdout",
     "output_type": "stream",
     "text": [
      "took  0:00:05.540664  for this step\n"
     ]
    },
    {
     "data": {
      "application/vnd.jupyter.widget-view+json": {
       "model_id": "93e7a4c066824e5b9ac72c6fd3d1b0bc",
       "version_major": 2,
       "version_minor": 0
      },
      "text/plain": [
       "Drawing 371 posterior samples:   0%|          | 0/371 [00:00<?, ?it/s]"
      ]
     },
     "metadata": {},
     "output_type": "display_data"
    },
    {
     "data": {
      "application/vnd.jupyter.widget-view+json": {
       "model_id": "11774cfd91fa403298a35687fd3e1ab6",
       "version_major": 2,
       "version_minor": 0
      },
      "text/plain": [
       "Running 371 simulations in 371 batches.:   0%|          | 0/371 [00:00<?, ?it/s]"
      ]
     },
     "metadata": {},
     "output_type": "display_data"
    },
    {
     "name": "stdout",
     "output_type": "stream",
     "text": [
      "Neural network successfully converged after 26 epochs.\n",
      "5 10\n"
     ]
    },
    {
     "data": {
      "application/vnd.jupyter.widget-view+json": {
       "model_id": "edbc09bc7e334f7e85413d57faf9c569",
       "version_major": 2,
       "version_minor": 0
      },
      "text/plain": [
       "Running 600 simulations in 600 batches.:   0%|          | 0/600 [00:00<?, ?it/s]"
      ]
     },
     "metadata": {},
     "output_type": "display_data"
    },
    {
     "name": "stdout",
     "output_type": "stream",
     "text": [
      "Neural network successfully converged after 95 epochs.\n"
     ]
    },
    {
     "data": {
      "application/vnd.jupyter.widget-view+json": {
       "model_id": "e6fac3465972429b8eae1ca48a45f6eb",
       "version_major": 2,
       "version_minor": 0
      },
      "text/plain": [
       "Drawing 1 posterior samples:   0%|          | 0/1 [00:00<?, ?it/s]"
      ]
     },
     "metadata": {},
     "output_type": "display_data"
    },
    {
     "name": "stdout",
     "output_type": "stream",
     "text": [
      "took  0:00:04.953893  for this step\n",
      "10 15\n"
     ]
    },
    {
     "data": {
      "application/vnd.jupyter.widget-view+json": {
       "model_id": "64ce973c873e4732a6f67d5a1640499a",
       "version_major": 2,
       "version_minor": 0
      },
      "text/plain": [
       "Drawing 600 posterior samples:   0%|          | 0/600 [00:00<?, ?it/s]"
      ]
     },
     "metadata": {},
     "output_type": "display_data"
    },
    {
     "data": {
      "application/vnd.jupyter.widget-view+json": {
       "model_id": "97515e2e5675421b9b1508d054db93d6",
       "version_major": 2,
       "version_minor": 0
      },
      "text/plain": [
       "Running 600 simulations in 600 batches.:   0%|          | 0/600 [00:00<?, ?it/s]"
      ]
     },
     "metadata": {},
     "output_type": "display_data"
    },
    {
     "name": "stdout",
     "output_type": "stream",
     "text": [
      "Neural network successfully converged after 80 epochs.\n"
     ]
    },
    {
     "data": {
      "application/vnd.jupyter.widget-view+json": {
       "model_id": "881f6bfcec2a4e869065cb685fb40a53",
       "version_major": 2,
       "version_minor": 0
      },
      "text/plain": [
       "Drawing 1 posterior samples:   0%|          | 0/1 [00:00<?, ?it/s]"
      ]
     },
     "metadata": {},
     "output_type": "display_data"
    },
    {
     "name": "stdout",
     "output_type": "stream",
     "text": [
      "took  0:00:30.711279  for this step\n"
     ]
    },
    {
     "data": {
      "application/vnd.jupyter.widget-view+json": {
       "model_id": "0aa3ab221c5f4780b5a25aa2fde16528",
       "version_major": 2,
       "version_minor": 0
      },
      "text/plain": [
       "Drawing 1114 posterior samples:   0%|          | 0/1114 [00:00<?, ?it/s]"
      ]
     },
     "metadata": {},
     "output_type": "display_data"
    },
    {
     "data": {
      "application/vnd.jupyter.widget-view+json": {
       "model_id": "691342ee7ef947f29a97914d303bbd2d",
       "version_major": 2,
       "version_minor": 0
      },
      "text/plain": [
       "Running 1114 simulations in 1114 batches.:   0%|          | 0/1114 [00:00<?, ?it/s]"
      ]
     },
     "metadata": {},
     "output_type": "display_data"
    },
    {
     "name": "stdout",
     "output_type": "stream",
     "text": [
      "Neural network successfully converged after 78 epochs.\n",
      "5 10\n"
     ]
    },
    {
     "data": {
      "application/vnd.jupyter.widget-view+json": {
       "model_id": "8f48c57e0d834e9db753120fdf237c53",
       "version_major": 2,
       "version_minor": 0
      },
      "text/plain": [
       "Running 1000 simulations in 1000 batches.:   0%|          | 0/1000 [00:00<?, ?it/s]"
      ]
     },
     "metadata": {},
     "output_type": "display_data"
    },
    {
     "name": "stdout",
     "output_type": "stream",
     "text": [
      "Neural network successfully converged after 69 epochs.\n"
     ]
    },
    {
     "data": {
      "application/vnd.jupyter.widget-view+json": {
       "model_id": "5580bbab210b4b8b93b7520494d22da6",
       "version_major": 2,
       "version_minor": 0
      },
      "text/plain": [
       "Drawing 1 posterior samples:   0%|          | 0/1 [00:00<?, ?it/s]"
      ]
     },
     "metadata": {},
     "output_type": "display_data"
    },
    {
     "name": "stdout",
     "output_type": "stream",
     "text": [
      "took  0:00:06.202922  for this step\n",
      "10 15\n"
     ]
    },
    {
     "data": {
      "application/vnd.jupyter.widget-view+json": {
       "model_id": "3c88020ecc5240acb9200ade22da0cdb",
       "version_major": 2,
       "version_minor": 0
      },
      "text/plain": [
       "Drawing 1000 posterior samples:   0%|          | 0/1000 [00:00<?, ?it/s]"
      ]
     },
     "metadata": {},
     "output_type": "display_data"
    },
    {
     "data": {
      "application/vnd.jupyter.widget-view+json": {
       "model_id": "e052c1fb391647c2896d91746fc6154d",
       "version_major": 2,
       "version_minor": 0
      },
      "text/plain": [
       "Running 1000 simulations in 1000 batches.:   0%|          | 0/1000 [00:00<?, ?it/s]"
      ]
     },
     "metadata": {},
     "output_type": "display_data"
    },
    {
     "name": "stdout",
     "output_type": "stream",
     "text": [
      "Neural network successfully converged after 156 epochs.\n"
     ]
    },
    {
     "data": {
      "application/vnd.jupyter.widget-view+json": {
       "model_id": "0c9796e00b8b43af8fced227e654a312",
       "version_major": 2,
       "version_minor": 0
      },
      "text/plain": [
       "Drawing 1 posterior samples:   0%|          | 0/1 [00:00<?, ?it/s]"
      ]
     },
     "metadata": {},
     "output_type": "display_data"
    },
    {
     "name": "stdout",
     "output_type": "stream",
     "text": [
      "took  0:01:48.754000  for this step\n"
     ]
    },
    {
     "data": {
      "application/vnd.jupyter.widget-view+json": {
       "model_id": "29a740189c4a444695f4d11c2a43ecd7",
       "version_major": 2,
       "version_minor": 0
      },
      "text/plain": [
       "Drawing 1857 posterior samples:   0%|          | 0/1857 [00:00<?, ?it/s]"
      ]
     },
     "metadata": {},
     "output_type": "display_data"
    },
    {
     "data": {
      "application/vnd.jupyter.widget-view+json": {
       "model_id": "dd41f58a0c974b10820745e05b403bd3",
       "version_major": 2,
       "version_minor": 0
      },
      "text/plain": [
       "Running 1857 simulations in 1857 batches.:   0%|          | 0/1857 [00:00<?, ?it/s]"
      ]
     },
     "metadata": {},
     "output_type": "display_data"
    },
    {
     "name": "stdout",
     "output_type": "stream",
     "text": [
      "Neural network successfully converged after 94 epochs.\n",
      "0:05:10.423422\n"
     ]
    }
   ],
   "source": [
    "range_list = [5,10, 15]\n",
    "\n",
    "import datetime\n",
    "\n",
    "list_collection_inc = []\n",
    "\n",
    "\n",
    "start = datetime.datetime.now()\n",
    "\n",
    "\n",
    "for i in range(1):\n",
    "    \n",
    "    np.random.seed(i)\n",
    "\n",
    "    posterior_incremental_list = []\n",
    "\n",
    "\n",
    "    for num_simulations in num_simulations_list:\n",
    "\n",
    "        prior_i = utils.torchutils.BoxUniform(low=prior_min[0:range_list[0]], high = prior_max[0:range_list[0]])\n",
    "\n",
    "        \n",
    "        simulator_stats, prior_i = prepare_for_sbi(Gaussian, prior_i)\n",
    "        \n",
    "        inf = SNPE_C(prior_i, density_estimator=\"mdn\")\n",
    "        \n",
    "        proposal = prior_i\n",
    "\n",
    "        start_num = 1\n",
    "\n",
    "        for index in range(len(range_list)-1):\n",
    "\n",
    "            ## i defines number of parameters to be inferred, j indicates how many parameters \n",
    "            #to come in the next round\n",
    "            i = range_list[index]\n",
    "            j = range_list[index+1]\n",
    "\n",
    "            print(i, j)\n",
    "\n",
    "            num_sim = int(num_simulations * (start_num / 7))\n",
    "\n",
    "            start_num += 6\n",
    "\n",
    "            start_time = datetime.datetime.now()\n",
    "\n",
    "            theta, x =  simulate_for_sbi(\n",
    "                simulator_stats,\n",
    "                proposal=proposal,\n",
    "                num_simulations=num_simulations,\n",
    "                num_workers=8,\n",
    "\n",
    "            )\n",
    "\n",
    "            inf = inf.append_simulations(theta, x)\n",
    "            neural_dens = inf.train()\n",
    "\n",
    "            posterior = inf.build_posterior(neural_dens)\n",
    "\n",
    "            if i < 2:\n",
    "                obs_real = Gaussian([true_thetas[0, 0:i]])\n",
    "\n",
    "            else:\n",
    "                obs_real = Gaussian(true_thetas[0, 0:i])\n",
    "\n",
    "\n",
    "            proposal1 = posterior.set_default_x(obs_real)\n",
    "\n",
    "            next_prior = utils.torchutils.BoxUniform(low=prior_min[i:j], high=prior_max[i:j])\n",
    "\n",
    "            combined_prior = Combined(proposal1, next_prior, number_params_1=i)\n",
    "\n",
    "\n",
    "            ## set inf for next round:\n",
    "            inf = SNPE_C(combined_prior, density_estimator=\"mdn\")\n",
    "\n",
    "\n",
    "            ## set combined prior to be the new prior_i:\n",
    "            proposal= combined_prior\n",
    "\n",
    "            finish_time = datetime.datetime.now()\n",
    "\n",
    "            diff = finish_time - start_time\n",
    "\n",
    "            print('took ', diff, ' for this step')\n",
    "\n",
    "        num_sim = int(num_simulations * (start_num / 7))\n",
    "\n",
    "        theta, x =  simulate_for_sbi(\n",
    "            simulator_stats,\n",
    "            proposal=proposal,\n",
    "            num_simulations=num_sim,\n",
    "            num_workers=8,\n",
    "\n",
    "        )\n",
    "\n",
    "        inf = inf.append_simulations(theta, x)\n",
    "        neural_dens = inf.train()\n",
    "\n",
    "        posterior_incremental = inf.build_posterior(neural_dens) \n",
    "\n",
    "        posterior_incremental_list.append(posterior_incremental)\n",
    "        \n",
    "    list_collection_inc.append(posterior_incremental_list)\n",
    "    \n",
    "    \n",
    "end = datetime.datetime.now()\n",
    "\n",
    "diff  = end - start\n",
    "\n",
    "print(diff)\n"
   ]
  },
  {
   "cell_type": "code",
   "execution_count": 112,
   "id": "5821b1a6",
   "metadata": {},
   "outputs": [],
   "source": [
    "torch.save(list_collection_inc, 'list_collection_inc.pt')"
   ]
  },
  {
   "cell_type": "code",
   "execution_count": 15,
   "id": "cbfd62fb",
   "metadata": {},
   "outputs": [],
   "source": [
    "list_collection_inc = torch.load('list_collection_inc.pt')"
   ]
  },
  {
   "cell_type": "code",
   "execution_count": 16,
   "id": "aa5adbbc",
   "metadata": {},
   "outputs": [],
   "source": [
    "import torch.nn.functional as F\n",
    "\n",
    "\n",
    "#out = F.kl_div(analytic_sample, posterior_sample)"
   ]
  },
  {
   "cell_type": "code",
   "execution_count": 17,
   "id": "583028a6",
   "metadata": {},
   "outputs": [],
   "source": [
    "def KL_Gauss(X, Y):\n",
    "    \n",
    "    sample_x = X.sample((1000,))\n",
    "    mu_x = torch.mean(sample_x, dim=0)\n",
    "    var_x = torch.std(sample_x, dim=0)\n",
    "\n",
    "    var_y = Y.stddev\n",
    "\n",
    "    mu_y = Y.mean\n",
    "    \n",
    "    \n",
    "    return torch.mean(np.log(var_y/var_x) + (var_x**2 + (mu_x - mu_y)**2)/(2*var_y**2) -(1/2))\n",
    "\n",
    "\n",
    "def calc_KL_1d(X, Y):\n",
    "    \n",
    "    sample_x = X.sample((1000,))\n",
    "    mu_x = torch.mean(sample_x, dim=0)\n",
    "    var_x = torch.std(sample_x, dim=0)\n",
    "    \n",
    "    print(var_x)\n",
    "    print(mu_x)\n",
    "\n",
    "\n",
    "    var_y = Y.stddev\n",
    "\n",
    "    mu_y = Y.mean\n",
    "    \n",
    "    print(mu_y)\n",
    "    print(var_y)\n",
    "    \n",
    "    print(np.log(var_y/var_x) + (var_x**2 + (mu_x - mu_y)**2)/(2*var_y**2) -(1/2))\n",
    "    \n",
    "    return np.log(var_y/var_x) + (var_x**2 + (mu_x - mu_y)**2)/(2*var_y**2) -(1/2)\n",
    "\n",
    "\n",
    "# calculate the jensen-shanon divergence\n",
    "def js_divergence(p, q):\n",
    "    m = 0.5 * (p + q)\n",
    "    return 0.5 * kl_divergence(p, m) + 0.5 * kl_divergence(q, m)"
   ]
  },
  {
   "cell_type": "code",
   "execution_count": 18,
   "id": "04ba5875",
   "metadata": {},
   "outputs": [
    {
     "data": {
      "text/plain": [
       "tensor([[1., 1., 1., 1., 1., 1., 1., 1., 1., 1., 1., 1., 1., 1., 1.]])"
      ]
     },
     "execution_count": 18,
     "metadata": {},
     "output_type": "execute_result"
    }
   ],
   "source": [
    "import torch\n",
    "\n",
    "analytic = torch.distributions.normal.Normal(true_thetas, 1)\n",
    "\n",
    "analytic.stddev"
   ]
  },
  {
   "cell_type": "code",
   "execution_count": 116,
   "id": "895b3acf",
   "metadata": {},
   "outputs": [
    {
     "name": "stdout",
     "output_type": "stream",
     "text": [
      "0.17.0\n"
     ]
    }
   ],
   "source": [
    "print(sbi.__version__)"
   ]
  },
  {
   "cell_type": "code",
   "execution_count": 119,
   "id": "fc3f63a6",
   "metadata": {},
   "outputs": [
    {
     "data": {
      "text/plain": [
       "[]"
      ]
     },
     "execution_count": 119,
     "metadata": {},
     "output_type": "execute_result"
    }
   ],
   "source": [
    "list_collection"
   ]
  },
  {
   "cell_type": "code",
   "execution_count": 117,
   "id": "7c746d65",
   "metadata": {},
   "outputs": [],
   "source": [
    "\n",
    "\n",
    "\n",
    "analytic = torch.distributions.normal.Normal(true_thetas, 1)\n",
    "\n",
    "\n",
    "overall_snpe_list = []\n",
    "\n",
    "\n",
    "## for round\n",
    "for posterior_snpe_list in list_collection:\n",
    "    \n",
    "    KL_snpe = []\n",
    "    KL_snpe_1d = []\n",
    "    \n",
    "    \n",
    "    ## for number of simulations\n",
    "    for posterior_snpe in posterior_snpe_list:\n",
    "\n",
    "\n",
    "        #KL = KLdivergence(posterior_snpe, sample_y)\n",
    "        KL = KL_Gauss(posterior_snpe, analytic)\n",
    "\n",
    "\n",
    "        KL_1d = calc_KL_1d(posterior_snpe, analytic)\n",
    "\n",
    "        KL_snpe_1d.append(KL_1d)\n",
    "\n",
    "        #KL_snpe_sum.append(sum_KL)\n",
    "\n",
    "        KL_snpe.append(KL)\n",
    "        \n",
    "    overall_snpe_list.append(KL_snpe)\n",
    "\n",
    "\n",
    "    \n",
    "    "
   ]
  },
  {
   "cell_type": "code",
   "execution_count": 118,
   "id": "a359814e",
   "metadata": {},
   "outputs": [
    {
     "data": {
      "application/vnd.jupyter.widget-view+json": {
       "model_id": "5a5cce8c32064595b154cd38b2d960c4",
       "version_major": 2,
       "version_minor": 0
      },
      "text/plain": [
       "Drawing 1000 posterior samples:   0%|          | 0/1000 [00:00<?, ?it/s]"
      ]
     },
     "metadata": {},
     "output_type": "display_data"
    },
    {
     "data": {
      "application/vnd.jupyter.widget-view+json": {
       "model_id": "2d7ffa71bdc44c22abd2c00176c25ec9",
       "version_major": 2,
       "version_minor": 0
      },
      "text/plain": [
       "Drawing 1000 posterior samples:   0%|          | 0/1000 [00:00<?, ?it/s]"
      ]
     },
     "metadata": {},
     "output_type": "display_data"
    },
    {
     "data": {
      "application/vnd.jupyter.widget-view+json": {
       "model_id": "f8b29f1cad20499b84431051aa61589e",
       "version_major": 2,
       "version_minor": 0
      },
      "text/plain": [
       "Drawing 1000 posterior samples:   0%|          | 0/1000 [00:00<?, ?it/s]"
      ]
     },
     "metadata": {},
     "output_type": "display_data"
    },
    {
     "data": {
      "application/vnd.jupyter.widget-view+json": {
       "model_id": "34f720acd1ca4617821a0b148ad50c07",
       "version_major": 2,
       "version_minor": 0
      },
      "text/plain": [
       "Drawing 1000 posterior samples:   0%|          | 0/1000 [00:00<?, ?it/s]"
      ]
     },
     "metadata": {},
     "output_type": "display_data"
    },
    {
     "data": {
      "application/vnd.jupyter.widget-view+json": {
       "model_id": "9e23f5f4c0cd480283b1572b8d40fecc",
       "version_major": 2,
       "version_minor": 0
      },
      "text/plain": [
       "Drawing 1000 posterior samples:   0%|          | 0/1000 [00:00<?, ?it/s]"
      ]
     },
     "metadata": {},
     "output_type": "display_data"
    },
    {
     "data": {
      "application/vnd.jupyter.widget-view+json": {
       "model_id": "b2c061ce2f6446e1bca0f135be78c13e",
       "version_major": 2,
       "version_minor": 0
      },
      "text/plain": [
       "Drawing 1000 posterior samples:   0%|          | 0/1000 [00:00<?, ?it/s]"
      ]
     },
     "metadata": {},
     "output_type": "display_data"
    },
    {
     "data": {
      "application/vnd.jupyter.widget-view+json": {
       "model_id": "2e9a642d90b4476e85f5c51d561d81cc",
       "version_major": 2,
       "version_minor": 0
      },
      "text/plain": [
       "Drawing 1000 posterior samples:   0%|          | 0/1000 [00:00<?, ?it/s]"
      ]
     },
     "metadata": {},
     "output_type": "display_data"
    },
    {
     "data": {
      "application/vnd.jupyter.widget-view+json": {
       "model_id": "07b10186c8704b8d9b3297d5fdc2fafd",
       "version_major": 2,
       "version_minor": 0
      },
      "text/plain": [
       "Drawing 1000 posterior samples:   0%|          | 0/1000 [00:00<?, ?it/s]"
      ]
     },
     "metadata": {},
     "output_type": "display_data"
    },
    {
     "data": {
      "application/vnd.jupyter.widget-view+json": {
       "model_id": "28f3752971184d71822d37d222859db4",
       "version_major": 2,
       "version_minor": 0
      },
      "text/plain": [
       "Drawing 1000 posterior samples:   0%|          | 0/1000 [00:00<?, ?it/s]"
      ]
     },
     "metadata": {},
     "output_type": "display_data"
    },
    {
     "data": {
      "application/vnd.jupyter.widget-view+json": {
       "model_id": "6fb4d68c96854412b51f7024bf09a02e",
       "version_major": 2,
       "version_minor": 0
      },
      "text/plain": [
       "Drawing 1000 posterior samples:   0%|          | 0/1000 [00:00<?, ?it/s]"
      ]
     },
     "metadata": {},
     "output_type": "display_data"
    },
    {
     "data": {
      "application/vnd.jupyter.widget-view+json": {
       "model_id": "d1ef7a5547334df78e4e0a27be287b3d",
       "version_major": 2,
       "version_minor": 0
      },
      "text/plain": [
       "Drawing 1000 posterior samples:   0%|          | 0/1000 [00:00<?, ?it/s]"
      ]
     },
     "metadata": {},
     "output_type": "display_data"
    },
    {
     "data": {
      "application/vnd.jupyter.widget-view+json": {
       "model_id": "88d12849043c4dae92faa27d1f7accfc",
       "version_major": 2,
       "version_minor": 0
      },
      "text/plain": [
       "Drawing 1000 posterior samples:   0%|          | 0/1000 [00:00<?, ?it/s]"
      ]
     },
     "metadata": {},
     "output_type": "display_data"
    },
    {
     "data": {
      "application/vnd.jupyter.widget-view+json": {
       "model_id": "ab84b182a7c74bcca0683f28cfe61c9a",
       "version_major": 2,
       "version_minor": 0
      },
      "text/plain": [
       "Drawing 1000 posterior samples:   0%|          | 0/1000 [00:00<?, ?it/s]"
      ]
     },
     "metadata": {},
     "output_type": "display_data"
    },
    {
     "data": {
      "application/vnd.jupyter.widget-view+json": {
       "model_id": "56af57cf126f453e8902e29e79e6d64b",
       "version_major": 2,
       "version_minor": 0
      },
      "text/plain": [
       "Drawing 1000 posterior samples:   0%|          | 0/1000 [00:00<?, ?it/s]"
      ]
     },
     "metadata": {},
     "output_type": "display_data"
    },
    {
     "data": {
      "application/vnd.jupyter.widget-view+json": {
       "model_id": "081e3ebe9a2f4670b0a75b8cf25ca4d4",
       "version_major": 2,
       "version_minor": 0
      },
      "text/plain": [
       "Drawing 1000 posterior samples:   0%|          | 0/1000 [00:00<?, ?it/s]"
      ]
     },
     "metadata": {},
     "output_type": "display_data"
    },
    {
     "data": {
      "application/vnd.jupyter.widget-view+json": {
       "model_id": "addd2b89c02f4f68b910500574c0932c",
       "version_major": 2,
       "version_minor": 0
      },
      "text/plain": [
       "Drawing 1000 posterior samples:   0%|          | 0/1000 [00:00<?, ?it/s]"
      ]
     },
     "metadata": {},
     "output_type": "display_data"
    },
    {
     "data": {
      "application/vnd.jupyter.widget-view+json": {
       "model_id": "ae42fa6cae7348699f7e4cc73fbafcd0",
       "version_major": 2,
       "version_minor": 0
      },
      "text/plain": [
       "Drawing 1000 posterior samples:   0%|          | 0/1000 [00:00<?, ?it/s]"
      ]
     },
     "metadata": {},
     "output_type": "display_data"
    },
    {
     "data": {
      "application/vnd.jupyter.widget-view+json": {
       "model_id": "86887c8e1eaa42ee881734f0df8bf958",
       "version_major": 2,
       "version_minor": 0
      },
      "text/plain": [
       "Drawing 1000 posterior samples:   0%|          | 0/1000 [00:00<?, ?it/s]"
      ]
     },
     "metadata": {},
     "output_type": "display_data"
    },
    {
     "data": {
      "application/vnd.jupyter.widget-view+json": {
       "model_id": "ae414a24e8be48edb3fefcd3278aa297",
       "version_major": 2,
       "version_minor": 0
      },
      "text/plain": [
       "Drawing 1000 posterior samples:   0%|          | 0/1000 [00:00<?, ?it/s]"
      ]
     },
     "metadata": {},
     "output_type": "display_data"
    },
    {
     "data": {
      "application/vnd.jupyter.widget-view+json": {
       "model_id": "369d0001b09345c890fc36f8fdff13b6",
       "version_major": 2,
       "version_minor": 0
      },
      "text/plain": [
       "Drawing 1000 posterior samples:   0%|          | 0/1000 [00:00<?, ?it/s]"
      ]
     },
     "metadata": {},
     "output_type": "display_data"
    },
    {
     "data": {
      "application/vnd.jupyter.widget-view+json": {
       "model_id": "4fbc8798701140f98ee7fbf0f00f01cc",
       "version_major": 2,
       "version_minor": 0
      },
      "text/plain": [
       "Drawing 1000 posterior samples:   0%|          | 0/1000 [00:00<?, ?it/s]"
      ]
     },
     "metadata": {},
     "output_type": "display_data"
    },
    {
     "data": {
      "application/vnd.jupyter.widget-view+json": {
       "model_id": "8b480991499e4c21911e3c5ea15720b5",
       "version_major": 2,
       "version_minor": 0
      },
      "text/plain": [
       "Drawing 1000 posterior samples:   0%|          | 0/1000 [00:00<?, ?it/s]"
      ]
     },
     "metadata": {},
     "output_type": "display_data"
    },
    {
     "data": {
      "application/vnd.jupyter.widget-view+json": {
       "model_id": "e738cac0686d48ac8d65436d87728da9",
       "version_major": 2,
       "version_minor": 0
      },
      "text/plain": [
       "Drawing 1000 posterior samples:   0%|          | 0/1000 [00:00<?, ?it/s]"
      ]
     },
     "metadata": {},
     "output_type": "display_data"
    },
    {
     "data": {
      "application/vnd.jupyter.widget-view+json": {
       "model_id": "288835e8820e40a3ba5012c05e5b7705",
       "version_major": 2,
       "version_minor": 0
      },
      "text/plain": [
       "Drawing 1000 posterior samples:   0%|          | 0/1000 [00:00<?, ?it/s]"
      ]
     },
     "metadata": {},
     "output_type": "display_data"
    },
    {
     "data": {
      "application/vnd.jupyter.widget-view+json": {
       "model_id": "e98f66835207493ab7c8e39c97433df2",
       "version_major": 2,
       "version_minor": 0
      },
      "text/plain": [
       "Drawing 1000 posterior samples:   0%|          | 0/1000 [00:00<?, ?it/s]"
      ]
     },
     "metadata": {},
     "output_type": "display_data"
    },
    {
     "data": {
      "application/vnd.jupyter.widget-view+json": {
       "model_id": "ef71f6a48a474346b80aef2f17932402",
       "version_major": 2,
       "version_minor": 0
      },
      "text/plain": [
       "Drawing 1000 posterior samples:   0%|          | 0/1000 [00:00<?, ?it/s]"
      ]
     },
     "metadata": {},
     "output_type": "display_data"
    },
    {
     "data": {
      "application/vnd.jupyter.widget-view+json": {
       "model_id": "dfca4b5e388d45d6a0483461d937422a",
       "version_major": 2,
       "version_minor": 0
      },
      "text/plain": [
       "Drawing 1000 posterior samples:   0%|          | 0/1000 [00:00<?, ?it/s]"
      ]
     },
     "metadata": {},
     "output_type": "display_data"
    },
    {
     "data": {
      "application/vnd.jupyter.widget-view+json": {
       "model_id": "750844d132b24a44b891b83a239fd199",
       "version_major": 2,
       "version_minor": 0
      },
      "text/plain": [
       "Drawing 1000 posterior samples:   0%|          | 0/1000 [00:00<?, ?it/s]"
      ]
     },
     "metadata": {},
     "output_type": "display_data"
    },
    {
     "data": {
      "application/vnd.jupyter.widget-view+json": {
       "model_id": "68767727015649348ddf02ead68c3c9e",
       "version_major": 2,
       "version_minor": 0
      },
      "text/plain": [
       "Drawing 1000 posterior samples:   0%|          | 0/1000 [00:00<?, ?it/s]"
      ]
     },
     "metadata": {},
     "output_type": "display_data"
    },
    {
     "data": {
      "application/vnd.jupyter.widget-view+json": {
       "model_id": "5a767face3054dd1a7f5bda99eaaa506",
       "version_major": 2,
       "version_minor": 0
      },
      "text/plain": [
       "Drawing 1000 posterior samples:   0%|          | 0/1000 [00:00<?, ?it/s]"
      ]
     },
     "metadata": {},
     "output_type": "display_data"
    },
    {
     "data": {
      "application/vnd.jupyter.widget-view+json": {
       "model_id": "0ec89e12d2334edbb528e5c7276037fe",
       "version_major": 2,
       "version_minor": 0
      },
      "text/plain": [
       "Drawing 1000 posterior samples:   0%|          | 0/1000 [00:00<?, ?it/s]"
      ]
     },
     "metadata": {},
     "output_type": "display_data"
    },
    {
     "data": {
      "application/vnd.jupyter.widget-view+json": {
       "model_id": "2d3c50ba4bcd450d9d8e80f2d0115082",
       "version_major": 2,
       "version_minor": 0
      },
      "text/plain": [
       "Drawing 1000 posterior samples:   0%|          | 0/1000 [00:00<?, ?it/s]"
      ]
     },
     "metadata": {},
     "output_type": "display_data"
    },
    {
     "data": {
      "application/vnd.jupyter.widget-view+json": {
       "model_id": "c87f5996d2274c0d8182b266b95ca6c0",
       "version_major": 2,
       "version_minor": 0
      },
      "text/plain": [
       "Drawing 1000 posterior samples:   0%|          | 0/1000 [00:00<?, ?it/s]"
      ]
     },
     "metadata": {},
     "output_type": "display_data"
    },
    {
     "data": {
      "application/vnd.jupyter.widget-view+json": {
       "model_id": "8715c69cc46f415899b000786f81925c",
       "version_major": 2,
       "version_minor": 0
      },
      "text/plain": [
       "Drawing 1000 posterior samples:   0%|          | 0/1000 [00:00<?, ?it/s]"
      ]
     },
     "metadata": {},
     "output_type": "display_data"
    },
    {
     "data": {
      "application/vnd.jupyter.widget-view+json": {
       "model_id": "2b799c889c7e412c8186b6bf0d541e6e",
       "version_major": 2,
       "version_minor": 0
      },
      "text/plain": [
       "Drawing 1000 posterior samples:   0%|          | 0/1000 [00:00<?, ?it/s]"
      ]
     },
     "metadata": {},
     "output_type": "display_data"
    },
    {
     "data": {
      "application/vnd.jupyter.widget-view+json": {
       "model_id": "fd6111a8466d4ddd850031a74837bba3",
       "version_major": 2,
       "version_minor": 0
      },
      "text/plain": [
       "Drawing 1000 posterior samples:   0%|          | 0/1000 [00:00<?, ?it/s]"
      ]
     },
     "metadata": {},
     "output_type": "display_data"
    },
    {
     "data": {
      "application/vnd.jupyter.widget-view+json": {
       "model_id": "bf7aee7183554d818d1b395a13fd05c4",
       "version_major": 2,
       "version_minor": 0
      },
      "text/plain": [
       "Drawing 1000 posterior samples:   0%|          | 0/1000 [00:00<?, ?it/s]"
      ]
     },
     "metadata": {},
     "output_type": "display_data"
    },
    {
     "data": {
      "application/vnd.jupyter.widget-view+json": {
       "model_id": "bb175ad8d452463c9495b0b08039a326",
       "version_major": 2,
       "version_minor": 0
      },
      "text/plain": [
       "Drawing 1000 posterior samples:   0%|          | 0/1000 [00:00<?, ?it/s]"
      ]
     },
     "metadata": {},
     "output_type": "display_data"
    },
    {
     "data": {
      "application/vnd.jupyter.widget-view+json": {
       "model_id": "74e14b732c3949fbbe8f66609c2abd90",
       "version_major": 2,
       "version_minor": 0
      },
      "text/plain": [
       "Drawing 1000 posterior samples:   0%|          | 0/1000 [00:00<?, ?it/s]"
      ]
     },
     "metadata": {},
     "output_type": "display_data"
    },
    {
     "data": {
      "application/vnd.jupyter.widget-view+json": {
       "model_id": "572580e6ab314ea2a72b9e4834424ec2",
       "version_major": 2,
       "version_minor": 0
      },
      "text/plain": [
       "Drawing 1000 posterior samples:   0%|          | 0/1000 [00:00<?, ?it/s]"
      ]
     },
     "metadata": {},
     "output_type": "display_data"
    },
    {
     "data": {
      "application/vnd.jupyter.widget-view+json": {
       "model_id": "0dbdc2230812497d89f2a32975dd1db4",
       "version_major": 2,
       "version_minor": 0
      },
      "text/plain": [
       "Drawing 1000 posterior samples:   0%|          | 0/1000 [00:00<?, ?it/s]"
      ]
     },
     "metadata": {},
     "output_type": "display_data"
    },
    {
     "data": {
      "application/vnd.jupyter.widget-view+json": {
       "model_id": "bb6b87305fbc47e688256d45524c4c16",
       "version_major": 2,
       "version_minor": 0
      },
      "text/plain": [
       "Drawing 1000 posterior samples:   0%|          | 0/1000 [00:00<?, ?it/s]"
      ]
     },
     "metadata": {},
     "output_type": "display_data"
    },
    {
     "data": {
      "application/vnd.jupyter.widget-view+json": {
       "model_id": "e47e80af7f5e42d289756e154c7cbf47",
       "version_major": 2,
       "version_minor": 0
      },
      "text/plain": [
       "Drawing 1000 posterior samples:   0%|          | 0/1000 [00:00<?, ?it/s]"
      ]
     },
     "metadata": {},
     "output_type": "display_data"
    },
    {
     "data": {
      "application/vnd.jupyter.widget-view+json": {
       "model_id": "859e940dcab547a4a3481b180223f0dc",
       "version_major": 2,
       "version_minor": 0
      },
      "text/plain": [
       "Drawing 1000 posterior samples:   0%|          | 0/1000 [00:00<?, ?it/s]"
      ]
     },
     "metadata": {},
     "output_type": "display_data"
    },
    {
     "data": {
      "application/vnd.jupyter.widget-view+json": {
       "model_id": "e2884bd333f846118324de236f82a56a",
       "version_major": 2,
       "version_minor": 0
      },
      "text/plain": [
       "Drawing 1000 posterior samples:   0%|          | 0/1000 [00:00<?, ?it/s]"
      ]
     },
     "metadata": {},
     "output_type": "display_data"
    },
    {
     "data": {
      "application/vnd.jupyter.widget-view+json": {
       "model_id": "7905714bcad94151b6af36c72faf3ce0",
       "version_major": 2,
       "version_minor": 0
      },
      "text/plain": [
       "Drawing 1000 posterior samples:   0%|          | 0/1000 [00:00<?, ?it/s]"
      ]
     },
     "metadata": {},
     "output_type": "display_data"
    },
    {
     "data": {
      "application/vnd.jupyter.widget-view+json": {
       "model_id": "9ade2aeeb17748c39d4f83a109103308",
       "version_major": 2,
       "version_minor": 0
      },
      "text/plain": [
       "Drawing 1000 posterior samples:   0%|          | 0/1000 [00:00<?, ?it/s]"
      ]
     },
     "metadata": {},
     "output_type": "display_data"
    },
    {
     "data": {
      "application/vnd.jupyter.widget-view+json": {
       "model_id": "a15fb524a3004d0ea6a5af7a0753d1bc",
       "version_major": 2,
       "version_minor": 0
      },
      "text/plain": [
       "Drawing 1000 posterior samples:   0%|          | 0/1000 [00:00<?, ?it/s]"
      ]
     },
     "metadata": {},
     "output_type": "display_data"
    },
    {
     "data": {
      "application/vnd.jupyter.widget-view+json": {
       "model_id": "e2bf47358b83461c98f45c2d8e913ad3",
       "version_major": 2,
       "version_minor": 0
      },
      "text/plain": [
       "Drawing 1000 posterior samples:   0%|          | 0/1000 [00:00<?, ?it/s]"
      ]
     },
     "metadata": {},
     "output_type": "display_data"
    },
    {
     "data": {
      "application/vnd.jupyter.widget-view+json": {
       "model_id": "229279bdc4304450984b28c860ac8a5f",
       "version_major": 2,
       "version_minor": 0
      },
      "text/plain": [
       "Drawing 1000 posterior samples:   0%|          | 0/1000 [00:00<?, ?it/s]"
      ]
     },
     "metadata": {},
     "output_type": "display_data"
    },
    {
     "data": {
      "application/vnd.jupyter.widget-view+json": {
       "model_id": "6887be59d54245e99bf5c91e64481c1b",
       "version_major": 2,
       "version_minor": 0
      },
      "text/plain": [
       "Drawing 1000 posterior samples:   0%|          | 0/1000 [00:00<?, ?it/s]"
      ]
     },
     "metadata": {},
     "output_type": "display_data"
    },
    {
     "data": {
      "application/vnd.jupyter.widget-view+json": {
       "model_id": "cc7b3b42d802470caafd39cfddfd0e90",
       "version_major": 2,
       "version_minor": 0
      },
      "text/plain": [
       "Drawing 1000 posterior samples:   0%|          | 0/1000 [00:00<?, ?it/s]"
      ]
     },
     "metadata": {},
     "output_type": "display_data"
    },
    {
     "data": {
      "application/vnd.jupyter.widget-view+json": {
       "model_id": "c701ecdf4fa0455886ab5ea7553df8a6",
       "version_major": 2,
       "version_minor": 0
      },
      "text/plain": [
       "Drawing 1000 posterior samples:   0%|          | 0/1000 [00:00<?, ?it/s]"
      ]
     },
     "metadata": {},
     "output_type": "display_data"
    },
    {
     "data": {
      "application/vnd.jupyter.widget-view+json": {
       "model_id": "4b15fa86f6f0488ab7ee05bbbb2acf09",
       "version_major": 2,
       "version_minor": 0
      },
      "text/plain": [
       "Drawing 1000 posterior samples:   0%|          | 0/1000 [00:00<?, ?it/s]"
      ]
     },
     "metadata": {},
     "output_type": "display_data"
    },
    {
     "data": {
      "application/vnd.jupyter.widget-view+json": {
       "model_id": "b732300044eb43a6be3faefad79b376c",
       "version_major": 2,
       "version_minor": 0
      },
      "text/plain": [
       "Drawing 1000 posterior samples:   0%|          | 0/1000 [00:00<?, ?it/s]"
      ]
     },
     "metadata": {},
     "output_type": "display_data"
    },
    {
     "data": {
      "application/vnd.jupyter.widget-view+json": {
       "model_id": "0a0db206e2354bd498342714d491fe98",
       "version_major": 2,
       "version_minor": 0
      },
      "text/plain": [
       "Drawing 1000 posterior samples:   0%|          | 0/1000 [00:00<?, ?it/s]"
      ]
     },
     "metadata": {},
     "output_type": "display_data"
    },
    {
     "data": {
      "application/vnd.jupyter.widget-view+json": {
       "model_id": "122fb98af4ca4499b5926c56083caa3f",
       "version_major": 2,
       "version_minor": 0
      },
      "text/plain": [
       "Drawing 1000 posterior samples:   0%|          | 0/1000 [00:00<?, ?it/s]"
      ]
     },
     "metadata": {},
     "output_type": "display_data"
    },
    {
     "data": {
      "application/vnd.jupyter.widget-view+json": {
       "model_id": "6578a0521cde448489c554e7e516cb84",
       "version_major": 2,
       "version_minor": 0
      },
      "text/plain": [
       "Drawing 1000 posterior samples:   0%|          | 0/1000 [00:00<?, ?it/s]"
      ]
     },
     "metadata": {},
     "output_type": "display_data"
    },
    {
     "data": {
      "application/vnd.jupyter.widget-view+json": {
       "model_id": "34d07113f003488ab55f5afaa30a68de",
       "version_major": 2,
       "version_minor": 0
      },
      "text/plain": [
       "Drawing 1000 posterior samples:   0%|          | 0/1000 [00:00<?, ?it/s]"
      ]
     },
     "metadata": {},
     "output_type": "display_data"
    },
    {
     "data": {
      "application/vnd.jupyter.widget-view+json": {
       "model_id": "e854e4ee41a646f7811d8d1b9779b71f",
       "version_major": 2,
       "version_minor": 0
      },
      "text/plain": [
       "Drawing 1000 posterior samples:   0%|          | 0/1000 [00:00<?, ?it/s]"
      ]
     },
     "metadata": {},
     "output_type": "display_data"
    }
   ],
   "source": [
    "obs_real = Gaussian(true_thetas[0, 0:])\n",
    "\n",
    "\n",
    "\n",
    "analytic = torch.distributions.normal.Normal(true_thetas, 1)\n",
    "\n",
    "\n",
    "overall_incremental_list = []\n",
    "\n",
    "for posterior_incremental_list in list_collection_inc:\n",
    "    \n",
    "    KL_incremental = []\n",
    "\n",
    "    for posterior_incremental in posterior_incremental_list:\n",
    "\n",
    "        posterior_incremental.set_default_x(obs_real)\n",
    "\n",
    "        #KL = KLdivergence(posterior_incremental, sample_y)\n",
    "\n",
    "        KL = KL_Gauss(posterior_incremental, analytic)\n",
    "\n",
    "        #KL_1d = calc_KL_1d(posterior_incremental, analytic)\n",
    "\n",
    "        #KL_incremental_1d.append(KL_1d)\n",
    "\n",
    "\n",
    "        KL_incremental.append(KL)\n",
    "\n",
    "        \n",
    "    overall_incremental_list.append(KL_incremental)\n",
    "\n",
    "    "
   ]
  },
  {
   "cell_type": "code",
   "execution_count": 115,
   "id": "3eaba219",
   "metadata": {},
   "outputs": [
    {
     "data": {
      "text/plain": [
       "1"
      ]
     },
     "execution_count": 115,
     "metadata": {},
     "output_type": "execute_result"
    }
   ],
   "source": [
    "len(overall_incremental_list)"
   ]
  },
  {
   "cell_type": "code",
   "execution_count": 87,
   "id": "b53a09ce",
   "metadata": {},
   "outputs": [],
   "source": [
    "mean_incremental = np.mean(np.array(overall_incremental_list), axis=0)\n",
    "\n",
    "\n",
    "stdev_incremental = np.std(np.array(overall_incremental_list), axis=0)\n",
    "\n",
    "\n",
    "\n",
    "lower_incremental = mean_incremental - [element * 0.5 for element in stdev_incremental]\n",
    "\n",
    "upper_incremental = mean_incremental + [element * 0.5 for element in stdev_incremental]\n"
   ]
  },
  {
   "cell_type": "code",
   "execution_count": 88,
   "id": "5d97bb01",
   "metadata": {},
   "outputs": [],
   "source": [
    "mean_snpe = np.mean(np.array(overall_snpe_list), axis=0)\n",
    "\n",
    "\n",
    "stdev_snpe = np.std(np.array(overall_snpe_list), axis=0)\n",
    "\n",
    "\n",
    "lower_snpe = mean_snpe - [element * 0.5 for element in stdev_snpe]\n",
    "\n",
    "upper_snpe = mean_snpe + [element * 0.5 for element in stdev_snpe]"
   ]
  },
  {
   "cell_type": "code",
   "execution_count": 68,
   "id": "ca5d2924",
   "metadata": {},
   "outputs": [],
   "source": [
    "num_simulations_list = [500, 750, 1000, 1500, 2000, 3000]"
   ]
  },
  {
   "cell_type": "code",
   "execution_count": 69,
   "id": "2e1c0835",
   "metadata": {},
   "outputs": [
    {
     "data": {
      "text/plain": [
       "array([99.38450165, 95.73804321, 36.53646088, 14.01561317, 12.37797699,\n",
       "       13.41503563])"
      ]
     },
     "execution_count": 69,
     "metadata": {},
     "output_type": "execute_result"
    }
   ],
   "source": [
    "lower_snpe"
   ]
  },
  {
   "cell_type": "code",
   "execution_count": 55,
   "id": "4fc26f65",
   "metadata": {},
   "outputs": [],
   "source": [
    "num_simulations_list = num_simulations_list[1:]\n",
    "mean_snpe = mean_snpe[1:]\n",
    "mean_incremental = mean_incremental[1:]\n",
    "stdev_snpe = stdev_snpe[1:]\n",
    "lower_snpe = lower_snpe[1:]\n",
    "upper_snpe = upper_snpe[1:]\n",
    "stdev_incremental = stdev_incremental[1:]\n",
    "lower_incremental = lower_incremental[1:]\n",
    "upper_incremental = upper_incremental[1:]"
   ]
  },
  {
   "cell_type": "markdown",
   "id": "7dfa31ca",
   "metadata": {},
   "source": [
    "### Compare KL-divergence of snpe approach with incremental approach in a plot:\n",
    "\n",
    "#### x = number of simulations per round/step"
   ]
  },
  {
   "cell_type": "code",
   "execution_count": 89,
   "id": "dace750d",
   "metadata": {},
   "outputs": [
    {
     "data": {
      "text/plain": [
       "Text(0.5, 0, 'simulations per round')"
      ]
     },
     "execution_count": 89,
     "metadata": {},
     "output_type": "execute_result"
    },
    {
     "data": {
      "image/png": "[encoded data removed]",
      "text/plain": [
       "<Figure size 1080x576 with 3 Axes>"
      ]
     },
     "metadata": {
      "needs_background": "light"
     },
     "output_type": "display_data"
    }
   ],
   "source": [
    "figure_mosaic = \"\"\"\n",
    "ACC\n",
    "BCC\n",
    "\"\"\"\n",
    "\n",
    "fig, axes = plt.subplot_mosaic(mosaic=figure_mosaic, figsize=(15, 8))\n",
    "\n",
    "    \n",
    "\n",
    "axes['B'].plot(num_simulations_list, mean_incremental, '-o', color='blue')\n",
    "axes['A'].plot(num_simulations_list, mean_snpe, '-o',  color='orange')\n",
    "\n",
    "axes['B'].plot(num_simulations_list, upper_incremental, '--', color='blue')\n",
    "axes['A'].plot(num_simulations_list, upper_snpe, '--',  color='orange')\n",
    "\n",
    "axes['B'].plot(num_simulations_list, lower_incremental, '--', color='blue')\n",
    "axes['A'].plot(num_simulations_list, lower_snpe, '--',  color='orange')\n",
    "\n",
    "\n",
    "axes['C'].plot(num_simulations_list, mean_incremental, '-o',label='incremental', color='blue')\n",
    "axes['C'].plot(num_simulations_list, mean_snpe, '-o', label='snpe', color='orange')\n",
    "\n",
    "axes['C'].plot(num_simulations_list, upper_incremental, '--', color='blue')\n",
    "axes['C'].plot(num_simulations_list, upper_snpe, '--',  color='orange')\n",
    "\n",
    "axes['C'].plot(num_simulations_list, lower_incremental, '--',  color='blue')\n",
    "axes['C'].plot(num_simulations_list, lower_snpe, '--',  color='orange')\n",
    "\n",
    "\n",
    "axes['C'].fill_between(x= num_simulations_list, y1=lower_incremental, y2=upper_incremental, color='blue', alpha=0.2,  label='1 stdv')\n",
    "axes['C'].fill_between(x= num_simulations_list, y1=lower_snpe, y2=upper_snpe, color='orange', alpha=0.2, label='1 stdv')\n",
    "\n",
    "\n",
    "axes['B'].fill_between(x= num_simulations_list, y1=lower_incremental, y2=upper_incremental, color='blue', alpha=0.2)\n",
    "axes['A'].fill_between(x= num_simulations_list, y1=lower_snpe, y2=upper_snpe, color='orange', alpha=0.2)\n",
    "\n",
    "\n",
    "axes['B'].fill_between(x= num_simulations_list, y1=lower_incremental, y2=upper_incremental, color='blue', alpha=0.2)\n",
    "axes['A'].fill_between(x= num_simulations_list, y1=lower_snpe, y2=upper_snpe, color='orange', alpha=0.2)\n",
    "\n",
    "\n",
    "#plt.title('KL loss')\n",
    "#axes['A'].legend()\n",
    "#axes['B'].legend()\n",
    "axes['C'].legend()\n",
    "\n",
    "plt.xlabel('simulations per round')\n",
    "plt.ylabel('KL divergence')\n",
    "\n",
    "axes['A'].set_title('SNPE')\n",
    "axes['B'].set_title('Incremental')\n",
    "\n",
    "#axes['A'].set_ylim((-5, 120))\n",
    "#axes['B'].set_ylim((-5, 120))\n",
    "#axes['C'].set_ylim((-5, 120))\n",
    "\n",
    "axes['C'].set_xlabel('simulations per round')\n",
    "\n",
    "\n",
    "#axes['B'].set_xticklabels(['0k','2k', '4k', '6k', '8k', '10k'])\n",
    "#axes['A'].set_xticklabels(['0k','2k', '4k', '6k', '8k', '10k'])\n",
    "#axes['C'].set_xticklabels(['0k','2k', '4k', '6k', '8k', '10k'])\n",
    "#plt.xticks(['1k', '3k', '5k', '10k'])"
   ]
  },
  {
   "cell_type": "code",
   "execution_count": 83,
   "id": "9f87e7f8",
   "metadata": {},
   "outputs": [],
   "source": [
    "mean_incremental = np.log(mean_incremental)\n",
    "\n",
    "mean_snpe = np.log(mean_snpe)\n",
    "\n",
    "lower_snpe = np.log(lower_snpe)\n",
    "\n",
    "upper_snpe = np.log(upper_snpe)\n",
    "\n",
    "lower_incremental = np.log(lower_incremental)\n",
    "\n",
    "upper_incremental = np.log(upper_incremental)"
   ]
  },
  {
   "cell_type": "code",
   "execution_count": 86,
   "id": "670344bf",
   "metadata": {},
   "outputs": [
    {
     "data": {
      "text/plain": [
       "Text(0.5, 1.0, 'Incremental')"
      ]
     },
     "execution_count": 86,
     "metadata": {},
     "output_type": "execute_result"
    },
    {
     "data": {
      "image/png": "[encoded data removed]",
      "text/plain": [
       "<Figure size 1080x576 with 3 Axes>"
      ]
     },
     "metadata": {
      "needs_background": "light"
     },
     "output_type": "display_data"
    }
   ],
   "source": [
    "figure_mosaic = \"\"\"\n",
    "ACC\n",
    "BCC\n",
    "\"\"\"\n",
    "\n",
    "fig, axes = plt.subplot_mosaic(mosaic=figure_mosaic, figsize=(15, 8))\n",
    "\n",
    "    \n",
    "\n",
    "axes['B'].plot(num_simulations_list, mean_incremental, '-o', color='blue')\n",
    "axes['A'].plot(num_simulations_list, mean_snpe, '-o',  color='orange')\n",
    "\n",
    "axes['B'].plot(num_simulations_list, upper_incremental, '--', color='blue')\n",
    "axes['A'].plot(num_simulations_list, upper_snpe, '--',  color='orange')\n",
    "\n",
    "axes['B'].plot(num_simulations_list, lower_incremental, '--', color='blue')\n",
    "axes['A'].plot(num_simulations_list, lower_snpe, '--',  color='orange')\n",
    "\n",
    "\n",
    "axes['C'].plot(num_simulations_list, mean_incremental, '-o',label='incremental', color='blue')\n",
    "axes['C'].plot(num_simulations_list, mean_snpe, '-o', label='snpe', color='orange')\n",
    "\n",
    "axes['C'].plot(num_simulations_list, upper_incremental, '--', color='blue')\n",
    "axes['C'].plot(num_simulations_list, upper_snpe, '--',  color='orange')\n",
    "\n",
    "axes['C'].plot(num_simulations_list, lower_incremental, '--',  color='blue')\n",
    "axes['C'].plot(num_simulations_list, lower_snpe, '--',  color='orange')\n",
    "\n",
    "\n",
    "axes['C'].fill_between(x= num_simulations_list, y1=lower_incremental, y2=upper_incremental, color='blue', alpha=0.2, label='1 stdev')\n",
    "axes['C'].fill_between(x= num_simulations_list, y1=lower_snpe, y2=upper_snpe, color='orange', alpha=0.2, label='1 stdev')\n",
    "\n",
    "\n",
    "axes['B'].fill_between(x= num_simulations_list, y1=lower_incremental, y2=upper_incremental, color='blue', alpha=0.2)\n",
    "axes['A'].fill_between(x= num_simulations_list, y1=lower_snpe, y2=upper_snpe, color='orange', alpha=0.2)\n",
    "\n",
    "\n",
    "axes['B'].fill_between(x= num_simulations_list, y1=lower_incremental, y2=upper_incremental, color='blue', alpha=0.2)\n",
    "axes['A'].fill_between(x= num_simulations_list, y1=lower_snpe, y2=upper_snpe, color='orange', alpha=0.2)\n",
    "\n",
    "\n",
    "#plt.title('KL loss')\n",
    "#axes['A'].legend()\n",
    "#axes['B'].legend()\n",
    "axes['C'].legend()\n",
    "\n",
    "plt.xlabel('simulations per round')\n",
    "plt.ylabel('KL divergence')\n",
    "\n",
    "axes['A'].set_title('SNPE')\n",
    "axes['B'].set_title('Incremental')\n",
    "\n",
    "#axes['A'].set_ylim((-0.5, 5))\n",
    "#axes['B'].set_ylim((-0.5, 5))\n",
    "#axes['C'].set_ylim((-0.5, 5))\n",
    "\n",
    "\n",
    "#axes['B'].set_xticklabels(['0k','2k', '4k', '6k', '8k', '10k'])\n",
    "#axes['A'].set_xticklabels(['0k','2k', '4k', '6"
   ]
  },
  {
   "cell_type": "code",
   "execution_count": 44,
   "id": "ec86eaf3",
   "metadata": {},
   "outputs": [
    {
     "name": "stderr",
     "output_type": "stream",
     "text": [
      "/home/ubuntu/miniconda3/envs/sbi_env/lib/python3.7/site-packages/numpy/core/shape_base.py:65: FutureWarning: The input object of type 'Tensor' is an array-like implementing one of the corresponding protocols (`__array__`, `__array_interface__` or `__array_struct__`); but not a sequence (or 0-D). In the future, this object will be coerced as if it was first converted using `np.array(obj)`. To retain the old behaviour, you have to either modify the type 'Tensor', or assign to an empty array created with `np.empty(correct_shape, dtype=object)`.\n",
      "  ary = asanyarray(ary)\n",
      "/home/ubuntu/miniconda3/envs/sbi_env/lib/python3.7/site-packages/numpy/core/shape_base.py:65: VisibleDeprecationWarning: Creating an ndarray from ragged nested sequences (which is a list-or-tuple of lists-or-tuples-or ndarrays with different lengths or shapes) is deprecated. If you meant to do this, you must specify 'dtype=object' when creating the ndarray.\n",
      "  ary = asanyarray(ary)\n"
     ]
    },
    {
     "ename": "ValueError",
     "evalue": "only one element tensors can be converted to Python scalars",
     "output_type": "error",
     "traceback": [
      "\u001b[0;31m---------------------------------------------------------------------------\u001b[0m",
      "\u001b[0;31mValueError\u001b[0m                                Traceback (most recent call last)",
      "\u001b[0;32m/tmp/ipykernel_92118/1637585160.py\u001b[0m in \u001b[0;36m<module>\u001b[0;34m\u001b[0m\n\u001b[1;32m     13\u001b[0m \u001b[0;32mfor\u001b[0m \u001b[0mj\u001b[0m \u001b[0;32min\u001b[0m \u001b[0mrange\u001b[0m\u001b[0;34m(\u001b[0m\u001b[0;36m8\u001b[0m\u001b[0;34m)\u001b[0m\u001b[0;34m:\u001b[0m\u001b[0;34m\u001b[0m\u001b[0;34m\u001b[0m\u001b[0m\n\u001b[1;32m     14\u001b[0m \u001b[0;34m\u001b[0m\u001b[0m\n\u001b[0;32m---> 15\u001b[0;31m     \u001b[0maxes\u001b[0m\u001b[0;34m[\u001b[0m\u001b[0;34m'A'\u001b[0m\u001b[0;34m]\u001b[0m\u001b[0;34m.\u001b[0m\u001b[0mplot\u001b[0m\u001b[0;34m(\u001b[0m\u001b[0mnum_simulations_list\u001b[0m\u001b[0;34m,\u001b[0m \u001b[0;34m[\u001b[0m\u001b[0mi\u001b[0m\u001b[0;34m[\u001b[0m\u001b[0mj\u001b[0m\u001b[0;34m]\u001b[0m \u001b[0;32mfor\u001b[0m \u001b[0mi\u001b[0m \u001b[0;32min\u001b[0m \u001b[0mKL_snpe_1d\u001b[0m\u001b[0;34m]\u001b[0m\u001b[0;34m,\u001b[0m \u001b[0;34m'--o'\u001b[0m\u001b[0;34m,\u001b[0m \u001b[0mcolor\u001b[0m\u001b[0;34m=\u001b[0m\u001b[0;34m'orange'\u001b[0m\u001b[0;34m,\u001b[0m \u001b[0malpha\u001b[0m\u001b[0;34m=\u001b[0m\u001b[0;36m0.4\u001b[0m\u001b[0;34m)\u001b[0m\u001b[0;34m\u001b[0m\u001b[0;34m\u001b[0m\u001b[0m\n\u001b[0m\u001b[1;32m     16\u001b[0m     \u001b[0maxes\u001b[0m\u001b[0;34m[\u001b[0m\u001b[0;34m'B'\u001b[0m\u001b[0;34m]\u001b[0m\u001b[0;34m.\u001b[0m\u001b[0mplot\u001b[0m\u001b[0;34m(\u001b[0m\u001b[0mnum_simulations_list\u001b[0m\u001b[0;34m,\u001b[0m \u001b[0;34m[\u001b[0m\u001b[0mi\u001b[0m\u001b[0;34m[\u001b[0m\u001b[0mj\u001b[0m\u001b[0;34m]\u001b[0m \u001b[0;32mfor\u001b[0m \u001b[0mi\u001b[0m \u001b[0;32min\u001b[0m \u001b[0mKL_incremental_1d\u001b[0m\u001b[0;34m]\u001b[0m\u001b[0;34m,\u001b[0m \u001b[0;34m'--o'\u001b[0m\u001b[0;34m,\u001b[0m \u001b[0mcolor\u001b[0m\u001b[0;34m=\u001b[0m\u001b[0;34m'blue'\u001b[0m\u001b[0;34m,\u001b[0m \u001b[0malpha\u001b[0m\u001b[0;34m=\u001b[0m\u001b[0;36m0.4\u001b[0m\u001b[0;34m)\u001b[0m\u001b[0;34m\u001b[0m\u001b[0;34m\u001b[0m\u001b[0m\n\u001b[1;32m     17\u001b[0m \u001b[0;34m\u001b[0m\u001b[0m\n",
      "\u001b[0;32m~/miniconda3/envs/sbi_env/lib/python3.7/site-packages/matplotlib/axes/_axes.py\u001b[0m in \u001b[0;36mplot\u001b[0;34m(self, scalex, scaley, data, *args, **kwargs)\u001b[0m\n\u001b[1;32m   1605\u001b[0m         \u001b[0mlines\u001b[0m \u001b[0;34m=\u001b[0m \u001b[0;34m[\u001b[0m\u001b[0;34m*\u001b[0m\u001b[0mself\u001b[0m\u001b[0;34m.\u001b[0m\u001b[0m_get_lines\u001b[0m\u001b[0;34m(\u001b[0m\u001b[0;34m*\u001b[0m\u001b[0margs\u001b[0m\u001b[0;34m,\u001b[0m \u001b[0mdata\u001b[0m\u001b[0;34m=\u001b[0m\u001b[0mdata\u001b[0m\u001b[0;34m,\u001b[0m \u001b[0;34m**\u001b[0m\u001b[0mkwargs\u001b[0m\u001b[0;34m)\u001b[0m\u001b[0;34m]\u001b[0m\u001b[0;34m\u001b[0m\u001b[0;34m\u001b[0m\u001b[0m\n\u001b[1;32m   1606\u001b[0m         \u001b[0;32mfor\u001b[0m \u001b[0mline\u001b[0m \u001b[0;32min\u001b[0m \u001b[0mlines\u001b[0m\u001b[0;34m:\u001b[0m\u001b[0;34m\u001b[0m\u001b[0;34m\u001b[0m\u001b[0m\n\u001b[0;32m-> 1607\u001b[0;31m             \u001b[0mself\u001b[0m\u001b[0;34m.\u001b[0m\u001b[0madd_line\u001b[0m\u001b[0;34m(\u001b[0m\u001b[0mline\u001b[0m\u001b[0;34m)\u001b[0m\u001b[0;34m\u001b[0m\u001b[0;34m\u001b[0m\u001b[0m\n\u001b[0m\u001b[1;32m   1608\u001b[0m         \u001b[0mself\u001b[0m\u001b[0;34m.\u001b[0m\u001b[0m_request_autoscale_view\u001b[0m\u001b[0;34m(\u001b[0m\u001b[0mscalex\u001b[0m\u001b[0;34m=\u001b[0m\u001b[0mscalex\u001b[0m\u001b[0;34m,\u001b[0m \u001b[0mscaley\u001b[0m\u001b[0;34m=\u001b[0m\u001b[0mscaley\u001b[0m\u001b[0;34m)\u001b[0m\u001b[0;34m\u001b[0m\u001b[0;34m\u001b[0m\u001b[0m\n\u001b[1;32m   1609\u001b[0m         \u001b[0;32mreturn\u001b[0m \u001b[0mlines\u001b[0m\u001b[0;34m\u001b[0m\u001b[0;34m\u001b[0m\u001b[0m\n",
      "\u001b[0;32m~/miniconda3/envs/sbi_env/lib/python3.7/site-packages/matplotlib/axes/_base.py\u001b[0m in \u001b[0;36madd_line\u001b[0;34m(self, line)\u001b[0m\n\u001b[1;32m   2099\u001b[0m             \u001b[0mline\u001b[0m\u001b[0;34m.\u001b[0m\u001b[0mset_clip_path\u001b[0m\u001b[0;34m(\u001b[0m\u001b[0mself\u001b[0m\u001b[0;34m.\u001b[0m\u001b[0mpatch\u001b[0m\u001b[0;34m)\u001b[0m\u001b[0;34m\u001b[0m\u001b[0;34m\u001b[0m\u001b[0m\n\u001b[1;32m   2100\u001b[0m \u001b[0;34m\u001b[0m\u001b[0m\n\u001b[0;32m-> 2101\u001b[0;31m         \u001b[0mself\u001b[0m\u001b[0;34m.\u001b[0m\u001b[0m_update_line_limits\u001b[0m\u001b[0;34m(\u001b[0m\u001b[0mline\u001b[0m\u001b[0;34m)\u001b[0m\u001b[0;34m\u001b[0m\u001b[0;34m\u001b[0m\u001b[0m\n\u001b[0m\u001b[1;32m   2102\u001b[0m         \u001b[0;32mif\u001b[0m \u001b[0;32mnot\u001b[0m \u001b[0mline\u001b[0m\u001b[0;34m.\u001b[0m\u001b[0mget_label\u001b[0m\u001b[0;34m(\u001b[0m\u001b[0;34m)\u001b[0m\u001b[0;34m:\u001b[0m\u001b[0;34m\u001b[0m\u001b[0;34m\u001b[0m\u001b[0m\n\u001b[1;32m   2103\u001b[0m             \u001b[0mline\u001b[0m\u001b[0;34m.\u001b[0m\u001b[0mset_label\u001b[0m\u001b[0;34m(\u001b[0m\u001b[0;34m'_line%d'\u001b[0m \u001b[0;34m%\u001b[0m \u001b[0mlen\u001b[0m\u001b[0;34m(\u001b[0m\u001b[0mself\u001b[0m\u001b[0;34m.\u001b[0m\u001b[0mlines\u001b[0m\u001b[0;34m)\u001b[0m\u001b[0;34m)\u001b[0m\u001b[0;34m\u001b[0m\u001b[0;34m\u001b[0m\u001b[0m\n",
      "\u001b[0;32m~/miniconda3/envs/sbi_env/lib/python3.7/site-packages/matplotlib/axes/_base.py\u001b[0m in \u001b[0;36m_update_line_limits\u001b[0;34m(self, line)\u001b[0m\n\u001b[1;32m   2121\u001b[0m         \u001b[0mFigures\u001b[0m \u001b[0mout\u001b[0m \u001b[0mthe\u001b[0m \u001b[0mdata\u001b[0m \u001b[0mlimit\u001b[0m \u001b[0mof\u001b[0m \u001b[0mthe\u001b[0m \u001b[0mgiven\u001b[0m \u001b[0mline\u001b[0m\u001b[0;34m,\u001b[0m \u001b[0mupdating\u001b[0m \u001b[0mself\u001b[0m\u001b[0;34m.\u001b[0m\u001b[0mdataLim\u001b[0m\u001b[0;34m.\u001b[0m\u001b[0;34m\u001b[0m\u001b[0;34m\u001b[0m\u001b[0m\n\u001b[1;32m   2122\u001b[0m         \"\"\"\n\u001b[0;32m-> 2123\u001b[0;31m         \u001b[0mpath\u001b[0m \u001b[0;34m=\u001b[0m \u001b[0mline\u001b[0m\u001b[0;34m.\u001b[0m\u001b[0mget_path\u001b[0m\u001b[0;34m(\u001b[0m\u001b[0;34m)\u001b[0m\u001b[0;34m\u001b[0m\u001b[0;34m\u001b[0m\u001b[0m\n\u001b[0m\u001b[1;32m   2124\u001b[0m         \u001b[0;32mif\u001b[0m \u001b[0mpath\u001b[0m\u001b[0;34m.\u001b[0m\u001b[0mvertices\u001b[0m\u001b[0;34m.\u001b[0m\u001b[0msize\u001b[0m \u001b[0;34m==\u001b[0m \u001b[0;36m0\u001b[0m\u001b[0;34m:\u001b[0m\u001b[0;34m\u001b[0m\u001b[0;34m\u001b[0m\u001b[0m\n\u001b[1;32m   2125\u001b[0m             \u001b[0;32mreturn\u001b[0m\u001b[0;34m\u001b[0m\u001b[0;34m\u001b[0m\u001b[0m\n",
      "\u001b[0;32m~/miniconda3/envs/sbi_env/lib/python3.7/site-packages/matplotlib/lines.py\u001b[0m in \u001b[0;36mget_path\u001b[0;34m(self)\u001b[0m\n\u001b[1;32m   1020\u001b[0m         \"\"\"\n\u001b[1;32m   1021\u001b[0m         \u001b[0;32mif\u001b[0m \u001b[0mself\u001b[0m\u001b[0;34m.\u001b[0m\u001b[0m_invalidy\u001b[0m \u001b[0;32mor\u001b[0m \u001b[0mself\u001b[0m\u001b[0;34m.\u001b[0m\u001b[0m_invalidx\u001b[0m\u001b[0;34m:\u001b[0m\u001b[0;34m\u001b[0m\u001b[0;34m\u001b[0m\u001b[0m\n\u001b[0;32m-> 1022\u001b[0;31m             \u001b[0mself\u001b[0m\u001b[0;34m.\u001b[0m\u001b[0mrecache\u001b[0m\u001b[0;34m(\u001b[0m\u001b[0;34m)\u001b[0m\u001b[0;34m\u001b[0m\u001b[0;34m\u001b[0m\u001b[0m\n\u001b[0m\u001b[1;32m   1023\u001b[0m         \u001b[0;32mreturn\u001b[0m \u001b[0mself\u001b[0m\u001b[0;34m.\u001b[0m\u001b[0m_path\u001b[0m\u001b[0;34m\u001b[0m\u001b[0;34m\u001b[0m\u001b[0m\n\u001b[1;32m   1024\u001b[0m \u001b[0;34m\u001b[0m\u001b[0m\n",
      "\u001b[0;32m~/miniconda3/envs/sbi_env/lib/python3.7/site-packages/matplotlib/lines.py\u001b[0m in \u001b[0;36mrecache\u001b[0;34m(self, always)\u001b[0m\n\u001b[1;32m    666\u001b[0m         \u001b[0;32mif\u001b[0m \u001b[0malways\u001b[0m \u001b[0;32mor\u001b[0m \u001b[0mself\u001b[0m\u001b[0;34m.\u001b[0m\u001b[0m_invalidy\u001b[0m\u001b[0;34m:\u001b[0m\u001b[0;34m\u001b[0m\u001b[0;34m\u001b[0m\u001b[0m\n\u001b[1;32m    667\u001b[0m             \u001b[0myconv\u001b[0m \u001b[0;34m=\u001b[0m \u001b[0mself\u001b[0m\u001b[0;34m.\u001b[0m\u001b[0mconvert_yunits\u001b[0m\u001b[0;34m(\u001b[0m\u001b[0mself\u001b[0m\u001b[0;34m.\u001b[0m\u001b[0m_yorig\u001b[0m\u001b[0;34m)\u001b[0m\u001b[0;34m\u001b[0m\u001b[0;34m\u001b[0m\u001b[0m\n\u001b[0;32m--> 668\u001b[0;31m             \u001b[0my\u001b[0m \u001b[0;34m=\u001b[0m \u001b[0m_to_unmasked_float_array\u001b[0m\u001b[0;34m(\u001b[0m\u001b[0myconv\u001b[0m\u001b[0;34m)\u001b[0m\u001b[0;34m.\u001b[0m\u001b[0mravel\u001b[0m\u001b[0;34m(\u001b[0m\u001b[0;34m)\u001b[0m\u001b[0;34m\u001b[0m\u001b[0;34m\u001b[0m\u001b[0m\n\u001b[0m\u001b[1;32m    669\u001b[0m         \u001b[0;32melse\u001b[0m\u001b[0;34m:\u001b[0m\u001b[0;34m\u001b[0m\u001b[0;34m\u001b[0m\u001b[0m\n\u001b[1;32m    670\u001b[0m             \u001b[0my\u001b[0m \u001b[0;34m=\u001b[0m \u001b[0mself\u001b[0m\u001b[0;34m.\u001b[0m\u001b[0m_y\u001b[0m\u001b[0;34m\u001b[0m\u001b[0;34m\u001b[0m\u001b[0m\n",
      "\u001b[0;32m~/miniconda3/envs/sbi_env/lib/python3.7/site-packages/matplotlib/cbook/__init__.py\u001b[0m in \u001b[0;36m_to_unmasked_float_array\u001b[0;34m(x)\u001b[0m\n\u001b[1;32m   1331\u001b[0m         \u001b[0;32mreturn\u001b[0m \u001b[0mnp\u001b[0m\u001b[0;34m.\u001b[0m\u001b[0mma\u001b[0m\u001b[0;34m.\u001b[0m\u001b[0masarray\u001b[0m\u001b[0;34m(\u001b[0m\u001b[0mx\u001b[0m\u001b[0;34m,\u001b[0m \u001b[0mfloat\u001b[0m\u001b[0;34m)\u001b[0m\u001b[0;34m.\u001b[0m\u001b[0mfilled\u001b[0m\u001b[0;34m(\u001b[0m\u001b[0mnp\u001b[0m\u001b[0;34m.\u001b[0m\u001b[0mnan\u001b[0m\u001b[0;34m)\u001b[0m\u001b[0;34m\u001b[0m\u001b[0;34m\u001b[0m\u001b[0m\n\u001b[1;32m   1332\u001b[0m     \u001b[0;32melse\u001b[0m\u001b[0;34m:\u001b[0m\u001b[0;34m\u001b[0m\u001b[0;34m\u001b[0m\u001b[0m\n\u001b[0;32m-> 1333\u001b[0;31m         \u001b[0;32mreturn\u001b[0m \u001b[0mnp\u001b[0m\u001b[0;34m.\u001b[0m\u001b[0masarray\u001b[0m\u001b[0;34m(\u001b[0m\u001b[0mx\u001b[0m\u001b[0;34m,\u001b[0m \u001b[0mfloat\u001b[0m\u001b[0;34m)\u001b[0m\u001b[0;34m\u001b[0m\u001b[0;34m\u001b[0m\u001b[0m\n\u001b[0m\u001b[1;32m   1334\u001b[0m \u001b[0;34m\u001b[0m\u001b[0m\n\u001b[1;32m   1335\u001b[0m \u001b[0;34m\u001b[0m\u001b[0m\n",
      "\u001b[0;31mValueError\u001b[0m: only one element tensors can be converted to Python scalars"
     ]
    },
    {
     "data": {
      "image/png": "[encoded data removed]",
      "text/plain": [
       "<Figure size 792x360 with 3 Axes>"
      ]
     },
     "metadata": {
      "needs_background": "light"
     },
     "output_type": "display_data"
    }
   ],
   "source": [
    "import matplotlib as mpl\n",
    "\n",
    "figure_mosaic = \"\"\"\n",
    "ACC\n",
    "BCC\n",
    "\"\"\"\n",
    "\n",
    "fig, axes = plt.subplot_mosaic(mosaic=figure_mosaic, figsize=(11, 5))\n",
    "\n",
    "    \n",
    "\n",
    "\n",
    "for j in range(8):\n",
    "\n",
    "    axes['A'].plot(num_simulations_list, [i[j] for i in KL_snpe_1d], '--o', color='orange', alpha=0.4)\n",
    "    axes['B'].plot(num_simulations_list, [i[j] for i in KL_incremental_1d], '--o', color='blue', alpha=0.4)\n",
    "    \n",
    "    axes['C'].plot(num_simulations_list, [i[j] for i in KL_snpe_1d], '--o', color='orange', alpha=1)\n",
    "    axes['C'].plot(num_simulations_list, [i[j] for i in KL_incremental_1d], '--o', color='blue', alpha=0.4)\n",
    "\n",
    "    \n",
    "axes['A'].legend(['snpe'])\n",
    "axes['B'].legend(['incremental'])\n",
    "axes['C'].legend()\n",
    "\n",
    "plt.xlabel('simulations per round')\n",
    "plt.ylabel('KL divergence')"
   ]
  },
  {
   "cell_type": "code",
   "execution_count": null,
   "id": "2a62708c",
   "metadata": {},
   "outputs": [],
   "source": []
  }
 ],
 "metadata": {
  "kernelspec": {
   "display_name": "Python 3 (ipykernel)",
   "language": "python",
   "name": "python3"
  },
  "language_info": {
   "codemirror_mode": {
    "name": "ipython",
    "version": 3
   },
   "file_extension": ".py",
   "mimetype": "text/x-python",
   "name": "python",
   "nbconvert_exporter": "python",
   "pygments_lexer": "ipython3",
   "version": "3.7.11"
  }
 },
 "nbformat": 4,
 "nbformat_minor": 5
}
