{
 "cells": [
  {
   "cell_type": "markdown",
   "id": "4adc7403",
   "metadata": {},
   "source": [
    "# Exploring parameters\n",
    "\n",
    "#### density plots, post predictive checks etc."
   ]
  },
  {
   "cell_type": "code",
   "execution_count": 1,
   "id": "e788d96d",
   "metadata": {},
   "outputs": [],
   "source": [
    "%load_ext autoreload\n",
    "%autoreload 2\n",
    "import os.path as op\n",
    "import tempfile\n",
    "\n",
    "import matplotlib.pyplot as plt\n",
    "\n",
    "\n",
    "import hnn_core\n",
    "from hnn_core import simulate_dipole, jones_2009_model\n",
    "from hnn_core.viz import plot_dipole\n",
    "\n",
    "\n",
    "import sys\n",
    "sys.path.append('../code/')\n",
    "sys.path.append('../code/utils/')\n",
    "#sys.path.append('../code/sbi/')\n",
    "#sys.path.append('../../results_cluster/')\n",
    "\n",
    "\n",
    "import numpy as np\n",
    "import torch\n",
    "\n",
    "# visualization\n",
    "import matplotlib as mpl\n",
    "import matplotlib.pyplot as plt\n",
    "\n",
    "\n",
    "import os\n",
    "\n",
    "#work_dir = '/home/ubuntu/sbi_for_eeg_data/code/'\n",
    "\n",
    "#os.chdir(work_dir)\n",
    "\n",
    "#from utils.plot import cov, compare_vars, plot_varchanges\n",
    "#from utils.plot import compare_KLs, plot_KLs\n",
    "#from sbi.inference import potentials\n",
    "import utils.sbi_modulated_functions\n",
    "\n",
    "# sbi\n",
    "from sbi import utils as utils\n",
    "from sbi import analysis as analysis\n",
    "from sbi.inference.base import infer\n",
    "from sbi.inference import SNPE, prepare_for_sbi, simulate_for_sbi\n",
    "\n",
    "from sbi.analysis import conditional_pairplot, conditional_corrcoeff\n",
    "\n",
    "\n",
    "\n",
    "# import the summary statistics that you want to investigate\n",
    "from summary_features.calculate_summary_features import calculate_summary_statistics_alternative as alternative_sumstats\n",
    "from summary_features.calculate_summary_features import calculate_summary_stats_temporal as temporal_sumstats\n",
    "from summary_features.calculate_summary_features import calculate_summary_stats_number as number_sumstats\n",
    "from summary_features.calculate_summary_features import calculate_summary_stats_temporal\n"
   ]
  },
  {
   "cell_type": "code",
   "execution_count": 2,
   "id": "ab993458",
   "metadata": {},
   "outputs": [
    {
     "name": "stdout",
     "output_type": "stream",
     "text": [
      "1.11.0\n"
     ]
    }
   ],
   "source": [
    "print(torch.__version__)"
   ]
  },
  {
   "cell_type": "code",
   "execution_count": 3,
   "id": "9c212ce0",
   "metadata": {},
   "outputs": [],
   "source": [
    "## defining neuronal network model\n",
    "\n",
    "num_params = 17\n",
    "\n",
    "from utils.simulation_wrapper import set_network_default, SimulationWrapper\n",
    "sim_wrapper = SimulationWrapper(num_params, noise=False)\n"
   ]
  },
  {
   "cell_type": "code",
   "execution_count": 4,
   "id": "b287160d",
   "metadata": {},
   "outputs": [],
   "source": [
    "window_len = 30\n",
    "\n",
    "if num_params == 6:\n",
    "    \n",
    "    prior_min_fix = [0.0, 11.3, 0.0, 43.8, 0.0, 89.491]\n",
    "    prior_max_fix = [0.160, 35.9, 0.821, 79.0, 8.104, 162.110]\n",
    "\n",
    "    prior_min = [0.0, 11.3, 0.0, 43.8, 0.0, 89.491]\n",
    "    prior_max = [0.160, 35.9, 0.821, 79.0, 8.104, 162.110]\n",
    "    #true_params = torch.tensor([[26.61, 63.53,  137.12]])\n",
    "    true_params = torch.tensor([[0.0274, 19.01, 0.1369, 61.89, 0.1435, 120.86]])\n",
    "\n",
    "    \n",
    "\n",
    "if num_params == 25:\n",
    "    prior_min = [0, 0, 0, 0, 0, 0, 0, 0, 13.3,    # prox1 weights\n",
    "                 0, 0, 0, 0, 0, 0, 51.980,            # distal weights\n",
    "                 0, 0, 0, 0, 0, 0, 0, 0, 112.13]       # prox2 weights\n",
    "\n",
    "\n",
    "    # ampa, nmda [0.927, 0.160, 2.093, 0.0519,        1.0, 1.0, 1.0, 1.0, 35.9,\n",
    "    #           0.0394, 0.000042, 0.039372,           0.854, 0.117,  0.480, 75.08,\n",
    "    #            0.000018, 8.633, 0.05375, 4.104,     1.0, 1.0, 1.0, 1.0, 162.110]\n",
    "\n",
    "    prior_max = [0.927, 1.0, 0.160, 1.0,  2.093, 1.0, 0.0519, 1.0, 35.9,\n",
    "                 0.0394, 0.117, 0.000042, 0.025902, 0.854, 0.480, 75.08,\n",
    "                 0.000018, 1.0, 8.633, 1.0, 0.05375, 1.0, 4.104,  1.0, 162.110]\n",
    "\n",
    "    true_params = torch.tensor([[0.277, 0.3739, 0.0399, 0.0, 0.6244, 0.3739, 0.034, 0.0, 18.977,\n",
    "                                 0.011467, 0.06337, 0.000012, 0.013407, 0.466095, 0.0767, 63.08,\n",
    "                                 0.000005, 0.116706, 4.6729, 0.016733, 0.011468, 0.061556, 2.33, 0.0679, 120.86]])\n",
    "    \n",
    "if num_params == 17:\n",
    "    \n",
    "    prior_min = [0, 0, 0, 0, 0, 13.3,  0, 0, 0, 0, 0, 51.980, 0, 0, 0, 0, 112.13]\n",
    "    prior_max = [0.927, 0.160, 2.093, 1.0, 1.0, 35.9, 0.000042, 0.039372, 0.025902,  0.480, 0.117, 75.08, 8.633, 4.104, 1.0, 1.0, 162.110]\n",
    "\n",
    "    true_params = torch.tensor([[0.277, 0.0399, 0.6244, 0.3739, 0.0, 18.977, 0.000012, 0.0115, 0.0134,  0.0767, 0.06337, 63.08, 4.6729, 2.33, 0.016733, 0.0679, 120.86]])\n",
    "\n",
    "\n",
    "prior = utils.torchutils.BoxUniform(low=prior_min, high=prior_max)\n",
    "\n",
    "#number_simulations = 10\n",
    "density_estimator = 'nsf'\n"
   ]
  },
  {
   "cell_type": "code",
   "execution_count": 5,
   "id": "e5528677",
   "metadata": {},
   "outputs": [],
   "source": [
    "\n",
    "#assert (prior.event_shape==torch.Size([25]))\n",
    "from utils import inference"
   ]
  },
  {
   "cell_type": "code",
   "execution_count": 6,
   "id": "d6ef33d2",
   "metadata": {},
   "outputs": [
    {
     "name": "stdout",
     "output_type": "stream",
     "text": [
      "/home/ubuntu/sbi_for_eeg_data/notebooks\n"
     ]
    }
   ],
   "source": [
    "from utils import inference\n",
    "\n",
    "import pickle\n",
    "from data_load_writer import *\n",
    "from data_load_writer import load_from_file as lf\n",
    "\n",
    "import os\n",
    "\n",
    "#work_dir = '/home/ubuntu/'\n",
    "\n",
    "#os.chdir(work_dir)\n",
    "\n",
    "\n",
    "\n",
    "import os\n",
    "\n",
    "print(os.getcwd())\n",
    "\n"
   ]
  },
  {
   "cell_type": "code",
   "execution_count": 7,
   "id": "230edc87",
   "metadata": {},
   "outputs": [
    {
     "name": "stdout",
     "output_type": "stream",
     "text": [
      "/home/ubuntu/sbi_for_eeg_data/notebooks\n",
      "/home/ubuntu/results\n"
     ]
    }
   ],
   "source": [
    "file = '10000sims_17params_05_04_nsf_threshold'\n",
    "#file = '10000sims_17params_20_04_nsf_threshold_lower_std'\n",
    "\n",
    "\n",
    "print(os.getcwd())\n",
    "\n",
    "os.chdir('/home/ubuntu/results')\n",
    "\n",
    "\n",
    "print(os.getcwd())\n",
    "  \n",
    "\n",
    "posterior = torch.load('{}/posterior.pt'.format(file))\n",
    "\n",
    "obs_real = torch.load('{}/obs_real.pt'.format(file))\n",
    "\n"
   ]
  },
  {
   "cell_type": "code",
   "execution_count": 8,
   "id": "03f770be",
   "metadata": {},
   "outputs": [],
   "source": [
    "obs_real_stat = posterior.default_x"
   ]
  },
  {
   "cell_type": "code",
   "execution_count": 9,
   "id": "20447a5a",
   "metadata": {},
   "outputs": [
    {
     "data": {
      "application/vnd.jupyter.widget-view+json": {
       "model_id": "8dc09632f7bd499ca2a16f73ed57a49d",
       "version_major": 2,
       "version_minor": 0
      },
      "text/plain": [
       "Drawing 10000 posterior samples:   0%|          | 0/10000 [00:00<?, ?it/s]"
      ]
     },
     "metadata": {},
     "output_type": "display_data"
    },
    {
     "name": "stdout",
     "output_type": "stream",
     "text": [
      "acceptance rate:  1.0\n"
     ]
    },
    {
     "name": "stderr",
     "output_type": "stream",
     "text": [
      "/home/ubuntu/miniconda3/envs/sbi_env/lib/python3.7/site-packages/nflows/transforms/lu.py:81: UserWarning: torch.triangular_solve is deprecated in favor of torch.linalg.solve_triangularand will be removed in a future PyTorch release.\n",
      "torch.linalg.solve_triangular has its arguments reversed and does not return a copy of one of the inputs.\n",
      "X = torch.triangular_solve(B, A).solution\n",
      "should be replaced with\n",
      "X = torch.linalg.solve_triangular(A, B). (Triggered internally at  /opt/conda/conda-bld/pytorch_1646755861072/work/aten/src/ATen/native/BatchLinearAlgebra.cpp:1672.)\n",
      "  outputs.t(), lower, upper=False, unitriangular=True\n"
     ]
    }
   ],
   "source": [
    "\n",
    "samples = posterior.sample((10000,))"
   ]
  },
  {
   "cell_type": "code",
   "execution_count": 10,
   "id": "7730ddaa",
   "metadata": {},
   "outputs": [
    {
     "data": {
      "application/vnd.jupyter.widget-view+json": {
       "model_id": "16bcb7e47b9a4644beed1a1036cecb08",
       "version_major": 2,
       "version_minor": 0
      },
      "text/plain": [
       "Drawing 100 posterior samples:   0%|          | 0/100 [00:00<?, ?it/s]"
      ]
     },
     "metadata": {},
     "output_type": "display_data"
    },
    {
     "name": "stdout",
     "output_type": "stream",
     "text": [
      "acceptance rate:  1.0\n"
     ]
    }
   ],
   "source": [
    "samples_t_100 = posterior.sample((100,))"
   ]
  },
  {
   "cell_type": "code",
   "execution_count": 11,
   "id": "e283b673",
   "metadata": {},
   "outputs": [],
   "source": [
    "parameter_names = [\"prox1_ampa_l2_bas\",\"prox1_ampa_l2_pyr\",\"prox1_ampa_l5_bas\",\"prox1_nmda_l5_bas\", \"prox1_nmda_l5_pyr\",\n",
    " \"t_prox1\",\n",
    " \"dist_ampa_l2_pyr\",\"dist_ampa_l2_bas\",\"dist_nmda_l2_pyr\",\n",
    " \"dist_nmda_l5_pyr\",\"dist_nmda_l2_bas\",\n",
    " \"t_dist\", \n",
    " \"prox2_ampa_l2_pyr\",\"prox2_ampa_l5_pyr\",\"prox2_nmda_l2_pyr\",\"prox2_nmda_l5_pyr\",\n",
    " \"t_prox2\"]\n",
    "\n",
    "if num_params ==6:\n",
    "    parameter_names = [\"prox_1_ampa_l2_pyr\",\n",
    "     \"t_evprox_1\",\n",
    "     \"dist_nmda_l2_pyr\",\n",
    "     \"t_evdist_1\", \n",
    "     \"prox_2_ampa_l5_pyr\",\n",
    "     \"t_evprox_2\"]"
   ]
  },
  {
   "cell_type": "code",
   "execution_count": 12,
   "id": "2a180df6",
   "metadata": {},
   "outputs": [
    {
     "name": "stdout",
     "output_type": "stream",
     "text": [
      "tensor([-2.7969e-01, -9.4104e-03, -1.6085e-01, -6.5285e-02, -5.3827e-03,\n",
      "         2.5634e+01, -1.6776e-05, -5.8247e-03, -2.0099e-02, -1.1369e-01,\n",
      "        -6.2773e-02,  5.5530e+01, -2.7606e+00, -1.6114e-01, -3.9884e-01,\n",
      "         1.5487e-01,  1.1846e+02])\n",
      "tensor([3.6474e-01, 1.1736e-01, 3.0766e+00, 1.3336e+00, 1.3737e-02, 2.7628e+01,\n",
      "        5.7965e-05, 4.9049e-02, 3.1486e-02, 1.7941e-01, 1.7959e-01, 6.4489e+01,\n",
      "        1.1317e+01, 4.3370e+00, 1.3829e+00, 1.0118e+00, 1.4724e+02])\n",
      "tensor([1.9333e-01, 3.8032e-02, 9.7125e-01, 4.1966e-01, 5.7358e-03, 5.9819e-01,\n",
      "        2.2422e-05, 1.6462e-02, 1.5475e-02, 8.7929e-02, 7.2708e-02, 2.6878e+00,\n",
      "        4.2233e+00, 1.3494e+00, 5.3452e-01, 2.5708e-01, 8.6366e+00])\n"
     ]
    }
   ],
   "source": [
    "##better limits:\n",
    "\n",
    "list_min = torch.min(samples, 0)[0]\n",
    "list_max = torch.max(samples, 0)[0]\n",
    "\n",
    "print(list_min)\n",
    "\n",
    "print(list_max)\n",
    "\n",
    "diff = torch.abs(list_max - list_min) * 0.3\n",
    "\n",
    "print(diff)\n",
    "\n",
    "list_min = list(list_min - diff)\n",
    "list_max = list(list_max + diff)\n",
    "\n",
    "limits = [list(tup) for tup in zip(list_min, list_max)]"
   ]
  },
  {
   "cell_type": "code",
   "execution_count": 13,
   "id": "e5e69980",
   "metadata": {},
   "outputs": [],
   "source": [
    "#limits = [list(tup ) for tup in zip(prior_min, prior_max)]\n",
    "\n",
    "parameter_names = [\"prox1_ampa_l2_bas\",\"prox1_ampa_l2_pyr\",\"prox1_ampa_l5_bas\",\"prox1_nmda_l5_bas\", \"prox1_nmda_l5_pyr\",\n",
    " \"t_prox1\",\n",
    " \"dist_ampa_l2_pyr\",\"dist_ampa_l2_bas\",\"dist_nmda_l2_pyr\",\n",
    " \"dist_nmda_l5_pyr\",\"dist_nmda_l2_bas\",\n",
    " \"t_dist\", \n",
    " \"prox2_ampa_l2_pyr\",\"prox2_ampa_l5_pyr\",\"prox2_nmda_l2_pyr\",\"prox2_nmda_l5_pyr\",\n",
    " \"t_prox2\"]"
   ]
  },
  {
   "cell_type": "code",
   "execution_count": 14,
   "id": "66e8fa85",
   "metadata": {},
   "outputs": [],
   "source": [
    "true_params_threshold = torch.tensor([0.08831, 0.01525, 0.19934, 0, 0, 26.61, \n",
    "                                     0.000007, 0.006562, 0.004317, 0.080074, 0.019482, 63.53,\n",
    "                                     1.43884, 0.684013, 0, 0, 137.12])"
   ]
  },
  {
   "cell_type": "code",
   "execution_count": 15,
   "id": "2bd31881",
   "metadata": {},
   "outputs": [],
   "source": [
    "parameter_names = [\"prox1_ampa_l2_bas\",\"prox1_ampa_l2_pyr\",\"prox1_ampa_l5_bas\",\"prox1_nmda_l5_bas\", \"prox1_nmda_l5_pyr\",\n",
    " \"t_prox1\",\n",
    " \"dist_ampa_l2_pyr\",\"dist_ampa_l2_bas\",\"dist_nmda_l2_pyr\",\n",
    " \"dist_nmda_l5_pyr\",\"dist_nmda_l2_bas\",\n",
    " \"t_dist\", \n",
    " \"prox2_ampa_l2_pyr\",\"prox2_ampa_l5_pyr\",\"prox2_nmda_l2_pyr\",\"prox2_nmda_l5_pyr\",\n",
    " \"t_prox2\"]\n",
    "\n",
    "true_params_supra = torch.tensor([0.08831, 0.01525,  0.19934, 0, 0, 26.61, 0, 0, 0, 0, 0, 63.53,\n",
    "                                 1.43884, 0.684013, 0, 0, 137.12])"
   ]
  },
  {
   "cell_type": "code",
   "execution_count": 16,
   "id": "ad7d7cce",
   "metadata": {},
   "outputs": [],
   "source": [
    "#file = '10000sims_17params_11_04_nsf_supra_ratio'\n",
    "#file = '10000sims_17params_20_04_nsf_supra_lower_std'\n",
    "file = '10000sims_17params_28_04_nsf_No'\n",
    "\n",
    "\n",
    "\n",
    "\n",
    "thetas = torch.load('{}/thetas.pt'.format(file))\n",
    "\n",
    "posterior = torch.load('{}/posterior.pt'.format(file))\n",
    "\n",
    "\n",
    "obs_real2 = torch.load('{}/obs_real.pt'.format(file))"
   ]
  },
  {
   "cell_type": "code",
   "execution_count": 17,
   "id": "12ed4319",
   "metadata": {},
   "outputs": [
    {
     "data": {
      "text/plain": [
       "<matplotlib.legend.Legend at 0x7f044e989d10>"
      ]
     },
     "execution_count": 17,
     "metadata": {},
     "output_type": "execute_result"
    },
    {
     "data": {
      "image/png": "[encoded data removed]",
      "text/plain": [
       "<Figure size 432x288 with 1 Axes>"
      ]
     },
     "metadata": {
      "needs_background": "light"
     },
     "output_type": "display_data"
    }
   ],
   "source": [
    "plt.plot(obs_real)\n",
    "plt.plot(obs_real2, label = 'supra')\n",
    "plt.legend()"
   ]
  },
  {
   "cell_type": "code",
   "execution_count": 18,
   "id": "ae00c49b",
   "metadata": {},
   "outputs": [
    {
     "data": {
      "application/vnd.jupyter.widget-view+json": {
       "model_id": "a90253b2c78d4ad7b34465773b5fc3b0",
       "version_major": 2,
       "version_minor": 0
      },
      "text/plain": [
       "Drawing 10000 posterior samples:   0%|          | 0/10000 [00:00<?, ?it/s]"
      ]
     },
     "metadata": {},
     "output_type": "display_data"
    },
    {
     "name": "stdout",
     "output_type": "stream",
     "text": [
      "acceptance rate:  1.0\n"
     ]
    }
   ],
   "source": [
    "samples_no = posterior.sample((10000,))"
   ]
  },
  {
   "cell_type": "code",
   "execution_count": 19,
   "id": "751f79ef",
   "metadata": {},
   "outputs": [
    {
     "ename": "NameError",
     "evalue": "name 'samples_supra' is not defined",
     "output_type": "error",
     "traceback": [
      "\u001b[0;31m---------------------------------------------------------------------------\u001b[0m",
      "\u001b[0;31mNameError\u001b[0m                                 Traceback (most recent call last)",
      "\u001b[0;32m/tmp/ipykernel_1294789/3818115402.py\u001b[0m in \u001b[0;36m<module>\u001b[0;34m\u001b[0m\n\u001b[0;32m----> 1\u001b[0;31m \u001b[0mtorch\u001b[0m\u001b[0;34m.\u001b[0m\u001b[0mcat\u001b[0m\u001b[0;34m(\u001b[0m\u001b[0;34m(\u001b[0m\u001b[0msamples_supra\u001b[0m\u001b[0;34m,\u001b[0m \u001b[0msamples\u001b[0m\u001b[0;34m)\u001b[0m\u001b[0;34m,\u001b[0m \u001b[0mdim\u001b[0m\u001b[0;34m=\u001b[0m\u001b[0;36m0\u001b[0m\u001b[0;34m)\u001b[0m\u001b[0;34m.\u001b[0m\u001b[0mshape\u001b[0m\u001b[0;34m\u001b[0m\u001b[0;34m\u001b[0m\u001b[0m\n\u001b[0m",
      "\u001b[0;31mNameError\u001b[0m: name 'samples_supra' is not defined"
     ]
    }
   ],
   "source": [
    "torch.cat((samples_supra, samples), dim=0).shape"
   ]
  },
  {
   "cell_type": "code",
   "execution_count": 20,
   "id": "9ebc54ed",
   "metadata": {},
   "outputs": [
    {
     "name": "stdout",
     "output_type": "stream",
     "text": [
      "tensor([-3.0085e-01, -1.0289e-01, -1.6085e-01, -3.4647e-01, -4.3227e-02,\n",
      "         1.2336e+01, -1.6776e-05, -1.1317e-02, -2.0099e-02, -1.1369e-01,\n",
      "        -6.2773e-02,  5.5268e+01, -2.7606e+00, -1.0563e+00, -3.9884e-01,\n",
      "        -2.1627e-01,  1.0028e+02])\n",
      "tensor([9.3136e-01, 1.9824e-01, 3.0766e+00, 1.3336e+00, 4.7005e-02, 3.3487e+01,\n",
      "        5.7965e-05, 4.9821e-02, 3.8802e-02, 6.2207e-01, 1.7959e-01, 7.5692e+01,\n",
      "        1.1374e+01, 4.3370e+00, 1.3829e+00, 1.0118e+00, 1.6831e+02])\n",
      "tensor([2.4644e-01, 6.0226e-02, 6.4750e-01, 3.3601e-01, 1.8047e-02, 4.2302e+00,\n",
      "        1.4948e-05, 1.2228e-02, 1.1780e-02, 1.4715e-01, 4.8472e-02, 4.0848e+00,\n",
      "        2.8268e+00, 1.0787e+00, 3.5634e-01, 2.4562e-01, 1.3606e+01])\n"
     ]
    }
   ],
   "source": [
    "##better limits:\n",
    "\n",
    "list_min = torch.min(torch.cat((samples_no, samples), dim=0), 0)[0]\n",
    "list_max = torch.max(torch.cat((samples_no, samples), dim=0), 0)[0]\n",
    "\n",
    "print(list_min)\n",
    "\n",
    "print(list_max)\n",
    "\n",
    "diff = torch.abs(list_max - list_min) * 0.2\n",
    "\n",
    "print(diff)\n",
    "\n",
    "list_min = list(list_min - diff)\n",
    "list_max = list(list_max + diff)\n",
    "\n",
    "limits = [list(tup) for tup in zip(list_min, list_max)]"
   ]
  },
  {
   "cell_type": "code",
   "execution_count": 21,
   "id": "be8c61f8",
   "metadata": {},
   "outputs": [
    {
     "data": {
      "text/plain": [
       "tensor([ 3.3053e-01,  4.3117e-02,  1.4824e+00,  3.2387e-01,  2.9596e-03,\n",
       "         2.8069e+01,  2.1051e-05,  2.0925e-02,  1.8355e-02,  3.5999e-01,\n",
       "         8.1889e-02,  6.9001e+01,  2.9998e+00,  5.8291e-02,  3.0210e-01,\n",
       "        -5.4011e-02,  1.6001e+02])"
      ]
     },
     "execution_count": 21,
     "metadata": {},
     "output_type": "execute_result"
    }
   ],
   "source": [
    "#limits = [list(tup) for tup in zip(prior_min, prior_max)]\n",
    "torch.mean(samples_no, dim=0)"
   ]
  },
  {
   "cell_type": "code",
   "execution_count": null,
   "id": "4ba2d191",
   "metadata": {},
   "outputs": [
    {
     "name": "stderr",
     "output_type": "stream",
     "text": [
      "/home/ubuntu/miniconda3/envs/sbi_env/lib/python3.7/site-packages/sbi/analysis/plot.py:420: UserWarning: No contour levels were found within the data range.\n",
      "  levels=opts[\"contour_offdiag\"][\"levels\"],\n",
      "/home/ubuntu/miniconda3/envs/sbi_env/lib/python3.7/site-packages/sbi/analysis/plot.py:420: UserWarning: No contour levels were found within the data range.\n",
      "  levels=opts[\"contour_offdiag\"][\"levels\"],\n"
     ]
    }
   ],
   "source": [
    "_ = analysis.pairplot(\n",
    "    samples = [samples_no, samples],\n",
    "    #points = [torch.mean(samples_no, dim=0), torch.mean(samples, dim=0)],\n",
    "    limits = limits,\n",
    "    #subset: List[int] = None,\n",
    "    upper = \"contour\",\n",
    "    diag = \"kde\",\n",
    "    figsize = (15, 15),\n",
    "    labels= parameter_names,\n",
    "\n",
    "    #ticks: Union[List, torch.Tensor] = [],\n",
    "    #points_colors = plt.rcParams[\"axes.prop_cycle\"].by_key()[\"color\"],\n",
    "    kde_offdiag = {\n",
    "            \"alpha\": [0.8, 0.2],\n",
    "            #\"edgecolor\": \"none\",\n",
    "            #\"rasterized\": False,\n",
    "            #'s': mpl.rcParams['lines.markersize'] ** 0.5,\n",
    "            \"bw_method\": \"scott\",\n",
    "            \"bins\": 50,\n",
    "            #'cmap': 'viridis'\n",
    "        },\n",
    "    hist_offdiag_alpha = 0.02,\n",
    "    points_offdiag={\"markersize\": 6},\n",
    "    #samples_colors = plt.rcParams[\"axes.prop_cycle\"].by_key()[\"color\"],\n",
    "    #fig=None,\n",
    "    #axes=None,\n",
    "    #**kwargs,\n",
    "    scatter_offdiag = {\n",
    "            \"alpha\": 0.2,\n",
    "            \"edgecolor\": \"none\",\n",
    "            \"rasterized\": True,\n",
    "            's': mpl.rcParams['lines.markersize'] ** 0.5\n",
    "        },\n",
    "    contour_offdiag={\"levels\":  [0.68, 0.95]},\n",
    "    samples_colors =  ['#00b300', '#0000ff'],\n",
    ")"
   ]
  },
  {
   "cell_type": "code",
   "execution_count": 25,
   "id": "5a1037c3",
   "metadata": {},
   "outputs": [
    {
     "data": {
      "text/plain": [
       "<Figure size 432x288 with 0 Axes>"
      ]
     },
     "metadata": {},
     "output_type": "display_data"
    }
   ],
   "source": [
    "plt.savefig('fig_4_11_threshold_no.png')"
   ]
  }
 ],
 "metadata": {
  "kernelspec": {
   "display_name": "Python 3 (ipykernel)",
   "language": "python",
   "name": "python3"
  },
  "language_info": {
   "codemirror_mode": {
    "name": "ipython",
    "version": 3
   },
   "file_extension": ".py",
   "mimetype": "text/x-python",
   "name": "python",
   "nbconvert_exporter": "python",
   "pygments_lexer": "ipython3",
   "version": "3.7.11"
  }
 },
 "nbformat": 4,
 "nbformat_minor": 5
}
