{
 "cells": [
  {
   "cell_type": "markdown",
   "metadata": {},
   "source": [
    "## Time series with time structured parameters and summary statistics\n",
    "\n",
    "Idea: construct a model $p(x|\\theta)$ with $\\theta = (\\theta_1,...\\theta_n)$ and summary statistics $s(x) = (s_1(x),...s_m(x))$ s.t.\n",
    "\n",
    "\n",
    "for all $i$ there exists a $j$, $j\\leq m$, and $l$, $j\\leq l$ such that\n",
    " \n",
    "$p(s_{1:i}|\\theta_{1:n} ) = p(s_{1:i}|\\theta_{1:j}) $.\n",
    "\n",
    "and \n",
    "\n",
    "$p(s_{1:i+1}|\\theta_{1:n} ) = p(s_{1:i+1}|\\theta_{1:l}) $."
   ]
  },
  {
   "cell_type": "markdown",
   "metadata": {},
   "source": [
    "### Examples:\n",
    "1. Piecewise linear function:\n",
    " - $\\theta_{1,2}$ : a and b of linear function f(x) = ax + b\n",
    " - $\\theta_{3,4}$ : time of changing point cp, and a2 of second slope\n",
    "\n",
    " 2. Sinusoidal waves with linearly increasing/decreasing amplitudes, and changing points at which this linear function changes.\n",
    " \n"
   ]
  },
  {
   "cell_type": "code",
   "execution_count": 1,
   "metadata": {},
   "outputs": [],
   "source": [
    "\n",
    "%load_ext autoreload\n",
    "%autoreload 2\n",
    "import numpy as np\n",
    "import scipy as scp\n",
    "import matplotlib.pyplot as plt\n",
    "\n",
    "\n",
    "import sys\n",
    "sys.path.append('../code/')\n",
    "\n",
    "import torch"
   ]
  },
  {
   "cell_type": "code",
   "execution_count": 2,
   "metadata": {},
   "outputs": [],
   "source": [
    "# sbi\n",
    "from sbi import utils as utils\n",
    "from sbi import analysis as analysis\n",
    "from sbi.inference.base import infer\n",
    "from sbi.inference import SNPE, prepare_for_sbi, simulate_for_sbi\n",
    "from sbi.inference import SNPE_C\n",
    "from utils.helpers import get_time\n",
    "\n",
    "from utils.sbi_modulated_functions import Combined\n"
   ]
  },
  {
   "cell_type": "code",
   "execution_count": 147,
   "metadata": {},
   "outputs": [],
   "source": [
    "def piecewise_linear(a1,b, a2,a3, cp1, cp2, add_noise=None):\n",
    "    \"\"\"\n",
    "    Args:\n",
    "        a1 (float): first slope\n",
    "        b (float): offset\n",
    "        a2 (float): second slope\n",
    "        a3 (float): 3rd slope\n",
    "        cp1, cp2 (float): changing points\n",
    "        add_noise (None or float): None or scale of Gaussian noise on all variables\n",
    "\n",
    "    Returns:\n",
    "        x,y (arrays): x and y of piecewise linear function. \n",
    "    \"\"\"\n",
    "    if not add_noise == None:\n",
    "        a1,b, a2,a3, cp1, cp2 = np.array([a1,b, a2,a3, cp1, cp2]) + scp.random.normal(scale=add_noise,size=6)       \n",
    "    \n",
    "    x = np.arange(0,10,0.01)\n",
    "    y = np.zeros(x.shape)\n",
    "    \n",
    "    # first piece\n",
    "    y[x<cp1] = (b+a1*x[x<cp1])\n",
    "    \n",
    "    # second piece     \n",
    "    y[(x>=cp1) & (x<cp2)] = y[np.sum(x<cp1)-1] + a2* (x[(x>=cp1) & (x<cp2)]  - cp1) \n",
    "    \n",
    "    # third piece\n",
    "    y[x>=cp2] = y[np.sum(x<cp2)-1] + a3* (x[x>=cp2] - cp2) \n",
    "    \n",
    "    \n",
    "    print('x',x)\n",
    "    print(y)\n",
    "    return y\n",
    "\n",
    "\n",
    "def piecewise_linear_first_batch(thetas):\n",
    "    \"\"\"\n",
    "    Args:\n",
    "        a1 (float): first slope\n",
    "        b (float): offset\n",
    "        a2 (float): second slope\n",
    "        a3 (float): 3rd slope\n",
    "        cp1, cp2 (float): changing points\n",
    "        add_noise (None or float): None or scale of Gaussian noise on all variables\n",
    "\n",
    "    Returns:\n",
    "        x,y (arrays): x and y of piecewise linear function. \n",
    "    \"\"\"\n",
    "    \n",
    "    a1 = thetas[0]\n",
    "    b = thetas[1]\n",
    "    a2 = np.float32(-2)\n",
    "    a3 = np.float32(3)\n",
    "    cp1 = np.float32(3)\n",
    "    cp2 = np.float32(6)\n",
    "    \n",
    "    add_noise=0.1\n",
    "    \n",
    "    if not add_noise == None:\n",
    "        a1,b, a2,a3, cp1, cp2 = np.array([a1,b, a2,a3, cp1, cp2]) + scp.random.normal(scale=add_noise,size=6)       \n",
    "    \n",
    "    x = torch.arange(0,10,0.01, dtype= torch.float32)\n",
    "    y = torch.zeros(x.shape)\n",
    "    \n",
    "    # first piece\n",
    "    y[x<cp1] = (b+a1*x[x<cp1])\n",
    "    \n",
    "    # second piece     \n",
    "    y[(x>=cp1) & (x<cp2)] = y[torch.sum(x<cp1)-1] + a2* (x[(x>=cp1) & (x<cp2)]  - cp1) \n",
    "    \n",
    "    # third piece\n",
    "    y[x>=cp2] = y[torch.sum(x<cp2)-1] + a3* (x[x>=cp2] - cp2) \n",
    "\n",
    "    \n",
    "    return y\n",
    "\n",
    "\n",
    "def piecewise_linear_second_batch(thetas):\n",
    "    \"\"\"\n",
    "    Args:\n",
    "        a1 (float): first slope\n",
    "        b (float): offset\n",
    "        a2 (float): second slope\n",
    "        a3 (float): 3rd slope\n",
    "        cp1, cp2 (float): changing points\n",
    "        add_noise (None or float): None or scale of Gaussian noise on all variables\n",
    "\n",
    "    Returns:\n",
    "        x,y (arrays): x and y of piecewise linear function. \n",
    "    \"\"\"\n",
    "    \n",
    "    a1 = thetas[0]\n",
    "    b = thetas[1]\n",
    "    a2 = thetas[2]\n",
    "    a3 = thetas[3]\n",
    "    cp1 = np.float32(3)\n",
    "    cp2 = np.float32(6)\n",
    "    \n",
    "    add_noise=0.1\n",
    "    \n",
    "    if not add_noise == None:\n",
    "        a1,b, a2,a3, cp1, cp2 = np.array([a1,b, a2,a3, cp1, cp2]) + scp.random.normal(scale=add_noise,size=6)       \n",
    "    \n",
    "    x = torch.arange(0,10,0.01)\n",
    "    y = torch.zeros(x.shape)\n",
    "    \n",
    "    # first piece\n",
    "    y[x<cp1] = (b+a1*x[x<cp1])\n",
    "    \n",
    "    # second piece     \n",
    "    y[(x>=cp1) & (x<cp2)] = y[torch.sum(x<cp1)-1] + a2* (x[(x>=cp1) & (x<cp2)]  - cp1) \n",
    "    \n",
    "    # third piece\n",
    "    y[x>=cp2] = y[torch.sum(x<cp2)-1] + a3* (x[x>=cp2] - cp2) \n",
    "\n",
    "    \n",
    "    return y\n",
    "\n",
    "\n",
    "def piecewise_linear_third_batch(thetas):\n",
    "    \"\"\"\n",
    "    Args:\n",
    "        a1 (float): first slope\n",
    "        b (float): offset\n",
    "        a2 (float): second slope\n",
    "        a3 (float): 3rd slope\n",
    "        cp1, cp2 (float): changing points\n",
    "        add_noise (None or float): None or scale of Gaussian noise on all variables\n",
    "\n",
    "    Returns:\n",
    "        x,y (arrays): x and y of piecewise linear function. \n",
    "    \"\"\"\n",
    "    \n",
    "    a1 = thetas[0]\n",
    "    b = thetas[1]\n",
    "    a2 = thetas[2]\n",
    "    a3 = thetas[3]\n",
    "    cp1 = thetas[4]\n",
    "    cp2 = thetas[5]\n",
    "    \n",
    "    add_noise=0.1\n",
    "    \n",
    "    if not add_noise == None:\n",
    "        a1,b, a2,a3, cp1, cp2 = np.array([a1,b, a2,a3, cp1, cp2]) + scp.random.normal(scale=add_noise,size=6)       \n",
    "    \n",
    "    x = torch.arange(0,10,0.01)\n",
    "    y = torch.zeros(x.shape)\n",
    "    \n",
    "    # first piece\n",
    "    y[x<cp1] = (b+a1*x[x<cp1])\n",
    "    \n",
    "    # second piece     \n",
    "    y[(x>=cp1) & (x<cp2)] = y[torch.sum(x<cp1)-1] + a2* (x[(x>=cp1) & (x<cp2)]  - cp1) \n",
    "    \n",
    "    # third piece\n",
    "    y[x>=cp2] = y[torch.sum(x<cp2)-1] + a3* (x[x>=cp2] - cp2) \n",
    "\n",
    "    \n",
    "    return y"
   ]
  },
  {
   "cell_type": "code",
   "execution_count": 148,
   "metadata": {},
   "outputs": [
    {
     "data": {
      "text/plain": [
       "[<matplotlib.lines.Line2D at 0x7f2f543d0a90>]"
      ]
     },
     "execution_count": 148,
     "metadata": {},
     "output_type": "execute_result"
    },
    {
     "data": {
      "image/png": "[encoded data removed]",
      "text/plain": [
       "<Figure size 432x288 with 1 Axes>"
      ]
     },
     "metadata": {
      "needs_background": "light"
     },
     "output_type": "display_data"
    }
   ],
   "source": [
    "true_params = [5, 5, -3, 2, 1, 5]\n",
    "\n",
    "x_lin = torch.arange(0,10,0.01)\n",
    "\n",
    "plt.plot(x_lin, piecewise_linear_third_batch(true_params))"
   ]
  },
  {
   "cell_type": "markdown",
   "metadata": {},
   "source": [
    "### Define prior and summary stats dependent on prior"
   ]
  },
  {
   "cell_type": "code",
   "execution_count": 149,
   "metadata": {},
   "outputs": [
    {
     "name": "stdout",
     "output_type": "stream",
     "text": [
      "-4.445427747631276 3.1275657172727334 7.112089109432761 -5.0476187679386655 3.512915366259395 6.431303551124101\n",
      "x [0.   0.01 0.02 0.03 0.04 0.05 0.06 0.07 0.08 0.09 0.1  0.11 0.12 0.13\n",
      " 0.14 0.15 0.16 0.17 0.18 0.19 0.2  0.21 0.22 0.23 0.24 0.25 0.26 0.27\n",
      " 0.28 0.29 0.3  0.31 0.32 0.33 0.34 0.35 0.36 0.37 0.38 0.39 0.4  0.41\n",
      " 0.42 0.43 0.44 0.45 0.46 0.47 0.48 0.49 0.5  0.51 0.52 0.53 0.54 0.55\n",
      " 0.56 0.57 0.58 0.59 0.6  0.61 0.62 0.63 0.64 0.65 0.66 0.67 0.68 0.69\n",
      " 0.7  0.71 0.72 0.73 0.74 0.75 0.76 0.77 0.78 0.79 0.8  0.81 0.82 0.83\n",
      " 0.84 0.85 0.86 0.87 0.88 0.89 0.9  0.91 0.92 0.93 0.94 0.95 0.96 0.97\n",
      " 0.98 0.99 1.   1.01 1.02 1.03 1.04 1.05 1.06 1.07 1.08 1.09 1.1  1.11\n",
      " 1.12 1.13 1.14 1.15 1.16 1.17 1.18 1.19 1.2  1.21 1.22 1.23 1.24 1.25\n",
      " 1.26 1.27 1.28 1.29 1.3  1.31 1.32 1.33 1.34 1.35 1.36 1.37 1.38 1.39\n",
      " 1.4  1.41 1.42 1.43 1.44 1.45 1.46 1.47 1.48 1.49 1.5  1.51 1.52 1.53\n",
      " 1.54 1.55 1.56 1.57 1.58 1.59 1.6  1.61 1.62 1.63 1.64 1.65 1.66 1.67\n",
      " 1.68 1.69 1.7  1.71 1.72 1.73 1.74 1.75 1.76 1.77 1.78 1.79 1.8  1.81\n",
      " 1.82 1.83 1.84 1.85 1.86 1.87 1.88 1.89 1.9  1.91 1.92 1.93 1.94 1.95\n",
      " 1.96 1.97 1.98 1.99 2.   2.01 2.02 2.03 2.04 2.05 2.06 2.07 2.08 2.09\n",
      " 2.1  2.11 2.12 2.13 2.14 2.15 2.16 2.17 2.18 2.19 2.2  2.21 2.22 2.23\n",
      " 2.24 2.25 2.26 2.27 2.28 2.29 2.3  2.31 2.32 2.33 2.34 2.35 2.36 2.37\n",
      " 2.38 2.39 2.4  2.41 2.42 2.43 2.44 2.45 2.46 2.47 2.48 2.49 2.5  2.51\n",
      " 2.52 2.53 2.54 2.55 2.56 2.57 2.58 2.59 2.6  2.61 2.62 2.63 2.64 2.65\n",
      " 2.66 2.67 2.68 2.69 2.7  2.71 2.72 2.73 2.74 2.75 2.76 2.77 2.78 2.79\n",
      " 2.8  2.81 2.82 2.83 2.84 2.85 2.86 2.87 2.88 2.89 2.9  2.91 2.92 2.93\n",
      " 2.94 2.95 2.96 2.97 2.98 2.99 3.   3.01 3.02 3.03 3.04 3.05 3.06 3.07\n",
      " 3.08 3.09 3.1  3.11 3.12 3.13 3.14 3.15 3.16 3.17 3.18 3.19 3.2  3.21\n",
      " 3.22 3.23 3.24 3.25 3.26 3.27 3.28 3.29 3.3  3.31 3.32 3.33 3.34 3.35\n",
      " 3.36 3.37 3.38 3.39 3.4  3.41 3.42 3.43 3.44 3.45 3.46 3.47 3.48 3.49\n",
      " 3.5  3.51 3.52 3.53 3.54 3.55 3.56 3.57 3.58 3.59 3.6  3.61 3.62 3.63\n",
      " 3.64 3.65 3.66 3.67 3.68 3.69 3.7  3.71 3.72 3.73 3.74 3.75 3.76 3.77\n",
      " 3.78 3.79 3.8  3.81 3.82 3.83 3.84 3.85 3.86 3.87 3.88 3.89 3.9  3.91\n",
      " 3.92 3.93 3.94 3.95 3.96 3.97 3.98 3.99 4.   4.01 4.02 4.03 4.04 4.05\n",
      " 4.06 4.07 4.08 4.09 4.1  4.11 4.12 4.13 4.14 4.15 4.16 4.17 4.18 4.19\n",
      " 4.2  4.21 4.22 4.23 4.24 4.25 4.26 4.27 4.28 4.29 4.3  4.31 4.32 4.33\n",
      " 4.34 4.35 4.36 4.37 4.38 4.39 4.4  4.41 4.42 4.43 4.44 4.45 4.46 4.47\n",
      " 4.48 4.49 4.5  4.51 4.52 4.53 4.54 4.55 4.56 4.57 4.58 4.59 4.6  4.61\n",
      " 4.62 4.63 4.64 4.65 4.66 4.67 4.68 4.69 4.7  4.71 4.72 4.73 4.74 4.75\n",
      " 4.76 4.77 4.78 4.79 4.8  4.81 4.82 4.83 4.84 4.85 4.86 4.87 4.88 4.89\n",
      " 4.9  4.91 4.92 4.93 4.94 4.95 4.96 4.97 4.98 4.99 5.   5.01 5.02 5.03\n",
      " 5.04 5.05 5.06 5.07 5.08 5.09 5.1  5.11 5.12 5.13 5.14 5.15 5.16 5.17\n",
      " 5.18 5.19 5.2  5.21 5.22 5.23 5.24 5.25 5.26 5.27 5.28 5.29 5.3  5.31\n",
      " 5.32 5.33 5.34 5.35 5.36 5.37 5.38 5.39 5.4  5.41 5.42 5.43 5.44 5.45\n",
      " 5.46 5.47 5.48 5.49 5.5  5.51 5.52 5.53 5.54 5.55 5.56 5.57 5.58 5.59\n",
      " 5.6  5.61 5.62 5.63 5.64 5.65 5.66 5.67 5.68 5.69 5.7  5.71 5.72 5.73\n",
      " 5.74 5.75 5.76 5.77 5.78 5.79 5.8  5.81 5.82 5.83 5.84 5.85 5.86 5.87\n",
      " 5.88 5.89 5.9  5.91 5.92 5.93 5.94 5.95 5.96 5.97 5.98 5.99 6.   6.01\n",
      " 6.02 6.03 6.04 6.05 6.06 6.07 6.08 6.09 6.1  6.11 6.12 6.13 6.14 6.15\n",
      " 6.16 6.17 6.18 6.19 6.2  6.21 6.22 6.23 6.24 6.25 6.26 6.27 6.28 6.29\n",
      " 6.3  6.31 6.32 6.33 6.34 6.35 6.36 6.37 6.38 6.39 6.4  6.41 6.42 6.43\n",
      " 6.44 6.45 6.46 6.47 6.48 6.49 6.5  6.51 6.52 6.53 6.54 6.55 6.56 6.57\n",
      " 6.58 6.59 6.6  6.61 6.62 6.63 6.64 6.65 6.66 6.67 6.68 6.69 6.7  6.71\n",
      " 6.72 6.73 6.74 6.75 6.76 6.77 6.78 6.79 6.8  6.81 6.82 6.83 6.84 6.85\n",
      " 6.86 6.87 6.88 6.89 6.9  6.91 6.92 6.93 6.94 6.95 6.96 6.97 6.98 6.99\n",
      " 7.   7.01 7.02 7.03 7.04 7.05 7.06 7.07 7.08 7.09 7.1  7.11 7.12 7.13\n",
      " 7.14 7.15 7.16 7.17 7.18 7.19 7.2  7.21 7.22 7.23 7.24 7.25 7.26 7.27\n",
      " 7.28 7.29 7.3  7.31 7.32 7.33 7.34 7.35 7.36 7.37 7.38 7.39 7.4  7.41\n",
      " 7.42 7.43 7.44 7.45 7.46 7.47 7.48 7.49 7.5  7.51 7.52 7.53 7.54 7.55\n",
      " 7.56 7.57 7.58 7.59 7.6  7.61 7.62 7.63 7.64 7.65 7.66 7.67 7.68 7.69\n",
      " 7.7  7.71 7.72 7.73 7.74 7.75 7.76 7.77 7.78 7.79 7.8  7.81 7.82 7.83\n",
      " 7.84 7.85 7.86 7.87 7.88 7.89 7.9  7.91 7.92 7.93 7.94 7.95 7.96 7.97\n",
      " 7.98 7.99 8.   8.01 8.02 8.03 8.04 8.05 8.06 8.07 8.08 8.09 8.1  8.11\n",
      " 8.12 8.13 8.14 8.15 8.16 8.17 8.18 8.19 8.2  8.21 8.22 8.23 8.24 8.25\n",
      " 8.26 8.27 8.28 8.29 8.3  8.31 8.32 8.33 8.34 8.35 8.36 8.37 8.38 8.39\n",
      " 8.4  8.41 8.42 8.43 8.44 8.45 8.46 8.47 8.48 8.49 8.5  8.51 8.52 8.53\n",
      " 8.54 8.55 8.56 8.57 8.58 8.59 8.6  8.61 8.62 8.63 8.64 8.65 8.66 8.67\n",
      " 8.68 8.69 8.7  8.71 8.72 8.73 8.74 8.75 8.76 8.77 8.78 8.79 8.8  8.81\n",
      " 8.82 8.83 8.84 8.85 8.86 8.87 8.88 8.89 8.9  8.91 8.92 8.93 8.94 8.95\n",
      " 8.96 8.97 8.98 8.99 9.   9.01 9.02 9.03 9.04 9.05 9.06 9.07 9.08 9.09\n",
      " 9.1  9.11 9.12 9.13 9.14 9.15 9.16 9.17 9.18 9.19 9.2  9.21 9.22 9.23\n",
      " 9.24 9.25 9.26 9.27 9.28 9.29 9.3  9.31 9.32 9.33 9.34 9.35 9.36 9.37\n",
      " 9.38 9.39 9.4  9.41 9.42 9.43 9.44 9.45 9.46 9.47 9.48 9.49 9.5  9.51\n",
      " 9.52 9.53 9.54 9.55 9.56 9.57 9.58 9.59 9.6  9.61 9.62 9.63 9.64 9.65\n",
      " 9.66 9.67 9.68 9.69 9.7  9.71 9.72 9.73 9.74 9.75 9.76 9.77 9.78 9.79\n",
      " 9.8  9.81 9.82 9.83 9.84 9.85 9.86 9.87 9.88 9.89 9.9  9.91 9.92 9.93\n",
      " 9.94 9.95 9.96 9.97 9.98 9.99]\n",
      "[ 3.12756572e+00  3.08311144e+00  3.03865716e+00  2.99420288e+00\n",
      "  2.94974861e+00  2.90529433e+00  2.86084005e+00  2.81638577e+00\n",
      "  2.77193150e+00  2.72747722e+00  2.68302294e+00  2.63856867e+00\n",
      "  2.59411439e+00  2.54966011e+00  2.50520583e+00  2.46075156e+00\n",
      "  2.41629728e+00  2.37184300e+00  2.32738872e+00  2.28293445e+00\n",
      "  2.23848017e+00  2.19402589e+00  2.14957161e+00  2.10511734e+00\n",
      "  2.06066306e+00  2.01620878e+00  1.97175450e+00  1.92730023e+00\n",
      "  1.88284595e+00  1.83839167e+00  1.79393739e+00  1.74948312e+00\n",
      "  1.70502884e+00  1.66057456e+00  1.61612028e+00  1.57166601e+00\n",
      "  1.52721173e+00  1.48275745e+00  1.43830317e+00  1.39384890e+00\n",
      "  1.34939462e+00  1.30494034e+00  1.26048606e+00  1.21603179e+00\n",
      "  1.17157751e+00  1.12712323e+00  1.08266895e+00  1.03821468e+00\n",
      "  9.93760398e-01  9.49306121e-01  9.04851843e-01  8.60397566e-01\n",
      "  8.15943289e-01  7.71489011e-01  7.27034734e-01  6.82580456e-01\n",
      "  6.38126179e-01  5.93671901e-01  5.49217624e-01  5.04763346e-01\n",
      "  4.60309069e-01  4.15854791e-01  3.71400514e-01  3.26946236e-01\n",
      "  2.82491959e-01  2.38037681e-01  1.93583404e-01  1.49129126e-01\n",
      "  1.04674849e-01  6.02205714e-02  1.57662939e-02 -2.86879835e-02\n",
      " -7.31422610e-02 -1.17596538e-01 -1.62050816e-01 -2.06505093e-01\n",
      " -2.50959371e-01 -2.95413648e-01 -3.39867926e-01 -3.84322203e-01\n",
      " -4.28776481e-01 -4.73230758e-01 -5.17685036e-01 -5.62139313e-01\n",
      " -6.06593591e-01 -6.51047868e-01 -6.95502146e-01 -7.39956423e-01\n",
      " -7.84410701e-01 -8.28864978e-01 -8.73319256e-01 -9.17773533e-01\n",
      " -9.62227811e-01 -1.00668209e+00 -1.05113637e+00 -1.09559064e+00\n",
      " -1.14004492e+00 -1.18449920e+00 -1.22895348e+00 -1.27340775e+00\n",
      " -1.31786203e+00 -1.36231631e+00 -1.40677059e+00 -1.45122486e+00\n",
      " -1.49567914e+00 -1.54013342e+00 -1.58458770e+00 -1.62904197e+00\n",
      " -1.67349625e+00 -1.71795053e+00 -1.76240481e+00 -1.80685908e+00\n",
      " -1.85131336e+00 -1.89576764e+00 -1.94022192e+00 -1.98467619e+00\n",
      " -2.02913047e+00 -2.07358475e+00 -2.11803902e+00 -2.16249330e+00\n",
      " -2.20694758e+00 -2.25140186e+00 -2.29585613e+00 -2.34031041e+00\n",
      " -2.38476469e+00 -2.42921897e+00 -2.47367324e+00 -2.51812752e+00\n",
      " -2.56258180e+00 -2.60703608e+00 -2.65149035e+00 -2.69594463e+00\n",
      " -2.74039891e+00 -2.78485319e+00 -2.82930746e+00 -2.87376174e+00\n",
      " -2.91821602e+00 -2.96267030e+00 -3.00712457e+00 -3.05157885e+00\n",
      " -3.09603313e+00 -3.14048741e+00 -3.18494168e+00 -3.22939596e+00\n",
      " -3.27385024e+00 -3.31830452e+00 -3.36275879e+00 -3.40721307e+00\n",
      " -3.45166735e+00 -3.49612163e+00 -3.54057590e+00 -3.58503018e+00\n",
      " -3.62948446e+00 -3.67393874e+00 -3.71839301e+00 -3.76284729e+00\n",
      " -3.80730157e+00 -3.85175585e+00 -3.89621012e+00 -3.94066440e+00\n",
      " -3.98511868e+00 -4.02957296e+00 -4.07402723e+00 -4.11848151e+00\n",
      " -4.16293579e+00 -4.20739007e+00 -4.25184434e+00 -4.29629862e+00\n",
      " -4.34075290e+00 -4.38520718e+00 -4.42966145e+00 -4.47411573e+00\n",
      " -4.51857001e+00 -4.56302429e+00 -4.60747856e+00 -4.65193284e+00\n",
      " -4.69638712e+00 -4.74084140e+00 -4.78529567e+00 -4.82974995e+00\n",
      " -4.87420423e+00 -4.91865851e+00 -4.96311278e+00 -5.00756706e+00\n",
      " -5.05202134e+00 -5.09647562e+00 -5.14092989e+00 -5.18538417e+00\n",
      " -5.22983845e+00 -5.27429273e+00 -5.31874700e+00 -5.36320128e+00\n",
      " -5.40765556e+00 -5.45210984e+00 -5.49656411e+00 -5.54101839e+00\n",
      " -5.58547267e+00 -5.62992695e+00 -5.67438122e+00 -5.71883550e+00\n",
      " -5.76328978e+00 -5.80774406e+00 -5.85219833e+00 -5.89665261e+00\n",
      " -5.94110689e+00 -5.98556117e+00 -6.03001544e+00 -6.07446972e+00\n",
      " -6.11892400e+00 -6.16337828e+00 -6.20783255e+00 -6.25228683e+00\n",
      " -6.29674111e+00 -6.34119539e+00 -6.38564966e+00 -6.43010394e+00\n",
      " -6.47455822e+00 -6.51901250e+00 -6.56346677e+00 -6.60792105e+00\n",
      " -6.65237533e+00 -6.69682960e+00 -6.74128388e+00 -6.78573816e+00\n",
      " -6.83019244e+00 -6.87464671e+00 -6.91910099e+00 -6.96355527e+00\n",
      " -7.00800955e+00 -7.05246382e+00 -7.09691810e+00 -7.14137238e+00\n",
      " -7.18582666e+00 -7.23028093e+00 -7.27473521e+00 -7.31918949e+00\n",
      " -7.36364377e+00 -7.40809804e+00 -7.45255232e+00 -7.49700660e+00\n",
      " -7.54146088e+00 -7.58591515e+00 -7.63036943e+00 -7.67482371e+00\n",
      " -7.71927799e+00 -7.76373226e+00 -7.80818654e+00 -7.85264082e+00\n",
      " -7.89709510e+00 -7.94154937e+00 -7.98600365e+00 -8.03045793e+00\n",
      " -8.07491221e+00 -8.11936648e+00 -8.16382076e+00 -8.20827504e+00\n",
      " -8.25272932e+00 -8.29718359e+00 -8.34163787e+00 -8.38609215e+00\n",
      " -8.43054643e+00 -8.47500070e+00 -8.51945498e+00 -8.56390926e+00\n",
      " -8.60836354e+00 -8.65281781e+00 -8.69727209e+00 -8.74172637e+00\n",
      " -8.78618065e+00 -8.83063492e+00 -8.87508920e+00 -8.91954348e+00\n",
      " -8.96399776e+00 -9.00845203e+00 -9.05290631e+00 -9.09736059e+00\n",
      " -9.14181487e+00 -9.18626914e+00 -9.23072342e+00 -9.27517770e+00\n",
      " -9.31963198e+00 -9.36408625e+00 -9.40854053e+00 -9.45299481e+00\n",
      " -9.49744909e+00 -9.54190336e+00 -9.58635764e+00 -9.63081192e+00\n",
      " -9.67526620e+00 -9.71972047e+00 -9.76417475e+00 -9.80862903e+00\n",
      " -9.85308331e+00 -9.89753758e+00 -9.94199186e+00 -9.98644614e+00\n",
      " -1.00309004e+01 -1.00753547e+01 -1.01198090e+01 -1.01642632e+01\n",
      " -1.02087175e+01 -1.02531718e+01 -1.02976261e+01 -1.03420804e+01\n",
      " -1.03865346e+01 -1.04309889e+01 -1.04754432e+01 -1.05198975e+01\n",
      " -1.05643517e+01 -1.06088060e+01 -1.06532603e+01 -1.06977146e+01\n",
      " -1.07421689e+01 -1.07866231e+01 -1.08310774e+01 -1.08755317e+01\n",
      " -1.09199860e+01 -1.09644402e+01 -1.10088945e+01 -1.10533488e+01\n",
      " -1.10978031e+01 -1.11422574e+01 -1.11867116e+01 -1.12311659e+01\n",
      " -1.12756202e+01 -1.13200745e+01 -1.13645287e+01 -1.14089830e+01\n",
      " -1.14534373e+01 -1.14978916e+01 -1.15423458e+01 -1.15868001e+01\n",
      " -1.16312544e+01 -1.16757087e+01 -1.17201630e+01 -1.17646172e+01\n",
      " -1.18090715e+01 -1.18535258e+01 -1.18979801e+01 -1.19424343e+01\n",
      " -1.19868886e+01 -1.20313429e+01 -1.20757972e+01 -1.21202515e+01\n",
      " -1.21647057e+01 -1.22091600e+01 -1.22536143e+01 -1.22980686e+01\n",
      " -1.23425228e+01 -1.23869771e+01 -1.24314314e+01 -1.24758857e+01\n",
      " -1.24254991e+01 -1.23543782e+01 -1.22832573e+01 -1.22121365e+01\n",
      " -1.21410156e+01 -1.20698947e+01 -1.19987738e+01 -1.19276529e+01\n",
      " -1.18565320e+01 -1.17854111e+01 -1.17142902e+01 -1.16431693e+01\n",
      " -1.15720484e+01 -1.15009275e+01 -1.14298067e+01 -1.13586858e+01\n",
      " -1.12875649e+01 -1.12164440e+01 -1.11453231e+01 -1.10742022e+01\n",
      " -1.10030813e+01 -1.09319604e+01 -1.08608395e+01 -1.07897186e+01\n",
      " -1.07185977e+01 -1.06474769e+01 -1.05763560e+01 -1.05052351e+01\n",
      " -1.04341142e+01 -1.03629933e+01 -1.02918724e+01 -1.02207515e+01\n",
      " -1.01496306e+01 -1.00785097e+01 -1.00073888e+01 -9.93626794e+00\n",
      " -9.86514705e+00 -9.79402616e+00 -9.72290527e+00 -9.65178438e+00\n",
      " -9.58066349e+00 -9.50954260e+00 -9.43842170e+00 -9.36730081e+00\n",
      " -9.29617992e+00 -9.22505903e+00 -9.15393814e+00 -9.08281725e+00\n",
      " -9.01169636e+00 -8.94057547e+00 -8.86945458e+00 -8.79833368e+00\n",
      " -8.72721279e+00 -8.65609190e+00 -8.58497101e+00 -8.51385012e+00\n",
      " -8.44272923e+00 -8.37160834e+00 -8.30048745e+00 -8.22936656e+00\n",
      " -8.15824566e+00 -8.08712477e+00 -8.01600388e+00 -7.94488299e+00\n",
      " -7.87376210e+00 -7.80264121e+00 -7.73152032e+00 -7.66039943e+00\n",
      " -7.58927854e+00 -7.51815764e+00 -7.44703675e+00 -7.37591586e+00\n",
      " -7.30479497e+00 -7.23367408e+00 -7.16255319e+00 -7.09143230e+00\n",
      " -7.02031141e+00 -6.94919052e+00 -6.87806963e+00 -6.80694873e+00\n",
      " -6.73582784e+00 -6.66470695e+00 -6.59358606e+00 -6.52246517e+00\n",
      " -6.45134428e+00 -6.38022339e+00 -6.30910250e+00 -6.23798161e+00\n",
      " -6.16686071e+00 -6.09573982e+00 -6.02461893e+00 -5.95349804e+00\n",
      " -5.88237715e+00 -5.81125626e+00 -5.74013537e+00 -5.66901448e+00\n",
      " -5.59789359e+00 -5.52677269e+00 -5.45565180e+00 -5.38453091e+00\n",
      " -5.31341002e+00 -5.24228913e+00 -5.17116824e+00 -5.10004735e+00\n",
      " -5.02892646e+00 -4.95780557e+00 -4.88668467e+00 -4.81556378e+00\n",
      " -4.74444289e+00 -4.67332200e+00 -4.60220111e+00 -4.53108022e+00\n",
      " -4.45995933e+00 -4.38883844e+00 -4.31771755e+00 -4.24659665e+00\n",
      " -4.17547576e+00 -4.10435487e+00 -4.03323398e+00 -3.96211309e+00\n",
      " -3.89099220e+00 -3.81987131e+00 -3.74875042e+00 -3.67762953e+00\n",
      " -3.60650863e+00 -3.53538774e+00 -3.46426685e+00 -3.39314596e+00\n",
      " -3.32202507e+00 -3.25090418e+00 -3.17978329e+00 -3.10866240e+00\n",
      " -3.03754151e+00 -2.96642061e+00 -2.89529972e+00 -2.82417883e+00\n",
      " -2.75305794e+00 -2.68193705e+00 -2.61081616e+00 -2.53969527e+00\n",
      " -2.46857438e+00 -2.39745349e+00 -2.32633260e+00 -2.25521170e+00\n",
      " -2.18409081e+00 -2.11296992e+00 -2.04184903e+00 -1.97072814e+00\n",
      " -1.89960725e+00 -1.82848636e+00 -1.75736547e+00 -1.68624458e+00\n",
      " -1.61512368e+00 -1.54400279e+00 -1.47288190e+00 -1.40176101e+00\n",
      " -1.33064012e+00 -1.25951923e+00 -1.18839834e+00 -1.11727745e+00\n",
      " -1.04615656e+00 -9.75035664e-01 -9.03914773e-01 -8.32793882e-01\n",
      " -7.61672991e-01 -6.90552100e-01 -6.19431209e-01 -5.48310318e-01\n",
      " -4.77189427e-01 -4.06068536e-01 -3.34947644e-01 -2.63826753e-01\n",
      " -1.92705862e-01 -1.21584971e-01 -5.04640800e-02  2.06568111e-02\n",
      "  9.17777022e-02  1.62898593e-01  2.34019484e-01  3.05140375e-01\n",
      "  3.76261267e-01  4.47382158e-01  5.18503049e-01  5.89623940e-01\n",
      "  6.60744831e-01  7.31865722e-01  8.02986613e-01  8.74107504e-01\n",
      "  9.45228395e-01  1.01634929e+00  1.08747018e+00  1.15859107e+00\n",
      "  1.22971196e+00  1.30083285e+00  1.37195374e+00  1.44307463e+00\n",
      "  1.51419552e+00  1.58531642e+00  1.65643731e+00  1.72755820e+00\n",
      "  1.79867909e+00  1.86979998e+00  1.94092087e+00  2.01204176e+00\n",
      "  2.08316265e+00  2.15428354e+00  2.22540443e+00  2.29652533e+00\n",
      "  2.36764622e+00  2.43876711e+00  2.50988800e+00  2.58100889e+00\n",
      "  2.65212978e+00  2.72325067e+00  2.79437156e+00  2.86549245e+00\n",
      "  2.93661335e+00  3.00773424e+00  3.07885513e+00  3.14997602e+00\n",
      "  3.22109691e+00  3.29221780e+00  3.36333869e+00  3.43445958e+00\n",
      "  3.50558047e+00  3.57670137e+00  3.64782226e+00  3.71894315e+00\n",
      "  3.79006404e+00  3.86118493e+00  3.93230582e+00  4.00342671e+00\n",
      "  4.07454760e+00  4.14566849e+00  4.21678939e+00  4.28791028e+00\n",
      "  4.35903117e+00  4.43015206e+00  4.50127295e+00  4.57239384e+00\n",
      "  4.64351473e+00  4.71463562e+00  4.78575651e+00  4.85687741e+00\n",
      "  4.92799830e+00  4.99911919e+00  5.07024008e+00  5.14136097e+00\n",
      "  5.21248186e+00  5.28360275e+00  5.35472364e+00  5.42584453e+00\n",
      "  5.49696543e+00  5.56808632e+00  5.63920721e+00  5.71032810e+00\n",
      "  5.78144899e+00  5.85256988e+00  5.92369077e+00  5.99481166e+00\n",
      "  6.06593255e+00  6.13705345e+00  6.20817434e+00  6.27929523e+00\n",
      "  6.35041612e+00  6.42153701e+00  6.49265790e+00  6.56377879e+00\n",
      "  6.63489968e+00  6.70602057e+00  6.77714147e+00  6.84826236e+00\n",
      "  6.91938325e+00  6.99050414e+00  7.06162503e+00  7.13274592e+00\n",
      "  7.20386681e+00  7.27498770e+00  7.34610859e+00  7.41722948e+00\n",
      "  7.48835038e+00  7.55947127e+00  7.63059216e+00  7.70171305e+00\n",
      "  7.77283394e+00  7.84395483e+00  7.91507572e+00  7.98619661e+00\n",
      "  8.05731750e+00  8.12843840e+00  8.19955929e+00  8.27068018e+00\n",
      "  8.22678382e+00  8.17630763e+00  8.12583144e+00  8.07535526e+00\n",
      "  8.02487907e+00  7.97440288e+00  7.92392669e+00  7.87345051e+00\n",
      "  7.82297432e+00  7.77249813e+00  7.72202194e+00  7.67154575e+00\n",
      "  7.62106957e+00  7.57059338e+00  7.52011719e+00  7.46964100e+00\n",
      "  7.41916482e+00  7.36868863e+00  7.31821244e+00  7.26773625e+00\n",
      "  7.21726007e+00  7.16678388e+00  7.11630769e+00  7.06583150e+00\n",
      "  7.01535532e+00  6.96487913e+00  6.91440294e+00  6.86392675e+00\n",
      "  6.81345056e+00  6.76297438e+00  6.71249819e+00  6.66202200e+00\n",
      "  6.61154581e+00  6.56106963e+00  6.51059344e+00  6.46011725e+00\n",
      "  6.40964106e+00  6.35916488e+00  6.30868869e+00  6.25821250e+00\n",
      "  6.20773631e+00  6.15726012e+00  6.10678394e+00  6.05630775e+00\n",
      "  6.00583156e+00  5.95535537e+00  5.90487919e+00  5.85440300e+00\n",
      "  5.80392681e+00  5.75345062e+00  5.70297444e+00  5.65249825e+00\n",
      "  5.60202206e+00  5.55154587e+00  5.50106968e+00  5.45059350e+00\n",
      "  5.40011731e+00  5.34964112e+00  5.29916493e+00  5.24868875e+00\n",
      "  5.19821256e+00  5.14773637e+00  5.09726018e+00  5.04678400e+00\n",
      "  4.99630781e+00  4.94583162e+00  4.89535543e+00  4.84487924e+00\n",
      "  4.79440306e+00  4.74392687e+00  4.69345068e+00  4.64297449e+00\n",
      "  4.59249831e+00  4.54202212e+00  4.49154593e+00  4.44106974e+00\n",
      "  4.39059356e+00  4.34011737e+00  4.28964118e+00  4.23916499e+00\n",
      "  4.18868881e+00  4.13821262e+00  4.08773643e+00  4.03726024e+00\n",
      "  3.98678405e+00  3.93630787e+00  3.88583168e+00  3.83535549e+00\n",
      "  3.78487930e+00  3.73440312e+00  3.68392693e+00  3.63345074e+00\n",
      "  3.58297455e+00  3.53249837e+00  3.48202218e+00  3.43154599e+00\n",
      "  3.38106980e+00  3.33059361e+00  3.28011743e+00  3.22964124e+00\n",
      "  3.17916505e+00  3.12868886e+00  3.07821268e+00  3.02773649e+00\n",
      "  2.97726030e+00  2.92678411e+00  2.87630793e+00  2.82583174e+00\n",
      "  2.77535555e+00  2.72487936e+00  2.67440317e+00  2.62392699e+00\n",
      "  2.57345080e+00  2.52297461e+00  2.47249842e+00  2.42202224e+00\n",
      "  2.37154605e+00  2.32106986e+00  2.27059367e+00  2.22011749e+00\n",
      "  2.16964130e+00  2.11916511e+00  2.06868892e+00  2.01821273e+00\n",
      "  1.96773655e+00  1.91726036e+00  1.86678417e+00  1.81630798e+00\n",
      "  1.76583180e+00  1.71535561e+00  1.66487942e+00  1.61440323e+00\n",
      "  1.56392705e+00  1.51345086e+00  1.46297467e+00  1.41249848e+00\n",
      "  1.36202230e+00  1.31154611e+00  1.26106992e+00  1.21059373e+00\n",
      "  1.16011754e+00  1.10964136e+00  1.05916517e+00  1.00868898e+00\n",
      "  9.58212794e-01  9.07736606e-01  8.57260418e-01  8.06784231e-01\n",
      "  7.56308043e-01  7.05831855e-01  6.55355668e-01  6.04879480e-01\n",
      "  5.54403292e-01  5.03927105e-01  4.53450917e-01  4.02974729e-01\n",
      "  3.52498541e-01  3.02022354e-01  2.51546166e-01  2.01069978e-01\n",
      "  1.50593791e-01  1.00117603e-01  4.96414154e-02 -8.34772293e-04\n",
      " -5.13109600e-02 -1.01787148e-01 -1.52263335e-01 -2.02739523e-01\n",
      " -2.53215711e-01 -3.03691898e-01 -3.54168086e-01 -4.04644274e-01\n",
      " -4.55120461e-01 -5.05596649e-01 -5.56072837e-01 -6.06549024e-01\n",
      " -6.57025212e-01 -7.07501400e-01 -7.57977587e-01 -8.08453775e-01\n",
      " -8.58929963e-01 -9.09406151e-01 -9.59882338e-01 -1.01035853e+00\n",
      " -1.06083471e+00 -1.11131090e+00 -1.16178709e+00 -1.21226328e+00\n",
      " -1.26273946e+00 -1.31321565e+00 -1.36369184e+00 -1.41416803e+00\n",
      " -1.46464421e+00 -1.51512040e+00 -1.56559659e+00 -1.61607278e+00\n",
      " -1.66654897e+00 -1.71702515e+00 -1.76750134e+00 -1.81797753e+00\n",
      " -1.86845372e+00 -1.91892990e+00 -1.96940609e+00 -2.01988228e+00\n",
      " -2.07035847e+00 -2.12083465e+00 -2.17131084e+00 -2.22178703e+00\n",
      " -2.27226322e+00 -2.32273941e+00 -2.37321559e+00 -2.42369178e+00\n",
      " -2.47416797e+00 -2.52464416e+00 -2.57512034e+00 -2.62559653e+00\n",
      " -2.67607272e+00 -2.72654891e+00 -2.77702509e+00 -2.82750128e+00\n",
      " -2.87797747e+00 -2.92845366e+00 -2.97892985e+00 -3.02940603e+00\n",
      " -3.07988222e+00 -3.13035841e+00 -3.18083460e+00 -3.23131078e+00\n",
      " -3.28178697e+00 -3.33226316e+00 -3.38273935e+00 -3.43321553e+00\n",
      " -3.48369172e+00 -3.53416791e+00 -3.58464410e+00 -3.63512029e+00\n",
      " -3.68559647e+00 -3.73607266e+00 -3.78654885e+00 -3.83702504e+00\n",
      " -3.88750122e+00 -3.93797741e+00 -3.98845360e+00 -4.03892979e+00\n",
      " -4.08940597e+00 -4.13988216e+00 -4.19035835e+00 -4.24083454e+00\n",
      " -4.29131073e+00 -4.34178691e+00 -4.39226310e+00 -4.44273929e+00\n",
      " -4.49321548e+00 -4.54369166e+00 -4.59416785e+00 -4.64464404e+00\n",
      " -4.69512023e+00 -4.74559641e+00 -4.79607260e+00 -4.84654879e+00\n",
      " -4.89702498e+00 -4.94750116e+00 -4.99797735e+00 -5.04845354e+00\n",
      " -5.09892973e+00 -5.14940592e+00 -5.19988210e+00 -5.25035829e+00\n",
      " -5.30083448e+00 -5.35131067e+00 -5.40178685e+00 -5.45226304e+00\n",
      " -5.50273923e+00 -5.55321542e+00 -5.60369160e+00 -5.65416779e+00\n",
      " -5.70464398e+00 -5.75512017e+00 -5.80559636e+00 -5.85607254e+00\n",
      " -5.90654873e+00 -5.95702492e+00 -6.00750111e+00 -6.05797729e+00\n",
      " -6.10845348e+00 -6.15892967e+00 -6.20940586e+00 -6.25988204e+00\n",
      " -6.31035823e+00 -6.36083442e+00 -6.41131061e+00 -6.46178680e+00\n",
      " -6.51226298e+00 -6.56273917e+00 -6.61321536e+00 -6.66369155e+00\n",
      " -6.71416773e+00 -6.76464392e+00 -6.81512011e+00 -6.86559630e+00\n",
      " -6.91607248e+00 -6.96654867e+00 -7.01702486e+00 -7.06750105e+00\n",
      " -7.11797724e+00 -7.16845342e+00 -7.21892961e+00 -7.26940580e+00\n",
      " -7.31988199e+00 -7.37035817e+00 -7.42083436e+00 -7.47131055e+00\n",
      " -7.52178674e+00 -7.57226292e+00 -7.62273911e+00 -7.67321530e+00\n",
      " -7.72369149e+00 -7.77416767e+00 -7.82464386e+00 -7.87512005e+00\n",
      " -7.92559624e+00 -7.97607243e+00 -8.02654861e+00 -8.07702480e+00\n",
      " -8.12750099e+00 -8.17797718e+00 -8.22845336e+00 -8.27892955e+00\n",
      " -8.32940574e+00 -8.37988193e+00 -8.43035811e+00 -8.48083430e+00\n",
      " -8.53131049e+00 -8.58178668e+00 -8.63226287e+00 -8.68273905e+00\n",
      " -8.73321524e+00 -8.78369143e+00 -8.83416762e+00 -8.88464380e+00\n",
      " -8.93511999e+00 -8.98559618e+00 -9.03607237e+00 -9.08654855e+00\n",
      " -9.13702474e+00 -9.18750093e+00 -9.23797712e+00 -9.28845331e+00\n",
      " -9.33892949e+00 -9.38940568e+00 -9.43988187e+00 -9.49035806e+00\n",
      " -9.54083424e+00 -9.59131043e+00 -9.64178662e+00 -9.69226281e+00]\n"
     ]
    },
    {
     "data": {
      "text/plain": [
       "[<matplotlib.lines.Line2D at 0x7f2f544e0a30>]"
      ]
     },
     "execution_count": 149,
     "metadata": {},
     "output_type": "execute_result"
    },
    {
     "data": {
      "image/png": "[encoded data removed]",
      "text/plain": [
       "<Figure size 432x288 with 1 Axes>"
      ]
     },
     "metadata": {
      "needs_background": "light"
     },
     "output_type": "display_data"
    }
   ],
   "source": [
    "\"\"\"\n",
    "Priors\n",
    "\"\"\"\n",
    "\n",
    "b = scp.random.uniform(0,10)\n",
    "a1 = scp.random.uniform(-10,0)\n",
    "a2 = scp.random.uniform(0,10)\n",
    "a3 = scp.random.uniform(-10,0)\n",
    "cp1 = scp.random.uniform(2,4)\n",
    "cp2 = scp.random.uniform(5,8)\n",
    "\n",
    "\n",
    "x = piecewise_linear(a1,b, a2,a3, cp1, cp2)\n",
    "\n",
    "plt.plot(x_lin, x)"
   ]
  },
  {
   "cell_type": "code",
   "execution_count": 159,
   "metadata": {},
   "outputs": [],
   "source": [
    "\"\"\"\n",
    "Summary stats\n",
    "\"\"\"\n",
    "\n",
    "def extract_sumstats(y,max_time=10):\n",
    "    \"\"\"\n",
    "    Extract some sumstats for piecewise linear fct with specified prior \n",
    "    !the information in the sumstats is highly dependent on the prior!\n",
    "    Args:\n",
    "        x ([array]): time axis of time series\n",
    "        y ([array]): 1d time series\n",
    "        max_time (float, optional): maximal time to calculate sumstats on. Defaults to 10.\n",
    "\n",
    "    Returns:\n",
    "       s [array]: summary stats of time series, with np.nan for non-calculated sumstats\n",
    "    \"\"\"\n",
    "    \n",
    "    # artificial masking of y \n",
    "    \n",
    "    x = torch.arange(0,10,0.01, dtype=torch.float32)\n",
    "\n",
    "\n",
    "    y = np.copy(y)\n",
    "    \n",
    "    batch_list = []\n",
    "    # first batch of sumstats for times <4\n",
    "    \n",
    "    for batch in y:\n",
    "        \n",
    "        batch[x>max_time] = np.nan\n",
    "    \n",
    "        s = np.zeros(7) * np.nan\n",
    "        \n",
    "        s[0] = np.float32(batch[0])\n",
    "        s[1] = np.nanmin(batch[x<4])\n",
    "        \n",
    "        #print(type(s[0]), type(s[1]))\n",
    "        s[2] = x[np.nanargmin(batch[x<4])]\n",
    "\n",
    "        # second batch of sumstats for times > 4\n",
    "        if max_time >= 4 :\n",
    "            s[3] = np.nanmax(batch[(x>=4)&(x<8)])\n",
    "            s[4] = x[np.nanargmax(batch[(x>=4)&(x<8)])] + 4\n",
    "\n",
    "        # third batch of sumstats for times > 5\n",
    "        if max_time >= 5:\n",
    "            s[5] = np.nanmin(batch[x>=5])\n",
    "            s[6] = x[np.nanargmin(batch[x>=5])] + 5\n",
    "            \n",
    "        s = np.float32(s)\n",
    "    \n",
    "            \n",
    "        batch_list.append(torch.from_numpy(s))\n",
    "\n",
    "    return torch.stack(batch_list)\n",
    "\n",
    "    "
   ]
  },
  {
   "cell_type": "code",
   "execution_count": null,
   "metadata": {},
   "outputs": [],
   "source": []
  },
  {
   "cell_type": "markdown",
   "metadata": {},
   "source": [
    "## cosine waves\n",
    "\n",
    "WORK IN PROGRESS\n",
    "\n",
    "same, but more ellaborated summary stats are needed"
   ]
  },
  {
   "cell_type": "code",
   "execution_count": 152,
   "metadata": {},
   "outputs": [],
   "source": [
    "def cosine_waves(a1,b,a2,cp,f_1=1, f_2=1, return_factors=False):\n",
    "    \"\"\"\n",
    "    Args:\n",
    "        a1 (float): first slope\n",
    "        b (float): offset (starting amplitude)\n",
    "        a2 (float): second slope\n",
    "        cp (float): changing point\n",
    "        f_1 (float): first freq\n",
    "        f_2 (float): second freq\n",
    "\n",
    "    Returns:\n",
    "        [type]: [description]\n",
    "    \"\"\"\n",
    "    x = np.arange(0,10,0.01)\n",
    "    y = np.zeros(x.shape)\n",
    "    factor1 = (b+a1*x[x<cp])\n",
    "    factor1[factor1<0] = 0\n",
    "    y[x<cp] = factor1 * np.cos(2*np.pi * f_1 * x[x<cp])\n",
    "     \n",
    "    factor2= y[np.sum(x<cp)-1] + a2* (x[x>=cp] - cp) \n",
    "    factor2[factor2<0] = 0\n",
    "\n",
    "    y[x>=cp] = (factor2) * np.cos(2*np.pi * f_2 * x[x>=cp]) \n",
    "\n",
    "    if return_factors:\n",
    "        return x,y, factor1, factor2\n",
    "    else:\n",
    "        return x,y"
   ]
  },
  {
   "cell_type": "code",
   "execution_count": 153,
   "metadata": {},
   "outputs": [
    {
     "data": {
      "text/plain": [
       "[<matplotlib.lines.Line2D at 0x7f2f2164f850>]"
      ]
     },
     "execution_count": 153,
     "metadata": {},
     "output_type": "execute_result"
    },
    {
     "data": {
      "image/png": "[encoded data removed]",
      "text/plain": [
       "<Figure size 432x288 with 1 Axes>"
      ]
     },
     "metadata": {
      "needs_background": "light"
     },
     "output_type": "display_data"
    }
   ],
   "source": [
    "x,y,f1,f2=cosine_waves(4,2,-2,4, return_factors=True  )\n",
    "\n",
    "plt.plot(x[:len(f1)],f1)\n",
    "plt.plot(x[-len(f2):],f2)\n",
    "plt.plot(x,y)"
   ]
  },
  {
   "cell_type": "code",
   "execution_count": 154,
   "metadata": {},
   "outputs": [],
   "source": [
    "def cosine_waves_2(a1,b,a2,a3, cp1, cp2, f_1=1, f_2=1,f_3=1, return_factors=False):\n",
    "    \"\"\"\n",
    "    Args:\n",
    "        a1 (float): first slope\n",
    "        b (float): offset\n",
    "        ai (float): slopes\n",
    "        cpi (float): changing points\n",
    "        f_i (float): first freqs\n",
    "        \n",
    "    Returns:\n",
    "        [type]: [description]\n",
    "    \"\"\"\n",
    "    x = np.arange(0,10,0.01)\n",
    "    y = np.zeros(x.shape)\n",
    "    factor1 = (b+a1*x[x<cp1])\n",
    "    factor1[factor1<0] = 0\n",
    "    y[x<cp1] = factor1 * np.cos(2*np.pi * f_1 * x[x<cp1])\n",
    "     \n",
    "    factor2= y[np.sum(x<cp1)-1] + a2* (x[(x>=cp1) & (x<cp2)] - cp1) \n",
    "    factor2[factor2<0] = 0\n",
    "    y[(x>=cp1) & (x<cp2)] = (factor2) * np.cos(2*np.pi * f_2 * x[(x>=cp1) & (x<cp2)]) \n",
    "    \n",
    "    factor3= y[np.sum(x<cp2)-1] + a3* (x[x>=cp2] - cp2) \n",
    "    factor3[factor3<0] = 0\n",
    "\n",
    "    y[x>=cp2] = (factor3) * np.cos(2*np.pi * f_3 * x[x>=cp2]) \n",
    "\n",
    "    if return_factors:\n",
    "        return x,y, factor1, factor2, factor3\n",
    "    else:\n",
    "        return x,y\n",
    "    \n",
    "    \n",
    "def cosine_waves_2_first(thetas):\n",
    "    \"\"\"\n",
    "    Args:\n",
    "        a1 (float): first slope\n",
    "        b (float): offset\n",
    "        ai (float): slopes\n",
    "        cpi (float): changing points\n",
    "        f_i (float): first freqs\n",
    "        \n",
    "    Returns:\n",
    "        [type]: [description]\n",
    "    \"\"\"\n",
    "    \n",
    "    a1 = thetas[0]\n",
    "    b = thetas[1]\n",
    "    a2=-3\n",
    "    a3=3\n",
    "    cp1=2\n",
    "    cp2=6\n",
    "    f_1=1\n",
    "    f_2=1\n",
    "    f_3=1\n",
    "    \n",
    "    return_factors=False\n",
    "    \n",
    "    x = torch.arange(0,10,0.01, dtype= torch.float32)\n",
    "    y = torch.zeros(x.shape)\n",
    "    factor1 = (b+a1*x[x<cp1])\n",
    "    factor1[factor1<0] = 0\n",
    "    y[x<cp1] = factor1 * np.cos(2*np.pi * f_1 * x[x<cp1])\n",
    "     \n",
    "    factor2= y[np.sum(x<cp1)-1] + a2* (x[(x>=cp1) & (x<cp2)] - cp1) \n",
    "    factor2[factor2<0] = 0\n",
    "    y[(x>=cp1) & (x<cp2)] = (factor2) * np.cos(2*np.pi * f_2 * x[(x>=cp1) & (x<cp2)]) \n",
    "    \n",
    "    factor3= y[torch.sum(x<cp2)-1] + a3* (x[x>=cp2] - cp2) \n",
    "    factor3[factor3<0] = 0\n",
    "\n",
    "    y[x>=cp2] = (factor3) * np.cos(2*np.pi * f_3 * x[x>=cp2]) \n",
    "\n",
    "    if return_factors:\n",
    "        return x,y, factor1, factor2, factor3\n",
    "    else:\n",
    "        return x,y"
   ]
  },
  {
   "cell_type": "code",
   "execution_count": 155,
   "metadata": {},
   "outputs": [
    {
     "data": {
      "text/plain": [
       "[<matplotlib.lines.Line2D at 0x7f2f2162a550>]"
      ]
     },
     "execution_count": 155,
     "metadata": {},
     "output_type": "execute_result"
    },
    {
     "data": {
      "image/png": "[encoded data removed]",
      "text/plain": [
       "<Figure size 432x288 with 1 Axes>"
      ]
     },
     "metadata": {
      "needs_background": "light"
     },
     "output_type": "display_data"
    }
   ],
   "source": [
    "x,y,f1,f2,f3=cosine_waves_2(5,5,\n",
    "                            -3,3,\n",
    "                            2,6, return_factors=True)\n",
    "\n",
    "plt.plot(x[:len(f1)],f1)\n",
    "plt.plot(x[len(f1):-len(f3)],f2)\n",
    "plt.plot(x[-len(f3):],f3)\n",
    "\n",
    "plt.plot(x,y)"
   ]
  },
  {
   "cell_type": "code",
   "execution_count": 188,
   "metadata": {},
   "outputs": [
    {
     "name": "stdout",
     "output_type": "stream",
     "text": [
      "[3, 3]\n",
      "BoxUniform(Uniform(low: torch.Size([2]), high: torch.Size([2])), 1)\n"
     ]
    },
    {
     "name": "stderr",
     "output_type": "stream",
     "text": [
      "/tmp/ipykernel_407341/818838977.py:59: FutureWarning: The input object of type 'Tensor' is an array-like implementing one of the corresponding protocols (`__array__`, `__array_interface__` or `__array_struct__`); but not a sequence (or 0-D). In the future, this object will be coerced as if it was first converted using `np.array(obj)`. To retain the old behaviour, you have to either modify the type 'Tensor', or assign to an empty array created with `np.empty(correct_shape, dtype=object)`.\n",
      "  a1,b, a2,a3, cp1, cp2 = np.array([a1,b, a2,a3, cp1, cp2]) + scp.random.normal(scale=add_noise,size=6)\n",
      "/tmp/ipykernel_407341/818838977.py:59: VisibleDeprecationWarning: Creating an ndarray from ragged nested sequences (which is a list-or-tuple of lists-or-tuples-or ndarrays with different lengths or shapes) is deprecated. If you meant to do this, you must specify 'dtype=object' when creating the ndarray.\n",
      "  a1,b, a2,a3, cp1, cp2 = np.array([a1,b, a2,a3, cp1, cp2]) + scp.random.normal(scale=add_noise,size=6)\n"
     ]
    },
    {
     "data": {
      "application/vnd.jupyter.widget-view+json": {
       "model_id": "6c89bcc50fb14053bcda4b979592024c",
       "version_major": 2,
       "version_minor": 0
      },
      "text/plain": [
       "Running 1000 simulations in 1000 batches.:   0%|          | 0/1000 [00:00<?, ?it/s]"
      ]
     },
     "metadata": {},
     "output_type": "display_data"
    }
   ],
   "source": [
    "#parameter a1,b,a2,a3, cp1, cp2\n",
    "\n",
    "prior_min = [3,3,-5,1,0,4]  \n",
    "\n",
    "prior_max = [7, 7, -1, 3, 2, 6]\n",
    "\n",
    "num_simulations=1000\n",
    "\n",
    "### first round:\n",
    "\n",
    "prior1 = utils.torchutils.BoxUniform(low=prior_min[0:2], high = prior_max[0:2])\n",
    "\n",
    "print(prior_min[0:2])\n",
    "print(prior1)\n",
    "\n",
    "inf = SNPE_C(prior1, density_estimator=\"nsf\")\n",
    "\n",
    "density_estimator = 'nsf'\n",
    "\n",
    "\n",
    "simulator_stats, prior = prepare_for_sbi(piecewise_linear_first_batch, prior1)\n",
    "\n",
    "inference = SNPE_C(prior, density_estimator=density_estimator)\n",
    "\n",
    "theta, x_without = simulate_for_sbi(\n",
    "    simulator_stats,\n",
    "    proposal=prior,\n",
    "    num_simulations=num_simulations,\n",
    "    num_workers=4,\n",
    ")"
   ]
  },
  {
   "cell_type": "code",
   "execution_count": 189,
   "metadata": {},
   "outputs": [
    {
     "data": {
      "text/plain": [
       "torch.Size([1000, 2])"
      ]
     },
     "execution_count": 189,
     "metadata": {},
     "output_type": "execute_result"
    }
   ],
   "source": [
    "x_without\n",
    "\n",
    "theta.shape"
   ]
  },
  {
   "cell_type": "code",
   "execution_count": 190,
   "metadata": {},
   "outputs": [],
   "source": [
    "x = extract_sumstats(x_without)"
   ]
  },
  {
   "cell_type": "code",
   "execution_count": 191,
   "metadata": {},
   "outputs": [
    {
     "name": "stdout",
     "output_type": "stream",
     "text": [
      "Neural network successfully converged after 50 epochs.\n"
     ]
    }
   ],
   "source": [
    "\n",
    "inf = inf.append_simulations(theta, x)\n",
    "density_estimator = inf.train()\n",
    "\n",
    "posterior = inf.build_posterior(density_estimator)"
   ]
  },
  {
   "cell_type": "code",
   "execution_count": 192,
   "metadata": {},
   "outputs": [
    {
     "name": "stdout",
     "output_type": "stream",
     "text": [
      "torch.Size([1, 1000])\n",
      "torch.Size([1, 7])\n"
     ]
    }
   ],
   "source": [
    "true_params = [5, 5, -3, 2, 1, 5]\n",
    "\n",
    "\n",
    "obs_real = piecewise_linear_first_batch(true_params).unsqueeze(0)\n",
    "\n",
    "print(obs_real.shape)\n",
    "\n",
    "obs_real_stats = extract_sumstats(obs_real)\n",
    "\n",
    "\n",
    "print(obs_real_stats.shape)"
   ]
  },
  {
   "cell_type": "code",
   "execution_count": 193,
   "metadata": {},
   "outputs": [
    {
     "data": {
      "application/vnd.jupyter.widget-view+json": {
       "model_id": "f7ac3023a15841568d21ab92ecc594cd",
       "version_major": 2,
       "version_minor": 0
      },
      "text/plain": [
       "Drawing 100 posterior samples:   0%|          | 0/100 [00:00<?, ?it/s]"
      ]
     },
     "metadata": {},
     "output_type": "display_data"
    }
   ],
   "source": [
    "num_samples = 100\n",
    "\n",
    "samples = posterior.sample((num_samples,), x=obs_real_stats)\n",
    "\n",
    "proposal1 = posterior.set_default_x(obs_real_stats)"
   ]
  },
  {
   "cell_type": "code",
   "execution_count": 194,
   "metadata": {},
   "outputs": [
    {
     "data": {
      "application/vnd.jupyter.widget-view+json": {
       "model_id": "b7e74ca5b8954feaa7f579b33300bc76",
       "version_major": 2,
       "version_minor": 0
      },
      "text/plain": [
       "Drawing 10 posterior samples:   0%|          | 0/10 [00:00<?, ?it/s]"
      ]
     },
     "metadata": {},
     "output_type": "display_data"
    },
    {
     "name": "stdout",
     "output_type": "stream",
     "text": [
      "theta pos size torch.Size([10, 2])\n",
      "theta prior size torch.Size([10, 2])\n",
      "2\n",
      "theta tensor([[ 4.5445,  5.1033, -4.5906,  1.9855],\n",
      "        [ 4.5582,  5.0073, -3.6891,  2.3228],\n",
      "        [ 4.8479,  4.8905, -1.7281,  2.9880],\n",
      "        [ 4.5432,  4.9963, -3.8988,  1.0819],\n",
      "        [ 5.1429,  5.0243, -2.6934,  1.9897],\n",
      "        [ 5.1060,  5.0104, -1.3216,  1.1026],\n",
      "        [ 4.5607,  5.0094, -3.2369,  1.0316],\n",
      "        [ 4.9826,  5.1468, -2.1346,  1.5221],\n",
      "        [ 4.9201,  5.1421, -3.5231,  2.8388],\n",
      "        [ 5.4084,  4.8953, -1.8391,  1.8172]])\n",
      "prior combined torch.Size([10, 4])\n"
     ]
    },
    {
     "data": {
      "application/vnd.jupyter.widget-view+json": {
       "model_id": "e9325a1dcfe7497f888ef699499b8b7f",
       "version_major": 2,
       "version_minor": 0
      },
      "text/plain": [
       "Drawing 1 posterior samples:   0%|          | 0/1 [00:00<?, ?it/s]"
      ]
     },
     "metadata": {},
     "output_type": "display_data"
    },
    {
     "name": "stdout",
     "output_type": "stream",
     "text": [
      "theta pos size torch.Size([1, 2])\n",
      "theta prior size torch.Size([1, 2])\n",
      "2\n",
      "theta tensor([[ 4.8206,  4.9089, -1.2181,  2.0434]])\n"
     ]
    },
    {
     "data": {
      "application/vnd.jupyter.widget-view+json": {
       "model_id": "27af21f48d0444c487169ec5899045e1",
       "version_major": 2,
       "version_minor": 0
      },
      "text/plain": [
       "Drawing 1 posterior samples:   0%|          | 0/1 [00:00<?, ?it/s]"
      ]
     },
     "metadata": {},
     "output_type": "display_data"
    },
    {
     "name": "stdout",
     "output_type": "stream",
     "text": [
      "theta pos size torch.Size([2])\n",
      "theta prior size torch.Size([2])\n",
      "1\n",
      "true\n",
      "theta tensor([[ 4.8058,  4.9760, -4.0282,  1.9948]])\n"
     ]
    },
    {
     "data": {
      "application/vnd.jupyter.widget-view+json": {
       "model_id": "c9fb5da2154b4ca0b99e2fc9dc16a8fb",
       "version_major": 2,
       "version_minor": 0
      },
      "text/plain": [
       "Drawing 1 posterior samples:   0%|          | 0/1 [00:00<?, ?it/s]"
      ]
     },
     "metadata": {},
     "output_type": "display_data"
    },
    {
     "name": "stdout",
     "output_type": "stream",
     "text": [
      "theta pos size torch.Size([1, 2])\n",
      "theta prior size torch.Size([1, 2])\n",
      "2\n",
      "theta tensor([[ 5.2294,  5.0998, -4.6917,  1.3405]])\n",
      "tensor([-1.4719])\n"
     ]
    },
    {
     "data": {
      "application/vnd.jupyter.widget-view+json": {
       "model_id": "6930759f12724c1d8b20a6f9a6bf4c5d",
       "version_major": 2,
       "version_minor": 0
      },
      "text/plain": [
       "Drawing 1 posterior samples:   0%|          | 0/1 [00:00<?, ?it/s]"
      ]
     },
     "metadata": {},
     "output_type": "display_data"
    },
    {
     "name": "stdout",
     "output_type": "stream",
     "text": [
      "theta pos size torch.Size([2])\n",
      "theta prior size torch.Size([2])\n",
      "1\n",
      "true\n",
      "theta tensor([[ 5.5638,  4.8966, -3.8362,  2.5622]])\n"
     ]
    },
    {
     "data": {
      "application/vnd.jupyter.widget-view+json": {
       "model_id": "0c27c71399f34075b306f0ce8d835ae2",
       "version_major": 2,
       "version_minor": 0
      },
      "text/plain": [
       "Drawing 1 posterior samples:   0%|          | 0/1 [00:00<?, ?it/s]"
      ]
     },
     "metadata": {},
     "output_type": "display_data"
    },
    {
     "name": "stdout",
     "output_type": "stream",
     "text": [
      "theta pos size torch.Size([2])\n",
      "theta prior size torch.Size([2])\n",
      "1\n",
      "true\n",
      "theta tensor([[ 4.7979,  4.9352, -1.5374,  1.6032]])\n"
     ]
    },
    {
     "data": {
      "application/vnd.jupyter.widget-view+json": {
       "model_id": "579cee8472d64173b457acc9ed448d57",
       "version_major": 2,
       "version_minor": 0
      },
      "text/plain": [
       "Drawing 1 posterior samples:   0%|          | 0/1 [00:00<?, ?it/s]"
      ]
     },
     "metadata": {},
     "output_type": "display_data"
    },
    {
     "name": "stdout",
     "output_type": "stream",
     "text": [
      "theta pos size torch.Size([2])\n",
      "theta prior size torch.Size([2])\n",
      "1\n",
      "true\n",
      "theta tensor([[ 5.6816,  5.0731, -1.9385,  2.3505]])\n"
     ]
    },
    {
     "data": {
      "application/vnd.jupyter.widget-view+json": {
       "model_id": "0783ec179c024ec8a047c265691fa042",
       "version_major": 2,
       "version_minor": 0
      },
      "text/plain": [
       "Drawing 2 posterior samples:   0%|          | 0/2 [00:00<?, ?it/s]"
      ]
     },
     "metadata": {},
     "output_type": "display_data"
    },
    {
     "name": "stdout",
     "output_type": "stream",
     "text": [
      "theta pos size torch.Size([2, 2])\n",
      "theta prior size torch.Size([2, 2])\n",
      "2\n",
      "theta tensor([[ 6.9070,  5.1454, -4.3308,  2.8702],\n",
      "        [ 4.4996,  5.0422, -2.0539,  1.9020]])\n"
     ]
    },
    {
     "data": {
      "application/vnd.jupyter.widget-view+json": {
       "model_id": "c3a6457c27804730a8dcc44591160592",
       "version_major": 2,
       "version_minor": 0
      },
      "text/plain": [
       "Drawing 1 posterior samples:   0%|          | 0/1 [00:00<?, ?it/s]"
      ]
     },
     "metadata": {},
     "output_type": "display_data"
    },
    {
     "name": "stdout",
     "output_type": "stream",
     "text": [
      "theta pos size torch.Size([2])\n",
      "theta prior size torch.Size([2])\n",
      "1\n",
      "true\n",
      "theta tensor([[ 4.9358,  5.1364, -2.7437,  2.2096]])\n"
     ]
    },
    {
     "data": {
      "application/vnd.jupyter.widget-view+json": {
       "model_id": "551ff6d91787466c98f1c5cd8dc08454",
       "version_major": 2,
       "version_minor": 0
      },
      "text/plain": [
       "Drawing 1 posterior samples:   0%|          | 0/1 [00:00<?, ?it/s]"
      ]
     },
     "metadata": {},
     "output_type": "display_data"
    },
    {
     "name": "stdout",
     "output_type": "stream",
     "text": [
      "theta pos size torch.Size([1, 2])\n",
      "theta prior size torch.Size([1, 2])\n",
      "2\n",
      "theta tensor([[ 4.7091,  5.1396, -2.3432,  2.5378]])\n"
     ]
    },
    {
     "data": {
      "application/vnd.jupyter.widget-view+json": {
       "model_id": "819ae40a2182470b899b6e425ab136dd",
       "version_major": 2,
       "version_minor": 0
      },
      "text/plain": [
       "Drawing 1 posterior samples:   0%|          | 0/1 [00:00<?, ?it/s]"
      ]
     },
     "metadata": {},
     "output_type": "display_data"
    },
    {
     "name": "stdout",
     "output_type": "stream",
     "text": [
      "theta pos size torch.Size([1, 2])\n",
      "theta prior size torch.Size([1, 2])\n",
      "2\n",
      "theta tensor([[ 4.8333,  5.0641, -2.4420,  1.1698]])\n"
     ]
    },
    {
     "data": {
      "application/vnd.jupyter.widget-view+json": {
       "model_id": "8866e696ab1e4f1ca2caa87d00bbc4b8",
       "version_major": 2,
       "version_minor": 0
      },
      "text/plain": [
       "Drawing 1000 posterior samples:   0%|          | 0/1000 [00:00<?, ?it/s]"
      ]
     },
     "metadata": {},
     "output_type": "display_data"
    },
    {
     "name": "stdout",
     "output_type": "stream",
     "text": [
      "theta pos size torch.Size([1000, 2])\n",
      "theta prior size torch.Size([1000, 2])\n",
      "2\n",
      "theta tensor([[ 4.7156,  5.0335, -4.1066,  1.7775],\n",
      "        [ 4.7893,  4.9969, -2.9337,  1.5763],\n",
      "        [ 5.7264,  5.1204, -1.2305,  2.0460],\n",
      "        ...,\n",
      "        [ 4.7744,  5.0395, -4.7573,  2.3149],\n",
      "        [ 5.2358,  5.0405, -1.2377,  2.9043],\n",
      "        [ 5.8987,  5.3012, -3.2155,  2.4411]])\n"
     ]
    },
    {
     "data": {
      "application/vnd.jupyter.widget-view+json": {
       "model_id": "9fb9b5faca404b2e9f29520ad119d2f4",
       "version_major": 2,
       "version_minor": 0
      },
      "text/plain": [
       "Running 1000 simulations in 1000 batches.:   0%|          | 0/1000 [00:00<?, ?it/s]"
      ]
     },
     "metadata": {},
     "output_type": "display_data"
    }
   ],
   "source": [
    "#### second round\n",
    "\n",
    "\n",
    "\n",
    "prior2 = utils.torchutils.BoxUniform(low=prior_min[2:4], high = prior_max[2:4])\n",
    "\n",
    "\n",
    "prior_combined =Combined(proposal1, prior2, number_params_1=2)\n",
    "\n",
    "\n",
    "print('prior combined', prior_combined.sample((10,)).shape)\n",
    "#print('prop',prior2.sample((10,)).shape)\n",
    "\n",
    "\n",
    "inf = SNPE_C(prior_combined, density_estimator=\"nsf\")\n",
    "\n",
    "density_estimator = 'nsf'\n",
    "\n",
    "\n",
    "simulator_stats, prior = prepare_for_sbi(piecewise_linear_second_batch, prior_combined)\n",
    "\n",
    "inference = SNPE_C(prior, density_estimator=density_estimator)\n",
    "\n",
    "theta, x_without = simulate_for_sbi(\n",
    "    simulator_stats,\n",
    "    proposal=prior,\n",
    "    num_simulations=num_simulations,\n",
    "    num_workers=4,\n",
    ")"
   ]
  },
  {
   "cell_type": "code",
   "execution_count": 195,
   "metadata": {},
   "outputs": [
    {
     "name": "stdout",
     "output_type": "stream",
     "text": [
      "torch.Size([1000, 4])\n",
      "<sbi.inference.snpe.snpe_c.SNPE_C object at 0x7f2f01d27370>\n",
      "Neural network successfully converged after 53 epochs.\n"
     ]
    }
   ],
   "source": [
    "x = extract_sumstats(x_without)\n",
    "\n",
    "\n",
    "print(theta.shape)\n",
    "\n",
    "inf = inf.append_simulations(theta, x)\n",
    "\n",
    "print(inf)\n",
    "density_estimator = inf.train()\n",
    "\n",
    "posterior2 = inf.build_posterior(density_estimator)"
   ]
  },
  {
   "cell_type": "code",
   "execution_count": 196,
   "metadata": {},
   "outputs": [
    {
     "data": {
      "application/vnd.jupyter.widget-view+json": {
       "model_id": "7287c86193a14344b77ecb20c175da3e",
       "version_major": 2,
       "version_minor": 0
      },
      "text/plain": [
       "Drawing 100 posterior samples:   0%|          | 0/100 [00:00<?, ?it/s]"
      ]
     },
     "metadata": {},
     "output_type": "display_data"
    }
   ],
   "source": [
    "\n",
    "\n",
    "\n",
    "#print(proposal2.log_prob(theta))\n",
    "\n",
    "samples = posterior2.sample((num_samples,), x=obs_real_stats)\n",
    "\n",
    "proposal2 = posterior2.set_default_x(obs_real_stats)"
   ]
  },
  {
   "cell_type": "code",
   "execution_count": 197,
   "metadata": {},
   "outputs": [
    {
     "data": {
      "application/vnd.jupyter.widget-view+json": {
       "model_id": "5dcd248ad50f4f50b47d86f2a592fb27",
       "version_major": 2,
       "version_minor": 0
      },
      "text/plain": [
       "Drawing 1 posterior samples:   0%|          | 0/1 [00:00<?, ?it/s]"
      ]
     },
     "metadata": {},
     "output_type": "display_data"
    },
    {
     "name": "stdout",
     "output_type": "stream",
     "text": [
      "theta pos size torch.Size([1, 4])\n",
      "theta prior size torch.Size([1, 2])\n",
      "2\n",
      "theta tensor([[ 4.9334,  5.0025, -2.1277,  2.8904,  1.7452,  4.0055]])\n"
     ]
    },
    {
     "data": {
      "application/vnd.jupyter.widget-view+json": {
       "model_id": "9fa0bb690b0742c98cc625e18a973d7a",
       "version_major": 2,
       "version_minor": 0
      },
      "text/plain": [
       "Drawing 1 posterior samples:   0%|          | 0/1 [00:00<?, ?it/s]"
      ]
     },
     "metadata": {},
     "output_type": "display_data"
    },
    {
     "name": "stdout",
     "output_type": "stream",
     "text": [
      "theta pos size torch.Size([4])\n",
      "theta prior size torch.Size([2])\n",
      "1\n",
      "true\n",
      "theta tensor([[ 4.8857,  4.9876, -3.0050,  2.7125,  1.6141,  4.0685]])\n"
     ]
    },
    {
     "data": {
      "application/vnd.jupyter.widget-view+json": {
       "model_id": "bff142650ab44980a127dda15b9f43f4",
       "version_major": 2,
       "version_minor": 0
      },
      "text/plain": [
       "Drawing 1 posterior samples:   0%|          | 0/1 [00:00<?, ?it/s]"
      ]
     },
     "metadata": {},
     "output_type": "display_data"
    },
    {
     "name": "stdout",
     "output_type": "stream",
     "text": [
      "theta pos size torch.Size([1, 4])\n",
      "theta prior size torch.Size([1, 2])\n",
      "2\n",
      "theta tensor([[ 5.2178,  5.0955, -2.0547,  1.3001,  1.5858,  5.9578]])\n",
      "tensor([-2.6068])\n"
     ]
    },
    {
     "data": {
      "application/vnd.jupyter.widget-view+json": {
       "model_id": "c82b408e93814bc2bb5954e1e4e815a1",
       "version_major": 2,
       "version_minor": 0
      },
      "text/plain": [
       "Drawing 1 posterior samples:   0%|          | 0/1 [00:00<?, ?it/s]"
      ]
     },
     "metadata": {},
     "output_type": "display_data"
    },
    {
     "name": "stdout",
     "output_type": "stream",
     "text": [
      "theta pos size torch.Size([4])\n",
      "theta prior size torch.Size([2])\n",
      "1\n",
      "true\n",
      "theta tensor([[ 5.5180,  4.7822, -2.0752,  2.6079,  0.8336,  5.1890]])\n"
     ]
    },
    {
     "data": {
      "application/vnd.jupyter.widget-view+json": {
       "model_id": "7662f5d4b5df4bbe863d59fd1159042c",
       "version_major": 2,
       "version_minor": 0
      },
      "text/plain": [
       "Drawing 1 posterior samples:   0%|          | 0/1 [00:00<?, ?it/s]"
      ]
     },
     "metadata": {},
     "output_type": "display_data"
    },
    {
     "name": "stdout",
     "output_type": "stream",
     "text": [
      "theta pos size torch.Size([4])\n",
      "theta prior size torch.Size([2])\n",
      "1\n",
      "true\n",
      "theta tensor([[ 4.7737,  5.0442, -1.7481,  2.7959,  1.2092,  5.0756]])\n"
     ]
    },
    {
     "data": {
      "application/vnd.jupyter.widget-view+json": {
       "model_id": "94dc13bbfa7244c2b42a4b4e9ceb193c",
       "version_major": 2,
       "version_minor": 0
      },
      "text/plain": [
       "Drawing 1 posterior samples:   0%|          | 0/1 [00:00<?, ?it/s]"
      ]
     },
     "metadata": {},
     "output_type": "display_data"
    },
    {
     "name": "stdout",
     "output_type": "stream",
     "text": [
      "theta pos size torch.Size([4])\n",
      "theta prior size torch.Size([2])\n",
      "1\n",
      "true\n",
      "theta tensor([[ 4.7578,  5.0060, -2.6181,  2.8089,  0.9884,  5.5340]])\n"
     ]
    },
    {
     "data": {
      "application/vnd.jupyter.widget-view+json": {
       "model_id": "1486d009e92c4a45928f08e4334f0757",
       "version_major": 2,
       "version_minor": 0
      },
      "text/plain": [
       "Drawing 2 posterior samples:   0%|          | 0/2 [00:00<?, ?it/s]"
      ]
     },
     "metadata": {},
     "output_type": "display_data"
    },
    {
     "name": "stdout",
     "output_type": "stream",
     "text": [
      "theta pos size torch.Size([2, 4])\n",
      "theta prior size torch.Size([2, 2])\n",
      "2\n",
      "theta tensor([[ 4.7919,  4.9200, -2.1588,  2.3784,  0.0420,  5.2287],\n",
      "        [ 5.1664,  4.9459, -2.4926,  2.8886,  0.2976,  5.6666]])\n"
     ]
    },
    {
     "data": {
      "application/vnd.jupyter.widget-view+json": {
       "model_id": "983bf30319a64273a248e2b9f12316c7",
       "version_major": 2,
       "version_minor": 0
      },
      "text/plain": [
       "Drawing 1 posterior samples:   0%|          | 0/1 [00:00<?, ?it/s]"
      ]
     },
     "metadata": {},
     "output_type": "display_data"
    },
    {
     "name": "stdout",
     "output_type": "stream",
     "text": [
      "theta pos size torch.Size([4])\n",
      "theta prior size torch.Size([2])\n",
      "1\n",
      "true\n",
      "theta tensor([[ 4.7677,  5.1337, -1.4090,  2.9477,  1.0874,  5.6188]])\n"
     ]
    },
    {
     "data": {
      "application/vnd.jupyter.widget-view+json": {
       "model_id": "61395306a5d94fe8b151eb045a125276",
       "version_major": 2,
       "version_minor": 0
      },
      "text/plain": [
       "Drawing 1 posterior samples:   0%|          | 0/1 [00:00<?, ?it/s]"
      ]
     },
     "metadata": {},
     "output_type": "display_data"
    },
    {
     "name": "stdout",
     "output_type": "stream",
     "text": [
      "theta pos size torch.Size([1, 4])\n",
      "theta prior size torch.Size([1, 2])\n",
      "2\n",
      "theta tensor([[ 4.8996,  5.0007, -1.5910,  2.4129,  0.1428,  4.4213]])\n"
     ]
    },
    {
     "data": {
      "application/vnd.jupyter.widget-view+json": {
       "model_id": "2f2287bcd3cf40378f2cc093150fa8cb",
       "version_major": 2,
       "version_minor": 0
      },
      "text/plain": [
       "Drawing 1 posterior samples:   0%|          | 0/1 [00:00<?, ?it/s]"
      ]
     },
     "metadata": {},
     "output_type": "display_data"
    },
    {
     "name": "stdout",
     "output_type": "stream",
     "text": [
      "theta pos size torch.Size([1, 4])\n",
      "theta prior size torch.Size([1, 2])\n",
      "2\n",
      "theta tensor([[ 4.5558,  4.9302, -2.3229,  2.7112,  1.3367,  5.9942]])\n"
     ]
    },
    {
     "data": {
      "application/vnd.jupyter.widget-view+json": {
       "model_id": "9eac9baa4912423993dd3546ce21e6a5",
       "version_major": 2,
       "version_minor": 0
      },
      "text/plain": [
       "Drawing 1000 posterior samples:   0%|          | 0/1000 [00:00<?, ?it/s]"
      ]
     },
     "metadata": {},
     "output_type": "display_data"
    },
    {
     "name": "stdout",
     "output_type": "stream",
     "text": [
      "theta pos size torch.Size([1000, 4])\n",
      "theta prior size torch.Size([1000, 2])\n",
      "2\n",
      "theta tensor([[ 4.8801,  4.9845, -1.4329,  2.7704,  0.9072,  5.9328],\n",
      "        [ 5.1411,  4.9165, -1.8617,  2.9534,  0.3839,  5.3898],\n",
      "        [ 5.0122,  5.2211, -1.7846,  2.3642,  1.3911,  5.7792],\n",
      "        ...,\n",
      "        [ 5.3790,  4.9612, -1.8394,  2.8533,  0.2564,  4.4781],\n",
      "        [ 5.0242,  4.9440, -1.5488,  2.4872,  0.7543,  5.6665],\n",
      "        [ 5.8005,  4.9582, -1.9723,  1.4518,  1.5045,  4.9215]])\n"
     ]
    },
    {
     "data": {
      "application/vnd.jupyter.widget-view+json": {
       "model_id": "839653aa9c3d4165b61bdbbc645e7cda",
       "version_major": 2,
       "version_minor": 0
      },
      "text/plain": [
       "Running 1000 simulations in 1000 batches.:   0%|          | 0/1000 [00:00<?, ?it/s]"
      ]
     },
     "metadata": {},
     "output_type": "display_data"
    }
   ],
   "source": [
    "#### third round\n",
    "\n",
    "\n",
    "\n",
    "prior3 = utils.torchutils.BoxUniform(low=prior_min[4:6], high = prior_max[4:6])\n",
    "\n",
    "\n",
    "prior_combined2 =Combined(proposal2, prior3, number_params_1=4)\n",
    "\n",
    "\n",
    "\n",
    "inf = SNPE_C(prior_combined2, density_estimator=\"nsf\")\n",
    "\n",
    "density_estimator = 'nsf'\n",
    "\n",
    "\n",
    "simulator_stats, prior = prepare_for_sbi(piecewise_linear_third_batch, prior_combined2)\n",
    "\n",
    "inference = SNPE_C(prior, density_estimator=density_estimator)\n",
    "\n",
    "theta, x_without = simulate_for_sbi(\n",
    "    simulator_stats,\n",
    "    proposal=prior,\n",
    "    num_simulations=num_simulations,\n",
    "    num_workers=4,\n",
    ")"
   ]
  },
  {
   "cell_type": "code",
   "execution_count": null,
   "metadata": {},
   "outputs": [
    {
     "name": "stdout",
     "output_type": "stream",
     "text": [
      "torch.Size([1000, 6])\n",
      "<sbi.inference.snpe.snpe_c.SNPE_C object at 0x7f2f015d0940>\n",
      "Training neural network. Epochs trained:  67\r"
     ]
    }
   ],
   "source": [
    "x = extract_sumstats(x_without)\n",
    "\n",
    "\n",
    "print(theta.shape)\n",
    "\n",
    "inf = inf.append_simulations(theta, x)\n",
    "\n",
    "print(inf)\n",
    "density_estimator = inf.train()\n",
    "\n",
    "posterior3 = inf.build_posterior(density_estimator)"
   ]
  },
  {
   "cell_type": "code",
   "execution_count": null,
   "metadata": {},
   "outputs": [],
   "source": [
    "samples = posterior3.sample((num_samples,), x=obs_real_stats)"
   ]
  },
  {
   "cell_type": "code",
   "execution_count": null,
   "metadata": {},
   "outputs": [],
   "source": [
    "print(samples.shape)\n",
    "\n",
    "\n",
    "from sbi import analysis as analysis"
   ]
  },
  {
   "cell_type": "code",
   "execution_count": null,
   "metadata": {},
   "outputs": [],
   "source": [
    "from joblib import Parallel, delayed\n",
    "\n",
    "num_workers = 4\n",
    "\n",
    "s_x = Parallel(\n",
    "        n_jobs=num_workers,\n",
    "        verbose=100,\n",
    "        pre_dispatch=\"1.5*n_jobs\",\n",
    "        backend=\"multiprocessing\",\n",
    "    )(delayed(piecewise_linear_third_batch)(sample) for sample in samples)\n",
    "\n",
    "\n",
    "\n",
    "fig, ax = plt.subplots(1, 1)\n",
    "ax.set_title(\"Simulating from posterior (without summary stats)\")\n",
    "for s in s_x:\n",
    "    im = plt.plot(x_lin, s)\n",
    "    plt.ylim(-10,30)\n",
    "    \n",
    "    \n",
    "obs_real = piecewise_linear_third_batch(true_params)\n",
    "\n",
    "\n",
    "\n",
    "\n",
    "fig, ax = plt.subplots(1, 1)\n",
    "ax.set_title(\"Simulating from posterior (without summary stats)\")\n",
    "plt.plot(x_lin, obs_real)\n",
    "plt.ylim(-10,30)\n"
   ]
  },
  {
   "cell_type": "code",
   "execution_count": null,
   "metadata": {},
   "outputs": [],
   "source": [
    "limits = [list(tup) for tup in zip(prior_min, prior_max)]\n",
    "\n",
    "true_params = torch.tensor([[5, 5, -3, 2, 1, 5]])\n",
    "\n",
    "parameter_names = ['a1', 'b', 'a2', 'a3', 'cp1', 'cp2' ]\n",
    "\n",
    "fig, axes = analysis.pairplot(\n",
    "    samples,\n",
    "    limits=limits,\n",
    "    ticks=limits,\n",
    "    figsize=(5, 5),\n",
    "    points=true_params[0:2],\n",
    "    points_offdiag={\"markersize\": 6},\n",
    "    points_colors=\"r\",\n",
    "    #tick_labels=parameter_names\n",
    "    labels=parameter_names,\n",
    ")"
   ]
  },
  {
   "cell_type": "code",
   "execution_count": null,
   "metadata": {},
   "outputs": [],
   "source": []
  },
  {
   "cell_type": "code",
   "execution_count": null,
   "metadata": {},
   "outputs": [],
   "source": []
  }
 ],
 "metadata": {
  "interpreter": {
   "hash": "126fa1c3f32c28cc7adc0ff61e94b616033ac8f91881516d11a50edd9bdb1b2c"
  },
  "kernelspec": {
   "display_name": "Python 3 (ipykernel)",
   "language": "python",
   "name": "python3"
  },
  "language_info": {
   "codemirror_mode": {
    "name": "ipython",
    "version": 3
   },
   "file_extension": ".py",
   "mimetype": "text/x-python",
   "name": "python",
   "nbconvert_exporter": "python",
   "pygments_lexer": "ipython3",
   "version": "3.8.8"
  }
 },
 "nbformat": 4,
 "nbformat_minor": 2
}
