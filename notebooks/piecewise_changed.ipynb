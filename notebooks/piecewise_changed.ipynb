{
 "cells": [
  {
   "cell_type": "markdown",
   "metadata": {},
   "source": [
    "## Time series with time structured parameters and summary statistics\n",
    "\n",
    "Idea: construct a model $p(x|\\theta)$ with $\\theta = (\\theta_1,...\\theta_n)$ and summary statistics $s(x) = (s_1(x),...s_m(x))$ s.t.\n",
    "\n",
    "\n",
    "for all $i$ there exists a $j$, $j\\leq m$, and $l$, $j\\leq l$ such that\n",
    " \n",
    "$p(s_{1:i}|\\theta_{1:n} ) = p(s_{1:i}|\\theta_{1:j}) $.\n",
    "\n",
    "and \n",
    "\n",
    "$p(s_{1:i+1}|\\theta_{1:n} ) = p(s_{1:i+1}|\\theta_{1:l}) $."
   ]
  },
  {
   "cell_type": "markdown",
   "metadata": {},
   "source": [
    "### Examples:\n",
    "1. Piecewise linear function:\n",
    " - $\\theta_{1,2}$ : a and b of linear function f(x) = ax + b\n",
    " - $\\theta_{3,4}$ : time of changing point cp, and a2 of second slope\n",
    "\n",
    " 2. Sinusoidal waves with linearly increasing/decreasing amplitudes, and changing points at which this linear function changes.\n",
    " \n"
   ]
  },
  {
   "cell_type": "code",
   "execution_count": 1,
   "metadata": {},
   "outputs": [],
   "source": [
    "\n",
    "%load_ext autoreload\n",
    "%autoreload 2\n",
    "import numpy as np\n",
    "import scipy as scp\n",
    "import matplotlib.pyplot as plt\n",
    "\n",
    "\n",
    "import sys\n",
    "sys.path.append('../code/')\n",
    "\n",
    "import torch"
   ]
  },
  {
   "cell_type": "code",
   "execution_count": 2,
   "metadata": {},
   "outputs": [],
   "source": [
    "# sbi\n",
    "from sbi import utils as utils\n",
    "from sbi import analysis as analysis\n",
    "from sbi.inference.base import infer\n",
    "from sbi.inference import SNPE, prepare_for_sbi, simulate_for_sbi\n",
    "from sbi.inference import SNPE_C\n",
    "from utils.helpers import get_time\n",
    "\n",
    "from utils.sbi_modulated_functions import Combined\n"
   ]
  },
  {
   "cell_type": "code",
   "execution_count": 3,
   "metadata": {},
   "outputs": [],
   "source": [
    "def piecewise_linear(a1,b, a2,a3, cp1, cp2, add_noise=None):\n",
    "    \"\"\"\n",
    "    Args:\n",
    "        a1 (float): first slope\n",
    "        b (float): offset\n",
    "        a2 (float): second slope\n",
    "        a3 (float): 3rd slope\n",
    "        cp1, cp2 (float): changing points\n",
    "        add_noise (None or float): None or scale of Gaussian noise on all variables\n",
    "\n",
    "    Returns:\n",
    "        x,y (arrays): x and y of piecewise linear function. \n",
    "    \"\"\"\n",
    "    if not add_noise == None:\n",
    "        a1,b, a2,a3, cp1, cp2 = np.array([a1,b, a2,a3, cp1, cp2]) + scp.random.normal(scale=add_noise,size=6)       \n",
    "    \n",
    "    x = np.arange(0,10,0.01)\n",
    "    y = np.zeros(x.shape)\n",
    "    \n",
    "    # first piece\n",
    "    y[x<cp1] = (b+a1*x[x<cp1])\n",
    "    \n",
    "    # second piece     \n",
    "    y[(x>=cp1) & (x<cp2)] = y[np.sum(x<cp1)-1] + a2* (x[(x>=cp1) & (x<cp2)]  - cp1) \n",
    "    \n",
    "    # third piece\n",
    "    y[x>=cp2] = y[np.sum(x<cp2)-1] + a3* (x[x>=cp2] - cp2) \n",
    "    \n",
    "    \n",
    "    print('x',x)\n",
    "    print(y)\n",
    "    return np.concatenate((x, y))\n",
    "\n",
    "\n",
    "def piecewise_linear_first_batch(thetas):\n",
    "    \"\"\"\n",
    "    Args:\n",
    "        a1 (float): first slope\n",
    "        b (float): offset\n",
    "        a2 (float): second slope\n",
    "        a3 (float): 3rd slope\n",
    "        cp1, cp2 (float): changing points\n",
    "        add_noise (None or float): None or scale of Gaussian noise on all variables\n",
    "\n",
    "    Returns:\n",
    "        x,y (arrays): x and y of piecewise linear function. \n",
    "    \"\"\"\n",
    "    \n",
    "    a1 = thetas[0]\n",
    "    b = thetas[1]\n",
    "    a2 = -2\n",
    "    a3 = 3\n",
    "    cp1 = 3\n",
    "    cp2 = 6\n",
    "    add_noise=None\n",
    "    \n",
    "    if not add_noise == None:\n",
    "        a1,b, a2,a3, cp1, cp2 = np.array([a1,b, a2,a3, cp1, cp2]) + scp.random.normal(scale=add_noise,size=6)       \n",
    "    \n",
    "    x = np.arange(0,10,0.01)\n",
    "    y = np.zeros(x.shape)\n",
    "    \n",
    "    # first piece\n",
    "    y[x<cp1] = (b+a1*x[x<cp1])\n",
    "    \n",
    "    # second piece     \n",
    "    y[(x>=cp1) & (x<cp2)] = y[np.sum(x<cp1)-1] + a2* (x[(x>=cp1) & (x<cp2)]  - cp1) \n",
    "    \n",
    "    # third piece\n",
    "    y[x>=cp2] = y[np.sum(x<cp2)-1] + a3* (x[x>=cp2] - cp2) \n",
    "    \n",
    "    return np.concatenate((x, y))\n",
    "\n",
    "\n",
    "def piecewise_linear_second_batch(thetas):\n",
    "    \"\"\"\n",
    "    Args:\n",
    "        a1 (float): first slope\n",
    "        b (float): offset\n",
    "        a2 (float): second slope\n",
    "        a3 (float): 3rd slope\n",
    "        cp1, cp2 (float): changing points\n",
    "        add_noise (None or float): None or scale of Gaussian noise on all variables\n",
    "\n",
    "    Returns:\n",
    "        x,y (arrays): x and y of piecewise linear function. \n",
    "    \"\"\"\n",
    "    \n",
    "    a1 = thetas[0]\n",
    "    b = thetas[1]\n",
    "    a2 = thetas[2]\n",
    "    a3 = thetas[3]\n",
    "    cp1 = 3\n",
    "    cp2 = 6\n",
    "    add_noise=None\n",
    "    \n",
    "    if not add_noise == None:\n",
    "        a1,b, a2,a3, cp1, cp2 = np.array([a1,b, a2,a3, cp1, cp2]) + scp.random.normal(scale=add_noise,size=6)       \n",
    "    \n",
    "    x = np.arange(0,10,0.01)\n",
    "    y = np.zeros(x.shape)\n",
    "    \n",
    "    # first piece\n",
    "    y[x<cp1] = (b+a1*x[x<cp1])\n",
    "    \n",
    "    # second piece     \n",
    "    y[(x>=cp1) & (x<cp2)] = y[np.sum(x<cp1)-1] + a2* (x[(x>=cp1) & (x<cp2)]  - cp1) \n",
    "    \n",
    "    # third piece\n",
    "    y[x>=cp2] = y[np.sum(x<cp2)-1] + a3* (x[x>=cp2] - cp2) \n",
    "    \n",
    "    return np.concatenate((x, y))\n",
    "\n",
    "\n",
    "def piecewise_linear_third_batch(thetas):\n",
    "    \"\"\"\n",
    "    Args:\n",
    "        a1 (float): first slope\n",
    "        b (float): offset\n",
    "        a2 (float): second slope\n",
    "        a3 (float): 3rd slope\n",
    "        cp1, cp2 (float): changing points\n",
    "        add_noise (None or float): None or scale of Gaussian noise on all variables\n",
    "\n",
    "    Returns:\n",
    "        x,y (arrays): x and y of piecewise linear function. \n",
    "    \"\"\"\n",
    "    \n",
    "    a1 = thetas[0]\n",
    "    b = thetas[1]\n",
    "    a2 = thetas[2]\n",
    "    a3 = thetas[3]\n",
    "    cp1 = thetas[4]\n",
    "    cp2 = thetas[5]\n",
    "    \n",
    "    add_noise=None\n",
    "    \n",
    "    if not add_noise == None:\n",
    "        a1,b, a2,a3, cp1, cp2 = np.array([a1,b, a2,a3, cp1, cp2]) + scp.random.normal(scale=add_noise,size=6)       \n",
    "    \n",
    "    x = np.arange(0,10,0.01)\n",
    "    y = np.zeros(x.shape)\n",
    "    \n",
    "    # first piece\n",
    "    y[x<cp1] = (b+a1*x[x<cp1])\n",
    "    \n",
    "    # second piece     \n",
    "    y[(x>=cp1) & (x<cp2)] = y[np.sum(x<cp1)-1] + a2* (x[(x>=cp1) & (x<cp2)]  - cp1) \n",
    "    \n",
    "    # third piece\n",
    "    y[x>=cp2] = y[np.sum(x<cp2)-1] + a3* (x[x>=cp2] - cp2) \n",
    "\n",
    "    \n",
    "    return np.concatenate((x, y))"
   ]
  },
  {
   "cell_type": "code",
   "execution_count": null,
   "metadata": {},
   "outputs": [],
   "source": []
  },
  {
   "cell_type": "markdown",
   "metadata": {},
   "source": [
    "### Define prior and summary stats dependent on prior"
   ]
  },
  {
   "cell_type": "code",
   "execution_count": 4,
   "metadata": {},
   "outputs": [
    {
     "name": "stdout",
     "output_type": "stream",
     "text": [
      "-0.49599808103003085 4.644019377739719 4.5568913814572 -6.702184068914208 2.096050056234762 5.853152612068656\n",
      "x [0.   0.01 0.02 0.03 0.04 0.05 0.06 0.07 0.08 0.09 0.1  0.11 0.12 0.13\n",
      " 0.14 0.15 0.16 0.17 0.18 0.19 0.2  0.21 0.22 0.23 0.24 0.25 0.26 0.27\n",
      " 0.28 0.29 0.3  0.31 0.32 0.33 0.34 0.35 0.36 0.37 0.38 0.39 0.4  0.41\n",
      " 0.42 0.43 0.44 0.45 0.46 0.47 0.48 0.49 0.5  0.51 0.52 0.53 0.54 0.55\n",
      " 0.56 0.57 0.58 0.59 0.6  0.61 0.62 0.63 0.64 0.65 0.66 0.67 0.68 0.69\n",
      " 0.7  0.71 0.72 0.73 0.74 0.75 0.76 0.77 0.78 0.79 0.8  0.81 0.82 0.83\n",
      " 0.84 0.85 0.86 0.87 0.88 0.89 0.9  0.91 0.92 0.93 0.94 0.95 0.96 0.97\n",
      " 0.98 0.99 1.   1.01 1.02 1.03 1.04 1.05 1.06 1.07 1.08 1.09 1.1  1.11\n",
      " 1.12 1.13 1.14 1.15 1.16 1.17 1.18 1.19 1.2  1.21 1.22 1.23 1.24 1.25\n",
      " 1.26 1.27 1.28 1.29 1.3  1.31 1.32 1.33 1.34 1.35 1.36 1.37 1.38 1.39\n",
      " 1.4  1.41 1.42 1.43 1.44 1.45 1.46 1.47 1.48 1.49 1.5  1.51 1.52 1.53\n",
      " 1.54 1.55 1.56 1.57 1.58 1.59 1.6  1.61 1.62 1.63 1.64 1.65 1.66 1.67\n",
      " 1.68 1.69 1.7  1.71 1.72 1.73 1.74 1.75 1.76 1.77 1.78 1.79 1.8  1.81\n",
      " 1.82 1.83 1.84 1.85 1.86 1.87 1.88 1.89 1.9  1.91 1.92 1.93 1.94 1.95\n",
      " 1.96 1.97 1.98 1.99 2.   2.01 2.02 2.03 2.04 2.05 2.06 2.07 2.08 2.09\n",
      " 2.1  2.11 2.12 2.13 2.14 2.15 2.16 2.17 2.18 2.19 2.2  2.21 2.22 2.23\n",
      " 2.24 2.25 2.26 2.27 2.28 2.29 2.3  2.31 2.32 2.33 2.34 2.35 2.36 2.37\n",
      " 2.38 2.39 2.4  2.41 2.42 2.43 2.44 2.45 2.46 2.47 2.48 2.49 2.5  2.51\n",
      " 2.52 2.53 2.54 2.55 2.56 2.57 2.58 2.59 2.6  2.61 2.62 2.63 2.64 2.65\n",
      " 2.66 2.67 2.68 2.69 2.7  2.71 2.72 2.73 2.74 2.75 2.76 2.77 2.78 2.79\n",
      " 2.8  2.81 2.82 2.83 2.84 2.85 2.86 2.87 2.88 2.89 2.9  2.91 2.92 2.93\n",
      " 2.94 2.95 2.96 2.97 2.98 2.99 3.   3.01 3.02 3.03 3.04 3.05 3.06 3.07\n",
      " 3.08 3.09 3.1  3.11 3.12 3.13 3.14 3.15 3.16 3.17 3.18 3.19 3.2  3.21\n",
      " 3.22 3.23 3.24 3.25 3.26 3.27 3.28 3.29 3.3  3.31 3.32 3.33 3.34 3.35\n",
      " 3.36 3.37 3.38 3.39 3.4  3.41 3.42 3.43 3.44 3.45 3.46 3.47 3.48 3.49\n",
      " 3.5  3.51 3.52 3.53 3.54 3.55 3.56 3.57 3.58 3.59 3.6  3.61 3.62 3.63\n",
      " 3.64 3.65 3.66 3.67 3.68 3.69 3.7  3.71 3.72 3.73 3.74 3.75 3.76 3.77\n",
      " 3.78 3.79 3.8  3.81 3.82 3.83 3.84 3.85 3.86 3.87 3.88 3.89 3.9  3.91\n",
      " 3.92 3.93 3.94 3.95 3.96 3.97 3.98 3.99 4.   4.01 4.02 4.03 4.04 4.05\n",
      " 4.06 4.07 4.08 4.09 4.1  4.11 4.12 4.13 4.14 4.15 4.16 4.17 4.18 4.19\n",
      " 4.2  4.21 4.22 4.23 4.24 4.25 4.26 4.27 4.28 4.29 4.3  4.31 4.32 4.33\n",
      " 4.34 4.35 4.36 4.37 4.38 4.39 4.4  4.41 4.42 4.43 4.44 4.45 4.46 4.47\n",
      " 4.48 4.49 4.5  4.51 4.52 4.53 4.54 4.55 4.56 4.57 4.58 4.59 4.6  4.61\n",
      " 4.62 4.63 4.64 4.65 4.66 4.67 4.68 4.69 4.7  4.71 4.72 4.73 4.74 4.75\n",
      " 4.76 4.77 4.78 4.79 4.8  4.81 4.82 4.83 4.84 4.85 4.86 4.87 4.88 4.89\n",
      " 4.9  4.91 4.92 4.93 4.94 4.95 4.96 4.97 4.98 4.99 5.   5.01 5.02 5.03\n",
      " 5.04 5.05 5.06 5.07 5.08 5.09 5.1  5.11 5.12 5.13 5.14 5.15 5.16 5.17\n",
      " 5.18 5.19 5.2  5.21 5.22 5.23 5.24 5.25 5.26 5.27 5.28 5.29 5.3  5.31\n",
      " 5.32 5.33 5.34 5.35 5.36 5.37 5.38 5.39 5.4  5.41 5.42 5.43 5.44 5.45\n",
      " 5.46 5.47 5.48 5.49 5.5  5.51 5.52 5.53 5.54 5.55 5.56 5.57 5.58 5.59\n",
      " 5.6  5.61 5.62 5.63 5.64 5.65 5.66 5.67 5.68 5.69 5.7  5.71 5.72 5.73\n",
      " 5.74 5.75 5.76 5.77 5.78 5.79 5.8  5.81 5.82 5.83 5.84 5.85 5.86 5.87\n",
      " 5.88 5.89 5.9  5.91 5.92 5.93 5.94 5.95 5.96 5.97 5.98 5.99 6.   6.01\n",
      " 6.02 6.03 6.04 6.05 6.06 6.07 6.08 6.09 6.1  6.11 6.12 6.13 6.14 6.15\n",
      " 6.16 6.17 6.18 6.19 6.2  6.21 6.22 6.23 6.24 6.25 6.26 6.27 6.28 6.29\n",
      " 6.3  6.31 6.32 6.33 6.34 6.35 6.36 6.37 6.38 6.39 6.4  6.41 6.42 6.43\n",
      " 6.44 6.45 6.46 6.47 6.48 6.49 6.5  6.51 6.52 6.53 6.54 6.55 6.56 6.57\n",
      " 6.58 6.59 6.6  6.61 6.62 6.63 6.64 6.65 6.66 6.67 6.68 6.69 6.7  6.71\n",
      " 6.72 6.73 6.74 6.75 6.76 6.77 6.78 6.79 6.8  6.81 6.82 6.83 6.84 6.85\n",
      " 6.86 6.87 6.88 6.89 6.9  6.91 6.92 6.93 6.94 6.95 6.96 6.97 6.98 6.99\n",
      " 7.   7.01 7.02 7.03 7.04 7.05 7.06 7.07 7.08 7.09 7.1  7.11 7.12 7.13\n",
      " 7.14 7.15 7.16 7.17 7.18 7.19 7.2  7.21 7.22 7.23 7.24 7.25 7.26 7.27\n",
      " 7.28 7.29 7.3  7.31 7.32 7.33 7.34 7.35 7.36 7.37 7.38 7.39 7.4  7.41\n",
      " 7.42 7.43 7.44 7.45 7.46 7.47 7.48 7.49 7.5  7.51 7.52 7.53 7.54 7.55\n",
      " 7.56 7.57 7.58 7.59 7.6  7.61 7.62 7.63 7.64 7.65 7.66 7.67 7.68 7.69\n",
      " 7.7  7.71 7.72 7.73 7.74 7.75 7.76 7.77 7.78 7.79 7.8  7.81 7.82 7.83\n",
      " 7.84 7.85 7.86 7.87 7.88 7.89 7.9  7.91 7.92 7.93 7.94 7.95 7.96 7.97\n",
      " 7.98 7.99 8.   8.01 8.02 8.03 8.04 8.05 8.06 8.07 8.08 8.09 8.1  8.11\n",
      " 8.12 8.13 8.14 8.15 8.16 8.17 8.18 8.19 8.2  8.21 8.22 8.23 8.24 8.25\n",
      " 8.26 8.27 8.28 8.29 8.3  8.31 8.32 8.33 8.34 8.35 8.36 8.37 8.38 8.39\n",
      " 8.4  8.41 8.42 8.43 8.44 8.45 8.46 8.47 8.48 8.49 8.5  8.51 8.52 8.53\n",
      " 8.54 8.55 8.56 8.57 8.58 8.59 8.6  8.61 8.62 8.63 8.64 8.65 8.66 8.67\n",
      " 8.68 8.69 8.7  8.71 8.72 8.73 8.74 8.75 8.76 8.77 8.78 8.79 8.8  8.81\n",
      " 8.82 8.83 8.84 8.85 8.86 8.87 8.88 8.89 8.9  8.91 8.92 8.93 8.94 8.95\n",
      " 8.96 8.97 8.98 8.99 9.   9.01 9.02 9.03 9.04 9.05 9.06 9.07 9.08 9.09\n",
      " 9.1  9.11 9.12 9.13 9.14 9.15 9.16 9.17 9.18 9.19 9.2  9.21 9.22 9.23\n",
      " 9.24 9.25 9.26 9.27 9.28 9.29 9.3  9.31 9.32 9.33 9.34 9.35 9.36 9.37\n",
      " 9.38 9.39 9.4  9.41 9.42 9.43 9.44 9.45 9.46 9.47 9.48 9.49 9.5  9.51\n",
      " 9.52 9.53 9.54 9.55 9.56 9.57 9.58 9.59 9.6  9.61 9.62 9.63 9.64 9.65\n",
      " 9.66 9.67 9.68 9.69 9.7  9.71 9.72 9.73 9.74 9.75 9.76 9.77 9.78 9.79\n",
      " 9.8  9.81 9.82 9.83 9.84 9.85 9.86 9.87 9.88 9.89 9.9  9.91 9.92 9.93\n",
      " 9.94 9.95 9.96 9.97 9.98 9.99]\n",
      "[ 4.64401938  4.6390594   4.63409942  4.62913944  4.62417945  4.61921947\n",
      "  4.61425949  4.60929951  4.60433953  4.59937955  4.59441957  4.58945959\n",
      "  4.58449961  4.57953963  4.57457965  4.56961967  4.56465968  4.5596997\n",
      "  4.55473972  4.54977974  4.54481976  4.53985978  4.5348998   4.52993982\n",
      "  4.52497984  4.52001986  4.51505988  4.5100999   4.50513992  4.50017993\n",
      "  4.49521995  4.49025997  4.48529999  4.48034001  4.47538003  4.47042005\n",
      "  4.46546007  4.46050009  4.45554011  4.45058013  4.44562015  4.44066016\n",
      "  4.43570018  4.4307402   4.42578022  4.42082024  4.41586026  4.41090028\n",
      "  4.4059403   4.40098032  4.39602034  4.39106036  4.38610038  4.38114039\n",
      "  4.37618041  4.37122043  4.36626045  4.36130047  4.35634049  4.35138051\n",
      "  4.34642053  4.34146055  4.33650057  4.33154059  4.32658061  4.32162063\n",
      "  4.31666064  4.31170066  4.30674068  4.3017807   4.29682072  4.29186074\n",
      "  4.28690076  4.28194078  4.2769808   4.27202082  4.26706084  4.26210086\n",
      "  4.25714087  4.25218089  4.24722091  4.24226093  4.23730095  4.23234097\n",
      "  4.22738099  4.22242101  4.21746103  4.21250105  4.20754107  4.20258109\n",
      "  4.1976211   4.19266112  4.18770114  4.18274116  4.17778118  4.1728212\n",
      "  4.16786122  4.16290124  4.15794126  4.15298128  4.1480213   4.14306132\n",
      "  4.13810134  4.13314135  4.12818137  4.12322139  4.11826141  4.11330143\n",
      "  4.10834145  4.10338147  4.09842149  4.09346151  4.08850153  4.08354155\n",
      "  4.07858157  4.07362158  4.0686616   4.06370162  4.05874164  4.05378166\n",
      "  4.04882168  4.0438617   4.03890172  4.03394174  4.02898176  4.02402178\n",
      "  4.0190618   4.01410181  4.00914183  4.00418185  3.99922187  3.99426189\n",
      "  3.98930191  3.98434193  3.97938195  3.97442197  3.96946199  3.96450201\n",
      "  3.95954203  3.95458205  3.94962206  3.94466208  3.9397021   3.93474212\n",
      "  3.92978214  3.92482216  3.91986218  3.9149022   3.90994222  3.90498224\n",
      "  3.90002226  3.89506228  3.89010229  3.88514231  3.88018233  3.87522235\n",
      "  3.87026237  3.86530239  3.86034241  3.85538243  3.85042245  3.84546247\n",
      "  3.84050249  3.83554251  3.83058252  3.82562254  3.82066256  3.81570258\n",
      "  3.8107426   3.80578262  3.80082264  3.79586266  3.79090268  3.7859427\n",
      "  3.78098272  3.77602274  3.77106276  3.76610277  3.76114279  3.75618281\n",
      "  3.75122283  3.74626285  3.74130287  3.73634289  3.73138291  3.72642293\n",
      "  3.72146295  3.71650297  3.71154299  3.706583    3.70162302  3.69666304\n",
      "  3.69170306  3.68674308  3.6817831   3.67682312  3.67186314  3.66690316\n",
      "  3.66194318  3.6569832   3.65202322  3.64706323  3.64210325  3.63714327\n",
      "  3.63218329  3.62722331  3.62226333  3.61730335  3.61234337  3.60738339\n",
      "  3.62538285  3.67095177  3.71652068  3.76208959  3.80765851  3.85322742\n",
      "  3.89879634  3.94436525  3.98993416  4.03550308  4.08107199  4.12664091\n",
      "  4.17220982  4.21777873  4.26334765  4.30891656  4.35448547  4.40005439\n",
      "  4.4456233   4.49119222  4.53676113  4.58233004  4.62789896  4.67346787\n",
      "  4.71903678  4.7646057   4.81017461  4.85574353  4.90131244  4.94688135\n",
      "  4.99245027  5.03801918  5.0835881   5.12915701  5.17472592  5.22029484\n",
      "  5.26586375  5.31143266  5.35700158  5.40257049  5.44813941  5.49370832\n",
      "  5.53927723  5.58484615  5.63041506  5.67598397  5.72155289  5.7671218\n",
      "  5.81269072  5.85825963  5.90382854  5.94939746  5.99496637  6.04053529\n",
      "  6.0861042   6.13167311  6.17724203  6.22281094  6.26837985  6.31394877\n",
      "  6.35951768  6.4050866   6.45065551  6.49622442  6.54179334  6.58736225\n",
      "  6.63293116  6.67850008  6.72406899  6.76963791  6.81520682  6.86077573\n",
      "  6.90634465  6.95191356  6.99748248  7.04305139  7.0886203   7.13418922\n",
      "  7.17975813  7.22532704  7.27089596  7.31646487  7.36203379  7.4076027\n",
      "  7.45317161  7.49874053  7.54430944  7.58987835  7.63544727  7.68101618\n",
      "  7.7265851   7.77215401  7.81772292  7.86329184  7.90886075  7.95442967\n",
      "  7.99999858  8.04556749  8.09113641  8.13670532  8.18227423  8.22784315\n",
      "  8.27341206  8.31898098  8.36454989  8.4101188   8.45568772  8.50125663\n",
      "  8.54682555  8.59239446  8.63796337  8.68353229  8.7291012   8.77467011\n",
      "  8.82023903  8.86580794  8.91137686  8.95694577  9.00251468  9.0480836\n",
      "  9.09365251  9.13922142  9.18479034  9.23035925  9.27592817  9.32149708\n",
      "  9.36706599  9.41263491  9.45820382  9.50377274  9.54934165  9.59491056\n",
      "  9.64047948  9.68604839  9.7316173   9.77718622  9.82275513  9.86832405\n",
      "  9.91389296  9.95946187 10.00503079 10.0505997  10.09616861 10.14173753\n",
      " 10.18730644 10.23287536 10.27844427 10.32401318 10.3695821  10.41515101\n",
      " 10.46071993 10.50628884 10.55185775 10.59742667 10.64299558 10.68856449\n",
      " 10.73413341 10.77970232 10.82527124 10.87084015 10.91640906 10.96197798\n",
      " 11.00754689 11.0531158  11.09868472 11.14425363 11.18982255 11.23539146\n",
      " 11.28096037 11.32652929 11.3720982  11.41766712 11.46323603 11.50880494\n",
      " 11.55437386 11.59994277 11.64551168 11.6910806  11.73664951 11.78221843\n",
      " 11.82778734 11.87335625 11.91892517 11.96449408 12.01006299 12.05563191\n",
      " 12.10120082 12.14676974 12.19233865 12.23790756 12.28347648 12.32904539\n",
      " 12.37461431 12.42018322 12.46575213 12.51132105 12.55688996 12.60245887\n",
      " 12.64802779 12.6935967  12.73916562 12.78473453 12.83030344 12.87587236\n",
      " 12.92144127 12.96701019 13.0125791  13.05814801 13.10371693 13.14928584\n",
      " 13.19485475 13.24042367 13.28599258 13.3315615  13.37713041 13.42269932\n",
      " 13.46826824 13.51383715 13.55940606 13.60497498 13.65054389 13.69611281\n",
      " 13.74168172 13.78725063 13.83281955 13.87838846 13.92395738 13.96952629\n",
      " 14.0150952  14.06066412 14.10623303 14.15180194 14.19737086 14.24293977\n",
      " 14.28850869 14.3340776  14.37964651 14.42521543 14.47078434 14.51635325\n",
      " 14.56192217 14.60749108 14.65306    14.69862891 14.74419782 14.78976674\n",
      " 14.83533565 14.88090457 14.92647348 14.97204239 15.01761131 15.06318022\n",
      " 15.10874913 15.15431805 15.19988696 15.24545588 15.29102479 15.3365937\n",
      " 15.38216262 15.42773153 15.47330044 15.51886936 15.56443827 15.61000719\n",
      " 15.6555761  15.70114501 15.74671393 15.79228284 15.83785176 15.88342067\n",
      " 15.92898958 15.9745585  16.02012741 16.06569632 16.11126524 16.15683415\n",
      " 16.20240307 16.24797198 16.29354089 16.33910981 16.38467872 16.43024763\n",
      " 16.47581655 16.52138546 16.56695438 16.61252329 16.6580922  16.70366112\n",
      " 16.74923003 16.79479895 16.84036786 16.88593677 16.93150569 16.9770746\n",
      " 17.02264351 17.06821243 17.11378134 17.15935026 17.20491917 17.25048808\n",
      " 17.296057   17.34162591 17.38719483 17.43276374 17.47833265 17.52390157\n",
      " 17.56947048 17.61503939 17.66060831 17.70617722 17.75174614 17.79731505\n",
      " 17.84288396 17.88845288 17.93402179 17.9795907  18.02515962 18.07072853\n",
      " 18.11629745 18.16186636 18.20743527 18.25300419 18.2985731  18.34414202\n",
      " 18.38971093 18.43527984 18.48084876 18.52641767 18.57198658 18.6175555\n",
      " 18.66312441 18.70869333 18.75426224 18.79983115 18.84540007 18.89096898\n",
      " 18.93653789 18.98210681 19.02767572 19.07324464 19.11881355 19.16438246\n",
      " 19.20995138 19.25552029 19.30108921 19.34665812 19.39222703 19.43779595\n",
      " 19.48336486 19.52893377 19.57450269 19.6200716  19.66564052 19.71120943\n",
      " 19.75677834 19.80234726 19.84791617 19.89348508 19.939054   19.98462291\n",
      " 20.03019183 20.07576074 20.12132965 20.16689857 20.21246748 20.2580364\n",
      " 20.30360531 20.34917422 20.39474314 20.44031205 20.48588096 20.53144988\n",
      " 20.57701879 20.62258771 20.66815662 20.71372553 20.66783308 20.60081124\n",
      " 20.5337894  20.46676756 20.39974572 20.33272388 20.26570204 20.19868019\n",
      " 20.13165835 20.06463651 19.99761467 19.93059283 19.86357099 19.79654915\n",
      " 19.72952731 19.66250547 19.59548363 19.52846179 19.46143995 19.39441811\n",
      " 19.32739627 19.26037442 19.19335258 19.12633074 19.0593089  18.99228706\n",
      " 18.92526522 18.85824338 18.79122154 18.7241997  18.65717786 18.59015602\n",
      " 18.52313418 18.45611234 18.3890905  18.32206866 18.25504681 18.18802497\n",
      " 18.12100313 18.05398129 17.98695945 17.91993761 17.85291577 17.78589393\n",
      " 17.71887209 17.65185025 17.58482841 17.51780657 17.45078473 17.38376289\n",
      " 17.31674104 17.2497192  17.18269736 17.11567552 17.04865368 16.98163184\n",
      " 16.91461    16.84758816 16.78056632 16.71354448 16.64652264 16.5795008\n",
      " 16.51247896 16.44545712 16.37843528 16.31141343 16.24439159 16.17736975\n",
      " 16.11034791 16.04332607 15.97630423 15.90928239 15.84226055 15.77523871\n",
      " 15.70821687 15.64119503 15.57417319 15.50715135 15.44012951 15.37310766\n",
      " 15.30608582 15.23906398 15.17204214 15.1050203  15.03799846 14.97097662\n",
      " 14.90395478 14.83693294 14.7699111  14.70288926 14.63586742 14.56884558\n",
      " 14.50182374 14.4348019  14.36778005 14.30075821 14.23373637 14.16671453\n",
      " 14.09969269 14.03267085 13.96564901 13.89862717 13.83160533 13.76458349\n",
      " 13.69756165 13.63053981 13.56351797 13.49649613 13.42947428 13.36245244\n",
      " 13.2954306  13.22840876 13.16138692 13.09436508 13.02734324 12.9603214\n",
      " 12.89329956 12.82627772 12.75925588 12.69223404 12.6252122  12.55819036\n",
      " 12.49116852 12.42414667 12.35712483 12.29010299 12.22308115 12.15605931\n",
      " 12.08903747 12.02201563 11.95499379 11.88797195 11.82095011 11.75392827\n",
      " 11.68690643 11.61988459 11.55286275 11.4858409  11.41881906 11.35179722\n",
      " 11.28477538 11.21775354 11.1507317  11.08370986 11.01668802 10.94966618\n",
      " 10.88264434 10.8156225  10.74860066 10.68157882 10.61455698 10.54753514\n",
      " 10.48051329 10.41349145 10.34646961 10.27944777 10.21242593 10.14540409\n",
      " 10.07838225 10.01136041  9.94433857  9.87731673  9.81029489  9.74327305\n",
      "  9.67625121  9.60922937  9.54220752  9.47518568  9.40816384  9.341142\n",
      "  9.27412016  9.20709832  9.14007648  9.07305464  9.0060328   8.93901096\n",
      "  8.87198912  8.80496728  8.73794544  8.6709236   8.60390176  8.53687991\n",
      "  8.46985807  8.40283623  8.33581439  8.26879255  8.20177071  8.13474887\n",
      "  8.06772703  8.00070519  7.93368335  7.86666151  7.79963967  7.73261783\n",
      "  7.66559599  7.59857414  7.5315523   7.46453046  7.39750862  7.33048678\n",
      "  7.26346494  7.1964431   7.12942126  7.06239942  6.99537758  6.92835574\n",
      "  6.8613339   6.79431206  6.72729022  6.66026838  6.59324653  6.52622469\n",
      "  6.45920285  6.39218101  6.32515917  6.25813733  6.19111549  6.12409365\n",
      "  6.05707181  5.99004997  5.92302813  5.85600629  5.78898445  5.72196261\n",
      "  5.65494076  5.58791892  5.52089708  5.45387524  5.3868534   5.31983156\n",
      "  5.25280972  5.18578788  5.11876604  5.0517442   4.98472236  4.91770052\n",
      "  4.85067868  4.78365684  4.716635    4.64961315  4.58259131  4.51556947\n",
      "  4.44854763  4.38152579  4.31450395  4.24748211  4.18046027  4.11343843\n",
      "  4.04641659  3.97939475  3.91237291  3.84535107  3.77832923  3.71130738\n",
      "  3.64428554  3.5772637   3.51024186  3.44322002  3.37619818  3.30917634\n",
      "  3.2421545   3.17513266  3.10811082  3.04108898  2.97406714  2.9070453\n",
      "  2.84002346  2.77300162  2.70597977  2.63895793  2.57193609  2.50491425\n",
      "  2.43789241  2.37087057  2.30384873  2.23682689  2.16980505  2.10278321\n",
      "  2.03576137  1.96873953  1.90171769  1.83469585  1.767674    1.70065216\n",
      "  1.63363032  1.56660848  1.49958664  1.4325648   1.36554296  1.29852112\n",
      "  1.23149928  1.16447744  1.0974556   1.03043376  0.96341192  0.89639008\n",
      "  0.82936824  0.76234639  0.69532455  0.62830271  0.56128087  0.49425903\n",
      "  0.42723719  0.36021535  0.29319351  0.22617167  0.15914983  0.09212799\n",
      "  0.02510615 -0.04191569 -0.10893753 -0.17595938 -0.24298122 -0.31000306\n",
      " -0.3770249  -0.44404674 -0.51106858 -0.57809042 -0.64511226 -0.7121341\n",
      " -0.77915594 -0.84617778 -0.91319962 -0.98022146 -1.0472433  -1.11426514\n",
      " -1.18128699 -1.24830883 -1.31533067 -1.38235251 -1.44937435 -1.51639619\n",
      " -1.58341803 -1.65043987 -1.71746171 -1.78448355 -1.85150539 -1.91852723\n",
      " -1.98554907 -2.05257091 -2.11959276 -2.1866146  -2.25363644 -2.32065828\n",
      " -2.38768012 -2.45470196 -2.5217238  -2.58874564 -2.65576748 -2.72278932\n",
      " -2.78981116 -2.856833   -2.92385484 -2.99087668 -3.05789852 -3.12492037\n",
      " -3.19194221 -3.25896405 -3.32598589 -3.39300773 -3.46002957 -3.52705141\n",
      " -3.59407325 -3.66109509 -3.72811693 -3.79513877 -3.86216061 -3.92918245\n",
      " -3.99620429 -4.06322614 -4.13024798 -4.19726982 -4.26429166 -4.3313135\n",
      " -4.39833534 -4.46535718 -4.53237902 -4.59940086 -4.6664227  -4.73344454\n",
      " -4.80046638 -4.86748822 -4.93451006 -5.0015319  -5.06855375 -5.13557559\n",
      " -5.20259743 -5.26961927 -5.33664111 -5.40366295 -5.47068479 -5.53770663\n",
      " -5.60472847 -5.67175031 -5.73877215 -5.80579399 -5.87281583 -5.93983767\n",
      " -6.00685952 -6.07388136 -6.1409032  -6.20792504 -6.27494688 -6.34196872\n",
      " -6.40899056 -6.4760124  -6.54303424 -6.61005608 -6.67707792 -6.74409976\n",
      " -6.8111216  -6.87814344 -6.94516528 -7.01218713]\n"
     ]
    },
    {
     "ename": "ValueError",
     "evalue": "too many values to unpack (expected 2)",
     "output_type": "error",
     "traceback": [
      "\u001b[0;31m---------------------------------------------------------------------------\u001b[0m",
      "\u001b[0;31mValueError\u001b[0m                                Traceback (most recent call last)",
      "\u001b[0;32m/tmp/ipykernel_406311/1102608625.py\u001b[0m in \u001b[0;36m<module>\u001b[0;34m\u001b[0m\n\u001b[1;32m     11\u001b[0m \u001b[0;34m\u001b[0m\u001b[0m\n\u001b[1;32m     12\u001b[0m \u001b[0mprint\u001b[0m\u001b[0;34m(\u001b[0m\u001b[0ma1\u001b[0m\u001b[0;34m,\u001b[0m\u001b[0mb\u001b[0m\u001b[0;34m,\u001b[0m \u001b[0ma2\u001b[0m\u001b[0;34m,\u001b[0m\u001b[0ma3\u001b[0m\u001b[0;34m,\u001b[0m \u001b[0mcp1\u001b[0m\u001b[0;34m,\u001b[0m \u001b[0mcp2\u001b[0m\u001b[0;34m)\u001b[0m\u001b[0;34m\u001b[0m\u001b[0;34m\u001b[0m\u001b[0m\n\u001b[0;32m---> 13\u001b[0;31m \u001b[0mx\u001b[0m\u001b[0;34m,\u001b[0m\u001b[0my\u001b[0m \u001b[0;34m=\u001b[0m \u001b[0mpiecewise_linear\u001b[0m\u001b[0;34m(\u001b[0m\u001b[0ma1\u001b[0m\u001b[0;34m,\u001b[0m\u001b[0mb\u001b[0m\u001b[0;34m,\u001b[0m \u001b[0ma2\u001b[0m\u001b[0;34m,\u001b[0m\u001b[0ma3\u001b[0m\u001b[0;34m,\u001b[0m \u001b[0mcp1\u001b[0m\u001b[0;34m,\u001b[0m \u001b[0mcp2\u001b[0m\u001b[0;34m)\u001b[0m\u001b[0;34m\u001b[0m\u001b[0;34m\u001b[0m\u001b[0m\n\u001b[0m\u001b[1;32m     14\u001b[0m \u001b[0;34m\u001b[0m\u001b[0m\n\u001b[1;32m     15\u001b[0m \u001b[0mplt\u001b[0m\u001b[0;34m.\u001b[0m\u001b[0mplot\u001b[0m\u001b[0;34m(\u001b[0m\u001b[0mx\u001b[0m\u001b[0;34m,\u001b[0m\u001b[0my\u001b[0m\u001b[0;34m)\u001b[0m\u001b[0;34m\u001b[0m\u001b[0;34m\u001b[0m\u001b[0m\n",
      "\u001b[0;31mValueError\u001b[0m: too many values to unpack (expected 2)"
     ]
    }
   ],
   "source": [
    "\"\"\"\n",
    "Priors\n",
    "\"\"\"\n",
    "\n",
    "b = scp.random.uniform(0,10)\n",
    "a1 = scp.random.uniform(-10,0)\n",
    "a2 = scp.random.uniform(0,10)\n",
    "a3 = scp.random.uniform(-10,0)\n",
    "cp1 = scp.random.uniform(2,4)\n",
    "cp2 = scp.random.uniform(5,8)\n",
    "\n",
    "print(a1,b, a2,a3, cp1, cp2)\n",
    "x,y = piecewise_linear(a1,b, a2,a3, cp1, cp2)\n",
    "\n",
    "plt.plot(x,y)"
   ]
  },
  {
   "cell_type": "code",
   "execution_count": 5,
   "metadata": {},
   "outputs": [],
   "source": [
    "\"\"\"\n",
    "Summary stats\n",
    "\"\"\"\n",
    "\n",
    "def extract_sumstats(y,max_time=10):\n",
    "    \"\"\"\n",
    "    Extract some sumstats for piecewise linear fct with specified prior \n",
    "    !the information in the sumstats is highly dependent on the prior!\n",
    "    Args:\n",
    "        x ([array]): time axis of time series\n",
    "        y ([array]): 1d time series\n",
    "        max_time (float, optional): maximal time to calculate sumstats on. Defaults to 10.\n",
    "\n",
    "    Returns:\n",
    "       s [array]: summary stats of time series, with np.nan for non-calculated sumstats\n",
    "    \"\"\"\n",
    "    \n",
    "    # artificial masking of y \n",
    "    \n",
    "    x = np.arange(0,10,0.005)\n",
    "\n",
    "    x = torch.from_numpy(x)\n",
    "\n",
    "    y = np.copy(y)\n",
    "    \n",
    "    batch_list = []\n",
    "    # first batch of sumstats for times <4\n",
    "    \n",
    "    for batch in y:\n",
    "        \n",
    "        batch[x>max_time] = np.nan\n",
    "    \n",
    "        s = np.zeros(7) * np.nan\n",
    "        \n",
    "        s[0] = np.float32(batch[0])\n",
    "        s[1] = np.nanmin(batch[x<4])\n",
    "        \n",
    "        #print(type(s[0]), type(s[1]))\n",
    "        s[2] = x[np.nanargmin(batch[x<4])]\n",
    "\n",
    "        # second batch of sumstats for times > 4\n",
    "        if max_time >= 4 :\n",
    "            s[3] = np.nanmax(batch[(x>=4)&(x<8)])\n",
    "            s[4] = x[np.nanargmax(batch[(x>=4)&(x<8)])] + 4\n",
    "\n",
    "        # third batch of sumstats for times > 5\n",
    "        if max_time >= 5:\n",
    "            s[5] = np.nanmin(batch[x>=5])\n",
    "            s[6] = x[np.nanargmin(batch[x>=5])] + 5\n",
    "            \n",
    "        s = np.float32(s)\n",
    "    \n",
    "            \n",
    "        batch_list.append(torch.from_numpy(s))\n",
    "\n",
    "    return torch.stack(batch_list)\n",
    "\n",
    "    "
   ]
  },
  {
   "cell_type": "code",
   "execution_count": null,
   "metadata": {},
   "outputs": [],
   "source": []
  },
  {
   "cell_type": "markdown",
   "metadata": {},
   "source": [
    "## cosine waves\n",
    "\n",
    "WORK IN PROGRESS\n",
    "\n",
    "same, but more ellaborated summary stats are needed"
   ]
  },
  {
   "cell_type": "code",
   "execution_count": 7,
   "metadata": {},
   "outputs": [],
   "source": [
    "def cosine_waves(a1,b,a2,cp,f_1=1, f_2=1, return_factors=False):\n",
    "    \"\"\"\n",
    "    Args:\n",
    "        a1 (float): first slope\n",
    "        b (float): offset (starting amplitude)\n",
    "        a2 (float): second slope\n",
    "        cp (float): changing point\n",
    "        f_1 (float): first freq\n",
    "        f_2 (float): second freq\n",
    "\n",
    "    Returns:\n",
    "        [type]: [description]\n",
    "    \"\"\"\n",
    "    x = np.arange(0,10,0.01)\n",
    "    y = np.zeros(x.shape)\n",
    "    factor1 = (b+a1*x[x<cp])\n",
    "    factor1[factor1<0] = 0\n",
    "    y[x<cp] = factor1 * np.cos(2*np.pi * f_1 * x[x<cp])\n",
    "     \n",
    "    factor2= y[np.sum(x<cp)-1] + a2* (x[x>=cp] - cp) \n",
    "    factor2[factor2<0] = 0\n",
    "\n",
    "    y[x>=cp] = (factor2) * np.cos(2*np.pi * f_2 * x[x>=cp]) \n",
    "\n",
    "    if return_factors:\n",
    "        return x,y, factor1, factor2\n",
    "    else:\n",
    "        return x,y"
   ]
  },
  {
   "cell_type": "code",
   "execution_count": 8,
   "metadata": {},
   "outputs": [
    {
     "data": {
      "text/plain": [
       "[<matplotlib.lines.Line2D at 0x7f9be6775f40>]"
      ]
     },
     "execution_count": 8,
     "metadata": {},
     "output_type": "execute_result"
    },
    {
     "data": {
      "image/png": "[encoded data removed]",
      "text/plain": [
       "<Figure size 432x288 with 1 Axes>"
      ]
     },
     "metadata": {
      "needs_background": "light"
     },
     "output_type": "display_data"
    }
   ],
   "source": [
    "x,y,f1,f2=cosine_waves(4,2,-2,4, return_factors=True  )\n",
    "\n",
    "plt.plot(x[:len(f1)],f1)\n",
    "plt.plot(x[-len(f2):],f2)\n",
    "plt.plot(x,y)"
   ]
  },
  {
   "cell_type": "code",
   "execution_count": 9,
   "metadata": {},
   "outputs": [],
   "source": [
    "def cosine_waves_2(a1,b,a2,a3, cp1, cp2, f_1=1, f_2=1,f_3=1, return_factors=False):\n",
    "    \"\"\"\n",
    "    Args:\n",
    "        a1 (float): first slope\n",
    "        b (float): offset\n",
    "        ai (float): slopes\n",
    "        cpi (float): changing points\n",
    "        f_i (float): first freqs\n",
    "        \n",
    "    Returns:\n",
    "        [type]: [description]\n",
    "    \"\"\"\n",
    "    x = np.arange(0,10,0.01)\n",
    "    y = np.zeros(x.shape)\n",
    "    factor1 = (b+a1*x[x<cp1])\n",
    "    factor1[factor1<0] = 0\n",
    "    y[x<cp1] = factor1 * np.cos(2*np.pi * f_1 * x[x<cp1])\n",
    "     \n",
    "    factor2= y[np.sum(x<cp1)-1] + a2* (x[(x>=cp1) & (x<cp2)] - cp1) \n",
    "    factor2[factor2<0] = 0\n",
    "    y[(x>=cp1) & (x<cp2)] = (factor2) * np.cos(2*np.pi * f_2 * x[(x>=cp1) & (x<cp2)]) \n",
    "    \n",
    "    factor3= y[np.sum(x<cp2)-1] + a3* (x[x>=cp2] - cp2) \n",
    "    factor3[factor3<0] = 0\n",
    "\n",
    "    y[x>=cp2] = (factor3) * np.cos(2*np.pi * f_3 * x[x>=cp2]) \n",
    "\n",
    "    if return_factors:\n",
    "        return x,y, factor1, factor2, factor3\n",
    "    else:\n",
    "        return x,y\n",
    "    \n",
    "    \n",
    "def cosine_waves_2_first(thetas):\n",
    "    \"\"\"\n",
    "    Args:\n",
    "        a1 (float): first slope\n",
    "        b (float): offset\n",
    "        ai (float): slopes\n",
    "        cpi (float): changing points\n",
    "        f_i (float): first freqs\n",
    "        \n",
    "    Returns:\n",
    "        [type]: [description]\n",
    "    \"\"\"\n",
    "    \n",
    "    a1 = thetas[0]\n",
    "    b = thetas[1]\n",
    "    a2=-3\n",
    "    a3=3\n",
    "    cp1=2\n",
    "    cp2=6\n",
    "    f_1=1\n",
    "    f_2=1\n",
    "    f_3=1\n",
    "    return_factors=False\n",
    "    \n",
    "    x = np.arange(0,10,0.01)\n",
    "    y = np.zeros(x.shape)\n",
    "    factor1 = (b+a1*x[x<cp1])\n",
    "    factor1[factor1<0] = 0\n",
    "    y[x<cp1] = factor1 * np.cos(2*np.pi * f_1 * x[x<cp1])\n",
    "     \n",
    "    factor2= y[np.sum(x<cp1)-1] + a2* (x[(x>=cp1) & (x<cp2)] - cp1) \n",
    "    factor2[factor2<0] = 0\n",
    "    y[(x>=cp1) & (x<cp2)] = (factor2) * np.cos(2*np.pi * f_2 * x[(x>=cp1) & (x<cp2)]) \n",
    "    \n",
    "    factor3= y[np.sum(x<cp2)-1] + a3* (x[x>=cp2] - cp2) \n",
    "    factor3[factor3<0] = 0\n",
    "\n",
    "    y[x>=cp2] = (factor3) * np.cos(2*np.pi * f_3 * x[x>=cp2]) \n",
    "\n",
    "    if return_factors:\n",
    "        return x,y, factor1, factor2, factor3\n",
    "    else:\n",
    "        return x,y"
   ]
  },
  {
   "cell_type": "code",
   "execution_count": 10,
   "metadata": {},
   "outputs": [
    {
     "data": {
      "text/plain": [
       "[<matplotlib.lines.Line2D at 0x7f9be665ed60>]"
      ]
     },
     "execution_count": 10,
     "metadata": {},
     "output_type": "execute_result"
    },
    {
     "data": {
      "image/png": "[encoded data removed]",
      "text/plain": [
       "<Figure size 432x288 with 1 Axes>"
      ]
     },
     "metadata": {
      "needs_background": "light"
     },
     "output_type": "display_data"
    }
   ],
   "source": [
    "x,y,f1,f2,f3=cosine_waves_2(5,5,\n",
    "                            -3,3,\n",
    "                            2,6, return_factors=True)\n",
    "\n",
    "plt.plot(x[:len(f1)],f1)\n",
    "plt.plot(x[len(f1):-len(f3)],f2)\n",
    "plt.plot(x[-len(f3):],f3)\n",
    "\n",
    "plt.plot(x,y)"
   ]
  },
  {
   "cell_type": "code",
   "execution_count": 29,
   "metadata": {},
   "outputs": [
    {
     "name": "stdout",
     "output_type": "stream",
     "text": [
      "[3, 3]\n",
      "BoxUniform(Uniform(low: torch.Size([2]), high: torch.Size([2])), 1)\n"
     ]
    },
    {
     "data": {
      "application/vnd.jupyter.widget-view+json": {
       "model_id": "944b7b652c00487db090394fca3b34eb",
       "version_major": 2,
       "version_minor": 0
      },
      "text/plain": [
       "Running 100 simulations in 100 batches.:   0%|          | 0/100 [00:00<?, ?it/s]"
      ]
     },
     "metadata": {},
     "output_type": "display_data"
    }
   ],
   "source": [
    "#parameter a1,b,a2,a3, cp1, cp2\n",
    "\n",
    "prior_min = [3,3,-5,1,0,4]  \n",
    "\n",
    "prior_max = [7, 7, -1, 3, 2, 6]\n",
    "\n",
    "\n",
    "\n",
    "### first round:\n",
    "\n",
    "prior1 = utils.torchutils.BoxUniform(low=prior_min[0:2], high = prior_max[0:2])\n",
    "\n",
    "print(prior_min[0:2])\n",
    "print(prior1)\n",
    "\n",
    "inf = SNPE_C(prior1, density_estimator=\"nsf\")\n",
    "\n",
    "density_estimator = 'nsf'\n",
    "\n",
    "\n",
    "simulator_stats, prior = prepare_for_sbi(piecewise_linear_first_batch, prior1)\n",
    "\n",
    "inference = SNPE_C(prior, density_estimator=density_estimator)\n",
    "\n",
    "theta, x_without = simulate_for_sbi(\n",
    "    simulator_stats,\n",
    "    proposal=prior,\n",
    "    num_simulations=100,\n",
    "    num_workers=4,\n",
    ")"
   ]
  },
  {
   "cell_type": "code",
   "execution_count": 30,
   "metadata": {},
   "outputs": [
    {
     "data": {
      "text/plain": [
       "torch.Size([100, 2])"
      ]
     },
     "execution_count": 30,
     "metadata": {},
     "output_type": "execute_result"
    }
   ],
   "source": [
    "x_without\n",
    "\n",
    "theta.shape"
   ]
  },
  {
   "cell_type": "code",
   "execution_count": 13,
   "metadata": {},
   "outputs": [],
   "source": [
    "x = extract_sumstats(x_without)"
   ]
  },
  {
   "cell_type": "code",
   "execution_count": 14,
   "metadata": {},
   "outputs": [
    {
     "name": "stdout",
     "output_type": "stream",
     "text": [
      "Neural network successfully converged after 26 epochs.\n"
     ]
    }
   ],
   "source": [
    "\n",
    "inf = inf.append_simulations(theta, x)\n",
    "density_estimator = inf.train()\n",
    "\n",
    "posterior = inf.build_posterior(density_estimator)"
   ]
  },
  {
   "cell_type": "code",
   "execution_count": 15,
   "metadata": {},
   "outputs": [
    {
     "name": "stdout",
     "output_type": "stream",
     "text": [
      "torch.Size([1, 7])\n"
     ]
    }
   ],
   "source": [
    "true_params = [5, 5, -3, 2, 1, 5]\n",
    "\n",
    "\n",
    "obs_real = piecewise_linear_first_batch(true_params[0:2])\n",
    "\n",
    "\n",
    "obs_real_stats = extract_sumstats([obs_real])\n",
    "\n",
    "\n",
    "print(obs_real_stats.shape)"
   ]
  },
  {
   "cell_type": "code",
   "execution_count": 16,
   "metadata": {},
   "outputs": [
    {
     "data": {
      "application/vnd.jupyter.widget-view+json": {
       "model_id": "0eeb7886c3b64b9da15233dff62df140",
       "version_major": 2,
       "version_minor": 0
      },
      "text/plain": [
       "Drawing 100 posterior samples:   0%|          | 0/100 [00:00<?, ?it/s]"
      ]
     },
     "metadata": {},
     "output_type": "display_data"
    }
   ],
   "source": [
    "num_samples = 100\n",
    "\n",
    "samples = posterior.sample((num_samples,), x=obs_real_stats)\n",
    "\n",
    "proposal1 = posterior.set_default_x(obs_real_stats)"
   ]
  },
  {
   "cell_type": "code",
   "execution_count": 17,
   "metadata": {},
   "outputs": [
    {
     "data": {
      "application/vnd.jupyter.widget-view+json": {
       "model_id": "b97ef95d43c24621afbf04f0bbbb3948",
       "version_major": 2,
       "version_minor": 0
      },
      "text/plain": [
       "Drawing 10 posterior samples:   0%|          | 0/10 [00:00<?, ?it/s]"
      ]
     },
     "metadata": {},
     "output_type": "display_data"
    },
    {
     "name": "stdout",
     "output_type": "stream",
     "text": [
      "theta pos size torch.Size([10, 2])\n",
      "theta prior size torch.Size([10, 2])\n",
      "2\n",
      "theta tensor([[ 6.0185,  5.0340, -3.0402,  2.2594],\n",
      "        [ 3.5747,  4.3859, -2.6851,  1.6865],\n",
      "        [ 5.4469,  3.7455, -2.7356,  2.5140],\n",
      "        [ 3.6921,  4.6350, -3.6716,  2.0373],\n",
      "        [ 4.0998,  4.3156, -1.1469,  1.0707],\n",
      "        [ 5.2451,  4.9920, -2.5133,  1.5645],\n",
      "        [ 4.5610,  4.4338, -1.5823,  1.5136],\n",
      "        [ 6.7963,  4.2499, -1.7863,  1.4075],\n",
      "        [ 4.8081,  6.6193, -3.6926,  2.2181],\n",
      "        [ 5.6732,  4.6036, -2.5606,  2.9201]])\n",
      "prior combined torch.Size([10, 4])\n"
     ]
    },
    {
     "data": {
      "application/vnd.jupyter.widget-view+json": {
       "model_id": "a76a39f4abf74e93b2c571897e4584f8",
       "version_major": 2,
       "version_minor": 0
      },
      "text/plain": [
       "Drawing 1 posterior samples:   0%|          | 0/1 [00:00<?, ?it/s]"
      ]
     },
     "metadata": {},
     "output_type": "display_data"
    },
    {
     "name": "stdout",
     "output_type": "stream",
     "text": [
      "theta pos size torch.Size([1, 2])\n",
      "theta prior size torch.Size([1, 2])\n",
      "2\n",
      "theta tensor([[ 4.7947,  3.3373, -2.6569,  2.9917]])\n"
     ]
    },
    {
     "data": {
      "application/vnd.jupyter.widget-view+json": {
       "model_id": "c4201df3ca2541e0be577afd66ba81e9",
       "version_major": 2,
       "version_minor": 0
      },
      "text/plain": [
       "Drawing 1 posterior samples:   0%|          | 0/1 [00:00<?, ?it/s]"
      ]
     },
     "metadata": {},
     "output_type": "display_data"
    },
    {
     "name": "stdout",
     "output_type": "stream",
     "text": [
      "theta pos size torch.Size([2])\n",
      "theta prior size torch.Size([2])\n",
      "1\n",
      "true\n",
      "theta tensor([[ 6.4287,  5.8682, -2.1491,  1.7333]])\n"
     ]
    },
    {
     "data": {
      "application/vnd.jupyter.widget-view+json": {
       "model_id": "fdb40f3313b24088a0556afb3d854828",
       "version_major": 2,
       "version_minor": 0
      },
      "text/plain": [
       "Drawing 1 posterior samples:   0%|          | 0/1 [00:00<?, ?it/s]"
      ]
     },
     "metadata": {},
     "output_type": "display_data"
    },
    {
     "name": "stdout",
     "output_type": "stream",
     "text": [
      "theta pos size torch.Size([1, 2])\n",
      "theta prior size torch.Size([1, 2])\n",
      "2\n",
      "theta tensor([[ 4.4458,  3.5563, -4.0028,  2.6877]])\n"
     ]
    },
    {
     "data": {
      "application/vnd.jupyter.widget-view+json": {
       "model_id": "6be59451742645d98354b83b8eacfa71",
       "version_major": 2,
       "version_minor": 0
      },
      "text/plain": [
       "Drawing 1 posterior samples:   0%|          | 0/1 [00:00<?, ?it/s]"
      ]
     },
     "metadata": {},
     "output_type": "display_data"
    },
    {
     "name": "stdout",
     "output_type": "stream",
     "text": [
      "theta pos size torch.Size([2])\n",
      "theta prior size torch.Size([2])\n",
      "1\n",
      "true\n",
      "theta tensor([[ 3.9970,  4.9800, -4.0249,  1.7716]])\n"
     ]
    },
    {
     "data": {
      "application/vnd.jupyter.widget-view+json": {
       "model_id": "9c3915206c6f44ab838369e9a1007b6d",
       "version_major": 2,
       "version_minor": 0
      },
      "text/plain": [
       "Drawing 1 posterior samples:   0%|          | 0/1 [00:00<?, ?it/s]"
      ]
     },
     "metadata": {},
     "output_type": "display_data"
    },
    {
     "name": "stdout",
     "output_type": "stream",
     "text": [
      "theta pos size torch.Size([2])\n",
      "theta prior size torch.Size([2])\n",
      "1\n",
      "true\n",
      "theta tensor([[ 4.4734,  3.8518, -2.3161,  1.2070]])\n"
     ]
    },
    {
     "data": {
      "application/vnd.jupyter.widget-view+json": {
       "model_id": "9d150f0287fc442496153fc082afe11a",
       "version_major": 2,
       "version_minor": 0
      },
      "text/plain": [
       "Drawing 1 posterior samples:   0%|          | 0/1 [00:00<?, ?it/s]"
      ]
     },
     "metadata": {},
     "output_type": "display_data"
    },
    {
     "name": "stdout",
     "output_type": "stream",
     "text": [
      "theta pos size torch.Size([2])\n",
      "theta prior size torch.Size([2])\n",
      "1\n",
      "true\n",
      "theta tensor([[ 5.8319,  4.6721, -2.6716,  2.2076]])\n"
     ]
    },
    {
     "data": {
      "application/vnd.jupyter.widget-view+json": {
       "model_id": "e315641e8fde472aaa6ec680b27bd2ab",
       "version_major": 2,
       "version_minor": 0
      },
      "text/plain": [
       "Drawing 2 posterior samples:   0%|          | 0/2 [00:00<?, ?it/s]"
      ]
     },
     "metadata": {},
     "output_type": "display_data"
    },
    {
     "name": "stdout",
     "output_type": "stream",
     "text": [
      "theta pos size torch.Size([2, 2])\n",
      "theta prior size torch.Size([2, 2])\n",
      "2\n",
      "theta tensor([[ 6.9679,  5.4954, -3.2657,  1.8012],\n",
      "        [ 4.7658,  4.2168, -4.8431,  1.1462]])\n"
     ]
    },
    {
     "data": {
      "application/vnd.jupyter.widget-view+json": {
       "model_id": "83df3376963f444093e0b537300c8ecc",
       "version_major": 2,
       "version_minor": 0
      },
      "text/plain": [
       "Drawing 1 posterior samples:   0%|          | 0/1 [00:00<?, ?it/s]"
      ]
     },
     "metadata": {},
     "output_type": "display_data"
    },
    {
     "name": "stdout",
     "output_type": "stream",
     "text": [
      "theta pos size torch.Size([2])\n",
      "theta prior size torch.Size([2])\n",
      "1\n",
      "true\n",
      "theta tensor([[ 5.8882,  4.7230, -2.4812,  1.3114]])\n"
     ]
    },
    {
     "data": {
      "application/vnd.jupyter.widget-view+json": {
       "model_id": "ba709c6090284636bf9ea3849ab3bfe6",
       "version_major": 2,
       "version_minor": 0
      },
      "text/plain": [
       "Drawing 1 posterior samples:   0%|          | 0/1 [00:00<?, ?it/s]"
      ]
     },
     "metadata": {},
     "output_type": "display_data"
    },
    {
     "name": "stdout",
     "output_type": "stream",
     "text": [
      "theta pos size torch.Size([1, 2])\n",
      "theta prior size torch.Size([1, 2])\n",
      "2\n",
      "theta tensor([[ 3.5294,  6.2414, -4.0765,  1.5747]])\n"
     ]
    },
    {
     "data": {
      "application/vnd.jupyter.widget-view+json": {
       "model_id": "c498e47c967e4f7cb8c727508129f7ca",
       "version_major": 2,
       "version_minor": 0
      },
      "text/plain": [
       "Drawing 1 posterior samples:   0%|          | 0/1 [00:00<?, ?it/s]"
      ]
     },
     "metadata": {},
     "output_type": "display_data"
    },
    {
     "name": "stdout",
     "output_type": "stream",
     "text": [
      "theta pos size torch.Size([1, 2])\n",
      "theta prior size torch.Size([1, 2])\n",
      "2\n",
      "theta tensor([[ 6.9776,  6.6315, -3.3702,  1.7782]])\n"
     ]
    },
    {
     "data": {
      "application/vnd.jupyter.widget-view+json": {
       "model_id": "e806b945f7e94d29a312d096548121cf",
       "version_major": 2,
       "version_minor": 0
      },
      "text/plain": [
       "Drawing 100 posterior samples:   0%|          | 0/100 [00:00<?, ?it/s]"
      ]
     },
     "metadata": {},
     "output_type": "display_data"
    },
    {
     "name": "stdout",
     "output_type": "stream",
     "text": [
      "theta pos size torch.Size([100, 2])\n",
      "theta prior size torch.Size([100, 2])\n",
      "2\n",
      "theta tensor([[ 4.9461,  3.9312, -3.3089,  1.5135],\n",
      "        [ 4.6687,  4.7604, -4.3476,  2.2538],\n",
      "        [ 6.2218,  5.4834, -2.6619,  2.3857],\n",
      "        [ 6.8352,  4.3354, -3.9973,  1.4510],\n",
      "        [ 6.1251,  5.9598, -2.2133,  2.6146],\n",
      "        [ 6.3680,  5.3517, -4.3136,  2.6139],\n",
      "        [ 5.2912,  4.6948, -4.4121,  1.6307],\n",
      "        [ 6.6199,  4.5630, -3.8521,  1.6408],\n",
      "        [ 5.7663,  5.1655, -2.1715,  1.3815],\n",
      "        [ 4.8410,  6.5703, -4.8108,  1.9687],\n",
      "        [ 4.2627,  3.8385, -4.7245,  2.8196],\n",
      "        [ 6.9311,  4.0466, -3.7122,  2.2794],\n",
      "        [ 4.8748,  6.6146, -1.1148,  1.2784],\n",
      "        [ 3.4208,  4.6720, -4.9218,  1.1022],\n",
      "        [ 5.2029,  5.2643, -2.8267,  1.6200],\n",
      "        [ 3.2481,  4.0655, -2.3343,  2.7951],\n",
      "        [ 5.4685,  3.5234, -2.5252,  2.2277],\n",
      "        [ 4.1624,  6.2164, -2.7116,  2.2627],\n",
      "        [ 4.9105,  4.6922, -4.9072,  2.8490],\n",
      "        [ 5.3754,  4.0427, -3.8162,  1.3760],\n",
      "        [ 4.2965,  4.3215, -3.2941,  2.9316],\n",
      "        [ 5.1373,  4.3341, -3.9384,  2.2665],\n",
      "        [ 6.0188,  4.6614, -1.9259,  2.4608],\n",
      "        [ 4.8170,  5.1352, -2.6145,  1.9157],\n",
      "        [ 6.2448,  4.8411, -4.1242,  1.5066],\n",
      "        [ 6.4431,  5.9816, -1.9093,  1.4028],\n",
      "        [ 6.9772,  4.9162, -1.3700,  1.8407],\n",
      "        [ 3.3026,  5.4273, -4.9847,  2.1256],\n",
      "        [ 4.5709,  4.2953, -4.9716,  2.4183],\n",
      "        [ 6.5272,  6.1885, -3.7634,  2.3416],\n",
      "        [ 6.1890,  5.2094, -2.3628,  1.6001],\n",
      "        [ 6.0818,  4.2656, -3.9887,  1.0645],\n",
      "        [ 4.9685,  5.4085, -1.7884,  1.4251],\n",
      "        [ 5.9642,  5.4845, -3.6935,  1.0035],\n",
      "        [ 3.0736,  4.9356, -1.8087,  1.5626],\n",
      "        [ 5.8105,  5.7320, -2.4447,  2.9432],\n",
      "        [ 4.8087,  6.3936, -3.1938,  1.5213],\n",
      "        [ 4.8434,  4.7665, -4.0883,  1.9239],\n",
      "        [ 4.1715,  5.8905, -3.6363,  2.7250],\n",
      "        [ 6.1745,  4.5874, -2.2156,  1.9807],\n",
      "        [ 5.6499,  5.3155, -4.1995,  1.1962],\n",
      "        [ 4.7653,  6.7221, -1.8642,  2.4695],\n",
      "        [ 5.2003,  6.0405, -4.6512,  2.2178],\n",
      "        [ 4.8318,  5.1122, -3.7937,  2.4488],\n",
      "        [ 4.7927,  4.1008, -3.7851,  2.0349],\n",
      "        [ 6.2462,  3.0428, -3.4259,  2.1620],\n",
      "        [ 4.7439,  4.1732, -4.0212,  2.3422],\n",
      "        [ 4.6315,  4.5936, -1.4578,  1.6335],\n",
      "        [ 5.9036,  4.8510, -3.8423,  2.0251],\n",
      "        [ 4.2868,  5.2258, -4.4700,  2.5237],\n",
      "        [ 4.8092,  6.3004, -1.7447,  1.0100],\n",
      "        [ 5.6727,  5.5226, -4.0478,  2.9020],\n",
      "        [ 5.0367,  4.0052, -3.9093,  1.5383],\n",
      "        [ 4.3141,  6.1401, -2.4300,  1.1568],\n",
      "        [ 4.2005,  5.2757, -3.1346,  2.3429],\n",
      "        [ 4.8183,  4.5124, -3.5172,  1.6220],\n",
      "        [ 4.8133,  5.4956, -3.7935,  2.7100],\n",
      "        [ 4.1095,  3.8413, -2.9943,  1.4134],\n",
      "        [ 3.3212,  5.1544, -2.9643,  2.1101],\n",
      "        [ 5.1919,  5.6745, -1.9376,  1.1522],\n",
      "        [ 4.8864,  4.2124, -4.4153,  1.1940],\n",
      "        [ 4.7903,  3.6073, -4.0205,  2.2419],\n",
      "        [ 5.3252,  5.6450, -4.0787,  1.2549],\n",
      "        [ 6.8030,  5.8587, -3.7096,  1.2955],\n",
      "        [ 3.4153,  4.6974, -3.3591,  2.9783],\n",
      "        [ 5.8823,  4.2740, -4.4382,  2.9214],\n",
      "        [ 5.2685,  3.7982, -4.8177,  1.5023],\n",
      "        [ 3.2358,  4.7107, -1.2632,  2.4538],\n",
      "        [ 6.6604,  5.1620, -3.5569,  2.4924],\n",
      "        [ 4.7281,  3.9397, -3.9765,  2.2131],\n",
      "        [ 6.8250,  4.8253, -3.4759,  2.4030],\n",
      "        [ 4.1108,  5.3624, -4.9033,  1.3470],\n",
      "        [ 3.2927,  5.9367, -1.0667,  2.6338],\n",
      "        [ 3.4013,  6.2655, -4.2938,  2.8374],\n",
      "        [ 3.1620,  4.7389, -4.5844,  1.7104],\n",
      "        [ 3.9665,  4.5554, -1.6157,  2.0404],\n",
      "        [ 3.1502,  6.4203, -2.2834,  2.5922],\n",
      "        [ 4.8537,  3.6103, -1.0159,  2.9326],\n",
      "        [ 3.6146,  6.8340, -3.9457,  2.4254],\n",
      "        [ 4.0178,  4.3761, -4.9706,  2.8721],\n",
      "        [ 6.0897,  6.0520, -2.0234,  2.9030],\n",
      "        [ 6.0878,  4.0229, -2.3629,  2.8379],\n",
      "        [ 5.3650,  4.4504, -1.3849,  2.7997],\n",
      "        [ 6.0287,  5.0150, -3.8530,  1.9706],\n",
      "        [ 4.3132,  6.8576, -2.1553,  1.2198],\n",
      "        [ 3.1094,  4.8652, -3.5085,  1.6013],\n",
      "        [ 5.4759,  5.5217, -2.9385,  1.9047],\n",
      "        [ 4.7653,  5.5698, -3.8840,  2.2665],\n",
      "        [ 6.7069,  4.0893, -4.2672,  2.6049],\n",
      "        [ 3.1223,  5.9989, -4.6710,  2.7701],\n",
      "        [ 3.6082,  6.5568, -2.7084,  1.6098],\n",
      "        [ 4.8247,  4.8208, -4.0441,  1.9017],\n",
      "        [ 5.4679,  4.2050, -1.8487,  1.3221],\n",
      "        [ 4.8049,  4.8899, -3.1505,  2.7006],\n",
      "        [ 6.0882,  5.2181, -4.7963,  1.0054],\n",
      "        [ 4.6882,  6.5041, -3.3545,  1.9667],\n",
      "        [ 5.6935,  5.1197, -1.7292,  1.0420],\n",
      "        [ 4.6412,  5.4492, -4.8034,  1.3797],\n",
      "        [ 6.1970,  4.1675, -1.5007,  2.9584],\n",
      "        [ 4.0017,  5.8830, -1.3138,  2.4718]])\n"
     ]
    },
    {
     "data": {
      "application/vnd.jupyter.widget-view+json": {
       "model_id": "8b56fedaf7764ba6a92079684afd7fb6",
       "version_major": 2,
       "version_minor": 0
      },
      "text/plain": [
       "Running 100 simulations in 100 batches.:   0%|          | 0/100 [00:00<?, ?it/s]"
      ]
     },
     "metadata": {},
     "output_type": "display_data"
    }
   ],
   "source": [
    "#### second round\n",
    "\n",
    "\n",
    "\n",
    "prior2 = utils.torchutils.BoxUniform(low=prior_min[2:4], high = prior_max[2:4])\n",
    "\n",
    "\n",
    "prior_combined =Combined(proposal1, prior2, number_params_1=2)\n",
    "\n",
    "\n",
    "print('prior combined', prior_combined.sample((10,)).shape)\n",
    "#print('prop',prior2.sample((10,)).shape)\n",
    "\n",
    "\n",
    "inf = SNPE_C(prior_combined, density_estimator=\"nsf\")\n",
    "\n",
    "density_estimator = 'nsf'\n",
    "\n",
    "\n",
    "simulator_stats, prior = prepare_for_sbi(piecewise_linear_second_batch, prior_combined)\n",
    "\n",
    "inference = SNPE_C(prior, density_estimator=density_estimator)\n",
    "\n",
    "theta, x_without = simulate_for_sbi(\n",
    "    simulator_stats,\n",
    "    proposal=prior,\n",
    "    num_simulations=100,\n",
    "    num_workers=4,\n",
    ")"
   ]
  },
  {
   "cell_type": "code",
   "execution_count": 28,
   "metadata": {},
   "outputs": [
    {
     "name": "stdout",
     "output_type": "stream",
     "text": [
      "torch.Size([100, 4])\n",
      "<sbi.inference.snpe.snpe_c.SNPE_C object at 0x7f9be4394070>\n",
      "Neural network successfully converged after 145 epochs.\n"
     ]
    }
   ],
   "source": [
    "x = extract_sumstats(x_without)\n",
    "\n",
    "\n",
    "print(theta.shape)\n",
    "\n",
    "inf = inf.append_simulations(theta, x)\n",
    "\n",
    "print(inf)\n",
    "density_estimator = inf.train()\n",
    "\n",
    "posterior2 = inf.build_posterior(density_estimator)"
   ]
  },
  {
   "cell_type": "code",
   "execution_count": 26,
   "metadata": {},
   "outputs": [
    {
     "name": "stdout",
     "output_type": "stream",
     "text": [
      "torch.Size([100, 4])\n"
     ]
    },
    {
     "data": {
      "application/vnd.jupyter.widget-view+json": {
       "model_id": "1e59acc859ed4731ad033bb0758eb79a",
       "version_major": 2,
       "version_minor": 0
      },
      "text/plain": [
       "Drawing 100 posterior samples:   0%|          | 0/100 [00:00<?, ?it/s]"
      ]
     },
     "metadata": {},
     "output_type": "display_data"
    },
    {
     "name": "stdout",
     "output_type": "stream",
     "text": [
      "tensor([-4.3452])\n"
     ]
    },
    {
     "ename": "IndexError",
     "evalue": "The shape of the mask [1] at index 0 does not match the shape of the indexed tensor [100, 4] at index 0",
     "output_type": "error",
     "traceback": [
      "\u001b[0;31m---------------------------------------------------------------------------\u001b[0m",
      "\u001b[0;31mIndexError\u001b[0m                                Traceback (most recent call last)",
      "\u001b[0;32m/tmp/ipykernel_406311/2323850876.py\u001b[0m in \u001b[0;36m<module>\u001b[0;34m\u001b[0m\n\u001b[1;32m      6\u001b[0m \u001b[0;31m#print(proposal2.log_prob(theta))\u001b[0m\u001b[0;34m\u001b[0m\u001b[0;34m\u001b[0m\u001b[0;34m\u001b[0m\u001b[0m\n\u001b[1;32m      7\u001b[0m \u001b[0;34m\u001b[0m\u001b[0m\n\u001b[0;32m----> 8\u001b[0;31m \u001b[0msamples\u001b[0m \u001b[0;34m=\u001b[0m \u001b[0mposterior2\u001b[0m\u001b[0;34m.\u001b[0m\u001b[0msample\u001b[0m\u001b[0;34m(\u001b[0m\u001b[0;34m(\u001b[0m\u001b[0mnum_samples\u001b[0m\u001b[0;34m,\u001b[0m\u001b[0;34m)\u001b[0m\u001b[0;34m,\u001b[0m \u001b[0mx\u001b[0m\u001b[0;34m=\u001b[0m\u001b[0mobs_real_stats\u001b[0m\u001b[0;34m)\u001b[0m\u001b[0;34m\u001b[0m\u001b[0;34m\u001b[0m\u001b[0m\n\u001b[0m\u001b[1;32m      9\u001b[0m \u001b[0;34m\u001b[0m\u001b[0m\n\u001b[1;32m     10\u001b[0m \u001b[0mproposal2\u001b[0m \u001b[0;34m=\u001b[0m \u001b[0mposterior2\u001b[0m\u001b[0;34m.\u001b[0m\u001b[0mset_default_x\u001b[0m\u001b[0;34m(\u001b[0m\u001b[0mobs_real_stats\u001b[0m\u001b[0;34m)\u001b[0m\u001b[0;34m\u001b[0m\u001b[0;34m\u001b[0m\u001b[0m\n",
      "\u001b[0;32m~/anaconda3/lib/python3.8/site-packages/sbi/inference/posteriors/direct_posterior.py\u001b[0m in \u001b[0;36msample\u001b[0;34m(self, sample_shape, x, show_progress_bars, sample_with, mcmc_method, mcmc_parameters, rejection_sampling_parameters, sample_with_mcmc)\u001b[0m\n\u001b[1;32m    386\u001b[0m                 \u001b[0;31m# that are outside of the prior support. This can be considered as\u001b[0m\u001b[0;34m\u001b[0m\u001b[0;34m\u001b[0m\u001b[0;34m\u001b[0m\u001b[0m\n\u001b[1;32m    387\u001b[0m                 \u001b[0;31m# rejection sampling with a very good proposal.\u001b[0m\u001b[0;34m\u001b[0m\u001b[0;34m\u001b[0m\u001b[0;34m\u001b[0m\u001b[0m\n\u001b[0;32m--> 388\u001b[0;31m                 samples = utils.rejection_sample_posterior_within_prior(\n\u001b[0m\u001b[1;32m    389\u001b[0m                     \u001b[0mposterior_nn\u001b[0m\u001b[0;34m=\u001b[0m\u001b[0mself\u001b[0m\u001b[0;34m.\u001b[0m\u001b[0mnet\u001b[0m\u001b[0;34m,\u001b[0m\u001b[0;34m\u001b[0m\u001b[0;34m\u001b[0m\u001b[0m\n\u001b[1;32m    390\u001b[0m                     \u001b[0mprior\u001b[0m\u001b[0;34m=\u001b[0m\u001b[0mself\u001b[0m\u001b[0;34m.\u001b[0m\u001b[0m_prior\u001b[0m\u001b[0;34m,\u001b[0m\u001b[0;34m\u001b[0m\u001b[0;34m\u001b[0m\u001b[0m\n",
      "\u001b[0;32m~/anaconda3/lib/python3.8/site-packages/torch/autograd/grad_mode.py\u001b[0m in \u001b[0;36mdecorate_context\u001b[0;34m(*args, **kwargs)\u001b[0m\n\u001b[1;32m     26\u001b[0m         \u001b[0;32mdef\u001b[0m \u001b[0mdecorate_context\u001b[0m\u001b[0;34m(\u001b[0m\u001b[0;34m*\u001b[0m\u001b[0margs\u001b[0m\u001b[0;34m,\u001b[0m \u001b[0;34m**\u001b[0m\u001b[0mkwargs\u001b[0m\u001b[0;34m)\u001b[0m\u001b[0;34m:\u001b[0m\u001b[0;34m\u001b[0m\u001b[0;34m\u001b[0m\u001b[0m\n\u001b[1;32m     27\u001b[0m             \u001b[0;32mwith\u001b[0m \u001b[0mself\u001b[0m\u001b[0;34m.\u001b[0m\u001b[0m__class__\u001b[0m\u001b[0;34m(\u001b[0m\u001b[0;34m)\u001b[0m\u001b[0;34m:\u001b[0m\u001b[0;34m\u001b[0m\u001b[0;34m\u001b[0m\u001b[0m\n\u001b[0;32m---> 28\u001b[0;31m                 \u001b[0;32mreturn\u001b[0m \u001b[0mfunc\u001b[0m\u001b[0;34m(\u001b[0m\u001b[0;34m*\u001b[0m\u001b[0margs\u001b[0m\u001b[0;34m,\u001b[0m \u001b[0;34m**\u001b[0m\u001b[0mkwargs\u001b[0m\u001b[0;34m)\u001b[0m\u001b[0;34m\u001b[0m\u001b[0;34m\u001b[0m\u001b[0m\n\u001b[0m\u001b[1;32m     29\u001b[0m         \u001b[0;32mreturn\u001b[0m \u001b[0mcast\u001b[0m\u001b[0;34m(\u001b[0m\u001b[0mF\u001b[0m\u001b[0;34m,\u001b[0m \u001b[0mdecorate_context\u001b[0m\u001b[0;34m)\u001b[0m\u001b[0;34m\u001b[0m\u001b[0;34m\u001b[0m\u001b[0m\n\u001b[1;32m     30\u001b[0m \u001b[0;34m\u001b[0m\u001b[0m\n",
      "\u001b[0;32m~/anaconda3/lib/python3.8/site-packages/sbi/utils/sbiutils.py\u001b[0m in \u001b[0;36mrejection_sample_posterior_within_prior\u001b[0;34m(posterior_nn, prior, x, num_samples, show_progress_bars, warn_acceptance, sample_for_correction_factor, max_sampling_batch_size, **kwargs)\u001b[0m\n\u001b[1;32m    224\u001b[0m         \u001b[0;31m# SNPE-style rejection-sampling when the proposal is the neural net.\u001b[0m\u001b[0;34m\u001b[0m\u001b[0;34m\u001b[0m\u001b[0;34m\u001b[0m\u001b[0m\n\u001b[1;32m    225\u001b[0m         \u001b[0mare_within_prior\u001b[0m \u001b[0;34m=\u001b[0m \u001b[0mwithin_support\u001b[0m\u001b[0;34m(\u001b[0m\u001b[0mprior\u001b[0m\u001b[0;34m,\u001b[0m \u001b[0mcandidates\u001b[0m\u001b[0;34m)\u001b[0m\u001b[0;34m\u001b[0m\u001b[0;34m\u001b[0m\u001b[0m\n\u001b[0;32m--> 226\u001b[0;31m         \u001b[0msamples\u001b[0m \u001b[0;34m=\u001b[0m \u001b[0mcandidates\u001b[0m\u001b[0;34m[\u001b[0m\u001b[0mare_within_prior\u001b[0m\u001b[0;34m]\u001b[0m\u001b[0;34m\u001b[0m\u001b[0;34m\u001b[0m\u001b[0m\n\u001b[0m\u001b[1;32m    227\u001b[0m \u001b[0;34m\u001b[0m\u001b[0m\n\u001b[1;32m    228\u001b[0m         \u001b[0maccepted\u001b[0m\u001b[0;34m.\u001b[0m\u001b[0mappend\u001b[0m\u001b[0;34m(\u001b[0m\u001b[0msamples\u001b[0m\u001b[0;34m)\u001b[0m\u001b[0;34m\u001b[0m\u001b[0;34m\u001b[0m\u001b[0m\n",
      "\u001b[0;31mIndexError\u001b[0m: The shape of the mask [1] at index 0 does not match the shape of the indexed tensor [100, 4] at index 0"
     ]
    }
   ],
   "source": [
    "\n",
    "obs_real_stats = extract_sumstats([obs_real])\n",
    "\n",
    "print(theta.shape)\n",
    "\n",
    "\n",
    "#print(proposal2.log_prob(theta))\n",
    "\n",
    "samples = posterior2.sample((num_samples,), x=obs_real_stats)\n",
    "\n",
    "proposal2 = posterior2.set_default_x(obs_real_stats)"
   ]
  },
  {
   "cell_type": "code",
   "execution_count": null,
   "metadata": {},
   "outputs": [],
   "source": []
  }
 ],
 "metadata": {
  "interpreter": {
   "hash": "126fa1c3f32c28cc7adc0ff61e94b616033ac8f91881516d11a50edd9bdb1b2c"
  },
  "kernelspec": {
   "display_name": "Python 3 (ipykernel)",
   "language": "python",
   "name": "python3"
  },
  "language_info": {
   "codemirror_mode": {
    "name": "ipython",
    "version": 3
   },
   "file_extension": ".py",
   "mimetype": "text/x-python",
   "name": "python",
   "nbconvert_exporter": "python",
   "pygments_lexer": "ipython3",
   "version": "3.8.8"
  }
 },
 "nbformat": 4,
 "nbformat_minor": 2
}
