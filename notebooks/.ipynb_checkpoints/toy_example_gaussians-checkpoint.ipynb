{
 "cells": [
  {
   "cell_type": "markdown",
   "id": "18ecef64",
   "metadata": {},
   "source": [
    "## Toy example: Inferring the mean of Gaussians\n",
    "\n",
    "#### comparing the multi-round SNPE approach against our new incremental approach.\n",
    "\n",
    "Goal of this little toy example is to show that provided our parameters are independent of each other, we need less simulations to derive a good approximation of our parameters."
   ]
  },
  {
   "cell_type": "code",
   "execution_count": 1,
   "id": "cd32f110",
   "metadata": {},
   "outputs": [],
   "source": [
    "import sys\n",
    "sys.path.append('../code/')\n",
    "\n",
    "import utils\n",
    "from utils.helpers import get_time\n",
    "from utils import inference\n",
    "\n",
    "from utils.sbi_modulated_functions import Combined\n",
    "\n",
    "\n",
    "from utils.helpers import get_time\n",
    "\n",
    "from utils.simulation_wrapper import SimulationWrapper\n",
    "\n",
    "\n",
    "# sbi\n",
    "from sbi import utils as utils\n",
    "from sbi import analysis as analysis\n",
    "from sbi.inference.base import infer\n",
    "from sbi.inference import SNPE, prepare_for_sbi, simulate_for_sbi\n",
    "from sbi.inference import SNPE_C\n",
    "\n",
    "import sbi\n"
   ]
  },
  {
   "cell_type": "markdown",
   "id": "600e4438",
   "metadata": {},
   "source": [
    "Defining a function (Gaussian) that takes a arbitrary number of thetas (parameters for a Gaussian mean) and samples from a Gaussian with this mean and a standard deviation of 0.1"
   ]
  },
  {
   "cell_type": "code",
   "execution_count": 12,
   "id": "53c8ed3a",
   "metadata": {},
   "outputs": [],
   "source": [
    "import numpy as np\n",
    "import matplotlib.pyplot as plt\n",
    "import torch\n",
    "\n",
    "\n",
    "def Gaussian(thetas, normal_noise=2.5):\n",
    "    \n",
    "    np.random.seed(np.random.choice(1000))\n",
    "    \n",
    "    gauss_list = []\n",
    "    \n",
    "    for theta in thetas:\n",
    "    \n",
    "        mu, sigma = theta, normal_noise # mean and standard deviation\n",
    "\n",
    "        s = np.random.normal(mu, sigma, 1)\n",
    "    \n",
    "        \n",
    "        gauss_list.append(s[0])\n",
    "        \n",
    "    gauss_obs = torch.tensor(gauss_list)\n",
    "    \n",
    "    return gauss_obs\n",
    "    \n",
    "\n"
   ]
  },
  {
   "cell_type": "markdown",
   "id": "996f120c",
   "metadata": {},
   "source": [
    "### Larger comparison with KL-divergence between analytic and inferred posterior"
   ]
  },
  {
   "cell_type": "markdown",
   "id": "64f8d549",
   "metadata": {},
   "source": [
    "### Calculate posterior for different number of simulations: 1k,  3k, 5k, 10k"
   ]
  },
  {
   "cell_type": "markdown",
   "id": "3e06b59c",
   "metadata": {},
   "source": [
    "### starting with multi-round snpe"
   ]
  },
  {
   "cell_type": "code",
   "execution_count": 13,
   "id": "26682c86",
   "metadata": {},
   "outputs": [],
   "source": [
    "true_thetas = torch.tensor([[3.0, 6.0, 20.0, 10.0, 90.0, 55.0, 27.0, 27.0, 4.0, 70.0, 5.0, 66.0, 99.0, 40.0, 45.0]])\n",
    "parameter_names = ['t1', 't2', 't3', 't4', 't5', 't6', 't7', 't8', 't9', 't10', 't11', 't12', 't13', 't14', 't15']\n",
    "\n",
    "prior_max = [100.0] * 15\n",
    "prior_min = [1.0] * 15"
   ]
  },
  {
   "cell_type": "code",
   "execution_count": 17,
   "id": "b773485c",
   "metadata": {},
   "outputs": [],
   "source": [
    "num_simulations_list = [100, 200]\n"
   ]
  },
  {
   "cell_type": "code",
   "execution_count": 18,
   "id": "85d458e1",
   "metadata": {},
   "outputs": [
    {
     "data": {
      "text/plain": [
       "tensor([ 6.3230e+00,  4.0749e+00,  1.9209e+01,  7.5230e+00,  8.7323e+01,\n",
       "         5.1403e+01,  2.8411e+01,  2.7739e+01, -6.6011e-02,  7.0549e+01,\n",
       "         6.6970e+00,  7.0723e+01,  1.0140e+02,  4.0260e+01,  4.3797e+01],\n",
       "       dtype=torch.float64)"
      ]
     },
     "execution_count": 18,
     "metadata": {},
     "output_type": "execute_result"
    }
   ],
   "source": [
    "obs_real = Gaussian(true_thetas[0])\n",
    "\n",
    "obs_real\n"
   ]
  },
  {
   "cell_type": "code",
   "execution_count": 19,
   "id": "fc1fc433",
   "metadata": {},
   "outputs": [
    {
     "data": {
      "application/vnd.jupyter.widget-view+json": {
       "model_id": "a7a5dbcd05da4e10a77085b82155083f",
       "version_major": 2,
       "version_minor": 0
      },
      "text/plain": [
       "Running 100 simulations in 100 batches.:   0%|          | 0/100 [00:00<?, ?it/s]"
      ]
     },
     "metadata": {},
     "output_type": "display_data"
    },
    {
     "name": "stdout",
     "output_type": "stream",
     "text": [
      "x tensor([[93.6534, 98.7469, 61.9204,  ..., 49.8326, 39.9395, 89.2170],\n",
      "        [ 6.3967, 31.0600, 65.8470,  ..., 96.8443, 49.9088, 12.2682],\n",
      "        [35.9904, 83.6927, 28.6530,  ..., 77.3596, 67.9795, 80.3660],\n",
      "        ...,\n",
      "        [88.9413, 19.3130, 23.1839,  ..., 62.0908, 61.3409, 40.1721],\n",
      "        [30.0013, 29.8344, 15.6215,  ...,  8.0224, 29.3671, 27.1338],\n",
      "        [30.9152, 73.9769, 50.0930,  ..., 81.8002, 57.7667,  5.1922]])\n",
      "Neural network successfully converged after 103 epochs.\n"
     ]
    },
    {
     "data": {
      "application/vnd.jupyter.widget-view+json": {
       "model_id": "adf8985a57674b91a384f5a13c535a57",
       "version_major": 2,
       "version_minor": 0
      },
      "text/plain": [
       "Drawing 100 posterior samples:   0%|          | 0/100 [00:00<?, ?it/s]"
      ]
     },
     "metadata": {},
     "output_type": "display_data"
    },
    {
     "data": {
      "application/vnd.jupyter.widget-view+json": {
       "model_id": "11a0d2a031df48ddbf6fed83855db4e1",
       "version_major": 2,
       "version_minor": 0
      },
      "text/plain": [
       "Running 100 simulations in 100 batches.:   0%|          | 0/100 [00:00<?, ?it/s]"
      ]
     },
     "metadata": {},
     "output_type": "display_data"
    },
    {
     "name": "stdout",
     "output_type": "stream",
     "text": [
      "x tensor([[11.5321, 82.6144, 16.1484,  ..., 74.4065, 26.8485, 31.1502],\n",
      "        [50.8461, 22.3210, 18.2707,  ..., 60.9540, 60.9142, 50.6484],\n",
      "        [20.3498,  6.2748, 57.8044,  ..., 45.8587, 19.8113, 32.7280],\n",
      "        ...,\n",
      "        [15.0166,  4.3808, 13.5013,  ..., 36.2775, 27.9194, 20.7614],\n",
      "        [62.8174, 20.3484, 31.1137,  ..., 78.2496, 62.3107, 39.9878],\n",
      "        [12.5837, 52.9915, 20.5298,  ..., 39.7846, 44.9715, 62.9259]])\n",
      "Using SNPE-C with atomic loss\n",
      "Neural network successfully converged after 64 epochs.\n"
     ]
    },
    {
     "data": {
      "application/vnd.jupyter.widget-view+json": {
       "model_id": "a033af0030684c6f85b23cf8dda49f0f",
       "version_major": 2,
       "version_minor": 0
      },
      "text/plain": [
       "Drawing 100 posterior samples:   0%|          | 0/100 [00:00<?, ?it/s]"
      ]
     },
     "metadata": {},
     "output_type": "display_data"
    },
    {
     "data": {
      "application/vnd.jupyter.widget-view+json": {
       "model_id": "0f5340aed9734755b94f0b178d2ce1ef",
       "version_major": 2,
       "version_minor": 0
      },
      "text/plain": [
       "Running 100 simulations in 100 batches.:   0%|          | 0/100 [00:00<?, ?it/s]"
      ]
     },
     "metadata": {},
     "output_type": "display_data"
    },
    {
     "name": "stdout",
     "output_type": "stream",
     "text": [
      "x tensor([[55.5681, 36.0252, 21.1522,  ..., 77.2400, 46.9620, 36.8699],\n",
      "        [22.8273, 35.5424, 18.6008,  ..., 43.0861, 32.6449, 73.0874],\n",
      "        [12.7949, 43.3261,  9.8597,  ..., 35.5288, 56.2381, 53.4100],\n",
      "        ...,\n",
      "        [ 4.7193, 19.0901, 22.8970,  ..., 61.0351, 10.8069, 58.1307],\n",
      "        [15.6201, 36.2432, 20.8939,  ..., 73.5955, 31.2798, 38.8060],\n",
      "        [16.8581, 40.9976, 31.3591,  ..., 80.0447, 35.0372, 55.7279]])\n",
      "Using SNPE-C with atomic loss\n",
      "Neural network successfully converged after 27 epochs.\n"
     ]
    },
    {
     "data": {
      "application/vnd.jupyter.widget-view+json": {
       "model_id": "1938bb352e8c4c55862f589caff8b240",
       "version_major": 2,
       "version_minor": 0
      },
      "text/plain": [
       "Running 200 simulations in 200 batches.:   0%|          | 0/200 [00:00<?, ?it/s]"
      ]
     },
     "metadata": {},
     "output_type": "display_data"
    },
    {
     "name": "stdout",
     "output_type": "stream",
     "text": [
      "x tensor([[98.2455, 33.4635, 10.8660,  ..., 95.2666,  8.3389, 53.0880],\n",
      "        [ 5.0311, 52.8334, 80.1921,  ..., 42.3618, 61.3575, 77.8278],\n",
      "        [63.1485,  7.6312, 19.4292,  ..., 23.0232, 10.6825, 76.7062],\n",
      "        ...,\n",
      "        [52.6999, 77.4580, 16.1262,  ..., 38.6263, 33.8002, 26.0959],\n",
      "        [35.1418, 22.0475, 65.3929,  ..., 84.3771, 22.0863, 19.9816],\n",
      "        [17.0281, 98.5937, 99.4728,  ..., 42.5448, 59.6507, 14.2848]])\n",
      "Neural network successfully converged after 283 epochs.\n"
     ]
    },
    {
     "data": {
      "application/vnd.jupyter.widget-view+json": {
       "model_id": "d0ca53d22377465bb302b6a7d21e48db",
       "version_major": 2,
       "version_minor": 0
      },
      "text/plain": [
       "Drawing 200 posterior samples:   0%|          | 0/200 [00:00<?, ?it/s]"
      ]
     },
     "metadata": {},
     "output_type": "display_data"
    },
    {
     "data": {
      "application/vnd.jupyter.widget-view+json": {
       "model_id": "04b5ffa1ac1c452c9477890429a0bd23",
       "version_major": 2,
       "version_minor": 0
      },
      "text/plain": [
       "Running 200 simulations in 200 batches.:   0%|          | 0/200 [00:00<?, ?it/s]"
      ]
     },
     "metadata": {},
     "output_type": "display_data"
    },
    {
     "name": "stdout",
     "output_type": "stream",
     "text": [
      "x tensor([[  7.4303,   7.9845,  16.4900,  ...,  95.3064,  35.0040,  43.8386],\n",
      "        [  1.5126,   4.4195,  15.0392,  ..., 102.1885,  39.8961,  43.5171],\n",
      "        [  4.7434,   7.2806,  17.8584,  ...,  95.8619,  36.2764,  43.9874],\n",
      "        ...,\n",
      "        [  3.2026,   7.2841,  15.1017,  ...,  97.8171,  37.9595,  42.2532],\n",
      "        [  7.6968,   8.0373,  15.4523,  ...,  95.2330,  38.1261,  44.1517],\n",
      "        [  4.5042,   6.7242,  15.5625,  ...,  97.8576,  37.9501,  42.9040]])\n",
      "Using SNPE-C with atomic loss\n",
      "Neural network successfully converged after 73 epochs.\n"
     ]
    },
    {
     "data": {
      "application/vnd.jupyter.widget-view+json": {
       "model_id": "a3a5a03dbbbe4f27be70708796eda4e3",
       "version_major": 2,
       "version_minor": 0
      },
      "text/plain": [
       "Drawing 200 posterior samples:   0%|          | 0/200 [00:00<?, ?it/s]"
      ]
     },
     "metadata": {},
     "output_type": "display_data"
    },
    {
     "name": "stderr",
     "output_type": "stream",
     "text": [
      "WARNING:root:Drawing samples from posterior to estimate the normalizing\n",
      "                        constant for `log_prob()`. However, only\n",
      "                        0% posterior samples are within the\n",
      "                        prior support. It may take a long time to collect the\n",
      "                        remaining 200 samples.\n",
      "                        Consider interrupting (Ctrl-C) and either basing the\n",
      "                        estimate of the normalizing constant on fewer samples (by\n",
      "                        calling `posterior.leakage_correction(x_o,\n",
      "                        num_rejection_samples=N)`, where `N` is the number of\n",
      "                        samples you want to base the\n",
      "                        estimate on (default N=10000), or not estimating the\n",
      "                        normalizing constant at all\n",
      "                        (`log_prob(..., norm_posterior=False)`. The latter will\n",
      "                        result in an unnormalized `log_prob()`.\n"
     ]
    },
    {
     "ename": "KeyboardInterrupt",
     "evalue": "",
     "output_type": "error",
     "traceback": [
      "\u001b[0;31m---------------------------------------------------------------------------\u001b[0m",
      "\u001b[0;31mKeyboardInterrupt\u001b[0m                         Traceback (most recent call last)",
      "\u001b[0;32m/tmp/ipykernel_1678797/3188097683.py\u001b[0m in \u001b[0;36m<module>\u001b[0;34m\u001b[0m\n\u001b[1;32m     19\u001b[0m         \u001b[0;32mfor\u001b[0m \u001b[0mj\u001b[0m \u001b[0;32min\u001b[0m \u001b[0mrange\u001b[0m\u001b[0;34m(\u001b[0m\u001b[0;36m3\u001b[0m\u001b[0;34m)\u001b[0m\u001b[0;34m:\u001b[0m\u001b[0;34m\u001b[0m\u001b[0;34m\u001b[0m\u001b[0m\n\u001b[1;32m     20\u001b[0m \u001b[0;34m\u001b[0m\u001b[0m\n\u001b[0;32m---> 21\u001b[0;31m             theta, x = simulate_for_sbi(\n\u001b[0m\u001b[1;32m     22\u001b[0m                 \u001b[0msimulator_stats\u001b[0m\u001b[0;34m,\u001b[0m\u001b[0;34m\u001b[0m\u001b[0;34m\u001b[0m\u001b[0m\n\u001b[1;32m     23\u001b[0m                 \u001b[0mproposal\u001b[0m\u001b[0;34m=\u001b[0m\u001b[0mproposal\u001b[0m\u001b[0;34m,\u001b[0m\u001b[0;34m\u001b[0m\u001b[0;34m\u001b[0m\u001b[0m\n",
      "\u001b[0;32m~/miniconda3/lib/python3.9/site-packages/sbi/inference/base.py\u001b[0m in \u001b[0;36msimulate_for_sbi\u001b[0;34m(simulator, proposal, num_simulations, num_workers, simulation_batch_size, show_progress_bar)\u001b[0m\n\u001b[1;32m    545\u001b[0m     \u001b[0mcheck_if_proposal_has_default_x\u001b[0m\u001b[0;34m(\u001b[0m\u001b[0mproposal\u001b[0m\u001b[0;34m)\u001b[0m\u001b[0;34m\u001b[0m\u001b[0;34m\u001b[0m\u001b[0m\n\u001b[1;32m    546\u001b[0m \u001b[0;34m\u001b[0m\u001b[0m\n\u001b[0;32m--> 547\u001b[0;31m     \u001b[0mtheta\u001b[0m \u001b[0;34m=\u001b[0m \u001b[0mproposal\u001b[0m\u001b[0;34m.\u001b[0m\u001b[0msample\u001b[0m\u001b[0;34m(\u001b[0m\u001b[0;34m(\u001b[0m\u001b[0mnum_simulations\u001b[0m\u001b[0;34m,\u001b[0m\u001b[0;34m)\u001b[0m\u001b[0;34m)\u001b[0m\u001b[0;34m\u001b[0m\u001b[0;34m\u001b[0m\u001b[0m\n\u001b[0m\u001b[1;32m    548\u001b[0m \u001b[0;34m\u001b[0m\u001b[0m\n\u001b[1;32m    549\u001b[0m     x = simulate_in_batches(\n",
      "\u001b[0;32m~/miniconda3/lib/python3.9/site-packages/sbi/inference/posteriors/direct_posterior.py\u001b[0m in \u001b[0;36msample\u001b[0;34m(self, sample_shape, x, show_progress_bars, sample_with, mcmc_method, mcmc_parameters, rejection_sampling_parameters, sample_with_mcmc)\u001b[0m\n\u001b[1;32m    386\u001b[0m                 \u001b[0;31m# that are outside of the prior support. This can be considered as\u001b[0m\u001b[0;34m\u001b[0m\u001b[0;34m\u001b[0m\u001b[0;34m\u001b[0m\u001b[0m\n\u001b[1;32m    387\u001b[0m                 \u001b[0;31m# rejection sampling with a very good proposal.\u001b[0m\u001b[0;34m\u001b[0m\u001b[0;34m\u001b[0m\u001b[0;34m\u001b[0m\u001b[0m\n\u001b[0;32m--> 388\u001b[0;31m                 samples = utils.rejection_sample_posterior_within_prior(\n\u001b[0m\u001b[1;32m    389\u001b[0m                     \u001b[0mposterior_nn\u001b[0m\u001b[0;34m=\u001b[0m\u001b[0mself\u001b[0m\u001b[0;34m.\u001b[0m\u001b[0mnet\u001b[0m\u001b[0;34m,\u001b[0m\u001b[0;34m\u001b[0m\u001b[0;34m\u001b[0m\u001b[0m\n\u001b[1;32m    390\u001b[0m                     \u001b[0mprior\u001b[0m\u001b[0;34m=\u001b[0m\u001b[0mself\u001b[0m\u001b[0;34m.\u001b[0m\u001b[0m_prior\u001b[0m\u001b[0;34m,\u001b[0m\u001b[0;34m\u001b[0m\u001b[0;34m\u001b[0m\u001b[0m\n",
      "\u001b[0;32m~/miniconda3/lib/python3.9/site-packages/torch/autograd/grad_mode.py\u001b[0m in \u001b[0;36mdecorate_context\u001b[0;34m(*args, **kwargs)\u001b[0m\n\u001b[1;32m     26\u001b[0m         \u001b[0;32mdef\u001b[0m \u001b[0mdecorate_context\u001b[0m\u001b[0;34m(\u001b[0m\u001b[0;34m*\u001b[0m\u001b[0margs\u001b[0m\u001b[0;34m,\u001b[0m \u001b[0;34m**\u001b[0m\u001b[0mkwargs\u001b[0m\u001b[0;34m)\u001b[0m\u001b[0;34m:\u001b[0m\u001b[0;34m\u001b[0m\u001b[0;34m\u001b[0m\u001b[0m\n\u001b[1;32m     27\u001b[0m             \u001b[0;32mwith\u001b[0m \u001b[0mself\u001b[0m\u001b[0;34m.\u001b[0m\u001b[0m__class__\u001b[0m\u001b[0;34m(\u001b[0m\u001b[0;34m)\u001b[0m\u001b[0;34m:\u001b[0m\u001b[0;34m\u001b[0m\u001b[0;34m\u001b[0m\u001b[0m\n\u001b[0;32m---> 28\u001b[0;31m                 \u001b[0;32mreturn\u001b[0m \u001b[0mfunc\u001b[0m\u001b[0;34m(\u001b[0m\u001b[0;34m*\u001b[0m\u001b[0margs\u001b[0m\u001b[0;34m,\u001b[0m \u001b[0;34m**\u001b[0m\u001b[0mkwargs\u001b[0m\u001b[0;34m)\u001b[0m\u001b[0;34m\u001b[0m\u001b[0;34m\u001b[0m\u001b[0m\n\u001b[0m\u001b[1;32m     29\u001b[0m         \u001b[0;32mreturn\u001b[0m \u001b[0mcast\u001b[0m\u001b[0;34m(\u001b[0m\u001b[0mF\u001b[0m\u001b[0;34m,\u001b[0m \u001b[0mdecorate_context\u001b[0m\u001b[0;34m)\u001b[0m\u001b[0;34m\u001b[0m\u001b[0;34m\u001b[0m\u001b[0m\n\u001b[1;32m     30\u001b[0m \u001b[0;34m\u001b[0m\u001b[0m\n",
      "\u001b[0;32m~/miniconda3/lib/python3.9/site-packages/sbi/utils/sbiutils.py\u001b[0m in \u001b[0;36mrejection_sample_posterior_within_prior\u001b[0;34m(posterior_nn, prior, x, num_samples, show_progress_bars, warn_acceptance, sample_for_correction_factor, max_sampling_batch_size, **kwargs)\u001b[0m\n\u001b[1;32m    218\u001b[0m \u001b[0;34m\u001b[0m\u001b[0m\n\u001b[1;32m    219\u001b[0m         \u001b[0;31m# Sample and reject.\u001b[0m\u001b[0;34m\u001b[0m\u001b[0;34m\u001b[0m\u001b[0;34m\u001b[0m\u001b[0m\n\u001b[0;32m--> 220\u001b[0;31m         candidates = posterior_nn.sample(sampling_batch_size, context=x).reshape(\n\u001b[0m\u001b[1;32m    221\u001b[0m             \u001b[0msampling_batch_size\u001b[0m\u001b[0;34m,\u001b[0m \u001b[0;34m-\u001b[0m\u001b[0;36m1\u001b[0m\u001b[0;34m\u001b[0m\u001b[0;34m\u001b[0m\u001b[0m\n\u001b[1;32m    222\u001b[0m         )\n",
      "\u001b[0;32m~/miniconda3/lib/python3.9/site-packages/nflows/distributions/base.py\u001b[0m in \u001b[0;36msample\u001b[0;34m(self, num_samples, context, batch_size)\u001b[0m\n\u001b[1;32m     63\u001b[0m \u001b[0;34m\u001b[0m\u001b[0m\n\u001b[1;32m     64\u001b[0m         \u001b[0;32mif\u001b[0m \u001b[0mbatch_size\u001b[0m \u001b[0;32mis\u001b[0m \u001b[0;32mNone\u001b[0m\u001b[0;34m:\u001b[0m\u001b[0;34m\u001b[0m\u001b[0;34m\u001b[0m\u001b[0m\n\u001b[0;32m---> 65\u001b[0;31m             \u001b[0;32mreturn\u001b[0m \u001b[0mself\u001b[0m\u001b[0;34m.\u001b[0m\u001b[0m_sample\u001b[0m\u001b[0;34m(\u001b[0m\u001b[0mnum_samples\u001b[0m\u001b[0;34m,\u001b[0m \u001b[0mcontext\u001b[0m\u001b[0;34m)\u001b[0m\u001b[0;34m\u001b[0m\u001b[0;34m\u001b[0m\u001b[0m\n\u001b[0m\u001b[1;32m     66\u001b[0m \u001b[0;34m\u001b[0m\u001b[0m\n\u001b[1;32m     67\u001b[0m         \u001b[0;32melse\u001b[0m\u001b[0;34m:\u001b[0m\u001b[0;34m\u001b[0m\u001b[0;34m\u001b[0m\u001b[0m\n",
      "\u001b[0;32m~/miniconda3/lib/python3.9/site-packages/nflows/flows/base.py\u001b[0m in \u001b[0;36m_sample\u001b[0;34m(self, num_samples, context)\u001b[0m\n\u001b[1;32m     52\u001b[0m             )\n\u001b[1;32m     53\u001b[0m \u001b[0;34m\u001b[0m\u001b[0m\n\u001b[0;32m---> 54\u001b[0;31m         \u001b[0msamples\u001b[0m\u001b[0;34m,\u001b[0m \u001b[0m_\u001b[0m \u001b[0;34m=\u001b[0m \u001b[0mself\u001b[0m\u001b[0;34m.\u001b[0m\u001b[0m_transform\u001b[0m\u001b[0;34m.\u001b[0m\u001b[0minverse\u001b[0m\u001b[0;34m(\u001b[0m\u001b[0mnoise\u001b[0m\u001b[0;34m,\u001b[0m \u001b[0mcontext\u001b[0m\u001b[0;34m=\u001b[0m\u001b[0membedded_context\u001b[0m\u001b[0;34m)\u001b[0m\u001b[0;34m\u001b[0m\u001b[0;34m\u001b[0m\u001b[0m\n\u001b[0m\u001b[1;32m     55\u001b[0m \u001b[0;34m\u001b[0m\u001b[0m\n\u001b[1;32m     56\u001b[0m         \u001b[0;32mif\u001b[0m \u001b[0membedded_context\u001b[0m \u001b[0;32mis\u001b[0m \u001b[0;32mnot\u001b[0m \u001b[0;32mNone\u001b[0m\u001b[0;34m:\u001b[0m\u001b[0;34m\u001b[0m\u001b[0;34m\u001b[0m\u001b[0m\n",
      "\u001b[0;32m~/miniconda3/lib/python3.9/site-packages/nflows/transforms/base.py\u001b[0m in \u001b[0;36minverse\u001b[0;34m(self, inputs, context)\u001b[0m\n\u001b[1;32m     58\u001b[0m     \u001b[0;32mdef\u001b[0m \u001b[0minverse\u001b[0m\u001b[0;34m(\u001b[0m\u001b[0mself\u001b[0m\u001b[0;34m,\u001b[0m \u001b[0minputs\u001b[0m\u001b[0;34m,\u001b[0m \u001b[0mcontext\u001b[0m\u001b[0;34m=\u001b[0m\u001b[0;32mNone\u001b[0m\u001b[0;34m)\u001b[0m\u001b[0;34m:\u001b[0m\u001b[0;34m\u001b[0m\u001b[0;34m\u001b[0m\u001b[0m\n\u001b[1;32m     59\u001b[0m         \u001b[0mfuncs\u001b[0m \u001b[0;34m=\u001b[0m \u001b[0;34m(\u001b[0m\u001b[0mtransform\u001b[0m\u001b[0;34m.\u001b[0m\u001b[0minverse\u001b[0m \u001b[0;32mfor\u001b[0m \u001b[0mtransform\u001b[0m \u001b[0;32min\u001b[0m \u001b[0mself\u001b[0m\u001b[0;34m.\u001b[0m\u001b[0m_transforms\u001b[0m\u001b[0;34m[\u001b[0m\u001b[0;34m:\u001b[0m\u001b[0;34m:\u001b[0m\u001b[0;34m-\u001b[0m\u001b[0;36m1\u001b[0m\u001b[0;34m]\u001b[0m\u001b[0;34m)\u001b[0m\u001b[0;34m\u001b[0m\u001b[0;34m\u001b[0m\u001b[0m\n\u001b[0;32m---> 60\u001b[0;31m         \u001b[0;32mreturn\u001b[0m \u001b[0mself\u001b[0m\u001b[0;34m.\u001b[0m\u001b[0m_cascade\u001b[0m\u001b[0;34m(\u001b[0m\u001b[0minputs\u001b[0m\u001b[0;34m,\u001b[0m \u001b[0mfuncs\u001b[0m\u001b[0;34m,\u001b[0m \u001b[0mcontext\u001b[0m\u001b[0;34m)\u001b[0m\u001b[0;34m\u001b[0m\u001b[0;34m\u001b[0m\u001b[0m\n\u001b[0m\u001b[1;32m     61\u001b[0m \u001b[0;34m\u001b[0m\u001b[0m\n\u001b[1;32m     62\u001b[0m \u001b[0;34m\u001b[0m\u001b[0m\n",
      "\u001b[0;32m~/miniconda3/lib/python3.9/site-packages/nflows/transforms/base.py\u001b[0m in \u001b[0;36m_cascade\u001b[0;34m(inputs, funcs, context)\u001b[0m\n\u001b[1;32m     48\u001b[0m         \u001b[0mtotal_logabsdet\u001b[0m \u001b[0;34m=\u001b[0m \u001b[0minputs\u001b[0m\u001b[0;34m.\u001b[0m\u001b[0mnew_zeros\u001b[0m\u001b[0;34m(\u001b[0m\u001b[0mbatch_size\u001b[0m\u001b[0;34m)\u001b[0m\u001b[0;34m\u001b[0m\u001b[0;34m\u001b[0m\u001b[0m\n\u001b[1;32m     49\u001b[0m         \u001b[0;32mfor\u001b[0m \u001b[0mfunc\u001b[0m \u001b[0;32min\u001b[0m \u001b[0mfuncs\u001b[0m\u001b[0;34m:\u001b[0m\u001b[0;34m\u001b[0m\u001b[0;34m\u001b[0m\u001b[0m\n\u001b[0;32m---> 50\u001b[0;31m             \u001b[0moutputs\u001b[0m\u001b[0;34m,\u001b[0m \u001b[0mlogabsdet\u001b[0m \u001b[0;34m=\u001b[0m \u001b[0mfunc\u001b[0m\u001b[0;34m(\u001b[0m\u001b[0moutputs\u001b[0m\u001b[0;34m,\u001b[0m \u001b[0mcontext\u001b[0m\u001b[0;34m)\u001b[0m\u001b[0;34m\u001b[0m\u001b[0;34m\u001b[0m\u001b[0m\n\u001b[0m\u001b[1;32m     51\u001b[0m             \u001b[0mtotal_logabsdet\u001b[0m \u001b[0;34m+=\u001b[0m \u001b[0mlogabsdet\u001b[0m\u001b[0;34m\u001b[0m\u001b[0;34m\u001b[0m\u001b[0m\n\u001b[1;32m     52\u001b[0m         \u001b[0;32mreturn\u001b[0m \u001b[0moutputs\u001b[0m\u001b[0;34m,\u001b[0m \u001b[0mtotal_logabsdet\u001b[0m\u001b[0;34m\u001b[0m\u001b[0;34m\u001b[0m\u001b[0m\n",
      "\u001b[0;32m~/miniconda3/lib/python3.9/site-packages/nflows/transforms/base.py\u001b[0m in \u001b[0;36minverse\u001b[0;34m(self, inputs, context)\u001b[0m\n\u001b[1;32m     58\u001b[0m     \u001b[0;32mdef\u001b[0m \u001b[0minverse\u001b[0m\u001b[0;34m(\u001b[0m\u001b[0mself\u001b[0m\u001b[0;34m,\u001b[0m \u001b[0minputs\u001b[0m\u001b[0;34m,\u001b[0m \u001b[0mcontext\u001b[0m\u001b[0;34m=\u001b[0m\u001b[0;32mNone\u001b[0m\u001b[0;34m)\u001b[0m\u001b[0;34m:\u001b[0m\u001b[0;34m\u001b[0m\u001b[0;34m\u001b[0m\u001b[0m\n\u001b[1;32m     59\u001b[0m         \u001b[0mfuncs\u001b[0m \u001b[0;34m=\u001b[0m \u001b[0;34m(\u001b[0m\u001b[0mtransform\u001b[0m\u001b[0;34m.\u001b[0m\u001b[0minverse\u001b[0m \u001b[0;32mfor\u001b[0m \u001b[0mtransform\u001b[0m \u001b[0;32min\u001b[0m \u001b[0mself\u001b[0m\u001b[0;34m.\u001b[0m\u001b[0m_transforms\u001b[0m\u001b[0;34m[\u001b[0m\u001b[0;34m:\u001b[0m\u001b[0;34m:\u001b[0m\u001b[0;34m-\u001b[0m\u001b[0;36m1\u001b[0m\u001b[0;34m]\u001b[0m\u001b[0;34m)\u001b[0m\u001b[0;34m\u001b[0m\u001b[0;34m\u001b[0m\u001b[0m\n\u001b[0;32m---> 60\u001b[0;31m         \u001b[0;32mreturn\u001b[0m \u001b[0mself\u001b[0m\u001b[0;34m.\u001b[0m\u001b[0m_cascade\u001b[0m\u001b[0;34m(\u001b[0m\u001b[0minputs\u001b[0m\u001b[0;34m,\u001b[0m \u001b[0mfuncs\u001b[0m\u001b[0;34m,\u001b[0m \u001b[0mcontext\u001b[0m\u001b[0;34m)\u001b[0m\u001b[0;34m\u001b[0m\u001b[0;34m\u001b[0m\u001b[0m\n\u001b[0m\u001b[1;32m     61\u001b[0m \u001b[0;34m\u001b[0m\u001b[0m\n\u001b[1;32m     62\u001b[0m \u001b[0;34m\u001b[0m\u001b[0m\n",
      "\u001b[0;32m~/miniconda3/lib/python3.9/site-packages/nflows/transforms/base.py\u001b[0m in \u001b[0;36m_cascade\u001b[0;34m(inputs, funcs, context)\u001b[0m\n\u001b[1;32m     48\u001b[0m         \u001b[0mtotal_logabsdet\u001b[0m \u001b[0;34m=\u001b[0m \u001b[0minputs\u001b[0m\u001b[0;34m.\u001b[0m\u001b[0mnew_zeros\u001b[0m\u001b[0;34m(\u001b[0m\u001b[0mbatch_size\u001b[0m\u001b[0;34m)\u001b[0m\u001b[0;34m\u001b[0m\u001b[0;34m\u001b[0m\u001b[0m\n\u001b[1;32m     49\u001b[0m         \u001b[0;32mfor\u001b[0m \u001b[0mfunc\u001b[0m \u001b[0;32min\u001b[0m \u001b[0mfuncs\u001b[0m\u001b[0;34m:\u001b[0m\u001b[0;34m\u001b[0m\u001b[0;34m\u001b[0m\u001b[0m\n\u001b[0;32m---> 50\u001b[0;31m             \u001b[0moutputs\u001b[0m\u001b[0;34m,\u001b[0m \u001b[0mlogabsdet\u001b[0m \u001b[0;34m=\u001b[0m \u001b[0mfunc\u001b[0m\u001b[0;34m(\u001b[0m\u001b[0moutputs\u001b[0m\u001b[0;34m,\u001b[0m \u001b[0mcontext\u001b[0m\u001b[0;34m)\u001b[0m\u001b[0;34m\u001b[0m\u001b[0;34m\u001b[0m\u001b[0m\n\u001b[0m\u001b[1;32m     51\u001b[0m             \u001b[0mtotal_logabsdet\u001b[0m \u001b[0;34m+=\u001b[0m \u001b[0mlogabsdet\u001b[0m\u001b[0;34m\u001b[0m\u001b[0;34m\u001b[0m\u001b[0m\n\u001b[1;32m     52\u001b[0m         \u001b[0;32mreturn\u001b[0m \u001b[0moutputs\u001b[0m\u001b[0;34m,\u001b[0m \u001b[0mtotal_logabsdet\u001b[0m\u001b[0;34m\u001b[0m\u001b[0;34m\u001b[0m\u001b[0m\n",
      "\u001b[0;32m~/miniconda3/lib/python3.9/site-packages/nflows/transforms/base.py\u001b[0m in \u001b[0;36minverse\u001b[0;34m(self, inputs, context)\u001b[0m\n\u001b[1;32m     58\u001b[0m     \u001b[0;32mdef\u001b[0m \u001b[0minverse\u001b[0m\u001b[0;34m(\u001b[0m\u001b[0mself\u001b[0m\u001b[0;34m,\u001b[0m \u001b[0minputs\u001b[0m\u001b[0;34m,\u001b[0m \u001b[0mcontext\u001b[0m\u001b[0;34m=\u001b[0m\u001b[0;32mNone\u001b[0m\u001b[0;34m)\u001b[0m\u001b[0;34m:\u001b[0m\u001b[0;34m\u001b[0m\u001b[0;34m\u001b[0m\u001b[0m\n\u001b[1;32m     59\u001b[0m         \u001b[0mfuncs\u001b[0m \u001b[0;34m=\u001b[0m \u001b[0;34m(\u001b[0m\u001b[0mtransform\u001b[0m\u001b[0;34m.\u001b[0m\u001b[0minverse\u001b[0m \u001b[0;32mfor\u001b[0m \u001b[0mtransform\u001b[0m \u001b[0;32min\u001b[0m \u001b[0mself\u001b[0m\u001b[0;34m.\u001b[0m\u001b[0m_transforms\u001b[0m\u001b[0;34m[\u001b[0m\u001b[0;34m:\u001b[0m\u001b[0;34m:\u001b[0m\u001b[0;34m-\u001b[0m\u001b[0;36m1\u001b[0m\u001b[0;34m]\u001b[0m\u001b[0;34m)\u001b[0m\u001b[0;34m\u001b[0m\u001b[0;34m\u001b[0m\u001b[0m\n\u001b[0;32m---> 60\u001b[0;31m         \u001b[0;32mreturn\u001b[0m \u001b[0mself\u001b[0m\u001b[0;34m.\u001b[0m\u001b[0m_cascade\u001b[0m\u001b[0;34m(\u001b[0m\u001b[0minputs\u001b[0m\u001b[0;34m,\u001b[0m \u001b[0mfuncs\u001b[0m\u001b[0;34m,\u001b[0m \u001b[0mcontext\u001b[0m\u001b[0;34m)\u001b[0m\u001b[0;34m\u001b[0m\u001b[0;34m\u001b[0m\u001b[0m\n\u001b[0m\u001b[1;32m     61\u001b[0m \u001b[0;34m\u001b[0m\u001b[0m\n\u001b[1;32m     62\u001b[0m \u001b[0;34m\u001b[0m\u001b[0m\n",
      "\u001b[0;32m~/miniconda3/lib/python3.9/site-packages/nflows/transforms/base.py\u001b[0m in \u001b[0;36m_cascade\u001b[0;34m(inputs, funcs, context)\u001b[0m\n\u001b[1;32m     48\u001b[0m         \u001b[0mtotal_logabsdet\u001b[0m \u001b[0;34m=\u001b[0m \u001b[0minputs\u001b[0m\u001b[0;34m.\u001b[0m\u001b[0mnew_zeros\u001b[0m\u001b[0;34m(\u001b[0m\u001b[0mbatch_size\u001b[0m\u001b[0;34m)\u001b[0m\u001b[0;34m\u001b[0m\u001b[0;34m\u001b[0m\u001b[0m\n\u001b[1;32m     49\u001b[0m         \u001b[0;32mfor\u001b[0m \u001b[0mfunc\u001b[0m \u001b[0;32min\u001b[0m \u001b[0mfuncs\u001b[0m\u001b[0;34m:\u001b[0m\u001b[0;34m\u001b[0m\u001b[0;34m\u001b[0m\u001b[0m\n\u001b[0;32m---> 50\u001b[0;31m             \u001b[0moutputs\u001b[0m\u001b[0;34m,\u001b[0m \u001b[0mlogabsdet\u001b[0m \u001b[0;34m=\u001b[0m \u001b[0mfunc\u001b[0m\u001b[0;34m(\u001b[0m\u001b[0moutputs\u001b[0m\u001b[0;34m,\u001b[0m \u001b[0mcontext\u001b[0m\u001b[0;34m)\u001b[0m\u001b[0;34m\u001b[0m\u001b[0;34m\u001b[0m\u001b[0m\n\u001b[0m\u001b[1;32m     51\u001b[0m             \u001b[0mtotal_logabsdet\u001b[0m \u001b[0;34m+=\u001b[0m \u001b[0mlogabsdet\u001b[0m\u001b[0;34m\u001b[0m\u001b[0;34m\u001b[0m\u001b[0m\n\u001b[1;32m     52\u001b[0m         \u001b[0;32mreturn\u001b[0m \u001b[0moutputs\u001b[0m\u001b[0;34m,\u001b[0m \u001b[0mtotal_logabsdet\u001b[0m\u001b[0;34m\u001b[0m\u001b[0;34m\u001b[0m\u001b[0m\n",
      "\u001b[0;32m~/miniconda3/lib/python3.9/site-packages/nflows/transforms/coupling.py\u001b[0m in \u001b[0;36minverse\u001b[0;34m(self, inputs, context)\u001b[0m\n\u001b[1;32m    117\u001b[0m \u001b[0;34m\u001b[0m\u001b[0m\n\u001b[1;32m    118\u001b[0m         \u001b[0mtransform_params\u001b[0m \u001b[0;34m=\u001b[0m \u001b[0mself\u001b[0m\u001b[0;34m.\u001b[0m\u001b[0mtransform_net\u001b[0m\u001b[0;34m(\u001b[0m\u001b[0midentity_split\u001b[0m\u001b[0;34m,\u001b[0m \u001b[0mcontext\u001b[0m\u001b[0;34m)\u001b[0m\u001b[0;34m\u001b[0m\u001b[0;34m\u001b[0m\u001b[0m\n\u001b[0;32m--> 119\u001b[0;31m         transform_split, logabsdet_split = self._coupling_transform_inverse(\n\u001b[0m\u001b[1;32m    120\u001b[0m             \u001b[0minputs\u001b[0m\u001b[0;34m=\u001b[0m\u001b[0mtransform_split\u001b[0m\u001b[0;34m,\u001b[0m \u001b[0mtransform_params\u001b[0m\u001b[0;34m=\u001b[0m\u001b[0mtransform_params\u001b[0m\u001b[0;34m\u001b[0m\u001b[0;34m\u001b[0m\u001b[0m\n\u001b[1;32m    121\u001b[0m         )\n",
      "\u001b[0;32m~/miniconda3/lib/python3.9/site-packages/nflows/transforms/coupling.py\u001b[0m in \u001b[0;36m_coupling_transform_inverse\u001b[0;34m(self, inputs, transform_params)\u001b[0m\n\u001b[1;32m    195\u001b[0m \u001b[0;34m\u001b[0m\u001b[0m\n\u001b[1;32m    196\u001b[0m     \u001b[0;32mdef\u001b[0m \u001b[0m_coupling_transform_inverse\u001b[0m\u001b[0;34m(\u001b[0m\u001b[0mself\u001b[0m\u001b[0;34m,\u001b[0m \u001b[0minputs\u001b[0m\u001b[0;34m,\u001b[0m \u001b[0mtransform_params\u001b[0m\u001b[0;34m)\u001b[0m\u001b[0;34m:\u001b[0m\u001b[0;34m\u001b[0m\u001b[0;34m\u001b[0m\u001b[0m\n\u001b[0;32m--> 197\u001b[0;31m         \u001b[0;32mreturn\u001b[0m \u001b[0mself\u001b[0m\u001b[0;34m.\u001b[0m\u001b[0m_coupling_transform\u001b[0m\u001b[0;34m(\u001b[0m\u001b[0minputs\u001b[0m\u001b[0;34m,\u001b[0m \u001b[0mtransform_params\u001b[0m\u001b[0;34m,\u001b[0m \u001b[0minverse\u001b[0m\u001b[0;34m=\u001b[0m\u001b[0;32mTrue\u001b[0m\u001b[0;34m)\u001b[0m\u001b[0;34m\u001b[0m\u001b[0;34m\u001b[0m\u001b[0m\n\u001b[0m\u001b[1;32m    198\u001b[0m \u001b[0;34m\u001b[0m\u001b[0m\n\u001b[1;32m    199\u001b[0m     \u001b[0;32mdef\u001b[0m \u001b[0m_coupling_transform\u001b[0m\u001b[0;34m(\u001b[0m\u001b[0mself\u001b[0m\u001b[0;34m,\u001b[0m \u001b[0minputs\u001b[0m\u001b[0;34m,\u001b[0m \u001b[0mtransform_params\u001b[0m\u001b[0;34m,\u001b[0m \u001b[0minverse\u001b[0m\u001b[0;34m=\u001b[0m\u001b[0;32mFalse\u001b[0m\u001b[0;34m)\u001b[0m\u001b[0;34m:\u001b[0m\u001b[0;34m\u001b[0m\u001b[0;34m\u001b[0m\u001b[0m\n",
      "\u001b[0;32m~/miniconda3/lib/python3.9/site-packages/nflows/transforms/coupling.py\u001b[0m in \u001b[0;36m_coupling_transform\u001b[0;34m(self, inputs, transform_params, inverse)\u001b[0m\n\u001b[1;32m    209\u001b[0m             \u001b[0mtransform_params\u001b[0m \u001b[0;34m=\u001b[0m \u001b[0mtransform_params\u001b[0m\u001b[0;34m.\u001b[0m\u001b[0mreshape\u001b[0m\u001b[0;34m(\u001b[0m\u001b[0mb\u001b[0m\u001b[0;34m,\u001b[0m \u001b[0md\u001b[0m\u001b[0;34m,\u001b[0m \u001b[0;34m-\u001b[0m\u001b[0;36m1\u001b[0m\u001b[0;34m)\u001b[0m\u001b[0;34m\u001b[0m\u001b[0;34m\u001b[0m\u001b[0m\n\u001b[1;32m    210\u001b[0m \u001b[0;34m\u001b[0m\u001b[0m\n\u001b[0;32m--> 211\u001b[0;31m         \u001b[0moutputs\u001b[0m\u001b[0;34m,\u001b[0m \u001b[0mlogabsdet\u001b[0m \u001b[0;34m=\u001b[0m \u001b[0mself\u001b[0m\u001b[0;34m.\u001b[0m\u001b[0m_piecewise_cdf\u001b[0m\u001b[0;34m(\u001b[0m\u001b[0minputs\u001b[0m\u001b[0;34m,\u001b[0m \u001b[0mtransform_params\u001b[0m\u001b[0;34m,\u001b[0m \u001b[0minverse\u001b[0m\u001b[0;34m)\u001b[0m\u001b[0;34m\u001b[0m\u001b[0;34m\u001b[0m\u001b[0m\n\u001b[0m\u001b[1;32m    212\u001b[0m \u001b[0;34m\u001b[0m\u001b[0m\n\u001b[1;32m    213\u001b[0m         \u001b[0;32mreturn\u001b[0m \u001b[0moutputs\u001b[0m\u001b[0;34m,\u001b[0m \u001b[0mtorchutils\u001b[0m\u001b[0;34m.\u001b[0m\u001b[0msum_except_batch\u001b[0m\u001b[0;34m(\u001b[0m\u001b[0mlogabsdet\u001b[0m\u001b[0;34m)\u001b[0m\u001b[0;34m\u001b[0m\u001b[0;34m\u001b[0m\u001b[0m\n",
      "\u001b[0;32m~/miniconda3/lib/python3.9/site-packages/nflows/transforms/coupling.py\u001b[0m in \u001b[0;36m_piecewise_cdf\u001b[0;34m(self, inputs, transform_params, inverse)\u001b[0m\n\u001b[1;32m    490\u001b[0m             \u001b[0mspline_kwargs\u001b[0m \u001b[0;34m=\u001b[0m \u001b[0;34m{\u001b[0m\u001b[0;34m\"tails\"\u001b[0m\u001b[0;34m:\u001b[0m \u001b[0mself\u001b[0m\u001b[0;34m.\u001b[0m\u001b[0mtails\u001b[0m\u001b[0;34m,\u001b[0m \u001b[0;34m\"tail_bound\"\u001b[0m\u001b[0;34m:\u001b[0m \u001b[0mself\u001b[0m\u001b[0;34m.\u001b[0m\u001b[0mtail_bound\u001b[0m\u001b[0;34m}\u001b[0m\u001b[0;34m\u001b[0m\u001b[0;34m\u001b[0m\u001b[0m\n\u001b[1;32m    491\u001b[0m \u001b[0;34m\u001b[0m\u001b[0m\n\u001b[0;32m--> 492\u001b[0;31m         return spline_fn(\n\u001b[0m\u001b[1;32m    493\u001b[0m             \u001b[0minputs\u001b[0m\u001b[0;34m=\u001b[0m\u001b[0minputs\u001b[0m\u001b[0;34m,\u001b[0m\u001b[0;34m\u001b[0m\u001b[0;34m\u001b[0m\u001b[0m\n\u001b[1;32m    494\u001b[0m             \u001b[0munnormalized_widths\u001b[0m\u001b[0;34m=\u001b[0m\u001b[0munnormalized_widths\u001b[0m\u001b[0;34m,\u001b[0m\u001b[0;34m\u001b[0m\u001b[0;34m\u001b[0m\u001b[0m\n",
      "\u001b[0;32m~/miniconda3/lib/python3.9/site-packages/nflows/transforms/splines/rational_quadratic.py\u001b[0m in \u001b[0;36munconstrained_rational_quadratic_spline\u001b[0;34m(inputs, unnormalized_widths, unnormalized_heights, unnormalized_derivatives, inverse, tails, tail_bound, min_bin_width, min_bin_height, min_derivative)\u001b[0m\n\u001b[1;32m     44\u001b[0m             \u001b[0moutputs\u001b[0m\u001b[0;34m[\u001b[0m\u001b[0minside_interval_mask\u001b[0m\u001b[0;34m]\u001b[0m\u001b[0;34m,\u001b[0m\u001b[0;34m\u001b[0m\u001b[0;34m\u001b[0m\u001b[0m\n\u001b[1;32m     45\u001b[0m             \u001b[0mlogabsdet\u001b[0m\u001b[0;34m[\u001b[0m\u001b[0minside_interval_mask\u001b[0m\u001b[0;34m]\u001b[0m\u001b[0;34m,\u001b[0m\u001b[0;34m\u001b[0m\u001b[0;34m\u001b[0m\u001b[0m\n\u001b[0;32m---> 46\u001b[0;31m         \u001b[0;34m)\u001b[0m \u001b[0;34m=\u001b[0m \u001b[0mrational_quadratic_spline\u001b[0m\u001b[0;34m(\u001b[0m\u001b[0;34m\u001b[0m\u001b[0;34m\u001b[0m\u001b[0m\n\u001b[0m\u001b[1;32m     47\u001b[0m             \u001b[0minputs\u001b[0m\u001b[0;34m=\u001b[0m\u001b[0minputs\u001b[0m\u001b[0;34m[\u001b[0m\u001b[0minside_interval_mask\u001b[0m\u001b[0;34m]\u001b[0m\u001b[0;34m,\u001b[0m\u001b[0;34m\u001b[0m\u001b[0;34m\u001b[0m\u001b[0m\n\u001b[1;32m     48\u001b[0m             \u001b[0munnormalized_widths\u001b[0m\u001b[0;34m=\u001b[0m\u001b[0munnormalized_widths\u001b[0m\u001b[0;34m[\u001b[0m\u001b[0minside_interval_mask\u001b[0m\u001b[0;34m,\u001b[0m \u001b[0;34m:\u001b[0m\u001b[0;34m]\u001b[0m\u001b[0;34m,\u001b[0m\u001b[0;34m\u001b[0m\u001b[0;34m\u001b[0m\u001b[0m\n",
      "\u001b[0;32m~/miniconda3/lib/python3.9/site-packages/nflows/transforms/splines/rational_quadratic.py\u001b[0m in \u001b[0;36mrational_quadratic_spline\u001b[0;34m(inputs, unnormalized_widths, unnormalized_heights, unnormalized_derivatives, inverse, left, right, bottom, top, min_bin_width, min_bin_height, min_derivative)\u001b[0m\n\u001b[1;32m     89\u001b[0m     \u001b[0mwidths\u001b[0m \u001b[0;34m=\u001b[0m \u001b[0mmin_bin_width\u001b[0m \u001b[0;34m+\u001b[0m \u001b[0;34m(\u001b[0m\u001b[0;36m1\u001b[0m \u001b[0;34m-\u001b[0m \u001b[0mmin_bin_width\u001b[0m \u001b[0;34m*\u001b[0m \u001b[0mnum_bins\u001b[0m\u001b[0;34m)\u001b[0m \u001b[0;34m*\u001b[0m \u001b[0mwidths\u001b[0m\u001b[0;34m\u001b[0m\u001b[0;34m\u001b[0m\u001b[0m\n\u001b[1;32m     90\u001b[0m     \u001b[0mcumwidths\u001b[0m \u001b[0;34m=\u001b[0m \u001b[0mtorch\u001b[0m\u001b[0;34m.\u001b[0m\u001b[0mcumsum\u001b[0m\u001b[0;34m(\u001b[0m\u001b[0mwidths\u001b[0m\u001b[0;34m,\u001b[0m \u001b[0mdim\u001b[0m\u001b[0;34m=\u001b[0m\u001b[0;34m-\u001b[0m\u001b[0;36m1\u001b[0m\u001b[0;34m)\u001b[0m\u001b[0;34m\u001b[0m\u001b[0;34m\u001b[0m\u001b[0m\n\u001b[0;32m---> 91\u001b[0;31m     \u001b[0mcumwidths\u001b[0m \u001b[0;34m=\u001b[0m \u001b[0mF\u001b[0m\u001b[0;34m.\u001b[0m\u001b[0mpad\u001b[0m\u001b[0;34m(\u001b[0m\u001b[0mcumwidths\u001b[0m\u001b[0;34m,\u001b[0m \u001b[0mpad\u001b[0m\u001b[0;34m=\u001b[0m\u001b[0;34m(\u001b[0m\u001b[0;36m1\u001b[0m\u001b[0;34m,\u001b[0m \u001b[0;36m0\u001b[0m\u001b[0;34m)\u001b[0m\u001b[0;34m,\u001b[0m \u001b[0mmode\u001b[0m\u001b[0;34m=\u001b[0m\u001b[0;34m\"constant\"\u001b[0m\u001b[0;34m,\u001b[0m \u001b[0mvalue\u001b[0m\u001b[0;34m=\u001b[0m\u001b[0;36m0.0\u001b[0m\u001b[0;34m)\u001b[0m\u001b[0;34m\u001b[0m\u001b[0;34m\u001b[0m\u001b[0m\n\u001b[0m\u001b[1;32m     92\u001b[0m     \u001b[0mcumwidths\u001b[0m \u001b[0;34m=\u001b[0m \u001b[0;34m(\u001b[0m\u001b[0mright\u001b[0m \u001b[0;34m-\u001b[0m \u001b[0mleft\u001b[0m\u001b[0;34m)\u001b[0m \u001b[0;34m*\u001b[0m \u001b[0mcumwidths\u001b[0m \u001b[0;34m+\u001b[0m \u001b[0mleft\u001b[0m\u001b[0;34m\u001b[0m\u001b[0;34m\u001b[0m\u001b[0m\n\u001b[1;32m     93\u001b[0m     \u001b[0mcumwidths\u001b[0m\u001b[0;34m[\u001b[0m\u001b[0;34m...\u001b[0m\u001b[0;34m,\u001b[0m \u001b[0;36m0\u001b[0m\u001b[0;34m]\u001b[0m \u001b[0;34m=\u001b[0m \u001b[0mleft\u001b[0m\u001b[0;34m\u001b[0m\u001b[0;34m\u001b[0m\u001b[0m\n",
      "\u001b[0;32m~/miniconda3/lib/python3.9/site-packages/torch/nn/functional.py\u001b[0m in \u001b[0;36m_pad\u001b[0;34m(input, pad, mode, value)\u001b[0m\n\u001b[1;32m   4151\u001b[0m     \u001b[0;32massert\u001b[0m \u001b[0mlen\u001b[0m\u001b[0;34m(\u001b[0m\u001b[0mpad\u001b[0m\u001b[0;34m)\u001b[0m \u001b[0;34m//\u001b[0m \u001b[0;36m2\u001b[0m \u001b[0;34m<=\u001b[0m \u001b[0minput\u001b[0m\u001b[0;34m.\u001b[0m\u001b[0mdim\u001b[0m\u001b[0;34m(\u001b[0m\u001b[0;34m)\u001b[0m\u001b[0;34m,\u001b[0m \u001b[0;34m\"Padding length too large\"\u001b[0m\u001b[0;34m\u001b[0m\u001b[0;34m\u001b[0m\u001b[0m\n\u001b[1;32m   4152\u001b[0m     \u001b[0;32mif\u001b[0m \u001b[0mmode\u001b[0m \u001b[0;34m==\u001b[0m \u001b[0;34m\"constant\"\u001b[0m\u001b[0;34m:\u001b[0m\u001b[0;34m\u001b[0m\u001b[0;34m\u001b[0m\u001b[0m\n\u001b[0;32m-> 4153\u001b[0;31m         \u001b[0;32mreturn\u001b[0m \u001b[0m_VF\u001b[0m\u001b[0;34m.\u001b[0m\u001b[0mconstant_pad_nd\u001b[0m\u001b[0;34m(\u001b[0m\u001b[0minput\u001b[0m\u001b[0;34m,\u001b[0m \u001b[0mpad\u001b[0m\u001b[0;34m,\u001b[0m \u001b[0mvalue\u001b[0m\u001b[0;34m)\u001b[0m\u001b[0;34m\u001b[0m\u001b[0;34m\u001b[0m\u001b[0m\n\u001b[0m\u001b[1;32m   4154\u001b[0m     \u001b[0;32melse\u001b[0m\u001b[0;34m:\u001b[0m\u001b[0;34m\u001b[0m\u001b[0;34m\u001b[0m\u001b[0m\n\u001b[1;32m   4155\u001b[0m         \u001b[0;32massert\u001b[0m \u001b[0mvalue\u001b[0m \u001b[0;34m==\u001b[0m \u001b[0;36m0\u001b[0m\u001b[0;34m,\u001b[0m \u001b[0;34m'Padding mode \"{}\"\" doesn\\'t take in value argument'\u001b[0m\u001b[0;34m.\u001b[0m\u001b[0mformat\u001b[0m\u001b[0;34m(\u001b[0m\u001b[0mmode\u001b[0m\u001b[0;34m)\u001b[0m\u001b[0;34m\u001b[0m\u001b[0;34m\u001b[0m\u001b[0m\n",
      "\u001b[0;31mKeyboardInterrupt\u001b[0m: "
     ]
    }
   ],
   "source": [
    "list_collection = []\n",
    "\n",
    "obs_real = Gaussian(true_thetas[0])\n",
    "\n",
    "for i in range(1):\n",
    "    \n",
    "\n",
    "    posterior_snpe_list = []\n",
    "\n",
    "    for num_simulations in num_simulations_list:\n",
    "        \n",
    "        prior = utils.torchutils.BoxUniform(low=prior_min, high = prior_max)\n",
    "        simulator_stats, prior = prepare_for_sbi(Gaussian, prior)\n",
    "        \n",
    "        inf = SNPE_C(prior, density_estimator=\"nsf\")\n",
    "        \n",
    "        proposal = prior\n",
    "\n",
    "        for j in range(3):\n",
    "            \n",
    "            theta, x = simulate_for_sbi(\n",
    "                simulator_stats,\n",
    "                proposal=proposal,\n",
    "                num_simulations=num_simulations,\n",
    "                num_workers=8,\n",
    "            )\n",
    "            \n",
    "            print('x', x)\n",
    "\n",
    "            neural_dens = inf.append_simulations(theta, x, proposal=proposal).train()\n",
    "\n",
    "\n",
    "            posterior = inf.build_posterior(neural_dens)\n",
    "\n",
    "\n",
    "\n",
    "            proposal = posterior.set_default_x(obs_real)\n",
    "\n",
    "\n",
    "        posterior_snpe = posterior\n",
    "\n",
    "        posterior_snpe_list.append(posterior_snpe)\n",
    "        \n",
    "    list_collection.append(posterior_snpe_list)"
   ]
  },
  {
   "cell_type": "code",
   "execution_count": 7,
   "id": "dad8de51",
   "metadata": {},
   "outputs": [],
   "source": [
    "torch.save(list_collection, 'list_collection.pt')"
   ]
  },
  {
   "cell_type": "code",
   "execution_count": 8,
   "id": "c12ef0b2",
   "metadata": {},
   "outputs": [],
   "source": [
    "list_collection = torch.load('list_collection.pt')"
   ]
  },
  {
   "cell_type": "code",
   "execution_count": 9,
   "id": "1955e8a9",
   "metadata": {},
   "outputs": [
    {
     "data": {
      "text/plain": [
       "[[DirectPosterior sampler for potential_fn=<PosteriorBasedPotential>,\n",
       "  DirectPosterior sampler for potential_fn=<PosteriorBasedPotential>,\n",
       "  DirectPosterior sampler for potential_fn=<PosteriorBasedPotential>,\n",
       "  DirectPosterior sampler for potential_fn=<PosteriorBasedPotential>,\n",
       "  DirectPosterior sampler for potential_fn=<PosteriorBasedPotential>],\n",
       " [DirectPosterior sampler for potential_fn=<PosteriorBasedPotential>,\n",
       "  DirectPosterior sampler for potential_fn=<PosteriorBasedPotential>,\n",
       "  DirectPosterior sampler for potential_fn=<PosteriorBasedPotential>,\n",
       "  DirectPosterior sampler for potential_fn=<PosteriorBasedPotential>,\n",
       "  DirectPosterior sampler for potential_fn=<PosteriorBasedPotential>],\n",
       " [DirectPosterior sampler for potential_fn=<PosteriorBasedPotential>,\n",
       "  DirectPosterior sampler for potential_fn=<PosteriorBasedPotential>,\n",
       "  DirectPosterior sampler for potential_fn=<PosteriorBasedPotential>,\n",
       "  DirectPosterior sampler for potential_fn=<PosteriorBasedPotential>,\n",
       "  DirectPosterior sampler for potential_fn=<PosteriorBasedPotential>],\n",
       " [DirectPosterior sampler for potential_fn=<PosteriorBasedPotential>,\n",
       "  DirectPosterior sampler for potential_fn=<PosteriorBasedPotential>,\n",
       "  DirectPosterior sampler for potential_fn=<PosteriorBasedPotential>,\n",
       "  DirectPosterior sampler for potential_fn=<PosteriorBasedPotential>,\n",
       "  DirectPosterior sampler for potential_fn=<PosteriorBasedPotential>],\n",
       " [DirectPosterior sampler for potential_fn=<PosteriorBasedPotential>,\n",
       "  DirectPosterior sampler for potential_fn=<PosteriorBasedPotential>,\n",
       "  DirectPosterior sampler for potential_fn=<PosteriorBasedPotential>,\n",
       "  DirectPosterior sampler for potential_fn=<PosteriorBasedPotential>,\n",
       "  DirectPosterior sampler for potential_fn=<PosteriorBasedPotential>]]"
      ]
     },
     "execution_count": 9,
     "metadata": {},
     "output_type": "execute_result"
    }
   ],
   "source": [
    "list_collection"
   ]
  },
  {
   "cell_type": "markdown",
   "id": "cf8a483f",
   "metadata": {},
   "source": [
    "### For incremental approach: "
   ]
  },
  {
   "cell_type": "code",
   "execution_count": 20,
   "id": "047f28ad",
   "metadata": {},
   "outputs": [
    {
     "name": "stdout",
     "output_type": "stream",
     "text": [
      "5 10\n"
     ]
    },
    {
     "data": {
      "application/vnd.jupyter.widget-view+json": {
       "model_id": "c5331eb1e3d543ce95190c8fe79b670e",
       "version_major": 2,
       "version_minor": 0
      },
      "text/plain": [
       "Running 100 simulations in 100 batches.:   0%|          | 0/100 [00:00<?, ?it/s]"
      ]
     },
     "metadata": {},
     "output_type": "display_data"
    },
    {
     "name": "stdout",
     "output_type": "stream",
     "text": [
      "Neural network successfully converged after 216 epochs.\n"
     ]
    },
    {
     "data": {
      "application/vnd.jupyter.widget-view+json": {
       "model_id": "2d1ca0d9cd514512badfcc4a1a9fb108",
       "version_major": 2,
       "version_minor": 0
      },
      "text/plain": [
       "Drawing 1 posterior samples:   0%|          | 0/1 [00:00<?, ?it/s]"
      ]
     },
     "metadata": {},
     "output_type": "display_data"
    },
    {
     "name": "stdout",
     "output_type": "stream",
     "text": [
      "took  0:00:07.359680  for this step\n",
      "10 15\n"
     ]
    },
    {
     "data": {
      "application/vnd.jupyter.widget-view+json": {
       "model_id": "a85d49ad1e554b7095e275e5f710e364",
       "version_major": 2,
       "version_minor": 0
      },
      "text/plain": [
       "Drawing 100 posterior samples:   0%|          | 0/100 [00:00<?, ?it/s]"
      ]
     },
     "metadata": {},
     "output_type": "display_data"
    },
    {
     "data": {
      "application/vnd.jupyter.widget-view+json": {
       "model_id": "2ba2c0f6668d4d5f84ce4b1508fa23ff",
       "version_major": 2,
       "version_minor": 0
      },
      "text/plain": [
       "Running 100 simulations in 100 batches.:   0%|          | 0/100 [00:00<?, ?it/s]"
      ]
     },
     "metadata": {},
     "output_type": "display_data"
    },
    {
     "name": "stdout",
     "output_type": "stream",
     "text": [
      "Neural network successfully converged after 92 epochs.\n"
     ]
    },
    {
     "data": {
      "application/vnd.jupyter.widget-view+json": {
       "model_id": "11e6aecab315483d86daae4cb34c8fe7",
       "version_major": 2,
       "version_minor": 0
      },
      "text/plain": [
       "Drawing 1 posterior samples:   0%|          | 0/1 [00:00<?, ?it/s]"
      ]
     },
     "metadata": {},
     "output_type": "display_data"
    },
    {
     "name": "stdout",
     "output_type": "stream",
     "text": [
      "took  0:00:03.828625  for this step\n"
     ]
    },
    {
     "data": {
      "application/vnd.jupyter.widget-view+json": {
       "model_id": "17facabb92a940de8d234dfa260b039f",
       "version_major": 2,
       "version_minor": 0
      },
      "text/plain": [
       "Drawing 190 posterior samples:   0%|          | 0/190 [00:00<?, ?it/s]"
      ]
     },
     "metadata": {},
     "output_type": "display_data"
    },
    {
     "data": {
      "application/vnd.jupyter.widget-view+json": {
       "model_id": "006fc348ba0948fc9169dbe2ad12e0c7",
       "version_major": 2,
       "version_minor": 0
      },
      "text/plain": [
       "Running 190 simulations in 190 batches.:   0%|          | 0/190 [00:00<?, ?it/s]"
      ]
     },
     "metadata": {},
     "output_type": "display_data"
    },
    {
     "name": "stdout",
     "output_type": "stream",
     "text": [
      "Neural network successfully converged after 49 epochs.\n",
      "5 10\n"
     ]
    },
    {
     "data": {
      "application/vnd.jupyter.widget-view+json": {
       "model_id": "f130800cca1c45baa02ab378349c4585",
       "version_major": 2,
       "version_minor": 0
      },
      "text/plain": [
       "Running 200 simulations in 200 batches.:   0%|          | 0/200 [00:00<?, ?it/s]"
      ]
     },
     "metadata": {},
     "output_type": "display_data"
    },
    {
     "name": "stdout",
     "output_type": "stream",
     "text": [
      "Neural network successfully converged after 139 epochs.\n"
     ]
    },
    {
     "data": {
      "application/vnd.jupyter.widget-view+json": {
       "model_id": "244c2a402c4b402e9e25f5dc1665a11f",
       "version_major": 2,
       "version_minor": 0
      },
      "text/plain": [
       "Drawing 1 posterior samples:   0%|          | 0/1 [00:00<?, ?it/s]"
      ]
     },
     "metadata": {},
     "output_type": "display_data"
    },
    {
     "name": "stdout",
     "output_type": "stream",
     "text": [
      "took  0:00:11.508393  for this step\n",
      "10 15\n"
     ]
    },
    {
     "data": {
      "application/vnd.jupyter.widget-view+json": {
       "model_id": "e5022912a3594301ad31ba49a06fa63b",
       "version_major": 2,
       "version_minor": 0
      },
      "text/plain": [
       "Drawing 200 posterior samples:   0%|          | 0/200 [00:00<?, ?it/s]"
      ]
     },
     "metadata": {},
     "output_type": "display_data"
    },
    {
     "data": {
      "application/vnd.jupyter.widget-view+json": {
       "model_id": "9a35e69491a840c39638c13105625e89",
       "version_major": 2,
       "version_minor": 0
      },
      "text/plain": [
       "Running 200 simulations in 200 batches.:   0%|          | 0/200 [00:00<?, ?it/s]"
      ]
     },
     "metadata": {},
     "output_type": "display_data"
    },
    {
     "name": "stdout",
     "output_type": "stream",
     "text": [
      "Neural network successfully converged after 117 epochs.\n"
     ]
    },
    {
     "data": {
      "application/vnd.jupyter.widget-view+json": {
       "model_id": "cc3b956a27864b6fb5b3e91ad2fb54be",
       "version_major": 2,
       "version_minor": 0
      },
      "text/plain": [
       "Drawing 1 posterior samples:   0%|          | 0/1 [00:00<?, ?it/s]"
      ]
     },
     "metadata": {},
     "output_type": "display_data"
    },
    {
     "name": "stdout",
     "output_type": "stream",
     "text": [
      "took  0:00:10.618809  for this step\n"
     ]
    },
    {
     "data": {
      "application/vnd.jupyter.widget-view+json": {
       "model_id": "87cde7802aaa449793edf9a5050a4ed8",
       "version_major": 2,
       "version_minor": 0
      },
      "text/plain": [
       "Drawing 380 posterior samples:   0%|          | 0/380 [00:00<?, ?it/s]"
      ]
     },
     "metadata": {},
     "output_type": "display_data"
    },
    {
     "data": {
      "application/vnd.jupyter.widget-view+json": {
       "model_id": "34b9ba6960804afba4c8e013d426107e",
       "version_major": 2,
       "version_minor": 0
      },
      "text/plain": [
       "Running 380 simulations in 380 batches.:   0%|          | 0/380 [00:00<?, ?it/s]"
      ]
     },
     "metadata": {},
     "output_type": "display_data"
    },
    {
     "name": "stdout",
     "output_type": "stream",
     "text": [
      "Neural network successfully converged after 119 epochs.\n",
      "5 10\n"
     ]
    },
    {
     "data": {
      "application/vnd.jupyter.widget-view+json": {
       "model_id": "1e9ba7eb65db426388dc53f48fdb4235",
       "version_major": 2,
       "version_minor": 0
      },
      "text/plain": [
       "Running 100 simulations in 100 batches.:   0%|          | 0/100 [00:00<?, ?it/s]"
      ]
     },
     "metadata": {},
     "output_type": "display_data"
    },
    {
     "name": "stdout",
     "output_type": "stream",
     "text": [
      "Neural network successfully converged after 150 epochs.\n"
     ]
    },
    {
     "data": {
      "application/vnd.jupyter.widget-view+json": {
       "model_id": "f50eab702d18422f9d036ebdc43316c1",
       "version_major": 2,
       "version_minor": 0
      },
      "text/plain": [
       "Drawing 1 posterior samples:   0%|          | 0/1 [00:00<?, ?it/s]"
      ]
     },
     "metadata": {},
     "output_type": "display_data"
    },
    {
     "name": "stdout",
     "output_type": "stream",
     "text": [
      "took  0:00:04.858725  for this step\n",
      "10 15\n"
     ]
    },
    {
     "data": {
      "application/vnd.jupyter.widget-view+json": {
       "model_id": "9670234a583c46d480c821202b81078e",
       "version_major": 2,
       "version_minor": 0
      },
      "text/plain": [
       "Drawing 100 posterior samples:   0%|          | 0/100 [00:00<?, ?it/s]"
      ]
     },
     "metadata": {},
     "output_type": "display_data"
    },
    {
     "data": {
      "application/vnd.jupyter.widget-view+json": {
       "model_id": "6a43b908db864107b4f52fc59f36e755",
       "version_major": 2,
       "version_minor": 0
      },
      "text/plain": [
       "Running 100 simulations in 100 batches.:   0%|          | 0/100 [00:00<?, ?it/s]"
      ]
     },
     "metadata": {},
     "output_type": "display_data"
    },
    {
     "name": "stdout",
     "output_type": "stream",
     "text": [
      "Neural network successfully converged after 103 epochs.\n"
     ]
    },
    {
     "data": {
      "application/vnd.jupyter.widget-view+json": {
       "model_id": "94d1f1339557483ba1014f6f567fef63",
       "version_major": 2,
       "version_minor": 0
      },
      "text/plain": [
       "Drawing 1 posterior samples:   0%|          | 0/1 [00:00<?, ?it/s]"
      ]
     },
     "metadata": {},
     "output_type": "display_data"
    },
    {
     "name": "stdout",
     "output_type": "stream",
     "text": [
      "took  0:00:04.441358  for this step\n"
     ]
    },
    {
     "data": {
      "application/vnd.jupyter.widget-view+json": {
       "model_id": "f1c1ed6d5dd2432bbdec9362f4bf4538",
       "version_major": 2,
       "version_minor": 0
      },
      "text/plain": [
       "Drawing 190 posterior samples:   0%|          | 0/190 [00:00<?, ?it/s]"
      ]
     },
     "metadata": {},
     "output_type": "display_data"
    },
    {
     "data": {
      "application/vnd.jupyter.widget-view+json": {
       "model_id": "8320e00f7a534ea1bd27623ee809f59e",
       "version_major": 2,
       "version_minor": 0
      },
      "text/plain": [
       "Running 190 simulations in 190 batches.:   0%|          | 0/190 [00:00<?, ?it/s]"
      ]
     },
     "metadata": {},
     "output_type": "display_data"
    },
    {
     "name": "stdout",
     "output_type": "stream",
     "text": [
      "Neural network successfully converged after 53 epochs.\n",
      "5 10\n"
     ]
    },
    {
     "data": {
      "application/vnd.jupyter.widget-view+json": {
       "model_id": "b705c0d3222f46b29412ce8c57668dbd",
       "version_major": 2,
       "version_minor": 0
      },
      "text/plain": [
       "Running 200 simulations in 200 batches.:   0%|          | 0/200 [00:00<?, ?it/s]"
      ]
     },
     "metadata": {},
     "output_type": "display_data"
    },
    {
     "name": "stdout",
     "output_type": "stream",
     "text": [
      "Neural network successfully converged after 113 epochs.\n"
     ]
    },
    {
     "data": {
      "application/vnd.jupyter.widget-view+json": {
       "model_id": "5e23223370e240599277fbcd7fcff632",
       "version_major": 2,
       "version_minor": 0
      },
      "text/plain": [
       "Drawing 1 posterior samples:   0%|          | 0/1 [00:00<?, ?it/s]"
      ]
     },
     "metadata": {},
     "output_type": "display_data"
    },
    {
     "name": "stdout",
     "output_type": "stream",
     "text": [
      "took  0:00:09.573190  for this step\n",
      "10 15\n"
     ]
    },
    {
     "data": {
      "application/vnd.jupyter.widget-view+json": {
       "model_id": "becdeb54747641668e16726c76b6b03b",
       "version_major": 2,
       "version_minor": 0
      },
      "text/plain": [
       "Drawing 200 posterior samples:   0%|          | 0/200 [00:00<?, ?it/s]"
      ]
     },
     "metadata": {},
     "output_type": "display_data"
    },
    {
     "data": {
      "application/vnd.jupyter.widget-view+json": {
       "model_id": "7aa0c3260aa84b7c8d9c0181ec63ad2f",
       "version_major": 2,
       "version_minor": 0
      },
      "text/plain": [
       "Running 200 simulations in 200 batches.:   0%|          | 0/200 [00:00<?, ?it/s]"
      ]
     },
     "metadata": {},
     "output_type": "display_data"
    },
    {
     "name": "stdout",
     "output_type": "stream",
     "text": [
      "Neural network successfully converged after 135 epochs.\n"
     ]
    },
    {
     "data": {
      "application/vnd.jupyter.widget-view+json": {
       "model_id": "3dcfe6d79fab4884b54ab2f191e1e76b",
       "version_major": 2,
       "version_minor": 0
      },
      "text/plain": [
       "Drawing 1 posterior samples:   0%|          | 0/1 [00:00<?, ?it/s]"
      ]
     },
     "metadata": {},
     "output_type": "display_data"
    },
    {
     "name": "stdout",
     "output_type": "stream",
     "text": [
      "took  0:00:11.966461  for this step\n"
     ]
    },
    {
     "data": {
      "application/vnd.jupyter.widget-view+json": {
       "model_id": "4b24bbcd4d33460cbaa1aaa577c5cb67",
       "version_major": 2,
       "version_minor": 0
      },
      "text/plain": [
       "Drawing 380 posterior samples:   0%|          | 0/380 [00:00<?, ?it/s]"
      ]
     },
     "metadata": {},
     "output_type": "display_data"
    },
    {
     "data": {
      "application/vnd.jupyter.widget-view+json": {
       "model_id": "0275ca2f8c634274aafc11c40fa65a05",
       "version_major": 2,
       "version_minor": 0
      },
      "text/plain": [
       "Running 380 simulations in 380 batches.:   0%|          | 0/380 [00:00<?, ?it/s]"
      ]
     },
     "metadata": {},
     "output_type": "display_data"
    },
    {
     "name": "stdout",
     "output_type": "stream",
     "text": [
      "Neural network successfully converged after 116 epochs.\n",
      "5 10\n"
     ]
    },
    {
     "data": {
      "application/vnd.jupyter.widget-view+json": {
       "model_id": "0a6236362b1141b5aee8f6a7bf19d4fe",
       "version_major": 2,
       "version_minor": 0
      },
      "text/plain": [
       "Running 100 simulations in 100 batches.:   0%|          | 0/100 [00:00<?, ?it/s]"
      ]
     },
     "metadata": {},
     "output_type": "display_data"
    },
    {
     "name": "stdout",
     "output_type": "stream",
     "text": [
      "Neural network successfully converged after 204 epochs.\n"
     ]
    },
    {
     "data": {
      "application/vnd.jupyter.widget-view+json": {
       "model_id": "18528f8e92944993889ff447d4bf15d7",
       "version_major": 2,
       "version_minor": 0
      },
      "text/plain": [
       "Drawing 1 posterior samples:   0%|          | 0/1 [00:00<?, ?it/s]"
      ]
     },
     "metadata": {},
     "output_type": "display_data"
    },
    {
     "name": "stdout",
     "output_type": "stream",
     "text": [
      "took  0:00:06.978519  for this step\n",
      "10 15\n"
     ]
    },
    {
     "data": {
      "application/vnd.jupyter.widget-view+json": {
       "model_id": "31f003633df440b9bad23205365c5bb4",
       "version_major": 2,
       "version_minor": 0
      },
      "text/plain": [
       "Drawing 100 posterior samples:   0%|          | 0/100 [00:00<?, ?it/s]"
      ]
     },
     "metadata": {},
     "output_type": "display_data"
    },
    {
     "data": {
      "application/vnd.jupyter.widget-view+json": {
       "model_id": "1a4178e615974102a2f0ce61dbbe761a",
       "version_major": 2,
       "version_minor": 0
      },
      "text/plain": [
       "Running 100 simulations in 100 batches.:   0%|          | 0/100 [00:00<?, ?it/s]"
      ]
     },
     "metadata": {},
     "output_type": "display_data"
    },
    {
     "name": "stdout",
     "output_type": "stream",
     "text": [
      "Neural network successfully converged after 88 epochs.\n"
     ]
    },
    {
     "data": {
      "application/vnd.jupyter.widget-view+json": {
       "model_id": "a5701204cb694066be6ab4a17ecac781",
       "version_major": 2,
       "version_minor": 0
      },
      "text/plain": [
       "Drawing 1 posterior samples:   0%|          | 0/1 [00:00<?, ?it/s]"
      ]
     },
     "metadata": {},
     "output_type": "display_data"
    },
    {
     "name": "stdout",
     "output_type": "stream",
     "text": [
      "took  0:00:03.809628  for this step\n"
     ]
    },
    {
     "data": {
      "application/vnd.jupyter.widget-view+json": {
       "model_id": "98e5084ea6874affbe254669ac82bfd7",
       "version_major": 2,
       "version_minor": 0
      },
      "text/plain": [
       "Drawing 190 posterior samples:   0%|          | 0/190 [00:00<?, ?it/s]"
      ]
     },
     "metadata": {},
     "output_type": "display_data"
    },
    {
     "data": {
      "application/vnd.jupyter.widget-view+json": {
       "model_id": "2fa31f95775f446c894b474f21750528",
       "version_major": 2,
       "version_minor": 0
      },
      "text/plain": [
       "Running 190 simulations in 190 batches.:   0%|          | 0/190 [00:00<?, ?it/s]"
      ]
     },
     "metadata": {},
     "output_type": "display_data"
    },
    {
     "name": "stdout",
     "output_type": "stream",
     "text": [
      "Neural network successfully converged after 80 epochs.\n",
      "5 10\n"
     ]
    },
    {
     "data": {
      "application/vnd.jupyter.widget-view+json": {
       "model_id": "a6cf332fc1f14cd0a4cea69ef70d61f9",
       "version_major": 2,
       "version_minor": 0
      },
      "text/plain": [
       "Running 200 simulations in 200 batches.:   0%|          | 0/200 [00:00<?, ?it/s]"
      ]
     },
     "metadata": {},
     "output_type": "display_data"
    },
    {
     "name": "stdout",
     "output_type": "stream",
     "text": [
      "Neural network successfully converged after 123 epochs.\n"
     ]
    },
    {
     "data": {
      "application/vnd.jupyter.widget-view+json": {
       "model_id": "d96fd82dc66b4755901a714488610d4f",
       "version_major": 2,
       "version_minor": 0
      },
      "text/plain": [
       "Drawing 1 posterior samples:   0%|          | 0/1 [00:00<?, ?it/s]"
      ]
     },
     "metadata": {},
     "output_type": "display_data"
    },
    {
     "name": "stdout",
     "output_type": "stream",
     "text": [
      "took  0:00:09.436985  for this step\n",
      "10 15\n"
     ]
    },
    {
     "data": {
      "application/vnd.jupyter.widget-view+json": {
       "model_id": "8623d83d890b43b889e0fcd5640fb684",
       "version_major": 2,
       "version_minor": 0
      },
      "text/plain": [
       "Drawing 200 posterior samples:   0%|          | 0/200 [00:00<?, ?it/s]"
      ]
     },
     "metadata": {},
     "output_type": "display_data"
    },
    {
     "data": {
      "application/vnd.jupyter.widget-view+json": {
       "model_id": "58a7f9bcdc0c4e409e66341d397cebf9",
       "version_major": 2,
       "version_minor": 0
      },
      "text/plain": [
       "Running 200 simulations in 200 batches.:   0%|          | 0/200 [00:00<?, ?it/s]"
      ]
     },
     "metadata": {},
     "output_type": "display_data"
    },
    {
     "name": "stdout",
     "output_type": "stream",
     "text": [
      "Neural network successfully converged after 175 epochs.\n"
     ]
    },
    {
     "data": {
      "application/vnd.jupyter.widget-view+json": {
       "model_id": "7452b2e8e00e4321955cbe9bf836c5da",
       "version_major": 2,
       "version_minor": 0
      },
      "text/plain": [
       "Drawing 1 posterior samples:   0%|          | 0/1 [00:00<?, ?it/s]"
      ]
     },
     "metadata": {},
     "output_type": "display_data"
    },
    {
     "name": "stdout",
     "output_type": "stream",
     "text": [
      "took  0:00:16.294201  for this step\n"
     ]
    },
    {
     "data": {
      "application/vnd.jupyter.widget-view+json": {
       "model_id": "d6e5477bd562404899f818e7ca343ea0",
       "version_major": 2,
       "version_minor": 0
      },
      "text/plain": [
       "Drawing 380 posterior samples:   0%|          | 0/380 [00:00<?, ?it/s]"
      ]
     },
     "metadata": {},
     "output_type": "display_data"
    },
    {
     "data": {
      "application/vnd.jupyter.widget-view+json": {
       "model_id": "0325da36843d4b0d9418c05ae618c54c",
       "version_major": 2,
       "version_minor": 0
      },
      "text/plain": [
       "Running 380 simulations in 380 batches.:   0%|          | 0/380 [00:00<?, ?it/s]"
      ]
     },
     "metadata": {},
     "output_type": "display_data"
    },
    {
     "name": "stdout",
     "output_type": "stream",
     "text": [
      "Neural network successfully converged after 110 epochs.\n",
      "5 10\n"
     ]
    },
    {
     "data": {
      "application/vnd.jupyter.widget-view+json": {
       "model_id": "455abbaa0adc48a09964f81eb17a21ea",
       "version_major": 2,
       "version_minor": 0
      },
      "text/plain": [
       "Running 100 simulations in 100 batches.:   0%|          | 0/100 [00:00<?, ?it/s]"
      ]
     },
     "metadata": {},
     "output_type": "display_data"
    },
    {
     "name": "stdout",
     "output_type": "stream",
     "text": [
      "Neural network successfully converged after 146 epochs.\n"
     ]
    },
    {
     "data": {
      "application/vnd.jupyter.widget-view+json": {
       "model_id": "aab4df9103544b06863c200ed326dc29",
       "version_major": 2,
       "version_minor": 0
      },
      "text/plain": [
       "Drawing 1 posterior samples:   0%|          | 0/1 [00:00<?, ?it/s]"
      ]
     },
     "metadata": {},
     "output_type": "display_data"
    },
    {
     "name": "stdout",
     "output_type": "stream",
     "text": [
      "took  0:00:05.311286  for this step\n",
      "10 15\n"
     ]
    },
    {
     "data": {
      "application/vnd.jupyter.widget-view+json": {
       "model_id": "29b2cd46e6684733a74b33d3654a34de",
       "version_major": 2,
       "version_minor": 0
      },
      "text/plain": [
       "Drawing 100 posterior samples:   0%|          | 0/100 [00:00<?, ?it/s]"
      ]
     },
     "metadata": {},
     "output_type": "display_data"
    },
    {
     "data": {
      "application/vnd.jupyter.widget-view+json": {
       "model_id": "b670b80d5b884c6e84005e939a7100de",
       "version_major": 2,
       "version_minor": 0
      },
      "text/plain": [
       "Running 100 simulations in 100 batches.:   0%|          | 0/100 [00:00<?, ?it/s]"
      ]
     },
     "metadata": {},
     "output_type": "display_data"
    },
    {
     "name": "stdout",
     "output_type": "stream",
     "text": [
      "Neural network successfully converged after 208 epochs.\n"
     ]
    },
    {
     "data": {
      "application/vnd.jupyter.widget-view+json": {
       "model_id": "8b0f72649eec4bb887b1ac00166c1f6d",
       "version_major": 2,
       "version_minor": 0
      },
      "text/plain": [
       "Drawing 1 posterior samples:   0%|          | 0/1 [00:00<?, ?it/s]"
      ]
     },
     "metadata": {},
     "output_type": "display_data"
    },
    {
     "name": "stdout",
     "output_type": "stream",
     "text": [
      "took  0:00:07.891610  for this step\n"
     ]
    },
    {
     "data": {
      "application/vnd.jupyter.widget-view+json": {
       "model_id": "61db3772766847f393307c15bd85a510",
       "version_major": 2,
       "version_minor": 0
      },
      "text/plain": [
       "Drawing 190 posterior samples:   0%|          | 0/190 [00:00<?, ?it/s]"
      ]
     },
     "metadata": {},
     "output_type": "display_data"
    },
    {
     "data": {
      "application/vnd.jupyter.widget-view+json": {
       "model_id": "678590d6fe364f91aca97f2f0602b2dd",
       "version_major": 2,
       "version_minor": 0
      },
      "text/plain": [
       "Running 190 simulations in 190 batches.:   0%|          | 0/190 [00:00<?, ?it/s]"
      ]
     },
     "metadata": {},
     "output_type": "display_data"
    },
    {
     "name": "stdout",
     "output_type": "stream",
     "text": [
      "Neural network successfully converged after 51 epochs.\n",
      "5 10\n"
     ]
    },
    {
     "data": {
      "application/vnd.jupyter.widget-view+json": {
       "model_id": "f00f946a4d9c42bf825a95be5602f376",
       "version_major": 2,
       "version_minor": 0
      },
      "text/plain": [
       "Running 200 simulations in 200 batches.:   0%|          | 0/200 [00:00<?, ?it/s]"
      ]
     },
     "metadata": {},
     "output_type": "display_data"
    },
    {
     "name": "stdout",
     "output_type": "stream",
     "text": [
      "Neural network successfully converged after 142 epochs.\n"
     ]
    },
    {
     "data": {
      "application/vnd.jupyter.widget-view+json": {
       "model_id": "2d59c018e49f4cb1b30996e7169f6a67",
       "version_major": 2,
       "version_minor": 0
      },
      "text/plain": [
       "Drawing 1 posterior samples:   0%|          | 0/1 [00:00<?, ?it/s]"
      ]
     },
     "metadata": {},
     "output_type": "display_data"
    },
    {
     "name": "stdout",
     "output_type": "stream",
     "text": [
      "took  0:00:11.453038  for this step\n",
      "10 15\n"
     ]
    },
    {
     "data": {
      "application/vnd.jupyter.widget-view+json": {
       "model_id": "8bf0a55a4b1149c6855bb3dcdca5b183",
       "version_major": 2,
       "version_minor": 0
      },
      "text/plain": [
       "Drawing 200 posterior samples:   0%|          | 0/200 [00:00<?, ?it/s]"
      ]
     },
     "metadata": {},
     "output_type": "display_data"
    },
    {
     "data": {
      "application/vnd.jupyter.widget-view+json": {
       "model_id": "65603c3535f04a5bb8a6f7e80ca676c6",
       "version_major": 2,
       "version_minor": 0
      },
      "text/plain": [
       "Running 200 simulations in 200 batches.:   0%|          | 0/200 [00:00<?, ?it/s]"
      ]
     },
     "metadata": {},
     "output_type": "display_data"
    },
    {
     "name": "stdout",
     "output_type": "stream",
     "text": [
      "Neural network successfully converged after 100 epochs.\n"
     ]
    },
    {
     "data": {
      "application/vnd.jupyter.widget-view+json": {
       "model_id": "cf489411822542c1827671d32a94e3cc",
       "version_major": 2,
       "version_minor": 0
      },
      "text/plain": [
       "Drawing 1 posterior samples:   0%|          | 0/1 [00:00<?, ?it/s]"
      ]
     },
     "metadata": {},
     "output_type": "display_data"
    },
    {
     "name": "stdout",
     "output_type": "stream",
     "text": [
      "took  0:00:09.937990  for this step\n"
     ]
    },
    {
     "data": {
      "application/vnd.jupyter.widget-view+json": {
       "model_id": "bfdd5b20ca1848989d8bf3e77eb288ed",
       "version_major": 2,
       "version_minor": 0
      },
      "text/plain": [
       "Drawing 380 posterior samples:   0%|          | 0/380 [00:00<?, ?it/s]"
      ]
     },
     "metadata": {},
     "output_type": "display_data"
    },
    {
     "data": {
      "application/vnd.jupyter.widget-view+json": {
       "model_id": "3d8895270b614ed9b9dc1a04aca42971",
       "version_major": 2,
       "version_minor": 0
      },
      "text/plain": [
       "Running 380 simulations in 380 batches.:   0%|          | 0/380 [00:00<?, ?it/s]"
      ]
     },
     "metadata": {},
     "output_type": "display_data"
    },
    {
     "name": "stdout",
     "output_type": "stream",
     "text": [
      "Neural network successfully converged after 118 epochs.\n",
      "5 10\n"
     ]
    },
    {
     "data": {
      "application/vnd.jupyter.widget-view+json": {
       "model_id": "f846463764354ec2864df5142b86f4f1",
       "version_major": 2,
       "version_minor": 0
      },
      "text/plain": [
       "Running 100 simulations in 100 batches.:   0%|          | 0/100 [00:00<?, ?it/s]"
      ]
     },
     "metadata": {},
     "output_type": "display_data"
    },
    {
     "name": "stdout",
     "output_type": "stream",
     "text": [
      "Neural network successfully converged after 181 epochs.\n"
     ]
    },
    {
     "data": {
      "application/vnd.jupyter.widget-view+json": {
       "model_id": "0f3883ed11f54a5eb87981e65b4273dd",
       "version_major": 2,
       "version_minor": 0
      },
      "text/plain": [
       "Drawing 1 posterior samples:   0%|          | 0/1 [00:00<?, ?it/s]"
      ]
     },
     "metadata": {},
     "output_type": "display_data"
    },
    {
     "name": "stdout",
     "output_type": "stream",
     "text": [
      "took  0:00:07.775052  for this step\n",
      "10 15\n"
     ]
    },
    {
     "data": {
      "application/vnd.jupyter.widget-view+json": {
       "model_id": "f2f238473dc343bfb1152ed638547e75",
       "version_major": 2,
       "version_minor": 0
      },
      "text/plain": [
       "Drawing 100 posterior samples:   0%|          | 0/100 [00:00<?, ?it/s]"
      ]
     },
     "metadata": {},
     "output_type": "display_data"
    },
    {
     "data": {
      "application/vnd.jupyter.widget-view+json": {
       "model_id": "8dbc5663dd9f4d9b9d3cde4adebb1e77",
       "version_major": 2,
       "version_minor": 0
      },
      "text/plain": [
       "Running 100 simulations in 100 batches.:   0%|          | 0/100 [00:00<?, ?it/s]"
      ]
     },
     "metadata": {},
     "output_type": "display_data"
    },
    {
     "name": "stdout",
     "output_type": "stream",
     "text": [
      "Neural network successfully converged after 116 epochs.\n"
     ]
    },
    {
     "data": {
      "application/vnd.jupyter.widget-view+json": {
       "model_id": "8d56c97f15b4493ca4dafdceb759e468",
       "version_major": 2,
       "version_minor": 0
      },
      "text/plain": [
       "Drawing 1 posterior samples:   0%|          | 0/1 [00:00<?, ?it/s]"
      ]
     },
     "metadata": {},
     "output_type": "display_data"
    },
    {
     "name": "stdout",
     "output_type": "stream",
     "text": [
      "took  0:00:04.889887  for this step\n"
     ]
    },
    {
     "data": {
      "application/vnd.jupyter.widget-view+json": {
       "model_id": "d468f806d70142d3a0c1e9c7735ac28a",
       "version_major": 2,
       "version_minor": 0
      },
      "text/plain": [
       "Drawing 190 posterior samples:   0%|          | 0/190 [00:00<?, ?it/s]"
      ]
     },
     "metadata": {},
     "output_type": "display_data"
    },
    {
     "data": {
      "application/vnd.jupyter.widget-view+json": {
       "model_id": "101f6f29ac034f3bb62b78199ec13a3e",
       "version_major": 2,
       "version_minor": 0
      },
      "text/plain": [
       "Running 190 simulations in 190 batches.:   0%|          | 0/190 [00:00<?, ?it/s]"
      ]
     },
     "metadata": {},
     "output_type": "display_data"
    },
    {
     "name": "stdout",
     "output_type": "stream",
     "text": [
      "Neural network successfully converged after 141 epochs.\n",
      "5 10\n"
     ]
    },
    {
     "data": {
      "application/vnd.jupyter.widget-view+json": {
       "model_id": "9693cd56f8d84cdfb796333a8c33962d",
       "version_major": 2,
       "version_minor": 0
      },
      "text/plain": [
       "Running 200 simulations in 200 batches.:   0%|          | 0/200 [00:00<?, ?it/s]"
      ]
     },
     "metadata": {},
     "output_type": "display_data"
    },
    {
     "name": "stdout",
     "output_type": "stream",
     "text": [
      "Neural network successfully converged after 138 epochs.\n"
     ]
    },
    {
     "data": {
      "application/vnd.jupyter.widget-view+json": {
       "model_id": "22210b12a7b04d6bb4b737daa0a0e30f",
       "version_major": 2,
       "version_minor": 0
      },
      "text/plain": [
       "Drawing 1 posterior samples:   0%|          | 0/1 [00:00<?, ?it/s]"
      ]
     },
     "metadata": {},
     "output_type": "display_data"
    },
    {
     "name": "stdout",
     "output_type": "stream",
     "text": [
      "took  0:00:10.587938  for this step\n",
      "10 15\n"
     ]
    },
    {
     "data": {
      "application/vnd.jupyter.widget-view+json": {
       "model_id": "f19f790419a54b0aba2140351ac453a6",
       "version_major": 2,
       "version_minor": 0
      },
      "text/plain": [
       "Drawing 200 posterior samples:   0%|          | 0/200 [00:00<?, ?it/s]"
      ]
     },
     "metadata": {},
     "output_type": "display_data"
    },
    {
     "data": {
      "application/vnd.jupyter.widget-view+json": {
       "model_id": "0573ab712ef04aac8c6efeefb8954f6f",
       "version_major": 2,
       "version_minor": 0
      },
      "text/plain": [
       "Running 200 simulations in 200 batches.:   0%|          | 0/200 [00:00<?, ?it/s]"
      ]
     },
     "metadata": {},
     "output_type": "display_data"
    },
    {
     "name": "stdout",
     "output_type": "stream",
     "text": [
      "Neural network successfully converged after 146 epochs.\n"
     ]
    },
    {
     "data": {
      "application/vnd.jupyter.widget-view+json": {
       "model_id": "b927d91889a948bb8b2bf2070b614aef",
       "version_major": 2,
       "version_minor": 0
      },
      "text/plain": [
       "Drawing 1 posterior samples:   0%|          | 0/1 [00:00<?, ?it/s]"
      ]
     },
     "metadata": {},
     "output_type": "display_data"
    },
    {
     "name": "stdout",
     "output_type": "stream",
     "text": [
      "took  0:00:13.611395  for this step\n"
     ]
    },
    {
     "data": {
      "application/vnd.jupyter.widget-view+json": {
       "model_id": "4469b7b235714a23b69df43cecb1d68f",
       "version_major": 2,
       "version_minor": 0
      },
      "text/plain": [
       "Drawing 380 posterior samples:   0%|          | 0/380 [00:00<?, ?it/s]"
      ]
     },
     "metadata": {},
     "output_type": "display_data"
    },
    {
     "data": {
      "application/vnd.jupyter.widget-view+json": {
       "model_id": "d461db8c4ecd4ab7aa1fefab2c1522d4",
       "version_major": 2,
       "version_minor": 0
      },
      "text/plain": [
       "Running 380 simulations in 380 batches.:   0%|          | 0/380 [00:00<?, ?it/s]"
      ]
     },
     "metadata": {},
     "output_type": "display_data"
    },
    {
     "name": "stdout",
     "output_type": "stream",
     "text": [
      "Neural network successfully converged after 118 epochs.\n"
     ]
    }
   ],
   "source": [
    "range_list = [5,10, 15]\n",
    "\n",
    "import datetime\n",
    "\n",
    "list_collection_inc = []\n",
    "\n",
    "\n",
    "for i in range(5):\n",
    "    \n",
    "    np.random.seed(i)\n",
    "\n",
    "    posterior_incremental_list = []\n",
    "\n",
    "\n",
    "    for num_simulations in num_simulations_list:\n",
    "\n",
    "        prior_i = utils.torchutils.BoxUniform(low=prior_min[0:range_list[0]], high = prior_max[0:range_list[0]])\n",
    "\n",
    "        \n",
    "        simulator_stats, prior_i = prepare_for_sbi(Gaussian, prior_i)\n",
    "        \n",
    "        inf = SNPE_C(prior_i, density_estimator=\"nsf\")\n",
    "        \n",
    "        proposal = prior_i\n",
    "\n",
    "        start_num = 1\n",
    "\n",
    "        for index in range(len(range_list)-1):\n",
    "\n",
    "            ## i defines number of parameters to be inferred, j indicates how many parameters \n",
    "            #to come in the next round\n",
    "            i = range_list[index]\n",
    "            j = range_list[index+1]\n",
    "\n",
    "            print(i, j)\n",
    "\n",
    "            num_sim = int(num_simulations * (start_num / 10))\n",
    "\n",
    "            start_num += 9\n",
    "\n",
    "            start_time = datetime.datetime.now()\n",
    "\n",
    "            theta, x =  simulate_for_sbi(\n",
    "                simulator_stats,\n",
    "                proposal=proposal,\n",
    "                num_simulations=num_simulations,\n",
    "                num_workers=8,\n",
    "\n",
    "            )\n",
    "\n",
    "            inf = inf.append_simulations(theta, x)\n",
    "            neural_dens = inf.train()\n",
    "\n",
    "            posterior = inf.build_posterior(neural_dens)\n",
    "\n",
    "            if i < 2:\n",
    "                obs_real = Gaussian([true_thetas[0, 0:i]])\n",
    "\n",
    "            else:\n",
    "                obs_real = Gaussian(true_thetas[0, 0:i])\n",
    "\n",
    "\n",
    "            proposal1 = posterior.set_default_x(obs_real)\n",
    "\n",
    "            next_prior = utils.torchutils.BoxUniform(low=prior_min[i:j], high=prior_max[i:j])\n",
    "\n",
    "            combined_prior = Combined(proposal1, next_prior, number_params_1=i)\n",
    "\n",
    "\n",
    "            ## set inf for next round:\n",
    "            inf = SNPE_C(combined_prior, density_estimator=\"nsf\")\n",
    "\n",
    "\n",
    "            ## set combined prior to be the new prior_i:\n",
    "            proposal= combined_prior\n",
    "\n",
    "            finish_time = datetime.datetime.now()\n",
    "\n",
    "            diff = finish_time - start_time\n",
    "\n",
    "            print('took ', diff, ' for this step')\n",
    "\n",
    "        num_sim = int(num_simulations * (start_num / 10))\n",
    "\n",
    "        theta, x =  simulate_for_sbi(\n",
    "            simulator_stats,\n",
    "            proposal=proposal,\n",
    "            num_simulations=num_sim,\n",
    "            num_workers=8,\n",
    "\n",
    "        )\n",
    "\n",
    "        inf = inf.append_simulations(theta, x)\n",
    "        neural_dens = inf.train()\n",
    "\n",
    "        posterior_incremental = inf.build_posterior(neural_dens) \n",
    "\n",
    "        posterior_incremental_list.append(posterior_incremental)\n",
    "        \n",
    "    list_collection_inc.append(posterior_incremental_list)\n"
   ]
  },
  {
   "cell_type": "code",
   "execution_count": 21,
   "id": "5821b1a6",
   "metadata": {},
   "outputs": [],
   "source": [
    "torch.save(list_collection_inc, 'list_collection_inc.pt')"
   ]
  },
  {
   "cell_type": "code",
   "execution_count": 46,
   "id": "cbfd62fb",
   "metadata": {},
   "outputs": [],
   "source": [
    "list_collection_inc = torch.load('list_collection_inc.pt')"
   ]
  },
  {
   "cell_type": "code",
   "execution_count": null,
   "id": "aa5adbbc",
   "metadata": {},
   "outputs": [],
   "source": [
    "import torch.nn.functional as F\n",
    "\n",
    "\n",
    "#out = F.kl_div(analytic_sample, posterior_sample)"
   ]
  },
  {
   "cell_type": "code",
   "execution_count": null,
   "id": "87651862",
   "metadata": {},
   "outputs": [],
   "source": [
    "def calc_KL_highd(posterior):\n",
    "    \n",
    "    sample = posterior.sample((10000,))\n",
    "    \n",
    "    analytic = torch.distributions.normal.Normal(true_thetas, 0.1)\n",
    "    \n",
    "    analytic_sample = analytic.sample((10000,))\n",
    "    \n",
    "    out = F.kl_div(analytic_sample, sample)\n",
    "    \n",
    "    return out\n",
    "\n"
   ]
  },
  {
   "cell_type": "code",
   "execution_count": null,
   "id": "1e9b398a",
   "metadata": {},
   "outputs": [],
   "source": [
    "def calc_KL_1d(posterior):\n",
    "    \n",
    "    sample = posterior.sample((10000,))\n",
    "    \n",
    "    analytic = torch.distributions.normal.Normal(true_thetas, 0.1)\n",
    "    \n",
    "    analytic_sample = analytic.sample((10000,)).squeeze(1)\n",
    "    \n",
    "    out_list = []\n",
    "    for i in range(len(posterior)):\n",
    "        \n",
    "        out = F.kl_div(analytic_sample[:,i], sample[:,i])\n",
    "        out_list.append(out)\n",
    "    \n",
    "    return out_list"
   ]
  },
  {
   "cell_type": "code",
   "execution_count": 11,
   "id": "583028a6",
   "metadata": {},
   "outputs": [],
   "source": [
    "def KL_Gauss(X, Y):\n",
    "    \n",
    "    sample_x = X.sample((1000,))\n",
    "    mu_x = torch.mean(sample_x, dim=0)\n",
    "    var_x = torch.std(sample_x, dim=0)\n",
    "\n",
    "    var_y = Y.stddev\n",
    "\n",
    "    mu_y = Y.mean\n",
    "    \n",
    "    \n",
    "    return torch.mean(np.log(var_y/var_x) + (var_x**2 + (mu_x - mu_y)**2)/(2*var_y**2) -(1/2))\n",
    "\n",
    "\n",
    "def calc_KL_1d(X, Y):\n",
    "    \n",
    "    sample_x = X.sample((1000,))\n",
    "    mu_x = torch.mean(sample_x, dim=0)\n",
    "    var_x = torch.std(sample_x, dim=0)\n",
    "    \n",
    "    print(var_x)\n",
    "    print(mu_x)\n",
    "\n",
    "\n",
    "    var_y = Y.stddev\n",
    "\n",
    "    mu_y = Y.mean\n",
    "    \n",
    "    print(mu_y)\n",
    "    print(var_y)\n",
    "    \n",
    "    print(np.log(var_y/var_x) + (var_x**2 + (mu_x - mu_y)**2)/(2*var_y**2) -(1/2))\n",
    "    \n",
    "    return np.log(var_y/var_x) + (var_x**2 + (mu_x - mu_y)**2)/(2*var_y**2) -(1/2)\n",
    "\n",
    "\n",
    "# calculate the jensen-shanon divergence\n",
    "def js_divergence(p, q):\n",
    "    m = 0.5 * (p + q)\n",
    "    return 0.5 * kl_divergence(p, m) + 0.5 * kl_divergence(q, m)"
   ]
  },
  {
   "cell_type": "code",
   "execution_count": 77,
   "id": "73225ce7",
   "metadata": {},
   "outputs": [
    {
     "data": {
      "application/vnd.jupyter.widget-view+json": {
       "model_id": "12907b488a144afebed58005048664a1",
       "version_major": 2,
       "version_minor": 0
      },
      "text/plain": [
       "Drawing 1000 posterior samples:   0%|          | 0/1000 [00:00<?, ?it/s]"
      ]
     },
     "metadata": {},
     "output_type": "display_data"
    },
    {
     "data": {
      "text/plain": [
       "torch.Size([1000, 7])"
      ]
     },
     "execution_count": 77,
     "metadata": {},
     "output_type": "execute_result"
    }
   ],
   "source": [
    "analytic.sample((1000,)).shape\n",
    "\n",
    "posterior.sample((1000,)).shape"
   ]
  },
  {
   "cell_type": "code",
   "execution_count": null,
   "id": "04ba5875",
   "metadata": {},
   "outputs": [],
   "source": [
    "import torch\n",
    "\n",
    "analytic = torch.distributions.normal.Normal(true_thetas, 0.1)\n",
    "\n",
    "analytic.stddev"
   ]
  },
  {
   "cell_type": "code",
   "execution_count": 12,
   "id": "7c746d65",
   "metadata": {},
   "outputs": [
    {
     "data": {
      "application/vnd.jupyter.widget-view+json": {
       "model_id": "ccccacf8629c464493edae2aa042dcdb",
       "version_major": 2,
       "version_minor": 0
      },
      "text/plain": [
       "Drawing 1000 posterior samples:   0%|          | 0/1000 [00:00<?, ?it/s]"
      ]
     },
     "metadata": {},
     "output_type": "display_data"
    },
    {
     "data": {
      "application/vnd.jupyter.widget-view+json": {
       "model_id": "ced00fd928cc4f05ac15766bb875a419",
       "version_major": 2,
       "version_minor": 0
      },
      "text/plain": [
       "Drawing 1000 posterior samples:   0%|          | 0/1000 [00:00<?, ?it/s]"
      ]
     },
     "metadata": {},
     "output_type": "display_data"
    },
    {
     "name": "stdout",
     "output_type": "stream",
     "text": [
      "tensor([3.8069, 4.0948, 7.7947, 2.8543, 1.7066, 3.9193, 4.8944, 1.5219, 1.9343,\n",
      "        2.7851, 2.2000, 7.7159, 1.0787, 3.5103, 7.3987])\n",
      "tensor([ 7.8186,  7.7917, 28.4645,  6.8801, 91.6267, 61.6045, 24.9508, 26.6559,\n",
      "         3.8076, 68.7728,  4.3642, 59.8147, 98.5660, 44.5498, 37.2699])\n",
      "tensor([[ 3.,  6., 20., 10., 90., 55., 27., 27.,  4., 70.,  5., 66., 99., 40.,\n",
      "         45.]])\n",
      "tensor([[0.1000, 0.1000, 0.1000, 0.1000, 0.1000, 0.1000, 0.1000, 0.1000, 0.1000,\n",
      "         0.1000, 0.1000, 0.1000, 0.1000, 0.1000, 0.1000]])\n",
      "tensor([[1881.4070,  994.6817, 6615.4043,  890.1969,  274.5977, 2944.8083,\n",
      "         1403.3270,  118.5117,  185.4653,  459.3223,  258.6288, 4884.7979,\n",
      "           64.7188, 1647.1233, 5719.9658]])\n"
     ]
    },
    {
     "data": {
      "application/vnd.jupyter.widget-view+json": {
       "model_id": "50ff6ee5f0414f82adf5e4a4de8a8c98",
       "version_major": 2,
       "version_minor": 0
      },
      "text/plain": [
       "Drawing 1000 posterior samples:   0%|          | 0/1000 [00:00<?, ?it/s]"
      ]
     },
     "metadata": {},
     "output_type": "display_data"
    },
    {
     "data": {
      "application/vnd.jupyter.widget-view+json": {
       "model_id": "6c8eb6c36ff04f63ab85410c0fe6df02",
       "version_major": 2,
       "version_minor": 0
      },
      "text/plain": [
       "Drawing 1000 posterior samples:   0%|          | 0/1000 [00:00<?, ?it/s]"
      ]
     },
     "metadata": {},
     "output_type": "display_data"
    },
    {
     "name": "stdout",
     "output_type": "stream",
     "text": [
      "tensor([8.6199, 2.7894, 7.8640, 1.6958, 1.9421, 5.5957, 5.1955, 2.0969, 0.8016,\n",
      "        4.9250, 5.9258, 4.2738, 2.9843, 2.9043, 3.4983])\n",
      "tensor([29.8950, 12.3800, 42.8216, 11.7097, 91.8422, 35.9086, 19.1650, 20.6457,\n",
      "         1.9315, 59.9350, 18.7044, 52.8654, 96.1595, 47.1019, 43.3767])\n",
      "tensor([[ 3.,  6., 20., 10., 90., 55., 27., 27.,  4., 70.,  5., 66., 99., 40.,\n",
      "         45.]])\n",
      "tensor([[0.1000, 0.1000, 0.1000, 0.1000, 0.1000, 0.1000, 0.1000, 0.1000, 0.1000,\n",
      "         0.1000, 0.1000, 0.1000, 0.1000, 0.1000, 0.1000]])\n",
      "tensor([[39877.3281,  2420.4255, 29128.5488,   286.5980,   354.8050, 19785.2402,\n",
      "          4414.5625,  2235.1531,   243.4871,  6273.6055, 11141.7246,  9534.8301,\n",
      "           844.8271,  2939.7385,   739.6129]])\n"
     ]
    },
    {
     "data": {
      "application/vnd.jupyter.widget-view+json": {
       "model_id": "b28a35155a3344a1b7199ec2f587e7f5",
       "version_major": 2,
       "version_minor": 0
      },
      "text/plain": [
       "Drawing 1000 posterior samples:   0%|          | 0/1000 [00:00<?, ?it/s]"
      ]
     },
     "metadata": {},
     "output_type": "display_data"
    },
    {
     "data": {
      "application/vnd.jupyter.widget-view+json": {
       "model_id": "1d8f17d246eb4446a59d825180472f73",
       "version_major": 2,
       "version_minor": 0
      },
      "text/plain": [
       "Drawing 1000 posterior samples:   0%|          | 0/1000 [00:00<?, ?it/s]"
      ]
     },
     "metadata": {},
     "output_type": "display_data"
    },
    {
     "name": "stdout",
     "output_type": "stream",
     "text": [
      "tensor([4.6675, 2.3177, 4.1346, 4.6687, 2.5464, 6.1365, 4.6354, 8.7784, 4.4737,\n",
      "        3.4252, 2.1351, 4.0164, 4.2540, 2.9264, 3.1920])\n",
      "tensor([ 8.8412,  5.6988, 11.3240,  9.3373, 91.2197, 63.6813, 20.7623, 38.8439,\n",
      "        10.3518, 68.3719,  5.3883, 74.4213, 91.3269, 36.6517, 50.2703])\n",
      "tensor([[ 3.,  6., 20., 10., 90., 55., 27., 27.,  4., 70.,  5., 66., 99., 40.,\n",
      "         45.]])\n",
      "tensor([[0.1000, 0.1000, 0.1000, 0.1000, 0.1000, 0.1000, 0.1000, 0.1000, 0.1000,\n",
      "         0.1000, 0.1000, 0.1000, 0.1000, 0.1000, 0.1000]])\n",
      "tensor([[ 2790.9092,   269.4908,  4614.1772,  1107.4531,   394.8716,  5646.4912,\n",
      "          3015.4673, 10861.9736,  3013.6682,   715.0957,   231.9182,  4348.2793,\n",
      "          3844.4470,   984.8706,  1894.2540]])\n"
     ]
    },
    {
     "data": {
      "application/vnd.jupyter.widget-view+json": {
       "model_id": "86367e3db640477f96b32766f0b7bf4b",
       "version_major": 2,
       "version_minor": 0
      },
      "text/plain": [
       "Drawing 1000 posterior samples:   0%|          | 0/1000 [00:00<?, ?it/s]"
      ]
     },
     "metadata": {},
     "output_type": "display_data"
    },
    {
     "data": {
      "application/vnd.jupyter.widget-view+json": {
       "model_id": "eff493e77af44560848a8201c7bb91eb",
       "version_major": 2,
       "version_minor": 0
      },
      "text/plain": [
       "Drawing 1000 posterior samples:   0%|          | 0/1000 [00:00<?, ?it/s]"
      ]
     },
     "metadata": {},
     "output_type": "display_data"
    },
    {
     "name": "stdout",
     "output_type": "stream",
     "text": [
      "tensor([1.3212, 3.4576, 2.0234, 1.8581, 2.5036, 1.5994, 0.9623, 2.4434, 1.7972,\n",
      "        1.2977, 1.1525, 2.0999, 1.3384, 4.3166, 1.2344])\n",
      "tensor([ 3.3287, 11.7958, 22.9323, 11.5285, 89.0993, 53.1621, 25.4747, 24.1777,\n",
      "         3.7766, 72.1767,  2.9409, 67.6970, 96.5083, 47.9947, 44.9125])\n",
      "tensor([[ 3.,  6., 20., 10., 90., 55., 27., 27.,  4., 70.,  5., 66., 99., 40.,\n",
      "         45.]])\n",
      "tensor([[0.1000, 0.1000, 0.1000, 0.1000, 0.1000, 0.1000, 0.1000, 0.1000, 0.1000,\n",
      "         0.1000, 0.1000, 0.1000, 0.1000, 0.1000, 0.1000]])\n",
      "tensor([[  89.6032, 2273.2837,  631.1030,  286.0291,  350.2599,  293.5161,\n",
      "          159.8628,  693.0762,  160.6094,  318.0350,  275.4655,  360.9111,\n",
      "          396.9013, 4123.1265,   73.5514]])\n"
     ]
    },
    {
     "data": {
      "application/vnd.jupyter.widget-view+json": {
       "model_id": "341a6933d7234db785f21e85d0dbf07e",
       "version_major": 2,
       "version_minor": 0
      },
      "text/plain": [
       "Drawing 1000 posterior samples:   0%|          | 0/1000 [00:00<?, ?it/s]"
      ]
     },
     "metadata": {},
     "output_type": "display_data"
    },
    {
     "name": "stderr",
     "output_type": "stream",
     "text": [
      "WARNING:root:Only 1% posterior samples are within the\n",
      "                        prior support. It may take a long time to collect the\n",
      "                        remaining 895 samples. Consider interrupting\n",
      "                        (Ctrl-C) and switching to `sample_with='mcmc'`.\n"
     ]
    },
    {
     "data": {
      "application/vnd.jupyter.widget-view+json": {
       "model_id": "15e0d668df264cf0a3288608df39597d",
       "version_major": 2,
       "version_minor": 0
      },
      "text/plain": [
       "Drawing 1000 posterior samples:   0%|          | 0/1000 [00:00<?, ?it/s]"
      ]
     },
     "metadata": {},
     "output_type": "display_data"
    },
    {
     "name": "stderr",
     "output_type": "stream",
     "text": [
      "WARNING:root:Only 1% posterior samples are within the\n",
      "                        prior support. It may take a long time to collect the\n",
      "                        remaining 900 samples. Consider interrupting\n",
      "                        (Ctrl-C) and switching to `sample_with='mcmc'`.\n"
     ]
    },
    {
     "name": "stdout",
     "output_type": "stream",
     "text": [
      "tensor([1.7410, 1.3702, 0.7868, 0.9439, 1.8392, 2.0532, 0.7603, 0.6847, 1.1476,\n",
      "        1.6330, 2.4354, 1.3734, 2.7645, 2.0393, 0.6237])\n",
      "tensor([ 3.3310,  6.3573, 20.5876,  9.8277, 90.3640, 56.8161, 26.0169, 26.6677,\n",
      "         2.6635, 69.6078,  7.2486, 66.8222, 96.1633, 38.9006, 44.5095])\n",
      "tensor([[ 3.,  6., 20., 10., 90., 55., 27., 27.,  4., 70.,  5., 66., 99., 40.,\n",
      "         45.]])\n",
      "tensor([[0.1000, 0.1000, 0.1000, 0.1000, 0.1000, 0.1000, 0.1000, 0.1000, 0.1000,\n",
      "         0.1000, 0.1000, 0.1000, 0.1000, 0.1000, 0.1000]])\n",
      "tensor([[153.6735,  97.1424,  45.6528,  43.2900, 172.3447, 372.1733,  74.6961,\n",
      "          26.5396, 152.2242, 137.7358, 545.6875, 124.9916, 780.6323, 264.8641,\n",
      "          29.1527]])\n"
     ]
    },
    {
     "data": {
      "application/vnd.jupyter.widget-view+json": {
       "model_id": "fa16e7ca04fe481aad80e04d7803dd36",
       "version_major": 2,
       "version_minor": 0
      },
      "text/plain": [
       "Drawing 1000 posterior samples:   0%|          | 0/1000 [00:00<?, ?it/s]"
      ]
     },
     "metadata": {},
     "output_type": "display_data"
    },
    {
     "data": {
      "application/vnd.jupyter.widget-view+json": {
       "model_id": "96134f985c1745bc8d60968175d5deee",
       "version_major": 2,
       "version_minor": 0
      },
      "text/plain": [
       "Drawing 1000 posterior samples:   0%|          | 0/1000 [00:00<?, ?it/s]"
      ]
     },
     "metadata": {},
     "output_type": "display_data"
    },
    {
     "name": "stdout",
     "output_type": "stream",
     "text": [
      "tensor([ 5.8574,  5.1713,  3.8909,  9.0332,  8.9050,  2.7367, 10.2545,  5.2984,\n",
      "         4.1231, 11.5297, 14.6157,  7.1618,  7.7035,  5.3960, 11.5865])\n",
      "tensor([ 8.8685, 14.5953, 17.5393, 14.5633, 74.6181, 57.5129, 25.0559, 29.5970,\n",
      "         5.5421, 75.5496, 21.6510, 62.1163, 90.1326, 38.8413, 49.9615])\n",
      "tensor([[ 3.,  6., 20., 10., 90., 55., 27., 27.,  4., 70.,  5., 66., 99., 40.,\n",
      "         45.]])\n",
      "tensor([[0.1000, 0.1000, 0.1000, 0.1000, 0.1000, 0.1000, 0.1000, 0.1000, 0.1000,\n",
      "         0.1000, 0.1000, 0.1000, 0.1000, 0.1000, 0.1000]])\n",
      "tensor([[ 3432.8618,  5026.6572,  1055.5365,  5116.1709, 15790.0762,   686.3885,\n",
      "          5441.5938,  1736.3932,   964.6862,  8181.3926, 24538.1641,  3313.9460,\n",
      "          6893.8750,  1518.5105,  7937.9272]])\n"
     ]
    },
    {
     "data": {
      "application/vnd.jupyter.widget-view+json": {
       "model_id": "65f4a22ae74b43d497d295393aad5365",
       "version_major": 2,
       "version_minor": 0
      },
      "text/plain": [
       "Drawing 1000 posterior samples:   0%|          | 0/1000 [00:00<?, ?it/s]"
      ]
     },
     "metadata": {},
     "output_type": "display_data"
    },
    {
     "data": {
      "application/vnd.jupyter.widget-view+json": {
       "model_id": "9ca7f7a6328f4cca8a2b9834ae9958ea",
       "version_major": 2,
       "version_minor": 0
      },
      "text/plain": [
       "Drawing 1000 posterior samples:   0%|          | 0/1000 [00:00<?, ?it/s]"
      ]
     },
     "metadata": {},
     "output_type": "display_data"
    },
    {
     "name": "stdout",
     "output_type": "stream",
     "text": [
      "tensor([ 4.3743,  3.7964,  2.5589,  8.1566, 11.1446,  2.7245,  5.1325,  2.9846,\n",
      "         3.3312,  4.0342,  2.1410,  6.3081,  2.4093,  6.4733,  2.4130])\n",
      "tensor([11.8827, 13.8643, 22.2047, 34.2976, 55.5890, 58.5694, 36.4898, 19.3446,\n",
      "         5.8357, 64.0735,  3.7692, 58.9358, 96.5781, 40.3445, 40.4960])\n",
      "tensor([[ 3.,  6., 20., 10., 90., 55., 27., 27.,  4., 70.,  5., 66., 99., 40.,\n",
      "         45.]])\n",
      "tensor([[0.1000, 0.1000, 0.1000, 0.1000, 0.1000, 0.1000, 0.1000, 0.1000, 0.1000,\n",
      "         0.1000, 0.1000, 0.1000, 0.1000, 0.1000, 0.1000]])\n",
      "tensor([[ 4897.5435,  3808.8384,   566.6936, 32840.3516, 65410.5781,  1004.3518,\n",
      "          5815.5293,  3371.7371,   719.3466,  2565.6948,   301.3640,  4480.1191,\n",
      "           579.8322,  2096.4355,  1301.7615]])\n"
     ]
    },
    {
     "data": {
      "application/vnd.jupyter.widget-view+json": {
       "model_id": "a278db796b004da6aff20375df942a20",
       "version_major": 2,
       "version_minor": 0
      },
      "text/plain": [
       "Drawing 1000 posterior samples:   0%|          | 0/1000 [00:00<?, ?it/s]"
      ]
     },
     "metadata": {},
     "output_type": "display_data"
    },
    {
     "data": {
      "application/vnd.jupyter.widget-view+json": {
       "model_id": "f7e7e3d43bfe4943bf87e7e34d338305",
       "version_major": 2,
       "version_minor": 0
      },
      "text/plain": [
       "Drawing 1000 posterior samples:   0%|          | 0/1000 [00:00<?, ?it/s]"
      ]
     },
     "metadata": {},
     "output_type": "display_data"
    },
    {
     "name": "stdout",
     "output_type": "stream",
     "text": [
      "tensor([ 2.6470,  1.5981,  6.5996,  0.8382,  1.5107,  1.6737,  2.2641,  9.0516,\n",
      "         1.3314,  2.4899,  2.8917,  0.6763,  2.1578, 10.9493,  6.7463])\n",
      "tensor([ 6.4593,  4.4329, 13.8751, 10.7083, 91.6185, 54.9415, 29.3374, 39.9300,\n",
      "         3.9041, 72.0377,  5.5834, 66.1139, 96.4601, 26.3596, 53.2147])\n",
      "tensor([[ 3.,  6., 20., 10., 90., 55., 27., 27.,  4., 70.,  5., 66., 99., 40.,\n",
      "         45.]])\n",
      "tensor([[0.1000, 0.1000, 0.1000, 0.1000, 0.1000, 0.1000, 0.1000, 0.1000, 0.1000,\n",
      "         0.1000, 0.1000, 0.1000, 0.1000, 0.1000, 0.1000]])\n",
      "tensor([[  944.8729,   247.2197,  4048.7561,    57.5880,   241.8684,   136.9093,\n",
      "           525.8568, 12450.8525,    86.0030,   513.8635,   431.2414,    21.1065,\n",
      "           551.7996, 15292.2578,  5644.9785]])\n"
     ]
    },
    {
     "data": {
      "application/vnd.jupyter.widget-view+json": {
       "model_id": "8dbf5e31119d43668ac1a979723cbb71",
       "version_major": 2,
       "version_minor": 0
      },
      "text/plain": [
       "Drawing 1000 posterior samples:   0%|          | 0/1000 [00:00<?, ?it/s]"
      ]
     },
     "metadata": {},
     "output_type": "display_data"
    },
    {
     "data": {
      "application/vnd.jupyter.widget-view+json": {
       "model_id": "5d6b8532a6fa4df9bee89e648d0cad11",
       "version_major": 2,
       "version_minor": 0
      },
      "text/plain": [
       "Drawing 1000 posterior samples:   0%|          | 0/1000 [00:00<?, ?it/s]"
      ]
     },
     "metadata": {},
     "output_type": "display_data"
    },
    {
     "name": "stdout",
     "output_type": "stream",
     "text": [
      "tensor([1.2262, 1.6980, 0.9448, 3.3437, 2.8005, 1.2085, 1.9778, 2.2493, 2.7069,\n",
      "        4.7288, 1.3076, 2.5006, 0.5597, 1.4502, 2.8605])\n",
      "tensor([ 4.5796,  3.9558, 21.0762,  8.7986, 93.6279, 56.2331, 26.0522, 25.1832,\n",
      "         6.7631, 70.4625,  3.8020, 64.6753, 99.2420, 40.5370, 46.7309])\n",
      "tensor([[ 3.,  6., 20., 10., 90., 55., 27., 27.,  4., 70.,  5., 66., 99., 40.,\n",
      "         45.]])\n",
      "tensor([[0.1000, 0.1000, 0.1000, 0.1000, 0.1000, 0.1000, 0.1000, 0.1000, 0.1000,\n",
      "         0.1000, 0.1000, 0.1000, 0.1000, 0.1000, 0.1000]])\n",
      "tensor([[ 196.9317,  349.7578,   99.8025,  627.1955, 1046.3970,  146.0576,\n",
      "          237.0103,  414.3854,  744.3074, 1124.4351,  154.1756,  396.6810,\n",
      "           16.3691,  116.3929,  555.0612]])\n"
     ]
    },
    {
     "data": {
      "application/vnd.jupyter.widget-view+json": {
       "model_id": "668107fe1abb4a4bb127cd09f7df5048",
       "version_major": 2,
       "version_minor": 0
      },
      "text/plain": [
       "Drawing 1000 posterior samples:   0%|          | 0/1000 [00:00<?, ?it/s]"
      ]
     },
     "metadata": {},
     "output_type": "display_data"
    },
    {
     "data": {
      "application/vnd.jupyter.widget-view+json": {
       "model_id": "6e3c6979994e4100bebb9c99acac75a2",
       "version_major": 2,
       "version_minor": 0
      },
      "text/plain": [
       "Drawing 1000 posterior samples:   0%|          | 0/1000 [00:00<?, ?it/s]"
      ]
     },
     "metadata": {},
     "output_type": "display_data"
    },
    {
     "name": "stdout",
     "output_type": "stream",
     "text": [
      "tensor([7.4990, 2.3691, 2.3192, 2.4595, 2.5772, 5.5200, 3.5454, 3.0177, 1.5879,\n",
      "        3.2097, 1.8655, 6.2543, 2.5817, 1.9499, 2.4633])\n",
      "tensor([19.0803,  4.7302, 22.9980,  4.5235, 92.0859, 68.9011, 18.9226, 20.4847,\n",
      "         5.8869, 70.9751,  9.4395, 79.1165, 93.9617, 35.4785, 45.8921])\n",
      "tensor([[ 3.,  6., 20., 10., 90., 55., 27., 27.,  4., 70.,  5., 66., 99., 40.,\n",
      "         45.]])\n",
      "tensor([[0.1000, 0.1000, 0.1000, 0.1000, 0.1000, 0.1000, 0.1000, 0.1000, 0.1000,\n",
      "         0.1000, 0.1000, 0.1000, 0.1000, 0.1000, 0.1000]])\n",
      "tensor([[15735.6826,   357.5920,   714.6766,  1798.3844,   545.8885, 11180.9922,\n",
      "          3886.6479,  2573.8440,   300.8218,   558.6964,  1156.0500, 10553.3271,\n",
      "          1598.7279,  1208.8220,   339.4756]])\n"
     ]
    },
    {
     "data": {
      "application/vnd.jupyter.widget-view+json": {
       "model_id": "5939b5ce34ef4c16bdb78b478533555b",
       "version_major": 2,
       "version_minor": 0
      },
      "text/plain": [
       "Drawing 1000 posterior samples:   0%|          | 0/1000 [00:00<?, ?it/s]"
      ]
     },
     "metadata": {},
     "output_type": "display_data"
    },
    {
     "data": {
      "application/vnd.jupyter.widget-view+json": {
       "model_id": "8a26fddbaef54c37bcf190223cd8d874",
       "version_major": 2,
       "version_minor": 0
      },
      "text/plain": [
       "Drawing 1000 posterior samples:   0%|          | 0/1000 [00:00<?, ?it/s]"
      ]
     },
     "metadata": {},
     "output_type": "display_data"
    },
    {
     "name": "stdout",
     "output_type": "stream",
     "text": [
      "tensor([ 4.1626,  5.1829,  8.0830, 11.8046,  6.2415,  8.6657,  5.2211,  5.5085,\n",
      "         4.7572, 11.9096,  8.3683,  7.5112,  7.7965, 11.6290,  5.8113])\n",
      "tensor([ 6.8889,  9.5159, 46.3364, 64.7023, 65.7648, 31.9543, 38.3542, 16.2777,\n",
      "         9.7361, 62.9514, 49.7040, 45.7881, 83.8643, 40.8518, 45.4379])\n",
      "tensor([[ 3.,  6., 20., 10., 90., 55., 27., 27.,  4., 70.,  5., 66., 99., 40.,\n",
      "         45.]])\n",
      "tensor([[0.1000, 0.1000, 0.1000, 0.1000, 0.1000, 0.1000, 0.1000, 0.1000, 0.1000,\n",
      "         0.1000, 0.1000, 0.1000, 0.1000, 0.1000, 0.1000]])\n",
      "tensor([[  1618.3301,   1956.7354,  37942.0859, 156579.5000,  31310.4414,\n",
      "          30305.0684,   7804.4438,   7261.0020,   2772.3145,   9570.7969,\n",
      "         103419.0156,  23242.0566,  14488.8848,   6792.6670,   1693.5940]])\n"
     ]
    },
    {
     "data": {
      "application/vnd.jupyter.widget-view+json": {
       "model_id": "4f169f4598594bd1adc0a8a4f446a248",
       "version_major": 2,
       "version_minor": 0
      },
      "text/plain": [
       "Drawing 1000 posterior samples:   0%|          | 0/1000 [00:00<?, ?it/s]"
      ]
     },
     "metadata": {},
     "output_type": "display_data"
    },
    {
     "data": {
      "application/vnd.jupyter.widget-view+json": {
       "model_id": "f4aaa3b7da6847a2bbf06788f0d4b6c1",
       "version_major": 2,
       "version_minor": 0
      },
      "text/plain": [
       "Drawing 1000 posterior samples:   0%|          | 0/1000 [00:00<?, ?it/s]"
      ]
     },
     "metadata": {},
     "output_type": "display_data"
    },
    {
     "name": "stdout",
     "output_type": "stream",
     "text": [
      "tensor([ 3.5933,  8.2054,  5.5427,  8.9173,  8.1024,  7.9696,  4.5304,  3.7617,\n",
      "         4.7127, 10.0881,  5.7363,  8.0008,  8.4762,  5.5908, 11.0447])\n",
      "tensor([17.3235, 25.9724, 27.5099, 29.0652, 79.5947, 67.8410, 41.2189,  7.3317,\n",
      "         8.4727, 59.5106, 13.2339, 74.2133, 81.8432, 27.5293, 33.5660])\n",
      "tensor([[ 3.,  6., 20., 10., 90., 55., 27., 27.,  4., 70.,  5., 66., 99., 40.,\n",
      "         45.]])\n",
      "tensor([[0.1000, 0.1000, 0.1000, 0.1000, 0.1000, 0.1000, 0.1000, 0.1000, 0.1000,\n",
      "         0.1000, 0.1000, 0.1000, 0.1000, 0.1000, 0.1000]])\n",
      "tensor([[10899.6250, 23306.3203,  4351.4888, 22145.0000,  8691.0479, 11415.4082,\n",
      "         11130.8086, 20045.4023,  2106.3638, 10584.7383,  5030.5088,  6568.6738,\n",
      "         18305.1113,  9334.2930, 12630.8916]])\n"
     ]
    },
    {
     "data": {
      "application/vnd.jupyter.widget-view+json": {
       "model_id": "11cfcbf0908e4ad68c6ce3e22213a9bb",
       "version_major": 2,
       "version_minor": 0
      },
      "text/plain": [
       "Drawing 1000 posterior samples:   0%|          | 0/1000 [00:00<?, ?it/s]"
      ]
     },
     "metadata": {},
     "output_type": "display_data"
    },
    {
     "data": {
      "application/vnd.jupyter.widget-view+json": {
       "model_id": "e2e6f4073ba74c0c9139363fdca3a030",
       "version_major": 2,
       "version_minor": 0
      },
      "text/plain": [
       "Drawing 1000 posterior samples:   0%|          | 0/1000 [00:00<?, ?it/s]"
      ]
     },
     "metadata": {},
     "output_type": "display_data"
    },
    {
     "name": "stdout",
     "output_type": "stream",
     "text": [
      "tensor([2.4428, 5.2436, 4.7271, 8.1833, 2.0792, 6.7416, 7.0391, 4.2913, 0.7966,\n",
      "        3.2281, 2.0947, 6.4574, 1.3226, 6.9308, 1.7976])\n",
      "tensor([ 7.6870, 10.9734, 22.9442, 25.0496, 94.3450, 46.9409, 19.7527, 22.1011,\n",
      "         3.7178, 70.4687,  6.3820, 71.8655, 97.9495, 31.2657, 43.6885])\n",
      "tensor([[ 3.,  6., 20., 10., 90., 55., 27., 27.,  4., 70.,  5., 66., 99., 40.,\n",
      "         45.]])\n",
      "tensor([[0.1000, 0.1000, 0.1000, 0.1000, 0.1000, 0.1000, 0.1000, 0.1000, 0.1000,\n",
      "         0.1000, 0.1000, 0.1000, 0.1000, 0.1000, 0.1000]])\n",
      "tensor([[ 1393.0547,  2607.0356,  1546.3235, 14667.8945,  1156.5453,  5515.2227,\n",
      "          5098.8223,  2116.4636,    33.1311,   528.0439,   311.3345,  3800.4414,\n",
      "           139.5591,  6211.4736,   244.1878]])\n"
     ]
    },
    {
     "data": {
      "application/vnd.jupyter.widget-view+json": {
       "model_id": "f81f88624b684824ae0e21019b9312c9",
       "version_major": 2,
       "version_minor": 0
      },
      "text/plain": [
       "Drawing 1000 posterior samples:   0%|          | 0/1000 [00:00<?, ?it/s]"
      ]
     },
     "metadata": {},
     "output_type": "display_data"
    },
    {
     "data": {
      "application/vnd.jupyter.widget-view+json": {
       "model_id": "f0878eba41104e29aef5c8c2d97f214d",
       "version_major": 2,
       "version_minor": 0
      },
      "text/plain": [
       "Drawing 1000 posterior samples:   0%|          | 0/1000 [00:00<?, ?it/s]"
      ]
     },
     "metadata": {},
     "output_type": "display_data"
    },
    {
     "name": "stdout",
     "output_type": "stream",
     "text": [
      "tensor([2.0158, 1.9740, 1.6433, 4.8004, 2.9062, 2.0990, 1.2948, 1.8890, 1.7868,\n",
      "        3.5886, 1.4782, 0.6529, 1.5906, 4.2455, 1.3152])\n",
      "tensor([ 5.6212,  4.0734, 19.4102,  9.7667, 89.5912, 56.1510, 25.9663, 26.2253,\n",
      "         4.3686, 70.6266,  5.0418, 65.9214, 97.6559, 43.5875, 45.0966])\n",
      "tensor([[ 3.,  6., 20., 10., 90., 55., 27., 27.,  4., 70.,  5., 66., 99., 40.,\n",
      "         45.]])\n",
      "tensor([[0.1000, 0.1000, 0.1000, 0.1000, 0.1000, 0.1000, 0.1000, 0.1000, 0.1000,\n",
      "         0.1000, 0.1000, 0.1000, 0.1000, 0.1000, 0.1000]])\n",
      "tensor([[ 543.1893,  376.9361,  149.1219, 1150.5179,  426.7921,  282.9923,\n",
      "          134.1919,  204.9887,  163.0457,  659.4622,  106.1415,   19.2497,\n",
      "          213.5721, 1540.4468,   83.8714]])\n"
     ]
    },
    {
     "data": {
      "application/vnd.jupyter.widget-view+json": {
       "model_id": "673b2e1e31dc4f9288a665051d626613",
       "version_major": 2,
       "version_minor": 0
      },
      "text/plain": [
       "Drawing 1000 posterior samples:   0%|          | 0/1000 [00:00<?, ?it/s]"
      ]
     },
     "metadata": {},
     "output_type": "display_data"
    },
    {
     "data": {
      "application/vnd.jupyter.widget-view+json": {
       "model_id": "6c6e66f1d28d4237986c5334bfa9f50a",
       "version_major": 2,
       "version_minor": 0
      },
      "text/plain": [
       "Drawing 1000 posterior samples:   0%|          | 0/1000 [00:00<?, ?it/s]"
      ]
     },
     "metadata": {},
     "output_type": "display_data"
    },
    {
     "name": "stdout",
     "output_type": "stream",
     "text": [
      "tensor([1.0913, 4.1782, 3.2724, 4.0333, 3.0828, 5.6857, 2.8152, 4.5556, 2.5671,\n",
      "        1.1057, 1.2680, 4.4252, 1.0977, 1.9022, 1.1986])\n",
      "tensor([ 2.9283, 13.6679, 22.2332, 13.0873, 94.9467, 58.5662, 25.2572, 33.6677,\n",
      "         6.8590, 69.7104,  5.8305, 73.1915, 98.2456, 39.1532, 45.3846])\n",
      "tensor([[ 3.,  6., 20., 10., 90., 55., 27., 27.,  4., 70.,  5., 66., 99., 40.,\n",
      "         45.]])\n",
      "tensor([[0.1000, 0.1000, 0.1000, 0.1000, 0.1000, 0.1000, 0.1000, 0.1000, 0.1000,\n",
      "         0.1000, 0.1000, 0.1000, 0.1000, 0.1000, 0.1000]])\n",
      "tensor([[  56.9136, 3808.4612,  780.7907, 1285.7274, 1694.7751, 2247.6960,\n",
      "          544.3179, 3256.2217,  734.4512,   62.4230,  111.8325, 3560.7214,\n",
      "           85.8035,  213.3296,   76.2461]])\n"
     ]
    },
    {
     "data": {
      "application/vnd.jupyter.widget-view+json": {
       "model_id": "8553050a9831449db00d379cd8c4075c",
       "version_major": 2,
       "version_minor": 0
      },
      "text/plain": [
       "Drawing 1000 posterior samples:   0%|          | 0/1000 [00:00<?, ?it/s]"
      ]
     },
     "metadata": {},
     "output_type": "display_data"
    },
    {
     "data": {
      "application/vnd.jupyter.widget-view+json": {
       "model_id": "9a89bf3a66b44519a1ba34b5c80ca4ca",
       "version_major": 2,
       "version_minor": 0
      },
      "text/plain": [
       "Drawing 1000 posterior samples:   0%|          | 0/1000 [00:00<?, ?it/s]"
      ]
     },
     "metadata": {},
     "output_type": "display_data"
    },
    {
     "name": "stdout",
     "output_type": "stream",
     "text": [
      "tensor([5.2550, 5.2193, 2.4950, 3.3066, 9.3103, 6.4751, 9.6892, 9.0884, 3.9559,\n",
      "        3.2476, 3.7076, 5.9993, 5.0681, 3.6260, 6.4604])\n",
      "tensor([11.0813, 23.3894,  4.3550,  7.1468, 69.6882, 44.5737, 52.5087, 32.2796,\n",
      "         9.2629, 57.9786,  6.9480, 53.0526, 89.1064, 43.9654, 28.6377])\n",
      "tensor([[ 3.,  6., 20., 10., 90., 55., 27., 27.,  4., 70.,  5., 66., 99., 40.,\n",
      "         45.]])\n",
      "tensor([[0.1000, 0.1000, 0.1000, 0.1000, 0.1000, 0.1000, 0.1000, 0.1000, 0.1000,\n",
      "         0.1000, 0.1000, 0.1000, 0.1000, 0.1000, 0.1000]])\n",
      "tensor([[ 4641.6704, 16477.0859, 12545.7686,   949.7177, 24957.4883,  7527.0552,\n",
      "         37223.7930,  5518.6768,  2163.1809,  7749.0327,   872.9543, 10176.7383,\n",
      "          6174.0522,  1439.5056, 15468.3975]])\n"
     ]
    },
    {
     "data": {
      "application/vnd.jupyter.widget-view+json": {
       "model_id": "70ffbcc1e8804fa98054b06593b8db42",
       "version_major": 2,
       "version_minor": 0
      },
      "text/plain": [
       "Drawing 1000 posterior samples:   0%|          | 0/1000 [00:00<?, ?it/s]"
      ]
     },
     "metadata": {},
     "output_type": "display_data"
    },
    {
     "data": {
      "application/vnd.jupyter.widget-view+json": {
       "model_id": "00264ade2fbd40deb6f2212179b7647e",
       "version_major": 2,
       "version_minor": 0
      },
      "text/plain": [
       "Drawing 1000 posterior samples:   0%|          | 0/1000 [00:00<?, ?it/s]"
      ]
     },
     "metadata": {},
     "output_type": "display_data"
    },
    {
     "name": "stdout",
     "output_type": "stream",
     "text": [
      "tensor([1.7389, 4.4376, 4.3631, 4.6803, 2.3286, 4.9819, 3.0043, 3.8300, 4.5253,\n",
      "        7.2020, 1.6746, 2.4159, 3.2352, 2.2591, 4.4065])\n",
      "tensor([ 3.4500,  8.6032, 22.0216, 11.4953, 88.8040, 53.3640, 30.6346, 24.2920,\n",
      "         9.2815, 73.7499,  3.2027, 63.9575, 95.1276, 41.3953, 47.8281])\n",
      "tensor([[ 3.,  6., 20., 10., 90., 55., 27., 27.,  4., 70.,  5., 66., 99., 40.,\n",
      "         45.]])\n",
      "tensor([[0.1000, 0.1000, 0.1000, 0.1000, 0.1000, 0.1000, 0.1000, 0.1000, 0.1000,\n",
      "         0.1000, 0.1000, 0.1000, 0.1000, 0.1000, 0.1000]])\n",
      "tensor([[ 157.9602, 1319.1368, 1151.9263, 1202.7336,  339.0019, 1370.3865,\n",
      "         1107.9305, 1095.9541, 2414.2988, 3291.7358,  298.3992,  496.7383,\n",
      "         1269.1023,  348.8985, 1366.5005]])\n"
     ]
    },
    {
     "data": {
      "application/vnd.jupyter.widget-view+json": {
       "model_id": "8e492d728d0b4c40a512a9f49039544b",
       "version_major": 2,
       "version_minor": 0
      },
      "text/plain": [
       "Drawing 1000 posterior samples:   0%|          | 0/1000 [00:00<?, ?it/s]"
      ]
     },
     "metadata": {},
     "output_type": "display_data"
    },
    {
     "data": {
      "application/vnd.jupyter.widget-view+json": {
       "model_id": "b68cd20b91de461d8f11b1b91acf07cd",
       "version_major": 2,
       "version_minor": 0
      },
      "text/plain": [
       "Drawing 1000 posterior samples:   0%|          | 0/1000 [00:00<?, ?it/s]"
      ]
     },
     "metadata": {},
     "output_type": "display_data"
    },
    {
     "name": "stdout",
     "output_type": "stream",
     "text": [
      "tensor([0.9347, 3.0126, 1.9288, 2.7203, 3.1334, 4.3676, 7.8010, 3.3025, 2.5954,\n",
      "        6.9279, 3.5363, 1.7354, 0.4833, 8.7888, 6.7815])\n",
      "tensor([ 2.1838,  7.0648, 22.0426, 12.3991, 89.4337, 53.7551, 36.0768, 23.1860,\n",
      "         5.8485, 60.4667,  7.4857, 67.9267, 99.3655, 51.6597, 54.0261])\n",
      "tensor([[ 3.,  6., 20., 10., 90., 55., 27., 27.,  4., 70.,  5., 66., 99., 40.,\n",
      "         45.]])\n",
      "tensor([[0.1000, 0.1000, 0.1000, 0.1000, 0.1000, 0.1000, 0.1000, 0.1000, 0.1000,\n",
      "         0.1000, 0.1000, 0.1000, 0.1000, 0.1000, 0.1000]])\n",
      "tensor([[   74.2594,   506.5614,   391.1552,   653.9873,   502.9833,  1027.0272,\n",
      "          7157.2930,  1268.6797,   503.9091,  6939.2163,   930.1583,   332.8235,\n",
      "            16.2863, 10654.6074,  6368.2495]])\n"
     ]
    },
    {
     "data": {
      "application/vnd.jupyter.widget-view+json": {
       "model_id": "6682610f76904890a712ffbe60818d0b",
       "version_major": 2,
       "version_minor": 0
      },
      "text/plain": [
       "Drawing 1000 posterior samples:   0%|          | 0/1000 [00:00<?, ?it/s]"
      ]
     },
     "metadata": {},
     "output_type": "display_data"
    },
    {
     "data": {
      "application/vnd.jupyter.widget-view+json": {
       "model_id": "160d95b938594ffaabb475eec96009f5",
       "version_major": 2,
       "version_minor": 0
      },
      "text/plain": [
       "Drawing 1000 posterior samples:   0%|          | 0/1000 [00:00<?, ?it/s]"
      ]
     },
     "metadata": {},
     "output_type": "display_data"
    },
    {
     "name": "stdout",
     "output_type": "stream",
     "text": [
      "tensor([1.9832, 5.0336, 0.7483, 2.6870, 3.0007, 0.9680, 2.2521, 4.6185, 0.5789,\n",
      "        2.6449, 2.2919, 0.7044, 0.5028, 1.6506, 0.9785])\n",
      "tensor([ 5.1826, 12.4960, 20.6612,  7.0661, 87.3872, 56.4865, 25.9727, 21.9178,\n",
      "         3.8317, 71.7297,  6.6595, 65.7210, 99.2674, 39.1672, 43.9609])\n",
      "tensor([[ 3.,  6., 20., 10., 90., 55., 27., 27.,  4., 70.,  5., 66., 99., 40.,\n",
      "         45.]])\n",
      "tensor([[0.1000, 0.1000, 0.1000, 0.1000, 0.1000, 0.1000, 0.1000, 0.1000, 0.1000,\n",
      "         0.1000, 0.1000, 0.1000, 0.1000, 0.1000, 0.1000]])\n",
      "tensor([[ 431.3487, 3372.3455,   47.3470,  787.6108,  787.6577,  154.5668,\n",
      "          302.7544, 2353.6121,   15.9151,  495.5888,  396.7036,   26.2457,\n",
      "           14.0997,  167.5906,   99.0789]])\n"
     ]
    },
    {
     "data": {
      "application/vnd.jupyter.widget-view+json": {
       "model_id": "7e3e822de2f8491da2519cc7701f097a",
       "version_major": 2,
       "version_minor": 0
      },
      "text/plain": [
       "Drawing 1000 posterior samples:   0%|          | 0/1000 [00:00<?, ?it/s]"
      ]
     },
     "metadata": {},
     "output_type": "display_data"
    },
    {
     "data": {
      "application/vnd.jupyter.widget-view+json": {
       "model_id": "3483e002c1a8420d94b9f5b94b0c4530",
       "version_major": 2,
       "version_minor": 0
      },
      "text/plain": [
       "Drawing 1000 posterior samples:   0%|          | 0/1000 [00:00<?, ?it/s]"
      ]
     },
     "metadata": {},
     "output_type": "display_data"
    },
    {
     "name": "stdout",
     "output_type": "stream",
     "text": [
      "tensor([2.7431, 1.2597, 5.0111, 3.3213, 1.5086, 5.1494, 1.2011, 3.0110, 1.5847,\n",
      "        3.5020, 1.1088, 1.4595, 2.8965, 4.9047, 3.6554])\n",
      "tensor([10.7521,  3.5153, 36.4521, 19.9723, 92.2222, 38.3374, 28.4198, 31.6144,\n",
      "         4.4232, 81.4503,  3.1606, 61.1142, 94.4433, 52.9703, 54.6107])\n",
      "tensor([[ 3.,  6., 20., 10., 90., 55., 27., 27.,  4., 70.,  5., 66., 99., 40.,\n",
      "         45.]])\n",
      "tensor([[0.1000, 0.1000, 0.1000, 0.1000, 0.1000, 0.1000, 0.1000, 0.1000, 0.1000,\n",
      "         0.1000, 0.1000, 0.1000, 0.1000, 0.1000, 0.1000]])\n",
      "tensor([[ 3377.2012,   384.9827, 14784.6240,  5519.8594,   357.4805, 15203.4443,\n",
      "           169.9449,  1514.0073,   131.2507,  7164.6538,   227.7223,  1296.8694,\n",
      "          1453.8250,  9609.7695,  5282.3159]])\n"
     ]
    },
    {
     "data": {
      "application/vnd.jupyter.widget-view+json": {
       "model_id": "2d72d578cd5f4bf59899fba1f45cd09c",
       "version_major": 2,
       "version_minor": 0
      },
      "text/plain": [
       "Drawing 1000 posterior samples:   0%|          | 0/1000 [00:00<?, ?it/s]"
      ]
     },
     "metadata": {},
     "output_type": "display_data"
    },
    {
     "data": {
      "application/vnd.jupyter.widget-view+json": {
       "model_id": "07587d5e85f24f1ab89c134cf9b53b93",
       "version_major": 2,
       "version_minor": 0
      },
      "text/plain": [
       "Drawing 1000 posterior samples:   0%|          | 0/1000 [00:00<?, ?it/s]"
      ]
     },
     "metadata": {},
     "output_type": "display_data"
    },
    {
     "name": "stdout",
     "output_type": "stream",
     "text": [
      "tensor([5.4858, 2.7762, 7.9457, 3.0031, 7.0479, 2.9125, 6.5278, 6.5625, 1.4603,\n",
      "        6.5777, 1.9602, 3.2210, 5.1673, 9.4408, 8.1773])\n",
      "tensor([ 9.8494, 12.6809, 40.1387, 11.2476, 85.7897, 55.8994, 34.7731, 47.1920,\n",
      "         2.5943, 78.5091,  6.1009, 66.0338, 88.6797, 59.9848, 31.7170])\n",
      "tensor([[ 3.,  6., 20., 10., 90., 55., 27., 27.,  4., 70.,  5., 66., 99., 40.,\n",
      "         45.]])\n",
      "tensor([[0.1000, 0.1000, 0.1000, 0.1000, 0.1000, 0.1000, 0.1000, 0.1000, 0.1000,\n",
      "         0.1000, 0.1000, 0.1000, 0.1000, 0.1000, 0.1000]])\n",
      "tensor([[ 3845.9001,  2613.2524, 23430.2305,   524.8582,  3365.1968,   460.7209,\n",
      "          5147.0063, 22534.4590,   202.2354,  5778.8730,   249.2381,   514.8292,\n",
      "          6656.1025, 24421.0547, 12160.4678]])\n"
     ]
    },
    {
     "data": {
      "application/vnd.jupyter.widget-view+json": {
       "model_id": "332d49a383904578ad50843f35926920",
       "version_major": 2,
       "version_minor": 0
      },
      "text/plain": [
       "Drawing 1000 posterior samples:   0%|          | 0/1000 [00:00<?, ?it/s]"
      ]
     },
     "metadata": {},
     "output_type": "display_data"
    },
    {
     "data": {
      "application/vnd.jupyter.widget-view+json": {
       "model_id": "8bebb16c478b4b33b909748e6f6133fe",
       "version_major": 2,
       "version_minor": 0
      },
      "text/plain": [
       "Drawing 1000 posterior samples:   0%|          | 0/1000 [00:00<?, ?it/s]"
      ]
     },
     "metadata": {},
     "output_type": "display_data"
    },
    {
     "name": "stdout",
     "output_type": "stream",
     "text": [
      "tensor([ 6.6792,  5.5653,  4.0178,  8.8580,  7.2093,  5.2170,  4.9885,  4.5574,\n",
      "         2.1028,  9.7016,  4.1890,  8.6668, 11.9864,  8.1865,  5.1543])\n",
      "tensor([11.4563, 15.3040,  8.6338, 30.2474, 68.0819, 46.0764, 18.4358, 42.0026,\n",
      "         4.7666, 61.1919, 11.3280, 69.7470, 63.1238, 43.5562, 61.8806])\n",
      "tensor([[ 3.,  6., 20., 10., 90., 55., 27., 27.,  4., 70.,  5., 66., 99., 40.,\n",
      "         45.]])\n",
      "tensor([[0.1000, 0.1000, 0.1000, 0.1000, 0.1000, 0.1000, 0.1000, 0.1000, 0.1000,\n",
      "         0.1000, 0.1000, 0.1000, 0.1000, 0.1000, 0.1000]])\n",
      "tensor([[ 5801.3521,  5872.3145,  7262.5068, 24416.1172, 26614.1289,  5337.9590,\n",
      "          4907.1172, 12288.1484,   246.9285,  8580.1143,  2875.3281,  4452.7632,\n",
      "         71533.6562,  3978.3687, 15571.6914]])\n"
     ]
    },
    {
     "data": {
      "application/vnd.jupyter.widget-view+json": {
       "model_id": "0a0aeae233e5409b8aa8884ec578a747",
       "version_major": 2,
       "version_minor": 0
      },
      "text/plain": [
       "Drawing 1000 posterior samples:   0%|          | 0/1000 [00:00<?, ?it/s]"
      ]
     },
     "metadata": {},
     "output_type": "display_data"
    },
    {
     "data": {
      "application/vnd.jupyter.widget-view+json": {
       "model_id": "e09d42826d634573998c0bfcf801386a",
       "version_major": 2,
       "version_minor": 0
      },
      "text/plain": [
       "Drawing 1000 posterior samples:   0%|          | 0/1000 [00:00<?, ?it/s]"
      ]
     },
     "metadata": {},
     "output_type": "display_data"
    },
    {
     "name": "stdout",
     "output_type": "stream",
     "text": [
      "tensor([3.0135, 2.9394, 3.7019, 3.3385, 2.5063, 2.9998, 3.1502, 3.3950, 0.9474,\n",
      "        1.5698, 0.9287, 2.3771, 1.6268, 2.3757, 6.5714])\n",
      "tensor([ 6.0168,  8.7613, 23.5950,  9.3510, 89.4510, 52.5253, 26.5843, 28.2320,\n",
      "         2.4557, 70.9396,  3.3615, 63.4605, 97.7971, 39.9240, 38.4510])\n",
      "tensor([[ 3.,  6., 20., 10., 90., 55., 27., 27.,  4., 70.,  5., 66., 99., 40.,\n",
      "         45.]])\n",
      "tensor([[0.1000, 0.1000, 0.1000, 0.1000, 0.1000, 0.1000, 0.1000, 0.1000, 0.1000,\n",
      "         0.1000, 0.1000, 0.1000, 0.1000, 0.1000, 0.1000]])\n",
      "tensor([[ 905.2263,  809.3655, 1327.2855,  574.3297,  325.4129,  752.2360,\n",
      "          500.8918,  648.1743,  161.3783,  164.1044,  174.6258,  601.3091,\n",
      "          201.3760,  278.8233, 4298.9702]])\n"
     ]
    },
    {
     "data": {
      "application/vnd.jupyter.widget-view+json": {
       "model_id": "54fb21f738934f3eb56f98e77604ff36",
       "version_major": 2,
       "version_minor": 0
      },
      "text/plain": [
       "Drawing 1000 posterior samples:   0%|          | 0/1000 [00:00<?, ?it/s]"
      ]
     },
     "metadata": {},
     "output_type": "display_data"
    },
    {
     "data": {
      "application/vnd.jupyter.widget-view+json": {
       "model_id": "6398ad80fbb34813821847802a125288",
       "version_major": 2,
       "version_minor": 0
      },
      "text/plain": [
       "Drawing 1000 posterior samples:   0%|          | 0/1000 [00:00<?, ?it/s]"
      ]
     },
     "metadata": {},
     "output_type": "display_data"
    },
    {
     "name": "stdout",
     "output_type": "stream",
     "text": [
      "tensor([11.8668,  7.3392,  2.9369,  2.9439,  4.5876,  4.9240,  6.2799,  5.7997,\n",
      "         3.3507,  6.9111,  3.5632,  2.2598,  2.2452,  1.7962,  3.7564])\n",
      "tensor([34.2775, 14.5361, 20.6407,  8.4836, 93.4467, 42.5892, 39.0780, 28.8337,\n",
      "        11.3766, 71.9012,  8.0658, 62.4453, 96.7361, 36.3043, 53.8747])\n",
      "tensor([[ 3.,  6., 20., 10., 90., 55., 27., 27.,  4., 70.,  5., 66., 99., 40.,\n",
      "         45.]])\n",
      "tensor([[0.1000, 0.1000, 0.1000, 0.1000, 0.1000, 0.1000, 0.1000, 0.1000, 0.1000,\n",
      "         0.1000, 0.1000, 0.1000, 0.1000, 0.1000, 0.1000]])\n",
      "tensor([[55949.8633,  6331.6851,   447.9224,   544.4240,  1641.9735,  8909.2900,\n",
      "          9261.1494,  1845.4065,  3278.0957,  2564.1951,  1100.6891,   883.5149,\n",
      "           504.6945,   840.8423,  4639.3862]])\n"
     ]
    },
    {
     "data": {
      "application/vnd.jupyter.widget-view+json": {
       "model_id": "9e1f67a74ea949adb343c5564a93f122",
       "version_major": 2,
       "version_minor": 0
      },
      "text/plain": [
       "Drawing 1000 posterior samples:   0%|          | 0/1000 [00:00<?, ?it/s]"
      ]
     },
     "metadata": {},
     "output_type": "display_data"
    },
    {
     "data": {
      "application/vnd.jupyter.widget-view+json": {
       "model_id": "b7e0f70a1df842f989cdc4c114396719",
       "version_major": 2,
       "version_minor": 0
      },
      "text/plain": [
       "Drawing 1000 posterior samples:   0%|          | 0/1000 [00:00<?, ?it/s]"
      ]
     },
     "metadata": {},
     "output_type": "display_data"
    },
    {
     "name": "stdout",
     "output_type": "stream",
     "text": [
      "tensor([3.5196, 5.2566, 0.8813, 4.5624, 5.7825, 3.3838, 3.5950, 1.3220, 1.4365,\n",
      "        4.3377, 0.8223, 1.6100, 7.1358, 0.5919, 1.9684])\n",
      "tensor([ 8.0882, 18.9541, 18.3178, 24.9094, 71.8868, 44.2737, 19.3954, 24.9851,\n",
      "         2.9431, 85.4178,  7.2095, 63.8435, 81.7087, 41.6316, 45.1235])\n",
      "tensor([[ 3.,  6., 20., 10., 90., 55., 27., 27.,  4., 70.,  5., 66., 99., 40.,\n",
      "         45.]])\n",
      "tensor([[0.1000, 0.1000, 0.1000, 0.1000, 0.1000, 0.1000, 0.1000, 0.1000, 0.1000,\n",
      "         0.1000, 0.1000, 0.1000, 0.1000, 0.1000, 0.1000]])\n",
      "tensor([[ 1909.8237,  9767.6279,   177.6547, 12150.9355, 18071.7656,  6321.1572,\n",
      "          3533.5776,   287.2961,   155.8650, 12821.8848,   275.2843,   358.8611,\n",
      "         17490.5977,   148.3550,   191.0086]])\n"
     ]
    }
   ],
   "source": [
    "\n",
    "\n",
    "\n",
    "analytic = torch.distributions.normal.Normal(true_thetas, 0.1)\n",
    "\n",
    "\n",
    "overall_snpe_list = []\n",
    "\n",
    "\n",
    "## for round\n",
    "for posterior_snpe_list in list_collection:\n",
    "    \n",
    "    KL_snpe = []\n",
    "    KL_snpe_1d = []\n",
    "    \n",
    "    \n",
    "    ## for number of simulations\n",
    "    for posterior_snpe in posterior_snpe_list:\n",
    "\n",
    "\n",
    "        #KL = KLdivergence(posterior_snpe, sample_y)\n",
    "        KL = KL_Gauss(posterior_snpe, analytic)\n",
    "\n",
    "\n",
    "        KL_1d = calc_KL_1d(posterior_snpe, analytic)\n",
    "\n",
    "        KL_snpe_1d.append(KL_1d)\n",
    "\n",
    "        #KL_snpe_sum.append(sum_KL)\n",
    "\n",
    "        KL_snpe.append(KL)\n",
    "        \n",
    "    overall_snpe_list.append(KL_snpe)\n",
    "\n",
    "\n",
    "    \n",
    "    "
   ]
  },
  {
   "cell_type": "code",
   "execution_count": 51,
   "id": "a359814e",
   "metadata": {},
   "outputs": [
    {
     "data": {
      "application/vnd.jupyter.widget-view+json": {
       "model_id": "71b4f8c47d374931a3d7b0382fd50c53",
       "version_major": 2,
       "version_minor": 0
      },
      "text/plain": [
       "Drawing 1000 posterior samples:   0%|          | 0/1000 [00:00<?, ?it/s]"
      ]
     },
     "metadata": {},
     "output_type": "display_data"
    },
    {
     "data": {
      "application/vnd.jupyter.widget-view+json": {
       "model_id": "2ac2338a39de4c6d960c55786740bb5e",
       "version_major": 2,
       "version_minor": 0
      },
      "text/plain": [
       "Drawing 1000 posterior samples:   0%|          | 0/1000 [00:00<?, ?it/s]"
      ]
     },
     "metadata": {},
     "output_type": "display_data"
    },
    {
     "data": {
      "application/vnd.jupyter.widget-view+json": {
       "model_id": "3db5b31e9d694743b99aad8b66e13045",
       "version_major": 2,
       "version_minor": 0
      },
      "text/plain": [
       "Drawing 1000 posterior samples:   0%|          | 0/1000 [00:00<?, ?it/s]"
      ]
     },
     "metadata": {},
     "output_type": "display_data"
    },
    {
     "data": {
      "application/vnd.jupyter.widget-view+json": {
       "model_id": "b3df66dddecc420d9b7d097f9f5a936d",
       "version_major": 2,
       "version_minor": 0
      },
      "text/plain": [
       "Drawing 1000 posterior samples:   0%|          | 0/1000 [00:00<?, ?it/s]"
      ]
     },
     "metadata": {},
     "output_type": "display_data"
    },
    {
     "data": {
      "application/vnd.jupyter.widget-view+json": {
       "model_id": "dd4d250a1b2141f3b57f0bf3f18f53bf",
       "version_major": 2,
       "version_minor": 0
      },
      "text/plain": [
       "Drawing 1000 posterior samples:   0%|          | 0/1000 [00:00<?, ?it/s]"
      ]
     },
     "metadata": {},
     "output_type": "display_data"
    },
    {
     "data": {
      "application/vnd.jupyter.widget-view+json": {
       "model_id": "421617d386954949b0b27c5451c59073",
       "version_major": 2,
       "version_minor": 0
      },
      "text/plain": [
       "Drawing 1000 posterior samples:   0%|          | 0/1000 [00:00<?, ?it/s]"
      ]
     },
     "metadata": {},
     "output_type": "display_data"
    },
    {
     "data": {
      "application/vnd.jupyter.widget-view+json": {
       "model_id": "edeb41b3798d4f47bcee21b5b7e80c98",
       "version_major": 2,
       "version_minor": 0
      },
      "text/plain": [
       "Drawing 1000 posterior samples:   0%|          | 0/1000 [00:00<?, ?it/s]"
      ]
     },
     "metadata": {},
     "output_type": "display_data"
    },
    {
     "data": {
      "application/vnd.jupyter.widget-view+json": {
       "model_id": "e1c3621cc06e471aa0c6665eb4a0802f",
       "version_major": 2,
       "version_minor": 0
      },
      "text/plain": [
       "Drawing 1000 posterior samples:   0%|          | 0/1000 [00:00<?, ?it/s]"
      ]
     },
     "metadata": {},
     "output_type": "display_data"
    },
    {
     "data": {
      "application/vnd.jupyter.widget-view+json": {
       "model_id": "3fab186d9e684944b9a754bde8178dac",
       "version_major": 2,
       "version_minor": 0
      },
      "text/plain": [
       "Drawing 1000 posterior samples:   0%|          | 0/1000 [00:00<?, ?it/s]"
      ]
     },
     "metadata": {},
     "output_type": "display_data"
    },
    {
     "data": {
      "application/vnd.jupyter.widget-view+json": {
       "model_id": "271cb652a4f34a5b82ef2ef46a96f706",
       "version_major": 2,
       "version_minor": 0
      },
      "text/plain": [
       "Drawing 1000 posterior samples:   0%|          | 0/1000 [00:00<?, ?it/s]"
      ]
     },
     "metadata": {},
     "output_type": "display_data"
    },
    {
     "data": {
      "application/vnd.jupyter.widget-view+json": {
       "model_id": "8693d3492df44074b8caf7f2f0700f0b",
       "version_major": 2,
       "version_minor": 0
      },
      "text/plain": [
       "Drawing 1000 posterior samples:   0%|          | 0/1000 [00:00<?, ?it/s]"
      ]
     },
     "metadata": {},
     "output_type": "display_data"
    },
    {
     "data": {
      "application/vnd.jupyter.widget-view+json": {
       "model_id": "e8221f7f3a4146118532747d249c964d",
       "version_major": 2,
       "version_minor": 0
      },
      "text/plain": [
       "Drawing 1000 posterior samples:   0%|          | 0/1000 [00:00<?, ?it/s]"
      ]
     },
     "metadata": {},
     "output_type": "display_data"
    },
    {
     "data": {
      "application/vnd.jupyter.widget-view+json": {
       "model_id": "08231c1dd1454e54a6876481b3cd89dc",
       "version_major": 2,
       "version_minor": 0
      },
      "text/plain": [
       "Drawing 1000 posterior samples:   0%|          | 0/1000 [00:00<?, ?it/s]"
      ]
     },
     "metadata": {},
     "output_type": "display_data"
    },
    {
     "data": {
      "application/vnd.jupyter.widget-view+json": {
       "model_id": "1d90e8d72bfe4375b0f0836fd5fd4d2a",
       "version_major": 2,
       "version_minor": 0
      },
      "text/plain": [
       "Drawing 1000 posterior samples:   0%|          | 0/1000 [00:00<?, ?it/s]"
      ]
     },
     "metadata": {},
     "output_type": "display_data"
    },
    {
     "data": {
      "application/vnd.jupyter.widget-view+json": {
       "model_id": "7d5527e4b3e24e188280436a1630543c",
       "version_major": 2,
       "version_minor": 0
      },
      "text/plain": [
       "Drawing 1000 posterior samples:   0%|          | 0/1000 [00:00<?, ?it/s]"
      ]
     },
     "metadata": {},
     "output_type": "display_data"
    },
    {
     "data": {
      "application/vnd.jupyter.widget-view+json": {
       "model_id": "77f4c071b6e44d67b015147a15a19598",
       "version_major": 2,
       "version_minor": 0
      },
      "text/plain": [
       "Drawing 1000 posterior samples:   0%|          | 0/1000 [00:00<?, ?it/s]"
      ]
     },
     "metadata": {},
     "output_type": "display_data"
    },
    {
     "data": {
      "application/vnd.jupyter.widget-view+json": {
       "model_id": "42083d2175df4083bb4c63d06d2c6740",
       "version_major": 2,
       "version_minor": 0
      },
      "text/plain": [
       "Drawing 1000 posterior samples:   0%|          | 0/1000 [00:00<?, ?it/s]"
      ]
     },
     "metadata": {},
     "output_type": "display_data"
    },
    {
     "data": {
      "application/vnd.jupyter.widget-view+json": {
       "model_id": "8d027faf096945aab4512f8b9f8a7b8c",
       "version_major": 2,
       "version_minor": 0
      },
      "text/plain": [
       "Drawing 1000 posterior samples:   0%|          | 0/1000 [00:00<?, ?it/s]"
      ]
     },
     "metadata": {},
     "output_type": "display_data"
    },
    {
     "data": {
      "application/vnd.jupyter.widget-view+json": {
       "model_id": "bd626c9608c145a7b455847c571bcda7",
       "version_major": 2,
       "version_minor": 0
      },
      "text/plain": [
       "Drawing 1000 posterior samples:   0%|          | 0/1000 [00:00<?, ?it/s]"
      ]
     },
     "metadata": {},
     "output_type": "display_data"
    },
    {
     "data": {
      "application/vnd.jupyter.widget-view+json": {
       "model_id": "738eea14e58d4e1dbb79b498c38d826e",
       "version_major": 2,
       "version_minor": 0
      },
      "text/plain": [
       "Drawing 1000 posterior samples:   0%|          | 0/1000 [00:00<?, ?it/s]"
      ]
     },
     "metadata": {},
     "output_type": "display_data"
    },
    {
     "data": {
      "application/vnd.jupyter.widget-view+json": {
       "model_id": "7ef186181cad46f4a4a27ab1fbf9403c",
       "version_major": 2,
       "version_minor": 0
      },
      "text/plain": [
       "Drawing 1000 posterior samples:   0%|          | 0/1000 [00:00<?, ?it/s]"
      ]
     },
     "metadata": {},
     "output_type": "display_data"
    },
    {
     "data": {
      "application/vnd.jupyter.widget-view+json": {
       "model_id": "3f228bb30fff450596d9f8a9441f83ce",
       "version_major": 2,
       "version_minor": 0
      },
      "text/plain": [
       "Drawing 1000 posterior samples:   0%|          | 0/1000 [00:00<?, ?it/s]"
      ]
     },
     "metadata": {},
     "output_type": "display_data"
    },
    {
     "data": {
      "application/vnd.jupyter.widget-view+json": {
       "model_id": "7142c0839014460795ac03e489a77841",
       "version_major": 2,
       "version_minor": 0
      },
      "text/plain": [
       "Drawing 1000 posterior samples:   0%|          | 0/1000 [00:00<?, ?it/s]"
      ]
     },
     "metadata": {},
     "output_type": "display_data"
    },
    {
     "data": {
      "application/vnd.jupyter.widget-view+json": {
       "model_id": "0451fe91bb2f4bcbafc8c07974ee662b",
       "version_major": 2,
       "version_minor": 0
      },
      "text/plain": [
       "Drawing 1000 posterior samples:   0%|          | 0/1000 [00:00<?, ?it/s]"
      ]
     },
     "metadata": {},
     "output_type": "display_data"
    },
    {
     "data": {
      "application/vnd.jupyter.widget-view+json": {
       "model_id": "5892ff7e82df404a9d21d0e7af68e0ba",
       "version_major": 2,
       "version_minor": 0
      },
      "text/plain": [
       "Drawing 1000 posterior samples:   0%|          | 0/1000 [00:00<?, ?it/s]"
      ]
     },
     "metadata": {},
     "output_type": "display_data"
    }
   ],
   "source": [
    "obs_real = Gaussian(true_thetas[0, 0:])\n",
    "\n",
    "\n",
    "\n",
    "analytic = torch.distributions.normal.Normal(true_thetas, 0.1)\n",
    "\n",
    "\n",
    "overall_incremental_list = []\n",
    "\n",
    "for posterior_incremental_list in list_collection_inc:\n",
    "    \n",
    "    KL_incremental = []\n",
    "\n",
    "    for posterior_incremental in posterior_incremental_list:\n",
    "\n",
    "        posterior_incremental.set_default_x(obs_real)\n",
    "\n",
    "        #KL = KLdivergence(posterior_incremental, sample_y)\n",
    "\n",
    "        KL = KL_Gauss(posterior_incremental, analytic)\n",
    "\n",
    "        #KL_1d = calc_KL_1d(posterior_incremental, analytic)\n",
    "\n",
    "        #KL_incremental_1d.append(KL_1d)\n",
    "\n",
    "\n",
    "        KL_incremental.append(KL)\n",
    "\n",
    "        \n",
    "    overall_incremental_list.append(KL_incremental)\n",
    "\n",
    "    "
   ]
  },
  {
   "cell_type": "code",
   "execution_count": 37,
   "id": "3eaba219",
   "metadata": {},
   "outputs": [
    {
     "data": {
      "text/plain": [
       "5"
      ]
     },
     "execution_count": 37,
     "metadata": {},
     "output_type": "execute_result"
    }
   ],
   "source": [
    "len(overall_incremental_list)"
   ]
  },
  {
   "cell_type": "code",
   "execution_count": 65,
   "id": "b53a09ce",
   "metadata": {},
   "outputs": [
    {
     "name": "stdout",
     "output_type": "stream",
     "text": [
      "[2303.1323  434.0175 3155.6824 5368.2915 3523.1685]\n",
      "[2032.4432   324.97345 2100.6453  2794.0525  2159.1414 ]\n"
     ]
    }
   ],
   "source": [
    "mean_incremental = np.mean(np.array(overall_incremental_list), axis=0)\n",
    "\n",
    "print(mean_incremental)\n",
    "\n",
    "stdev_incremental = np.std(np.array(overall_incremental_list), axis=0)\n",
    "\n",
    "print(stdev_incremental)\n",
    "\n",
    "\n",
    "lower_incremental = mean_incremental - [element * 1.96 for element in stdev_incremental]\n",
    "\n",
    "upper_incremental = mean_incremental + [element * 1.96 for element in stdev_incremental]\n"
   ]
  },
  {
   "cell_type": "code",
   "execution_count": 66,
   "id": "5d97bb01",
   "metadata": {},
   "outputs": [
    {
     "name": "stdout",
     "output_type": "stream",
     "text": [
      "[11003.749   8565.914   2466.51    1766.1453  2955.075 ]\n",
      "[9656.437   4146.688    873.93964 2503.0308  1992.6484 ]\n"
     ]
    }
   ],
   "source": [
    "mean_snpe = np.mean(np.array(overall_snpe_list), axis=0)\n",
    "\n",
    "print(mean_snpe)\n",
    "\n",
    "stdev_snpe = np.std(np.array(overall_snpe_list), axis=0)\n",
    "\n",
    "print(stdev_snpe)\n",
    "\n",
    "\n",
    "lower_snpe = mean_snpe - [element * 1.96 for element in stdev_snpe]\n",
    "\n",
    "upper_snpe = mean_snpe + [element * 1.96 for element in stdev_snpe]"
   ]
  },
  {
   "cell_type": "markdown",
   "id": "7dfa31ca",
   "metadata": {},
   "source": [
    "### Compare KL-divergence of snpe approach with incremental approach in a plot:\n",
    "\n",
    "#### x = number of simulations per round/step"
   ]
  },
  {
   "cell_type": "code",
   "execution_count": 67,
   "id": "dace750d",
   "metadata": {},
   "outputs": [
    {
     "name": "stderr",
     "output_type": "stream",
     "text": [
      "WARNING:matplotlib.legend:No handles with labels found to put in legend.\n",
      "WARNING:matplotlib.legend:No handles with labels found to put in legend.\n"
     ]
    },
    {
     "data": {
      "text/plain": [
       "Text(0.5, 1.0, 'Incremental')"
      ]
     },
     "execution_count": 67,
     "metadata": {},
     "output_type": "execute_result"
    },
    {
     "data": {
      "image/png": "[encoded data removed]",
      "text/plain": [
       "<Figure size 792x576 with 3 Axes>"
      ]
     },
     "metadata": {
      "needs_background": "light"
     },
     "output_type": "display_data"
    }
   ],
   "source": [
    "figure_mosaic = \"\"\"\n",
    "ACC\n",
    "BCC\n",
    "\"\"\"\n",
    "\n",
    "fig, axes = plt.subplot_mosaic(mosaic=figure_mosaic, figsize=(11, 8))\n",
    "\n",
    "    \n",
    "\n",
    "axes['B'].plot(num_simulations_list, mean_incremental, '-o', color='blue')\n",
    "axes['A'].plot(num_simulations_list, mean_snpe, '-o',  color='orange')\n",
    "\n",
    "axes['B'].plot(num_simulations_list, upper_incremental, '--', color='blue')\n",
    "axes['A'].plot(num_simulations_list, upper_snpe, '--',  color='orange')\n",
    "\n",
    "axes['B'].plot(num_simulations_list, lower_incremental, '--', color='blue')\n",
    "axes['A'].plot(num_simulations_list, lower_snpe, '--',  color='orange')\n",
    "\n",
    "\n",
    "axes['C'].plot(num_simulations_list, mean_incremental, '-o',label='incremental', color='blue')\n",
    "axes['C'].plot(num_simulations_list, mean_snpe, '-o', label='snpe', color='orange')\n",
    "\n",
    "axes['C'].plot(num_simulations_list, upper_incremental, '--', color='blue')\n",
    "axes['C'].plot(num_simulations_list, upper_snpe, '--',  color='orange')\n",
    "\n",
    "axes['C'].plot(num_simulations_list, lower_incremental, '--',  color='blue')\n",
    "axes['C'].plot(num_simulations_list, lower_snpe, '--',  color='orange')\n",
    "\n",
    "\n",
    "axes['C'].fill_between(x= num_simulations_list, y1=lower_incremental, y2=upper_incremental, color='blue', alpha=0.2)\n",
    "axes['C'].fill_between(x= num_simulations_list, y1=lower_snpe, y2=upper_snpe, color='orange', alpha=0.2)\n",
    "\n",
    "\n",
    "axes['B'].fill_between(x= num_simulations_list, y1=lower_incremental, y2=upper_incremental, color='blue', alpha=0.2)\n",
    "axes['A'].fill_between(x= num_simulations_list, y1=lower_snpe, y2=upper_snpe, color='orange', alpha=0.2)\n",
    "\n",
    "\n",
    "axes['B'].fill_between(x= num_simulations_list, y1=lower_incremental, y2=upper_incremental, color='blue', alpha=0.2)\n",
    "axes['A'].fill_between(x= num_simulations_list, y1=lower_snpe, y2=upper_snpe, color='orange', alpha=0.2)\n",
    "\n",
    "\n",
    "#plt.title('KL loss')\n",
    "axes['A'].legend()\n",
    "axes['B'].legend()\n",
    "axes['C'].legend()\n",
    "\n",
    "plt.xlabel('simulations per round')\n",
    "plt.ylabel('KL divergence')\n",
    "\n",
    "axes['A'].set_title('SNPE')\n",
    "axes['B'].set_title('Incremental')\n",
    "\n",
    "\n",
    "#axes['B'].set_xticklabels(['0k','2k', '4k', '6k', '8k', '10k'])\n",
    "#axes['A'].set_xticklabels(['0k','2k', '4k', '6k', '8k', '10k'])\n",
    "#axes['C'].set_xticklabels(['0k','2k', '4k', '6k', '8k', '10k'])\n",
    "#plt.xticks(['1k', '3k', '5k', '10k'])"
   ]
  },
  {
   "cell_type": "code",
   "execution_count": 44,
   "id": "ec86eaf3",
   "metadata": {},
   "outputs": [
    {
     "name": "stderr",
     "output_type": "stream",
     "text": [
      "/home/ubuntu/miniconda3/envs/sbi_env/lib/python3.7/site-packages/numpy/core/shape_base.py:65: FutureWarning: The input object of type 'Tensor' is an array-like implementing one of the corresponding protocols (`__array__`, `__array_interface__` or `__array_struct__`); but not a sequence (or 0-D). In the future, this object will be coerced as if it was first converted using `np.array(obj)`. To retain the old behaviour, you have to either modify the type 'Tensor', or assign to an empty array created with `np.empty(correct_shape, dtype=object)`.\n",
      "  ary = asanyarray(ary)\n",
      "/home/ubuntu/miniconda3/envs/sbi_env/lib/python3.7/site-packages/numpy/core/shape_base.py:65: VisibleDeprecationWarning: Creating an ndarray from ragged nested sequences (which is a list-or-tuple of lists-or-tuples-or ndarrays with different lengths or shapes) is deprecated. If you meant to do this, you must specify 'dtype=object' when creating the ndarray.\n",
      "  ary = asanyarray(ary)\n"
     ]
    },
    {
     "ename": "ValueError",
     "evalue": "only one element tensors can be converted to Python scalars",
     "output_type": "error",
     "traceback": [
      "\u001b[0;31m---------------------------------------------------------------------------\u001b[0m",
      "\u001b[0;31mValueError\u001b[0m                                Traceback (most recent call last)",
      "\u001b[0;32m/tmp/ipykernel_92118/1637585160.py\u001b[0m in \u001b[0;36m<module>\u001b[0;34m\u001b[0m\n\u001b[1;32m     13\u001b[0m \u001b[0;32mfor\u001b[0m \u001b[0mj\u001b[0m \u001b[0;32min\u001b[0m \u001b[0mrange\u001b[0m\u001b[0;34m(\u001b[0m\u001b[0;36m8\u001b[0m\u001b[0;34m)\u001b[0m\u001b[0;34m:\u001b[0m\u001b[0;34m\u001b[0m\u001b[0;34m\u001b[0m\u001b[0m\n\u001b[1;32m     14\u001b[0m \u001b[0;34m\u001b[0m\u001b[0m\n\u001b[0;32m---> 15\u001b[0;31m     \u001b[0maxes\u001b[0m\u001b[0;34m[\u001b[0m\u001b[0;34m'A'\u001b[0m\u001b[0;34m]\u001b[0m\u001b[0;34m.\u001b[0m\u001b[0mplot\u001b[0m\u001b[0;34m(\u001b[0m\u001b[0mnum_simulations_list\u001b[0m\u001b[0;34m,\u001b[0m \u001b[0;34m[\u001b[0m\u001b[0mi\u001b[0m\u001b[0;34m[\u001b[0m\u001b[0mj\u001b[0m\u001b[0;34m]\u001b[0m \u001b[0;32mfor\u001b[0m \u001b[0mi\u001b[0m \u001b[0;32min\u001b[0m \u001b[0mKL_snpe_1d\u001b[0m\u001b[0;34m]\u001b[0m\u001b[0;34m,\u001b[0m \u001b[0;34m'--o'\u001b[0m\u001b[0;34m,\u001b[0m \u001b[0mcolor\u001b[0m\u001b[0;34m=\u001b[0m\u001b[0;34m'orange'\u001b[0m\u001b[0;34m,\u001b[0m \u001b[0malpha\u001b[0m\u001b[0;34m=\u001b[0m\u001b[0;36m0.4\u001b[0m\u001b[0;34m)\u001b[0m\u001b[0;34m\u001b[0m\u001b[0;34m\u001b[0m\u001b[0m\n\u001b[0m\u001b[1;32m     16\u001b[0m     \u001b[0maxes\u001b[0m\u001b[0;34m[\u001b[0m\u001b[0;34m'B'\u001b[0m\u001b[0;34m]\u001b[0m\u001b[0;34m.\u001b[0m\u001b[0mplot\u001b[0m\u001b[0;34m(\u001b[0m\u001b[0mnum_simulations_list\u001b[0m\u001b[0;34m,\u001b[0m \u001b[0;34m[\u001b[0m\u001b[0mi\u001b[0m\u001b[0;34m[\u001b[0m\u001b[0mj\u001b[0m\u001b[0;34m]\u001b[0m \u001b[0;32mfor\u001b[0m \u001b[0mi\u001b[0m \u001b[0;32min\u001b[0m \u001b[0mKL_incremental_1d\u001b[0m\u001b[0;34m]\u001b[0m\u001b[0;34m,\u001b[0m \u001b[0;34m'--o'\u001b[0m\u001b[0;34m,\u001b[0m \u001b[0mcolor\u001b[0m\u001b[0;34m=\u001b[0m\u001b[0;34m'blue'\u001b[0m\u001b[0;34m,\u001b[0m \u001b[0malpha\u001b[0m\u001b[0;34m=\u001b[0m\u001b[0;36m0.4\u001b[0m\u001b[0;34m)\u001b[0m\u001b[0;34m\u001b[0m\u001b[0;34m\u001b[0m\u001b[0m\n\u001b[1;32m     17\u001b[0m \u001b[0;34m\u001b[0m\u001b[0m\n",
      "\u001b[0;32m~/miniconda3/envs/sbi_env/lib/python3.7/site-packages/matplotlib/axes/_axes.py\u001b[0m in \u001b[0;36mplot\u001b[0;34m(self, scalex, scaley, data, *args, **kwargs)\u001b[0m\n\u001b[1;32m   1605\u001b[0m         \u001b[0mlines\u001b[0m \u001b[0;34m=\u001b[0m \u001b[0;34m[\u001b[0m\u001b[0;34m*\u001b[0m\u001b[0mself\u001b[0m\u001b[0;34m.\u001b[0m\u001b[0m_get_lines\u001b[0m\u001b[0;34m(\u001b[0m\u001b[0;34m*\u001b[0m\u001b[0margs\u001b[0m\u001b[0;34m,\u001b[0m \u001b[0mdata\u001b[0m\u001b[0;34m=\u001b[0m\u001b[0mdata\u001b[0m\u001b[0;34m,\u001b[0m \u001b[0;34m**\u001b[0m\u001b[0mkwargs\u001b[0m\u001b[0;34m)\u001b[0m\u001b[0;34m]\u001b[0m\u001b[0;34m\u001b[0m\u001b[0;34m\u001b[0m\u001b[0m\n\u001b[1;32m   1606\u001b[0m         \u001b[0;32mfor\u001b[0m \u001b[0mline\u001b[0m \u001b[0;32min\u001b[0m \u001b[0mlines\u001b[0m\u001b[0;34m:\u001b[0m\u001b[0;34m\u001b[0m\u001b[0;34m\u001b[0m\u001b[0m\n\u001b[0;32m-> 1607\u001b[0;31m             \u001b[0mself\u001b[0m\u001b[0;34m.\u001b[0m\u001b[0madd_line\u001b[0m\u001b[0;34m(\u001b[0m\u001b[0mline\u001b[0m\u001b[0;34m)\u001b[0m\u001b[0;34m\u001b[0m\u001b[0;34m\u001b[0m\u001b[0m\n\u001b[0m\u001b[1;32m   1608\u001b[0m         \u001b[0mself\u001b[0m\u001b[0;34m.\u001b[0m\u001b[0m_request_autoscale_view\u001b[0m\u001b[0;34m(\u001b[0m\u001b[0mscalex\u001b[0m\u001b[0;34m=\u001b[0m\u001b[0mscalex\u001b[0m\u001b[0;34m,\u001b[0m \u001b[0mscaley\u001b[0m\u001b[0;34m=\u001b[0m\u001b[0mscaley\u001b[0m\u001b[0;34m)\u001b[0m\u001b[0;34m\u001b[0m\u001b[0;34m\u001b[0m\u001b[0m\n\u001b[1;32m   1609\u001b[0m         \u001b[0;32mreturn\u001b[0m \u001b[0mlines\u001b[0m\u001b[0;34m\u001b[0m\u001b[0;34m\u001b[0m\u001b[0m\n",
      "\u001b[0;32m~/miniconda3/envs/sbi_env/lib/python3.7/site-packages/matplotlib/axes/_base.py\u001b[0m in \u001b[0;36madd_line\u001b[0;34m(self, line)\u001b[0m\n\u001b[1;32m   2099\u001b[0m             \u001b[0mline\u001b[0m\u001b[0;34m.\u001b[0m\u001b[0mset_clip_path\u001b[0m\u001b[0;34m(\u001b[0m\u001b[0mself\u001b[0m\u001b[0;34m.\u001b[0m\u001b[0mpatch\u001b[0m\u001b[0;34m)\u001b[0m\u001b[0;34m\u001b[0m\u001b[0;34m\u001b[0m\u001b[0m\n\u001b[1;32m   2100\u001b[0m \u001b[0;34m\u001b[0m\u001b[0m\n\u001b[0;32m-> 2101\u001b[0;31m         \u001b[0mself\u001b[0m\u001b[0;34m.\u001b[0m\u001b[0m_update_line_limits\u001b[0m\u001b[0;34m(\u001b[0m\u001b[0mline\u001b[0m\u001b[0;34m)\u001b[0m\u001b[0;34m\u001b[0m\u001b[0;34m\u001b[0m\u001b[0m\n\u001b[0m\u001b[1;32m   2102\u001b[0m         \u001b[0;32mif\u001b[0m \u001b[0;32mnot\u001b[0m \u001b[0mline\u001b[0m\u001b[0;34m.\u001b[0m\u001b[0mget_label\u001b[0m\u001b[0;34m(\u001b[0m\u001b[0;34m)\u001b[0m\u001b[0;34m:\u001b[0m\u001b[0;34m\u001b[0m\u001b[0;34m\u001b[0m\u001b[0m\n\u001b[1;32m   2103\u001b[0m             \u001b[0mline\u001b[0m\u001b[0;34m.\u001b[0m\u001b[0mset_label\u001b[0m\u001b[0;34m(\u001b[0m\u001b[0;34m'_line%d'\u001b[0m \u001b[0;34m%\u001b[0m \u001b[0mlen\u001b[0m\u001b[0;34m(\u001b[0m\u001b[0mself\u001b[0m\u001b[0;34m.\u001b[0m\u001b[0mlines\u001b[0m\u001b[0;34m)\u001b[0m\u001b[0;34m)\u001b[0m\u001b[0;34m\u001b[0m\u001b[0;34m\u001b[0m\u001b[0m\n",
      "\u001b[0;32m~/miniconda3/envs/sbi_env/lib/python3.7/site-packages/matplotlib/axes/_base.py\u001b[0m in \u001b[0;36m_update_line_limits\u001b[0;34m(self, line)\u001b[0m\n\u001b[1;32m   2121\u001b[0m         \u001b[0mFigures\u001b[0m \u001b[0mout\u001b[0m \u001b[0mthe\u001b[0m \u001b[0mdata\u001b[0m \u001b[0mlimit\u001b[0m \u001b[0mof\u001b[0m \u001b[0mthe\u001b[0m \u001b[0mgiven\u001b[0m \u001b[0mline\u001b[0m\u001b[0;34m,\u001b[0m \u001b[0mupdating\u001b[0m \u001b[0mself\u001b[0m\u001b[0;34m.\u001b[0m\u001b[0mdataLim\u001b[0m\u001b[0;34m.\u001b[0m\u001b[0;34m\u001b[0m\u001b[0;34m\u001b[0m\u001b[0m\n\u001b[1;32m   2122\u001b[0m         \"\"\"\n\u001b[0;32m-> 2123\u001b[0;31m         \u001b[0mpath\u001b[0m \u001b[0;34m=\u001b[0m \u001b[0mline\u001b[0m\u001b[0;34m.\u001b[0m\u001b[0mget_path\u001b[0m\u001b[0;34m(\u001b[0m\u001b[0;34m)\u001b[0m\u001b[0;34m\u001b[0m\u001b[0;34m\u001b[0m\u001b[0m\n\u001b[0m\u001b[1;32m   2124\u001b[0m         \u001b[0;32mif\u001b[0m \u001b[0mpath\u001b[0m\u001b[0;34m.\u001b[0m\u001b[0mvertices\u001b[0m\u001b[0;34m.\u001b[0m\u001b[0msize\u001b[0m \u001b[0;34m==\u001b[0m \u001b[0;36m0\u001b[0m\u001b[0;34m:\u001b[0m\u001b[0;34m\u001b[0m\u001b[0;34m\u001b[0m\u001b[0m\n\u001b[1;32m   2125\u001b[0m             \u001b[0;32mreturn\u001b[0m\u001b[0;34m\u001b[0m\u001b[0;34m\u001b[0m\u001b[0m\n",
      "\u001b[0;32m~/miniconda3/envs/sbi_env/lib/python3.7/site-packages/matplotlib/lines.py\u001b[0m in \u001b[0;36mget_path\u001b[0;34m(self)\u001b[0m\n\u001b[1;32m   1020\u001b[0m         \"\"\"\n\u001b[1;32m   1021\u001b[0m         \u001b[0;32mif\u001b[0m \u001b[0mself\u001b[0m\u001b[0;34m.\u001b[0m\u001b[0m_invalidy\u001b[0m \u001b[0;32mor\u001b[0m \u001b[0mself\u001b[0m\u001b[0;34m.\u001b[0m\u001b[0m_invalidx\u001b[0m\u001b[0;34m:\u001b[0m\u001b[0;34m\u001b[0m\u001b[0;34m\u001b[0m\u001b[0m\n\u001b[0;32m-> 1022\u001b[0;31m             \u001b[0mself\u001b[0m\u001b[0;34m.\u001b[0m\u001b[0mrecache\u001b[0m\u001b[0;34m(\u001b[0m\u001b[0;34m)\u001b[0m\u001b[0;34m\u001b[0m\u001b[0;34m\u001b[0m\u001b[0m\n\u001b[0m\u001b[1;32m   1023\u001b[0m         \u001b[0;32mreturn\u001b[0m \u001b[0mself\u001b[0m\u001b[0;34m.\u001b[0m\u001b[0m_path\u001b[0m\u001b[0;34m\u001b[0m\u001b[0;34m\u001b[0m\u001b[0m\n\u001b[1;32m   1024\u001b[0m \u001b[0;34m\u001b[0m\u001b[0m\n",
      "\u001b[0;32m~/miniconda3/envs/sbi_env/lib/python3.7/site-packages/matplotlib/lines.py\u001b[0m in \u001b[0;36mrecache\u001b[0;34m(self, always)\u001b[0m\n\u001b[1;32m    666\u001b[0m         \u001b[0;32mif\u001b[0m \u001b[0malways\u001b[0m \u001b[0;32mor\u001b[0m \u001b[0mself\u001b[0m\u001b[0;34m.\u001b[0m\u001b[0m_invalidy\u001b[0m\u001b[0;34m:\u001b[0m\u001b[0;34m\u001b[0m\u001b[0;34m\u001b[0m\u001b[0m\n\u001b[1;32m    667\u001b[0m             \u001b[0myconv\u001b[0m \u001b[0;34m=\u001b[0m \u001b[0mself\u001b[0m\u001b[0;34m.\u001b[0m\u001b[0mconvert_yunits\u001b[0m\u001b[0;34m(\u001b[0m\u001b[0mself\u001b[0m\u001b[0;34m.\u001b[0m\u001b[0m_yorig\u001b[0m\u001b[0;34m)\u001b[0m\u001b[0;34m\u001b[0m\u001b[0;34m\u001b[0m\u001b[0m\n\u001b[0;32m--> 668\u001b[0;31m             \u001b[0my\u001b[0m \u001b[0;34m=\u001b[0m \u001b[0m_to_unmasked_float_array\u001b[0m\u001b[0;34m(\u001b[0m\u001b[0myconv\u001b[0m\u001b[0;34m)\u001b[0m\u001b[0;34m.\u001b[0m\u001b[0mravel\u001b[0m\u001b[0;34m(\u001b[0m\u001b[0;34m)\u001b[0m\u001b[0;34m\u001b[0m\u001b[0;34m\u001b[0m\u001b[0m\n\u001b[0m\u001b[1;32m    669\u001b[0m         \u001b[0;32melse\u001b[0m\u001b[0;34m:\u001b[0m\u001b[0;34m\u001b[0m\u001b[0;34m\u001b[0m\u001b[0m\n\u001b[1;32m    670\u001b[0m             \u001b[0my\u001b[0m \u001b[0;34m=\u001b[0m \u001b[0mself\u001b[0m\u001b[0;34m.\u001b[0m\u001b[0m_y\u001b[0m\u001b[0;34m\u001b[0m\u001b[0;34m\u001b[0m\u001b[0m\n",
      "\u001b[0;32m~/miniconda3/envs/sbi_env/lib/python3.7/site-packages/matplotlib/cbook/__init__.py\u001b[0m in \u001b[0;36m_to_unmasked_float_array\u001b[0;34m(x)\u001b[0m\n\u001b[1;32m   1331\u001b[0m         \u001b[0;32mreturn\u001b[0m \u001b[0mnp\u001b[0m\u001b[0;34m.\u001b[0m\u001b[0mma\u001b[0m\u001b[0;34m.\u001b[0m\u001b[0masarray\u001b[0m\u001b[0;34m(\u001b[0m\u001b[0mx\u001b[0m\u001b[0;34m,\u001b[0m \u001b[0mfloat\u001b[0m\u001b[0;34m)\u001b[0m\u001b[0;34m.\u001b[0m\u001b[0mfilled\u001b[0m\u001b[0;34m(\u001b[0m\u001b[0mnp\u001b[0m\u001b[0;34m.\u001b[0m\u001b[0mnan\u001b[0m\u001b[0;34m)\u001b[0m\u001b[0;34m\u001b[0m\u001b[0;34m\u001b[0m\u001b[0m\n\u001b[1;32m   1332\u001b[0m     \u001b[0;32melse\u001b[0m\u001b[0;34m:\u001b[0m\u001b[0;34m\u001b[0m\u001b[0;34m\u001b[0m\u001b[0m\n\u001b[0;32m-> 1333\u001b[0;31m         \u001b[0;32mreturn\u001b[0m \u001b[0mnp\u001b[0m\u001b[0;34m.\u001b[0m\u001b[0masarray\u001b[0m\u001b[0;34m(\u001b[0m\u001b[0mx\u001b[0m\u001b[0;34m,\u001b[0m \u001b[0mfloat\u001b[0m\u001b[0;34m)\u001b[0m\u001b[0;34m\u001b[0m\u001b[0;34m\u001b[0m\u001b[0m\n\u001b[0m\u001b[1;32m   1334\u001b[0m \u001b[0;34m\u001b[0m\u001b[0m\n\u001b[1;32m   1335\u001b[0m \u001b[0;34m\u001b[0m\u001b[0m\n",
      "\u001b[0;31mValueError\u001b[0m: only one element tensors can be converted to Python scalars"
     ]
    },
    {
     "data": {
      "image/png": "[encoded data removed]",
      "text/plain": [
       "<Figure size 792x360 with 3 Axes>"
      ]
     },
     "metadata": {
      "needs_background": "light"
     },
     "output_type": "display_data"
    }
   ],
   "source": [
    "import matplotlib as mpl\n",
    "\n",
    "figure_mosaic = \"\"\"\n",
    "ACC\n",
    "BCC\n",
    "\"\"\"\n",
    "\n",
    "fig, axes = plt.subplot_mosaic(mosaic=figure_mosaic, figsize=(11, 5))\n",
    "\n",
    "    \n",
    "\n",
    "\n",
    "for j in range(8):\n",
    "\n",
    "    axes['A'].plot(num_simulations_list, [i[j] for i in KL_snpe_1d], '--o', color='orange', alpha=0.4)\n",
    "    axes['B'].plot(num_simulations_list, [i[j] for i in KL_incremental_1d], '--o', color='blue', alpha=0.4)\n",
    "    \n",
    "    axes['C'].plot(num_simulations_list, [i[j] for i in KL_snpe_1d], '--o', color='orange', alpha=1)\n",
    "    axes['C'].plot(num_simulations_list, [i[j] for i in KL_incremental_1d], '--o', color='blue', alpha=0.4)\n",
    "\n",
    "    \n",
    "axes['A'].legend(['snpe'])\n",
    "axes['B'].legend(['incremental'])\n",
    "axes['C'].legend()\n",
    "\n",
    "plt.xlabel('simulations per round')\n",
    "plt.ylabel('KL divergence')"
   ]
  },
  {
   "cell_type": "code",
   "execution_count": null,
   "id": "2a62708c",
   "metadata": {},
   "outputs": [],
   "source": []
  }
 ],
 "metadata": {
  "kernelspec": {
   "display_name": "Python 3 (ipykernel)",
   "language": "python",
   "name": "python3"
  },
  "language_info": {
   "codemirror_mode": {
    "name": "ipython",
    "version": 3
   },
   "file_extension": ".py",
   "mimetype": "text/x-python",
   "name": "python",
   "nbconvert_exporter": "python",
   "pygments_lexer": "ipython3",
   "version": "3.9.5"
  }
 },
 "nbformat": 4,
 "nbformat_minor": 5
}
