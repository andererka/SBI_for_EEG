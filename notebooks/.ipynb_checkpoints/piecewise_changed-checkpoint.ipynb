{
 "cells": [
  {
   "cell_type": "markdown",
   "metadata": {},
   "source": [
    "## Time series with time structured parameters and summary statistics\n",
    "\n",
    "Idea: construct a model $p(x|\\theta)$ with $\\theta = (\\theta_1,...\\theta_n)$ and summary statistics $s(x) = (s_1(x),...s_m(x))$ s.t.\n",
    "\n",
    "\n",
    "for all $i$ there exists a $j$, $j\\leq m$, and $l$, $j\\leq l$ such that\n",
    " \n",
    "$p(s_{1:i}|\\theta_{1:n} ) = p(s_{1:i}|\\theta_{1:j}) $.\n",
    "\n",
    "and \n",
    "\n",
    "$p(s_{1:i+1}|\\theta_{1:n} ) = p(s_{1:i+1}|\\theta_{1:l}) $."
   ]
  },
  {
   "cell_type": "markdown",
   "metadata": {},
   "source": [
    "### Examples:\n",
    "1. Piecewise linear function:\n",
    " - $\\theta_{1,2}$ : a and b of linear function f(x) = ax + b\n",
    " - $\\theta_{3,4}$ : time of changing point cp, and a2 of second slope\n",
    "\n",
    " 2. Sinusoidal waves with linearly increasing/decreasing amplitudes, and changing points at which this linear function changes.\n",
    " \n"
   ]
  },
  {
   "cell_type": "code",
   "execution_count": 1,
   "metadata": {},
   "outputs": [],
   "source": [
    "\n",
    "%load_ext autoreload\n",
    "%autoreload 2\n",
    "import numpy as np\n",
    "import scipy as scp\n",
    "import matplotlib.pyplot as plt\n",
    "\n",
    "\n",
    "import sys\n",
    "sys.path.append('../code/')\n",
    "\n",
    "import torch"
   ]
  },
  {
   "cell_type": "code",
   "execution_count": 2,
   "metadata": {},
   "outputs": [],
   "source": [
    "# sbi\n",
    "from sbi import utils as utils\n",
    "from sbi import analysis as analysis\n",
    "from sbi.inference.base import infer\n",
    "from sbi.inference import SNPE, prepare_for_sbi, simulate_for_sbi\n",
    "from sbi.inference import SNPE_C\n",
    "from utils.helpers import get_time\n",
    "\n",
    "from utils.sbi_modulated_functions import Combined\n"
   ]
  },
  {
   "cell_type": "code",
   "execution_count": 94,
   "metadata": {},
   "outputs": [],
   "source": [
    "def piecewise_linear(a1,b, a2,a3, cp1, cp2, add_noise=None):\n",
    "    \"\"\"\n",
    "    Args:\n",
    "        a1 (float): first slope\n",
    "        b (float): offset\n",
    "        a2 (float): second slope\n",
    "        a3 (float): 3rd slope\n",
    "        cp1, cp2 (float): changing points\n",
    "        add_noise (None or float): None or scale of Gaussian noise on all variables\n",
    "\n",
    "    Returns:\n",
    "        x,y (arrays): x and y of piecewise linear function. \n",
    "    \"\"\"\n",
    "    if not add_noise == None:\n",
    "        a1,b, a2,a3, cp1, cp2 = np.array([a1,b, a2,a3, cp1, cp2]) + scp.random.normal(scale=add_noise,size=6)       \n",
    "    \n",
    "    x = np.arange(0,10,0.005)\n",
    "    y = np.zeros(x.shape)\n",
    "    \n",
    "    # first piece\n",
    "    y[x<cp1] = (b+a1*x[x<cp1])\n",
    "    \n",
    "    # second piece     \n",
    "    y[(x>=cp1) & (x<cp2)] = y[np.sum(x<cp1)-1] + a2* (x[(x>=cp1) & (x<cp2)]  - cp1) \n",
    "    \n",
    "    # third piece\n",
    "    y[x>=cp2] = y[np.sum(x<cp2)-1] + a3* (x[x>=cp2] - cp2) \n",
    "    \n",
    "    \n",
    "    print('x',x)\n",
    "    print(y)\n",
    "    return np.concatenate((x, y))\n",
    "\n",
    "\n",
    "def piecewise_linear_first_batch(thetas):\n",
    "    \"\"\"\n",
    "    Args:\n",
    "        a1 (float): first slope\n",
    "        b (float): offset\n",
    "        a2 (float): second slope\n",
    "        a3 (float): 3rd slope\n",
    "        cp1, cp2 (float): changing points\n",
    "        add_noise (None or float): None or scale of Gaussian noise on all variables\n",
    "\n",
    "    Returns:\n",
    "        x,y (arrays): x and y of piecewise linear function. \n",
    "    \"\"\"\n",
    "    \n",
    "    a1 = thetas[0]\n",
    "    b = thetas[1]\n",
    "    a2 = np.float32(-2)\n",
    "    a3 = np.float32(3)\n",
    "    cp1 = np.float32(3)\n",
    "    cp2 = np.float32(6)\n",
    "    \n",
    "    add_noise=None\n",
    "    \n",
    "    if not add_noise == None:\n",
    "        a1,b, a2,a3, cp1, cp2 = np.array([a1,b, a2,a3, cp1, cp2]) + scp.random.normal(scale=add_noise,size=6)       \n",
    "    \n",
    "    x = torch.arange(0,10,0.01, dtype= torch.float32)\n",
    "    y = torch.zeros(x.shape)\n",
    "    \n",
    "    # first piece\n",
    "    y[x<cp1] = (b+a1*x[x<cp1])\n",
    "    \n",
    "    # second piece     \n",
    "    y[(x>=cp1) & (x<cp2)] = y[torch.sum(x<cp1)-1] + a2* (x[(x>=cp1) & (x<cp2)]  - cp1) \n",
    "    \n",
    "    # third piece\n",
    "    y[x>=cp2] = y[torch.sum(x<cp2)-1] + a3* (x[x>=cp2] - cp2) \n",
    "\n",
    "    \n",
    "    return torch.cat((x, y))\n",
    "\n",
    "\n",
    "def piecewise_linear_second_batch(thetas):\n",
    "    \"\"\"\n",
    "    Args:\n",
    "        a1 (float): first slope\n",
    "        b (float): offset\n",
    "        a2 (float): second slope\n",
    "        a3 (float): 3rd slope\n",
    "        cp1, cp2 (float): changing points\n",
    "        add_noise (None or float): None or scale of Gaussian noise on all variables\n",
    "\n",
    "    Returns:\n",
    "        x,y (arrays): x and y of piecewise linear function. \n",
    "    \"\"\"\n",
    "    \n",
    "    a1 = thetas[0]\n",
    "    b = thetas[1]\n",
    "    a2 = thetas[2]\n",
    "    a3 = thetas[3]\n",
    "    cp1 = np.float32(3)\n",
    "    cp2 = np.float32(6)\n",
    "    \n",
    "    add_noise=None\n",
    "    \n",
    "    if not add_noise == None:\n",
    "        a1,b, a2,a3, cp1, cp2 = np.array([a1,b, a2,a3, cp1, cp2]) + scp.random.normal(scale=add_noise,size=6)       \n",
    "    \n",
    "    x = torch.arange(0,10,0.01)\n",
    "    y = torch.zeros(x.shape)\n",
    "    \n",
    "    # first piece\n",
    "    y[x<cp1] = (b+a1*x[x<cp1])\n",
    "    \n",
    "    # second piece     \n",
    "    y[(x>=cp1) & (x<cp2)] = y[torch.sum(x<cp1)-1] + a2* (x[(x>=cp1) & (x<cp2)]  - cp1) \n",
    "    \n",
    "    # third piece\n",
    "    y[x>=cp2] = y[torch.sum(x<cp2)-1] + a3* (x[x>=cp2] - cp2) \n",
    "\n",
    "    \n",
    "    return torch.cat((x, y))\n",
    "\n",
    "\n",
    "def piecewise_linear_third_batch(thetas):\n",
    "    \"\"\"\n",
    "    Args:\n",
    "        a1 (float): first slope\n",
    "        b (float): offset\n",
    "        a2 (float): second slope\n",
    "        a3 (float): 3rd slope\n",
    "        cp1, cp2 (float): changing points\n",
    "        add_noise (None or float): None or scale of Gaussian noise on all variables\n",
    "\n",
    "    Returns:\n",
    "        x,y (arrays): x and y of piecewise linear function. \n",
    "    \"\"\"\n",
    "    \n",
    "    a1 = thetas[0]\n",
    "    b = thetas[1]\n",
    "    a2 = thetas[2]\n",
    "    a3 = thetas[3]\n",
    "    cp1 = thetas[4]\n",
    "    cp2 = thetas[5]\n",
    "    \n",
    "    add_noise=None\n",
    "    \n",
    "    if not add_noise == None:\n",
    "        a1,b, a2,a3, cp1, cp2 = np.array([a1,b, a2,a3, cp1, cp2]) + scp.random.normal(scale=add_noise,size=6)       \n",
    "    \n",
    "    x = torch.arange(0,10,0.01)\n",
    "    y = torch.zeros(x.shape)\n",
    "    \n",
    "    # first piece\n",
    "    y[x<cp1] = (b+a1*x[x<cp1])\n",
    "    \n",
    "    # second piece     \n",
    "    y[(x>=cp1) & (x<cp2)] = y[torch.sum(x<cp1)-1] + a2* (x[(x>=cp1) & (x<cp2)]  - cp1) \n",
    "    \n",
    "    # third piece\n",
    "    y[x>=cp2] = y[torch.sum(x<cp2)-1] + a3* (x[x>=cp2] - cp2) \n",
    "\n",
    "    \n",
    "    return torch.cat((x, y))"
   ]
  },
  {
   "cell_type": "code",
   "execution_count": null,
   "metadata": {},
   "outputs": [],
   "source": []
  },
  {
   "cell_type": "markdown",
   "metadata": {},
   "source": [
    "### Define prior and summary stats dependent on prior"
   ]
  },
  {
   "cell_type": "code",
   "execution_count": 95,
   "metadata": {},
   "outputs": [
    {
     "name": "stdout",
     "output_type": "stream",
     "text": [
      "-0.836018586591921 0.6102083707805328 7.515783881716129 -6.978422180093252 3.527381403066364 7.112191902877139\n",
      "x [0.000e+00 5.000e-03 1.000e-02 ... 9.985e+00 9.990e+00 9.995e+00]\n",
      "[0.61020837 0.60602828 0.60184818 ... 4.54176221 4.5068701  4.47197799]\n"
     ]
    },
    {
     "data": {
      "text/plain": [
       "[<matplotlib.lines.Line2D at 0x7f2f477841c0>]"
      ]
     },
     "execution_count": 95,
     "metadata": {},
     "output_type": "execute_result"
    },
    {
     "data": {
      "image/png": "[encoded data removed]",
      "text/plain": [
       "<Figure size 432x288 with 1 Axes>"
      ]
     },
     "metadata": {
      "needs_background": "light"
     },
     "output_type": "display_data"
    }
   ],
   "source": [
    "\"\"\"\n",
    "Priors\n",
    "\"\"\"\n",
    "\n",
    "b = scp.random.uniform(0,10)\n",
    "a1 = scp.random.uniform(-10,0)\n",
    "a2 = scp.random.uniform(0,10)\n",
    "a3 = scp.random.uniform(-10,0)\n",
    "cp1 = scp.random.uniform(2,4)\n",
    "cp2 = scp.random.uniform(5,8)\n",
    "\n",
    "print(a1,b, a2,a3, cp1, cp2)\n",
    "x = piecewise_linear(a1,b, a2,a3, cp1, cp2)\n",
    "\n",
    "plt.plot(x)"
   ]
  },
  {
   "cell_type": "code",
   "execution_count": 104,
   "metadata": {},
   "outputs": [],
   "source": [
    "\"\"\"\n",
    "Summary stats\n",
    "\"\"\"\n",
    "\n",
    "def extract_sumstats(y,max_time=10):\n",
    "    \"\"\"\n",
    "    Extract some sumstats for piecewise linear fct with specified prior \n",
    "    !the information in the sumstats is highly dependent on the prior!\n",
    "    Args:\n",
    "        x ([array]): time axis of time series\n",
    "        y ([array]): 1d time series\n",
    "        max_time (float, optional): maximal time to calculate sumstats on. Defaults to 10.\n",
    "\n",
    "    Returns:\n",
    "       s [array]: summary stats of time series, with np.nan for non-calculated sumstats\n",
    "    \"\"\"\n",
    "    \n",
    "    # artificial masking of y \n",
    "    \n",
    "    x = torch.arange(0,10,0.005, dtype=torch.float32)\n",
    "\n",
    "    x = torch.from_numpy(x)\n",
    "\n",
    "    y = np.copy(y)\n",
    "    \n",
    "    batch_list = []\n",
    "    # first batch of sumstats for times <4\n",
    "    \n",
    "    for batch in y:\n",
    "        \n",
    "        batch[x>max_time] = np.nan\n",
    "    \n",
    "        s = np.zeros(7) * np.nan\n",
    "        \n",
    "        s[0] = np.float32(batch[0])\n",
    "        s[1] = np.nanmin(batch[x<4])\n",
    "        \n",
    "        #print(type(s[0]), type(s[1]))\n",
    "        s[2] = x[np.nanargmin(batch[x<4])]\n",
    "\n",
    "        # second batch of sumstats for times > 4\n",
    "        if max_time >= 4 :\n",
    "            s[3] = np.nanmax(batch[(x>=4)&(x<8)])\n",
    "            s[4] = x[np.nanargmax(batch[(x>=4)&(x<8)])] + 4\n",
    "\n",
    "        # third batch of sumstats for times > 5\n",
    "        if max_time >= 5:\n",
    "            s[5] = np.nanmin(batch[x>=5])\n",
    "            s[6] = x[np.nanargmin(batch[x>=5])] + 5\n",
    "            \n",
    "        s = np.float32(s)\n",
    "    \n",
    "            \n",
    "        batch_list.append(torch.from_numpy(s))\n",
    "\n",
    "    return torch.stack(batch_list)\n",
    "\n",
    "    "
   ]
  },
  {
   "cell_type": "code",
   "execution_count": null,
   "metadata": {},
   "outputs": [],
   "source": []
  },
  {
   "cell_type": "markdown",
   "metadata": {},
   "source": [
    "## cosine waves\n",
    "\n",
    "WORK IN PROGRESS\n",
    "\n",
    "same, but more ellaborated summary stats are needed"
   ]
  },
  {
   "cell_type": "code",
   "execution_count": 97,
   "metadata": {},
   "outputs": [],
   "source": [
    "def cosine_waves(a1,b,a2,cp,f_1=1, f_2=1, return_factors=False):\n",
    "    \"\"\"\n",
    "    Args:\n",
    "        a1 (float): first slope\n",
    "        b (float): offset (starting amplitude)\n",
    "        a2 (float): second slope\n",
    "        cp (float): changing point\n",
    "        f_1 (float): first freq\n",
    "        f_2 (float): second freq\n",
    "\n",
    "    Returns:\n",
    "        [type]: [description]\n",
    "    \"\"\"\n",
    "    x = np.arange(0,10,0.01)\n",
    "    y = np.zeros(x.shape)\n",
    "    factor1 = (b+a1*x[x<cp])\n",
    "    factor1[factor1<0] = 0\n",
    "    y[x<cp] = factor1 * np.cos(2*np.pi * f_1 * x[x<cp])\n",
    "     \n",
    "    factor2= y[np.sum(x<cp)-1] + a2* (x[x>=cp] - cp) \n",
    "    factor2[factor2<0] = 0\n",
    "\n",
    "    y[x>=cp] = (factor2) * np.cos(2*np.pi * f_2 * x[x>=cp]) \n",
    "\n",
    "    if return_factors:\n",
    "        return x,y, factor1, factor2\n",
    "    else:\n",
    "        return x,y"
   ]
  },
  {
   "cell_type": "code",
   "execution_count": 98,
   "metadata": {},
   "outputs": [
    {
     "data": {
      "text/plain": [
       "[<matplotlib.lines.Line2D at 0x7f2f4775c7f0>]"
      ]
     },
     "execution_count": 98,
     "metadata": {},
     "output_type": "execute_result"
    },
    {
     "data": {
      "image/png": "[encoded data removed]",
      "text/plain": [
       "<Figure size 432x288 with 1 Axes>"
      ]
     },
     "metadata": {
      "needs_background": "light"
     },
     "output_type": "display_data"
    }
   ],
   "source": [
    "x,y,f1,f2=cosine_waves(4,2,-2,4, return_factors=True  )\n",
    "\n",
    "plt.plot(x[:len(f1)],f1)\n",
    "plt.plot(x[-len(f2):],f2)\n",
    "plt.plot(x,y)"
   ]
  },
  {
   "cell_type": "code",
   "execution_count": 99,
   "metadata": {},
   "outputs": [],
   "source": [
    "def cosine_waves_2(a1,b,a2,a3, cp1, cp2, f_1=1, f_2=1,f_3=1, return_factors=False):\n",
    "    \"\"\"\n",
    "    Args:\n",
    "        a1 (float): first slope\n",
    "        b (float): offset\n",
    "        ai (float): slopes\n",
    "        cpi (float): changing points\n",
    "        f_i (float): first freqs\n",
    "        \n",
    "    Returns:\n",
    "        [type]: [description]\n",
    "    \"\"\"\n",
    "    x = np.arange(0,10,0.01)\n",
    "    y = np.zeros(x.shape)\n",
    "    factor1 = (b+a1*x[x<cp1])\n",
    "    factor1[factor1<0] = 0\n",
    "    y[x<cp1] = factor1 * np.cos(2*np.pi * f_1 * x[x<cp1])\n",
    "     \n",
    "    factor2= y[np.sum(x<cp1)-1] + a2* (x[(x>=cp1) & (x<cp2)] - cp1) \n",
    "    factor2[factor2<0] = 0\n",
    "    y[(x>=cp1) & (x<cp2)] = (factor2) * np.cos(2*np.pi * f_2 * x[(x>=cp1) & (x<cp2)]) \n",
    "    \n",
    "    factor3= y[np.sum(x<cp2)-1] + a3* (x[x>=cp2] - cp2) \n",
    "    factor3[factor3<0] = 0\n",
    "\n",
    "    y[x>=cp2] = (factor3) * np.cos(2*np.pi * f_3 * x[x>=cp2]) \n",
    "\n",
    "    if return_factors:\n",
    "        return x,y, factor1, factor2, factor3\n",
    "    else:\n",
    "        return x,y\n",
    "    \n",
    "    \n",
    "def cosine_waves_2_first(thetas):\n",
    "    \"\"\"\n",
    "    Args:\n",
    "        a1 (float): first slope\n",
    "        b (float): offset\n",
    "        ai (float): slopes\n",
    "        cpi (float): changing points\n",
    "        f_i (float): first freqs\n",
    "        \n",
    "    Returns:\n",
    "        [type]: [description]\n",
    "    \"\"\"\n",
    "    \n",
    "    a1 = thetas[0]\n",
    "    b = thetas[1]\n",
    "    a2=-3\n",
    "    a3=3\n",
    "    cp1=2\n",
    "    cp2=6\n",
    "    f_1=1\n",
    "    f_2=1\n",
    "    f_3=1\n",
    "    \n",
    "    return_factors=False\n",
    "    \n",
    "    x = torch.arange(0,10,0.01, dtype= torch.float32)\n",
    "    y = torch.zeros(x.shape)\n",
    "    factor1 = (b+a1*x[x<cp1])\n",
    "    factor1[factor1<0] = 0\n",
    "    y[x<cp1] = factor1 * np.cos(2*np.pi * f_1 * x[x<cp1])\n",
    "     \n",
    "    factor2= y[np.sum(x<cp1)-1] + a2* (x[(x>=cp1) & (x<cp2)] - cp1) \n",
    "    factor2[factor2<0] = 0\n",
    "    y[(x>=cp1) & (x<cp2)] = (factor2) * np.cos(2*np.pi * f_2 * x[(x>=cp1) & (x<cp2)]) \n",
    "    \n",
    "    factor3= y[torch.sum(x<cp2)-1] + a3* (x[x>=cp2] - cp2) \n",
    "    factor3[factor3<0] = 0\n",
    "\n",
    "    y[x>=cp2] = (factor3) * np.cos(2*np.pi * f_3 * x[x>=cp2]) \n",
    "\n",
    "    if return_factors:\n",
    "        return x,y, factor1, factor2, factor3\n",
    "    else:\n",
    "        return x,y"
   ]
  },
  {
   "cell_type": "code",
   "execution_count": 100,
   "metadata": {},
   "outputs": [
    {
     "data": {
      "text/plain": [
       "[<matplotlib.lines.Line2D at 0x7f2f4773a580>]"
      ]
     },
     "execution_count": 100,
     "metadata": {},
     "output_type": "execute_result"
    },
    {
     "data": {
      "image/png": "[encoded data removed]",
      "text/plain": [
       "<Figure size 432x288 with 1 Axes>"
      ]
     },
     "metadata": {
      "needs_background": "light"
     },
     "output_type": "display_data"
    }
   ],
   "source": [
    "x,y,f1,f2,f3=cosine_waves_2(5,5,\n",
    "                            -3,3,\n",
    "                            2,6, return_factors=True)\n",
    "\n",
    "plt.plot(x[:len(f1)],f1)\n",
    "plt.plot(x[len(f1):-len(f3)],f2)\n",
    "plt.plot(x[-len(f3):],f3)\n",
    "\n",
    "plt.plot(x,y)"
   ]
  },
  {
   "cell_type": "code",
   "execution_count": 101,
   "metadata": {},
   "outputs": [
    {
     "name": "stdout",
     "output_type": "stream",
     "text": [
      "[3, 3]\n",
      "BoxUniform(Uniform(low: torch.Size([2]), high: torch.Size([2])), 1)\n"
     ]
    },
    {
     "data": {
      "application/vnd.jupyter.widget-view+json": {
       "model_id": "ddac0e22729a49ce85e3ed746a5c7c59",
       "version_major": 2,
       "version_minor": 0
      },
      "text/plain": [
       "Running 100 simulations in 100 batches.:   0%|          | 0/100 [00:00<?, ?it/s]"
      ]
     },
     "metadata": {},
     "output_type": "display_data"
    }
   ],
   "source": [
    "#parameter a1,b,a2,a3, cp1, cp2\n",
    "\n",
    "prior_min = [3,3,-5,1,0,4]  \n",
    "\n",
    "prior_max = [7, 7, -1, 3, 2, 6]\n",
    "\n",
    "\n",
    "\n",
    "### first round:\n",
    "\n",
    "prior1 = utils.torchutils.BoxUniform(low=prior_min[0:2], high = prior_max[0:2])\n",
    "\n",
    "print(prior_min[0:2])\n",
    "print(prior1)\n",
    "\n",
    "inf = SNPE_C(prior1, density_estimator=\"nsf\")\n",
    "\n",
    "density_estimator = 'nsf'\n",
    "\n",
    "\n",
    "simulator_stats, prior = prepare_for_sbi(piecewise_linear_first_batch, prior1)\n",
    "\n",
    "inference = SNPE_C(prior, density_estimator=density_estimator)\n",
    "\n",
    "theta, x_without = simulate_for_sbi(\n",
    "    simulator_stats,\n",
    "    proposal=prior,\n",
    "    num_simulations=100,\n",
    "    num_workers=4,\n",
    ")"
   ]
  },
  {
   "cell_type": "code",
   "execution_count": 102,
   "metadata": {},
   "outputs": [
    {
     "data": {
      "text/plain": [
       "torch.Size([100, 2])"
      ]
     },
     "execution_count": 102,
     "metadata": {},
     "output_type": "execute_result"
    }
   ],
   "source": [
    "x_without\n",
    "\n",
    "theta.shape"
   ]
  },
  {
   "cell_type": "code",
   "execution_count": 103,
   "metadata": {},
   "outputs": [
    {
     "ename": "IndexError",
     "evalue": "boolean index did not match indexed array along dimension 0; dimension is 4000 but corresponding boolean dimension is 2000",
     "output_type": "error",
     "traceback": [
      "\u001b[0;31m---------------------------------------------------------------------------\u001b[0m",
      "\u001b[0;31mIndexError\u001b[0m                                Traceback (most recent call last)",
      "\u001b[0;32m/tmp/ipykernel_407341/2622595021.py\u001b[0m in \u001b[0;36m<module>\u001b[0;34m\u001b[0m\n\u001b[0;32m----> 1\u001b[0;31m \u001b[0mx\u001b[0m \u001b[0;34m=\u001b[0m \u001b[0mextract_sumstats\u001b[0m\u001b[0;34m(\u001b[0m\u001b[0mx_without\u001b[0m\u001b[0;34m)\u001b[0m\u001b[0;34m\u001b[0m\u001b[0;34m\u001b[0m\u001b[0m\n\u001b[0m",
      "\u001b[0;32m/tmp/ipykernel_407341/2442241465.py\u001b[0m in \u001b[0;36mextract_sumstats\u001b[0;34m(y, max_time)\u001b[0m\n\u001b[1;32m     29\u001b[0m     \u001b[0;32mfor\u001b[0m \u001b[0mbatch\u001b[0m \u001b[0;32min\u001b[0m \u001b[0my\u001b[0m\u001b[0;34m:\u001b[0m\u001b[0;34m\u001b[0m\u001b[0;34m\u001b[0m\u001b[0m\n\u001b[1;32m     30\u001b[0m \u001b[0;34m\u001b[0m\u001b[0m\n\u001b[0;32m---> 31\u001b[0;31m         \u001b[0mbatch\u001b[0m\u001b[0;34m[\u001b[0m\u001b[0mx\u001b[0m\u001b[0;34m>\u001b[0m\u001b[0mmax_time\u001b[0m\u001b[0;34m]\u001b[0m \u001b[0;34m=\u001b[0m \u001b[0mnp\u001b[0m\u001b[0;34m.\u001b[0m\u001b[0mnan\u001b[0m\u001b[0;34m\u001b[0m\u001b[0;34m\u001b[0m\u001b[0m\n\u001b[0m\u001b[1;32m     32\u001b[0m \u001b[0;34m\u001b[0m\u001b[0m\n\u001b[1;32m     33\u001b[0m         \u001b[0ms\u001b[0m \u001b[0;34m=\u001b[0m \u001b[0mnp\u001b[0m\u001b[0;34m.\u001b[0m\u001b[0mzeros\u001b[0m\u001b[0;34m(\u001b[0m\u001b[0;36m7\u001b[0m\u001b[0;34m)\u001b[0m \u001b[0;34m*\u001b[0m \u001b[0mnp\u001b[0m\u001b[0;34m.\u001b[0m\u001b[0mnan\u001b[0m\u001b[0;34m\u001b[0m\u001b[0;34m\u001b[0m\u001b[0m\n",
      "\u001b[0;31mIndexError\u001b[0m: boolean index did not match indexed array along dimension 0; dimension is 4000 but corresponding boolean dimension is 2000"
     ]
    }
   ],
   "source": [
    "x = extract_sumstats(x_without)"
   ]
  },
  {
   "cell_type": "code",
   "execution_count": 34,
   "metadata": {},
   "outputs": [
    {
     "name": "stdout",
     "output_type": "stream",
     "text": [
      "Neural network successfully converged after 327 epochs.\n"
     ]
    }
   ],
   "source": [
    "\n",
    "inf = inf.append_simulations(theta, x)\n",
    "density_estimator = inf.train()\n",
    "\n",
    "posterior = inf.build_posterior(density_estimator)"
   ]
  },
  {
   "cell_type": "code",
   "execution_count": 37,
   "metadata": {},
   "outputs": [
    {
     "name": "stdout",
     "output_type": "stream",
     "text": [
      "torch.Size([1, 2000])\n",
      "torch.Size([1, 7])\n"
     ]
    }
   ],
   "source": [
    "true_params = [5, 5, -3, 2, 1, 5]\n",
    "\n",
    "\n",
    "obs_real = piecewise_linear_first_batch(true_params).unsqueeze(0)\n",
    "\n",
    "print(obs_real.shape)\n",
    "\n",
    "obs_real_stats = extract_sumstats(obs_real)\n",
    "\n",
    "\n",
    "print(obs_real_stats.shape)"
   ]
  },
  {
   "cell_type": "code",
   "execution_count": 38,
   "metadata": {},
   "outputs": [
    {
     "data": {
      "application/vnd.jupyter.widget-view+json": {
       "model_id": "85b9cc13f5cd4e89a0b04465af44db92",
       "version_major": 2,
       "version_minor": 0
      },
      "text/plain": [
       "Drawing 100 posterior samples:   0%|          | 0/100 [00:00<?, ?it/s]"
      ]
     },
     "metadata": {},
     "output_type": "display_data"
    }
   ],
   "source": [
    "num_samples = 100\n",
    "\n",
    "samples = posterior.sample((num_samples,), x=obs_real_stats)\n",
    "\n",
    "proposal1 = posterior.set_default_x(obs_real_stats)"
   ]
  },
  {
   "cell_type": "code",
   "execution_count": 39,
   "metadata": {},
   "outputs": [
    {
     "data": {
      "application/vnd.jupyter.widget-view+json": {
       "model_id": "c726f7d9a0f1460b823c8dc0f0820deb",
       "version_major": 2,
       "version_minor": 0
      },
      "text/plain": [
       "Drawing 10 posterior samples:   0%|          | 0/10 [00:00<?, ?it/s]"
      ]
     },
     "metadata": {},
     "output_type": "display_data"
    },
    {
     "name": "stdout",
     "output_type": "stream",
     "text": [
      "theta pos size torch.Size([10, 2])\n",
      "theta prior size torch.Size([10, 2])\n",
      "2\n",
      "theta tensor([[ 4.9526,  5.0044, -4.4374,  1.4335],\n",
      "        [ 4.9949,  5.0762, -4.7637,  1.4574],\n",
      "        [ 5.3777,  4.3637, -2.9869,  2.3141],\n",
      "        [ 5.0832,  4.9740, -1.1587,  2.8429],\n",
      "        [ 5.1626,  4.7919, -4.7187,  1.3980],\n",
      "        [ 5.2467,  4.7691, -1.7465,  1.4074],\n",
      "        [ 4.8511,  5.0572, -4.2632,  2.7647],\n",
      "        [ 4.9460,  5.0022, -1.6813,  1.5113],\n",
      "        [ 4.9649,  5.0444, -1.3781,  2.5071],\n",
      "        [ 5.1489,  5.5528, -2.6766,  1.0482]])\n",
      "prior combined torch.Size([10, 4])\n"
     ]
    },
    {
     "data": {
      "application/vnd.jupyter.widget-view+json": {
       "model_id": "1122d69490684190b9e0a19698164bf4",
       "version_major": 2,
       "version_minor": 0
      },
      "text/plain": [
       "Drawing 1 posterior samples:   0%|          | 0/1 [00:00<?, ?it/s]"
      ]
     },
     "metadata": {},
     "output_type": "display_data"
    },
    {
     "name": "stdout",
     "output_type": "stream",
     "text": [
      "theta pos size torch.Size([1, 2])\n",
      "theta prior size torch.Size([1, 2])\n",
      "2\n",
      "theta tensor([[ 4.9585,  5.0225, -2.2534,  2.2098]])\n"
     ]
    },
    {
     "data": {
      "application/vnd.jupyter.widget-view+json": {
       "model_id": "4b4128ce3ce247c6af96d6b9f090726c",
       "version_major": 2,
       "version_minor": 0
      },
      "text/plain": [
       "Drawing 1 posterior samples:   0%|          | 0/1 [00:00<?, ?it/s]"
      ]
     },
     "metadata": {},
     "output_type": "display_data"
    },
    {
     "name": "stdout",
     "output_type": "stream",
     "text": [
      "theta pos size torch.Size([2])\n",
      "theta prior size torch.Size([2])\n",
      "1\n",
      "true\n",
      "theta tensor([[ 5.1533,  4.4782, -2.8790,  2.3686]])\n"
     ]
    },
    {
     "data": {
      "application/vnd.jupyter.widget-view+json": {
       "model_id": "874b38f22ada4b9fb4a353b0bf35727b",
       "version_major": 2,
       "version_minor": 0
      },
      "text/plain": [
       "Drawing 1 posterior samples:   0%|          | 0/1 [00:00<?, ?it/s]"
      ]
     },
     "metadata": {},
     "output_type": "display_data"
    },
    {
     "name": "stdout",
     "output_type": "stream",
     "text": [
      "theta pos size torch.Size([1, 2])\n",
      "theta prior size torch.Size([1, 2])\n",
      "2\n",
      "theta tensor([[ 5.1514,  4.7020, -3.8437,  1.5164]])\n",
      "tensor([-2.7374])\n"
     ]
    },
    {
     "data": {
      "application/vnd.jupyter.widget-view+json": {
       "model_id": "626511ba0fcf457fa72264280118c3cd",
       "version_major": 2,
       "version_minor": 0
      },
      "text/plain": [
       "Drawing 1 posterior samples:   0%|          | 0/1 [00:00<?, ?it/s]"
      ]
     },
     "metadata": {},
     "output_type": "display_data"
    },
    {
     "name": "stdout",
     "output_type": "stream",
     "text": [
      "theta pos size torch.Size([2])\n",
      "theta prior size torch.Size([2])\n",
      "1\n",
      "true\n",
      "theta tensor([[ 4.8795,  5.0358, -4.4810,  1.7816]])\n"
     ]
    },
    {
     "data": {
      "application/vnd.jupyter.widget-view+json": {
       "model_id": "ca8e21b5343f45948bf271fcc2fe6b8a",
       "version_major": 2,
       "version_minor": 0
      },
      "text/plain": [
       "Drawing 1 posterior samples:   0%|          | 0/1 [00:00<?, ?it/s]"
      ]
     },
     "metadata": {},
     "output_type": "display_data"
    },
    {
     "name": "stdout",
     "output_type": "stream",
     "text": [
      "theta pos size torch.Size([2])\n",
      "theta prior size torch.Size([2])\n",
      "1\n",
      "true\n",
      "theta tensor([[ 4.9304,  5.0380, -4.5795,  2.9566]])\n"
     ]
    },
    {
     "data": {
      "application/vnd.jupyter.widget-view+json": {
       "model_id": "626198b370d442a19e7cb03848108134",
       "version_major": 2,
       "version_minor": 0
      },
      "text/plain": [
       "Drawing 1 posterior samples:   0%|          | 0/1 [00:00<?, ?it/s]"
      ]
     },
     "metadata": {},
     "output_type": "display_data"
    },
    {
     "name": "stdout",
     "output_type": "stream",
     "text": [
      "theta pos size torch.Size([2])\n",
      "theta prior size torch.Size([2])\n",
      "1\n",
      "true\n",
      "theta tensor([[ 4.8259,  5.0375, -4.5260,  2.1737]])\n"
     ]
    },
    {
     "data": {
      "application/vnd.jupyter.widget-view+json": {
       "model_id": "007e1834c91b454588cab2b9183214ab",
       "version_major": 2,
       "version_minor": 0
      },
      "text/plain": [
       "Drawing 2 posterior samples:   0%|          | 0/2 [00:00<?, ?it/s]"
      ]
     },
     "metadata": {},
     "output_type": "display_data"
    },
    {
     "name": "stdout",
     "output_type": "stream",
     "text": [
      "theta pos size torch.Size([2, 2])\n",
      "theta prior size torch.Size([2, 2])\n",
      "2\n",
      "theta tensor([[ 4.8674,  5.0441, -3.1699,  2.0384],\n",
      "        [ 5.1045,  4.6689, -4.8397,  2.2370]])\n"
     ]
    },
    {
     "data": {
      "application/vnd.jupyter.widget-view+json": {
       "model_id": "9b9ec1de30fa469d9a72bd450eb1a181",
       "version_major": 2,
       "version_minor": 0
      },
      "text/plain": [
       "Drawing 1 posterior samples:   0%|          | 0/1 [00:00<?, ?it/s]"
      ]
     },
     "metadata": {},
     "output_type": "display_data"
    },
    {
     "name": "stdout",
     "output_type": "stream",
     "text": [
      "theta pos size torch.Size([2])\n",
      "theta prior size torch.Size([2])\n",
      "1\n",
      "true\n",
      "theta tensor([[ 4.9367,  5.0657, -3.9925,  1.9378]])\n"
     ]
    },
    {
     "data": {
      "application/vnd.jupyter.widget-view+json": {
       "model_id": "747a3cf6f2ba4b98b06404c1b1102c5a",
       "version_major": 2,
       "version_minor": 0
      },
      "text/plain": [
       "Drawing 1 posterior samples:   0%|          | 0/1 [00:00<?, ?it/s]"
      ]
     },
     "metadata": {},
     "output_type": "display_data"
    },
    {
     "name": "stdout",
     "output_type": "stream",
     "text": [
      "theta pos size torch.Size([1, 2])\n",
      "theta prior size torch.Size([1, 2])\n",
      "2\n",
      "theta tensor([[ 4.9468,  4.8160, -2.7947,  2.4785]])\n"
     ]
    },
    {
     "data": {
      "application/vnd.jupyter.widget-view+json": {
       "model_id": "dacb7ec272fd4cceae97393c0b7ad16e",
       "version_major": 2,
       "version_minor": 0
      },
      "text/plain": [
       "Drawing 1 posterior samples:   0%|          | 0/1 [00:00<?, ?it/s]"
      ]
     },
     "metadata": {},
     "output_type": "display_data"
    },
    {
     "name": "stdout",
     "output_type": "stream",
     "text": [
      "theta pos size torch.Size([1, 2])\n",
      "theta prior size torch.Size([1, 2])\n",
      "2\n",
      "theta tensor([[ 5.2327,  4.9283, -3.5102,  1.8022]])\n"
     ]
    },
    {
     "data": {
      "application/vnd.jupyter.widget-view+json": {
       "model_id": "142346d47dc54678a2c2440822a30628",
       "version_major": 2,
       "version_minor": 0
      },
      "text/plain": [
       "Drawing 100 posterior samples:   0%|          | 0/100 [00:00<?, ?it/s]"
      ]
     },
     "metadata": {},
     "output_type": "display_data"
    },
    {
     "name": "stdout",
     "output_type": "stream",
     "text": [
      "theta pos size torch.Size([100, 2])\n",
      "theta prior size torch.Size([100, 2])\n",
      "2\n",
      "theta tensor([[ 5.1114,  5.0126, -2.8467,  2.9153],\n",
      "        [ 4.9362,  5.0403, -2.2735,  1.0301],\n",
      "        [ 4.9908,  5.0112, -4.8583,  1.5070],\n",
      "        [ 4.9885,  5.0281, -3.1548,  1.1892],\n",
      "        [ 5.0595,  4.9216, -3.3343,  1.1222],\n",
      "        [ 4.9956,  5.0144, -1.1789,  2.9942],\n",
      "        [ 5.1223,  5.2572, -3.2854,  2.1201],\n",
      "        [ 4.9187,  5.2605, -4.4509,  2.6116],\n",
      "        [ 4.6840,  5.1139, -4.6051,  2.5034],\n",
      "        [ 5.1131,  4.9864, -4.7492,  1.2578],\n",
      "        [ 5.2367,  4.9304, -2.3468,  1.4977],\n",
      "        [ 5.0011,  4.9920, -2.8790,  1.1332],\n",
      "        [ 5.0316,  4.9699, -2.9295,  1.5018],\n",
      "        [ 4.9793,  5.0285, -4.4982,  2.3063],\n",
      "        [ 4.7741,  5.0232, -2.4523,  1.3267],\n",
      "        [ 4.6522,  5.0869, -1.5756,  2.3668],\n",
      "        [ 4.9524,  5.0372, -4.2162,  1.5189],\n",
      "        [ 5.0714,  4.9689, -2.6928,  1.2645],\n",
      "        [ 5.1014,  4.9802, -1.6701,  1.0400],\n",
      "        [ 5.2376,  4.8679, -2.4566,  1.7537],\n",
      "        [ 4.9919,  5.0085, -2.0448,  2.1751],\n",
      "        [ 4.9444,  5.7648, -3.8903,  1.6817],\n",
      "        [ 5.1302,  4.9707, -4.0921,  2.8998],\n",
      "        [ 5.2827,  4.8644, -4.8166,  1.0092],\n",
      "        [ 4.9598,  5.0124, -3.9091,  2.1261],\n",
      "        [ 4.9413,  5.0316, -1.1075,  2.2162],\n",
      "        [ 5.2818,  4.8925, -1.1858,  1.9674],\n",
      "        [ 4.8588,  5.5547, -4.3014,  2.2940],\n",
      "        [ 4.8587,  5.0744, -2.9616,  1.9100],\n",
      "        [ 4.9773,  5.0503, -4.4848,  2.7602],\n",
      "        [ 4.8831,  5.0248, -1.5081,  1.1839],\n",
      "        [ 4.9309,  4.8444, -3.5593,  1.2436],\n",
      "        [ 4.9673,  4.8630, -3.5392,  2.7688],\n",
      "        [ 4.9638,  5.0155, -3.3173,  2.6385],\n",
      "        [ 4.8804,  5.0443, -2.8107,  1.6308],\n",
      "        [ 5.1265,  4.9236, -2.1310,  2.2342],\n",
      "        [ 4.9490,  5.0278, -3.2125,  1.1899],\n",
      "        [ 5.0794,  4.9625, -2.8326,  1.2604],\n",
      "        [ 4.9511,  5.0077, -1.7707,  1.2014],\n",
      "        [ 4.9425,  5.3529, -4.8594,  1.7194],\n",
      "        [ 4.9561,  5.0638, -2.4284,  2.9809],\n",
      "        [ 4.9543,  5.4152, -4.3275,  1.3943],\n",
      "        [ 5.0191,  4.6681, -4.3728,  1.8679],\n",
      "        [ 4.7616,  5.0907, -2.2039,  1.9040],\n",
      "        [ 4.5398,  5.4123, -1.8583,  1.0389],\n",
      "        [ 5.1571,  4.9746, -4.2650,  2.4259],\n",
      "        [ 4.8972,  5.5326, -4.9295,  2.0467],\n",
      "        [ 5.1733,  4.8650, -3.9409,  2.8475],\n",
      "        [ 5.2621,  4.9214, -3.1492,  2.7956],\n",
      "        [ 4.9175,  5.0529, -3.7038,  2.6800],\n",
      "        [ 4.6113,  5.0933, -1.6643,  2.7431],\n",
      "        [ 5.3010,  4.9249, -1.3310,  2.0747],\n",
      "        [ 4.9124,  5.3446, -3.0741,  1.1366],\n",
      "        [ 4.9623,  5.0235, -4.1994,  2.0525],\n",
      "        [ 4.9801,  5.0227, -3.6782,  1.8328],\n",
      "        [ 4.9330,  5.0128, -1.5215,  2.6810],\n",
      "        [ 4.8912,  5.0430, -4.0691,  1.7438],\n",
      "        [ 5.0963,  4.9763, -3.2015,  1.5285],\n",
      "        [ 5.0712,  4.9887, -1.5505,  1.6035],\n",
      "        [ 5.0186,  4.9601, -4.9048,  2.6387],\n",
      "        [ 5.1742,  4.9766, -3.1353,  1.9486],\n",
      "        [ 4.9737,  4.9945, -2.8119,  1.4250],\n",
      "        [ 5.2926,  4.9193, -2.4969,  1.7694],\n",
      "        [ 5.0876,  5.0047, -3.9451,  1.4674],\n",
      "        [ 5.0292,  4.9986, -2.1652,  2.9996],\n",
      "        [ 5.1194,  4.9646, -1.2780,  2.5841],\n",
      "        [ 5.2083,  4.9196, -3.5799,  2.0251],\n",
      "        [ 4.9294,  5.0380, -2.1171,  1.8877],\n",
      "        [ 5.2910,  4.9249, -3.4913,  2.5721],\n",
      "        [ 5.2487,  4.9286, -1.7062,  1.0616],\n",
      "        [ 4.9955,  5.6057, -1.5854,  2.4331],\n",
      "        [ 4.9023,  5.0258, -1.3739,  2.0065],\n",
      "        [ 5.0085,  5.0125, -4.3267,  1.5716],\n",
      "        [ 5.1013,  4.9466, -2.8435,  2.9766],\n",
      "        [ 4.9210,  5.0445, -3.7069,  1.0775],\n",
      "        [ 4.9965,  4.9974, -2.2880,  1.8724],\n",
      "        [ 4.9780,  5.0405, -1.5826,  2.6427],\n",
      "        [ 5.1754,  4.9624, -2.4630,  1.5850],\n",
      "        [ 4.8371,  6.8312, -4.6192,  2.2673],\n",
      "        [ 5.0021,  4.9872, -3.3767,  2.0034],\n",
      "        [ 4.9772,  5.0231, -3.4285,  1.6946],\n",
      "        [ 5.0181,  5.0514, -4.6998,  2.4178],\n",
      "        [ 5.1776,  4.9915, -4.1657,  1.3309],\n",
      "        [ 4.6776,  5.5666, -1.6540,  2.0478],\n",
      "        [ 4.7680,  5.1010, -1.1981,  2.2693],\n",
      "        [ 4.7745,  5.0670, -3.5288,  2.0037],\n",
      "        [ 4.9776,  5.0034, -1.9814,  2.2788],\n",
      "        [ 5.1320,  4.9764, -2.8551,  2.8599],\n",
      "        [ 5.0736,  4.9759, -2.7640,  2.7724],\n",
      "        [ 4.7847,  5.0937, -1.3300,  1.3096],\n",
      "        [ 5.0871,  4.9912, -3.4256,  2.2683],\n",
      "        [ 4.8487,  5.0688, -2.1335,  2.1384],\n",
      "        [ 5.1879,  4.9120, -2.2780,  1.3424],\n",
      "        [ 5.0462,  5.0036, -2.4955,  1.6720],\n",
      "        [ 4.9746,  5.0223, -2.6801,  2.6785],\n",
      "        [ 4.8123,  4.9147, -2.1057,  1.3723],\n",
      "        [ 5.1837,  4.6264, -2.3827,  2.6478],\n",
      "        [ 4.8602,  5.0507, -1.1905,  2.0068],\n",
      "        [ 5.0286,  4.8200, -1.6200,  2.1757],\n",
      "        [ 5.0834,  4.9918, -4.8118,  2.8385]])\n"
     ]
    },
    {
     "data": {
      "application/vnd.jupyter.widget-view+json": {
       "model_id": "c837e6ad6730499d9e1341c2e7db4f79",
       "version_major": 2,
       "version_minor": 0
      },
      "text/plain": [
       "Running 100 simulations in 100 batches.:   0%|          | 0/100 [00:00<?, ?it/s]"
      ]
     },
     "metadata": {},
     "output_type": "display_data"
    }
   ],
   "source": [
    "#### second round\n",
    "\n",
    "\n",
    "\n",
    "prior2 = utils.torchutils.BoxUniform(low=prior_min[2:4], high = prior_max[2:4])\n",
    "\n",
    "\n",
    "prior_combined =Combined(proposal1, prior2, number_params_1=2)\n",
    "\n",
    "\n",
    "print('prior combined', prior_combined.sample((10,)).shape)\n",
    "#print('prop',prior2.sample((10,)).shape)\n",
    "\n",
    "\n",
    "inf = SNPE_C(prior_combined, density_estimator=\"nsf\")\n",
    "\n",
    "density_estimator = 'nsf'\n",
    "\n",
    "\n",
    "simulator_stats, prior = prepare_for_sbi(piecewise_linear_second_batch, prior_combined)\n",
    "\n",
    "inference = SNPE_C(prior, density_estimator=density_estimator)\n",
    "\n",
    "theta, x_without = simulate_for_sbi(\n",
    "    simulator_stats,\n",
    "    proposal=prior,\n",
    "    num_simulations=100,\n",
    "    num_workers=4,\n",
    ")"
   ]
  },
  {
   "cell_type": "code",
   "execution_count": 40,
   "metadata": {},
   "outputs": [
    {
     "name": "stdout",
     "output_type": "stream",
     "text": [
      "torch.Size([100, 4])\n",
      "<sbi.inference.snpe.snpe_c.SNPE_C object at 0x7f2fa016d430>\n",
      "Neural network successfully converged after 79 epochs.\n"
     ]
    }
   ],
   "source": [
    "x = extract_sumstats(x_without)\n",
    "\n",
    "\n",
    "print(theta.shape)\n",
    "\n",
    "inf = inf.append_simulations(theta, x)\n",
    "\n",
    "print(inf)\n",
    "density_estimator = inf.train()\n",
    "\n",
    "posterior2 = inf.build_posterior(density_estimator)"
   ]
  },
  {
   "cell_type": "code",
   "execution_count": 42,
   "metadata": {},
   "outputs": [
    {
     "data": {
      "application/vnd.jupyter.widget-view+json": {
       "model_id": "91112403615f4f928aa1206e4fad167d",
       "version_major": 2,
       "version_minor": 0
      },
      "text/plain": [
       "Drawing 100 posterior samples:   0%|          | 0/100 [00:00<?, ?it/s]"
      ]
     },
     "metadata": {},
     "output_type": "display_data"
    }
   ],
   "source": [
    "\n",
    "\n",
    "\n",
    "#print(proposal2.log_prob(theta))\n",
    "\n",
    "samples = posterior2.sample((num_samples,), x=obs_real_stats)\n",
    "\n",
    "proposal2 = posterior2.set_default_x(obs_real_stats)"
   ]
  },
  {
   "cell_type": "code",
   "execution_count": 43,
   "metadata": {},
   "outputs": [
    {
     "data": {
      "application/vnd.jupyter.widget-view+json": {
       "model_id": "a86010342b0540d2ab938df230c566a8",
       "version_major": 2,
       "version_minor": 0
      },
      "text/plain": [
       "Drawing 1 posterior samples:   0%|          | 0/1 [00:00<?, ?it/s]"
      ]
     },
     "metadata": {},
     "output_type": "display_data"
    },
    {
     "name": "stdout",
     "output_type": "stream",
     "text": [
      "theta pos size torch.Size([1, 4])\n",
      "theta prior size torch.Size([1, 2])\n",
      "2\n",
      "theta tensor([[ 4.5872,  4.6630, -3.3302,  2.0783,  1.6113,  4.6436]])\n"
     ]
    },
    {
     "data": {
      "application/vnd.jupyter.widget-view+json": {
       "model_id": "b22284f923f1491383f18f09fda28025",
       "version_major": 2,
       "version_minor": 0
      },
      "text/plain": [
       "Drawing 1 posterior samples:   0%|          | 0/1 [00:00<?, ?it/s]"
      ]
     },
     "metadata": {},
     "output_type": "display_data"
    },
    {
     "name": "stdout",
     "output_type": "stream",
     "text": [
      "theta pos size torch.Size([4])\n",
      "theta prior size torch.Size([2])\n",
      "1\n",
      "true\n",
      "theta tensor([[ 5.0330,  4.8538, -2.3473,  1.2718,  0.7504,  4.8092]])\n"
     ]
    },
    {
     "data": {
      "application/vnd.jupyter.widget-view+json": {
       "model_id": "cde61c974ee943b79eecab50486469fd",
       "version_major": 2,
       "version_minor": 0
      },
      "text/plain": [
       "Drawing 1 posterior samples:   0%|          | 0/1 [00:00<?, ?it/s]"
      ]
     },
     "metadata": {},
     "output_type": "display_data"
    },
    {
     "name": "stdout",
     "output_type": "stream",
     "text": [
      "theta pos size torch.Size([1, 4])\n",
      "theta prior size torch.Size([1, 2])\n",
      "2\n",
      "theta tensor([[ 5.1570,  4.9805, -3.2222,  1.6131,  0.4145,  5.3852]])\n",
      "tensor([-0.3246])\n"
     ]
    },
    {
     "data": {
      "application/vnd.jupyter.widget-view+json": {
       "model_id": "89fb575d45954c22aa74dee2deef84a4",
       "version_major": 2,
       "version_minor": 0
      },
      "text/plain": [
       "Drawing 1 posterior samples:   0%|          | 0/1 [00:00<?, ?it/s]"
      ]
     },
     "metadata": {},
     "output_type": "display_data"
    },
    {
     "name": "stdout",
     "output_type": "stream",
     "text": [
      "theta pos size torch.Size([4])\n",
      "theta prior size torch.Size([2])\n",
      "1\n",
      "true\n",
      "theta tensor([[ 4.9856,  5.0067, -2.8815,  1.4627,  1.1973,  5.1743]])\n"
     ]
    },
    {
     "data": {
      "application/vnd.jupyter.widget-view+json": {
       "model_id": "fab2eb99e9de423ca20e9e27cc9b4971",
       "version_major": 2,
       "version_minor": 0
      },
      "text/plain": [
       "Drawing 1 posterior samples:   0%|          | 0/1 [00:00<?, ?it/s]"
      ]
     },
     "metadata": {},
     "output_type": "display_data"
    },
    {
     "name": "stdout",
     "output_type": "stream",
     "text": [
      "theta pos size torch.Size([4])\n",
      "theta prior size torch.Size([2])\n",
      "1\n",
      "true\n",
      "theta tensor([[ 5.0848,  4.9083, -1.6245,  1.5519,  0.2423,  4.3372]])\n"
     ]
    },
    {
     "data": {
      "application/vnd.jupyter.widget-view+json": {
       "model_id": "4be9aa62f6ff4c0fb9eb5c4e60c9a4e3",
       "version_major": 2,
       "version_minor": 0
      },
      "text/plain": [
       "Drawing 1 posterior samples:   0%|          | 0/1 [00:00<?, ?it/s]"
      ]
     },
     "metadata": {},
     "output_type": "display_data"
    },
    {
     "name": "stdout",
     "output_type": "stream",
     "text": [
      "theta pos size torch.Size([4])\n",
      "theta prior size torch.Size([2])\n",
      "1\n",
      "true\n",
      "theta tensor([[ 4.9914,  5.0240, -3.2612,  2.6334,  1.2206,  5.2844]])\n"
     ]
    },
    {
     "data": {
      "application/vnd.jupyter.widget-view+json": {
       "model_id": "d8c00467c5af48d780394b0db6593911",
       "version_major": 2,
       "version_minor": 0
      },
      "text/plain": [
       "Drawing 2 posterior samples:   0%|          | 0/2 [00:00<?, ?it/s]"
      ]
     },
     "metadata": {},
     "output_type": "display_data"
    },
    {
     "name": "stdout",
     "output_type": "stream",
     "text": [
      "theta pos size torch.Size([2, 4])\n",
      "theta prior size torch.Size([2, 2])\n",
      "2\n",
      "theta tensor([[ 4.9801,  4.8834, -2.6808,  2.2682,  0.5087,  4.5422],\n",
      "        [ 4.8622,  5.1745, -2.6071,  2.7092,  0.9491,  5.8740]])\n"
     ]
    },
    {
     "data": {
      "application/vnd.jupyter.widget-view+json": {
       "model_id": "50269a077971424aa55a8a21748a88b7",
       "version_major": 2,
       "version_minor": 0
      },
      "text/plain": [
       "Drawing 1 posterior samples:   0%|          | 0/1 [00:00<?, ?it/s]"
      ]
     },
     "metadata": {},
     "output_type": "display_data"
    },
    {
     "name": "stdout",
     "output_type": "stream",
     "text": [
      "theta pos size torch.Size([4])\n",
      "theta prior size torch.Size([2])\n",
      "1\n",
      "true\n",
      "theta tensor([[ 4.8828,  5.1363, -3.2001,  1.9890,  1.6145,  4.5037]])\n"
     ]
    },
    {
     "data": {
      "application/vnd.jupyter.widget-view+json": {
       "model_id": "4f9ef2698cf04c00a14ae58d773df896",
       "version_major": 2,
       "version_minor": 0
      },
      "text/plain": [
       "Drawing 1 posterior samples:   0%|          | 0/1 [00:00<?, ?it/s]"
      ]
     },
     "metadata": {},
     "output_type": "display_data"
    },
    {
     "name": "stdout",
     "output_type": "stream",
     "text": [
      "theta pos size torch.Size([1, 4])\n",
      "theta prior size torch.Size([1, 2])\n",
      "2\n",
      "theta tensor([[ 5.0208,  4.7127, -3.5321,  1.7347,  0.2075,  5.5333]])\n"
     ]
    },
    {
     "data": {
      "application/vnd.jupyter.widget-view+json": {
       "model_id": "3a7edb3caf134d0589ae4a3b360b883a",
       "version_major": 2,
       "version_minor": 0
      },
      "text/plain": [
       "Drawing 1 posterior samples:   0%|          | 0/1 [00:00<?, ?it/s]"
      ]
     },
     "metadata": {},
     "output_type": "display_data"
    },
    {
     "name": "stdout",
     "output_type": "stream",
     "text": [
      "theta pos size torch.Size([1, 4])\n",
      "theta prior size torch.Size([1, 2])\n",
      "2\n",
      "theta tensor([[ 5.2760,  4.9540, -3.9105,  1.9513,  1.6445,  4.5950]])\n"
     ]
    },
    {
     "data": {
      "application/vnd.jupyter.widget-view+json": {
       "model_id": "3a075f230142455daea887b4f97b66d1",
       "version_major": 2,
       "version_minor": 0
      },
      "text/plain": [
       "Drawing 100 posterior samples:   0%|          | 0/100 [00:00<?, ?it/s]"
      ]
     },
     "metadata": {},
     "output_type": "display_data"
    },
    {
     "name": "stdout",
     "output_type": "stream",
     "text": [
      "theta pos size torch.Size([100, 4])\n",
      "theta prior size torch.Size([100, 2])\n",
      "2\n",
      "theta tensor([[ 4.9898,  5.0420, -4.5785,  1.1439,  0.5283,  5.4903],\n",
      "        [ 4.9552,  5.0427, -4.5672,  1.5262,  1.4967,  5.9239],\n",
      "        [ 5.2502,  5.2459, -1.3079,  2.1905,  1.9913,  4.4479],\n",
      "        [ 5.1342,  4.5303, -2.2589,  1.9850,  0.6833,  5.5398],\n",
      "        [ 5.0741,  5.0275, -4.6240,  1.4570,  0.2027,  5.1642],\n",
      "        [ 5.1136,  4.6636, -2.4543,  2.6149,  1.3194,  5.0994],\n",
      "        [ 5.1735,  4.9519, -2.8216,  1.3626,  1.8130,  4.4987],\n",
      "        [ 5.0051,  4.9325, -2.4644,  2.8445,  0.0662,  4.0490],\n",
      "        [ 4.9431,  5.0262, -3.4828,  0.9311,  1.6331,  5.4524],\n",
      "        [ 5.0609,  5.0083, -4.8454,  2.5077,  0.5450,  5.9758],\n",
      "        [ 5.1703,  5.2042, -3.6235,  1.9379,  0.9248,  5.4439],\n",
      "        [ 5.1615,  5.0548, -6.1171,  1.2651,  1.8552,  4.5115],\n",
      "        [ 4.9924,  4.8652, -1.5338,  0.9695,  1.7177,  5.7509],\n",
      "        [ 5.0243,  5.0177, -4.3181,  2.5721,  1.3346,  4.8223],\n",
      "        [ 5.1715,  4.6401, -2.5318,  1.9502,  0.3219,  5.8629],\n",
      "        [ 5.1335,  4.9965, -2.0466,  2.7506,  0.4392,  4.8062],\n",
      "        [ 5.0870,  5.0329, -2.7510,  1.4841,  0.4587,  4.3408],\n",
      "        [ 5.0060,  4.9941, -2.7444,  1.5148,  1.2770,  5.6418],\n",
      "        [ 4.9761,  4.6687, -2.7788,  1.8099,  1.5501,  4.6904],\n",
      "        [ 4.9976,  4.9008, -0.8774,  3.0058,  1.5398,  4.1601],\n",
      "        [ 4.9543,  5.2738, -4.6529,  1.9192,  1.6333,  4.2969],\n",
      "        [ 4.8996,  4.4338, -2.5070,  2.1140,  0.5639,  5.9229],\n",
      "        [ 4.9689,  5.0078, -2.1975,  1.5670,  0.4641,  4.2379],\n",
      "        [ 5.0022,  5.0189, -3.2048,  1.3035,  0.9428,  4.4815],\n",
      "        [ 5.1246,  4.9944, -3.3270,  1.9522,  1.3694,  5.3645],\n",
      "        [ 5.1045,  5.0550, -2.0449,  2.9411,  0.1146,  5.9192],\n",
      "        [ 4.9826,  5.0176, -2.7724,  2.0300,  1.6857,  4.5862],\n",
      "        [ 4.9369,  5.0446, -3.9962,  1.8551,  0.8108,  5.7017],\n",
      "        [ 5.0729,  5.2662, -2.9933,  2.5927,  0.4417,  5.0553],\n",
      "        [ 5.1786,  4.9832, -3.9645,  1.7789,  0.3803,  4.1465],\n",
      "        [ 5.0471,  5.1045, -1.6140,  1.1584,  0.1891,  4.1825],\n",
      "        [ 4.9796,  4.9453, -2.2225,  1.5485,  0.9195,  5.6908],\n",
      "        [ 4.9551,  5.0281, -3.2874,  2.6243,  0.7346,  4.7758],\n",
      "        [ 4.9997,  4.5492, -4.6497,  2.4024,  1.0732,  5.5753],\n",
      "        [ 4.9195,  5.5558, -2.9603,  2.0966,  0.0833,  5.4839],\n",
      "        [ 4.9354,  4.6911, -2.0326,  1.1441,  1.2002,  4.9405],\n",
      "        [ 5.0026,  5.0182, -1.8148,  3.2337,  0.1655,  5.0084],\n",
      "        [ 5.0928,  5.8252, -3.2428,  1.6413,  0.1652,  4.8691],\n",
      "        [ 4.9816,  5.3123, -3.5559,  2.6664,  0.1806,  5.9617],\n",
      "        [ 5.1005,  5.1572, -1.2268,  2.9466,  1.8486,  4.7500],\n",
      "        [ 5.0181,  5.0087, -4.8218,  2.4155,  0.0489,  5.7010],\n",
      "        [ 5.0725,  4.9699, -1.8772,  1.9806,  1.1666,  5.2740],\n",
      "        [ 4.9971,  4.9864, -2.5657,  1.8762,  1.2245,  4.7368],\n",
      "        [ 4.9928,  4.9267, -1.6141,  1.6998,  1.4202,  4.5374],\n",
      "        [ 5.0784,  5.0154, -2.9171,  1.9756,  0.6127,  4.7086],\n",
      "        [ 5.3250,  4.9453, -4.0768,  0.8181,  1.5842,  5.8909],\n",
      "        [ 5.2661,  4.9129, -4.9072,  1.2729,  0.1795,  4.7500],\n",
      "        [ 4.9723,  5.0322, -2.8639,  1.4941,  0.5038,  5.6290],\n",
      "        [ 5.0631,  4.9929, -1.5862,  2.6393,  1.8199,  4.2588],\n",
      "        [ 5.2531,  4.4812, -2.8397,  1.3906,  0.1317,  5.3671],\n",
      "        [ 5.1636,  5.2744, -3.2427,  1.7814,  0.8023,  4.7372],\n",
      "        [ 4.9462,  5.0219, -3.1430,  1.8053,  0.6716,  4.5062],\n",
      "        [ 4.9349,  5.0866, -2.3299,  1.3019,  0.7897,  5.4255],\n",
      "        [ 4.8012,  5.0637, -4.9711,  1.9240,  0.5529,  5.4534],\n",
      "        [ 5.0034,  5.0102, -1.8816,  2.9494,  0.3619,  4.2476],\n",
      "        [ 4.9948,  4.5089, -2.5695,  2.6928,  1.2651,  4.2696],\n",
      "        [ 4.8967,  5.0436, -2.4222,  2.8389,  0.6234,  4.1957],\n",
      "        [ 4.7903,  5.0666, -4.6165,  2.1809,  1.7177,  5.3929],\n",
      "        [ 5.0921,  4.9876, -1.1008,  3.4822,  1.8792,  5.6303],\n",
      "        [ 4.8912,  5.0821, -1.9031,  2.8695,  0.3771,  5.0891],\n",
      "        [ 5.0541,  4.9800, -2.3302,  1.7867,  1.5330,  4.7093],\n",
      "        [ 5.0165,  5.3147, -1.4954,  2.2449,  1.4216,  5.8813],\n",
      "        [ 4.9449,  5.0231, -3.1862,  2.0437,  1.9820,  5.7453],\n",
      "        [ 4.9213,  4.4172, -1.1533,  1.9571,  1.1699,  5.4785],\n",
      "        [ 5.2705,  4.5620, -1.3172,  1.2089,  1.2622,  5.9754],\n",
      "        [ 5.0011,  4.7389, -0.9724,  2.7293,  0.5072,  4.3444],\n",
      "        [ 5.1084,  5.1229, -4.9093,  2.6144,  1.9433,  4.8478],\n",
      "        [ 4.9952,  4.9181, -2.6873,  2.6315,  1.4632,  5.6932],\n",
      "        [ 4.9696,  5.0153, -2.2936,  2.7118,  1.1901,  5.8854],\n",
      "        [ 4.8774,  4.9586, -2.0388,  2.2687,  1.5791,  5.8665],\n",
      "        [ 4.9833,  5.0733, -2.4333,  1.9282,  1.6695,  5.6519],\n",
      "        [ 5.0070,  4.5575, -1.7439,  2.1847,  1.9610,  5.7873],\n",
      "        [ 4.9950,  4.9595, -3.7619,  2.6496,  0.9243,  5.7711],\n",
      "        [ 4.9914,  4.9899, -3.8025,  2.0576,  0.2285,  4.6238],\n",
      "        [ 4.9937,  5.2025, -4.2764,  1.7413,  1.1013,  4.1072],\n",
      "        [ 4.8582,  5.0169, -2.2309,  1.2415,  1.4361,  5.2558],\n",
      "        [ 5.2104,  4.6869, -4.3472,  1.1023,  1.5497,  5.0689],\n",
      "        [ 4.8708,  5.3372, -3.6602,  1.8353,  1.7834,  5.0844],\n",
      "        [ 4.9738,  4.9535, -2.6090,  1.1144,  1.5110,  5.6460],\n",
      "        [ 4.9597,  4.9714, -4.1697,  1.4412,  1.4918,  5.3984],\n",
      "        [ 5.0755,  5.0170, -2.8567,  2.7654,  0.6620,  5.1999],\n",
      "        [ 4.9738,  4.9990, -2.2114,  2.1912,  0.3130,  4.3806],\n",
      "        [ 4.8037,  5.3142, -1.2212,  2.6329,  1.9195,  5.6912],\n",
      "        [ 4.9878,  4.6295, -2.5752,  1.4267,  0.1476,  4.6425],\n",
      "        [ 4.9808,  5.0106, -1.5435,  1.4828,  1.0268,  5.1504],\n",
      "        [ 5.0166,  5.8232, -5.0276,  0.9013,  0.2347,  5.7989],\n",
      "        [ 4.9512,  5.5310, -6.0244,  1.6261,  1.4643,  4.7714],\n",
      "        [ 4.9688,  5.0235, -1.8116,  2.9300,  1.7700,  4.9152],\n",
      "        [ 4.7906,  4.9522, -3.9272,  2.2452,  0.7460,  4.2708],\n",
      "        [ 5.0630,  5.1153, -4.4123,  1.7302,  0.2940,  4.2004],\n",
      "        [ 5.1098,  4.6165, -3.5199,  3.0275,  0.0552,  5.8034],\n",
      "        [ 4.9353,  5.0321, -1.6310,  1.5969,  0.7661,  4.2105],\n",
      "        [ 5.2688,  5.4361, -3.6476,  1.8560,  1.6460,  4.9530],\n",
      "        [ 4.9497,  5.0218, -1.0457,  2.6807,  0.3158,  5.3984],\n",
      "        [ 4.9646,  4.6836, -2.1212,  2.9514,  1.3375,  4.0127],\n",
      "        [ 4.9556,  5.5450, -4.4706,  1.3542,  1.1790,  4.3706],\n",
      "        [ 4.9912,  4.5838, -2.2059,  1.9593,  1.9277,  5.2539],\n",
      "        [ 5.0221,  5.0238, -4.0301,  2.1221,  1.7279,  4.5727],\n",
      "        [ 4.9293,  5.2147, -4.8905,  2.1271,  0.9397,  5.3307],\n",
      "        [ 5.1624,  4.6276, -1.2083,  2.0725,  0.3415,  4.7367]])\n"
     ]
    },
    {
     "data": {
      "application/vnd.jupyter.widget-view+json": {
       "model_id": "cf7ff6e12bfd4378b919d93c60a35a01",
       "version_major": 2,
       "version_minor": 0
      },
      "text/plain": [
       "Running 100 simulations in 100 batches.:   0%|          | 0/100 [00:00<?, ?it/s]"
      ]
     },
     "metadata": {},
     "output_type": "display_data"
    }
   ],
   "source": [
    "#### third round\n",
    "\n",
    "\n",
    "\n",
    "prior3 = utils.torchutils.BoxUniform(low=prior_min[4:6], high = prior_max[4:6])\n",
    "\n",
    "\n",
    "prior_combined2 =Combined(proposal2, prior3, number_params_1=4)\n",
    "\n",
    "\n",
    "\n",
    "inf = SNPE_C(prior_combined2, density_estimator=\"nsf\")\n",
    "\n",
    "density_estimator = 'nsf'\n",
    "\n",
    "\n",
    "simulator_stats, prior = prepare_for_sbi(piecewise_linear_third_batch, prior_combined2)\n",
    "\n",
    "inference = SNPE_C(prior, density_estimator=density_estimator)\n",
    "\n",
    "theta, x_without = simulate_for_sbi(\n",
    "    simulator_stats,\n",
    "    proposal=prior,\n",
    "    num_simulations=100,\n",
    "    num_workers=4,\n",
    ")"
   ]
  },
  {
   "cell_type": "code",
   "execution_count": 44,
   "metadata": {},
   "outputs": [
    {
     "name": "stdout",
     "output_type": "stream",
     "text": [
      "torch.Size([100, 6])\n",
      "<sbi.inference.snpe.snpe_c.SNPE_C object at 0x7f2fa055d6a0>\n",
      "Neural network successfully converged after 87 epochs.\n"
     ]
    }
   ],
   "source": [
    "x = extract_sumstats(x_without)\n",
    "\n",
    "\n",
    "print(theta.shape)\n",
    "\n",
    "inf = inf.append_simulations(theta, x)\n",
    "\n",
    "print(inf)\n",
    "density_estimator = inf.train()\n",
    "\n",
    "posterior3 = inf.build_posterior(density_estimator)"
   ]
  },
  {
   "cell_type": "code",
   "execution_count": 58,
   "metadata": {},
   "outputs": [
    {
     "data": {
      "application/vnd.jupyter.widget-view+json": {
       "model_id": "34658b5c58e844eea6d8202913228d41",
       "version_major": 2,
       "version_minor": 0
      },
      "text/plain": [
       "Drawing 100 posterior samples:   0%|          | 0/100 [00:00<?, ?it/s]"
      ]
     },
     "metadata": {},
     "output_type": "display_data"
    }
   ],
   "source": [
    "samples = posterior3.sample((num_samples,), x=obs_real_stats)"
   ]
  },
  {
   "cell_type": "code",
   "execution_count": 59,
   "metadata": {},
   "outputs": [
    {
     "name": "stdout",
     "output_type": "stream",
     "text": [
      "torch.Size([100, 6])\n"
     ]
    }
   ],
   "source": [
    "print(samples.shape)\n",
    "\n",
    "\n",
    "from sbi import analysis as analysis"
   ]
  },
  {
   "cell_type": "code",
   "execution_count": 60,
   "metadata": {},
   "outputs": [
    {
     "name": "stdout",
     "output_type": "stream",
     "text": [
      "[Parallel(n_jobs=4)]: Using backend MultiprocessingBackend with 4 concurrent workers.\n",
      "[Parallel(n_jobs=4)]: Done   1 tasks      | elapsed:    0.0s\n",
      "[Parallel(n_jobs=4)]: Batch computation too fast (0.0051s.) Setting batch_size=2.\n",
      "[Parallel(n_jobs=4)]: Done   2 tasks      | elapsed:    0.0s\n",
      "[Parallel(n_jobs=4)]: Done   3 tasks      | elapsed:    0.0s\n",
      "[Parallel(n_jobs=4)]: Done   4 tasks      | elapsed:    0.0s\n",
      "[Parallel(n_jobs=4)]: Done   5 tasks      | elapsed:    0.0s\n",
      "[Parallel(n_jobs=4)]: Done   6 tasks      | elapsed:    0.0s\n",
      "[Parallel(n_jobs=4)]: Done   8 tasks      | elapsed:    0.0s\n",
      "[Parallel(n_jobs=4)]: Batch computation too fast (0.0043s.) Setting batch_size=4.\n",
      "[Parallel(n_jobs=4)]: Done  10 tasks      | elapsed:    0.0s\n",
      "[Parallel(n_jobs=4)]: Done  12 tasks      | elapsed:    0.0s\n",
      "[Parallel(n_jobs=4)]: Done  14 tasks      | elapsed:    0.0s\n",
      "[Parallel(n_jobs=4)]: Done  16 tasks      | elapsed:    0.0s\n",
      "[Parallel(n_jobs=4)]: Done  18 tasks      | elapsed:    0.0s\n",
      "[Parallel(n_jobs=4)]: Done  20 tasks      | elapsed:    0.0s\n",
      "[Parallel(n_jobs=4)]: Done  22 tasks      | elapsed:    0.0s\n",
      "[Parallel(n_jobs=4)]: Done  26 tasks      | elapsed:    0.0s\n",
      "[Parallel(n_jobs=4)]: Batch computation too fast (0.0059s.) Setting batch_size=8.\n",
      "[Parallel(n_jobs=4)]: Done  30 tasks      | elapsed:    0.0s\n",
      "[Parallel(n_jobs=4)]: Done  34 tasks      | elapsed:    0.0s\n",
      "[Parallel(n_jobs=4)]: Done  38 tasks      | elapsed:    0.0s\n",
      "[Parallel(n_jobs=4)]: Done  42 tasks      | elapsed:    0.0s\n",
      "[Parallel(n_jobs=4)]: Done  46 tasks      | elapsed:    0.0s\n",
      "[Parallel(n_jobs=4)]: Done  50 tasks      | elapsed:    0.0s\n",
      "[Parallel(n_jobs=4)]: Done  54 tasks      | elapsed:    0.0s\n",
      "[Parallel(n_jobs=4)]: Done  62 tasks      | elapsed:    0.0s\n",
      "[Parallel(n_jobs=4)]: Batch computation too fast (0.0088s.) Setting batch_size=16.\n",
      "[Parallel(n_jobs=4)]: Done  70 tasks      | elapsed:    0.0s\n",
      "[Parallel(n_jobs=4)]: Done  78 tasks      | elapsed:    0.0s\n",
      "[Parallel(n_jobs=4)]: Done  79 tasks      | elapsed:    0.0s\n",
      "[Parallel(n_jobs=4)]: Done  87 tasks      | elapsed:    0.0s\n",
      "[Parallel(n_jobs=4)]: Done  88 tasks      | elapsed:    0.0s\n",
      "[Parallel(n_jobs=4)]: Done  89 tasks      | elapsed:    0.0s\n",
      "[Parallel(n_jobs=4)]: Done  90 tasks      | elapsed:    0.0s\n",
      "[Parallel(n_jobs=4)]: Done  91 tasks      | elapsed:    0.0s\n",
      "[Parallel(n_jobs=4)]: Done  92 tasks      | elapsed:    0.0s\n",
      "[Parallel(n_jobs=4)]: Done  93 tasks      | elapsed:    0.0s\n",
      "[Parallel(n_jobs=4)]: Done  94 tasks      | elapsed:    0.0s\n",
      "[Parallel(n_jobs=4)]: Done  95 tasks      | elapsed:    0.0s\n",
      "[Parallel(n_jobs=4)]: Done  97 out of 100 | elapsed:    0.0s remaining:    0.0s\n",
      "[Parallel(n_jobs=4)]: Done 100 out of 100 | elapsed:    0.0s finished\n"
     ]
    },
    {
     "data": {
      "image/png": "[encoded data removed]",
      "text/plain": [
       "<Figure size 432x288 with 1 Axes>"
      ]
     },
     "metadata": {
      "needs_background": "light"
     },
     "output_type": "display_data"
    },
    {
     "data": {
      "image/png": "[encoded data removed]",
      "text/plain": [
       "<Figure size 432x288 with 1 Axes>"
      ]
     },
     "metadata": {
      "needs_background": "light"
     },
     "output_type": "display_data"
    }
   ],
   "source": [
    "from joblib import Parallel, delayed\n",
    "\n",
    "num_workers = 4\n",
    "\n",
    "s_x = Parallel(\n",
    "        n_jobs=num_workers,\n",
    "        verbose=100,\n",
    "        pre_dispatch=\"1.5*n_jobs\",\n",
    "        backend=\"multiprocessing\",\n",
    "    )(delayed(piecewise_linear_third_batch)(sample) for sample in samples)\n",
    "\n",
    "\n",
    "\n",
    "fig, ax = plt.subplots(1, 1)\n",
    "ax.set_title(\"Simulating from posterior (without summary stats)\")\n",
    "for s in s_x:\n",
    "    im = plt.plot(s)\n",
    "    \n",
    "    \n",
    "obs_real = piecewise_linear_third_batch(true_params)\n",
    "\n",
    "\n",
    "\n",
    "x = torch.arange(0,10,0.005)\n",
    "fig, ax = plt.subplots(1, 1)\n",
    "ax.set_title(\"Simulating from posterior (without summary stats)\")\n",
    "m = plt.plot(x, obs_real)"
   ]
  },
  {
   "cell_type": "code",
   "execution_count": 61,
   "metadata": {},
   "outputs": [
    {
     "ename": "IndexError",
     "evalue": "string index out of range",
     "output_type": "error",
     "traceback": [
      "\u001b[0;31m---------------------------------------------------------------------------\u001b[0m",
      "\u001b[0;31mIndexError\u001b[0m                                Traceback (most recent call last)",
      "\u001b[0;32m/tmp/ipykernel_407341/323749477.py\u001b[0m in \u001b[0;36m<module>\u001b[0;34m\u001b[0m\n\u001b[1;32m      3\u001b[0m \u001b[0;34m\u001b[0m\u001b[0m\n\u001b[1;32m      4\u001b[0m \u001b[0;34m\u001b[0m\u001b[0m\n\u001b[0;32m----> 5\u001b[0;31m fig, axes = analysis.pairplot(\n\u001b[0m\u001b[1;32m      6\u001b[0m     \u001b[0msamples\u001b[0m\u001b[0;34m,\u001b[0m\u001b[0;34m\u001b[0m\u001b[0;34m\u001b[0m\u001b[0m\n\u001b[1;32m      7\u001b[0m     \u001b[0;31m#limits=limits,\u001b[0m\u001b[0;34m\u001b[0m\u001b[0;34m\u001b[0m\u001b[0;34m\u001b[0m\u001b[0m\n",
      "\u001b[0;32m~/anaconda3/lib/python3.8/site-packages/sbi/analysis/plot.py\u001b[0m in \u001b[0;36mpairplot\u001b[0;34m(samples, points, limits, subset, upper, diag, figsize, labels, ticks, points_colors, **kwargs)\u001b[0m\n\u001b[1;32m     61\u001b[0m     \u001b[0mReturns\u001b[0m\u001b[0;34m:\u001b[0m \u001b[0mfigure\u001b[0m \u001b[0;32mand\u001b[0m \u001b[0maxis\u001b[0m \u001b[0mof\u001b[0m \u001b[0mposterior\u001b[0m \u001b[0mdistribution\u001b[0m \u001b[0mplot\u001b[0m\u001b[0;34m\u001b[0m\u001b[0;34m\u001b[0m\u001b[0m\n\u001b[1;32m     62\u001b[0m     \"\"\"\n\u001b[0;32m---> 63\u001b[0;31m     return utils_pairplot(\n\u001b[0m\u001b[1;32m     64\u001b[0m         \u001b[0msamples\u001b[0m\u001b[0;34m=\u001b[0m\u001b[0msamples\u001b[0m\u001b[0;34m,\u001b[0m\u001b[0;34m\u001b[0m\u001b[0;34m\u001b[0m\u001b[0m\n\u001b[1;32m     65\u001b[0m         \u001b[0mpoints\u001b[0m\u001b[0;34m=\u001b[0m\u001b[0mpoints\u001b[0m\u001b[0;34m,\u001b[0m\u001b[0;34m\u001b[0m\u001b[0;34m\u001b[0m\u001b[0m\n",
      "\u001b[0;32m~/anaconda3/lib/python3.8/site-packages/sbi/utils/plot.py\u001b[0m in \u001b[0;36mpairplot\u001b[0;34m(samples, points, limits, subset, upper, diag, figsize, labels, ticks, points_colors, warn_about_deprecation, **kwargs)\u001b[0m\n\u001b[1;32m    379\u001b[0m                     \u001b[0;32mpass\u001b[0m\u001b[0;34m\u001b[0m\u001b[0;34m\u001b[0m\u001b[0m\n\u001b[1;32m    380\u001b[0m \u001b[0;34m\u001b[0m\u001b[0m\n\u001b[0;32m--> 381\u001b[0;31m     \u001b[0;32mreturn\u001b[0m \u001b[0m_pairplot_scaffold\u001b[0m\u001b[0;34m(\u001b[0m\u001b[0mdiag_func\u001b[0m\u001b[0;34m,\u001b[0m \u001b[0mupper_func\u001b[0m\u001b[0;34m,\u001b[0m \u001b[0mdim\u001b[0m\u001b[0;34m,\u001b[0m \u001b[0mlimits\u001b[0m\u001b[0;34m,\u001b[0m \u001b[0mpoints\u001b[0m\u001b[0;34m,\u001b[0m \u001b[0mopts\u001b[0m\u001b[0;34m)\u001b[0m\u001b[0;34m\u001b[0m\u001b[0;34m\u001b[0m\u001b[0m\n\u001b[0m\u001b[1;32m    382\u001b[0m \u001b[0;34m\u001b[0m\u001b[0m\n\u001b[1;32m    383\u001b[0m \u001b[0;34m\u001b[0m\u001b[0m\n",
      "\u001b[0;32m~/anaconda3/lib/python3.8/site-packages/sbi/utils/plot.py\u001b[0m in \u001b[0;36m_pairplot_scaffold\u001b[0;34m(diag_func, upper_func, dim, limits, points, opts)\u001b[0m\n\u001b[1;32m    691\u001b[0m                             \u001b[0;34m[\u001b[0m\u001b[0mv\u001b[0m\u001b[0;34m[\u001b[0m\u001b[0;34m:\u001b[0m\u001b[0;34m,\u001b[0m \u001b[0mrow\u001b[0m\u001b[0;34m]\u001b[0m\u001b[0;34m,\u001b[0m \u001b[0mv\u001b[0m\u001b[0;34m[\u001b[0m\u001b[0;34m:\u001b[0m\u001b[0;34m,\u001b[0m \u001b[0mrow\u001b[0m\u001b[0;34m]\u001b[0m\u001b[0;34m]\u001b[0m\u001b[0;34m,\u001b[0m\u001b[0;34m\u001b[0m\u001b[0;34m\u001b[0m\u001b[0m\n\u001b[1;32m    692\u001b[0m                             \u001b[0mextent\u001b[0m\u001b[0;34m,\u001b[0m\u001b[0;34m\u001b[0m\u001b[0;34m\u001b[0m\u001b[0m\n\u001b[0;32m--> 693\u001b[0;31m                             \u001b[0mcolor\u001b[0m\u001b[0;34m=\u001b[0m\u001b[0mopts\u001b[0m\u001b[0;34m[\u001b[0m\u001b[0;34m\"points_colors\"\u001b[0m\u001b[0;34m]\u001b[0m\u001b[0;34m[\u001b[0m\u001b[0mn\u001b[0m\u001b[0;34m]\u001b[0m\u001b[0;34m,\u001b[0m\u001b[0;34m\u001b[0m\u001b[0;34m\u001b[0m\u001b[0m\n\u001b[0m\u001b[1;32m    694\u001b[0m                             \u001b[0;34m**\u001b[0m\u001b[0mopts\u001b[0m\u001b[0;34m[\u001b[0m\u001b[0;34m\"points_diag\"\u001b[0m\u001b[0;34m]\u001b[0m\u001b[0;34m\u001b[0m\u001b[0;34m\u001b[0m\u001b[0m\n\u001b[1;32m    695\u001b[0m                         )\n",
      "\u001b[0;31mIndexError\u001b[0m: string index out of range"
     ]
    },
    {
     "data": {
      "image/png": "[encoded data removed]",
      "text/plain": [
       "<Figure size 360x360 with 36 Axes>"
      ]
     },
     "metadata": {
      "needs_background": "light"
     },
     "output_type": "display_data"
    }
   ],
   "source": [
    "limits = [list(tup) for tup in zip(prior_min, prior_max)]\n",
    "\n",
    "\n",
    "\n",
    "fig, axes = analysis.pairplot(\n",
    "    samples,\n",
    "    #limits=limits,\n",
    "    #ticks=limits,\n",
    "    figsize=(5, 5),\n",
    "    points=true_params[0:2],\n",
    "    #points_offdiag={\"markersize\": 6},\n",
    "    points_colors=\"r\",\n",
    "    # tick_labels=parameter_names\n",
    "    #labels=parameter_names,\n",
    ")"
   ]
  },
  {
   "cell_type": "code",
   "execution_count": null,
   "metadata": {},
   "outputs": [],
   "source": []
  },
  {
   "cell_type": "code",
   "execution_count": null,
   "metadata": {},
   "outputs": [],
   "source": []
  }
 ],
 "metadata": {
  "interpreter": {
   "hash": "126fa1c3f32c28cc7adc0ff61e94b616033ac8f91881516d11a50edd9bdb1b2c"
  },
  "kernelspec": {
   "display_name": "Python 3 (ipykernel)",
   "language": "python",
   "name": "python3"
  },
  "language_info": {
   "codemirror_mode": {
    "name": "ipython",
    "version": 3
   },
   "file_extension": ".py",
   "mimetype": "text/x-python",
   "name": "python",
   "nbconvert_exporter": "python",
   "pygments_lexer": "ipython3",
   "version": "3.8.8"
  }
 },
 "nbformat": 4,
 "nbformat_minor": 2
}
