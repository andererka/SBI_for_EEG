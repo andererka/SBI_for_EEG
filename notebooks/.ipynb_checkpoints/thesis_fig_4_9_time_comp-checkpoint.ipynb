{
 "cells": [
  {
   "cell_type": "code",
   "execution_count": 1,
   "id": "6669723c",
   "metadata": {},
   "outputs": [],
   "source": [
    "\n",
    "\n",
    "# visualization\n",
    "import matplotlib as mpl\n",
    "import matplotlib.pyplot as plt\n",
    "\n",
    "import seaborn as sns\n",
    "\n"
   ]
  },
  {
   "cell_type": "code",
   "execution_count": 15,
   "id": "e3fc81b3",
   "metadata": {},
   "outputs": [
    {
     "data": {
      "text/plain": [
       "<matplotlib.legend.Legend at 0x7ff84cc8f850>"
      ]
     },
     "execution_count": 15,
     "metadata": {},
     "output_type": "execute_result"
    },
    {
     "data": {
      "image/png": "[encoded data removed]",
      "text/plain": [
       "<Figure size 432x288 with 1 Axes>"
      ]
     },
     "metadata": {},
     "output_type": "display_data"
    }
   ],
   "source": [
    "\n",
    "\n",
    "time_multi_round = [12.5, 13, 14, 39.5]\n",
    "\n",
    "time_seq = [5, 9.75, 12.75, 27.5]\n",
    "\n",
    "time_seq2 = [0.5, 7.25, 20, 27.75]\n",
    "\n",
    "sns.set_style(\"white\")\n",
    "\n",
    "\n",
    "plt.bar([1,3,5,7],time_multi_round, alpha=1, label='SNPE', color='blue')\n",
    "plt.bar([1.3,3.3,5.3,7.3], time_seq, alpha=0.8, label = 'NIPE no ratio', color='purple')\n",
    "\n",
    "plt.bar([1.6,3.6,5.6,7.6], time_seq2, alpha=0.4, label = 'NIPE ratio', color='green')\n",
    "\n",
    "plt.ylabel('time in hours')\n",
    "\n",
    "plt.xticks([1,3,5, 7], ('step1','step2','step3', 'total'))\n",
    "\n",
    "#plt.title('CPU hours')\n",
    "\n",
    "plt.legend()\n",
    "\n"
   ]
  },
  {
   "cell_type": "code",
   "execution_count": null,
   "id": "e217954f",
   "metadata": {},
   "outputs": [],
   "source": []
  }
 ],
 "metadata": {
  "kernelspec": {
   "display_name": "Python 3 (ipykernel)",
   "language": "python",
   "name": "python3"
  },
  "language_info": {
   "codemirror_mode": {
    "name": "ipython",
    "version": 3
   },
   "file_extension": ".py",
   "mimetype": "text/x-python",
   "name": "python",
   "nbconvert_exporter": "python",
   "pygments_lexer": "ipython3",
   "version": "3.7.11"
  }
 },
 "nbformat": 4,
 "nbformat_minor": 5
}
