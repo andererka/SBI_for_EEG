{
 "cells": [
  {
   "cell_type": "markdown",
   "metadata": {},
   "source": [
    "## Time series with time structured parameters and summary statistics\n",
    "\n",
    "Idea: construct a model $p(x|\\theta)$ with $\\theta = (\\theta_1,...\\theta_n)$ and summary statistics $s(x) = (s_1(x),...s_m(x))$ s.t.\n",
    "\n",
    "\n",
    "for all $i$ there exists a $j$, $j\\leq m$, and $l$, $j\\leq l$ such that\n",
    " \n",
    "$p(s_{1:i}|\\theta_{1:n} ) = p(s_{1:i}|\\theta_{1:j}) $.\n",
    "\n",
    "and \n",
    "\n",
    "$p(s_{1:i+1}|\\theta_{1:n} ) = p(s_{1:i+1}|\\theta_{1:l}) $."
   ]
  },
  {
   "cell_type": "markdown",
   "metadata": {},
   "source": [
    "### Examples:\n",
    "1. Piecewise linear function:\n",
    " - $\\theta_{1,2}$ : a and b of linear function f(x) = ax + b\n",
    " - $\\theta_{3,4}$ : time of changing point cp, and a2 of second slope\n",
    "\n",
    " 2. Sinusoidal waves with linearly increasing/decreasing amplitudes, and changing points at which this linear function changes.\n",
    " \n"
   ]
  },
  {
   "cell_type": "code",
   "execution_count": 1,
   "metadata": {},
   "outputs": [],
   "source": [
    "\n",
    "%load_ext autoreload\n",
    "%autoreload 2\n",
    "\n",
    "import numpy as np\n",
    "import scipy as scp\n",
    "import matplotlib.pyplot as plt\n",
    "\n",
    "\n",
    "import sys\n",
    "sys.path.append('../code/')\n",
    "\n",
    "import torch"
   ]
  },
  {
   "cell_type": "code",
   "execution_count": 2,
   "metadata": {},
   "outputs": [],
   "source": [
    "# sbi\n",
    "from sbi import utils as utils\n",
    "from sbi import analysis as analysis\n",
    "from sbi.inference.base import infer\n",
    "from sbi.inference import SNPE, prepare_for_sbi, simulate_for_sbi\n",
    "from sbi.inference import SNPE_C\n",
    "from utils.helpers import get_time\n",
    "\n",
    "from utils.sbi_modulated_functions import Combined\n",
    "\n",
    "\n",
    "from utils.helpers import get_time"
   ]
  },
  {
   "cell_type": "markdown",
   "metadata": {},
   "source": [
    "## Piecewise_linear() and simulation wrappers for SBI\n",
    "\n",
    "I defined a seperate function for each sequential step such that we can vary different numbers of parameters"
   ]
  },
  {
   "cell_type": "code",
   "execution_count": 3,
   "metadata": {},
   "outputs": [],
   "source": [
    "start = get_time()\n",
    "\n",
    "\n",
    "\n",
    "def piecewise_linear(a1,b, a2,a3, cp1, cp2, add_noise=None):\n",
    "    \"\"\"\n",
    "    Args:\n",
    "        a1 (float): first slope\n",
    "        b (float): offset\n",
    "        a2 (float): second slope\n",
    "        a3 (float): 3rd slope\n",
    "        cp1, cp2 (float): changing points\n",
    "        add_noise (None or float): None or scale of Gaussian noise on all variables\n",
    "\n",
    "    Returns:\n",
    "        x,y (arrays): x and y of piecewise linear function. \n",
    "    \"\"\"\n",
    "    if not add_noise == None:\n",
    "        a1,b, a2,a3, cp1, cp2 = np.array([a1,b, a2,a3, cp1, cp2]) + scp.random.normal(scale=add_noise,size=6)       \n",
    "    \n",
    "    x = np.arange(0,10,0.01)\n",
    "    y = np.zeros(x.shape)\n",
    "    \n",
    "    # first piece\n",
    "    y[x<cp1] = (b+a1*x[x<cp1])\n",
    "    \n",
    "    # second piece     \n",
    "    y[(x>=cp1) & (x<cp2)] = y[np.sum(x<cp1)-1] + a2* (x[(x>=cp1) & (x<cp2)]  - cp1) \n",
    "    \n",
    "    # third piece\n",
    "    y[x>=cp2] = y[np.sum(x<cp2)-1] + a3* (x[x>=cp2] - cp2) \n",
    "    \n",
    "\n",
    "    return y\n",
    "\n",
    "\n",
    "def piecewise_linear_seq(thetas):\n",
    "    \"\"\"\n",
    "    I defined a seperate function for each sequential step such that we can vary different numbers of parameters\n",
    "    Args:\n",
    "        a1 (float): first slope\n",
    "        b (float): offset\n",
    "        a2 (float): second slope\n",
    "        a3 (float): 3rd slope\n",
    "        cp1, cp2 (float): changing points\n",
    "        add_noise (None or float): None or scale of Gaussian noise on all variables\n",
    "\n",
    "    Returns:\n",
    "        x,y (arrays): x and y of piecewise linear function. \n",
    "    \"\"\"\n",
    "    \n",
    "    add_noise=0.2\n",
    "    \n",
    "    cp1 = np.float32(3)\n",
    "    cp2 = np.float32(6)\n",
    "    \n",
    "    x = torch.arange(0,10,0.01, dtype= torch.float32)\n",
    "    y = torch.zeros(x.shape)\n",
    "    \n",
    "    \n",
    "    if (len(thetas)==2):\n",
    "        a1 = thetas[0]\n",
    "        b = thetas[1]\n",
    "        \n",
    "        if not add_noise == None:\n",
    "            a1,b = np.array([a1,b]) + scp.random.normal(scale=add_noise,size=2)  \n",
    "            \n",
    "        # first piece\n",
    "        y[x<cp1] = (b+a1*x[x<cp1])\n",
    "        \n",
    "        return y[x<cp1]\n",
    "    \n",
    "     \n",
    "    if (len(thetas)==3):     \n",
    "        a1 = thetas[0]\n",
    "        b = thetas[1]\n",
    "        a2 = thetas[2]\n",
    "        \n",
    "        if not add_noise == None:\n",
    "            a1,b, a2 = np.array([a1,b, a2]) + scp.random.normal(scale=add_noise,size=3)       \n",
    "    \n",
    "        # first piece\n",
    "        y[x<cp1] = (b+a1*x[x<cp1])\n",
    "    \n",
    "        # second piece     \n",
    "        y[(x>=cp1) & (x<cp2)] = y[torch.sum(x<cp1)-1] + a2* (x[(x>=cp1) & (x<cp2)]  - cp1) \n",
    "        \n",
    "        return y[x<cp2]\n",
    "    \n",
    "    \n",
    "    if (len(thetas)==4):\n",
    "        \n",
    "        \n",
    "        a1 = thetas[0]\n",
    "        b = thetas[1]\n",
    "        a2 = thetas[2]\n",
    "        a3 = thetas[3]\n",
    "        \n",
    "        if not add_noise == None:\n",
    "            a1,b, a2, a3 = np.array([a1,b, a2, a3]) + scp.random.normal(scale=add_noise,size=4)       \n",
    "    \n",
    "        # first piece\n",
    "        y[x<cp1] = (b+a1*x[x<cp1])\n",
    "    \n",
    "        # second piece     \n",
    "        y[(x>=cp1) & (x<cp2)] = y[torch.sum(x<cp1)-1] + a2* (x[(x>=cp1) & (x<cp2)]  - cp1) \n",
    "    \n",
    "        # third piece\n",
    "        y[x>=cp2] = y[torch.sum(x<cp2)-1] + a3* (x[x>=cp2] - cp2) \n",
    "        \n",
    "        return y\n",
    "\n",
    "    \n",
    "  "
   ]
  },
  {
   "cell_type": "markdown",
   "metadata": {},
   "source": [
    "### Define prior and summary stats dependent on prior"
   ]
  },
  {
   "cell_type": "code",
   "execution_count": 4,
   "metadata": {},
   "outputs": [],
   "source": [
    "\"\"\"\n",
    "Priors\n",
    "\"\"\"\n",
    "\n",
    "b = scp.random.uniform(0,10)\n",
    "a1 = scp.random.uniform(-10,0)\n",
    "a2 = scp.random.uniform(0,10)\n",
    "a3 = scp.random.uniform(-10,0)\n",
    "cp1 = scp.random.uniform(2,4)\n",
    "cp2 = scp.random.uniform(5,8)\n",
    "\n",
    "\n",
    "x = piecewise_linear(a1,b, a2,a3, cp1, cp2)\n",
    "\n"
   ]
  },
  {
   "cell_type": "markdown",
   "metadata": {},
   "source": [
    "**Summary statistics**\n",
    "\n",
    "I defined a few more summary statistics such that we have 13 in total."
   ]
  },
  {
   "cell_type": "code",
   "execution_count": 24,
   "metadata": {},
   "outputs": [],
   "source": [
    "\"\"\"\n",
    "Summary stats\n",
    "\"\"\"\n",
    "\n",
    "def extract_sumstats(y,max_time=10):\n",
    "    \"\"\"\n",
    "    Extract some sumstats for piecewise linear fct with specified prior \n",
    "    !the information in the sumstats is highly dependent on the prior!\n",
    "    Args:\n",
    "        x ([array]): time axis of time series\n",
    "        y ([array]): 1d time series\n",
    "        max_time (float, optional): maximal time to calculate sumstats on. Defaults to 10.\n",
    "\n",
    "    Returns:\n",
    "       s [array]: summary stats of time series, with np.nan for non-calculated sumstats\n",
    "    \"\"\"\n",
    "    \n",
    "\n",
    "    \n",
    "    batch_list = []\n",
    "    # first batch of sumstats for times <4\n",
    "    \n",
    "    for batch in y:\n",
    "        \n",
    "        step_size = max_time/len(batch)\n",
    "        \n",
    "        print('step_size', step_size)\n",
    "        \n",
    "        x = torch.arange(0, max_time, step_size, dtype=torch.float64)\n",
    "        \n",
    "        \n",
    "        \n",
    "        \n",
    "        batch[x>max_time] = np.nan\n",
    "    \n",
    "        s = np.zeros(10) * np.nan\n",
    "        \n",
    "        s[0] = np.float32(batch[0])    #offset\n",
    "        s[1] = np.nanmin(batch[x<4])   # local min\n",
    "        \n",
    "        #print(type(s[0]), type(s[1]))\n",
    "        s[2] = x[np.nanargmin(batch[x<4])]   #value of min\n",
    "    \n",
    "\n",
    "        # second batch of sumstats for times > 4\n",
    "        if max_time >= 4 :\n",
    "            s[3] = np.nanmax(batch[(x>=4)&(x<8)])\n",
    "            s[4] = np.nanmin(batch[(x>=4)&(x<8)])\n",
    "            s[5] = x[np.nanargmin(batch[(x>=4)&(x<8)])] +4\n",
    "\n",
    "        # third batch of sumstats for times > 5\n",
    "        if max_time >= 5:\n",
    "            s[6] = np.nanmin(batch[x>=5])\n",
    "            s[7] = x[np.nanargmin(batch[x>=5])] + 5\n",
    "            \n",
    "            s[8] = np.nanmax(batch[x>=5])\n",
    "            s[9] = x[np.nanargmax(batch[x>=5])] + 5\n",
    "            \n",
    "        s = np.float32(s)\n",
    "    \n",
    "            \n",
    "        batch_list.append(torch.from_numpy(s))\n",
    "\n",
    "    return torch.stack(batch_list)\n",
    "\n",
    "    \n",
    "    "
   ]
  },
  {
   "cell_type": "markdown",
   "metadata": {},
   "source": [
    "## cosine waves\n",
    "\n",
    "WORK IN PROGRESS\n",
    "\n",
    "same, but more ellaborated summary stats are needed"
   ]
  },
  {
   "cell_type": "code",
   "execution_count": 25,
   "metadata": {},
   "outputs": [],
   "source": [
    "def cosine_waves(a1,b,a2,cp,f_1=1, f_2=1, return_factors=False):\n",
    "    \"\"\"\n",
    "    Args:\n",
    "        a1 (float): first slope\n",
    "        b (float): offset (starting amplitude)\n",
    "        a2 (float): second slope\n",
    "        cp (float): changing point\n",
    "        f_1 (float): first freq\n",
    "        f_2 (float): second freq\n",
    "\n",
    "    Returns:\n",
    "        [type]: [description]\n",
    "    \"\"\"\n",
    "    x = np.arange(0,10,0.01)\n",
    "    y = np.zeros(x.shape)\n",
    "    factor1 = (b+a1*x[x<cp])\n",
    "    factor1[factor1<0] = 0\n",
    "    y[x<cp] = factor1 * np.cos(2*np.pi * f_1 * x[x<cp])\n",
    "     \n",
    "    factor2= y[np.sum(x<cp)-1] + a2* (x[x>=cp] - cp) \n",
    "    factor2[factor2<0] = 0\n",
    "\n",
    "    y[x>=cp] = (factor2) * np.cos(2*np.pi * f_2 * x[x>=cp]) \n",
    "\n",
    "    if return_factors:\n",
    "        return x,y, factor1, factor2\n",
    "    else:\n",
    "        return x,y"
   ]
  },
  {
   "cell_type": "code",
   "execution_count": 26,
   "metadata": {},
   "outputs": [
    {
     "data": {
      "text/plain": [
       "[<matplotlib.lines.Line2D at 0x7fda9474e160>]"
      ]
     },
     "execution_count": 26,
     "metadata": {},
     "output_type": "execute_result"
    },
    {
     "data": {
      "image/png": "[encoded data removed]",
      "text/plain": [
       "<Figure size 432x288 with 1 Axes>"
      ]
     },
     "metadata": {
      "needs_background": "light"
     },
     "output_type": "display_data"
    }
   ],
   "source": [
    "x,y,f1,f2=cosine_waves(4,2,-2,4, return_factors=True  )\n",
    "\n",
    "plt.plot(x[:len(f1)],f1)\n",
    "plt.plot(x[-len(f2):],f2)\n",
    "plt.plot(x,y)"
   ]
  },
  {
   "cell_type": "code",
   "execution_count": 27,
   "metadata": {},
   "outputs": [],
   "source": [
    "def cosine_waves_2(a1,b,a2,a3, cp1, cp2, f_1=1, f_2=1,f_3=1, return_factors=False):\n",
    "    \"\"\"\n",
    "    Args:\n",
    "        a1 (float): first slope\n",
    "        b (float): offset\n",
    "        ai (float): slopes\n",
    "        cpi (float): changing points\n",
    "        f_i (float): first freqs\n",
    "        \n",
    "    Returns:\n",
    "        [type]: [description]\n",
    "    \"\"\"\n",
    "    x = np.arange(0,10,0.01)\n",
    "    y = np.zeros(x.shape)\n",
    "    factor1 = (b+a1*x[x<cp1])\n",
    "    factor1[factor1<0] = 0\n",
    "    y[x<cp1] = factor1 * np.cos(2*np.pi * f_1 * x[x<cp1])\n",
    "     \n",
    "    factor2= y[np.sum(x<cp1)-1] + a2* (x[(x>=cp1) & (x<cp2)] - cp1) \n",
    "    factor2[factor2<0] = 0\n",
    "    y[(x>=cp1) & (x<cp2)] = (factor2) * np.cos(2*np.pi * f_2 * x[(x>=cp1) & (x<cp2)]) \n",
    "    \n",
    "    factor3= y[np.sum(x<cp2)-1] + a3* (x[x>=cp2] - cp2) \n",
    "    factor3[factor3<0] = 0\n",
    "\n",
    "    y[x>=cp2] = (factor3) * np.cos(2*np.pi * f_3 * x[x>=cp2]) \n",
    "\n",
    "    if return_factors:\n",
    "        return x,y, factor1, factor2, factor3\n",
    "    else:\n",
    "        return x,y\n",
    "    \n",
    "    \n",
    "def cosine_waves_2_first(thetas):\n",
    "    \"\"\"\n",
    "    Args:\n",
    "        a1 (float): first slope\n",
    "        b (float): offset\n",
    "        ai (float): slopes\n",
    "        cpi (float): changing points\n",
    "        f_i (float): first freqs\n",
    "        \n",
    "    Returns:\n",
    "        [type]: [description]\n",
    "    \"\"\"\n",
    "    \n",
    "    a1 = thetas[0]\n",
    "    b = thetas[1]\n",
    "    a2=-3\n",
    "    a3=3\n",
    "    cp1=2\n",
    "    cp2=6\n",
    "    f_1=1\n",
    "    f_2=1\n",
    "    f_3=1\n",
    "    \n",
    "    return_factors=False\n",
    "    \n",
    "    x = torch.arange(0,10,0.01, dtype= torch.float32)\n",
    "    y = torch.zeros(x.shape)\n",
    "    factor1 = (b+a1*x[x<cp1])\n",
    "    factor1[factor1<0] = 0\n",
    "    y[x<cp1] = factor1 * np.cos(2*np.pi * f_1 * x[x<cp1])\n",
    "     \n",
    "    factor2= y[np.sum(x<cp1)-1] + a2* (x[(x>=cp1) & (x<cp2)] - cp1) \n",
    "    factor2[factor2<0] = 0\n",
    "    y[(x>=cp1) & (x<cp2)] = (factor2) * np.cos(2*np.pi * f_2 * x[(x>=cp1) & (x<cp2)]) \n",
    "    \n",
    "    factor3= y[torch.sum(x<cp2)-1] + a3* (x[x>=cp2] - cp2) \n",
    "    factor3[factor3<0] = 0\n",
    "\n",
    "    y[x>=cp2] = (factor3) * np.cos(2*np.pi * f_3 * x[x>=cp2]) \n",
    "\n",
    "    if return_factors:\n",
    "        return x,y, factor1, factor2, factor3\n",
    "    else:\n",
    "        return x,y"
   ]
  },
  {
   "cell_type": "code",
   "execution_count": 28,
   "metadata": {},
   "outputs": [
    {
     "data": {
      "text/plain": [
       "[<matplotlib.lines.Line2D at 0x7fda94701970>]"
      ]
     },
     "execution_count": 28,
     "metadata": {},
     "output_type": "execute_result"
    },
    {
     "data": {
      "image/png": "[encoded data removed]",
      "text/plain": [
       "<Figure size 432x288 with 1 Axes>"
      ]
     },
     "metadata": {
      "needs_background": "light"
     },
     "output_type": "display_data"
    }
   ],
   "source": [
    "x,y,f1,f2,f3=cosine_waves_2(5,5,\n",
    "                            -3,3,\n",
    "                            2,6, return_factors=True)\n",
    "\n",
    "plt.plot(x[:len(f1)],f1)\n",
    "plt.plot(x[len(f1):-len(f3)],f2)\n",
    "plt.plot(x[-len(f3):],f3)\n",
    "\n",
    "plt.plot(x,y)"
   ]
  },
  {
   "cell_type": "markdown",
   "metadata": {},
   "source": [
    "## Sequential Time Series SBI\n",
    "\n",
    "\n",
    "We have the follwoing parameters: a1,b,a2,a3, cp1, cp2\n",
    "\n",
    "Let's assume this ground truth: true_params = $[5, 5, -3, 2, 1, 5]$\n",
    "\n",
    "and the following uniform priors: \n",
    "\n",
    "prior_min = $[3, 3, -5, 0, -1, 3]  $\n",
    "\n",
    "prior_max = $[7, 7, -1, 4, 3, 7]$\n",
    "\n",
    "\n",
    "We start with inferring the first 2 parameters (a1, b), therefore call the function $piecewise_linear_first_batch()$\n",
    "that only varies these 2 parameters within the prior range."
   ]
  },
  {
   "cell_type": "code",
   "execution_count": 29,
   "metadata": {},
   "outputs": [],
   "source": [
    "#parameter a1,b,a2,a3, cp1, cp2\n",
    "\n",
    "\n",
    "\n",
    "prior_min = [3, 3, -5, 0]  \n",
    "\n",
    "prior_max = [7, 7, -1, 4]\n",
    "\n",
    "num_simulations=300"
   ]
  },
  {
   "cell_type": "markdown",
   "metadata": {},
   "source": [
    "## First round"
   ]
  },
  {
   "cell_type": "code",
   "execution_count": 30,
   "metadata": {},
   "outputs": [
    {
     "name": "stdout",
     "output_type": "stream",
     "text": [
      "[3, 3]\n",
      "BoxUniform(Uniform(low: torch.Size([2]), high: torch.Size([2])), 1)\n"
     ]
    },
    {
     "name": "stderr",
     "output_type": "stream",
     "text": [
      "/tmp/ipykernel_13135/1402098608.py:66: FutureWarning: The input object of type 'Tensor' is an array-like implementing one of the corresponding protocols (`__array__`, `__array_interface__` or `__array_struct__`); but not a sequence (or 0-D). In the future, this object will be coerced as if it was first converted using `np.array(obj)`. To retain the old behaviour, you have to either modify the type 'Tensor', or assign to an empty array created with `np.empty(correct_shape, dtype=object)`.\n",
      "  a1,b = np.array([a1,b]) + scp.random.normal(scale=add_noise,size=2)\n",
      "/tmp/ipykernel_13135/1402098608.py:66: VisibleDeprecationWarning: Creating an ndarray from ragged nested sequences (which is a list-or-tuple of lists-or-tuples-or ndarrays with different lengths or shapes) is deprecated. If you meant to do this, you must specify 'dtype=object' when creating the ndarray.\n",
      "  a1,b = np.array([a1,b]) + scp.random.normal(scale=add_noise,size=2)\n"
     ]
    },
    {
     "data": {
      "application/vnd.jupyter.widget-view+json": {
       "model_id": "2bb358664f164bf1b208829524e34bf8",
       "version_major": 2,
       "version_minor": 0
      },
      "text/plain": [
       "Running 300 simulations in 300 batches.:   0%|          | 0/300 [00:00<?, ?it/s]"
      ]
     },
     "metadata": {},
     "output_type": "display_data"
    }
   ],
   "source": [
    "### first round:\n",
    "\n",
    "prior1 = utils.torchutils.BoxUniform(low=prior_min[0:2], high = prior_max[0:2])\n",
    "\n",
    "print(prior_min[0:2])\n",
    "print(prior1)\n",
    "\n",
    "inf = SNPE_C(prior1, density_estimator=\"nsf\")\n",
    "\n",
    "density_estimator = 'nsf'\n",
    "\n",
    "\n",
    "simulator_stats, prior = prepare_for_sbi(piecewise_linear_seq, prior1)\n",
    "\n",
    "inference = SNPE_C(prior, density_estimator=density_estimator)\n",
    "\n",
    "theta, x_without = simulate_for_sbi(\n",
    "    simulator_stats,\n",
    "    proposal=prior,\n",
    "    num_simulations=num_simulations,\n",
    "    num_workers=4,\n",
    ")"
   ]
  },
  {
   "cell_type": "code",
   "execution_count": 31,
   "metadata": {},
   "outputs": [
    {
     "name": "stdout",
     "output_type": "stream",
     "text": [
      "step_size 0.03333333333333333\n",
      "step_size 0.03333333333333333\n",
      "step_size 0.03333333333333333\n",
      "step_size 0.03333333333333333\n",
      "step_size 0.03333333333333333\n",
      "step_size 0.03333333333333333\n",
      "step_size 0.03333333333333333\n",
      "step_size 0.03333333333333333\n",
      "step_size 0.03333333333333333\n",
      "step_size 0.03333333333333333\n",
      "step_size 0.03333333333333333\n",
      "step_size 0.03333333333333333\n",
      "step_size 0.03333333333333333\n",
      "step_size 0.03333333333333333\n",
      "step_size 0.03333333333333333\n",
      "step_size 0.03333333333333333\n",
      "step_size 0.03333333333333333\n",
      "step_size 0.03333333333333333\n",
      "step_size 0.03333333333333333\n",
      "step_size 0.03333333333333333\n",
      "step_size 0.03333333333333333\n",
      "step_size 0.03333333333333333\n",
      "step_size 0.03333333333333333\n",
      "step_size 0.03333333333333333\n",
      "step_size 0.03333333333333333\n",
      "step_size 0.03333333333333333\n",
      "step_size 0.03333333333333333\n",
      "step_size 0.03333333333333333\n",
      "step_size 0.03333333333333333\n",
      "step_size 0.03333333333333333\n",
      "step_size 0.03333333333333333\n",
      "step_size 0.03333333333333333\n",
      "step_size 0.03333333333333333\n",
      "step_size 0.03333333333333333\n",
      "step_size 0.03333333333333333\n",
      "step_size 0.03333333333333333\n",
      "step_size 0.03333333333333333\n",
      "step_size 0.03333333333333333\n",
      "step_size 0.03333333333333333\n",
      "step_size 0.03333333333333333\n",
      "step_size 0.03333333333333333\n",
      "step_size 0.03333333333333333\n",
      "step_size 0.03333333333333333\n",
      "step_size 0.03333333333333333\n",
      "step_size 0.03333333333333333\n",
      "step_size 0.03333333333333333\n",
      "step_size 0.03333333333333333\n",
      "step_size 0.03333333333333333\n",
      "step_size 0.03333333333333333\n",
      "step_size 0.03333333333333333\n",
      "step_size 0.03333333333333333\n",
      "step_size 0.03333333333333333\n",
      "step_size 0.03333333333333333\n",
      "step_size 0.03333333333333333\n",
      "step_size 0.03333333333333333\n",
      "step_size 0.03333333333333333\n",
      "step_size 0.03333333333333333\n",
      "step_size 0.03333333333333333\n",
      "step_size 0.03333333333333333\n",
      "step_size 0.03333333333333333\n",
      "step_size 0.03333333333333333\n",
      "step_size 0.03333333333333333\n",
      "step_size 0.03333333333333333\n",
      "step_size 0.03333333333333333\n",
      "step_size 0.03333333333333333\n",
      "step_size 0.03333333333333333\n",
      "step_size 0.03333333333333333\n",
      "step_size 0.03333333333333333\n",
      "step_size 0.03333333333333333\n",
      "step_size 0.03333333333333333\n",
      "step_size 0.03333333333333333\n",
      "step_size 0.03333333333333333\n",
      "step_size 0.03333333333333333\n",
      "step_size 0.03333333333333333\n",
      "step_size 0.03333333333333333\n",
      "step_size 0.03333333333333333\n",
      "step_size 0.03333333333333333\n",
      "step_size 0.03333333333333333\n",
      "step_size 0.03333333333333333\n",
      "step_size 0.03333333333333333\n",
      "step_size 0.03333333333333333\n",
      "step_size 0.03333333333333333\n",
      "step_size 0.03333333333333333\n",
      "step_size 0.03333333333333333\n",
      "step_size 0.03333333333333333\n",
      "step_size 0.03333333333333333\n",
      "step_size 0.03333333333333333\n",
      "step_size 0.03333333333333333\n",
      "step_size 0.03333333333333333\n",
      "step_size 0.03333333333333333\n",
      "step_size 0.03333333333333333\n",
      "step_size 0.03333333333333333\n",
      "step_size 0.03333333333333333\n",
      "step_size 0.03333333333333333\n",
      "step_size 0.03333333333333333\n",
      "step_size 0.03333333333333333\n",
      "step_size 0.03333333333333333\n",
      "step_size 0.03333333333333333\n",
      "step_size 0.03333333333333333\n",
      "step_size 0.03333333333333333\n",
      "step_size 0.03333333333333333\n",
      "step_size 0.03333333333333333\n",
      "step_size 0.03333333333333333\n",
      "step_size 0.03333333333333333\n",
      "step_size 0.03333333333333333\n",
      "step_size 0.03333333333333333\n",
      "step_size 0.03333333333333333\n",
      "step_size 0.03333333333333333\n",
      "step_size 0.03333333333333333\n",
      "step_size 0.03333333333333333\n",
      "step_size 0.03333333333333333\n",
      "step_size 0.03333333333333333\n",
      "step_size 0.03333333333333333\n",
      "step_size 0.03333333333333333\n",
      "step_size 0.03333333333333333\n",
      "step_size 0.03333333333333333\n",
      "step_size 0.03333333333333333\n",
      "step_size 0.03333333333333333\n",
      "step_size 0.03333333333333333\n",
      "step_size 0.03333333333333333\n",
      "step_size 0.03333333333333333\n",
      "step_size 0.03333333333333333\n",
      "step_size 0.03333333333333333\n",
      "step_size 0.03333333333333333\n",
      "step_size 0.03333333333333333\n",
      "step_size 0.03333333333333333\n",
      "step_size 0.03333333333333333\n",
      "step_size 0.03333333333333333\n",
      "step_size 0.03333333333333333\n",
      "step_size 0.03333333333333333\n",
      "step_size 0.03333333333333333\n",
      "step_size 0.03333333333333333\n",
      "step_size 0.03333333333333333\n",
      "step_size 0.03333333333333333\n",
      "step_size 0.03333333333333333\n",
      "step_size 0.03333333333333333\n",
      "step_size 0.03333333333333333\n",
      "step_size 0.03333333333333333\n",
      "step_size 0.03333333333333333\n",
      "step_size 0.03333333333333333\n",
      "step_size 0.03333333333333333\n",
      "step_size 0.03333333333333333\n",
      "step_size 0.03333333333333333\n",
      "step_size 0.03333333333333333\n",
      "step_size 0.03333333333333333\n",
      "step_size 0.03333333333333333\n",
      "step_size 0.03333333333333333\n",
      "step_size 0.03333333333333333\n",
      "step_size 0.03333333333333333\n",
      "step_size 0.03333333333333333\n",
      "step_size 0.03333333333333333\n",
      "step_size 0.03333333333333333\n",
      "step_size 0.03333333333333333\n",
      "step_size 0.03333333333333333\n",
      "step_size 0.03333333333333333\n",
      "step_size 0.03333333333333333\n",
      "step_size 0.03333333333333333\n",
      "step_size 0.03333333333333333\n",
      "step_size 0.03333333333333333\n",
      "step_size 0.03333333333333333\n",
      "step_size 0.03333333333333333\n",
      "step_size 0.03333333333333333\n",
      "step_size 0.03333333333333333\n",
      "step_size 0.03333333333333333\n",
      "step_size 0.03333333333333333\n",
      "step_size 0.03333333333333333\n",
      "step_size 0.03333333333333333\n",
      "step_size 0.03333333333333333\n",
      "step_size 0.03333333333333333\n",
      "step_size 0.03333333333333333\n",
      "step_size 0.03333333333333333\n",
      "step_size 0.03333333333333333\n",
      "step_size 0.03333333333333333\n",
      "step_size 0.03333333333333333\n",
      "step_size 0.03333333333333333\n",
      "step_size 0.03333333333333333\n",
      "step_size 0.03333333333333333\n",
      "step_size 0.03333333333333333\n",
      "step_size 0.03333333333333333\n",
      "step_size 0.03333333333333333\n",
      "step_size 0.03333333333333333\n",
      "step_size 0.03333333333333333\n",
      "step_size 0.03333333333333333\n",
      "step_size 0.03333333333333333\n",
      "step_size 0.03333333333333333\n",
      "step_size 0.03333333333333333\n",
      "step_size 0.03333333333333333\n",
      "step_size 0.03333333333333333\n",
      "step_size 0.03333333333333333\n",
      "step_size 0.03333333333333333\n",
      "step_size 0.03333333333333333\n",
      "step_size 0.03333333333333333\n",
      "step_size 0.03333333333333333\n",
      "step_size 0.03333333333333333\n",
      "step_size 0.03333333333333333\n",
      "step_size 0.03333333333333333\n",
      "step_size 0.03333333333333333\n",
      "step_size 0.03333333333333333\n",
      "step_size 0.03333333333333333\n",
      "step_size 0.03333333333333333\n",
      "step_size 0.03333333333333333\n",
      "step_size 0.03333333333333333\n",
      "step_size 0.03333333333333333\n",
      "step_size 0.03333333333333333\n",
      "step_size 0.03333333333333333\n",
      "step_size 0.03333333333333333\n",
      "step_size 0.03333333333333333\n",
      "step_size 0.03333333333333333\n",
      "step_size 0.03333333333333333\n",
      "step_size 0.03333333333333333\n",
      "step_size 0.03333333333333333\n",
      "step_size 0.03333333333333333\n",
      "step_size 0.03333333333333333\n",
      "step_size 0.03333333333333333\n",
      "step_size 0.03333333333333333\n",
      "step_size 0.03333333333333333\n",
      "step_size 0.03333333333333333\n",
      "step_size 0.03333333333333333\n",
      "step_size 0.03333333333333333\n",
      "step_size 0.03333333333333333\n",
      "step_size 0.03333333333333333\n",
      "step_size 0.03333333333333333\n",
      "step_size 0.03333333333333333\n",
      "step_size 0.03333333333333333\n",
      "step_size 0.03333333333333333\n",
      "step_size 0.03333333333333333\n",
      "step_size 0.03333333333333333\n",
      "step_size 0.03333333333333333\n",
      "step_size 0.03333333333333333\n",
      "step_size 0.03333333333333333\n",
      "step_size 0.03333333333333333\n",
      "step_size 0.03333333333333333\n",
      "step_size 0.03333333333333333\n",
      "step_size 0.03333333333333333\n",
      "step_size 0.03333333333333333\n",
      "step_size 0.03333333333333333\n",
      "step_size 0.03333333333333333\n",
      "step_size 0.03333333333333333\n",
      "step_size 0.03333333333333333\n",
      "step_size 0.03333333333333333\n",
      "step_size 0.03333333333333333\n",
      "step_size 0.03333333333333333\n",
      "step_size 0.03333333333333333\n",
      "step_size 0.03333333333333333\n",
      "step_size 0.03333333333333333\n",
      "step_size 0.03333333333333333\n",
      "step_size 0.03333333333333333\n",
      "step_size 0.03333333333333333\n",
      "step_size 0.03333333333333333\n",
      "step_size 0.03333333333333333\n",
      "step_size 0.03333333333333333\n",
      "step_size 0.03333333333333333\n",
      "step_size 0.03333333333333333\n",
      "step_size 0.03333333333333333\n",
      "step_size 0.03333333333333333\n",
      "step_size 0.03333333333333333\n",
      "step_size 0.03333333333333333\n",
      "step_size 0.03333333333333333\n",
      "step_size 0.03333333333333333\n",
      "step_size 0.03333333333333333\n",
      "step_size 0.03333333333333333\n",
      "step_size 0.03333333333333333\n",
      "step_size 0.03333333333333333\n",
      "step_size 0.03333333333333333\n",
      "step_size 0.03333333333333333\n",
      "step_size 0.03333333333333333\n",
      "step_size 0.03333333333333333\n",
      "step_size 0.03333333333333333\n",
      "step_size 0.03333333333333333\n",
      "step_size 0.03333333333333333\n",
      "step_size 0.03333333333333333\n",
      "step_size 0.03333333333333333\n",
      "step_size 0.03333333333333333\n",
      "step_size 0.03333333333333333\n",
      "step_size 0.03333333333333333\n",
      "step_size 0.03333333333333333\n",
      "step_size 0.03333333333333333\n",
      "step_size 0.03333333333333333\n",
      "step_size 0.03333333333333333\n",
      "step_size 0.03333333333333333\n",
      "step_size 0.03333333333333333\n",
      "step_size 0.03333333333333333\n",
      "step_size 0.03333333333333333\n",
      "step_size 0.03333333333333333\n",
      "step_size 0.03333333333333333\n",
      "step_size 0.03333333333333333\n",
      "step_size 0.03333333333333333\n",
      "step_size 0.03333333333333333\n",
      "step_size 0.03333333333333333\n",
      "step_size 0.03333333333333333\n",
      "step_size 0.03333333333333333\n",
      "step_size 0.03333333333333333\n",
      "step_size 0.03333333333333333\n",
      "step_size 0.03333333333333333\n",
      "step_size 0.03333333333333333\n",
      "step_size 0.03333333333333333\n",
      "step_size 0.03333333333333333\n",
      "step_size 0.03333333333333333\n",
      "step_size 0.03333333333333333\n",
      "step_size 0.03333333333333333\n"
     ]
    }
   ],
   "source": [
    "x = extract_sumstats(x_without)"
   ]
  },
  {
   "cell_type": "code",
   "execution_count": 32,
   "metadata": {},
   "outputs": [
    {
     "name": "stdout",
     "output_type": "stream",
     "text": [
      "Neural network successfully converged after 72 epochs.\n"
     ]
    }
   ],
   "source": [
    "inf = inf.append_simulations(theta, x)\n",
    "density_estimator = inf.train()\n",
    "\n",
    "posterior = inf.build_posterior(density_estimator)"
   ]
  },
  {
   "cell_type": "code",
   "execution_count": 33,
   "metadata": {},
   "outputs": [
    {
     "name": "stdout",
     "output_type": "stream",
     "text": [
      "torch.Size([300])\n",
      "step_size 0.03333333333333333\n",
      "torch.Size([1, 10])\n"
     ]
    }
   ],
   "source": [
    "true_params = [5, 5]\n",
    "obs_real = piecewise_linear_seq(true_params)\n",
    "\n",
    "\n",
    "print(obs_real.shape)\n",
    "\n",
    "obs_real_stats = extract_sumstats([obs_real])\n",
    "\n",
    "\n",
    "print(obs_real_stats.shape)"
   ]
  },
  {
   "cell_type": "code",
   "execution_count": 34,
   "metadata": {},
   "outputs": [
    {
     "data": {
      "application/vnd.jupyter.widget-view+json": {
       "model_id": "f161044ddafd44be902098ad769f78b6",
       "version_major": 2,
       "version_minor": 0
      },
      "text/plain": [
       "Drawing 100 posterior samples:   0%|          | 0/100 [00:00<?, ?it/s]"
      ]
     },
     "metadata": {},
     "output_type": "display_data"
    }
   ],
   "source": [
    "num_samples = 100\n",
    "\n",
    "samples = posterior.sample((num_samples,), x=obs_real_stats)\n",
    "\n",
    "proposal1 = posterior.set_default_x(obs_real_stats)"
   ]
  },
  {
   "cell_type": "code",
   "execution_count": 35,
   "metadata": {},
   "outputs": [
    {
     "name": "stdout",
     "output_type": "stream",
     "text": [
      "[tensor(5.2609), tensor(5.2841), tensor(6.0972), tensor(5.3368), tensor(4.6047), tensor(4.7543), tensor(5.6430), tensor(5.6891), tensor(4.1105), tensor(5.0699), tensor(5.1316), tensor(5.4163), tensor(5.1522), tensor(5.1371), tensor(5.1886), tensor(4.9120), tensor(5.3773), tensor(5.4299), tensor(5.3209), tensor(5.2919), tensor(5.8392), tensor(5.7447), tensor(5.0636), tensor(5.3316), tensor(5.0641), tensor(5.2261), tensor(5.3524), tensor(5.2525), tensor(5.4121), tensor(5.1461), tensor(5.2749), tensor(5.2752), tensor(4.5997), tensor(5.3991), tensor(4.4684), tensor(5.2706), tensor(5.1399), tensor(5.4520), tensor(5.4012), tensor(5.3345), tensor(5.3031), tensor(5.3013), tensor(5.3049), tensor(5.3027), tensor(4.0883), tensor(4.6562), tensor(5.0018), tensor(5.2632), tensor(5.3905), tensor(5.3050), tensor(4.9975), tensor(5.2912), tensor(5.3465), tensor(5.3371), tensor(5.2215), tensor(4.9665), tensor(5.1403), tensor(5.3030), tensor(5.2587), tensor(5.8011), tensor(4.4575), tensor(5.0944), tensor(5.4658), tensor(5.3374), tensor(5.1356), tensor(5.4205), tensor(5.0687), tensor(5.0647), tensor(4.7943), tensor(5.3488), tensor(5.0278), tensor(5.7201), tensor(4.9117), tensor(5.1907), tensor(5.2365), tensor(5.2943), tensor(5.2080), tensor(4.9126), tensor(5.1993), tensor(4.6062), tensor(5.0344), tensor(4.9419), tensor(5.4237), tensor(5.4513), tensor(4.5307), tensor(4.7515), tensor(5.4352), tensor(5.2000), tensor(5.4051), tensor(5.1812), tensor(5.7216), tensor(5.3626), tensor(5.1517), tensor(4.2067), tensor(5.1730), tensor(4.8221), tensor(5.2674), tensor(5.0751), tensor(5.1588), tensor(5.2195)]\n"
     ]
    }
   ],
   "source": [
    "samples_0 = []\n",
    "\n",
    "for i in samples:\n",
    "    samples_0.append(i[0])\n",
    "print(samples_0)"
   ]
  },
  {
   "cell_type": "code",
   "execution_count": 36,
   "metadata": {},
   "outputs": [
    {
     "name": "stdout",
     "output_type": "stream",
     "text": [
      "6.097229\n",
      "4.0882525\n"
     ]
    },
    {
     "data": {
      "image/png": "[encoded data removed]",
      "text/plain": [
       "<Figure size 432x288 with 1 Axes>"
      ]
     },
     "metadata": {
      "needs_background": "light"
     },
     "output_type": "display_data"
    }
   ],
   "source": [
    "### comparing samples range from posterior and prior:\n",
    "data = np.random.uniform(prior_min[0],prior_max[0],100) # You are generating 1000 points between 0 and 1.\n",
    "\n",
    "plt.hist(data, 20, facecolor='green', density=True) \n",
    "plt.hist(samples_0, 20, facecolor='red', density=True)\n",
    "\n",
    "\n",
    "print(np.max(samples_0))\n",
    "print(np.min(samples_0))"
   ]
  },
  {
   "cell_type": "code",
   "execution_count": 37,
   "metadata": {},
   "outputs": [
    {
     "name": "stdout",
     "output_type": "stream",
     "text": [
      "4\n",
      "2.0089765\n"
     ]
    }
   ],
   "source": [
    "print(prior_max[0]-prior_min[0])\n",
    "print(np.max(samples_0)-np.min(samples_0))"
   ]
  },
  {
   "cell_type": "code",
   "execution_count": 38,
   "metadata": {},
   "outputs": [
    {
     "data": {
      "text/plain": [
       "15.775"
      ]
     },
     "execution_count": 38,
     "metadata": {},
     "output_type": "execute_result"
    }
   ],
   "source": [
    "100/(4/0.631)"
   ]
  },
  {
   "cell_type": "markdown",
   "metadata": {},
   "source": [
    "So, the parameter range takes now only 15.775% of the uniform prior space!!"
   ]
  },
  {
   "cell_type": "markdown",
   "metadata": {},
   "source": [
    "## Second round"
   ]
  },
  {
   "cell_type": "code",
   "execution_count": null,
   "metadata": {},
   "outputs": [
    {
     "data": {
      "application/vnd.jupyter.widget-view+json": {
       "model_id": "580ebe22511f457c95681ab92754d05f",
       "version_major": 2,
       "version_minor": 0
      },
      "text/plain": [
       "Drawing 1 posterior samples:   0%|          | 0/1 [00:00<?, ?it/s]"
      ]
     },
     "metadata": {},
     "output_type": "display_data"
    },
    {
     "name": "stdout",
     "output_type": "stream",
     "text": [
      "theta pos size torch.Size([1, 2])\n",
      "theta prior size torch.Size([1, 1])\n",
      "2\n",
      "theta_posterior tensor([[4.4642, 4.7075]])\n",
      "theta prior tensor([[-4.4943]])\n",
      "theta tensor([[ 4.4642,  4.7075, -4.4943]])\n"
     ]
    },
    {
     "data": {
      "application/vnd.jupyter.widget-view+json": {
       "model_id": "124952b613b2432f928b43b030c3e088",
       "version_major": 2,
       "version_minor": 0
      },
      "text/plain": [
       "Drawing 1 posterior samples:   0%|          | 0/1 [00:00<?, ?it/s]"
      ]
     },
     "metadata": {},
     "output_type": "display_data"
    },
    {
     "name": "stdout",
     "output_type": "stream",
     "text": [
      "theta pos size torch.Size([2])\n",
      "theta prior size torch.Size([1])\n",
      "1\n",
      "true\n",
      "theta_posterior tensor([[5.8604, 4.8506]])\n",
      "theta prior tensor([[-4.2244]])\n",
      "theta tensor([[ 5.8604,  4.8506, -4.2244]])\n"
     ]
    },
    {
     "data": {
      "application/vnd.jupyter.widget-view+json": {
       "model_id": "4d4dafe32b4342cf99345445ff252b1f",
       "version_major": 2,
       "version_minor": 0
      },
      "text/plain": [
       "Drawing 1 posterior samples:   0%|          | 0/1 [00:00<?, ?it/s]"
      ]
     },
     "metadata": {},
     "output_type": "display_data"
    },
    {
     "name": "stdout",
     "output_type": "stream",
     "text": [
      "theta pos size torch.Size([1, 2])\n",
      "theta prior size torch.Size([1, 1])\n",
      "2\n",
      "theta_posterior tensor([[5.9982, 4.9513]])\n",
      "theta prior tensor([[-1.3578]])\n",
      "theta tensor([[ 5.9982,  4.9513, -1.3578]])\n"
     ]
    }
   ],
   "source": [
    "#### second round\n",
    "\n",
    "\n",
    "\n",
    "prior2 = utils.torchutils.BoxUniform(low=prior_min[2:3], high = prior_max[2:3])\n",
    "\n",
    "\n",
    "prior_combined =Combined(proposal1, prior2, number_params_1=2)\n",
    "\n",
    "\n",
    "\n",
    "inf = SNPE_C(prior_combined, density_estimator=\"nsf\")\n",
    "\n",
    "density_estimator = 'nsf'\n",
    "\n",
    "\n",
    "simulator_stats, prior = prepare_for_sbi(piecewise_linear_seq, prior_combined)\n",
    "\n",
    "inference = SNPE_C(prior, density_estimator=density_estimator)\n",
    "\n",
    "theta, x_without = simulate_for_sbi(\n",
    "    simulator_stats,\n",
    "    proposal=prior,\n",
    "    num_simulations=num_simulations,\n",
    "    num_workers=4,\n",
    ")"
   ]
  },
  {
   "cell_type": "code",
   "execution_count": null,
   "metadata": {},
   "outputs": [],
   "source": [
    "x = extract_sumstats(x_without)\n",
    "\n",
    "\n",
    "\n",
    "inf = inf.append_simulations(theta, x)\n",
    "\n",
    "\n",
    "density_estimator = inf.train()\n",
    "\n",
    "posterior2 = inf.build_posterior(density_estimator)"
   ]
  },
  {
   "cell_type": "code",
   "execution_count": null,
   "metadata": {},
   "outputs": [],
   "source": [
    "true_params = [5,5,-3]\n",
    "\n",
    "\n",
    "obs_real = piecewise_linear_seq(true_params)\n",
    "\n",
    "\n",
    "obs_real_stats = extract_sumstats([obs_real])\n",
    "\n",
    "\n",
    "#print(proposal2.log_prob(theta))\n",
    "\n",
    "samples = posterior2.sample((num_samples,), x=obs_real_stats)\n",
    "\n",
    "proposal2 = posterior2.set_default_x(obs_real_stats)"
   ]
  },
  {
   "cell_type": "markdown",
   "metadata": {},
   "source": [
    "## Third and last round"
   ]
  },
  {
   "cell_type": "code",
   "execution_count": null,
   "metadata": {},
   "outputs": [],
   "source": [
    "#### third round\n",
    "\n",
    "\n",
    "\n",
    "prior3 = utils.torchutils.BoxUniform(low=prior_min[3:4], high = prior_max[3:4])\n",
    "\n",
    "\n",
    "prior_combined2 = Combined(proposal2, prior3, number_params_1=3)\n",
    "\n",
    "\n",
    "\n",
    "inf = SNPE_C(prior_combined2, density_estimator=\"nsf\")\n",
    "\n",
    "density_estimator = 'nsf'\n",
    "\n",
    "\n",
    "simulator_stats, prior = prepare_for_sbi(piecewise_linear_seq, prior_combined2)\n",
    "\n",
    "inference = SNPE_C(prior, density_estimator=density_estimator)\n",
    "\n",
    "theta, x_without = simulate_for_sbi(\n",
    "    simulator_stats,\n",
    "    proposal=prior,\n",
    "    num_simulations=num_simulations,\n",
    "    num_workers=4,\n",
    ")"
   ]
  },
  {
   "cell_type": "code",
   "execution_count": null,
   "metadata": {},
   "outputs": [],
   "source": [
    "x = extract_sumstats(x_without)\n",
    "\n",
    "\n",
    "\n",
    "inf = inf.append_simulations(theta, x)\n",
    "\n",
    "\n",
    "density_estimator = inf.train()\n",
    "\n",
    "posterior3 = inf.build_posterior(density_estimator)"
   ]
  },
  {
   "cell_type": "code",
   "execution_count": null,
   "metadata": {},
   "outputs": [],
   "source": [
    "true_params = [5, 5, -3, 2]\n",
    "\n",
    "obs_real = piecewise_linear_seq(true_params)\n",
    "\n",
    "\n",
    "obs_real_stats = extract_sumstats([obs_real])\n",
    "\n",
    "\n",
    "samples = posterior3.sample((num_samples,), x=obs_real_stats)\n",
    "\n",
    "\n",
    "prior = utils.torchutils.BoxUniform(low=prior_min, high = prior_max)\n",
    "samples_prior = []\n",
    "\n",
    "\n",
    "for i in range(num_samples):\n",
    "    sample = prior.sample()\n",
    "    samples_prior.append(sample)"
   ]
  },
  {
   "cell_type": "code",
   "execution_count": null,
   "metadata": {},
   "outputs": [],
   "source": [
    "end = get_time()\n",
    "\n",
    "\n",
    "print('start:', start, '\\nend:', end)"
   ]
  },
  {
   "cell_type": "code",
   "execution_count": null,
   "metadata": {},
   "outputs": [],
   "source": [
    "from joblib import Parallel, delayed\n",
    "\n",
    "num_workers = 4\n",
    "x_lin = torch.arange(0,10,0.01, dtype= torch.float32)\n",
    "s_x = Parallel(\n",
    "        n_jobs=num_workers,\n",
    "        verbose=0,\n",
    "        pre_dispatch=\"1.5*n_jobs\",\n",
    "        backend=\"multiprocessing\",\n",
    "    )(delayed(piecewise_linear_seq)(sample) for sample in samples)\n",
    "\n",
    "\n",
    "s_x_prior = Parallel(\n",
    "        n_jobs=num_workers,\n",
    "        verbose=0,\n",
    "        pre_dispatch=\"1.5*n_jobs\",\n",
    "        backend=\"multiprocessing\",\n",
    "    )(delayed(piecewise_linear_seq)(sample) for sample in samples_prior)"
   ]
  },
  {
   "cell_type": "code",
   "execution_count": null,
   "metadata": {},
   "outputs": [],
   "source": [
    "fig, ax = plt.subplots(1, 1)\n",
    "ax.set_title(\"Simulating from posterior\")\n",
    "for s in s_x:\n",
    "    im = plt.plot(x_lin, s, alpha=0.1, color='blue')\n",
    "    plt.ylim(-10,30)\n",
    "plt.plot(x_lin, obs_real, label='Ground truth', color='red')\n",
    "plt.legend()\n",
    "    \n",
    "    \n",
    "    \n",
    "fig, ax = plt.subplots(1, 1)\n",
    "ax.set_title(\"Simulating from prior\")\n",
    "for x_w in x_without:\n",
    "    plt.plot(x_lin, x_w, alpha=0.1, color='blue')\n",
    "\n",
    "    plt.ylim(-10,30)\n",
    "\n",
    "\n",
    "  "
   ]
  },
  {
   "cell_type": "code",
   "execution_count": null,
   "metadata": {},
   "outputs": [],
   "source": [
    "limits = [list(tup) for tup in zip(prior_min, prior_max)]\n",
    "\n",
    "true_params = torch.tensor([[5, 5, -3, 2, 1, 5]])\n",
    "\n",
    "parameter_names = ['a1', 'b', 'a2', 'a3', 'cp1', 'cp2' ]\n",
    "\n",
    "fig, axes = analysis.pairplot(\n",
    "    samples,\n",
    "    limits=limits,\n",
    "    ticks=limits,\n",
    "    figsize=(5, 5),\n",
    "    points=true_params[0:2],\n",
    "    points_offdiag={\"markersize\": 6},\n",
    "    points_colors=\"r\",\n",
    "    #tick_labels=parameter_names\n",
    "    labels=parameter_names,\n",
    ")"
   ]
  },
  {
   "cell_type": "code",
   "execution_count": null,
   "metadata": {},
   "outputs": [],
   "source": [
    "import matplotlib.gridspec as gridspec\n",
    "\n",
    "x = x\n",
    "\n",
    "s_real = obs_real_stats[0]\n",
    "\n",
    "\n",
    "fig = plt.figure(figsize=(10,40), tight_layout=True)\n",
    "\n",
    "gs = gridspec.GridSpec(nrows=x.size(dim=1), ncols=1)\n",
    "\n",
    "\n",
    "sum_stats_names = torch.arange(1, 14, 1)\n",
    "\n",
    "print(sum_stats_names)\n",
    "\n",
    "\n",
    "\n",
    "#fig.suptitle('Summary stats histogram from posterior predictions.', y=0.2, fontsize=16)\n",
    "\n",
    "\n",
    "for i in range(len(sum_stats_names)-1):\n",
    "\n",
    "    globals()['ax%s' % i] = fig.add_subplot(gs[i])\n",
    "\n",
    "    globals()['sum_stats%s' % i] = []\n",
    "    globals()['x%s' % i] = []\n",
    "\n",
    "    for j in range(len(s_x)-1):\n",
    "        globals()['sum_stats%s' % i].append(s_x[j][i])\n",
    "        globals()['x%s' % i].append(s_x_prior[j][i])\n",
    "\n",
    "\n",
    "\n",
    "    globals()['ax%s' % i].hist(globals()['sum_stats%s' % i],  density=False, facecolor='g', alpha=0.75, histtype='barstacked', label='from posterior')\n",
    "    globals()['ax%s' % i].hist(globals()['x%s' % i],  density=False, facecolor='b', alpha=0.75, histtype='barstacked', label='simulated')\n",
    "    \n",
    "  \n",
    "    globals()['ax%s' % i].set_title('Histogram of summary stat \"{}\" '.format(sum_stats_names[i]), pad=20)\n",
    "    #ax0.set(ylim=(-500, 7000))\n",
    "\n",
    "    globals()['ax%s' % i].axvline(s_real[i], color='red', label='ground truth')\n",
    "    globals()['ax%s' % i].legend(loc='upper right')\n",
    "\n",
    "\n",
    "\n",
    "\n",
    "\n",
    "plt.savefig('Summary_stats_post_prior')"
   ]
  },
  {
   "cell_type": "code",
   "execution_count": null,
   "metadata": {},
   "outputs": [],
   "source": []
  },
  {
   "cell_type": "code",
   "execution_count": null,
   "metadata": {},
   "outputs": [],
   "source": []
  }
 ],
 "metadata": {
  "interpreter": {
   "hash": "126fa1c3f32c28cc7adc0ff61e94b616033ac8f91881516d11a50edd9bdb1b2c"
  },
  "kernelspec": {
   "display_name": "Python 3 (ipykernel)",
   "language": "python",
   "name": "python3"
  },
  "language_info": {
   "codemirror_mode": {
    "name": "ipython",
    "version": 3
   },
   "file_extension": ".py",
   "mimetype": "text/x-python",
   "name": "python",
   "nbconvert_exporter": "python",
   "pygments_lexer": "ipython3",
   "version": "3.8.8"
  }
 },
 "nbformat": 4,
 "nbformat_minor": 2
}
