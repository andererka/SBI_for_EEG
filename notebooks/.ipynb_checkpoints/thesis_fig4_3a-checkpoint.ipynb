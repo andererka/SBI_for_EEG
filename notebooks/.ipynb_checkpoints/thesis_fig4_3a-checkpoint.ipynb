{
 "cells": [
  {
   "cell_type": "markdown",
   "id": "4adc7403",
   "metadata": {},
   "source": [
    "# Exploring parameters\n",
    "\n",
    "#### density plots, post predictive checks etc."
   ]
  },
  {
   "cell_type": "code",
   "execution_count": 1,
   "id": "e788d96d",
   "metadata": {},
   "outputs": [],
   "source": [
    "%load_ext autoreload\n",
    "%autoreload 2\n",
    "import os.path as op\n",
    "import tempfile\n",
    "\n",
    "import matplotlib.pyplot as plt\n",
    "\n",
    "\n",
    "import hnn_core\n",
    "from hnn_core import simulate_dipole, jones_2009_model\n",
    "from hnn_core.viz import plot_dipole\n",
    "\n",
    "\n",
    "import sys\n",
    "sys.path.append('../code/')\n",
    "sys.path.append('../code/utils/')\n",
    "#sys.path.append('../code/sbi/')\n",
    "#sys.path.append('../../results_cluster/')\n",
    "\n",
    "\n",
    "import numpy as np\n",
    "import torch\n",
    "\n",
    "# visualization\n",
    "import matplotlib as mpl\n",
    "import matplotlib.pyplot as plt\n",
    "\n",
    "\n",
    "import os\n",
    "\n",
    "work_dir = '/home/ubuntu/sbi_for_eeg_data/code/'\n",
    "\n",
    "os.chdir(work_dir)\n",
    "\n",
    "#from utils.plot import cov, compare_vars, plot_varchanges\n",
    "#from utils.plot import compare_KLs, plot_KLs\n",
    "#from sbi.inference import potentials\n",
    "import utils.sbi_modulated_functions\n",
    "\n",
    "# sbi\n",
    "from sbi import utils as utils\n",
    "from sbi import analysis as analysis\n",
    "from sbi.inference.base import infer\n",
    "from sbi.inference import SNPE, prepare_for_sbi, simulate_for_sbi\n",
    "\n",
    "from sbi.analysis import conditional_pairplot, conditional_corrcoeff\n",
    "\n",
    "\n",
    "\n",
    "# import the summary statistics that you want to investigate\n",
    "from summary_features.calculate_summary_features import calculate_summary_statistics_alternative as alternative_sumstats\n",
    "from summary_features.calculate_summary_features import calculate_summary_stats_temporal as temporal_sumstats\n",
    "from summary_features.calculate_summary_features import calculate_summary_stats_number as number_sumstats\n",
    "from summary_features.calculate_summary_features import calculate_summary_stats_temporal\n"
   ]
  },
  {
   "cell_type": "code",
   "execution_count": 2,
   "id": "ab993458",
   "metadata": {},
   "outputs": [
    {
     "name": "stdout",
     "output_type": "stream",
     "text": [
      "1.9.1+cu102\n"
     ]
    }
   ],
   "source": [
    "print(torch.__version__)"
   ]
  },
  {
   "cell_type": "code",
   "execution_count": 3,
   "id": "9c212ce0",
   "metadata": {},
   "outputs": [],
   "source": [
    "## defining neuronal network model\n",
    "\n",
    "num_params = 6\n",
    "\n",
    "from utils.simulation_wrapper import set_network_default, SimulationWrapper\n",
    "sim_wrapper = SimulationWrapper(num_params, noise=False)\n"
   ]
  },
  {
   "cell_type": "code",
   "execution_count": 4,
   "id": "230edc87",
   "metadata": {},
   "outputs": [
    {
     "name": "stdout",
     "output_type": "stream",
     "text": [
      "/home/ubuntu\n",
      "/home/ubuntu\n",
      "/home/ubuntu/results/toy_example_mdn_08_04_lesser_ratio\n"
     ]
    }
   ],
   "source": [
    "from utils import inference\n",
    "\n",
    "import pickle\n",
    "from data_load_writer import *\n",
    "from data_load_writer import load_from_file as lf\n",
    "\n",
    "import os\n",
    "\n",
    "work_dir = '/home/ubuntu/'\n",
    "\n",
    "os.chdir(work_dir)\n",
    "\n",
    "\n",
    "\n",
    "import os\n",
    "\n",
    "print(os.getcwd())\n",
    "\n",
    "\n",
    "\n",
    "file = 'toy_example_mdn_08_04_lesser_ratio'\n",
    "\n",
    "\n",
    "print(os.getcwd())\n",
    "\n",
    "os.chdir('results/{}'.format(file))\n",
    "\n",
    "\n",
    "print(os.getcwd())\n",
    "  \n",
    "\n"
   ]
  },
  {
   "cell_type": "code",
   "execution_count": 5,
   "id": "bde67830",
   "metadata": {},
   "outputs": [],
   "source": [
    "def Gaussian(thetas, normal_noise=1):\n",
    "    \n",
    "    gauss_list = []\n",
    "    \n",
    "    for theta in thetas:\n",
    "    \n",
    "        mu, sigma = theta, normal_noise # mean and standard deviation\n",
    "\n",
    "        s = np.random.normal(mu, sigma, 1)\n",
    "    \n",
    "        \n",
    "        gauss_list.append(s[0])\n",
    "        \n",
    "    gauss_obs = torch.tensor(gauss_list)\n",
    "    \n",
    "    return gauss_obs\n",
    "    \n",
    "\n"
   ]
  },
  {
   "cell_type": "code",
   "execution_count": 6,
   "id": "bc10d6ce",
   "metadata": {},
   "outputs": [],
   "source": [
    "list_collection = torch.load('list_collection.pt')\n",
    "list_collection_inc = torch.load('list_collection_inc.pt')"
   ]
  },
  {
   "cell_type": "code",
   "execution_count": 7,
   "id": "d4ca2c26",
   "metadata": {},
   "outputs": [],
   "source": [
    "true_thetas = torch.tensor([[3.0, 6.0, 20.0, 10.0, 90.0, 55.0, 27.0, 27.0, 4.0, 70.0, 5.0, 66.0, 99.0, 40.0, 45.0]])\n",
    "parameter_names = ['t1', 't2', 't3', 't4', 't5', 't6', 't7', 't8', 't9', 't10', 't11', 't12', 't13', 't14', 't15']\n",
    "\n",
    "prior_max = [100.0] * 15\n",
    "prior_min = [1.0] * 15\n",
    "\n",
    "prior = utils.torchutils.BoxUniform(low=prior_min, high = prior_max)\n",
    "\n",
    "samples_prior = prior.sample((10000,))\n",
    "\n",
    "simulator_stats, prior = prepare_for_sbi(Gaussian, prior)"
   ]
  },
  {
   "cell_type": "code",
   "execution_count": 8,
   "id": "64df37b2",
   "metadata": {},
   "outputs": [],
   "source": [
    "samples_prior_list = samples_prior.unsqueeze(0)"
   ]
  },
  {
   "cell_type": "code",
   "execution_count": null,
   "id": "431660f3",
   "metadata": {},
   "outputs": [],
   "source": []
  },
  {
   "cell_type": "code",
   "execution_count": 9,
   "id": "0c8bddbc",
   "metadata": {},
   "outputs": [
    {
     "data": {
      "text/plain": [
       "torch.Size([10000, 15])"
      ]
     },
     "execution_count": 9,
     "metadata": {},
     "output_type": "execute_result"
    }
   ],
   "source": [
    "samples_prior_list[0].shape"
   ]
  },
  {
   "cell_type": "code",
   "execution_count": 10,
   "id": "dbeec27a",
   "metadata": {},
   "outputs": [
    {
     "name": "stdout",
     "output_type": "stream",
     "text": [
      "[Parallel(n_jobs=1)]: Using backend SequentialBackend with 1 concurrent workers.\n",
      "[Parallel(n_jobs=1)]: Done   1 out of   1 | elapsed:    1.8s remaining:    0.0s\n",
      "[Parallel(n_jobs=1)]: Done   1 out of   1 | elapsed:    1.8s finished\n"
     ]
    }
   ],
   "source": [
    "thetas = inference.run_only_sim(samples_prior_list, simulation_wrapper = simulator_stats, num_workers=1)"
   ]
  },
  {
   "cell_type": "code",
   "execution_count": null,
   "id": "6b885f02",
   "metadata": {},
   "outputs": [],
   "source": [
    "\n"
   ]
  },
  {
   "cell_type": "code",
   "execution_count": 11,
   "id": "678fc0e0",
   "metadata": {},
   "outputs": [],
   "source": [
    "def KL_Gauss(X, Y):\n",
    "    \n",
    "    sample_x = X.sample((1000,))\n",
    "    mu_x = torch.mean(sample_x, dim=0)\n",
    "    var_x = torch.std(sample_x, dim=0)\n",
    "\n",
    "    var_y = Y.stddev\n",
    "\n",
    "    mu_y = Y.mean\n",
    "    \n",
    "    \n",
    "    return torch.mean(np.log(var_y/var_x) + (var_x**2 + (mu_x - mu_y)**2)/(2*var_y**2) -(1/2)), var_x, mu_x\n",
    "\n",
    "\n",
    "def calc_KL_1d(X, Y):\n",
    "    \n",
    "    sample_x = X.sample((1000,))\n",
    "    mu_x = torch.mean(sample_x, dim=0)\n",
    "    var_x = torch.std(sample_x, dim=0)\n",
    "    \n",
    "    print(var_x)\n",
    "    print(mu_x)\n",
    "\n",
    "\n",
    "    var_y = Y.stddev\n",
    "\n",
    "    mu_y = Y.mean\n",
    "    \n",
    "    print(mu_y)\n",
    "    print(var_y)\n",
    "    \n",
    "    print(np.log(var_y/var_x) + (var_x**2 + (mu_x - mu_y)**2)/(2*var_y**2) -(1/2))\n",
    "    \n",
    "    return np.log(var_y/var_x) + (var_x**2 + (mu_x - mu_y)**2)/(2*var_y**2) -(1/2)\n",
    "\n",
    "\n",
    "# calculate the jensen-shanon divergence\n",
    "def js_divergence(p, q):\n",
    "    m = 0.5 * (p + q)\n",
    "    return 0.5 * kl_divergence(p, m) + 0.5 * kl_divergence(q, m)"
   ]
  },
  {
   "cell_type": "code",
   "execution_count": 12,
   "id": "c39fb7f2",
   "metadata": {},
   "outputs": [
    {
     "data": {
      "application/vnd.jupyter.widget-view+json": {
       "model_id": "08fd46554ad14f05a3c01545bc921823",
       "version_major": 2,
       "version_minor": 0
      },
      "text/plain": [
       "Drawing 1000 posterior samples:   0%|          | 0/1000 [00:00<?, ?it/s]"
      ]
     },
     "metadata": {},
     "output_type": "display_data"
    },
    {
     "data": {
      "application/vnd.jupyter.widget-view+json": {
       "model_id": "dc6600dc572041f69cc3d119ae30e4f8",
       "version_major": 2,
       "version_minor": 0
      },
      "text/plain": [
       "Drawing 1000 posterior samples:   0%|          | 0/1000 [00:00<?, ?it/s]"
      ]
     },
     "metadata": {},
     "output_type": "display_data"
    },
    {
     "name": "stdout",
     "output_type": "stream",
     "text": [
      "tensor([4.8209, 5.4826, 5.9819, 3.7542, 3.7644, 9.4424, 8.3950, 5.3740, 3.7668,\n",
      "        8.7980, 2.1238, 4.2600, 2.0889, 8.2793, 4.2492])\n",
      "tensor([11.0257, 24.5442, 29.4483,  8.8126, 71.9675, 51.8517, 36.7250, 43.5093,\n",
      "         7.5624, 75.1965,  3.9979, 48.5736, 96.7557, 27.3633, 36.6214])\n",
      "tensor([[ 3.,  6., 20., 10., 90., 55., 27., 27.,  4., 70.,  5., 66., 99., 40.,\n",
      "         45.]])\n",
      "tensor([[1., 1., 1., 1., 1., 1., 1., 1., 1., 1., 1., 1., 1., 1., 1.]])\n",
      "tensor([[ 41.7532, 184.7724,  60.2385,   5.9290, 167.8447,  46.7900,  79.8985,\n",
      "         148.5376,  11.6137,  49.5296,   1.5042, 158.9635,   3.4635, 111.5036,\n",
      "          42.1818]])\n"
     ]
    },
    {
     "data": {
      "application/vnd.jupyter.widget-view+json": {
       "model_id": "14e2895603f1499b9ec70fc0d1032741",
       "version_major": 2,
       "version_minor": 0
      },
      "text/plain": [
       "Drawing 1000 posterior samples:   0%|          | 0/1000 [00:00<?, ?it/s]"
      ]
     },
     "metadata": {},
     "output_type": "display_data"
    },
    {
     "data": {
      "application/vnd.jupyter.widget-view+json": {
       "model_id": "ba0dfb4700ee4a71973469a857a5d26b",
       "version_major": 2,
       "version_minor": 0
      },
      "text/plain": [
       "Drawing 1000 posterior samples:   0%|          | 0/1000 [00:00<?, ?it/s]"
      ]
     },
     "metadata": {},
     "output_type": "display_data"
    },
    {
     "name": "stdout",
     "output_type": "stream",
     "text": [
      "tensor([ 5.2743,  4.5911,  6.3331, 11.4201,  5.7830,  6.4292,  3.9878,  5.5516,\n",
      "         4.7153,  7.2833,  5.8558,  5.8751,  3.7646,  4.6672,  6.3263])\n",
      "tensor([12.2524, 11.6987, 46.6911, 31.2979, 91.3352, 58.2182, 10.4845, 36.4911,\n",
      "        15.6848, 61.2411, 19.7973, 78.5576, 95.4222, 42.0976, 48.1139])\n",
      "tensor([[ 3.,  6., 20., 10., 90., 55., 27., 27.,  4., 70.,  5., 66., 99., 40.,\n",
      "         45.]])\n",
      "tensor([[1., 1., 1., 1., 1., 1., 1., 1., 1., 1., 1., 1., 1., 1., 1.]])\n",
      "tensor([[ 54.5500,  24.7528, 373.9165, 289.0750,  15.3579,  23.4852, 142.4488,\n",
      "          58.2363,  77.3333,  62.3964, 124.3581,  93.8350,  11.6610,  11.0509,\n",
      "          22.5144]])\n"
     ]
    },
    {
     "data": {
      "application/vnd.jupyter.widget-view+json": {
       "model_id": "e7704694492e4edda7637ef2ce0a8cc5",
       "version_major": 2,
       "version_minor": 0
      },
      "text/plain": [
       "Drawing 1000 posterior samples:   0%|          | 0/1000 [00:00<?, ?it/s]"
      ]
     },
     "metadata": {},
     "output_type": "display_data"
    },
    {
     "data": {
      "application/vnd.jupyter.widget-view+json": {
       "model_id": "972149d664af41cdb76fc64727532398",
       "version_major": 2,
       "version_minor": 0
      },
      "text/plain": [
       "Drawing 1000 posterior samples:   0%|          | 0/1000 [00:00<?, ?it/s]"
      ]
     },
     "metadata": {},
     "output_type": "display_data"
    },
    {
     "name": "stdout",
     "output_type": "stream",
     "text": [
      "tensor([8.8177, 5.7922, 4.1393, 4.7548, 7.5692, 3.3594, 8.5853, 4.5064, 9.7502,\n",
      "        6.1720, 3.8317, 2.9759, 3.1677, 6.2581, 8.3467])\n",
      "tensor([30.3535, 28.8462, 36.3480, 24.5638, 60.3327, 59.2837, 50.6985, 33.2301,\n",
      "        43.3882, 54.4769, 21.0523, 50.7969, 91.0533, 22.3125, 80.4312])\n",
      "tensor([[ 3.,  6., 20., 10., 90., 55., 27., 27.,  4., 70.,  5., 66., 99., 40.,\n",
      "         45.]])\n",
      "tensor([[1., 1., 1., 1., 1., 1., 1., 1., 1., 1., 1., 1., 1., 1., 1.]])\n",
      "tensor([[410.3071, 275.4923, 140.2758, 115.2972, 466.1955,  13.1061, 315.0130,\n",
      "          27.5552, 820.4697, 137.2097, 134.3358, 118.4047,  34.9396, 173.6722,\n",
      "         659.8966]])\n"
     ]
    },
    {
     "data": {
      "application/vnd.jupyter.widget-view+json": {
       "model_id": "42e0d01b626d45a79ca83fdf438fa8a6",
       "version_major": 2,
       "version_minor": 0
      },
      "text/plain": [
       "Drawing 1000 posterior samples:   0%|          | 0/1000 [00:00<?, ?it/s]"
      ]
     },
     "metadata": {},
     "output_type": "display_data"
    },
    {
     "data": {
      "application/vnd.jupyter.widget-view+json": {
       "model_id": "1d7b87e7e75f4bc092bb788ee669bfe2",
       "version_major": 2,
       "version_minor": 0
      },
      "text/plain": [
       "Drawing 1000 posterior samples:   0%|          | 0/1000 [00:00<?, ?it/s]"
      ]
     },
     "metadata": {},
     "output_type": "display_data"
    },
    {
     "name": "stdout",
     "output_type": "stream",
     "text": [
      "tensor([1.7185, 1.6291, 4.2730, 1.3145, 3.1712, 2.3538, 1.5295, 2.2611, 2.2182,\n",
      "        0.9055, 1.6304, 1.4241, 3.1815, 2.9179, 4.2163])\n",
      "tensor([ 4.7187,  3.3923, 22.3287,  8.8804, 92.3796, 53.3917, 27.0177, 27.0511,\n",
      "         4.7457, 68.5393,  3.5955, 64.9003, 94.9514, 40.4784, 42.0819])\n",
      "tensor([[ 3.,  6., 20., 10., 90., 55., 27., 27.,  4., 70.,  5., 66., 99., 40.,\n",
      "         45.]])\n",
      "tensor([[1., 1., 1., 1., 1., 1., 1., 1., 1., 1., 1., 1., 1., 1., 1.]])\n",
      "tensor([[ 1.9122,  3.7389,  9.8886,  0.7172,  6.2054,  2.7075,  0.2449,  1.2417,\n",
      "          1.4417,  1.0761,  1.3266,  0.7651, 11.5993,  2.8006, 11.2074]])\n"
     ]
    },
    {
     "data": {
      "application/vnd.jupyter.widget-view+json": {
       "model_id": "eeb1c585228644e2b42059fd94553a35",
       "version_major": 2,
       "version_minor": 0
      },
      "text/plain": [
       "Drawing 1000 posterior samples:   0%|          | 0/1000 [00:00<?, ?it/s]"
      ]
     },
     "metadata": {},
     "output_type": "display_data"
    },
    {
     "data": {
      "application/vnd.jupyter.widget-view+json": {
       "model_id": "22f7dfcc7198466289d544a595861983",
       "version_major": 2,
       "version_minor": 0
      },
      "text/plain": [
       "Drawing 1000 posterior samples:   0%|          | 0/1000 [00:00<?, ?it/s]"
      ]
     },
     "metadata": {},
     "output_type": "display_data"
    },
    {
     "name": "stdout",
     "output_type": "stream",
     "text": [
      "tensor([5.1616, 7.9646, 7.3385, 5.8306, 5.0510, 1.7119, 1.6663, 3.2631, 3.9251,\n",
      "        3.3404, 2.8121, 2.7973, 4.6047, 4.6749, 6.9138])\n",
      "tensor([16.9971, 34.4749, 17.3013, 21.1465, 88.9476, 51.6290, 28.1754, 17.6451,\n",
      "         9.0679, 65.5179, 16.0253, 71.6911, 89.5909, 39.2002, 36.6492])\n",
      "tensor([[ 3.,  6., 20., 10., 90., 55., 27., 27.,  4., 70.,  5., 66., 99., 40.,\n",
      "         45.]])\n",
      "tensor([[1., 1., 1., 1., 1., 1., 1., 1., 1., 1., 1., 1., 1., 1., 1.]])\n",
      "tensor([[109.1396, 434.5519,  28.0748,  76.8569,  11.1905,   6.1094,   1.0685,\n",
      "          47.3979,  18.6775,  13.9177,  63.1982,  18.5781,  52.8397,   9.2051,\n",
      "          56.3346]])\n"
     ]
    },
    {
     "data": {
      "application/vnd.jupyter.widget-view+json": {
       "model_id": "aa7d2cf895b347b7b614ee8ac644b930",
       "version_major": 2,
       "version_minor": 0
      },
      "text/plain": [
       "Drawing 1000 posterior samples:   0%|          | 0/1000 [00:00<?, ?it/s]"
      ]
     },
     "metadata": {},
     "output_type": "display_data"
    },
    {
     "data": {
      "application/vnd.jupyter.widget-view+json": {
       "model_id": "cfb4a514730945e4a3bf30d2df5d5727",
       "version_major": 2,
       "version_minor": 0
      },
      "text/plain": [
       "Drawing 1000 posterior samples:   0%|          | 0/1000 [00:00<?, ?it/s]"
      ]
     },
     "metadata": {},
     "output_type": "display_data"
    },
    {
     "name": "stdout",
     "output_type": "stream",
     "text": [
      "tensor([2.5971, 4.3937, 7.9463, 2.1641, 3.0413, 1.7629, 2.1616, 3.7927, 1.4320,\n",
      "        2.3660, 1.4224, 3.2050, 3.2132, 2.2186, 9.0486])\n",
      "tensor([ 8.6820, 13.4528, 34.9553, 14.1862, 88.2166, 52.5145, 29.6910, 33.3851,\n",
      "         2.9207, 64.6281,  6.9695, 58.7870, 93.9450, 35.3968, 28.6827])\n",
      "tensor([[ 3.,  6., 20., 10., 90., 55., 27., 27.,  4., 70.,  5., 66., 99., 40.,\n",
      "         45.]])\n",
      "tensor([[1., 1., 1., 1., 1., 1., 1., 1., 1., 1., 1., 1., 1., 1., 1.]])\n",
      "tensor([[ 18.0605,  35.4440, 140.8298,   9.8319,   4.6029,   3.5758,   4.6861,\n",
      "          25.7442,   0.7487,  15.8667,   2.0986,  29.4850,  16.2716,  11.7592,\n",
      "         171.3631]])\n"
     ]
    },
    {
     "data": {
      "application/vnd.jupyter.widget-view+json": {
       "model_id": "ecbedbbcdb364501981bca012fcd8887",
       "version_major": 2,
       "version_minor": 0
      },
      "text/plain": [
       "Drawing 1000 posterior samples:   0%|          | 0/1000 [00:00<?, ?it/s]"
      ]
     },
     "metadata": {},
     "output_type": "display_data"
    },
    {
     "data": {
      "application/vnd.jupyter.widget-view+json": {
       "model_id": "e023e724446f42cc84f8af8484ddcac5",
       "version_major": 2,
       "version_minor": 0
      },
      "text/plain": [
       "Drawing 1000 posterior samples:   0%|          | 0/1000 [00:00<?, ?it/s]"
      ]
     },
     "metadata": {},
     "output_type": "display_data"
    },
    {
     "name": "stdout",
     "output_type": "stream",
     "text": [
      "tensor([4.7392, 5.8314, 5.7917, 4.6302, 7.4985, 5.9247, 4.1116, 4.1411, 4.9152,\n",
      "        6.0002, 3.9466, 6.3374, 5.1716, 3.4291, 7.9779])\n",
      "tensor([ 9.3527, 16.6968, 11.1523, 14.7230, 64.8658, 44.5072, 24.6727, 25.8517,\n",
      "         8.7595, 85.9609,  8.1472, 81.2493, 82.3711, 36.8368, 34.5060])\n",
      "tensor([[ 3.,  6., 20., 10., 90., 55., 27., 27.,  4., 70.,  5., 66., 99., 40.,\n",
      "         45.]])\n",
      "tensor([[1., 1., 1., 1., 1., 1., 1., 1., 1., 1., 1., 1., 1., 1., 1.]])\n",
      "tensor([[ 29.3522,  71.9504,  53.6559,  19.8404, 341.4638,  70.3216,   9.2471,\n",
      "           7.3126,  21.3136, 143.0847,  10.8674, 134.0051, 149.4901,   9.1499,\n",
      "          84.3088]])\n"
     ]
    },
    {
     "data": {
      "application/vnd.jupyter.widget-view+json": {
       "model_id": "aa4772613cc04fbda181495335bcc2db",
       "version_major": 2,
       "version_minor": 0
      },
      "text/plain": [
       "Drawing 1000 posterior samples:   0%|          | 0/1000 [00:00<?, ?it/s]"
      ]
     },
     "metadata": {},
     "output_type": "display_data"
    },
    {
     "data": {
      "application/vnd.jupyter.widget-view+json": {
       "model_id": "d6d3721fbd0d4f29a151d14ae0766e1c",
       "version_major": 2,
       "version_minor": 0
      },
      "text/plain": [
       "Drawing 1000 posterior samples:   0%|          | 0/1000 [00:00<?, ?it/s]"
      ]
     },
     "metadata": {},
     "output_type": "display_data"
    },
    {
     "name": "stdout",
     "output_type": "stream",
     "text": [
      "tensor([4.4516, 5.4623, 4.4593, 5.0626, 5.3058, 7.0334, 5.1748, 5.6487, 4.3293,\n",
      "        4.3665, 5.9214, 7.1792, 7.1173, 5.9941, 6.8630])\n",
      "tensor([16.8182, 13.5546, 13.3415, 21.0938, 90.9408, 31.5779, 12.5634, 42.2898,\n",
      "        16.4285, 67.5420, 12.3385, 44.4657, 76.7206, 35.7972, 18.8647])\n",
      "tensor([[ 3.,  6., 20., 10., 90., 55., 27., 27.,  4., 70.,  5., 66., 99., 40.,\n",
      "         45.]])\n",
      "tensor([[1., 1., 1., 1., 1., 1., 1., 1., 1., 1., 1., 1., 1., 1., 1.]])\n",
      "tensor([[103.3868,  41.2567,  30.1152,  72.2292,  12.3495, 296.5804, 115.4526,\n",
      "         130.6125,  84.6400,  10.5802,  42.1793, 255.1626, 271.0504,  24.5057,\n",
      "         362.6510]])\n"
     ]
    },
    {
     "data": {
      "application/vnd.jupyter.widget-view+json": {
       "model_id": "098d405b44e74a2d84b8109ab6f1cc72",
       "version_major": 2,
       "version_minor": 0
      },
      "text/plain": [
       "Drawing 1000 posterior samples:   0%|          | 0/1000 [00:00<?, ?it/s]"
      ]
     },
     "metadata": {},
     "output_type": "display_data"
    },
    {
     "data": {
      "application/vnd.jupyter.widget-view+json": {
       "model_id": "4b5eedd7b0224a8f8c9f54d03077b836",
       "version_major": 2,
       "version_minor": 0
      },
      "text/plain": [
       "Drawing 1000 posterior samples:   0%|          | 0/1000 [00:00<?, ?it/s]"
      ]
     },
     "metadata": {},
     "output_type": "display_data"
    },
    {
     "name": "stdout",
     "output_type": "stream",
     "text": [
      "tensor([7.6442, 8.3398, 3.6840, 3.7771, 5.5261, 5.2160, 2.2788, 5.8176, 8.8621,\n",
      "        4.0912, 6.7890, 5.3536, 3.2256, 6.0363, 7.3142])\n",
      "tensor([14.8738, 21.2355, 17.6209,  9.5545, 83.6553, 61.6692, 15.3578, 41.4278,\n",
      "        27.2073, 66.9296, 24.6776, 89.7642, 94.5644, 47.5809, 66.2346])\n",
      "tensor([[ 3.,  6., 20., 10., 90., 55., 27., 27.,  4., 70.,  5., 66., 99., 40.,\n",
      "         45.]])\n",
      "tensor([[1., 1., 1., 1., 1., 1., 1., 1., 1., 1., 1., 1., 1., 1., 1.]])\n",
      "tensor([[ 97.1771, 148.2149,   7.8121,   5.4034,  33.1870,  33.6904,  69.0428,\n",
      "         118.7426, 305.8755,  11.1737, 214.2348, 294.5205,  13.3682,  44.6558,\n",
      "         249.7134]])\n"
     ]
    },
    {
     "data": {
      "application/vnd.jupyter.widget-view+json": {
       "model_id": "4dee942425fb45ada03f552d0948065b",
       "version_major": 2,
       "version_minor": 0
      },
      "text/plain": [
       "Drawing 1000 posterior samples:   0%|          | 0/1000 [00:00<?, ?it/s]"
      ]
     },
     "metadata": {},
     "output_type": "display_data"
    },
    {
     "data": {
      "application/vnd.jupyter.widget-view+json": {
       "model_id": "dcb9a52e905d4f37acd41846a23a9643",
       "version_major": 2,
       "version_minor": 0
      },
      "text/plain": [
       "Drawing 1000 posterior samples:   0%|          | 0/1000 [00:00<?, ?it/s]"
      ]
     },
     "metadata": {},
     "output_type": "display_data"
    },
    {
     "name": "stdout",
     "output_type": "stream",
     "text": [
      "tensor([5.2428, 3.3072, 4.3650, 4.1488, 2.8491, 3.1722, 4.8512, 2.1307, 4.0699,\n",
      "        5.0791, 2.1653, 2.8343, 3.3517, 8.1938, 4.5105])\n",
      "tensor([ 9.0945,  5.9052,  7.0775, 16.1305, 92.5556, 54.3492, 32.7427, 28.1553,\n",
      "        10.2771, 53.6222,  8.0590, 57.6710, 90.4359, 22.9790, 42.6221])\n",
      "tensor([[ 3.,  6., 20., 10., 90., 55., 27., 27.,  4., 70.,  5., 66., 99., 40.,\n",
      "         45.]])\n",
      "tensor([[1., 1., 1., 1., 1., 1., 1., 1., 1., 1., 1., 1., 1., 1., 1.]])\n",
      "tensor([[ 30.1580,   3.7773,  91.0491,  25.4746,   5.7773,   3.5887,  26.1771,\n",
      "           1.6808,  26.0792, 144.8895,   5.7504,  37.1605,  40.5790, 175.8226,\n",
      "          10.9930]])\n"
     ]
    },
    {
     "data": {
      "application/vnd.jupyter.widget-view+json": {
       "model_id": "8c0051d13c95424489549fc6335e1476",
       "version_major": 2,
       "version_minor": 0
      },
      "text/plain": [
       "Drawing 1000 posterior samples:   0%|          | 0/1000 [00:00<?, ?it/s]"
      ]
     },
     "metadata": {},
     "output_type": "display_data"
    },
    {
     "data": {
      "application/vnd.jupyter.widget-view+json": {
       "model_id": "6f5cfbfd5a4541b0bd2291e7b3ad2151",
       "version_major": 2,
       "version_minor": 0
      },
      "text/plain": [
       "Drawing 1000 posterior samples:   0%|          | 0/1000 [00:00<?, ?it/s]"
      ]
     },
     "metadata": {},
     "output_type": "display_data"
    },
    {
     "name": "stdout",
     "output_type": "stream",
     "text": [
      "tensor([1.3526, 3.5879, 1.9944, 2.6260, 1.8660, 2.1570, 4.3461, 3.7934, 1.3945,\n",
      "        2.0867, 1.7023, 0.7846, 1.7320, 2.0019, 6.6235])\n",
      "tensor([ 3.0042,  7.6162, 19.4627,  8.0214, 90.4211, 53.2954, 21.6282, 24.0586,\n",
      "         5.2566, 67.2546,  6.6131, 63.9150, 97.3520, 37.4235, 52.9326])\n",
      "tensor([[ 3.,  6., 20., 10., 90., 55., 27., 27.,  4., 70.,  5., 66., 99., 40.,\n",
      "         45.]])\n",
      "tensor([[1., 1., 1., 1., 1., 1., 1., 1., 1., 1., 1., 1., 1., 1., 1.]])\n",
      "tensor([[ 0.1127,  5.9651,  0.9428,  3.9400,  0.7058,  2.5104, 21.9031,  9.6874,\n",
      "          0.9293,  4.7103,  1.7180,  2.2240,  1.8086,  4.1289, 51.0079]])\n"
     ]
    },
    {
     "data": {
      "application/vnd.jupyter.widget-view+json": {
       "model_id": "6dc256ca8b124723b373bcecaef4bb4b",
       "version_major": 2,
       "version_minor": 0
      },
      "text/plain": [
       "Drawing 1000 posterior samples:   0%|          | 0/1000 [00:00<?, ?it/s]"
      ]
     },
     "metadata": {},
     "output_type": "display_data"
    },
    {
     "data": {
      "application/vnd.jupyter.widget-view+json": {
       "model_id": "772de56ae05e4acd8d63bae8ef4c5248",
       "version_major": 2,
       "version_minor": 0
      },
      "text/plain": [
       "Drawing 1000 posterior samples:   0%|          | 0/1000 [00:00<?, ?it/s]"
      ]
     },
     "metadata": {},
     "output_type": "display_data"
    },
    {
     "name": "stdout",
     "output_type": "stream",
     "text": [
      "tensor([ 2.4990,  6.9112, 10.8509,  6.5439,  5.0234,  3.8687,  2.0738,  1.1216,\n",
      "        12.0665,  1.9404,  2.2554,  3.4842,  1.2581,  2.3669,  3.2298])\n",
      "tensor([11.8133, 19.5168, 19.4896, 19.9602, 81.9671, 52.7633, 27.9674, 25.4954,\n",
      "        27.8565, 64.4008,  8.2493, 71.8925, 98.3320, 34.8962, 34.4820])\n",
      "tensor([[ 3.,  6., 20., 10., 90., 55., 27., 27.,  4., 70.,  5., 66., 99., 40.,\n",
      "         45.]])\n",
      "tensor([[1., 1., 1., 1., 1., 1., 1., 1., 1., 1., 1., 1., 1., 1., 1.]])\n",
      "tensor([[4.0544e+01, 1.1280e+02, 5.6117e+01, 6.8636e+01, 4.2766e+01, 8.1317e+00,\n",
      "         1.3889e+00, 1.1462e+00, 3.5438e+02, 1.6395e+01, 6.5090e+00, 2.1682e+01,\n",
      "         2.8493e-01, 1.4464e+01, 5.8858e+01]])\n"
     ]
    },
    {
     "data": {
      "application/vnd.jupyter.widget-view+json": {
       "model_id": "5579105e9ae94635a1266cdb39ea133c",
       "version_major": 2,
       "version_minor": 0
      },
      "text/plain": [
       "Drawing 1000 posterior samples:   0%|          | 0/1000 [00:00<?, ?it/s]"
      ]
     },
     "metadata": {},
     "output_type": "display_data"
    },
    {
     "data": {
      "application/vnd.jupyter.widget-view+json": {
       "model_id": "3d762b73bcc24408b2bfe095d92f5d13",
       "version_major": 2,
       "version_minor": 0
      },
      "text/plain": [
       "Drawing 1000 posterior samples:   0%|          | 0/1000 [00:00<?, ?it/s]"
      ]
     },
     "metadata": {},
     "output_type": "display_data"
    },
    {
     "name": "stdout",
     "output_type": "stream",
     "text": [
      "tensor([3.8984, 7.7992, 5.7286, 3.6775, 4.8276, 6.2876, 5.0622, 4.7156, 4.1284,\n",
      "        9.3887, 1.3476, 5.7917, 6.0840, 3.9095, 5.2042])\n",
      "tensor([ 8.4519, 22.3835, 13.7262, 15.1633, 90.0521, 54.4394, 11.2060, 33.6800,\n",
      "        10.7274, 70.9732,  2.5099, 60.2689, 81.7453, 50.1146, 46.8496])\n",
      "tensor([[ 3.,  6., 20., 10., 90., 55., 27., 27.,  4., 70.,  5., 66., 99., 40.,\n",
      "         45.]])\n",
      "tensor([[1., 1., 1., 1., 1., 1., 1., 1., 1., 1., 1., 1., 1., 1., 1.]])\n",
      "tensor([[ 20.5996, 162.0687,  33.8428,  18.2897,   9.5799,  17.5858, 135.4158,\n",
      "          31.3785,  29.2327,  41.8082,   3.2101,  30.9379, 165.0647,  56.9318,\n",
      "          13.1027]])\n"
     ]
    },
    {
     "data": {
      "application/vnd.jupyter.widget-view+json": {
       "model_id": "b696da0792a3444d8ef5868a5d60eefa",
       "version_major": 2,
       "version_minor": 0
      },
      "text/plain": [
       "Drawing 1000 posterior samples:   0%|          | 0/1000 [00:00<?, ?it/s]"
      ]
     },
     "metadata": {},
     "output_type": "display_data"
    },
    {
     "data": {
      "application/vnd.jupyter.widget-view+json": {
       "model_id": "245efb25ba1146428ef30091441918b1",
       "version_major": 2,
       "version_minor": 0
      },
      "text/plain": [
       "Drawing 1000 posterior samples:   0%|          | 0/1000 [00:00<?, ?it/s]"
      ]
     },
     "metadata": {},
     "output_type": "display_data"
    },
    {
     "name": "stderr",
     "output_type": "stream",
     "text": [
      "WARNING:root:Drawing samples from posterior to estimate the normalizing\n",
      "                        constant for `log_prob()`. However, only\n",
      "                        1% posterior samples are within the\n",
      "                        prior support. It may take a long time to collect the\n",
      "                        remaining 894 samples.\n",
      "                        Consider interrupting (Ctrl-C) and either basing the\n",
      "                        estimate of the normalizing constant on fewer samples (by\n",
      "                        calling `posterior.leakage_correction(x_o,\n",
      "                        num_rejection_samples=N)`, where `N` is the number of\n",
      "                        samples you want to base the\n",
      "                        estimate on (default N=10000), or not estimating the\n",
      "                        normalizing constant at all\n",
      "                        (`log_prob(..., norm_posterior=False)`. The latter will\n",
      "                        result in an unnormalized `log_prob()`.\n"
     ]
    },
    {
     "name": "stdout",
     "output_type": "stream",
     "text": [
      "tensor([1.2376, 2.9827, 4.7534, 1.9565, 1.2405, 2.1834, 1.4844, 3.5640, 1.7603,\n",
      "        1.8400, 1.1570, 1.6265, 1.7214, 0.7316, 1.6663])\n",
      "tensor([ 2.4061,  7.8171, 16.9990, 13.2072, 88.2411, 55.8750, 26.2378, 23.9506,\n",
      "         8.3281, 66.0625,  2.3323, 64.1119, 97.7399, 40.8176, 48.2627])\n",
      "tensor([[ 3.,  6., 20., 10., 90., 55., 27., 27.,  4., 70.,  5., 66., 99., 40.,\n",
      "         45.]])\n",
      "tensor([[1., 1., 1., 1., 1., 1., 1., 1., 1., 1., 1., 1., 1., 1., 1.]])\n",
      "tensor([[ 0.2290,  4.5064, 13.7416,  5.8859,  1.6008,  1.4855,  0.4971,  9.2295,\n",
      "          9.8499,  8.3351,  3.5817,  2.1187,  1.2325,  0.4144,  5.7002]])\n"
     ]
    },
    {
     "data": {
      "application/vnd.jupyter.widget-view+json": {
       "model_id": "5b7bb6f996b948f0a4d6d1abb82599d3",
       "version_major": 2,
       "version_minor": 0
      },
      "text/plain": [
       "Drawing 1000 posterior samples:   0%|          | 0/1000 [00:00<?, ?it/s]"
      ]
     },
     "metadata": {},
     "output_type": "display_data"
    },
    {
     "data": {
      "application/vnd.jupyter.widget-view+json": {
       "model_id": "83e95e0a729c4547988a89be8505b535",
       "version_major": 2,
       "version_minor": 0
      },
      "text/plain": [
       "Drawing 1000 posterior samples:   0%|          | 0/1000 [00:00<?, ?it/s]"
      ]
     },
     "metadata": {},
     "output_type": "display_data"
    },
    {
     "name": "stdout",
     "output_type": "stream",
     "text": [
      "tensor([0.9249, 2.0506, 5.1838, 3.9688, 2.4143, 4.6331, 5.1442, 4.2082, 3.7967,\n",
      "        0.8746, 4.8942, 2.3902, 2.5202, 2.4741, 5.1403])\n",
      "tensor([ 3.0153,  6.5807, 19.5850,  9.2861, 96.4151, 65.1892, 19.5222, 36.6766,\n",
      "        14.5659, 71.5354, 17.7688, 58.3700, 95.9589, 39.3105, 36.8273])\n",
      "tensor([[ 3.,  6., 20., 10., 90., 55., 27., 27.,  4., 70.,  5., 66., 99., 40.,\n",
      "         45.]])\n",
      "tensor([[1., 1., 1., 1., 1., 1., 1., 1., 1., 1., 1., 1., 1., 1., 1.]])\n",
      "tensor([[5.9077e-03, 1.0529e+00, 1.1376e+01, 6.2519e+00, 2.2110e+01, 6.0609e+01,\n",
      "         3.9052e+01, 5.3736e+01, 6.1192e+01, 1.1952e+00, 9.1409e+01, 3.0594e+01,\n",
      "         6.3756e+00, 1.8923e+00, 4.4471e+01]])\n"
     ]
    },
    {
     "data": {
      "application/vnd.jupyter.widget-view+json": {
       "model_id": "e7814456845f410bb829f8622fde173b",
       "version_major": 2,
       "version_minor": 0
      },
      "text/plain": [
       "Drawing 1000 posterior samples:   0%|          | 0/1000 [00:00<?, ?it/s]"
      ]
     },
     "metadata": {},
     "output_type": "display_data"
    },
    {
     "name": "stderr",
     "output_type": "stream",
     "text": [
      "WARNING:root:Drawing samples from posterior to estimate the normalizing\n",
      "                        constant for `log_prob()`. However, only\n",
      "                        0% posterior samples are within the\n",
      "                        prior support. It may take a long time to collect the\n",
      "                        remaining 997 samples.\n",
      "                        Consider interrupting (Ctrl-C) and either basing the\n",
      "                        estimate of the normalizing constant on fewer samples (by\n",
      "                        calling `posterior.leakage_correction(x_o,\n",
      "                        num_rejection_samples=N)`, where `N` is the number of\n",
      "                        samples you want to base the\n",
      "                        estimate on (default N=10000), or not estimating the\n",
      "                        normalizing constant at all\n",
      "                        (`log_prob(..., norm_posterior=False)`. The latter will\n",
      "                        result in an unnormalized `log_prob()`.\n"
     ]
    },
    {
     "data": {
      "application/vnd.jupyter.widget-view+json": {
       "model_id": "1c7b50bf0b1a4eeaa685fa06f67a0d93",
       "version_major": 2,
       "version_minor": 0
      },
      "text/plain": [
       "Drawing 1000 posterior samples:   0%|          | 0/1000 [00:00<?, ?it/s]"
      ]
     },
     "metadata": {},
     "output_type": "display_data"
    },
    {
     "name": "stderr",
     "output_type": "stream",
     "text": [
      "WARNING:root:Drawing samples from posterior to estimate the normalizing\n",
      "                        constant for `log_prob()`. However, only\n",
      "                        0% posterior samples are within the\n",
      "                        prior support. It may take a long time to collect the\n",
      "                        remaining 1000 samples.\n",
      "                        Consider interrupting (Ctrl-C) and either basing the\n",
      "                        estimate of the normalizing constant on fewer samples (by\n",
      "                        calling `posterior.leakage_correction(x_o,\n",
      "                        num_rejection_samples=N)`, where `N` is the number of\n",
      "                        samples you want to base the\n",
      "                        estimate on (default N=10000), or not estimating the\n",
      "                        normalizing constant at all\n",
      "                        (`log_prob(..., norm_posterior=False)`. The latter will\n",
      "                        result in an unnormalized `log_prob()`.\n"
     ]
    },
    {
     "name": "stdout",
     "output_type": "stream",
     "text": [
      "tensor([5.0248, 5.0024, 1.2795, 5.1488, 5.1359, 1.8912, 6.3334, 3.0661, 2.6928,\n",
      "        9.2264, 1.0890, 2.8470, 3.1811, 6.0230, 5.8452])\n",
      "tensor([ 8.0138, 18.3064, 21.9516, 23.7555, 90.8813, 57.0996, 36.9133, 17.9882,\n",
      "         6.2465, 45.8488,  2.2708, 57.2993, 98.2280, 54.6110, 54.2323])\n",
      "tensor([[ 3.,  6., 20., 10., 90., 55., 27., 27.,  4., 70.,  5., 66., 99., 40.,\n",
      "         45.]])\n",
      "tensor([[1., 1., 1., 1., 1., 1., 1., 1., 1., 1., 1., 1., 1., 1., 1.]])\n",
      "tensor([[ 23.0791,  86.1256,   1.9765, 105.7239,  11.4410,   2.8553,  66.8467,\n",
      "          43.6866,   4.6584, 331.4828,   3.7319,  40.3576,   3.7004, 122.5830,\n",
      "          57.4356]])\n"
     ]
    },
    {
     "data": {
      "application/vnd.jupyter.widget-view+json": {
       "model_id": "285d5fa046b94f78af3d01a926e2d961",
       "version_major": 2,
       "version_minor": 0
      },
      "text/plain": [
       "Drawing 1000 posterior samples:   0%|          | 0/1000 [00:00<?, ?it/s]"
      ]
     },
     "metadata": {},
     "output_type": "display_data"
    },
    {
     "data": {
      "application/vnd.jupyter.widget-view+json": {
       "model_id": "a95cd01379cc4f42b2f42ffedf9e9560",
       "version_major": 2,
       "version_minor": 0
      },
      "text/plain": [
       "Drawing 1000 posterior samples:   0%|          | 0/1000 [00:00<?, ?it/s]"
      ]
     },
     "metadata": {},
     "output_type": "display_data"
    },
    {
     "name": "stdout",
     "output_type": "stream",
     "text": [
      "tensor([0.8123, 1.3496, 2.4862, 0.2992, 3.5596, 4.3824, 0.7360, 1.1503, 0.2170,\n",
      "        0.7240, 0.7005, 0.6989, 0.9574, 0.7263, 0.9657])\n",
      "tensor([ 2.4671,  5.3572, 20.4170, 10.0186, 91.4935, 55.9156, 25.9654, 28.3782,\n",
      "         5.7607, 68.8116,  5.6513, 64.1727, 98.6509, 38.5955, 45.7539])\n",
      "tensor([[ 3.,  6., 20., 10., 90., 55., 27., 27.,  4., 70.,  5., 66., 99., 40.,\n",
      "         45.]])\n",
      "tensor([[1., 1., 1., 1., 1., 1., 1., 1., 1., 1., 1., 1., 1., 1., 1.]])\n",
      "tensor([[0.1798, 0.3175, 1.7669, 0.7516, 5.6810, 8.0443, 0.6125, 0.9713, 2.6014,\n",
      "         0.7912, 0.3134, 1.7720, 0.0628, 1.0699, 0.2854]])\n"
     ]
    },
    {
     "data": {
      "application/vnd.jupyter.widget-view+json": {
       "model_id": "4b069cf0c80f43dea39b173e3cfdb6ab",
       "version_major": 2,
       "version_minor": 0
      },
      "text/plain": [
       "Drawing 1000 posterior samples:   0%|          | 0/1000 [00:00<?, ?it/s]"
      ]
     },
     "metadata": {},
     "output_type": "display_data"
    },
    {
     "data": {
      "application/vnd.jupyter.widget-view+json": {
       "model_id": "273f1082628e4644a141fa5ccdc56bf5",
       "version_major": 2,
       "version_minor": 0
      },
      "text/plain": [
       "Drawing 1000 posterior samples:   0%|          | 0/1000 [00:00<?, ?it/s]"
      ]
     },
     "metadata": {},
     "output_type": "display_data"
    },
    {
     "name": "stdout",
     "output_type": "stream",
     "text": [
      "tensor([ 0.9957,  1.7309,  3.7498,  2.1979,  0.7637,  2.6156,  0.9750,  2.9790,\n",
      "         5.5827,  0.9701,  0.6588,  0.5571,  5.9669,  5.6400, 10.8069])\n",
      "tensor([ 2.3670,  6.0082, 24.9317,  7.9920, 91.1370, 52.5843, 25.1269, 31.1849,\n",
      "        13.2374, 69.4771,  4.4494, 64.6893, 91.6849, 48.6308, 60.3562])\n",
      "tensor([[ 3.,  6., 20., 10., 90., 55., 27., 27.,  4., 70.,  5., 66., 99., 40.,\n",
      "         45.]])\n",
      "tensor([[1., 1., 1., 1., 1., 1., 1., 1., 1., 1., 1., 1., 1., 1., 1.]])\n",
      "tensor([[2.0038e-01, 4.4939e-01, 1.7370e+01, 3.1439e+00, 7.0762e-01, 4.8769e+00,\n",
      "         1.7548e+00, 1.1602e+01, 5.6029e+01, 1.3760e-01, 2.8592e-01, 1.0991e+00,\n",
      "         4.2271e+01, 5.0920e+01, 1.7342e+02]])\n"
     ]
    },
    {
     "data": {
      "application/vnd.jupyter.widget-view+json": {
       "model_id": "c9419cc81c6d49db91dca49c0e0971c0",
       "version_major": 2,
       "version_minor": 0
      },
      "text/plain": [
       "Drawing 1000 posterior samples:   0%|          | 0/1000 [00:00<?, ?it/s]"
      ]
     },
     "metadata": {},
     "output_type": "display_data"
    },
    {
     "data": {
      "application/vnd.jupyter.widget-view+json": {
       "model_id": "b59649ff2a6e406898ffde5c6529636e",
       "version_major": 2,
       "version_minor": 0
      },
      "text/plain": [
       "Drawing 1000 posterior samples:   0%|          | 0/1000 [00:00<?, ?it/s]"
      ]
     },
     "metadata": {},
     "output_type": "display_data"
    },
    {
     "name": "stdout",
     "output_type": "stream",
     "text": [
      "tensor([ 4.5188,  2.4103,  6.0757,  6.5655,  6.7609,  7.4820, 13.3859,  5.5935,\n",
      "         2.7431,  5.6495,  4.6170,  4.5748, 10.1236,  8.6833,  5.8785])\n",
      "tensor([ 9.8200,  3.8943, 31.5330, 19.6010, 82.8423, 70.0951, 43.0615, 10.6848,\n",
      "         4.2623, 62.9149,  7.2573, 60.1041, 70.0391, 25.4083, 42.6859])\n",
      "tensor([[ 3.,  6., 20., 10., 90., 55., 27., 27.,  4., 70.,  5., 66., 99., 40.,\n",
      "         45.]])\n",
      "tensor([[1., 1., 1., 1., 1., 1., 1., 1., 1., 1., 1., 1., 1., 1., 1.]])\n",
      "tensor([[ 31.4577,   3.7421,  82.6576,  65.2607,  46.0602, 139.4093, 215.4835,\n",
      "         146.5148,   2.2877,  38.8261,  11.1762,  25.8248, 467.7963, 141.4977,\n",
      "          17.6845]])\n"
     ]
    },
    {
     "data": {
      "application/vnd.jupyter.widget-view+json": {
       "model_id": "f61af9e989ba48c7841f1a942941abe6",
       "version_major": 2,
       "version_minor": 0
      },
      "text/plain": [
       "Drawing 1000 posterior samples:   0%|          | 0/1000 [00:00<?, ?it/s]"
      ]
     },
     "metadata": {},
     "output_type": "display_data"
    },
    {
     "data": {
      "application/vnd.jupyter.widget-view+json": {
       "model_id": "c5eec2d114b749bd9a1c1f285fd23401",
       "version_major": 2,
       "version_minor": 0
      },
      "text/plain": [
       "Drawing 1000 posterior samples:   0%|          | 0/1000 [00:00<?, ?it/s]"
      ]
     },
     "metadata": {},
     "output_type": "display_data"
    },
    {
     "name": "stdout",
     "output_type": "stream",
     "text": [
      "tensor([2.2243, 3.4741, 1.8041, 2.5313, 2.9826, 4.0719, 1.0979, 2.1474, 2.1372,\n",
      "        2.4717, 1.7114, 1.9937, 2.3005, 4.3645, 3.5594])\n",
      "tensor([ 5.3315,  6.8812, 17.3172,  5.4340, 86.6401, 50.6955, 26.0649, 24.5884,\n",
      "         4.4494, 72.1169,  3.6636, 63.6529, 97.0550, 47.1453, 40.4989])\n",
      "tensor([[ 3.,  6., 20., 10., 90., 55., 27., 27.,  4., 70.,  5., 66., 99., 40.,\n",
      "         45.]])\n",
      "tensor([[1., 1., 1., 1., 1., 1., 1., 1., 1., 1., 1., 1., 1., 1., 1.]])\n",
      "tensor([[ 3.8922,  4.6776,  4.1360, 12.1991,  8.4997, 15.6507,  0.4465,  3.9493,\n",
      "          1.1252,  3.8903,  1.3202,  3.5518,  3.2046, 33.0784, 14.6951]])\n"
     ]
    },
    {
     "data": {
      "application/vnd.jupyter.widget-view+json": {
       "model_id": "8f641da258fa45b980c8c5047cf64e9e",
       "version_major": 2,
       "version_minor": 0
      },
      "text/plain": [
       "Drawing 1000 posterior samples:   0%|          | 0/1000 [00:00<?, ?it/s]"
      ]
     },
     "metadata": {},
     "output_type": "display_data"
    },
    {
     "data": {
      "application/vnd.jupyter.widget-view+json": {
       "model_id": "3c0dcebfdb9644e58ff4c63a1d33b0b9",
       "version_major": 2,
       "version_minor": 0
      },
      "text/plain": [
       "Drawing 1000 posterior samples:   0%|          | 0/1000 [00:00<?, ?it/s]"
      ]
     },
     "metadata": {},
     "output_type": "display_data"
    },
    {
     "name": "stdout",
     "output_type": "stream",
     "text": [
      "tensor([1.7688, 2.3304, 3.1672, 3.3172, 2.4558, 4.2529, 2.5689, 3.9967, 6.7763,\n",
      "        3.6898, 3.5397, 5.8027, 2.0580, 5.6057, 3.4267])\n",
      "tensor([ 4.9016,  4.3771, 23.7994,  7.4542, 94.6163, 48.7300, 21.3106, 19.9639,\n",
      "        16.3590, 75.8429,  8.0999, 68.2246, 97.2456, 48.6601, 50.3558])\n",
      "tensor([[ 3.,  6., 20., 10., 90., 55., 27., 27.,  4., 70.,  5., 66., 99., 40.,\n",
      "         45.]])\n",
      "tensor([[1., 1., 1., 1., 1., 1., 1., 1., 1., 1., 1., 1., 1., 1., 1.]])\n",
      "tensor([[ 2.3020,  2.6861, 10.5804,  7.0434, 12.2722, 26.7525, 18.0407, 30.8548,\n",
      "         96.9182, 22.0713,  9.3055, 17.0518,  2.4350, 50.9867, 18.4820]])\n"
     ]
    },
    {
     "data": {
      "application/vnd.jupyter.widget-view+json": {
       "model_id": "27ceff9cdf9845479fddcf5dc2a81979",
       "version_major": 2,
       "version_minor": 0
      },
      "text/plain": [
       "Drawing 1000 posterior samples:   0%|          | 0/1000 [00:00<?, ?it/s]"
      ]
     },
     "metadata": {},
     "output_type": "display_data"
    },
    {
     "data": {
      "application/vnd.jupyter.widget-view+json": {
       "model_id": "c2a5d01ff58c46529d825ac9b254e1ff",
       "version_major": 2,
       "version_minor": 0
      },
      "text/plain": [
       "Drawing 1000 posterior samples:   0%|          | 0/1000 [00:00<?, ?it/s]"
      ]
     },
     "metadata": {},
     "output_type": "display_data"
    },
    {
     "name": "stdout",
     "output_type": "stream",
     "text": [
      "tensor([1.1079, 3.1320, 2.2113, 1.2296, 0.6042, 1.5806, 1.1662, 1.6815, 1.2622,\n",
      "        0.7362, 1.2306, 0.8196, 2.0739, 2.4576, 1.8478])\n",
      "tensor([ 2.5918,  8.3108, 22.6427,  9.3647, 90.5378, 57.8677, 24.2356, 27.5764,\n",
      "         6.8857, 68.7861,  3.3833, 65.1363, 97.0286, 41.1653, 47.3014])\n",
      "tensor([[ 3.,  6., 20., 10., 90., 55., 27., 27.,  4., 70.,  5., 66., 99., 40.,\n",
      "         45.]])\n",
      "tensor([[1., 1., 1., 1., 1., 1., 1., 1., 1., 1., 1., 1., 1., 1., 1.]])\n",
      "tensor([[0.0946, 5.9328, 4.6433, 0.2511, 0.3310, 4.4032, 3.8472, 0.5602, 4.2273,\n",
      "         0.8140, 1.3565, 0.4078, 2.8643, 2.2996, 3.2413]])\n"
     ]
    },
    {
     "data": {
      "application/vnd.jupyter.widget-view+json": {
       "model_id": "6557d4b7e1d14b27a46c387c1f85f560",
       "version_major": 2,
       "version_minor": 0
      },
      "text/plain": [
       "Drawing 1000 posterior samples:   0%|          | 0/1000 [00:00<?, ?it/s]"
      ]
     },
     "metadata": {},
     "output_type": "display_data"
    },
    {
     "data": {
      "application/vnd.jupyter.widget-view+json": {
       "model_id": "e1630a9b491c449085b379dbc8c822d0",
       "version_major": 2,
       "version_minor": 0
      },
      "text/plain": [
       "Drawing 1000 posterior samples:   0%|          | 0/1000 [00:00<?, ?it/s]"
      ]
     },
     "metadata": {},
     "output_type": "display_data"
    },
    {
     "name": "stdout",
     "output_type": "stream",
     "text": [
      "tensor([3.5283, 1.2874, 5.1233, 3.3619, 2.3038, 2.0909, 2.8513, 2.8561, 3.9731,\n",
      "        3.3970, 2.5458, 4.6591, 1.8637, 2.5159, 1.9479])\n",
      "tensor([ 7.3370,  6.2381, 18.7131,  8.1741, 96.4699, 54.0106, 26.8909, 22.0486,\n",
      "         8.0472, 69.6950,  5.8597, 60.7002, 96.9908, 37.9597, 47.6311])\n",
      "tensor([[ 3.,  6., 20., 10., 90., 55., 27., 27.,  4., 70.,  5., 66., 99., 40.,\n",
      "         45.]])\n",
      "tensor([[1., 1., 1., 1., 1., 1., 1., 1., 1., 1., 1., 1., 1., 1., 1.]])\n",
      "tensor([[13.8686,  0.1044, 11.8183,  5.6056, 22.2488,  1.4378,  2.5230, 14.7871,\n",
      "         14.2032,  4.0933,  2.1756, 22.8590,  2.6326,  3.8236,  4.1916]])\n"
     ]
    },
    {
     "data": {
      "application/vnd.jupyter.widget-view+json": {
       "model_id": "733d5b9b71614f94b5459466f2f39cde",
       "version_major": 2,
       "version_minor": 0
      },
      "text/plain": [
       "Drawing 1000 posterior samples:   0%|          | 0/1000 [00:00<?, ?it/s]"
      ]
     },
     "metadata": {},
     "output_type": "display_data"
    },
    {
     "data": {
      "application/vnd.jupyter.widget-view+json": {
       "model_id": "b4fcd62991a34d11b3949e74e7e6c2e9",
       "version_major": 2,
       "version_minor": 0
      },
      "text/plain": [
       "Drawing 1000 posterior samples:   0%|          | 0/1000 [00:00<?, ?it/s]"
      ]
     },
     "metadata": {},
     "output_type": "display_data"
    },
    {
     "name": "stdout",
     "output_type": "stream",
     "text": [
      "tensor([0.2809, 0.3126, 3.1885, 0.5849, 0.5995, 0.5543, 0.2588, 0.8722, 0.3671,\n",
      "        0.2475, 0.7505, 3.5687, 3.5800, 2.2948, 3.0243])\n",
      "tensor([ 4.1790,  5.0242, 27.7140, 10.8115, 89.8192, 54.9728, 25.3998, 28.8523,\n",
      "         6.2813, 69.4960,  6.2555, 56.6469, 91.7709, 44.9971, 38.6977])\n",
      "tensor([[ 3.,  6., 20., 10., 90., 55., 27., 27.,  4., 70.,  5., 66., 99., 40.,\n",
      "         45.]])\n",
      "tensor([[1., 1., 1., 1., 1., 1., 1., 1., 1., 1., 1., 1., 1., 1., 1.]])\n",
      "tensor([[ 1.5042,  1.1877, 33.1768,  0.5367,  0.2077,  0.2440,  2.1655,  1.7326,\n",
      "          3.1718,  1.0540,  0.8567, 48.3353, 30.7628, 13.7881, 22.8261]])\n"
     ]
    },
    {
     "data": {
      "application/vnd.jupyter.widget-view+json": {
       "model_id": "5d9be0912adb4ed2a2da31091e7abe44",
       "version_major": 2,
       "version_minor": 0
      },
      "text/plain": [
       "Drawing 1000 posterior samples:   0%|          | 0/1000 [00:00<?, ?it/s]"
      ]
     },
     "metadata": {},
     "output_type": "display_data"
    },
    {
     "data": {
      "application/vnd.jupyter.widget-view+json": {
       "model_id": "cda2db5e042147289c2d3a8be2b6080a",
       "version_major": 2,
       "version_minor": 0
      },
      "text/plain": [
       "Drawing 1000 posterior samples:   0%|          | 0/1000 [00:00<?, ?it/s]"
      ]
     },
     "metadata": {},
     "output_type": "display_data"
    },
    {
     "name": "stdout",
     "output_type": "stream",
     "text": [
      "tensor([ 4.8013, 11.2907,  4.6804,  3.8043, 12.4380,  4.3756,  9.3124,  8.5024,\n",
      "        12.9804,  7.3116,  9.2571, 10.4115,  7.6201,  7.2090,  7.7888])\n",
      "tensor([ 8.5667, 41.7190, 25.4133,  6.3093, 52.3982, 73.4252, 23.7099, 44.9090,\n",
      "        41.4251, 87.7973, 18.9929, 49.5189, 84.2326, 28.0242, 62.7109])\n",
      "tensor([[ 3.,  6., 20., 10., 90., 55., 27., 27.,  4., 70.,  5., 66., 99., 40.,\n",
      "         45.]])\n",
      "tensor([[1., 1., 1., 1., 1., 1., 1., 1., 1., 1., 1., 1., 1., 1., 1.]])\n",
      "tensor([[ 24.9512, 698.7410,  23.5614,  12.2108, 781.2771, 177.3409,  46.0416,\n",
      "         193.8717, 781.5015, 182.6126, 138.0215, 187.1713, 135.5408,  95.2197,\n",
      "         184.6182]])\n"
     ]
    },
    {
     "data": {
      "application/vnd.jupyter.widget-view+json": {
       "model_id": "a7fb18761cf647d7ae9e8bf069f7d5bf",
       "version_major": 2,
       "version_minor": 0
      },
      "text/plain": [
       "Drawing 1000 posterior samples:   0%|          | 0/1000 [00:00<?, ?it/s]"
      ]
     },
     "metadata": {},
     "output_type": "display_data"
    },
    {
     "data": {
      "application/vnd.jupyter.widget-view+json": {
       "model_id": "3848d025f4f7435aba1d8d9a00b8fc0b",
       "version_major": 2,
       "version_minor": 0
      },
      "text/plain": [
       "Drawing 1000 posterior samples:   0%|          | 0/1000 [00:00<?, ?it/s]"
      ]
     },
     "metadata": {},
     "output_type": "display_data"
    },
    {
     "name": "stdout",
     "output_type": "stream",
     "text": [
      "tensor([1.0536, 2.9756, 4.2183, 4.3555, 8.3559, 3.1407, 4.3501, 1.7281, 2.0519,\n",
      "        4.8802, 2.2067, 4.5045, 1.4468, 5.8575, 3.5931])\n",
      "tensor([ 2.3035,  5.3352, 27.4917,  9.6069, 72.8501, 62.4991, 14.6215, 29.9824,\n",
      "         4.0417, 69.8479,  6.0527, 70.8625, 97.8305, 39.8409, 53.0592])\n",
      "tensor([[ 3.,  6., 20., 10., 90., 55., 27., 27.,  4., 70.,  5., 66., 99., 40.,\n",
      "         45.]])\n",
      "tensor([[1., 1., 1., 1., 1., 1., 1., 1., 1., 1., 1., 1., 1., 1., 1.]])\n",
      "tensor([[  0.2454,   3.0578,  35.0202,   7.5911, 179.3469,  31.4060,  84.1051,\n",
      "           4.8934,   0.8872,   9.8344,   1.6974,  19.9626,   0.8611,  14.9000,\n",
      "          37.1515]])\n"
     ]
    },
    {
     "data": {
      "application/vnd.jupyter.widget-view+json": {
       "model_id": "f685137a245049e5a51c386a6ac10656",
       "version_major": 2,
       "version_minor": 0
      },
      "text/plain": [
       "Drawing 1000 posterior samples:   0%|          | 0/1000 [00:00<?, ?it/s]"
      ]
     },
     "metadata": {},
     "output_type": "display_data"
    },
    {
     "data": {
      "application/vnd.jupyter.widget-view+json": {
       "model_id": "71cc77b9d8044b9ba09304bb8db45f7c",
       "version_major": 2,
       "version_minor": 0
      },
      "text/plain": [
       "Drawing 1000 posterior samples:   0%|          | 0/1000 [00:00<?, ?it/s]"
      ]
     },
     "metadata": {},
     "output_type": "display_data"
    },
    {
     "name": "stdout",
     "output_type": "stream",
     "text": [
      "tensor([1.9963, 1.8853, 2.3778, 2.6103, 1.8416, 2.4605, 1.6693, 2.9002, 4.4584,\n",
      "        2.8136, 1.7054, 2.9382, 1.4156, 3.3863, 2.3366])\n",
      "tensor([ 4.0882,  6.2931, 18.2386,  4.8897, 91.2411, 54.7154, 25.9191, 28.0400,\n",
      "        11.9488, 72.2629,  4.6081, 59.6309, 97.6900, 35.0771, 49.6514])\n",
      "tensor([[ 3.,  6., 20., 10., 90., 55., 27., 27.,  4., 70.,  5., 66., 99., 40.,\n",
      "         45.]])\n",
      "tensor([[1., 1., 1., 1., 1., 1., 1., 1., 1., 1., 1., 1., 1., 1., 1.]])\n",
      "tensor([[ 1.3934,  0.6860,  3.0121, 15.0048,  1.3553,  1.6671,  0.9651,  3.1816,\n",
      "         39.5354,  4.9842,  0.4972, 23.0212,  1.0124, 16.1310, 12.1988]])\n"
     ]
    },
    {
     "data": {
      "application/vnd.jupyter.widget-view+json": {
       "model_id": "b2d29a38f2a041ebbb733cb7f978d8c2",
       "version_major": 2,
       "version_minor": 0
      },
      "text/plain": [
       "Drawing 1000 posterior samples:   0%|          | 0/1000 [00:00<?, ?it/s]"
      ]
     },
     "metadata": {},
     "output_type": "display_data"
    },
    {
     "data": {
      "application/vnd.jupyter.widget-view+json": {
       "model_id": "fa017f4358404939a1188ed83ddaa373",
       "version_major": 2,
       "version_minor": 0
      },
      "text/plain": [
       "Drawing 1000 posterior samples:   0%|          | 0/1000 [00:00<?, ?it/s]"
      ]
     },
     "metadata": {},
     "output_type": "display_data"
    },
    {
     "name": "stdout",
     "output_type": "stream",
     "text": [
      "tensor([2.2283, 5.2841, 6.0407, 4.0651, 4.5620, 4.5814, 4.4017, 3.4926, 4.4973,\n",
      "        5.8084, 3.9357, 1.8183, 4.1470, 6.2943, 1.8216])\n",
      "tensor([ 8.4747, 16.1464, 13.6092,  6.9915, 79.0007, 63.8709, 11.6173, 28.2127,\n",
      "         9.2349, 87.1477,  9.1160, 62.5274, 89.8807, 33.6469, 44.6168])\n",
      "tensor([[ 3.,  6., 20., 10., 90., 55., 27., 27.,  4., 70.,  5., 66., 99., 40.,\n",
      "         45.]])\n",
      "tensor([[1., 1., 1., 1., 1., 1., 1., 1., 1., 1., 1., 1., 1., 1., 1.]])\n",
      "tensor([[ 16.1677,  63.2706,  36.3676,  10.8855,  68.8810,  47.8188, 126.0187,\n",
      "           5.0836,  21.8116, 161.6316,  14.3454,   6.5848,  48.2569,  37.6501,\n",
      "           0.6328]])\n"
     ]
    },
    {
     "data": {
      "application/vnd.jupyter.widget-view+json": {
       "model_id": "09174d1c88bf40a7b35ed8d947496489",
       "version_major": 2,
       "version_minor": 0
      },
      "text/plain": [
       "Drawing 1000 posterior samples:   0%|          | 0/1000 [00:00<?, ?it/s]"
      ]
     },
     "metadata": {},
     "output_type": "display_data"
    },
    {
     "data": {
      "application/vnd.jupyter.widget-view+json": {
       "model_id": "c471e01bd7ff4a19bd003df3cf4061f5",
       "version_major": 2,
       "version_minor": 0
      },
      "text/plain": [
       "Drawing 1000 posterior samples:   0%|          | 0/1000 [00:00<?, ?it/s]"
      ]
     },
     "metadata": {},
     "output_type": "display_data"
    },
    {
     "name": "stdout",
     "output_type": "stream",
     "text": [
      "tensor([1.2703, 1.2636, 2.1104, 2.2370, 1.7370, 2.2277, 4.5283, 1.5959, 0.6683,\n",
      "        0.7795, 0.8676, 1.8538, 1.8601, 2.1427, 7.2323])\n",
      "tensor([ 5.1735,  2.6930, 21.1813,  8.4237, 93.3778, 55.6684, 21.5145, 28.0489,\n",
      "         5.8847, 69.6178,  4.5130, 66.6426, 97.3972, 37.1196, 37.2954])\n",
      "tensor([[ 3.,  6., 20., 10., 90., 55., 27., 27.,  4., 70.,  5., 66., 99., 40.,\n",
      "         45.]])\n",
      "tensor([[1., 1., 1., 1., 1., 1., 1., 1., 1., 1., 1., 1., 1., 1., 1.]])\n",
      "tensor([[ 2.4297,  5.5324,  1.6778,  2.4393,  6.1612,  1.4037, 23.2875,  0.8561,\n",
      "          1.9025,  0.1259,  0.1370,  0.8074,  1.8938,  5.1820, 53.3551]])\n"
     ]
    },
    {
     "data": {
      "application/vnd.jupyter.widget-view+json": {
       "model_id": "2c055b37cb9c48f981a8b2ff7ded7381",
       "version_major": 2,
       "version_minor": 0
      },
      "text/plain": [
       "Drawing 1000 posterior samples:   0%|          | 0/1000 [00:00<?, ?it/s]"
      ]
     },
     "metadata": {},
     "output_type": "display_data"
    },
    {
     "data": {
      "application/vnd.jupyter.widget-view+json": {
       "model_id": "2c4f8451c1d5420daa4ba76d8f0aa0ec",
       "version_major": 2,
       "version_minor": 0
      },
      "text/plain": [
       "Drawing 1000 posterior samples:   0%|          | 0/1000 [00:00<?, ?it/s]"
      ]
     },
     "metadata": {},
     "output_type": "display_data"
    },
    {
     "name": "stdout",
     "output_type": "stream",
     "text": [
      "tensor([ 2.4136,  1.5775,  9.1211,  1.7731,  1.2756,  0.4927,  1.0627,  0.7084,\n",
      "         1.1608,  0.4132,  5.5654, 11.6167,  1.3336,  2.0076, 11.6580])\n",
      "tensor([ 7.2583,  6.5084, 32.6348, 11.6847, 92.3803, 55.6928, 26.6065, 27.4795,\n",
      "         3.9722, 69.8222, 12.4070, 80.8341, 97.6907, 42.3069, 29.3584])\n",
      "tensor([[ 3.,  6., 20., 10., 90., 55., 27., 27.,  4., 70.,  5., 66., 99., 40.,\n",
      "         45.]])\n",
      "tensor([[1., 1., 1., 1., 1., 1., 1., 1., 1., 1., 1., 1., 1., 1., 1.]])\n",
      "tensor([[1.0598e+01, 4.1767e-01, 1.1871e+02, 1.9184e+00, 2.9030e+00, 5.6928e-01,\n",
      "         8.1252e-02, 2.1066e-01, 2.4996e-02, 4.8500e-01, 4.0702e+01, 1.7455e+02,\n",
      "         9.5843e-01, 3.4793e+00, 1.8733e+02]])\n"
     ]
    }
   ],
   "source": [
    "\n",
    "analytic = torch.distributions.normal.Normal(true_thetas, 1)\n",
    "\n",
    "\n",
    "overall_snpe_list = []\n",
    "\n",
    "variance_list_snpe = []\n",
    "\n",
    "mean_list_snpe = []\n",
    "\n",
    "\n",
    "## for round\n",
    "for posterior_snpe_list in list_collection:\n",
    "    \n",
    "    KL_snpe = []\n",
    "    KL_snpe_1d = []\n",
    "    \n",
    "    \n",
    "    ## for number of simulations\n",
    "    for posterior_snpe in posterior_snpe_list:\n",
    "\n",
    "\n",
    "        #KL = KLdivergence(posterior_snpe, sample_y)\n",
    "        KL, var_x, mu_x = KL_Gauss(posterior_snpe, analytic)\n",
    "        \n",
    "        variance_list_snpe.append(var_x)\n",
    "        \n",
    "        mean_list_snpe.append(mu_x)\n",
    "\n",
    "\n",
    "        KL_1d = calc_KL_1d(posterior_snpe, analytic)\n",
    "\n",
    "        KL_snpe_1d.append(KL_1d)\n",
    "\n",
    "        #KL_snpe_sum.append(sum_KL)\n",
    "\n",
    "        KL_snpe.append(KL)\n",
    "        \n",
    "    overall_snpe_list.append(KL_snpe)\n",
    "\n",
    "\n",
    "    \n",
    "    "
   ]
  },
  {
   "cell_type": "code",
   "execution_count": 13,
   "id": "f68ad23e",
   "metadata": {},
   "outputs": [
    {
     "data": {
      "application/vnd.jupyter.widget-view+json": {
       "model_id": "6cddcaf106a94f6e98f07068d2f91e82",
       "version_major": 2,
       "version_minor": 0
      },
      "text/plain": [
       "Drawing 1000 posterior samples:   0%|          | 0/1000 [00:00<?, ?it/s]"
      ]
     },
     "metadata": {},
     "output_type": "display_data"
    },
    {
     "data": {
      "application/vnd.jupyter.widget-view+json": {
       "model_id": "b5f82a2bf1b9405481fb5ba304ac86f5",
       "version_major": 2,
       "version_minor": 0
      },
      "text/plain": [
       "Drawing 1000 posterior samples:   0%|          | 0/1000 [00:00<?, ?it/s]"
      ]
     },
     "metadata": {},
     "output_type": "display_data"
    },
    {
     "data": {
      "application/vnd.jupyter.widget-view+json": {
       "model_id": "7b3d353b924144b6aa53026ea53ddf80",
       "version_major": 2,
       "version_minor": 0
      },
      "text/plain": [
       "Drawing 1000 posterior samples:   0%|          | 0/1000 [00:00<?, ?it/s]"
      ]
     },
     "metadata": {},
     "output_type": "display_data"
    },
    {
     "data": {
      "application/vnd.jupyter.widget-view+json": {
       "model_id": "c873999752c441c486b8e69517cb9c22",
       "version_major": 2,
       "version_minor": 0
      },
      "text/plain": [
       "Drawing 1000 posterior samples:   0%|          | 0/1000 [00:00<?, ?it/s]"
      ]
     },
     "metadata": {},
     "output_type": "display_data"
    },
    {
     "data": {
      "application/vnd.jupyter.widget-view+json": {
       "model_id": "05f02d8a8b734e499dc8ed4729c1d2ed",
       "version_major": 2,
       "version_minor": 0
      },
      "text/plain": [
       "Drawing 1000 posterior samples:   0%|          | 0/1000 [00:00<?, ?it/s]"
      ]
     },
     "metadata": {},
     "output_type": "display_data"
    },
    {
     "data": {
      "application/vnd.jupyter.widget-view+json": {
       "model_id": "7490485fc6c24916b706ed4698c3e9a7",
       "version_major": 2,
       "version_minor": 0
      },
      "text/plain": [
       "Drawing 1000 posterior samples:   0%|          | 0/1000 [00:00<?, ?it/s]"
      ]
     },
     "metadata": {},
     "output_type": "display_data"
    },
    {
     "data": {
      "application/vnd.jupyter.widget-view+json": {
       "model_id": "108e0d3103df4767b9b7e8098ca195e5",
       "version_major": 2,
       "version_minor": 0
      },
      "text/plain": [
       "Drawing 1000 posterior samples:   0%|          | 0/1000 [00:00<?, ?it/s]"
      ]
     },
     "metadata": {},
     "output_type": "display_data"
    },
    {
     "data": {
      "application/vnd.jupyter.widget-view+json": {
       "model_id": "0ef63ab1dea548168ea48a2a1599ae7e",
       "version_major": 2,
       "version_minor": 0
      },
      "text/plain": [
       "Drawing 1000 posterior samples:   0%|          | 0/1000 [00:00<?, ?it/s]"
      ]
     },
     "metadata": {},
     "output_type": "display_data"
    },
    {
     "data": {
      "application/vnd.jupyter.widget-view+json": {
       "model_id": "4a8937658099441489c267bffb222b30",
       "version_major": 2,
       "version_minor": 0
      },
      "text/plain": [
       "Drawing 1000 posterior samples:   0%|          | 0/1000 [00:00<?, ?it/s]"
      ]
     },
     "metadata": {},
     "output_type": "display_data"
    },
    {
     "data": {
      "application/vnd.jupyter.widget-view+json": {
       "model_id": "0e48cb8fd1b14906b8882f5b3f016053",
       "version_major": 2,
       "version_minor": 0
      },
      "text/plain": [
       "Drawing 1000 posterior samples:   0%|          | 0/1000 [00:00<?, ?it/s]"
      ]
     },
     "metadata": {},
     "output_type": "display_data"
    },
    {
     "data": {
      "application/vnd.jupyter.widget-view+json": {
       "model_id": "73c9107f087344d78e5fcf9d9a740063",
       "version_major": 2,
       "version_minor": 0
      },
      "text/plain": [
       "Drawing 1000 posterior samples:   0%|          | 0/1000 [00:00<?, ?it/s]"
      ]
     },
     "metadata": {},
     "output_type": "display_data"
    },
    {
     "data": {
      "application/vnd.jupyter.widget-view+json": {
       "model_id": "bd33d31bf302472d803c6c113dc6380c",
       "version_major": 2,
       "version_minor": 0
      },
      "text/plain": [
       "Drawing 1000 posterior samples:   0%|          | 0/1000 [00:00<?, ?it/s]"
      ]
     },
     "metadata": {},
     "output_type": "display_data"
    },
    {
     "data": {
      "application/vnd.jupyter.widget-view+json": {
       "model_id": "e2187eab157348a19ac0035176d27ba4",
       "version_major": 2,
       "version_minor": 0
      },
      "text/plain": [
       "Drawing 1000 posterior samples:   0%|          | 0/1000 [00:00<?, ?it/s]"
      ]
     },
     "metadata": {},
     "output_type": "display_data"
    },
    {
     "data": {
      "application/vnd.jupyter.widget-view+json": {
       "model_id": "d6d110103b364683ae095f06249f5798",
       "version_major": 2,
       "version_minor": 0
      },
      "text/plain": [
       "Drawing 1000 posterior samples:   0%|          | 0/1000 [00:00<?, ?it/s]"
      ]
     },
     "metadata": {},
     "output_type": "display_data"
    },
    {
     "data": {
      "application/vnd.jupyter.widget-view+json": {
       "model_id": "49c4810bc44f4c5384891cbc2a829445",
       "version_major": 2,
       "version_minor": 0
      },
      "text/plain": [
       "Drawing 1000 posterior samples:   0%|          | 0/1000 [00:00<?, ?it/s]"
      ]
     },
     "metadata": {},
     "output_type": "display_data"
    },
    {
     "data": {
      "application/vnd.jupyter.widget-view+json": {
       "model_id": "a2598038d7594932897e7008f94c7610",
       "version_major": 2,
       "version_minor": 0
      },
      "text/plain": [
       "Drawing 1000 posterior samples:   0%|          | 0/1000 [00:00<?, ?it/s]"
      ]
     },
     "metadata": {},
     "output_type": "display_data"
    },
    {
     "data": {
      "application/vnd.jupyter.widget-view+json": {
       "model_id": "063f518b91b34361affcf4dc8ae6aa14",
       "version_major": 2,
       "version_minor": 0
      },
      "text/plain": [
       "Drawing 1000 posterior samples:   0%|          | 0/1000 [00:00<?, ?it/s]"
      ]
     },
     "metadata": {},
     "output_type": "display_data"
    },
    {
     "data": {
      "application/vnd.jupyter.widget-view+json": {
       "model_id": "94f8f985cf034e8a988d2a9cef0aeca0",
       "version_major": 2,
       "version_minor": 0
      },
      "text/plain": [
       "Drawing 1000 posterior samples:   0%|          | 0/1000 [00:00<?, ?it/s]"
      ]
     },
     "metadata": {},
     "output_type": "display_data"
    },
    {
     "data": {
      "application/vnd.jupyter.widget-view+json": {
       "model_id": "237d38b89c504352a47298b3b147f539",
       "version_major": 2,
       "version_minor": 0
      },
      "text/plain": [
       "Drawing 1000 posterior samples:   0%|          | 0/1000 [00:00<?, ?it/s]"
      ]
     },
     "metadata": {},
     "output_type": "display_data"
    },
    {
     "data": {
      "application/vnd.jupyter.widget-view+json": {
       "model_id": "0c82e4dd77594761be36dec5122fbaf8",
       "version_major": 2,
       "version_minor": 0
      },
      "text/plain": [
       "Drawing 1000 posterior samples:   0%|          | 0/1000 [00:00<?, ?it/s]"
      ]
     },
     "metadata": {},
     "output_type": "display_data"
    },
    {
     "data": {
      "application/vnd.jupyter.widget-view+json": {
       "model_id": "6ef82862ebda41a6bd0004c0172db42a",
       "version_major": 2,
       "version_minor": 0
      },
      "text/plain": [
       "Drawing 1000 posterior samples:   0%|          | 0/1000 [00:00<?, ?it/s]"
      ]
     },
     "metadata": {},
     "output_type": "display_data"
    },
    {
     "data": {
      "application/vnd.jupyter.widget-view+json": {
       "model_id": "817d53f2d17a4d589536d4522f74dd26",
       "version_major": 2,
       "version_minor": 0
      },
      "text/plain": [
       "Drawing 1000 posterior samples:   0%|          | 0/1000 [00:00<?, ?it/s]"
      ]
     },
     "metadata": {},
     "output_type": "display_data"
    },
    {
     "data": {
      "application/vnd.jupyter.widget-view+json": {
       "model_id": "ddfb0acc1ce845c19660e78010452dea",
       "version_major": 2,
       "version_minor": 0
      },
      "text/plain": [
       "Drawing 1000 posterior samples:   0%|          | 0/1000 [00:00<?, ?it/s]"
      ]
     },
     "metadata": {},
     "output_type": "display_data"
    },
    {
     "data": {
      "application/vnd.jupyter.widget-view+json": {
       "model_id": "e3fae7c92fe84f35b30015da2332e8b5",
       "version_major": 2,
       "version_minor": 0
      },
      "text/plain": [
       "Drawing 1000 posterior samples:   0%|          | 0/1000 [00:00<?, ?it/s]"
      ]
     },
     "metadata": {},
     "output_type": "display_data"
    },
    {
     "data": {
      "application/vnd.jupyter.widget-view+json": {
       "model_id": "a50c8caeb4924fcc94def2075c44d619",
       "version_major": 2,
       "version_minor": 0
      },
      "text/plain": [
       "Drawing 1000 posterior samples:   0%|          | 0/1000 [00:00<?, ?it/s]"
      ]
     },
     "metadata": {},
     "output_type": "display_data"
    },
    {
     "data": {
      "application/vnd.jupyter.widget-view+json": {
       "model_id": "b37a6d02648b4d0f9beb8fea6b625d81",
       "version_major": 2,
       "version_minor": 0
      },
      "text/plain": [
       "Drawing 1000 posterior samples:   0%|          | 0/1000 [00:00<?, ?it/s]"
      ]
     },
     "metadata": {},
     "output_type": "display_data"
    },
    {
     "data": {
      "application/vnd.jupyter.widget-view+json": {
       "model_id": "f03af9e3f7334ff895aa1e48e56090db",
       "version_major": 2,
       "version_minor": 0
      },
      "text/plain": [
       "Drawing 1000 posterior samples:   0%|          | 0/1000 [00:00<?, ?it/s]"
      ]
     },
     "metadata": {},
     "output_type": "display_data"
    },
    {
     "data": {
      "application/vnd.jupyter.widget-view+json": {
       "model_id": "4845d0daca194f709c01531b1010a300",
       "version_major": 2,
       "version_minor": 0
      },
      "text/plain": [
       "Drawing 1000 posterior samples:   0%|          | 0/1000 [00:00<?, ?it/s]"
      ]
     },
     "metadata": {},
     "output_type": "display_data"
    },
    {
     "data": {
      "application/vnd.jupyter.widget-view+json": {
       "model_id": "b1fd6447bd0647c8a7da6be49333c1f0",
       "version_major": 2,
       "version_minor": 0
      },
      "text/plain": [
       "Drawing 1000 posterior samples:   0%|          | 0/1000 [00:00<?, ?it/s]"
      ]
     },
     "metadata": {},
     "output_type": "display_data"
    },
    {
     "data": {
      "application/vnd.jupyter.widget-view+json": {
       "model_id": "73ec36b088324e9fbaaaaff7ea653e9a",
       "version_major": 2,
       "version_minor": 0
      },
      "text/plain": [
       "Drawing 1000 posterior samples:   0%|          | 0/1000 [00:00<?, ?it/s]"
      ]
     },
     "metadata": {},
     "output_type": "display_data"
    }
   ],
   "source": [
    "torch.manual_seed(5)\n",
    "np.random.seed(5)\n",
    "\n",
    "obs_real = Gaussian(true_thetas[0, 0:])\n",
    "\n",
    "\n",
    "\n",
    "analytic = torch.distributions.normal.Normal(true_thetas, 1)\n",
    "\n",
    "\n",
    "overall_incremental_list = []\n",
    "\n",
    "variance_list = []\n",
    "\n",
    "mean_list = []\n",
    "\n",
    "for posterior_incremental_list in list_collection_inc:\n",
    "    \n",
    "    KL_incremental = []\n",
    "\n",
    "    for posterior_incremental in posterior_incremental_list:\n",
    "\n",
    "        posterior_incremental.set_default_x(obs_real)\n",
    "\n",
    "        #KL = KLdivergence(posterior_incremental, sample_y)\n",
    "\n",
    "        KL, var_x, mu_x = KL_Gauss(posterior_incremental, analytic)\n",
    "        \n",
    "        variance_list.append(var_x)\n",
    "        mean_list.append(mu_x)\n",
    "\n",
    "        #KL_1d = calc_KL_1d(posterior_incremental, analytic)\n",
    "\n",
    "        #KL_incremental_1d.append(KL_1d)\n",
    "\n",
    "\n",
    "        KL_incremental.append(KL)\n",
    "\n",
    "        \n",
    "    overall_incremental_list.append(KL_incremental)"
   ]
  },
  {
   "cell_type": "code",
   "execution_count": 16,
   "id": "6a67366a",
   "metadata": {},
   "outputs": [],
   "source": [
    "mean_incremental = np.mean(np.array(overall_incremental_list), axis=0)\n",
    "\n",
    "\n",
    "stdev_incremental = np.std(np.array(overall_incremental_list), axis=0)\n",
    "\n",
    "\n",
    "\n",
    "lower_incremental = mean_incremental - [element * 0.5 for element in stdev_incremental]\n",
    "\n",
    "upper_incremental = mean_incremental + [element * 0.5 for element in stdev_incremental]"
   ]
  },
  {
   "cell_type": "code",
   "execution_count": 20,
   "id": "babbcf05",
   "metadata": {},
   "outputs": [],
   "source": [
    "import seaborn as sns"
   ]
  },
  {
   "cell_type": "code",
   "execution_count": 21,
   "id": "70289653",
   "metadata": {},
   "outputs": [],
   "source": [
    "mean_snpe = np.mean(np.array(overall_snpe_list), axis=0)\n",
    "\n",
    "\n",
    "stdev_snpe = np.std(np.array(overall_snpe_list), axis=0)\n",
    "\n",
    "\n",
    "lower_snpe = mean_snpe - [element * 0.5 for element in stdev_snpe]\n",
    "\n",
    "upper_snpe = mean_snpe + [element * 0.5 for element in stdev_snpe]"
   ]
  },
  {
   "cell_type": "code",
   "execution_count": 22,
   "id": "3f0c3f44",
   "metadata": {},
   "outputs": [],
   "source": [
    "num_simulations_list = [500, 750, 1000, 1500, 2000, 3000]"
   ]
  },
  {
   "cell_type": "code",
   "execution_count": 25,
   "id": "e48db975",
   "metadata": {},
   "outputs": [
    {
     "data": {
      "image/png": "[encoded data removed]",
      "text/plain": [
       "<Figure size 432x288 with 1 Axes>"
      ]
     },
     "metadata": {
      "needs_background": "light"
     },
     "output_type": "display_data"
    }
   ],
   "source": [
    "\n",
    "\n",
    "plt.plot(num_simulations_list, mean_incremental, '-o',label='incremental', color='blue')\n",
    "plt.plot(num_simulations_list, mean_snpe, '-o', label='snpe', color='orange')\n",
    "\n",
    "plt.plot(num_simulations_list, upper_incremental, '--', color='blue')\n",
    "plt.plot(num_simulations_list, upper_snpe, '--',  color='orange')\n",
    "\n",
    "plt.plot(num_simulations_list, lower_incremental, '--',  color='blue')\n",
    "plt.plot(num_simulations_list, lower_snpe, '--',  color='orange')\n",
    "\n",
    "\n",
    "plt.fill_between(x= num_simulations_list, y1=lower_incremental, y2=upper_incremental, color='blue', alpha=0.2,  label='1 stdv')\n",
    "plt.fill_between(x= num_simulations_list, y1=lower_snpe, y2=upper_snpe, color='orange', alpha=0.2, label='1 stdv')\n",
    "\n",
    "\n",
    "plt.legend()\n",
    "\n",
    "\n",
    "\n",
    "plt.xlabel('simulations per round')\n",
    "plt.ylabel('KL divergence')\n",
    "\n",
    "sns.despine()\n",
    "\n"
   ]
  },
  {
   "cell_type": "code",
   "execution_count": null,
   "id": "a5633279",
   "metadata": {},
   "outputs": [],
   "source": []
  }
 ],
 "metadata": {
  "kernelspec": {
   "display_name": "Python 3 (ipykernel)",
   "language": "python",
   "name": "python3"
  },
  "language_info": {
   "codemirror_mode": {
    "name": "ipython",
    "version": 3
   },
   "file_extension": ".py",
   "mimetype": "text/x-python",
   "name": "python",
   "nbconvert_exporter": "python",
   "pygments_lexer": "ipython3",
   "version": "3.7.11"
  }
 },
 "nbformat": 4,
 "nbformat_minor": 5
}
