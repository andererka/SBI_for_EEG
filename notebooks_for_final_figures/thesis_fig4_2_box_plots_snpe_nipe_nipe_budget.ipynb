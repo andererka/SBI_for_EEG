{
 "cells": [
  {
   "cell_type": "markdown",
   "id": "4adc7403",
   "metadata": {},
   "source": [
    "# Thesis Fig.4.2: Box plots of estimated variances for Gaussian toy example"
   ]
  },
  {
   "cell_type": "code",
   "execution_count": 2,
   "id": "e788d96d",
   "metadata": {},
   "outputs": [],
   "source": [
    "%load_ext autoreload\n",
    "%autoreload 2\n",
    "import os.path as op\n",
    "import tempfile\n",
    "\n",
    "import matplotlib.pyplot as plt\n",
    "\n",
    "\n",
    "import hnn_core\n",
    "from hnn_core import simulate_dipole, jones_2009_model\n",
    "from hnn_core.viz import plot_dipole\n",
    "\n",
    "\n",
    "import sys\n",
    "sys.path.append('../code/')\n",
    "sys.path.append('../code/utils/')\n",
    "#sys.path.append('../code/sbi/')\n",
    "#sys.path.append('../../results_cluster/')\n",
    "\n",
    "\n",
    "import numpy as np\n",
    "import torch\n",
    "\n",
    "# visualization\n",
    "import matplotlib as mpl\n",
    "import matplotlib.pyplot as plt\n",
    "\n",
    "\n",
    "import os\n",
    "\n",
    "work_dir = '/home/ubuntu/sbi_for_eeg_data/code/'\n",
    "\n",
    "os.chdir(work_dir)\n",
    "\n",
    "#from utils.plot import cov, compare_vars, plot_varchanges\n",
    "#from utils.plot import compare_KLs, plot_KLs\n",
    "#from sbi.inference import potentials\n",
    "import utils.sbi_modulated_functions\n",
    "\n",
    "# sbi\n",
    "from sbi import utils as utils\n",
    "from sbi import analysis as analysis\n",
    "from sbi.inference.base import infer\n",
    "from sbi.inference import SNPE, prepare_for_sbi, simulate_for_sbi\n",
    "\n",
    "from sbi.analysis import conditional_pairplot, conditional_corrcoeff\n",
    "\n",
    "\n",
    "\n",
    "# import the summary statistics that you want to investigate\n",
    "from summary_features.calculate_summary_features import calculate_summary_statistics_alternative as alternative_sumstats\n",
    "from summary_features.calculate_summary_features import calculate_summary_stats_temporal as temporal_sumstats\n",
    "from summary_features.calculate_summary_features import calculate_summary_stats_number as number_sumstats\n",
    "from summary_features.calculate_summary_features import calculate_summary_stats_temporal\n"
   ]
  },
  {
   "cell_type": "code",
   "execution_count": 3,
   "id": "ab993458",
   "metadata": {},
   "outputs": [
    {
     "name": "stdout",
     "output_type": "stream",
     "text": [
      "1.11.0\n"
     ]
    }
   ],
   "source": [
    "print(torch.__version__)"
   ]
  },
  {
   "cell_type": "code",
   "execution_count": 4,
   "id": "9c212ce0",
   "metadata": {},
   "outputs": [],
   "source": [
    "## defining neuronal network model\n",
    "\n",
    "num_params = 6\n",
    "\n",
    "from utils.simulation_wrapper import set_network_default, SimulationWrapper\n",
    "sim_wrapper = SimulationWrapper(num_params, noise=False)\n"
   ]
  },
  {
   "cell_type": "code",
   "execution_count": 5,
   "id": "230edc87",
   "metadata": {},
   "outputs": [
    {
     "name": "stdout",
     "output_type": "stream",
     "text": [
      "/home/ubuntu\n"
     ]
    }
   ],
   "source": [
    "from utils import inference\n",
    "\n",
    "import pickle\n",
    "from data_load_writer import *\n",
    "from data_load_writer import load_from_file as lf\n",
    "\n",
    "import os\n",
    "\n",
    "work_dir = '/home/ubuntu/'\n",
    "\n",
    "os.chdir(work_dir)\n",
    "\n",
    "\n",
    "\n",
    "import os\n",
    "\n",
    "print(os.getcwd())\n",
    "\n",
    "\n",
    "file = 'toy_example_maf_03_05'\n",
    "\n",
    "\n",
    "os.chdir('results/{}'.format(file))\n",
    "\n",
    "\n",
    "\n",
    "\n",
    "### loads results file with NIPE without ratio\n",
    "list_collection = torch.load('list_collection.pt')\n",
    "list_collection_inc = torch.load('list_collection_inc.pt')\n",
    "\n",
    "\n",
    "file = 'toy_example_maf_03_05_ratio'\n",
    "\n",
    "\n",
    "\n",
    "os.chdir('/home/ubuntu/results/{}'.format(file))\n",
    "\n",
    "### loads results file with NIPE with ratio\n",
    "\n",
    "list_collection_inc_ratio = torch.load('list_collection_inc.pt')\n",
    "\n"
   ]
  },
  {
   "cell_type": "code",
   "execution_count": 6,
   "id": "cdd9fecb",
   "metadata": {},
   "outputs": [],
   "source": [
    "def Gaussian(thetas, normal_noise=1):\n",
    "\n",
    "    gauss_list = []\n",
    "\n",
    "    for theta in thetas:\n",
    "\n",
    "        mu, sigma = theta, normal_noise  # mean and standard deviation\n",
    "\n",
    "        s = np.random.normal(mu, sigma, 1)\n",
    "\n",
    "        gauss_list.append(s[0])\n",
    "\n",
    "    gauss_obs = torch.tensor(gauss_list)\n",
    "\n",
    "    return gauss_obs"
   ]
  },
  {
   "cell_type": "code",
   "execution_count": 7,
   "id": "d4ca2c26",
   "metadata": {},
   "outputs": [],
   "source": [
    "true_thetas = torch.tensor([[3.0, 6.0, 20.0, 10.0, 90.0, 55.0, 27.0, 27.0, 4.0, 70.0, 5.0, 66.0, 99.0, 40.0, 45.0]])\n",
    "parameter_names = ['t1', 't2', 't3', 't4', 't5', 't6', 't7', 't8', 't9', 't10', 't11', 't12', 't13', 't14', 't15']\n",
    "\n",
    "prior_max = [100.0] * 15\n",
    "prior_min = [1.0] * 15\n",
    "\n",
    "prior = utils.torchutils.BoxUniform(low=prior_min, high = prior_max)\n",
    "\n",
    "samples_prior = prior.sample((10000,))\n",
    "\n",
    "simulator_stats, prior = prepare_for_sbi(Gaussian, prior)"
   ]
  },
  {
   "cell_type": "code",
   "execution_count": 8,
   "id": "64df37b2",
   "metadata": {},
   "outputs": [],
   "source": [
    "samples_prior_list = samples_prior.unsqueeze(0)"
   ]
  },
  {
   "cell_type": "code",
   "execution_count": null,
   "id": "431660f3",
   "metadata": {},
   "outputs": [],
   "source": []
  },
  {
   "cell_type": "code",
   "execution_count": 9,
   "id": "0c8bddbc",
   "metadata": {},
   "outputs": [
    {
     "data": {
      "text/plain": [
       "torch.Size([10000, 15])"
      ]
     },
     "execution_count": 9,
     "metadata": {},
     "output_type": "execute_result"
    }
   ],
   "source": [
    "samples_prior_list[0].shape"
   ]
  },
  {
   "cell_type": "code",
   "execution_count": 10,
   "id": "dbeec27a",
   "metadata": {},
   "outputs": [
    {
     "name": "stdout",
     "output_type": "stream",
     "text": [
      "[Parallel(n_jobs=1)]: Using backend SequentialBackend with 1 concurrent workers.\n",
      "[Parallel(n_jobs=1)]: Done   1 out of   1 | elapsed:    2.7s remaining:    0.0s\n",
      "[Parallel(n_jobs=1)]: Done   1 out of   1 | elapsed:    2.7s finished\n"
     ]
    }
   ],
   "source": [
    "thetas = inference.run_only_sim(samples_prior_list, simulation_wrapper = simulator_stats, num_workers=1)"
   ]
  },
  {
   "cell_type": "code",
   "execution_count": 11,
   "id": "678fc0e0",
   "metadata": {},
   "outputs": [],
   "source": [
    "def KL_Gauss(X, Y):\n",
    "    \n",
    "    sample_x = X.sample((1000,))\n",
    "    mu_x = torch.mean(sample_x, dim=0)\n",
    "    var_x = torch.std(sample_x, dim=0)\n",
    "\n",
    "    var_y = Y.stddev\n",
    "\n",
    "    mu_y = Y.mean\n",
    "    \n",
    "    \n",
    "    return torch.mean(np.log(var_y/var_x) + (var_x**2 + (mu_x - mu_y)**2)/(2*var_y**2) -(1/2)), var_x, mu_x\n",
    "\n",
    "\n",
    "def calc_KL_1d(X, Y):\n",
    "    \n",
    "    sample_x = X.sample((1000,))\n",
    "    mu_x = torch.mean(sample_x, dim=0)\n",
    "    var_x = torch.std(sample_x, dim=0)\n",
    "    \n",
    "    print(var_x)\n",
    "    print(mu_x)\n",
    "\n",
    "\n",
    "    var_y = Y.stddev\n",
    "\n",
    "    mu_y = Y.mean\n",
    "    \n",
    "    print(mu_y)\n",
    "    print(var_y)\n",
    "    \n",
    "    print(np.log(var_y/var_x) + (var_x**2 + (mu_x - mu_y)**2)/(2*var_y**2) -(1/2))\n",
    "    \n",
    "    return np.log(var_y/var_x) + (var_x**2 + (mu_x - mu_y)**2)/(2*var_y**2) -(1/2)\n",
    "\n",
    "\n",
    "# calculate the jensen-shanon divergence\n",
    "def js_divergence(p, q):\n",
    "    m = 0.5 * (p + q)\n",
    "    return 0.5 * kl_divergence(p, m) + 0.5 * kl_divergence(q, m)"
   ]
  },
  {
   "cell_type": "code",
   "execution_count": 12,
   "id": "c39fb7f2",
   "metadata": {},
   "outputs": [
    {
     "data": {
      "application/vnd.jupyter.widget-view+json": {
       "model_id": "d8f054e493664586af8ebe80e5cea1e4",
       "version_major": 2,
       "version_minor": 0
      },
      "text/plain": [
       "Drawing 1000 posterior samples:   0%|          | 0/1000 [00:00<?, ?it/s]"
      ]
     },
     "metadata": {},
     "output_type": "display_data"
    },
    {
     "name": "stdout",
     "output_type": "stream",
     "text": [
      "acceptance rate:  0.033\n",
      "acceptance rate:  0.029\n",
      "acceptance rate:  0.030666666666666665\n",
      "acceptance rate:  0.031580645161290326\n",
      "acceptance rate:  0.031073170731707317\n"
     ]
    },
    {
     "data": {
      "application/vnd.jupyter.widget-view+json": {
       "model_id": "97f96ae5a990482aa41446d036c898ce",
       "version_major": 2,
       "version_minor": 0
      },
      "text/plain": [
       "Drawing 1000 posterior samples:   0%|          | 0/1000 [00:00<?, ?it/s]"
      ]
     },
     "metadata": {},
     "output_type": "display_data"
    },
    {
     "name": "stdout",
     "output_type": "stream",
     "text": [
      "acceptance rate:  0.035\n",
      "acceptance rate:  0.029545454545454545\n",
      "acceptance rate:  0.028904761904761905\n",
      "acceptance rate:  0.028774193548387096\n",
      "acceptance rate:  0.029\n",
      "tensor([3.9110, 4.4465, 3.7563, 4.3569, 4.0340, 2.3900, 3.0279, 3.2241, 3.7405,\n",
      "        3.0264, 3.7503, 2.8835, 2.5012, 3.6156, 2.9635])\n",
      "tensor([ 7.3566, 10.3295, 20.6203, 11.9323, 86.5239, 56.2248, 24.4082, 28.0452,\n",
      "         6.6460, 70.7210,  6.6152, 68.6577, 97.0487, 42.1511, 44.1058])\n",
      "tensor([[ 3.,  6., 20., 10., 90., 55., 27., 27.,  4., 70.,  5., 66., 99., 40.,\n",
      "         45.]])\n",
      "tensor([[1., 1., 1., 1., 1., 1., 1., 1., 1., 1., 1., 1., 1., 1., 1.]])\n",
      "tensor([[15.2740, 17.2659,  5.4239,  9.3865, 12.2832,  2.2347,  6.3350,  4.0731,\n",
      "          8.6770,  3.2321,  6.5151,  6.1300,  3.6150,  7.0644,  3.2047]])\n"
     ]
    },
    {
     "data": {
      "application/vnd.jupyter.widget-view+json": {
       "model_id": "9cfaea5f1464445f959a76aeb55e082d",
       "version_major": 2,
       "version_minor": 0
      },
      "text/plain": [
       "Drawing 1000 posterior samples:   0%|          | 0/1000 [00:00<?, ?it/s]"
      ]
     },
     "metadata": {},
     "output_type": "display_data"
    },
    {
     "name": "stdout",
     "output_type": "stream",
     "text": [
      "acceptance rate:  0.223\n",
      "acceptance rate:  0.22018181818181817\n"
     ]
    },
    {
     "data": {
      "application/vnd.jupyter.widget-view+json": {
       "model_id": "e09f1d2044f84ce0a83662f9da374842",
       "version_major": 2,
       "version_minor": 0
      },
      "text/plain": [
       "Drawing 1000 posterior samples:   0%|          | 0/1000 [00:00<?, ?it/s]"
      ]
     },
     "metadata": {},
     "output_type": "display_data"
    },
    {
     "name": "stdout",
     "output_type": "stream",
     "text": [
      "acceptance rate:  0.218\n",
      "acceptance rate:  0.21363636363636362\n",
      "tensor([4.5726, 4.3747, 3.2889, 3.7552, 4.6058, 1.8183, 3.0487, 3.4111, 4.1489,\n",
      "        3.3004, 4.1906, 1.9152, 3.5121, 2.5787, 2.3701])\n",
      "tensor([11.9492, 11.0668, 26.2315, 13.5846, 89.8481, 55.7939, 29.1537, 27.8350,\n",
      "        11.1418, 65.1136,  7.2996, 62.6840, 95.1228, 39.7465, 45.7165])\n",
      "tensor([[ 3.,  6., 20., 10., 90., 55., 27., 27.,  4., 70.,  5., 66., 99., 40.,\n",
      "         45.]])\n",
      "tensor([[1., 1., 1., 1., 1., 1., 1., 1., 1., 1., 1., 1., 1., 1., 1.]])\n",
      "tensor([[48.4780, 20.4293, 23.1337, 11.6523,  8.5909,  0.8703,  5.3517,  4.4393,\n",
      "         32.1868, 15.6905,  9.4918,  6.1821, 11.9276,  1.9097,  1.7025]])\n"
     ]
    },
    {
     "data": {
      "application/vnd.jupyter.widget-view+json": {
       "model_id": "7bf53fc081b34534a4a8ef530162098a",
       "version_major": 2,
       "version_minor": 0
      },
      "text/plain": [
       "Drawing 1000 posterior samples:   0%|          | 0/1000 [00:00<?, ?it/s]"
      ]
     },
     "metadata": {},
     "output_type": "display_data"
    },
    {
     "name": "stdout",
     "output_type": "stream",
     "text": [
      "acceptance rate:  0.199\n",
      "acceptance rate:  0.19081818181818183\n"
     ]
    },
    {
     "data": {
      "application/vnd.jupyter.widget-view+json": {
       "model_id": "0556c4e7ade54482919f8556eca7a0b4",
       "version_major": 2,
       "version_minor": 0
      },
      "text/plain": [
       "Drawing 1000 posterior samples:   0%|          | 0/1000 [00:00<?, ?it/s]"
      ]
     },
     "metadata": {},
     "output_type": "display_data"
    },
    {
     "name": "stdout",
     "output_type": "stream",
     "text": [
      "acceptance rate:  0.18\n",
      "acceptance rate:  0.1940909090909091\n",
      "tensor([5.1882, 3.7794, 4.1731, 4.5315, 4.3449, 2.0968, 3.3521, 3.1946, 4.6111,\n",
      "        3.0147, 3.9669, 2.6287, 5.3342, 2.4629, 2.5777])\n",
      "tensor([11.5650,  5.8577, 28.7599, 14.2802, 84.6688, 57.3439, 26.9399, 28.2792,\n",
      "        11.0799, 66.4387,  7.5556, 63.8513, 87.4163, 41.2331, 44.5256])\n",
      "tensor([[ 3.,  6., 20., 10., 90., 55., 27., 27.,  4., 70.,  5., 66., 99., 40.,\n",
      "         45.]])\n",
      "tensor([[1., 1., 1., 1., 1., 1., 1., 1., 1., 1., 1., 1., 1., 1., 1.]])\n",
      "tensor([[47.9921,  5.3226, 45.1462, 17.4161, 21.6806,  3.7049,  3.9104,  4.2594,\n",
      "         33.6654,  9.2821,  9.2555,  4.2971, 79.1438,  2.3919,  1.9879]])\n"
     ]
    },
    {
     "data": {
      "application/vnd.jupyter.widget-view+json": {
       "model_id": "30a2942aac6247ad918e84832354d3e8",
       "version_major": 2,
       "version_minor": 0
      },
      "text/plain": [
       "Drawing 1000 posterior samples:   0%|          | 0/1000 [00:00<?, ?it/s]"
      ]
     },
     "metadata": {},
     "output_type": "display_data"
    },
    {
     "name": "stdout",
     "output_type": "stream",
     "text": [
      "acceptance rate:  0.038\n",
      "acceptance rate:  0.036272727272727276\n",
      "acceptance rate:  0.03495238095238095\n",
      "acceptance rate:  0.03506451612903226\n"
     ]
    },
    {
     "data": {
      "application/vnd.jupyter.widget-view+json": {
       "model_id": "9263fdc5775c44c688e31e761b87ac2c",
       "version_major": 2,
       "version_minor": 0
      },
      "text/plain": [
       "Drawing 1000 posterior samples:   0%|          | 0/1000 [00:00<?, ?it/s]"
      ]
     },
     "metadata": {},
     "output_type": "display_data"
    },
    {
     "name": "stdout",
     "output_type": "stream",
     "text": [
      "acceptance rate:  0.026\n",
      "acceptance rate:  0.03736363636363636\n",
      "acceptance rate:  0.03676190476190476\n",
      "acceptance rate:  0.03512903225806452\n",
      "tensor([5.0905, 4.3609, 3.2924, 4.3047, 4.4085, 2.3157, 3.0536, 3.4235, 3.0628,\n",
      "        2.1269, 3.4814, 2.2921, 4.4450, 2.7459, 2.7274])\n",
      "tensor([11.7953, 10.8329, 24.9895, 11.9937, 87.8605, 53.5164, 31.0052, 31.6066,\n",
      "         4.6941, 67.8521,  7.8931, 62.3738, 93.4797, 40.5184, 44.6906])\n",
      "tensor([[ 3.,  6., 20., 10., 90., 55., 27., 27.,  4., 70.,  5., 66., 99., 40.,\n",
      "         45.]])\n",
      "tensor([[1., 1., 1., 1., 1., 1., 1., 1., 1., 1., 1., 1., 1., 1., 1.]])\n",
      "tensor([[49.5075, 19.2146, 16.1759,  9.2928, 10.0226,  2.4420, 11.0667, 14.7400,\n",
      "          3.3119,  3.3139,  8.4978,  7.8721, 23.1243,  2.3941,  2.2639]])\n"
     ]
    },
    {
     "data": {
      "application/vnd.jupyter.widget-view+json": {
       "model_id": "e7ca310b0bfe42dcaecba231e04e6793",
       "version_major": 2,
       "version_minor": 0
      },
      "text/plain": [
       "Drawing 1000 posterior samples:   0%|          | 0/1000 [00:00<?, ?it/s]"
      ]
     },
     "metadata": {},
     "output_type": "display_data"
    },
    {
     "name": "stdout",
     "output_type": "stream",
     "text": [
      "acceptance rate:  0.117\n",
      "acceptance rate:  0.11454545454545455\n"
     ]
    },
    {
     "data": {
      "application/vnd.jupyter.widget-view+json": {
       "model_id": "b791edaa9b734607a4de485dca0da004",
       "version_major": 2,
       "version_minor": 0
      },
      "text/plain": [
       "Drawing 1000 posterior samples:   0%|          | 0/1000 [00:00<?, ?it/s]"
      ]
     },
     "metadata": {},
     "output_type": "display_data"
    },
    {
     "name": "stdout",
     "output_type": "stream",
     "text": [
      "acceptance rate:  0.105\n",
      "acceptance rate:  0.11227272727272727\n",
      "tensor([4.8396, 3.0363, 4.4124, 4.2835, 4.0465, 2.9134, 3.6948, 3.2319, 4.0157,\n",
      "        2.8310, 6.9570, 2.8235, 4.7729, 2.0798, 2.8697])\n",
      "tensor([10.3465,  5.0664, 25.9904, 14.7067, 85.2756, 56.2116, 27.9528, 29.1672,\n",
      "         7.5712, 70.6460, 12.2531, 65.1407, 93.0785, 40.3809, 41.6952])\n",
      "tensor([[ 3.,  6., 20., 10., 90., 55., 27., 27.,  4., 70.,  5., 66., 99., 40.,\n",
      "         45.]])\n",
      "tensor([[1., 1., 1., 1., 1., 1., 1., 1., 1., 1., 1., 1., 1., 1., 1.]])\n",
      "tensor([[36.6197,  3.4348, 25.6929, 18.2957, 17.4493,  3.4085,  5.4729,  5.8978,\n",
      "         12.5492,  2.6753, 48.0637,  2.8173, 26.8593,  1.0031,  8.0243]])\n"
     ]
    }
   ],
   "source": [
    "\n",
    "analytic = torch.distributions.normal.Normal(true_thetas, 1)\n",
    "\n",
    "\n",
    "overall_snpe_list = []\n",
    "\n",
    "variance_list_snpe = []\n",
    "\n",
    "mean_list_snpe = []\n",
    "\n",
    "\n",
    "## for round\n",
    "for posterior_snpe_list in list_collection:\n",
    "    \n",
    "    KL_snpe = []\n",
    "    KL_snpe_1d = []\n",
    "    \n",
    "    \n",
    "    ## for number of simulations\n",
    "    for posterior_snpe in posterior_snpe_list:\n",
    "\n",
    "\n",
    "        #KL = KLdivergence(posterior_snpe, sample_y)\n",
    "        KL, var_x, mu_x = KL_Gauss(posterior_snpe, analytic)\n",
    "        \n",
    "        variance_list_snpe.append(var_x)\n",
    "        \n",
    "        mean_list_snpe.append(mu_x)\n",
    "\n",
    "\n",
    "        KL_1d = calc_KL_1d(posterior_snpe, analytic)\n",
    "\n",
    "        KL_snpe_1d.append(KL_1d)\n",
    "\n",
    "        #KL_snpe_sum.append(sum_KL)\n",
    "\n",
    "        KL_snpe.append(KL)\n",
    "        \n",
    "    overall_snpe_list.append(KL_snpe)\n",
    "\n",
    "\n",
    "    \n",
    "    "
   ]
  },
  {
   "cell_type": "code",
   "execution_count": 13,
   "id": "f68ad23e",
   "metadata": {},
   "outputs": [
    {
     "data": {
      "application/vnd.jupyter.widget-view+json": {
       "model_id": "fbe06604055348ef83cefc9e84116d66",
       "version_major": 2,
       "version_minor": 0
      },
      "text/plain": [
       "Drawing 1000 posterior samples:   0%|          | 0/1000 [00:00<?, ?it/s]"
      ]
     },
     "metadata": {},
     "output_type": "display_data"
    },
    {
     "name": "stdout",
     "output_type": "stream",
     "text": [
      "acceptance rate:  1.0\n"
     ]
    },
    {
     "data": {
      "application/vnd.jupyter.widget-view+json": {
       "model_id": "f7cf91cab3cf4cea96d87d46e7b1b7c4",
       "version_major": 2,
       "version_minor": 0
      },
      "text/plain": [
       "Drawing 1000 posterior samples:   0%|          | 0/1000 [00:00<?, ?it/s]"
      ]
     },
     "metadata": {},
     "output_type": "display_data"
    },
    {
     "name": "stdout",
     "output_type": "stream",
     "text": [
      "acceptance rate:  1.0\n"
     ]
    },
    {
     "data": {
      "application/vnd.jupyter.widget-view+json": {
       "model_id": "2353306ee5d949f1887f6fcfca22cd7f",
       "version_major": 2,
       "version_minor": 0
      },
      "text/plain": [
       "Drawing 1000 posterior samples:   0%|          | 0/1000 [00:00<?, ?it/s]"
      ]
     },
     "metadata": {},
     "output_type": "display_data"
    },
    {
     "name": "stdout",
     "output_type": "stream",
     "text": [
      "acceptance rate:  1.0\n"
     ]
    },
    {
     "data": {
      "application/vnd.jupyter.widget-view+json": {
       "model_id": "866e77d39ad14c54bb24d3123243d57e",
       "version_major": 2,
       "version_minor": 0
      },
      "text/plain": [
       "Drawing 1000 posterior samples:   0%|          | 0/1000 [00:00<?, ?it/s]"
      ]
     },
     "metadata": {},
     "output_type": "display_data"
    },
    {
     "name": "stdout",
     "output_type": "stream",
     "text": [
      "acceptance rate:  1.0\n"
     ]
    },
    {
     "data": {
      "application/vnd.jupyter.widget-view+json": {
       "model_id": "1d38387545c44812a3796538c6e3b4ca",
       "version_major": 2,
       "version_minor": 0
      },
      "text/plain": [
       "Drawing 1000 posterior samples:   0%|          | 0/1000 [00:00<?, ?it/s]"
      ]
     },
     "metadata": {},
     "output_type": "display_data"
    },
    {
     "name": "stdout",
     "output_type": "stream",
     "text": [
      "acceptance rate:  1.0\n"
     ]
    }
   ],
   "source": [
    "torch.manual_seed(5)\n",
    "np.random.seed(5)\n",
    "\n",
    "obs_real = Gaussian(true_thetas[0, 0:])\n",
    "\n",
    "\n",
    "\n",
    "analytic = torch.distributions.normal.Normal(true_thetas, 1)\n",
    "\n",
    "\n",
    "overall_incremental_list = []\n",
    "\n",
    "variance_list_nipe = []\n",
    "\n",
    "mean_list_nipe = []\n",
    "\n",
    "for posterior_incremental_list in list_collection_inc:\n",
    "    \n",
    "    KL_incremental = []\n",
    "\n",
    "    for posterior_incremental in posterior_incremental_list:\n",
    "\n",
    "        #posterior_incremental.set_default_x(obs_real)\n",
    "\n",
    "        #KL = KLdivergence(posterior_incremental, sample_y)\n",
    "\n",
    "        KL, var_x, mu_x = KL_Gauss(posterior_incremental, analytic)\n",
    "        \n",
    "        variance_list_nipe.append(var_x)\n",
    "        mean_list_nipe.append(mu_x)\n",
    "\n",
    "        #KL_1d = calc_KL_1d(posterior_incremental, analytic)\n",
    "\n",
    "        #KL_incremental_1d.append(KL_1d)\n",
    "\n",
    "\n",
    "        KL_incremental.append(KL)\n",
    "\n",
    "        \n",
    "    overall_incremental_list.append(KL_incremental)"
   ]
  },
  {
   "cell_type": "code",
   "execution_count": 14,
   "id": "b40e2927",
   "metadata": {},
   "outputs": [
    {
     "data": {
      "application/vnd.jupyter.widget-view+json": {
       "model_id": "bfe9d343deb743f7a7900481255a2351",
       "version_major": 2,
       "version_minor": 0
      },
      "text/plain": [
       "Drawing 1000 posterior samples:   0%|          | 0/1000 [00:00<?, ?it/s]"
      ]
     },
     "metadata": {},
     "output_type": "display_data"
    },
    {
     "name": "stdout",
     "output_type": "stream",
     "text": [
      "acceptance rate:  1.0\n"
     ]
    },
    {
     "data": {
      "application/vnd.jupyter.widget-view+json": {
       "model_id": "d3f0359ea2f74913b60871645c000119",
       "version_major": 2,
       "version_minor": 0
      },
      "text/plain": [
       "Drawing 1000 posterior samples:   0%|          | 0/1000 [00:00<?, ?it/s]"
      ]
     },
     "metadata": {},
     "output_type": "display_data"
    },
    {
     "name": "stdout",
     "output_type": "stream",
     "text": [
      "acceptance rate:  1.0\n"
     ]
    },
    {
     "data": {
      "application/vnd.jupyter.widget-view+json": {
       "model_id": "342ea4343a2748e9b91ca8e2d6e04254",
       "version_major": 2,
       "version_minor": 0
      },
      "text/plain": [
       "Drawing 1000 posterior samples:   0%|          | 0/1000 [00:00<?, ?it/s]"
      ]
     },
     "metadata": {},
     "output_type": "display_data"
    },
    {
     "name": "stdout",
     "output_type": "stream",
     "text": [
      "acceptance rate:  1.0\n"
     ]
    },
    {
     "data": {
      "application/vnd.jupyter.widget-view+json": {
       "model_id": "9646eba3f5c542af9dcf75116fd39d4d",
       "version_major": 2,
       "version_minor": 0
      },
      "text/plain": [
       "Drawing 1000 posterior samples:   0%|          | 0/1000 [00:00<?, ?it/s]"
      ]
     },
     "metadata": {},
     "output_type": "display_data"
    },
    {
     "name": "stdout",
     "output_type": "stream",
     "text": [
      "acceptance rate:  1.0\n"
     ]
    },
    {
     "data": {
      "application/vnd.jupyter.widget-view+json": {
       "model_id": "31a24bb8911e42a88555ea15b96f5aea",
       "version_major": 2,
       "version_minor": 0
      },
      "text/plain": [
       "Drawing 1000 posterior samples:   0%|          | 0/1000 [00:00<?, ?it/s]"
      ]
     },
     "metadata": {},
     "output_type": "display_data"
    },
    {
     "name": "stdout",
     "output_type": "stream",
     "text": [
      "acceptance rate:  1.0\n"
     ]
    }
   ],
   "source": [
    "analytic = torch.distributions.normal.Normal(true_thetas, 1)\n",
    "\n",
    "\n",
    "overall_incremental_list_ratio = []\n",
    "\n",
    "variance_list_ratio = []\n",
    "\n",
    "mean_list_ratio = []\n",
    "\n",
    "for posterior_incremental_list in list_collection_inc_ratio:\n",
    "    \n",
    "    KL_incremental = []\n",
    "\n",
    "    for posterior_incremental in posterior_incremental_list:\n",
    "\n",
    "        #posterior_incremental.set_default_x(obs_real)\n",
    "\n",
    "        #KL = KLdivergence(posterior_incremental, sample_y)\n",
    "\n",
    "        KL, var_x, mu_x = KL_Gauss(posterior_incremental, analytic)\n",
    "        \n",
    "        variance_list_ratio.append(var_x)\n",
    "        mean_list_ratio.append(mu_x)\n",
    "\n",
    "        #KL_1d = calc_KL_1d(posterior_incremental, analytic)\n",
    "\n",
    "        #KL_incremental_1d.append(KL_1d)\n",
    "\n",
    "\n",
    "        KL_incremental.append(KL)\n",
    "\n",
    "        \n",
    "    overall_incremental_list_ratio.append(KL_incremental)"
   ]
  },
  {
   "cell_type": "code",
   "execution_count": 15,
   "id": "f941bdb3",
   "metadata": {},
   "outputs": [],
   "source": [
    "\n",
    "\n",
    "nipe_array = torch.stack(([variance_list_nipe[i] for i in range(5)]), dim=1)\n",
    "\n",
    "snpe_array = torch.stack(([variance_list_snpe[i] for i in range(5)]), dim=1)\n",
    "\n",
    "\n",
    "nipe_ratio_array = torch.stack(([variance_list_ratio[i] for i in range(5)]), dim=1)\n",
    "\n"
   ]
  },
  {
   "cell_type": "code",
   "execution_count": 17,
   "id": "5b840c12",
   "metadata": {},
   "outputs": [
    {
     "data": {
      "image/png": "[encoded data removed]",
      "text/plain": [
       "<Figure size 720x360 with 1 Axes>"
      ]
     },
     "metadata": {},
     "output_type": "display_data"
    }
   ],
   "source": [
    "### plot variances:\n",
    "import seaborn as sns\n",
    "\n",
    "sns.set_style(\"whitegrid\", {'axes.grid' : False})\n",
    "#sns.set_context('talk')\n",
    "sns.set_context('notebook')\n",
    "\n",
    "\n",
    "figure_mosaic = \"\"\"\n",
    "C\n",
    "\"\"\"\n",
    "\n",
    "fig, axes = plt.subplot_mosaic(mosaic=figure_mosaic, figsize=(10, 5))\n",
    "\n",
    "nipe = axes['C'].boxplot(nipe_array, patch_artist=True, medianprops = dict(linewidth=0), boxprops=dict(facecolor='purple'),  flierprops=dict(color='purple', markeredgecolor='purple', label='nipe'),\n",
    "                  )\n",
    "\n",
    "\n",
    "\n",
    "#nipe = axes['A'].boxplot(nipe_array, patch_artist=True, medianprops = dict(linewidth=0), boxprops=dict(facecolor='purple'),  flierprops=dict(color='purple', markeredgecolor='purple', label='nipe'),\n",
    "#                 )\n",
    "\n",
    "\n",
    "snpe_c = axes['C'].boxplot(snpe_array, patch_artist=True, medianprops = dict(linewidth=0),\n",
    "                  boxprops=dict(facecolor='springgreen'), flierprops=dict(color='springgreen', markeredgecolor='green', label='snpe'),\n",
    "                  )\n",
    "\n",
    "for b in snpe_c['boxes']:\n",
    "    b.set_alpha(0.4)\n",
    "    \n",
    "for b in nipe['boxes']:\n",
    "    b.set_alpha(0.8)\n",
    "    \n",
    "axes['C'].plot(np.linspace(1,15, 15), analytic.stddev[0], 'o', c='red', label='analytic')\n",
    "    \n",
    "\n",
    "\n",
    "axes['C'].legend([nipe['boxes'][0], snpe_c['boxes'][0]], ['nipe', 'snpe'], loc='upper left')\n",
    "\n",
    "axes['C'].set_xlabel('parameter')\n",
    "axes['C'].set_ylabel('variance')\n",
    "\n",
    "\n",
    "#axes['A'].legend([nipe['boxes'][0]], [ 'nipe'], loc='upper left')\n",
    "sns.despine()\n",
    "sns.set_context('notebook')"
   ]
  },
  {
   "cell_type": "code",
   "execution_count": 19,
   "id": "7b5850be",
   "metadata": {},
   "outputs": [
    {
     "data": {
      "text/plain": [
       "<matplotlib.legend.Legend at 0x7ff54f961f50>"
      ]
     },
     "execution_count": 19,
     "metadata": {},
     "output_type": "execute_result"
    },
    {
     "data": {
      "image/png": "[encoded data removed]",
      "text/plain": [
       "<Figure size 936x576 with 1 Axes>"
      ]
     },
     "metadata": {},
     "output_type": "display_data"
    }
   ],
   "source": [
    "### plot variances:\n",
    "import seaborn as sns\n",
    "\n",
    "sns.set_style(\"whitegrid\", {'axes.grid' : False})\n",
    "sns.set_context('talk')\n",
    "#sns.set_context('notebook')\n",
    "\n",
    "figure_mosaic = \"\"\"\n",
    "ACC\n",
    "BCC\n",
    "\"\"\"\n",
    "\n",
    "figure_mosaic = \"\"\"\n",
    "C\n",
    "\"\"\"\n",
    "\n",
    "\n",
    "\n",
    "fig, axes = plt.subplot_mosaic(mosaic=figure_mosaic, figsize=(13, 8))\n",
    "\n",
    "\n",
    "\n",
    "\n",
    "nipe_box = axes['C'].boxplot(nipe_ratio_array, patch_artist=True, medianprops = dict(linewidth=0), boxprops=dict(facecolor='purple'),  flierprops=dict(color='lightblue', markeredgecolor='lightblue'),\n",
    "                  positions=[0.9, 1.9, 2.9, 3.9, 4.9, 5.9, 6.9, 7.9, 8.9, 9.9, 10.9, 11.9, 12.9, 13.9, \n",
    "                                                                                 14.9])\n",
    "\n",
    "\n",
    "nipe = axes['C'].boxplot(nipe_array, medianprops = dict(linewidth=0),patch_artist=True, boxprops=dict(facecolor='lightblue'),            \n",
    "            flierprops=dict(color='lightblue', markeredgecolor='lightblue'),positions=[1.2, 2.2, 3.2, 4.2, 5.2, 6.2, 7.2, 8.2, 9.2, 10.2, 11.2, 12.2, 13.2, \n",
    "                                                                                 14.2, 15.2])\n",
    "\n",
    "for b in nipe['boxes']:\n",
    "    b.set_alpha(0.8)\n",
    "    \n",
    "\n",
    "    \n",
    "#for b in nipe_ratio_box['boxes']:\n",
    "#    b.set_alpha(0.8)\n",
    "\n",
    "for b in nipe_box['boxes']:\n",
    "    b.set_alpha(0.8)\n",
    "    \n",
    "#for b in snpe_box['boxes']:\n",
    "#    b.set_alpha(0.4)\n",
    "    \n",
    "    \n",
    "axes['C'].set(xticklabels=[])\n",
    "\n",
    "ana_plot = axes['C'].plot(np.linspace(1,15, 15), analytic.stddev[0], 'o', c='red', label='analytic')\n",
    "\n",
    "    \n",
    "#axes['B'].plot(np.linspace(1,15, 15), analytic.stddev[0], 'o', c='red', label='analytic')\n",
    "axes['C'].plot(np.linspace(1,15, 15), analytic.stddev[0], 'o', c='red', label='analytic')\n",
    "\n",
    "#axes['B'].plot(variance_list_snpe[59],'o', c='g', label = 'snpe')\n",
    "snpe_c = axes['C'].boxplot(snpe_array, patch_artist=True, medianprops = dict(linewidth=0),\n",
    "                  boxprops=dict(facecolor='springgreen'), flierprops=dict(color='springgreen', markeredgecolor='green'),\n",
    "                  )\n",
    "\n",
    "for b in snpe_c['boxes']:\n",
    "    b.set_alpha(0.4)\n",
    "    \n",
    "axes['C'].set_ylim(0,6.5)\n",
    "\n",
    "axes['C'].legend()\n",
    "\n",
    "axes['C'].set_xlabel('parameter')\n",
    "axes['C'].set_ylabel('variance')\n",
    "\n",
    "#axes['B'].legend([snpe_box['boxes'][0], ana_plot[0]], ['snpe', 'analytic'], loc='upper left')\n",
    "#axes['A'].legend([nipe_box['boxes'][0], ana_plot[0]], ['nipe budget1',  'analytic'], loc='upper left')\n",
    "axes['C'].legend([nipe['boxes'][0],  nipe_box['boxes'][0], snpe_c['boxes'][0], ana_plot[0]], ['NIPE', 'NIPE-BUDGET',  'SNPE', 'analytic'], loc='upper left')"
   ]
  },
  {
   "cell_type": "code",
   "execution_count": 23,
   "id": "30957a7d",
   "metadata": {},
   "outputs": [],
   "source": [
    "nipe_array = torch.stack(([mean_list_nipe[i] for i in range(5)]), dim=1)\n",
    "\n",
    "\n",
    "snpe_array = torch.stack(([mean_list_snpe[i] for i in range(5)]), dim=1)"
   ]
  },
  {
   "cell_type": "code",
   "execution_count": 24,
   "id": "24015dbc",
   "metadata": {},
   "outputs": [
    {
     "data": {
      "text/plain": [
       "tensor([[ 3.,  6., 20., 10., 90., 55., 27., 27.,  4., 70.,  5., 66., 99., 40.,\n",
       "         45.]])"
      ]
     },
     "execution_count": 24,
     "metadata": {},
     "output_type": "execute_result"
    }
   ],
   "source": [
    "analytic.mean"
   ]
  },
  {
   "cell_type": "code",
   "execution_count": 25,
   "id": "46593918",
   "metadata": {},
   "outputs": [
    {
     "data": {
      "text/plain": [
       "<matplotlib.legend.Legend at 0x7ff54f289a10>"
      ]
     },
     "execution_count": 25,
     "metadata": {},
     "output_type": "execute_result"
    },
    {
     "data": {
      "image/png": "[encoded data removed]",
      "text/plain": [
       "<Figure size 1080x576 with 3 Axes>"
      ]
     },
     "metadata": {},
     "output_type": "display_data"
    }
   ],
   "source": [
    "### plot means:\n",
    "import seaborn as sns\n",
    "\n",
    "sns.set_style(\"whitegrid\", {'axes.grid' : False})\n",
    "\n",
    "figure_mosaic = \"\"\"\n",
    "ACC\n",
    "BCC\n",
    "\"\"\"\n",
    "\n",
    "fig, axes = plt.subplot_mosaic(mosaic=figure_mosaic, figsize=(15, 8))\n",
    "\n",
    "#axes['A'].plot(variance_list[58],'o', label='nipe', c='blue')\n",
    "\n",
    "nipe_box  = axes['A'].boxplot(nipe_array, patch_artist=True, boxprops=dict(facecolor='purple'), medianprops=dict(color='red'),            \n",
    "            flierprops=dict(color='purple', markeredgecolor='purple'))\n",
    "\n",
    "#[patch.set(alpha=None, facecolor=(0.,0.,1,.3)) for patch in nipe_box['boxes']]\n",
    "\n",
    "#axes['A'].set_ylim(0,15)\n",
    "\n",
    "snpe_box = axes['B'].boxplot(snpe_array, patch_artist=True, boxprops=dict(facecolor='green'), medianprops=dict(color='red'),flierprops=dict(color='green', markeredgecolor='green'),)\n",
    "#axes['B'].set_ylim(0,15)\n",
    "\n",
    "#[patch.set(alpha=None, facecolor=(0,0.7,0,.1)) for patch in snpe_box['boxes']]\n",
    "\n",
    "\n",
    "#axes['A'].plot(variance_list[59],'o', label='nipe', c='blue')\n",
    "#axes['A'].plot(variance_list[57],'o', label='nipe', c='blue')\n",
    "\n",
    "\n",
    "nipe_box2 = axes['C'].boxplot(nipe_array, patch_artist=True, boxprops=dict(facecolor='purple'), medianprops=dict(color='red'), flierprops=dict(color='purple', markeredgecolor='purple'),)\n",
    "\n",
    "ana_plot = axes['A'].plot(np.linspace(1,15, 15), analytic.mean[0], 'o', c='orange', label='analytic')\n",
    "axes['B'].plot(np.linspace(1,15, 15), analytic.mean[0], 'o', c='orange', label='analytic')\n",
    "axes['C'].plot(np.linspace(1,15, 15), analytic.mean[0], 'o', c='orange', label='analytic')\n",
    "\n",
    "#axes['B'].plot(variance_list_snpe[59],'o', c='g', label = 'snpe')\n",
    "snpe_box2 = axes['C'].boxplot(snpe_array, patch_artist=True, boxprops=dict(facecolor='green'), medianprops=dict(color='red'), flierprops=dict(color='green', markeredgecolor='green'),)\n",
    "#axes['C'].set_ylim(0,15)\n",
    "\n",
    "[patch.set(alpha=None, facecolor=(0,0.7,0,.1)) for patch in snpe_box2['boxes']]\n",
    "[patch.set(alpha=None, facecolor=(0.,0.,1,.3)) for patch in nipe_box2['boxes']]\n",
    "\n",
    "axes['C'].legend()\n",
    "\n",
    "axes['B'].legend([snpe_box['boxes'][0], ana_plot[0]], ['snpe', 'analytic'], loc='upper left')\n",
    "axes['A'].legend([nipe_box['boxes'][0], ana_plot[0]], ['nipe',  'analytic'], loc='upper left')\n",
    "axes['C'].legend([nipe_box['boxes'][0], snpe_box['boxes'][0], ana_plot[0]], ['nipe', 'snpe', 'analytic'], loc='upper right')"
   ]
  }
 ],
 "metadata": {
  "kernelspec": {
   "display_name": "Python 3 (ipykernel)",
   "language": "python",
   "name": "python3"
  },
  "language_info": {
   "codemirror_mode": {
    "name": "ipython",
    "version": 3
   },
   "file_extension": ".py",
   "mimetype": "text/x-python",
   "name": "python",
   "nbconvert_exporter": "python",
   "pygments_lexer": "ipython3",
   "version": "3.7.11"
  }
 },
 "nbformat": 4,
 "nbformat_minor": 5
}
